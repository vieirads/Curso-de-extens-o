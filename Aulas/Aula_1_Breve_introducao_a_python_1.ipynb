{
 "cells": [
  {
   "cell_type": "markdown",
   "metadata": {
    "ExecuteTime": {
     "end_time": "2020-06-09T21:38:25.541554Z",
     "start_time": "2020-06-09T21:38:25.534493Z"
    }
   },
   "source": [
    "<!--from IPython.core.display import display, HTML\n",
    "display(HTML(\"<style>.container { width:95% !important; }</style>\"))-->"
   ]
  },
  {
   "cell_type": "code",
   "execution_count": 1,
   "metadata": {
    "ExecuteTime": {
     "end_time": "2020-07-08T22:26:51.166431Z",
     "start_time": "2020-07-08T22:26:51.151659Z"
    }
   },
   "outputs": [
    {
     "data": {
      "text/html": [
       "<style> .container { width: 95% !important; } </style>"
      ],
      "text/plain": [
       "<IPython.core.display.HTML object>"
      ]
     },
     "metadata": {},
     "output_type": "display_data"
    },
    {
     "data": {
      "text/html": [
       "<style>/*This file contains any manual css for this page that needs to override the global styles.\n",
       "This is only required when different pages style the same element differently. This is just\n",
       "a hack to deal with our current css styles and no new styling should be added in this file.*/\n",
       "/* CSS stylesheet to make paragraphs justified, create lists with subitem numbering \n",
       "and highlight words in gray with font-family monospace */\n",
       "\n",
       "p.justified {\n",
       "    text-align: justify;\n",
       "}\n",
       "\n",
       "mark.mono_gray {\n",
       "    background-color: #f0f0f0;\n",
       "    font-family: monospace;\n",
       "}\n",
       "\n",
       "ol.sub-item { \n",
       "    counter-reset: item;\n",
       "    text-align: justify;\n",
       "}\n",
       "\n",
       "li.sub-item {\n",
       "    display: block;\n",
       "    text-align: justify;\n",
       "}\n",
       "\n",
       "li.sub-item:before {\n",
       "    content: counters(item, \".\") \". \"; \n",
       "    counter-increment: item;\n",
       "    text-align: justify;\n",
       "    font-weight: bold;\n",
       "}</style>"
      ],
      "text/plain": [
       "<IPython.core.display.HTML object>"
      ]
     },
     "execution_count": 1,
     "metadata": {},
     "output_type": "execute_result"
    }
   ],
   "source": [
    "# import CSS stylesheet to make paragraphs justified, create lists with subitem numbering and highlight words in gray with font-family monospace\n",
    "from IPython.display import HTML, display\n",
    "import urllib\n",
    "display(HTML('<style> .container { width: 95% !important; } </style>'))\n",
    "# HTML('<style>{}</style>'.format(str(urllib.request.urlopen('https://bit.ly/2NRJNfB').read(), 'utf-8')))\n",
    "HTML('<style>{}</style>'.format(open('../style.css').read()))"
   ]
  },
  {
   "cell_type": "markdown",
   "metadata": {},
   "source": [
    "---\n",
    "**Sumário**\n",
    "\n",
    "- 1. [O que é Python?](#o_que_e_python) <br>\n",
    "- 2. [Executando códigos no Jupyter](#executando_codigos_no_jupyter) <br>\n",
    "- 3. [Os tipos de variáveis](#os_tipos_de_variaveis) <br>\n",
    "- 4. [Operações Matemáticas](#operacoes_matematicas) <br>\n",
    "- 5. [Operações Lógicas](#operacoes_logicas) <br>\n",
    "- 6. [Operações de Comparação](#operacoes_de_comparacao) <br>\n",
    "- 7. [Atribuindo valores às variáveis](#atribuindo_valores_as_variaveis) <br>\n",
    "- 8. [Strings](#strings) <br>\n",
    "- 9. [Breve comentário sobre as ``classes``](#breve_comentario_sobre_as_classes) <br>\n",
    "- 10. [Listas](#listas)\n",
    "- 11. [Tuplas](#tuplas) <br>\n",
    "- 12. [Sets](#sets) <br>\n",
    "- 13. [Dicionários](#dicionarios) <br>\n",
    "---"
   ]
  },
  {
   "cell_type": "markdown",
   "metadata": {},
   "source": [
    "---\n",
    "<a class='section' id='o_que_e_python'></a>\n",
    "# O que é Python?"
   ]
  },
  {
   "cell_type": "markdown",
   "metadata": {},
   "source": [
    "<p class='justified'>\n",
    "    <mark class='mono_gray'>Python</mark> é uma linguagem de programação encontrada no desenvolvimento de <i>softwares</i>, criação de web sites e até de jogos. Sua popularidade vem crescendo nos últimos anos mais do que os de outras linguagens <a href=http://pypl.github.io/PYPL.html>[1]</a>. Empresas como <mark class='mono_gray'>Google</mark>, <mark class='mono_gray'>Facebook</mark>, <mark class='mono_gray'>Spotify</mark> e <mark class='mono_gray'>Netflix</mark> são exemplos que usam <mark class='mono_gray'>Python</mark> no desenvolvimento de suas ferramentas. \n",
    "</p>\n",
    "\n",
    "<p class='justified'>\n",
    "Um dos fatores que faz com que essa linguagem esteja sendo muito procurada nos últimos anos, é o fato dela possuir um grande número de <mark class='mono_gray'>pacotes</mark> (também chamados de <mark class='mono_gray'>módulos</mark>) disponíveis. Podemos encontrar códigos prontos que fazem análises matemáticas e confecção de gráficos para visualização de dados muito facilmente. Além disso, ela possui uma comunidade bem ativa, sempre procurando melhorar os pacotes disponíveis e criar outros. E o melhor de tudo, ela é gratuíta!\n",
    "</p>\n",
    "\n",
    "<p class='justified'>\n",
    "Outro fato que chama atenção, é de que essa linguagem tem se tornado bastante comum entre a comunidade científica. Uma de suas principais aplicações tem sido na análise de dados. A procura por padrões e criação de modelos, utilizando, principalmente, <i>machine learning</i> nos últimos anos, tem rendido aos pesquisadores a publicação de artigos em jornais científicos. \n",
    "</p>"
   ]
  },
  {
   "cell_type": "markdown",
   "metadata": {},
   "source": [
    "<p class='justified'>\n",
    "    <mark class='mono_gray'>Python</mark> é uma linguagem de programação de alto nível. Isso quer dizer que os termos usados para escrever os códigos se aproximam mais da linguagem humana. Isso faz com que ela seja fácil de ser entendida e escrita. Para exemplificar como o <mark class='mono_gray'>Python</mark> pode ser muito mais fácil que outra linguagens, observe os trechos de códigos para imprimir na tela a frase <mark class='mono_gray'>Hello, world!</mark> em linguagem <mark class='mono_gray'>C</mark>\n",
    "</p>"
   ]
  },
  {
   "cell_type": "markdown",
   "metadata": {},
   "source": [
    "```C\n",
    "#include <stdio.h>\n",
    "\n",
    "int main(void)\n",
    "{\n",
    "    printf(\"hello, world\\n\");\n",
    "}\n",
    "```"
   ]
  },
  {
   "cell_type": "markdown",
   "metadata": {},
   "source": [
    "<p class='justified'>\n",
    "e em <mark class='mono_gray'>Python</mark>\n",
    "</p>\n",
    "\n",
    "```python\n",
    "print('Hello, world!')\n",
    "```\n",
    "\n",
    "<p class='justified'>\n",
    "    Além disso, para executar o código da linguagem <mark class='mono_gray'>C</mark>, precisamos compilá-lo e depois executá-lo. Em <mark class='mono_gray'>Python</mark>, uma vez que o código é escrito basta executá-lo para obter o resultado. \n",
    "</p>"
   ]
  },
  {
   "cell_type": "markdown",
   "metadata": {},
   "source": [
    "<p class='justified'>\n",
    "Nas próximas seções iremos aprender sobre alguns comandos e funções básicas do <mark class='mono_gray'>Python</mark>. O conteúdo que será visto aqui servirá de base para as aulas posteriores. Portanto, tente entender o que está acontecendo nos códigos. Tente reproduzir os códigos usando valores e nomes de variáveis diferentes. Isso pode ajudar na fixação de conteúdo.\n",
    "</p>"
   ]
  },
  {
   "cell_type": "markdown",
   "metadata": {},
   "source": [
    "---\n",
    "<a class='section' id='executando_codigos_no_jupyter'></a>\n",
    "# Executando códigos no Jupyter"
   ]
  },
  {
   "cell_type": "markdown",
   "metadata": {},
   "source": [
    "<a class='cell' id='create_new_cell'></a>\n",
    "<p class='justified'>\n",
    "    Usaremos o <a href=https://jupyter.org/><mark class='mono_gray'>Jupyter</mark></a> para realizar nossos trabalhos e isso inclui executar vários códigos em <mark class='mono_gray'>Python</mark>! Podemos escrever os códigos em qualquer célula do <mark class='mono_gray'>Notebook</mark>. Para criar uma nova célula, você pode simplesmente apertar <mark class='mono_gray'>esc</mark>, fazendo a célula ficar selecionada de azul, e então aperta <mark class='mono_gray'>b</mark> para criar uma célula abaixo ou apertar <mark class='mono_gray'>a</mark> para criar uma célula em cima. Caso prefira, você também pode cliclar em <mark class='mono_gray'>Insert</mark> na barra acima e selecionar onde deseja criar uma nova célula. Uma vez que a célula é criada e você esteja preparado para começar a digitar seus códigos nela, aperte <mark class='mono_gray'>enter</mark> ou clique duas vezes nela. Quando a célular ficar com a borda verde, significa que você pode digitar seus códigos.\n",
    "</p>"
   ]
  },
  {
   "cell_type": "markdown",
   "metadata": {},
   "source": [
    "<p class='justified'>\n",
    "É de costume sempre que começamos a estudar uma linguagem de programação, o primeiro código é imprimir na tela a frase <mark class='mono_gray'>Hello, World!</mark>. Aqui não será um pouco diferente, nosso primeiro código em <mark class='mono_gray'>Python</mark> será imprimir uma outra frase na tela. Para isso, clique na célula abaixo com o código escrito e aperte <mark class='mono_gray'>shift+enter</mark>.\n",
    "</p>"
   ]
  },
  {
   "cell_type": "code",
   "execution_count": 1,
   "metadata": {
    "ExecuteTime": {
     "end_time": "2020-06-15T15:48:51.152147Z",
     "start_time": "2020-06-15T15:48:51.149963Z"
    }
   },
   "outputs": [
    {
     "name": "stdout",
     "output_type": "stream",
     "text": [
      "Quero café!\n"
     ]
    }
   ],
   "source": [
    "print('Quero café!')"
   ]
  },
  {
   "cell_type": "markdown",
   "metadata": {},
   "source": [
    "<p class='justified'>\n",
    "    Pronto, você executou seu primeiro (de muitos) códigos em <mark class='mono_gray'>Python</mark>. Você também pode executar uma célula selecionando-a e clicando, na barra acima, no botão <mark class='mono_gray'>run</mark>, que possui uma flecha para direita e uma barra vertical.\n",
    "</p>"
   ]
  },
  {
   "cell_type": "markdown",
   "metadata": {},
   "source": [
    "<p class='justified'>\n",
    "    A função <mark class='mono_gray'>print()</mark> serve para imprimir valores na tela. Veja que passamos um argumento para ela, a frase <mark class='mono_gray'>'Hello, world!'</mark>. Toda palavra ou frase que queremos que seja imprimida na tela, deve ser colocada entre aspas simples ou dupla:\n",
    "</p>"
   ]
  },
  {
   "cell_type": "code",
   "execution_count": 2,
   "metadata": {
    "ExecuteTime": {
     "end_time": "2020-06-15T15:48:51.800376Z",
     "start_time": "2020-06-15T15:48:51.798420Z"
    }
   },
   "outputs": [
    {
     "name": "stdout",
     "output_type": "stream",
     "text": [
      "Essa é uma frase com aspas simples.\n",
      "Essa é uma frase com aspas duplas.\n"
     ]
    }
   ],
   "source": [
    "print('Essa é uma frase com aspas simples.')\n",
    "print(\"Essa é uma frase com aspas duplas.\")"
   ]
  },
  {
   "cell_type": "markdown",
   "metadata": {},
   "source": [
    "<p class='justified'>\n",
    "Podemos digitar mais de um comando para ser executado em uma única célula, como foi acima, em que duas funções <mark class='mono_gray'>print()</mark> foram executadas com sentenças diferentes. Podemos também imprimir números:\n",
    "</p>"
   ]
  },
  {
   "cell_type": "code",
   "execution_count": 3,
   "metadata": {
    "ExecuteTime": {
     "end_time": "2020-06-15T15:48:52.098149Z",
     "start_time": "2020-06-15T15:48:52.096119Z"
    }
   },
   "outputs": [
    {
     "name": "stdout",
     "output_type": "stream",
     "text": [
      "3\n"
     ]
    }
   ],
   "source": [
    "print(3)"
   ]
  },
  {
   "cell_type": "markdown",
   "metadata": {},
   "source": [
    "<p class='justified'>\n",
    "    Veja que para imprimir o valor<mark class='mono_gray'>3</mark>, não usamos nenhum tipo de aspas. Isso ocorre porquê a própria função faz a conversão do valor numérico para palavra. Contudo, se tentarmos imprimir uma frase sem o uso de aspas, nos deparamos com um erro:\n",
    "</p>"
   ]
  },
  {
   "cell_type": "code",
   "execution_count": 4,
   "metadata": {
    "ExecuteTime": {
     "end_time": "2020-06-15T15:48:52.396060Z",
     "start_time": "2020-06-15T15:48:52.393702Z"
    }
   },
   "outputs": [
    {
     "ename": "SyntaxError",
     "evalue": "invalid syntax (<ipython-input-4-58cb5da3b684>, line 1)",
     "output_type": "error",
     "traceback": [
      "\u001b[0;36m  File \u001b[0;32m\"<ipython-input-4-58cb5da3b684>\"\u001b[0;36m, line \u001b[0;32m1\u001b[0m\n\u001b[0;31m    print(Tentando imprimir uma frase sem aspas)\u001b[0m\n\u001b[0m                          ^\u001b[0m\n\u001b[0;31mSyntaxError\u001b[0m\u001b[0;31m:\u001b[0m invalid syntax\n"
     ]
    }
   ],
   "source": [
    "print(Tentando imprimir uma frase sem aspas)"
   ]
  },
  {
   "cell_type": "markdown",
   "metadata": {},
   "source": [
    "<p class='justified'>\n",
    "    O erro acima <mark class='mono_gray'>SyntaxError</mark>, nos diz que usamos a linguagem de programação de maneira inválida.\n",
    "</p>"
   ]
  },
  {
   "cell_type": "markdown",
   "metadata": {},
   "source": [
    "<p class='justified'>\n",
    "    Contudo, no âmbito do <mark class='mono_gray'>Jupyter Notebook</mark>, se quisermos imprimir algo na tela, não precisamos usar a função <mark class='mono_gray'>print()</mark>:\n",
    "</p>"
   ]
  },
  {
   "cell_type": "code",
   "execution_count": 5,
   "metadata": {
    "ExecuteTime": {
     "end_time": "2020-06-15T15:48:52.992350Z",
     "start_time": "2020-06-15T15:48:52.986265Z"
    }
   },
   "outputs": [
    {
     "data": {
      "text/plain": [
       "'Essa frase será imrpimida sem o uso da função print().'"
      ]
     },
     "execution_count": 5,
     "metadata": {},
     "output_type": "execute_result"
    }
   ],
   "source": [
    "\"Essa frase será imrpimida sem o uso da função print().\""
   ]
  },
  {
   "cell_type": "markdown",
   "metadata": {},
   "source": [
    "<p class='justified'>\n",
    "Porém, se tentarmos imprimir várias frases em sequência, veja o que acontece:\n",
    "</p>"
   ]
  },
  {
   "cell_type": "code",
   "execution_count": 6,
   "metadata": {
    "ExecuteTime": {
     "end_time": "2020-06-15T15:48:53.287708Z",
     "start_time": "2020-06-15T15:48:53.285066Z"
    }
   },
   "outputs": [
    {
     "data": {
      "text/plain": [
       "'E essa é a última!'"
      ]
     },
     "execution_count": 6,
     "metadata": {},
     "output_type": "execute_result"
    }
   ],
   "source": [
    "\"Essa é a primeira frase.\"\n",
    "\"E essa é a última!\""
   ]
  },
  {
   "cell_type": "markdown",
   "metadata": {},
   "source": [
    "<p class='justified'>\n",
    "Somente a última sentença é mostrada.\n",
    "</p>\n",
    "\n",
    "<p class='justified'>\n",
    "Agora que já vimos como executar as células com códigos, tente você fazer alguns testes!\n",
    "</p>"
   ]
  },
  {
   "cell_type": "markdown",
   "metadata": {},
   "source": [
    "<p class='justified'>\n",
    "Digite na célula abaixo o código para imprimir a sentença: <b>Essa é a primeira aula do curso mais legal que eu já fiz!</b>\n",
    "</p>"
   ]
  },
  {
   "cell_type": "code",
   "execution_count": 7,
   "metadata": {
    "ExecuteTime": {
     "end_time": "2020-06-15T15:48:53.879508Z",
     "start_time": "2020-06-15T15:48:53.877768Z"
    }
   },
   "outputs": [],
   "source": [
    "# digite seu código aqui\n"
   ]
  },
  {
   "cell_type": "markdown",
   "metadata": {},
   "source": [
    "<p class='justified'>\n",
    "Não conseguiu? <b>Clique duas vezes aqui</b> e dê uma espiada na resposta 😁\n",
    "</p>\n",
    "\n",
    "<!--\n",
    "Resposta:\n",
    "---------\n",
    "print(\"Essa é a primeira aula do curso mais legal que eu já fiz!\")\n",
    "-->"
   ]
  },
  {
   "cell_type": "markdown",
   "metadata": {},
   "source": [
    "<p class='justified'>\n",
    "Tente imprimir algumas palavras na tela, sentenças ou números. Veja como criar novas células para escrever seu código voltando <a href='#create_new_cell'>nessa célula</a>.\n",
    "</p>"
   ]
  },
  {
   "cell_type": "markdown",
   "metadata": {},
   "source": [
    "<p class='justified'>\n",
    "Um procedimento considerado boa prática em programação é comentar o código. Comentários servem para explicar o que seu código faz. Essas informações são úteis para que outras pessoas entenderem o que seu programa faz e como ele faz. Além disso, ele ajuda você mesmo a lembrar o que você fez e o porquê de ter feito daquela forma. \n",
    "</p>\n",
    "\n",
    "<p class='justified'>\n",
    "    Em <mark class='mono_gray'>Python</mark>, comentários podem ser criados usando o caracter <mark class='mono_gray'>#</mark>. Veja na célula abaixo um exemplo:\n",
    "</p>"
   ]
  },
  {
   "cell_type": "code",
   "execution_count": 1,
   "metadata": {
    "ExecuteTime": {
     "end_time": "2020-06-23T13:37:48.557113Z",
     "start_time": "2020-06-23T13:37:48.554569Z"
    }
   },
   "outputs": [
    {
     "name": "stdout",
     "output_type": "stream",
     "text": [
      "Essa frase será impressa na tela.\n"
     ]
    }
   ],
   "source": [
    "# vamos escrever alguns comentários para exemplificar o código\n",
    "# vamos imprimir uma frase na tela\n",
    "print(\"Essa frase será impressa na tela.\")\n",
    "# print(\"Essa frase não será imprimida na tela.\")"
   ]
  },
  {
   "cell_type": "code",
   "execution_count": 9,
   "metadata": {
    "ExecuteTime": {
     "end_time": "2020-06-15T15:48:54.843221Z",
     "start_time": "2020-06-15T15:48:54.839908Z"
    }
   },
   "outputs": [],
   "source": [
    "# execute essa célula para constatar que nada acontecerá\n",
    "# print(\"Nada acontecerá\")"
   ]
  },
  {
   "cell_type": "markdown",
   "metadata": {},
   "source": [
    "# Os tipos de variáveis"
   ]
  },
  {
   "cell_type": "markdown",
   "metadata": {},
   "source": [
    "<p class='justified'>\n",
    "Em <mark class='mono_gray'>Python</mark>, assim como em outras linguagens, existe uma distinção no <mark class='mono_gray'>tipo</mark> ou <mark class='mono_gray'>classe</mark> das variáveis que estamos lidando. Nos exemplos anteriores vimos como gerar uma frase e que para isso, devemos usar as aspas simples ou duplas. Isso se deve ao fato de que em <mark class='mono_gray'>Python</mark>, uma <mark class='mono_gray'>string</mark> é definida dessa forma. Uma <mark class='mono_gray'>string</mark> é uma combinação de caracteres que pode ser impresso. Quando tentamos usar um <mark class='mono_gray'>número inteiro</mark> dentro da função <mark class='mono_gray'>print()</mark>, vimos que o resultado foi a impressão desse número abaixo da célula. Isso se deve ao fato da função <mark class='mono_gray'>print()</mark> converter esse número inteiro, que é do tipo <mark class='mono_gray'>int</mark> para uma <mark class='mono_gray'>string</mark>. Podemos sempre saber o tipo de uma variável usando a função <mark class='mono_gray'>type()</mark> passando como argumento a variável que queremos descobrir o tipo. Vamos ver alguns exemplos.\n",
    "\n",
    "</p>"
   ]
  },
  {
   "cell_type": "markdown",
   "metadata": {},
   "source": [
    "<p class='justified'>\n",
    "    Se \"perguntarmos\" qual é o <mark class='mono_gray'>tipo</mark> da variável 'Hello, world!', a função <mark class='mono_gray'>type()</mark> nos retornará o valor <mark class='mono_gray'>str</mark>:\n",
    "</p>"
   ]
  },
  {
   "cell_type": "code",
   "execution_count": 10,
   "metadata": {
    "ExecuteTime": {
     "end_time": "2020-06-15T15:48:55.732186Z",
     "start_time": "2020-06-15T15:48:55.729426Z"
    }
   },
   "outputs": [
    {
     "data": {
      "text/plain": [
       "str"
      ]
     },
     "execution_count": 10,
     "metadata": {},
     "output_type": "execute_result"
    }
   ],
   "source": [
    "type('Hello, world!')"
   ]
  },
  {
   "cell_type": "markdown",
   "metadata": {},
   "source": [
    "<p class='justified'>\n",
    "    Isso quer dizer que a variável é do <mark class='mono_gray'>tipo</mark> ou pertence à <mark class='mono_gray'>classe</mark> <mark class='mono_gray'>string</mark>, ou, de maneira abreviada, <mark class='mono_gray'>str</mark>. Se passarmos um <mark class='mono_gray'>número inteiro</mark> como argumento, veremos que a função <mark class='mono_gray'>type()</mark> retornará o valor <mark class='mono_gray'>int</mark>:\n",
    "</p>"
   ]
  },
  {
   "cell_type": "code",
   "execution_count": 11,
   "metadata": {
    "ExecuteTime": {
     "end_time": "2020-06-15T15:48:56.036225Z",
     "start_time": "2020-06-15T15:48:56.033604Z"
    }
   },
   "outputs": [
    {
     "data": {
      "text/plain": [
       "int"
      ]
     },
     "execution_count": 11,
     "metadata": {},
     "output_type": "execute_result"
    }
   ],
   "source": [
    "type(3)"
   ]
  },
  {
   "cell_type": "markdown",
   "metadata": {},
   "source": [
    "<p class='justified'>\n",
    "Em matemática aprendemos conjuntos numéricos, em que os número inteiros (1, 2, 3, $\\dots$) percentem ao conjunto dos números naturais ($\\mathbb{N}$). Já os números que podem ser representados como frações $p/q$ em que $p$ e $q$ são números inteiros, como $0{,}92$, $1/4$, $0.33333$ fazem parte dos números racionais ($\\mathbb{Q}$). Em <mark class='mono_gray'>Python</mark>, tais número também são diferentes. Enquanto o primeiro conjunto é do tipo <mark class='mono_gray'>int</mark>, o segundo é do tipo <mark class='mono_gray'>float</mark>:\n",
    "</p>"
   ]
  },
  {
   "cell_type": "code",
   "execution_count": 12,
   "metadata": {
    "ExecuteTime": {
     "end_time": "2020-06-15T15:48:56.333122Z",
     "start_time": "2020-06-15T15:48:56.329895Z"
    }
   },
   "outputs": [
    {
     "data": {
      "text/plain": [
       "float"
      ]
     },
     "execution_count": 12,
     "metadata": {},
     "output_type": "execute_result"
    }
   ],
   "source": [
    "type(0.92)"
   ]
  },
  {
   "cell_type": "code",
   "execution_count": 13,
   "metadata": {
    "ExecuteTime": {
     "end_time": "2020-06-15T15:48:56.339985Z",
     "start_time": "2020-06-15T15:48:56.336777Z"
    }
   },
   "outputs": [
    {
     "data": {
      "text/plain": [
       "float"
      ]
     },
     "execution_count": 13,
     "metadata": {},
     "output_type": "execute_result"
    }
   ],
   "source": [
    "type(1/4)"
   ]
  },
  {
   "cell_type": "code",
   "execution_count": 14,
   "metadata": {
    "ExecuteTime": {
     "end_time": "2020-06-15T15:48:56.345683Z",
     "start_time": "2020-06-15T15:48:56.343103Z"
    }
   },
   "outputs": [
    {
     "data": {
      "text/plain": [
       "float"
      ]
     },
     "execution_count": 14,
     "metadata": {},
     "output_type": "execute_result"
    }
   ],
   "source": [
    "type(0.33333)"
   ]
  },
  {
   "cell_type": "markdown",
   "metadata": {},
   "source": [
    "<p class='justified'>\n",
    "Mesmo os número que são irracionais, isto é, dizimas infinitas sem repetição, como $\\pi = 3{,}141592653589793\\dots$, também são considerados como <mark class='mono_gray'>float</mark>:\n",
    "</p>"
   ]
  },
  {
   "cell_type": "code",
   "execution_count": 15,
   "metadata": {
    "ExecuteTime": {
     "end_time": "2020-06-15T15:48:56.650162Z",
     "start_time": "2020-06-15T15:48:56.647405Z"
    }
   },
   "outputs": [
    {
     "data": {
      "text/plain": [
       "float"
      ]
     },
     "execution_count": 15,
     "metadata": {},
     "output_type": "execute_result"
    }
   ],
   "source": [
    "type(3.141592653589793)"
   ]
  },
  {
   "cell_type": "markdown",
   "metadata": {},
   "source": [
    "<p class='justified'>\n",
    "As funções também possuem um <mark class='mono_gray'>tipo</mark> específico:\n",
    "</p>"
   ]
  },
  {
   "cell_type": "code",
   "execution_count": 16,
   "metadata": {
    "ExecuteTime": {
     "end_time": "2020-06-15T15:48:56.953054Z",
     "start_time": "2020-06-15T15:48:56.949717Z"
    }
   },
   "outputs": [
    {
     "data": {
      "text/plain": [
       "builtin_function_or_method"
      ]
     },
     "execution_count": 16,
     "metadata": {},
     "output_type": "execute_result"
    }
   ],
   "source": [
    "type(print)"
   ]
  },
  {
   "cell_type": "markdown",
   "metadata": {
    "ExecuteTime": {
     "end_time": "2020-06-02T21:15:14.472247Z",
     "start_time": "2020-06-02T21:15:14.470389Z"
    }
   },
   "source": [
    "<a class='cell' id='func_and_method_1'></a>\n",
    "<p class='justified'>\n",
    "    Esse tipo nos diz que <mark class='mono_gray'>print</mark> é uma <mark class='mono_gray'>função</mark> ou <mark class='mono_gray'>método</mark> inata do <mark class='mono_gray'>python</mark>, ou seja, não é necessário importá-la a partir de um pacote separado para usá-la. Mais a frente, veremos que existe uma diferença sútil entre <mark class='mono_gray'>função</mark> e <mark class='mono_gray'>método</mark>.\n",
    "</p>"
   ]
  },
  {
   "cell_type": "markdown",
   "metadata": {},
   "source": [
    "<a class='cell' id='bool_explanation'></a>\n",
    "<p class='justified'>\n",
    "Um outro tipo muito importante de variável em qualquer tipo de linguagem de programação é a variável do tipo <mark class='mono_gray'>boolean</mark>. Temos somente duas variáveis desse tipo: <mark class='mono_gray'>True</mark> e <mark class='mono_gray'>False</mark>, que também podem ser representadas pelas número <mark class='mono_gray'>1</mark> e <mark class='mono_gray'>0</mark>, respectivamente. Elas são usadas em operações lógicas para nos dizer se algo é <mark class='mono_gray'>Verdadeiro (True)</mark> ou <mark class='mono_gray'>Falso (False)</mark> e então qual decisão deve ser tomada.\n",
    "</p>"
   ]
  },
  {
   "cell_type": "code",
   "execution_count": 17,
   "metadata": {
    "ExecuteTime": {
     "end_time": "2020-06-15T15:48:57.553990Z",
     "start_time": "2020-06-15T15:48:57.551389Z"
    }
   },
   "outputs": [
    {
     "data": {
      "text/plain": [
       "bool"
      ]
     },
     "execution_count": 17,
     "metadata": {},
     "output_type": "execute_result"
    }
   ],
   "source": [
    "type(True)"
   ]
  },
  {
   "cell_type": "code",
   "execution_count": 18,
   "metadata": {
    "ExecuteTime": {
     "end_time": "2020-06-15T15:48:57.560858Z",
     "start_time": "2020-06-15T15:48:57.557868Z"
    }
   },
   "outputs": [
    {
     "data": {
      "text/plain": [
       "bool"
      ]
     },
     "execution_count": 18,
     "metadata": {},
     "output_type": "execute_result"
    }
   ],
   "source": [
    "type(False)"
   ]
  },
  {
   "cell_type": "markdown",
   "metadata": {},
   "source": [
    "<p class='justified'>\n",
    "Veja que a linguagem python tende a abreviar os termos, como vimos no caso de <mark class='mono_gray'>str</mark> para <mark class='mono_gray'>string</mark> e <mark class='mono_gray'>bool</mark> para <mark class='mono_gray'>boolean</mark>.\n",
    "</p>\n",
    "\n",
    "<p class='justified'>\n",
    "Conformes for avançando, veremos mais alguns tipos de variáveis.\n",
    "</p>"
   ]
  },
  {
   "cell_type": "markdown",
   "metadata": {},
   "source": [
    "---\n",
    "<a class='section' id='operacoes_matematicas'></a>\n",
    "# Operações matemáticas"
   ]
  },
  {
   "cell_type": "markdown",
   "metadata": {},
   "source": [
    "<p class='justified'>\n",
    "    Em <mark class='mono_gray'>Python</mark> é muito fácil executar operações matemáticas. As operações matemáticas mais básicas como <mark class='mono_gray'>adição</mark>, <mark class='mono_gray'>subtração</mark>, <mark class='mono_gray'>multiplicação</mark>, <mark class='mono_gray'>divisão</mark> e <mark class='mono_gray'>potenciação/exponenciação</mark> são efetuadas da seguinte forma:\n",
    "</p>"
   ]
  },
  {
   "cell_type": "markdown",
   "metadata": {},
   "source": [
    "- Adição\n",
    "```python\n",
    ">>> 2+2\n",
    "4\n",
    "```\n",
    "- Subtração\n",
    "```python\n",
    ">>> 5-2\n",
    "3\n",
    "```\n",
    "- Multiplicação\n",
    "```python\n",
    ">>> 2*3\n",
    "6\n",
    "```\n",
    "- Divisão\n",
    "```python\n",
    ">>> 10/2\n",
    "5.0\n",
    "```\n",
    "- Potenciação/exponenciação\n",
    "```python\n",
    ">>> 2**3\n",
    "8\n",
    "```\n",
    "\n",
    "<p class='justified'>\n",
    "    O símbolo <mark class='mono_gray'>>>></mark> indica um código que será executado e na linha abaixo o que foi retornado como resultado.\n",
    "</p>\n",
    "\n",
    "<p class='justified'>\n",
    "Vamos executar algumas dessas operações a seguir.\n",
    "</p>"
   ]
  },
  {
   "cell_type": "code",
   "execution_count": 19,
   "metadata": {
    "ExecuteTime": {
     "end_time": "2020-06-15T15:48:58.773742Z",
     "start_time": "2020-06-15T15:48:58.771231Z"
    }
   },
   "outputs": [
    {
     "data": {
      "text/plain": [
       "4"
      ]
     },
     "execution_count": 19,
     "metadata": {},
     "output_type": "execute_result"
    }
   ],
   "source": [
    "2+2"
   ]
  },
  {
   "cell_type": "code",
   "execution_count": 20,
   "metadata": {
    "ExecuteTime": {
     "end_time": "2020-06-15T15:48:58.781410Z",
     "start_time": "2020-06-15T15:48:58.777037Z"
    }
   },
   "outputs": [
    {
     "data": {
      "text/plain": [
       "3"
      ]
     },
     "execution_count": 20,
     "metadata": {},
     "output_type": "execute_result"
    }
   ],
   "source": [
    "5-2"
   ]
  },
  {
   "cell_type": "code",
   "execution_count": 21,
   "metadata": {
    "ExecuteTime": {
     "end_time": "2020-06-15T15:48:58.786354Z",
     "start_time": "2020-06-15T15:48:58.783724Z"
    }
   },
   "outputs": [
    {
     "data": {
      "text/plain": [
       "6"
      ]
     },
     "execution_count": 21,
     "metadata": {},
     "output_type": "execute_result"
    }
   ],
   "source": [
    "2*3"
   ]
  },
  {
   "cell_type": "code",
   "execution_count": 22,
   "metadata": {
    "ExecuteTime": {
     "end_time": "2020-06-15T15:48:58.792652Z",
     "start_time": "2020-06-15T15:48:58.789797Z"
    }
   },
   "outputs": [
    {
     "data": {
      "text/plain": [
       "5.0"
      ]
     },
     "execution_count": 22,
     "metadata": {},
     "output_type": "execute_result"
    }
   ],
   "source": [
    "10/2"
   ]
  },
  {
   "cell_type": "code",
   "execution_count": 23,
   "metadata": {
    "ExecuteTime": {
     "end_time": "2020-06-15T15:48:58.798892Z",
     "start_time": "2020-06-15T15:48:58.796384Z"
    }
   },
   "outputs": [
    {
     "data": {
      "text/plain": [
       "8"
      ]
     },
     "execution_count": 23,
     "metadata": {},
     "output_type": "execute_result"
    }
   ],
   "source": [
    "2**3"
   ]
  },
  {
   "cell_type": "markdown",
   "metadata": {},
   "source": [
    "<p class='justified'>\n",
    "Tente você fazer algumas operações.\n",
    "</p>"
   ]
  },
  {
   "cell_type": "code",
   "execution_count": 24,
   "metadata": {
    "ExecuteTime": {
     "end_time": "2020-06-15T15:48:59.104433Z",
     "start_time": "2020-06-15T15:48:59.102694Z"
    }
   },
   "outputs": [],
   "source": [
    "# efetue suas operações aqui. Não se esqueça de aperta shift+enter para executar o código escrito na célula.\n"
   ]
  },
  {
   "cell_type": "markdown",
   "metadata": {},
   "source": [
    "<p class='justified'>\n",
    "Existem outros tipos de operações que as vezes são úteis. A primeira delas é chamada de <mark class='mono_gray'>módulo</mark> e simbolizada pelo operador <mark class='mono_gray'>%</mark>. Ele funciona como uma divisão, nos retornando o valor inteiro que resta da divisão:\n",
    "</p>\n",
    "\n",
    "```python\n",
    " 7%2 = 1 # o número 2 cabe três vezes inteiras em  5 e sobra 1\n",
    "10%4 = 2 # o número 4 cabe duas vezes inteiras em 10 e sobra 2\n",
    "```\n",
    "\n",
    "<p class='justified'>\n",
    "Confira nas células a seguir!\n",
    "</p>"
   ]
  },
  {
   "cell_type": "code",
   "execution_count": 25,
   "metadata": {
    "ExecuteTime": {
     "end_time": "2020-06-15T15:48:59.417108Z",
     "start_time": "2020-06-15T15:48:59.414664Z"
    }
   },
   "outputs": [
    {
     "data": {
      "text/plain": [
       "6"
      ]
     },
     "execution_count": 25,
     "metadata": {},
     "output_type": "execute_result"
    }
   ],
   "source": [
    "13%7"
   ]
  },
  {
   "cell_type": "code",
   "execution_count": 26,
   "metadata": {
    "ExecuteTime": {
     "end_time": "2020-06-15T15:48:59.422897Z",
     "start_time": "2020-06-15T15:48:59.420508Z"
    }
   },
   "outputs": [
    {
     "data": {
      "text/plain": [
       "3"
      ]
     },
     "execution_count": 26,
     "metadata": {},
     "output_type": "execute_result"
    }
   ],
   "source": [
    "19%4"
   ]
  },
  {
   "cell_type": "code",
   "execution_count": 27,
   "metadata": {
    "ExecuteTime": {
     "end_time": "2020-06-15T15:48:59.430626Z",
     "start_time": "2020-06-15T15:48:59.428205Z"
    }
   },
   "outputs": [
    {
     "data": {
      "text/plain": [
       "1.5"
      ]
     },
     "execution_count": 27,
     "metadata": {},
     "output_type": "execute_result"
    }
   ],
   "source": [
    "3.5%2"
   ]
  },
  {
   "cell_type": "markdown",
   "metadata": {},
   "source": [
    "<p class='justified'>\n",
    "    A segunda operação é simbolizada pelo operador <mark class='mono_gray'>//</mark>. Ele também funciona como uma divisão, contudo, ele nos retorna o resultado inteiro da divisão:\n",
    "</p>\n",
    "\n",
    "```python\n",
    "10//3 = 3 # o número 3 cabe três vezes inteiro em 10\n",
    "14//6 = 2 # o número 6 cabe duas vezes inteiro em 14\n",
    "```\n",
    "\n",
    "<p class='justified'>\n",
    "Confira mais exemplos nas células seguintes!\n",
    "</p>"
   ]
  },
  {
   "cell_type": "code",
   "execution_count": 28,
   "metadata": {
    "ExecuteTime": {
     "end_time": "2020-06-15T15:48:59.740912Z",
     "start_time": "2020-06-15T15:48:59.738376Z"
    }
   },
   "outputs": [
    {
     "data": {
      "text/plain": [
       "16"
      ]
     },
     "execution_count": 28,
     "metadata": {},
     "output_type": "execute_result"
    }
   ],
   "source": [
    "33//2"
   ]
  },
  {
   "cell_type": "code",
   "execution_count": 29,
   "metadata": {
    "ExecuteTime": {
     "end_time": "2020-06-15T15:48:59.748162Z",
     "start_time": "2020-06-15T15:48:59.745819Z"
    }
   },
   "outputs": [
    {
     "data": {
      "text/plain": [
       "17.0"
      ]
     },
     "execution_count": 29,
     "metadata": {},
     "output_type": "execute_result"
    }
   ],
   "source": [
    "5.2//0.3"
   ]
  },
  {
   "cell_type": "markdown",
   "metadata": {},
   "source": [
    "<a class='cell' id='pwr_for_sqrt'></a>\n",
    "<p class='justified'>\n",
    "E a raíz quadrada? A raíz cúbica? Para efetuar essas operações precisamos reescrever a potência em termos de uma fração, ou seja, \n",
    "</p>\n",
    "\n",
    "$$\n",
    "\\begin{split}\n",
    "    \\sqrt{x}    &= x^{1/2}\\\\\n",
    "    \\sqrt[3]{x} &= x^{1/3}\\\\\n",
    "                &\\ \\,\\vdots\\\\\n",
    "    \\sqrt[n]{x} &= x^{1/n}\n",
    "\\end{split}\n",
    "$$\n",
    "\n",
    "<p class='justified'>\n",
    "Vamos conferir alguns exemplos:\n",
    "</p>\n",
    "\n",
    "```python\n",
    ">>> 16**(1/2)\n",
    "4.0\n",
    ">>> 27**(1/3)\n",
    "3.0\n",
    ">>> 1024**(1/10)\n",
    "2.0\n",
    "```"
   ]
  },
  {
   "cell_type": "markdown",
   "metadata": {
    "ExecuteTime": {
     "end_time": "2020-06-04T21:56:06.354411Z",
     "start_time": "2020-06-04T21:56:06.351049Z"
    }
   },
   "source": [
    "<p class='justified'>\n",
    "Tente você, efetue as seguintes raízes:\n",
    "</p>\n",
    "\n",
    "- a. $\\sqrt{81}$;\n",
    "- b. $\\sqrt[3]{81}$;\n",
    "- c. $256^{1/4}$;"
   ]
  },
  {
   "cell_type": "code",
   "execution_count": null,
   "metadata": {},
   "outputs": [],
   "source": []
  },
  {
   "cell_type": "code",
   "execution_count": null,
   "metadata": {},
   "outputs": [],
   "source": []
  },
  {
   "cell_type": "code",
   "execution_count": null,
   "metadata": {},
   "outputs": [],
   "source": []
  },
  {
   "cell_type": "markdown",
   "metadata": {},
   "source": [
    "<p class='justified'>\n",
    "    Não conseguiu? <b>Clique duas vezes aqui</b> e dê uma espiada na resposta 😁\n",
    "</p>\n",
    "\n",
    "<!--\n",
    "a. \n",
    ">>> 81**(1/2)\n",
    "9.0\n",
    "\n",
    "b.\n",
    ">>> 81**(1/3)\n",
    "3.0\n",
    "\n",
    "c.\n",
    ">>> 256**(1/4)\n",
    "4.0\n",
    "-->"
   ]
  },
  {
   "cell_type": "markdown",
   "metadata": {},
   "source": [
    "<p class='justified'>\n",
    "Outro detalhe que devemos nos atentar é na questão aritmética na ordem das operações que devem ser realizadas. Devemos respeitar a seguinte ordem:\n",
    "</p>\n",
    "\n",
    "- Parênteses\n",
    "- Expoentes\n",
    "- Multiplicações e divisões\n",
    "- Adição e subtrações\n",
    "\n",
    "<p class='justified'>\n",
    "Por exemplo:\n",
    "</p>\n",
    "\n",
    "$$\n",
    "    \\left(1+2\\right) \\times 3^3 = \\left( 3 \\right) \\times 3^3 = \\left( 3 \\right) \\times 27 = 81.\n",
    "$$\n",
    "\n",
    "$$\n",
    "    \\left(2{,}5 + \\frac{7}{2} \\right)^2 \\times 3 + 3 + \\frac{3^3}{3} = \\left(2{,}5 + 3{,}5 \\right)^2 \\times 3 + 3 + \\frac{27}{3} = \\left( 6 \\right)^2 \\times 3 + 3 + 9 = 36 \\times 3 + 12 = 108 + 12 = 120.\n",
    "$$\n",
    "\n",
    "<p class='justified'>\n",
    "Quando escrevemos um código para descrever uma operação aritmética devemos levar em consideração a ordem correta. Vamos reescrever essas duas expressões na célula seguinte e executá-la.\n",
    "</p>"
   ]
  },
  {
   "cell_type": "code",
   "execution_count": 30,
   "metadata": {
    "ExecuteTime": {
     "end_time": "2020-06-15T15:49:00.974169Z",
     "start_time": "2020-06-15T15:49:00.971506Z"
    }
   },
   "outputs": [
    {
     "data": {
      "text/plain": [
       "81"
      ]
     },
     "execution_count": 30,
     "metadata": {},
     "output_type": "execute_result"
    }
   ],
   "source": [
    "( 1 + 2 )*3**3"
   ]
  },
  {
   "cell_type": "markdown",
   "metadata": {},
   "source": [
    "<p class='justified'>\n",
    "Apesar do código anterior nos fornecer o resultado correto, as vezes é melhor separarmos os termos por parênteses para uma melhor leitura do código:\n",
    "</p>"
   ]
  },
  {
   "cell_type": "code",
   "execution_count": 31,
   "metadata": {
    "ExecuteTime": {
     "end_time": "2020-06-15T15:49:01.273640Z",
     "start_time": "2020-06-15T15:49:01.271026Z"
    }
   },
   "outputs": [
    {
     "data": {
      "text/plain": [
       "81"
      ]
     },
     "execution_count": 31,
     "metadata": {},
     "output_type": "execute_result"
    }
   ],
   "source": [
    "( 1 + 2 )*( 3**3 )"
   ]
  },
  {
   "cell_type": "markdown",
   "metadata": {},
   "source": [
    "A segunda operação ficaria, então, escrita como"
   ]
  },
  {
   "cell_type": "code",
   "execution_count": 32,
   "metadata": {
    "ExecuteTime": {
     "end_time": "2020-06-15T15:49:01.578178Z",
     "start_time": "2020-06-15T15:49:01.575204Z"
    }
   },
   "outputs": [
    {
     "data": {
      "text/plain": [
       "120.0"
      ]
     },
     "execution_count": 32,
     "metadata": {},
     "output_type": "execute_result"
    }
   ],
   "source": [
    "(( 2.5 + (7/2) )**2)*3 + 3 + (3**3)/3"
   ]
  },
  {
   "cell_type": "markdown",
   "metadata": {},
   "source": [
    "Tente você agora escrever o código para as seguintes operações:\n",
    "\n",
    "$$\n",
    "    3 \\times 4 + \\frac{8}{2} - 3^2\n",
    "$$\n",
    "\n",
    "$$\n",
    "    \\frac{2^3}{8} \\times \\left( 3^2 \\times 3 \\right) - 3\n",
    "$$\n",
    "\n",
    "$$\n",
    "    \\left(\\frac{2^4}{4} - 3 \\right)^3 + 9 \\times 2 - \\frac{\\left( 2^4 - 3^2 - 1\\right)^2}{3}\n",
    "$$"
   ]
  },
  {
   "cell_type": "markdown",
   "metadata": {},
   "source": [
    "<p class='justified'>\n",
    "    Não conseguiu? <b>Clique duas vezes aqui</b> e dê uma espiada na resposta 😁\n",
    "</p>\n",
    "\n",
    "<!--\n",
    "\n",
    ">>> ( 3*4 ) + (8/2) - 3**2\n",
    "7.0\n",
    "\n",
    ">>> ( ( 2**3 ) / 8 )*( (3**2)*3 ) - 3\n",
    "24.0\n",
    "\n",
    ">>> ( (( 2**4 )/4) - 3)**3 + (9*2) - ( ( (2**4) - (3**2) - 1)**2 )/3\n",
    "7.0\n",
    "-->"
   ]
  },
  {
   "cell_type": "markdown",
   "metadata": {},
   "source": [
    "---\n",
    "<a class='section' id='operacoes_logicas'></a>\n",
    "# Operações Lógicas"
   ]
  },
  {
   "cell_type": "markdown",
   "metadata": {},
   "source": [
    "<p class='justified'>\n",
    "Além dos operadores matemáticos, temos também operadores lógicos. Esses são usados com as variáveis do tipo <mark class='mono_gray'>bool</mark> (<mark class='mono_gray'>boolean</mark>) sendo elas <mark class='mono_gray'>True</mark> e <mark class='mono_gray'>False</mark> para resultados verdadeiros e falsos, respectivamente. Essas duas variáveis podem ser comparadas usando alguns operadores. \n",
    "</p>\n",
    "\n",
    "<p class='justified'>\n",
    "    O primeiro que veremos é o operador <mark class='mono_gray'>and</mark>, que também pode ser representado pelo símbolo <mark class='mono_gray'>&</mark>. Veja como usamos eles com as variáveis <mark class='mono_gray'>bool</mark>:\n",
    "</p>\n",
    "\n",
    "```python\n",
    ">>> True and True\n",
    "True\n",
    "\n",
    ">>> True and False\n",
    "False\n",
    "\n",
    ">>> False and False\n",
    "False\n",
    "\n",
    "```\n",
    "\n",
    "<p class='justified'>\n",
    "Veja que o resultado da comparação desse operador retorna um valor lógico (<mark class='mono_gray'>bool</mark>). Esse valor é <mark class='mono_gray'>True</mark> se o primeiro valor <mark class='mono_gray'>e</mark> o segundo são verdadeiros. Se um deles, ou ambos, for falso então a operação retorna <mark class='mono_gray'>False</mark>. Veja os códigos executados nas células seguintes.\n",
    "</p>"
   ]
  },
  {
   "cell_type": "code",
   "execution_count": 33,
   "metadata": {
    "ExecuteTime": {
     "end_time": "2020-06-15T15:49:02.774266Z",
     "start_time": "2020-06-15T15:49:02.771666Z"
    }
   },
   "outputs": [
    {
     "data": {
      "text/plain": [
       "True"
      ]
     },
     "execution_count": 33,
     "metadata": {},
     "output_type": "execute_result"
    }
   ],
   "source": [
    "True and True"
   ]
  },
  {
   "cell_type": "code",
   "execution_count": 34,
   "metadata": {
    "ExecuteTime": {
     "end_time": "2020-06-15T15:49:02.781857Z",
     "start_time": "2020-06-15T15:49:02.777638Z"
    }
   },
   "outputs": [
    {
     "data": {
      "text/plain": [
       "True"
      ]
     },
     "execution_count": 34,
     "metadata": {},
     "output_type": "execute_result"
    }
   ],
   "source": [
    "True & True"
   ]
  },
  {
   "cell_type": "code",
   "execution_count": 35,
   "metadata": {
    "ExecuteTime": {
     "end_time": "2020-06-15T15:49:02.786869Z",
     "start_time": "2020-06-15T15:49:02.784131Z"
    }
   },
   "outputs": [
    {
     "data": {
      "text/plain": [
       "False"
      ]
     },
     "execution_count": 35,
     "metadata": {},
     "output_type": "execute_result"
    }
   ],
   "source": [
    "True and False"
   ]
  },
  {
   "cell_type": "code",
   "execution_count": 36,
   "metadata": {
    "ExecuteTime": {
     "end_time": "2020-06-15T15:49:02.795199Z",
     "start_time": "2020-06-15T15:49:02.792029Z"
    }
   },
   "outputs": [
    {
     "data": {
      "text/plain": [
       "False"
      ]
     },
     "execution_count": 36,
     "metadata": {},
     "output_type": "execute_result"
    }
   ],
   "source": [
    "True & False"
   ]
  },
  {
   "cell_type": "code",
   "execution_count": 37,
   "metadata": {
    "ExecuteTime": {
     "end_time": "2020-06-15T15:49:02.801793Z",
     "start_time": "2020-06-15T15:49:02.798816Z"
    }
   },
   "outputs": [
    {
     "data": {
      "text/plain": [
       "False"
      ]
     },
     "execution_count": 37,
     "metadata": {},
     "output_type": "execute_result"
    }
   ],
   "source": [
    "False and False"
   ]
  },
  {
   "cell_type": "code",
   "execution_count": 38,
   "metadata": {
    "ExecuteTime": {
     "end_time": "2020-06-15T15:49:02.808112Z",
     "start_time": "2020-06-15T15:49:02.805643Z"
    }
   },
   "outputs": [
    {
     "data": {
      "text/plain": [
       "False"
      ]
     },
     "execution_count": 38,
     "metadata": {},
     "output_type": "execute_result"
    }
   ],
   "source": [
    "False & False"
   ]
  },
  {
   "cell_type": "markdown",
   "metadata": {},
   "source": [
    "<p class='justified'>\n",
    "    Como mencionamos <a href='#bool_explnation'>anteriormente</a>, os números <mark class='mono_gray'>1</mark> e <mark class='mono_gray'>0</mark> também funcionam como os operadores lógicos <mark class='mono_gray'>True</mark> e  <mark class='mono_gray'>False</mark>, respectivamente. Veja na sequência as comparações feitas:\n",
    "</p>"
   ]
  },
  {
   "cell_type": "code",
   "execution_count": 3,
   "metadata": {
    "ExecuteTime": {
     "end_time": "2020-06-23T17:05:46.158466Z",
     "start_time": "2020-06-23T17:05:46.154810Z"
    }
   },
   "outputs": [
    {
     "data": {
      "text/plain": [
       "True"
      ]
     },
     "execution_count": 3,
     "metadata": {},
     "output_type": "execute_result"
    }
   ],
   "source": [
    "1 and True"
   ]
  },
  {
   "cell_type": "code",
   "execution_count": 40,
   "metadata": {
    "ExecuteTime": {
     "end_time": "2020-06-15T15:49:03.123001Z",
     "start_time": "2020-06-15T15:49:03.120442Z"
    }
   },
   "outputs": [
    {
     "data": {
      "text/plain": [
       "False"
      ]
     },
     "execution_count": 40,
     "metadata": {},
     "output_type": "execute_result"
    }
   ],
   "source": [
    "1 and False"
   ]
  },
  {
   "cell_type": "code",
   "execution_count": 41,
   "metadata": {
    "ExecuteTime": {
     "end_time": "2020-06-15T15:49:03.128911Z",
     "start_time": "2020-06-15T15:49:03.126384Z"
    }
   },
   "outputs": [
    {
     "data": {
      "text/plain": [
       "0"
      ]
     },
     "execution_count": 41,
     "metadata": {},
     "output_type": "execute_result"
    }
   ],
   "source": [
    "0 and True"
   ]
  },
  {
   "cell_type": "code",
   "execution_count": 42,
   "metadata": {
    "ExecuteTime": {
     "end_time": "2020-06-15T15:49:03.135220Z",
     "start_time": "2020-06-15T15:49:03.132623Z"
    }
   },
   "outputs": [
    {
     "data": {
      "text/plain": [
       "0"
      ]
     },
     "execution_count": 42,
     "metadata": {},
     "output_type": "execute_result"
    }
   ],
   "source": [
    "0 and False"
   ]
  },
  {
   "cell_type": "markdown",
   "metadata": {},
   "source": [
    "<p class='justified'>\n",
    "    Na verdade, qualquer valor que não seja <mark class='mono_gray'>0</mark> retorna <mark class='mono_gray'>True</mark>. Para mostrar isso, usaremos a função <mark class='mono_gray'>bool</mark>``. Essa função permite avaliar qualquer tipo de valor, retornando se esse é <mark class='mono_gray'>True</mark> ou <mark class='mono_gray'>False</mark>. \n",
    "</p>"
   ]
  },
  {
   "cell_type": "code",
   "execution_count": 43,
   "metadata": {
    "ExecuteTime": {
     "end_time": "2020-06-15T15:49:03.440343Z",
     "start_time": "2020-06-15T15:49:03.437903Z"
    }
   },
   "outputs": [
    {
     "data": {
      "text/plain": [
       "True"
      ]
     },
     "execution_count": 43,
     "metadata": {},
     "output_type": "execute_result"
    }
   ],
   "source": [
    "bool(1)"
   ]
  },
  {
   "cell_type": "code",
   "execution_count": 44,
   "metadata": {
    "ExecuteTime": {
     "end_time": "2020-06-15T15:49:03.446237Z",
     "start_time": "2020-06-15T15:49:03.443750Z"
    }
   },
   "outputs": [
    {
     "data": {
      "text/plain": [
       "False"
      ]
     },
     "execution_count": 44,
     "metadata": {},
     "output_type": "execute_result"
    }
   ],
   "source": [
    "bool(0)"
   ]
  },
  {
   "cell_type": "code",
   "execution_count": 45,
   "metadata": {
    "ExecuteTime": {
     "end_time": "2020-06-15T15:49:03.452290Z",
     "start_time": "2020-06-15T15:49:03.449770Z"
    }
   },
   "outputs": [
    {
     "data": {
      "text/plain": [
       "True"
      ]
     },
     "execution_count": 45,
     "metadata": {},
     "output_type": "execute_result"
    }
   ],
   "source": [
    "bool('Café')"
   ]
  },
  {
   "cell_type": "code",
   "execution_count": 46,
   "metadata": {
    "ExecuteTime": {
     "end_time": "2020-06-15T15:49:03.458284Z",
     "start_time": "2020-06-15T15:49:03.455813Z"
    }
   },
   "outputs": [
    {
     "data": {
      "text/plain": [
       "True"
      ]
     },
     "execution_count": 46,
     "metadata": {},
     "output_type": "execute_result"
    }
   ],
   "source": [
    "bool(3)"
   ]
  },
  {
   "cell_type": "markdown",
   "metadata": {},
   "source": [
    "<p class='justifiec'>\n",
    "Veja que nessas células acima o único argumento passado para a função <mark class='mono_gray'>bool</mark> que faz ela retornar <mark class='mono_gray'>False</mark> é o número <mark class='mono_gray'>0</mark>. \n",
    "</p>"
   ]
  },
  {
   "cell_type": "markdown",
   "metadata": {},
   "source": [
    "<p class='mono_gray'>\n",
    "    O outro operador lógico é o <mark class='mono_gray'>or</mark> (<mark class='mono_gray'>ou</mark>). Esse também pode ser representado pelo caracter <mark class='mono_gray'>|</mark> e é usado da mesma forma que o operador <mark class='mono_gray'>and</mark>. Diferindo no fato de que se uma das variáveis lógicas que estiverem sendo comparadas for <mark class='mono_gray'>True</mark>, a operação retorna <mark class='mono_gray'>True</mark>. Veja os exemplos:\n",
    "</p>\n",
    "\n",
    "```python\n",
    ">>> True or True\n",
    "True\n",
    "\n",
    ">>> True or False\n",
    "True\n",
    "\n",
    ">>> False or False\n",
    "False\n",
    "\n",
    "```"
   ]
  },
  {
   "cell_type": "code",
   "execution_count": 47,
   "metadata": {
    "ExecuteTime": {
     "end_time": "2020-06-15T15:49:04.072014Z",
     "start_time": "2020-06-15T15:49:04.068854Z"
    }
   },
   "outputs": [
    {
     "data": {
      "text/plain": [
       "True"
      ]
     },
     "execution_count": 47,
     "metadata": {},
     "output_type": "execute_result"
    }
   ],
   "source": [
    "True or True"
   ]
  },
  {
   "cell_type": "code",
   "execution_count": 48,
   "metadata": {
    "ExecuteTime": {
     "end_time": "2020-06-15T15:49:04.078612Z",
     "start_time": "2020-06-15T15:49:04.075550Z"
    }
   },
   "outputs": [
    {
     "data": {
      "text/plain": [
       "True"
      ]
     },
     "execution_count": 48,
     "metadata": {},
     "output_type": "execute_result"
    }
   ],
   "source": [
    "True | True"
   ]
  },
  {
   "cell_type": "code",
   "execution_count": 49,
   "metadata": {
    "ExecuteTime": {
     "end_time": "2020-06-15T15:49:04.085324Z",
     "start_time": "2020-06-15T15:49:04.082466Z"
    }
   },
   "outputs": [
    {
     "data": {
      "text/plain": [
       "True"
      ]
     },
     "execution_count": 49,
     "metadata": {},
     "output_type": "execute_result"
    }
   ],
   "source": [
    "True or False"
   ]
  },
  {
   "cell_type": "code",
   "execution_count": 50,
   "metadata": {
    "ExecuteTime": {
     "end_time": "2020-06-15T15:49:04.092488Z",
     "start_time": "2020-06-15T15:49:04.089343Z"
    }
   },
   "outputs": [
    {
     "data": {
      "text/plain": [
       "True"
      ]
     },
     "execution_count": 50,
     "metadata": {},
     "output_type": "execute_result"
    }
   ],
   "source": [
    "True | False"
   ]
  },
  {
   "cell_type": "code",
   "execution_count": 51,
   "metadata": {
    "ExecuteTime": {
     "end_time": "2020-06-15T15:49:04.099026Z",
     "start_time": "2020-06-15T15:49:04.095950Z"
    }
   },
   "outputs": [
    {
     "data": {
      "text/plain": [
       "False"
      ]
     },
     "execution_count": 51,
     "metadata": {},
     "output_type": "execute_result"
    }
   ],
   "source": [
    "False or False"
   ]
  },
  {
   "cell_type": "code",
   "execution_count": 52,
   "metadata": {
    "ExecuteTime": {
     "end_time": "2020-06-15T15:49:04.105858Z",
     "start_time": "2020-06-15T15:49:04.102830Z"
    }
   },
   "outputs": [
    {
     "data": {
      "text/plain": [
       "False"
      ]
     },
     "execution_count": 52,
     "metadata": {},
     "output_type": "execute_result"
    }
   ],
   "source": [
    "False | False"
   ]
  },
  {
   "cell_type": "code",
   "execution_count": 53,
   "metadata": {
    "ExecuteTime": {
     "end_time": "2020-06-15T15:49:04.112604Z",
     "start_time": "2020-06-15T15:49:04.109635Z"
    }
   },
   "outputs": [
    {
     "data": {
      "text/plain": [
       "1"
      ]
     },
     "execution_count": 53,
     "metadata": {},
     "output_type": "execute_result"
    }
   ],
   "source": [
    "1 or True"
   ]
  },
  {
   "cell_type": "code",
   "execution_count": 54,
   "metadata": {
    "ExecuteTime": {
     "end_time": "2020-06-15T15:49:04.121900Z",
     "start_time": "2020-06-15T15:49:04.118828Z"
    }
   },
   "outputs": [
    {
     "data": {
      "text/plain": [
       "1"
      ]
     },
     "execution_count": 54,
     "metadata": {},
     "output_type": "execute_result"
    }
   ],
   "source": [
    "1 or False"
   ]
  },
  {
   "cell_type": "code",
   "execution_count": 55,
   "metadata": {
    "ExecuteTime": {
     "end_time": "2020-06-15T15:49:04.128577Z",
     "start_time": "2020-06-15T15:49:04.125618Z"
    }
   },
   "outputs": [
    {
     "data": {
      "text/plain": [
       "True"
      ]
     },
     "execution_count": 55,
     "metadata": {},
     "output_type": "execute_result"
    }
   ],
   "source": [
    "0 or True"
   ]
  },
  {
   "cell_type": "code",
   "execution_count": 56,
   "metadata": {
    "ExecuteTime": {
     "end_time": "2020-06-15T15:49:04.135379Z",
     "start_time": "2020-06-15T15:49:04.132340Z"
    }
   },
   "outputs": [
    {
     "data": {
      "text/plain": [
       "False"
      ]
     },
     "execution_count": 56,
     "metadata": {},
     "output_type": "execute_result"
    }
   ],
   "source": [
    "0 or False"
   ]
  },
  {
   "cell_type": "markdown",
   "metadata": {},
   "source": [
    "<p class='justified'>\n",
    "    Por último, temos o operador <mark class='mono_gray'>not</mark>. Ele funciona invertendo a afirmção lógica feita:\n",
    "</p>\n",
    "\n",
    "```python\n",
    ">>> not True\n",
    "False\n",
    "\n",
    ">>> not False\n",
    "True\n",
    "```"
   ]
  },
  {
   "cell_type": "markdown",
   "metadata": {},
   "source": [
    "<p class='justified'>\n",
    "    É como se estivéssimos multiplicando nosso operador por <mark class='mono_gray'>-1</mark> para inverter seu valor.\n",
    "</p>"
   ]
  },
  {
   "cell_type": "code",
   "execution_count": 57,
   "metadata": {
    "ExecuteTime": {
     "end_time": "2020-06-15T15:49:04.761982Z",
     "start_time": "2020-06-15T15:49:04.759556Z"
    }
   },
   "outputs": [
    {
     "data": {
      "text/plain": [
       "False"
      ]
     },
     "execution_count": 57,
     "metadata": {},
     "output_type": "execute_result"
    }
   ],
   "source": [
    "not True"
   ]
  },
  {
   "cell_type": "code",
   "execution_count": 58,
   "metadata": {
    "ExecuteTime": {
     "end_time": "2020-06-15T15:49:04.767543Z",
     "start_time": "2020-06-15T15:49:04.765228Z"
    }
   },
   "outputs": [
    {
     "data": {
      "text/plain": [
       "False"
      ]
     },
     "execution_count": 58,
     "metadata": {},
     "output_type": "execute_result"
    }
   ],
   "source": [
    "not 1"
   ]
  },
  {
   "cell_type": "code",
   "execution_count": 59,
   "metadata": {
    "ExecuteTime": {
     "end_time": "2020-06-15T15:49:04.773872Z",
     "start_time": "2020-06-15T15:49:04.771451Z"
    }
   },
   "outputs": [
    {
     "data": {
      "text/plain": [
       "True"
      ]
     },
     "execution_count": 59,
     "metadata": {},
     "output_type": "execute_result"
    }
   ],
   "source": [
    "not False"
   ]
  },
  {
   "cell_type": "code",
   "execution_count": 60,
   "metadata": {
    "ExecuteTime": {
     "end_time": "2020-06-15T15:49:04.779649Z",
     "start_time": "2020-06-15T15:49:04.777276Z"
    }
   },
   "outputs": [
    {
     "data": {
      "text/plain": [
       "True"
      ]
     },
     "execution_count": 60,
     "metadata": {},
     "output_type": "execute_result"
    }
   ],
   "source": [
    "not 0"
   ]
  },
  {
   "cell_type": "markdown",
   "metadata": {},
   "source": [
    "<p class='justified'>\n",
    "Essas operações podem ser combinadas, só precisamos lembrar que os termos entre parênteses são efetuados primeiro:\n",
    "</p>"
   ]
  },
  {
   "cell_type": "code",
   "execution_count": 61,
   "metadata": {
    "ExecuteTime": {
     "end_time": "2020-06-15T15:49:05.103821Z",
     "start_time": "2020-06-15T15:49:05.101092Z"
    }
   },
   "outputs": [
    {
     "data": {
      "text/plain": [
       "False"
      ]
     },
     "execution_count": 61,
     "metadata": {},
     "output_type": "execute_result"
    }
   ],
   "source": [
    "(not True) or False"
   ]
  },
  {
   "cell_type": "code",
   "execution_count": 62,
   "metadata": {
    "ExecuteTime": {
     "end_time": "2020-06-15T15:49:05.109840Z",
     "start_time": "2020-06-15T15:49:05.107107Z"
    }
   },
   "outputs": [
    {
     "data": {
      "text/plain": [
       "True"
      ]
     },
     "execution_count": 62,
     "metadata": {},
     "output_type": "execute_result"
    }
   ],
   "source": [
    "True and (not False)"
   ]
  },
  {
   "cell_type": "code",
   "execution_count": 63,
   "metadata": {
    "ExecuteTime": {
     "end_time": "2020-06-15T15:49:05.115504Z",
     "start_time": "2020-06-15T15:49:05.112892Z"
    }
   },
   "outputs": [
    {
     "data": {
      "text/plain": [
       "True"
      ]
     },
     "execution_count": 63,
     "metadata": {},
     "output_type": "execute_result"
    }
   ],
   "source": [
    "(True and (not True)) | True"
   ]
  },
  {
   "cell_type": "code",
   "execution_count": 64,
   "metadata": {
    "ExecuteTime": {
     "end_time": "2020-06-15T15:49:05.121826Z",
     "start_time": "2020-06-15T15:49:05.118883Z"
    }
   },
   "outputs": [
    {
     "data": {
      "text/plain": [
       "True"
      ]
     },
     "execution_count": 64,
     "metadata": {},
     "output_type": "execute_result"
    }
   ],
   "source": [
    "((not 0) or 1) & (not False)"
   ]
  },
  {
   "cell_type": "markdown",
   "metadata": {},
   "source": [
    "---\n",
    "<a class='section' id='operacoes_de_comparacao'></a>\n",
    "# Operações de Comparação"
   ]
  },
  {
   "cell_type": "markdown",
   "metadata": {},
   "source": [
    "<p class='justified'>\n",
    "    Existem também os <mark class='mono_gray'>operadores de comparação</mark>. Usamos esses operadores para dizer se variáveis são igauis, diferentes, maiores (ou iguais) ou menores (ou iguais). Abaixo vemos o símbolo de cada uma dessas operações:\n",
    "</p>\n",
    "\n",
    "```python\n",
    "a == b (a é igual a b)\n",
    "a != b (a é diferente de b)\n",
    "a >  b (a é maior que b)\n",
    "a >= b (a é maior ou igual a b)\n",
    "a <  b (a é menor que b)\n",
    "a <= b (a é menor ou igual a b)\n",
    "```\n",
    "\n",
    "<p class='justified'>\n",
    "Essas operações de comparação levam a resultados lógicos, isto é, elas retornam <mark class='mono_gray'>True</mark> ou <mark class='mono_gray'>False</mark>. Vamos ver alguns exemplos:\n",
    "</p>"
   ]
  },
  {
   "cell_type": "code",
   "execution_count": 65,
   "metadata": {
    "ExecuteTime": {
     "end_time": "2020-06-15T15:49:05.771919Z",
     "start_time": "2020-06-15T15:49:05.768641Z"
    }
   },
   "outputs": [
    {
     "data": {
      "text/plain": [
       "True"
      ]
     },
     "execution_count": 65,
     "metadata": {},
     "output_type": "execute_result"
    }
   ],
   "source": [
    "(2+2) == 4"
   ]
  },
  {
   "cell_type": "code",
   "execution_count": 66,
   "metadata": {
    "ExecuteTime": {
     "end_time": "2020-06-15T15:49:05.777363Z",
     "start_time": "2020-06-15T15:49:05.775002Z"
    }
   },
   "outputs": [
    {
     "data": {
      "text/plain": [
       "True"
      ]
     },
     "execution_count": 66,
     "metadata": {},
     "output_type": "execute_result"
    }
   ],
   "source": [
    "2 != 1"
   ]
  },
  {
   "cell_type": "code",
   "execution_count": 67,
   "metadata": {
    "ExecuteTime": {
     "end_time": "2020-06-15T15:49:05.783292Z",
     "start_time": "2020-06-15T15:49:05.780977Z"
    }
   },
   "outputs": [
    {
     "data": {
      "text/plain": [
       "False"
      ]
     },
     "execution_count": 67,
     "metadata": {},
     "output_type": "execute_result"
    }
   ],
   "source": [
    "4 != 4"
   ]
  },
  {
   "cell_type": "code",
   "execution_count": 68,
   "metadata": {
    "ExecuteTime": {
     "end_time": "2020-06-15T15:49:05.789881Z",
     "start_time": "2020-06-15T15:49:05.787182Z"
    }
   },
   "outputs": [
    {
     "data": {
      "text/plain": [
       "False"
      ]
     },
     "execution_count": 68,
     "metadata": {},
     "output_type": "execute_result"
    }
   ],
   "source": [
    "3 > 3"
   ]
  },
  {
   "cell_type": "code",
   "execution_count": 69,
   "metadata": {
    "ExecuteTime": {
     "end_time": "2020-06-15T15:49:05.796831Z",
     "start_time": "2020-06-15T15:49:05.794458Z"
    }
   },
   "outputs": [
    {
     "data": {
      "text/plain": [
       "True"
      ]
     },
     "execution_count": 69,
     "metadata": {},
     "output_type": "execute_result"
    }
   ],
   "source": [
    "3 >= 3"
   ]
  },
  {
   "cell_type": "markdown",
   "metadata": {},
   "source": [
    "Com essas novas operações, podemos começar a combinar as variáveis lógicas com operações de comparações númericas:"
   ]
  },
  {
   "cell_type": "code",
   "execution_count": 70,
   "metadata": {
    "ExecuteTime": {
     "end_time": "2020-06-15T15:49:06.124154Z",
     "start_time": "2020-06-15T15:49:06.121307Z"
    }
   },
   "outputs": [
    {
     "data": {
      "text/plain": [
       "False"
      ]
     },
     "execution_count": 70,
     "metadata": {},
     "output_type": "execute_result"
    }
   ],
   "source": [
    "((2+2) == 4) == False"
   ]
  },
  {
   "cell_type": "code",
   "execution_count": 71,
   "metadata": {
    "ExecuteTime": {
     "end_time": "2020-06-15T15:49:06.129851Z",
     "start_time": "2020-06-15T15:49:06.127022Z"
    }
   },
   "outputs": [
    {
     "data": {
      "text/plain": [
       "True"
      ]
     },
     "execution_count": 71,
     "metadata": {},
     "output_type": "execute_result"
    }
   ],
   "source": [
    "not (( (3 < 2) | (5 <= 4) ) & (not 1))"
   ]
  },
  {
   "cell_type": "code",
   "execution_count": 72,
   "metadata": {
    "ExecuteTime": {
     "end_time": "2020-06-15T15:49:06.135621Z",
     "start_time": "2020-06-15T15:49:06.132897Z"
    }
   },
   "outputs": [
    {
     "data": {
      "text/plain": [
       "True"
      ]
     },
     "execution_count": 72,
     "metadata": {},
     "output_type": "execute_result"
    }
   ],
   "source": [
    "( ( ( 11%3 )/2 ) == False ) | ( ( ( 11//3 ) - 3 ) != True )"
   ]
  },
  {
   "cell_type": "markdown",
   "metadata": {},
   "source": [
    "<p class='justified'>\n",
    "Para facilitar sua compreensão, tente entender os códigos por partes. Por exemplo, na célula acima, faça primeiro as operações matemáticas:\n",
    "</p>\n",
    "\n",
    "```python\n",
    "( ( 11%3 )/2 == False ) | ( ( ( 11//3 ) - 3 ) != True )\n",
    "   ( ( 2/2 ) == False ) | ( ( 3 - 3) != True )\n",
    "         ( 1 == False ) | ( 0 != True )\n",
    "                  False | True\n",
    "                      True\n",
    "```"
   ]
  },
  {
   "cell_type": "markdown",
   "metadata": {},
   "source": [
    "---\n",
    "<a class='section' id='atribuindo_valores_as_variaveis'></a>\n",
    "# Atribuindo valores às variáveis"
   ]
  },
  {
   "cell_type": "markdown",
   "metadata": {},
   "source": [
    "<p class='justified'>\n",
    "    Em <mark class='mono_gray'>Python</mark> podemos criar variáveis com uma infinidade de nomes. Contudo, existem algumas regras que devem ser respeitadas para que erros no código não ocorram. O que não podemos fazer:\n",
    "</p>\n",
    "\n",
    "- começar variáveis com números:\n",
    "    - ``23_numeros``\n",
    "- ter espaço entre os nomes das variáveis\n",
    "    - ``lista de numeros``\n",
    "- ter algum símbolo, como ``-``,  ``(``, ``~`` que não seja ``_`` entre palavras:\n",
    "    - ``nome-da~variavel``\n",
    "\n",
    "<p class='justified'>\n",
    "Uma boa prática é escolher um nome que explique o que sua variável signifique. É convenção se criarmos uma função ou variável que tenha mais de uma palavra, que essas sejam separadas por <i>underline</i> (<mark class='mono_gray'>_</mark>), como: <mark class='mono_gray'>lista_de_numeros</mark> e <mark class='mono_gray'>soma_de_dois_numeros()</mark>.\n",
    "</p>"
   ]
  },
  {
   "cell_type": "markdown",
   "metadata": {},
   "source": [
    "<p class='justified'>\n",
    "    Observe que quando queremos comparar se duas variáveis iguais ou se duas operações (matemáticas e/ou lógicas) levam ao mesmo resultado, usamos o operador <mark class='mono_gray'>==</mark>. O símbolo <mark class='mono_gray'>=</mark> é destinado à atribuição de valores às variáveis. Para mostrar isso, vamos considerar o seguinte exemplo:\n",
    "</p>\n",
    "\n",
    "<p class='justified'>\n",
    "Suponha que um carro se deslocou $120{,}0\\, km$ em $2{,}0\\, h$. Podemos calcular a velocidade média desse carro nesse percurso usando a expressão\n",
    "</p>\n",
    "\n",
    "$$\n",
    "    v_{\\text{média}} = \\frac{\\Delta S}{\\Delta t},\n",
    "$$\n",
    "\n",
    "<p class='justified'>\n",
    "em que $\\Delta S$ é o deslocamento total em um intervalo de tempo $\\Delta t$. No nosso caso, $\\Delta S = 120{,}0\\, km$ e $\\Delta t = 2{,}0 h$, de modo que\n",
    "</p>\n",
    "$$\n",
    "    v_{\\text{média}} = \\frac{120{,}0\\, km}{2{,}0\\, h} = 60{,}0\\, km/h.\n",
    "$$\n",
    "\n",
    "<p class='justified'>\n",
    "    Em <mark class='mono_gray'>Python</mark> podemos criar uma variável e atribuir valores e resultados de expressões à ela. Por exemplo, vamos criar uma variável chamada<mark class='mono_gray'>velocidade_media</mark> de maneira que ela guarde o valor <mark class='mono_gray'>60.0</mark>:\n",
    "</p>\n",
    "\n",
    "```python\n",
    ">>> velocidade_media = 60.0\n",
    "```\n",
    "\n",
    "Para visualizar o valor que essa variável guarda, podemos imprimí-la na tela:\n",
    "\n",
    "```python\n",
    ">>> print(velocidade_media)\n",
    "60.0\n",
    "```\n",
    "\n",
    "<p class='justified'>\n",
    "Veja nas seguintes células os códigos executados.\n",
    "</p>"
   ]
  },
  {
   "cell_type": "code",
   "execution_count": 73,
   "metadata": {
    "ExecuteTime": {
     "end_time": "2020-06-15T15:49:07.432007Z",
     "start_time": "2020-06-15T15:49:07.430274Z"
    }
   },
   "outputs": [],
   "source": [
    "# definindo a variável velocidade_media\n",
    "velocidade_media = 60.0 # em km/h"
   ]
  },
  {
   "cell_type": "code",
   "execution_count": 74,
   "metadata": {
    "ExecuteTime": {
     "end_time": "2020-06-15T15:49:07.444603Z",
     "start_time": "2020-06-15T15:49:07.437517Z"
    }
   },
   "outputs": [
    {
     "name": "stdout",
     "output_type": "stream",
     "text": [
      "60.0\n"
     ]
    }
   ],
   "source": [
    "# imprimindo seu valor na tela\n",
    "print(velocidade_media)"
   ]
  },
  {
   "cell_type": "markdown",
   "metadata": {},
   "source": [
    "<p class='justified'>\n",
    "    Ao invés de atribuir o valor <mark class='mono_gray'>60.0</mark> diretamente à nossa variável <mark class='mono_gray'>velocidade_media</mark>, podemos atribuir a expressão que dá resultado a esse valor, isto é, <mark class='mono_gray'>120/2</mark>:\n",
    "</p>\n",
    "\n",
    "```python\n",
    ">>> velocidade_media = 120/2\n",
    ">>> print(velocidade_media)\n",
    "60.0\n",
    "```\n",
    "\n",
    "<p class='justified'>\n",
    "Veja nas células abaixo os códigos executados.\n",
    "</p>"
   ]
  },
  {
   "cell_type": "code",
   "execution_count": 75,
   "metadata": {
    "ExecuteTime": {
     "end_time": "2020-06-15T15:49:07.768019Z",
     "start_time": "2020-06-15T15:49:07.766173Z"
    }
   },
   "outputs": [],
   "source": [
    "velocidade_media = 120/2"
   ]
  },
  {
   "cell_type": "code",
   "execution_count": 76,
   "metadata": {
    "ExecuteTime": {
     "end_time": "2020-06-15T15:49:07.775784Z",
     "start_time": "2020-06-15T15:49:07.773461Z"
    }
   },
   "outputs": [
    {
     "name": "stdout",
     "output_type": "stream",
     "text": [
      "60.0\n"
     ]
    }
   ],
   "source": [
    "print(velocidade_media)"
   ]
  },
  {
   "cell_type": "markdown",
   "metadata": {},
   "source": [
    "<p class='justified'>\n",
    "    Como estamos num <mark class='mono_gray'>Notebook</mark> iterativo, para mostrar o valor da variável, não precisamos da função <mark class='mono_gray'>print()</mark>. Para visualizá-la, basta digitar o nome atribuído e apertar <mark class='mono_gray'>shift+enter</mark> na tela:\n",
    "</p>"
   ]
  },
  {
   "cell_type": "code",
   "execution_count": 77,
   "metadata": {
    "ExecuteTime": {
     "end_time": "2020-06-15T15:49:08.105452Z",
     "start_time": "2020-06-15T15:49:08.103019Z"
    }
   },
   "outputs": [
    {
     "data": {
      "text/plain": [
       "60.0"
      ]
     },
     "execution_count": 77,
     "metadata": {},
     "output_type": "execute_result"
    }
   ],
   "source": [
    "velocidade_media"
   ]
  },
  {
   "cell_type": "markdown",
   "metadata": {},
   "source": [
    "<p class='justified'>\n",
    "Podemos ainda definir variáveis para o deslocamento total e o tempo que se passou e substituir em uma <mark class='mono_gray'>equação</mark> para a velocidade média. \n",
    "</p>\n",
    "\n",
    "```python\n",
    ">>> delta_s = 120 # em quilômetros [km]\n",
    ">>> delta_t = 2   # em horas [h]\n",
    ">>> velocidade_media = delta_s/delta_t # em quilômetros por hora [km/h]\n",
    ">>> print(velocidade_media)\n",
    "60.0\n",
    "```"
   ]
  },
  {
   "cell_type": "markdown",
   "metadata": {},
   "source": [
    "<p class='justified'>\n",
    "Vejam nas células seguintes essa passagem:\n",
    "</p>"
   ]
  },
  {
   "cell_type": "code",
   "execution_count": 5,
   "metadata": {
    "ExecuteTime": {
     "end_time": "2020-06-23T17:45:18.576366Z",
     "start_time": "2020-06-23T17:45:18.574007Z"
    }
   },
   "outputs": [],
   "source": [
    "# definimos as variáveis delta_s (deslocamento) e delta_t (intervalo de tempo)\n",
    "delta_s = 120 # em quilômetros [km]\n",
    "delta_t = 2   # em horas [h]"
   ]
  },
  {
   "cell_type": "markdown",
   "metadata": {},
   "source": [
    "<p class='justified'>\n",
    "Agora definimos a variável velocidade média, que leva em consideração às variáveis definidas anteriormente (célula anterior):\n",
    "</p>"
   ]
  },
  {
   "cell_type": "code",
   "execution_count": 79,
   "metadata": {
    "ExecuteTime": {
     "end_time": "2020-06-15T15:49:09.096069Z",
     "start_time": "2020-06-15T15:49:09.094238Z"
    }
   },
   "outputs": [],
   "source": [
    "velocidade_media = delta_s/delta_t # em quilômetros por hora [km/h]"
   ]
  },
  {
   "cell_type": "markdown",
   "metadata": {},
   "source": [
    "<p class='justified'>\n",
    "Para verificar o valor da variável velocidade média, basta escrevê-la em uma célula e apertar <mark class='mono_gray'>shift+enter</mark>:\n",
    "</p>"
   ]
  },
  {
   "cell_type": "code",
   "execution_count": 80,
   "metadata": {
    "ExecuteTime": {
     "end_time": "2020-06-15T15:49:09.433295Z",
     "start_time": "2020-06-15T15:49:09.430980Z"
    }
   },
   "outputs": [
    {
     "data": {
      "text/plain": [
       "60.0"
      ]
     },
     "execution_count": 80,
     "metadata": {},
     "output_type": "execute_result"
    }
   ],
   "source": [
    "velocidade_media"
   ]
  },
  {
   "cell_type": "markdown",
   "metadata": {},
   "source": [
    "<p class='justified'>\n",
    "Suponha que agora o valor do intervalo de tempo é de $3{,}0\\,h$. O que acontece se somente mudarmos o valor da variável <mark class='mono_gray'>delta_t</mark>, atribuindo esse novo valor à ela e então verificarmos o valor da variável <mark class='mono_gray'>velocidade_media</mark>? Vamos conferir:\n",
    "</p>"
   ]
  },
  {
   "cell_type": "code",
   "execution_count": 81,
   "metadata": {
    "ExecuteTime": {
     "end_time": "2020-06-15T15:49:09.762120Z",
     "start_time": "2020-06-15T15:49:09.760310Z"
    }
   },
   "outputs": [],
   "source": [
    "# redefinimos o valor do intervalo de tempo\n",
    "delta_t = 3 # em horas [h]"
   ]
  },
  {
   "cell_type": "code",
   "execution_count": 82,
   "metadata": {
    "ExecuteTime": {
     "end_time": "2020-06-15T15:49:09.768415Z",
     "start_time": "2020-06-15T15:49:09.766022Z"
    }
   },
   "outputs": [
    {
     "data": {
      "text/plain": [
       "3"
      ]
     },
     "execution_count": 82,
     "metadata": {},
     "output_type": "execute_result"
    }
   ],
   "source": [
    "# conferimos se o valor foi alterado\n",
    "delta_t"
   ]
  },
  {
   "cell_type": "code",
   "execution_count": 83,
   "metadata": {
    "ExecuteTime": {
     "end_time": "2020-06-15T15:49:09.774538Z",
     "start_time": "2020-06-15T15:49:09.772070Z"
    }
   },
   "outputs": [
    {
     "data": {
      "text/plain": [
       "60.0"
      ]
     },
     "execution_count": 83,
     "metadata": {},
     "output_type": "execute_result"
    }
   ],
   "source": [
    "# agora invocamos a variável ``velocidade_media``\n",
    "velocidade_media"
   ]
  },
  {
   "cell_type": "markdown",
   "metadata": {},
   "source": [
    "<p class='justified'>\n",
    "Observe que o valor não mudou. Isso ocorre pois a variável <mark class='mono_gray'>velocidade_media</mark> não foi redefinida com o novo valor da variável <mark class='mono_gray'>delta_t</mark>. Mais a frente veremos como criar funções que podem receber argumentos e retornar valores, de maneira que fica mais fácil calcular, por exemplo, a velocidade média para quaisquer valores de deslocamento e intervalo de tempo, sem ter que ficar reatribuindo valores à variável.\n",
    "</p>"
   ]
  },
  {
   "cell_type": "markdown",
   "metadata": {},
   "source": [
    "<p class='justified'>\n",
    "    Podemos definir várias variáveis em uma única linha de código. Para isso, definimos os nomes do lado esquerdo que receberão os valores atribuídos de maneira ordenada do lado direito do sinal <mark class='mono_gray'>=</mark>. Tanto as variáveis quanto os valores devem ser separados por <mark class='mono_gray'>,</mark>:\n",
    "</p>"
   ]
  },
  {
   "cell_type": "code",
   "execution_count": 9,
   "metadata": {
    "ExecuteTime": {
     "end_time": "2020-06-24T14:02:11.634092Z",
     "start_time": "2020-06-24T14:02:11.631606Z"
    }
   },
   "outputs": [],
   "source": [
    "variavel_1, variavel_2, variavel_3 = 'a', 35, [0,1]"
   ]
  },
  {
   "cell_type": "code",
   "execution_count": 10,
   "metadata": {
    "ExecuteTime": {
     "end_time": "2020-06-24T14:02:15.455620Z",
     "start_time": "2020-06-24T14:02:15.453112Z"
    }
   },
   "outputs": [
    {
     "data": {
      "text/plain": [
       "'a'"
      ]
     },
     "execution_count": 10,
     "metadata": {},
     "output_type": "execute_result"
    }
   ],
   "source": [
    "variavel_1"
   ]
  },
  {
   "cell_type": "code",
   "execution_count": 11,
   "metadata": {
    "ExecuteTime": {
     "end_time": "2020-06-24T14:02:19.582430Z",
     "start_time": "2020-06-24T14:02:19.578265Z"
    }
   },
   "outputs": [
    {
     "data": {
      "text/plain": [
       "35"
      ]
     },
     "execution_count": 11,
     "metadata": {},
     "output_type": "execute_result"
    }
   ],
   "source": [
    "variavel_2"
   ]
  },
  {
   "cell_type": "code",
   "execution_count": 14,
   "metadata": {
    "ExecuteTime": {
     "end_time": "2020-06-24T14:02:54.042687Z",
     "start_time": "2020-06-24T14:02:54.040213Z"
    }
   },
   "outputs": [
    {
     "data": {
      "text/plain": [
       "[0, 1]"
      ]
     },
     "execution_count": 14,
     "metadata": {},
     "output_type": "execute_result"
    }
   ],
   "source": [
    "variavel_3"
   ]
  },
  {
   "cell_type": "markdown",
   "metadata": {},
   "source": [
    "<p class='justified'>\n",
    "Uma outra propriedade bastante usada na atribuição de valores às variáveis, é que podemos usar o seu valor presente para atualizá-la. Vejamos o bloco de código que exemplifica essa propriedade:\n",
    "</p>\n",
    "\n",
    "```python\n",
    ">>> contador = 1    # atribuímos o valor 1 à variável contador\n",
    ">>> print(contador) # imprimimos a variável ``contador`` na tela\n",
    "1\n",
    ">>> contador = contador + 1 # adicionamos 1 ao valor antigo da variável para atualizá-la\n",
    ">>> print(contador)         # imprimimos a variável ``contador`` na tela\n",
    "2\n",
    ">>> contador = contador + 2 # adicionamos 2 ao valor antigo da variável para atualizá-la\n",
    ">>> print(contador)         # imprimimos a variável ``contador`` na tela\n",
    "4\n",
    ">>> contador = 1    # apenas redefinimos o valor da variável\n",
    ">>> print(contador) # imprimimos a variável ``contador`` na tela\n",
    "1\n",
    "```"
   ]
  },
  {
   "cell_type": "markdown",
   "metadata": {
    "ExecuteTime": {
     "end_time": "2020-06-04T15:29:27.614848Z",
     "start_time": "2020-06-04T15:29:27.607995Z"
    }
   },
   "source": [
    "<p class='justified'>\n",
    "    Veja que primeiramente atribuímos o valor <mark class='mono_gray'>1</mark> à variável <mark class='mono_gray'>contador</mark>. Depois, usamos o valor que já estava guardado nessa variável para atribuir seu próprio valor adicionado de <mark class='mono_gray'>1</mark> e atribuímos o resultado à mesma variável. Os códigos executados estão apresentados nas células à seguir:\n",
    "</p>"
   ]
  },
  {
   "cell_type": "code",
   "execution_count": 84,
   "metadata": {
    "ExecuteTime": {
     "end_time": "2020-06-15T15:49:10.763231Z",
     "start_time": "2020-06-15T15:49:10.761483Z"
    }
   },
   "outputs": [],
   "source": [
    "# definimos a variável ``contador`` atribuindo o valor ``1`` à ela\n",
    "contador = 1"
   ]
  },
  {
   "cell_type": "code",
   "execution_count": 85,
   "metadata": {
    "ExecuteTime": {
     "end_time": "2020-06-15T15:49:10.771413Z",
     "start_time": "2020-06-15T15:49:10.767120Z"
    }
   },
   "outputs": [
    {
     "data": {
      "text/plain": [
       "1"
      ]
     },
     "execution_count": 85,
     "metadata": {},
     "output_type": "execute_result"
    }
   ],
   "source": [
    "# inspecionamos o valor da variável\n",
    "contador"
   ]
  },
  {
   "cell_type": "code",
   "execution_count": 86,
   "metadata": {
    "ExecuteTime": {
     "end_time": "2020-06-15T15:49:10.775443Z",
     "start_time": "2020-06-15T15:49:10.773768Z"
    }
   },
   "outputs": [],
   "source": [
    "# incrementamos seu valor em 1\n",
    "# novo valor   valor antigo\n",
    "contador     = contador    + 1"
   ]
  },
  {
   "cell_type": "code",
   "execution_count": 87,
   "metadata": {
    "ExecuteTime": {
     "end_time": "2020-06-15T15:49:10.781595Z",
     "start_time": "2020-06-15T15:49:10.779262Z"
    }
   },
   "outputs": [
    {
     "data": {
      "text/plain": [
       "2"
      ]
     },
     "execution_count": 87,
     "metadata": {},
     "output_type": "execute_result"
    }
   ],
   "source": [
    "# inspecionamos o valor da variável após sua atualização\n",
    "contador"
   ]
  },
  {
   "cell_type": "code",
   "execution_count": 88,
   "metadata": {
    "ExecuteTime": {
     "end_time": "2020-06-15T15:49:10.787251Z",
     "start_time": "2020-06-15T15:49:10.785363Z"
    }
   },
   "outputs": [],
   "source": [
    "# incrementamos o valor da variável contador em 2 agora\n",
    "contador = contador + 2"
   ]
  },
  {
   "cell_type": "code",
   "execution_count": 89,
   "metadata": {
    "ExecuteTime": {
     "end_time": "2020-06-15T15:49:10.795478Z",
     "start_time": "2020-06-15T15:49:10.793260Z"
    }
   },
   "outputs": [
    {
     "data": {
      "text/plain": [
       "4"
      ]
     },
     "execution_count": 89,
     "metadata": {},
     "output_type": "execute_result"
    }
   ],
   "source": [
    "# inspecionamos o valor da variável após sua atualização\n",
    "contador"
   ]
  },
  {
   "cell_type": "code",
   "execution_count": 90,
   "metadata": {
    "ExecuteTime": {
     "end_time": "2020-06-15T15:49:10.802449Z",
     "start_time": "2020-06-15T15:49:10.800790Z"
    }
   },
   "outputs": [],
   "source": [
    "# atribuindo um valor a ela, apenas a redefinimos\n",
    "contador = 1"
   ]
  },
  {
   "cell_type": "code",
   "execution_count": 91,
   "metadata": {
    "ExecuteTime": {
     "end_time": "2020-06-15T15:49:10.810728Z",
     "start_time": "2020-06-15T15:49:10.808075Z"
    }
   },
   "outputs": [
    {
     "data": {
      "text/plain": [
       "1"
      ]
     },
     "execution_count": 91,
     "metadata": {},
     "output_type": "execute_result"
    }
   ],
   "source": [
    "contador"
   ]
  },
  {
   "cell_type": "markdown",
   "metadata": {},
   "source": [
    "<p class='justified'>\n",
    "Existe um operador de atribuição que adiciona um valor à variável para atualizá-la, como acabamos de fazer. Esse operador é designado por<mark class='mono_gray'>+=</mark>. Por exemplo:\n",
    "</p>\n",
    "\n",
    "```python\n",
    ">>> contador = 1    # atribuímos o valor 1 à variável contador\n",
    ">>> print(contador) # imprimimos a variável ``contador`` na tela\n",
    "1\n",
    ">>> contador += 1 # adicionamos 1 ao valor antigo da variável para atualizá-la\n",
    ">>> print(contador)         # imprimimos a variável ``contador`` na tela\n",
    "2\n",
    ">>> contador += 2 # adicionamos 2 ao valor antigo da variável para atualizá-la\n",
    ">>> print(contador)         # imprimimos a variável ``contador`` na tela\n",
    "4\n",
    ">>> contador = 1    # apenas redefinimos o valor da variável\n",
    ">>> print(contador) # imprimimos a variável ``contador`` na tela\n",
    "1\n",
    "```"
   ]
  },
  {
   "cell_type": "markdown",
   "metadata": {},
   "source": [
    "<p class='justified'>\n",
    "As células a seguir mostram os códigos em execução:\n",
    "</p>"
   ]
  },
  {
   "cell_type": "code",
   "execution_count": 92,
   "metadata": {
    "ExecuteTime": {
     "end_time": "2020-06-15T15:49:11.486096Z",
     "start_time": "2020-06-15T15:49:11.484373Z"
    }
   },
   "outputs": [],
   "source": [
    "# definimos a variável ``contador`` atribuindo o valor ``1`` à ela\n",
    "contador = 1"
   ]
  },
  {
   "cell_type": "code",
   "execution_count": 93,
   "metadata": {
    "ExecuteTime": {
     "end_time": "2020-06-15T15:49:11.492750Z",
     "start_time": "2020-06-15T15:49:11.490308Z"
    }
   },
   "outputs": [
    {
     "data": {
      "text/plain": [
       "1"
      ]
     },
     "execution_count": 93,
     "metadata": {},
     "output_type": "execute_result"
    }
   ],
   "source": [
    "# inspecionamos o valor da variável\n",
    "contador"
   ]
  },
  {
   "cell_type": "code",
   "execution_count": 94,
   "metadata": {
    "ExecuteTime": {
     "end_time": "2020-06-15T15:49:11.497799Z",
     "start_time": "2020-06-15T15:49:11.496083Z"
    }
   },
   "outputs": [],
   "source": [
    "# incrementamos seu valor em 1\n",
    "contador += 1"
   ]
  },
  {
   "cell_type": "code",
   "execution_count": 95,
   "metadata": {
    "ExecuteTime": {
     "end_time": "2020-06-15T15:49:11.504527Z",
     "start_time": "2020-06-15T15:49:11.501940Z"
    }
   },
   "outputs": [
    {
     "data": {
      "text/plain": [
       "2"
      ]
     },
     "execution_count": 95,
     "metadata": {},
     "output_type": "execute_result"
    }
   ],
   "source": [
    "# inspecionamos o valor da variável após sua atualização\n",
    "contador"
   ]
  },
  {
   "cell_type": "code",
   "execution_count": 96,
   "metadata": {
    "ExecuteTime": {
     "end_time": "2020-06-15T15:49:11.509838Z",
     "start_time": "2020-06-15T15:49:11.508174Z"
    }
   },
   "outputs": [],
   "source": [
    "# incrementamos o valor da variável contador em 2 agora\n",
    "contador += 2"
   ]
  },
  {
   "cell_type": "code",
   "execution_count": 97,
   "metadata": {
    "ExecuteTime": {
     "end_time": "2020-06-15T15:49:11.516358Z",
     "start_time": "2020-06-15T15:49:11.514078Z"
    }
   },
   "outputs": [
    {
     "data": {
      "text/plain": [
       "4"
      ]
     },
     "execution_count": 97,
     "metadata": {},
     "output_type": "execute_result"
    }
   ],
   "source": [
    "# inspecionamos o valor da variável após sua atualização\n",
    "contador"
   ]
  },
  {
   "cell_type": "code",
   "execution_count": 98,
   "metadata": {
    "ExecuteTime": {
     "end_time": "2020-06-15T15:49:11.521743Z",
     "start_time": "2020-06-15T15:49:11.519993Z"
    }
   },
   "outputs": [],
   "source": [
    "# atribuindo um valor a ela, apenas a redefinimos\n",
    "contador = 1"
   ]
  },
  {
   "cell_type": "code",
   "execution_count": 99,
   "metadata": {
    "ExecuteTime": {
     "end_time": "2020-06-15T15:49:11.529084Z",
     "start_time": "2020-06-15T15:49:11.526683Z"
    }
   },
   "outputs": [
    {
     "data": {
      "text/plain": [
       "1"
      ]
     },
     "execution_count": 99,
     "metadata": {},
     "output_type": "execute_result"
    }
   ],
   "source": [
    "contador"
   ]
  },
  {
   "cell_type": "markdown",
   "metadata": {},
   "source": [
    "<p class='justified'>\n",
    "Além desse operador de incremento, existe um para cada operação matemática que vimos:\n",
    "</p>\n",
    "\n",
    "- Subtração\n",
    "```python\n",
    ">>> x = 10\n",
    ">>> x -= 1 # mesma coisa que x = x - 1\n",
    ">>> print(x)\n",
    "9\n",
    "```\n",
    "\n",
    "- Multiplicação\n",
    "```python\n",
    ">>> x = 10\n",
    ">>> x *= 3 # mesma coisa que x = x*3\n",
    ">>> print(x)\n",
    "30\n",
    "```\n",
    "\n",
    "- Divisão\n",
    "```python\n",
    ">>> x = 10\n",
    ">>> x /= 2 # mesma coisa que x = x/2\n",
    ">>> print(x)\n",
    "5.0\n",
    "```\n",
    "\n",
    "- Módulo (resto da divisão inteira)\n",
    "```python\n",
    ">>> x = 10\n",
    ">>> x %= 3 # mesma coisa que x = x%3\n",
    ">>> print(x)\n",
    "1\n",
    "```\n",
    "\n",
    "- Resultado inteiro da divisão\n",
    "```python\n",
    ">>> x = 10\n",
    ">>> x //= 3 # mesma coisa que x = x//3\n",
    ">>> print(x)\n",
    "3\n",
    "```\n",
    "\n",
    "- Exponenciação\n",
    "```python\n",
    ">>> x = 10\n",
    ">>> x **= 4 # mesma coisa que x = x**4\n",
    ">>> print(x)\n",
    "10000\n",
    "```"
   ]
  },
  {
   "cell_type": "markdown",
   "metadata": {},
   "source": [
    "<p class='justified'>\n",
    "Uma variável pode guardar qualquer valor, isso inclui valores lógicos:\n",
    "</p>\n",
    "\n",
    "```python\n",
    ">>> variavel_true = True\n",
    ">>> variavel_true == False\n",
    "False\n",
    ">>> variavel_true | False\n",
    "True\n",
    "\n",
    ">>> variavel_false = False\n",
    ">>> variavel_false < True\n",
    "True\n",
    ">>> variavel_false & True\n",
    "False\n",
    "```"
   ]
  },
  {
   "cell_type": "code",
   "execution_count": 100,
   "metadata": {
    "ExecuteTime": {
     "end_time": "2020-06-15T15:49:12.232891Z",
     "start_time": "2020-06-15T15:49:12.231162Z"
    }
   },
   "outputs": [],
   "source": [
    "# definimos a variável ``variavel_true`` e atribuímos o valor lógico ``True``\n",
    "variavel_true = True"
   ]
  },
  {
   "cell_type": "code",
   "execution_count": 101,
   "metadata": {
    "ExecuteTime": {
     "end_time": "2020-06-15T15:49:12.239506Z",
     "start_time": "2020-06-15T15:49:12.237100Z"
    }
   },
   "outputs": [
    {
     "data": {
      "text/plain": [
       "True"
      ]
     },
     "execution_count": 101,
     "metadata": {},
     "output_type": "execute_result"
    }
   ],
   "source": [
    "# inspecionamos o valor de ``variavel_true``\n",
    "variavel_true"
   ]
  },
  {
   "cell_type": "code",
   "execution_count": 102,
   "metadata": {
    "ExecuteTime": {
     "end_time": "2020-06-15T15:49:12.245320Z",
     "start_time": "2020-06-15T15:49:12.243022Z"
    }
   },
   "outputs": [
    {
     "data": {
      "text/plain": [
       "True"
      ]
     },
     "execution_count": 102,
     "metadata": {},
     "output_type": "execute_result"
    }
   ],
   "source": [
    "# usamos o operador de comparação ``==`` para verificar se ``variavel_true`` é igual a ``True``\n",
    "variavel_true == True"
   ]
  },
  {
   "cell_type": "code",
   "execution_count": 103,
   "metadata": {
    "ExecuteTime": {
     "end_time": "2020-06-15T15:49:12.251298Z",
     "start_time": "2020-06-15T15:49:12.248931Z"
    }
   },
   "outputs": [
    {
     "data": {
      "text/plain": [
       "True"
      ]
     },
     "execution_count": 103,
     "metadata": {},
     "output_type": "execute_result"
    }
   ],
   "source": [
    "# usamos o operador lógico ``|`` (``or``) para ver se um valor ou outro da comparação feita é ``True``\n",
    "variavel_true | False"
   ]
  },
  {
   "cell_type": "code",
   "execution_count": 104,
   "metadata": {
    "ExecuteTime": {
     "end_time": "2020-06-15T15:49:12.256877Z",
     "start_time": "2020-06-15T15:49:12.255177Z"
    }
   },
   "outputs": [],
   "source": [
    "# definimos a variável ``variavel_false`` e atribuímos o valor lógico ``False``\n",
    "variavel_false = False"
   ]
  },
  {
   "cell_type": "code",
   "execution_count": 105,
   "metadata": {
    "ExecuteTime": {
     "end_time": "2020-06-15T15:49:12.263322Z",
     "start_time": "2020-06-15T15:49:12.261091Z"
    }
   },
   "outputs": [
    {
     "data": {
      "text/plain": [
       "False"
      ]
     },
     "execution_count": 105,
     "metadata": {},
     "output_type": "execute_result"
    }
   ],
   "source": [
    "# inspecionamos o valor de ``variavel_false``\n",
    "variavel_false"
   ]
  },
  {
   "cell_type": "code",
   "execution_count": 106,
   "metadata": {
    "ExecuteTime": {
     "end_time": "2020-06-15T15:49:12.269389Z",
     "start_time": "2020-06-15T15:49:12.267062Z"
    }
   },
   "outputs": [
    {
     "data": {
      "text/plain": [
       "True"
      ]
     },
     "execution_count": 106,
     "metadata": {},
     "output_type": "execute_result"
    }
   ],
   "source": [
    "# usamos o operador de comparação ``<`` para verificar se ``False`` é menor que ``True``\n",
    "# lembre-se que ``False`` também é ``0`` e ``True`` também é ``1``\n",
    "variavel_false < True"
   ]
  },
  {
   "cell_type": "code",
   "execution_count": 107,
   "metadata": {
    "ExecuteTime": {
     "end_time": "2020-06-15T15:49:12.275811Z",
     "start_time": "2020-06-15T15:49:12.273255Z"
    }
   },
   "outputs": [
    {
     "data": {
      "text/plain": [
       "False"
      ]
     },
     "execution_count": 107,
     "metadata": {},
     "output_type": "execute_result"
    }
   ],
   "source": [
    "# usamos o operador lógico ``&`` (``and``) para ver se ambos os valores da comparação feita é ``True``\n",
    "variavel_false & True"
   ]
  },
  {
   "cell_type": "markdown",
   "metadata": {},
   "source": [
    "<p class='justified'>\n",
    "Vimos então que as variáveis que definimos podem guardar diferentes tipos de valores, como números inteiros (<mark class='mono_gray'>int</mark>) e frações (<mark class='mono_gray'>float</mark>) além de valores lógicos (<mark class='mono_gray'>bool</mark>). Veremos mais adiante que variáveis podem guardar mais tipos de variáveis além desses, como <mark class='mono_gray'>strings</mark> (<mark class='mono_gray'>str</mark>), <mark class='mono_gray'>listas</mark> (<mark class='mono_gray'>list</mark>), <mark class='mono_gray'>dicionários</mark> (<mark class='mono_gray'>dict</mark>) e até mesmo <mark class='mono_gray'>funções</mark>.\n",
    "</p>"
   ]
  },
  {
   "cell_type": "markdown",
   "metadata": {},
   "source": [
    "<a class='cell' id='del'></a>\n",
    "<p class='justified'>\n",
    "As variáveis que criamos são armazenadas na memória. Conforme os projetos vão progredindo, é normal que algumas variáveis não sejam mais usadas. Assim, podemos liberar espaço na memória <mark class='mono_gray'>deletando</mark> os valores atribuídos às variáveis que não são mais utilizadas. Para realizar tal procedimento, usamos o comando <mark class='mono_gray'>del</mark>. Veja as células seguintes exemplifcando o uso desse operador.\n",
    "    \n",
    "</p>"
   ]
  },
  {
   "cell_type": "code",
   "execution_count": 108,
   "metadata": {
    "ExecuteTime": {
     "end_time": "2020-06-15T15:49:12.986050Z",
     "start_time": "2020-06-15T15:49:12.984275Z"
    }
   },
   "outputs": [],
   "source": [
    "# atribuímos o resultado da operação ``2**10`` á variável ``variavel_para_deletar``\n",
    "variavel_para_deletar = 2**10"
   ]
  },
  {
   "cell_type": "code",
   "execution_count": 109,
   "metadata": {
    "ExecuteTime": {
     "end_time": "2020-06-15T15:49:12.992870Z",
     "start_time": "2020-06-15T15:49:12.990275Z"
    }
   },
   "outputs": [
    {
     "data": {
      "text/plain": [
       "1024"
      ]
     },
     "execution_count": 109,
     "metadata": {},
     "output_type": "execute_result"
    }
   ],
   "source": [
    "# inspecionamos o valor guardado na variável ``variavel_para_deletar``\n",
    "variavel_para_deletar"
   ]
  },
  {
   "cell_type": "code",
   "execution_count": 110,
   "metadata": {
    "ExecuteTime": {
     "end_time": "2020-06-15T15:49:12.997931Z",
     "start_time": "2020-06-15T15:49:12.996197Z"
    }
   },
   "outputs": [],
   "source": [
    "# vamos deletar a variável ``variavel_para_deletar``\n",
    "del variavel_para_deletar"
   ]
  },
  {
   "cell_type": "markdown",
   "metadata": {},
   "source": [
    "<p class='justified'>\n",
    "Se o comando não retornar nada, e se tentarmos inspecionar o valor da variável novamente obtemos um erro:\n",
    "</p>"
   ]
  },
  {
   "cell_type": "code",
   "execution_count": 111,
   "metadata": {
    "ExecuteTime": {
     "end_time": "2020-06-15T15:49:13.388776Z",
     "start_time": "2020-06-15T15:49:13.358192Z"
    }
   },
   "outputs": [
    {
     "ename": "NameError",
     "evalue": "name 'variavel_para_deletar' is not defined",
     "output_type": "error",
     "traceback": [
      "\u001b[0;31m---------------------------------------------------------------------------\u001b[0m",
      "\u001b[0;31mNameError\u001b[0m                                 Traceback (most recent call last)",
      "\u001b[0;32m<ipython-input-111-4eb98fc8ad1b>\u001b[0m in \u001b[0;36m<module>\u001b[0;34m\u001b[0m\n\u001b[0;32m----> 1\u001b[0;31m \u001b[0mvariavel_para_deletar\u001b[0m\u001b[0;34m\u001b[0m\u001b[0;34m\u001b[0m\u001b[0m\n\u001b[0m",
      "\u001b[0;31mNameError\u001b[0m: name 'variavel_para_deletar' is not defined"
     ]
    }
   ],
   "source": [
    "variavel_para_deletar"
   ]
  },
  {
   "cell_type": "markdown",
   "metadata": {},
   "source": [
    "<p class='justified'>\n",
    "    <mark class='mono_gray'>NameError</mark> nos diz que não existe uma variável com o nome fornecido no código.\n",
    "</p>"
   ]
  },
  {
   "cell_type": "markdown",
   "metadata": {},
   "source": [
    "---\n",
    "<a class='section' id='strings'></a>\n",
    "# Strings"
   ]
  },
  {
   "cell_type": "markdown",
   "metadata": {},
   "source": [
    "<p class='justified'>\n",
    "    <mark class='mono_gray'>Strings</mark>, como já vimos, são caracteres, palavras ou sentenças que se encontram entre aspas simples (<mark class='mono_gray'>'</mark>) ou duplas (<mark class='mono_gray'>\"</mark>). Podemos imprimí-las na tela usando a função <mark class='mono_gray'>print()</mark> ou se estivermos no <mark class='mono_gray'>Notebook</mark>, basta escrevermos a <mark class='mono_gray'>string</mark> e apertar <mark class='mono_gray'>shift+enter</mark>:\n",
    "</p>"
   ]
  },
  {
   "cell_type": "code",
   "execution_count": 112,
   "metadata": {
    "ExecuteTime": {
     "end_time": "2020-06-15T15:49:14.433277Z",
     "start_time": "2020-06-15T15:49:14.430799Z"
    }
   },
   "outputs": [
    {
     "data": {
      "text/plain": [
       "'Hello again, world!'"
      ]
     },
     "execution_count": 112,
     "metadata": {},
     "output_type": "execute_result"
    }
   ],
   "source": [
    "\"Hello again, world!\""
   ]
  },
  {
   "cell_type": "markdown",
   "metadata": {},
   "source": [
    "<p class='justified'>\n",
    "    <mark class='mono_gray'>Strings</mark> podem ser guardadas em variáveis, assim como fizemos com números e valores lógicos:\n",
    "</p>\n",
    "\n",
    "```python\n",
    ">>> variavel_palavra = \"Python\"\n",
    ">>> print(variavel_palavra)\n",
    "Python\n",
    "\n",
    ">>> variavel_frase = \"Vou estudar, mas antes farei um café.\"\n",
    ">>> print(variavel_frase)\n",
    "Vou estudar, mas antes farei um café.\n",
    "```\n",
    "<p class='justified'>\n",
    "Veja os códigos executados nas células a seguir.\n",
    "</p>"
   ]
  },
  {
   "cell_type": "code",
   "execution_count": 113,
   "metadata": {
    "ExecuteTime": {
     "end_time": "2020-06-15T15:49:14.796134Z",
     "start_time": "2020-06-15T15:49:14.794355Z"
    }
   },
   "outputs": [],
   "source": [
    "# definimos ``variavel_palavra`` e atribuímos a ``string`` \"Python\" à ela\n",
    "variavel_palavra = \"Python\""
   ]
  },
  {
   "cell_type": "code",
   "execution_count": 114,
   "metadata": {
    "ExecuteTime": {
     "end_time": "2020-06-15T15:49:14.802271Z",
     "start_time": "2020-06-15T15:49:14.800095Z"
    }
   },
   "outputs": [
    {
     "data": {
      "text/plain": [
       "'Python'"
      ]
     },
     "execution_count": 114,
     "metadata": {},
     "output_type": "execute_result"
    }
   ],
   "source": [
    "# inspecionamos o valor de ``variavel_palavra``\n",
    "variavel_palavra"
   ]
  },
  {
   "cell_type": "code",
   "execution_count": 115,
   "metadata": {
    "ExecuteTime": {
     "end_time": "2020-06-15T15:49:14.807942Z",
     "start_time": "2020-06-15T15:49:14.806284Z"
    }
   },
   "outputs": [],
   "source": [
    "# definimos ``variavel_frase`` e atribuímos a ``string`` \"Vou estudar, mas antes farei um café.\" à ela\n",
    "variavel_frase = \"Vou estudar, mas antes farei um café.\""
   ]
  },
  {
   "cell_type": "code",
   "execution_count": 116,
   "metadata": {
    "ExecuteTime": {
     "end_time": "2020-06-15T15:49:14.814621Z",
     "start_time": "2020-06-15T15:49:14.812170Z"
    }
   },
   "outputs": [
    {
     "data": {
      "text/plain": [
       "'Vou estudar, mas antes farei um café.'"
      ]
     },
     "execution_count": 116,
     "metadata": {},
     "output_type": "execute_result"
    }
   ],
   "source": [
    "# inspecionamos o valor de ``variavel_frase``\n",
    "variavel_frase"
   ]
  },
  {
   "cell_type": "markdown",
   "metadata": {},
   "source": [
    "<p class='justified'>\n",
    "Se quisermos escrever uma string muito longa e quebrar a linha em algum momento, usamos <mark class='mono_gray'>\\n</mark>:\n",
    "</p>\n",
    "\n",
    "```python\n",
    ">>> print(\"Vou quebrar a linha aqui.\\nEssa é uma frase na outra linha.\")\n",
    "Vou quebrar a linha aqui.\n",
    "Essa é uma frase na outra linha.\n",
    "```\n",
    "\n",
    "<p class='justified'>\n",
    "Veja na célula abaixo o código executado.\n",
    "</p>"
   ]
  },
  {
   "cell_type": "code",
   "execution_count": 117,
   "metadata": {
    "ExecuteTime": {
     "end_time": "2020-06-15T15:49:15.291043Z",
     "start_time": "2020-06-15T15:49:15.288404Z"
    }
   },
   "outputs": [
    {
     "data": {
      "text/plain": [
       "'Vou quebrar a linha.\\nEssa é uma frase na outra linha.'"
      ]
     },
     "execution_count": 117,
     "metadata": {},
     "output_type": "execute_result"
    }
   ],
   "source": [
    "\"Vou quebrar a linha.\\nEssa é uma frase na outra linha.\""
   ]
  },
  {
   "cell_type": "markdown",
   "metadata": {},
   "source": [
    "<p class='justified'>\n",
    "Podemos obter o mesmo resultado se escrevermos o texto entre três aspas duplas <mark class='mono_gray'>\"\"\"</mark>:\n",
    "</p>\n",
    "\n",
    "```python\n",
    ">>> texto_duas_linhas = \"\"\"Vou quebrar a linha.\n",
    "Essa é uma frase na outra linha.\"\"\"\n",
    ">>> print(texto_duas_linhas)\n",
    "Vou quebrar a linha.\n",
    "Essa é uma frase na outra linha.\n",
    "```\n",
    "\n",
    "<p class='justified'>\n",
    "Veja na célula seguinte o código executado.\n",
    "</p>"
   ]
  },
  {
   "cell_type": "code",
   "execution_count": 7,
   "metadata": {
    "ExecuteTime": {
     "end_time": "2020-06-23T18:08:14.220493Z",
     "start_time": "2020-06-23T18:08:14.216965Z"
    }
   },
   "outputs": [
    {
     "data": {
      "text/plain": [
       "'Vou quebrar a linha.\\nEssa é uma frase na outra linha.'"
      ]
     },
     "execution_count": 7,
     "metadata": {},
     "output_type": "execute_result"
    }
   ],
   "source": [
    "\"\"\"Vou quebrar a linha.\n",
    "Essa é uma frase na outra linha.\"\"\""
   ]
  },
  {
   "cell_type": "markdown",
   "metadata": {},
   "source": [
    "<p class='justified'>\n",
    "    Veja que se não usarmos a função <mark class='mono_gray'>print()</mark>, vemos um <mark class='mono_gray'>\\n</mark> onde a linha foi quebrada no texto entre três aspas duplas.\n",
    "</p>"
   ]
  },
  {
   "cell_type": "code",
   "execution_count": 8,
   "metadata": {
    "ExecuteTime": {
     "end_time": "2020-06-23T18:08:33.645335Z",
     "start_time": "2020-06-23T18:08:33.643188Z"
    }
   },
   "outputs": [
    {
     "name": "stdout",
     "output_type": "stream",
     "text": [
      "Vou quebrar a linha.\n",
      "Essa é uma frase na outra linha.\n"
     ]
    }
   ],
   "source": [
    "print(\"\"\"Vou quebrar a linha.\n",
    "Essa é uma frase na outra linha.\"\"\")"
   ]
  },
  {
   "cell_type": "markdown",
   "metadata": {},
   "source": [
    "<p class='justified'>\n",
    "    Podemos realizar algumas operações com <mark class='mono_gray'>Strings</mark>. Por exemplos, podemos somá-las:\n",
    "</p>\n",
    "\n",
    "```python\n",
    ">>> string_1 = \"Hello, \"\n",
    ">>> string_2 = \"world!\"\n",
    ">>> string_final = string_1 + string_2\n",
    ">>> print(string_final)\n",
    "Hello, world!\n",
    "```\n",
    "\n",
    "<p class='justified'>\n",
    "Veja na célula seguinte o código executado.\n",
    "</p>"
   ]
  },
  {
   "cell_type": "code",
   "execution_count": 119,
   "metadata": {
    "ExecuteTime": {
     "end_time": "2020-06-15T15:49:16.397566Z",
     "start_time": "2020-06-15T15:49:16.394737Z"
    }
   },
   "outputs": [
    {
     "data": {
      "text/plain": [
       "'Hello, world!'"
      ]
     },
     "execution_count": 119,
     "metadata": {},
     "output_type": "execute_result"
    }
   ],
   "source": [
    "# definimos as duas ``strings`` que somaremos\n",
    "string_1 = \"Hello, \"\n",
    "string_2 = \"world!\"\n",
    "\n",
    "# definimos a ``string_final`` que é a soma das duas ``strings`` definidas anteriormente\n",
    "string_final = string_1 + string_2\n",
    "\n",
    "# imprimimos na tela o valor guardado na variável ``string_final``\n",
    "string_final\n"
   ]
  },
  {
   "cell_type": "markdown",
   "metadata": {},
   "source": [
    "<p class='justified'>\n",
    "Podemos também multiplicar strings por um número inteiro, de modo que o resultado é a repetição da string pelo número multiplicado:\n",
    "</p>\n",
    "\n",
    "```python\n",
    ">>> variavel_hello = \"Hello\"\n",
    ">>> print(variavel_hello*3)\n",
    "HelloHelloHello\n",
    "```\n",
    "\n",
    "<p class='justified'>\n",
    "Veja a célula a seguir com o código executado.\n",
    "</p>"
   ]
  },
  {
   "cell_type": "code",
   "execution_count": 120,
   "metadata": {
    "ExecuteTime": {
     "end_time": "2020-06-15T15:49:16.763456Z",
     "start_time": "2020-06-15T15:49:16.760101Z"
    }
   },
   "outputs": [
    {
     "data": {
      "text/plain": [
       "'HelloHelloHello'"
      ]
     },
     "execution_count": 120,
     "metadata": {},
     "output_type": "execute_result"
    }
   ],
   "source": [
    "# definimos ``variavel_hello`` atribuindo a string \"Hello\" à ela\n",
    "variavel_hello = \"Hello\"\n",
    "\n",
    "# multiplicamos ``variavel_hello`` por 3\n",
    "variavel_hello*3"
   ]
  },
  {
   "cell_type": "markdown",
   "metadata": {},
   "source": [
    "<a class='cell' id='str_concatenate'></a>\n",
    "<p class='justified'>\n",
    "    Se quisermos usar um número a uma <mark class='mono_gray'>String</mark>, de maneira que esse seja representado como uma <mark class='mono_gray'>String</mark> no meio da sentença, podemos usar a função <mark class='mono_gray'>print()</mark> e  <mark class='mono_gray'>concatenar</mark> o que quisermos:\n",
    "</p>\n",
    "\n",
    "```python\n",
    ">>> print(\"Hoje eu já tomei\", 5, \"xícaras de café.\")\n",
    "Hoje eu já tomei 5 xícaras de café.\n",
    "```\n",
    "\n",
    "<p class='justified'>\n",
    "    O mesmo resultado pode ser obtido se usarmos a função <mark class='mono_gray'>str()</mark> para transformar o número do tipo <mark class='mono_gray'>int</mark> em uma variável do tipo <mark class='mono_gray'>str</mark>:\n",
    "</p>\n",
    "\n",
    "```python\n",
    ">>> print(\"Hoje eu já tomei \" + str(5) + \" xícaras de café.\")\n",
    "Hoje eu já tomei 5 xícaras de café.\n",
    "```\n",
    "\n",
    "<p class='justified'>\n",
    "Da mesma forma, podemos fazer o inverso, ou seja, transformar uma variável <mark class='mono_gray'>str</mark> que é um número, por exemplo, <mark class='mono_gray'>\"5\"</mark> para ser uma variável do tipo <mark class='mono_gray'>int</mark> ou <mark class='mono_gray'>float</mark>, usando as funções <mark class='mono_gray'>int()</mark> e <mark class='mono_gray'>float()</mark>, respectivamente:\n",
    "</p>\n",
    "\n",
    "```python\n",
    ">>> string_numero = \"5\"\n",
    ">>> print(string_numero*3)\n",
    "555\n",
    ">>> string_para_int = int(string_numero)\n",
    ">>> print(string_para_int*3)\n",
    "15\n",
    ">>> string_para_float = float(string_numero)\n",
    ">>> print(string_para_float)\n",
    "5.0\n",
    "```\n",
    "\n",
    "<p class='justified'>\n",
    "As células a seguir mostra os códigos executados.\n",
    "</p>"
   ]
  },
  {
   "cell_type": "code",
   "execution_count": 121,
   "metadata": {
    "ExecuteTime": {
     "end_time": "2020-06-15T15:49:17.134100Z",
     "start_time": "2020-06-15T15:49:17.130833Z"
    }
   },
   "outputs": [
    {
     "data": {
      "text/plain": [
       "'555'"
      ]
     },
     "execution_count": 121,
     "metadata": {},
     "output_type": "execute_result"
    }
   ],
   "source": [
    "# definimos ``string_numero`` e atribuímos a ``string`` \"5\" à ela\n",
    "string_numero = \"5\"\n",
    "# multiplicamos a ``string`` pelo número 3\n",
    "string_numero*3"
   ]
  },
  {
   "cell_type": "code",
   "execution_count": 122,
   "metadata": {
    "ExecuteTime": {
     "end_time": "2020-06-15T15:49:17.141202Z",
     "start_time": "2020-06-15T15:49:17.137778Z"
    }
   },
   "outputs": [
    {
     "data": {
      "text/plain": [
       "15"
      ]
     },
     "execution_count": 122,
     "metadata": {},
     "output_type": "execute_result"
    }
   ],
   "source": [
    "# definimos ``string_para_int`` e atribuímos o resultado\n",
    "# da aplicação da função ``int()`` a ``string_numero``\n",
    "# isso transforma a ``string`` \"5\" no número inteiro 5\n",
    "string_para_int = int(string_numero)\n",
    "\n",
    "# multiplicamos o número inteiro 5\n",
    "string_para_int*3"
   ]
  },
  {
   "cell_type": "code",
   "execution_count": 123,
   "metadata": {
    "ExecuteTime": {
     "end_time": "2020-06-15T15:49:17.148232Z",
     "start_time": "2020-06-15T15:49:17.144746Z"
    }
   },
   "outputs": [
    {
     "data": {
      "text/plain": [
       "5.0"
      ]
     },
     "execution_count": 123,
     "metadata": {},
     "output_type": "execute_result"
    }
   ],
   "source": [
    "# definimos ``string_para_float`` e atribuímos o resultado\n",
    "# da aplicação da função ``float()`` a ``string_numero``\n",
    "# isso transforma a ``string`` \"5\" no número decimal 5.0\n",
    "string_para_float = float(string_numero)\n",
    "\n",
    "# imprimimos o valor do número decimal na tela\n",
    "string_para_float"
   ]
  },
  {
   "cell_type": "markdown",
   "metadata": {},
   "source": [
    "<a class='cell' id='str_method_not_in_place'></a>\n",
    "<p class='justified'>\n",
    "    Existem outros <mark class='mono_gray'>métodos</mark> que podem ser aplicados às variáveis que pertencem à classe <mark class='mono_gray'>str</mark>. Para aplicar um método a uma <mark class='mono_gray'>str</mark> usamos um <mark class='mono_gray'>.</mark> e então escrevemos o <mark class='mono_gray'>método</mark> que queremos aplicar. Vamos ver alguns deles e como aplicá-los:\n",
    "</p>\n",
    "\n",
    "```python\n",
    ">>> variavel_string = \"Eu quero café. Sem açúcar, por favor.\"\n",
    "\n",
    "# todas as letras ficam minúsculas\n",
    ">>> variavel_string.lower()          \n",
    "eu quero café. sem açúcar, por favor.\n",
    "\n",
    "# todas as letras ficam maiúsculas\n",
    ">>> variavel_string.upper()          \n",
    "EU QUERO CAFÉ. SEM AÇÚCAR POR FAVOR.\n",
    "\n",
    "# a primeira letra de cada palavra fica maiúscula\n",
    ">>> variavel_string.title()          \n",
    "Eu Quero Café. Sem Açúcar, Por Favor.\n",
    "\n",
    "# só a primeira letra fica maiúscula\n",
    ">>> variavel_string.capitalize()     \n",
    "Eu quero café. sem açúcar, por favor.\n",
    "\n",
    "# conta quantas vezes o caracter passado como argumento aparece na ``string``\n",
    ">>> variavel_string.count('e')       \n",
    "2\n",
    "\n",
    "# os métodos atuam na ``string`` mas não alteram a variável\n",
    ">>> print(variavel_string)           \n",
    "Eu quero café. Sem açúcar, por favor.\n",
    "```\n",
    "<p class='justified'>\n",
    "Executando esses códigos:\n",
    "</p>"
   ]
  },
  {
   "cell_type": "code",
   "execution_count": 124,
   "metadata": {
    "ExecuteTime": {
     "end_time": "2020-06-15T15:49:17.520020Z",
     "start_time": "2020-06-15T15:49:17.517788Z"
    }
   },
   "outputs": [],
   "source": [
    "# primeiramente definimos ``variavel_string`` e atribuímos a ``string``\n",
    "# \"Estou aprendendo sobre strings. Vamos ver esses módulos.\"\n",
    "variavel_string = \"Estou aprendendo sobre strings. Vamos ver esses módulos.\""
   ]
  },
  {
   "cell_type": "code",
   "execution_count": 125,
   "metadata": {
    "ExecuteTime": {
     "end_time": "2020-06-15T15:49:17.526227Z",
     "start_time": "2020-06-15T15:49:17.523880Z"
    }
   },
   "outputs": [
    {
     "data": {
      "text/plain": [
       "'Estou aprendendo sobre strings. Vamos ver esses módulos.'"
      ]
     },
     "execution_count": 125,
     "metadata": {},
     "output_type": "execute_result"
    }
   ],
   "source": [
    "# inspecionamos a variável\n",
    "variavel_string"
   ]
  },
  {
   "cell_type": "code",
   "execution_count": 126,
   "metadata": {
    "ExecuteTime": {
     "end_time": "2020-06-15T15:49:17.533518Z",
     "start_time": "2020-06-15T15:49:17.530358Z"
    }
   },
   "outputs": [
    {
     "data": {
      "text/plain": [
       "'estou aprendendo sobre strings. vamos ver esses módulos.'"
      ]
     },
     "execution_count": 126,
     "metadata": {},
     "output_type": "execute_result"
    }
   ],
   "source": [
    "# vamos fazer todas as letras ficarem minúsculas\n",
    "variavel_string.lower()"
   ]
  },
  {
   "cell_type": "code",
   "execution_count": 127,
   "metadata": {
    "ExecuteTime": {
     "end_time": "2020-06-15T15:49:17.540666Z",
     "start_time": "2020-06-15T15:49:17.537514Z"
    }
   },
   "outputs": [
    {
     "data": {
      "text/plain": [
       "'ESTOU APRENDENDO SOBRE STRINGS. VAMOS VER ESSES MÓDULOS.'"
      ]
     },
     "execution_count": 127,
     "metadata": {},
     "output_type": "execute_result"
    }
   ],
   "source": [
    "# vamos fazer todas as letras ficarem maiúsculas\n",
    "variavel_string.upper()"
   ]
  },
  {
   "cell_type": "code",
   "execution_count": 128,
   "metadata": {
    "ExecuteTime": {
     "end_time": "2020-06-15T15:49:17.546456Z",
     "start_time": "2020-06-15T15:49:17.543914Z"
    }
   },
   "outputs": [
    {
     "data": {
      "text/plain": [
       "'Estou Aprendendo Sobre Strings. Vamos Ver Esses Módulos.'"
      ]
     },
     "execution_count": 128,
     "metadata": {},
     "output_type": "execute_result"
    }
   ],
   "source": [
    "# vamos fazer a primeira letra de cada palavra ficar maiúscula\n",
    "variavel_string.title()"
   ]
  },
  {
   "cell_type": "code",
   "execution_count": 129,
   "metadata": {
    "ExecuteTime": {
     "end_time": "2020-06-15T15:49:17.552268Z",
     "start_time": "2020-06-15T15:49:17.549896Z"
    }
   },
   "outputs": [
    {
     "data": {
      "text/plain": [
       "'Estou aprendendo sobre strings. vamos ver esses módulos.'"
      ]
     },
     "execution_count": 129,
     "metadata": {},
     "output_type": "execute_result"
    }
   ],
   "source": [
    "# vamos fazer somente a primeira palavra ficar com letra maiúscula\n",
    "variavel_string.capitalize()"
   ]
  },
  {
   "cell_type": "code",
   "execution_count": 130,
   "metadata": {
    "ExecuteTime": {
     "end_time": "2020-06-15T15:49:17.558467Z",
     "start_time": "2020-06-15T15:49:17.556033Z"
    }
   },
   "outputs": [
    {
     "data": {
      "text/plain": [
       "9"
      ]
     },
     "execution_count": 130,
     "metadata": {},
     "output_type": "execute_result"
    }
   ],
   "source": [
    "# vamos contar quantas vezes a letra ``s`` aparece na ``variavel_string``\n",
    "variavel_string.count('s')"
   ]
  },
  {
   "cell_type": "code",
   "execution_count": 131,
   "metadata": {
    "ExecuteTime": {
     "end_time": "2020-06-15T15:49:17.564431Z",
     "start_time": "2020-06-15T15:49:17.562014Z"
    }
   },
   "outputs": [
    {
     "data": {
      "text/plain": [
       "2"
      ]
     },
     "execution_count": 131,
     "metadata": {},
     "output_type": "execute_result"
    }
   ],
   "source": [
    "# o argumento do ``método`` ``count()`` pode receber qualquer ``string`` que quisermos\n",
    "variavel_string.count('en')"
   ]
  },
  {
   "cell_type": "markdown",
   "metadata": {},
   "source": [
    "<p class='justified'>\n",
    "    Contudo, veja que a aplicação desses<mark class='mono_gray'>métodos</mark> na <mark class='mono_gray'>variavel_string</mark> não altera seu valor original:\n",
    "</p>"
   ]
  },
  {
   "cell_type": "code",
   "execution_count": 132,
   "metadata": {
    "ExecuteTime": {
     "end_time": "2020-06-15T15:49:17.942775Z",
     "start_time": "2020-06-15T15:49:17.940462Z"
    }
   },
   "outputs": [
    {
     "data": {
      "text/plain": [
       "'Estou aprendendo sobre strings. Vamos ver esses módulos.'"
      ]
     },
     "execution_count": 132,
     "metadata": {},
     "output_type": "execute_result"
    }
   ],
   "source": [
    "# vamos inspecionar a variável após a aplicação de todos os métodos\n",
    "variavel_string"
   ]
  },
  {
   "cell_type": "markdown",
   "metadata": {
    "ExecuteTime": {
     "end_time": "2020-06-05T18:33:00.943862Z",
     "start_time": "2020-06-05T18:33:00.939570Z"
    }
   },
   "source": [
    "<a class='cell' id='string_len'></a>\n",
    "<p class='justified'>\n",
    "É possível também descobrirmos o número de caracteres presentes na <mark class='mono_gray'>string</mark>. Para isso, usamos a função inata do <mark class='mono_gray'>Python</mark> chamada <mark class='mono_gray'>len()</mark>. Ela é a abreviação de <mark class='mono_gray'>length</mark>, que significa <mark class='mono_gray'>tamanho</mark>. Se aplicarmos essa <mark class='mono_gray'>função</mark> na <mark class='mono_gray'>string</mark> teremos como retorno um número, que é seu número de caracteres:\n",
    "</p>\n",
    "\n",
    "```python\n",
    "# definimos ``variavel_string``\n",
    ">>> variavel_string = \"Eu quero café. Sem açúcar, por favor.\"\n",
    "# contamos quantos caracteres tem na ``string``\n",
    ">>> len(variavel_string)\n",
    "37\n",
    "```\n",
    "\n",
    "<p class='justified'>\n",
    "Executando esses códigos:\n",
    "</p>"
   ]
  },
  {
   "cell_type": "code",
   "execution_count": 133,
   "metadata": {
    "ExecuteTime": {
     "end_time": "2020-06-15T15:49:18.348762Z",
     "start_time": "2020-06-15T15:49:18.346949Z"
    }
   },
   "outputs": [],
   "source": [
    "# definimos nossa ``string``\n",
    "variavel_string = \"Eu quero café. Sem açúcar, por favor.\""
   ]
  },
  {
   "cell_type": "code",
   "execution_count": 134,
   "metadata": {
    "ExecuteTime": {
     "end_time": "2020-06-15T15:49:18.356372Z",
     "start_time": "2020-06-15T15:49:18.353352Z"
    }
   },
   "outputs": [
    {
     "data": {
      "text/plain": [
       "37"
      ]
     },
     "execution_count": 134,
     "metadata": {},
     "output_type": "execute_result"
    }
   ],
   "source": [
    "# inspecionamos o tamanho da ``string``\n",
    "len(variavel_string)"
   ]
  },
  {
   "cell_type": "markdown",
   "metadata": {
    "ExecuteTime": {
     "end_time": "2020-06-05T22:19:13.966043Z",
     "start_time": "2020-06-05T22:19:13.959912Z"
    }
   },
   "source": [
    "<p class='justified'>\n",
    "    Veja que existe uma diferença sútil de como uma <mark class='mono_gray'>função</mark> e um <mark class='mono_gray'>método</mark> são aplicados na variável <mark class='mono_gray'>string</mark>. Em uma <mark class='mono_gray'>função</mark>, a variável em questão é passada como argumento, dentro dos parênteses: \n",
    "</p>\n",
    "\n",
    "```python\n",
    ">>> len(variavel_string)\n",
    "```\n",
    "\n",
    "<p class='justified'>\n",
    "    Já um <mark class='mono_gray'>método</mark> é aplicado usando a notação de <mark class='mono_gray'>.</mark> em frente à variável que estamos tentando aplicá-lo. A principal diferença é que as variáveis que criamos pertencem a certas <mark class='mono_gray'>classes</mark> ou <mark class='mono_gray'>tipos</mark>. Cada uma dessas <mark class='mono_gray'>classes</mark> possuem métodos diferentes que podem ser aplicados a eles. Assim, trabalhamos com a variável <mark class='mono_gray'>variavel_string</mark>, que é uma <mark class='mono_gray'>string</mark> e, portanto, pertence à classe <mark class='mono_gray'>str</mark>. Essa <mark class='mono_gray'>classe</mark> possui os <mark class='mono_gray'>métodos</mark> já mencionados acima e muitos outros. \n",
    "</p>"
   ]
  },
  {
   "cell_type": "markdown",
   "metadata": {},
   "source": [
    "---\n",
    "<a class='section' id='breve_comentario_sobre_as_classes'></a>\n",
    "# Breve comentário sobre as ``classes``"
   ]
  },
  {
   "cell_type": "markdown",
   "metadata": {},
   "source": [
    "<p class='justified'>\n",
    "Neste curso não entraremos em detalhes sobre construção de <mark class='mono_gray'>classes</mark>. Contudo, vale a pena saber alguns detalhes sobre as <mark class='mono_gray'>classes</mark> de variáveis que já estamos trabalhando. \n",
    "</p>\n",
    "\n",
    "<p class='justified'>\n",
    "Além dos <mark class='mono_gray'>métodos</mark>, uma <mark class='mono_gray'>classe</mark> possui <mark class='mono_gray'>propriedades</mark> associadas a ela. Uma <mark class='mono_gray'>propriedade</mark> é algo intrínseco da <mark class='mono_gray'>classe</mark>. Por exemplo, sabemos que a variável <mark class='mono_gray'>variavel_string</mark> pertence a classe <mark class='mono_gray'>str</mark> e isso é uma <mark class='mono_gray'>propriedade</mark> dela. Já um <mark class='mono_gray'>método</mark> é aplicado à variável causando algum tipo de transformação, por exemplo, deixando todas as letras da <mark class='mono_gray'>str</mark> minúsculas ao usar o método <mark class='mono_gray'>lower()</mark>. Para acessar uma <mark class='mono_gray'>propriedade</mark> usamos um <mark class='mono_gray'>.</mark> e então escrevemos o nome da <mark class='mono_gray'>propriedade</mark>, sem parênteses.\n",
    "</p>\n",
    "\n",
    "<p class='justified'>\n",
    "Um outro exemplo que talvez ajude a entender melhor é o seguinte. Suponha um estudante chamado João da Silva, 20 anos, 1,75m e 70kg. E criamos uma variável <mark class='mono_gray'>joao_da_silva</mark>. Quando verificamos seu <mark class='mono_gray'>tipo</mark> ou <mark class='mono_gray'>classe</mark>, essa retornará <mark class='mono_gray'>estudante</mark>. Essa <mark class='mono_gray'>classe</mark> possui as <mark class='mono_gray'>propriedades</mark>: <mark class='mono_gray'>nome</mark>, <mark class='mono_gray'>sobrenome</mark>, <mark class='mono_gray'>idade</mark>, <mark class='mono_gray'>altura</mark> e <mark class='mono_gray'>peso</mark>. Veja que essas são todas características intrínsecas de <mark class='mono_gray'>joao_da_silva</mark>. Assim, se quiséssemos saber sua idade, bastaria usar o seguinte código:\n",
    "</p>\n",
    "\n",
    "\n",
    "```python\n",
    ">>> print(joao_da_silva.idade)\n",
    "20\n",
    "```\n",
    "\n",
    "<p class='justified'>\n",
    "Imagine agora que João não é um cara que goste muito de estudar e está sempre tirando notas vermelhas. Para mudar isso, ou seja, fazer com que ele tire notas azuis, poderíamos aplicar um <mark class='mono_gray'>método</mark> chamado <mark class='mono_gray'>estudar()</mark>. Isso mudaria a natureza de <mark class='mono_gray'>joao_da_silva</mark>, que é da <mark class='mono_gray'>classe</mark>  <mark class='mono_gray'>estudante</mark> e ele tiraria notas azuis. Contudo, se o método não for aplicado, ele volta a ser um cara que não gosta muito de estudar e a tirar notas vermelhas, contudo, suas <mark class='mono_gray'>propriedades</mark> permanecem inalteradas: seu <mark class='mono_gray'>nome</mark> continua sendo <mark class='mono_gray'>João</mark>, seu <mark class='mono_gray'>sobrenome</mark> continua sendo <mark class='mono_gray'>da Silva</mark> etc. Contudo, as <mark class='mono_gray'>propriedades</mark> de um <mark class='mono_gray'>objeto</mark> particular de uma <mark class='mono_gray'>classe</mark> podem ser alteradas. Imagine que a <mark class='mono_gray'>classe</mark> <mark class='mono_gray'>estudante</mark> possua um método <mark class='mono_gray'>fazer_aniversario()</mark>. Se aplicarmos esse <mark class='mono_gray'>método</mark> em <mark class='mono_gray'>joao_da_silva</mark>, isto é, <mark class='mono_gray'>joao_da_silva./fazer_aniversario()</mark>, isso fará com que ele fique um ano mais velho. Portanto, sua <mark class='mono_gray'>propriedade</mark> <mark class='mono_gray'>idade</mark>, terá seu valor atualizado para <mark class='mono_gray'>21</mark> anos:\n",
    "</p>\n",
    "\n",
    "\n",
    "```python\n",
    ">>> print(joao_da_silva.idade)\n",
    "20\n",
    ">>> joao_da_silva.fazer_aniversario()\n",
    ">>> print(joao_da_silva.idade)\n",
    "21\n",
    "```"
   ]
  },
  {
   "cell_type": "markdown",
   "metadata": {},
   "source": [
    "<p class='justified'>\n",
    "    Para verificar todas as <mark class='mono_gray'>propriedades</mark> e <mark class='mono_gray'>métodos</mark> disponíveis de uma <mark class='mono_gray'>classe</mark>, podemos usar a <mark class='mono_gray'>função</mark> <mark class='mono_gray'>dir()</mark>. Por exemplo, para uma <mark class='mono_gray'>string</mark>:\n",
    "</p>"
   ]
  },
  {
   "cell_type": "code",
   "execution_count": 135,
   "metadata": {
    "ExecuteTime": {
     "end_time": "2020-06-15T15:49:19.860105Z",
     "start_time": "2020-06-15T15:49:19.857076Z"
    }
   },
   "outputs": [
    {
     "data": {
      "text/plain": [
       "['__add__',\n",
       " '__class__',\n",
       " '__contains__',\n",
       " '__delattr__',\n",
       " '__dir__',\n",
       " '__doc__',\n",
       " '__eq__',\n",
       " '__format__',\n",
       " '__ge__',\n",
       " '__getattribute__',\n",
       " '__getitem__',\n",
       " '__getnewargs__',\n",
       " '__gt__',\n",
       " '__hash__',\n",
       " '__init__',\n",
       " '__init_subclass__',\n",
       " '__iter__',\n",
       " '__le__',\n",
       " '__len__',\n",
       " '__lt__',\n",
       " '__mod__',\n",
       " '__mul__',\n",
       " '__ne__',\n",
       " '__new__',\n",
       " '__reduce__',\n",
       " '__reduce_ex__',\n",
       " '__repr__',\n",
       " '__rmod__',\n",
       " '__rmul__',\n",
       " '__setattr__',\n",
       " '__sizeof__',\n",
       " '__str__',\n",
       " '__subclasshook__',\n",
       " 'capitalize',\n",
       " 'casefold',\n",
       " 'center',\n",
       " 'count',\n",
       " 'encode',\n",
       " 'endswith',\n",
       " 'expandtabs',\n",
       " 'find',\n",
       " 'format',\n",
       " 'format_map',\n",
       " 'index',\n",
       " 'isalnum',\n",
       " 'isalpha',\n",
       " 'isascii',\n",
       " 'isdecimal',\n",
       " 'isdigit',\n",
       " 'isidentifier',\n",
       " 'islower',\n",
       " 'isnumeric',\n",
       " 'isprintable',\n",
       " 'isspace',\n",
       " 'istitle',\n",
       " 'isupper',\n",
       " 'join',\n",
       " 'ljust',\n",
       " 'lower',\n",
       " 'lstrip',\n",
       " 'maketrans',\n",
       " 'partition',\n",
       " 'replace',\n",
       " 'rfind',\n",
       " 'rindex',\n",
       " 'rjust',\n",
       " 'rpartition',\n",
       " 'rsplit',\n",
       " 'rstrip',\n",
       " 'split',\n",
       " 'splitlines',\n",
       " 'startswith',\n",
       " 'strip',\n",
       " 'swapcase',\n",
       " 'title',\n",
       " 'translate',\n",
       " 'upper',\n",
       " 'zfill']"
      ]
     },
     "execution_count": 135,
     "metadata": {},
     "output_type": "execute_result"
    }
   ],
   "source": [
    "dir(\"Vamos ver as propriedades e métodos das strings!\")"
   ]
  },
  {
   "cell_type": "markdown",
   "metadata": {},
   "source": [
    "<p class='justified'>\n",
    "    O mesmo resultado poderia ser obtido passando a classe <mark class='mono_gray'>str</mark> diretamente como argumento para a função <mark class='mono_gray'>dir()</mark>.\n",
    "</p>\n",
    "\n",
    "```python\n",
    ">>> dir(str)\n",
    "```\n",
    "\n",
    "<p class='justified'>\n",
    "    Observe que no começo vimos a função <mark class='mono_gray'>type()</mark> que retornava o <mark class='mono_gray'>tipo</mark> da variável. Para uma <mark class='mono_gray'>string</mark> ela retorna o tipo <mark class='mono_gray'>str</mark>:\n",
    "</p>"
   ]
  },
  {
   "cell_type": "code",
   "execution_count": 136,
   "metadata": {
    "ExecuteTime": {
     "end_time": "2020-06-15T15:49:20.240158Z",
     "start_time": "2020-06-15T15:49:20.237460Z"
    }
   },
   "outputs": [
    {
     "data": {
      "text/plain": [
       "str"
      ]
     },
     "execution_count": 136,
     "metadata": {},
     "output_type": "execute_result"
    }
   ],
   "source": [
    "type(\"Vamos ver qual o tipo da string.\")"
   ]
  },
  {
   "cell_type": "markdown",
   "metadata": {},
   "source": [
    "<p class='justified'>\n",
    "    Podemos usar a <mark class='mono_gray'>propriedade</mark> <mark class='mono_gray'>__class__</mark> para verificar a <mark class='mono_gray'>classe</mark> da <mark class='mono_gray'>string</mark>:\n",
    "</p>"
   ]
  },
  {
   "cell_type": "code",
   "execution_count": 137,
   "metadata": {
    "ExecuteTime": {
     "end_time": "2020-06-15T15:49:20.617022Z",
     "start_time": "2020-06-15T15:49:20.614390Z"
    }
   },
   "outputs": [
    {
     "data": {
      "text/plain": [
       "str"
      ]
     },
     "execution_count": 137,
     "metadata": {},
     "output_type": "execute_result"
    }
   ],
   "source": [
    "\"Vamos ver qual a classe da string.\".__class__"
   ]
  },
  {
   "cell_type": "markdown",
   "metadata": {},
   "source": [
    "<p class='justified'>\n",
    "    Tanto a função <mark class='mono_gray'>type()</mark> quanto a <mark class='mono_gray'>propiedade</mark> <mark class='mono_gray'>__class__</mark> retornam <mark class='mono_gray'>str</mark>.\n",
    "</p>\n",
    "\n",
    "<p class='justified'>\n",
    "    <mark class='mono_gray'>Python</mark> é uma linguagem de programação <mark class='mono_gray'>orientada a objeto</mark>. Isso quer dizer que estamos sempre trabalhando com <mark class='mono_gray'>objetos</mark>. Esses <mark class='mono_gray'>objetos</mark> pertencem a diferentes <mark class='mono_gray'>classes</mark> e possuem suas próprias <mark class='mono_gray'>propriedades</mark> e <mark class='mono_gray'>métodos</mark>. Assim, quando escrevemos algo do tipo\n",
    "</p>\n",
    "\n",
    "```python\n",
    ">>> variavel_string = \"Eu sou uma string, um objeto. Minha classe é 'str'\".\n",
    "```\n",
    "\n",
    "<p class='justified'>\n",
    "    temos que a <mark class='mono_gray'>string</mark>, do lado direito, é um <mark class='mono_gray'>objeto</mark> da <mark class='mono_gray'>classe</mark> <mark class='mono_gray'>str</mark>, que possui suas <mark class='mono_gray'>propriedades</mark> e <mark class='mono_gray'>métodos</mark>. Do lado esquerdo, criamos uma <mark class='mono_gray'>variável</mark> que guarda o valor dessa <mark class='mono_gray'>string</mark>. Se analisarmos <mark class='mono_gray'>variavel_string</mark>, veremos que ela é da <mark class='mono_gray'>classe</mark> <mark class='mono_gray'>str</mark>\n",
    "</p>\n",
    "\n",
    "```python\n",
    ">>> print(variavel_string.__class__)\n",
    "str\n",
    "```\n",
    "\n",
    "<p class='justified'>\n",
    "    de maneira que a variável criada também possui todos as <mark class='mono_gray'>propriedades</mark> e <mark class='mono_gray'>métodos</mark> da <mark class='mono_gray'>classe</mark> <mark class='mono_gray'>str</mark>.\n",
    "</p>"
   ]
  },
  {
   "cell_type": "markdown",
   "metadata": {},
   "source": [
    "<p class='justified'>\n",
    "    Se observarmos acima, a <mark class='mono_gray'>função</mark> <mark class='mono_gray'>dir()</mark> retorna uma <mark class='mono_gray'>lista</mark> com todos as <mark class='mono_gray'>propriedades</mark> e <mark class='mono_gray'>métodos</mark> da <mark class='mono_gray'>classe</mark> <mark class='mono_gray'>str</mark>. Em <mark class='mono_gray'>python</mark>, uma <mark class='mono_gray'>lista</mark> faz parte de uma outra <mark class='mono_gray'>classe</mark>, chamada <mark class='mono_gray'>list</mark>. Essa nova <mark class='mono_gray'>classe</mark> seja nosso <mark class='mono_gray'>obejto</mark> de estudo na próxima seção.\n",
    "</p>"
   ]
  },
  {
   "cell_type": "markdown",
   "metadata": {},
   "source": [
    "---\n",
    "<a class='section' id='listas'></a>\n",
    "# Listas"
   ]
  },
  {
   "cell_type": "markdown",
   "metadata": {},
   "source": [
    "<p class='justified'>\n",
    "Uma das principais estruturas que veremos durante esse mini-curso é conhecida como <mark class='mono_gray'>list</mark>. Como seu próprio nome já diz, ela guarda diversos valores em uma estrutura de <mark class='mono_gray'>lista</mark>. Podemos criar uma lista usando colchetes <mark class='mono_gray'>[]</mark> e separando os valores por vírgula <mark class='mono_gray'>,</mark>:\n",
    "</p>\n",
    "\n",
    "```python\n",
    "# criamos a variável  ``primeira_lista`` e atribuímos a lista [4, 3, 2, 1, 0] a ela\n",
    ">>> primeira_lista = [4, 3, 2, 1, 0]\n",
    "# imprimimos a lista completa\n",
    ">>> print(primeira_lista)\n",
    "[4, 3, 2, 1, 0]\n",
    "```"
   ]
  },
  {
   "cell_type": "markdown",
   "metadata": {},
   "source": [
    "<p class='justified'>\n",
    "    Assim como fizemos em uma <mark class='mono_gray'>string</mark>, podemos usar a <mark class='mono_gray'>função</mark> <mark class='mono_gray'>len()</mark> para encontrar o número de elementos da <mark class='mono_gray'>lista</mark>:\n",
    "</p>\n",
    "\n",
    "```python\n",
    ">>> len(primeira_lista)\n",
    "5\n",
    "```"
   ]
  },
  {
   "cell_type": "markdown",
   "metadata": {},
   "source": [
    "<p class='justified'>\n",
    "    Podemos acessar cada um dos termos das <mark class='mono_gray'>lista</mark> usando o <mark class='mono_gray'>índice</mark> numérico entre colchetes na frente da lista. Por exemplo, no caso da <mark class='mono_gray'>primeira_lista</mark>, se quisermos acessar o primeiro termo usamos o seguinte código:\n",
    "</p>\n",
    "\n",
    "```python\n",
    "# acessamos o primeiro termo da lista e o imprimimos\n",
    ">>> print(primeira_lista[0])\n",
    "4\n",
    "```\n",
    "\n",
    "<p class='justified'>\n",
    "    Em <mark class='mono_gray'>python</mark> acessamos o primeiro índice usando o número <mark class='mono_gray'>0</mark>. Para acessar o segundo termo usamos o índice <mark class='mono_gray'>1</mark> e assim por diante. Podemos usar índices negativos também. Esses se referem à <mark class='mono_gray'>lista</mark> do começo para o fim. Por exemplo, para acessar o último termo da <mark class='mono_gray'>lista</mark>, usamos o <mark class='mono_gray'>índice</mark> <mark class='mono_gray'>-1</mark>:\n",
    "</p>\n",
    "\n",
    "```python\n",
    "# acessamos o último termo da lista e o imprimimos\n",
    ">>> print(primeira_lista[-1])\n",
    "0\n",
    "```\n",
    "\n",
    "<p class='justified'>\n",
    "Se tentarmos acessar um índice que não existe na lista, por exemplo, o índice <mark class='mono_gray'>5</mark> em <mark class='mono_gray'>primeira_lista</mark>, o seguinte erro aparece:\n",
    "</p>"
   ]
  },
  {
   "cell_type": "code",
   "execution_count": 138,
   "metadata": {
    "ExecuteTime": {
     "end_time": "2020-06-15T15:49:22.869125Z",
     "start_time": "2020-06-15T15:49:22.867256Z"
    }
   },
   "outputs": [],
   "source": [
    "# definimos nossa lista\n",
    "primeira_lista = [4, 3, 2, 1, 0]"
   ]
  },
  {
   "cell_type": "code",
   "execution_count": 139,
   "metadata": {
    "ExecuteTime": {
     "end_time": "2020-06-15T15:49:22.879262Z",
     "start_time": "2020-06-15T15:49:22.873239Z"
    }
   },
   "outputs": [
    {
     "ename": "IndexError",
     "evalue": "list index out of range",
     "output_type": "error",
     "traceback": [
      "\u001b[0;31m---------------------------------------------------------------------------\u001b[0m",
      "\u001b[0;31mIndexError\u001b[0m                                Traceback (most recent call last)",
      "\u001b[0;32m<ipython-input-139-a1e7134298d5>\u001b[0m in \u001b[0;36m<module>\u001b[0;34m\u001b[0m\n\u001b[1;32m      1\u001b[0m \u001b[0;31m# tentamos acessar um índice que não existe\u001b[0m\u001b[0;34m\u001b[0m\u001b[0;34m\u001b[0m\u001b[0;34m\u001b[0m\u001b[0m\n\u001b[0;32m----> 2\u001b[0;31m \u001b[0mprimeira_lista\u001b[0m\u001b[0;34m[\u001b[0m\u001b[0;36m5\u001b[0m\u001b[0;34m]\u001b[0m\u001b[0;34m\u001b[0m\u001b[0;34m\u001b[0m\u001b[0m\n\u001b[0m",
      "\u001b[0;31mIndexError\u001b[0m: list index out of range"
     ]
    }
   ],
   "source": [
    "# tentamos acessar um índice que não existe\n",
    "primeira_lista[5]"
   ]
  },
  {
   "cell_type": "markdown",
   "metadata": {},
   "source": [
    "<p class='justified'>\n",
    "    Podemos criar listas com diferentes tipos de <mark class='mono_gray'>objetos</mark>. Por exemplo, podemos ter em uma lista termos que são <mark class='mono_gray'>int</mark>, outros que são <mark class='mono_gray'>str</mark> e até mesmo outras <mark class='mono_gray'>list</mark>:\n",
    "    \n",
    "</p>\n",
    "\n",
    "```python\n",
    ">>> lista_mista = ['a', 10, 23, 'B', [1, 0, 'C']]\n",
    ">>> print(len(lista_mista))\n",
    "5\n",
    ">>> print(lista_mista[0])\n",
    "a\n",
    ">>> print(lista_mista[2])\n",
    "23\n",
    ">>> print(lista_mista[3])\n",
    "B\n",
    ">>> print(lista_mista[-1])\n",
    "[1, 0, 'C']\n",
    "```"
   ]
  },
  {
   "cell_type": "markdown",
   "metadata": {
    "ExecuteTime": {
     "end_time": "2020-06-05T21:47:37.260374Z",
     "start_time": "2020-06-05T21:47:37.258079Z"
    }
   },
   "source": [
    "<p class='justified'>\n",
    "Observe que o último termo dessa lista é outra lista. Desta forma, podemos acessar os seus índices da mesma forma:\n",
    "</p>\n",
    "\n",
    "```python\n",
    ">>> print(lista_mista[-1][2])\n",
    "C\n",
    "```\n",
    "\n",
    "<p class='justified'>\n",
    "Os códigos executados estão apresentados conforme segue:\n",
    "</p>"
   ]
  },
  {
   "cell_type": "code",
   "execution_count": 140,
   "metadata": {
    "ExecuteTime": {
     "end_time": "2020-06-15T15:49:23.641715Z",
     "start_time": "2020-06-15T15:49:23.639569Z"
    }
   },
   "outputs": [],
   "source": [
    "# definimos nossa lista\n",
    "lista_mista = ['a', 10, 23, 'B', 11, [1, 0, 'C', False], True, 37, 'D', 'F', 95]"
   ]
  },
  {
   "cell_type": "code",
   "execution_count": 141,
   "metadata": {
    "ExecuteTime": {
     "end_time": "2020-06-15T15:49:23.647756Z",
     "start_time": "2020-06-15T15:49:23.645335Z"
    }
   },
   "outputs": [
    {
     "data": {
      "text/plain": [
       "11"
      ]
     },
     "execution_count": 141,
     "metadata": {},
     "output_type": "execute_result"
    }
   ],
   "source": [
    "# inspecionamos o tamanho da lista\n",
    "len(lista_mista)"
   ]
  },
  {
   "cell_type": "code",
   "execution_count": 142,
   "metadata": {
    "ExecuteTime": {
     "end_time": "2020-06-15T15:49:23.654179Z",
     "start_time": "2020-06-15T15:49:23.651471Z"
    }
   },
   "outputs": [
    {
     "data": {
      "text/plain": [
       "'a'"
      ]
     },
     "execution_count": 142,
     "metadata": {},
     "output_type": "execute_result"
    }
   ],
   "source": [
    "# acessamos o primeiro termo da lista\n",
    "lista_mista[0]"
   ]
  },
  {
   "cell_type": "code",
   "execution_count": 143,
   "metadata": {
    "ExecuteTime": {
     "end_time": "2020-06-15T15:49:23.659970Z",
     "start_time": "2020-06-15T15:49:23.657707Z"
    }
   },
   "outputs": [
    {
     "data": {
      "text/plain": [
       "23"
      ]
     },
     "execution_count": 143,
     "metadata": {},
     "output_type": "execute_result"
    }
   ],
   "source": [
    "# acessamos o terceiro termo da lista\n",
    "lista_mista[2]"
   ]
  },
  {
   "cell_type": "code",
   "execution_count": 144,
   "metadata": {
    "ExecuteTime": {
     "end_time": "2020-06-15T15:49:23.666094Z",
     "start_time": "2020-06-15T15:49:23.663814Z"
    }
   },
   "outputs": [
    {
     "data": {
      "text/plain": [
       "'B'"
      ]
     },
     "execution_count": 144,
     "metadata": {},
     "output_type": "execute_result"
    }
   ],
   "source": [
    "# acessamos o quarto termo da lista\n",
    "lista_mista[3]"
   ]
  },
  {
   "cell_type": "code",
   "execution_count": 145,
   "metadata": {
    "ExecuteTime": {
     "end_time": "2020-06-15T15:49:23.672517Z",
     "start_time": "2020-06-15T15:49:23.670167Z"
    }
   },
   "outputs": [
    {
     "data": {
      "text/plain": [
       "95"
      ]
     },
     "execution_count": 145,
     "metadata": {},
     "output_type": "execute_result"
    }
   ],
   "source": [
    "# acessamos o último termo da lista\n",
    "lista_mista[-1]"
   ]
  },
  {
   "cell_type": "code",
   "execution_count": 146,
   "metadata": {
    "ExecuteTime": {
     "end_time": "2020-06-15T15:49:23.678581Z",
     "start_time": "2020-06-15T15:49:23.676159Z"
    }
   },
   "outputs": [
    {
     "data": {
      "text/plain": [
       "'C'"
      ]
     },
     "execution_count": 146,
     "metadata": {},
     "output_type": "execute_result"
    }
   ],
   "source": [
    "# acessamos o sexto elemento da lista\n",
    "# que por sua vez também é uma lista\n",
    "# e então acessamos o terceiro termo\n",
    "lista_mista[5][2]"
   ]
  },
  {
   "cell_type": "markdown",
   "metadata": {},
   "source": [
    "<p class='justified'>\n",
    "Podemos acessar trechos da lista e não apenas um elemento de cada vez. Para isso, especificamos, dentro do colchetes, um intervalo fechado à esquerda e aberto à direita, com os índices que queremos. Os índices devem estar separados por <mark class='mono_gray'>:</mark>. Por exemplo, vamos supor que queremos acessar os <mark class='mono_gray'>5</mark> primeiros termos de <mark class='mono_gray'>lista_mista</mark>:\n",
    "</p>"
   ]
  },
  {
   "cell_type": "code",
   "execution_count": 147,
   "metadata": {
    "ExecuteTime": {
     "end_time": "2020-06-15T15:49:24.068563Z",
     "start_time": "2020-06-15T15:49:24.066131Z"
    }
   },
   "outputs": [
    {
     "data": {
      "text/plain": [
       "['a', 10, 23, 'B', 11]"
      ]
     },
     "execution_count": 147,
     "metadata": {},
     "output_type": "execute_result"
    }
   ],
   "source": [
    "# acessamos os ``5`` primeiros termos de ``lista_mista``\n",
    "lista_mista[0:5]"
   ]
  },
  {
   "cell_type": "markdown",
   "metadata": {},
   "source": [
    "<p class='justified'>\n",
    "Se estivermos considerando o início da lista, não precisamos fornecer o índice <mark class='mono_gray'>0</mark>:\n",
    "</p>"
   ]
  },
  {
   "cell_type": "code",
   "execution_count": 148,
   "metadata": {
    "ExecuteTime": {
     "end_time": "2020-06-15T15:49:24.455791Z",
     "start_time": "2020-06-15T15:49:24.453228Z"
    }
   },
   "outputs": [
    {
     "data": {
      "text/plain": [
       "['a', 10, 23, 'B', 11]"
      ]
     },
     "execution_count": 148,
     "metadata": {},
     "output_type": "execute_result"
    }
   ],
   "source": [
    "lista_mista[:5]"
   ]
  },
  {
   "cell_type": "markdown",
   "metadata": {},
   "source": [
    "<p class='justified'>\n",
    "Se quisermos escolher um trecho da lista que consiste de um certo elemento até o último da lista, não precisamos especificar o segundo índice:\n",
    "</p>"
   ]
  },
  {
   "cell_type": "code",
   "execution_count": 149,
   "metadata": {
    "ExecuteTime": {
     "end_time": "2020-06-15T15:49:24.845192Z",
     "start_time": "2020-06-15T15:49:24.842646Z"
    }
   },
   "outputs": [
    {
     "data": {
      "text/plain": [
       "[[1, 0, 'C', False], True, 37, 'D', 'F', 95]"
      ]
     },
     "execution_count": 149,
     "metadata": {},
     "output_type": "execute_result"
    }
   ],
   "source": [
    "lista_mista[5:]"
   ]
  },
  {
   "cell_type": "markdown",
   "metadata": {},
   "source": [
    "<p class='justified'>\n",
    "Também é possível selecionar os termos de um intervalo da lista pulando alguns elementos. Para isso, adicionamos um outro <mark class='mono_gray'>:,/mark> e colocamos o tamanho da janela que queremos selecionar:\n",
    "</p>"
   ]
  },
  {
   "cell_type": "code",
   "execution_count": 150,
   "metadata": {
    "ExecuteTime": {
     "end_time": "2020-06-15T15:49:25.234835Z",
     "start_time": "2020-06-15T15:49:25.232316Z"
    }
   },
   "outputs": [
    {
     "data": {
      "text/plain": [
       "['a', 23, 11]"
      ]
     },
     "execution_count": 150,
     "metadata": {},
     "output_type": "execute_result"
    }
   ],
   "source": [
    "lista_mista[:5:2]"
   ]
  },
  {
   "cell_type": "markdown",
   "metadata": {},
   "source": [
    "<p class='justified'>\n",
    "Vamos analisar o que ocorreu aqui por partes:\n",
    "</p>\n",
    "\n",
    "```python\n",
    "1º - selecionamos os cinco primeiros termos da lista: ['a', 10, 23, 'B', 11]\n",
    "2º - especificamos uma janela de tamanho 2 para filtrar os termos\n",
    "3º - Essa janela irá percorrer a lista de 2 em 2 termos e selecionar o primeiro termo da janela:\n",
    "    1ª janela: ['a', 10] -> 'a'\n",
    "    2ª janela: [23, 'B'] -> 10\n",
    "    3º janela: [11]      -> 11\n",
    "4º retorna a lista com os termos selecionados em cada janela: ['a', 23, 11]\n",
    "```\n",
    "\n",
    "<p class='justified'>\n",
    "    Agora é sua vez! Selecione os cinco primeiros termos de <mark class='mono_gray'>lista_mista</mark> escolhendo intervalo de tamanho 3.\n",
    "</p>"
   ]
  },
  {
   "cell_type": "code",
   "execution_count": 151,
   "metadata": {
    "ExecuteTime": {
     "end_time": "2020-06-15T15:49:25.626148Z",
     "start_time": "2020-06-15T15:49:25.624543Z"
    }
   },
   "outputs": [],
   "source": [
    "# digite seu código aqui\n"
   ]
  },
  {
   "cell_type": "markdown",
   "metadata": {},
   "source": [
    "<p class='justified'>\n",
    "Não conseguiu? <b>Clique duas vezes aqui</b> e dê uma espiada na resposta 😁\n",
    "</p>\n",
    "\n",
    "<!-- \n",
    "\n",
    "lista_mista[:4:3]\n",
    "\n",
    "-->"
   ]
  },
  {
   "cell_type": "markdown",
   "metadata": {},
   "source": [
    "<p class='justified'>\n",
    "Podemos selecionar os termos do final da <mark class='mono_gray'>lista</mark> para o começo também, basta começarmos pelo último termo usando <mark class='mono_gray'>-1</mark>, irmos até o termo que estamos interessados e usar o intervalo <mark class='mono_gray'>-1</mark>:\n",
    "</p>"
   ]
  },
  {
   "cell_type": "code",
   "execution_count": 152,
   "metadata": {
    "ExecuteTime": {
     "end_time": "2020-06-15T15:49:26.407960Z",
     "start_time": "2020-06-15T15:49:26.405326Z"
    }
   },
   "outputs": [
    {
     "data": {
      "text/plain": [
       "[95, 'F', 'D', 37]"
      ]
     },
     "execution_count": 152,
     "metadata": {},
     "output_type": "execute_result"
    }
   ],
   "source": [
    "# varrendo a lista de trás para frente\n",
    "lista_mista[-1:-5:-1]"
   ]
  },
  {
   "cell_type": "markdown",
   "metadata": {},
   "source": [
    "<p class='justified'>\n",
    "Podemos também considerar tamanhos de janelas diferentes, basta colocar o terceiro termo negativo com o tamanho desejado:\n",
    "</p>"
   ]
  },
  {
   "cell_type": "code",
   "execution_count": 153,
   "metadata": {
    "ExecuteTime": {
     "end_time": "2020-06-15T15:49:26.800894Z",
     "start_time": "2020-06-15T15:49:26.798262Z"
    }
   },
   "outputs": [
    {
     "data": {
      "text/plain": [
       "[95, 'D']"
      ]
     },
     "execution_count": 153,
     "metadata": {},
     "output_type": "execute_result"
    }
   ],
   "source": [
    "# varrendo a lista ao contrário com uma janela de tamanho 2\n",
    "lista_mista[-1:-5:-2]"
   ]
  },
  {
   "cell_type": "markdown",
   "metadata": {},
   "source": [
    "<p class='justified'>\n",
    "    Se você lembrar, <a href='#string_len'>usamos</a> a <mark class='mono_gray'>função</mark> <mark class='mono_gray'>len()</mark> para medir o tamanho de uma <mark class='mono_gray'>string</mark>. A <mark class='mono_gray'>classe</mark> <mark class='mono_gray'>str</mark> funciona em certo aspecto como uma <mark class='mono_gray'>lista</mark>. Podemos acessar caracteres individuais de uma <mark class='mono_gray'>string</mark> por meio de índices, assim como feito em uma lista:\n",
    "</p>\n",
    "\n",
    "```python\n",
    ">>> string_numeros = \"0123456789\"\n",
    ">>> print(string_numeros)\n",
    "0123456789\n",
    ">>> print(len(string_numeros))\n",
    "10\n",
    ">>> print(string_numeros[3])\n",
    "3\n",
    "```\n",
    "\n",
    "<p class='justified'>\n",
    "Veja o código executado nas células a seguir:\n",
    "</p>"
   ]
  },
  {
   "cell_type": "code",
   "execution_count": 154,
   "metadata": {
    "ExecuteTime": {
     "end_time": "2020-06-15T15:49:27.195316Z",
     "start_time": "2020-06-15T15:49:27.193534Z"
    }
   },
   "outputs": [],
   "source": [
    "# definimos nossa lista\n",
    "string_numeros = \"0123456789\""
   ]
  },
  {
   "cell_type": "code",
   "execution_count": 155,
   "metadata": {
    "ExecuteTime": {
     "end_time": "2020-06-15T15:49:27.201520Z",
     "start_time": "2020-06-15T15:49:27.199185Z"
    }
   },
   "outputs": [
    {
     "data": {
      "text/plain": [
       "'0123456789'"
      ]
     },
     "execution_count": 155,
     "metadata": {},
     "output_type": "execute_result"
    }
   ],
   "source": [
    "# imprimimos a lista\n",
    "string_numeros"
   ]
  },
  {
   "cell_type": "code",
   "execution_count": 156,
   "metadata": {
    "ExecuteTime": {
     "end_time": "2020-06-15T15:49:27.207856Z",
     "start_time": "2020-06-15T15:49:27.205437Z"
    }
   },
   "outputs": [
    {
     "data": {
      "text/plain": [
       "10"
      ]
     },
     "execution_count": 156,
     "metadata": {},
     "output_type": "execute_result"
    }
   ],
   "source": [
    "# inspecionamos o tamanho da ``string``\n",
    "len(string_numeros)"
   ]
  },
  {
   "cell_type": "code",
   "execution_count": 157,
   "metadata": {
    "ExecuteTime": {
     "end_time": "2020-06-15T15:49:27.213684Z",
     "start_time": "2020-06-15T15:49:27.211395Z"
    }
   },
   "outputs": [
    {
     "data": {
      "text/plain": [
       "'3'"
      ]
     },
     "execution_count": 157,
     "metadata": {},
     "output_type": "execute_result"
    }
   ],
   "source": [
    "# acessamos o quarto caracter da ``string``\n",
    "string_numeros[3]"
   ]
  },
  {
   "cell_type": "code",
   "execution_count": 158,
   "metadata": {
    "ExecuteTime": {
     "end_time": "2020-06-15T15:49:27.219937Z",
     "start_time": "2020-06-15T15:49:27.217420Z"
    }
   },
   "outputs": [
    {
     "data": {
      "text/plain": [
       "'02468'"
      ]
     },
     "execution_count": 158,
     "metadata": {},
     "output_type": "execute_result"
    }
   ],
   "source": [
    "# podemos selecionar somente alguns termos da lista usando uma janela de tamanho 2\n",
    "string_numeros[::2]"
   ]
  },
  {
   "cell_type": "markdown",
   "metadata": {},
   "source": [
    "<a class='cell' id='sum_list'></a>\n",
    "<p class='justified'>\n",
    "    Assim como <a href='#str_concatenate'>fizemos</a> com <mark class='mono_gray'>strings</mark>, também podemos adicionar <mark class='mono_gray'>listas</mark>:\n",
    "</p>\n",
    "\n",
    "```python\n",
    ">>> lista_1 = [0, 1]\n",
    ">>> lista_2 = [2, 3]\n",
    ">>> lista_3 = lista_1 + lista_2\n",
    ">>> print(lista_3)\n",
    "[0, 1, 2, 3]\n",
    "```\n",
    "\n",
    "<p class='justified'>\n",
    "Vemos que o resultado é uma nova lista. Veja os códigos executados:\n",
    "</p>"
   ]
  },
  {
   "cell_type": "code",
   "execution_count": 159,
   "metadata": {
    "ExecuteTime": {
     "end_time": "2020-06-15T15:49:27.620464Z",
     "start_time": "2020-06-15T15:49:27.618409Z"
    }
   },
   "outputs": [],
   "source": [
    "# definimos a primeira lista\n",
    "lista_1 = [0, 1]\n",
    "# definimos a segunda lista\n",
    "lista_2 = [2, 3]"
   ]
  },
  {
   "cell_type": "code",
   "execution_count": 160,
   "metadata": {
    "ExecuteTime": {
     "end_time": "2020-06-15T15:49:27.626835Z",
     "start_time": "2020-06-15T15:49:27.624440Z"
    }
   },
   "outputs": [
    {
     "data": {
      "text/plain": [
       "[0, 1]"
      ]
     },
     "execution_count": 160,
     "metadata": {},
     "output_type": "execute_result"
    }
   ],
   "source": [
    "# inpsecionamos a ``lista_1``\n",
    "lista_1"
   ]
  },
  {
   "cell_type": "code",
   "execution_count": 161,
   "metadata": {
    "ExecuteTime": {
     "end_time": "2020-06-15T15:49:27.632765Z",
     "start_time": "2020-06-15T15:49:27.630443Z"
    }
   },
   "outputs": [
    {
     "data": {
      "text/plain": [
       "[2, 3]"
      ]
     },
     "execution_count": 161,
     "metadata": {},
     "output_type": "execute_result"
    }
   ],
   "source": [
    "# inspecionamos a ``lista_2``\n",
    "lista_2"
   ]
  },
  {
   "cell_type": "code",
   "execution_count": 162,
   "metadata": {
    "ExecuteTime": {
     "end_time": "2020-06-15T15:49:27.639359Z",
     "start_time": "2020-06-15T15:49:27.636691Z"
    }
   },
   "outputs": [
    {
     "data": {
      "text/plain": [
       "[0, 1, 2, 3]"
      ]
     },
     "execution_count": 162,
     "metadata": {},
     "output_type": "execute_result"
    }
   ],
   "source": [
    "# criamos ``lista_3`` e atribuímos o valor da soma das duas listas anteriores\n",
    "lista_3 = lista_1 + lista_2\n",
    "\n",
    "# inspecionamos a ``lista_3``\n",
    "lista_3"
   ]
  },
  {
   "cell_type": "markdown",
   "metadata": {},
   "source": [
    "<p class='justified'>\n",
    "Se quisermos deletar algum termo da lista, podemos usar o operador <mark class='mono_gray'>del</mark> como <a href='#del'>fizemos</a> para deletar uma variável:\n",
    "</p>\n",
    "\n",
    "```python\n",
    ">>> print(lista_3)\n",
    "[0, 1, 2, 3]\n",
    ">>> del lista_3[2]\n",
    ">>> print(lista_3)\n",
    "[0, 1, 3]\n",
    "```\n",
    "\n",
    "<p class='justified'>\n",
    "Os códigos a serem executados são:\n",
    "</p>"
   ]
  },
  {
   "cell_type": "code",
   "execution_count": 163,
   "metadata": {
    "ExecuteTime": {
     "end_time": "2020-06-15T15:49:28.044867Z",
     "start_time": "2020-06-15T15:49:28.042588Z"
    }
   },
   "outputs": [
    {
     "data": {
      "text/plain": [
       "[0, 1, 2, 3]"
      ]
     },
     "execution_count": 163,
     "metadata": {},
     "output_type": "execute_result"
    }
   ],
   "source": [
    "# inspecionamos o valor da ``lista_3`` definida previamente pela soma de duas listas\n",
    "lista_3"
   ]
  },
  {
   "cell_type": "code",
   "execution_count": 164,
   "metadata": {
    "ExecuteTime": {
     "end_time": "2020-06-15T15:49:28.050020Z",
     "start_time": "2020-06-15T15:49:28.048330Z"
    }
   },
   "outputs": [],
   "source": [
    "# vamos deletar o terceiro termo da lista\n",
    "# lembre-se que os índices da lista começam em 0\n",
    "del lista_3[2]"
   ]
  },
  {
   "cell_type": "code",
   "execution_count": 165,
   "metadata": {
    "ExecuteTime": {
     "end_time": "2020-06-15T15:49:28.057451Z",
     "start_time": "2020-06-15T15:49:28.054681Z"
    }
   },
   "outputs": [
    {
     "data": {
      "text/plain": [
       "[0, 1, 3]"
      ]
     },
     "execution_count": 165,
     "metadata": {},
     "output_type": "execute_result"
    }
   ],
   "source": [
    "# inspecionamos a lista novamente\n",
    "lista_3"
   ]
  },
  {
   "cell_type": "markdown",
   "metadata": {
    "ExecuteTime": {
     "end_time": "2020-06-05T23:36:06.652176Z",
     "start_time": "2020-06-05T23:36:06.648940Z"
    }
   },
   "source": [
    "<p class='justified'>\n",
    "Observe que o terceiro termo da lista foi deletado. \n",
    "</p>"
   ]
  },
  {
   "cell_type": "markdown",
   "metadata": {},
   "source": [
    "<p class='justified'>\n",
    "    Podemos efetuar diversas outras operações com listas. Para ver a lista de <mark class='mono_gray'>propriedades</mark> e <mark class='mono_gray'>métodos</mark>:\n",
    "</p>"
   ]
  },
  {
   "cell_type": "code",
   "execution_count": 166,
   "metadata": {
    "ExecuteTime": {
     "end_time": "2020-06-15T15:49:28.860750Z",
     "start_time": "2020-06-15T15:49:28.857909Z"
    }
   },
   "outputs": [
    {
     "data": {
      "text/plain": [
       "['__add__',\n",
       " '__class__',\n",
       " '__contains__',\n",
       " '__delattr__',\n",
       " '__delitem__',\n",
       " '__dir__',\n",
       " '__doc__',\n",
       " '__eq__',\n",
       " '__format__',\n",
       " '__ge__',\n",
       " '__getattribute__',\n",
       " '__getitem__',\n",
       " '__gt__',\n",
       " '__hash__',\n",
       " '__iadd__',\n",
       " '__imul__',\n",
       " '__init__',\n",
       " '__init_subclass__',\n",
       " '__iter__',\n",
       " '__le__',\n",
       " '__len__',\n",
       " '__lt__',\n",
       " '__mul__',\n",
       " '__ne__',\n",
       " '__new__',\n",
       " '__reduce__',\n",
       " '__reduce_ex__',\n",
       " '__repr__',\n",
       " '__reversed__',\n",
       " '__rmul__',\n",
       " '__setattr__',\n",
       " '__setitem__',\n",
       " '__sizeof__',\n",
       " '__str__',\n",
       " '__subclasshook__',\n",
       " 'append',\n",
       " 'clear',\n",
       " 'copy',\n",
       " 'count',\n",
       " 'extend',\n",
       " 'index',\n",
       " 'insert',\n",
       " 'pop',\n",
       " 'remove',\n",
       " 'reverse',\n",
       " 'sort']"
      ]
     },
     "execution_count": 166,
     "metadata": {},
     "output_type": "execute_result"
    }
   ],
   "source": [
    "dir(list)"
   ]
  },
  {
   "cell_type": "markdown",
   "metadata": {},
   "source": [
    "<p class='justified'>\n",
    "    A seguir iremos aplicar alguns <mark class='mono_gray'>métodos</mark> em uma <mark class='mono_gray'>lista</mark>.\n",
    "</p>"
   ]
  },
  {
   "cell_type": "code",
   "execution_count": 167,
   "metadata": {
    "ExecuteTime": {
     "end_time": "2020-06-15T15:49:28.868567Z",
     "start_time": "2020-06-15T15:49:28.865891Z"
    }
   },
   "outputs": [],
   "source": [
    "# criamos uma lista com vários elementos repetidos\n",
    "lista_teste = [1, 2, 3, 4, 5, \n",
    "                  2, 3, 4, 5,\n",
    "                     3, 4, 5,\n",
    "                        4, 5,\n",
    "                           5]"
   ]
  },
  {
   "cell_type": "code",
   "execution_count": 168,
   "metadata": {
    "ExecuteTime": {
     "end_time": "2020-06-15T15:49:28.874486Z",
     "start_time": "2020-06-15T15:49:28.872060Z"
    }
   },
   "outputs": [
    {
     "data": {
      "text/plain": [
       "[1, 2, 3, 4, 5, 2, 3, 4, 5, 3, 4, 5, 4, 5, 5]"
      ]
     },
     "execution_count": 168,
     "metadata": {},
     "output_type": "execute_result"
    }
   ],
   "source": [
    "# veja como fica a lista criada\n",
    "lista_teste"
   ]
  },
  {
   "cell_type": "code",
   "execution_count": 169,
   "metadata": {
    "ExecuteTime": {
     "end_time": "2020-06-15T15:49:28.879783Z",
     "start_time": "2020-06-15T15:49:28.878157Z"
    }
   },
   "outputs": [],
   "source": [
    "# podemos ordenar a lista em ordem crescente\n",
    "lista_teste.sort()"
   ]
  },
  {
   "cell_type": "code",
   "execution_count": 170,
   "metadata": {
    "ExecuteTime": {
     "end_time": "2020-06-15T15:49:28.886770Z",
     "start_time": "2020-06-15T15:49:28.884206Z"
    }
   },
   "outputs": [
    {
     "data": {
      "text/plain": [
       "[1, 2, 2, 3, 3, 3, 4, 4, 4, 4, 5, 5, 5, 5, 5]"
      ]
     },
     "execution_count": 170,
     "metadata": {},
     "output_type": "execute_result"
    }
   ],
   "source": [
    "# inspecionamos a lista e vemos que ela está em ordem crescente\n",
    "lista_teste"
   ]
  },
  {
   "cell_type": "code",
   "execution_count": 171,
   "metadata": {
    "ExecuteTime": {
     "end_time": "2020-06-15T15:49:28.892499Z",
     "start_time": "2020-06-15T15:49:28.890643Z"
    }
   },
   "outputs": [],
   "source": [
    "# ou se preferir em ordem decrescente\n",
    "lista_teste.sort(reverse=True)"
   ]
  },
  {
   "cell_type": "code",
   "execution_count": 172,
   "metadata": {
    "ExecuteTime": {
     "end_time": "2020-06-15T15:49:28.899576Z",
     "start_time": "2020-06-15T15:49:28.896914Z"
    }
   },
   "outputs": [
    {
     "data": {
      "text/plain": [
       "[5, 5, 5, 5, 5, 4, 4, 4, 4, 3, 3, 3, 2, 2, 1]"
      ]
     },
     "execution_count": 172,
     "metadata": {},
     "output_type": "execute_result"
    }
   ],
   "source": [
    "# inspecionamos a lista e vemos que ela está em ordem decrescente\n",
    "lista_teste"
   ]
  },
  {
   "cell_type": "code",
   "execution_count": 173,
   "metadata": {
    "ExecuteTime": {
     "end_time": "2020-06-15T15:49:28.906060Z",
     "start_time": "2020-06-15T15:49:28.903560Z"
    }
   },
   "outputs": [
    {
     "data": {
      "text/plain": [
       "5"
      ]
     },
     "execution_count": 173,
     "metadata": {},
     "output_type": "execute_result"
    }
   ],
   "source": [
    "# contamos quantas vezes ``5`` ocorre na lista\n",
    "lista_teste.count(5)"
   ]
  },
  {
   "cell_type": "code",
   "execution_count": 174,
   "metadata": {
    "ExecuteTime": {
     "end_time": "2020-06-15T15:49:28.911656Z",
     "start_time": "2020-06-15T15:49:28.909911Z"
    }
   },
   "outputs": [],
   "source": [
    "# removemos a primeira ocorrência do termo ``5``\n",
    "lista_teste.remove(5)"
   ]
  },
  {
   "cell_type": "code",
   "execution_count": 175,
   "metadata": {
    "ExecuteTime": {
     "end_time": "2020-06-15T15:49:28.918911Z",
     "start_time": "2020-06-15T15:49:28.916291Z"
    }
   },
   "outputs": [
    {
     "data": {
      "text/plain": [
       "4"
      ]
     },
     "execution_count": 175,
     "metadata": {},
     "output_type": "execute_result"
    }
   ],
   "source": [
    "# contamos novamente quantas vezes ``5`` ocorre na lista\n",
    "lista_teste.count(5)"
   ]
  },
  {
   "cell_type": "code",
   "execution_count": 176,
   "metadata": {
    "ExecuteTime": {
     "end_time": "2020-06-15T15:49:28.925304Z",
     "start_time": "2020-06-15T15:49:28.922707Z"
    }
   },
   "outputs": [
    {
     "data": {
      "text/plain": [
       "[5, 5, 5, 5, 4, 4, 4, 4, 3, 3, 3, 2, 2, 1]"
      ]
     },
     "execution_count": 176,
     "metadata": {},
     "output_type": "execute_result"
    }
   ],
   "source": [
    "# inspecionamos a lista e vemos que um ``5`` foi removido\n",
    "lista_teste"
   ]
  },
  {
   "cell_type": "markdown",
   "metadata": {},
   "source": [
    "<p class='justified'>\n",
    "    Também podemos remover um item da lista pelo índice. Para isso, usamos o método <mark class='mono_gray'>pop()</mark>, fornecendo como argumento o índice desejado. Esse <mark class='mono_gray'>método</mark> nos retorna o valor no índice fornecido e o remove da lista:\n",
    "</p>"
   ]
  },
  {
   "cell_type": "code",
   "execution_count": 177,
   "metadata": {
    "ExecuteTime": {
     "end_time": "2020-06-15T15:49:29.344512Z",
     "start_time": "2020-06-15T15:49:29.341619Z"
    }
   },
   "outputs": [
    {
     "data": {
      "text/plain": [
       "3"
      ]
     },
     "execution_count": 177,
     "metadata": {},
     "output_type": "execute_result"
    }
   ],
   "source": [
    "# removemos o termo que se encontra no oitavo índice da lista\n",
    "lista_teste.pop(8)"
   ]
  },
  {
   "cell_type": "code",
   "execution_count": 178,
   "metadata": {
    "ExecuteTime": {
     "end_time": "2020-06-15T15:49:29.350649Z",
     "start_time": "2020-06-15T15:49:29.347790Z"
    }
   },
   "outputs": [
    {
     "data": {
      "text/plain": [
       "[5, 5, 5, 5, 4, 4, 4, 4, 3, 3, 2, 2, 1]"
      ]
     },
     "execution_count": 178,
     "metadata": {},
     "output_type": "execute_result"
    }
   ],
   "source": [
    "# inspecionamos a lista e vemos que um ``3`` foi removido\n",
    "lista_teste"
   ]
  },
  {
   "cell_type": "code",
   "execution_count": 179,
   "metadata": {
    "ExecuteTime": {
     "end_time": "2020-06-15T15:49:29.356667Z",
     "start_time": "2020-06-15T15:49:29.354570Z"
    }
   },
   "outputs": [],
   "source": [
    "# podemos adicionar os termos de uma outra lista de maneira implicita\n",
    "lista_teste.extend([6, 7, 8, 9])"
   ]
  },
  {
   "cell_type": "code",
   "execution_count": 180,
   "metadata": {
    "ExecuteTime": {
     "end_time": "2020-06-15T15:49:29.363537Z",
     "start_time": "2020-06-15T15:49:29.360800Z"
    }
   },
   "outputs": [
    {
     "data": {
      "text/plain": [
       "[5, 5, 5, 5, 4, 4, 4, 4, 3, 3, 2, 2, 1, 6, 7, 8, 9]"
      ]
     },
     "execution_count": 180,
     "metadata": {},
     "output_type": "execute_result"
    }
   ],
   "source": [
    "# inspecionamos a lista e vemos que ela foi extendida\n",
    "lista_teste"
   ]
  },
  {
   "cell_type": "code",
   "execution_count": 181,
   "metadata": {
    "ExecuteTime": {
     "end_time": "2020-06-15T15:49:29.369109Z",
     "start_time": "2020-06-15T15:49:29.367236Z"
    }
   },
   "outputs": [],
   "source": [
    "# ou podemos adicionar um termo no final da lista\n",
    "lista_teste.append([10, 11, 12, 13])"
   ]
  },
  {
   "cell_type": "code",
   "execution_count": 182,
   "metadata": {
    "ExecuteTime": {
     "end_time": "2020-06-15T15:49:29.376408Z",
     "start_time": "2020-06-15T15:49:29.373793Z"
    }
   },
   "outputs": [
    {
     "data": {
      "text/plain": [
       "[5, 5, 5, 5, 4, 4, 4, 4, 3, 3, 2, 2, 1, 6, 7, 8, 9, [10, 11, 12, 13]]"
      ]
     },
     "execution_count": 182,
     "metadata": {},
     "output_type": "execute_result"
    }
   ],
   "source": [
    "# inspecionamos a lista e vemos que um novo termo foi adicionado no final\n",
    "lista_teste"
   ]
  },
  {
   "cell_type": "markdown",
   "metadata": {},
   "source": [
    "<p class='justified'>\n",
    "    Veja a diferença entre os <mark class='mono_gray'>métodos</mark> <mark class='mono_gray'>extend()</mark> e <mark class='mono_gray'>append()</mark>. O primeiro adiciona todos os termos do argumento fornecido (<mark class='mono_gray'>[6, 7, 8, 9]</mark>) como diversos termos novos da lista. O segundo adiciona o argumento (<mark class='mono_gray'>[10, 11, 12, 13]</mark>) como um termo apenas, na última posição da <mark class='mono_gray'>lista</mark>.\n",
    "</p>"
   ]
  },
  {
   "cell_type": "markdown",
   "metadata": {},
   "source": [
    "<p class='justified'>\n",
    "    Também podemos inserir um <mark class='mono_gray'>objeto</mark> em um índice específico da lista. Para isso, usamos o método <mark class='mono_gray'>insert()</mark>, fornecendo dois argumentos: o índice e o <mark class='mono_gray'>objeto</mark>.\n",
    "</p>"
   ]
  },
  {
   "cell_type": "code",
   "execution_count": 183,
   "metadata": {
    "ExecuteTime": {
     "end_time": "2020-06-15T15:49:30.224029Z",
     "start_time": "2020-06-15T15:49:30.222055Z"
    }
   },
   "outputs": [],
   "source": [
    "# iremos inserir a lista [23, 17] no índice 2 da lista, ou seja, como o terceiro termo\n",
    "lista_teste.insert(2, [23,17])"
   ]
  },
  {
   "cell_type": "code",
   "execution_count": 184,
   "metadata": {
    "ExecuteTime": {
     "end_time": "2020-06-15T15:49:30.232510Z",
     "start_time": "2020-06-15T15:49:30.228590Z"
    }
   },
   "outputs": [
    {
     "data": {
      "text/plain": [
       "[5, 5, [23, 17], 5, 5, 4, 4, 4, 4, 3, 3, 2, 2, 1, 6, 7, 8, 9, [10, 11, 12, 13]]"
      ]
     },
     "execution_count": 184,
     "metadata": {},
     "output_type": "execute_result"
    }
   ],
   "source": [
    "# inspecionamos a lista e vemos que ``[23, 17]`` foi adicionado ao índice ``2``\n",
    "lista_teste"
   ]
  },
  {
   "cell_type": "code",
   "execution_count": 185,
   "metadata": {
    "ExecuteTime": {
     "end_time": "2020-06-15T15:49:30.236564Z",
     "start_time": "2020-06-15T15:49:30.234790Z"
    }
   },
   "outputs": [],
   "source": [
    "# podemos também inverter os termos da lista\n",
    "lista_teste.reverse()"
   ]
  },
  {
   "cell_type": "code",
   "execution_count": 186,
   "metadata": {
    "ExecuteTime": {
     "end_time": "2020-06-15T15:49:30.245111Z",
     "start_time": "2020-06-15T15:49:30.241804Z"
    }
   },
   "outputs": [
    {
     "data": {
      "text/plain": [
       "[[10, 11, 12, 13], 9, 8, 7, 6, 1, 2, 2, 3, 3, 4, 4, 4, 4, 5, 5, [23, 17], 5, 5]"
      ]
     },
     "execution_count": 186,
     "metadata": {},
     "output_type": "execute_result"
    }
   ],
   "source": [
    "# inspecionamos a lista\n",
    "lista_teste"
   ]
  },
  {
   "cell_type": "markdown",
   "metadata": {},
   "source": [
    "<p class='justified'>\n",
    "Também podemos alterar termos das listas selecionando o termo que queremos substituir com a notação <mark class='mono_gray'>[]</mark> e então atribuir o novo valor à esse índice:\n",
    "</p>"
   ]
  },
  {
   "cell_type": "code",
   "execution_count": 187,
   "metadata": {
    "ExecuteTime": {
     "end_time": "2020-06-15T15:49:30.678598Z",
     "start_time": "2020-06-15T15:49:30.676271Z"
    }
   },
   "outputs": [],
   "source": [
    "# vamos substituir a lista ``[10, 11, 12, 13]`` no índice ``0`` pelo caracter 'A'\n",
    "lista_teste[0] = 'A'"
   ]
  },
  {
   "cell_type": "code",
   "execution_count": 188,
   "metadata": {
    "ExecuteTime": {
     "end_time": "2020-06-15T15:49:30.686380Z",
     "start_time": "2020-06-15T15:49:30.683029Z"
    }
   },
   "outputs": [
    {
     "data": {
      "text/plain": [
       "['A', 9, 8, 7, 6, 1, 2, 2, 3, 3, 4, 4, 4, 4, 5, 5, [23, 17], 5, 5]"
      ]
     },
     "execution_count": 188,
     "metadata": {},
     "output_type": "execute_result"
    }
   ],
   "source": [
    "# inspecionamos a lista e vemos que o termo no índice ``0`` foi substituído\n",
    "lista_teste"
   ]
  },
  {
   "cell_type": "markdown",
   "metadata": {},
   "source": [
    "<p class='justified'>\n",
    "    Se você se lembrar, quando <a href='#str_method_not_in_place'>aplicamos métodos em <mark class='mono_gray'>strings</mark></a>, as mudanças não eram aplicadas diretamente ao <mark class='mono_gray'>objeto</mark> em questão. Contudo, quando aplicamos os <mark class='mono_gray'>métodos</mark> em uma <mark class='mono_gray'>lista</mark>, a mudança é feita diretamente no <mark class='mono_gray'>objeto</mark>, alterando seu valor, como se reescrevessemos a variável novamente. Esse tipo de ação é chamada de <mark class='mono_gray'>in place</mark>, ou seja, quando um método atua no próprio <mark class='mono_gray'>objeto</mark> o alterando.\n",
    "</p>"
   ]
  },
  {
   "cell_type": "markdown",
   "metadata": {},
   "source": [
    "<p class='justified'>\n",
    "Existem dois operadores que podem ser usados em operações com listas. O <mark class='mono_gray'>in</mark> nos diz se um certo termo é encontrado na lista em questão e o <mark class='mono_gray'>not in</mark> se o valor não é encontrado. Para exemplificar como esses operadores funcionam, vamos usar a seguinte lista como exemplo:\n",
    "</p>"
   ]
  },
  {
   "cell_type": "code",
   "execution_count": 189,
   "metadata": {
    "ExecuteTime": {
     "end_time": "2020-06-15T15:49:31.548504Z",
     "start_time": "2020-06-15T15:49:31.544275Z"
    }
   },
   "outputs": [
    {
     "data": {
      "text/plain": [
       "[0, 1, 2, 3, 4, 5, 6, 7, 8, 9]"
      ]
     },
     "execution_count": 189,
     "metadata": {},
     "output_type": "execute_result"
    }
   ],
   "source": [
    "# criamos uma lista exemplo\n",
    "lista_exemplo = [0, 1, 2, 3, 4, 5, 6, 7, 8, 9]\n",
    "lista_exemplo"
   ]
  },
  {
   "cell_type": "code",
   "execution_count": 190,
   "metadata": {
    "ExecuteTime": {
     "end_time": "2020-06-15T15:49:31.557322Z",
     "start_time": "2020-06-15T15:49:31.551459Z"
    }
   },
   "outputs": [
    {
     "data": {
      "text/plain": [
       "True"
      ]
     },
     "execution_count": 190,
     "metadata": {},
     "output_type": "execute_result"
    }
   ],
   "source": [
    "# vamos verificar se o número 3 existe na lista\n",
    "3 in lista_exemplo"
   ]
  },
  {
   "cell_type": "markdown",
   "metadata": {},
   "source": [
    "<p class='justified'>\n",
    "    O valor retornado é <mark class='mono_gray'>True</mark>, pois o número <mark class='mono_gray'>3</mark> existe na lista. Se procurarmos pelo número <mark class='mono_gray'>10</mark>:\n",
    "</p>"
   ]
  },
  {
   "cell_type": "code",
   "execution_count": 191,
   "metadata": {
    "ExecuteTime": {
     "end_time": "2020-06-15T15:49:32.002722Z",
     "start_time": "2020-06-15T15:49:32.000158Z"
    }
   },
   "outputs": [
    {
     "data": {
      "text/plain": [
       "False"
      ]
     },
     "execution_count": 191,
     "metadata": {},
     "output_type": "execute_result"
    }
   ],
   "source": [
    "10 in lista_exemplo"
   ]
  },
  {
   "cell_type": "markdown",
   "metadata": {},
   "source": [
    "<p class='justified'>\n",
    "    O valor retornado é <mark class='mono_gray'>False</mark>, pois não existe o número <mark class='mono_gray'>10</mark> na lista.\n",
    "</p>"
   ]
  },
  {
   "cell_type": "markdown",
   "metadata": {},
   "source": [
    "<p class='justified'>\n",
    "    O operador <mark class='mono_gray'>not in</mark> funciona como o contrário do operador <mark class='mono_gray'>in</mark>. Por exemplo, vamos perguntar se o número <mark class='mono_gray'>3</mark> não está na lista:\n",
    "</p>"
   ]
  },
  {
   "cell_type": "code",
   "execution_count": 192,
   "metadata": {
    "ExecuteTime": {
     "end_time": "2020-06-15T15:49:32.862142Z",
     "start_time": "2020-06-15T15:49:32.858916Z"
    }
   },
   "outputs": [
    {
     "data": {
      "text/plain": [
       "False"
      ]
     },
     "execution_count": 192,
     "metadata": {},
     "output_type": "execute_result"
    }
   ],
   "source": [
    "3 not in lista_exemplo"
   ]
  },
  {
   "cell_type": "markdown",
   "metadata": {},
   "source": [
    "<p class='justified'>\n",
    "    O valor retornado é <mark class='mono_gray'>False</mark>, pois o número <mark class='mono_gray'>3</mark> está presente na lista. Já se perguntarmos se o número <mark class='mono_gray'>10</mark> não está na lista:\n",
    "</p>"
   ]
  },
  {
   "cell_type": "code",
   "execution_count": 193,
   "metadata": {
    "ExecuteTime": {
     "end_time": "2020-06-15T15:49:33.300065Z",
     "start_time": "2020-06-15T15:49:33.296816Z"
    }
   },
   "outputs": [
    {
     "data": {
      "text/plain": [
       "True"
      ]
     },
     "execution_count": 193,
     "metadata": {},
     "output_type": "execute_result"
    }
   ],
   "source": [
    "10 not in lista_exemplo"
   ]
  },
  {
   "cell_type": "markdown",
   "metadata": {},
   "source": [
    "<p class='justified'>\n",
    "Vemos que o valor retornado é <mark class='mono_gray'>True</mark>, pois o número <mark class='mono_gray'>10</mark> não é encontrado na lista.\n",
    "</p>"
   ]
  },
  {
   "cell_type": "markdown",
   "metadata": {},
   "source": [
    "---\n",
    "<a class='section' id='tuplas'></a>\n",
    "# Tuplas"
   ]
  },
  {
   "cell_type": "markdown",
   "metadata": {},
   "source": [
    "<p class='justified'>\n",
    "    <mark class='mono_gray'>Tuplas</mark> são praticamente igual às <mark class='mono_gray'>listas</mark>. Elas são um conjunto de <mark class='mono_gray'>objetos</mark> que se encontram separados por <mark class='mono_gray'>,</mark> dentro de parênteses <mark class='mono_gray'>()</mark>:\n",
    "</p>"
   ]
  },
  {
   "cell_type": "code",
   "execution_count": 194,
   "metadata": {
    "ExecuteTime": {
     "end_time": "2020-06-15T15:49:34.598473Z",
     "start_time": "2020-06-15T15:49:34.595480Z"
    }
   },
   "outputs": [
    {
     "data": {
      "text/plain": [
       "(0, 1, 2, 3, 4)"
      ]
     },
     "execution_count": 194,
     "metadata": {},
     "output_type": "execute_result"
    }
   ],
   "source": [
    "# vamos criar nossa primeira tupla\n",
    "tupla_1 = (0, 1, 2, 3, 4)\n",
    "# repetimos a variável para ela ser imprimida na tela\n",
    "tupla_1"
   ]
  },
  {
   "cell_type": "markdown",
   "metadata": {},
   "source": [
    "<p class='justified'>\n",
    "    Se inspecionarmos qual o <mark class='mono_gray'>tipo</mark> ou <mark class='mono_gray'>classe</mark> desse novo <mark class='mono_gray'>objeto</mark>, obtemos:\n",
    "</p>"
   ]
  },
  {
   "cell_type": "code",
   "execution_count": 195,
   "metadata": {
    "ExecuteTime": {
     "end_time": "2020-06-15T15:49:35.035490Z",
     "start_time": "2020-06-15T15:49:35.032654Z"
    }
   },
   "outputs": [
    {
     "data": {
      "text/plain": [
       "tuple"
      ]
     },
     "execution_count": 195,
     "metadata": {},
     "output_type": "execute_result"
    }
   ],
   "source": [
    "type(tupla_1)"
   ]
  },
  {
   "cell_type": "markdown",
   "metadata": {},
   "source": [
    "<p class='justified'>\n",
    "    Seu tamanho também pode ser obtido por meio da <mark class='mono_gray'>função</mark> <mark class='mono_gray'>len()</mark>:\n",
    "</p>"
   ]
  },
  {
   "cell_type": "code",
   "execution_count": 196,
   "metadata": {
    "ExecuteTime": {
     "end_time": "2020-06-15T15:49:35.469552Z",
     "start_time": "2020-06-15T15:49:35.466826Z"
    }
   },
   "outputs": [
    {
     "data": {
      "text/plain": [
       "5"
      ]
     },
     "execution_count": 196,
     "metadata": {},
     "output_type": "execute_result"
    }
   ],
   "source": [
    "len(tupla_1)"
   ]
  },
  {
   "cell_type": "markdown",
   "metadata": {},
   "source": [
    "<p class='justified'>\n",
    "    Ela possui propriedades parecidas com as <mark class='mono_gray'>listas</mark>. Por exemplos, podemos somar duas <mark class='mono_gray'>tuplas</mark>:\n",
    "</p>"
   ]
  },
  {
   "cell_type": "code",
   "execution_count": 197,
   "metadata": {
    "ExecuteTime": {
     "end_time": "2020-06-15T15:49:35.909529Z",
     "start_time": "2020-06-15T15:49:35.906168Z"
    }
   },
   "outputs": [
    {
     "data": {
      "text/plain": [
       "(0, 1, 2, 3, 4, 3, 4, 5, 6, 7)"
      ]
     },
     "execution_count": 197,
     "metadata": {},
     "output_type": "execute_result"
    }
   ],
   "source": [
    "# criamos outra tupla para somar com tupla_1 definida acima\n",
    "tupla_2 = (3, 4, 5, 6, 7)\n",
    "\n",
    "# somamos tupla_1 e tupla_2 e guardamos o valor em tupla_3\n",
    "tupla_3 = tupla_1 + tupla_2\n",
    "tupla_3"
   ]
  },
  {
   "cell_type": "markdown",
   "metadata": {},
   "source": [
    "<p class='justified'>\n",
    "    Podemos acessar termos dentro de uma tupla da mesma forma que fizemos com as listas, fornecendo índices na frente dela usando <mark class='mono_gray'>[]</mark>:\n",
    "</p>"
   ]
  },
  {
   "cell_type": "code",
   "execution_count": 198,
   "metadata": {
    "ExecuteTime": {
     "end_time": "2020-06-15T15:49:36.347770Z",
     "start_time": "2020-06-15T15:49:36.345109Z"
    }
   },
   "outputs": [
    {
     "data": {
      "text/plain": [
       "4"
      ]
     },
     "execution_count": 198,
     "metadata": {},
     "output_type": "execute_result"
    }
   ],
   "source": [
    "# acessando o quinto termo da tupla\n",
    "# lembre-se que os índices começam em ``0``\n",
    "tupla_3[4]"
   ]
  },
  {
   "cell_type": "code",
   "execution_count": 199,
   "metadata": {
    "ExecuteTime": {
     "end_time": "2020-06-15T15:49:36.353950Z",
     "start_time": "2020-06-15T15:49:36.351271Z"
    }
   },
   "outputs": [
    {
     "data": {
      "text/plain": [
       "(3, 4, 3, 4)"
      ]
     },
     "execution_count": 199,
     "metadata": {},
     "output_type": "execute_result"
    }
   ],
   "source": [
    "# também podemos acessar um trecho da tupla usando ``:``\n",
    "tupla_3[3:7]"
   ]
  },
  {
   "cell_type": "code",
   "execution_count": 200,
   "metadata": {
    "ExecuteTime": {
     "end_time": "2020-06-15T15:49:36.360119Z",
     "start_time": "2020-06-15T15:49:36.357783Z"
    }
   },
   "outputs": [
    {
     "data": {
      "text/plain": [
       "(0, 3, 4, 7)"
      ]
     },
     "execution_count": 200,
     "metadata": {},
     "output_type": "execute_result"
    }
   ],
   "source": [
    "# e usar intervalos para selecionar apenas alguns valores\n",
    "tupla_3[::3]"
   ]
  },
  {
   "cell_type": "markdown",
   "metadata": {},
   "source": [
    "Os índices para selecionar valores do final para o começo da ``tupla`` também funcionam:"
   ]
  },
  {
   "cell_type": "code",
   "execution_count": 201,
   "metadata": {
    "ExecuteTime": {
     "end_time": "2020-06-15T15:49:36.804970Z",
     "start_time": "2020-06-15T15:49:36.802337Z"
    }
   },
   "outputs": [
    {
     "data": {
      "text/plain": [
       "(7, 6, 5, 4)"
      ]
     },
     "execution_count": 201,
     "metadata": {},
     "output_type": "execute_result"
    }
   ],
   "source": [
    "# lembre-se de que temos que adicionar o intervalo negativo\n",
    "tupla_3[-1:-5:-1]"
   ]
  },
  {
   "cell_type": "markdown",
   "metadata": {},
   "source": [
    "<p class='justified'>\n",
    "    As <mark class='mono_gray'>tuplas</mark> também podem ter <mark class='mono_gray'>objetos</mark>diferentes, por exemplo, <mark class='mono_gray'>int</mark>, <mark class='mono_gray'>str</mark>, <mark class='mono_gray'>list</mark> e <mark class='mono_gray'>bool</mark>:\n",
    "</p>"
   ]
  },
  {
   "cell_type": "code",
   "execution_count": 202,
   "metadata": {
    "ExecuteTime": {
     "end_time": "2020-06-15T15:49:37.249641Z",
     "start_time": "2020-06-15T15:49:37.247566Z"
    }
   },
   "outputs": [],
   "source": [
    "# definindo uma ``tupla`` com diferentes objetos\n",
    "tupla_mista = (0, 1, 'a', 27, [0, 1], True, 'C')"
   ]
  },
  {
   "cell_type": "markdown",
   "metadata": {},
   "source": [
    "<p class='justified'>\n",
    "    Também podemos usar os operadores <mark class='mono_gray'>in</mark> e <mark class='mono_gray'>not in</mark> para ver se existem ou não os termos de interesse nas tuplas:\n",
    "</p>"
   ]
  },
  {
   "cell_type": "code",
   "execution_count": 203,
   "metadata": {
    "ExecuteTime": {
     "end_time": "2020-06-15T15:49:37.690323Z",
     "start_time": "2020-06-15T15:49:37.687933Z"
    }
   },
   "outputs": [
    {
     "data": {
      "text/plain": [
       "True"
      ]
     },
     "execution_count": 203,
     "metadata": {},
     "output_type": "execute_result"
    }
   ],
   "source": [
    "# procuramos por ``True`` na tupla_mista\n",
    "True in tupla_mista"
   ]
  },
  {
   "cell_type": "code",
   "execution_count": 204,
   "metadata": {
    "ExecuteTime": {
     "end_time": "2020-06-15T15:49:37.696280Z",
     "start_time": "2020-06-15T15:49:37.693768Z"
    }
   },
   "outputs": [
    {
     "data": {
      "text/plain": [
       "True"
      ]
     },
     "execution_count": 204,
     "metadata": {},
     "output_type": "execute_result"
    }
   ],
   "source": [
    "# perguntamos se o número 37 não existe em tupla_mista\n",
    "37 not in tupla_mista"
   ]
  },
  {
   "cell_type": "markdown",
   "metadata": {},
   "source": [
    "<p class='justified'>\n",
    "    Podemos transformar uma <mark class='mono_gray'>tupla</mark> em <mark class='mono_gray'>lista</mark>:\n",
    "</p>"
   ]
  },
  {
   "cell_type": "code",
   "execution_count": 205,
   "metadata": {
    "ExecuteTime": {
     "end_time": "2020-06-15T15:49:38.144402Z",
     "start_time": "2020-06-15T15:49:38.141710Z"
    }
   },
   "outputs": [
    {
     "data": {
      "text/plain": [
       "[0, 1, 'a', 27, [0, 1], True, 'C']"
      ]
     },
     "execution_count": 205,
     "metadata": {},
     "output_type": "execute_result"
    }
   ],
   "source": [
    "list(tupla_mista)"
   ]
  },
  {
   "cell_type": "markdown",
   "metadata": {},
   "source": [
    "<p class='justified'>\n",
    "Veja que a representação muda de modo que os termos agora estão entre colchetes <mark class='mono_gray'>[]</mark>.\n",
    "</p>"
   ]
  },
  {
   "cell_type": "markdown",
   "metadata": {},
   "source": [
    "<p class='justified'>\n",
    "    Da mesma forma podemos transformar uma <mark class='mono_gray'>lista</mark> em uma <mark class='mono_gray'>tupla</mark>:\n",
    "</p>"
   ]
  },
  {
   "cell_type": "code",
   "execution_count": 206,
   "metadata": {
    "ExecuteTime": {
     "end_time": "2020-06-15T15:49:39.033116Z",
     "start_time": "2020-06-15T15:49:39.030402Z"
    }
   },
   "outputs": [
    {
     "data": {
      "text/plain": [
       "(0, 1, 2, 3)"
      ]
     },
     "execution_count": 206,
     "metadata": {},
     "output_type": "execute_result"
    }
   ],
   "source": [
    "tuple([0, 1, 2, 3])"
   ]
  },
  {
   "cell_type": "markdown",
   "metadata": {},
   "source": [
    "<p class='justified'>\n",
    "A principal diferença entre <mark class='mono_gray'>tuplas</mark> e <mark class='mono_gray'>listas</mark> é que uma vez que uma <mark class='mono_gray'>tupla</mark> é criada, ela não pode ser modificada de nenhuma forma, seja adicionando ou removendo termos dela. Se tentarmos, por exemplo, deletar um dos termos da <mark class='mono_gray'>tupla</mark>, veja o que ocorre:\n",
    "</p>"
   ]
  },
  {
   "cell_type": "code",
   "execution_count": 207,
   "metadata": {
    "ExecuteTime": {
     "end_time": "2020-06-15T15:49:39.484429Z",
     "start_time": "2020-06-15T15:49:39.480433Z"
    }
   },
   "outputs": [
    {
     "ename": "TypeError",
     "evalue": "'tuple' object doesn't support item deletion",
     "output_type": "error",
     "traceback": [
      "\u001b[0;31m---------------------------------------------------------------------------\u001b[0m",
      "\u001b[0;31mTypeError\u001b[0m                                 Traceback (most recent call last)",
      "\u001b[0;32m<ipython-input-207-e3cb51316a94>\u001b[0m in \u001b[0;36m<module>\u001b[0;34m\u001b[0m\n\u001b[1;32m      1\u001b[0m \u001b[0;31m# tentamos deletar o termo que se encontra no índice 3 da tupla_mista\u001b[0m\u001b[0;34m\u001b[0m\u001b[0;34m\u001b[0m\u001b[0;34m\u001b[0m\u001b[0m\n\u001b[0;32m----> 2\u001b[0;31m \u001b[0;32mdel\u001b[0m \u001b[0mtupla_mista\u001b[0m\u001b[0;34m[\u001b[0m\u001b[0;36m3\u001b[0m\u001b[0;34m]\u001b[0m\u001b[0;34m\u001b[0m\u001b[0;34m\u001b[0m\u001b[0m\n\u001b[0m",
      "\u001b[0;31mTypeError\u001b[0m: 'tuple' object doesn't support item deletion"
     ]
    }
   ],
   "source": [
    "# tentamos deletar o termo que se encontra no índice 3 da tupla_mista\n",
    "del tupla_mista[3]"
   ]
  },
  {
   "cell_type": "markdown",
   "metadata": {},
   "source": [
    "<p class='justified'>\n",
    "    O erro <mark class='mono_gray'>TypeError</mark> é retornado, dizendo que os <mark class='mono_gray'>objetos tuplas</mark> não suportam a exclusão de itens. Também não conseguimos alterar seus valores:\n",
    "</p>"
   ]
  },
  {
   "cell_type": "code",
   "execution_count": 208,
   "metadata": {
    "ExecuteTime": {
     "end_time": "2020-06-15T15:49:39.942100Z",
     "start_time": "2020-06-15T15:49:39.936508Z"
    }
   },
   "outputs": [
    {
     "ename": "TypeError",
     "evalue": "'tuple' object does not support item assignment",
     "output_type": "error",
     "traceback": [
      "\u001b[0;31m---------------------------------------------------------------------------\u001b[0m",
      "\u001b[0;31mTypeError\u001b[0m                                 Traceback (most recent call last)",
      "\u001b[0;32m<ipython-input-208-664c869946fb>\u001b[0m in \u001b[0;36m<module>\u001b[0;34m\u001b[0m\n\u001b[1;32m      1\u001b[0m \u001b[0;31m# tentativa de substituir um termo da tupla\u001b[0m\u001b[0;34m\u001b[0m\u001b[0;34m\u001b[0m\u001b[0;34m\u001b[0m\u001b[0m\n\u001b[0;32m----> 2\u001b[0;31m \u001b[0mtupla_mista\u001b[0m\u001b[0;34m[\u001b[0m\u001b[0;36m3\u001b[0m\u001b[0;34m]\u001b[0m \u001b[0;34m=\u001b[0m \u001b[0;34m'A'\u001b[0m\u001b[0;34m\u001b[0m\u001b[0;34m\u001b[0m\u001b[0m\n\u001b[0m",
      "\u001b[0;31mTypeError\u001b[0m: 'tuple' object does not support item assignment"
     ]
    }
   ],
   "source": [
    "# tentativa de substituir um termo da tupla\n",
    "tupla_mista[3] = 'A'"
   ]
  },
  {
   "cell_type": "markdown",
   "metadata": {},
   "source": [
    "<p class='justified'>\n",
    "    Recebemos novamente um <mark class='mono_gray'>TypeError</mark>, nos informando que <mark class='mono_gray'>tuplas</mark> não permitem a reatribuição de valores de seus termos.\n",
    "</p>"
   ]
  },
  {
   "cell_type": "markdown",
   "metadata": {},
   "source": [
    "<p class='justified'>\n",
    "    Dessa forma, dizemos que as <mark class='mono_gray'>tuplas</mark> são estruturas ordenadas imutáveis.\n",
    "</p>"
   ]
  },
  {
   "cell_type": "markdown",
   "metadata": {},
   "source": [
    "<p class='justified'>\n",
    "    Observe o que ocorre se quisermos criar uma <mark class='mono_gray'>tupla</mark> com apenas um termo:\n",
    "</p>"
   ]
  },
  {
   "cell_type": "code",
   "execution_count": 209,
   "metadata": {
    "ExecuteTime": {
     "end_time": "2020-06-15T15:49:41.295214Z",
     "start_time": "2020-06-15T15:49:41.293399Z"
    }
   },
   "outputs": [],
   "source": [
    "# tentamos criar uma tupla de um único termo\n",
    "tupla_de_um_termo = (1)"
   ]
  },
  {
   "cell_type": "markdown",
   "metadata": {},
   "source": [
    "<p class='justified'>\n",
    "Contudo, veja o que ocorre ao inspecionarmos o tipo da variável <mark class='mono_gray'>tupla_de_um_termo</mark>:\n",
    "</p>"
   ]
  },
  {
   "cell_type": "code",
   "execution_count": 210,
   "metadata": {
    "ExecuteTime": {
     "end_time": "2020-06-15T15:49:41.750775Z",
     "start_time": "2020-06-15T15:49:41.748324Z"
    }
   },
   "outputs": [
    {
     "data": {
      "text/plain": [
       "int"
      ]
     },
     "execution_count": 210,
     "metadata": {},
     "output_type": "execute_result"
    }
   ],
   "source": [
    "type(tupla_de_um_termo)"
   ]
  },
  {
   "cell_type": "markdown",
   "metadata": {},
   "source": [
    "<p class='justified'>\n",
    "    É retornado <mark class='mono_gray'>int</mark>, ou seja, não criamos uma <mark class='mono_gray'>tupla</mark>. Para que sejamos bem sucedidos em tal tarefa, devemos adicionar uma vírgula após o primeiro e único termo:\n",
    "</p>"
   ]
  },
  {
   "cell_type": "code",
   "execution_count": 211,
   "metadata": {
    "ExecuteTime": {
     "end_time": "2020-06-15T15:49:42.379817Z",
     "start_time": "2020-06-15T15:49:42.377957Z"
    }
   },
   "outputs": [],
   "source": [
    "# mais um tentativa de criar uma tupla de um único termo\n",
    "tupla_de_um_termo_2 = (1,)"
   ]
  },
  {
   "cell_type": "markdown",
   "metadata": {},
   "source": [
    "<p class='justified'>\n",
    "    Se inspecionarmos o <mark class='mono_gray'>tipo</mark> dessa variável:\n",
    "</p>"
   ]
  },
  {
   "cell_type": "code",
   "execution_count": 212,
   "metadata": {
    "ExecuteTime": {
     "end_time": "2020-06-15T15:49:42.837903Z",
     "start_time": "2020-06-15T15:49:42.835202Z"
    }
   },
   "outputs": [
    {
     "data": {
      "text/plain": [
       "tuple"
      ]
     },
     "execution_count": 212,
     "metadata": {},
     "output_type": "execute_result"
    }
   ],
   "source": [
    "type(tupla_de_um_termo_2)"
   ]
  },
  {
   "cell_type": "markdown",
   "metadata": {},
   "source": [
    "<p class='justified'>\n",
    "Vemos que ela é uma <mark class='mono_gray'>tupla</mark>!\n",
    "</p>"
   ]
  },
  {
   "cell_type": "markdown",
   "metadata": {},
   "source": [
    "---\n",
    "<a class='section' id='sets'></a>\n",
    "# Sets"
   ]
  },
  {
   "cell_type": "markdown",
   "metadata": {},
   "source": [
    "<p class='justified'>\n",
    "    <mark class='mono_gray'>Sets</mark> também é um <mark class='mono_gray'>objeto</mark> que representa uma coleção ordenada de <mark class='mono_gray'>objetos</mark>. Eles são criados colocando <mark class='mono_gray'>objetos</mark> separados por <mark class='mono_gray'>,</mark> entre chaves <mark class='mono_gray'>{}</mark>:\n",
    "</p>"
   ]
  },
  {
   "cell_type": "code",
   "execution_count": 213,
   "metadata": {
    "ExecuteTime": {
     "end_time": "2020-06-15T15:49:44.207553Z",
     "start_time": "2020-06-15T15:49:44.205601Z"
    }
   },
   "outputs": [],
   "source": [
    "# criando nosso primeiro set\n",
    "set_1 = {4, 3, 2, 1, 0}"
   ]
  },
  {
   "cell_type": "markdown",
   "metadata": {},
   "source": [
    "<p class='justified'>\n",
    "    Se inspecionarmos qual o <mark class='mono_gray'>tipo</mark> ou <mark class='mono_gray'>classe</mark> desse novo <mark class='mono_gray'>objeto</mark>, obtemos:\n",
    "</p>"
   ]
  },
  {
   "cell_type": "code",
   "execution_count": 214,
   "metadata": {
    "ExecuteTime": {
     "end_time": "2020-06-15T15:49:44.669372Z",
     "start_time": "2020-06-15T15:49:44.666898Z"
    }
   },
   "outputs": [
    {
     "data": {
      "text/plain": [
       "set"
      ]
     },
     "execution_count": 214,
     "metadata": {},
     "output_type": "execute_result"
    }
   ],
   "source": [
    "type(set_1)"
   ]
  },
  {
   "cell_type": "markdown",
   "metadata": {},
   "source": [
    "<p class='justified'>\n",
    "    Observe que criamos o <mark class='mono_gray'>set</mark> com uma contagem regressiva de valores. Contudo, observe o que ocorre quando inspecionamos a variável:\n",
    "<p>"
   ]
  },
  {
   "cell_type": "code",
   "execution_count": 215,
   "metadata": {
    "ExecuteTime": {
     "end_time": "2020-06-15T15:49:45.139651Z",
     "start_time": "2020-06-15T15:49:45.137206Z"
    }
   },
   "outputs": [
    {
     "data": {
      "text/plain": [
       "{0, 1, 2, 3, 4}"
      ]
     },
     "execution_count": 215,
     "metadata": {},
     "output_type": "execute_result"
    }
   ],
   "source": [
    "set_1"
   ]
  },
  {
   "cell_type": "markdown",
   "metadata": {},
   "source": [
    "<p class='justified'>\n",
    "    Quando criamos um <mark class='mono_gray'>set</mark>, seus termos são automaticamente ordenados. Além disso, <mark class='mono_gray'>sets</mark> não possuem valores repetidos:\n",
    "</p>"
   ]
  },
  {
   "cell_type": "code",
   "execution_count": 216,
   "metadata": {
    "ExecuteTime": {
     "end_time": "2020-06-15T15:49:45.598326Z",
     "start_time": "2020-06-15T15:49:45.595451Z"
    }
   },
   "outputs": [
    {
     "data": {
      "text/plain": [
       "{5, 6, 7, 8, 9}"
      ]
     },
     "execution_count": 216,
     "metadata": {},
     "output_type": "execute_result"
    }
   ],
   "source": [
    "set_2 = {9, 8, 7, 6, 5, 5, 6, 7, 8, 9}\n",
    "set_2"
   ]
  },
  {
   "cell_type": "markdown",
   "metadata": {
    "ExecuteTime": {
     "end_time": "2020-06-06T20:41:03.301917Z",
     "start_time": "2020-06-06T20:41:03.296398Z"
    }
   },
   "source": [
    "<p class='justified'>\n",
    "    Podemos usar a <mark class='mono_gray'>função</mark> <mark class='mono_gray'>len()</mark> para verificar quantos termos existem no <mark class='mono_gray'>set</mark>: \n",
    "</p>"
   ]
  },
  {
   "cell_type": "code",
   "execution_count": 217,
   "metadata": {
    "ExecuteTime": {
     "end_time": "2020-06-15T15:49:46.076483Z",
     "start_time": "2020-06-15T15:49:46.073962Z"
    }
   },
   "outputs": [
    {
     "data": {
      "text/plain": [
       "5"
      ]
     },
     "execution_count": 217,
     "metadata": {},
     "output_type": "execute_result"
    }
   ],
   "source": [
    "len(set_2)"
   ]
  },
  {
   "cell_type": "markdown",
   "metadata": {},
   "source": [
    "Também é possível fazer as seguintes conversões:\n",
    "\n",
    "```python\n",
    "set para list : list({1, 2, 3})   -> [1, 2, 3]\n",
    "set para tuple: tuple({1, 2, 3,}) -> (1, 2, 3)\n",
    "```\n",
    "\n",
    "e vice-versa."
   ]
  },
  {
   "cell_type": "markdown",
   "metadata": {},
   "source": [
    "<p class='justified'>\n",
    "    Apesar de suas vantagens, não é possível acessar os termos de um <mark class='mono_gray'>set</mark> via <mark class='mono_gray'>índices</mark>:\n",
    "</p>"
   ]
  },
  {
   "cell_type": "code",
   "execution_count": 218,
   "metadata": {
    "ExecuteTime": {
     "end_time": "2020-06-15T15:49:47.002756Z",
     "start_time": "2020-06-15T15:49:46.998223Z"
    }
   },
   "outputs": [
    {
     "ename": "TypeError",
     "evalue": "'set' object is not subscriptable",
     "output_type": "error",
     "traceback": [
      "\u001b[0;31m---------------------------------------------------------------------------\u001b[0m",
      "\u001b[0;31mTypeError\u001b[0m                                 Traceback (most recent call last)",
      "\u001b[0;32m<ipython-input-218-26384db42387>\u001b[0m in \u001b[0;36m<module>\u001b[0;34m\u001b[0m\n\u001b[0;32m----> 1\u001b[0;31m \u001b[0mset_2\u001b[0m\u001b[0;34m[\u001b[0m\u001b[0;36m0\u001b[0m\u001b[0;34m]\u001b[0m\u001b[0;34m\u001b[0m\u001b[0;34m\u001b[0m\u001b[0m\n\u001b[0m",
      "\u001b[0;31mTypeError\u001b[0m: 'set' object is not subscriptable"
     ]
    }
   ],
   "source": [
    "set_2[0]"
   ]
  },
  {
   "cell_type": "markdown",
   "metadata": {},
   "source": [
    "<p class='justified'>\n",
    "    Veja que um <mark class='mono_gray'>TypeError</mark> é retornado nos dizendo que <mark class='mono_gray'>objetos</mark> do tipo <mark class='mono_gray'>set</mark> não suportam indexação. Esse tipo de <mark class='mono_gray'>objeto</mark> também pode ser criado com <mark class='mono_gray'>objetos</mark> mistos:\n",
    "</p>"
   ]
  },
  {
   "cell_type": "code",
   "execution_count": 219,
   "metadata": {
    "ExecuteTime": {
     "end_time": "2020-06-15T15:49:47.477346Z",
     "start_time": "2020-06-15T15:49:47.472547Z"
    }
   },
   "outputs": [
    {
     "data": {
      "text/plain": [
       "{(1, 0), (3, 2), 0, 17, 23, 27, 'B', 'D', True, 'a', 'c'}"
      ]
     },
     "execution_count": 219,
     "metadata": {},
     "output_type": "execute_result"
    }
   ],
   "source": [
    "set_misto = {'a', 27, 'D', 23, True, 17, 0, 'B', 1, 'c', False, (1, 0), (3, 2), (1, 0)}\n",
    "set_misto"
   ]
  },
  {
   "cell_type": "markdown",
   "metadata": {},
   "source": [
    "<p class='justified'>\n",
    "    Contanto que seus termos não sejam outros <mark class='mono_gray'>objetos</mark> com estruturas ordenadas, como <mark class='mono_gray'>list</mark> e o próprio <mark class='mono_gray'>set</mark>:\n",
    "</p>"
   ]
  },
  {
   "cell_type": "code",
   "execution_count": 220,
   "metadata": {
    "ExecuteTime": {
     "end_time": "2020-06-15T15:49:47.943828Z",
     "start_time": "2020-06-15T15:49:47.939601Z"
    }
   },
   "outputs": [
    {
     "ename": "TypeError",
     "evalue": "unhashable type: 'list'",
     "output_type": "error",
     "traceback": [
      "\u001b[0;31m---------------------------------------------------------------------------\u001b[0m",
      "\u001b[0;31mTypeError\u001b[0m                                 Traceback (most recent call last)",
      "\u001b[0;32m<ipython-input-220-03b322a7539a>\u001b[0m in \u001b[0;36m<module>\u001b[0;34m\u001b[0m\n\u001b[0;32m----> 1\u001b[0;31m \u001b[0;34m{\u001b[0m\u001b[0;36m0\u001b[0m\u001b[0;34m,\u001b[0m \u001b[0;36m3\u001b[0m\u001b[0;34m,\u001b[0m \u001b[0;36m2\u001b[0m\u001b[0;34m,\u001b[0m \u001b[0;34m[\u001b[0m\u001b[0;36m0\u001b[0m\u001b[0;34m,\u001b[0m\u001b[0;36m1\u001b[0m\u001b[0;34m]\u001b[0m\u001b[0;34m}\u001b[0m\u001b[0;34m\u001b[0m\u001b[0;34m\u001b[0m\u001b[0m\n\u001b[0m",
      "\u001b[0;31mTypeError\u001b[0m: unhashable type: 'list'"
     ]
    }
   ],
   "source": [
    "{0, 3, 2, [0,1]}"
   ]
  },
  {
   "cell_type": "code",
   "execution_count": 221,
   "metadata": {
    "ExecuteTime": {
     "end_time": "2020-06-15T15:49:48.050212Z",
     "start_time": "2020-06-15T15:49:48.045805Z"
    }
   },
   "outputs": [
    {
     "ename": "TypeError",
     "evalue": "unhashable type: 'set'",
     "output_type": "error",
     "traceback": [
      "\u001b[0;31m---------------------------------------------------------------------------\u001b[0m",
      "\u001b[0;31mTypeError\u001b[0m                                 Traceback (most recent call last)",
      "\u001b[0;32m<ipython-input-221-b19b7775991d>\u001b[0m in \u001b[0;36m<module>\u001b[0;34m\u001b[0m\n\u001b[0;32m----> 1\u001b[0;31m \u001b[0;34m{\u001b[0m\u001b[0;36m0\u001b[0m\u001b[0;34m,\u001b[0m \u001b[0;36m3\u001b[0m\u001b[0;34m,\u001b[0m \u001b[0;36m2\u001b[0m\u001b[0;34m,\u001b[0m \u001b[0;34m{\u001b[0m\u001b[0;36m0\u001b[0m\u001b[0;34m,\u001b[0m\u001b[0;36m1\u001b[0m\u001b[0;34m}\u001b[0m\u001b[0;34m}\u001b[0m\u001b[0;34m\u001b[0m\u001b[0;34m\u001b[0m\u001b[0m\n\u001b[0m",
      "\u001b[0;31mTypeError\u001b[0m: unhashable type: 'set'"
     ]
    }
   ],
   "source": [
    "{0, 3, 2, {0,1}}"
   ]
  },
  {
   "cell_type": "markdown",
   "metadata": {},
   "source": [
    "<p class='justified'>\n",
    "    Apesar disso, podemos remover termos de um <mark class='mono_gray'>set</mark>. Para isso, podemos usar o <mark class='mono_gray'>método</mark> <mark class='mono_gray'>remove()</mark>, que recebe um argumento sendo o termo que queremos remover do <mark class='mono_gray'>set</mark>\n",
    "</p>"
   ]
  },
  {
   "cell_type": "code",
   "execution_count": 222,
   "metadata": {
    "ExecuteTime": {
     "end_time": "2020-06-15T15:49:48.416708Z",
     "start_time": "2020-06-15T15:49:48.414849Z"
    }
   },
   "outputs": [],
   "source": [
    "# vamos redefinir o set_1 só para lembrar o que tem nele\n",
    "set_1 = {0, 1, 2, 3, 4}"
   ]
  },
  {
   "cell_type": "code",
   "execution_count": 223,
   "metadata": {
    "ExecuteTime": {
     "end_time": "2020-06-15T15:49:48.424103Z",
     "start_time": "2020-06-15T15:49:48.422330Z"
    }
   },
   "outputs": [],
   "source": [
    "# vamos remover o termo ``1``\n",
    "set_1.remove(1)"
   ]
  },
  {
   "cell_type": "code",
   "execution_count": 224,
   "metadata": {
    "ExecuteTime": {
     "end_time": "2020-06-15T15:49:48.432091Z",
     "start_time": "2020-06-15T15:49:48.429704Z"
    }
   },
   "outputs": [
    {
     "data": {
      "text/plain": [
       "{0, 2, 3, 4}"
      ]
     },
     "execution_count": 224,
     "metadata": {},
     "output_type": "execute_result"
    }
   ],
   "source": [
    "set_1"
   ]
  },
  {
   "cell_type": "markdown",
   "metadata": {},
   "source": [
    "<p class='justified'>\n",
    "Se tentamos remover um termo que não existe:\n",
    "</p>"
   ]
  },
  {
   "cell_type": "code",
   "execution_count": 225,
   "metadata": {
    "ExecuteTime": {
     "end_time": "2020-06-15T15:49:48.903823Z",
     "start_time": "2020-06-15T15:49:48.899611Z"
    }
   },
   "outputs": [
    {
     "ename": "KeyError",
     "evalue": "10",
     "output_type": "error",
     "traceback": [
      "\u001b[0;31m---------------------------------------------------------------------------\u001b[0m",
      "\u001b[0;31mKeyError\u001b[0m                                  Traceback (most recent call last)",
      "\u001b[0;32m<ipython-input-225-43ea9c1cd88f>\u001b[0m in \u001b[0;36m<module>\u001b[0;34m\u001b[0m\n\u001b[0;32m----> 1\u001b[0;31m \u001b[0mset_1\u001b[0m\u001b[0;34m.\u001b[0m\u001b[0mremove\u001b[0m\u001b[0;34m(\u001b[0m\u001b[0;36m10\u001b[0m\u001b[0;34m)\u001b[0m\u001b[0;34m\u001b[0m\u001b[0;34m\u001b[0m\u001b[0m\n\u001b[0m",
      "\u001b[0;31mKeyError\u001b[0m: 10"
     ]
    }
   ],
   "source": [
    "set_1.remove(10)"
   ]
  },
  {
   "cell_type": "markdown",
   "metadata": {},
   "source": [
    "<p class='justified'>\n",
    "    Vemos que <mark class='mono_gray'>KeyError</mark> é retornado, nos informando que o termo informado não existe.\n",
    "</p>\n",
    "\n",
    "<p class='justified'>\n",
    "    Outro <mark class='mono_gray'>método()</mark> que executa a mesma tarefa é o <mark class='mono_gray'>discard()</mark>. Ele recebe um argumento com o termo que queremos remover, contudo, ele não retorna um erro quando o termo informado não existe no <mark class='mono_gray'>set</mark>:\n",
    "</p>"
   ]
  },
  {
   "cell_type": "code",
   "execution_count": 226,
   "metadata": {
    "ExecuteTime": {
     "end_time": "2020-06-15T15:49:49.374087Z",
     "start_time": "2020-06-15T15:49:49.372208Z"
    }
   },
   "outputs": [],
   "source": [
    "set_1.discard(10)"
   ]
  },
  {
   "cell_type": "markdown",
   "metadata": {},
   "source": [
    "<p class='justified'>\n",
    "    Podemos usar o <mark class='mono_gray'>pop()</mark> também, assim como fizemos em uma lista, mas ele não recebe argumentos e dependendo da estrutura do <mark class='mono_gray'>set</mark>, a ordem em que ele remove os elementos é arbitrária.\n",
    "</p>"
   ]
  },
  {
   "cell_type": "markdown",
   "metadata": {},
   "source": [
    "<p class='justified'>\n",
    "    Se quisermos adicionar algum termo a um <mark class='mono_gray'>set</mark>, podemos usar o método <mark class='mono_gray'>add()</mark> e fornecer como argumento o termo que queremos adicionar:\n",
    "</p>"
   ]
  },
  {
   "cell_type": "code",
   "execution_count": 227,
   "metadata": {
    "ExecuteTime": {
     "end_time": "2020-06-15T15:49:50.310958Z",
     "start_time": "2020-06-15T15:49:50.309126Z"
    }
   },
   "outputs": [],
   "source": [
    "set_1.add(1)"
   ]
  },
  {
   "cell_type": "code",
   "execution_count": 228,
   "metadata": {
    "ExecuteTime": {
     "end_time": "2020-06-15T15:49:50.319337Z",
     "start_time": "2020-06-15T15:49:50.315046Z"
    }
   },
   "outputs": [
    {
     "data": {
      "text/plain": [
       "{0, 1, 2, 3, 4}"
      ]
     },
     "execution_count": 228,
     "metadata": {},
     "output_type": "execute_result"
    }
   ],
   "source": [
    "set_1"
   ]
  },
  {
   "cell_type": "markdown",
   "metadata": {},
   "source": [
    "<p class='justified'>\n",
    "    Para adicionar vários termos de uma vez, devemos usar o <mark class='mono_gray'>método</mark> <mark class='mono_gray'>union()</mark>, cujo argumento é um outro <mark class='mono_gray'>set</mark> que será unido ao primeiro, no qual o <mark class='mono_gray'>método</mark> foi aplicado:\n",
    "</p>"
   ]
  },
  {
   "cell_type": "code",
   "execution_count": 229,
   "metadata": {
    "ExecuteTime": {
     "end_time": "2020-06-15T15:49:50.786260Z",
     "start_time": "2020-06-15T15:49:50.783528Z"
    }
   },
   "outputs": [
    {
     "data": {
      "text/plain": [
       "{0, 1, 2, 3, 4, 5, 6, 7, 8, 9}"
      ]
     },
     "execution_count": 229,
     "metadata": {},
     "output_type": "execute_result"
    }
   ],
   "source": [
    "set_2.union(set_1)"
   ]
  },
  {
   "cell_type": "markdown",
   "metadata": {},
   "source": [
    "<p class='justified'>\n",
    "    Contudo, observe que essa operação não altera a estrutura do <mark class='mono_gray'>objeto</mark> <mark class='mono_gray'>set_2</mark>:\n",
    "</p>"
   ]
  },
  {
   "cell_type": "code",
   "execution_count": 230,
   "metadata": {
    "ExecuteTime": {
     "end_time": "2020-06-15T15:49:51.264508Z",
     "start_time": "2020-06-15T15:49:51.261978Z"
    }
   },
   "outputs": [
    {
     "data": {
      "text/plain": [
       "{5, 6, 7, 8, 9}"
      ]
     },
     "execution_count": 230,
     "metadata": {},
     "output_type": "execute_result"
    }
   ],
   "source": [
    "set_2"
   ]
  },
  {
   "cell_type": "markdown",
   "metadata": {},
   "source": [
    "<p class='justified'>\n",
    "    Vemos também que a ordem é preservada no <mark class='mono_gray'>set</mark> que é resultado da união. Se quisermos preservar o resultado, devemos guardar o valor retornado em uma variável:\n",
    "</p>"
   ]
  },
  {
   "cell_type": "code",
   "execution_count": 231,
   "metadata": {
    "ExecuteTime": {
     "end_time": "2020-06-15T15:49:51.747183Z",
     "start_time": "2020-06-15T15:49:51.744413Z"
    }
   },
   "outputs": [
    {
     "data": {
      "text/plain": [
       "{0, 1, 2, 3, 4, 5, 6, 7, 8, 9}"
      ]
     },
     "execution_count": 231,
     "metadata": {},
     "output_type": "execute_result"
    }
   ],
   "source": [
    "set_3 = set_2.union(set_1)\n",
    "set_3"
   ]
  },
  {
   "cell_type": "markdown",
   "metadata": {},
   "source": [
    "<p class='justified'>\n",
    "    Existem outros <mark class='mono_gray'>métodos</mark> muito úteis do <mark class='mono_gray'>objeto</mark> <mark class='mono_gray'>set</mark>. Por exemplo, podemos usar o <mark class='mono_gray'>método</mark> <mark class='mono_gray'>intersection()</mark> para encontrar termos comuns entre dois <mark class='mono_gray'>sets</mark>:\n",
    "</p>"
   ]
  },
  {
   "cell_type": "code",
   "execution_count": 232,
   "metadata": {
    "ExecuteTime": {
     "end_time": "2020-06-15T15:49:52.238566Z",
     "start_time": "2020-06-15T15:49:52.235744Z"
    }
   },
   "outputs": [
    {
     "data": {
      "text/plain": [
       "{0, 1, 2, 3, 4}"
      ]
     },
     "execution_count": 232,
     "metadata": {},
     "output_type": "execute_result"
    }
   ],
   "source": [
    "set_3.intersection(set_1)"
   ]
  },
  {
   "cell_type": "code",
   "execution_count": 233,
   "metadata": {
    "ExecuteTime": {
     "end_time": "2020-06-15T15:49:52.244605Z",
     "start_time": "2020-06-15T15:49:52.242156Z"
    }
   },
   "outputs": [
    {
     "data": {
      "text/plain": [
       "{5, 6, 7, 8, 9}"
      ]
     },
     "execution_count": 233,
     "metadata": {},
     "output_type": "execute_result"
    }
   ],
   "source": [
    "set_3.intersection(set_2)"
   ]
  },
  {
   "cell_type": "markdown",
   "metadata": {},
   "source": [
    "<p class='justified'>\n",
    "    Também podemos verificar se um <mark class='mono_gray'>set</mark> é um <mark class='mono_gray'>subset</mark> de outro, isto é, quando todo elemento de um conjunto está contido em outro conjunto. Para verificar isso, usamos o <mark class='mono_gray'>método</mark> <mark class='mono_gray'>issubset()</mark>. O <mark class='mono_gray'>método</mark> é aplicado no <mark class='mono_gray'>objeto</mark>que queremos investigar ser um <mark class='mono_gray'>subset</mark> do <mark class='mono_gray'>objeto</mark> fornecido como argumento para o <mark class='mono_gray'>método</mark>. Por exemplo, vamos verificar se o <mark class='mono_gray'>set_1</mark> é um <mark class='mono_gray'>subset</mark> de <mark class='mono_gray'>set_2</mark>:\n",
    "</p>"
   ]
  },
  {
   "cell_type": "code",
   "execution_count": 234,
   "metadata": {
    "ExecuteTime": {
     "end_time": "2020-06-15T15:49:52.731601Z",
     "start_time": "2020-06-15T15:49:52.729222Z"
    }
   },
   "outputs": [
    {
     "data": {
      "text/plain": [
       "False"
      ]
     },
     "execution_count": 234,
     "metadata": {},
     "output_type": "execute_result"
    }
   ],
   "source": [
    "set_1.issubset(set_2)"
   ]
  },
  {
   "cell_type": "markdown",
   "metadata": {},
   "source": [
    "<p class='justified'>\n",
    "    O valor retornado é <mark class='mono_gray'>False</mark>, nos informando que <mark class='mono_gray'>set_1</mark> não é um <mark class='mono_gray'>subset</mark> de <mark class='mono_gray'>set_2</mark>. Contudo, se perguntarmos se o <mark class='mono_gray'>set_1</mark> é um <mark class='mono_gray'>subset</mark> de <mark class='mono_gray'>set_3</mark>:\n",
    "</p>"
   ]
  },
  {
   "cell_type": "code",
   "execution_count": 235,
   "metadata": {
    "ExecuteTime": {
     "end_time": "2020-06-15T15:49:53.219715Z",
     "start_time": "2020-06-15T15:49:53.217079Z"
    }
   },
   "outputs": [
    {
     "data": {
      "text/plain": [
       "True"
      ]
     },
     "execution_count": 235,
     "metadata": {},
     "output_type": "execute_result"
    }
   ],
   "source": [
    "set_1.issubset(set_3)"
   ]
  },
  {
   "cell_type": "markdown",
   "metadata": {},
   "source": [
    "<p class='justified'>\n",
    "    O valor <mark class='mono_gray'>True</mark> é retornado, pois todos os elementos do <mark class='mono_gray'>set_1</mark> estão contido no <mark class='mono_gray'>set_3</mark>. Dizemos então que o <mark class='mono_gray'>set_1</mark> é um <mark class='mono_gray'>subset</mark> do <mark class='mono_gray'>set_3</mark>. Ou então, que <mark class='mono_gray'>set_3</mark> é um <mark class='mono_gray'>superset</mark> do <mark class='mono_gray'>set_1</mark>, o que pode ser verificado usando o <mark class='mono_gray'>método</mark> <mark class='mono_gray'>issuperset()</mark>:\n",
    "</p>"
   ]
  },
  {
   "cell_type": "code",
   "execution_count": 236,
   "metadata": {
    "ExecuteTime": {
     "end_time": "2020-06-15T15:49:53.705856Z",
     "start_time": "2020-06-15T15:49:53.702940Z"
    }
   },
   "outputs": [
    {
     "data": {
      "text/plain": [
       "True"
      ]
     },
     "execution_count": 236,
     "metadata": {},
     "output_type": "execute_result"
    }
   ],
   "source": [
    "set_3.issuperset(set_1)"
   ]
  },
  {
   "cell_type": "markdown",
   "metadata": {},
   "source": [
    "<p class='justified'>\n",
    "Também podemos encontrar quais elementos são diferentes entres os <mark class='mono_gray'>sets</mark>. Para isso, usamos o método <mark class='mono_gray'>difference()</mark>, que recebe como argumento outro <mark class='mono_gray'>set</mark>:\n",
    "</p>"
   ]
  },
  {
   "cell_type": "code",
   "execution_count": 237,
   "metadata": {
    "ExecuteTime": {
     "end_time": "2020-06-15T15:49:54.194430Z",
     "start_time": "2020-06-15T15:49:54.191630Z"
    }
   },
   "outputs": [
    {
     "data": {
      "text/plain": [
       "{5, 6, 7, 8, 9}"
      ]
     },
     "execution_count": 237,
     "metadata": {},
     "output_type": "execute_result"
    }
   ],
   "source": [
    "set_3.difference(set_1)"
   ]
  },
  {
   "cell_type": "markdown",
   "metadata": {},
   "source": [
    "<p class='justified'>\n",
    "    Se tentarmos inverter a ordem dos <mark class='mono_gray'>sets</mark>:\n",
    "</p>"
   ]
  },
  {
   "cell_type": "code",
   "execution_count": 238,
   "metadata": {
    "ExecuteTime": {
     "end_time": "2020-06-15T15:49:54.677509Z",
     "start_time": "2020-06-15T15:49:54.674585Z"
    }
   },
   "outputs": [
    {
     "data": {
      "text/plain": [
       "set()"
      ]
     },
     "execution_count": 238,
     "metadata": {},
     "output_type": "execute_result"
    }
   ],
   "source": [
    "set_1.difference(set_3)"
   ]
  },
  {
   "cell_type": "markdown",
   "metadata": {},
   "source": [
    "<p class='justified'>\n",
    "    O resultado retornado é um <mark class='mono_gray'>set</mark> vazio, pois o <mark class='mono_gray'>set_1</mark> é um <mark class='mono_gray'>subset</mark> do <mark class='mono_gray'>set_3</mark>, de modo que todos seus termos são encontrados em <mark class='mono_gray'>set_3</mark>.\n",
    "</p>\n",
    "\n",
    "<p class='justified'>\n",
    "    Assim como observado nas <mark class='mono_gray'>listas</mark>, com exceção de <mark class='mono_gray'>union()</mark>, os <mark class='mono_gray'>métodos()</mark> aplicados a um <mark class='mono_gray'>set()</mark> fazem uma mudança implícita no <mark class='mono_gray'>objeto</mark>, isto é, uma mudança <mark class='mono_gray'>in place</mark>.\n",
    "</p>"
   ]
  },
  {
   "cell_type": "markdown",
   "metadata": {},
   "source": [
    "---\n",
    "<a class='section' id='dicionarios'></a>\n",
    "# Dicionários"
   ]
  },
  {
   "cell_type": "markdown",
   "metadata": {},
   "source": [
    "<p class='justified'>\n",
    "    Outro <mark class='mono_gray'>objeto</mark> que encontramos com uma estrutura ordenada são os <mark class='mono_gray'>dicionários</mark>. Diferente de <mark class='mono_gray'>listas</mark>, <mark class='mono_gray'>tuplas</mark> e <mark class='mono_gray'>sets</mark>, dicionários são criados fornecendo uma <mark class='mono_gray'>chave</mark> e um <mark class='mono_gray'>valor</mark> separados por <mark class='mono_gray'>:</mark>. Um dicionário pode conter diversos <mark class='mono_gray'>itens</mark> <mark class='mono_gray'>chave:valor</mark>, os quais devem ser separados por <mark class='mono_gray'>,</mark>. Para criar um dicionário, também usamos os <mark class='mono_gray'>itens</mark> <mark class='mono_gray'>chave:valor</mark> dentro de chaves <mark class='mono_gray'>{}</mark>:\n",
    "</p>"
   ]
  },
  {
   "cell_type": "code",
   "execution_count": 239,
   "metadata": {
    "ExecuteTime": {
     "end_time": "2020-06-15T15:49:56.607394Z",
     "start_time": "2020-06-15T15:49:56.605263Z"
    }
   },
   "outputs": [],
   "source": [
    "notas_turma_1_prova_1 = {'Joao': 7, 'Maria': 8, 'Heraldo': 9, 'Jose': 5, 'Helena': 10, 'Eduardo': 3}"
   ]
  },
  {
   "cell_type": "code",
   "execution_count": 240,
   "metadata": {
    "ExecuteTime": {
     "end_time": "2020-06-15T15:49:56.616076Z",
     "start_time": "2020-06-15T15:49:56.611337Z"
    }
   },
   "outputs": [
    {
     "data": {
      "text/plain": [
       "{'Joao': 7, 'Maria': 8, 'Heraldo': 9, 'Jose': 5, 'Helena': 10, 'Eduardo': 3}"
      ]
     },
     "execution_count": 240,
     "metadata": {},
     "output_type": "execute_result"
    }
   ],
   "source": [
    "notas_turma_1_prova_1"
   ]
  },
  {
   "cell_type": "markdown",
   "metadata": {},
   "source": [
    "Inspecionando o ``tipo`` desse ``objeto``:"
   ]
  },
  {
   "cell_type": "code",
   "execution_count": 241,
   "metadata": {
    "ExecuteTime": {
     "end_time": "2020-06-15T15:49:57.114113Z",
     "start_time": "2020-06-15T15:49:57.111644Z"
    }
   },
   "outputs": [
    {
     "data": {
      "text/plain": [
       "dict"
      ]
     },
     "execution_count": 241,
     "metadata": {},
     "output_type": "execute_result"
    }
   ],
   "source": [
    "type(notas_turma_1_prova_1)"
   ]
  },
  {
   "cell_type": "markdown",
   "metadata": {},
   "source": [
    "<p class='justified'>\n",
    "    Podemos obter o tamanho do <mark class='mono_gray'>dicionário</mark> usando a <mark class='mono_gray'>função</mark> <mark class='mono_gray'>len()</mark>:\n",
    "</p>"
   ]
  },
  {
   "cell_type": "code",
   "execution_count": 242,
   "metadata": {
    "ExecuteTime": {
     "end_time": "2020-06-15T15:49:57.598665Z",
     "start_time": "2020-06-15T15:49:57.596136Z"
    }
   },
   "outputs": [
    {
     "data": {
      "text/plain": [
       "6"
      ]
     },
     "execution_count": 242,
     "metadata": {},
     "output_type": "execute_result"
    }
   ],
   "source": [
    "len(notas_turma_1_prova_1)"
   ]
  },
  {
   "cell_type": "markdown",
   "metadata": {},
   "source": [
    "<p class='justified'>\n",
    "    Outra forma de se construir um <mark class='mono_gray'>dicionário</mark> é usando <mark class='mono_gray'>dict()</mark>, fornecendo as <mark class='mono_gray'>chaves</mark> e os <mark class='mono_gray'>valores</mark> separados por <mark class='mono_gray'>=</mark>:\n",
    "</p>"
   ]
  },
  {
   "cell_type": "code",
   "execution_count": 243,
   "metadata": {
    "ExecuteTime": {
     "end_time": "2020-06-15T15:49:58.098473Z",
     "start_time": "2020-06-15T15:49:58.095522Z"
    }
   },
   "outputs": [
    {
     "data": {
      "text/plain": [
       "{'Joao': 7, 'Maria': 8, 'Heraldo': 9, 'Jose': 5, 'Helena': 10, 'Eduardo': 3}"
      ]
     },
     "execution_count": 243,
     "metadata": {},
     "output_type": "execute_result"
    }
   ],
   "source": [
    "dict(Joao=7, Maria=8, Heraldo=9, Jose=5, Helena=10, Eduardo=3)"
   ]
  },
  {
   "cell_type": "markdown",
   "metadata": {},
   "source": [
    "<p class='justified'>\n",
    "Para saber o significado de uma palavra, procuramos por essa palavra em um <mark class='mono_gray'>dicionário</mark>. Lá encontramos a palavra e na frente seu significado. Podemos dizer que a palavra juntamente com seu significado é um <mark class='mono_gray'>item</mark> do dicionário, de maneira que esse é composto por vários <mark class='mono_gray'>itens</mark>. \n",
    "</p>\n",
    "\n",
    "<p class='justified'>\n",
    "    Em <mark class='mono_gray'>Python</mark>, a palavra que procuramos é a <mark class='mono_gray'>chave</mark> (termo à esquerda de <mark class='mono_gray'>:</mark> em cada <mark class='mono_gray'>item</mark>), e o <mark class='mono_gray'>valor</mark> (termo à direita de <mark class='mono_gray'>:</mark> em cada <mark class='mono_gray'>item</mark>) é o significado daquela palavra. \n",
    "</p>\n",
    "\n",
    "<p class='justified'>\n",
    "    Criamos um <mark class='mono_gray'>dicionário</mark> cujas <mark class='mono_gray'>chaves</mark> são os nomes dos alunos e os <mark class='mono_gray'>valores</mark> correspondentes de cada <mark class='mono_gray'>item</mark> são as notas deles. Para acessar a nota de um aluno, ou seja o <mark class='mono_gray'>valor</mark> associado à <mark class='mono_gray'>chave</mark> de um <mark class='mono_gray'>item</mark>, usamos colchetes <mark class='mono_gray'>[]</mark> na frente de nosso <mark class='mono_gray'>dicionário</mark> e fornecemos a <mark class='mono_gray'>chave</mark>. Por exemplo, se quisermos saber a nota do <mark class='mono_gray'>'Heraldo'</mark>, basta escrevermos:\n",
    "</p>"
   ]
  },
  {
   "cell_type": "code",
   "execution_count": 244,
   "metadata": {
    "ExecuteTime": {
     "end_time": "2020-06-15T15:49:58.585739Z",
     "start_time": "2020-06-15T15:49:58.583305Z"
    }
   },
   "outputs": [
    {
     "data": {
      "text/plain": [
       "9"
      ]
     },
     "execution_count": 244,
     "metadata": {},
     "output_type": "execute_result"
    }
   ],
   "source": [
    "notas_turma_1_prova_1['Heraldo']"
   ]
  },
  {
   "cell_type": "markdown",
   "metadata": {},
   "source": [
    "<p class='justified'>\n",
    "    O mesmo poderia ser obtido usando o <mark class='mono_gray'>método</mark> <mark class='mono_gray'>get()</mark>, fornecendo como argumento a <mark class='mono_gray'>chave</mark> de interesse:\n",
    "</p>"
   ]
  },
  {
   "cell_type": "code",
   "execution_count": 245,
   "metadata": {
    "ExecuteTime": {
     "end_time": "2020-06-15T15:49:59.084018Z",
     "start_time": "2020-06-15T15:49:59.081256Z"
    }
   },
   "outputs": [
    {
     "data": {
      "text/plain": [
       "9"
      ]
     },
     "execution_count": 245,
     "metadata": {},
     "output_type": "execute_result"
    }
   ],
   "source": [
    "notas_turma_1_prova_1.get('Heraldo')"
   ]
  },
  {
   "cell_type": "markdown",
   "metadata": {},
   "source": [
    "<p class='justified'>\n",
    "Vamos supor que um aluno foi fazer a prova em um outro dia e temos que adicioná-lo ao <mark class='mono_gray'>dicionário</mark>. Para fazer isso, simplesmente fornecemos o nome dele, ou seja, a <mark class='mono_gray'>chave</mark> dentro dos colchetes <mark class='mono_gray'>[]</mark> e atribuímos à essa entrada do <mark class='mono_gray'>dicionário</mark> o <mark class='mono_gray'>valor</mark>, ou seja, a nota dele:\n",
    "</p>"
   ]
  },
  {
   "cell_type": "code",
   "execution_count": 246,
   "metadata": {
    "ExecuteTime": {
     "end_time": "2020-06-15T15:49:59.578001Z",
     "start_time": "2020-06-15T15:49:59.576000Z"
    }
   },
   "outputs": [],
   "source": [
    "# Camila fez a prova depois e tirou 5\n",
    "notas_turma_1_prova_1['Camila'] = 5"
   ]
  },
  {
   "cell_type": "code",
   "execution_count": 247,
   "metadata": {
    "ExecuteTime": {
     "end_time": "2020-06-15T15:49:59.585212Z",
     "start_time": "2020-06-15T15:49:59.582550Z"
    }
   },
   "outputs": [
    {
     "data": {
      "text/plain": [
       "{'Joao': 7,\n",
       " 'Maria': 8,\n",
       " 'Heraldo': 9,\n",
       " 'Jose': 5,\n",
       " 'Helena': 10,\n",
       " 'Eduardo': 3,\n",
       " 'Camila': 5}"
      ]
     },
     "execution_count": 247,
     "metadata": {},
     "output_type": "execute_result"
    }
   ],
   "source": [
    "# veja que Camila foi adicionada ao dicionário\n",
    "notas_turma_1_prova_1"
   ]
  },
  {
   "cell_type": "markdown",
   "metadata": {},
   "source": [
    "<p class='justified'>\n",
    "Contudo, mais três outros alunos vieram fazer a prova numa outra chance que o Professor deu:\n",
    "</p>"
   ]
  },
  {
   "cell_type": "code",
   "execution_count": 248,
   "metadata": {
    "ExecuteTime": {
     "end_time": "2020-06-15T15:50:00.087034Z",
     "start_time": "2020-06-15T15:50:00.085068Z"
    }
   },
   "outputs": [],
   "source": [
    "terceira_chance = {'Bernardo': 4, 'Lazaro': 8, 'Plinio': 6}"
   ]
  },
  {
   "cell_type": "markdown",
   "metadata": {},
   "source": [
    "<p class='justified'>\n",
    "    Para adicionar todos esses novos <mark class='mono_gray'>itens</mark> ao nosso <mark class='mono_gray'>dicionário</mark>, podemos usar o <mark class='mono_gray'>método</mark> <mark class='mono_gray'>update()</mark>. O <mark class='mono_gray'>método</mark> é aplicado ao <mark class='mono_gray'>dicionário</mark> que queremos atualizar e o argumento é o <mark class='mono_gray'>dicionário</mark> que queremos incluir com os novos <mark class='mono_gray'>itens</mark>:\n",
    "</p>"
   ]
  },
  {
   "cell_type": "code",
   "execution_count": 249,
   "metadata": {
    "ExecuteTime": {
     "end_time": "2020-06-15T15:50:00.582049Z",
     "start_time": "2020-06-15T15:50:00.579638Z"
    }
   },
   "outputs": [],
   "source": [
    "notas_turma_1_prova_1.update(terceira_chance)"
   ]
  },
  {
   "cell_type": "code",
   "execution_count": 250,
   "metadata": {
    "ExecuteTime": {
     "end_time": "2020-06-15T15:50:00.590137Z",
     "start_time": "2020-06-15T15:50:00.586723Z"
    }
   },
   "outputs": [
    {
     "data": {
      "text/plain": [
       "{'Joao': 7,\n",
       " 'Maria': 8,\n",
       " 'Heraldo': 9,\n",
       " 'Jose': 5,\n",
       " 'Helena': 10,\n",
       " 'Eduardo': 3,\n",
       " 'Camila': 5,\n",
       " 'Bernardo': 4,\n",
       " 'Lazaro': 8,\n",
       " 'Plinio': 6}"
      ]
     },
     "execution_count": 250,
     "metadata": {},
     "output_type": "execute_result"
    }
   ],
   "source": [
    "notas_turma_1_prova_1"
   ]
  },
  {
   "cell_type": "markdown",
   "metadata": {},
   "source": [
    "<p class='justified'>\n",
    "Suponha agora que um aluno foi ver sua prova e achou algo que o professor acabou considerando e a nota dele deve ser alterada. Basta atribuir o novo <mark class='mono_gray'>valor</mark> ao <mark class='mono_gray'>dicionário</mark> usando a <mark class='mono_gray'>chave</mark> em questão:\n",
    "</p>"
   ]
  },
  {
   "cell_type": "code",
   "execution_count": 251,
   "metadata": {
    "ExecuteTime": {
     "end_time": "2020-06-15T15:50:01.091114Z",
     "start_time": "2020-06-15T15:50:01.089003Z"
    }
   },
   "outputs": [],
   "source": [
    "# Eduardo foi ver sua prova e acabou ficando com 5\n",
    "notas_turma_1_prova_1['Eduardo'] = 5"
   ]
  },
  {
   "cell_type": "code",
   "execution_count": 252,
   "metadata": {
    "ExecuteTime": {
     "end_time": "2020-06-15T15:50:01.099158Z",
     "start_time": "2020-06-15T15:50:01.095991Z"
    }
   },
   "outputs": [
    {
     "data": {
      "text/plain": [
       "{'Joao': 7,\n",
       " 'Maria': 8,\n",
       " 'Heraldo': 9,\n",
       " 'Jose': 5,\n",
       " 'Helena': 10,\n",
       " 'Eduardo': 5,\n",
       " 'Camila': 5,\n",
       " 'Bernardo': 4,\n",
       " 'Lazaro': 8,\n",
       " 'Plinio': 6}"
      ]
     },
     "execution_count": 252,
     "metadata": {},
     "output_type": "execute_result"
    }
   ],
   "source": [
    "# veja que a nota de Eduardo foi atualizada\n",
    "notas_turma_1_prova_1"
   ]
  },
  {
   "cell_type": "markdown",
   "metadata": {},
   "source": [
    "<p class='justified'>\n",
    "O Professor não tinha tomado café suficiente quando lançou as notas e depois percebeu que <mark class='mono_gray'>'Jose'</mark> não é da turma 1. Assim, vamos deletar esse <mark class='mono_gray'>item</mark> do <mark class='mono_gray'>dicionário</mark>. Para isso, podemos usar o operador <mark class='mono_gray'>del</mark> e fornecer a <mark class='mono_gray'>chave</mark> do <mark class='mono_gray'>item</mark> que queremos deletar:\n",
    "</p>"
   ]
  },
  {
   "cell_type": "code",
   "execution_count": 253,
   "metadata": {
    "ExecuteTime": {
     "end_time": "2020-06-15T15:50:01.596918Z",
     "start_time": "2020-06-15T15:50:01.594533Z"
    }
   },
   "outputs": [],
   "source": [
    "del notas_turma_1_prova_1['Jose']"
   ]
  },
  {
   "cell_type": "code",
   "execution_count": 254,
   "metadata": {
    "ExecuteTime": {
     "end_time": "2020-06-15T15:50:01.603678Z",
     "start_time": "2020-06-15T15:50:01.600984Z"
    }
   },
   "outputs": [
    {
     "data": {
      "text/plain": [
       "{'Joao': 7,\n",
       " 'Maria': 8,\n",
       " 'Heraldo': 9,\n",
       " 'Helena': 10,\n",
       " 'Eduardo': 5,\n",
       " 'Camila': 5,\n",
       " 'Bernardo': 4,\n",
       " 'Lazaro': 8,\n",
       " 'Plinio': 6}"
      ]
     },
     "execution_count": 254,
     "metadata": {},
     "output_type": "execute_result"
    }
   ],
   "source": [
    "notas_turma_1_prova_1"
   ]
  },
  {
   "cell_type": "markdown",
   "metadata": {
    "ExecuteTime": {
     "end_time": "2020-06-07T23:12:22.260393Z",
     "start_time": "2020-06-07T23:12:22.257001Z"
    }
   },
   "source": [
    "O mesmo resultado poderia ter sido obtido usando o ``método`` ``pop()``:\n",
    "\n",
    "```python\n",
    ">>> print(notas_turma_1_prova_1)\n",
    "{'Joao': 7, 'Maria': 8, 'Heraldo': 9, 'Jose': 5, 'Helena': 10, 'Eduardo': 3}\n",
    ">>> notas_turma_1_prova_1.pop('Jose')\n",
    ">>> print(notas_turma_1_prova_1)\n",
    "{'Joao': 7, 'Maria': 8, 'Heraldo': 9, 'Helena': 10, 'Eduardo': 3}\n",
    "```"
   ]
  },
  {
   "cell_type": "markdown",
   "metadata": {},
   "source": [
    "<p class='justified'>\n",
    "    Nesse nosso cenário, <mark class='mono_gray'>'Plinio'</mark> foi o último a ser adicionado ao <mark class='mono_gray'>dicionário</mark> por ter feito a prova depois. Contudo, o Professor acabou colocando sua nota na turma errada. Podemos usar o <mark class='mono_gray'>método</mark> <mark class='mono_gray'>popitem()</mark> para deletar o último <mark class='mono_gray'>item</mark> adicionado:\n",
    "</p>"
   ]
  },
  {
   "cell_type": "code",
   "execution_count": 255,
   "metadata": {
    "ExecuteTime": {
     "end_time": "2020-06-15T15:50:02.614406Z",
     "start_time": "2020-06-15T15:50:02.611917Z"
    }
   },
   "outputs": [
    {
     "data": {
      "text/plain": [
       "('Plinio', 6)"
      ]
     },
     "execution_count": 255,
     "metadata": {},
     "output_type": "execute_result"
    }
   ],
   "source": [
    "notas_turma_1_prova_1.popitem()"
   ]
  },
  {
   "cell_type": "code",
   "execution_count": 256,
   "metadata": {
    "ExecuteTime": {
     "end_time": "2020-06-15T15:50:02.620506Z",
     "start_time": "2020-06-15T15:50:02.618023Z"
    }
   },
   "outputs": [
    {
     "data": {
      "text/plain": [
       "{'Joao': 7,\n",
       " 'Maria': 8,\n",
       " 'Heraldo': 9,\n",
       " 'Helena': 10,\n",
       " 'Eduardo': 5,\n",
       " 'Camila': 5,\n",
       " 'Bernardo': 4,\n",
       " 'Lazaro': 8}"
      ]
     },
     "execution_count": 256,
     "metadata": {},
     "output_type": "execute_result"
    }
   ],
   "source": [
    "notas_turma_1_prova_1"
   ]
  },
  {
   "cell_type": "markdown",
   "metadata": {},
   "source": [
    "<p class='justified'>\n",
    "    Quando o último <mark class='mono_gray'>item</mark> adicionado foi removido, todo uso do <mark class='mono_gray'>método</mark> <mark class='mono_gray'>popitem()</mark> irá retirar o último <mark class='mono_gray'>item</mark> do <mark class='mono_gray'>dicionário</mark>.\n",
    "</p>\n",
    "\n",
    "<p class='justified'>\n",
    "    Qualquer <mark class='mono_gray'>objeto</mark> pode ser o <mark class='mono_gray'>valor</mark> de um <mark class='mono_gray'>dicionário</mark>, contudo, nem todo <mark class='mono_gray'>objeto</mark> pode ser a <mark class='mono_gray'>chave</mark> de um <mark class='mono_gray'>dicionário</mark>. Isso decorre do fato de que as <mark class='mono_gray'>chaves</mark> de um <mark class='mono_gray'>dicionário</mark> devem ser únicas. Assim como cada palavra tem sua descrição em um dicionário, aqui, cada <mark class='mono_gray'>chave</mark> é única e tem seu valor atribuído:\n",
    "</p>"
   ]
  },
  {
   "cell_type": "code",
   "execution_count": 257,
   "metadata": {
    "ExecuteTime": {
     "end_time": "2020-06-15T15:50:03.634234Z",
     "start_time": "2020-06-15T15:50:03.631659Z"
    }
   },
   "outputs": [
    {
     "data": {
      "text/plain": [
       "{'Joao': 4, 'Maria': 5}"
      ]
     },
     "execution_count": 257,
     "metadata": {},
     "output_type": "execute_result"
    }
   ],
   "source": [
    "# tentamos criar um dicionário com duas ``chaves`` iguais\n",
    "{'Joao': 3, 'Maria': 5, 'Joao': 4}"
   ]
  },
  {
   "cell_type": "markdown",
   "metadata": {},
   "source": [
    "<p class='justified'>\n",
    "    Dessa forma, <mark class='mono_gray'>listas</mark> e <mark class='mono_gray'>tuplas</mark> não podem ser <mark class='mono_gray'>chaves</mark> de um <mark class='mono_gray'>dicionário</mark>. \n",
    "</p>\n",
    "\n",
    "<p class='justified'>\n",
    "    Um <mark class='mono_gray'>dicionário</mark> pode ter outros <mark class='mono_gray'>dicionários</mark> como <mark class='mono_gray'>valores</mark>. O Professor deu outra prova e decidiu estruturar melhor os dados, ou seja, os nomes dos alunos e suas notas. Para isso ele criou o seguinte dicionário:\n",
    "</p>"
   ]
  },
  {
   "cell_type": "code",
   "execution_count": 258,
   "metadata": {
    "ExecuteTime": {
     "end_time": "2020-06-15T15:50:04.653092Z",
     "start_time": "2020-06-15T15:50:04.650426Z"
    }
   },
   "outputs": [],
   "source": [
    "notas_turma_1 = {\n",
    "    'Prova 1': {\n",
    "        'Joao'    : 7,\n",
    "        'Maria'   : 8,\n",
    "        'Heraldo' : 9,\n",
    "        'Helena'  : 10,\n",
    "        'Eduardo' : 5,\n",
    "        'Camila'  : 5,\n",
    "        'Bernardo': 4,\n",
    "        'Lazaro'  : 8\n",
    "    },\n",
    "    'Prova 2': {\n",
    "        'Joao'    : 7,\n",
    "        'Maria'   : 9,\n",
    "        'Heraldo' : 7,\n",
    "        'Helena'  : 5,\n",
    "        'Eduardo' : 7,\n",
    "        'Camila'  : 8,\n",
    "        'Bernardo': 9,\n",
    "        'Lazaro'  : 4\n",
    "    }\n",
    "}"
   ]
  },
  {
   "cell_type": "markdown",
   "metadata": {},
   "source": [
    "<p class='justified'>\n",
    "    Vamos inspecionar o <mark class='mono_gray'>dicionário</mark> criado:\n",
    "</p>"
   ]
  },
  {
   "cell_type": "code",
   "execution_count": 259,
   "metadata": {
    "ExecuteTime": {
     "end_time": "2020-06-15T15:50:05.174506Z",
     "start_time": "2020-06-15T15:50:05.171579Z"
    }
   },
   "outputs": [
    {
     "data": {
      "text/plain": [
       "{'Prova 1': {'Joao': 7,\n",
       "  'Maria': 8,\n",
       "  'Heraldo': 9,\n",
       "  'Helena': 10,\n",
       "  'Eduardo': 5,\n",
       "  'Camila': 5,\n",
       "  'Bernardo': 4,\n",
       "  'Lazaro': 8},\n",
       " 'Prova 2': {'Joao': 7,\n",
       "  'Maria': 9,\n",
       "  'Heraldo': 7,\n",
       "  'Helena': 5,\n",
       "  'Eduardo': 7,\n",
       "  'Camila': 8,\n",
       "  'Bernardo': 9,\n",
       "  'Lazaro': 4}}"
      ]
     },
     "execution_count": 259,
     "metadata": {},
     "output_type": "execute_result"
    }
   ],
   "source": [
    "notas_turma_1"
   ]
  },
  {
   "cell_type": "markdown",
   "metadata": {},
   "source": [
    "<p class='justified'>\n",
    "    O <mark class='mono_gray'>dicionário</mark> criado possui dois <mark class='mono_gray'>itens</mark>. As <mark class='mono_gray'>chaves</mark> são as <mark class='mono_gray'>strings</mark> <mark class='mono_gray'>'Prova 1'</mark> e <mark class='mono_gray'>'Prova 2'</mark>. Os <mark class='mono_gray'>valores</mark> de cada uma dessas <mark class='mono_gray'>chaves</mark> são outros <mark class='mono_gray'>dicionários</mark>, contendo como <mark class='mono_gray'>chaves</mark> os nomes dos alunos e como <mark class='mono_gray'>valores</mark> suas notas em cada prova, respectivamente. Portanto, se quisermos as notas da <mark class='mono_gray'>'Prova 1'</mark> da turma 1, basta usarmos o dicionário criado com a <mark class='mono_gray'>chave</mark> <mark class='mono_gray'>'Prova 1'</mark>:\n",
    "</p>"
   ]
  },
  {
   "cell_type": "code",
   "execution_count": 260,
   "metadata": {
    "ExecuteTime": {
     "end_time": "2020-06-15T15:50:05.685496Z",
     "start_time": "2020-06-15T15:50:05.682843Z"
    }
   },
   "outputs": [
    {
     "data": {
      "text/plain": [
       "{'Joao': 7,\n",
       " 'Maria': 8,\n",
       " 'Heraldo': 9,\n",
       " 'Helena': 10,\n",
       " 'Eduardo': 5,\n",
       " 'Camila': 5,\n",
       " 'Bernardo': 4,\n",
       " 'Lazaro': 8}"
      ]
     },
     "execution_count": 260,
     "metadata": {},
     "output_type": "execute_result"
    }
   ],
   "source": [
    "notas_turma_1['Prova 1']"
   ]
  },
  {
   "cell_type": "markdown",
   "metadata": {},
   "source": [
    "<p class='justified'>\n",
    "    Se quiseremos saber a nota de um aluno em particular, como <mark class='mono_gray'>'Joao'</mark>, basta passarmos a <mark class='mono_gray'>chave</mark> para esse <mark class='mono_gray'>dicionário</mark>:\n",
    "</p>"
   ]
  },
  {
   "cell_type": "code",
   "execution_count": 261,
   "metadata": {
    "ExecuteTime": {
     "end_time": "2020-06-15T15:50:06.208578Z",
     "start_time": "2020-06-15T15:50:06.205896Z"
    }
   },
   "outputs": [
    {
     "data": {
      "text/plain": [
       "7"
      ]
     },
     "execution_count": 261,
     "metadata": {},
     "output_type": "execute_result"
    }
   ],
   "source": [
    "notas_turma_1['Prova 1']['Joao']"
   ]
  },
  {
   "cell_type": "markdown",
   "metadata": {},
   "source": [
    "<p class='justified'>\n",
    "    Vamos supor que temos uma <mark class='mono_gray'>'Turma 2'</mark>. Podemos criar um <mark class='mono_gray'>dicionário</mark> parecido com o primeiro para acessar as notas das <mark class='mono_gray'>'Prova 1'</mark> e <mark class='mono_gray'>'Prova 2'</mark>:\n",
    "</p>"
   ]
  },
  {
   "cell_type": "code",
   "execution_count": 262,
   "metadata": {
    "ExecuteTime": {
     "end_time": "2020-06-15T15:50:06.721304Z",
     "start_time": "2020-06-15T15:50:06.718576Z"
    }
   },
   "outputs": [],
   "source": [
    "notas_turma_2 = {\n",
    "    'Prova 1': {\n",
    "        'Jose'    : 5,\n",
    "        'Plinio'  : 5,\n",
    "        'Rogerio' : 7,\n",
    "        'Mercedes': 7,\n",
    "        'Katarina': 8,\n",
    "        'Larissa' : 7\n",
    "    },\n",
    "    'Prova 2': {\n",
    "        'Jose'    : 7,\n",
    "        'Plinio'  : 6,\n",
    "        'Rogerio' : 4,\n",
    "        'Mercedes': 9,\n",
    "        'Katarina': 9,\n",
    "        'Larissa' : 10\n",
    "    }\n",
    "}"
   ]
  },
  {
   "cell_type": "markdown",
   "metadata": {},
   "source": [
    "<p class='justified'>\n",
    "    Podemos acessar a nota da <mark class='mono_gray'>'Prova 2'</mark>:\n",
    "</p>"
   ]
  },
  {
   "cell_type": "code",
   "execution_count": 263,
   "metadata": {
    "ExecuteTime": {
     "end_time": "2020-06-15T15:50:07.244692Z",
     "start_time": "2020-06-15T15:50:07.241987Z"
    }
   },
   "outputs": [
    {
     "data": {
      "text/plain": [
       "{'Jose': 7,\n",
       " 'Plinio': 6,\n",
       " 'Rogerio': 4,\n",
       " 'Mercedes': 9,\n",
       " 'Katarina': 9,\n",
       " 'Larissa': 10}"
      ]
     },
     "execution_count": 263,
     "metadata": {},
     "output_type": "execute_result"
    }
   ],
   "source": [
    "notas_turma_2['Prova 2']"
   ]
  },
  {
   "cell_type": "markdown",
   "metadata": {},
   "source": [
    "<p class='justified'>\n",
    "E se quisermos saber a nota de alguém em particular, como a <mark class='mono_gray'>'Mercedes'</mark>:\n",
    "</p>"
   ]
  },
  {
   "cell_type": "code",
   "execution_count": 264,
   "metadata": {
    "ExecuteTime": {
     "end_time": "2020-06-15T15:50:07.760835Z",
     "start_time": "2020-06-15T15:50:07.758219Z"
    }
   },
   "outputs": [
    {
     "data": {
      "text/plain": [
       "9"
      ]
     },
     "execution_count": 264,
     "metadata": {},
     "output_type": "execute_result"
    }
   ],
   "source": [
    "notas_turma_2['Prova 2']['Mercedes']"
   ]
  },
  {
   "cell_type": "markdown",
   "metadata": {},
   "source": [
    "<p class='justified'>\n",
    "    Para sermos mais concisos, podemos criar um único <mark class='mono_gray'>dicionário</mark> com <mark class='mono_gray'>chaves</mark> sendo <mark class='mono_gray'>'Turma 1'</mark> e <mark class='mono_gray'>'Turma 2'</mark> de maneira que tenhamos todos os dados dos alunos dessas turmas e de ambas as provas. Podemos realizar essa tarefa criando um <mark class='mono_gray'>dicionário</mark> da seguinte forma:\n",
    "</p>"
   ]
  },
  {
   "cell_type": "code",
   "execution_count": 265,
   "metadata": {
    "ExecuteTime": {
     "end_time": "2020-06-15T15:50:08.280481Z",
     "start_time": "2020-06-15T15:50:08.278420Z"
    }
   },
   "outputs": [],
   "source": [
    "notas_de_fisica = {'Turma 1': notas_turma_1, 'Turma 2': notas_turma_2}"
   ]
  },
  {
   "cell_type": "markdown",
   "metadata": {},
   "source": [
    "<p class='justified'>\n",
    "    Assim, quando acessamos a <mark class='mono_gray'>chave</mark> <mark class='mono_gray'>'Turma 1'</mark> no <mark class='mono_gray'>dicionário</mark> <mark class='mono_gray'>notas_de_fisica</mark>, obtemos as notas de todos os alunos em ambas as provas:\n",
    "</p>"
   ]
  },
  {
   "cell_type": "code",
   "execution_count": 266,
   "metadata": {
    "ExecuteTime": {
     "end_time": "2020-06-15T15:50:08.802503Z",
     "start_time": "2020-06-15T15:50:08.799763Z"
    }
   },
   "outputs": [
    {
     "data": {
      "text/plain": [
       "{'Prova 1': {'Joao': 7,\n",
       "  'Maria': 8,\n",
       "  'Heraldo': 9,\n",
       "  'Helena': 10,\n",
       "  'Eduardo': 5,\n",
       "  'Camila': 5,\n",
       "  'Bernardo': 4,\n",
       "  'Lazaro': 8},\n",
       " 'Prova 2': {'Joao': 7,\n",
       "  'Maria': 9,\n",
       "  'Heraldo': 7,\n",
       "  'Helena': 5,\n",
       "  'Eduardo': 7,\n",
       "  'Camila': 8,\n",
       "  'Bernardo': 9,\n",
       "  'Lazaro': 4}}"
      ]
     },
     "execution_count": 266,
     "metadata": {},
     "output_type": "execute_result"
    }
   ],
   "source": [
    "notas_de_fisica['Turma 1']"
   ]
  },
  {
   "cell_type": "markdown",
   "metadata": {},
   "source": [
    "<p class='justified'>\n",
    "E podemos ir acessando as chaves que quisermos:\n",
    "</p>"
   ]
  },
  {
   "cell_type": "code",
   "execution_count": 267,
   "metadata": {
    "ExecuteTime": {
     "end_time": "2020-06-15T15:50:09.323690Z",
     "start_time": "2020-06-15T15:50:09.321080Z"
    }
   },
   "outputs": [
    {
     "data": {
      "text/plain": [
       "7"
      ]
     },
     "execution_count": 267,
     "metadata": {},
     "output_type": "execute_result"
    }
   ],
   "source": [
    "notas_de_fisica['Turma 1']['Prova 2']['Heraldo']"
   ]
  },
  {
   "cell_type": "markdown",
   "metadata": {},
   "source": [
    "<p class='justified'>\n",
    "Essa parte de estruturar os dados é importante, pois vemos que o acesso aos dados é facilitado pela disposição que criamos. Mais a frente iremos lidar com um <mark class='mono_gray'>objeto</mark> diferente dos dicionários que nos permite uma visualização e manipulação melhor dos dados. Contudo, saber como <mark class='mono_gray'>dicionários</mark> funcionam ajudam na criação e entendimento desse novo <mark class='mono_gray'>objeto</mark>.\n",
    "</p>\n",
    "\n",
    "<p class='justified'>\n",
    "Estamos com muitos alunos e acabamos esquecendo os nomes. Para verificar então todos os nomes, ou no nosso caso, todas as <mark class='mono_gray'>chaves</mark> de um <mark class='mono_gray'>dicionário</mark>, usamos o <mark class='mono_gray'>método</mark> <mark class='mono_gray'>keys()</mark>:\n",
    "</p>"
   ]
  },
  {
   "cell_type": "code",
   "execution_count": 268,
   "metadata": {
    "ExecuteTime": {
     "end_time": "2020-06-15T15:50:10.361350Z",
     "start_time": "2020-06-15T15:50:10.358833Z"
    }
   },
   "outputs": [
    {
     "data": {
      "text/plain": [
       "dict_keys(['Joao', 'Maria', 'Heraldo', 'Helena', 'Eduardo', 'Camila', 'Bernardo', 'Lazaro'])"
      ]
     },
     "execution_count": 268,
     "metadata": {},
     "output_type": "execute_result"
    }
   ],
   "source": [
    "notas_turma_1_prova_1.keys()"
   ]
  },
  {
   "cell_type": "markdown",
   "metadata": {},
   "source": [
    "Podemos acessar somente as notas também, ou seja, somente os ``valores`` do ``dicionário`` usando o ``método`` ``values()``:"
   ]
  },
  {
   "cell_type": "code",
   "execution_count": 269,
   "metadata": {
    "ExecuteTime": {
     "end_time": "2020-06-15T15:50:10.890968Z",
     "start_time": "2020-06-15T15:50:10.888140Z"
    }
   },
   "outputs": [
    {
     "data": {
      "text/plain": [
       "dict_values([7, 8, 9, 10, 5, 5, 4, 8])"
      ]
     },
     "execution_count": 269,
     "metadata": {},
     "output_type": "execute_result"
    }
   ],
   "source": [
    "notas_turma_1_prova_1.values()"
   ]
  },
  {
   "cell_type": "markdown",
   "metadata": {
    "ExecuteTime": {
     "end_time": "2020-06-07T23:33:35.584483Z",
     "start_time": "2020-06-07T23:33:35.580441Z"
    }
   },
   "source": [
    "<a class='cell' id='dict_items'></a>\n",
    "<p class='justified'>\n",
    "    Também existe o <mark class='mono_gray'>método</mark> <mark class='mono_gray'>items()</mark> para obter todos os <mark class='mono_gray'>items</mark> do <mark class='mono_gray'>dicionário</mark>:\n",
    "</p>"
   ]
  },
  {
   "cell_type": "code",
   "execution_count": 270,
   "metadata": {
    "ExecuteTime": {
     "end_time": "2020-06-15T15:50:11.414313Z",
     "start_time": "2020-06-15T15:50:11.411772Z"
    }
   },
   "outputs": [
    {
     "data": {
      "text/plain": [
       "dict_items([('Joao', 7), ('Maria', 8), ('Heraldo', 9), ('Helena', 10), ('Eduardo', 5), ('Camila', 5), ('Bernardo', 4), ('Lazaro', 8)])"
      ]
     },
     "execution_count": 270,
     "metadata": {},
     "output_type": "execute_result"
    }
   ],
   "source": [
    "notas_turma_1_prova_1.items()"
   ]
  },
  {
   "cell_type": "markdown",
   "metadata": {},
   "source": [
    "<p class='justified'>\n",
    "    Contudo, por que queremos obter os <mark class='mono_gray'>items</mark> do <mark class='mono_gray'>dicionário</mark> se podemos simplesmente digitar o nome da variável e então inspecionar o <mark class='mono_gray'>dicionário</mark>? Quando usamos os métodos <mark class='mono_gray'>keys()</mark>, <mark class='mono_gray'>values()</mark> e <mark class='mono_gray'>items()</mark>, os valores retornados, <mark class='mono_gray'>chaves</mark>, <mark class='mono_gray'>valores</mark> e <mark class='mono_gray'>itens</mark>, estão em uma estrutura de lista. Essa estrutura nos permite percorrer os termos de maneira mais fácil quando quisermos usá-las em um <mark class='mono_gray'>loop</mark> (conteúdo que será visto mais adiante).\n",
    "</p>"
   ]
  },
  {
   "cell_type": "code",
   "execution_count": null,
   "metadata": {},
   "outputs": [],
   "source": []
  }
 ],
 "metadata": {
  "author": "mes",
  "kernelspec": {
   "display_name": "Python 3",
   "language": "python",
   "name": "python3"
  },
  "language_info": {
   "codemirror_mode": {
    "name": "ipython",
    "version": 3
   },
   "file_extension": ".py",
   "mimetype": "text/x-python",
   "name": "python",
   "nbconvert_exporter": "python",
   "pygments_lexer": "ipython3",
   "version": "3.7.4"
  },
  "latex_envs": {
   "LaTeX_envs_menu_present": true,
   "autoclose": false,
   "autocomplete": true,
   "bibliofile": "biblio.bib",
   "cite_by": "apalike",
   "current_citInitial": 1,
   "eqLabelWithNumbers": true,
   "eqNumInitial": 1,
   "hotkeys": {
    "equation": "Ctrl-E",
    "itemize": "Ctrl-I"
   },
   "labels_anchors": false,
   "latex_user_defs": false,
   "report_style_numbering": false,
   "user_envs_cfg": false
  },
  "toc": {
   "base_numbering": 1,
   "nav_menu": {},
   "number_sections": true,
   "sideBar": true,
   "skip_h1_title": false,
   "title_cell": "Table of Contents",
   "title_sidebar": "Contents",
   "toc_cell": false,
   "toc_position": {},
   "toc_section_display": true,
   "toc_window_display": false
  },
  "varInspector": {
   "cols": {
    "lenName": 16,
    "lenType": 16,
    "lenVar": 40
   },
   "kernels_config": {
    "python": {
     "delete_cmd_postfix": "",
     "delete_cmd_prefix": "del ",
     "library": "var_list.py",
     "varRefreshCmd": "print(var_dic_list())"
    },
    "r": {
     "delete_cmd_postfix": ") ",
     "delete_cmd_prefix": "rm(",
     "library": "var_list.r",
     "varRefreshCmd": "cat(var_dic_list()) "
    }
   },
   "types_to_exclude": [
    "module",
    "function",
    "builtin_function_or_method",
    "instance",
    "_Feature"
   ],
   "window_display": false
  }
 },
 "nbformat": 4,
 "nbformat_minor": 2
}
