{
 "cells": [
  {
   "cell_type": "markdown",
   "metadata": {},
   "source": [
    "---\n",
    "<a id=\"sumary\"></a>\n",
    "\n",
    "**Sumário**\n",
    "1. [Pacotes necessários](#packages)<br>\n",
    "2. [Exemplo de como exportar e importar dados usando `pandas`](#ex_pd) <br>\n",
    "3. [Exemplo de como exportar uma figura usando o `matplotlib.pyplot`](#ex_plt)"
   ]
  },
  {
   "cell_type": "markdown",
   "metadata": {},
   "source": [
    "---\n",
    "<a href=\"#sumary\">De volta para o Sumário</a>\n",
    "<a id=\"packages\"></a>\n",
    "# Pacotes necessários"
   ]
  },
  {
   "cell_type": "code",
   "execution_count": 2,
   "metadata": {
    "ExecuteTime": {
     "end_time": "2020-07-23T21:23:43.383142Z",
     "start_time": "2020-07-23T21:23:43.373928Z"
    }
   },
   "outputs": [],
   "source": [
    "# pacotes básicos para os exemplos\n",
    "import pandas as pd             # estruturar dados\n",
    "import matplotlib.pyplot as plt # confeccionar figuras\n",
    "\n",
    "# esses pacotes são usados para importar e exportar arquivos no Google Colab\n",
    "import io                      # input output functions\n",
    "from google.colab import files # só funciona no Google Colab"
   ]
  },
  {
   "cell_type": "markdown",
   "metadata": {},
   "source": [
    "---\n",
    "<a href=\"#sumary\">De volta para o Sumário</a>\n",
    "<a id=\"ex_pd\"></a>\n",
    "# Exemplo de como exportar e importar dados usando `pandas`"
   ]
  },
  {
   "cell_type": "markdown",
   "metadata": {},
   "source": [
    "Vamos criar um `pd.DataFrame` para exemplifcar como exportar arquivos do tipo `.csv`, `.tsv`, `.dat`, `.txt` etc."
   ]
  },
  {
   "cell_type": "code",
   "execution_count": 24,
   "metadata": {
    "ExecuteTime": {
     "end_time": "2020-07-23T22:00:19.001865Z",
     "start_time": "2020-07-23T22:00:18.983810Z"
    },
    "scrolled": true
   },
   "outputs": [
    {
     "data": {
      "text/plain": [
       "{'tempo': [0,\n",
       "  5,\n",
       "  10,\n",
       "  15,\n",
       "  20,\n",
       "  25,\n",
       "  30,\n",
       "  35,\n",
       "  40,\n",
       "  45,\n",
       "  50,\n",
       "  55,\n",
       "  60,\n",
       "  65,\n",
       "  70,\n",
       "  75,\n",
       "  80,\n",
       "  85,\n",
       "  90,\n",
       "  95],\n",
       " 'posicao': [5.0,\n",
       "  66.5,\n",
       "  238.00000000000003,\n",
       "  519.5,\n",
       "  911.0000000000001,\n",
       "  1412.5,\n",
       "  2024.0000000000002,\n",
       "  2745.5,\n",
       "  3577.0000000000005,\n",
       "  4518.5,\n",
       "  5570.0,\n",
       "  6731.500000000001,\n",
       "  8003.000000000001,\n",
       "  9384.5,\n",
       "  10876.0,\n",
       "  12477.500000000002,\n",
       "  14189.000000000002,\n",
       "  16010.500000000002,\n",
       "  17942.0,\n",
       "  19983.5]}"
      ]
     },
     "execution_count": 24,
     "metadata": {},
     "output_type": "execute_result"
    }
   ],
   "source": [
    "lista_de_tempos = range(0,100,5)\n",
    "\n",
    "dicionario_com_dados = {\n",
    "    'tempo'  : [t for t in lista_de_tempos],\n",
    "    'posicao': [5 + 1.3*t + 2.2*t**2 for t in lista_de_tempos]\n",
    "}\n",
    "dicionario_com_dados"
   ]
  },
  {
   "cell_type": "code",
   "execution_count": 25,
   "metadata": {
    "ExecuteTime": {
     "end_time": "2020-07-23T22:00:22.127340Z",
     "start_time": "2020-07-23T22:00:22.121686Z"
    }
   },
   "outputs": [
    {
     "data": {
      "text/html": [
       "<div>\n",
       "<style scoped>\n",
       "    .dataframe tbody tr th:only-of-type {\n",
       "        vertical-align: middle;\n",
       "    }\n",
       "\n",
       "    .dataframe tbody tr th {\n",
       "        vertical-align: top;\n",
       "    }\n",
       "\n",
       "    .dataframe thead th {\n",
       "        text-align: right;\n",
       "    }\n",
       "</style>\n",
       "<table border=\"1\" class=\"dataframe\">\n",
       "  <thead>\n",
       "    <tr style=\"text-align: right;\">\n",
       "      <th></th>\n",
       "      <th>tempo</th>\n",
       "      <th>posicao</th>\n",
       "    </tr>\n",
       "  </thead>\n",
       "  <tbody>\n",
       "    <tr>\n",
       "      <td>0</td>\n",
       "      <td>0</td>\n",
       "      <td>5.0</td>\n",
       "    </tr>\n",
       "    <tr>\n",
       "      <td>1</td>\n",
       "      <td>5</td>\n",
       "      <td>66.5</td>\n",
       "    </tr>\n",
       "    <tr>\n",
       "      <td>2</td>\n",
       "      <td>10</td>\n",
       "      <td>238.0</td>\n",
       "    </tr>\n",
       "    <tr>\n",
       "      <td>3</td>\n",
       "      <td>15</td>\n",
       "      <td>519.5</td>\n",
       "    </tr>\n",
       "    <tr>\n",
       "      <td>4</td>\n",
       "      <td>20</td>\n",
       "      <td>911.0</td>\n",
       "    </tr>\n",
       "  </tbody>\n",
       "</table>\n",
       "</div>"
      ],
      "text/plain": [
       "   tempo  posicao\n",
       "0      0      5.0\n",
       "1      5     66.5\n",
       "2     10    238.0\n",
       "3     15    519.5\n",
       "4     20    911.0"
      ]
     },
     "execution_count": 25,
     "metadata": {},
     "output_type": "execute_result"
    }
   ],
   "source": [
    "df_dados = pd.DataFrame(dicionario_com_dados)\n",
    "df_dados.head()"
   ]
  },
  {
   "cell_type": "markdown",
   "metadata": {},
   "source": [
    "Para salvar um arquivo, primeiramente usamos a função `to_csv()` do pandas normalmente fornecendo o nome do arquivo e o tipo de extensão que queremos para o arquivo:"
   ]
  },
  {
   "cell_type": "code",
   "execution_count": 6,
   "metadata": {
    "ExecuteTime": {
     "end_time": "2020-07-23T21:46:35.771773Z",
     "start_time": "2020-07-23T21:46:35.762833Z"
    }
   },
   "outputs": [],
   "source": [
    "nome_do_arquivo = 'data_ex_google_colab.csv'\n",
    "df_dados.to_csv(nome_do_arquivo)"
   ]
  },
  {
   "cell_type": "markdown",
   "metadata": {},
   "source": [
    "Observe que ao executar a célula acima, nenhuma mensagem é retornada, como se o arquvo tivesse sido exportado normalmente. Contudo, vemos que isso não aconteceu. Depois de executar essa célula, precisamos fazer o `download` do arquivo usando a função `files.download()` fornecendo como argumento o mesmo nome de arquivo que supostamente deveria ter sido gerado:"
   ]
  },
  {
   "cell_type": "code",
   "execution_count": null,
   "metadata": {},
   "outputs": [],
   "source": [
    "files.download(nome_do_arquivo)"
   ]
  },
  {
   "cell_type": "markdown",
   "metadata": {},
   "source": [
    "Após executar essa célula você irá observar uma barra de download e seu arquivo então será baixado."
   ]
  },
  {
   "cell_type": "markdown",
   "metadata": {},
   "source": [
    "Para `importar` um arquivo e usar no `pandas`, precisamos primeiramente usar a função `files.upload()` e guardar seu valor em uma variável. Isso fará com que o arquivo fique, de certa forma, guardado nessa variável. Uma vez que a célula a seguir é executada, você verá uma célula com um botão escrito `Choose Files`. Clique nesse botão e selecione o arquivo que deseja importar."
   ]
  },
  {
   "cell_type": "code",
   "execution_count": null,
   "metadata": {},
   "outputs": [],
   "source": [
    "arquivo_importado = files.upload()"
   ]
  },
  {
   "cell_type": "markdown",
   "metadata": {},
   "source": [
    "Para fazer a leitura desse arquivo usando o `pandas`, temos que executar a seguinte linha de comando:"
   ]
  },
  {
   "cell_type": "code",
   "execution_count": null,
   "metadata": {},
   "outputs": [],
   "source": [
    "nome_do_arquivo = 'data_ex_google_colab.csv'\n",
    "df = pd.read_csv(io.BytesIO(arquivo_importado[nome_do_arquivo]))\n",
    "df"
   ]
  },
  {
   "cell_type": "markdown",
   "metadata": {},
   "source": [
    "Você deve ver o `pd.DataFrame` gerado a partir do arquivo importado."
   ]
  },
  {
   "cell_type": "markdown",
   "metadata": {},
   "source": [
    "---\n",
    "<a href=\"#sumary\">De volta para o Sumário</a>\n",
    "<a id=\"ex_plt\"></a>\n",
    "# Exemplo de como exportar uma figura usando `matplotlib.pyplot`"
   ]
  },
  {
   "cell_type": "markdown",
   "metadata": {},
   "source": [
    "Vamos usar os dados do `df_dados` para confeccionar um gráfico e exportar a figura gerada."
   ]
  },
  {
   "cell_type": "code",
   "execution_count": 29,
   "metadata": {
    "ExecuteTime": {
     "end_time": "2020-07-23T22:01:35.112756Z",
     "start_time": "2020-07-23T22:01:34.922583Z"
    }
   },
   "outputs": [
    {
     "data": {
      "text/plain": [
       "Text(0.5, 1.0, 'Posicão do móvel versus tempo.')"
      ]
     },
     "execution_count": 29,
     "metadata": {},
     "output_type": "execute_result"
    },
    {
     "data": {
      "image/png": "[encoded data removed]",
      "text/plain": [
       "<Figure size 720x576 with 1 Axes>"
      ]
     },
     "metadata": {
      "needs_background": "light"
     },
     "output_type": "display_data"
    }
   ],
   "source": [
    "FONT_SIZE = 18 # tamanho para as fontes do gráfico\n",
    "\n",
    "grafico = df_dados.plot(\n",
    "    x='tempo',                 # variável independente\n",
    "    y='posicao',               # variável dependente\n",
    "    figsize=(10,8),            # tamanho da figura\n",
    "    marker='o',                # tipo do marcador\n",
    "    markersize=12,             # tamanho do marcador\n",
    "    markeredgewidth=2,         # espesurra da borda do marcador\n",
    "    markerfacecolor=\"#FFFFFF\", # cor da face do marcador\n",
    "    lw=2,                      # espessura da linha\n",
    "    fontsize=FONT_SIZE,        # tamanho das fontes\n",
    "    grid=True                  # desenha o grid no fundo\n",
    ")\n",
    "\n",
    "# especifica os textos nos labels\n",
    "grafico.set_ylabel('posicãoo, s [m]', fontsize=FONT_SIZE) # y - vertical\n",
    "grafico.set_xlabel('tempo, t [s]'  , fontsize=FONT_SIZE)  # x - horizontal\n",
    "\n",
    "# especifica a legenda\n",
    "grafico.legend(['posição'], fontsize=FONT_SIZE)\n",
    "\n",
    "# especifica o título\n",
    "grafico.set_title('Posicão do móvel versus tempo.', fontsize=FONT_SIZE)\n",
    "\n",
    "# nome para o arquivo da figura\n",
    "fig_name = 'fig_ex_google_colab.pdf'\n",
    "\n",
    "# salvamos o gráfico normalmente\n",
    "plt.savefig(fig_name, dpi=120, bbox_inches='tight') # .pdf\n",
    "files.download(fig_name) # faz o download da figura gerada no arquivo `fig_name`"
   ]
  }
 ],
 "metadata": {
  "kernelspec": {
   "display_name": "Python 3",
   "language": "python",
   "name": "python3"
  },
  "language_info": {
   "codemirror_mode": {
    "name": "ipython",
    "version": 3
   },
   "file_extension": ".py",
   "mimetype": "text/x-python",
   "name": "python",
   "nbconvert_exporter": "python",
   "pygments_lexer": "ipython3",
   "version": "3.7.4"
  },
  "latex_envs": {
   "LaTeX_envs_menu_present": true,
   "autoclose": false,
   "autocomplete": true,
   "bibliofile": "biblio.bib",
   "cite_by": "apalike",
   "current_citInitial": 1,
   "eqLabelWithNumbers": true,
   "eqNumInitial": 1,
   "hotkeys": {
    "equation": "Ctrl-E",
    "itemize": "Ctrl-I"
   },
   "labels_anchors": false,
   "latex_user_defs": false,
   "report_style_numbering": false,
   "user_envs_cfg": false
  },
  "toc": {
   "base_numbering": 1,
   "nav_menu": {},
   "number_sections": true,
   "sideBar": true,
   "skip_h1_title": false,
   "title_cell": "Table of Contents",
   "title_sidebar": "Contents",
   "toc_cell": false,
   "toc_position": {},
   "toc_section_display": true,
   "toc_window_display": false
  },
  "varInspector": {
   "cols": {
    "lenName": 16,
    "lenType": 16,
    "lenVar": 40
   },
   "kernels_config": {
    "python": {
     "delete_cmd_postfix": "",
     "delete_cmd_prefix": "del ",
     "library": "var_list.py",
     "varRefreshCmd": "print(var_dic_list())"
    },
    "r": {
     "delete_cmd_postfix": ") ",
     "delete_cmd_prefix": "rm(",
     "library": "var_list.r",
     "varRefreshCmd": "cat(var_dic_list()) "
    }
   },
   "types_to_exclude": [
    "module",
    "function",
    "builtin_function_or_method",
    "instance",
    "_Feature"
   ],
   "window_display": false
  }
 },
 "nbformat": 4,
 "nbformat_minor": 2
}
