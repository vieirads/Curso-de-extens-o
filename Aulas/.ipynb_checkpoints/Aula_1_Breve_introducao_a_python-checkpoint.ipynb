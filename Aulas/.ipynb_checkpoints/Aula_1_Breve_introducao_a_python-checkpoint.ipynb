{
 "cells": [
  {
   "cell_type": "markdown",
   "metadata": {},
   "source": [
    "---\n",
    "**Sumário**\n",
    "\n",
    "- 1. [O que é python?](#o_que_e_python) <br>\n",
    "- 2. [Executando códigos no Jupyter](#executando_codigos_no_jupyter) <br>\n",
    "- 3. [Os tipos de variáveis](#os_tipos_de_variaveis) <br>\n",
    "- 4. [Operações Matemáticas](#operacoes_matematicas) <br>\n",
    "- 5. [Operações lógicas](#operacoes_logicas) <br>\n",
    "- 6. [Operações de comparação](#operacoes_de_comparacao) <br>\n",
    "- 7. [Atribuindo valores às variáveis](#atribuindo_valores_as_variaveis) <br>\n",
    "- 8. [Strings](#strings) <br>\n",
    "- 9. [Breve comentário sobre as ``classes``](#breve_comentario_sobre_as_classes) <br>\n",
    "- 10. [Listas](#listas)\n",
    "- 11. [Tuplas](#tuplas) <br>\n",
    "- 12. [Dicionários](#dicionarios) <br>\n",
    "- 13. [Condicionais](#condicionais) <br>\n",
    "- 14. [Loops](#loops) <br>\n",
    "- 15. [Importando pacotes](#importando_pacotes) <br>\n",
    "- X. [Onde posso encontrar mais conteúdo?](#onde_posso_encontrar_mais_conteudo)\n",
    "---"
   ]
  },
  {
   "cell_type": "markdown",
   "metadata": {},
   "source": [
    "<a class='section' id='o_que_e_python'></a>\n",
    "# O que é python?"
   ]
  },
  {
   "cell_type": "markdown",
   "metadata": {},
   "source": [
    "``Python`` é uma linguagem de programação encontrada no desenvolvimento de softwares, criação de web sites e até de jogos. Sua popularidade vem crescendo nos últimos anos mais do que os de outras linguagens [[1]](http://pypl.github.io/PYPL.html). Empresas como ``Google``, ``Facebook``, ``Spotify`` e ``Netflix`` são exemplos que usam ``python`` no desenvolvimento de suas ferramentas. \n",
    "\n",
    "\n",
    "Um dos fatores que faz com que essa linguagem esteja sendo muito procurada nos últimos anos, é o fato dela possuir um grande número de ``pacotes`` (também chamados de ``módulos``) disponíveis. Podemos encontrar códigos prontos que fazem análises matemáticas e confecção de gráficos para visualização de dados muito facilmente. Além disso, ela possui uma comunidade bem ativa, sempre procurando melhorar os pacotes disponíveis e criar outros. E o melhor de tudo, ela é gratuíta!\n",
    "\n",
    "Outro fato que chama atenção, é de que essa linguagem tem se tornado bastante comum entre a comunidade científica. Uma de suas principais aplicações tem sido na análise de dados. A procura por padrões e criação de modelos, utilizando, principalmente, *machine learning* nos últimos anos, tem rendido aos pesquisadore a publicação de artigos em jornais científicos. "
   ]
  },
  {
   "cell_type": "markdown",
   "metadata": {},
   "source": [
    "``Python`` é uma linguagem de programação de alto nível. Isso quer dizer que os termos usados para escrever os códigos se aproximam mais da linguagem humana. Isso faz com que ela seja fácil de ser entendida e escrita. Para exemplificar como ``python`` pode ser muito mais fácil que outra linguagens, observe os trechos de códigos para imprimir na tela a frase ``Hello, world!`` em linguagem ``C``\n"
   ]
  },
  {
   "cell_type": "markdown",
   "metadata": {},
   "source": [
    "```C\n",
    "#include <stdio.h>\n",
    "\n",
    "int main(void)\n",
    "{\n",
    "    printf(\"hello, world\\n\");\n",
    "}\n",
    "```"
   ]
  },
  {
   "cell_type": "markdown",
   "metadata": {},
   "source": [
    "e em ``python``\n",
    "```python\n",
    "print('Hello, world!')\n",
    "```\n",
    "\n",
    "Além disso, para executar o código da linguagem ``C``, precisamos compilá-lo e depois executá-lo. Em ``python``, uma vez que o código é escrito basta executá-lo para obter o resultado. "
   ]
  },
  {
   "cell_type": "markdown",
   "metadata": {},
   "source": [
    "Nas próximas seções iremos aprender sobre alguns comandos e funções básicas do ``python``. O conteúdo que será visto aqui servirá de base para as aulas posteriores. Portanto, tente entender o que está acontecendo nos códigos. Tente reproduzir os códigos usando valores e nomes de variáveis diferentes. Isso pode ajudar na fixação de conteúdo."
   ]
  },
  {
   "cell_type": "markdown",
   "metadata": {},
   "source": [
    "<a class='section' id='executando_codigos_no_jupyter'></a>\n",
    "# Executando códigos no Jupyter"
   ]
  },
  {
   "cell_type": "markdown",
   "metadata": {},
   "source": [
    "<a class='cell' id='create_new_cell'></a>\n",
    "Usaremos o [``Jupyter``](https://jupyter.org/) para realizar nossos trabalhos e isso inclui executar vários códigos em ``python``! Podemos escrever os códigos em qualquer célula do ``Notebook``. Para criar uma nova célula, você pode simplesmente apertar ``esc``, fazendo a célula ficar selecionada de azul, e então aperta ``b`` para criar uma célula abaixo ou apertar ``a`` para criar uma célula em cima. Caso prefira, você também pode cliclar em ``Insert`` na barra acima e selecionar onde deseja criar uma nova célula. Uma vez que a célula é criada e você esteja preparado para começar a digitar seus códigos nela, aperte ``enter`` ou clique duas vezes nela. Quando a célular ficar com a borda verde, significa que você pode digitar seus códigos."
   ]
  },
  {
   "cell_type": "markdown",
   "metadata": {},
   "source": [
    "É de costume sempre que começamos a estudar uma linguagem de programação, o primeiro código é imprimir na tela a frase ``Hello, World!``. Aqui não será um pouco diferente, nosso primeiro código em ``python`` será imprimir uma outra frase na tela. Para isso, clique na célula abaixo com o código escrito e aperte ``shift+enter``."
   ]
  },
  {
   "cell_type": "code",
   "execution_count": 15,
   "metadata": {
    "ExecuteTime": {
     "end_time": "2020-06-05T14:56:43.277948Z",
     "start_time": "2020-06-05T14:56:43.275109Z"
    }
   },
   "outputs": [
    {
     "name": "stdout",
     "output_type": "stream",
     "text": [
      "Quero café!\n"
     ]
    }
   ],
   "source": [
    "print('Quero café!')"
   ]
  },
  {
   "cell_type": "markdown",
   "metadata": {},
   "source": [
    "Pronto, você executou seu primeiro (de muitos) códigos em ``python``. Você também pode executar uma célula selecionando-a e clicando, na barra acima, no botão ``run``, que possui uma flecha para direita e uma barra vertical."
   ]
  },
  {
   "cell_type": "markdown",
   "metadata": {},
   "source": [
    "A função ``print()`` serve para imprimir valores na tela. Veja que passamos um argumento para ela, a frase ``'Hello, world!'``. Toda palavra ou frase que queremos que seja imprimida na tela, deve ser colocada entre aspas simples ou dupla:"
   ]
  },
  {
   "cell_type": "code",
   "execution_count": 3,
   "metadata": {
    "ExecuteTime": {
     "end_time": "2020-06-02T19:52:42.015297Z",
     "start_time": "2020-06-02T19:52:42.013262Z"
    }
   },
   "outputs": [
    {
     "name": "stdout",
     "output_type": "stream",
     "text": [
      "Essa é uma frase com aspas simples.\n",
      "Essa é uma frase com aspas duplas.\n"
     ]
    }
   ],
   "source": [
    "print('Essa é uma frase com aspas simples.')\n",
    "print(\"Essa é uma frase com aspas duplas.\")"
   ]
  },
  {
   "cell_type": "markdown",
   "metadata": {},
   "source": [
    "Podemos digitar mais de um comando para ser executado em uma única célular, como foi acima, onde duas funções ``print()`` foram executadas com sentenças diferentes. Podemos também imprimir números:"
   ]
  },
  {
   "cell_type": "code",
   "execution_count": 4,
   "metadata": {
    "ExecuteTime": {
     "end_time": "2020-06-02T19:54:32.987943Z",
     "start_time": "2020-06-02T19:54:32.985249Z"
    }
   },
   "outputs": [
    {
     "name": "stdout",
     "output_type": "stream",
     "text": [
      "3\n"
     ]
    }
   ],
   "source": [
    "print(3)"
   ]
  },
  {
   "cell_type": "markdown",
   "metadata": {},
   "source": [
    "Veja que para imprimir o valor ``3``, não usamos nenhum tipo de aspas. Isso ocorre porquê a própria função faz a conversão do valor numérico para palavra. Contudo, se tentarmos imprimir uma frase sem o uso de aspas, nos deparamos com um erro:"
   ]
  },
  {
   "cell_type": "code",
   "execution_count": 5,
   "metadata": {
    "ExecuteTime": {
     "end_time": "2020-06-02T19:56:07.342609Z",
     "start_time": "2020-06-02T19:56:07.340051Z"
    }
   },
   "outputs": [
    {
     "ename": "SyntaxError",
     "evalue": "invalid syntax (<ipython-input-5-58cb5da3b684>, line 1)",
     "output_type": "error",
     "traceback": [
      "\u001b[0;36m  File \u001b[0;32m\"<ipython-input-5-58cb5da3b684>\"\u001b[0;36m, line \u001b[0;32m1\u001b[0m\n\u001b[0;31m    print(Tentando imprimir uma frase sem aspas)\u001b[0m\n\u001b[0m                          ^\u001b[0m\n\u001b[0;31mSyntaxError\u001b[0m\u001b[0;31m:\u001b[0m invalid syntax\n"
     ]
    }
   ],
   "source": [
    "print(Tentando imprimir uma frase sem aspas)"
   ]
  },
  {
   "cell_type": "markdown",
   "metadata": {},
   "source": [
    "O erro acima ``SyntaxError``, nos diz que usamos a linguagem de programação de maneira indevida."
   ]
  },
  {
   "cell_type": "markdown",
   "metadata": {},
   "source": [
    "Contudo, no âmbito do ``Jupyter Notebook``, se quisermos imprimir algo na tela, não precisamos usar a função ``print()``:"
   ]
  },
  {
   "cell_type": "code",
   "execution_count": 6,
   "metadata": {
    "ExecuteTime": {
     "end_time": "2020-06-02T19:59:30.536671Z",
     "start_time": "2020-06-02T19:59:30.529849Z"
    }
   },
   "outputs": [
    {
     "data": {
      "text/plain": [
       "'Essa frase será imrpimida sem o uso da função print().'"
      ]
     },
     "execution_count": 6,
     "metadata": {},
     "output_type": "execute_result"
    }
   ],
   "source": [
    "\"Essa frase será imrpimida sem o uso da função print().\""
   ]
  },
  {
   "cell_type": "markdown",
   "metadata": {},
   "source": [
    "Porém, se tentarmos imprimir várias frases em sequência, veja o que acontece:"
   ]
  },
  {
   "cell_type": "code",
   "execution_count": 7,
   "metadata": {
    "ExecuteTime": {
     "end_time": "2020-06-02T20:00:12.642855Z",
     "start_time": "2020-06-02T20:00:12.640281Z"
    }
   },
   "outputs": [
    {
     "data": {
      "text/plain": [
       "'E essa é a última!'"
      ]
     },
     "execution_count": 7,
     "metadata": {},
     "output_type": "execute_result"
    }
   ],
   "source": [
    "\"Essa é a primeira frase.\"\n",
    "\"E essa é a última!\""
   ]
  },
  {
   "cell_type": "markdown",
   "metadata": {},
   "source": [
    "Somente a última sentença é imprimida.\n",
    "\n",
    "Agora que já vimos como executar as células com códigos, tente você fazer alguns testes!"
   ]
  },
  {
   "cell_type": "markdown",
   "metadata": {},
   "source": [
    "Digite na célula abaixo o código para imprimir a sentença: **Essa é a primeira aula do curso mais legal que eu já fiz!**"
   ]
  },
  {
   "cell_type": "code",
   "execution_count": null,
   "metadata": {},
   "outputs": [],
   "source": []
  },
  {
   "cell_type": "markdown",
   "metadata": {},
   "source": [
    "Não conseguiu? <b>Clique duas vezes aqui</b> e dê uma espiada na resposta =)\n",
    "<!--\n",
    "Resposta:\n",
    "---------\n",
    "print(\"Essa é a primeira aula do curso mais legal que eu já fiz!\")\n",
    "-->"
   ]
  },
  {
   "cell_type": "markdown",
   "metadata": {},
   "source": [
    "Tente imprimir algumas palavras, sentenças ou números. Veja como criar novas células para escrever seu código voltando [nessa célula](#create_new_cell)."
   ]
  },
  {
   "cell_type": "markdown",
   "metadata": {},
   "source": [
    "Uma das coisas considerada boa prática em programação é comentar o código. Comentários servem para explicar o que seu código faz. Essas aplicações são úteis para outras pessoas entenderem o que seu programa faz e como ele faz. Além disso, ele ajuda você mesmo a lembrar o que você fez e o porquê de ter feito daquela forma. \n",
    "\n",
    "Em ``python``, comentários podem ser criados usando o caracter ``#``. Veja na célula abaixo o exemplo:"
   ]
  },
  {
   "cell_type": "code",
   "execution_count": 77,
   "metadata": {
    "ExecuteTime": {
     "end_time": "2020-06-05T21:20:45.513806Z",
     "start_time": "2020-06-05T21:20:45.511346Z"
    }
   },
   "outputs": [
    {
     "name": "stdout",
     "output_type": "stream",
     "text": [
      "Essa frase será imprimida na tela.\n"
     ]
    }
   ],
   "source": [
    "# vamos escrever alguns comentários para exemplificar o código\n",
    "# vamos imprimir uma frase na tela\n",
    "print(\"Essa frase será imprimida na tela.\")\n",
    "# print(\"Essa frase não será imprimida na tela.\")"
   ]
  },
  {
   "cell_type": "code",
   "execution_count": 78,
   "metadata": {
    "ExecuteTime": {
     "end_time": "2020-06-05T21:21:19.561278Z",
     "start_time": "2020-06-05T21:21:19.559699Z"
    }
   },
   "outputs": [],
   "source": [
    "# execute essa célula para constatar que nada acontecerá\n",
    "# print(\"Nada acontecerá\")"
   ]
  },
  {
   "cell_type": "markdown",
   "metadata": {},
   "source": [
    "# Os tipos de variáveis"
   ]
  },
  {
   "cell_type": "markdown",
   "metadata": {},
   "source": [
    "Em ``python``, assim como em outras linguagens, existe uma distinção no ``tipo`` ou ``classe`` das variáveis que estamos lidando. Nos exemplos anteriores vimos como imprimir uma frase e que para isso, devemos usar as aspas simples ou duplas. Isso se deve ao fato de que em ``python``, uma ``string`` é definida dessa forma. Uma ``string`` é uma cobinação de caracteres que pode ser imprimido. Quando tentamos usar um ``número inteiro`` dentro da função ``print()``, vimos que o resultado foi a impressão desse número abaixo da célula. Isso se deve ao fato da função ``print()`` converter esse número inteiro, que é do tipo ``int`` para uma ``string``. Podemos sempre saber o tipo de uma variável usando a função ``type()`` passando como argumento a variável que queremos descobrir o tipo. Vamos ver alguns exemplos.\n"
   ]
  },
  {
   "cell_type": "markdown",
   "metadata": {},
   "source": [
    "Se \"perguntarmos\" qual é o ``tipo`` da variável 'Hello, world!', a função ``type()`` nos retornará o valor ``str``:"
   ]
  },
  {
   "cell_type": "code",
   "execution_count": 8,
   "metadata": {
    "ExecuteTime": {
     "end_time": "2020-06-02T20:58:18.654604Z",
     "start_time": "2020-06-02T20:58:18.652014Z"
    }
   },
   "outputs": [
    {
     "data": {
      "text/plain": [
       "str"
      ]
     },
     "execution_count": 8,
     "metadata": {},
     "output_type": "execute_result"
    }
   ],
   "source": [
    "type('Hello, world!')"
   ]
  },
  {
   "cell_type": "markdown",
   "metadata": {},
   "source": [
    "Isso quer dizer que a variável é do ``tipo`` ou pertence à ``classe`` ``string``, ou, de maneira abreviada, ``str``.\n",
    "\n",
    "Se passarmos um ``número inteiro`` como argumento, veremos que a função ``type()`` retornará o valor ``int``:"
   ]
  },
  {
   "cell_type": "code",
   "execution_count": 9,
   "metadata": {
    "ExecuteTime": {
     "end_time": "2020-06-02T21:00:43.315475Z",
     "start_time": "2020-06-02T21:00:43.312749Z"
    }
   },
   "outputs": [
    {
     "data": {
      "text/plain": [
       "int"
      ]
     },
     "execution_count": 9,
     "metadata": {},
     "output_type": "execute_result"
    }
   ],
   "source": [
    "type(3)"
   ]
  },
  {
   "cell_type": "markdown",
   "metadata": {},
   "source": [
    "Em matemática aprendemos conjuntos numéricos, onde os número inteiros (1, 2, 3, $\\dots$) percentem ao conjunto dos números naturais ($\\mathbb{N}$). Já os números que podem ser representados como frações $p/q$ em que $p$ e $q$ são números inteiros, como $0{,}92$, $1/4$, $0.33333$ fazem parte dos números racionais ($\\mathbb{Q}$). Em ``python``, tais número também são diferentes. Enquanto o primeiro conjunto é do tipo ``int``, o segundo é do tipo ``float``:"
   ]
  },
  {
   "cell_type": "code",
   "execution_count": 10,
   "metadata": {
    "ExecuteTime": {
     "end_time": "2020-06-02T21:10:58.247037Z",
     "start_time": "2020-06-02T21:10:58.244619Z"
    }
   },
   "outputs": [
    {
     "data": {
      "text/plain": [
       "float"
      ]
     },
     "execution_count": 10,
     "metadata": {},
     "output_type": "execute_result"
    }
   ],
   "source": [
    "type(0.92)"
   ]
  },
  {
   "cell_type": "code",
   "execution_count": 11,
   "metadata": {
    "ExecuteTime": {
     "end_time": "2020-06-02T21:11:04.732662Z",
     "start_time": "2020-06-02T21:11:04.729796Z"
    }
   },
   "outputs": [
    {
     "data": {
      "text/plain": [
       "float"
      ]
     },
     "execution_count": 11,
     "metadata": {},
     "output_type": "execute_result"
    }
   ],
   "source": [
    "type(1/4)"
   ]
  },
  {
   "cell_type": "code",
   "execution_count": 12,
   "metadata": {
    "ExecuteTime": {
     "end_time": "2020-06-02T21:11:19.677711Z",
     "start_time": "2020-06-02T21:11:19.674983Z"
    }
   },
   "outputs": [
    {
     "data": {
      "text/plain": [
       "float"
      ]
     },
     "execution_count": 12,
     "metadata": {},
     "output_type": "execute_result"
    }
   ],
   "source": [
    "type(0.33333)"
   ]
  },
  {
   "cell_type": "markdown",
   "metadata": {},
   "source": [
    "Mesmo os número que são irracionais, isto é, dizimas infinitas sem repetição, como $\\pi = 3{,}141592653589793\\dots$, também são considerados como ``float``:"
   ]
  },
  {
   "cell_type": "code",
   "execution_count": 15,
   "metadata": {
    "ExecuteTime": {
     "end_time": "2020-06-02T21:13:11.778121Z",
     "start_time": "2020-06-02T21:13:11.775511Z"
    }
   },
   "outputs": [
    {
     "data": {
      "text/plain": [
       "float"
      ]
     },
     "execution_count": 15,
     "metadata": {},
     "output_type": "execute_result"
    }
   ],
   "source": [
    "type(3.141592653589793)"
   ]
  },
  {
   "cell_type": "markdown",
   "metadata": {},
   "source": [
    "As funções também possuem um ``tipo`` específico:"
   ]
  },
  {
   "cell_type": "code",
   "execution_count": 23,
   "metadata": {
    "ExecuteTime": {
     "end_time": "2020-06-02T21:14:54.304555Z",
     "start_time": "2020-06-02T21:14:54.301810Z"
    }
   },
   "outputs": [
    {
     "data": {
      "text/plain": [
       "builtin_function_or_method"
      ]
     },
     "execution_count": 23,
     "metadata": {},
     "output_type": "execute_result"
    }
   ],
   "source": [
    "type(print)"
   ]
  },
  {
   "cell_type": "markdown",
   "metadata": {
    "ExecuteTime": {
     "end_time": "2020-06-02T21:15:14.472247Z",
     "start_time": "2020-06-02T21:15:14.470389Z"
    }
   },
   "source": [
    "<a class='cell' id='func_and_method_1'></a>\n",
    "Esse tipo nos diz que ``print`` é uma ``função`` ou ``método`` inata do ``python``, ou seja, não é necessário importá-la a partir de um pacote separado para usá-la. Mais a [frente](#func_and_method_2), veremos que existe uma diferença sútil entre ``função`` e ``método``."
   ]
  },
  {
   "cell_type": "markdown",
   "metadata": {},
   "source": [
    "<a class='cell' id='bool_explanation'></a>\n",
    "Um outro tipo muito importante de variável em qualquer tipo de linguagem de programação é a variável do tipo ``boolean``. Temos somente duas variáveis desse tipo: ``True`` e ``False``, que também podem ser representadas pelas número ``1`` e ``0``, respectivamente. Elas são usadas em operações lógicas para nos dizer se algo é ``Verdadeiro (True)`` ou ``Falso (False)`` e então qual decisão deve ser tomada."
   ]
  },
  {
   "cell_type": "code",
   "execution_count": 21,
   "metadata": {
    "ExecuteTime": {
     "end_time": "2020-06-03T23:29:55.476973Z",
     "start_time": "2020-06-03T23:29:55.472069Z"
    }
   },
   "outputs": [
    {
     "data": {
      "text/plain": [
       "bool"
      ]
     },
     "execution_count": 21,
     "metadata": {},
     "output_type": "execute_result"
    }
   ],
   "source": [
    "type(True)"
   ]
  },
  {
   "cell_type": "code",
   "execution_count": 22,
   "metadata": {
    "ExecuteTime": {
     "end_time": "2020-06-03T23:30:04.442731Z",
     "start_time": "2020-06-03T23:30:04.439954Z"
    }
   },
   "outputs": [
    {
     "data": {
      "text/plain": [
       "bool"
      ]
     },
     "execution_count": 22,
     "metadata": {},
     "output_type": "execute_result"
    }
   ],
   "source": [
    "type(False)"
   ]
  },
  {
   "cell_type": "markdown",
   "metadata": {},
   "source": [
    "Veja que a linguagem python tende a abreviar os termos, como vimos no caso de ``str`` para ``string`` e ``bool`` para ``boolean``.\n",
    "\n",
    "Conformes for avançando, veremos mais alguns tipos de variáveis."
   ]
  },
  {
   "cell_type": "markdown",
   "metadata": {},
   "source": [
    "<a class='section' id='operacoes_matematicas'></a>\n",
    "# Operações matemáticas"
   ]
  },
  {
   "cell_type": "markdown",
   "metadata": {},
   "source": [
    "Em ``python`` é muito fácil executar operação matemáticas. As operações matemáticas mais básicas como ``soma``, ``subtração``, ``multiplicação``, ``divisão`` e ``potenciação/exponenciação`` são efetuadas da seguinte forma:"
   ]
  },
  {
   "cell_type": "markdown",
   "metadata": {},
   "source": [
    "- Soma\n",
    "```python\n",
    ">>> 2+2\n",
    "4\n",
    "```\n",
    "- Subtração\n",
    "```python\n",
    ">>> 5-2\n",
    "3\n",
    "```\n",
    "- Multiplicação\n",
    "```python\n",
    ">>> 2*3\n",
    "6\n",
    "```\n",
    "- Divisão\n",
    "```python\n",
    ">>> 10/2\n",
    "5\n",
    "```\n",
    "- Potenciação/exponenciação\n",
    "```python\n",
    ">>> 2**3\n",
    "8\n",
    "```\n",
    "\n",
    "O símbolo ```>>>``` indica um código que será executado e na linha abaixo o que foi retornado como resultado.\n",
    "\n",
    "Vamos executar algumas dessas operações abaixo."
   ]
  },
  {
   "cell_type": "code",
   "execution_count": 1,
   "metadata": {
    "ExecuteTime": {
     "end_time": "2020-06-03T23:01:33.421300Z",
     "start_time": "2020-06-03T23:01:33.414725Z"
    }
   },
   "outputs": [
    {
     "data": {
      "text/plain": [
       "4"
      ]
     },
     "execution_count": 1,
     "metadata": {},
     "output_type": "execute_result"
    }
   ],
   "source": [
    "2+2"
   ]
  },
  {
   "cell_type": "code",
   "execution_count": 5,
   "metadata": {
    "ExecuteTime": {
     "end_time": "2020-06-03T23:02:41.413210Z",
     "start_time": "2020-06-03T23:02:41.409661Z"
    }
   },
   "outputs": [
    {
     "data": {
      "text/plain": [
       "3"
      ]
     },
     "execution_count": 5,
     "metadata": {},
     "output_type": "execute_result"
    }
   ],
   "source": [
    "5-2"
   ]
  },
  {
   "cell_type": "code",
   "execution_count": 7,
   "metadata": {
    "ExecuteTime": {
     "end_time": "2020-06-03T23:02:49.302526Z",
     "start_time": "2020-06-03T23:02:49.293019Z"
    }
   },
   "outputs": [
    {
     "data": {
      "text/plain": [
       "6"
      ]
     },
     "execution_count": 7,
     "metadata": {},
     "output_type": "execute_result"
    }
   ],
   "source": [
    "2*3"
   ]
  },
  {
   "cell_type": "code",
   "execution_count": 9,
   "metadata": {
    "ExecuteTime": {
     "end_time": "2020-06-03T23:02:56.175738Z",
     "start_time": "2020-06-03T23:02:56.164374Z"
    }
   },
   "outputs": [
    {
     "data": {
      "text/plain": [
       "5.0"
      ]
     },
     "execution_count": 9,
     "metadata": {},
     "output_type": "execute_result"
    }
   ],
   "source": [
    "10/2"
   ]
  },
  {
   "cell_type": "code",
   "execution_count": 11,
   "metadata": {
    "ExecuteTime": {
     "end_time": "2020-06-03T23:03:10.875292Z",
     "start_time": "2020-06-03T23:03:10.862384Z"
    }
   },
   "outputs": [
    {
     "data": {
      "text/plain": [
       "8"
      ]
     },
     "execution_count": 11,
     "metadata": {},
     "output_type": "execute_result"
    }
   ],
   "source": [
    "2**3"
   ]
  },
  {
   "cell_type": "markdown",
   "metadata": {},
   "source": [
    "Tente você fazer algumas operações abaixo."
   ]
  },
  {
   "cell_type": "code",
   "execution_count": null,
   "metadata": {},
   "outputs": [],
   "source": [
    "# efetue suas operações aqui. Não se esqueça de aperta shift+enter para executar o código escrito na célula.\n"
   ]
  },
  {
   "cell_type": "markdown",
   "metadata": {},
   "source": [
    "Existem outros tipos de operação que as vezes são úteis. A primeira delas é chamada de ``módulo`` e simbolizada pelo operador ``%``. Ele funciona como uma divisão, nos retornando o valor inteiro que resta da divisão:\n",
    "\n",
    "```python\n",
    " 7%2 = 1 # o número 2 cabe três vezes inteiras em  5 e sobra 1\n",
    "10%4 = 2 # o número 4 cabe duas vezes inteiras em 10 e sobra 2\n",
    "```\n",
    "\n",
    "Confira nas células abaixo!"
   ]
  },
  {
   "cell_type": "code",
   "execution_count": 15,
   "metadata": {
    "ExecuteTime": {
     "end_time": "2020-06-03T23:24:42.157748Z",
     "start_time": "2020-06-03T23:24:42.155474Z"
    }
   },
   "outputs": [
    {
     "data": {
      "text/plain": [
       "6"
      ]
     },
     "execution_count": 15,
     "metadata": {},
     "output_type": "execute_result"
    }
   ],
   "source": [
    "13%7"
   ]
  },
  {
   "cell_type": "code",
   "execution_count": 16,
   "metadata": {
    "ExecuteTime": {
     "end_time": "2020-06-03T23:24:49.333823Z",
     "start_time": "2020-06-03T23:24:49.323736Z"
    }
   },
   "outputs": [
    {
     "data": {
      "text/plain": [
       "3"
      ]
     },
     "execution_count": 16,
     "metadata": {},
     "output_type": "execute_result"
    }
   ],
   "source": [
    "19%4"
   ]
  },
  {
   "cell_type": "code",
   "execution_count": 14,
   "metadata": {
    "ExecuteTime": {
     "end_time": "2020-06-03T23:22:35.445731Z",
     "start_time": "2020-06-03T23:22:35.440751Z"
    }
   },
   "outputs": [
    {
     "data": {
      "text/plain": [
       "1.5"
      ]
     },
     "execution_count": 14,
     "metadata": {},
     "output_type": "execute_result"
    }
   ],
   "source": [
    "3.5%2"
   ]
  },
  {
   "cell_type": "markdown",
   "metadata": {},
   "source": [
    "A segunda operação é simbolizada pelo operador ``//``. Ele também funciona como uma divisão, contudo, ele nos retorna o resultado inteiro da divisão:\n",
    "\n",
    "```python\n",
    "10//3 = 3 # o número 3 cabe três vezes inteiro em 10\n",
    "14//6 = 2 # o número 6 cabe duas vezes inteiro em 14\n",
    "```\n",
    "\n",
    "Confira mais exemplos nas células abaixo!"
   ]
  },
  {
   "cell_type": "code",
   "execution_count": 18,
   "metadata": {
    "ExecuteTime": {
     "end_time": "2020-06-03T23:25:02.717872Z",
     "start_time": "2020-06-03T23:25:02.708049Z"
    }
   },
   "outputs": [
    {
     "data": {
      "text/plain": [
       "16"
      ]
     },
     "execution_count": 18,
     "metadata": {},
     "output_type": "execute_result"
    }
   ],
   "source": [
    "33//2"
   ]
  },
  {
   "cell_type": "code",
   "execution_count": 19,
   "metadata": {
    "ExecuteTime": {
     "end_time": "2020-06-03T23:25:15.942142Z",
     "start_time": "2020-06-03T23:25:15.936516Z"
    }
   },
   "outputs": [
    {
     "data": {
      "text/plain": [
       "17.0"
      ]
     },
     "execution_count": 19,
     "metadata": {},
     "output_type": "execute_result"
    }
   ],
   "source": [
    "5.2//0.3"
   ]
  },
  {
   "cell_type": "markdown",
   "metadata": {},
   "source": [
    "E a raíz quadrada? A raíz cúbica? Para efetuar essas operações precisamos reescrever a potência em termos de uma fração, ou seja, \n",
    "\n",
    "$$\n",
    "\\begin{split}\n",
    "    \\sqrt{x}    &= x^{1/2}\\\\\n",
    "    \\sqrt[3]{x} &= x^{1/3}\\\\\n",
    "                &\\ \\,\\vdots\\\\\n",
    "    \\sqrt[n]{x} &= x^{1/n}\n",
    "\\end{split}\n",
    "$$\n",
    "\n",
    "Vamos conferir alguns exemplos:\n",
    "\n",
    "```python\n",
    ">>> 16**(1/2)\n",
    "4.0\n",
    ">>> 27**(1/3)\n",
    "3.0\n",
    ">>> 1024**(1/10)\n",
    "2.0\n",
    "```"
   ]
  },
  {
   "cell_type": "markdown",
   "metadata": {
    "ExecuteTime": {
     "end_time": "2020-06-04T21:56:06.354411Z",
     "start_time": "2020-06-04T21:56:06.351049Z"
    }
   },
   "source": [
    "Tente você, efetue as seguintes raízes:\n",
    "\n",
    "- a. $\\sqrt{81}$;\n",
    "- b. $\\sqrt[3]{81}$;\n",
    "- c. $256^{1/4}$;"
   ]
  },
  {
   "cell_type": "code",
   "execution_count": null,
   "metadata": {},
   "outputs": [],
   "source": []
  },
  {
   "cell_type": "code",
   "execution_count": null,
   "metadata": {},
   "outputs": [],
   "source": []
  },
  {
   "cell_type": "code",
   "execution_count": null,
   "metadata": {},
   "outputs": [],
   "source": []
  },
  {
   "cell_type": "markdown",
   "metadata": {},
   "source": [
    "Não conseguiu? **Clique duas vezes aqui** e dê uma espiada na resposta =)\n",
    "\n",
    "<!--\n",
    "a. \n",
    ">>> 81**(1/2)\n",
    "9.0\n",
    "\n",
    "b.\n",
    ">>> 81**(1/3)\n",
    "3.0\n",
    "\n",
    "c.\n",
    ">>> 256**(1/4)\n",
    "4.0\n",
    "-->"
   ]
  },
  {
   "cell_type": "markdown",
   "metadata": {},
   "source": [
    "Outro detalhe que devemos nos atentar é na questão aritmética na ordem das operações que devem ser realizadas. Devemos respeitar a seguinte ordem:\n",
    "\n",
    "- Parêntesis\n",
    "- Expoentes\n",
    "- Multiplicações e divisões\n",
    "- Somas e subtrações\n",
    "\n",
    "Por exemplo:\n",
    "\n",
    "$$\n",
    "    \\left(1+2\\right) \\times 3^3 = \\left( 3 \\right) \\times 3^3 = \\left( 3 \\right) \\times 27 = 81.\n",
    "$$\n",
    "\n",
    "$$\n",
    "    \\left(2{,}5 + \\frac{7}{2} \\right)^2 \\times 3 + 3 + \\frac{3^3}{3} = \\left(2{,}5 + 3{,}5 \\right)^2 \\times 3 + 3 + \\frac{27}{3} = \\left( 6 \\right)^2 \\times 3 + 3 + 9 = 36 \\times 3 + 12 = 108 + 12 = 120.\n",
    "$$\n",
    "\n",
    "Quando escrevemos um código para descrever uma operação aritmética devemos levar em consideração a ordem correta. Vamos reescrever essas duas expressões nas células abaixo e executá-las."
   ]
  },
  {
   "cell_type": "code",
   "execution_count": 17,
   "metadata": {
    "ExecuteTime": {
     "end_time": "2020-06-04T14:05:45.420061Z",
     "start_time": "2020-06-04T14:05:45.410587Z"
    }
   },
   "outputs": [
    {
     "data": {
      "text/plain": [
       "81"
      ]
     },
     "execution_count": 17,
     "metadata": {},
     "output_type": "execute_result"
    }
   ],
   "source": [
    "( 1 + 2 )*3**3"
   ]
  },
  {
   "cell_type": "markdown",
   "metadata": {},
   "source": [
    "Apesar do código acima nos fornecer o resultado correto, as vezes é melhor separarmos os termos por parêntesis para uma melhor leitura do código:"
   ]
  },
  {
   "cell_type": "code",
   "execution_count": 18,
   "metadata": {
    "ExecuteTime": {
     "end_time": "2020-06-04T14:07:15.435035Z",
     "start_time": "2020-06-04T14:07:15.430025Z"
    }
   },
   "outputs": [
    {
     "data": {
      "text/plain": [
       "81"
      ]
     },
     "execution_count": 18,
     "metadata": {},
     "output_type": "execute_result"
    }
   ],
   "source": [
    "( 1 + 2 )*( 3**3 )"
   ]
  },
  {
   "cell_type": "markdown",
   "metadata": {},
   "source": [
    "A segunda operação ficaria, então, escrita como"
   ]
  },
  {
   "cell_type": "code",
   "execution_count": 20,
   "metadata": {
    "ExecuteTime": {
     "end_time": "2020-06-04T14:08:41.175514Z",
     "start_time": "2020-06-04T14:08:41.164119Z"
    }
   },
   "outputs": [
    {
     "data": {
      "text/plain": [
       "120.0"
      ]
     },
     "execution_count": 20,
     "metadata": {},
     "output_type": "execute_result"
    }
   ],
   "source": [
    "(( 2.5 + (7/2) )**2)*3 + 3 + (3**3)/3"
   ]
  },
  {
   "cell_type": "markdown",
   "metadata": {},
   "source": [
    "Tente você agora escrever o código para as seguintes operações:\n",
    "\n",
    "$$\n",
    "    3 \\times 4 + \\frac{8}{2} - 3^2\n",
    "$$\n",
    "\n",
    "$$\n",
    "    \\frac{2^3}{8} \\times \\left( 3^2 \\times 3 \\right) - 3\n",
    "$$\n",
    "\n",
    "$$\n",
    "    \\left(\\frac{2^4}{4} - 3 \\right)^3 + 9 \\times 2 - \\frac{\\left( 2^4 - 3^2 - 1\\right)^2}{3}\n",
    "$$"
   ]
  },
  {
   "cell_type": "markdown",
   "metadata": {},
   "source": [
    "Não conseguiu? **Clique duas vezes aqui** e dê uma espiada na resposta =)\n",
    "\n",
    "<!--\n",
    "\n",
    ">>> ( 3*4 ) + (8/2) - 3**2\n",
    "7.0\n",
    "\n",
    ">>> ( ( 2**3 ) / 8 )*( (3**2)*3 ) - 3\n",
    "24.0\n",
    "\n",
    ">>> ( (( 2**4 )/4) - 3)**3 + (9*2) - ( ( (2**4) - (3**2) - 1)**2 )/3\n",
    "7.0\n",
    "-->"
   ]
  },
  {
   "cell_type": "markdown",
   "metadata": {},
   "source": [
    "<a class='section' id='operacoes_logicas'></a>\n",
    "# Operações lógicas"
   ]
  },
  {
   "cell_type": "markdown",
   "metadata": {},
   "source": [
    "Além dos operadores matemáticos, temos também operadores lógicos. Esses são usados com variáveis do tipo ``bool`` (``boolean``) sendo elas ``True`` e ``False`` para resultados verdadeiros e falsos, respectivamente. Essas duas variáveis podem ser comparadas usando alguns operadores. \n",
    "\n",
    "O primeiro que veremos é o operador ``and``, que também pode ser representado pelo símbolo ``&``. Veja como usamos eles com as variáveis ``bool``:\n",
    "\n",
    "```python\n",
    ">>> True and True\n",
    "True\n",
    "\n",
    ">>> True and False\n",
    "False\n",
    "\n",
    ">>> False and False\n",
    "False\n",
    "\n",
    "```\n",
    "\n",
    "Veja que o resultado da comparação desse operador retorna um valor lógico (``bool``). Esse valor é ``True`` se o primeiro valor ``e`` o segundo são verdadeiros. Se um deles, ou ambos, for falso então a operação retorna ``False``. Veja os códigos executados nas células abaixo."
   ]
  },
  {
   "cell_type": "code",
   "execution_count": 3,
   "metadata": {
    "ExecuteTime": {
     "end_time": "2020-06-04T13:44:45.720758Z",
     "start_time": "2020-06-04T13:44:45.712145Z"
    }
   },
   "outputs": [
    {
     "data": {
      "text/plain": [
       "True"
      ]
     },
     "execution_count": 3,
     "metadata": {},
     "output_type": "execute_result"
    }
   ],
   "source": [
    "True and True"
   ]
  },
  {
   "cell_type": "code",
   "execution_count": 24,
   "metadata": {
    "ExecuteTime": {
     "end_time": "2020-06-04T15:07:29.624315Z",
     "start_time": "2020-06-04T15:07:29.620825Z"
    }
   },
   "outputs": [
    {
     "data": {
      "text/plain": [
       "True"
      ]
     },
     "execution_count": 24,
     "metadata": {},
     "output_type": "execute_result"
    }
   ],
   "source": [
    "True & True"
   ]
  },
  {
   "cell_type": "code",
   "execution_count": 4,
   "metadata": {
    "ExecuteTime": {
     "end_time": "2020-06-04T13:44:50.064365Z",
     "start_time": "2020-06-04T13:44:50.057909Z"
    }
   },
   "outputs": [
    {
     "data": {
      "text/plain": [
       "False"
      ]
     },
     "execution_count": 4,
     "metadata": {},
     "output_type": "execute_result"
    }
   ],
   "source": [
    "True and False"
   ]
  },
  {
   "cell_type": "code",
   "execution_count": 25,
   "metadata": {
    "ExecuteTime": {
     "end_time": "2020-06-04T15:07:40.661339Z",
     "start_time": "2020-06-04T15:07:40.655937Z"
    }
   },
   "outputs": [
    {
     "data": {
      "text/plain": [
       "False"
      ]
     },
     "execution_count": 25,
     "metadata": {},
     "output_type": "execute_result"
    }
   ],
   "source": [
    "True & False"
   ]
  },
  {
   "cell_type": "code",
   "execution_count": 5,
   "metadata": {
    "ExecuteTime": {
     "end_time": "2020-06-04T13:44:54.261939Z",
     "start_time": "2020-06-04T13:44:54.250499Z"
    }
   },
   "outputs": [
    {
     "data": {
      "text/plain": [
       "False"
      ]
     },
     "execution_count": 5,
     "metadata": {},
     "output_type": "execute_result"
    }
   ],
   "source": [
    "False and False"
   ]
  },
  {
   "cell_type": "code",
   "execution_count": 26,
   "metadata": {
    "ExecuteTime": {
     "end_time": "2020-06-04T15:07:49.149281Z",
     "start_time": "2020-06-04T15:07:49.137338Z"
    }
   },
   "outputs": [
    {
     "data": {
      "text/plain": [
       "False"
      ]
     },
     "execution_count": 26,
     "metadata": {},
     "output_type": "execute_result"
    }
   ],
   "source": [
    "False & False"
   ]
  },
  {
   "cell_type": "markdown",
   "metadata": {},
   "source": [
    "Como mencionamos [anteriormente](#bool_explanation), os número ``1`` e ``0`` também funcionam como os operadores lógicos ``True`` e  ``False``, respectivamente. Veja nas células abaixo as comparações feitas:"
   ]
  },
  {
   "cell_type": "code",
   "execution_count": 7,
   "metadata": {
    "ExecuteTime": {
     "end_time": "2020-06-04T13:51:54.481366Z",
     "start_time": "2020-06-04T13:51:54.475573Z"
    }
   },
   "outputs": [
    {
     "data": {
      "text/plain": [
       "True"
      ]
     },
     "execution_count": 7,
     "metadata": {},
     "output_type": "execute_result"
    }
   ],
   "source": [
    "1 and True"
   ]
  },
  {
   "cell_type": "code",
   "execution_count": 8,
   "metadata": {
    "ExecuteTime": {
     "end_time": "2020-06-04T13:52:03.403347Z",
     "start_time": "2020-06-04T13:52:03.392377Z"
    }
   },
   "outputs": [
    {
     "data": {
      "text/plain": [
       "False"
      ]
     },
     "execution_count": 8,
     "metadata": {},
     "output_type": "execute_result"
    }
   ],
   "source": [
    "1 and False"
   ]
  },
  {
   "cell_type": "code",
   "execution_count": 12,
   "metadata": {
    "ExecuteTime": {
     "end_time": "2020-06-04T13:52:39.275036Z",
     "start_time": "2020-06-04T13:52:39.266177Z"
    }
   },
   "outputs": [
    {
     "data": {
      "text/plain": [
       "0"
      ]
     },
     "execution_count": 12,
     "metadata": {},
     "output_type": "execute_result"
    }
   ],
   "source": [
    "0 and True"
   ]
  },
  {
   "cell_type": "code",
   "execution_count": 13,
   "metadata": {
    "ExecuteTime": {
     "end_time": "2020-06-04T13:53:02.078630Z",
     "start_time": "2020-06-04T13:53:02.073422Z"
    }
   },
   "outputs": [
    {
     "data": {
      "text/plain": [
       "0"
      ]
     },
     "execution_count": 13,
     "metadata": {},
     "output_type": "execute_result"
    }
   ],
   "source": [
    "0 and False"
   ]
  },
  {
   "cell_type": "markdown",
   "metadata": {},
   "source": [
    "Na verdade, qualquer valor que não seja ``0`` retorna ``True``. Para mostrar isso, usaremos a função ``bool()``. Essa função permite avaliar qualquer tipo de valor, retornando se esse é ``True`` ou ``False``. "
   ]
  },
  {
   "cell_type": "code",
   "execution_count": 63,
   "metadata": {
    "ExecuteTime": {
     "end_time": "2020-06-05T19:07:13.214924Z",
     "start_time": "2020-06-05T19:07:13.211701Z"
    }
   },
   "outputs": [
    {
     "data": {
      "text/plain": [
       "True"
      ]
     },
     "execution_count": 63,
     "metadata": {},
     "output_type": "execute_result"
    }
   ],
   "source": [
    "bool(1)"
   ]
  },
  {
   "cell_type": "code",
   "execution_count": 64,
   "metadata": {
    "ExecuteTime": {
     "end_time": "2020-06-05T19:07:18.427856Z",
     "start_time": "2020-06-05T19:07:18.424796Z"
    }
   },
   "outputs": [
    {
     "data": {
      "text/plain": [
       "False"
      ]
     },
     "execution_count": 64,
     "metadata": {},
     "output_type": "execute_result"
    }
   ],
   "source": [
    "bool(0)"
   ]
  },
  {
   "cell_type": "code",
   "execution_count": 65,
   "metadata": {
    "ExecuteTime": {
     "end_time": "2020-06-05T19:07:33.076683Z",
     "start_time": "2020-06-05T19:07:33.074044Z"
    }
   },
   "outputs": [
    {
     "data": {
      "text/plain": [
       "True"
      ]
     },
     "execution_count": 65,
     "metadata": {},
     "output_type": "execute_result"
    }
   ],
   "source": [
    "bool('Café')"
   ]
  },
  {
   "cell_type": "code",
   "execution_count": 67,
   "metadata": {
    "ExecuteTime": {
     "end_time": "2020-06-05T19:07:45.632894Z",
     "start_time": "2020-06-05T19:07:45.629545Z"
    }
   },
   "outputs": [
    {
     "data": {
      "text/plain": [
       "True"
      ]
     },
     "execution_count": 67,
     "metadata": {},
     "output_type": "execute_result"
    }
   ],
   "source": [
    "bool(3)"
   ]
  },
  {
   "cell_type": "markdown",
   "metadata": {},
   "source": [
    "Veja que nas células acima o único argumento passado para a função ``bool`` que faz ela retornar ``False`` é o número ``0``. "
   ]
  },
  {
   "cell_type": "markdown",
   "metadata": {},
   "source": [
    "O outro operador lógico é o ``or`` (``ou``). Ele também pode ser representado pelo caracter ``|`` e é usado da mesma forma que o operador ``and``. Ele se difere no fato de que se uma das variáveis lógicas que estiverem sendo comparadas for ``True``, a operação retorna ``True``. Veja os exemplos:\n",
    "\n",
    "```python\n",
    ">>> True or True\n",
    "True\n",
    "\n",
    ">>> True or False\n",
    "True\n",
    "\n",
    ">>> False or False\n",
    "False\n",
    "\n",
    "```"
   ]
  },
  {
   "cell_type": "code",
   "execution_count": 27,
   "metadata": {
    "ExecuteTime": {
     "end_time": "2020-06-04T15:18:32.329034Z",
     "start_time": "2020-06-04T15:18:32.321101Z"
    }
   },
   "outputs": [
    {
     "data": {
      "text/plain": [
       "True"
      ]
     },
     "execution_count": 27,
     "metadata": {},
     "output_type": "execute_result"
    }
   ],
   "source": [
    "True or True"
   ]
  },
  {
   "cell_type": "code",
   "execution_count": 28,
   "metadata": {
    "ExecuteTime": {
     "end_time": "2020-06-04T15:18:35.326027Z",
     "start_time": "2020-06-04T15:18:35.317193Z"
    }
   },
   "outputs": [
    {
     "data": {
      "text/plain": [
       "True"
      ]
     },
     "execution_count": 28,
     "metadata": {},
     "output_type": "execute_result"
    }
   ],
   "source": [
    "True | True"
   ]
  },
  {
   "cell_type": "code",
   "execution_count": 29,
   "metadata": {
    "ExecuteTime": {
     "end_time": "2020-06-04T15:18:38.283593Z",
     "start_time": "2020-06-04T15:18:38.278025Z"
    }
   },
   "outputs": [
    {
     "data": {
      "text/plain": [
       "True"
      ]
     },
     "execution_count": 29,
     "metadata": {},
     "output_type": "execute_result"
    }
   ],
   "source": [
    "True or False"
   ]
  },
  {
   "cell_type": "code",
   "execution_count": 30,
   "metadata": {
    "ExecuteTime": {
     "end_time": "2020-06-04T15:18:43.383872Z",
     "start_time": "2020-06-04T15:18:43.378229Z"
    }
   },
   "outputs": [
    {
     "data": {
      "text/plain": [
       "True"
      ]
     },
     "execution_count": 30,
     "metadata": {},
     "output_type": "execute_result"
    }
   ],
   "source": [
    "True | False"
   ]
  },
  {
   "cell_type": "code",
   "execution_count": 31,
   "metadata": {
    "ExecuteTime": {
     "end_time": "2020-06-04T15:18:46.403960Z",
     "start_time": "2020-06-04T15:18:46.399174Z"
    }
   },
   "outputs": [
    {
     "data": {
      "text/plain": [
       "False"
      ]
     },
     "execution_count": 31,
     "metadata": {},
     "output_type": "execute_result"
    }
   ],
   "source": [
    "False or False"
   ]
  },
  {
   "cell_type": "code",
   "execution_count": 32,
   "metadata": {
    "ExecuteTime": {
     "end_time": "2020-06-04T15:18:49.249816Z",
     "start_time": "2020-06-04T15:18:49.244159Z"
    }
   },
   "outputs": [
    {
     "data": {
      "text/plain": [
       "False"
      ]
     },
     "execution_count": 32,
     "metadata": {},
     "output_type": "execute_result"
    }
   ],
   "source": [
    "False | False"
   ]
  },
  {
   "cell_type": "code",
   "execution_count": 33,
   "metadata": {
    "ExecuteTime": {
     "end_time": "2020-06-04T15:19:00.521574Z",
     "start_time": "2020-06-04T15:19:00.517859Z"
    }
   },
   "outputs": [
    {
     "data": {
      "text/plain": [
       "1"
      ]
     },
     "execution_count": 33,
     "metadata": {},
     "output_type": "execute_result"
    }
   ],
   "source": [
    "1 or True"
   ]
  },
  {
   "cell_type": "code",
   "execution_count": 34,
   "metadata": {
    "ExecuteTime": {
     "end_time": "2020-06-04T15:19:07.703511Z",
     "start_time": "2020-06-04T15:19:07.697251Z"
    }
   },
   "outputs": [
    {
     "data": {
      "text/plain": [
       "1"
      ]
     },
     "execution_count": 34,
     "metadata": {},
     "output_type": "execute_result"
    }
   ],
   "source": [
    "1 or False"
   ]
  },
  {
   "cell_type": "code",
   "execution_count": 36,
   "metadata": {
    "ExecuteTime": {
     "end_time": "2020-06-04T15:19:23.861508Z",
     "start_time": "2020-06-04T15:19:23.855457Z"
    }
   },
   "outputs": [
    {
     "data": {
      "text/plain": [
       "True"
      ]
     },
     "execution_count": 36,
     "metadata": {},
     "output_type": "execute_result"
    }
   ],
   "source": [
    "0 or True"
   ]
  },
  {
   "cell_type": "code",
   "execution_count": 37,
   "metadata": {
    "ExecuteTime": {
     "end_time": "2020-06-04T15:19:28.063861Z",
     "start_time": "2020-06-04T15:19:28.055663Z"
    }
   },
   "outputs": [
    {
     "data": {
      "text/plain": [
       "False"
      ]
     },
     "execution_count": 37,
     "metadata": {},
     "output_type": "execute_result"
    }
   ],
   "source": [
    "0 or False"
   ]
  },
  {
   "cell_type": "markdown",
   "metadata": {},
   "source": [
    "Por último, temos o operador ``not``. Ele funciona invertendo a afirmção lógica feita:\n",
    "\n",
    "```python\n",
    ">>> not True\n",
    "False\n",
    "\n",
    ">>> not False\n",
    "True\n",
    "```"
   ]
  },
  {
   "cell_type": "markdown",
   "metadata": {},
   "source": [
    "É como se estivéssimos multiplicando nosso operador por ``-1`` para inverter seu valor."
   ]
  },
  {
   "cell_type": "code",
   "execution_count": 38,
   "metadata": {
    "ExecuteTime": {
     "end_time": "2020-06-04T15:21:33.210340Z",
     "start_time": "2020-06-04T15:21:33.205945Z"
    }
   },
   "outputs": [
    {
     "data": {
      "text/plain": [
       "False"
      ]
     },
     "execution_count": 38,
     "metadata": {},
     "output_type": "execute_result"
    }
   ],
   "source": [
    "not True"
   ]
  },
  {
   "cell_type": "code",
   "execution_count": 40,
   "metadata": {
    "ExecuteTime": {
     "end_time": "2020-06-04T15:29:27.614848Z",
     "start_time": "2020-06-04T15:29:27.607995Z"
    }
   },
   "outputs": [
    {
     "data": {
      "text/plain": [
       "False"
      ]
     },
     "execution_count": 40,
     "metadata": {},
     "output_type": "execute_result"
    }
   ],
   "source": [
    "not 1"
   ]
  },
  {
   "cell_type": "code",
   "execution_count": 39,
   "metadata": {
    "ExecuteTime": {
     "end_time": "2020-06-04T15:21:36.373433Z",
     "start_time": "2020-06-04T15:21:36.367257Z"
    }
   },
   "outputs": [
    {
     "data": {
      "text/plain": [
       "True"
      ]
     },
     "execution_count": 39,
     "metadata": {},
     "output_type": "execute_result"
    }
   ],
   "source": [
    "not False"
   ]
  },
  {
   "cell_type": "code",
   "execution_count": 41,
   "metadata": {
    "ExecuteTime": {
     "end_time": "2020-06-04T15:29:39.017110Z",
     "start_time": "2020-06-04T15:29:39.008002Z"
    }
   },
   "outputs": [
    {
     "data": {
      "text/plain": [
       "True"
      ]
     },
     "execution_count": 41,
     "metadata": {},
     "output_type": "execute_result"
    }
   ],
   "source": [
    "not 0"
   ]
  },
  {
   "cell_type": "markdown",
   "metadata": {},
   "source": [
    "Essas operações podem combinadas, só precisamos lembrar que termos entre parênteses são efetuados primeiro:"
   ]
  },
  {
   "cell_type": "code",
   "execution_count": 42,
   "metadata": {
    "ExecuteTime": {
     "end_time": "2020-06-04T15:31:37.682358Z",
     "start_time": "2020-06-04T15:31:37.678856Z"
    }
   },
   "outputs": [
    {
     "data": {
      "text/plain": [
       "False"
      ]
     },
     "execution_count": 42,
     "metadata": {},
     "output_type": "execute_result"
    }
   ],
   "source": [
    "(not True) or False"
   ]
  },
  {
   "cell_type": "code",
   "execution_count": 43,
   "metadata": {
    "ExecuteTime": {
     "end_time": "2020-06-04T15:32:00.723716Z",
     "start_time": "2020-06-04T15:32:00.716523Z"
    }
   },
   "outputs": [
    {
     "data": {
      "text/plain": [
       "True"
      ]
     },
     "execution_count": 43,
     "metadata": {},
     "output_type": "execute_result"
    }
   ],
   "source": [
    "True and (not False)"
   ]
  },
  {
   "cell_type": "code",
   "execution_count": 45,
   "metadata": {
    "ExecuteTime": {
     "end_time": "2020-06-04T15:32:59.426123Z",
     "start_time": "2020-06-04T15:32:59.418746Z"
    }
   },
   "outputs": [
    {
     "data": {
      "text/plain": [
       "True"
      ]
     },
     "execution_count": 45,
     "metadata": {},
     "output_type": "execute_result"
    }
   ],
   "source": [
    "(True and (not True)) | True"
   ]
  },
  {
   "cell_type": "code",
   "execution_count": 48,
   "metadata": {
    "ExecuteTime": {
     "end_time": "2020-06-04T15:34:13.539896Z",
     "start_time": "2020-06-04T15:34:13.536727Z"
    }
   },
   "outputs": [
    {
     "data": {
      "text/plain": [
       "True"
      ]
     },
     "execution_count": 48,
     "metadata": {},
     "output_type": "execute_result"
    }
   ],
   "source": [
    "((not 0) or 1) & (not False)"
   ]
  },
  {
   "cell_type": "markdown",
   "metadata": {},
   "source": [
    "<a class='section' id='operacoes_de_comparacao'></a>\n",
    "# Operações de comparação"
   ]
  },
  {
   "cell_type": "markdown",
   "metadata": {},
   "source": [
    "Existem também os ``operadores de comparação``. Usamos esses operadores para dizer se variáveis são igauis, diferentes, maiores (ou iguais) ou menores (ou iguais). Abaixo vemos o símbolo de cada uma dessas operações:\n",
    "\n",
    "```python\n",
    "a == b (a é igual a b)\n",
    "a != b (a é diferente de b)\n",
    "a >  b (a é maior que b)\n",
    "a >= b (a é maior ou igual a b)\n",
    "a <  b (a é menor que b)\n",
    "a <= b (a é menor ou igual a b)\n",
    "```\n",
    "\n",
    "Essas operações de comparação levam a resultados lógicos, isto é, elas retornam ``True`` ou ``False``. Vamos ver alguns exemplos:"
   ]
  },
  {
   "cell_type": "code",
   "execution_count": 49,
   "metadata": {
    "ExecuteTime": {
     "end_time": "2020-06-04T15:45:26.260648Z",
     "start_time": "2020-06-04T15:45:26.256612Z"
    }
   },
   "outputs": [
    {
     "data": {
      "text/plain": [
       "True"
      ]
     },
     "execution_count": 49,
     "metadata": {},
     "output_type": "execute_result"
    }
   ],
   "source": [
    "(2+2) == 4"
   ]
  },
  {
   "cell_type": "code",
   "execution_count": 50,
   "metadata": {
    "ExecuteTime": {
     "end_time": "2020-06-04T15:45:38.382792Z",
     "start_time": "2020-06-04T15:45:38.378343Z"
    }
   },
   "outputs": [
    {
     "data": {
      "text/plain": [
       "True"
      ]
     },
     "execution_count": 50,
     "metadata": {},
     "output_type": "execute_result"
    }
   ],
   "source": [
    "2 != 1"
   ]
  },
  {
   "cell_type": "code",
   "execution_count": 51,
   "metadata": {
    "ExecuteTime": {
     "end_time": "2020-06-04T15:45:51.689302Z",
     "start_time": "2020-06-04T15:45:51.684086Z"
    }
   },
   "outputs": [
    {
     "data": {
      "text/plain": [
       "False"
      ]
     },
     "execution_count": 51,
     "metadata": {},
     "output_type": "execute_result"
    }
   ],
   "source": [
    "4 != 4"
   ]
  },
  {
   "cell_type": "code",
   "execution_count": 54,
   "metadata": {
    "ExecuteTime": {
     "end_time": "2020-06-04T15:46:10.856587Z",
     "start_time": "2020-06-04T15:46:10.853896Z"
    }
   },
   "outputs": [
    {
     "data": {
      "text/plain": [
       "False"
      ]
     },
     "execution_count": 54,
     "metadata": {},
     "output_type": "execute_result"
    }
   ],
   "source": [
    "3 > 3"
   ]
  },
  {
   "cell_type": "code",
   "execution_count": 55,
   "metadata": {
    "ExecuteTime": {
     "end_time": "2020-06-04T15:46:13.647099Z",
     "start_time": "2020-06-04T15:46:13.638934Z"
    }
   },
   "outputs": [
    {
     "data": {
      "text/plain": [
       "True"
      ]
     },
     "execution_count": 55,
     "metadata": {},
     "output_type": "execute_result"
    }
   ],
   "source": [
    "3 >= 3"
   ]
  },
  {
   "cell_type": "markdown",
   "metadata": {},
   "source": [
    "Com essas novas operações, podemos começar a combinar as variáveis lógicas com operações de comparações númericas:"
   ]
  },
  {
   "cell_type": "code",
   "execution_count": 56,
   "metadata": {
    "ExecuteTime": {
     "end_time": "2020-06-04T15:58:32.567696Z",
     "start_time": "2020-06-04T15:58:32.564763Z"
    }
   },
   "outputs": [
    {
     "data": {
      "text/plain": [
       "False"
      ]
     },
     "execution_count": 56,
     "metadata": {},
     "output_type": "execute_result"
    }
   ],
   "source": [
    "((2+2) == 4) == False"
   ]
  },
  {
   "cell_type": "code",
   "execution_count": 58,
   "metadata": {
    "ExecuteTime": {
     "end_time": "2020-06-04T15:59:45.083249Z",
     "start_time": "2020-06-04T15:59:45.074098Z"
    }
   },
   "outputs": [
    {
     "data": {
      "text/plain": [
       "True"
      ]
     },
     "execution_count": 58,
     "metadata": {},
     "output_type": "execute_result"
    }
   ],
   "source": [
    "not (( (3 < 2) | (5 <= 4) ) & (not 1))"
   ]
  },
  {
   "cell_type": "code",
   "execution_count": 79,
   "metadata": {
    "ExecuteTime": {
     "end_time": "2020-06-04T16:11:05.235391Z",
     "start_time": "2020-06-04T16:11:05.231081Z"
    }
   },
   "outputs": [
    {
     "data": {
      "text/plain": [
       "True"
      ]
     },
     "execution_count": 79,
     "metadata": {},
     "output_type": "execute_result"
    }
   ],
   "source": [
    "( ( ( 11%3 )/2 ) == False ) | ( ( ( 11//3 ) - 3 ) != True )"
   ]
  },
  {
   "cell_type": "markdown",
   "metadata": {},
   "source": [
    "Para facilitar sua compreensão, tente entender os códigos por partes. Por exemplo, na célula acima, faça primeiro as operações matemáticas:\n",
    "\n",
    "```python\n",
    "( ( 11%3 )/2 == False ) | ( ( ( 11//3 ) - 3 ) != True )\n",
    "   ( ( 2/2 ) == False ) | ( ( 3 - 3) != True )\n",
    "         ( 1 == False ) | ( 0 != True )\n",
    "                  False | True\n",
    "                      True\n",
    "```"
   ]
  },
  {
   "cell_type": "markdown",
   "metadata": {},
   "source": [
    "<a class='section' id='atribuindo_valores_as_variaveis'></a>\n",
    "# Atribuindo valores às variáveis"
   ]
  },
  {
   "cell_type": "markdown",
   "metadata": {},
   "source": [
    "Observe que quando queremos comparar se duas variáveis iguais ou se duas operações (matemáticas e/ou lógicas) levam ao mesmo resultado, usamos o operador ``==``. O símbolo ``=`` é destinado à atribuição de valores às variáveis. Para mostrar isso, vamos considerar o seguinte exemplo.\n",
    "\n",
    "Suponha que um carro se deslocou $120{,}0\\, km$ em $2{,}0\\, h$. Podemos calcular a velocidade média desse carro nesse percurso usando a expressão\n",
    "\n",
    "$$\n",
    "    v_{media} = \\frac{\\Delta S}{\\Delta t},\n",
    "$$\n",
    "\n",
    "em que $\\Delta S$ é a distância percorrida em um intervalo de tempo $\\Delta t$. No nosso caso, $\\Delta S = 120{,}0\\, km$ e $\\Delta t = 2{,}0 h$, de modo que\n",
    "\n",
    "$$\n",
    "    v_{media} = \\frac{120{,}0\\, km}{2{,}0\\, h} = 60{,}0\\, km/h.\n",
    "$$\n",
    "\n",
    "Em ``python`` podemos criar uma variável e atribuir valores e resultados de expressões à ela. Por exemplo, vamos criar uma variável chamada ``velocidade_media`` de maneira que ela guarde o valor ``60.0``:\n",
    "\n",
    "```python\n",
    ">>> velocidade_media = 60.0\n",
    "```\n",
    "\n",
    "Para visualizar o valor que essa variável guarda, podemos imprimí-la na tela:\n",
    "\n",
    "```python\n",
    ">>> print(velocidade_media)\n",
    "60.0\n",
    "```\n",
    "\n",
    "Veja nas células abaixo os códigos executados."
   ]
  },
  {
   "cell_type": "code",
   "execution_count": 80,
   "metadata": {
    "ExecuteTime": {
     "end_time": "2020-06-04T17:45:56.147752Z",
     "start_time": "2020-06-04T17:45:56.145772Z"
    }
   },
   "outputs": [],
   "source": [
    "# definindo a variável velocidade_media\n",
    "velocidade_media = 60.0 # em km/h"
   ]
  },
  {
   "cell_type": "code",
   "execution_count": 81,
   "metadata": {
    "ExecuteTime": {
     "end_time": "2020-06-04T17:46:08.545294Z",
     "start_time": "2020-06-04T17:46:08.538242Z"
    }
   },
   "outputs": [
    {
     "name": "stdout",
     "output_type": "stream",
     "text": [
      "60.0\n"
     ]
    }
   ],
   "source": [
    "# imprimindo seu valor na tela\n",
    "print(velocidade_media)"
   ]
  },
  {
   "cell_type": "markdown",
   "metadata": {},
   "source": [
    "Ao invés de atribuir o valor ``60.0`` diretamente à nossa variável ``velocidade_media``, podemos atribuir a expressão que dá resultado a esse valor, isto é, ``120/2``:\n",
    "\n",
    "```python\n",
    ">>> velocidade_media = 120/2\n",
    ">>> print(velocidade_media)\n",
    "60.0\n",
    "```\n",
    "\n",
    "Veja nas células abaixo os códigos executados."
   ]
  },
  {
   "cell_type": "code",
   "execution_count": 82,
   "metadata": {
    "ExecuteTime": {
     "end_time": "2020-06-04T17:48:17.292266Z",
     "start_time": "2020-06-04T17:48:17.287420Z"
    }
   },
   "outputs": [],
   "source": [
    "velocidade_media = 120/2"
   ]
  },
  {
   "cell_type": "code",
   "execution_count": 83,
   "metadata": {
    "ExecuteTime": {
     "end_time": "2020-06-04T17:48:24.327956Z",
     "start_time": "2020-06-04T17:48:24.321877Z"
    }
   },
   "outputs": [
    {
     "name": "stdout",
     "output_type": "stream",
     "text": [
      "60.0\n"
     ]
    }
   ],
   "source": [
    "print(velocidade_media)"
   ]
  },
  {
   "cell_type": "markdown",
   "metadata": {},
   "source": [
    "Como estamos num ``Notebook`` iterativo, para mostrar o valor da variável, não precisamos da função print. Para visualizá-la, basta digitar seu nome e apertar ``shift+enter`` na tela:"
   ]
  },
  {
   "cell_type": "code",
   "execution_count": 84,
   "metadata": {
    "ExecuteTime": {
     "end_time": "2020-06-04T17:49:18.826670Z",
     "start_time": "2020-06-04T17:49:18.823811Z"
    }
   },
   "outputs": [
    {
     "data": {
      "text/plain": [
       "60.0"
      ]
     },
     "execution_count": 84,
     "metadata": {},
     "output_type": "execute_result"
    }
   ],
   "source": [
    "velocidade_media"
   ]
  },
  {
   "cell_type": "markdown",
   "metadata": {},
   "source": [
    "Podemos ainda definir variáveis para o deslocamento total e o tempo que se passou e substituir em uma ``fórmula`` para a velocidade média. \n",
    "\n",
    "```python\n",
    ">>> delta_s = 120 # em quilômetros [km]\n",
    ">>> delta_t = 2   # em horas [h]\n",
    ">>> velocidade_media = delta_s/delta_t # em quilômetros por hora [km/h]\n",
    ">>> print(velocidade_media)\n",
    "60.0\n",
    "```"
   ]
  },
  {
   "cell_type": "markdown",
   "metadata": {},
   "source": [
    "Veja as células abaixo exemplificando essa passagem:"
   ]
  },
  {
   "cell_type": "code",
   "execution_count": 85,
   "metadata": {
    "ExecuteTime": {
     "end_time": "2020-06-04T20:06:01.491927Z",
     "start_time": "2020-06-04T20:06:01.489822Z"
    }
   },
   "outputs": [],
   "source": [
    "# definimos as variáveis delta_s (distância percorrida) e delta_t (intervalo de tempo)\n",
    "delta_s = 120 # em quilômetros [km]\n",
    "delta_t = 2   # em horas [h]"
   ]
  },
  {
   "cell_type": "markdown",
   "metadata": {},
   "source": [
    "Agora definimos a variável velocidade média, que leva em consideração as variáveis definidas anteriormente:"
   ]
  },
  {
   "cell_type": "code",
   "execution_count": 86,
   "metadata": {
    "ExecuteTime": {
     "end_time": "2020-06-04T20:06:58.240493Z",
     "start_time": "2020-06-04T20:06:58.237261Z"
    }
   },
   "outputs": [],
   "source": [
    "velocidade_media = delta_s/delta_t # em quilômetros por hora [km/h]"
   ]
  },
  {
   "cell_type": "markdown",
   "metadata": {},
   "source": [
    "Para verificar o valor da variável velocidade média, basta escrevê-la em uma célula e apertar ``shift+enter``:"
   ]
  },
  {
   "cell_type": "code",
   "execution_count": 87,
   "metadata": {
    "ExecuteTime": {
     "end_time": "2020-06-04T20:07:33.169582Z",
     "start_time": "2020-06-04T20:07:33.165500Z"
    }
   },
   "outputs": [
    {
     "data": {
      "text/plain": [
       "60.0"
      ]
     },
     "execution_count": 87,
     "metadata": {},
     "output_type": "execute_result"
    }
   ],
   "source": [
    "velocidade_media"
   ]
  },
  {
   "cell_type": "markdown",
   "metadata": {},
   "source": [
    "Suponha que agora o valor do intervalo de tempo é de $3{,}0\\,h$. O que acontece se somente mudarmos o valor da variável ``delta_t``, atribuindo esse novo valor à ela e então verificarmos o valor da variável ``velocidade_media``? Vamos conferir:"
   ]
  },
  {
   "cell_type": "code",
   "execution_count": 88,
   "metadata": {
    "ExecuteTime": {
     "end_time": "2020-06-04T20:14:11.507346Z",
     "start_time": "2020-06-04T20:14:11.504500Z"
    }
   },
   "outputs": [],
   "source": [
    "# redefinimos o valor do intervalo de tempo\n",
    "delta_t = 3 # em horas [h]"
   ]
  },
  {
   "cell_type": "code",
   "execution_count": 89,
   "metadata": {
    "ExecuteTime": {
     "end_time": "2020-06-04T20:14:24.096654Z",
     "start_time": "2020-06-04T20:14:24.091261Z"
    }
   },
   "outputs": [
    {
     "data": {
      "text/plain": [
       "3"
      ]
     },
     "execution_count": 89,
     "metadata": {},
     "output_type": "execute_result"
    }
   ],
   "source": [
    "# conferimos se o valor foi alterado\n",
    "delta_t"
   ]
  },
  {
   "cell_type": "code",
   "execution_count": 90,
   "metadata": {
    "ExecuteTime": {
     "end_time": "2020-06-04T20:14:40.719992Z",
     "start_time": "2020-06-04T20:14:40.714481Z"
    }
   },
   "outputs": [
    {
     "data": {
      "text/plain": [
       "60.0"
      ]
     },
     "execution_count": 90,
     "metadata": {},
     "output_type": "execute_result"
    }
   ],
   "source": [
    "# agora invocamos a variável ``velocidade_media``\n",
    "velocidade_media"
   ]
  },
  {
   "cell_type": "markdown",
   "metadata": {},
   "source": [
    "Observe que o valor não mudou. Isso ocorre pois a variável ``velocidade_media`` não foi redefinida com o novo valor da variável ``delta_t``. Mais a frente veremos como criar funções que podem receber argumentos e retornar valores, de maneira que fica mais fácil calcular, por exemplo, a velocidade média para quaisquer valores de deslocamento e intervalo de tempo, sem ter que ficar reatribuindo valores à variável."
   ]
  },
  {
   "cell_type": "markdown",
   "metadata": {},
   "source": [
    "Uma outra propriedade bastante usada na atribuição de valores às variáveis, é que podemos usar o seu valor presente para atualizá-la. Veja o bloco de código a seguir que exemplifica essa propriedade:\n",
    "\n",
    "```python\n",
    ">>> contador = 1    # atribuímos o valor 1 à variável contador\n",
    ">>> print(contador) # imprimimos a variável ``contador`` na tela\n",
    "1\n",
    ">>> contador = contador + 1 # adicionamos 1 ao valor antigo da variável para atualizá-la\n",
    ">>> print(contador)         # imprimimos a variável ``contador`` na tela\n",
    "2\n",
    ">>> contador = contador + 2 # adicionamos 2 ao valor antigo da variável para atualizá-la\n",
    ">>> print(contador)         # imprimimos a variável ``contador`` na tela\n",
    "4\n",
    ">>> contador = 1    # apenas redefinimos o valor da variável\n",
    ">>> print(contador) # imprimimos a variável ``contador`` na tela\n",
    "1\n",
    "```"
   ]
  },
  {
   "cell_type": "markdown",
   "metadata": {
    "ExecuteTime": {
     "end_time": "2020-06-04T15:29:27.614848Z",
     "start_time": "2020-06-04T15:29:27.607995Z"
    }
   },
   "source": [
    "Veja que primeiramente atribuímos o valor ``1`` à variável ``contador``. Depois, usamos o valor que já estava guardado nessa variável para atribuir seu próprio valor adicionado de ``1`` e atribuímos o resultado à mesma variável. Veja os códigos executados nas células abaixo:"
   ]
  },
  {
   "cell_type": "code",
   "execution_count": 91,
   "metadata": {
    "ExecuteTime": {
     "end_time": "2020-06-04T20:34:26.547008Z",
     "start_time": "2020-06-04T20:34:26.544798Z"
    }
   },
   "outputs": [],
   "source": [
    "# definimos a variável ``contador`` atribuindo o valor ``1`` à ela\n",
    "contador = 1"
   ]
  },
  {
   "cell_type": "code",
   "execution_count": 92,
   "metadata": {
    "ExecuteTime": {
     "end_time": "2020-06-04T20:34:43.192050Z",
     "start_time": "2020-06-04T20:34:43.185602Z"
    }
   },
   "outputs": [
    {
     "data": {
      "text/plain": [
       "1"
      ]
     },
     "execution_count": 92,
     "metadata": {},
     "output_type": "execute_result"
    }
   ],
   "source": [
    "# inspecionamos o valor da variável\n",
    "contador"
   ]
  },
  {
   "cell_type": "code",
   "execution_count": 93,
   "metadata": {
    "ExecuteTime": {
     "end_time": "2020-06-04T20:35:33.688229Z",
     "start_time": "2020-06-04T20:35:33.686112Z"
    }
   },
   "outputs": [],
   "source": [
    "# incrementamos seu valor em 1\n",
    "# novo valor   valor antigo\n",
    "contador     = contador    + 1"
   ]
  },
  {
   "cell_type": "code",
   "execution_count": 94,
   "metadata": {
    "ExecuteTime": {
     "end_time": "2020-06-04T20:35:50.202090Z",
     "start_time": "2020-06-04T20:35:50.197484Z"
    }
   },
   "outputs": [
    {
     "data": {
      "text/plain": [
       "2"
      ]
     },
     "execution_count": 94,
     "metadata": {},
     "output_type": "execute_result"
    }
   ],
   "source": [
    "# inspecionamos o valor da variável após sua atualização\n",
    "contador"
   ]
  },
  {
   "cell_type": "code",
   "execution_count": 95,
   "metadata": {
    "ExecuteTime": {
     "end_time": "2020-06-04T20:51:26.408968Z",
     "start_time": "2020-06-04T20:51:26.406358Z"
    }
   },
   "outputs": [],
   "source": [
    "# incrementamos o valor da variável contador em 2 agora\n",
    "contador = contador + 2"
   ]
  },
  {
   "cell_type": "code",
   "execution_count": 96,
   "metadata": {
    "ExecuteTime": {
     "end_time": "2020-06-04T20:51:43.870806Z",
     "start_time": "2020-06-04T20:51:43.866028Z"
    }
   },
   "outputs": [
    {
     "data": {
      "text/plain": [
       "4"
      ]
     },
     "execution_count": 96,
     "metadata": {},
     "output_type": "execute_result"
    }
   ],
   "source": [
    "# inspecionamos o valor da variável após sua atualização\n",
    "contador"
   ]
  },
  {
   "cell_type": "code",
   "execution_count": 97,
   "metadata": {
    "ExecuteTime": {
     "end_time": "2020-06-04T20:52:25.380013Z",
     "start_time": "2020-06-04T20:52:25.378258Z"
    }
   },
   "outputs": [],
   "source": [
    "# atribuindo um valor a ela, apenas a redefinimos\n",
    "contador = 1"
   ]
  },
  {
   "cell_type": "code",
   "execution_count": 98,
   "metadata": {
    "ExecuteTime": {
     "end_time": "2020-06-04T20:52:35.288351Z",
     "start_time": "2020-06-04T20:52:35.285025Z"
    }
   },
   "outputs": [
    {
     "data": {
      "text/plain": [
       "1"
      ]
     },
     "execution_count": 98,
     "metadata": {},
     "output_type": "execute_result"
    }
   ],
   "source": [
    "contador"
   ]
  },
  {
   "cell_type": "markdown",
   "metadata": {},
   "source": [
    "Existe um operador de atribuição que adiciona um valor à variável para atualizá-la, como acabamos de fazer. Esse operador é designido por ``+=``. Veja o exemplo abaixo:\n",
    "\n",
    "```python\n",
    ">>> contador = 1    # atribuímos o valor 1 à variável contador\n",
    ">>> print(contador) # imprimimos a variável ``contador`` na tela\n",
    "1\n",
    ">>> contador += 1 # adicionamos 1 ao valor antigo da variável para atualizá-la\n",
    ">>> print(contador)         # imprimimos a variável ``contador`` na tela\n",
    "2\n",
    ">>> contador += 2 # adicionamos 2 ao valor antigo da variável para atualizá-la\n",
    ">>> print(contador)         # imprimimos a variável ``contador`` na tela\n",
    "4\n",
    ">>> contador = 1    # apenas redefinimos o valor da variável\n",
    ">>> print(contador) # imprimimos a variável ``contador`` na tela\n",
    "1\n",
    "```"
   ]
  },
  {
   "cell_type": "markdown",
   "metadata": {},
   "source": [
    "As células abaixo mostram os códigos em execução:"
   ]
  },
  {
   "cell_type": "code",
   "execution_count": 91,
   "metadata": {
    "ExecuteTime": {
     "end_time": "2020-06-04T20:34:26.547008Z",
     "start_time": "2020-06-04T20:34:26.544798Z"
    }
   },
   "outputs": [],
   "source": [
    "# definimos a variável ``contador`` atribuindo o valor ``1`` à ela\n",
    "contador = 1"
   ]
  },
  {
   "cell_type": "code",
   "execution_count": 92,
   "metadata": {
    "ExecuteTime": {
     "end_time": "2020-06-04T20:34:43.192050Z",
     "start_time": "2020-06-04T20:34:43.185602Z"
    }
   },
   "outputs": [
    {
     "data": {
      "text/plain": [
       "1"
      ]
     },
     "execution_count": 92,
     "metadata": {},
     "output_type": "execute_result"
    }
   ],
   "source": [
    "# inspecionamos o valor da variável\n",
    "contador"
   ]
  },
  {
   "cell_type": "code",
   "execution_count": 99,
   "metadata": {
    "ExecuteTime": {
     "end_time": "2020-06-04T21:13:30.352640Z",
     "start_time": "2020-06-04T21:13:30.349805Z"
    }
   },
   "outputs": [],
   "source": [
    "# incrementamos seu valor em 1\n",
    "contador += 1"
   ]
  },
  {
   "cell_type": "code",
   "execution_count": 100,
   "metadata": {
    "ExecuteTime": {
     "end_time": "2020-06-04T21:13:31.729734Z",
     "start_time": "2020-06-04T21:13:31.724600Z"
    }
   },
   "outputs": [
    {
     "data": {
      "text/plain": [
       "2"
      ]
     },
     "execution_count": 100,
     "metadata": {},
     "output_type": "execute_result"
    }
   ],
   "source": [
    "# inspecionamos o valor da variável após sua atualização\n",
    "contador"
   ]
  },
  {
   "cell_type": "code",
   "execution_count": 101,
   "metadata": {
    "ExecuteTime": {
     "end_time": "2020-06-04T21:13:38.928126Z",
     "start_time": "2020-06-04T21:13:38.926113Z"
    }
   },
   "outputs": [],
   "source": [
    "# incrementamos o valor da variável contador em 2 agora\n",
    "contador += 2"
   ]
  },
  {
   "cell_type": "code",
   "execution_count": 102,
   "metadata": {
    "ExecuteTime": {
     "end_time": "2020-06-04T21:13:39.834718Z",
     "start_time": "2020-06-04T21:13:39.830205Z"
    }
   },
   "outputs": [
    {
     "data": {
      "text/plain": [
       "4"
      ]
     },
     "execution_count": 102,
     "metadata": {},
     "output_type": "execute_result"
    }
   ],
   "source": [
    "# inspecionamos o valor da variável após sua atualização\n",
    "contador"
   ]
  },
  {
   "cell_type": "code",
   "execution_count": 103,
   "metadata": {
    "ExecuteTime": {
     "end_time": "2020-06-04T21:13:42.124786Z",
     "start_time": "2020-06-04T21:13:42.120483Z"
    }
   },
   "outputs": [],
   "source": [
    "# atribuindo um valor a ela, apenas a redefinimos\n",
    "contador = 1"
   ]
  },
  {
   "cell_type": "code",
   "execution_count": 104,
   "metadata": {
    "ExecuteTime": {
     "end_time": "2020-06-04T21:13:42.630708Z",
     "start_time": "2020-06-04T21:13:42.627256Z"
    }
   },
   "outputs": [
    {
     "data": {
      "text/plain": [
       "1"
      ]
     },
     "execution_count": 104,
     "metadata": {},
     "output_type": "execute_result"
    }
   ],
   "source": [
    "contador"
   ]
  },
  {
   "cell_type": "markdown",
   "metadata": {},
   "source": [
    "Além desse operador de incremento, existe um para cada operação matemática que vimos:\n",
    "\n",
    "- Substração\n",
    "```python\n",
    ">>> x = 10\n",
    ">>> x -= 1 # mesma coisa que x = x - 1\n",
    ">>> print(x)\n",
    "9\n",
    "```\n",
    "\n",
    "- Multiplicação\n",
    "```python\n",
    ">>> x = 10\n",
    ">>> x *= 3 # mesma coisa que x = x*3\n",
    ">>> print(x)\n",
    "30\n",
    "```\n",
    "\n",
    "- Divisão\n",
    "```python\n",
    ">>> x = 10\n",
    ">>> x /= 2 # mesma coisa que x = x/2\n",
    ">>> print(x)\n",
    "5.0\n",
    "```\n",
    "\n",
    "- Módulo (resto da divisão inteira)\n",
    "```python\n",
    ">>> x = 10\n",
    ">>> x %= 3 # mesma coisa que x = x%3\n",
    ">>> print(x)\n",
    "1\n",
    "```\n",
    "\n",
    "- Resultado inteiro da divisão\n",
    "```python\n",
    ">>> x = 10\n",
    ">>> x //= 3 # mesma coisa que x = x//3\n",
    ">>> print(x)\n",
    "3\n",
    "```\n",
    "\n",
    "- Exponenciação\n",
    "```python\n",
    ">>> x = 10\n",
    ">>> x **= 4 # mesma coisa que x = x**4\n",
    ">>> print(x)\n",
    "10000\n",
    "```"
   ]
  },
  {
   "cell_type": "markdown",
   "metadata": {},
   "source": [
    "Uma variável pode guardar qualquer valor, isso inclui valores lógicos:\n",
    "\n",
    "```python\n",
    ">>> variavel_true = True\n",
    ">>> variavel_true == False\n",
    "False\n",
    ">>> variavel_true | False\n",
    "True\n",
    "\n",
    ">>> variavel_false = False\n",
    ">>> variavel_false < True\n",
    "True\n",
    ">>> variavel_false & True\n",
    "False\n",
    "```"
   ]
  },
  {
   "cell_type": "code",
   "execution_count": 134,
   "metadata": {
    "ExecuteTime": {
     "end_time": "2020-06-04T22:20:51.950118Z",
     "start_time": "2020-06-04T22:20:51.947434Z"
    }
   },
   "outputs": [],
   "source": [
    "# definimos a variável ``variavel_true`` e atribuímos o valor lógico ``True``\n",
    "variavel_true = True"
   ]
  },
  {
   "cell_type": "code",
   "execution_count": 138,
   "metadata": {
    "ExecuteTime": {
     "end_time": "2020-06-04T22:23:30.685662Z",
     "start_time": "2020-06-04T22:23:30.683343Z"
    }
   },
   "outputs": [
    {
     "data": {
      "text/plain": [
       "True"
      ]
     },
     "execution_count": 138,
     "metadata": {},
     "output_type": "execute_result"
    }
   ],
   "source": [
    "# inspecionamos o valor de ``variavel_true``\n",
    "variavel_true"
   ]
  },
  {
   "cell_type": "code",
   "execution_count": 135,
   "metadata": {
    "ExecuteTime": {
     "end_time": "2020-06-04T22:21:30.442341Z",
     "start_time": "2020-06-04T22:21:30.438099Z"
    }
   },
   "outputs": [
    {
     "data": {
      "text/plain": [
       "True"
      ]
     },
     "execution_count": 135,
     "metadata": {},
     "output_type": "execute_result"
    }
   ],
   "source": [
    "# usamos o operador de comparação ``==`` para verificar se ``variavel_true`` é igual a ``True``\n",
    "variavel_true == True"
   ]
  },
  {
   "cell_type": "code",
   "execution_count": 136,
   "metadata": {
    "ExecuteTime": {
     "end_time": "2020-06-04T22:22:29.380185Z",
     "start_time": "2020-06-04T22:22:29.374207Z"
    }
   },
   "outputs": [
    {
     "data": {
      "text/plain": [
       "True"
      ]
     },
     "execution_count": 136,
     "metadata": {},
     "output_type": "execute_result"
    }
   ],
   "source": [
    "# usamos o operador lógico ``|`` (``or``) para ver se um valor ou outro da comparação feita é ``True``\n",
    "variavel_true | False"
   ]
  },
  {
   "cell_type": "code",
   "execution_count": 137,
   "metadata": {
    "ExecuteTime": {
     "end_time": "2020-06-04T22:23:03.712103Z",
     "start_time": "2020-06-04T22:23:03.709331Z"
    }
   },
   "outputs": [],
   "source": [
    "# definimos a variável ``variavel_false`` e atribuímos o valor lógico ``False``\n",
    "variavel_false = False"
   ]
  },
  {
   "cell_type": "code",
   "execution_count": 139,
   "metadata": {
    "ExecuteTime": {
     "end_time": "2020-06-04T22:26:42.777097Z",
     "start_time": "2020-06-04T22:26:42.771184Z"
    }
   },
   "outputs": [
    {
     "data": {
      "text/plain": [
       "False"
      ]
     },
     "execution_count": 139,
     "metadata": {},
     "output_type": "execute_result"
    }
   ],
   "source": [
    "# inspecionamos o valor de ``variavel_false``\n",
    "variavel_false"
   ]
  },
  {
   "cell_type": "code",
   "execution_count": 141,
   "metadata": {
    "ExecuteTime": {
     "end_time": "2020-06-04T22:28:08.397503Z",
     "start_time": "2020-06-04T22:28:08.393454Z"
    }
   },
   "outputs": [
    {
     "data": {
      "text/plain": [
       "True"
      ]
     },
     "execution_count": 141,
     "metadata": {},
     "output_type": "execute_result"
    }
   ],
   "source": [
    "# usamos o operador de comparação ``<`` para verificar se ``False`` é menor que ``True``\n",
    "# lembre-se que ``False`` também é ``0`` e ``True`` também é ``1``\n",
    "variavel_false < True"
   ]
  },
  {
   "cell_type": "code",
   "execution_count": 142,
   "metadata": {
    "ExecuteTime": {
     "end_time": "2020-06-04T22:29:37.634767Z",
     "start_time": "2020-06-04T22:29:37.630887Z"
    }
   },
   "outputs": [
    {
     "data": {
      "text/plain": [
       "False"
      ]
     },
     "execution_count": 142,
     "metadata": {},
     "output_type": "execute_result"
    }
   ],
   "source": [
    "# usamos o operador lógico ``&`` (``and``) para ver se ambos os valores da comparação feita é ``True``\n",
    "variavel_false & True"
   ]
  },
  {
   "cell_type": "markdown",
   "metadata": {},
   "source": [
    "Vimos então que as variáveis que definimos podem guardar diferentes tipos de valores, como números inteiros (``int``) e frações (``float``) além de valores lógicos (``bool``). Veremos mais adiante que variáveis podem guardar mais tipos de variáveis além desses, como ``strings`` (``str``), ``listas`` (``list``), ``dicionários`` (``dict``) e até mesmo ``funções``."
   ]
  },
  {
   "cell_type": "markdown",
   "metadata": {},
   "source": [
    "<a class='cell' id='del'></a>\n",
    "As variáveis que criamos são armazenadas na memória. Conforme os projetos vão progredindo, é normal que algumas variáveis não sejam mais usadas. Assim, podemos liberar espaço na memória ``deletando`` os valores atribuídos às variáveis que não são mais utilizadas. Para realizar tal procedimento, usamos o comando ``del``. Veja as células abaixo exemplifcando o uso desse operador."
   ]
  },
  {
   "cell_type": "code",
   "execution_count": 113,
   "metadata": {
    "ExecuteTime": {
     "end_time": "2020-06-05T23:43:14.868106Z",
     "start_time": "2020-06-05T23:43:14.865976Z"
    }
   },
   "outputs": [],
   "source": [
    "# atribuímos o resultado da operação ``2**10`` á variável ``variavel_para_deletar``\n",
    "variavel_para_deletar = 2**10"
   ]
  },
  {
   "cell_type": "code",
   "execution_count": 114,
   "metadata": {
    "ExecuteTime": {
     "end_time": "2020-06-05T23:43:40.849174Z",
     "start_time": "2020-06-05T23:43:40.846558Z"
    }
   },
   "outputs": [
    {
     "data": {
      "text/plain": [
       "1024"
      ]
     },
     "execution_count": 114,
     "metadata": {},
     "output_type": "execute_result"
    }
   ],
   "source": [
    "# inspecionamos o valor guardado na variável ``variavel_para_deletar``\n",
    "variavel_para_deletar"
   ]
  },
  {
   "cell_type": "code",
   "execution_count": 115,
   "metadata": {
    "ExecuteTime": {
     "end_time": "2020-06-05T23:44:20.335103Z",
     "start_time": "2020-06-05T23:44:20.333262Z"
    }
   },
   "outputs": [],
   "source": [
    "# vamos deletar a variável ``variavel_para_deletar``\n",
    "del variavel_para_deletar"
   ]
  },
  {
   "cell_type": "markdown",
   "metadata": {},
   "source": [
    "O comando não retornar nada, mas se tentarmos inspecionar o valor da variável novamente obtemos um erro:"
   ]
  },
  {
   "cell_type": "code",
   "execution_count": 116,
   "metadata": {
    "ExecuteTime": {
     "end_time": "2020-06-05T23:45:00.633394Z",
     "start_time": "2020-06-05T23:45:00.628690Z"
    }
   },
   "outputs": [
    {
     "ename": "NameError",
     "evalue": "name 'variavel_para_deletar' is not defined",
     "output_type": "error",
     "traceback": [
      "\u001b[0;31m---------------------------------------------------------------------------\u001b[0m",
      "\u001b[0;31mNameError\u001b[0m                                 Traceback (most recent call last)",
      "\u001b[0;32m<ipython-input-116-4eb98fc8ad1b>\u001b[0m in \u001b[0;36m<module>\u001b[0;34m\u001b[0m\n\u001b[0;32m----> 1\u001b[0;31m \u001b[0mvariavel_para_deletar\u001b[0m\u001b[0;34m\u001b[0m\u001b[0;34m\u001b[0m\u001b[0m\n\u001b[0m",
      "\u001b[0;31mNameError\u001b[0m: name 'variavel_para_deletar' is not defined"
     ]
    }
   ],
   "source": [
    "variavel_para_deletar"
   ]
  },
  {
   "cell_type": "markdown",
   "metadata": {},
   "source": [
    "``NameError`` nos diz que não existe uma variável com o nome fornecido no código."
   ]
  },
  {
   "cell_type": "markdown",
   "metadata": {},
   "source": [
    "<a class='section' id='strings'></a>\n",
    "# Strings"
   ]
  },
  {
   "cell_type": "markdown",
   "metadata": {},
   "source": [
    "``Strings``, como já vimos, são caracteres, palavras ou sentenceças que se encontram entre aspas simples (``'``) ou duplas (``\"``). Podemos imprimí-las na tela usando a função ``print()`` ou se estivermos no ``Notebook``, basta escrevermos a string e apertar ``shift+enter``:"
   ]
  },
  {
   "cell_type": "code",
   "execution_count": 147,
   "metadata": {
    "ExecuteTime": {
     "end_time": "2020-06-04T22:36:41.062880Z",
     "start_time": "2020-06-04T22:36:41.059815Z"
    }
   },
   "outputs": [
    {
     "data": {
      "text/plain": [
       "'Hello again, world!'"
      ]
     },
     "execution_count": 147,
     "metadata": {},
     "output_type": "execute_result"
    }
   ],
   "source": [
    "\"Hello again, world!\""
   ]
  },
  {
   "cell_type": "markdown",
   "metadata": {},
   "source": [
    "``Strings`` podem ser guardadas em variáveis, assim como fizemos com números e valores lógicos:\n",
    "\n",
    "```python\n",
    ">>> variavel_palavra = \"Python\"\n",
    ">>> print(variavel_palavra)\n",
    "Python\n",
    "\n",
    ">>> variavel_frase = \"Vou estudar, mas antes farei um café.\"\n",
    ">>> print(variavel_frase)\n",
    "Vou estudar, mas antes farei um café.\n",
    "```\n",
    "\n",
    "Veja os códigos executados nas células abaixo."
   ]
  },
  {
   "cell_type": "code",
   "execution_count": 150,
   "metadata": {
    "ExecuteTime": {
     "end_time": "2020-06-04T22:41:28.388477Z",
     "start_time": "2020-06-04T22:41:28.386198Z"
    }
   },
   "outputs": [],
   "source": [
    "# definimos ``variavel_palavra`` e atribuímos a ``string`` \"Python\" à ela\n",
    "variavel_palavra = \"Python\""
   ]
  },
  {
   "cell_type": "code",
   "execution_count": 152,
   "metadata": {
    "ExecuteTime": {
     "end_time": "2020-06-04T22:41:47.266416Z",
     "start_time": "2020-06-04T22:41:47.261077Z"
    }
   },
   "outputs": [
    {
     "data": {
      "text/plain": [
       "'Python'"
      ]
     },
     "execution_count": 152,
     "metadata": {},
     "output_type": "execute_result"
    }
   ],
   "source": [
    "# inspecionamos o valor de ``variavel_palavra``\n",
    "variavel_palavra"
   ]
  },
  {
   "cell_type": "code",
   "execution_count": 153,
   "metadata": {
    "ExecuteTime": {
     "end_time": "2020-06-04T22:42:35.648008Z",
     "start_time": "2020-06-04T22:42:35.644748Z"
    }
   },
   "outputs": [],
   "source": [
    "# definimos ``variavel_frase`` e atribuímos a ``string`` \"Vou estudar, mas antes farei um café.\" à ela\n",
    "variavel_frase = \"Vou estudar, mas antes farei um café.\""
   ]
  },
  {
   "cell_type": "code",
   "execution_count": 154,
   "metadata": {
    "ExecuteTime": {
     "end_time": "2020-06-04T22:42:50.924514Z",
     "start_time": "2020-06-04T22:42:50.919974Z"
    }
   },
   "outputs": [
    {
     "data": {
      "text/plain": [
       "'Vou estudar, mas antes farei um café.'"
      ]
     },
     "execution_count": 154,
     "metadata": {},
     "output_type": "execute_result"
    }
   ],
   "source": [
    "# inspecionamos o valor de ``variavel_frase``\n",
    "variavel_frase"
   ]
  },
  {
   "cell_type": "markdown",
   "metadata": {},
   "source": [
    "Se quisermos escrever uma string muito longa e quebrar a linha em algum momento, usamos ``\\n``:\n",
    "\n",
    "```python\n",
    ">>> print(\"Vou quebrar a linha aqui.\\nEssa é uma frase na outra linha.\")\n",
    "Vou quebrar a linha aqui.\n",
    "Essa é uma frase na outra linha.\n",
    "```\n",
    "\n",
    "Veja na célula abaixo o código executado."
   ]
  },
  {
   "cell_type": "code",
   "execution_count": 157,
   "metadata": {
    "ExecuteTime": {
     "end_time": "2020-06-04T22:45:20.908710Z",
     "start_time": "2020-06-04T22:45:20.904651Z"
    }
   },
   "outputs": [
    {
     "data": {
      "text/plain": [
       "'Vou quebrar a linha.\\nEssa é uma frase na outra linha.'"
      ]
     },
     "execution_count": 157,
     "metadata": {},
     "output_type": "execute_result"
    }
   ],
   "source": [
    "\"Vou quebrar a linha.\\nEssa é uma frase na outra linha.\""
   ]
  },
  {
   "cell_type": "markdown",
   "metadata": {},
   "source": [
    "Podemos obter o mesmo resultado se escrevermos o texto entre três aspas duplas ``\"\"\"``:\n",
    "\n",
    "```python\n",
    ">>> texto_duas_linhas = \"\"\"Vou quebrar a linha.\n",
    "Essa é uma frase na outra linha.\"\"\"\n",
    ">>> print(texto_duas_linhas)\n",
    "Vou quebrar a linha.\n",
    "Essa é uma frase na outra linha.\n",
    "```\n",
    "\n",
    "Veja na célula abaixo o código executado."
   ]
  },
  {
   "cell_type": "code",
   "execution_count": 163,
   "metadata": {
    "ExecuteTime": {
     "end_time": "2020-06-04T22:48:39.254473Z",
     "start_time": "2020-06-04T22:48:39.248970Z"
    }
   },
   "outputs": [
    {
     "data": {
      "text/plain": [
       "'Vou quebrar a linha.\\nEssa é uma frase na outra linha.'"
      ]
     },
     "execution_count": 163,
     "metadata": {},
     "output_type": "execute_result"
    }
   ],
   "source": [
    "\"\"\"Vou quebrar a linha.\n",
    "Essa é uma frase na outra linha.\"\"\""
   ]
  },
  {
   "cell_type": "markdown",
   "metadata": {},
   "source": [
    "Veja que se não usarmos a função ``print()``, vemos um ``\\n`` onde a linha foi quebrada no texto entre três aspas duplas."
   ]
  },
  {
   "cell_type": "markdown",
   "metadata": {},
   "source": [
    "Podemos realizar algumas operações com ``Strings``. Por exemplos, podemos somá-las:\n",
    "\n",
    "```python\n",
    ">>> string_1 = \"Hello, \"\n",
    ">>> string_2 = \"world!\"\n",
    ">>> string_final = string_1 + string_2\n",
    ">>> print(string_final)\n",
    "Hello, world!\n",
    "```\n",
    "\n",
    "Veja na célula abaixo o código executado."
   ]
  },
  {
   "cell_type": "code",
   "execution_count": 169,
   "metadata": {
    "ExecuteTime": {
     "end_time": "2020-06-04T22:58:24.052365Z",
     "start_time": "2020-06-04T22:58:24.048092Z"
    }
   },
   "outputs": [
    {
     "data": {
      "text/plain": [
       "'Hello, world!'"
      ]
     },
     "execution_count": 169,
     "metadata": {},
     "output_type": "execute_result"
    }
   ],
   "source": [
    "# definimos as duas ``strings`` que somaremos\n",
    "string_1 = \"Hello, \"\n",
    "string_2 = \"world!\"\n",
    "\n",
    "# definimos a ``string_final`` que é a soma das duas ``strings`` definidas anteriormente\n",
    "string_final = string_1 + string_2\n",
    "\n",
    "# imprimimos na tela o valor guardado na variável ``string_final``\n",
    "string_final\n"
   ]
  },
  {
   "cell_type": "markdown",
   "metadata": {},
   "source": [
    "Podemos também multiplicar strings por um número inteiro, de modo que o resultado é a repetição da string pelo número multiplicado:\n",
    "\n",
    "```python\n",
    ">>> variavel_hello = \"Hello\"\n",
    ">>> print(variavel_hello*3)\n",
    "HelloHelloHello\n",
    "```\n",
    "\n",
    "Veja a célula abaixo com o código executado."
   ]
  },
  {
   "cell_type": "code",
   "execution_count": 168,
   "metadata": {
    "ExecuteTime": {
     "end_time": "2020-06-04T22:58:19.666387Z",
     "start_time": "2020-06-04T22:58:19.663548Z"
    }
   },
   "outputs": [
    {
     "data": {
      "text/plain": [
       "'HelloHelloHello'"
      ]
     },
     "execution_count": 168,
     "metadata": {},
     "output_type": "execute_result"
    }
   ],
   "source": [
    "# definimos ``variavel_hello`` atribuindo a string \"Hello\" à ela\n",
    "variavel_hello = \"Hello\"\n",
    "\n",
    "# multiplicamos ``variavel_hello`` por 3\n",
    "variavel_hello*3"
   ]
  },
  {
   "cell_type": "markdown",
   "metadata": {},
   "source": [
    "<a class='cell' id='str_concatenate'></a>\n",
    "Se quisermos usar um número a uma ``String``, de maneira que esse seja representado como uma ``String`` no meio da sentença, podemos usar a função ``print`` e  ``concatenar`` o que quisermos:\n",
    "\n",
    "```python\n",
    ">>> print(\"Hoje eu já tomei\", 5, \"xícaras de café.\")\n",
    "Hoje eu já tomei 5 xícaras de café.\n",
    "```\n",
    "\n",
    "O mesmo resultado pode ser obtido se usarmos a função ``str()`` para transformar o número do tipo ``int`` em uma variável do tipo ``str``:\n",
    "\n",
    "```python\n",
    ">>> print(\"Hoje eu já tomei \" + str(5) + \" xícaras de café.\")\n",
    "Hoje eu já tomei 5 xícaras de café.\n",
    "```\n",
    "\n",
    "Da mesma forma, podemos fazer o inverso, ou seja, transformar uma variável ``str`` que é um número, por exemplo, ``\"5\"`` para ser uma variável do tipo ``int`` ou ``float``, usando as funções ``int()`` e ``float()``, respectivamente:\n",
    "\n",
    "```python\n",
    ">>> string_numero = \"5\"\n",
    ">>> print(string_numero*3)\n",
    "555\n",
    ">>> string_para_int = int(string_numero)\n",
    ">>> print(string_para_int*3)\n",
    "15\n",
    ">>> string_para_float = float(string_numero)\n",
    ">>> print(string_para_float)\n",
    "5.0\n",
    "```\n",
    "\n",
    "Veja as células abaixo com os códigos executados."
   ]
  },
  {
   "cell_type": "code",
   "execution_count": 175,
   "metadata": {
    "ExecuteTime": {
     "end_time": "2020-06-04T23:12:03.374962Z",
     "start_time": "2020-06-04T23:12:03.371695Z"
    }
   },
   "outputs": [
    {
     "data": {
      "text/plain": [
       "'555'"
      ]
     },
     "execution_count": 175,
     "metadata": {},
     "output_type": "execute_result"
    }
   ],
   "source": [
    "# definimos ``string_numero`` e atribuímos a ``string`` \"5\" à ela\n",
    "string_numero = \"5\"\n",
    "# multiplicamos a ``string`` pelo número 3\n",
    "string_numero*3"
   ]
  },
  {
   "cell_type": "code",
   "execution_count": 176,
   "metadata": {
    "ExecuteTime": {
     "end_time": "2020-06-04T23:13:28.388863Z",
     "start_time": "2020-06-04T23:13:28.386078Z"
    }
   },
   "outputs": [
    {
     "data": {
      "text/plain": [
       "15"
      ]
     },
     "execution_count": 176,
     "metadata": {},
     "output_type": "execute_result"
    }
   ],
   "source": [
    "# definimos ``string_para_int`` e atribuímos o resultado\n",
    "# da aplicação da função ``int()`` a ``string_numero``\n",
    "# isso transforma a ``string`` \"5\" no número inteiro 5\n",
    "string_para_int = int(string_numero)\n",
    "\n",
    "# multiplicamos o número inteiro 5\n",
    "string_para_int*3"
   ]
  },
  {
   "cell_type": "code",
   "execution_count": null,
   "metadata": {},
   "outputs": [],
   "source": [
    "# definimos ``string_para_float`` e atribuímos o resultado\n",
    "# da aplicação da função ``float()`` a ``string_numero``\n",
    "# isso transforma a ``string`` \"5\" no número decimal 5.0\n",
    "string_para_float = float(string_numero)\n",
    "\n",
    "# imprimimos o valor do número decimal na tela\n",
    "string_para_float"
   ]
  },
  {
   "cell_type": "markdown",
   "metadata": {},
   "source": [
    "Existem outros ``métodos`` que podem ser aplicados à variáveis que pertecem à classe ``str``. Para aplicar um método a uma ``str`` usamos um ``.`` e então escrevemos o ``método`` que queremos aplicar. Vamos ver alguns deles e como aplicá-los:\n",
    "\n",
    "```python\n",
    ">>> variavel_string = \"Eu quero café. Sem açúcar, por favor.\"\n",
    "\n",
    "# todas as letras ficam minúsculas\n",
    ">>> variavel_string.lower()          \n",
    "eu quero café. sem açúcar, por favor.\n",
    "\n",
    "# todas as letras ficam maiúsculas\n",
    ">>> variavel_string.upper()          \n",
    "EU QUERO CAFÉ. SEM AÇÚCAR POR FAVOR.\n",
    "\n",
    "# a primeira letra de cada palavra fica maiúscula\n",
    ">>> variavel_string.title()          \n",
    "Eu Quero Café. Sem Açúcar, Por Favor.\n",
    "\n",
    "# só a primeira letra fica maiúscula\n",
    ">>> variavel_string.capitalize()     \n",
    "Eu quero café. sem açúcar, por favor.\n",
    "\n",
    "# conta quantas vezes o caracter passado como argumento aparece na ``string``\n",
    ">>> variavel_string.count('e')       \n",
    "2\n",
    "\n",
    "# os métodos atuam na ``string`` mas não alteram a variável\n",
    ">>> print(variavel_string)           \n",
    "Eu quero café. Sem açúcar, por favor.\n",
    "```\n",
    "\n",
    "Vamos executar esse códigos nas células abaixo."
   ]
  },
  {
   "cell_type": "code",
   "execution_count": 27,
   "metadata": {
    "ExecuteTime": {
     "end_time": "2020-06-05T18:11:13.581839Z",
     "start_time": "2020-06-05T18:11:13.578625Z"
    }
   },
   "outputs": [],
   "source": [
    "# primeiramente definimos ``variavel_string`` e atribuímos a ``string``\n",
    "# \"Estou aprendendo sobre strings. Vamos ver esses módulos.\"\n",
    "variavel_string = \"Estou aprendendo sobre strings. Vamos ver esses módulos.\""
   ]
  },
  {
   "cell_type": "code",
   "execution_count": 28,
   "metadata": {
    "ExecuteTime": {
     "end_time": "2020-06-05T18:11:23.675346Z",
     "start_time": "2020-06-05T18:11:23.670530Z"
    }
   },
   "outputs": [
    {
     "data": {
      "text/plain": [
       "'Estou aprendendo sobre strings. Vamos ver esses módulos.'"
      ]
     },
     "execution_count": 28,
     "metadata": {},
     "output_type": "execute_result"
    }
   ],
   "source": [
    "# inspecionamos a variável\n",
    "variavel_string"
   ]
  },
  {
   "cell_type": "code",
   "execution_count": 29,
   "metadata": {
    "ExecuteTime": {
     "end_time": "2020-06-05T18:22:54.104694Z",
     "start_time": "2020-06-05T18:22:54.101962Z"
    }
   },
   "outputs": [
    {
     "data": {
      "text/plain": [
       "'estou aprendendo sobre strings. vamos ver esses módulos.'"
      ]
     },
     "execution_count": 29,
     "metadata": {},
     "output_type": "execute_result"
    }
   ],
   "source": [
    "# vamos fazer todas as letras ficarem minúsculas\n",
    "variavel_string.lower()"
   ]
  },
  {
   "cell_type": "code",
   "execution_count": 30,
   "metadata": {
    "ExecuteTime": {
     "end_time": "2020-06-05T18:23:03.770535Z",
     "start_time": "2020-06-05T18:23:03.766986Z"
    }
   },
   "outputs": [
    {
     "data": {
      "text/plain": [
       "'ESTOU APRENDENDO SOBRE STRINGS. VAMOS VER ESSES MÓDULOS.'"
      ]
     },
     "execution_count": 30,
     "metadata": {},
     "output_type": "execute_result"
    }
   ],
   "source": [
    "# vamos fazer todas as letras ficarem maiúsculas\n",
    "variavel_string.upper()"
   ]
  },
  {
   "cell_type": "code",
   "execution_count": 31,
   "metadata": {
    "ExecuteTime": {
     "end_time": "2020-06-05T18:23:13.414088Z",
     "start_time": "2020-06-05T18:23:13.409771Z"
    }
   },
   "outputs": [
    {
     "data": {
      "text/plain": [
       "'Estou Aprendendo Sobre Strings. Vamos Ver Esses Módulos.'"
      ]
     },
     "execution_count": 31,
     "metadata": {},
     "output_type": "execute_result"
    }
   ],
   "source": [
    "# vamos fazer a primeira letra de cada palavra ficar maiúscula\n",
    "variavel_string.title()"
   ]
  },
  {
   "cell_type": "code",
   "execution_count": 32,
   "metadata": {
    "ExecuteTime": {
     "end_time": "2020-06-05T18:23:23.743159Z",
     "start_time": "2020-06-05T18:23:23.738512Z"
    }
   },
   "outputs": [
    {
     "data": {
      "text/plain": [
       "'Estou aprendendo sobre strings. vamos ver esses módulos.'"
      ]
     },
     "execution_count": 32,
     "metadata": {},
     "output_type": "execute_result"
    }
   ],
   "source": [
    "# vamos fazer somente a primeira palavra ficar com letra maiúscula\n",
    "variavel_string.capitalize()"
   ]
  },
  {
   "cell_type": "code",
   "execution_count": 34,
   "metadata": {
    "ExecuteTime": {
     "end_time": "2020-06-05T18:26:43.322878Z",
     "start_time": "2020-06-05T18:26:43.319315Z"
    }
   },
   "outputs": [
    {
     "data": {
      "text/plain": [
       "9"
      ]
     },
     "execution_count": 34,
     "metadata": {},
     "output_type": "execute_result"
    }
   ],
   "source": [
    "# vamos contar quantas vezes a letra ``s`` aparece na ``variavel_string``\n",
    "variavel_string.count('s')"
   ]
  },
  {
   "cell_type": "code",
   "execution_count": 36,
   "metadata": {
    "ExecuteTime": {
     "end_time": "2020-06-05T18:28:21.211276Z",
     "start_time": "2020-06-05T18:28:21.207687Z"
    }
   },
   "outputs": [
    {
     "data": {
      "text/plain": [
       "2"
      ]
     },
     "execution_count": 36,
     "metadata": {},
     "output_type": "execute_result"
    }
   ],
   "source": [
    "# o argumento do ``método`` ``count()`` pode receber qualquer ``string`` que quisermos\n",
    "variavel_string.count('en')"
   ]
  },
  {
   "cell_type": "markdown",
   "metadata": {},
   "source": [
    "Contudo, veja que a aplicação desses ``métodos`` na ``variavel_string`` não altera seu valor original:"
   ]
  },
  {
   "cell_type": "code",
   "execution_count": 42,
   "metadata": {
    "ExecuteTime": {
     "end_time": "2020-06-05T18:37:06.730635Z",
     "start_time": "2020-06-05T18:37:06.726851Z"
    }
   },
   "outputs": [
    {
     "data": {
      "text/plain": [
       "'Estou aprendendo sobre strings. Vamos ver esses módulos.'"
      ]
     },
     "execution_count": 42,
     "metadata": {},
     "output_type": "execute_result"
    }
   ],
   "source": [
    "# vamos inspecionar a variável após a aplicação de todos os métodos\n",
    "variavel_string"
   ]
  },
  {
   "cell_type": "markdown",
   "metadata": {
    "ExecuteTime": {
     "end_time": "2020-06-05T18:33:00.943862Z",
     "start_time": "2020-06-05T18:33:00.939570Z"
    }
   },
   "source": [
    "<a class='cell' id='string_len'></a>\n",
    "É possível também descobrirmos o número de caracteres presentes na ``string``. Para isso, usamos a função inata do ``python`` chamada ``len()``. Ela é a abreviação de ``length``, que significa ``tamanho``. Se aplicarmos essa ``função`` na ``string`` teremos como retorno um número, que é seu número de caracteres:\n",
    "\n",
    "```python\n",
    "# definimos ``variavel_string``\n",
    ">>> variavel_string = \"Eu quero café. Sem açúcar, por favor.\"\n",
    "# contamos quantos caracteres tem na ``string``\n",
    ">>> len(variavel_string)\n",
    "37\n",
    "```\n",
    "\n",
    "Veja os códigos executados nas células abaixos."
   ]
  },
  {
   "cell_type": "code",
   "execution_count": 106,
   "metadata": {
    "ExecuteTime": {
     "end_time": "2020-06-05T22:22:07.125622Z",
     "start_time": "2020-06-05T22:22:07.123292Z"
    }
   },
   "outputs": [],
   "source": [
    "# definimos nossa ``string``\n",
    "variavel_string = \"Eu quero café. Sem açúcar, por favor.\""
   ]
  },
  {
   "cell_type": "code",
   "execution_count": 107,
   "metadata": {
    "ExecuteTime": {
     "end_time": "2020-06-05T22:23:05.600243Z",
     "start_time": "2020-06-05T22:23:05.596751Z"
    }
   },
   "outputs": [
    {
     "data": {
      "text/plain": [
       "37"
      ]
     },
     "execution_count": 107,
     "metadata": {},
     "output_type": "execute_result"
    }
   ],
   "source": [
    "# inspecionamos o tamanho da ``string``\n",
    "len(variavel_string)"
   ]
  },
  {
   "cell_type": "markdown",
   "metadata": {
    "ExecuteTime": {
     "end_time": "2020-06-05T22:19:13.966043Z",
     "start_time": "2020-06-05T22:19:13.959912Z"
    }
   },
   "source": [
    "Veja que existe uma diferença sútil de como uma ``função`` e um ``método`` são aplicados na variável ``string``. Em uma ``função``, a variável em questão é passada como argumento, dentro dos parênteses: \n",
    "\n",
    "```python\n",
    ">>> len(variavel_string)\n",
    "```\n",
    "\n",
    "Já um ``método`` é aplicado usando a notação de ``.`` em frente à variável que estamos tentando aplicá-lo. A principal diferença é que as variáveis que criamos percentem a certas ``classes`` ou ``tipos``. Cada uma dessas ``classes`` possuem métodos diferentes que podem ser aplicados a eles. Acima, trabalhamos com a variável ``variavel_string``, que é uma ``string`` e, portanto, pertence à classe ``str``. Essa ``classe`` possui os ``métodos`` que mencionamos acima e muitos outros. "
   ]
  },
  {
   "cell_type": "markdown",
   "metadata": {},
   "source": [
    "<a class='section' id='breve_comentario_sobre_as_classes'></a>\n",
    "# Breve comentário sobre as ``classes``"
   ]
  },
  {
   "cell_type": "markdown",
   "metadata": {},
   "source": [
    "Nesse curso não entraremos em detalhes sobre construção de ``classes``. Contudo, vale a pena saber alguns detalhes sobre as ``classes`` de variáveis que já estamos trabalhando. \n",
    "\n",
    "Além dos ``métodos``, uma ``classe`` possui ``propriedades`` associadas a ela. Uma ``propriedade`` é algo intrínseco da ``classe``. Por exemplo, sabemos que a variável ``variavel_string`` pertence a classe ``str`` e isso é uma ``propriedade`` dela. Já um ``método`` é aplicado à variável causando algum tipo de transformação, por exemplo, deixando todas as letras da ``str`` minúsculas ao usar o método ``lower()``. Para acessar uma ``propriedade`` usamos um ``.`` e então escrevemos o nome da ``propriedade``, sem parêntesis.\n",
    "\n",
    "Um outro exemplo que talvez ajude a entender melhor é a seguinte. Suponha um estudante chamado João da Silva, 20 anos, 1,75m e 70kg. Imagine criamos uma variável ``joao_da_silva``. Quando verificamos seu ``tipo`` ou ``classe``, essa retornará ``estudante``. Essa ``classe`` possui as ``propriedades``: ``nome``, ``sobrenome``, ``idade``, ``altura`` e ``peso``. Veja que essas são todas características intrínsecas de ``joao_da_silva``. Assim, se quiséssemos saber sua idade, bastaria usar o seguinte código:\n",
    "\n",
    "```python\n",
    ">>> joao_da_silva.idade\n",
    "20\n",
    "```\n",
    "\n",
    "Imagine agora que João não é um cara que goste muito de estudar e está sempre tirando notas vermelhas. Para mudar isso, ou seja, fazer com que ele tire notas azuis, poderíamos aplicar um ``método`` chamado ``estudar()``. Isso mudaria a natureza de ``joao_da_silva``, que é da ``classe``  ``estudante`` e ele tiraria notas azuis. Contudo, se o método não for aplicado, ele volta a ser um cara que não gosta muito de estudar e a tirar notas vermelhas, contudo, suas ``propriedades`` permanecem inalteradas: seu ``nome`` continua sendo ``João``, seu ``sobrenome`` continua sendo ``da Silva`` etc."
   ]
  },
  {
   "cell_type": "markdown",
   "metadata": {},
   "source": [
    "Para verificar todas as ``propriedades`` e ``métodos`` disponíveis de uma ``classe``, podemos usar a ``função`` ``dir()``. Por exemplo, para uma ``string``:"
   ]
  },
  {
   "cell_type": "code",
   "execution_count": 68,
   "metadata": {
    "ExecuteTime": {
     "end_time": "2020-06-05T19:34:37.357832Z",
     "start_time": "2020-06-05T19:34:37.352500Z"
    }
   },
   "outputs": [
    {
     "data": {
      "text/plain": [
       "['__add__',\n",
       " '__class__',\n",
       " '__contains__',\n",
       " '__delattr__',\n",
       " '__dir__',\n",
       " '__doc__',\n",
       " '__eq__',\n",
       " '__format__',\n",
       " '__ge__',\n",
       " '__getattribute__',\n",
       " '__getitem__',\n",
       " '__getnewargs__',\n",
       " '__gt__',\n",
       " '__hash__',\n",
       " '__init__',\n",
       " '__init_subclass__',\n",
       " '__iter__',\n",
       " '__le__',\n",
       " '__len__',\n",
       " '__lt__',\n",
       " '__mod__',\n",
       " '__mul__',\n",
       " '__ne__',\n",
       " '__new__',\n",
       " '__reduce__',\n",
       " '__reduce_ex__',\n",
       " '__repr__',\n",
       " '__rmod__',\n",
       " '__rmul__',\n",
       " '__setattr__',\n",
       " '__sizeof__',\n",
       " '__str__',\n",
       " '__subclasshook__',\n",
       " 'capitalize',\n",
       " 'casefold',\n",
       " 'center',\n",
       " 'count',\n",
       " 'encode',\n",
       " 'endswith',\n",
       " 'expandtabs',\n",
       " 'find',\n",
       " 'format',\n",
       " 'format_map',\n",
       " 'index',\n",
       " 'isalnum',\n",
       " 'isalpha',\n",
       " 'isascii',\n",
       " 'isdecimal',\n",
       " 'isdigit',\n",
       " 'isidentifier',\n",
       " 'islower',\n",
       " 'isnumeric',\n",
       " 'isprintable',\n",
       " 'isspace',\n",
       " 'istitle',\n",
       " 'isupper',\n",
       " 'join',\n",
       " 'ljust',\n",
       " 'lower',\n",
       " 'lstrip',\n",
       " 'maketrans',\n",
       " 'partition',\n",
       " 'replace',\n",
       " 'rfind',\n",
       " 'rindex',\n",
       " 'rjust',\n",
       " 'rpartition',\n",
       " 'rsplit',\n",
       " 'rstrip',\n",
       " 'split',\n",
       " 'splitlines',\n",
       " 'startswith',\n",
       " 'strip',\n",
       " 'swapcase',\n",
       " 'title',\n",
       " 'translate',\n",
       " 'upper',\n",
       " 'zfill']"
      ]
     },
     "execution_count": 68,
     "metadata": {},
     "output_type": "execute_result"
    }
   ],
   "source": [
    "dir(\"Vamos ver as propriedades e métodos das strings!\")"
   ]
  },
  {
   "cell_type": "markdown",
   "metadata": {},
   "source": [
    "Observe que no começo vimos a função ``type()`` que retornava o ``tipo`` da variável. Para uma ``string`` ela retorna o tipo ``str``:"
   ]
  },
  {
   "cell_type": "code",
   "execution_count": 69,
   "metadata": {
    "ExecuteTime": {
     "end_time": "2020-06-05T19:35:57.116937Z",
     "start_time": "2020-06-05T19:35:57.112679Z"
    }
   },
   "outputs": [
    {
     "data": {
      "text/plain": [
       "str"
      ]
     },
     "execution_count": 69,
     "metadata": {},
     "output_type": "execute_result"
    }
   ],
   "source": [
    "type(\"Vamos ver qual o tipo da string.\")"
   ]
  },
  {
   "cell_type": "markdown",
   "metadata": {},
   "source": [
    "Podemos usar a ``propriedade`` ``__class__`` para verificar a ``classe`` da ``string``:"
   ]
  },
  {
   "cell_type": "code",
   "execution_count": 70,
   "metadata": {
    "ExecuteTime": {
     "end_time": "2020-06-05T19:37:12.899865Z",
     "start_time": "2020-06-05T19:37:12.896512Z"
    }
   },
   "outputs": [
    {
     "data": {
      "text/plain": [
       "str"
      ]
     },
     "execution_count": 70,
     "metadata": {},
     "output_type": "execute_result"
    }
   ],
   "source": [
    "\"Vamos ver qual a classe da string.\".__class__"
   ]
  },
  {
   "cell_type": "markdown",
   "metadata": {},
   "source": [
    "Tanto a função ``type()`` quanto a ``propiedade`` ``__class__`` retornam ``str``.\n",
    "\n",
    "``Python`` é uma linguagem de programação ``orientada a objeto``. Isso quer dizer que estamos sempre trabalhando com ``objetos``. Esses ``objetos`` pertencem a diferentes ``classes`` e possuem suas próprias ``propriedades`` e ``métodos``. Assim, quando escrevemos algo do tipo\n",
    "\n",
    "```python\n",
    ">>> variavel_string = \"Eu sou uma string, um objeto. Minha classe é 'str'\".\n",
    "```\n",
    "\n",
    "temos que a ``string``, do lado direito, é um ``objeto`` da ``classe`` ``str``, que possui suas ``propriedades`` e ``métodos``. Do lado esquerdo, criamos uma ``variável`` que guarda o valor dessa ``string``. Se analisarmos ``variavel_string``, veremos que ela é da ``classe`` ``str``\n",
    "\n",
    "```python\n",
    ">>> print(variavel_string.__class__)\n",
    "str\n",
    "```\n",
    "\n",
    "de maneira que a variável criada também possui todos as ``propriedades`` e ``métodos`` da ``classe`` ``str``."
   ]
  },
  {
   "cell_type": "markdown",
   "metadata": {},
   "source": [
    "Se observarmos acima, a ``função`` ``dir()`` retorna uma ``lista`` com todos as ``propriedades`` e ``métodos`` da ``classe`` ``str``. Em ``python``, uma ``lista`` faz parte de uma outra ``classe``, chamada ``list``. Essa nova ``classe`` seja nosso ``obejto`` de estudo na próxima seção."
   ]
  },
  {
   "cell_type": "markdown",
   "metadata": {},
   "source": [
    "<a class='section' id='listas'></a>\n",
    "# Listas"
   ]
  },
  {
   "cell_type": "markdown",
   "metadata": {},
   "source": [
    "Uma das principais estruturas que veremos durante esse mini-curso é conhecida como ``list``. Como seu próprio nome já diz, ela guarda diversos valores em uma estrutura de ``lista``. Podemos criar uma lista usando colchetes ``[]`` e separando os valores por vírgula ``,``:\n",
    "\n",
    "```python\n",
    "# criamos a variável  ``primeira_lista`` e atribuímos a lista [4, 3, 2, 1, 0] a ela\n",
    ">>> primeira_lista = [4, 3, 2, 1, 0]\n",
    "# imprimimos a lista completa\n",
    ">>> print(primeira_lista)\n",
    "[4, 3, 2, 1, 0]\n",
    "```"
   ]
  },
  {
   "cell_type": "markdown",
   "metadata": {},
   "source": [
    "Assim como fizemos em uma ``string``, podemos usar a ``função`` ``len()`` para encontrar o número de elementos da ``lista``:\n",
    "\n",
    "```python\n",
    ">>> len(primeira_lista)\n",
    "5\n",
    "```"
   ]
  },
  {
   "cell_type": "markdown",
   "metadata": {},
   "source": [
    "Podemos acessar cada um dos termos das ``lista`` usando o ``índice`` numérico entre colchetes na frente da lista. Por exemplo, no caso da ``primeira_lista``, se quisermos acessar o primeiro termo usamos o seguinte código:\n",
    "\n",
    "```python\n",
    "# acessamos o primeiro termo da lista e o imprimimos\n",
    ">>> print(primeira_lista[0])\n",
    "4\n",
    "```\n",
    "\n",
    "Em ``python`` acessamos o primeiro índice usando o número ``0``. Para acessar o segundo termo usamos o índice ``1`` e assim por diante. Podemos usar índices negativos também. Esses se referem à ``lista`` do começo para o fim. Por exemplo, para acessar o último termo da ``lista``, usamos o ``índice`` ``-1``:\n",
    "\n",
    "```python\n",
    "# acessamos o último termo da lista e o imprimimos\n",
    ">>> print(primeira_lista[-1])\n",
    "0\n",
    "```\n",
    "\n",
    "Se tentarmos acessar um índice que não existe na lista, por exemplo, o índice ``5`` em ``primeira_lista``, o seguinte erro aparece:"
   ]
  },
  {
   "cell_type": "code",
   "execution_count": 85,
   "metadata": {
    "ExecuteTime": {
     "end_time": "2020-06-05T21:52:28.389240Z",
     "start_time": "2020-06-05T21:52:28.387337Z"
    }
   },
   "outputs": [],
   "source": [
    "# definimos nossa lista\n",
    "primeira_lista = [4, 3, 2, 1, 0]"
   ]
  },
  {
   "cell_type": "code",
   "execution_count": 86,
   "metadata": {
    "ExecuteTime": {
     "end_time": "2020-06-05T21:52:43.899015Z",
     "start_time": "2020-06-05T21:52:43.894148Z"
    }
   },
   "outputs": [
    {
     "ename": "IndexError",
     "evalue": "list index out of range",
     "output_type": "error",
     "traceback": [
      "\u001b[0;31m---------------------------------------------------------------------------\u001b[0m",
      "\u001b[0;31mIndexError\u001b[0m                                Traceback (most recent call last)",
      "\u001b[0;32m<ipython-input-86-a1e7134298d5>\u001b[0m in \u001b[0;36m<module>\u001b[0;34m\u001b[0m\n\u001b[1;32m      1\u001b[0m \u001b[0;31m# tentamos acessar um índice que não existe\u001b[0m\u001b[0;34m\u001b[0m\u001b[0;34m\u001b[0m\u001b[0;34m\u001b[0m\u001b[0m\n\u001b[0;32m----> 2\u001b[0;31m \u001b[0mprimeira_lista\u001b[0m\u001b[0;34m[\u001b[0m\u001b[0;36m5\u001b[0m\u001b[0;34m]\u001b[0m\u001b[0;34m\u001b[0m\u001b[0;34m\u001b[0m\u001b[0m\n\u001b[0m",
      "\u001b[0;31mIndexError\u001b[0m: list index out of range"
     ]
    }
   ],
   "source": [
    "# tentamos acessar um índice que não existe\n",
    "primeira_lista[5]"
   ]
  },
  {
   "cell_type": "markdown",
   "metadata": {},
   "source": [
    "Podemos criar listas com diferentes tipos de ``objetos``. Por exemplo, podemos ter em uma lista termos que são ``int``, outros que são ``str`` e até mesmo outras ``list``:\n",
    "\n",
    "```python\n",
    ">>> lista_mista = ['a', 10, 23, 'B', [1, 0, 'C']]\n",
    ">>> print(len(lista_mista))\n",
    "5\n",
    ">>> print(lista_mista[0])\n",
    "a\n",
    ">>> print(lista_mista[2])\n",
    "23\n",
    ">>> print(lista_mista[3])\n",
    "B\n",
    ">>> print(lista_mista[-1])\n",
    "[1, 0, 'C']\n",
    "```"
   ]
  },
  {
   "cell_type": "markdown",
   "metadata": {
    "ExecuteTime": {
     "end_time": "2020-06-05T21:47:37.260374Z",
     "start_time": "2020-06-05T21:47:37.258079Z"
    }
   },
   "source": [
    "Observe que o último termo dessa lista é outra lista. Dessa forma, podemos acessar os índices dessa da mesma forma:\n",
    "\n",
    "```python\n",
    ">>> print(lista_mista[-1][2])\n",
    "C\n",
    "```\n",
    "\n",
    "Veja os código executados nas células abaixo."
   ]
  },
  {
   "cell_type": "code",
   "execution_count": 128,
   "metadata": {
    "ExecuteTime": {
     "end_time": "2020-06-06T16:43:15.738867Z",
     "start_time": "2020-06-06T16:43:15.735826Z"
    }
   },
   "outputs": [],
   "source": [
    "# definimos nossa lista\n",
    "lista_mista = ['a', 10, 23, 'B', 11, [1, 0, 'C', False], True, 37, 'D', 'F', 95]"
   ]
  },
  {
   "cell_type": "code",
   "execution_count": 129,
   "metadata": {
    "ExecuteTime": {
     "end_time": "2020-06-06T16:43:19.674404Z",
     "start_time": "2020-06-06T16:43:19.669673Z"
    }
   },
   "outputs": [
    {
     "data": {
      "text/plain": [
       "11"
      ]
     },
     "execution_count": 129,
     "metadata": {},
     "output_type": "execute_result"
    }
   ],
   "source": [
    "# inspecionamos o tamanho da lista\n",
    "len(lista_mista)"
   ]
  },
  {
   "cell_type": "code",
   "execution_count": 130,
   "metadata": {
    "ExecuteTime": {
     "end_time": "2020-06-06T16:43:21.269490Z",
     "start_time": "2020-06-06T16:43:21.266389Z"
    }
   },
   "outputs": [
    {
     "data": {
      "text/plain": [
       "'a'"
      ]
     },
     "execution_count": 130,
     "metadata": {},
     "output_type": "execute_result"
    }
   ],
   "source": [
    "# acessamos o primeiro termo da lista\n",
    "lista_mista[0]"
   ]
  },
  {
   "cell_type": "code",
   "execution_count": 131,
   "metadata": {
    "ExecuteTime": {
     "end_time": "2020-06-06T16:43:22.126294Z",
     "start_time": "2020-06-06T16:43:22.123479Z"
    }
   },
   "outputs": [
    {
     "data": {
      "text/plain": [
       "23"
      ]
     },
     "execution_count": 131,
     "metadata": {},
     "output_type": "execute_result"
    }
   ],
   "source": [
    "# acessamos o terceiro termo da lista\n",
    "lista_mista[2]"
   ]
  },
  {
   "cell_type": "code",
   "execution_count": 132,
   "metadata": {
    "ExecuteTime": {
     "end_time": "2020-06-06T16:43:23.216649Z",
     "start_time": "2020-06-06T16:43:23.212944Z"
    }
   },
   "outputs": [
    {
     "data": {
      "text/plain": [
       "'B'"
      ]
     },
     "execution_count": 132,
     "metadata": {},
     "output_type": "execute_result"
    }
   ],
   "source": [
    "# acessamos o quarto termo da lista\n",
    "lista_mista[3]"
   ]
  },
  {
   "cell_type": "code",
   "execution_count": 133,
   "metadata": {
    "ExecuteTime": {
     "end_time": "2020-06-06T16:43:24.097362Z",
     "start_time": "2020-06-06T16:43:24.093526Z"
    }
   },
   "outputs": [
    {
     "data": {
      "text/plain": [
       "95"
      ]
     },
     "execution_count": 133,
     "metadata": {},
     "output_type": "execute_result"
    }
   ],
   "source": [
    "# acessamos o último termo da lista\n",
    "lista_mista[-1]"
   ]
  },
  {
   "cell_type": "code",
   "execution_count": 134,
   "metadata": {
    "ExecuteTime": {
     "end_time": "2020-06-06T16:44:27.051595Z",
     "start_time": "2020-06-06T16:44:27.048902Z"
    }
   },
   "outputs": [
    {
     "data": {
      "text/plain": [
       "'C'"
      ]
     },
     "execution_count": 134,
     "metadata": {},
     "output_type": "execute_result"
    }
   ],
   "source": [
    "# acessamos o sexto elemento da lista\n",
    "# que por sua vez também é uma lista\n",
    "# e então acessamos o terceiro termo\n",
    "lista_mista[5][2]"
   ]
  },
  {
   "cell_type": "markdown",
   "metadata": {},
   "source": [
    "Podemos acessar trechos da lista e não apenas um elemento de cada vez. Para isso, especificamos, dentro do colchetes, um intervalo fechado à esquerda e aberto à direita, com os índices que queremos. Os índices devem estar separados por ``:``. Por exemplo, vamos supor que queremos acessar os ``5`` primeiros termos de ``lista_mista``:"
   ]
  },
  {
   "cell_type": "code",
   "execution_count": 135,
   "metadata": {
    "ExecuteTime": {
     "end_time": "2020-06-06T16:44:59.650087Z",
     "start_time": "2020-06-06T16:44:59.647470Z"
    }
   },
   "outputs": [
    {
     "data": {
      "text/plain": [
       "['a', 10, 23, 'B', 11]"
      ]
     },
     "execution_count": 135,
     "metadata": {},
     "output_type": "execute_result"
    }
   ],
   "source": [
    "# acessamos os ``5`` primeiros termos de ``lista_mista``\n",
    "lista_mista[0:5]"
   ]
  },
  {
   "cell_type": "markdown",
   "metadata": {},
   "source": [
    "Se estivermos considerando o início da lista, não precisamos fornecer o índice ``0``:"
   ]
  },
  {
   "cell_type": "code",
   "execution_count": 136,
   "metadata": {
    "ExecuteTime": {
     "end_time": "2020-06-06T16:45:01.985415Z",
     "start_time": "2020-06-06T16:45:01.981125Z"
    }
   },
   "outputs": [
    {
     "data": {
      "text/plain": [
       "['a', 10, 23, 'B', 11]"
      ]
     },
     "execution_count": 136,
     "metadata": {},
     "output_type": "execute_result"
    }
   ],
   "source": [
    "lista_mista[:5]"
   ]
  },
  {
   "cell_type": "markdown",
   "metadata": {},
   "source": [
    "Se quisermos escolher um trecho da lista que consiste de um certo elemento até o último da lista, não precisamos especificar o segundo índice:"
   ]
  },
  {
   "cell_type": "code",
   "execution_count": 137,
   "metadata": {
    "ExecuteTime": {
     "end_time": "2020-06-06T16:45:03.499052Z",
     "start_time": "2020-06-06T16:45:03.494530Z"
    }
   },
   "outputs": [
    {
     "data": {
      "text/plain": [
       "[[1, 0, 'C', False], True, 37, 'D', 'F', 95]"
      ]
     },
     "execution_count": 137,
     "metadata": {},
     "output_type": "execute_result"
    }
   ],
   "source": [
    "lista_mista[5:]"
   ]
  },
  {
   "cell_type": "markdown",
   "metadata": {},
   "source": [
    "Também é possível selecionar os termos de um intervalo da lista pulando alguns elementos. Para isso, adicionamos um outro ``:`` e colocamos o tamanho da janela que queremos selecionar:"
   ]
  },
  {
   "cell_type": "code",
   "execution_count": 138,
   "metadata": {
    "ExecuteTime": {
     "end_time": "2020-06-06T16:45:05.834979Z",
     "start_time": "2020-06-06T16:45:05.831797Z"
    }
   },
   "outputs": [
    {
     "data": {
      "text/plain": [
       "['a', 23, 11]"
      ]
     },
     "execution_count": 138,
     "metadata": {},
     "output_type": "execute_result"
    }
   ],
   "source": [
    "lista_mista[:5:2]"
   ]
  },
  {
   "cell_type": "markdown",
   "metadata": {},
   "source": [
    "Vamos analisar o que ocorreu aqui por partes:\n",
    "```python\n",
    "1º - selecionamos os cinco primeiros termos da lista: ['a', 10, 23, 'B', 11]\n",
    "2º - especificamos uma janela de tamanho 2 para filtrar os termos\n",
    "3º - Essa janela irá percorrer a lista de 2 em 2 termos e selcionar o primeiro termo da janela:\n",
    "    1ª janela: ['a', 10] -> 'a'\n",
    "    2ª janela: [23, 'B'] -> 10\n",
    "    3º janela: [11]      -> 11\n",
    "4º retorna a lista com os termos selecionados em cada janela: ['a', 23, 11]\n",
    "```\n",
    "\n",
    "Agora é sua vez! Selecione os cinco primeiros termos de ``lista_mista`` escolhendo intervalo de tamanho 3."
   ]
  },
  {
   "cell_type": "code",
   "execution_count": null,
   "metadata": {},
   "outputs": [],
   "source": [
    "# digite seu código aqui\n"
   ]
  },
  {
   "cell_type": "markdown",
   "metadata": {},
   "source": [
    "Não conseguiu? **Clique duas vezes aqui** e dê uma espiada na resposta =)\n",
    "\n",
    "<!-- \n",
    "\n",
    "lista_mista[:4:3]\n",
    "\n",
    "-->"
   ]
  },
  {
   "cell_type": "markdown",
   "metadata": {},
   "source": [
    "Podemos selecionar os termos do final da ``lista`` para o começo também, basta começarmos pelo último termo usando ``-1``, irmos até o termo que estamos interessados e usar o intervalo ``-1``:"
   ]
  },
  {
   "cell_type": "code",
   "execution_count": 139,
   "metadata": {
    "ExecuteTime": {
     "end_time": "2020-06-06T16:45:12.434635Z",
     "start_time": "2020-06-06T16:45:12.430616Z"
    }
   },
   "outputs": [
    {
     "data": {
      "text/plain": [
       "[95, 'F', 'D', 37]"
      ]
     },
     "execution_count": 139,
     "metadata": {},
     "output_type": "execute_result"
    }
   ],
   "source": [
    "# varrendo a lista de trás para frente\n",
    "lista_mista[-1:-5:-1]"
   ]
  },
  {
   "cell_type": "markdown",
   "metadata": {},
   "source": [
    "Podemos também considerar tamanhos de janelas diferentes, basta colocar o terceiro termo negativo com o tamanho desejado:"
   ]
  },
  {
   "cell_type": "code",
   "execution_count": 140,
   "metadata": {
    "ExecuteTime": {
     "end_time": "2020-06-06T16:45:18.519070Z",
     "start_time": "2020-06-06T16:45:18.514985Z"
    }
   },
   "outputs": [
    {
     "data": {
      "text/plain": [
       "[95, 'D']"
      ]
     },
     "execution_count": 140,
     "metadata": {},
     "output_type": "execute_result"
    }
   ],
   "source": [
    "# varrendo a lista ao contrário com uma janela de tamanho 2\n",
    "lista_mista[-1:-5:-2]"
   ]
  },
  {
   "cell_type": "markdown",
   "metadata": {},
   "source": [
    "Se você lembrar, [usamos](#string_len) a ``função`` ``len()`` para medir o tamanho de uma ``string``. A ``classe`` ``str`` funciona em certo aspecto como uma ``lista``. Podemos acessar caracteres individuais de uma ``string`` por meio de índices, assim como feito em uma lista:\n",
    "\n",
    "```python\n",
    ">>> string_numeros = \"0123456789\"\n",
    ">>> print(string_numeros)\n",
    "0123456789\n",
    ">>> print(len(string_numeros))\n",
    "10\n",
    ">>> print(string_numeros[3])\n",
    "3\n",
    "```\n",
    "\n",
    "Veja o código executado nas células abaixo."
   ]
  },
  {
   "cell_type": "code",
   "execution_count": 100,
   "metadata": {
    "ExecuteTime": {
     "end_time": "2020-06-05T22:14:24.399480Z",
     "start_time": "2020-06-05T22:14:24.396753Z"
    }
   },
   "outputs": [],
   "source": [
    "# definimos nossa lista\n",
    "string_numeros = \"0123456789\""
   ]
  },
  {
   "cell_type": "code",
   "execution_count": 101,
   "metadata": {
    "ExecuteTime": {
     "end_time": "2020-06-05T22:14:24.767498Z",
     "start_time": "2020-06-05T22:14:24.763342Z"
    }
   },
   "outputs": [
    {
     "data": {
      "text/plain": [
       "'0123456789'"
      ]
     },
     "execution_count": 101,
     "metadata": {},
     "output_type": "execute_result"
    }
   ],
   "source": [
    "# imprimimos a lista\n",
    "string_numeros"
   ]
  },
  {
   "cell_type": "code",
   "execution_count": 102,
   "metadata": {
    "ExecuteTime": {
     "end_time": "2020-06-05T22:14:25.545750Z",
     "start_time": "2020-06-05T22:14:25.541676Z"
    }
   },
   "outputs": [
    {
     "data": {
      "text/plain": [
       "10"
      ]
     },
     "execution_count": 102,
     "metadata": {},
     "output_type": "execute_result"
    }
   ],
   "source": [
    "# inspecionamos o tamanho da ``string``\n",
    "len(string_numeros)"
   ]
  },
  {
   "cell_type": "code",
   "execution_count": 104,
   "metadata": {
    "ExecuteTime": {
     "end_time": "2020-06-05T22:15:29.643069Z",
     "start_time": "2020-06-05T22:15:29.638736Z"
    }
   },
   "outputs": [
    {
     "data": {
      "text/plain": [
       "'3'"
      ]
     },
     "execution_count": 104,
     "metadata": {},
     "output_type": "execute_result"
    }
   ],
   "source": [
    "# acessamos o quarto caracter da ``string``\n",
    "string_numeros[3]"
   ]
  },
  {
   "cell_type": "markdown",
   "metadata": {},
   "source": [
    "Assim como [fizemos](#str_concatenate) com ``strings``, também podemos adicionar ``listas``:\n",
    "\n",
    "```python\n",
    ">>> lista_1 = [0, 1]\n",
    ">>> lista_2 = [2, 3]\n",
    ">>> lista_3 = lista_1 + lista_2\n",
    ">>> print(lista_3)\n",
    "[0, 1, 2, 3]\n",
    "```\n",
    "\n",
    "Vemos que o resultado é uma nova lista. Veja os códigos executados abaixo."
   ]
  },
  {
   "cell_type": "code",
   "execution_count": 1,
   "metadata": {
    "ExecuteTime": {
     "end_time": "2020-06-06T15:28:01.032532Z",
     "start_time": "2020-06-06T15:28:01.030418Z"
    }
   },
   "outputs": [],
   "source": [
    "# definimos a primeira lista\n",
    "lista_1 = [0, 1]\n",
    "# definimos a segunda lista\n",
    "lista_2 = [2, 3]"
   ]
  },
  {
   "cell_type": "code",
   "execution_count": 3,
   "metadata": {
    "ExecuteTime": {
     "end_time": "2020-06-06T15:28:21.102789Z",
     "start_time": "2020-06-06T15:28:21.099015Z"
    }
   },
   "outputs": [
    {
     "data": {
      "text/plain": [
       "[0, 1]"
      ]
     },
     "execution_count": 3,
     "metadata": {},
     "output_type": "execute_result"
    }
   ],
   "source": [
    "# inpsecionamos a ``lista_1``\n",
    "lista_1"
   ]
  },
  {
   "cell_type": "code",
   "execution_count": 4,
   "metadata": {
    "ExecuteTime": {
     "end_time": "2020-06-06T15:28:35.973917Z",
     "start_time": "2020-06-06T15:28:35.970326Z"
    }
   },
   "outputs": [
    {
     "data": {
      "text/plain": [
       "[2, 3]"
      ]
     },
     "execution_count": 4,
     "metadata": {},
     "output_type": "execute_result"
    }
   ],
   "source": [
    "# inspecionamos a ``lista_2``\n",
    "lista_2"
   ]
  },
  {
   "cell_type": "code",
   "execution_count": 6,
   "metadata": {
    "ExecuteTime": {
     "end_time": "2020-06-06T15:29:28.610317Z",
     "start_time": "2020-06-06T15:29:28.606801Z"
    }
   },
   "outputs": [
    {
     "data": {
      "text/plain": [
       "[0, 1, 2, 3]"
      ]
     },
     "execution_count": 6,
     "metadata": {},
     "output_type": "execute_result"
    }
   ],
   "source": [
    "# criamos ``lista_3`` e atribuímos o valor da soma das duas listas anteriores\n",
    "lista_3 = lista_1 + lista_2\n",
    "\n",
    "# inspecionamos a ``lista_3``\n",
    "lista_3"
   ]
  },
  {
   "cell_type": "markdown",
   "metadata": {},
   "source": [
    "Se quisermos deletar algum termo da lista, podemos usar o operador ``del`` como [fizemos](#del) para deletar uma variável:\n",
    "\n",
    "```python\n",
    ">>> print(lista_3)\n",
    "[0, 1, 2, 3]\n",
    ">>> del lista_3[2]\n",
    ">>> print(lista_3)\n",
    "[0, 1, 3]\n",
    "```\n",
    "\n",
    "Veja os códigos executados abaixo."
   ]
  },
  {
   "cell_type": "code",
   "execution_count": 7,
   "metadata": {
    "ExecuteTime": {
     "end_time": "2020-06-06T15:39:57.277713Z",
     "start_time": "2020-06-06T15:39:57.274837Z"
    }
   },
   "outputs": [
    {
     "data": {
      "text/plain": [
       "[0, 1, 2, 3]"
      ]
     },
     "execution_count": 7,
     "metadata": {},
     "output_type": "execute_result"
    }
   ],
   "source": [
    "# inspecionamos o valor da ``lista_3`` definida previamente pela soma de duas listas\n",
    "lista_3"
   ]
  },
  {
   "cell_type": "code",
   "execution_count": 8,
   "metadata": {
    "ExecuteTime": {
     "end_time": "2020-06-06T15:40:36.596257Z",
     "start_time": "2020-06-06T15:40:36.594060Z"
    }
   },
   "outputs": [],
   "source": [
    "# vamos deletar o terceiro termo da lista\n",
    "# lembre-se que os índices da lista começam em 0\n",
    "del lista_3[2]"
   ]
  },
  {
   "cell_type": "code",
   "execution_count": 9,
   "metadata": {
    "ExecuteTime": {
     "end_time": "2020-06-06T15:40:48.447808Z",
     "start_time": "2020-06-06T15:40:48.444978Z"
    }
   },
   "outputs": [
    {
     "data": {
      "text/plain": [
       "[0, 1, 3]"
      ]
     },
     "execution_count": 9,
     "metadata": {},
     "output_type": "execute_result"
    }
   ],
   "source": [
    "# inspecionamos a lista novamente\n",
    "lista_3"
   ]
  },
  {
   "cell_type": "markdown",
   "metadata": {
    "ExecuteTime": {
     "end_time": "2020-06-05T23:36:06.652176Z",
     "start_time": "2020-06-05T23:36:06.648940Z"
    }
   },
   "source": [
    "Observe que o terceiro termo da lista foi deletado. \n",
    "\n",
    "Também podemos "
   ]
  },
  {
   "cell_type": "code",
   "execution_count": 10,
   "metadata": {
    "ExecuteTime": {
     "end_time": "2020-06-06T15:41:52.809632Z",
     "start_time": "2020-06-06T15:41:52.806801Z"
    }
   },
   "outputs": [
    {
     "data": {
      "text/plain": [
       "['__add__',\n",
       " '__class__',\n",
       " '__contains__',\n",
       " '__delattr__',\n",
       " '__delitem__',\n",
       " '__dir__',\n",
       " '__doc__',\n",
       " '__eq__',\n",
       " '__format__',\n",
       " '__ge__',\n",
       " '__getattribute__',\n",
       " '__getitem__',\n",
       " '__gt__',\n",
       " '__hash__',\n",
       " '__iadd__',\n",
       " '__imul__',\n",
       " '__init__',\n",
       " '__init_subclass__',\n",
       " '__iter__',\n",
       " '__le__',\n",
       " '__len__',\n",
       " '__lt__',\n",
       " '__mul__',\n",
       " '__ne__',\n",
       " '__new__',\n",
       " '__reduce__',\n",
       " '__reduce_ex__',\n",
       " '__repr__',\n",
       " '__reversed__',\n",
       " '__rmul__',\n",
       " '__setattr__',\n",
       " '__setitem__',\n",
       " '__sizeof__',\n",
       " '__str__',\n",
       " '__subclasshook__',\n",
       " 'append',\n",
       " 'clear',\n",
       " 'copy',\n",
       " 'count',\n",
       " 'extend',\n",
       " 'index',\n",
       " 'insert',\n",
       " 'pop',\n",
       " 'remove',\n",
       " 'reverse',\n",
       " 'sort']"
      ]
     },
     "execution_count": 10,
     "metadata": {},
     "output_type": "execute_result"
    }
   ],
   "source": [
    "dir(list)"
   ]
  },
  {
   "cell_type": "code",
   "execution_count": 73,
   "metadata": {
    "ExecuteTime": {
     "end_time": "2020-06-06T15:58:23.687478Z",
     "start_time": "2020-06-06T15:58:23.682379Z"
    }
   },
   "outputs": [],
   "source": [
    "# criamos uma lista com vários elementos repetidos\n",
    "lista_teste = [1, 2, 3, 4, 5, \n",
    "                  2, 3, 4, 5,\n",
    "                     3, 4, 5,\n",
    "                        4, 5,\n",
    "                           5]"
   ]
  },
  {
   "cell_type": "code",
   "execution_count": 74,
   "metadata": {
    "ExecuteTime": {
     "end_time": "2020-06-06T15:58:23.696092Z",
     "start_time": "2020-06-06T15:58:23.690066Z"
    }
   },
   "outputs": [
    {
     "data": {
      "text/plain": [
       "[1, 2, 3, 4, 5, 2, 3, 4, 5, 3, 4, 5, 4, 5, 5]"
      ]
     },
     "execution_count": 74,
     "metadata": {},
     "output_type": "execute_result"
    }
   ],
   "source": [
    "# veja como fica a lista criada\n",
    "lista_teste"
   ]
  },
  {
   "cell_type": "code",
   "execution_count": 75,
   "metadata": {
    "ExecuteTime": {
     "end_time": "2020-06-06T15:58:23.699458Z",
     "start_time": "2020-06-06T15:58:23.697520Z"
    }
   },
   "outputs": [],
   "source": [
    "# podemos ordenar a lista em ordem crescente\n",
    "lista_teste.sort()"
   ]
  },
  {
   "cell_type": "code",
   "execution_count": 76,
   "metadata": {
    "ExecuteTime": {
     "end_time": "2020-06-06T15:58:23.708285Z",
     "start_time": "2020-06-06T15:58:23.701226Z"
    }
   },
   "outputs": [
    {
     "data": {
      "text/plain": [
       "[1, 2, 2, 3, 3, 3, 4, 4, 4, 4, 5, 5, 5, 5, 5]"
      ]
     },
     "execution_count": 76,
     "metadata": {},
     "output_type": "execute_result"
    }
   ],
   "source": [
    "# inspecionamos a lista\n",
    "lista_teste"
   ]
  },
  {
   "cell_type": "code",
   "execution_count": 77,
   "metadata": {
    "ExecuteTime": {
     "end_time": "2020-06-06T15:58:23.710905Z",
     "start_time": "2020-06-06T15:58:23.709280Z"
    }
   },
   "outputs": [],
   "source": [
    "# ou se preferir em ordem decrescente\n",
    "lista_teste.sort(reverse=True)"
   ]
  },
  {
   "cell_type": "code",
   "execution_count": 78,
   "metadata": {
    "ExecuteTime": {
     "end_time": "2020-06-06T15:58:23.716758Z",
     "start_time": "2020-06-06T15:58:23.714439Z"
    }
   },
   "outputs": [
    {
     "data": {
      "text/plain": [
       "[5, 5, 5, 5, 5, 4, 4, 4, 4, 3, 3, 3, 2, 2, 1]"
      ]
     },
     "execution_count": 78,
     "metadata": {},
     "output_type": "execute_result"
    }
   ],
   "source": [
    "# inspecionamos novamente\n",
    "lista_teste"
   ]
  },
  {
   "cell_type": "code",
   "execution_count": 79,
   "metadata": {
    "ExecuteTime": {
     "end_time": "2020-06-06T15:58:23.721137Z",
     "start_time": "2020-06-06T15:58:23.718970Z"
    }
   },
   "outputs": [
    {
     "data": {
      "text/plain": [
       "5"
      ]
     },
     "execution_count": 79,
     "metadata": {},
     "output_type": "execute_result"
    }
   ],
   "source": [
    "# contamos quantas vezes ``5`` ocorre na lista\n",
    "lista_teste.count(5)"
   ]
  },
  {
   "cell_type": "code",
   "execution_count": 80,
   "metadata": {
    "ExecuteTime": {
     "end_time": "2020-06-06T15:58:23.725151Z",
     "start_time": "2020-06-06T15:58:23.723482Z"
    }
   },
   "outputs": [],
   "source": [
    "# removemos a primeira ocorrência do termo ``5``\n",
    "lista_teste.remove(5)"
   ]
  },
  {
   "cell_type": "code",
   "execution_count": 81,
   "metadata": {
    "ExecuteTime": {
     "end_time": "2020-06-06T15:58:23.730707Z",
     "start_time": "2020-06-06T15:58:23.727935Z"
    }
   },
   "outputs": [
    {
     "data": {
      "text/plain": [
       "4"
      ]
     },
     "execution_count": 81,
     "metadata": {},
     "output_type": "execute_result"
    }
   ],
   "source": [
    "# contamos novamente quantas vezes ``5`` ocorre na lista\n",
    "lista_teste.count(5)"
   ]
  },
  {
   "cell_type": "code",
   "execution_count": 82,
   "metadata": {
    "ExecuteTime": {
     "end_time": "2020-06-06T15:58:23.735688Z",
     "start_time": "2020-06-06T15:58:23.733334Z"
    }
   },
   "outputs": [
    {
     "data": {
      "text/plain": [
       "[5, 5, 5, 5, 4, 4, 4, 4, 3, 3, 3, 2, 2, 1]"
      ]
     },
     "execution_count": 82,
     "metadata": {},
     "output_type": "execute_result"
    }
   ],
   "source": [
    "# inspecionamos a lista\n",
    "lista_teste"
   ]
  },
  {
   "cell_type": "code",
   "execution_count": 83,
   "metadata": {
    "ExecuteTime": {
     "end_time": "2020-06-06T15:58:23.740739Z",
     "start_time": "2020-06-06T15:58:23.738801Z"
    }
   },
   "outputs": [],
   "source": [
    "# podemos adicionar os termos de uma outra lista de maneira implicita\n",
    "lista_teste.extend([6, 7, 8, 9])"
   ]
  },
  {
   "cell_type": "code",
   "execution_count": 84,
   "metadata": {
    "ExecuteTime": {
     "end_time": "2020-06-06T15:58:23.747693Z",
     "start_time": "2020-06-06T15:58:23.744537Z"
    }
   },
   "outputs": [
    {
     "data": {
      "text/plain": [
       "[5, 5, 5, 5, 4, 4, 4, 4, 3, 3, 3, 2, 2, 1, 6, 7, 8, 9]"
      ]
     },
     "execution_count": 84,
     "metadata": {},
     "output_type": "execute_result"
    }
   ],
   "source": [
    "# inspecionamos a lista\n",
    "lista_teste"
   ]
  },
  {
   "cell_type": "code",
   "execution_count": 85,
   "metadata": {
    "ExecuteTime": {
     "end_time": "2020-06-06T15:58:23.754449Z",
     "start_time": "2020-06-06T15:58:23.752510Z"
    }
   },
   "outputs": [],
   "source": [
    "# ou podemos adicionar um termo no final da lista\n",
    "lista_teste.append([10, 11, 12, 13])"
   ]
  },
  {
   "cell_type": "code",
   "execution_count": 86,
   "metadata": {
    "ExecuteTime": {
     "end_time": "2020-06-06T15:58:23.761277Z",
     "start_time": "2020-06-06T15:58:23.758747Z"
    }
   },
   "outputs": [
    {
     "data": {
      "text/plain": [
       "[5, 5, 5, 5, 4, 4, 4, 4, 3, 3, 3, 2, 2, 1, 6, 7, 8, 9, [10, 11, 12, 13]]"
      ]
     },
     "execution_count": 86,
     "metadata": {},
     "output_type": "execute_result"
    }
   ],
   "source": [
    "# inspecionamos a lista\n",
    "lista_teste"
   ]
  },
  {
   "cell_type": "markdown",
   "metadata": {},
   "source": [
    "Veja a diferença entre os ``métodos`` ``extende`` e ``append``. O primeiro adiciona todos os termos do argumento fornecido (``[6, 7, 8, 9]``) como diversos termos novos da lista. O segundo adiciona o argumento (``[10, 11, 12, 13]``) como um termo apenas, na última posição da ``lista``."
   ]
  },
  {
   "cell_type": "code",
   "execution_count": 87,
   "metadata": {
    "ExecuteTime": {
     "end_time": "2020-06-06T15:58:24.053152Z",
     "start_time": "2020-06-06T15:58:24.050142Z"
    }
   },
   "outputs": [],
   "source": [
    "# podemos também inverter os termos da lista\n",
    "lista_teste.reverse()"
   ]
  },
  {
   "cell_type": "code",
   "execution_count": 88,
   "metadata": {
    "ExecuteTime": {
     "end_time": "2020-06-06T15:58:24.058140Z",
     "start_time": "2020-06-06T15:58:24.055759Z"
    }
   },
   "outputs": [
    {
     "data": {
      "text/plain": [
       "[[10, 11, 12, 13], 9, 8, 7, 6, 1, 2, 2, 3, 3, 3, 4, 4, 4, 4, 5, 5, 5, 5]"
      ]
     },
     "execution_count": 88,
     "metadata": {},
     "output_type": "execute_result"
    }
   ],
   "source": [
    "# inspecionamos a lista\n",
    "lista_teste"
   ]
  },
  {
   "cell_type": "code",
   "execution_count": null,
   "metadata": {},
   "outputs": [],
   "source": []
  },
  {
   "cell_type": "code",
   "execution_count": null,
   "metadata": {},
   "outputs": [],
   "source": []
  },
  {
   "cell_type": "markdown",
   "metadata": {},
   "source": [
    "<a class='section' id='tuplas'></a>\n",
    "# Tuplas"
   ]
  },
  {
   "cell_type": "code",
   "execution_count": null,
   "metadata": {},
   "outputs": [],
   "source": []
  },
  {
   "cell_type": "code",
   "execution_count": null,
   "metadata": {},
   "outputs": [],
   "source": []
  },
  {
   "cell_type": "code",
   "execution_count": null,
   "metadata": {},
   "outputs": [],
   "source": []
  },
  {
   "cell_type": "code",
   "execution_count": null,
   "metadata": {},
   "outputs": [],
   "source": []
  },
  {
   "cell_type": "code",
   "execution_count": null,
   "metadata": {},
   "outputs": [],
   "source": []
  },
  {
   "cell_type": "code",
   "execution_count": null,
   "metadata": {},
   "outputs": [],
   "source": []
  },
  {
   "cell_type": "code",
   "execution_count": null,
   "metadata": {},
   "outputs": [],
   "source": []
  },
  {
   "cell_type": "code",
   "execution_count": null,
   "metadata": {},
   "outputs": [],
   "source": []
  },
  {
   "cell_type": "code",
   "execution_count": null,
   "metadata": {},
   "outputs": [],
   "source": []
  },
  {
   "cell_type": "code",
   "execution_count": null,
   "metadata": {},
   "outputs": [],
   "source": []
  },
  {
   "cell_type": "code",
   "execution_count": null,
   "metadata": {},
   "outputs": [],
   "source": []
  },
  {
   "cell_type": "code",
   "execution_count": null,
   "metadata": {},
   "outputs": [],
   "source": []
  },
  {
   "cell_type": "code",
   "execution_count": null,
   "metadata": {},
   "outputs": [],
   "source": []
  },
  {
   "cell_type": "code",
   "execution_count": null,
   "metadata": {},
   "outputs": [],
   "source": []
  },
  {
   "cell_type": "code",
   "execution_count": null,
   "metadata": {},
   "outputs": [],
   "source": []
  },
  {
   "cell_type": "code",
   "execution_count": null,
   "metadata": {},
   "outputs": [],
   "source": []
  },
  {
   "cell_type": "code",
   "execution_count": null,
   "metadata": {},
   "outputs": [],
   "source": []
  },
  {
   "cell_type": "code",
   "execution_count": null,
   "metadata": {},
   "outputs": [],
   "source": []
  },
  {
   "cell_type": "code",
   "execution_count": null,
   "metadata": {},
   "outputs": [],
   "source": []
  },
  {
   "cell_type": "markdown",
   "metadata": {},
   "source": [
    "<a class='section' id='dicionarios'></a>\n",
    "# Dicionários"
   ]
  },
  {
   "cell_type": "code",
   "execution_count": null,
   "metadata": {},
   "outputs": [],
   "source": []
  },
  {
   "cell_type": "code",
   "execution_count": null,
   "metadata": {},
   "outputs": [],
   "source": []
  },
  {
   "cell_type": "code",
   "execution_count": null,
   "metadata": {},
   "outputs": [],
   "source": []
  },
  {
   "cell_type": "code",
   "execution_count": null,
   "metadata": {},
   "outputs": [],
   "source": []
  },
  {
   "cell_type": "code",
   "execution_count": null,
   "metadata": {},
   "outputs": [],
   "source": []
  },
  {
   "cell_type": "code",
   "execution_count": null,
   "metadata": {},
   "outputs": [],
   "source": []
  },
  {
   "cell_type": "code",
   "execution_count": null,
   "metadata": {},
   "outputs": [],
   "source": []
  },
  {
   "cell_type": "code",
   "execution_count": null,
   "metadata": {},
   "outputs": [],
   "source": []
  },
  {
   "cell_type": "code",
   "execution_count": null,
   "metadata": {},
   "outputs": [],
   "source": []
  },
  {
   "cell_type": "code",
   "execution_count": null,
   "metadata": {},
   "outputs": [],
   "source": []
  },
  {
   "cell_type": "code",
   "execution_count": null,
   "metadata": {},
   "outputs": [],
   "source": []
  },
  {
   "cell_type": "code",
   "execution_count": null,
   "metadata": {},
   "outputs": [],
   "source": []
  },
  {
   "cell_type": "code",
   "execution_count": null,
   "metadata": {},
   "outputs": [],
   "source": []
  },
  {
   "cell_type": "code",
   "execution_count": null,
   "metadata": {},
   "outputs": [],
   "source": []
  },
  {
   "cell_type": "code",
   "execution_count": null,
   "metadata": {},
   "outputs": [],
   "source": []
  },
  {
   "cell_type": "code",
   "execution_count": null,
   "metadata": {},
   "outputs": [],
   "source": []
  },
  {
   "cell_type": "code",
   "execution_count": null,
   "metadata": {},
   "outputs": [],
   "source": []
  },
  {
   "cell_type": "markdown",
   "metadata": {},
   "source": [
    "<a class='section' id='condicionais'></a>\n",
    "# Condicionais"
   ]
  },
  {
   "cell_type": "code",
   "execution_count": null,
   "metadata": {},
   "outputs": [],
   "source": []
  },
  {
   "cell_type": "code",
   "execution_count": null,
   "metadata": {},
   "outputs": [],
   "source": []
  },
  {
   "cell_type": "code",
   "execution_count": null,
   "metadata": {},
   "outputs": [],
   "source": []
  },
  {
   "cell_type": "code",
   "execution_count": null,
   "metadata": {},
   "outputs": [],
   "source": []
  },
  {
   "cell_type": "code",
   "execution_count": null,
   "metadata": {},
   "outputs": [],
   "source": []
  },
  {
   "cell_type": "code",
   "execution_count": null,
   "metadata": {},
   "outputs": [],
   "source": []
  },
  {
   "cell_type": "code",
   "execution_count": null,
   "metadata": {},
   "outputs": [],
   "source": []
  },
  {
   "cell_type": "code",
   "execution_count": null,
   "metadata": {},
   "outputs": [],
   "source": []
  },
  {
   "cell_type": "code",
   "execution_count": null,
   "metadata": {},
   "outputs": [],
   "source": []
  },
  {
   "cell_type": "code",
   "execution_count": null,
   "metadata": {},
   "outputs": [],
   "source": []
  },
  {
   "cell_type": "code",
   "execution_count": null,
   "metadata": {},
   "outputs": [],
   "source": []
  },
  {
   "cell_type": "code",
   "execution_count": null,
   "metadata": {},
   "outputs": [],
   "source": []
  },
  {
   "cell_type": "code",
   "execution_count": null,
   "metadata": {},
   "outputs": [],
   "source": []
  },
  {
   "cell_type": "code",
   "execution_count": null,
   "metadata": {},
   "outputs": [],
   "source": []
  },
  {
   "cell_type": "code",
   "execution_count": null,
   "metadata": {},
   "outputs": [],
   "source": []
  },
  {
   "cell_type": "markdown",
   "metadata": {},
   "source": [
    "<a class='section' id='loops'></a>\n",
    "# Loops"
   ]
  },
  {
   "cell_type": "code",
   "execution_count": null,
   "metadata": {},
   "outputs": [],
   "source": []
  },
  {
   "cell_type": "code",
   "execution_count": null,
   "metadata": {},
   "outputs": [],
   "source": []
  },
  {
   "cell_type": "code",
   "execution_count": null,
   "metadata": {},
   "outputs": [],
   "source": []
  },
  {
   "cell_type": "code",
   "execution_count": null,
   "metadata": {},
   "outputs": [],
   "source": []
  },
  {
   "cell_type": "code",
   "execution_count": null,
   "metadata": {},
   "outputs": [],
   "source": []
  },
  {
   "cell_type": "code",
   "execution_count": null,
   "metadata": {},
   "outputs": [],
   "source": []
  },
  {
   "cell_type": "code",
   "execution_count": null,
   "metadata": {},
   "outputs": [],
   "source": []
  },
  {
   "cell_type": "code",
   "execution_count": null,
   "metadata": {},
   "outputs": [],
   "source": []
  },
  {
   "cell_type": "markdown",
   "metadata": {},
   "source": [
    "<a class='section' id='importando_pacotes'></a>\n",
    "# Importando pacotes"
   ]
  },
  {
   "cell_type": "markdown",
   "metadata": {},
   "source": [
    "# <a class='section' id='onde_posso_encontrar_mais_conteudo'></a>\n",
    "# Onde posso encontrar mais conteúdo?"
   ]
  },
  {
   "cell_type": "markdown",
   "metadata": {},
   "source": [
    "- [Real Python](https://realpython.com/)\n",
    "\n",
    "- [w2schools](https://www.w3schools.com/python/default.asp)\n",
    "- [codecademy](https://www.codecademy.com/catalog/language/python)"
   ]
  }
 ],
 "metadata": {
  "author": "mes",
  "kernelspec": {
   "display_name": "Python 3",
   "language": "python",
   "name": "python3"
  },
  "language_info": {
   "codemirror_mode": {
    "name": "ipython",
    "version": 3
   },
   "file_extension": ".py",
   "mimetype": "text/x-python",
   "name": "python",
   "nbconvert_exporter": "python",
   "pygments_lexer": "ipython3",
   "version": "3.7.4"
  },
  "latex_envs": {
   "LaTeX_envs_menu_present": true,
   "autoclose": false,
   "autocomplete": true,
   "bibliofile": "biblio.bib",
   "cite_by": "apalike",
   "current_citInitial": 1,
   "eqLabelWithNumbers": true,
   "eqNumInitial": 1,
   "hotkeys": {
    "equation": "Ctrl-E",
    "itemize": "Ctrl-I"
   },
   "labels_anchors": false,
   "latex_user_defs": false,
   "report_style_numbering": false,
   "user_envs_cfg": false
  },
  "toc": {
   "base_numbering": 1,
   "nav_menu": {},
   "number_sections": true,
   "sideBar": true,
   "skip_h1_title": false,
   "title_cell": "Table of Contents",
   "title_sidebar": "Contents",
   "toc_cell": false,
   "toc_position": {},
   "toc_section_display": true,
   "toc_window_display": false
  },
  "varInspector": {
   "cols": {
    "lenName": 16,
    "lenType": 16,
    "lenVar": 40
   },
   "kernels_config": {
    "python": {
     "delete_cmd_postfix": "",
     "delete_cmd_prefix": "del ",
     "library": "var_list.py",
     "varRefreshCmd": "print(var_dic_list())"
    },
    "r": {
     "delete_cmd_postfix": ") ",
     "delete_cmd_prefix": "rm(",
     "library": "var_list.r",
     "varRefreshCmd": "cat(var_dic_list()) "
    }
   },
   "types_to_exclude": [
    "module",
    "function",
    "builtin_function_or_method",
    "instance",
    "_Feature"
   ],
   "window_display": false
  }
 },
 "nbformat": 4,
 "nbformat_minor": 2
}
