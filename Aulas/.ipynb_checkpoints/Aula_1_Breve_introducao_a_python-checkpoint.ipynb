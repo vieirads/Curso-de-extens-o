{
 "cells": [
  {
   "cell_type": "markdown",
   "metadata": {},
   "source": [
    "---\n",
    "**Sumário**\n",
    "\n",
    "- 1. [O que é python?](#o_que_e_python) <br>\n",
    "- 2. [Executando códigos no Jupyter](#executando_codigos_no_jupyter) <br>\n",
    "- 3. [Os tipos de variáveis](#os_tipos_de_variaveis) <br>\n",
    "- 4. [Operações Matemáticas](#operacoes_matematicas) <br>\n",
    "- 5. [Operações lógicas](#operacoes_logicas) <br>\n",
    "- 6. [Operações de comparação](#operacoes_de_comparacao) <br>\n",
    "- 7. [Atribuindo valores às variáveis](#atribuindo_valores_as_variaveis) <br>\n",
    "- X. [Onde posso encontrar mais conteúdo?](#onde_posso_encontrar_mais_conteudo)\n",
    "---"
   ]
  },
  {
   "cell_type": "markdown",
   "metadata": {},
   "source": [
    "<a class='section' id='o_que_e_python'></a>\n",
    "# O que é python?"
   ]
  },
  {
   "cell_type": "markdown",
   "metadata": {},
   "source": [
    "Python é uma linguagem de programação encontrada desde o desenvolvimento de softwares, criação de web sites e até de jogos. Sua popularidade vem crescendo nos últimos anos mais do que os de outras linguagens [[1]](http://pypl.github.io/PYPL.html). Empresas como ``Google``, ``Facebook``, ``Spotify`` e ``Netflix`` são exemplos que usam ``python`` no desenvolvimento de suas ferramentas. \n",
    "\n",
    "Um dos fatores que faz com que essa linguagem esteja sendo muito procurada nos últimos anos, é o fato possuir um grande número de pacotes disponíveis. Podemos encontrar códigos prontos que fazem análises matemática e confecção de gráficos para visualização de dados muito facilmente. Além disso, ela possui uma counidade bem ativa, que sempre procura melhorar os pacotes disponíveis e criar outros. E o melhor de tudo, ela é gratuíta!\n",
    "\n",
    "Outro fato que chama atenção, é de que essa linguagem tem se tornado bastante comum entre a comunidade científica. Uma de suas principais no uso de análise de dados. A procura por padrões e criação de modelos, utilizando, principalmente, *machine learning* nos últimos anos, tem rendido aos pesquisadore a publicação de artigos em jornais científicos. "
   ]
  },
  {
   "cell_type": "markdown",
   "metadata": {},
   "source": [
    "Python é uma linguagem de programação de alto nível. Isso quer dizer que os termos usados para escrever os códigos se aproximam mais da linguagem humana. Isso faz com que ela seja fácil de ser entendida e escrita. Para exemplificar como ``python`` pode ser muito mais fácil que outra linguagens, observe os trechos de códigos para imprimir na tela a frase ``Hello, world!`` em C"
   ]
  },
  {
   "cell_type": "markdown",
   "metadata": {},
   "source": [
    "```C\n",
    "#include <stdio.h>\n",
    "\n",
    "int main(void)\n",
    "{\n",
    "    printf(\"hello, world\\n\");\n",
    "}\n",
    "```"
   ]
  },
  {
   "cell_type": "markdown",
   "metadata": {},
   "source": [
    "e em python\n",
    "```python\n",
    "print('Hello, world!')\n",
    "```\n",
    "\n",
    "Além disso, para executar o código da linguagem ``C``, precisamos compilá-lo e depois executá-lo. Em ``python``, uma vez que o código é escrito basta executá-lo para obter o resultado. "
   ]
  },
  {
   "cell_type": "markdown",
   "metadata": {},
   "source": [
    "Nas próximas seções iremos aprender sobre alguns comandos e funções básicas do ``python``. O conteúdo que será visto aqui servirá de base para as aulas posteriores. Portanto, tente entender o que está acontecendo nos códigos. Tente reproduzir os códigos usando valores e nomes de variáveis diferentes. Isso pode ajudar na fixação de conteúdo."
   ]
  },
  {
   "cell_type": "markdown",
   "metadata": {},
   "source": [
    "<a class='section' id='executando_codigos_no_jupyter'></a>\n",
    "# Executando códigos no Jupyter"
   ]
  },
  {
   "cell_type": "markdown",
   "metadata": {},
   "source": [
    "<a class='cell' id='create_new_cell'></a>\n",
    "Usaremos o [``Jupyter``](https://jupyter.org/) para realizar nossos trabalhos e isso inclui executar vários códigos em python! Podemos escrever os códigos em qualquer célula do ``Notebook``. Para criar uma nova célula, você pode simplesmente apertar ``esc``, fazendo a célula ficar selecionada de azul, e então aperta ``b`` para criar uma célula abaixo ou apertar ``a`` para criar uma célula em cima. Caso prefira, você também pode cliclar em ``Insert`` na barra acima e selecionar onde deseja criar uma nova célula."
   ]
  },
  {
   "cell_type": "markdown",
   "metadata": {},
   "source": [
    "É de costume sempre que começamos a estudar uma linguagem de programação, o primeiro código ser imprimir na tela a frase ``Hello, World!``. Aqui não será diferente, nosso primeiro código em ``python`` será imprimir essa frase na tela. Para isso, clique na célular abaixo com o código escrito e aperte ``shift+enter``."
   ]
  },
  {
   "cell_type": "code",
   "execution_count": 2,
   "metadata": {
    "ExecuteTime": {
     "end_time": "2020-06-02T19:43:49.869164Z",
     "start_time": "2020-06-02T19:43:49.867107Z"
    }
   },
   "outputs": [
    {
     "name": "stdout",
     "output_type": "stream",
     "text": [
      "Hello, world!\n"
     ]
    }
   ],
   "source": [
    "print('Hello, world!')"
   ]
  },
  {
   "cell_type": "markdown",
   "metadata": {},
   "source": [
    "Pronto, você executou seu primeiro (de muitos) códigos em python. Você também pode executar uma célula selecionando-a e clicando, na barra acima, no botão *run*, que possui uma flecha para direita e uma barra vertical."
   ]
  },
  {
   "cell_type": "markdown",
   "metadata": {},
   "source": [
    "A função ``print()`` serve para imprimir valores na tela. Veja que passamos um argumento para ela, a frase ``'Hello, world!'``. Toda palavra ou frase que queremos que seja imprimida na tela, deve ser colocada entre aspas simples ou dupla:"
   ]
  },
  {
   "cell_type": "code",
   "execution_count": 3,
   "metadata": {
    "ExecuteTime": {
     "end_time": "2020-06-02T19:52:42.015297Z",
     "start_time": "2020-06-02T19:52:42.013262Z"
    }
   },
   "outputs": [
    {
     "name": "stdout",
     "output_type": "stream",
     "text": [
      "Essa é uma frase com aspas simples.\n",
      "Essa é uma frase com aspas duplas.\n"
     ]
    }
   ],
   "source": [
    "print('Essa é uma frase com aspas simples.')\n",
    "print(\"Essa é uma frase com aspas duplas.\")"
   ]
  },
  {
   "cell_type": "markdown",
   "metadata": {},
   "source": [
    "Podemos digitar mais de um comando para ser executado em uma única célular, como foi acima, onde duas funções ``print()`` foram executadas com sentenças diferentes. Podemos também imprimir números:"
   ]
  },
  {
   "cell_type": "code",
   "execution_count": 4,
   "metadata": {
    "ExecuteTime": {
     "end_time": "2020-06-02T19:54:32.987943Z",
     "start_time": "2020-06-02T19:54:32.985249Z"
    }
   },
   "outputs": [
    {
     "name": "stdout",
     "output_type": "stream",
     "text": [
      "3\n"
     ]
    }
   ],
   "source": [
    "print(3)"
   ]
  },
  {
   "cell_type": "markdown",
   "metadata": {},
   "source": [
    "Veja que para imprimir o valor ``3``, não usamos nenhum tipo de aspas. Isso ocorre porquê a própria função faz a conversão do valor numérico para palavra. Contudo, se tentarmos imprimir uma frase sem o uso de aspas, nos deparamos com um erro:"
   ]
  },
  {
   "cell_type": "code",
   "execution_count": 5,
   "metadata": {
    "ExecuteTime": {
     "end_time": "2020-06-02T19:56:07.342609Z",
     "start_time": "2020-06-02T19:56:07.340051Z"
    }
   },
   "outputs": [
    {
     "ename": "SyntaxError",
     "evalue": "invalid syntax (<ipython-input-5-58cb5da3b684>, line 1)",
     "output_type": "error",
     "traceback": [
      "\u001b[0;36m  File \u001b[0;32m\"<ipython-input-5-58cb5da3b684>\"\u001b[0;36m, line \u001b[0;32m1\u001b[0m\n\u001b[0;31m    print(Tentando imprimir uma frase sem aspas)\u001b[0m\n\u001b[0m                          ^\u001b[0m\n\u001b[0;31mSyntaxError\u001b[0m\u001b[0;31m:\u001b[0m invalid syntax\n"
     ]
    }
   ],
   "source": [
    "print(Tentando imprimir uma frase sem aspas)"
   ]
  },
  {
   "cell_type": "markdown",
   "metadata": {},
   "source": [
    "O erro acima ``SyntaxError``, nos diz que usamos a linguagem de programação de maneira indevida."
   ]
  },
  {
   "cell_type": "markdown",
   "metadata": {},
   "source": [
    "Contudo, no âmbito do ``Jupyter Notebook``, se quisermos imprimir algo na tela, não precisamos usar a função ``print()``:"
   ]
  },
  {
   "cell_type": "code",
   "execution_count": 6,
   "metadata": {
    "ExecuteTime": {
     "end_time": "2020-06-02T19:59:30.536671Z",
     "start_time": "2020-06-02T19:59:30.529849Z"
    }
   },
   "outputs": [
    {
     "data": {
      "text/plain": [
       "'Essa frase será imrpimida sem o uso da função print().'"
      ]
     },
     "execution_count": 6,
     "metadata": {},
     "output_type": "execute_result"
    }
   ],
   "source": [
    "\"Essa frase será imrpimida sem o uso da função print().\""
   ]
  },
  {
   "cell_type": "markdown",
   "metadata": {},
   "source": [
    "Porém, se tentarmos imprimir várias frases em sequência, veja o que acontece:"
   ]
  },
  {
   "cell_type": "code",
   "execution_count": 7,
   "metadata": {
    "ExecuteTime": {
     "end_time": "2020-06-02T20:00:12.642855Z",
     "start_time": "2020-06-02T20:00:12.640281Z"
    }
   },
   "outputs": [
    {
     "data": {
      "text/plain": [
       "'E essa é a última!'"
      ]
     },
     "execution_count": 7,
     "metadata": {},
     "output_type": "execute_result"
    }
   ],
   "source": [
    "\"Essa é a primeira frase.\"\n",
    "\"E essa é a última!\""
   ]
  },
  {
   "cell_type": "markdown",
   "metadata": {},
   "source": [
    "Somente a última sentença é imprimida.\n",
    "\n",
    "Agora que já vimos como executar as células com códigos, tente você fazer alguns testes!"
   ]
  },
  {
   "cell_type": "markdown",
   "metadata": {},
   "source": [
    "Digite na célula abaixo o código para imprimir a sentença: **Essa é a primeira aula do curso mais legal que eu já fiz!**"
   ]
  },
  {
   "cell_type": "code",
   "execution_count": null,
   "metadata": {},
   "outputs": [],
   "source": []
  },
  {
   "cell_type": "markdown",
   "metadata": {},
   "source": [
    "Não conseguiu? <b>Clique duas vezes aqui</b> e dê uma espiada na resposta =)\n",
    "<!--\n",
    "Resposta:\n",
    "---------\n",
    "print(\"Essa é a primeira aula do curso mais legal que eu já fiz!\")\n",
    "-->"
   ]
  },
  {
   "cell_type": "markdown",
   "metadata": {},
   "source": [
    "Tente imprimir algumas palavras, sentenças ou números. Veja como criar novas células para escrever seu código voltando [nessa célula](#create_new_cell)."
   ]
  },
  {
   "cell_type": "markdown",
   "metadata": {},
   "source": [
    "# Os tipos de variáveis"
   ]
  },
  {
   "cell_type": "markdown",
   "metadata": {},
   "source": [
    "Em ``python``, assim como em outras linguagens, existe uma distinção no ``tipo`` das variáveis que estamos lidando. Nos exemplos anteriores vimos como imprimir uma frase e que para isso, devemos usar as aspas simples ou duplas. Isso se deve ao fato de que em python, uma ``string`` é definida dessa forma. Uma ``string`` é uma cobinação de caracteres que pode ser imprimido. Quando tentamos usar um ``número inteiro`` dentro da função ``print()``, vimos que o resultado foi a impressão desse número abaixo da célula. Isso se deve ao fato da função ``print()`` converter esse número inteiro, que é do tipo ``int`` para uma ``string``. Podemos sempre saber o tipo de uma variável usando a função ``type()`` passando como argumento a variável que queremos descobrir o tipo. Vamos ver uns exemplos."
   ]
  },
  {
   "cell_type": "markdown",
   "metadata": {},
   "source": [
    "Se \"perguntarmos\" qual é o ``tipo`` da variável 'Hello, world!', a função ``type()`` nos retornará o valor ``str``:"
   ]
  },
  {
   "cell_type": "code",
   "execution_count": 8,
   "metadata": {
    "ExecuteTime": {
     "end_time": "2020-06-02T20:58:18.654604Z",
     "start_time": "2020-06-02T20:58:18.652014Z"
    }
   },
   "outputs": [
    {
     "data": {
      "text/plain": [
       "str"
      ]
     },
     "execution_count": 8,
     "metadata": {},
     "output_type": "execute_result"
    }
   ],
   "source": [
    "type('Hello, world!')"
   ]
  },
  {
   "cell_type": "markdown",
   "metadata": {},
   "source": [
    "Isso quer dizer que a variável é do ``tipo`` ``string``, ou, de maneira abreviada, ``str``.\n",
    "\n",
    "Se passarmos um ``número inteiro`` como argumento, veremos que a função ``type()`` retornará o valor ``int``:"
   ]
  },
  {
   "cell_type": "code",
   "execution_count": 9,
   "metadata": {
    "ExecuteTime": {
     "end_time": "2020-06-02T21:00:43.315475Z",
     "start_time": "2020-06-02T21:00:43.312749Z"
    }
   },
   "outputs": [
    {
     "data": {
      "text/plain": [
       "int"
      ]
     },
     "execution_count": 9,
     "metadata": {},
     "output_type": "execute_result"
    }
   ],
   "source": [
    "type(3)"
   ]
  },
  {
   "cell_type": "markdown",
   "metadata": {},
   "source": [
    "Em matemática aprendemos conjuntos numéricos, onde os número inteiros (1, 2, 3, $\\dots$) percentem ao conjunto dos números naturais ($\\mathbb{N}$). Já os números que podem ser representados como frações $p/q$ em que $p$ e $q$ são números inteiros, como $0{,}92$, $1/4$, $0.33333$ fazem parte dos números racionais ($\\mathbb{Q}$). Em ``python``, tais número também são diferentes. Enquanto o primeiro conjunto é do tipo ``int``, o segundo é do tipo ``float``:"
   ]
  },
  {
   "cell_type": "code",
   "execution_count": 10,
   "metadata": {
    "ExecuteTime": {
     "end_time": "2020-06-02T21:10:58.247037Z",
     "start_time": "2020-06-02T21:10:58.244619Z"
    }
   },
   "outputs": [
    {
     "data": {
      "text/plain": [
       "float"
      ]
     },
     "execution_count": 10,
     "metadata": {},
     "output_type": "execute_result"
    }
   ],
   "source": [
    "type(0.92)"
   ]
  },
  {
   "cell_type": "code",
   "execution_count": 11,
   "metadata": {
    "ExecuteTime": {
     "end_time": "2020-06-02T21:11:04.732662Z",
     "start_time": "2020-06-02T21:11:04.729796Z"
    }
   },
   "outputs": [
    {
     "data": {
      "text/plain": [
       "float"
      ]
     },
     "execution_count": 11,
     "metadata": {},
     "output_type": "execute_result"
    }
   ],
   "source": [
    "type(1/4)"
   ]
  },
  {
   "cell_type": "code",
   "execution_count": 12,
   "metadata": {
    "ExecuteTime": {
     "end_time": "2020-06-02T21:11:19.677711Z",
     "start_time": "2020-06-02T21:11:19.674983Z"
    }
   },
   "outputs": [
    {
     "data": {
      "text/plain": [
       "float"
      ]
     },
     "execution_count": 12,
     "metadata": {},
     "output_type": "execute_result"
    }
   ],
   "source": [
    "type(0.33333)"
   ]
  },
  {
   "cell_type": "markdown",
   "metadata": {},
   "source": [
    "Mesmo os número que são irracionais, isto é, dizimas infinitas sem repetição, como $\\pi = 3{,}141592653589793\\dots$, também são considerados como ``float``:"
   ]
  },
  {
   "cell_type": "code",
   "execution_count": 15,
   "metadata": {
    "ExecuteTime": {
     "end_time": "2020-06-02T21:13:11.778121Z",
     "start_time": "2020-06-02T21:13:11.775511Z"
    }
   },
   "outputs": [
    {
     "data": {
      "text/plain": [
       "float"
      ]
     },
     "execution_count": 15,
     "metadata": {},
     "output_type": "execute_result"
    }
   ],
   "source": [
    "type(3.141592653589793)"
   ]
  },
  {
   "cell_type": "markdown",
   "metadata": {},
   "source": [
    "As funções também possuem um ``tipo`` específico:"
   ]
  },
  {
   "cell_type": "code",
   "execution_count": 23,
   "metadata": {
    "ExecuteTime": {
     "end_time": "2020-06-02T21:14:54.304555Z",
     "start_time": "2020-06-02T21:14:54.301810Z"
    }
   },
   "outputs": [
    {
     "data": {
      "text/plain": [
       "builtin_function_or_method"
      ]
     },
     "execution_count": 23,
     "metadata": {},
     "output_type": "execute_result"
    }
   ],
   "source": [
    "type(print)"
   ]
  },
  {
   "cell_type": "markdown",
   "metadata": {
    "ExecuteTime": {
     "end_time": "2020-06-02T21:15:14.472247Z",
     "start_time": "2020-06-02T21:15:14.470389Z"
    }
   },
   "source": [
    "Esse tipo nos diz que ``print`` é uma função inata do ``python``, ou seja, não é necessário importá-la a partir de um pacote separado para usá-la."
   ]
  },
  {
   "cell_type": "markdown",
   "metadata": {},
   "source": [
    "<a class='cell' id='bool_explanation'></a>\n",
    "Um outro tipo muito importante de variável em qualquer tipo de linguagem de programação é a variável do tipo ``boolean``. Temos somente duas variáveis desse tipo: ``True`` e ``False``, que também podem ser representadas pelas número ``1`` e ``0``, respectivamente. Elas são usadas em operações lógicas para nos dizer se algo é ``Verdadeiro (True)`` ou ``Falso (False)`` e então qual decisão deve ser tomada."
   ]
  },
  {
   "cell_type": "code",
   "execution_count": 21,
   "metadata": {
    "ExecuteTime": {
     "end_time": "2020-06-03T23:29:55.476973Z",
     "start_time": "2020-06-03T23:29:55.472069Z"
    }
   },
   "outputs": [
    {
     "data": {
      "text/plain": [
       "bool"
      ]
     },
     "execution_count": 21,
     "metadata": {},
     "output_type": "execute_result"
    }
   ],
   "source": [
    "type(True)"
   ]
  },
  {
   "cell_type": "code",
   "execution_count": 22,
   "metadata": {
    "ExecuteTime": {
     "end_time": "2020-06-03T23:30:04.442731Z",
     "start_time": "2020-06-03T23:30:04.439954Z"
    }
   },
   "outputs": [
    {
     "data": {
      "text/plain": [
       "bool"
      ]
     },
     "execution_count": 22,
     "metadata": {},
     "output_type": "execute_result"
    }
   ],
   "source": [
    "type(False)"
   ]
  },
  {
   "cell_type": "markdown",
   "metadata": {},
   "source": [
    "Veja que a linguagem python tende a abreviar os termos, como vimos no caso de ``str`` para ``string`` e ``bool`` para ``boolean``.\n",
    "\n",
    "Conformes for avançando, veremos mais alguns tipos de variáveis."
   ]
  },
  {
   "cell_type": "markdown",
   "metadata": {},
   "source": [
    "<a class='section' id='operacoes_matematicas'></a>\n",
    "# Operações matemáticas"
   ]
  },
  {
   "cell_type": "markdown",
   "metadata": {},
   "source": [
    "Em ``python`` é muito fácil executar operação matemáticas. As operações matemáticas mais básicas como ``soma``, ``subtração``, ``multiplicação``, ``divisão`` e ``potenciação/exponenciação`` são efetuadas da seguinte forma:"
   ]
  },
  {
   "cell_type": "markdown",
   "metadata": {},
   "source": [
    "- Soma\n",
    "```python\n",
    ">>> 2+2\n",
    "4\n",
    "```\n",
    "- Subtração\n",
    "```python\n",
    ">>> 5-2\n",
    "3\n",
    "```\n",
    "- Multiplicação\n",
    "```python\n",
    ">>> 2*3\n",
    "6\n",
    "```\n",
    "- Divisão\n",
    "```python\n",
    ">>> 10/2\n",
    "5\n",
    "```\n",
    "- Potenciação/exponenciação\n",
    "```python\n",
    ">>> 2**3\n",
    "8\n",
    "```\n",
    "\n",
    "O símbolo ```>>>``` indica um código que será executado e na linha abaixo o que foi retornado como resultado.\n",
    "\n",
    "Vamos executar algumas dessas operações abaixo."
   ]
  },
  {
   "cell_type": "code",
   "execution_count": 1,
   "metadata": {
    "ExecuteTime": {
     "end_time": "2020-06-03T23:01:33.421300Z",
     "start_time": "2020-06-03T23:01:33.414725Z"
    }
   },
   "outputs": [
    {
     "data": {
      "text/plain": [
       "4"
      ]
     },
     "execution_count": 1,
     "metadata": {},
     "output_type": "execute_result"
    }
   ],
   "source": [
    "2+2"
   ]
  },
  {
   "cell_type": "code",
   "execution_count": 5,
   "metadata": {
    "ExecuteTime": {
     "end_time": "2020-06-03T23:02:41.413210Z",
     "start_time": "2020-06-03T23:02:41.409661Z"
    }
   },
   "outputs": [
    {
     "data": {
      "text/plain": [
       "3"
      ]
     },
     "execution_count": 5,
     "metadata": {},
     "output_type": "execute_result"
    }
   ],
   "source": [
    "5-2"
   ]
  },
  {
   "cell_type": "code",
   "execution_count": 7,
   "metadata": {
    "ExecuteTime": {
     "end_time": "2020-06-03T23:02:49.302526Z",
     "start_time": "2020-06-03T23:02:49.293019Z"
    }
   },
   "outputs": [
    {
     "data": {
      "text/plain": [
       "6"
      ]
     },
     "execution_count": 7,
     "metadata": {},
     "output_type": "execute_result"
    }
   ],
   "source": [
    "2*3"
   ]
  },
  {
   "cell_type": "code",
   "execution_count": 9,
   "metadata": {
    "ExecuteTime": {
     "end_time": "2020-06-03T23:02:56.175738Z",
     "start_time": "2020-06-03T23:02:56.164374Z"
    }
   },
   "outputs": [
    {
     "data": {
      "text/plain": [
       "5.0"
      ]
     },
     "execution_count": 9,
     "metadata": {},
     "output_type": "execute_result"
    }
   ],
   "source": [
    "10/2"
   ]
  },
  {
   "cell_type": "code",
   "execution_count": 11,
   "metadata": {
    "ExecuteTime": {
     "end_time": "2020-06-03T23:03:10.875292Z",
     "start_time": "2020-06-03T23:03:10.862384Z"
    }
   },
   "outputs": [
    {
     "data": {
      "text/plain": [
       "8"
      ]
     },
     "execution_count": 11,
     "metadata": {},
     "output_type": "execute_result"
    }
   ],
   "source": [
    "2**3"
   ]
  },
  {
   "cell_type": "markdown",
   "metadata": {},
   "source": [
    "Tente você fazer algumas operações abaixo."
   ]
  },
  {
   "cell_type": "code",
   "execution_count": null,
   "metadata": {},
   "outputs": [],
   "source": [
    "# efetue suas operações aqui. Não se esqueça de aperta shift+enter para executar o código escrito na célula.\n"
   ]
  },
  {
   "cell_type": "markdown",
   "metadata": {},
   "source": [
    "Existem outros tipos de operação que as vezes são úteis. A primeira delas é chamada de ``módulo`` e simbolizada pelo operador ``%``. Ele funciona como uma divisão, nos retornando o valor inteiro que resta da divisão:\n",
    "\n",
    "```python\n",
    " 7%2 = 1 # o número 2 cabe três vezes inteiras em  5 e sobra 1\n",
    "10%4 = 2 # o número 4 cabe duas vezes inteiras em 10 e sobra 2\n",
    "```\n",
    "\n",
    "Confira nas células abaixo!"
   ]
  },
  {
   "cell_type": "code",
   "execution_count": 15,
   "metadata": {
    "ExecuteTime": {
     "end_time": "2020-06-03T23:24:42.157748Z",
     "start_time": "2020-06-03T23:24:42.155474Z"
    }
   },
   "outputs": [
    {
     "data": {
      "text/plain": [
       "6"
      ]
     },
     "execution_count": 15,
     "metadata": {},
     "output_type": "execute_result"
    }
   ],
   "source": [
    "13%7"
   ]
  },
  {
   "cell_type": "code",
   "execution_count": 16,
   "metadata": {
    "ExecuteTime": {
     "end_time": "2020-06-03T23:24:49.333823Z",
     "start_time": "2020-06-03T23:24:49.323736Z"
    }
   },
   "outputs": [
    {
     "data": {
      "text/plain": [
       "3"
      ]
     },
     "execution_count": 16,
     "metadata": {},
     "output_type": "execute_result"
    }
   ],
   "source": [
    "19%4"
   ]
  },
  {
   "cell_type": "code",
   "execution_count": 14,
   "metadata": {
    "ExecuteTime": {
     "end_time": "2020-06-03T23:22:35.445731Z",
     "start_time": "2020-06-03T23:22:35.440751Z"
    }
   },
   "outputs": [
    {
     "data": {
      "text/plain": [
       "1.5"
      ]
     },
     "execution_count": 14,
     "metadata": {},
     "output_type": "execute_result"
    }
   ],
   "source": [
    "3.5%2"
   ]
  },
  {
   "cell_type": "markdown",
   "metadata": {},
   "source": [
    "A segunda operação é simbolizada pelo operador ``//``. Ele também funciona como uma divisão, contudo, ele nos retorna o resultado inteiro da divisão:\n",
    "\n",
    "```python\n",
    "10//3 = 3 # o número 3 cabe três vezes inteiro em 10\n",
    "14//6 = 2 # o número 6 cabe duas vezes inteiro em 14\n",
    "```\n",
    "\n",
    "Confira mais exemplos nas células abaixo!"
   ]
  },
  {
   "cell_type": "code",
   "execution_count": 18,
   "metadata": {
    "ExecuteTime": {
     "end_time": "2020-06-03T23:25:02.717872Z",
     "start_time": "2020-06-03T23:25:02.708049Z"
    }
   },
   "outputs": [
    {
     "data": {
      "text/plain": [
       "16"
      ]
     },
     "execution_count": 18,
     "metadata": {},
     "output_type": "execute_result"
    }
   ],
   "source": [
    "33//2"
   ]
  },
  {
   "cell_type": "code",
   "execution_count": 19,
   "metadata": {
    "ExecuteTime": {
     "end_time": "2020-06-03T23:25:15.942142Z",
     "start_time": "2020-06-03T23:25:15.936516Z"
    }
   },
   "outputs": [
    {
     "data": {
      "text/plain": [
       "17.0"
      ]
     },
     "execution_count": 19,
     "metadata": {},
     "output_type": "execute_result"
    }
   ],
   "source": [
    "5.2//0.3"
   ]
  },
  {
   "cell_type": "markdown",
   "metadata": {},
   "source": [
    "E a raíz quadrada? A raíz cúbica? Para efetuar essas operações precisamos de funções não inatas, ou seja, proveninente de outros pacotes. Portanto, veremos sobre essas operações posteriormente quando formos falar de ``importação de módulos``."
   ]
  },
  {
   "cell_type": "markdown",
   "metadata": {},
   "source": [
    "Outro detalhe que devemos nos atentar é na questão aritmética na ordem das operações que devem ser realizadas. Devemos respeitar a seguinte ordem:\n",
    "\n",
    "- Parêntesis\n",
    "- Expoentes\n",
    "- Multiplicações e divisões\n",
    "- Somas e subtrações\n",
    "\n",
    "Por exemplo:\n",
    "\n",
    "$$\n",
    "    \\left(1+2\\right) \\times 3^3 = \\left( 3 \\right) \\times 3^3 = \\left( 3 \\right) \\times 27 = 81.\n",
    "$$\n",
    "\n",
    "$$\n",
    "    \\left(2{,}5 + \\frac{7}{2} \\right)^2 \\times 3 + 3 + \\frac{3^3}{3} = \\left(2{,}5 + 3{,}5 \\right)^2 \\times 3 + 3 + \\frac{27}{3} = \\left( 6 \\right)^2 \\times 3 + 3 + 9 = 36 \\times 3 + 12 = 108 + 12 = 120.\n",
    "$$\n",
    "\n",
    "Quando escrevemos um código para descrever uma operação aritmética devemos levar em consideração a ordem correta. Vamos reescrever essas duas expressões nas células abaixo e executá-las."
   ]
  },
  {
   "cell_type": "code",
   "execution_count": 17,
   "metadata": {
    "ExecuteTime": {
     "end_time": "2020-06-04T14:05:45.420061Z",
     "start_time": "2020-06-04T14:05:45.410587Z"
    }
   },
   "outputs": [
    {
     "data": {
      "text/plain": [
       "81"
      ]
     },
     "execution_count": 17,
     "metadata": {},
     "output_type": "execute_result"
    }
   ],
   "source": [
    "( 1 + 2 )*3**3"
   ]
  },
  {
   "cell_type": "markdown",
   "metadata": {},
   "source": [
    "Apesar do código acima nos fornecer o resultado correto, as vezes é melhor separarmos os termos por parêntesis para uma melhor leitura do código:"
   ]
  },
  {
   "cell_type": "code",
   "execution_count": 18,
   "metadata": {
    "ExecuteTime": {
     "end_time": "2020-06-04T14:07:15.435035Z",
     "start_time": "2020-06-04T14:07:15.430025Z"
    }
   },
   "outputs": [
    {
     "data": {
      "text/plain": [
       "81"
      ]
     },
     "execution_count": 18,
     "metadata": {},
     "output_type": "execute_result"
    }
   ],
   "source": [
    "( 1 + 2 )*( 3**3 )"
   ]
  },
  {
   "cell_type": "markdown",
   "metadata": {},
   "source": [
    "A segunda operação ficaria, então, escrita como"
   ]
  },
  {
   "cell_type": "code",
   "execution_count": 20,
   "metadata": {
    "ExecuteTime": {
     "end_time": "2020-06-04T14:08:41.175514Z",
     "start_time": "2020-06-04T14:08:41.164119Z"
    }
   },
   "outputs": [
    {
     "data": {
      "text/plain": [
       "120.0"
      ]
     },
     "execution_count": 20,
     "metadata": {},
     "output_type": "execute_result"
    }
   ],
   "source": [
    "(( 2.5 + (7/2) )**2)*3 + 3 + (3**3)/3"
   ]
  },
  {
   "cell_type": "markdown",
   "metadata": {},
   "source": [
    "Tente você agora escrever o código para as seguintes operações:\n",
    "\n",
    "$$\n",
    "    3 \\times 4 + \\frac{8}{2} - 3^2\n",
    "$$\n",
    "\n",
    "$$\n",
    "    \\frac{2^3}{8} \\times \\left( 3^2 \\times 3 \\right) - 3\n",
    "$$\n",
    "\n",
    "$$\n",
    "    \\left(\\frac{2^4}{4} - 3 \\right)^3 + 9 \\times 2 - \\frac{\\left( 2^4 - 3^2 - 1\\right)^2}{3}\n",
    "$$"
   ]
  },
  {
   "cell_type": "markdown",
   "metadata": {},
   "source": [
    "Não conseguiu? **Clique duas vezes aqui** e dê uma espiada na resposta =)\n",
    "\n",
    "<!--\n",
    "\n",
    ">>> ( 3*4 ) + (8/2) - 3**2\n",
    "7.0\n",
    "\n",
    ">>> ( ( 2**3 ) / 8 )*( (3**2)*3 ) - 3\n",
    "24.0\n",
    "\n",
    ">>> ( (( 2**4 )/4) - 3)**3 + (9*2) - ( ( (2**4) - (3**2) - 1)**2 )/3\n",
    "7.0\n",
    "-->"
   ]
  },
  {
   "cell_type": "markdown",
   "metadata": {},
   "source": [
    "<a class='section' id='operacoes_logicas'></a>\n",
    "# Operações lógicas"
   ]
  },
  {
   "cell_type": "markdown",
   "metadata": {},
   "source": [
    "Além dos operadores matemáticos, temos também operadores lógicos. Esses são usados com variáveis do tipo ``bool`` (``boolean``) sendo elas ``True`` e ``False`` para resultados verdadeiros e falsos, respectivamente. Essas duas variáveis podem ser comparadas usando alguns operadores. \n",
    "\n",
    "O primeiro que veremos é o operador ``and``, que também pode ser representado pelo símbolo ``&``. Veja como usamos eles com as variáveis ``bool``:\n",
    "\n",
    "```python\n",
    ">>> True and True\n",
    "True\n",
    "\n",
    ">>> True and False\n",
    "False\n",
    "\n",
    ">>> False and False\n",
    "False\n",
    "\n",
    "```\n",
    "\n",
    "Veja que o resultado da comparação desse operador retorna um valor lógico (``bool``). Esse valor é ``True`` se o primeiro valor ``e`` o segundo são verdadeiros. Se um deles, ou ambos, for falso então a operação retorna ``False``. Veja os códigos executados nas células abaixo."
   ]
  },
  {
   "cell_type": "code",
   "execution_count": 3,
   "metadata": {
    "ExecuteTime": {
     "end_time": "2020-06-04T13:44:45.720758Z",
     "start_time": "2020-06-04T13:44:45.712145Z"
    }
   },
   "outputs": [
    {
     "data": {
      "text/plain": [
       "True"
      ]
     },
     "execution_count": 3,
     "metadata": {},
     "output_type": "execute_result"
    }
   ],
   "source": [
    "True and True"
   ]
  },
  {
   "cell_type": "code",
   "execution_count": 24,
   "metadata": {
    "ExecuteTime": {
     "end_time": "2020-06-04T15:07:29.624315Z",
     "start_time": "2020-06-04T15:07:29.620825Z"
    }
   },
   "outputs": [
    {
     "data": {
      "text/plain": [
       "True"
      ]
     },
     "execution_count": 24,
     "metadata": {},
     "output_type": "execute_result"
    }
   ],
   "source": [
    "True & True"
   ]
  },
  {
   "cell_type": "code",
   "execution_count": 4,
   "metadata": {
    "ExecuteTime": {
     "end_time": "2020-06-04T13:44:50.064365Z",
     "start_time": "2020-06-04T13:44:50.057909Z"
    }
   },
   "outputs": [
    {
     "data": {
      "text/plain": [
       "False"
      ]
     },
     "execution_count": 4,
     "metadata": {},
     "output_type": "execute_result"
    }
   ],
   "source": [
    "True and False"
   ]
  },
  {
   "cell_type": "code",
   "execution_count": 25,
   "metadata": {
    "ExecuteTime": {
     "end_time": "2020-06-04T15:07:40.661339Z",
     "start_time": "2020-06-04T15:07:40.655937Z"
    }
   },
   "outputs": [
    {
     "data": {
      "text/plain": [
       "False"
      ]
     },
     "execution_count": 25,
     "metadata": {},
     "output_type": "execute_result"
    }
   ],
   "source": [
    "True & False"
   ]
  },
  {
   "cell_type": "code",
   "execution_count": 5,
   "metadata": {
    "ExecuteTime": {
     "end_time": "2020-06-04T13:44:54.261939Z",
     "start_time": "2020-06-04T13:44:54.250499Z"
    }
   },
   "outputs": [
    {
     "data": {
      "text/plain": [
       "False"
      ]
     },
     "execution_count": 5,
     "metadata": {},
     "output_type": "execute_result"
    }
   ],
   "source": [
    "False and False"
   ]
  },
  {
   "cell_type": "code",
   "execution_count": 26,
   "metadata": {
    "ExecuteTime": {
     "end_time": "2020-06-04T15:07:49.149281Z",
     "start_time": "2020-06-04T15:07:49.137338Z"
    }
   },
   "outputs": [
    {
     "data": {
      "text/plain": [
       "False"
      ]
     },
     "execution_count": 26,
     "metadata": {},
     "output_type": "execute_result"
    }
   ],
   "source": [
    "False & False"
   ]
  },
  {
   "cell_type": "markdown",
   "metadata": {},
   "source": [
    "Como mencionamos [anteriormente](#bool_explanation), os número ``1`` e ``0`` também funcionam como os operadores lógicos ``True`` e  ``False``, respectivamente. Veja nas células abaixo as comparações feitas:"
   ]
  },
  {
   "cell_type": "code",
   "execution_count": 7,
   "metadata": {
    "ExecuteTime": {
     "end_time": "2020-06-04T13:51:54.481366Z",
     "start_time": "2020-06-04T13:51:54.475573Z"
    }
   },
   "outputs": [
    {
     "data": {
      "text/plain": [
       "True"
      ]
     },
     "execution_count": 7,
     "metadata": {},
     "output_type": "execute_result"
    }
   ],
   "source": [
    "1 and True"
   ]
  },
  {
   "cell_type": "code",
   "execution_count": 8,
   "metadata": {
    "ExecuteTime": {
     "end_time": "2020-06-04T13:52:03.403347Z",
     "start_time": "2020-06-04T13:52:03.392377Z"
    }
   },
   "outputs": [
    {
     "data": {
      "text/plain": [
       "False"
      ]
     },
     "execution_count": 8,
     "metadata": {},
     "output_type": "execute_result"
    }
   ],
   "source": [
    "1 and False"
   ]
  },
  {
   "cell_type": "code",
   "execution_count": 12,
   "metadata": {
    "ExecuteTime": {
     "end_time": "2020-06-04T13:52:39.275036Z",
     "start_time": "2020-06-04T13:52:39.266177Z"
    }
   },
   "outputs": [
    {
     "data": {
      "text/plain": [
       "0"
      ]
     },
     "execution_count": 12,
     "metadata": {},
     "output_type": "execute_result"
    }
   ],
   "source": [
    "0 and True"
   ]
  },
  {
   "cell_type": "code",
   "execution_count": 13,
   "metadata": {
    "ExecuteTime": {
     "end_time": "2020-06-04T13:53:02.078630Z",
     "start_time": "2020-06-04T13:53:02.073422Z"
    }
   },
   "outputs": [
    {
     "data": {
      "text/plain": [
       "0"
      ]
     },
     "execution_count": 13,
     "metadata": {},
     "output_type": "execute_result"
    }
   ],
   "source": [
    "0 and False"
   ]
  },
  {
   "cell_type": "markdown",
   "metadata": {},
   "source": [
    "O outro operador lógico é o ``or`` (``ou``). Ele também pode ser representado pelo caracter ``|`` e é usado da mesma forma que o operador ``and``. Ele se difere no fato de que se uma das variáveis lógicas que estiverem sendo comparadas for ``True``, a operação retorna ``True``. Veja os exemplos:\n",
    "\n",
    "```python\n",
    ">>> True or True\n",
    "True\n",
    "\n",
    ">>> True or False\n",
    "True\n",
    "\n",
    ">>> False or False\n",
    "False\n",
    "\n",
    "```"
   ]
  },
  {
   "cell_type": "code",
   "execution_count": 27,
   "metadata": {
    "ExecuteTime": {
     "end_time": "2020-06-04T15:18:32.329034Z",
     "start_time": "2020-06-04T15:18:32.321101Z"
    }
   },
   "outputs": [
    {
     "data": {
      "text/plain": [
       "True"
      ]
     },
     "execution_count": 27,
     "metadata": {},
     "output_type": "execute_result"
    }
   ],
   "source": [
    "True or True"
   ]
  },
  {
   "cell_type": "code",
   "execution_count": 28,
   "metadata": {
    "ExecuteTime": {
     "end_time": "2020-06-04T15:18:35.326027Z",
     "start_time": "2020-06-04T15:18:35.317193Z"
    }
   },
   "outputs": [
    {
     "data": {
      "text/plain": [
       "True"
      ]
     },
     "execution_count": 28,
     "metadata": {},
     "output_type": "execute_result"
    }
   ],
   "source": [
    "True | True"
   ]
  },
  {
   "cell_type": "code",
   "execution_count": 29,
   "metadata": {
    "ExecuteTime": {
     "end_time": "2020-06-04T15:18:38.283593Z",
     "start_time": "2020-06-04T15:18:38.278025Z"
    }
   },
   "outputs": [
    {
     "data": {
      "text/plain": [
       "True"
      ]
     },
     "execution_count": 29,
     "metadata": {},
     "output_type": "execute_result"
    }
   ],
   "source": [
    "True or False"
   ]
  },
  {
   "cell_type": "code",
   "execution_count": 30,
   "metadata": {
    "ExecuteTime": {
     "end_time": "2020-06-04T15:18:43.383872Z",
     "start_time": "2020-06-04T15:18:43.378229Z"
    }
   },
   "outputs": [
    {
     "data": {
      "text/plain": [
       "True"
      ]
     },
     "execution_count": 30,
     "metadata": {},
     "output_type": "execute_result"
    }
   ],
   "source": [
    "True | False"
   ]
  },
  {
   "cell_type": "code",
   "execution_count": 31,
   "metadata": {
    "ExecuteTime": {
     "end_time": "2020-06-04T15:18:46.403960Z",
     "start_time": "2020-06-04T15:18:46.399174Z"
    }
   },
   "outputs": [
    {
     "data": {
      "text/plain": [
       "False"
      ]
     },
     "execution_count": 31,
     "metadata": {},
     "output_type": "execute_result"
    }
   ],
   "source": [
    "False or False"
   ]
  },
  {
   "cell_type": "code",
   "execution_count": 32,
   "metadata": {
    "ExecuteTime": {
     "end_time": "2020-06-04T15:18:49.249816Z",
     "start_time": "2020-06-04T15:18:49.244159Z"
    }
   },
   "outputs": [
    {
     "data": {
      "text/plain": [
       "False"
      ]
     },
     "execution_count": 32,
     "metadata": {},
     "output_type": "execute_result"
    }
   ],
   "source": [
    "False | False"
   ]
  },
  {
   "cell_type": "code",
   "execution_count": 33,
   "metadata": {
    "ExecuteTime": {
     "end_time": "2020-06-04T15:19:00.521574Z",
     "start_time": "2020-06-04T15:19:00.517859Z"
    }
   },
   "outputs": [
    {
     "data": {
      "text/plain": [
       "1"
      ]
     },
     "execution_count": 33,
     "metadata": {},
     "output_type": "execute_result"
    }
   ],
   "source": [
    "1 or True"
   ]
  },
  {
   "cell_type": "code",
   "execution_count": 34,
   "metadata": {
    "ExecuteTime": {
     "end_time": "2020-06-04T15:19:07.703511Z",
     "start_time": "2020-06-04T15:19:07.697251Z"
    }
   },
   "outputs": [
    {
     "data": {
      "text/plain": [
       "1"
      ]
     },
     "execution_count": 34,
     "metadata": {},
     "output_type": "execute_result"
    }
   ],
   "source": [
    "1 or False"
   ]
  },
  {
   "cell_type": "code",
   "execution_count": 36,
   "metadata": {
    "ExecuteTime": {
     "end_time": "2020-06-04T15:19:23.861508Z",
     "start_time": "2020-06-04T15:19:23.855457Z"
    }
   },
   "outputs": [
    {
     "data": {
      "text/plain": [
       "True"
      ]
     },
     "execution_count": 36,
     "metadata": {},
     "output_type": "execute_result"
    }
   ],
   "source": [
    "0 or True"
   ]
  },
  {
   "cell_type": "code",
   "execution_count": 37,
   "metadata": {
    "ExecuteTime": {
     "end_time": "2020-06-04T15:19:28.063861Z",
     "start_time": "2020-06-04T15:19:28.055663Z"
    }
   },
   "outputs": [
    {
     "data": {
      "text/plain": [
       "False"
      ]
     },
     "execution_count": 37,
     "metadata": {},
     "output_type": "execute_result"
    }
   ],
   "source": [
    "0 or False"
   ]
  },
  {
   "cell_type": "markdown",
   "metadata": {},
   "source": [
    "Por último, temos o operador ``not``. Ele funciona invertendo a afirmção lógica feita:\n",
    "\n",
    "```python\n",
    ">>> not True\n",
    "False\n",
    "\n",
    ">>> not False\n",
    "True\n",
    "```"
   ]
  },
  {
   "cell_type": "markdown",
   "metadata": {},
   "source": [
    "É como se estivéssimos multiplicando nosso operador por ``-1`` para inverter seu valor."
   ]
  },
  {
   "cell_type": "code",
   "execution_count": 38,
   "metadata": {
    "ExecuteTime": {
     "end_time": "2020-06-04T15:21:33.210340Z",
     "start_time": "2020-06-04T15:21:33.205945Z"
    }
   },
   "outputs": [
    {
     "data": {
      "text/plain": [
       "False"
      ]
     },
     "execution_count": 38,
     "metadata": {},
     "output_type": "execute_result"
    }
   ],
   "source": [
    "not True"
   ]
  },
  {
   "cell_type": "code",
   "execution_count": 40,
   "metadata": {
    "ExecuteTime": {
     "end_time": "2020-06-04T15:29:27.614848Z",
     "start_time": "2020-06-04T15:29:27.607995Z"
    }
   },
   "outputs": [
    {
     "data": {
      "text/plain": [
       "False"
      ]
     },
     "execution_count": 40,
     "metadata": {},
     "output_type": "execute_result"
    }
   ],
   "source": [
    "not 1"
   ]
  },
  {
   "cell_type": "code",
   "execution_count": 39,
   "metadata": {
    "ExecuteTime": {
     "end_time": "2020-06-04T15:21:36.373433Z",
     "start_time": "2020-06-04T15:21:36.367257Z"
    }
   },
   "outputs": [
    {
     "data": {
      "text/plain": [
       "True"
      ]
     },
     "execution_count": 39,
     "metadata": {},
     "output_type": "execute_result"
    }
   ],
   "source": [
    "not False"
   ]
  },
  {
   "cell_type": "code",
   "execution_count": 41,
   "metadata": {
    "ExecuteTime": {
     "end_time": "2020-06-04T15:29:39.017110Z",
     "start_time": "2020-06-04T15:29:39.008002Z"
    }
   },
   "outputs": [
    {
     "data": {
      "text/plain": [
       "True"
      ]
     },
     "execution_count": 41,
     "metadata": {},
     "output_type": "execute_result"
    }
   ],
   "source": [
    "not 0"
   ]
  },
  {
   "cell_type": "markdown",
   "metadata": {},
   "source": [
    "Essas operações podem combinadas, só precisamos lembrar que termos entre parênteses são efetuados primeiro:"
   ]
  },
  {
   "cell_type": "code",
   "execution_count": 42,
   "metadata": {
    "ExecuteTime": {
     "end_time": "2020-06-04T15:31:37.682358Z",
     "start_time": "2020-06-04T15:31:37.678856Z"
    }
   },
   "outputs": [
    {
     "data": {
      "text/plain": [
       "False"
      ]
     },
     "execution_count": 42,
     "metadata": {},
     "output_type": "execute_result"
    }
   ],
   "source": [
    "(not True) or False"
   ]
  },
  {
   "cell_type": "code",
   "execution_count": 43,
   "metadata": {
    "ExecuteTime": {
     "end_time": "2020-06-04T15:32:00.723716Z",
     "start_time": "2020-06-04T15:32:00.716523Z"
    }
   },
   "outputs": [
    {
     "data": {
      "text/plain": [
       "True"
      ]
     },
     "execution_count": 43,
     "metadata": {},
     "output_type": "execute_result"
    }
   ],
   "source": [
    "True and (not False)"
   ]
  },
  {
   "cell_type": "code",
   "execution_count": 45,
   "metadata": {
    "ExecuteTime": {
     "end_time": "2020-06-04T15:32:59.426123Z",
     "start_time": "2020-06-04T15:32:59.418746Z"
    }
   },
   "outputs": [
    {
     "data": {
      "text/plain": [
       "True"
      ]
     },
     "execution_count": 45,
     "metadata": {},
     "output_type": "execute_result"
    }
   ],
   "source": [
    "(True and (not True)) | True"
   ]
  },
  {
   "cell_type": "code",
   "execution_count": 48,
   "metadata": {
    "ExecuteTime": {
     "end_time": "2020-06-04T15:34:13.539896Z",
     "start_time": "2020-06-04T15:34:13.536727Z"
    }
   },
   "outputs": [
    {
     "data": {
      "text/plain": [
       "True"
      ]
     },
     "execution_count": 48,
     "metadata": {},
     "output_type": "execute_result"
    }
   ],
   "source": [
    "#     True\n",
    "# True\n",
    "((not 0) or 1) & (not False)"
   ]
  },
  {
   "cell_type": "markdown",
   "metadata": {},
   "source": [
    "<a class='section' id='operacoes_de_comparacao'></a>\n",
    "# Operações de comparação"
   ]
  },
  {
   "cell_type": "markdown",
   "metadata": {},
   "source": [
    "Existem também os ``operadores de comparação``. Usamos esses operadores para dizer se variáveis são igauis, diferentes, maiores (ou iguais) ou menores (ou iguais). Abaixo vemos o símbolo de cada uma dessas operações:\n",
    "\n",
    "```python\n",
    "a == b (a é igual a b)\n",
    "a != b (a é diferente de b)\n",
    "a >  b (a é maior que b)\n",
    "a >= b (a é maior ou igual a b)\n",
    "a <  b (a é menor que b)\n",
    "a <= b (a é menor ou igual a b)\n",
    "```\n",
    "\n",
    "Essas operações de comparação levam a resultados lógicos, isto é, elas retornam ``True`` ou ``False``. Vamos ver alguns exemplos:"
   ]
  },
  {
   "cell_type": "code",
   "execution_count": 49,
   "metadata": {
    "ExecuteTime": {
     "end_time": "2020-06-04T15:45:26.260648Z",
     "start_time": "2020-06-04T15:45:26.256612Z"
    }
   },
   "outputs": [
    {
     "data": {
      "text/plain": [
       "True"
      ]
     },
     "execution_count": 49,
     "metadata": {},
     "output_type": "execute_result"
    }
   ],
   "source": [
    "(2+2) == 4"
   ]
  },
  {
   "cell_type": "code",
   "execution_count": 50,
   "metadata": {
    "ExecuteTime": {
     "end_time": "2020-06-04T15:45:38.382792Z",
     "start_time": "2020-06-04T15:45:38.378343Z"
    }
   },
   "outputs": [
    {
     "data": {
      "text/plain": [
       "True"
      ]
     },
     "execution_count": 50,
     "metadata": {},
     "output_type": "execute_result"
    }
   ],
   "source": [
    "2 != 1"
   ]
  },
  {
   "cell_type": "code",
   "execution_count": 51,
   "metadata": {
    "ExecuteTime": {
     "end_time": "2020-06-04T15:45:51.689302Z",
     "start_time": "2020-06-04T15:45:51.684086Z"
    }
   },
   "outputs": [
    {
     "data": {
      "text/plain": [
       "False"
      ]
     },
     "execution_count": 51,
     "metadata": {},
     "output_type": "execute_result"
    }
   ],
   "source": [
    "4 != 4"
   ]
  },
  {
   "cell_type": "code",
   "execution_count": 54,
   "metadata": {
    "ExecuteTime": {
     "end_time": "2020-06-04T15:46:10.856587Z",
     "start_time": "2020-06-04T15:46:10.853896Z"
    }
   },
   "outputs": [
    {
     "data": {
      "text/plain": [
       "False"
      ]
     },
     "execution_count": 54,
     "metadata": {},
     "output_type": "execute_result"
    }
   ],
   "source": [
    "3 > 3"
   ]
  },
  {
   "cell_type": "code",
   "execution_count": 55,
   "metadata": {
    "ExecuteTime": {
     "end_time": "2020-06-04T15:46:13.647099Z",
     "start_time": "2020-06-04T15:46:13.638934Z"
    }
   },
   "outputs": [
    {
     "data": {
      "text/plain": [
       "True"
      ]
     },
     "execution_count": 55,
     "metadata": {},
     "output_type": "execute_result"
    }
   ],
   "source": [
    "3 >= 3"
   ]
  },
  {
   "cell_type": "markdown",
   "metadata": {},
   "source": [
    "Com essas novas operações, podemos começar a combinar as variáveis lógicas com operações de comparações númericas:"
   ]
  },
  {
   "cell_type": "code",
   "execution_count": 56,
   "metadata": {
    "ExecuteTime": {
     "end_time": "2020-06-04T15:58:32.567696Z",
     "start_time": "2020-06-04T15:58:32.564763Z"
    }
   },
   "outputs": [
    {
     "data": {
      "text/plain": [
       "False"
      ]
     },
     "execution_count": 56,
     "metadata": {},
     "output_type": "execute_result"
    }
   ],
   "source": [
    "((2+2) == 4) == False"
   ]
  },
  {
   "cell_type": "code",
   "execution_count": 58,
   "metadata": {
    "ExecuteTime": {
     "end_time": "2020-06-04T15:59:45.083249Z",
     "start_time": "2020-06-04T15:59:45.074098Z"
    }
   },
   "outputs": [
    {
     "data": {
      "text/plain": [
       "True"
      ]
     },
     "execution_count": 58,
     "metadata": {},
     "output_type": "execute_result"
    }
   ],
   "source": [
    "not (( (3 < 2) | (5 <= 4) ) & (not 1))"
   ]
  },
  {
   "cell_type": "code",
   "execution_count": 79,
   "metadata": {
    "ExecuteTime": {
     "end_time": "2020-06-04T16:11:05.235391Z",
     "start_time": "2020-06-04T16:11:05.231081Z"
    }
   },
   "outputs": [
    {
     "data": {
      "text/plain": [
       "True"
      ]
     },
     "execution_count": 79,
     "metadata": {},
     "output_type": "execute_result"
    }
   ],
   "source": [
    "( ( ( 11%3 )/2 ) == False ) | ( ( ( 11//3 ) - 3 ) != True )"
   ]
  },
  {
   "cell_type": "markdown",
   "metadata": {},
   "source": [
    "Para facilitar sua compreensão, tente entender os códigos por partes. Por exemplo, na célula acima, faça primeiro as operações matemáticas:\n",
    "\n",
    "```python\n",
    "( ( 11%3 )/2 == False ) | ( ( ( 11//3 ) - 3 ) != True )\n",
    "   ( ( 2/2 ) == False ) | ( ( 3 - 3) != True )\n",
    "         ( 1 == False ) | ( 0 != True )\n",
    "                  False | True\n",
    "                      True\n",
    "```"
   ]
  },
  {
   "cell_type": "markdown",
   "metadata": {},
   "source": [
    "<a class='section' id='atribuindo_valores_as_variaveis'></a>\n",
    "# Atribuindo valores às variáveis"
   ]
  },
  {
   "cell_type": "code",
   "execution_count": null,
   "metadata": {},
   "outputs": [],
   "source": []
  },
  {
   "cell_type": "markdown",
   "metadata": {},
   "source": [
    "<a class='section' id='onde_posso_encontrar_mais_conteudo'></a>\n",
    "# Onde posso encontrar mais conteúdo?"
   ]
  },
  {
   "cell_type": "markdown",
   "metadata": {},
   "source": [
    "- [w2schools](https://www.w3schools.com/python/default.asp)\n",
    "- [codecademy](https://www.codecademy.com/catalog/language/python)"
   ]
  }
 ],
 "metadata": {
  "author": "mes",
  "kernelspec": {
   "display_name": "Python 3",
   "language": "python",
   "name": "python3"
  },
  "language_info": {
   "codemirror_mode": {
    "name": "ipython",
    "version": 3
   },
   "file_extension": ".py",
   "mimetype": "text/x-python",
   "name": "python",
   "nbconvert_exporter": "python",
   "pygments_lexer": "ipython3",
   "version": "3.7.4"
  },
  "latex_envs": {
   "LaTeX_envs_menu_present": true,
   "autoclose": false,
   "autocomplete": true,
   "bibliofile": "biblio.bib",
   "cite_by": "apalike",
   "current_citInitial": 1,
   "eqLabelWithNumbers": true,
   "eqNumInitial": 1,
   "hotkeys": {
    "equation": "Ctrl-E",
    "itemize": "Ctrl-I"
   },
   "labels_anchors": false,
   "latex_user_defs": false,
   "report_style_numbering": false,
   "user_envs_cfg": false
  },
  "toc": {
   "base_numbering": 1,
   "nav_menu": {},
   "number_sections": true,
   "sideBar": true,
   "skip_h1_title": false,
   "title_cell": "Table of Contents",
   "title_sidebar": "Contents",
   "toc_cell": false,
   "toc_position": {},
   "toc_section_display": true,
   "toc_window_display": false
  },
  "varInspector": {
   "cols": {
    "lenName": 16,
    "lenType": 16,
    "lenVar": 40
   },
   "kernels_config": {
    "python": {
     "delete_cmd_postfix": "",
     "delete_cmd_prefix": "del ",
     "library": "var_list.py",
     "varRefreshCmd": "print(var_dic_list())"
    },
    "r": {
     "delete_cmd_postfix": ") ",
     "delete_cmd_prefix": "rm(",
     "library": "var_list.r",
     "varRefreshCmd": "cat(var_dic_list()) "
    }
   },
   "types_to_exclude": [
    "module",
    "function",
    "builtin_function_or_method",
    "instance",
    "_Feature"
   ],
   "window_display": false
  }
 },
 "nbformat": 4,
 "nbformat_minor": 2
}
