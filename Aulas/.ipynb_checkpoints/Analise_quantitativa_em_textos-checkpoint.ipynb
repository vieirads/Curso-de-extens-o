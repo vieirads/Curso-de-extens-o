{
 "cells": [
  {
   "cell_type": "code",
   "execution_count": 5,
   "metadata": {
    "ExecuteTime": {
     "end_time": "2020-08-03T14:43:47.482332Z",
     "start_time": "2020-08-03T14:43:47.467929Z"
    }
   },
   "outputs": [
    {
     "data": {
      "text/html": [
       "<style>/*This file contains any manual css for this page that needs to override the global styles.\n",
       "This is only required when different pages style the same element differently. This is just\n",
       "a hack to deal with our current css styles and no new styling should be added in this file.*/\n",
       "/* CSS stylesheet to make paragraphs justified, create lists with subitem numbering \n",
       "and highlight words in gray with font-family monospace */\n",
       "\n",
       ".container {\n",
       "    width: 95% !important;\n",
       "}\n",
       "\n",
       "#centralizar {\n",
       "    text-align: center;\n",
       "}\n",
       "\n",
       "p.justified {\n",
       "    text-align: justify;\n",
       "    font-size: 11pt;\n",
       "}\n",
       "\n",
       "mark.mono_gray {\n",
       "    background-color: #f0f0f0;\n",
       "    font-family: monospace;\n",
       "    border: 0.5px solid #000000;\n",
       "    border-radius: 5px;\n",
       "    padding: 0.1px;\n",
       "}\n",
       "\n",
       "mark.mono_gray:hover {\n",
       "    animation-name: lightening;\n",
       "    animation-duration: 500ms;\n",
       "    animation-fill-mode: forwards;\n",
       "}\n",
       "\n",
       "@keyframes lightening {\n",
       "    100% {\n",
       "        background-image: linear-gradient(to bottom,#31A354 /*rgb(0,149,221, 0.3)*/, rgb(0,149,221, 1));\n",
       "        color: #FFFFFF;\n",
       "    }\n",
       "}\n",
       "\n",
       "ol.sub-item { \n",
       "    counter-reset: item;\n",
       "    text-align: justify;\n",
       "}\n",
       "\n",
       "li.sub-item {\n",
       "    display: block;\n",
       "    text-align: justify;\n",
       "}\n",
       "\n",
       "li.sub-item:before {\n",
       "    content: counters(item, \".\") \". \"; \n",
       "    counter-increment: item;\n",
       "    text-align: justify;\n",
       "    font-weight: bold;\n",
       "}\n",
       "\n",
       "ol.ref {\n",
       "    counter-reset: item;\n",
       "    text-align: justify;\n",
       "}\n",
       "\n",
       "li.ref {\n",
       "    display: block;\n",
       "    text-align: justify;\n",
       "}\n",
       "\n",
       "li.ref:before {\n",
       "    content: \"[\" counters(item, \".\") \"] \";\n",
       "    counter-increment: item;\n",
       "    text-align: justify;\n",
       "    font-weight: bold;\n",
       "}\n",
       "\n",
       "div.exercise {\n",
       "    background-color: rgba(137,207,240,0.3);\n",
       "    color: rgba(0,128,255);\n",
       "    border: 0.5px solid rgba(0,128,255);\n",
       "    border-radius: 5px;\n",
       "    padding: 3px;\n",
       "}\n",
       "\n",
       "div.answer {\n",
       "    background-color: rgba(76,187,23,0.3);\n",
       "    color: rgba(11,102,35);\n",
       "    border: 0.5px solid rgba(11,102,35);\n",
       "    border-radius: 5px;\n",
       "    padding: 3px;\n",
       "}</style>"
      ],
      "text/plain": [
       "<IPython.core.display.HTML object>"
      ]
     },
     "metadata": {},
     "output_type": "display_data"
    }
   ],
   "source": [
    "from IPython.display import HTML, display\n",
    "display(HTML(\"<style>{}</style>\".format(open(\"../style.css\").read())))"
   ]
  },
  {
   "cell_type": "markdown",
   "metadata": {},
   "source": [
    "<a id=\"sumario\"></a>\n",
    "\n",
    "<hr>\n",
    "<p class='justified'>\n",
    "<p style=\"font-size: 25px; margin-left: 25px;\"><b>Sumário</b></p>\n",
    "\n",
    "<ol class=\"sub-item\">\n",
    "    <li class=\"sub-item\"><a href=\"#importando_pacotes\">Importando pacotes</a></li>\n",
    "    <li class=\"sub-item\"><a href=\"#referencias\">Referências</a></li>\n",
    "<!--     <li class=\"sub-item\"><a href=\"\"></a></li> -->\n",
    "</ol>\n",
    "</p>\n",
    "<hr>"
   ]
  },
  {
   "cell_type": "code",
   "execution_count": null,
   "metadata": {},
   "outputs": [],
   "source": []
  },
  {
   "cell_type": "markdown",
   "metadata": {},
   "source": [
    "<a href=\"#sumario\">Sumário</a>\n",
    "\n",
    "---\n",
    "<a id=\"importando_pacotes\"></a>\n",
    "# Importando pacotes"
   ]
  },
  {
   "cell_type": "code",
   "execution_count": null,
   "metadata": {},
   "outputs": [],
   "source": []
  },
  {
   "cell_type": "code",
   "execution_count": null,
   "metadata": {},
   "outputs": [],
   "source": []
  },
  {
   "cell_type": "code",
   "execution_count": null,
   "metadata": {},
   "outputs": [],
   "source": []
  },
  {
   "cell_type": "markdown",
   "metadata": {},
   "source": [
    "<a href=\"#sumario\">Sumário</a>\n",
    "\n",
    "---\n",
    "<a id=\"referencias\"></a>\n",
    "# Referências"
   ]
  },
  {
   "cell_type": "markdown",
   "metadata": {},
   "source": [
    "<p class=\"justified\">\n",
    "    \n",
    "</p>"
   ]
  },
  {
   "cell_type": "markdown",
   "metadata": {},
   "source": [
    "<ol class=\"ref\">\n",
    "    <li class=\"ref\"><a href=\"\">REF 1</a></li>\n",
    "    <li class=\"ref\"><a href=\"\">REF 1</a></li>\n",
    "</ol>"
   ]
  },
  {
   "cell_type": "code",
   "execution_count": null,
   "metadata": {},
   "outputs": [],
   "source": []
  }
 ],
 "metadata": {
  "kernelspec": {
   "display_name": "Python 3",
   "language": "python",
   "name": "python3"
  },
  "language_info": {
   "codemirror_mode": {
    "name": "ipython",
    "version": 3
   },
   "file_extension": ".py",
   "mimetype": "text/x-python",
   "name": "python",
   "nbconvert_exporter": "python",
   "pygments_lexer": "ipython3",
   "version": "3.7.4"
  },
  "latex_envs": {
   "LaTeX_envs_menu_present": true,
   "autoclose": false,
   "autocomplete": true,
   "bibliofile": "biblio.bib",
   "cite_by": "apalike",
   "current_citInitial": 1,
   "eqLabelWithNumbers": true,
   "eqNumInitial": 1,
   "hotkeys": {
    "equation": "Ctrl-E",
    "itemize": "Ctrl-I"
   },
   "labels_anchors": false,
   "latex_user_defs": false,
   "report_style_numbering": false,
   "user_envs_cfg": false
  },
  "toc": {
   "base_numbering": 1,
   "nav_menu": {},
   "number_sections": true,
   "sideBar": true,
   "skip_h1_title": false,
   "title_cell": "Table of Contents",
   "title_sidebar": "Contents",
   "toc_cell": false,
   "toc_position": {},
   "toc_section_display": true,
   "toc_window_display": false
  },
  "varInspector": {
   "cols": {
    "lenName": 16,
    "lenType": 16,
    "lenVar": 40
   },
   "kernels_config": {
    "python": {
     "delete_cmd_postfix": "",
     "delete_cmd_prefix": "del ",
     "library": "var_list.py",
     "varRefreshCmd": "print(var_dic_list())"
    },
    "r": {
     "delete_cmd_postfix": ") ",
     "delete_cmd_prefix": "rm(",
     "library": "var_list.r",
     "varRefreshCmd": "cat(var_dic_list()) "
    }
   },
   "types_to_exclude": [
    "module",
    "function",
    "builtin_function_or_method",
    "instance",
    "_Feature"
   ],
   "window_display": false
  }
 },
 "nbformat": 4,
 "nbformat_minor": 2
}
