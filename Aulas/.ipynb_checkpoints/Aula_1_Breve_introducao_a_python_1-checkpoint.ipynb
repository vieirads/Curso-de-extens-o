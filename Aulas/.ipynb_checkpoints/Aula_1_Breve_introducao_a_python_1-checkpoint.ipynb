{
 "cells": [
  {
   "cell_type": "markdown",
   "metadata": {
    "ExecuteTime": {
     "end_time": "2020-06-09T21:38:25.541554Z",
     "start_time": "2020-06-09T21:38:25.534493Z"
    }
   },
   "source": [
    "<!--from IPython.core.display import display, HTML\n",
    "display(HTML(\"<style>.container { width:95% !important; }</style>\"))-->"
   ]
  },
  {
   "cell_type": "markdown",
   "metadata": {},
   "source": [
    "---\n",
    "**Sumário**\n",
    "\n",
    "- 1. [O que é Python?](#o_que_e_python) <br>\n",
    "- 2. [Executando códigos no Jupyter](#executando_codigos_no_jupyter) <br>\n",
    "- 3. [Os tipos de variáveis](#os_tipos_de_variaveis) <br>\n",
    "- 4. [Operações Matemáticas](#operacoes_matematicas) <br>\n",
    "- 5. [Operações lógicas](#operacoes_logicas) <br>\n",
    "- 6. [Operações de comparação](#operacoes_de_comparacao) <br>\n",
    "- 7. [Atribuindo valores às variáveis](#atribuindo_valores_as_variaveis) <br>\n",
    "- 8. [Strings](#strings) <br>\n",
    "- 9. [Breve comentário sobre as ``classes``](#breve_comentario_sobre_as_classes) <br>\n",
    "- 10. [Listas](#listas)\n",
    "- 11. [Tuplas](#tuplas) <br>\n",
    "- 12. [Sets](#sets) <br>\n",
    "- 13. [Dicionários](#dicionarios) <br>\n",
    "---"
   ]
  },
  {
   "cell_type": "markdown",
   "metadata": {},
   "source": [
    "<a class='section' id='o_que_e_python'></a>\n",
    "# O que é Python?"
   ]
  },
  {
   "cell_type": "markdown",
   "metadata": {},
   "source": [
    "<p class='justified'>\n",
    "    <mark class='mono_gray'>Python</mark> é uma linguagem de programação encontrada no desenvolvimento de <i>softwares</i>, criação de web sites e até de jogos. Sua popularidade vem crescendo nos últimos anos mais do que os de outras linguagens <a href=http://pypl.github.io/PYPL.html>[1]</a>. Empresas como <mark class='mono_gray'>Google</mark>, <mark class='mono_gray'>Facebook</mark>, <mark class='mono_gray'>Spotify</mark> e <mark class='mono_gray'>Netflix</mark> são exemplos que usam <mark class='mono_gray'>Python</mark> no desenvolvimento de suas ferramentas. \n",
    "</p>\n",
    "\n",
    "<p class='justified'>\n",
    "Um dos fatores que faz com que essa linguagem esteja sendo muito procurada nos últimos anos, é o fato dela possuir um grande número de <mark class='mono_gray'>pacotes</mark> (também chamados de <mark class='mono_gray'>módulos</mark>) disponíveis. Podemos encontrar códigos prontos que fazem análises matemáticas e confecção de gráficos para visualização de dados muito facilmente. Além disso, ela possui uma comunidade bem ativa, sempre procurando melhorar os pacotes disponíveis e criar outros. E o melhor de tudo, ela é gratuíta!\n",
    "</p>\n",
    "\n",
    "<p class='justified'>\n",
    "Outro fato que chama atenção, é de que essa linguagem tem se tornado bastante comum entre a comunidade científica. Uma de suas principais aplicações tem sido na análise de dados. A procura por padrões e criação de modelos, utilizando, principalmente, <i>machine learning</i> nos últimos anos, tem rendido aos pesquisadores a publicação de artigos em jornais científicos. \n",
    "</p>"
   ]
  },
  {
   "cell_type": "markdown",
   "metadata": {},
   "source": [
    "<p class='justified'>\n",
    "    <mark class='mono_gray'>Python</mark> é uma linguagem de programação de alto nível. Isso quer dizer que os termos usados para escrever os códigos se aproximam mais da linguagem humana. Isso faz com que ela seja fácil de ser entendida e escrita. Para exemplificar como o <mark class='mono_gray'>Python</mark> pode ser muito mais fácil que outra linguagens, observe os trechos de códigos para imprimir na tela a frase <mark class='mono_gray'>Hello, world!</mark> em linguagem <mark class='mono_gray'>C</mark>\n",
    "</p>"
   ]
  },
  {
   "cell_type": "markdown",
   "metadata": {},
   "source": [
    "```C\n",
    "#include <stdio.h>\n",
    "\n",
    "int main(void)\n",
    "{\n",
    "    printf(\"hello, world\\n\");\n",
    "}\n",
    "```"
   ]
  },
  {
   "cell_type": "markdown",
   "metadata": {},
   "source": [
    "<p class='justified'>\n",
    "e em <mark class='justified'>python</mark>\n",
    "</p>\n",
    "\n",
    "```python\n",
    "print('Hello, world!')\n",
    "```\n",
    "\n",
    "<p class='justified'>\n",
    "    Além disso, para executar o código da linguagem <mark class='mono_gray'>C</mark>, precisamos compilá-lo e depois executá-lo. Em <mark class='mono_gray'>Python</mark>, uma vez que o código é escrito basta executá-lo para obter o resultado. \n",
    "</p>"
   ]
  },
  {
   "cell_type": "markdown",
   "metadata": {},
   "source": [
    "<p class='justified'>\n",
    "Nas próximas seções iremos aprender sobre alguns comandos e funções básicas do <mark class='mono_gray'>Python</mark>. O conteúdo que será visto aqui servirá de base para as aulas posteriores. Portanto, tente entender o que está acontecendo nos códigos. Tente reproduzir os códigos usando valores e nomes de variáveis diferentes. Isso pode ajudar na fixação de conteúdo.\n",
    "</p>"
   ]
  },
  {
   "cell_type": "markdown",
   "metadata": {},
   "source": [
    "<a class='section' id='executando_codigos_no_jupyter'></a>\n",
    "# Executando códigos no Jupyter"
   ]
  },
  {
   "cell_type": "markdown",
   "metadata": {},
   "source": [
    "<a class='cell' id='create_new_cell'></a>\n",
    "<p class='justified'>\n",
    "    Usaremos o <a href=https://jupyter.org/><mark class='mono_gray'>Jupyter</mark></a> para realizar nossos trabalhos e isso inclui executar vários códigos em <mark class='mono_gray'>Python</mark>! Podemos escrever os códigos em qualquer célula do <mark class='mono_gray'>Notebook</mark>. Para criar uma nova célula, você pode simplesmente apertar <mark class='mono_gray'>esc</mark>, fazendo a célula ficar selecionada de azul, e então aperta <mark class='mono_gray'>b</mark> para criar uma célula abaixo ou apertar <mark class='mono_gray'>a</mark> para criar uma célula em cima. Caso prefira, você também pode cliclar em <mark class='mono_gray'>Insert</mark> na barra acima e selecionar onde deseja criar uma nova célula. Uma vez que a célula é criada e você esteja preparado para começar a digitar seus códigos nela, aperte <mark class='mono_gray'>enter</mark> ou clique duas vezes nela. Quando a célular ficar com a borda verde, significa que você pode digitar seus códigos.\n",
    "</p>"
   ]
  },
  {
   "cell_type": "markdown",
   "metadata": {},
   "source": [
    "<p class='justified'>\n",
    "É de costume sempre que começamos a estudar uma linguagem de programação, o primeiro código é imprimir na tela a frase <mark class='mono_gray'>Hello, World!</mark>. Aqui não será um pouco diferente, nosso primeiro código em <mark class='mono_gray'>Python</mark> será imprimir uma outra frase na tela. Para isso, clique na célula abaixo com o código escrito e aperte <mark class='mono_gray'>shift+enter</mark>.\n",
    "</p>"
   ]
  },
  {
   "cell_type": "code",
   "execution_count": 1,
   "metadata": {
    "ExecuteTime": {
     "end_time": "2020-06-15T15:48:51.152147Z",
     "start_time": "2020-06-15T15:48:51.149963Z"
    }
   },
   "outputs": [
    {
     "name": "stdout",
     "output_type": "stream",
     "text": [
      "Quero café!\n"
     ]
    }
   ],
   "source": [
    "print('Quero café!')"
   ]
  },
  {
   "cell_type": "markdown",
   "metadata": {},
   "source": [
    "<p class='justified'>\n",
    "    Pronto, você executou seu primeiro (de muitos) códigos em <mark class='mono_gray'>Python</mark>. Você também pode executar uma célula selecionando-a e clicando, na barra acima, no botão <mark class='mono_gray'>run</mark>, que possui uma flecha para direita e uma barra vertical.\n",
    "</p>"
   ]
  },
  {
   "cell_type": "markdown",
   "metadata": {},
   "source": [
    "<p class='justified'>\n",
    "    A função <mark class='mono_gray'>print()</mark> serve para imprimir valores na tela. Veja que passamos um argumento para ela, a frase <mark class='mono_gray'>'Hello, world!'</mark>. Toda palavra ou frase que queremos que seja imprimida na tela, deve ser colocada entre aspas simples ou dupla:\n",
    "</p>"
   ]
  },
  {
   "cell_type": "code",
   "execution_count": 2,
   "metadata": {
    "ExecuteTime": {
     "end_time": "2020-06-15T15:48:51.800376Z",
     "start_time": "2020-06-15T15:48:51.798420Z"
    }
   },
   "outputs": [
    {
     "name": "stdout",
     "output_type": "stream",
     "text": [
      "Essa é uma frase com aspas simples.\n",
      "Essa é uma frase com aspas duplas.\n"
     ]
    }
   ],
   "source": [
    "print('Essa é uma frase com aspas simples.')\n",
    "print(\"Essa é uma frase com aspas duplas.\")"
   ]
  },
  {
   "cell_type": "markdown",
   "metadata": {},
   "source": [
    "<p class='justified'>\n",
    "Podemos digitar mais de um comando para ser executado em uma única célula, como foi acima, em que duas funções <mark class='mono_gray'>print()</mark> foram executadas com sentenças diferentes. Podemos também imprimir números:\n",
    "</p>"
   ]
  },
  {
   "cell_type": "code",
   "execution_count": 3,
   "metadata": {
    "ExecuteTime": {
     "end_time": "2020-06-15T15:48:52.098149Z",
     "start_time": "2020-06-15T15:48:52.096119Z"
    }
   },
   "outputs": [
    {
     "name": "stdout",
     "output_type": "stream",
     "text": [
      "3\n"
     ]
    }
   ],
   "source": [
    "print(3)"
   ]
  },
  {
   "cell_type": "markdown",
   "metadata": {},
   "source": [
    "<p class='justified'>\n",
    "    Veja que para imprimir o valor<mark class='mono_gray'>3</mark>, não usamos nenhum tipo de aspas. Isso ocorre porquê a própria função faz a conversão do valor numérico para palavra. Contudo, se tentarmos imprimir uma frase sem o uso de aspas, nos deparamos com um erro:\n",
    "</p>"
   ]
  },
  {
   "cell_type": "code",
   "execution_count": 4,
   "metadata": {
    "ExecuteTime": {
     "end_time": "2020-06-15T15:48:52.396060Z",
     "start_time": "2020-06-15T15:48:52.393702Z"
    }
   },
   "outputs": [
    {
     "ename": "SyntaxError",
     "evalue": "invalid syntax (<ipython-input-4-58cb5da3b684>, line 1)",
     "output_type": "error",
     "traceback": [
      "\u001b[0;36m  File \u001b[0;32m\"<ipython-input-4-58cb5da3b684>\"\u001b[0;36m, line \u001b[0;32m1\u001b[0m\n\u001b[0;31m    print(Tentando imprimir uma frase sem aspas)\u001b[0m\n\u001b[0m                          ^\u001b[0m\n\u001b[0;31mSyntaxError\u001b[0m\u001b[0;31m:\u001b[0m invalid syntax\n"
     ]
    }
   ],
   "source": [
    "print(Tentando imprimir uma frase sem aspas)"
   ]
  },
  {
   "cell_type": "markdown",
   "metadata": {},
   "source": [
    "<p class='justified'>\n",
    "    O erro acima <mark class='mono_gray'>SyntaxError</mark>, nos diz que usamos a linguagem de programação de maneira inválida.\n",
    "</p>"
   ]
  },
  {
   "cell_type": "markdown",
   "metadata": {},
   "source": [
    "<p class='justified'>\n",
    "    Contudo, no âmbito do <mark class='mono_gray'>Jupyter Notebook</mark>, se quisermos imprimir algo na tela, não precisamos usar a função <mark class='mono_gray'>print()</mark>:\n",
    "</p>"
   ]
  },
  {
   "cell_type": "code",
   "execution_count": 5,
   "metadata": {
    "ExecuteTime": {
     "end_time": "2020-06-15T15:48:52.992350Z",
     "start_time": "2020-06-15T15:48:52.986265Z"
    }
   },
   "outputs": [
    {
     "data": {
      "text/plain": [
       "'Essa frase será imrpimida sem o uso da função print().'"
      ]
     },
     "execution_count": 5,
     "metadata": {},
     "output_type": "execute_result"
    }
   ],
   "source": [
    "\"Essa frase será imrpimida sem o uso da função print().\""
   ]
  },
  {
   "cell_type": "markdown",
   "metadata": {},
   "source": [
    "<p class='justified'>\n",
    "Porém, se tentarmos imprimir várias frases em sequência, veja o que acontece:\n",
    "</p>"
   ]
  },
  {
   "cell_type": "code",
   "execution_count": 6,
   "metadata": {
    "ExecuteTime": {
     "end_time": "2020-06-15T15:48:53.287708Z",
     "start_time": "2020-06-15T15:48:53.285066Z"
    }
   },
   "outputs": [
    {
     "data": {
      "text/plain": [
       "'E essa é a última!'"
      ]
     },
     "execution_count": 6,
     "metadata": {},
     "output_type": "execute_result"
    }
   ],
   "source": [
    "\"Essa é a primeira frase.\"\n",
    "\"E essa é a última!\""
   ]
  },
  {
   "cell_type": "markdown",
   "metadata": {},
   "source": [
    "<p class='justified'>\n",
    "Somente a última sentença é mostrada.\n",
    "</p>\n",
    "\n",
    "<p class='justified'>\n",
    "Agora que já vimos como executar as células com códigos, tente você fazer alguns testes!\n",
    "</p>"
   ]
  },
  {
   "cell_type": "markdown",
   "metadata": {},
   "source": [
    "<p class='justified'>\n",
    "Digite na célula abaixo o código para imprimir a sentença: <b>Essa é a primeira aula do curso mais legal que eu já fiz!</b>\n",
    "</p>"
   ]
  },
  {
   "cell_type": "code",
   "execution_count": 7,
   "metadata": {
    "ExecuteTime": {
     "end_time": "2020-06-15T15:48:53.879508Z",
     "start_time": "2020-06-15T15:48:53.877768Z"
    }
   },
   "outputs": [],
   "source": [
    "# digite seu código aqui\n"
   ]
  },
  {
   "cell_type": "markdown",
   "metadata": {},
   "source": [
    "<p class='justified'>\n",
    "Não conseguiu? <b>Clique duas vezes aqui</b> e dê uma espiada na resposta 😁\n",
    "</p>\n",
    "<!--\n",
    "Resposta:\n",
    "---------\n",
    "print(\"Essa é a primeira aula do curso mais legal que eu já fiz!\")\n",
    "-->"
   ]
  },
  {
   "cell_type": "markdown",
   "metadata": {},
   "source": [
    "<p class='justified'>\n",
    "Tente imprimir algumas palavras na tela, sentenças ou números. Veja como criar novas células para escrever seu código voltando <a href='#create_new_cell'>nessa célula</a>.\n",
    "</p>"
   ]
  },
  {
   "cell_type": "markdown",
   "metadata": {},
   "source": [
    "<p class='justified'>\n",
    "Um procedimento considerado boa prática em programação é comentar o código. Comentários servem para explicar o que seu código faz. Essas informações são úteis para que outras pessoas entenderem o que seu programa faz e como ele faz. Além disso, ele ajuda você mesmo a lembrar o que você fez e o porquê de ter feito daquela forma. \n",
    "</p>\n",
    "\n",
    "<p class='justified'>\n",
    "    Em <mark class='mono_gray'>Python</mark>, comentários podem ser criados usando o caracter <mark class='mono_gray'>#</mark>. Veja na célula abaixo um exemplo:\n",
    "</p>"
   ]
  },
  {
   "cell_type": "code",
   "execution_count": 1,
   "metadata": {
    "ExecuteTime": {
     "end_time": "2020-06-23T13:37:48.557113Z",
     "start_time": "2020-06-23T13:37:48.554569Z"
    }
   },
   "outputs": [
    {
     "name": "stdout",
     "output_type": "stream",
     "text": [
      "Essa frase será impressa na tela.\n"
     ]
    }
   ],
   "source": [
    "# vamos escrever alguns comentários para exemplificar o código\n",
    "# vamos imprimir uma frase na tela\n",
    "print(\"Essa frase será impressa na tela.\")\n",
    "# print(\"Essa frase não será imprimida na tela.\")"
   ]
  },
  {
   "cell_type": "code",
   "execution_count": 9,
   "metadata": {
    "ExecuteTime": {
     "end_time": "2020-06-15T15:48:54.843221Z",
     "start_time": "2020-06-15T15:48:54.839908Z"
    }
   },
   "outputs": [],
   "source": [
    "# execute essa célula para constatar que nada acontecerá\n",
    "# print(\"Nada acontecerá\")"
   ]
  },
  {
   "cell_type": "markdown",
   "metadata": {},
   "source": [
    "# Os tipos de variáveis"
   ]
  },
  {
   "cell_type": "markdown",
   "metadata": {},
   "source": [
    "<p class='justified'>\n",
    "Em <mark class='mono_gray'>Python</mark>, assim como em outras linguagens, existe uma distinção no <mark class='mono_gray'>tipo</mark> ou <mark class='mono_gray'>classe</mark> das variáveis que estamos lidando. Nos exemplos anteriores vimos como gerar uma frase e que para isso, devemos usar as aspas simples ou duplas. Isso se deve ao fato de que em <mark class='mono_gray'>Python</mark>, uma <mark class='mono_gray'>string</mark> é definida dessa forma. Uma <mark class='mono_gray'>string</mark> é uma combinação de caracteres que pode ser impresso. Quando tentamos usar um <mark class='mono_gray'>número inteiro</mark> dentro da função <mark class='mono_gray'>print()</mark>, vimos que o resultado foi a impressão desse número abaixo da célula. Isso se deve ao fato da função <mark class='mono_gray'>print()</mark> converter esse número inteiro, que é do tipo <mark class='mono_gray'>int</mark> para uma <mark class='mono_gray'>string</mark>. Podemos sempre saber o tipo de uma variável usando a função <mark class='mono_gray'>type()</mark> passando como argumento a variável que queremos descobrir o tipo. Vamos ver alguns exemplos.\n",
    "\n",
    "</p>"
   ]
  },
  {
   "cell_type": "markdown",
   "metadata": {},
   "source": [
    "<p class='justified'>\n",
    "    Se \"perguntarmos\" qual é o <mark class='mono_gray'>tipo</mark> da variável 'Hello, world!', a função <mark class='mono_gray'>type()</mark> nos retornará o valor <mark class='mono_gray'>str</mark>:\n",
    "</p>"
   ]
  },
  {
   "cell_type": "code",
   "execution_count": 10,
   "metadata": {
    "ExecuteTime": {
     "end_time": "2020-06-15T15:48:55.732186Z",
     "start_time": "2020-06-15T15:48:55.729426Z"
    }
   },
   "outputs": [
    {
     "data": {
      "text/plain": [
       "str"
      ]
     },
     "execution_count": 10,
     "metadata": {},
     "output_type": "execute_result"
    }
   ],
   "source": [
    "type('Hello, world!')"
   ]
  },
  {
   "cell_type": "markdown",
   "metadata": {},
   "source": [
    "<p class='justified'>\n",
    "    Isso quer dizer que a variável é do <mark class='mono_gray'>tipo</mark> ou pertence à <mark class='mono_gray'>classe</mark> <mark class='mono_gray'>string</mark>, ou, de maneira abreviada, <mark class='mono_gray'>str</mark>. Se passarmos um <mark class='mono_gray'>número inteiro</mark> como argumento, veremos que a função <mark class='mono_gray'>type()</mark> retornará o valor <mark class='mono_gray'>int</mark>:\n",
    "</p>"
   ]
  },
  {
   "cell_type": "code",
   "execution_count": 11,
   "metadata": {
    "ExecuteTime": {
     "end_time": "2020-06-15T15:48:56.036225Z",
     "start_time": "2020-06-15T15:48:56.033604Z"
    }
   },
   "outputs": [
    {
     "data": {
      "text/plain": [
       "int"
      ]
     },
     "execution_count": 11,
     "metadata": {},
     "output_type": "execute_result"
    }
   ],
   "source": [
    "type(3)"
   ]
  },
  {
   "cell_type": "markdown",
   "metadata": {},
   "source": [
    "<p class='justified'>\n",
    "Em matemática aprendemos conjuntos numéricos, em que os número inteiros (1, 2, 3, $\\dots$) percentem ao conjunto dos números naturais ($\\mathbb{N}$). Já os números que podem ser representados como frações $p/q$ em que $p$ e $q$ são números inteiros, como $0{,}92$, $1/4$, $0.33333$ fazem parte dos números racionais ($\\mathbb{Q}$). Em <mark class='mono_gray'>Python</mark>, tais número também são diferentes. Enquanto o primeiro conjunto é do tipo <mark class='mono_gray'>int</mark>, o segundo é do tipo <mark class='mono_gray'>float</mark>:\n",
    "</p>"
   ]
  },
  {
   "cell_type": "code",
   "execution_count": 12,
   "metadata": {
    "ExecuteTime": {
     "end_time": "2020-06-15T15:48:56.333122Z",
     "start_time": "2020-06-15T15:48:56.329895Z"
    }
   },
   "outputs": [
    {
     "data": {
      "text/plain": [
       "float"
      ]
     },
     "execution_count": 12,
     "metadata": {},
     "output_type": "execute_result"
    }
   ],
   "source": [
    "type(0.92)"
   ]
  },
  {
   "cell_type": "code",
   "execution_count": 13,
   "metadata": {
    "ExecuteTime": {
     "end_time": "2020-06-15T15:48:56.339985Z",
     "start_time": "2020-06-15T15:48:56.336777Z"
    }
   },
   "outputs": [
    {
     "data": {
      "text/plain": [
       "float"
      ]
     },
     "execution_count": 13,
     "metadata": {},
     "output_type": "execute_result"
    }
   ],
   "source": [
    "type(1/4)"
   ]
  },
  {
   "cell_type": "code",
   "execution_count": 14,
   "metadata": {
    "ExecuteTime": {
     "end_time": "2020-06-15T15:48:56.345683Z",
     "start_time": "2020-06-15T15:48:56.343103Z"
    }
   },
   "outputs": [
    {
     "data": {
      "text/plain": [
       "float"
      ]
     },
     "execution_count": 14,
     "metadata": {},
     "output_type": "execute_result"
    }
   ],
   "source": [
    "type(0.33333)"
   ]
  },
  {
   "cell_type": "markdown",
   "metadata": {},
   "source": [
    "<p class='justified'>\n",
    "Mesmo os número que são irracionais, isto é, dizimas infinitas sem repetição, como $\\pi = 3{,}141592653589793\\dots$, também são considerados como <mark class='mono_gray'>float</mark>:\n",
    "</p>"
   ]
  },
  {
   "cell_type": "code",
   "execution_count": 15,
   "metadata": {
    "ExecuteTime": {
     "end_time": "2020-06-15T15:48:56.650162Z",
     "start_time": "2020-06-15T15:48:56.647405Z"
    }
   },
   "outputs": [
    {
     "data": {
      "text/plain": [
       "float"
      ]
     },
     "execution_count": 15,
     "metadata": {},
     "output_type": "execute_result"
    }
   ],
   "source": [
    "type(3.141592653589793)"
   ]
  },
  {
   "cell_type": "markdown",
   "metadata": {},
   "source": [
    "<p class='justified'>\n",
    "As funções também possuem um <mark class='mono_gray'>tipo</mark> específico:\n",
    "</p>"
   ]
  },
  {
   "cell_type": "code",
   "execution_count": 16,
   "metadata": {
    "ExecuteTime": {
     "end_time": "2020-06-15T15:48:56.953054Z",
     "start_time": "2020-06-15T15:48:56.949717Z"
    }
   },
   "outputs": [
    {
     "data": {
      "text/plain": [
       "builtin_function_or_method"
      ]
     },
     "execution_count": 16,
     "metadata": {},
     "output_type": "execute_result"
    }
   ],
   "source": [
    "type(print)"
   ]
  },
  {
   "cell_type": "markdown",
   "metadata": {
    "ExecuteTime": {
     "end_time": "2020-06-02T21:15:14.472247Z",
     "start_time": "2020-06-02T21:15:14.470389Z"
    }
   },
   "source": [
    "<a class='cell' id='func_and_method_1'></a>\n",
    "<p class='justified'>\n",
    "    Esse tipo nos diz que <mark class='mono_gray'>print</mark> é uma <mark class='mono_gray'>função</mark> ou <mark class='mono_gray'>método</mark> inata do <mark class='mono_gray'>python</mark>, ou seja, não é necessário importá-la a partir de um pacote separado para usá-la. Mais a frente, veremos que existe uma diferença sútil entre <mark class='mono_gray'>função</mark> e <mark class='mono_gray'>método</mark>.\n",
    "</p>"
   ]
  },
  {
   "cell_type": "markdown",
   "metadata": {},
   "source": [
    "<a class='cell' id='bool_explanation'></a>\n",
    "<p class='justified'>\n",
    "Um outro tipo muito importante de variável em qualquer tipo de linguagem de programação é a variável do tipo <mark class='mono_gray'>boolean</mark>. Temos somente duas variáveis desse tipo: <mark class='mono_gray'>True</mark> e <mark class='mono_gray'>False</mark>, que também podem ser representadas pelas número <mark class='mono_gray'>1</mark> e <mark class='mono_gray'>0</mark>, respectivamente. Elas são usadas em operações lógicas para nos dizer se algo é <mark class='mono_gray'>Verdadeiro (True)</mark> ou <mark class='mono_gray'>Falso (False)</mark> e então qual decisão deve ser tomada.\n",
    "</p>"
   ]
  },
  {
   "cell_type": "code",
   "execution_count": 17,
   "metadata": {
    "ExecuteTime": {
     "end_time": "2020-06-15T15:48:57.553990Z",
     "start_time": "2020-06-15T15:48:57.551389Z"
    }
   },
   "outputs": [
    {
     "data": {
      "text/plain": [
       "bool"
      ]
     },
     "execution_count": 17,
     "metadata": {},
     "output_type": "execute_result"
    }
   ],
   "source": [
    "type(True)"
   ]
  },
  {
   "cell_type": "code",
   "execution_count": 18,
   "metadata": {
    "ExecuteTime": {
     "end_time": "2020-06-15T15:48:57.560858Z",
     "start_time": "2020-06-15T15:48:57.557868Z"
    }
   },
   "outputs": [
    {
     "data": {
      "text/plain": [
       "bool"
      ]
     },
     "execution_count": 18,
     "metadata": {},
     "output_type": "execute_result"
    }
   ],
   "source": [
    "type(False)"
   ]
  },
  {
   "cell_type": "markdown",
   "metadata": {},
   "source": [
    "<p class='justified'>\n",
    "Veja que a linguagem python tende a abreviar os termos, como vimos no caso de <mark class='mono_gray'>str</mark> para <mark class='mono_gray'>string</mark> e <mark class='mono_gray'>bool</mark> para <mark class='mono_gray'>boolean</mark>.\n",
    "</p>\n",
    "\n",
    "<p class='justified'>\n",
    "Conformes for avançando, veremos mais alguns tipos de variáveis.\n",
    "</p>"
   ]
  },
  {
   "cell_type": "markdown",
   "metadata": {},
   "source": [
    "<a class='section' id='operacoes_matematicas'></a>\n",
    "# Operações matemáticas"
   ]
  },
  {
   "cell_type": "markdown",
   "metadata": {},
   "source": [
    "<p class='justified'>\n",
    "    Em <mark class='mono_gray'>Python</mark> é muito fácil executar operações matemáticas. As operações matemáticas mais básicas como <mark class='mono_gray'>adição</mark>, <mark class='mono_gray'>subtração</mark>, <mark class='mono_gray'>multiplicação</mark>, <mark class='mono_gray'>divisão</mark> e <mark class='mono_gray'>potenciação/exponenciação</mark> são efetuadas da seguinte forma:\n",
    "</p>"
   ]
  },
  {
   "cell_type": "markdown",
   "metadata": {},
   "source": [
    "- Adição\n",
    "```python\n",
    ">>> 2+2\n",
    "4\n",
    "```\n",
    "- Subtração\n",
    "```python\n",
    ">>> 5-2\n",
    "3\n",
    "```\n",
    "- Multiplicação\n",
    "```python\n",
    ">>> 2*3\n",
    "6\n",
    "```\n",
    "- Divisão\n",
    "```python\n",
    ">>> 10/2\n",
    "5.0\n",
    "```\n",
    "- Potenciação/exponenciação\n",
    "```python\n",
    ">>> 2**3\n",
    "8\n",
    "```\n",
    "\n",
    "<p class='justified'>\n",
    "    O símbolo <mark class='mono_gray'>>>></mark> indica um código que será executado e na linha abaixo o que foi retornado como resultado.\n",
    "</p>\n",
    "\n",
    "<p class='justified'>\n",
    "Vamos executar algumas dessas operações a seguir.\n",
    "</p>"
   ]
  },
  {
   "cell_type": "code",
   "execution_count": 19,
   "metadata": {
    "ExecuteTime": {
     "end_time": "2020-06-15T15:48:58.773742Z",
     "start_time": "2020-06-15T15:48:58.771231Z"
    }
   },
   "outputs": [
    {
     "data": {
      "text/plain": [
       "4"
      ]
     },
     "execution_count": 19,
     "metadata": {},
     "output_type": "execute_result"
    }
   ],
   "source": [
    "2+2"
   ]
  },
  {
   "cell_type": "code",
   "execution_count": 20,
   "metadata": {
    "ExecuteTime": {
     "end_time": "2020-06-15T15:48:58.781410Z",
     "start_time": "2020-06-15T15:48:58.777037Z"
    }
   },
   "outputs": [
    {
     "data": {
      "text/plain": [
       "3"
      ]
     },
     "execution_count": 20,
     "metadata": {},
     "output_type": "execute_result"
    }
   ],
   "source": [
    "5-2"
   ]
  },
  {
   "cell_type": "code",
   "execution_count": 21,
   "metadata": {
    "ExecuteTime": {
     "end_time": "2020-06-15T15:48:58.786354Z",
     "start_time": "2020-06-15T15:48:58.783724Z"
    }
   },
   "outputs": [
    {
     "data": {
      "text/plain": [
       "6"
      ]
     },
     "execution_count": 21,
     "metadata": {},
     "output_type": "execute_result"
    }
   ],
   "source": [
    "2*3"
   ]
  },
  {
   "cell_type": "code",
   "execution_count": 22,
   "metadata": {
    "ExecuteTime": {
     "end_time": "2020-06-15T15:48:58.792652Z",
     "start_time": "2020-06-15T15:48:58.789797Z"
    }
   },
   "outputs": [
    {
     "data": {
      "text/plain": [
       "5.0"
      ]
     },
     "execution_count": 22,
     "metadata": {},
     "output_type": "execute_result"
    }
   ],
   "source": [
    "10/2"
   ]
  },
  {
   "cell_type": "code",
   "execution_count": 23,
   "metadata": {
    "ExecuteTime": {
     "end_time": "2020-06-15T15:48:58.798892Z",
     "start_time": "2020-06-15T15:48:58.796384Z"
    }
   },
   "outputs": [
    {
     "data": {
      "text/plain": [
       "8"
      ]
     },
     "execution_count": 23,
     "metadata": {},
     "output_type": "execute_result"
    }
   ],
   "source": [
    "2**3"
   ]
  },
  {
   "cell_type": "markdown",
   "metadata": {},
   "source": [
    "<p class='justified'>\n",
    "Tente você fazer algumas operações.\n",
    "</p>"
   ]
  },
  {
   "cell_type": "code",
   "execution_count": 24,
   "metadata": {
    "ExecuteTime": {
     "end_time": "2020-06-15T15:48:59.104433Z",
     "start_time": "2020-06-15T15:48:59.102694Z"
    }
   },
   "outputs": [],
   "source": [
    "# efetue suas operações aqui. Não se esqueça de aperta shift+enter para executar o código escrito na célula.\n"
   ]
  },
  {
   "cell_type": "markdown",
   "metadata": {},
   "source": [
    "<p class='justified'>\n",
    "Existem outros tipos de operações que as vezes são úteis. A primeira delas é chamada de <mark class='mono_gray'>módulo</mark> e simbolizada pelo operador <mark class='mono_gray'>%</mark>. Ele funciona como uma divisão, nos retornando o valor inteiro que resta da divisão:\n",
    "</p>\n",
    "\n",
    "```python\n",
    " 7%2 = 1 # o número 2 cabe três vezes inteiras em  5 e sobra 1\n",
    "10%4 = 2 # o número 4 cabe duas vezes inteiras em 10 e sobra 2\n",
    "```\n",
    "\n",
    "<p class='justified'>\n",
    "Confira nas células a seguir!\n",
    "</p>"
   ]
  },
  {
   "cell_type": "code",
   "execution_count": 25,
   "metadata": {
    "ExecuteTime": {
     "end_time": "2020-06-15T15:48:59.417108Z",
     "start_time": "2020-06-15T15:48:59.414664Z"
    }
   },
   "outputs": [
    {
     "data": {
      "text/plain": [
       "6"
      ]
     },
     "execution_count": 25,
     "metadata": {},
     "output_type": "execute_result"
    }
   ],
   "source": [
    "13%7"
   ]
  },
  {
   "cell_type": "code",
   "execution_count": 26,
   "metadata": {
    "ExecuteTime": {
     "end_time": "2020-06-15T15:48:59.422897Z",
     "start_time": "2020-06-15T15:48:59.420508Z"
    }
   },
   "outputs": [
    {
     "data": {
      "text/plain": [
       "3"
      ]
     },
     "execution_count": 26,
     "metadata": {},
     "output_type": "execute_result"
    }
   ],
   "source": [
    "19%4"
   ]
  },
  {
   "cell_type": "code",
   "execution_count": 27,
   "metadata": {
    "ExecuteTime": {
     "end_time": "2020-06-15T15:48:59.430626Z",
     "start_time": "2020-06-15T15:48:59.428205Z"
    }
   },
   "outputs": [
    {
     "data": {
      "text/plain": [
       "1.5"
      ]
     },
     "execution_count": 27,
     "metadata": {},
     "output_type": "execute_result"
    }
   ],
   "source": [
    "3.5%2"
   ]
  },
  {
   "cell_type": "markdown",
   "metadata": {},
   "source": [
    "<p class='justified'>\n",
    "    A segunda operação é simbolizada pelo operador <mark class='mono_gray'>//</mark>. Ele também funciona como uma divisão, contudo, ele nos retorna o resultado inteiro da divisão:\n",
    "</p>\n",
    "\n",
    "```python\n",
    "10//3 = 3 # o número 3 cabe três vezes inteiro em 10\n",
    "14//6 = 2 # o número 6 cabe duas vezes inteiro em 14\n",
    "```\n",
    "\n",
    "<p class='justified'>\n",
    "Confira mais exemplos nas células seguintes!\n",
    "</p>"
   ]
  },
  {
   "cell_type": "code",
   "execution_count": 28,
   "metadata": {
    "ExecuteTime": {
     "end_time": "2020-06-15T15:48:59.740912Z",
     "start_time": "2020-06-15T15:48:59.738376Z"
    }
   },
   "outputs": [
    {
     "data": {
      "text/plain": [
       "16"
      ]
     },
     "execution_count": 28,
     "metadata": {},
     "output_type": "execute_result"
    }
   ],
   "source": [
    "33//2"
   ]
  },
  {
   "cell_type": "code",
   "execution_count": 29,
   "metadata": {
    "ExecuteTime": {
     "end_time": "2020-06-15T15:48:59.748162Z",
     "start_time": "2020-06-15T15:48:59.745819Z"
    }
   },
   "outputs": [
    {
     "data": {
      "text/plain": [
       "17.0"
      ]
     },
     "execution_count": 29,
     "metadata": {},
     "output_type": "execute_result"
    }
   ],
   "source": [
    "5.2//0.3"
   ]
  },
  {
   "cell_type": "markdown",
   "metadata": {},
   "source": [
    "<a class='cell' id='pwr_for_sqrt'></a>\n",
    "<p class='justified'>\n",
    "E a raíz quadrada? A raíz cúbica? Para efetuar essas operações precisamos reescrever a potência em termos de uma fração, ou seja, \n",
    "</p>\n",
    "\n",
    "$$\n",
    "\\begin{split}\n",
    "    \\sqrt{x}    &= x^{1/2}\\\\\n",
    "    \\sqrt[3]{x} &= x^{1/3}\\\\\n",
    "                &\\ \\,\\vdots\\\\\n",
    "    \\sqrt[n]{x} &= x^{1/n}\n",
    "\\end{split}\n",
    "$$\n",
    "\n",
    "<p class='justified'>\n",
    "Vamos conferir alguns exemplos:\n",
    "</p>\n",
    "\n",
    "```python\n",
    ">>> 16**(1/2)\n",
    "4.0\n",
    ">>> 27**(1/3)\n",
    "3.0\n",
    ">>> 1024**(1/10)\n",
    "2.0\n",
    "```"
   ]
  },
  {
   "cell_type": "markdown",
   "metadata": {
    "ExecuteTime": {
     "end_time": "2020-06-04T21:56:06.354411Z",
     "start_time": "2020-06-04T21:56:06.351049Z"
    }
   },
   "source": [
    "<p class='justified'>\n",
    "Tente você, efetue as seguintes raízes:\n",
    "</p>\n",
    "\n",
    "- a. $\\sqrt{81}$;\n",
    "- b. $\\sqrt[3]{81}$;\n",
    "- c. $256^{1/4}$;"
   ]
  },
  {
   "cell_type": "code",
   "execution_count": null,
   "metadata": {},
   "outputs": [],
   "source": []
  },
  {
   "cell_type": "code",
   "execution_count": null,
   "metadata": {},
   "outputs": [],
   "source": []
  },
  {
   "cell_type": "code",
   "execution_count": null,
   "metadata": {},
   "outputs": [],
   "source": []
  },
  {
   "cell_type": "markdown",
   "metadata": {},
   "source": [
    "<p class='justified'>\n",
    "    Não conseguiu? <b>Clique duas vezes aqui</b> e dê uma espiada na resposta 😁\n",
    "</p>\n",
    "\n",
    "<!--\n",
    "a. \n",
    ">>> 81**(1/2)\n",
    "9.0\n",
    "\n",
    "b.\n",
    ">>> 81**(1/3)\n",
    "3.0\n",
    "\n",
    "c.\n",
    ">>> 256**(1/4)\n",
    "4.0\n",
    "-->"
   ]
  },
  {
   "cell_type": "markdown",
   "metadata": {},
   "source": [
    "<p class='justified'>\n",
    "Outro detalhe que devemos nos atentar é na questão aritmética na ordem das operações que devem ser realizadas. Devemos respeitar a seguinte ordem:\n",
    "</p>\n",
    "\n",
    "- Parênteses\n",
    "- Expoentes\n",
    "- Multiplicações e divisões\n",
    "- Adição e subtrações\n",
    "\n",
    "<p class='justified'>\n",
    "Por exemplo:\n",
    "</p>\n",
    "\n",
    "$$\n",
    "    \\left(1+2\\right) \\times 3^3 = \\left( 3 \\right) \\times 3^3 = \\left( 3 \\right) \\times 27 = 81.\n",
    "$$\n",
    "\n",
    "$$\n",
    "    \\left(2{,}5 + \\frac{7}{2} \\right)^2 \\times 3 + 3 + \\frac{3^3}{3} = \\left(2{,}5 + 3{,}5 \\right)^2 \\times 3 + 3 + \\frac{27}{3} = \\left( 6 \\right)^2 \\times 3 + 3 + 9 = 36 \\times 3 + 12 = 108 + 12 = 120.\n",
    "$$\n",
    "\n",
    "<p class='justified'>\n",
    "Quando escrevemos um código para descrever uma operação aritmética devemos levar em consideração a ordem correta. Vamos reescrever essas duas expressões na célula seguinte e executá-la.\n",
    "</p>"
   ]
  },
  {
   "cell_type": "code",
   "execution_count": 30,
   "metadata": {
    "ExecuteTime": {
     "end_time": "2020-06-15T15:49:00.974169Z",
     "start_time": "2020-06-15T15:49:00.971506Z"
    }
   },
   "outputs": [
    {
     "data": {
      "text/plain": [
       "81"
      ]
     },
     "execution_count": 30,
     "metadata": {},
     "output_type": "execute_result"
    }
   ],
   "source": [
    "( 1 + 2 )*3**3"
   ]
  },
  {
   "cell_type": "markdown",
   "metadata": {},
   "source": [
    "<p class='justified'>\n",
    "Apesar do código anterior nos fornecer o resultado correto, as vezes é melhor separarmos os termos por parênteses para uma melhor leitura do código:\n",
    "</p>"
   ]
  },
  {
   "cell_type": "code",
   "execution_count": 31,
   "metadata": {
    "ExecuteTime": {
     "end_time": "2020-06-15T15:49:01.273640Z",
     "start_time": "2020-06-15T15:49:01.271026Z"
    }
   },
   "outputs": [
    {
     "data": {
      "text/plain": [
       "81"
      ]
     },
     "execution_count": 31,
     "metadata": {},
     "output_type": "execute_result"
    }
   ],
   "source": [
    "( 1 + 2 )*( 3**3 )"
   ]
  },
  {
   "cell_type": "markdown",
   "metadata": {},
   "source": [
    "A segunda operação ficaria, então, escrita como"
   ]
  },
  {
   "cell_type": "code",
   "execution_count": 32,
   "metadata": {
    "ExecuteTime": {
     "end_time": "2020-06-15T15:49:01.578178Z",
     "start_time": "2020-06-15T15:49:01.575204Z"
    }
   },
   "outputs": [
    {
     "data": {
      "text/plain": [
       "120.0"
      ]
     },
     "execution_count": 32,
     "metadata": {},
     "output_type": "execute_result"
    }
   ],
   "source": [
    "(( 2.5 + (7/2) )**2)*3 + 3 + (3**3)/3"
   ]
  },
  {
   "cell_type": "markdown",
   "metadata": {},
   "source": [
    "Tente você agora escrever o código para as seguintes operações:\n",
    "\n",
    "$$\n",
    "    3 \\times 4 + \\frac{8}{2} - 3^2\n",
    "$$\n",
    "\n",
    "$$\n",
    "    \\frac{2^3}{8} \\times \\left( 3^2 \\times 3 \\right) - 3\n",
    "$$\n",
    "\n",
    "$$\n",
    "    \\left(\\frac{2^4}{4} - 3 \\right)^3 + 9 \\times 2 - \\frac{\\left( 2^4 - 3^2 - 1\\right)^2}{3}\n",
    "$$"
   ]
  },
  {
   "cell_type": "markdown",
   "metadata": {},
   "source": [
    "<p class='justified'>\n",
    "    Não conseguiu? <b>Clique duas vezes aqui</b> e dê uma espiada na resposta 😁\n",
    "</p>\n",
    "\n",
    "<!--\n",
    "\n",
    ">>> ( 3*4 ) + (8/2) - 3**2\n",
    "7.0\n",
    "\n",
    ">>> ( ( 2**3 ) / 8 )*( (3**2)*3 ) - 3\n",
    "24.0\n",
    "\n",
    ">>> ( (( 2**4 )/4) - 3)**3 + (9*2) - ( ( (2**4) - (3**2) - 1)**2 )/3\n",
    "7.0\n",
    "-->"
   ]
  },
  {
   "cell_type": "markdown",
   "metadata": {},
   "source": [
    "<a class='section' id='operacoes_logicas'></a>\n",
    "# Operações lógicas"
   ]
  },
  {
   "cell_type": "markdown",
   "metadata": {},
   "source": [
    "Além dos operadores matemáticos, temos também operadores lógicos. Esses são usados com variáveis do tipo ``bool`` (``boolean``) sendo elas ``True`` e ``False`` para resultados verdadeiros e falsos, respectivamente. Essas duas variáveis podem ser comparadas usando alguns operadores. \n",
    "\n",
    "O primeiro que veremos é o operador ``and``, que também pode ser representado pelo símbolo ``&``. Veja como usamos eles com as variáveis ``bool``:\n",
    "\n",
    "```python\n",
    ">>> True and True\n",
    "True\n",
    "\n",
    ">>> True and False\n",
    "False\n",
    "\n",
    ">>> False and False\n",
    "False\n",
    "\n",
    "```\n",
    "\n",
    "Veja que o resultado da comparação desse operador retorna um valor lógico (``bool``). Esse valor é ``True`` se o primeiro valor ``e`` o segundo são verdadeiros. Se um deles, ou ambos, for falso então a operação retorna ``False``. Veja os códigos executados nas células abaixo."
   ]
  },
  {
   "cell_type": "code",
   "execution_count": 33,
   "metadata": {
    "ExecuteTime": {
     "end_time": "2020-06-15T15:49:02.774266Z",
     "start_time": "2020-06-15T15:49:02.771666Z"
    }
   },
   "outputs": [
    {
     "data": {
      "text/plain": [
       "True"
      ]
     },
     "execution_count": 33,
     "metadata": {},
     "output_type": "execute_result"
    }
   ],
   "source": [
    "True and True"
   ]
  },
  {
   "cell_type": "code",
   "execution_count": 34,
   "metadata": {
    "ExecuteTime": {
     "end_time": "2020-06-15T15:49:02.781857Z",
     "start_time": "2020-06-15T15:49:02.777638Z"
    }
   },
   "outputs": [
    {
     "data": {
      "text/plain": [
       "True"
      ]
     },
     "execution_count": 34,
     "metadata": {},
     "output_type": "execute_result"
    }
   ],
   "source": [
    "True & True"
   ]
  },
  {
   "cell_type": "code",
   "execution_count": 35,
   "metadata": {
    "ExecuteTime": {
     "end_time": "2020-06-15T15:49:02.786869Z",
     "start_time": "2020-06-15T15:49:02.784131Z"
    }
   },
   "outputs": [
    {
     "data": {
      "text/plain": [
       "False"
      ]
     },
     "execution_count": 35,
     "metadata": {},
     "output_type": "execute_result"
    }
   ],
   "source": [
    "True and False"
   ]
  },
  {
   "cell_type": "code",
   "execution_count": 36,
   "metadata": {
    "ExecuteTime": {
     "end_time": "2020-06-15T15:49:02.795199Z",
     "start_time": "2020-06-15T15:49:02.792029Z"
    }
   },
   "outputs": [
    {
     "data": {
      "text/plain": [
       "False"
      ]
     },
     "execution_count": 36,
     "metadata": {},
     "output_type": "execute_result"
    }
   ],
   "source": [
    "True & False"
   ]
  },
  {
   "cell_type": "code",
   "execution_count": 37,
   "metadata": {
    "ExecuteTime": {
     "end_time": "2020-06-15T15:49:02.801793Z",
     "start_time": "2020-06-15T15:49:02.798816Z"
    }
   },
   "outputs": [
    {
     "data": {
      "text/plain": [
       "False"
      ]
     },
     "execution_count": 37,
     "metadata": {},
     "output_type": "execute_result"
    }
   ],
   "source": [
    "False and False"
   ]
  },
  {
   "cell_type": "code",
   "execution_count": 38,
   "metadata": {
    "ExecuteTime": {
     "end_time": "2020-06-15T15:49:02.808112Z",
     "start_time": "2020-06-15T15:49:02.805643Z"
    }
   },
   "outputs": [
    {
     "data": {
      "text/plain": [
       "False"
      ]
     },
     "execution_count": 38,
     "metadata": {},
     "output_type": "execute_result"
    }
   ],
   "source": [
    "False & False"
   ]
  },
  {
   "cell_type": "markdown",
   "metadata": {},
   "source": [
    "Como mencionamos [anteriormente](#bool_explanation), os número ``1`` e ``0`` também funcionam como os operadores lógicos ``True`` e  ``False``, respectivamente. Veja nas células abaixo as comparações feitas:"
   ]
  },
  {
   "cell_type": "code",
   "execution_count": 39,
   "metadata": {
    "ExecuteTime": {
     "end_time": "2020-06-15T15:49:03.116529Z",
     "start_time": "2020-06-15T15:49:03.114026Z"
    }
   },
   "outputs": [
    {
     "data": {
      "text/plain": [
       "True"
      ]
     },
     "execution_count": 39,
     "metadata": {},
     "output_type": "execute_result"
    }
   ],
   "source": [
    "1 and True"
   ]
  },
  {
   "cell_type": "code",
   "execution_count": 40,
   "metadata": {
    "ExecuteTime": {
     "end_time": "2020-06-15T15:49:03.123001Z",
     "start_time": "2020-06-15T15:49:03.120442Z"
    }
   },
   "outputs": [
    {
     "data": {
      "text/plain": [
       "False"
      ]
     },
     "execution_count": 40,
     "metadata": {},
     "output_type": "execute_result"
    }
   ],
   "source": [
    "1 and False"
   ]
  },
  {
   "cell_type": "code",
   "execution_count": 41,
   "metadata": {
    "ExecuteTime": {
     "end_time": "2020-06-15T15:49:03.128911Z",
     "start_time": "2020-06-15T15:49:03.126384Z"
    }
   },
   "outputs": [
    {
     "data": {
      "text/plain": [
       "0"
      ]
     },
     "execution_count": 41,
     "metadata": {},
     "output_type": "execute_result"
    }
   ],
   "source": [
    "0 and True"
   ]
  },
  {
   "cell_type": "code",
   "execution_count": 42,
   "metadata": {
    "ExecuteTime": {
     "end_time": "2020-06-15T15:49:03.135220Z",
     "start_time": "2020-06-15T15:49:03.132623Z"
    }
   },
   "outputs": [
    {
     "data": {
      "text/plain": [
       "0"
      ]
     },
     "execution_count": 42,
     "metadata": {},
     "output_type": "execute_result"
    }
   ],
   "source": [
    "0 and False"
   ]
  },
  {
   "cell_type": "markdown",
   "metadata": {},
   "source": [
    "Na verdade, qualquer valor que não seja ``0`` retorna ``True``. Para mostrar isso, usaremos a função ``bool()``. Essa função permite avaliar qualquer tipo de valor, retornando se esse é ``True`` ou ``False``. "
   ]
  },
  {
   "cell_type": "code",
   "execution_count": 43,
   "metadata": {
    "ExecuteTime": {
     "end_time": "2020-06-15T15:49:03.440343Z",
     "start_time": "2020-06-15T15:49:03.437903Z"
    }
   },
   "outputs": [
    {
     "data": {
      "text/plain": [
       "True"
      ]
     },
     "execution_count": 43,
     "metadata": {},
     "output_type": "execute_result"
    }
   ],
   "source": [
    "bool(1)"
   ]
  },
  {
   "cell_type": "code",
   "execution_count": 44,
   "metadata": {
    "ExecuteTime": {
     "end_time": "2020-06-15T15:49:03.446237Z",
     "start_time": "2020-06-15T15:49:03.443750Z"
    }
   },
   "outputs": [
    {
     "data": {
      "text/plain": [
       "False"
      ]
     },
     "execution_count": 44,
     "metadata": {},
     "output_type": "execute_result"
    }
   ],
   "source": [
    "bool(0)"
   ]
  },
  {
   "cell_type": "code",
   "execution_count": 45,
   "metadata": {
    "ExecuteTime": {
     "end_time": "2020-06-15T15:49:03.452290Z",
     "start_time": "2020-06-15T15:49:03.449770Z"
    }
   },
   "outputs": [
    {
     "data": {
      "text/plain": [
       "True"
      ]
     },
     "execution_count": 45,
     "metadata": {},
     "output_type": "execute_result"
    }
   ],
   "source": [
    "bool('Café')"
   ]
  },
  {
   "cell_type": "code",
   "execution_count": 46,
   "metadata": {
    "ExecuteTime": {
     "end_time": "2020-06-15T15:49:03.458284Z",
     "start_time": "2020-06-15T15:49:03.455813Z"
    }
   },
   "outputs": [
    {
     "data": {
      "text/plain": [
       "True"
      ]
     },
     "execution_count": 46,
     "metadata": {},
     "output_type": "execute_result"
    }
   ],
   "source": [
    "bool(3)"
   ]
  },
  {
   "cell_type": "markdown",
   "metadata": {},
   "source": [
    "Veja que nas células acima o único argumento passado para a função ``bool`` que faz ela retornar ``False`` é o número ``0``. "
   ]
  },
  {
   "cell_type": "markdown",
   "metadata": {},
   "source": [
    "O outro operador lógico é o ``or`` (``ou``). Ele também pode ser representado pelo caracter ``|`` e é usado da mesma forma que o operador ``and``. Ele se difere no fato de que se uma das variáveis lógicas que estiverem sendo comparadas for ``True``, a operação retorna ``True``. Veja os exemplos:\n",
    "\n",
    "```python\n",
    ">>> True or True\n",
    "True\n",
    "\n",
    ">>> True or False\n",
    "True\n",
    "\n",
    ">>> False or False\n",
    "False\n",
    "\n",
    "```"
   ]
  },
  {
   "cell_type": "code",
   "execution_count": 47,
   "metadata": {
    "ExecuteTime": {
     "end_time": "2020-06-15T15:49:04.072014Z",
     "start_time": "2020-06-15T15:49:04.068854Z"
    }
   },
   "outputs": [
    {
     "data": {
      "text/plain": [
       "True"
      ]
     },
     "execution_count": 47,
     "metadata": {},
     "output_type": "execute_result"
    }
   ],
   "source": [
    "True or True"
   ]
  },
  {
   "cell_type": "code",
   "execution_count": 48,
   "metadata": {
    "ExecuteTime": {
     "end_time": "2020-06-15T15:49:04.078612Z",
     "start_time": "2020-06-15T15:49:04.075550Z"
    }
   },
   "outputs": [
    {
     "data": {
      "text/plain": [
       "True"
      ]
     },
     "execution_count": 48,
     "metadata": {},
     "output_type": "execute_result"
    }
   ],
   "source": [
    "True | True"
   ]
  },
  {
   "cell_type": "code",
   "execution_count": 49,
   "metadata": {
    "ExecuteTime": {
     "end_time": "2020-06-15T15:49:04.085324Z",
     "start_time": "2020-06-15T15:49:04.082466Z"
    }
   },
   "outputs": [
    {
     "data": {
      "text/plain": [
       "True"
      ]
     },
     "execution_count": 49,
     "metadata": {},
     "output_type": "execute_result"
    }
   ],
   "source": [
    "True or False"
   ]
  },
  {
   "cell_type": "code",
   "execution_count": 50,
   "metadata": {
    "ExecuteTime": {
     "end_time": "2020-06-15T15:49:04.092488Z",
     "start_time": "2020-06-15T15:49:04.089343Z"
    }
   },
   "outputs": [
    {
     "data": {
      "text/plain": [
       "True"
      ]
     },
     "execution_count": 50,
     "metadata": {},
     "output_type": "execute_result"
    }
   ],
   "source": [
    "True | False"
   ]
  },
  {
   "cell_type": "code",
   "execution_count": 51,
   "metadata": {
    "ExecuteTime": {
     "end_time": "2020-06-15T15:49:04.099026Z",
     "start_time": "2020-06-15T15:49:04.095950Z"
    }
   },
   "outputs": [
    {
     "data": {
      "text/plain": [
       "False"
      ]
     },
     "execution_count": 51,
     "metadata": {},
     "output_type": "execute_result"
    }
   ],
   "source": [
    "False or False"
   ]
  },
  {
   "cell_type": "code",
   "execution_count": 52,
   "metadata": {
    "ExecuteTime": {
     "end_time": "2020-06-15T15:49:04.105858Z",
     "start_time": "2020-06-15T15:49:04.102830Z"
    }
   },
   "outputs": [
    {
     "data": {
      "text/plain": [
       "False"
      ]
     },
     "execution_count": 52,
     "metadata": {},
     "output_type": "execute_result"
    }
   ],
   "source": [
    "False | False"
   ]
  },
  {
   "cell_type": "code",
   "execution_count": 53,
   "metadata": {
    "ExecuteTime": {
     "end_time": "2020-06-15T15:49:04.112604Z",
     "start_time": "2020-06-15T15:49:04.109635Z"
    }
   },
   "outputs": [
    {
     "data": {
      "text/plain": [
       "1"
      ]
     },
     "execution_count": 53,
     "metadata": {},
     "output_type": "execute_result"
    }
   ],
   "source": [
    "1 or True"
   ]
  },
  {
   "cell_type": "code",
   "execution_count": 54,
   "metadata": {
    "ExecuteTime": {
     "end_time": "2020-06-15T15:49:04.121900Z",
     "start_time": "2020-06-15T15:49:04.118828Z"
    }
   },
   "outputs": [
    {
     "data": {
      "text/plain": [
       "1"
      ]
     },
     "execution_count": 54,
     "metadata": {},
     "output_type": "execute_result"
    }
   ],
   "source": [
    "1 or False"
   ]
  },
  {
   "cell_type": "code",
   "execution_count": 55,
   "metadata": {
    "ExecuteTime": {
     "end_time": "2020-06-15T15:49:04.128577Z",
     "start_time": "2020-06-15T15:49:04.125618Z"
    }
   },
   "outputs": [
    {
     "data": {
      "text/plain": [
       "True"
      ]
     },
     "execution_count": 55,
     "metadata": {},
     "output_type": "execute_result"
    }
   ],
   "source": [
    "0 or True"
   ]
  },
  {
   "cell_type": "code",
   "execution_count": 56,
   "metadata": {
    "ExecuteTime": {
     "end_time": "2020-06-15T15:49:04.135379Z",
     "start_time": "2020-06-15T15:49:04.132340Z"
    }
   },
   "outputs": [
    {
     "data": {
      "text/plain": [
       "False"
      ]
     },
     "execution_count": 56,
     "metadata": {},
     "output_type": "execute_result"
    }
   ],
   "source": [
    "0 or False"
   ]
  },
  {
   "cell_type": "markdown",
   "metadata": {},
   "source": [
    "Por último, temos o operador ``not``. Ele funciona invertendo a afirmção lógica feita:\n",
    "\n",
    "```python\n",
    ">>> not True\n",
    "False\n",
    "\n",
    ">>> not False\n",
    "True\n",
    "```"
   ]
  },
  {
   "cell_type": "markdown",
   "metadata": {},
   "source": [
    "É como se estivéssimos multiplicando nosso operador por ``-1`` para inverter seu valor."
   ]
  },
  {
   "cell_type": "code",
   "execution_count": 57,
   "metadata": {
    "ExecuteTime": {
     "end_time": "2020-06-15T15:49:04.761982Z",
     "start_time": "2020-06-15T15:49:04.759556Z"
    }
   },
   "outputs": [
    {
     "data": {
      "text/plain": [
       "False"
      ]
     },
     "execution_count": 57,
     "metadata": {},
     "output_type": "execute_result"
    }
   ],
   "source": [
    "not True"
   ]
  },
  {
   "cell_type": "code",
   "execution_count": 58,
   "metadata": {
    "ExecuteTime": {
     "end_time": "2020-06-15T15:49:04.767543Z",
     "start_time": "2020-06-15T15:49:04.765228Z"
    }
   },
   "outputs": [
    {
     "data": {
      "text/plain": [
       "False"
      ]
     },
     "execution_count": 58,
     "metadata": {},
     "output_type": "execute_result"
    }
   ],
   "source": [
    "not 1"
   ]
  },
  {
   "cell_type": "code",
   "execution_count": 59,
   "metadata": {
    "ExecuteTime": {
     "end_time": "2020-06-15T15:49:04.773872Z",
     "start_time": "2020-06-15T15:49:04.771451Z"
    }
   },
   "outputs": [
    {
     "data": {
      "text/plain": [
       "True"
      ]
     },
     "execution_count": 59,
     "metadata": {},
     "output_type": "execute_result"
    }
   ],
   "source": [
    "not False"
   ]
  },
  {
   "cell_type": "code",
   "execution_count": 60,
   "metadata": {
    "ExecuteTime": {
     "end_time": "2020-06-15T15:49:04.779649Z",
     "start_time": "2020-06-15T15:49:04.777276Z"
    }
   },
   "outputs": [
    {
     "data": {
      "text/plain": [
       "True"
      ]
     },
     "execution_count": 60,
     "metadata": {},
     "output_type": "execute_result"
    }
   ],
   "source": [
    "not 0"
   ]
  },
  {
   "cell_type": "markdown",
   "metadata": {},
   "source": [
    "Essas operações podem combinadas, só precisamos lembrar que termos entre parênteses são efetuados primeiro:"
   ]
  },
  {
   "cell_type": "code",
   "execution_count": 61,
   "metadata": {
    "ExecuteTime": {
     "end_time": "2020-06-15T15:49:05.103821Z",
     "start_time": "2020-06-15T15:49:05.101092Z"
    }
   },
   "outputs": [
    {
     "data": {
      "text/plain": [
       "False"
      ]
     },
     "execution_count": 61,
     "metadata": {},
     "output_type": "execute_result"
    }
   ],
   "source": [
    "(not True) or False"
   ]
  },
  {
   "cell_type": "code",
   "execution_count": 62,
   "metadata": {
    "ExecuteTime": {
     "end_time": "2020-06-15T15:49:05.109840Z",
     "start_time": "2020-06-15T15:49:05.107107Z"
    }
   },
   "outputs": [
    {
     "data": {
      "text/plain": [
       "True"
      ]
     },
     "execution_count": 62,
     "metadata": {},
     "output_type": "execute_result"
    }
   ],
   "source": [
    "True and (not False)"
   ]
  },
  {
   "cell_type": "code",
   "execution_count": 63,
   "metadata": {
    "ExecuteTime": {
     "end_time": "2020-06-15T15:49:05.115504Z",
     "start_time": "2020-06-15T15:49:05.112892Z"
    }
   },
   "outputs": [
    {
     "data": {
      "text/plain": [
       "True"
      ]
     },
     "execution_count": 63,
     "metadata": {},
     "output_type": "execute_result"
    }
   ],
   "source": [
    "(True and (not True)) | True"
   ]
  },
  {
   "cell_type": "code",
   "execution_count": 64,
   "metadata": {
    "ExecuteTime": {
     "end_time": "2020-06-15T15:49:05.121826Z",
     "start_time": "2020-06-15T15:49:05.118883Z"
    }
   },
   "outputs": [
    {
     "data": {
      "text/plain": [
       "True"
      ]
     },
     "execution_count": 64,
     "metadata": {},
     "output_type": "execute_result"
    }
   ],
   "source": [
    "((not 0) or 1) & (not False)"
   ]
  },
  {
   "cell_type": "markdown",
   "metadata": {},
   "source": [
    "<a class='section' id='operacoes_de_comparacao'></a>\n",
    "# Operações de comparação"
   ]
  },
  {
   "cell_type": "markdown",
   "metadata": {},
   "source": [
    "Existem também os ``operadores de comparação``. Usamos esses operadores para dizer se variáveis são igauis, diferentes, maiores (ou iguais) ou menores (ou iguais). Abaixo vemos o símbolo de cada uma dessas operações:\n",
    "\n",
    "```python\n",
    "a == b (a é igual a b)\n",
    "a != b (a é diferente de b)\n",
    "a >  b (a é maior que b)\n",
    "a >= b (a é maior ou igual a b)\n",
    "a <  b (a é menor que b)\n",
    "a <= b (a é menor ou igual a b)\n",
    "```\n",
    "\n",
    "Essas operações de comparação levam a resultados lógicos, isto é, elas retornam ``True`` ou ``False``. Vamos ver alguns exemplos:"
   ]
  },
  {
   "cell_type": "code",
   "execution_count": 65,
   "metadata": {
    "ExecuteTime": {
     "end_time": "2020-06-15T15:49:05.771919Z",
     "start_time": "2020-06-15T15:49:05.768641Z"
    }
   },
   "outputs": [
    {
     "data": {
      "text/plain": [
       "True"
      ]
     },
     "execution_count": 65,
     "metadata": {},
     "output_type": "execute_result"
    }
   ],
   "source": [
    "(2+2) == 4"
   ]
  },
  {
   "cell_type": "code",
   "execution_count": 66,
   "metadata": {
    "ExecuteTime": {
     "end_time": "2020-06-15T15:49:05.777363Z",
     "start_time": "2020-06-15T15:49:05.775002Z"
    }
   },
   "outputs": [
    {
     "data": {
      "text/plain": [
       "True"
      ]
     },
     "execution_count": 66,
     "metadata": {},
     "output_type": "execute_result"
    }
   ],
   "source": [
    "2 != 1"
   ]
  },
  {
   "cell_type": "code",
   "execution_count": 67,
   "metadata": {
    "ExecuteTime": {
     "end_time": "2020-06-15T15:49:05.783292Z",
     "start_time": "2020-06-15T15:49:05.780977Z"
    }
   },
   "outputs": [
    {
     "data": {
      "text/plain": [
       "False"
      ]
     },
     "execution_count": 67,
     "metadata": {},
     "output_type": "execute_result"
    }
   ],
   "source": [
    "4 != 4"
   ]
  },
  {
   "cell_type": "code",
   "execution_count": 68,
   "metadata": {
    "ExecuteTime": {
     "end_time": "2020-06-15T15:49:05.789881Z",
     "start_time": "2020-06-15T15:49:05.787182Z"
    }
   },
   "outputs": [
    {
     "data": {
      "text/plain": [
       "False"
      ]
     },
     "execution_count": 68,
     "metadata": {},
     "output_type": "execute_result"
    }
   ],
   "source": [
    "3 > 3"
   ]
  },
  {
   "cell_type": "code",
   "execution_count": 69,
   "metadata": {
    "ExecuteTime": {
     "end_time": "2020-06-15T15:49:05.796831Z",
     "start_time": "2020-06-15T15:49:05.794458Z"
    }
   },
   "outputs": [
    {
     "data": {
      "text/plain": [
       "True"
      ]
     },
     "execution_count": 69,
     "metadata": {},
     "output_type": "execute_result"
    }
   ],
   "source": [
    "3 >= 3"
   ]
  },
  {
   "cell_type": "markdown",
   "metadata": {},
   "source": [
    "Com essas novas operações, podemos começar a combinar as variáveis lógicas com operações de comparações númericas:"
   ]
  },
  {
   "cell_type": "code",
   "execution_count": 70,
   "metadata": {
    "ExecuteTime": {
     "end_time": "2020-06-15T15:49:06.124154Z",
     "start_time": "2020-06-15T15:49:06.121307Z"
    }
   },
   "outputs": [
    {
     "data": {
      "text/plain": [
       "False"
      ]
     },
     "execution_count": 70,
     "metadata": {},
     "output_type": "execute_result"
    }
   ],
   "source": [
    "((2+2) == 4) == False"
   ]
  },
  {
   "cell_type": "code",
   "execution_count": 71,
   "metadata": {
    "ExecuteTime": {
     "end_time": "2020-06-15T15:49:06.129851Z",
     "start_time": "2020-06-15T15:49:06.127022Z"
    }
   },
   "outputs": [
    {
     "data": {
      "text/plain": [
       "True"
      ]
     },
     "execution_count": 71,
     "metadata": {},
     "output_type": "execute_result"
    }
   ],
   "source": [
    "not (( (3 < 2) | (5 <= 4) ) & (not 1))"
   ]
  },
  {
   "cell_type": "code",
   "execution_count": 72,
   "metadata": {
    "ExecuteTime": {
     "end_time": "2020-06-15T15:49:06.135621Z",
     "start_time": "2020-06-15T15:49:06.132897Z"
    }
   },
   "outputs": [
    {
     "data": {
      "text/plain": [
       "True"
      ]
     },
     "execution_count": 72,
     "metadata": {},
     "output_type": "execute_result"
    }
   ],
   "source": [
    "( ( ( 11%3 )/2 ) == False ) | ( ( ( 11//3 ) - 3 ) != True )"
   ]
  },
  {
   "cell_type": "markdown",
   "metadata": {},
   "source": [
    "Para facilitar sua compreensão, tente entender os códigos por partes. Por exemplo, na célula acima, faça primeiro as operações matemáticas:\n",
    "\n",
    "```python\n",
    "( ( 11%3 )/2 == False ) | ( ( ( 11//3 ) - 3 ) != True )\n",
    "   ( ( 2/2 ) == False ) | ( ( 3 - 3) != True )\n",
    "         ( 1 == False ) | ( 0 != True )\n",
    "                  False | True\n",
    "                      True\n",
    "```"
   ]
  },
  {
   "cell_type": "markdown",
   "metadata": {},
   "source": [
    "<a class='section' id='atribuindo_valores_as_variaveis'></a>\n",
    "# Atribuindo valores às variáveis"
   ]
  },
  {
   "cell_type": "markdown",
   "metadata": {},
   "source": [
    "Em ``python`` podemos criar variáveis com uma infinidade de nomes. Contudo, existem algumas regras que devem ser respeitadas para que erros no código não ocorram. O que não podemos fazer:\n",
    "\n",
    "- começar variáveis com números:\n",
    "    - ``23_numeros``\n",
    "- ter espaço entre os nomes das variáveis\n",
    "    - ``lista de numeros``\n",
    "- ter algum símbolo, como ``-``,  ``(``, ``~`` que não seja ``_`` entre palavras:\n",
    "    - ``nome-da~variavel``\n",
    "    \n",
    "Uma boa prática é escolher um nome que explique o que sua variável signifique. É convenção se criarmos uma função ou variável que tenha mais de uma palavra, que essas sejam separadas por ``_``, como: ``lista_de_numeros`` e ``soma_de_dois_numeros()``."
   ]
  },
  {
   "cell_type": "markdown",
   "metadata": {},
   "source": [
    "Observe que quando queremos comparar se duas variáveis iguais ou se duas operações (matemáticas e/ou lógicas) levam ao mesmo resultado, usamos o operador ``==``. O símbolo ``=`` é destinado à atribuição de valores às variáveis. Para mostrar isso, vamos considerar o seguinte exemplo.\n",
    "\n",
    "Suponha que um carro se deslocou $120{,}0\\, km$ em $2{,}0\\, h$. Podemos calcular a velocidade média desse carro nesse percurso usando a expressão\n",
    "\n",
    "$$\n",
    "    v_{media} = \\frac{\\Delta S}{\\Delta t},\n",
    "$$\n",
    "\n",
    "em que $\\Delta S$ é a distância percorrida em um intervalo de tempo $\\Delta t$. No nosso caso, $\\Delta S = 120{,}0\\, km$ e $\\Delta t = 2{,}0 h$, de modo que\n",
    "\n",
    "$$\n",
    "    v_{media} = \\frac{120{,}0\\, km}{2{,}0\\, h} = 60{,}0\\, km/h.\n",
    "$$\n",
    "\n",
    "Em ``python`` podemos criar uma variável e atribuir valores e resultados de expressões à ela. Por exemplo, vamos criar uma variável chamada ``velocidade_media`` de maneira que ela guarde o valor ``60.0``:\n",
    "\n",
    "```python\n",
    ">>> velocidade_media = 60.0\n",
    "```\n",
    "\n",
    "Para visualizar o valor que essa variável guarda, podemos imprimí-la na tela:\n",
    "\n",
    "```python\n",
    ">>> print(velocidade_media)\n",
    "60.0\n",
    "```\n",
    "\n",
    "Veja nas células abaixo os códigos executados."
   ]
  },
  {
   "cell_type": "code",
   "execution_count": 73,
   "metadata": {
    "ExecuteTime": {
     "end_time": "2020-06-15T15:49:07.432007Z",
     "start_time": "2020-06-15T15:49:07.430274Z"
    }
   },
   "outputs": [],
   "source": [
    "# definindo a variável velocidade_media\n",
    "velocidade_media = 60.0 # em km/h"
   ]
  },
  {
   "cell_type": "code",
   "execution_count": 74,
   "metadata": {
    "ExecuteTime": {
     "end_time": "2020-06-15T15:49:07.444603Z",
     "start_time": "2020-06-15T15:49:07.437517Z"
    }
   },
   "outputs": [
    {
     "name": "stdout",
     "output_type": "stream",
     "text": [
      "60.0\n"
     ]
    }
   ],
   "source": [
    "# imprimindo seu valor na tela\n",
    "print(velocidade_media)"
   ]
  },
  {
   "cell_type": "markdown",
   "metadata": {},
   "source": [
    "Ao invés de atribuir o valor ``60.0`` diretamente à nossa variável ``velocidade_media``, podemos atribuir a expressão que dá resultado a esse valor, isto é, ``120/2``:\n",
    "\n",
    "```python\n",
    ">>> velocidade_media = 120/2\n",
    ">>> print(velocidade_media)\n",
    "60.0\n",
    "```\n",
    "\n",
    "Veja nas células abaixo os códigos executados."
   ]
  },
  {
   "cell_type": "code",
   "execution_count": 75,
   "metadata": {
    "ExecuteTime": {
     "end_time": "2020-06-15T15:49:07.768019Z",
     "start_time": "2020-06-15T15:49:07.766173Z"
    }
   },
   "outputs": [],
   "source": [
    "velocidade_media = 120/2"
   ]
  },
  {
   "cell_type": "code",
   "execution_count": 76,
   "metadata": {
    "ExecuteTime": {
     "end_time": "2020-06-15T15:49:07.775784Z",
     "start_time": "2020-06-15T15:49:07.773461Z"
    }
   },
   "outputs": [
    {
     "name": "stdout",
     "output_type": "stream",
     "text": [
      "60.0\n"
     ]
    }
   ],
   "source": [
    "print(velocidade_media)"
   ]
  },
  {
   "cell_type": "markdown",
   "metadata": {},
   "source": [
    "Como estamos num ``Notebook`` iterativo, para mostrar o valor da variável, não precisamos da função print. Para visualizá-la, basta digitar seu nome e apertar ``shift+enter`` na tela:"
   ]
  },
  {
   "cell_type": "code",
   "execution_count": 77,
   "metadata": {
    "ExecuteTime": {
     "end_time": "2020-06-15T15:49:08.105452Z",
     "start_time": "2020-06-15T15:49:08.103019Z"
    }
   },
   "outputs": [
    {
     "data": {
      "text/plain": [
       "60.0"
      ]
     },
     "execution_count": 77,
     "metadata": {},
     "output_type": "execute_result"
    }
   ],
   "source": [
    "velocidade_media"
   ]
  },
  {
   "cell_type": "markdown",
   "metadata": {},
   "source": [
    "Podemos ainda definir variáveis para o deslocamento total e o tempo que se passou e substituir em uma ``fórmula`` para a velocidade média. \n",
    "\n",
    "```python\n",
    ">>> delta_s = 120 # em quilômetros [km]\n",
    ">>> delta_t = 2   # em horas [h]\n",
    ">>> velocidade_media = delta_s/delta_t # em quilômetros por hora [km/h]\n",
    ">>> print(velocidade_media)\n",
    "60.0\n",
    "```"
   ]
  },
  {
   "cell_type": "markdown",
   "metadata": {},
   "source": [
    "Veja as células abaixo exemplificando essa passagem:"
   ]
  },
  {
   "cell_type": "code",
   "execution_count": 78,
   "metadata": {
    "ExecuteTime": {
     "end_time": "2020-06-15T15:49:08.765701Z",
     "start_time": "2020-06-15T15:49:08.763717Z"
    }
   },
   "outputs": [],
   "source": [
    "# definimos as variáveis delta_s (distância percorrida) e delta_t (intervalo de tempo)\n",
    "delta_s = 120 # em quilômetros [km]\n",
    "delta_t = 2   # em horas [h]"
   ]
  },
  {
   "cell_type": "markdown",
   "metadata": {},
   "source": [
    "Agora definimos a variável velocidade média, que leva em consideração as variáveis definidas anteriormente:"
   ]
  },
  {
   "cell_type": "code",
   "execution_count": 79,
   "metadata": {
    "ExecuteTime": {
     "end_time": "2020-06-15T15:49:09.096069Z",
     "start_time": "2020-06-15T15:49:09.094238Z"
    }
   },
   "outputs": [],
   "source": [
    "velocidade_media = delta_s/delta_t # em quilômetros por hora [km/h]"
   ]
  },
  {
   "cell_type": "markdown",
   "metadata": {},
   "source": [
    "Para verificar o valor da variável velocidade média, basta escrevê-la em uma célula e apertar ``shift+enter``:"
   ]
  },
  {
   "cell_type": "code",
   "execution_count": 80,
   "metadata": {
    "ExecuteTime": {
     "end_time": "2020-06-15T15:49:09.433295Z",
     "start_time": "2020-06-15T15:49:09.430980Z"
    }
   },
   "outputs": [
    {
     "data": {
      "text/plain": [
       "60.0"
      ]
     },
     "execution_count": 80,
     "metadata": {},
     "output_type": "execute_result"
    }
   ],
   "source": [
    "velocidade_media"
   ]
  },
  {
   "cell_type": "markdown",
   "metadata": {},
   "source": [
    "Suponha que agora o valor do intervalo de tempo é de $3{,}0\\,h$. O que acontece se somente mudarmos o valor da variável ``delta_t``, atribuindo esse novo valor à ela e então verificarmos o valor da variável ``velocidade_media``? Vamos conferir:"
   ]
  },
  {
   "cell_type": "code",
   "execution_count": 81,
   "metadata": {
    "ExecuteTime": {
     "end_time": "2020-06-15T15:49:09.762120Z",
     "start_time": "2020-06-15T15:49:09.760310Z"
    }
   },
   "outputs": [],
   "source": [
    "# redefinimos o valor do intervalo de tempo\n",
    "delta_t = 3 # em horas [h]"
   ]
  },
  {
   "cell_type": "code",
   "execution_count": 82,
   "metadata": {
    "ExecuteTime": {
     "end_time": "2020-06-15T15:49:09.768415Z",
     "start_time": "2020-06-15T15:49:09.766022Z"
    }
   },
   "outputs": [
    {
     "data": {
      "text/plain": [
       "3"
      ]
     },
     "execution_count": 82,
     "metadata": {},
     "output_type": "execute_result"
    }
   ],
   "source": [
    "# conferimos se o valor foi alterado\n",
    "delta_t"
   ]
  },
  {
   "cell_type": "code",
   "execution_count": 83,
   "metadata": {
    "ExecuteTime": {
     "end_time": "2020-06-15T15:49:09.774538Z",
     "start_time": "2020-06-15T15:49:09.772070Z"
    }
   },
   "outputs": [
    {
     "data": {
      "text/plain": [
       "60.0"
      ]
     },
     "execution_count": 83,
     "metadata": {},
     "output_type": "execute_result"
    }
   ],
   "source": [
    "# agora invocamos a variável ``velocidade_media``\n",
    "velocidade_media"
   ]
  },
  {
   "cell_type": "markdown",
   "metadata": {},
   "source": [
    "Observe que o valor não mudou. Isso ocorre pois a variável ``velocidade_media`` não foi redefinida com o novo valor da variável ``delta_t``. Mais a frente veremos como criar funções que podem receber argumentos e retornar valores, de maneira que fica mais fácil calcular, por exemplo, a velocidade média para quaisquer valores de deslocamento e intervalo de tempo, sem ter que ficar reatribuindo valores à variável."
   ]
  },
  {
   "cell_type": "markdown",
   "metadata": {},
   "source": [
    "Uma outra propriedade bastante usada na atribuição de valores às variáveis, é que podemos usar o seu valor presente para atualizá-la. Veja o bloco de código a seguir que exemplifica essa propriedade:\n",
    "\n",
    "```python\n",
    ">>> contador = 1    # atribuímos o valor 1 à variável contador\n",
    ">>> print(contador) # imprimimos a variável ``contador`` na tela\n",
    "1\n",
    ">>> contador = contador + 1 # adicionamos 1 ao valor antigo da variável para atualizá-la\n",
    ">>> print(contador)         # imprimimos a variável ``contador`` na tela\n",
    "2\n",
    ">>> contador = contador + 2 # adicionamos 2 ao valor antigo da variável para atualizá-la\n",
    ">>> print(contador)         # imprimimos a variável ``contador`` na tela\n",
    "4\n",
    ">>> contador = 1    # apenas redefinimos o valor da variável\n",
    ">>> print(contador) # imprimimos a variável ``contador`` na tela\n",
    "1\n",
    "```"
   ]
  },
  {
   "cell_type": "markdown",
   "metadata": {
    "ExecuteTime": {
     "end_time": "2020-06-04T15:29:27.614848Z",
     "start_time": "2020-06-04T15:29:27.607995Z"
    }
   },
   "source": [
    "Veja que primeiramente atribuímos o valor ``1`` à variável ``contador``. Depois, usamos o valor que já estava guardado nessa variável para atribuir seu próprio valor adicionado de ``1`` e atribuímos o resultado à mesma variável. Veja os códigos executados nas células abaixo:"
   ]
  },
  {
   "cell_type": "code",
   "execution_count": 84,
   "metadata": {
    "ExecuteTime": {
     "end_time": "2020-06-15T15:49:10.763231Z",
     "start_time": "2020-06-15T15:49:10.761483Z"
    }
   },
   "outputs": [],
   "source": [
    "# definimos a variável ``contador`` atribuindo o valor ``1`` à ela\n",
    "contador = 1"
   ]
  },
  {
   "cell_type": "code",
   "execution_count": 85,
   "metadata": {
    "ExecuteTime": {
     "end_time": "2020-06-15T15:49:10.771413Z",
     "start_time": "2020-06-15T15:49:10.767120Z"
    }
   },
   "outputs": [
    {
     "data": {
      "text/plain": [
       "1"
      ]
     },
     "execution_count": 85,
     "metadata": {},
     "output_type": "execute_result"
    }
   ],
   "source": [
    "# inspecionamos o valor da variável\n",
    "contador"
   ]
  },
  {
   "cell_type": "code",
   "execution_count": 86,
   "metadata": {
    "ExecuteTime": {
     "end_time": "2020-06-15T15:49:10.775443Z",
     "start_time": "2020-06-15T15:49:10.773768Z"
    }
   },
   "outputs": [],
   "source": [
    "# incrementamos seu valor em 1\n",
    "# novo valor   valor antigo\n",
    "contador     = contador    + 1"
   ]
  },
  {
   "cell_type": "code",
   "execution_count": 87,
   "metadata": {
    "ExecuteTime": {
     "end_time": "2020-06-15T15:49:10.781595Z",
     "start_time": "2020-06-15T15:49:10.779262Z"
    }
   },
   "outputs": [
    {
     "data": {
      "text/plain": [
       "2"
      ]
     },
     "execution_count": 87,
     "metadata": {},
     "output_type": "execute_result"
    }
   ],
   "source": [
    "# inspecionamos o valor da variável após sua atualização\n",
    "contador"
   ]
  },
  {
   "cell_type": "code",
   "execution_count": 88,
   "metadata": {
    "ExecuteTime": {
     "end_time": "2020-06-15T15:49:10.787251Z",
     "start_time": "2020-06-15T15:49:10.785363Z"
    }
   },
   "outputs": [],
   "source": [
    "# incrementamos o valor da variável contador em 2 agora\n",
    "contador = contador + 2"
   ]
  },
  {
   "cell_type": "code",
   "execution_count": 89,
   "metadata": {
    "ExecuteTime": {
     "end_time": "2020-06-15T15:49:10.795478Z",
     "start_time": "2020-06-15T15:49:10.793260Z"
    }
   },
   "outputs": [
    {
     "data": {
      "text/plain": [
       "4"
      ]
     },
     "execution_count": 89,
     "metadata": {},
     "output_type": "execute_result"
    }
   ],
   "source": [
    "# inspecionamos o valor da variável após sua atualização\n",
    "contador"
   ]
  },
  {
   "cell_type": "code",
   "execution_count": 90,
   "metadata": {
    "ExecuteTime": {
     "end_time": "2020-06-15T15:49:10.802449Z",
     "start_time": "2020-06-15T15:49:10.800790Z"
    }
   },
   "outputs": [],
   "source": [
    "# atribuindo um valor a ela, apenas a redefinimos\n",
    "contador = 1"
   ]
  },
  {
   "cell_type": "code",
   "execution_count": 91,
   "metadata": {
    "ExecuteTime": {
     "end_time": "2020-06-15T15:49:10.810728Z",
     "start_time": "2020-06-15T15:49:10.808075Z"
    }
   },
   "outputs": [
    {
     "data": {
      "text/plain": [
       "1"
      ]
     },
     "execution_count": 91,
     "metadata": {},
     "output_type": "execute_result"
    }
   ],
   "source": [
    "contador"
   ]
  },
  {
   "cell_type": "markdown",
   "metadata": {},
   "source": [
    "Existe um operador de atribuição que adiciona um valor à variável para atualizá-la, como acabamos de fazer. Esse operador é designido por ``+=``. Veja o exemplo abaixo:\n",
    "\n",
    "```python\n",
    ">>> contador = 1    # atribuímos o valor 1 à variável contador\n",
    ">>> print(contador) # imprimimos a variável ``contador`` na tela\n",
    "1\n",
    ">>> contador += 1 # adicionamos 1 ao valor antigo da variável para atualizá-la\n",
    ">>> print(contador)         # imprimimos a variável ``contador`` na tela\n",
    "2\n",
    ">>> contador += 2 # adicionamos 2 ao valor antigo da variável para atualizá-la\n",
    ">>> print(contador)         # imprimimos a variável ``contador`` na tela\n",
    "4\n",
    ">>> contador = 1    # apenas redefinimos o valor da variável\n",
    ">>> print(contador) # imprimimos a variável ``contador`` na tela\n",
    "1\n",
    "```"
   ]
  },
  {
   "cell_type": "markdown",
   "metadata": {},
   "source": [
    "As células abaixo mostram os códigos em execução:"
   ]
  },
  {
   "cell_type": "code",
   "execution_count": 92,
   "metadata": {
    "ExecuteTime": {
     "end_time": "2020-06-15T15:49:11.486096Z",
     "start_time": "2020-06-15T15:49:11.484373Z"
    }
   },
   "outputs": [],
   "source": [
    "# definimos a variável ``contador`` atribuindo o valor ``1`` à ela\n",
    "contador = 1"
   ]
  },
  {
   "cell_type": "code",
   "execution_count": 93,
   "metadata": {
    "ExecuteTime": {
     "end_time": "2020-06-15T15:49:11.492750Z",
     "start_time": "2020-06-15T15:49:11.490308Z"
    }
   },
   "outputs": [
    {
     "data": {
      "text/plain": [
       "1"
      ]
     },
     "execution_count": 93,
     "metadata": {},
     "output_type": "execute_result"
    }
   ],
   "source": [
    "# inspecionamos o valor da variável\n",
    "contador"
   ]
  },
  {
   "cell_type": "code",
   "execution_count": 94,
   "metadata": {
    "ExecuteTime": {
     "end_time": "2020-06-15T15:49:11.497799Z",
     "start_time": "2020-06-15T15:49:11.496083Z"
    }
   },
   "outputs": [],
   "source": [
    "# incrementamos seu valor em 1\n",
    "contador += 1"
   ]
  },
  {
   "cell_type": "code",
   "execution_count": 95,
   "metadata": {
    "ExecuteTime": {
     "end_time": "2020-06-15T15:49:11.504527Z",
     "start_time": "2020-06-15T15:49:11.501940Z"
    }
   },
   "outputs": [
    {
     "data": {
      "text/plain": [
       "2"
      ]
     },
     "execution_count": 95,
     "metadata": {},
     "output_type": "execute_result"
    }
   ],
   "source": [
    "# inspecionamos o valor da variável após sua atualização\n",
    "contador"
   ]
  },
  {
   "cell_type": "code",
   "execution_count": 96,
   "metadata": {
    "ExecuteTime": {
     "end_time": "2020-06-15T15:49:11.509838Z",
     "start_time": "2020-06-15T15:49:11.508174Z"
    }
   },
   "outputs": [],
   "source": [
    "# incrementamos o valor da variável contador em 2 agora\n",
    "contador += 2"
   ]
  },
  {
   "cell_type": "code",
   "execution_count": 97,
   "metadata": {
    "ExecuteTime": {
     "end_time": "2020-06-15T15:49:11.516358Z",
     "start_time": "2020-06-15T15:49:11.514078Z"
    }
   },
   "outputs": [
    {
     "data": {
      "text/plain": [
       "4"
      ]
     },
     "execution_count": 97,
     "metadata": {},
     "output_type": "execute_result"
    }
   ],
   "source": [
    "# inspecionamos o valor da variável após sua atualização\n",
    "contador"
   ]
  },
  {
   "cell_type": "code",
   "execution_count": 98,
   "metadata": {
    "ExecuteTime": {
     "end_time": "2020-06-15T15:49:11.521743Z",
     "start_time": "2020-06-15T15:49:11.519993Z"
    }
   },
   "outputs": [],
   "source": [
    "# atribuindo um valor a ela, apenas a redefinimos\n",
    "contador = 1"
   ]
  },
  {
   "cell_type": "code",
   "execution_count": 99,
   "metadata": {
    "ExecuteTime": {
     "end_time": "2020-06-15T15:49:11.529084Z",
     "start_time": "2020-06-15T15:49:11.526683Z"
    }
   },
   "outputs": [
    {
     "data": {
      "text/plain": [
       "1"
      ]
     },
     "execution_count": 99,
     "metadata": {},
     "output_type": "execute_result"
    }
   ],
   "source": [
    "contador"
   ]
  },
  {
   "cell_type": "markdown",
   "metadata": {},
   "source": [
    "Além desse operador de incremento, existe um para cada operação matemática que vimos:\n",
    "\n",
    "- Substração\n",
    "```python\n",
    ">>> x = 10\n",
    ">>> x -= 1 # mesma coisa que x = x - 1\n",
    ">>> print(x)\n",
    "9\n",
    "```\n",
    "\n",
    "- Multiplicação\n",
    "```python\n",
    ">>> x = 10\n",
    ">>> x *= 3 # mesma coisa que x = x*3\n",
    ">>> print(x)\n",
    "30\n",
    "```\n",
    "\n",
    "- Divisão\n",
    "```python\n",
    ">>> x = 10\n",
    ">>> x /= 2 # mesma coisa que x = x/2\n",
    ">>> print(x)\n",
    "5.0\n",
    "```\n",
    "\n",
    "- Módulo (resto da divisão inteira)\n",
    "```python\n",
    ">>> x = 10\n",
    ">>> x %= 3 # mesma coisa que x = x%3\n",
    ">>> print(x)\n",
    "1\n",
    "```\n",
    "\n",
    "- Resultado inteiro da divisão\n",
    "```python\n",
    ">>> x = 10\n",
    ">>> x //= 3 # mesma coisa que x = x//3\n",
    ">>> print(x)\n",
    "3\n",
    "```\n",
    "\n",
    "- Exponenciação\n",
    "```python\n",
    ">>> x = 10\n",
    ">>> x **= 4 # mesma coisa que x = x**4\n",
    ">>> print(x)\n",
    "10000\n",
    "```"
   ]
  },
  {
   "cell_type": "markdown",
   "metadata": {},
   "source": [
    "Uma variável pode guardar qualquer valor, isso inclui valores lógicos:\n",
    "\n",
    "```python\n",
    ">>> variavel_true = True\n",
    ">>> variavel_true == False\n",
    "False\n",
    ">>> variavel_true | False\n",
    "True\n",
    "\n",
    ">>> variavel_false = False\n",
    ">>> variavel_false < True\n",
    "True\n",
    ">>> variavel_false & True\n",
    "False\n",
    "```"
   ]
  },
  {
   "cell_type": "code",
   "execution_count": 100,
   "metadata": {
    "ExecuteTime": {
     "end_time": "2020-06-15T15:49:12.232891Z",
     "start_time": "2020-06-15T15:49:12.231162Z"
    }
   },
   "outputs": [],
   "source": [
    "# definimos a variável ``variavel_true`` e atribuímos o valor lógico ``True``\n",
    "variavel_true = True"
   ]
  },
  {
   "cell_type": "code",
   "execution_count": 101,
   "metadata": {
    "ExecuteTime": {
     "end_time": "2020-06-15T15:49:12.239506Z",
     "start_time": "2020-06-15T15:49:12.237100Z"
    }
   },
   "outputs": [
    {
     "data": {
      "text/plain": [
       "True"
      ]
     },
     "execution_count": 101,
     "metadata": {},
     "output_type": "execute_result"
    }
   ],
   "source": [
    "# inspecionamos o valor de ``variavel_true``\n",
    "variavel_true"
   ]
  },
  {
   "cell_type": "code",
   "execution_count": 102,
   "metadata": {
    "ExecuteTime": {
     "end_time": "2020-06-15T15:49:12.245320Z",
     "start_time": "2020-06-15T15:49:12.243022Z"
    }
   },
   "outputs": [
    {
     "data": {
      "text/plain": [
       "True"
      ]
     },
     "execution_count": 102,
     "metadata": {},
     "output_type": "execute_result"
    }
   ],
   "source": [
    "# usamos o operador de comparação ``==`` para verificar se ``variavel_true`` é igual a ``True``\n",
    "variavel_true == True"
   ]
  },
  {
   "cell_type": "code",
   "execution_count": 103,
   "metadata": {
    "ExecuteTime": {
     "end_time": "2020-06-15T15:49:12.251298Z",
     "start_time": "2020-06-15T15:49:12.248931Z"
    }
   },
   "outputs": [
    {
     "data": {
      "text/plain": [
       "True"
      ]
     },
     "execution_count": 103,
     "metadata": {},
     "output_type": "execute_result"
    }
   ],
   "source": [
    "# usamos o operador lógico ``|`` (``or``) para ver se um valor ou outro da comparação feita é ``True``\n",
    "variavel_true | False"
   ]
  },
  {
   "cell_type": "code",
   "execution_count": 104,
   "metadata": {
    "ExecuteTime": {
     "end_time": "2020-06-15T15:49:12.256877Z",
     "start_time": "2020-06-15T15:49:12.255177Z"
    }
   },
   "outputs": [],
   "source": [
    "# definimos a variável ``variavel_false`` e atribuímos o valor lógico ``False``\n",
    "variavel_false = False"
   ]
  },
  {
   "cell_type": "code",
   "execution_count": 105,
   "metadata": {
    "ExecuteTime": {
     "end_time": "2020-06-15T15:49:12.263322Z",
     "start_time": "2020-06-15T15:49:12.261091Z"
    }
   },
   "outputs": [
    {
     "data": {
      "text/plain": [
       "False"
      ]
     },
     "execution_count": 105,
     "metadata": {},
     "output_type": "execute_result"
    }
   ],
   "source": [
    "# inspecionamos o valor de ``variavel_false``\n",
    "variavel_false"
   ]
  },
  {
   "cell_type": "code",
   "execution_count": 106,
   "metadata": {
    "ExecuteTime": {
     "end_time": "2020-06-15T15:49:12.269389Z",
     "start_time": "2020-06-15T15:49:12.267062Z"
    }
   },
   "outputs": [
    {
     "data": {
      "text/plain": [
       "True"
      ]
     },
     "execution_count": 106,
     "metadata": {},
     "output_type": "execute_result"
    }
   ],
   "source": [
    "# usamos o operador de comparação ``<`` para verificar se ``False`` é menor que ``True``\n",
    "# lembre-se que ``False`` também é ``0`` e ``True`` também é ``1``\n",
    "variavel_false < True"
   ]
  },
  {
   "cell_type": "code",
   "execution_count": 107,
   "metadata": {
    "ExecuteTime": {
     "end_time": "2020-06-15T15:49:12.275811Z",
     "start_time": "2020-06-15T15:49:12.273255Z"
    }
   },
   "outputs": [
    {
     "data": {
      "text/plain": [
       "False"
      ]
     },
     "execution_count": 107,
     "metadata": {},
     "output_type": "execute_result"
    }
   ],
   "source": [
    "# usamos o operador lógico ``&`` (``and``) para ver se ambos os valores da comparação feita é ``True``\n",
    "variavel_false & True"
   ]
  },
  {
   "cell_type": "markdown",
   "metadata": {},
   "source": [
    "Vimos então que as variáveis que definimos podem guardar diferentes tipos de valores, como números inteiros (``int``) e frações (``float``) além de valores lógicos (``bool``). Veremos mais adiante que variáveis podem guardar mais tipos de variáveis além desses, como ``strings`` (``str``), ``listas`` (``list``), ``dicionários`` (``dict``) e até mesmo ``funções``."
   ]
  },
  {
   "cell_type": "markdown",
   "metadata": {},
   "source": [
    "<a class='cell' id='del'></a>\n",
    "As variáveis que criamos são armazenadas na memória. Conforme os projetos vão progredindo, é normal que algumas variáveis não sejam mais usadas. Assim, podemos liberar espaço na memória ``deletando`` os valores atribuídos às variáveis que não são mais utilizadas. Para realizar tal procedimento, usamos o comando ``del``. Veja as células abaixo exemplifcando o uso desse operador."
   ]
  },
  {
   "cell_type": "code",
   "execution_count": 108,
   "metadata": {
    "ExecuteTime": {
     "end_time": "2020-06-15T15:49:12.986050Z",
     "start_time": "2020-06-15T15:49:12.984275Z"
    }
   },
   "outputs": [],
   "source": [
    "# atribuímos o resultado da operação ``2**10`` á variável ``variavel_para_deletar``\n",
    "variavel_para_deletar = 2**10"
   ]
  },
  {
   "cell_type": "code",
   "execution_count": 109,
   "metadata": {
    "ExecuteTime": {
     "end_time": "2020-06-15T15:49:12.992870Z",
     "start_time": "2020-06-15T15:49:12.990275Z"
    }
   },
   "outputs": [
    {
     "data": {
      "text/plain": [
       "1024"
      ]
     },
     "execution_count": 109,
     "metadata": {},
     "output_type": "execute_result"
    }
   ],
   "source": [
    "# inspecionamos o valor guardado na variável ``variavel_para_deletar``\n",
    "variavel_para_deletar"
   ]
  },
  {
   "cell_type": "code",
   "execution_count": 110,
   "metadata": {
    "ExecuteTime": {
     "end_time": "2020-06-15T15:49:12.997931Z",
     "start_time": "2020-06-15T15:49:12.996197Z"
    }
   },
   "outputs": [],
   "source": [
    "# vamos deletar a variável ``variavel_para_deletar``\n",
    "del variavel_para_deletar"
   ]
  },
  {
   "cell_type": "markdown",
   "metadata": {},
   "source": [
    "O comando não retornar nada, mas se tentarmos inspecionar o valor da variável novamente obtemos um erro:"
   ]
  },
  {
   "cell_type": "code",
   "execution_count": 111,
   "metadata": {
    "ExecuteTime": {
     "end_time": "2020-06-15T15:49:13.388776Z",
     "start_time": "2020-06-15T15:49:13.358192Z"
    }
   },
   "outputs": [
    {
     "ename": "NameError",
     "evalue": "name 'variavel_para_deletar' is not defined",
     "output_type": "error",
     "traceback": [
      "\u001b[0;31m---------------------------------------------------------------------------\u001b[0m",
      "\u001b[0;31mNameError\u001b[0m                                 Traceback (most recent call last)",
      "\u001b[0;32m<ipython-input-111-4eb98fc8ad1b>\u001b[0m in \u001b[0;36m<module>\u001b[0;34m\u001b[0m\n\u001b[0;32m----> 1\u001b[0;31m \u001b[0mvariavel_para_deletar\u001b[0m\u001b[0;34m\u001b[0m\u001b[0;34m\u001b[0m\u001b[0m\n\u001b[0m",
      "\u001b[0;31mNameError\u001b[0m: name 'variavel_para_deletar' is not defined"
     ]
    }
   ],
   "source": [
    "variavel_para_deletar"
   ]
  },
  {
   "cell_type": "markdown",
   "metadata": {},
   "source": [
    "``NameError`` nos diz que não existe uma variável com o nome fornecido no código."
   ]
  },
  {
   "cell_type": "markdown",
   "metadata": {},
   "source": [
    "<a class='section' id='strings'></a>\n",
    "# Strings"
   ]
  },
  {
   "cell_type": "markdown",
   "metadata": {},
   "source": [
    "``Strings``, como já vimos, são caracteres, palavras ou sentenceças que se encontram entre aspas simples (``'``) ou duplas (``\"``). Podemos imprimí-las na tela usando a função ``print()`` ou se estivermos no ``Notebook``, basta escrevermos a string e apertar ``shift+enter``:"
   ]
  },
  {
   "cell_type": "code",
   "execution_count": 112,
   "metadata": {
    "ExecuteTime": {
     "end_time": "2020-06-15T15:49:14.433277Z",
     "start_time": "2020-06-15T15:49:14.430799Z"
    }
   },
   "outputs": [
    {
     "data": {
      "text/plain": [
       "'Hello again, world!'"
      ]
     },
     "execution_count": 112,
     "metadata": {},
     "output_type": "execute_result"
    }
   ],
   "source": [
    "\"Hello again, world!\""
   ]
  },
  {
   "cell_type": "markdown",
   "metadata": {},
   "source": [
    "``Strings`` podem ser guardadas em variáveis, assim como fizemos com números e valores lógicos:\n",
    "\n",
    "```python\n",
    ">>> variavel_palavra = \"Python\"\n",
    ">>> print(variavel_palavra)\n",
    "Python\n",
    "\n",
    ">>> variavel_frase = \"Vou estudar, mas antes farei um café.\"\n",
    ">>> print(variavel_frase)\n",
    "Vou estudar, mas antes farei um café.\n",
    "```\n",
    "\n",
    "Veja os códigos executados nas células abaixo."
   ]
  },
  {
   "cell_type": "code",
   "execution_count": 113,
   "metadata": {
    "ExecuteTime": {
     "end_time": "2020-06-15T15:49:14.796134Z",
     "start_time": "2020-06-15T15:49:14.794355Z"
    }
   },
   "outputs": [],
   "source": [
    "# definimos ``variavel_palavra`` e atribuímos a ``string`` \"Python\" à ela\n",
    "variavel_palavra = \"Python\""
   ]
  },
  {
   "cell_type": "code",
   "execution_count": 114,
   "metadata": {
    "ExecuteTime": {
     "end_time": "2020-06-15T15:49:14.802271Z",
     "start_time": "2020-06-15T15:49:14.800095Z"
    }
   },
   "outputs": [
    {
     "data": {
      "text/plain": [
       "'Python'"
      ]
     },
     "execution_count": 114,
     "metadata": {},
     "output_type": "execute_result"
    }
   ],
   "source": [
    "# inspecionamos o valor de ``variavel_palavra``\n",
    "variavel_palavra"
   ]
  },
  {
   "cell_type": "code",
   "execution_count": 115,
   "metadata": {
    "ExecuteTime": {
     "end_time": "2020-06-15T15:49:14.807942Z",
     "start_time": "2020-06-15T15:49:14.806284Z"
    }
   },
   "outputs": [],
   "source": [
    "# definimos ``variavel_frase`` e atribuímos a ``string`` \"Vou estudar, mas antes farei um café.\" à ela\n",
    "variavel_frase = \"Vou estudar, mas antes farei um café.\""
   ]
  },
  {
   "cell_type": "code",
   "execution_count": 116,
   "metadata": {
    "ExecuteTime": {
     "end_time": "2020-06-15T15:49:14.814621Z",
     "start_time": "2020-06-15T15:49:14.812170Z"
    }
   },
   "outputs": [
    {
     "data": {
      "text/plain": [
       "'Vou estudar, mas antes farei um café.'"
      ]
     },
     "execution_count": 116,
     "metadata": {},
     "output_type": "execute_result"
    }
   ],
   "source": [
    "# inspecionamos o valor de ``variavel_frase``\n",
    "variavel_frase"
   ]
  },
  {
   "cell_type": "markdown",
   "metadata": {},
   "source": [
    "Se quisermos escrever uma string muito longa e quebrar a linha em algum momento, usamos ``\\n``:\n",
    "\n",
    "```python\n",
    ">>> print(\"Vou quebrar a linha aqui.\\nEssa é uma frase na outra linha.\")\n",
    "Vou quebrar a linha aqui.\n",
    "Essa é uma frase na outra linha.\n",
    "```\n",
    "\n",
    "Veja na célula abaixo o código executado."
   ]
  },
  {
   "cell_type": "code",
   "execution_count": 117,
   "metadata": {
    "ExecuteTime": {
     "end_time": "2020-06-15T15:49:15.291043Z",
     "start_time": "2020-06-15T15:49:15.288404Z"
    }
   },
   "outputs": [
    {
     "data": {
      "text/plain": [
       "'Vou quebrar a linha.\\nEssa é uma frase na outra linha.'"
      ]
     },
     "execution_count": 117,
     "metadata": {},
     "output_type": "execute_result"
    }
   ],
   "source": [
    "\"Vou quebrar a linha.\\nEssa é uma frase na outra linha.\""
   ]
  },
  {
   "cell_type": "markdown",
   "metadata": {},
   "source": [
    "Podemos obter o mesmo resultado se escrevermos o texto entre três aspas duplas ``\"\"\"``:\n",
    "\n",
    "```python\n",
    ">>> texto_duas_linhas = \"\"\"Vou quebrar a linha.\n",
    "Essa é uma frase na outra linha.\"\"\"\n",
    ">>> print(texto_duas_linhas)\n",
    "Vou quebrar a linha.\n",
    "Essa é uma frase na outra linha.\n",
    "```\n",
    "\n",
    "Veja na célula abaixo o código executado."
   ]
  },
  {
   "cell_type": "code",
   "execution_count": 118,
   "metadata": {
    "ExecuteTime": {
     "end_time": "2020-06-15T15:49:15.672855Z",
     "start_time": "2020-06-15T15:49:15.670363Z"
    }
   },
   "outputs": [
    {
     "data": {
      "text/plain": [
       "'Vou quebrar a linha.\\nEssa é uma frase na outra linha.'"
      ]
     },
     "execution_count": 118,
     "metadata": {},
     "output_type": "execute_result"
    }
   ],
   "source": [
    "\"\"\"Vou quebrar a linha.\n",
    "Essa é uma frase na outra linha.\"\"\""
   ]
  },
  {
   "cell_type": "markdown",
   "metadata": {},
   "source": [
    "Veja que se não usarmos a função ``print()``, vemos um ``\\n`` onde a linha foi quebrada no texto entre três aspas duplas."
   ]
  },
  {
   "cell_type": "markdown",
   "metadata": {},
   "source": [
    "Podemos realizar algumas operações com ``Strings``. Por exemplos, podemos somá-las:\n",
    "\n",
    "```python\n",
    ">>> string_1 = \"Hello, \"\n",
    ">>> string_2 = \"world!\"\n",
    ">>> string_final = string_1 + string_2\n",
    ">>> print(string_final)\n",
    "Hello, world!\n",
    "```\n",
    "\n",
    "Veja na célula abaixo o código executado."
   ]
  },
  {
   "cell_type": "code",
   "execution_count": 119,
   "metadata": {
    "ExecuteTime": {
     "end_time": "2020-06-15T15:49:16.397566Z",
     "start_time": "2020-06-15T15:49:16.394737Z"
    }
   },
   "outputs": [
    {
     "data": {
      "text/plain": [
       "'Hello, world!'"
      ]
     },
     "execution_count": 119,
     "metadata": {},
     "output_type": "execute_result"
    }
   ],
   "source": [
    "# definimos as duas ``strings`` que somaremos\n",
    "string_1 = \"Hello, \"\n",
    "string_2 = \"world!\"\n",
    "\n",
    "# definimos a ``string_final`` que é a soma das duas ``strings`` definidas anteriormente\n",
    "string_final = string_1 + string_2\n",
    "\n",
    "# imprimimos na tela o valor guardado na variável ``string_final``\n",
    "string_final\n"
   ]
  },
  {
   "cell_type": "markdown",
   "metadata": {},
   "source": [
    "Podemos também multiplicar strings por um número inteiro, de modo que o resultado é a repetição da string pelo número multiplicado:\n",
    "\n",
    "```python\n",
    ">>> variavel_hello = \"Hello\"\n",
    ">>> print(variavel_hello*3)\n",
    "HelloHelloHello\n",
    "```\n",
    "\n",
    "Veja a célula abaixo com o código executado."
   ]
  },
  {
   "cell_type": "code",
   "execution_count": 120,
   "metadata": {
    "ExecuteTime": {
     "end_time": "2020-06-15T15:49:16.763456Z",
     "start_time": "2020-06-15T15:49:16.760101Z"
    }
   },
   "outputs": [
    {
     "data": {
      "text/plain": [
       "'HelloHelloHello'"
      ]
     },
     "execution_count": 120,
     "metadata": {},
     "output_type": "execute_result"
    }
   ],
   "source": [
    "# definimos ``variavel_hello`` atribuindo a string \"Hello\" à ela\n",
    "variavel_hello = \"Hello\"\n",
    "\n",
    "# multiplicamos ``variavel_hello`` por 3\n",
    "variavel_hello*3"
   ]
  },
  {
   "cell_type": "markdown",
   "metadata": {},
   "source": [
    "<a class='cell' id='str_concatenate'></a>\n",
    "Se quisermos usar um número a uma ``String``, de maneira que esse seja representado como uma ``String`` no meio da sentença, podemos usar a função ``print`` e  ``concatenar`` o que quisermos:\n",
    "\n",
    "```python\n",
    ">>> print(\"Hoje eu já tomei\", 5, \"xícaras de café.\")\n",
    "Hoje eu já tomei 5 xícaras de café.\n",
    "```\n",
    "\n",
    "O mesmo resultado pode ser obtido se usarmos a função ``str()`` para transformar o número do tipo ``int`` em uma variável do tipo ``str``:\n",
    "\n",
    "```python\n",
    ">>> print(\"Hoje eu já tomei \" + str(5) + \" xícaras de café.\")\n",
    "Hoje eu já tomei 5 xícaras de café.\n",
    "```\n",
    "\n",
    "Da mesma forma, podemos fazer o inverso, ou seja, transformar uma variável ``str`` que é um número, por exemplo, ``\"5\"`` para ser uma variável do tipo ``int`` ou ``float``, usando as funções ``int()`` e ``float()``, respectivamente:\n",
    "\n",
    "```python\n",
    ">>> string_numero = \"5\"\n",
    ">>> print(string_numero*3)\n",
    "555\n",
    ">>> string_para_int = int(string_numero)\n",
    ">>> print(string_para_int*3)\n",
    "15\n",
    ">>> string_para_float = float(string_numero)\n",
    ">>> print(string_para_float)\n",
    "5.0\n",
    "```\n",
    "\n",
    "Veja as células abaixo com os códigos executados."
   ]
  },
  {
   "cell_type": "code",
   "execution_count": 121,
   "metadata": {
    "ExecuteTime": {
     "end_time": "2020-06-15T15:49:17.134100Z",
     "start_time": "2020-06-15T15:49:17.130833Z"
    }
   },
   "outputs": [
    {
     "data": {
      "text/plain": [
       "'555'"
      ]
     },
     "execution_count": 121,
     "metadata": {},
     "output_type": "execute_result"
    }
   ],
   "source": [
    "# definimos ``string_numero`` e atribuímos a ``string`` \"5\" à ela\n",
    "string_numero = \"5\"\n",
    "# multiplicamos a ``string`` pelo número 3\n",
    "string_numero*3"
   ]
  },
  {
   "cell_type": "code",
   "execution_count": 122,
   "metadata": {
    "ExecuteTime": {
     "end_time": "2020-06-15T15:49:17.141202Z",
     "start_time": "2020-06-15T15:49:17.137778Z"
    }
   },
   "outputs": [
    {
     "data": {
      "text/plain": [
       "15"
      ]
     },
     "execution_count": 122,
     "metadata": {},
     "output_type": "execute_result"
    }
   ],
   "source": [
    "# definimos ``string_para_int`` e atribuímos o resultado\n",
    "# da aplicação da função ``int()`` a ``string_numero``\n",
    "# isso transforma a ``string`` \"5\" no número inteiro 5\n",
    "string_para_int = int(string_numero)\n",
    "\n",
    "# multiplicamos o número inteiro 5\n",
    "string_para_int*3"
   ]
  },
  {
   "cell_type": "code",
   "execution_count": 123,
   "metadata": {
    "ExecuteTime": {
     "end_time": "2020-06-15T15:49:17.148232Z",
     "start_time": "2020-06-15T15:49:17.144746Z"
    }
   },
   "outputs": [
    {
     "data": {
      "text/plain": [
       "5.0"
      ]
     },
     "execution_count": 123,
     "metadata": {},
     "output_type": "execute_result"
    }
   ],
   "source": [
    "# definimos ``string_para_float`` e atribuímos o resultado\n",
    "# da aplicação da função ``float()`` a ``string_numero``\n",
    "# isso transforma a ``string`` \"5\" no número decimal 5.0\n",
    "string_para_float = float(string_numero)\n",
    "\n",
    "# imprimimos o valor do número decimal na tela\n",
    "string_para_float"
   ]
  },
  {
   "cell_type": "markdown",
   "metadata": {},
   "source": [
    "<a class='cell' id='str_methodo_not_in_place'></a>\n",
    "Existem outros ``métodos`` que podem ser aplicados à variáveis que pertecem à classe ``str``. Para aplicar um método a uma ``str`` usamos um ``.`` e então escrevemos o ``método`` que queremos aplicar. Vamos ver alguns deles e como aplicá-los:\n",
    "\n",
    "```python\n",
    ">>> variavel_string = \"Eu quero café. Sem açúcar, por favor.\"\n",
    "\n",
    "# todas as letras ficam minúsculas\n",
    ">>> variavel_string.lower()          \n",
    "eu quero café. sem açúcar, por favor.\n",
    "\n",
    "# todas as letras ficam maiúsculas\n",
    ">>> variavel_string.upper()          \n",
    "EU QUERO CAFÉ. SEM AÇÚCAR POR FAVOR.\n",
    "\n",
    "# a primeira letra de cada palavra fica maiúscula\n",
    ">>> variavel_string.title()          \n",
    "Eu Quero Café. Sem Açúcar, Por Favor.\n",
    "\n",
    "# só a primeira letra fica maiúscula\n",
    ">>> variavel_string.capitalize()     \n",
    "Eu quero café. sem açúcar, por favor.\n",
    "\n",
    "# conta quantas vezes o caracter passado como argumento aparece na ``string``\n",
    ">>> variavel_string.count('e')       \n",
    "2\n",
    "\n",
    "# os métodos atuam na ``string`` mas não alteram a variável\n",
    ">>> print(variavel_string)           \n",
    "Eu quero café. Sem açúcar, por favor.\n",
    "```\n",
    "\n",
    "Vamos executar esse códigos nas células abaixo."
   ]
  },
  {
   "cell_type": "code",
   "execution_count": 124,
   "metadata": {
    "ExecuteTime": {
     "end_time": "2020-06-15T15:49:17.520020Z",
     "start_time": "2020-06-15T15:49:17.517788Z"
    }
   },
   "outputs": [],
   "source": [
    "# primeiramente definimos ``variavel_string`` e atribuímos a ``string``\n",
    "# \"Estou aprendendo sobre strings. Vamos ver esses módulos.\"\n",
    "variavel_string = \"Estou aprendendo sobre strings. Vamos ver esses módulos.\""
   ]
  },
  {
   "cell_type": "code",
   "execution_count": 125,
   "metadata": {
    "ExecuteTime": {
     "end_time": "2020-06-15T15:49:17.526227Z",
     "start_time": "2020-06-15T15:49:17.523880Z"
    }
   },
   "outputs": [
    {
     "data": {
      "text/plain": [
       "'Estou aprendendo sobre strings. Vamos ver esses módulos.'"
      ]
     },
     "execution_count": 125,
     "metadata": {},
     "output_type": "execute_result"
    }
   ],
   "source": [
    "# inspecionamos a variável\n",
    "variavel_string"
   ]
  },
  {
   "cell_type": "code",
   "execution_count": 126,
   "metadata": {
    "ExecuteTime": {
     "end_time": "2020-06-15T15:49:17.533518Z",
     "start_time": "2020-06-15T15:49:17.530358Z"
    }
   },
   "outputs": [
    {
     "data": {
      "text/plain": [
       "'estou aprendendo sobre strings. vamos ver esses módulos.'"
      ]
     },
     "execution_count": 126,
     "metadata": {},
     "output_type": "execute_result"
    }
   ],
   "source": [
    "# vamos fazer todas as letras ficarem minúsculas\n",
    "variavel_string.lower()"
   ]
  },
  {
   "cell_type": "code",
   "execution_count": 127,
   "metadata": {
    "ExecuteTime": {
     "end_time": "2020-06-15T15:49:17.540666Z",
     "start_time": "2020-06-15T15:49:17.537514Z"
    }
   },
   "outputs": [
    {
     "data": {
      "text/plain": [
       "'ESTOU APRENDENDO SOBRE STRINGS. VAMOS VER ESSES MÓDULOS.'"
      ]
     },
     "execution_count": 127,
     "metadata": {},
     "output_type": "execute_result"
    }
   ],
   "source": [
    "# vamos fazer todas as letras ficarem maiúsculas\n",
    "variavel_string.upper()"
   ]
  },
  {
   "cell_type": "code",
   "execution_count": 128,
   "metadata": {
    "ExecuteTime": {
     "end_time": "2020-06-15T15:49:17.546456Z",
     "start_time": "2020-06-15T15:49:17.543914Z"
    }
   },
   "outputs": [
    {
     "data": {
      "text/plain": [
       "'Estou Aprendendo Sobre Strings. Vamos Ver Esses Módulos.'"
      ]
     },
     "execution_count": 128,
     "metadata": {},
     "output_type": "execute_result"
    }
   ],
   "source": [
    "# vamos fazer a primeira letra de cada palavra ficar maiúscula\n",
    "variavel_string.title()"
   ]
  },
  {
   "cell_type": "code",
   "execution_count": 129,
   "metadata": {
    "ExecuteTime": {
     "end_time": "2020-06-15T15:49:17.552268Z",
     "start_time": "2020-06-15T15:49:17.549896Z"
    }
   },
   "outputs": [
    {
     "data": {
      "text/plain": [
       "'Estou aprendendo sobre strings. vamos ver esses módulos.'"
      ]
     },
     "execution_count": 129,
     "metadata": {},
     "output_type": "execute_result"
    }
   ],
   "source": [
    "# vamos fazer somente a primeira palavra ficar com letra maiúscula\n",
    "variavel_string.capitalize()"
   ]
  },
  {
   "cell_type": "code",
   "execution_count": 130,
   "metadata": {
    "ExecuteTime": {
     "end_time": "2020-06-15T15:49:17.558467Z",
     "start_time": "2020-06-15T15:49:17.556033Z"
    }
   },
   "outputs": [
    {
     "data": {
      "text/plain": [
       "9"
      ]
     },
     "execution_count": 130,
     "metadata": {},
     "output_type": "execute_result"
    }
   ],
   "source": [
    "# vamos contar quantas vezes a letra ``s`` aparece na ``variavel_string``\n",
    "variavel_string.count('s')"
   ]
  },
  {
   "cell_type": "code",
   "execution_count": 131,
   "metadata": {
    "ExecuteTime": {
     "end_time": "2020-06-15T15:49:17.564431Z",
     "start_time": "2020-06-15T15:49:17.562014Z"
    }
   },
   "outputs": [
    {
     "data": {
      "text/plain": [
       "2"
      ]
     },
     "execution_count": 131,
     "metadata": {},
     "output_type": "execute_result"
    }
   ],
   "source": [
    "# o argumento do ``método`` ``count()`` pode receber qualquer ``string`` que quisermos\n",
    "variavel_string.count('en')"
   ]
  },
  {
   "cell_type": "markdown",
   "metadata": {},
   "source": [
    "Contudo, veja que a aplicação desses ``métodos`` na ``variavel_string`` não altera seu valor original:"
   ]
  },
  {
   "cell_type": "code",
   "execution_count": 132,
   "metadata": {
    "ExecuteTime": {
     "end_time": "2020-06-15T15:49:17.942775Z",
     "start_time": "2020-06-15T15:49:17.940462Z"
    }
   },
   "outputs": [
    {
     "data": {
      "text/plain": [
       "'Estou aprendendo sobre strings. Vamos ver esses módulos.'"
      ]
     },
     "execution_count": 132,
     "metadata": {},
     "output_type": "execute_result"
    }
   ],
   "source": [
    "# vamos inspecionar a variável após a aplicação de todos os métodos\n",
    "variavel_string"
   ]
  },
  {
   "cell_type": "markdown",
   "metadata": {
    "ExecuteTime": {
     "end_time": "2020-06-05T18:33:00.943862Z",
     "start_time": "2020-06-05T18:33:00.939570Z"
    }
   },
   "source": [
    "<a class='cell' id='string_len'></a>\n",
    "É possível também descobrirmos o número de caracteres presentes na ``string``. Para isso, usamos a função inata do ``python`` chamada ``len()``. Ela é a abreviação de ``length``, que significa ``tamanho``. Se aplicarmos essa ``função`` na ``string`` teremos como retorno um número, que é seu número de caracteres:\n",
    "\n",
    "```python\n",
    "# definimos ``variavel_string``\n",
    ">>> variavel_string = \"Eu quero café. Sem açúcar, por favor.\"\n",
    "# contamos quantos caracteres tem na ``string``\n",
    ">>> len(variavel_string)\n",
    "37\n",
    "```\n",
    "\n",
    "Veja os códigos executados nas células abaixos."
   ]
  },
  {
   "cell_type": "code",
   "execution_count": 133,
   "metadata": {
    "ExecuteTime": {
     "end_time": "2020-06-15T15:49:18.348762Z",
     "start_time": "2020-06-15T15:49:18.346949Z"
    }
   },
   "outputs": [],
   "source": [
    "# definimos nossa ``string``\n",
    "variavel_string = \"Eu quero café. Sem açúcar, por favor.\""
   ]
  },
  {
   "cell_type": "code",
   "execution_count": 134,
   "metadata": {
    "ExecuteTime": {
     "end_time": "2020-06-15T15:49:18.356372Z",
     "start_time": "2020-06-15T15:49:18.353352Z"
    }
   },
   "outputs": [
    {
     "data": {
      "text/plain": [
       "37"
      ]
     },
     "execution_count": 134,
     "metadata": {},
     "output_type": "execute_result"
    }
   ],
   "source": [
    "# inspecionamos o tamanho da ``string``\n",
    "len(variavel_string)"
   ]
  },
  {
   "cell_type": "markdown",
   "metadata": {
    "ExecuteTime": {
     "end_time": "2020-06-05T22:19:13.966043Z",
     "start_time": "2020-06-05T22:19:13.959912Z"
    }
   },
   "source": [
    "Veja que existe uma diferença sútil de como uma ``função`` e um ``método`` são aplicados na variável ``string``. Em uma ``função``, a variável em questão é passada como argumento, dentro dos parênteses: \n",
    "\n",
    "```python\n",
    ">>> len(variavel_string)\n",
    "```\n",
    "\n",
    "Já um ``método`` é aplicado usando a notação de ``.`` em frente à variável que estamos tentando aplicá-lo. A principal diferença é que as variáveis que criamos percentem a certas ``classes`` ou ``tipos``. Cada uma dessas ``classes`` possuem métodos diferentes que podem ser aplicados a eles. Acima, trabalhamos com a variável ``variavel_string``, que é uma ``string`` e, portanto, pertence à classe ``str``. Essa ``classe`` possui os ``métodos`` que mencionamos acima e muitos outros. "
   ]
  },
  {
   "cell_type": "markdown",
   "metadata": {},
   "source": [
    "<a class='section' id='breve_comentario_sobre_as_classes'></a>\n",
    "# Breve comentário sobre as ``classes``"
   ]
  },
  {
   "cell_type": "markdown",
   "metadata": {},
   "source": [
    "Nesse curso não entraremos em detalhes sobre construção de ``classes``. Contudo, vale a pena saber alguns detalhes sobre as ``classes`` de variáveis que já estamos trabalhando. \n",
    "\n",
    "Além dos ``métodos``, uma ``classe`` possui ``propriedades`` associadas a ela. Uma ``propriedade`` é algo intrínseco da ``classe``. Por exemplo, sabemos que a variável ``variavel_string`` pertence a classe ``str`` e isso é uma ``propriedade`` dela. Já um ``método`` é aplicado à variável causando algum tipo de transformação, por exemplo, deixando todas as letras da ``str`` minúsculas ao usar o método ``lower()``. Para acessar uma ``propriedade`` usamos um ``.`` e então escrevemos o nome da ``propriedade``, sem parêntesis.\n",
    "\n",
    "Um outro exemplo que talvez ajude a entender melhor é a seguinte. Suponha um estudante chamado João da Silva, 20 anos, 1,75m e 70kg. Imagine criamos uma variável ``joao_da_silva``. Quando verificamos seu ``tipo`` ou ``classe``, essa retornará ``estudante``. Essa ``classe`` possui as ``propriedades``: ``nome``, ``sobrenome``, ``idade``, ``altura`` e ``peso``. Veja que essas são todas características intrínsecas de ``joao_da_silva``. Assim, se quiséssemos saber sua idade, bastaria usar o seguinte código:\n",
    "\n",
    "```python\n",
    ">>> print(joao_da_silva.idade)\n",
    "20\n",
    "```\n",
    "\n",
    "Imagine agora que João não é um cara que goste muito de estudar e está sempre tirando notas vermelhas. Para mudar isso, ou seja, fazer com que ele tire notas azuis, poderíamos aplicar um ``método`` chamado ``estudar()``. Isso mudaria a natureza de ``joao_da_silva``, que é da ``classe``  ``estudante`` e ele tiraria notas azuis. Contudo, se o método não for aplicado, ele volta a ser um cara que não gosta muito de estudar e a tirar notas vermelhas, contudo, suas ``propriedades`` permanecem inalteradas: seu ``nome`` continua sendo ``João``, seu ``sobrenome`` continua sendo ``da Silva`` etc. Contudo, as ``propriedades`` de um ``objeto`` particular de uma ``classe`` podem ser alteradas. Imagine que a ``classe`` ``estudante`` possua um método ``fazer_aniversario()``. Se aplicarmos esse ``método`` em ``joao_da_silva``, isto é, ``joao_da_silva.fazer_aniversario()``, isso fará com que ele fique um ano mais velho. Portanto, sua ``propriedade`` ``idade``, terá seu valor atualizado para ``21`` anos:\n",
    "\n",
    "```python\n",
    ">>> print(joao_da_silva.idade)\n",
    "20\n",
    ">>> joao_da_silva.fazer_aniversario()\n",
    ">>> print(joao_da_silva.idade)\n",
    "21\n",
    "```"
   ]
  },
  {
   "cell_type": "markdown",
   "metadata": {},
   "source": [
    "Para verificar todas as ``propriedades`` e ``métodos`` disponíveis de uma ``classe``, podemos usar a ``função`` ``dir()``. Por exemplo, para uma ``string``:"
   ]
  },
  {
   "cell_type": "code",
   "execution_count": 135,
   "metadata": {
    "ExecuteTime": {
     "end_time": "2020-06-15T15:49:19.860105Z",
     "start_time": "2020-06-15T15:49:19.857076Z"
    }
   },
   "outputs": [
    {
     "data": {
      "text/plain": [
       "['__add__',\n",
       " '__class__',\n",
       " '__contains__',\n",
       " '__delattr__',\n",
       " '__dir__',\n",
       " '__doc__',\n",
       " '__eq__',\n",
       " '__format__',\n",
       " '__ge__',\n",
       " '__getattribute__',\n",
       " '__getitem__',\n",
       " '__getnewargs__',\n",
       " '__gt__',\n",
       " '__hash__',\n",
       " '__init__',\n",
       " '__init_subclass__',\n",
       " '__iter__',\n",
       " '__le__',\n",
       " '__len__',\n",
       " '__lt__',\n",
       " '__mod__',\n",
       " '__mul__',\n",
       " '__ne__',\n",
       " '__new__',\n",
       " '__reduce__',\n",
       " '__reduce_ex__',\n",
       " '__repr__',\n",
       " '__rmod__',\n",
       " '__rmul__',\n",
       " '__setattr__',\n",
       " '__sizeof__',\n",
       " '__str__',\n",
       " '__subclasshook__',\n",
       " 'capitalize',\n",
       " 'casefold',\n",
       " 'center',\n",
       " 'count',\n",
       " 'encode',\n",
       " 'endswith',\n",
       " 'expandtabs',\n",
       " 'find',\n",
       " 'format',\n",
       " 'format_map',\n",
       " 'index',\n",
       " 'isalnum',\n",
       " 'isalpha',\n",
       " 'isascii',\n",
       " 'isdecimal',\n",
       " 'isdigit',\n",
       " 'isidentifier',\n",
       " 'islower',\n",
       " 'isnumeric',\n",
       " 'isprintable',\n",
       " 'isspace',\n",
       " 'istitle',\n",
       " 'isupper',\n",
       " 'join',\n",
       " 'ljust',\n",
       " 'lower',\n",
       " 'lstrip',\n",
       " 'maketrans',\n",
       " 'partition',\n",
       " 'replace',\n",
       " 'rfind',\n",
       " 'rindex',\n",
       " 'rjust',\n",
       " 'rpartition',\n",
       " 'rsplit',\n",
       " 'rstrip',\n",
       " 'split',\n",
       " 'splitlines',\n",
       " 'startswith',\n",
       " 'strip',\n",
       " 'swapcase',\n",
       " 'title',\n",
       " 'translate',\n",
       " 'upper',\n",
       " 'zfill']"
      ]
     },
     "execution_count": 135,
     "metadata": {},
     "output_type": "execute_result"
    }
   ],
   "source": [
    "dir(\"Vamos ver as propriedades e métodos das strings!\")"
   ]
  },
  {
   "cell_type": "markdown",
   "metadata": {},
   "source": [
    "O mesmo resultado poderia ser obtido passando a classe ``str`` diretamente como argumento para a função ``dir()``.\n",
    "\n",
    "```python\n",
    ">>> dir(str)\n",
    "```\n",
    "\n",
    "Observe que no começo vimos a função ``type()`` que retornava o ``tipo`` da variável. Para uma ``string`` ela retorna o tipo ``str``:"
   ]
  },
  {
   "cell_type": "code",
   "execution_count": 136,
   "metadata": {
    "ExecuteTime": {
     "end_time": "2020-06-15T15:49:20.240158Z",
     "start_time": "2020-06-15T15:49:20.237460Z"
    }
   },
   "outputs": [
    {
     "data": {
      "text/plain": [
       "str"
      ]
     },
     "execution_count": 136,
     "metadata": {},
     "output_type": "execute_result"
    }
   ],
   "source": [
    "type(\"Vamos ver qual o tipo da string.\")"
   ]
  },
  {
   "cell_type": "markdown",
   "metadata": {},
   "source": [
    "Podemos usar a ``propriedade`` ``__class__`` para verificar a ``classe`` da ``string``:"
   ]
  },
  {
   "cell_type": "code",
   "execution_count": 137,
   "metadata": {
    "ExecuteTime": {
     "end_time": "2020-06-15T15:49:20.617022Z",
     "start_time": "2020-06-15T15:49:20.614390Z"
    }
   },
   "outputs": [
    {
     "data": {
      "text/plain": [
       "str"
      ]
     },
     "execution_count": 137,
     "metadata": {},
     "output_type": "execute_result"
    }
   ],
   "source": [
    "\"Vamos ver qual a classe da string.\".__class__"
   ]
  },
  {
   "cell_type": "markdown",
   "metadata": {},
   "source": [
    "Tanto a função ``type()`` quanto a ``propiedade`` ``__class__`` retornam ``str``.\n",
    "\n",
    "``Python`` é uma linguagem de programação ``orientada a objeto``. Isso quer dizer que estamos sempre trabalhando com ``objetos``. Esses ``objetos`` pertencem a diferentes ``classes`` e possuem suas próprias ``propriedades`` e ``métodos``. Assim, quando escrevemos algo do tipo\n",
    "\n",
    "```python\n",
    ">>> variavel_string = \"Eu sou uma string, um objeto. Minha classe é 'str'\".\n",
    "```\n",
    "\n",
    "temos que a ``string``, do lado direito, é um ``objeto`` da ``classe`` ``str``, que possui suas ``propriedades`` e ``métodos``. Do lado esquerdo, criamos uma ``variável`` que guarda o valor dessa ``string``. Se analisarmos ``variavel_string``, veremos que ela é da ``classe`` ``str``\n",
    "\n",
    "```python\n",
    ">>> print(variavel_string.__class__)\n",
    "str\n",
    "```\n",
    "\n",
    "de maneira que a variável criada também possui todos as ``propriedades`` e ``métodos`` da ``classe`` ``str``."
   ]
  },
  {
   "cell_type": "markdown",
   "metadata": {},
   "source": [
    "Se observarmos acima, a ``função`` ``dir()`` retorna uma ``lista`` com todos as ``propriedades`` e ``métodos`` da ``classe`` ``str``. Em ``python``, uma ``lista`` faz parte de uma outra ``classe``, chamada ``list``. Essa nova ``classe`` seja nosso ``obejto`` de estudo na próxima seção."
   ]
  },
  {
   "cell_type": "markdown",
   "metadata": {},
   "source": [
    "<a class='section' id='listas'></a>\n",
    "# Listas"
   ]
  },
  {
   "cell_type": "markdown",
   "metadata": {},
   "source": [
    "Uma das principais estruturas que veremos durante esse mini-curso é conhecida como ``list``. Como seu próprio nome já diz, ela guarda diversos valores em uma estrutura de ``lista``. Podemos criar uma lista usando colchetes ``[]`` e separando os valores por vírgula ``,``:\n",
    "\n",
    "```python\n",
    "# criamos a variável  ``primeira_lista`` e atribuímos a lista [4, 3, 2, 1, 0] a ela\n",
    ">>> primeira_lista = [4, 3, 2, 1, 0]\n",
    "# imprimimos a lista completa\n",
    ">>> print(primeira_lista)\n",
    "[4, 3, 2, 1, 0]\n",
    "```"
   ]
  },
  {
   "cell_type": "markdown",
   "metadata": {},
   "source": [
    "Assim como fizemos em uma ``string``, podemos usar a ``função`` ``len()`` para encontrar o número de elementos da ``lista``:\n",
    "\n",
    "```python\n",
    ">>> len(primeira_lista)\n",
    "5\n",
    "```"
   ]
  },
  {
   "cell_type": "markdown",
   "metadata": {},
   "source": [
    "Podemos acessar cada um dos termos das ``lista`` usando o ``índice`` numérico entre colchetes na frente da lista. Por exemplo, no caso da ``primeira_lista``, se quisermos acessar o primeiro termo usamos o seguinte código:\n",
    "\n",
    "```python\n",
    "# acessamos o primeiro termo da lista e o imprimimos\n",
    ">>> print(primeira_lista[0])\n",
    "4\n",
    "```\n",
    "\n",
    "Em ``python`` acessamos o primeiro índice usando o número ``0``. Para acessar o segundo termo usamos o índice ``1`` e assim por diante. Podemos usar índices negativos também. Esses se referem à ``lista`` do começo para o fim. Por exemplo, para acessar o último termo da ``lista``, usamos o ``índice`` ``-1``:\n",
    "\n",
    "```python\n",
    "# acessamos o último termo da lista e o imprimimos\n",
    ">>> print(primeira_lista[-1])\n",
    "0\n",
    "```\n",
    "\n",
    "Se tentarmos acessar um índice que não existe na lista, por exemplo, o índice ``5`` em ``primeira_lista``, o seguinte erro aparece:"
   ]
  },
  {
   "cell_type": "code",
   "execution_count": 138,
   "metadata": {
    "ExecuteTime": {
     "end_time": "2020-06-15T15:49:22.869125Z",
     "start_time": "2020-06-15T15:49:22.867256Z"
    }
   },
   "outputs": [],
   "source": [
    "# definimos nossa lista\n",
    "primeira_lista = [4, 3, 2, 1, 0]"
   ]
  },
  {
   "cell_type": "code",
   "execution_count": 139,
   "metadata": {
    "ExecuteTime": {
     "end_time": "2020-06-15T15:49:22.879262Z",
     "start_time": "2020-06-15T15:49:22.873239Z"
    }
   },
   "outputs": [
    {
     "ename": "IndexError",
     "evalue": "list index out of range",
     "output_type": "error",
     "traceback": [
      "\u001b[0;31m---------------------------------------------------------------------------\u001b[0m",
      "\u001b[0;31mIndexError\u001b[0m                                Traceback (most recent call last)",
      "\u001b[0;32m<ipython-input-139-a1e7134298d5>\u001b[0m in \u001b[0;36m<module>\u001b[0;34m\u001b[0m\n\u001b[1;32m      1\u001b[0m \u001b[0;31m# tentamos acessar um índice que não existe\u001b[0m\u001b[0;34m\u001b[0m\u001b[0;34m\u001b[0m\u001b[0;34m\u001b[0m\u001b[0m\n\u001b[0;32m----> 2\u001b[0;31m \u001b[0mprimeira_lista\u001b[0m\u001b[0;34m[\u001b[0m\u001b[0;36m5\u001b[0m\u001b[0;34m]\u001b[0m\u001b[0;34m\u001b[0m\u001b[0;34m\u001b[0m\u001b[0m\n\u001b[0m",
      "\u001b[0;31mIndexError\u001b[0m: list index out of range"
     ]
    }
   ],
   "source": [
    "# tentamos acessar um índice que não existe\n",
    "primeira_lista[5]"
   ]
  },
  {
   "cell_type": "markdown",
   "metadata": {},
   "source": [
    "Podemos criar listas com diferentes tipos de ``objetos``. Por exemplo, podemos ter em uma lista termos que são ``int``, outros que são ``str`` e até mesmo outras ``list``:\n",
    "\n",
    "```python\n",
    ">>> lista_mista = ['a', 10, 23, 'B', [1, 0, 'C']]\n",
    ">>> print(len(lista_mista))\n",
    "5\n",
    ">>> print(lista_mista[0])\n",
    "a\n",
    ">>> print(lista_mista[2])\n",
    "23\n",
    ">>> print(lista_mista[3])\n",
    "B\n",
    ">>> print(lista_mista[-1])\n",
    "[1, 0, 'C']\n",
    "```"
   ]
  },
  {
   "cell_type": "markdown",
   "metadata": {
    "ExecuteTime": {
     "end_time": "2020-06-05T21:47:37.260374Z",
     "start_time": "2020-06-05T21:47:37.258079Z"
    }
   },
   "source": [
    "Observe que o último termo dessa lista é outra lista. Dessa forma, podemos acessar os índices dessa da mesma forma:\n",
    "\n",
    "```python\n",
    ">>> print(lista_mista[-1][2])\n",
    "C\n",
    "```\n",
    "\n",
    "Veja os código executados nas células abaixo."
   ]
  },
  {
   "cell_type": "code",
   "execution_count": 140,
   "metadata": {
    "ExecuteTime": {
     "end_time": "2020-06-15T15:49:23.641715Z",
     "start_time": "2020-06-15T15:49:23.639569Z"
    }
   },
   "outputs": [],
   "source": [
    "# definimos nossa lista\n",
    "lista_mista = ['a', 10, 23, 'B', 11, [1, 0, 'C', False], True, 37, 'D', 'F', 95]"
   ]
  },
  {
   "cell_type": "code",
   "execution_count": 141,
   "metadata": {
    "ExecuteTime": {
     "end_time": "2020-06-15T15:49:23.647756Z",
     "start_time": "2020-06-15T15:49:23.645335Z"
    }
   },
   "outputs": [
    {
     "data": {
      "text/plain": [
       "11"
      ]
     },
     "execution_count": 141,
     "metadata": {},
     "output_type": "execute_result"
    }
   ],
   "source": [
    "# inspecionamos o tamanho da lista\n",
    "len(lista_mista)"
   ]
  },
  {
   "cell_type": "code",
   "execution_count": 142,
   "metadata": {
    "ExecuteTime": {
     "end_time": "2020-06-15T15:49:23.654179Z",
     "start_time": "2020-06-15T15:49:23.651471Z"
    }
   },
   "outputs": [
    {
     "data": {
      "text/plain": [
       "'a'"
      ]
     },
     "execution_count": 142,
     "metadata": {},
     "output_type": "execute_result"
    }
   ],
   "source": [
    "# acessamos o primeiro termo da lista\n",
    "lista_mista[0]"
   ]
  },
  {
   "cell_type": "code",
   "execution_count": 143,
   "metadata": {
    "ExecuteTime": {
     "end_time": "2020-06-15T15:49:23.659970Z",
     "start_time": "2020-06-15T15:49:23.657707Z"
    }
   },
   "outputs": [
    {
     "data": {
      "text/plain": [
       "23"
      ]
     },
     "execution_count": 143,
     "metadata": {},
     "output_type": "execute_result"
    }
   ],
   "source": [
    "# acessamos o terceiro termo da lista\n",
    "lista_mista[2]"
   ]
  },
  {
   "cell_type": "code",
   "execution_count": 144,
   "metadata": {
    "ExecuteTime": {
     "end_time": "2020-06-15T15:49:23.666094Z",
     "start_time": "2020-06-15T15:49:23.663814Z"
    }
   },
   "outputs": [
    {
     "data": {
      "text/plain": [
       "'B'"
      ]
     },
     "execution_count": 144,
     "metadata": {},
     "output_type": "execute_result"
    }
   ],
   "source": [
    "# acessamos o quarto termo da lista\n",
    "lista_mista[3]"
   ]
  },
  {
   "cell_type": "code",
   "execution_count": 145,
   "metadata": {
    "ExecuteTime": {
     "end_time": "2020-06-15T15:49:23.672517Z",
     "start_time": "2020-06-15T15:49:23.670167Z"
    }
   },
   "outputs": [
    {
     "data": {
      "text/plain": [
       "95"
      ]
     },
     "execution_count": 145,
     "metadata": {},
     "output_type": "execute_result"
    }
   ],
   "source": [
    "# acessamos o último termo da lista\n",
    "lista_mista[-1]"
   ]
  },
  {
   "cell_type": "code",
   "execution_count": 146,
   "metadata": {
    "ExecuteTime": {
     "end_time": "2020-06-15T15:49:23.678581Z",
     "start_time": "2020-06-15T15:49:23.676159Z"
    }
   },
   "outputs": [
    {
     "data": {
      "text/plain": [
       "'C'"
      ]
     },
     "execution_count": 146,
     "metadata": {},
     "output_type": "execute_result"
    }
   ],
   "source": [
    "# acessamos o sexto elemento da lista\n",
    "# que por sua vez também é uma lista\n",
    "# e então acessamos o terceiro termo\n",
    "lista_mista[5][2]"
   ]
  },
  {
   "cell_type": "markdown",
   "metadata": {},
   "source": [
    "Podemos acessar trechos da lista e não apenas um elemento de cada vez. Para isso, especificamos, dentro do colchetes, um intervalo fechado à esquerda e aberto à direita, com os índices que queremos. Os índices devem estar separados por ``:``. Por exemplo, vamos supor que queremos acessar os ``5`` primeiros termos de ``lista_mista``:"
   ]
  },
  {
   "cell_type": "code",
   "execution_count": 147,
   "metadata": {
    "ExecuteTime": {
     "end_time": "2020-06-15T15:49:24.068563Z",
     "start_time": "2020-06-15T15:49:24.066131Z"
    }
   },
   "outputs": [
    {
     "data": {
      "text/plain": [
       "['a', 10, 23, 'B', 11]"
      ]
     },
     "execution_count": 147,
     "metadata": {},
     "output_type": "execute_result"
    }
   ],
   "source": [
    "# acessamos os ``5`` primeiros termos de ``lista_mista``\n",
    "lista_mista[0:5]"
   ]
  },
  {
   "cell_type": "markdown",
   "metadata": {},
   "source": [
    "Se estivermos considerando o início da lista, não precisamos fornecer o índice ``0``:"
   ]
  },
  {
   "cell_type": "code",
   "execution_count": 148,
   "metadata": {
    "ExecuteTime": {
     "end_time": "2020-06-15T15:49:24.455791Z",
     "start_time": "2020-06-15T15:49:24.453228Z"
    }
   },
   "outputs": [
    {
     "data": {
      "text/plain": [
       "['a', 10, 23, 'B', 11]"
      ]
     },
     "execution_count": 148,
     "metadata": {},
     "output_type": "execute_result"
    }
   ],
   "source": [
    "lista_mista[:5]"
   ]
  },
  {
   "cell_type": "markdown",
   "metadata": {},
   "source": [
    "Se quisermos escolher um trecho da lista que consiste de um certo elemento até o último da lista, não precisamos especificar o segundo índice:"
   ]
  },
  {
   "cell_type": "code",
   "execution_count": 149,
   "metadata": {
    "ExecuteTime": {
     "end_time": "2020-06-15T15:49:24.845192Z",
     "start_time": "2020-06-15T15:49:24.842646Z"
    }
   },
   "outputs": [
    {
     "data": {
      "text/plain": [
       "[[1, 0, 'C', False], True, 37, 'D', 'F', 95]"
      ]
     },
     "execution_count": 149,
     "metadata": {},
     "output_type": "execute_result"
    }
   ],
   "source": [
    "lista_mista[5:]"
   ]
  },
  {
   "cell_type": "markdown",
   "metadata": {},
   "source": [
    "Também é possível selecionar os termos de um intervalo da lista pulando alguns elementos. Para isso, adicionamos um outro ``:`` e colocamos o tamanho da janela que queremos selecionar:"
   ]
  },
  {
   "cell_type": "code",
   "execution_count": 150,
   "metadata": {
    "ExecuteTime": {
     "end_time": "2020-06-15T15:49:25.234835Z",
     "start_time": "2020-06-15T15:49:25.232316Z"
    }
   },
   "outputs": [
    {
     "data": {
      "text/plain": [
       "['a', 23, 11]"
      ]
     },
     "execution_count": 150,
     "metadata": {},
     "output_type": "execute_result"
    }
   ],
   "source": [
    "lista_mista[:5:2]"
   ]
  },
  {
   "cell_type": "markdown",
   "metadata": {},
   "source": [
    "Vamos analisar o que ocorreu aqui por partes:\n",
    "```python\n",
    "1º - selecionamos os cinco primeiros termos da lista: ['a', 10, 23, 'B', 11]\n",
    "2º - especificamos uma janela de tamanho 2 para filtrar os termos\n",
    "3º - Essa janela irá percorrer a lista de 2 em 2 termos e selcionar o primeiro termo da janela:\n",
    "    1ª janela: ['a', 10] -> 'a'\n",
    "    2ª janela: [23, 'B'] -> 10\n",
    "    3º janela: [11]      -> 11\n",
    "4º retorna a lista com os termos selecionados em cada janela: ['a', 23, 11]\n",
    "```\n",
    "\n",
    "Agora é sua vez! Selecione os cinco primeiros termos de ``lista_mista`` escolhendo intervalo de tamanho 3."
   ]
  },
  {
   "cell_type": "code",
   "execution_count": 151,
   "metadata": {
    "ExecuteTime": {
     "end_time": "2020-06-15T15:49:25.626148Z",
     "start_time": "2020-06-15T15:49:25.624543Z"
    }
   },
   "outputs": [],
   "source": [
    "# digite seu código aqui\n"
   ]
  },
  {
   "cell_type": "markdown",
   "metadata": {},
   "source": [
    "Não conseguiu? **Clique duas vezes aqui** e dê uma espiada na resposta =)\n",
    "\n",
    "<!-- \n",
    "\n",
    "lista_mista[:4:3]\n",
    "\n",
    "-->"
   ]
  },
  {
   "cell_type": "markdown",
   "metadata": {},
   "source": [
    "Podemos selecionar os termos do final da ``lista`` para o começo também, basta começarmos pelo último termo usando ``-1``, irmos até o termo que estamos interessados e usar o intervalo ``-1``:"
   ]
  },
  {
   "cell_type": "code",
   "execution_count": 152,
   "metadata": {
    "ExecuteTime": {
     "end_time": "2020-06-15T15:49:26.407960Z",
     "start_time": "2020-06-15T15:49:26.405326Z"
    }
   },
   "outputs": [
    {
     "data": {
      "text/plain": [
       "[95, 'F', 'D', 37]"
      ]
     },
     "execution_count": 152,
     "metadata": {},
     "output_type": "execute_result"
    }
   ],
   "source": [
    "# varrendo a lista de trás para frente\n",
    "lista_mista[-1:-5:-1]"
   ]
  },
  {
   "cell_type": "markdown",
   "metadata": {},
   "source": [
    "Podemos também considerar tamanhos de janelas diferentes, basta colocar o terceiro termo negativo com o tamanho desejado:"
   ]
  },
  {
   "cell_type": "code",
   "execution_count": 153,
   "metadata": {
    "ExecuteTime": {
     "end_time": "2020-06-15T15:49:26.800894Z",
     "start_time": "2020-06-15T15:49:26.798262Z"
    }
   },
   "outputs": [
    {
     "data": {
      "text/plain": [
       "[95, 'D']"
      ]
     },
     "execution_count": 153,
     "metadata": {},
     "output_type": "execute_result"
    }
   ],
   "source": [
    "# varrendo a lista ao contrário com uma janela de tamanho 2\n",
    "lista_mista[-1:-5:-2]"
   ]
  },
  {
   "cell_type": "markdown",
   "metadata": {},
   "source": [
    "Se você lembrar, [usamos](#string_len) a ``função`` ``len()`` para medir o tamanho de uma ``string``. A ``classe`` ``str`` funciona em certo aspecto como uma ``lista``. Podemos acessar caracteres individuais de uma ``string`` por meio de índices, assim como feito em uma lista:\n",
    "\n",
    "```python\n",
    ">>> string_numeros = \"0123456789\"\n",
    ">>> print(string_numeros)\n",
    "0123456789\n",
    ">>> print(len(string_numeros))\n",
    "10\n",
    ">>> print(string_numeros[3])\n",
    "3\n",
    "```\n",
    "\n",
    "Veja o código executado nas células abaixo."
   ]
  },
  {
   "cell_type": "code",
   "execution_count": 154,
   "metadata": {
    "ExecuteTime": {
     "end_time": "2020-06-15T15:49:27.195316Z",
     "start_time": "2020-06-15T15:49:27.193534Z"
    }
   },
   "outputs": [],
   "source": [
    "# definimos nossa lista\n",
    "string_numeros = \"0123456789\""
   ]
  },
  {
   "cell_type": "code",
   "execution_count": 155,
   "metadata": {
    "ExecuteTime": {
     "end_time": "2020-06-15T15:49:27.201520Z",
     "start_time": "2020-06-15T15:49:27.199185Z"
    }
   },
   "outputs": [
    {
     "data": {
      "text/plain": [
       "'0123456789'"
      ]
     },
     "execution_count": 155,
     "metadata": {},
     "output_type": "execute_result"
    }
   ],
   "source": [
    "# imprimimos a lista\n",
    "string_numeros"
   ]
  },
  {
   "cell_type": "code",
   "execution_count": 156,
   "metadata": {
    "ExecuteTime": {
     "end_time": "2020-06-15T15:49:27.207856Z",
     "start_time": "2020-06-15T15:49:27.205437Z"
    }
   },
   "outputs": [
    {
     "data": {
      "text/plain": [
       "10"
      ]
     },
     "execution_count": 156,
     "metadata": {},
     "output_type": "execute_result"
    }
   ],
   "source": [
    "# inspecionamos o tamanho da ``string``\n",
    "len(string_numeros)"
   ]
  },
  {
   "cell_type": "code",
   "execution_count": 157,
   "metadata": {
    "ExecuteTime": {
     "end_time": "2020-06-15T15:49:27.213684Z",
     "start_time": "2020-06-15T15:49:27.211395Z"
    }
   },
   "outputs": [
    {
     "data": {
      "text/plain": [
       "'3'"
      ]
     },
     "execution_count": 157,
     "metadata": {},
     "output_type": "execute_result"
    }
   ],
   "source": [
    "# acessamos o quarto caracter da ``string``\n",
    "string_numeros[3]"
   ]
  },
  {
   "cell_type": "code",
   "execution_count": 158,
   "metadata": {
    "ExecuteTime": {
     "end_time": "2020-06-15T15:49:27.219937Z",
     "start_time": "2020-06-15T15:49:27.217420Z"
    }
   },
   "outputs": [
    {
     "data": {
      "text/plain": [
       "'02468'"
      ]
     },
     "execution_count": 158,
     "metadata": {},
     "output_type": "execute_result"
    }
   ],
   "source": [
    "# podemos selecionar somente alguns termos da lista usando uma janela de tamanho 2\n",
    "string_numeros[::2]"
   ]
  },
  {
   "cell_type": "markdown",
   "metadata": {},
   "source": [
    "<a class='cell' id='sum_list'></a>\n",
    "Assim como [fizemos](#str_concatenate) com ``strings``, também podemos adicionar ``listas``:\n",
    "\n",
    "```python\n",
    ">>> lista_1 = [0, 1]\n",
    ">>> lista_2 = [2, 3]\n",
    ">>> lista_3 = lista_1 + lista_2\n",
    ">>> print(lista_3)\n",
    "[0, 1, 2, 3]\n",
    "```\n",
    "\n",
    "Vemos que o resultado é uma nova lista. Veja os códigos executados abaixo."
   ]
  },
  {
   "cell_type": "code",
   "execution_count": 159,
   "metadata": {
    "ExecuteTime": {
     "end_time": "2020-06-15T15:49:27.620464Z",
     "start_time": "2020-06-15T15:49:27.618409Z"
    }
   },
   "outputs": [],
   "source": [
    "# definimos a primeira lista\n",
    "lista_1 = [0, 1]\n",
    "# definimos a segunda lista\n",
    "lista_2 = [2, 3]"
   ]
  },
  {
   "cell_type": "code",
   "execution_count": 160,
   "metadata": {
    "ExecuteTime": {
     "end_time": "2020-06-15T15:49:27.626835Z",
     "start_time": "2020-06-15T15:49:27.624440Z"
    }
   },
   "outputs": [
    {
     "data": {
      "text/plain": [
       "[0, 1]"
      ]
     },
     "execution_count": 160,
     "metadata": {},
     "output_type": "execute_result"
    }
   ],
   "source": [
    "# inpsecionamos a ``lista_1``\n",
    "lista_1"
   ]
  },
  {
   "cell_type": "code",
   "execution_count": 161,
   "metadata": {
    "ExecuteTime": {
     "end_time": "2020-06-15T15:49:27.632765Z",
     "start_time": "2020-06-15T15:49:27.630443Z"
    }
   },
   "outputs": [
    {
     "data": {
      "text/plain": [
       "[2, 3]"
      ]
     },
     "execution_count": 161,
     "metadata": {},
     "output_type": "execute_result"
    }
   ],
   "source": [
    "# inspecionamos a ``lista_2``\n",
    "lista_2"
   ]
  },
  {
   "cell_type": "code",
   "execution_count": 162,
   "metadata": {
    "ExecuteTime": {
     "end_time": "2020-06-15T15:49:27.639359Z",
     "start_time": "2020-06-15T15:49:27.636691Z"
    }
   },
   "outputs": [
    {
     "data": {
      "text/plain": [
       "[0, 1, 2, 3]"
      ]
     },
     "execution_count": 162,
     "metadata": {},
     "output_type": "execute_result"
    }
   ],
   "source": [
    "# criamos ``lista_3`` e atribuímos o valor da soma das duas listas anteriores\n",
    "lista_3 = lista_1 + lista_2\n",
    "\n",
    "# inspecionamos a ``lista_3``\n",
    "lista_3"
   ]
  },
  {
   "cell_type": "markdown",
   "metadata": {},
   "source": [
    "Se quisermos deletar algum termo da lista, podemos usar o operador ``del`` como [fizemos](#del) para deletar uma variável:\n",
    "\n",
    "```python\n",
    ">>> print(lista_3)\n",
    "[0, 1, 2, 3]\n",
    ">>> del lista_3[2]\n",
    ">>> print(lista_3)\n",
    "[0, 1, 3]\n",
    "```\n",
    "\n",
    "Veja os códigos executados abaixo."
   ]
  },
  {
   "cell_type": "code",
   "execution_count": 163,
   "metadata": {
    "ExecuteTime": {
     "end_time": "2020-06-15T15:49:28.044867Z",
     "start_time": "2020-06-15T15:49:28.042588Z"
    }
   },
   "outputs": [
    {
     "data": {
      "text/plain": [
       "[0, 1, 2, 3]"
      ]
     },
     "execution_count": 163,
     "metadata": {},
     "output_type": "execute_result"
    }
   ],
   "source": [
    "# inspecionamos o valor da ``lista_3`` definida previamente pela soma de duas listas\n",
    "lista_3"
   ]
  },
  {
   "cell_type": "code",
   "execution_count": 164,
   "metadata": {
    "ExecuteTime": {
     "end_time": "2020-06-15T15:49:28.050020Z",
     "start_time": "2020-06-15T15:49:28.048330Z"
    }
   },
   "outputs": [],
   "source": [
    "# vamos deletar o terceiro termo da lista\n",
    "# lembre-se que os índices da lista começam em 0\n",
    "del lista_3[2]"
   ]
  },
  {
   "cell_type": "code",
   "execution_count": 165,
   "metadata": {
    "ExecuteTime": {
     "end_time": "2020-06-15T15:49:28.057451Z",
     "start_time": "2020-06-15T15:49:28.054681Z"
    }
   },
   "outputs": [
    {
     "data": {
      "text/plain": [
       "[0, 1, 3]"
      ]
     },
     "execution_count": 165,
     "metadata": {},
     "output_type": "execute_result"
    }
   ],
   "source": [
    "# inspecionamos a lista novamente\n",
    "lista_3"
   ]
  },
  {
   "cell_type": "markdown",
   "metadata": {
    "ExecuteTime": {
     "end_time": "2020-06-05T23:36:06.652176Z",
     "start_time": "2020-06-05T23:36:06.648940Z"
    }
   },
   "source": [
    "Observe que o terceiro termo da lista foi deletado. "
   ]
  },
  {
   "cell_type": "markdown",
   "metadata": {},
   "source": [
    "Podemos efetuar diversas outras com listas. Para ver a lista de ``propriedades`` e ``métodos`` "
   ]
  },
  {
   "cell_type": "code",
   "execution_count": 166,
   "metadata": {
    "ExecuteTime": {
     "end_time": "2020-06-15T15:49:28.860750Z",
     "start_time": "2020-06-15T15:49:28.857909Z"
    }
   },
   "outputs": [
    {
     "data": {
      "text/plain": [
       "['__add__',\n",
       " '__class__',\n",
       " '__contains__',\n",
       " '__delattr__',\n",
       " '__delitem__',\n",
       " '__dir__',\n",
       " '__doc__',\n",
       " '__eq__',\n",
       " '__format__',\n",
       " '__ge__',\n",
       " '__getattribute__',\n",
       " '__getitem__',\n",
       " '__gt__',\n",
       " '__hash__',\n",
       " '__iadd__',\n",
       " '__imul__',\n",
       " '__init__',\n",
       " '__init_subclass__',\n",
       " '__iter__',\n",
       " '__le__',\n",
       " '__len__',\n",
       " '__lt__',\n",
       " '__mul__',\n",
       " '__ne__',\n",
       " '__new__',\n",
       " '__reduce__',\n",
       " '__reduce_ex__',\n",
       " '__repr__',\n",
       " '__reversed__',\n",
       " '__rmul__',\n",
       " '__setattr__',\n",
       " '__setitem__',\n",
       " '__sizeof__',\n",
       " '__str__',\n",
       " '__subclasshook__',\n",
       " 'append',\n",
       " 'clear',\n",
       " 'copy',\n",
       " 'count',\n",
       " 'extend',\n",
       " 'index',\n",
       " 'insert',\n",
       " 'pop',\n",
       " 'remove',\n",
       " 'reverse',\n",
       " 'sort']"
      ]
     },
     "execution_count": 166,
     "metadata": {},
     "output_type": "execute_result"
    }
   ],
   "source": [
    "dir(list)"
   ]
  },
  {
   "cell_type": "code",
   "execution_count": 167,
   "metadata": {
    "ExecuteTime": {
     "end_time": "2020-06-15T15:49:28.868567Z",
     "start_time": "2020-06-15T15:49:28.865891Z"
    }
   },
   "outputs": [],
   "source": [
    "# criamos uma lista com vários elementos repetidos\n",
    "lista_teste = [1, 2, 3, 4, 5, \n",
    "                  2, 3, 4, 5,\n",
    "                     3, 4, 5,\n",
    "                        4, 5,\n",
    "                           5]"
   ]
  },
  {
   "cell_type": "code",
   "execution_count": 168,
   "metadata": {
    "ExecuteTime": {
     "end_time": "2020-06-15T15:49:28.874486Z",
     "start_time": "2020-06-15T15:49:28.872060Z"
    }
   },
   "outputs": [
    {
     "data": {
      "text/plain": [
       "[1, 2, 3, 4, 5, 2, 3, 4, 5, 3, 4, 5, 4, 5, 5]"
      ]
     },
     "execution_count": 168,
     "metadata": {},
     "output_type": "execute_result"
    }
   ],
   "source": [
    "# veja como fica a lista criada\n",
    "lista_teste"
   ]
  },
  {
   "cell_type": "code",
   "execution_count": 169,
   "metadata": {
    "ExecuteTime": {
     "end_time": "2020-06-15T15:49:28.879783Z",
     "start_time": "2020-06-15T15:49:28.878157Z"
    }
   },
   "outputs": [],
   "source": [
    "# podemos ordenar a lista em ordem crescente\n",
    "lista_teste.sort()"
   ]
  },
  {
   "cell_type": "code",
   "execution_count": 170,
   "metadata": {
    "ExecuteTime": {
     "end_time": "2020-06-15T15:49:28.886770Z",
     "start_time": "2020-06-15T15:49:28.884206Z"
    }
   },
   "outputs": [
    {
     "data": {
      "text/plain": [
       "[1, 2, 2, 3, 3, 3, 4, 4, 4, 4, 5, 5, 5, 5, 5]"
      ]
     },
     "execution_count": 170,
     "metadata": {},
     "output_type": "execute_result"
    }
   ],
   "source": [
    "# inspecionamos a lista e vemos que ela está em ordem crescente\n",
    "lista_teste"
   ]
  },
  {
   "cell_type": "code",
   "execution_count": 171,
   "metadata": {
    "ExecuteTime": {
     "end_time": "2020-06-15T15:49:28.892499Z",
     "start_time": "2020-06-15T15:49:28.890643Z"
    }
   },
   "outputs": [],
   "source": [
    "# ou se preferir em ordem decrescente\n",
    "lista_teste.sort(reverse=True)"
   ]
  },
  {
   "cell_type": "code",
   "execution_count": 172,
   "metadata": {
    "ExecuteTime": {
     "end_time": "2020-06-15T15:49:28.899576Z",
     "start_time": "2020-06-15T15:49:28.896914Z"
    }
   },
   "outputs": [
    {
     "data": {
      "text/plain": [
       "[5, 5, 5, 5, 5, 4, 4, 4, 4, 3, 3, 3, 2, 2, 1]"
      ]
     },
     "execution_count": 172,
     "metadata": {},
     "output_type": "execute_result"
    }
   ],
   "source": [
    "# inspecionamos a lista e vemos que ela está em ordem decrescente\n",
    "lista_teste"
   ]
  },
  {
   "cell_type": "code",
   "execution_count": 173,
   "metadata": {
    "ExecuteTime": {
     "end_time": "2020-06-15T15:49:28.906060Z",
     "start_time": "2020-06-15T15:49:28.903560Z"
    }
   },
   "outputs": [
    {
     "data": {
      "text/plain": [
       "5"
      ]
     },
     "execution_count": 173,
     "metadata": {},
     "output_type": "execute_result"
    }
   ],
   "source": [
    "# contamos quantas vezes ``5`` ocorre na lista\n",
    "lista_teste.count(5)"
   ]
  },
  {
   "cell_type": "code",
   "execution_count": 174,
   "metadata": {
    "ExecuteTime": {
     "end_time": "2020-06-15T15:49:28.911656Z",
     "start_time": "2020-06-15T15:49:28.909911Z"
    }
   },
   "outputs": [],
   "source": [
    "# removemos a primeira ocorrência do termo ``5``\n",
    "lista_teste.remove(5)"
   ]
  },
  {
   "cell_type": "code",
   "execution_count": 175,
   "metadata": {
    "ExecuteTime": {
     "end_time": "2020-06-15T15:49:28.918911Z",
     "start_time": "2020-06-15T15:49:28.916291Z"
    }
   },
   "outputs": [
    {
     "data": {
      "text/plain": [
       "4"
      ]
     },
     "execution_count": 175,
     "metadata": {},
     "output_type": "execute_result"
    }
   ],
   "source": [
    "# contamos novamente quantas vezes ``5`` ocorre na lista\n",
    "lista_teste.count(5)"
   ]
  },
  {
   "cell_type": "code",
   "execution_count": 176,
   "metadata": {
    "ExecuteTime": {
     "end_time": "2020-06-15T15:49:28.925304Z",
     "start_time": "2020-06-15T15:49:28.922707Z"
    }
   },
   "outputs": [
    {
     "data": {
      "text/plain": [
       "[5, 5, 5, 5, 4, 4, 4, 4, 3, 3, 3, 2, 2, 1]"
      ]
     },
     "execution_count": 176,
     "metadata": {},
     "output_type": "execute_result"
    }
   ],
   "source": [
    "# inspecionamos a lista e vemos que um ``5`` foi removido\n",
    "lista_teste"
   ]
  },
  {
   "cell_type": "markdown",
   "metadata": {},
   "source": [
    "Também podemos remover um item da lista pelo índice. Para isso, usamos o método ``pop()``, fornecendo como argumento o índice desejado. Esse ``método`` nos retorna o valor no índice fornecido e o remove da lista:"
   ]
  },
  {
   "cell_type": "code",
   "execution_count": 177,
   "metadata": {
    "ExecuteTime": {
     "end_time": "2020-06-15T15:49:29.344512Z",
     "start_time": "2020-06-15T15:49:29.341619Z"
    }
   },
   "outputs": [
    {
     "data": {
      "text/plain": [
       "3"
      ]
     },
     "execution_count": 177,
     "metadata": {},
     "output_type": "execute_result"
    }
   ],
   "source": [
    "# removemos o termo que se encontra no oitavo índice da lista\n",
    "lista_teste.pop(8)"
   ]
  },
  {
   "cell_type": "code",
   "execution_count": 178,
   "metadata": {
    "ExecuteTime": {
     "end_time": "2020-06-15T15:49:29.350649Z",
     "start_time": "2020-06-15T15:49:29.347790Z"
    }
   },
   "outputs": [
    {
     "data": {
      "text/plain": [
       "[5, 5, 5, 5, 4, 4, 4, 4, 3, 3, 2, 2, 1]"
      ]
     },
     "execution_count": 178,
     "metadata": {},
     "output_type": "execute_result"
    }
   ],
   "source": [
    "# inspecionamos a lista e vemos que um ``3`` foi removido\n",
    "lista_teste"
   ]
  },
  {
   "cell_type": "code",
   "execution_count": 179,
   "metadata": {
    "ExecuteTime": {
     "end_time": "2020-06-15T15:49:29.356667Z",
     "start_time": "2020-06-15T15:49:29.354570Z"
    }
   },
   "outputs": [],
   "source": [
    "# podemos adicionar os termos de uma outra lista de maneira implicita\n",
    "lista_teste.extend([6, 7, 8, 9])"
   ]
  },
  {
   "cell_type": "code",
   "execution_count": 180,
   "metadata": {
    "ExecuteTime": {
     "end_time": "2020-06-15T15:49:29.363537Z",
     "start_time": "2020-06-15T15:49:29.360800Z"
    }
   },
   "outputs": [
    {
     "data": {
      "text/plain": [
       "[5, 5, 5, 5, 4, 4, 4, 4, 3, 3, 2, 2, 1, 6, 7, 8, 9]"
      ]
     },
     "execution_count": 180,
     "metadata": {},
     "output_type": "execute_result"
    }
   ],
   "source": [
    "# inspecionamos a lista e vemos que ela foi extendida\n",
    "lista_teste"
   ]
  },
  {
   "cell_type": "code",
   "execution_count": 181,
   "metadata": {
    "ExecuteTime": {
     "end_time": "2020-06-15T15:49:29.369109Z",
     "start_time": "2020-06-15T15:49:29.367236Z"
    }
   },
   "outputs": [],
   "source": [
    "# ou podemos adicionar um termo no final da lista\n",
    "lista_teste.append([10, 11, 12, 13])"
   ]
  },
  {
   "cell_type": "code",
   "execution_count": 182,
   "metadata": {
    "ExecuteTime": {
     "end_time": "2020-06-15T15:49:29.376408Z",
     "start_time": "2020-06-15T15:49:29.373793Z"
    }
   },
   "outputs": [
    {
     "data": {
      "text/plain": [
       "[5, 5, 5, 5, 4, 4, 4, 4, 3, 3, 2, 2, 1, 6, 7, 8, 9, [10, 11, 12, 13]]"
      ]
     },
     "execution_count": 182,
     "metadata": {},
     "output_type": "execute_result"
    }
   ],
   "source": [
    "# inspecionamos a lista e vemos que um novo termo foi adicionado no final\n",
    "lista_teste"
   ]
  },
  {
   "cell_type": "markdown",
   "metadata": {},
   "source": [
    "Veja a diferença entre os ``métodos`` ``extende`` e ``append``. O primeiro adiciona todos os termos do argumento fornecido (``[6, 7, 8, 9]``) como diversos termos novos da lista. O segundo adiciona o argumento (``[10, 11, 12, 13]``) como um termo apenas, na última posição da ``lista``."
   ]
  },
  {
   "cell_type": "markdown",
   "metadata": {},
   "source": [
    "Também podemos inserir um ``objeto`` em um índice específico da lista. Para isso, usamos o método ``insert()``, fornecendo dois argumentos: o índice e o ``objeto``."
   ]
  },
  {
   "cell_type": "code",
   "execution_count": 183,
   "metadata": {
    "ExecuteTime": {
     "end_time": "2020-06-15T15:49:30.224029Z",
     "start_time": "2020-06-15T15:49:30.222055Z"
    }
   },
   "outputs": [],
   "source": [
    "# iremos inserir a lista [23, 17] no índice 2 da lista, ou seja, como o terceiro termo\n",
    "lista_teste.insert(2, [23,17])"
   ]
  },
  {
   "cell_type": "code",
   "execution_count": 184,
   "metadata": {
    "ExecuteTime": {
     "end_time": "2020-06-15T15:49:30.232510Z",
     "start_time": "2020-06-15T15:49:30.228590Z"
    }
   },
   "outputs": [
    {
     "data": {
      "text/plain": [
       "[5, 5, [23, 17], 5, 5, 4, 4, 4, 4, 3, 3, 2, 2, 1, 6, 7, 8, 9, [10, 11, 12, 13]]"
      ]
     },
     "execution_count": 184,
     "metadata": {},
     "output_type": "execute_result"
    }
   ],
   "source": [
    "# inspecionamos a lista e vemos que ``[23, 17]`` foi adicionado ao índice ``2``\n",
    "lista_teste"
   ]
  },
  {
   "cell_type": "code",
   "execution_count": 185,
   "metadata": {
    "ExecuteTime": {
     "end_time": "2020-06-15T15:49:30.236564Z",
     "start_time": "2020-06-15T15:49:30.234790Z"
    }
   },
   "outputs": [],
   "source": [
    "# podemos também inverter os termos da lista\n",
    "lista_teste.reverse()"
   ]
  },
  {
   "cell_type": "code",
   "execution_count": 186,
   "metadata": {
    "ExecuteTime": {
     "end_time": "2020-06-15T15:49:30.245111Z",
     "start_time": "2020-06-15T15:49:30.241804Z"
    }
   },
   "outputs": [
    {
     "data": {
      "text/plain": [
       "[[10, 11, 12, 13], 9, 8, 7, 6, 1, 2, 2, 3, 3, 4, 4, 4, 4, 5, 5, [23, 17], 5, 5]"
      ]
     },
     "execution_count": 186,
     "metadata": {},
     "output_type": "execute_result"
    }
   ],
   "source": [
    "# inspecionamos a lista\n",
    "lista_teste"
   ]
  },
  {
   "cell_type": "markdown",
   "metadata": {},
   "source": [
    "Também podemos alterar termos das listas selecionando o termo que queremos substituir com a notação ``[]`` e então atribuir o novo valor à esse índice:"
   ]
  },
  {
   "cell_type": "code",
   "execution_count": 187,
   "metadata": {
    "ExecuteTime": {
     "end_time": "2020-06-15T15:49:30.678598Z",
     "start_time": "2020-06-15T15:49:30.676271Z"
    }
   },
   "outputs": [],
   "source": [
    "# vamos substituir a lista ``[10, 11, 12, 13]`` no índice ``0`` pelo caracter 'A'\n",
    "lista_teste[0] = 'A'"
   ]
  },
  {
   "cell_type": "code",
   "execution_count": 188,
   "metadata": {
    "ExecuteTime": {
     "end_time": "2020-06-15T15:49:30.686380Z",
     "start_time": "2020-06-15T15:49:30.683029Z"
    }
   },
   "outputs": [
    {
     "data": {
      "text/plain": [
       "['A', 9, 8, 7, 6, 1, 2, 2, 3, 3, 4, 4, 4, 4, 5, 5, [23, 17], 5, 5]"
      ]
     },
     "execution_count": 188,
     "metadata": {},
     "output_type": "execute_result"
    }
   ],
   "source": [
    "# inspecionamos a lista e vemos que o termo no índice ``0`` foi substituído\n",
    "lista_teste"
   ]
  },
  {
   "cell_type": "markdown",
   "metadata": {},
   "source": [
    "Se você se lembrar, quando [aplicamos métodos em ``strings``](#str_methodo_not_in_place), as mudanças não eram aplicadas diretamente ao ``objeto`` em questão. Contudo, quando aplicamos os ``métodos`` em uma ``lista``, a mudança é feita diretamente no ``objeto``, alterando seu valor, como se reescrevessemos a variável novamente. Esse tipo de ação é chamada de ``in place``, ou seja, quando um método atua no próprio ``objeto`` o alterando."
   ]
  },
  {
   "cell_type": "markdown",
   "metadata": {},
   "source": [
    "Existem dois operadores que podem ser usados em operações com listas. O ``in`` nos diz se um certo termo é encontrado na lista em questão e o ``not in`` se o valor não é encontrado. Para exemplificar como esses operadores funcionam, vamos usar a seguinte lista como exemplo:"
   ]
  },
  {
   "cell_type": "code",
   "execution_count": 189,
   "metadata": {
    "ExecuteTime": {
     "end_time": "2020-06-15T15:49:31.548504Z",
     "start_time": "2020-06-15T15:49:31.544275Z"
    }
   },
   "outputs": [
    {
     "data": {
      "text/plain": [
       "[0, 1, 2, 3, 4, 5, 6, 7, 8, 9]"
      ]
     },
     "execution_count": 189,
     "metadata": {},
     "output_type": "execute_result"
    }
   ],
   "source": [
    "# criamos uma lista exemplo\n",
    "lista_exemplo = [0, 1, 2, 3, 4, 5, 6, 7, 8, 9]\n",
    "lista_exemplo"
   ]
  },
  {
   "cell_type": "code",
   "execution_count": 190,
   "metadata": {
    "ExecuteTime": {
     "end_time": "2020-06-15T15:49:31.557322Z",
     "start_time": "2020-06-15T15:49:31.551459Z"
    }
   },
   "outputs": [
    {
     "data": {
      "text/plain": [
       "True"
      ]
     },
     "execution_count": 190,
     "metadata": {},
     "output_type": "execute_result"
    }
   ],
   "source": [
    "# vamos verificar se o número 3 existe na lista\n",
    "3 in lista_exemplo"
   ]
  },
  {
   "cell_type": "markdown",
   "metadata": {},
   "source": [
    "O valor retornado é ``True``, pois o número ``3`` existe na lista. Se procurarmos pelo número ``10``:"
   ]
  },
  {
   "cell_type": "code",
   "execution_count": 191,
   "metadata": {
    "ExecuteTime": {
     "end_time": "2020-06-15T15:49:32.002722Z",
     "start_time": "2020-06-15T15:49:32.000158Z"
    }
   },
   "outputs": [
    {
     "data": {
      "text/plain": [
       "False"
      ]
     },
     "execution_count": 191,
     "metadata": {},
     "output_type": "execute_result"
    }
   ],
   "source": [
    "10 in lista_exemplo"
   ]
  },
  {
   "cell_type": "markdown",
   "metadata": {},
   "source": [
    "O valor retornado é ``False``, pois não existe o número ``10`` na lista."
   ]
  },
  {
   "cell_type": "markdown",
   "metadata": {},
   "source": [
    "O operador ``not in`` funciona como o contrário do operador ``in``. Por exemplo, vamos perguntar se o número ``3`` não está na lista:"
   ]
  },
  {
   "cell_type": "code",
   "execution_count": 192,
   "metadata": {
    "ExecuteTime": {
     "end_time": "2020-06-15T15:49:32.862142Z",
     "start_time": "2020-06-15T15:49:32.858916Z"
    }
   },
   "outputs": [
    {
     "data": {
      "text/plain": [
       "False"
      ]
     },
     "execution_count": 192,
     "metadata": {},
     "output_type": "execute_result"
    }
   ],
   "source": [
    "3 not in lista_exemplo"
   ]
  },
  {
   "cell_type": "markdown",
   "metadata": {},
   "source": [
    "O valor retornado é ``False``, pois o número ``3`` está presente na lista. Já se perguntarmos se o número ``10`` não está na lista:"
   ]
  },
  {
   "cell_type": "code",
   "execution_count": 193,
   "metadata": {
    "ExecuteTime": {
     "end_time": "2020-06-15T15:49:33.300065Z",
     "start_time": "2020-06-15T15:49:33.296816Z"
    }
   },
   "outputs": [
    {
     "data": {
      "text/plain": [
       "True"
      ]
     },
     "execution_count": 193,
     "metadata": {},
     "output_type": "execute_result"
    }
   ],
   "source": [
    "10 not in lista_exemplo"
   ]
  },
  {
   "cell_type": "markdown",
   "metadata": {},
   "source": [
    "Vemos que o valor retornado é ``True``, pois o número ``10`` não é encontrado na lista."
   ]
  },
  {
   "cell_type": "markdown",
   "metadata": {},
   "source": [
    "<a class='section' id='tuplas'></a>\n",
    "# Tuplas"
   ]
  },
  {
   "cell_type": "markdown",
   "metadata": {},
   "source": [
    "``Tuplas`` são praticamente igual às ``listas``. Elas são um conjunto de ``objetos`` que se encontram separados por ``,`` dentro de parêntesis ``()``:"
   ]
  },
  {
   "cell_type": "code",
   "execution_count": 194,
   "metadata": {
    "ExecuteTime": {
     "end_time": "2020-06-15T15:49:34.598473Z",
     "start_time": "2020-06-15T15:49:34.595480Z"
    }
   },
   "outputs": [
    {
     "data": {
      "text/plain": [
       "(0, 1, 2, 3, 4)"
      ]
     },
     "execution_count": 194,
     "metadata": {},
     "output_type": "execute_result"
    }
   ],
   "source": [
    "# vamos criar nossa primeira tupla\n",
    "tupla_1 = (0, 1, 2, 3, 4)\n",
    "# repetimos a variável para ela ser imprimida na tela\n",
    "tupla_1"
   ]
  },
  {
   "cell_type": "markdown",
   "metadata": {},
   "source": [
    "Se inspecionarmos qual o ``tipo`` ou ``classe`` desse novo ``objeto``, obtemos:"
   ]
  },
  {
   "cell_type": "code",
   "execution_count": 195,
   "metadata": {
    "ExecuteTime": {
     "end_time": "2020-06-15T15:49:35.035490Z",
     "start_time": "2020-06-15T15:49:35.032654Z"
    }
   },
   "outputs": [
    {
     "data": {
      "text/plain": [
       "tuple"
      ]
     },
     "execution_count": 195,
     "metadata": {},
     "output_type": "execute_result"
    }
   ],
   "source": [
    "type(tupla_1)"
   ]
  },
  {
   "cell_type": "markdown",
   "metadata": {},
   "source": [
    "Seu tamanho também pode ser obtido por meio da ``função`` ``len()``:"
   ]
  },
  {
   "cell_type": "code",
   "execution_count": 196,
   "metadata": {
    "ExecuteTime": {
     "end_time": "2020-06-15T15:49:35.469552Z",
     "start_time": "2020-06-15T15:49:35.466826Z"
    }
   },
   "outputs": [
    {
     "data": {
      "text/plain": [
       "5"
      ]
     },
     "execution_count": 196,
     "metadata": {},
     "output_type": "execute_result"
    }
   ],
   "source": [
    "len(tupla_1)"
   ]
  },
  {
   "cell_type": "markdown",
   "metadata": {},
   "source": [
    "Ela possui propriedades parecidas com as ``listas``. Por exemplos, podemos somar duas ``tuplas``:"
   ]
  },
  {
   "cell_type": "code",
   "execution_count": 197,
   "metadata": {
    "ExecuteTime": {
     "end_time": "2020-06-15T15:49:35.909529Z",
     "start_time": "2020-06-15T15:49:35.906168Z"
    }
   },
   "outputs": [
    {
     "data": {
      "text/plain": [
       "(0, 1, 2, 3, 4, 3, 4, 5, 6, 7)"
      ]
     },
     "execution_count": 197,
     "metadata": {},
     "output_type": "execute_result"
    }
   ],
   "source": [
    "# criamos outra tupla para somar com tupla_1 definida acima\n",
    "tupla_2 = (3, 4, 5, 6, 7)\n",
    "\n",
    "# somamos tupla_1 e tupla_2 e guardamos o valor em tupla_3\n",
    "tupla_3 = tupla_1 + tupla_2\n",
    "tupla_3"
   ]
  },
  {
   "cell_type": "markdown",
   "metadata": {},
   "source": [
    "Podemos acessar termos dentro de uma tupla da mesma forma que fizemos com as listas, fornecendo índices na frente dela usando ``[]``:"
   ]
  },
  {
   "cell_type": "code",
   "execution_count": 198,
   "metadata": {
    "ExecuteTime": {
     "end_time": "2020-06-15T15:49:36.347770Z",
     "start_time": "2020-06-15T15:49:36.345109Z"
    }
   },
   "outputs": [
    {
     "data": {
      "text/plain": [
       "4"
      ]
     },
     "execution_count": 198,
     "metadata": {},
     "output_type": "execute_result"
    }
   ],
   "source": [
    "# acessando o quinto termo da tupla\n",
    "# lembre-se que os índices começam em ``0``\n",
    "tupla_3[4]"
   ]
  },
  {
   "cell_type": "code",
   "execution_count": 199,
   "metadata": {
    "ExecuteTime": {
     "end_time": "2020-06-15T15:49:36.353950Z",
     "start_time": "2020-06-15T15:49:36.351271Z"
    }
   },
   "outputs": [
    {
     "data": {
      "text/plain": [
       "(3, 4, 3, 4)"
      ]
     },
     "execution_count": 199,
     "metadata": {},
     "output_type": "execute_result"
    }
   ],
   "source": [
    "# também podemos acessar um trecho da tupla usando ``:``\n",
    "tupla_3[3:7]"
   ]
  },
  {
   "cell_type": "code",
   "execution_count": 200,
   "metadata": {
    "ExecuteTime": {
     "end_time": "2020-06-15T15:49:36.360119Z",
     "start_time": "2020-06-15T15:49:36.357783Z"
    }
   },
   "outputs": [
    {
     "data": {
      "text/plain": [
       "(0, 3, 4, 7)"
      ]
     },
     "execution_count": 200,
     "metadata": {},
     "output_type": "execute_result"
    }
   ],
   "source": [
    "# e usar intervalos para selecionar apenas alguns valores\n",
    "tupla_3[::3]"
   ]
  },
  {
   "cell_type": "markdown",
   "metadata": {},
   "source": [
    "Os índices para selecionar valores do final para o começo da ``tupla`` também funcionam:"
   ]
  },
  {
   "cell_type": "code",
   "execution_count": 201,
   "metadata": {
    "ExecuteTime": {
     "end_time": "2020-06-15T15:49:36.804970Z",
     "start_time": "2020-06-15T15:49:36.802337Z"
    }
   },
   "outputs": [
    {
     "data": {
      "text/plain": [
       "(7, 6, 5, 4)"
      ]
     },
     "execution_count": 201,
     "metadata": {},
     "output_type": "execute_result"
    }
   ],
   "source": [
    "# lembre-se de que temos que adicionar o intervalo negativo\n",
    "tupla_3[-1:-5:-1]"
   ]
  },
  {
   "cell_type": "markdown",
   "metadata": {},
   "source": [
    "As ``tuplas`` tambḿe podem ter ``objetos``diferentes, por exemplo, ``int``, ``str``, ``list`` e ``bool``:"
   ]
  },
  {
   "cell_type": "code",
   "execution_count": 202,
   "metadata": {
    "ExecuteTime": {
     "end_time": "2020-06-15T15:49:37.249641Z",
     "start_time": "2020-06-15T15:49:37.247566Z"
    }
   },
   "outputs": [],
   "source": [
    "# definindo uma ``tupla`` com diferentes objetos\n",
    "tupla_mista = (0, 1, 'a', 27, [0, 1], True, 'C')"
   ]
  },
  {
   "cell_type": "markdown",
   "metadata": {},
   "source": [
    "Também podemos usar os operadores ``in`` e ``not in`` para ver se existem ou não os termos de interesse nas tuplas:"
   ]
  },
  {
   "cell_type": "code",
   "execution_count": 203,
   "metadata": {
    "ExecuteTime": {
     "end_time": "2020-06-15T15:49:37.690323Z",
     "start_time": "2020-06-15T15:49:37.687933Z"
    }
   },
   "outputs": [
    {
     "data": {
      "text/plain": [
       "True"
      ]
     },
     "execution_count": 203,
     "metadata": {},
     "output_type": "execute_result"
    }
   ],
   "source": [
    "# procuramos por ``True`` na tupla_mista\n",
    "True in tupla_mista"
   ]
  },
  {
   "cell_type": "code",
   "execution_count": 204,
   "metadata": {
    "ExecuteTime": {
     "end_time": "2020-06-15T15:49:37.696280Z",
     "start_time": "2020-06-15T15:49:37.693768Z"
    }
   },
   "outputs": [
    {
     "data": {
      "text/plain": [
       "True"
      ]
     },
     "execution_count": 204,
     "metadata": {},
     "output_type": "execute_result"
    }
   ],
   "source": [
    "# perguntamos se o número 37 não existe em tupla_mista\n",
    "37 not in tupla_mista"
   ]
  },
  {
   "cell_type": "markdown",
   "metadata": {},
   "source": [
    "Podemos transformar uma ``tupla`` em ``lista``:"
   ]
  },
  {
   "cell_type": "code",
   "execution_count": 205,
   "metadata": {
    "ExecuteTime": {
     "end_time": "2020-06-15T15:49:38.144402Z",
     "start_time": "2020-06-15T15:49:38.141710Z"
    }
   },
   "outputs": [
    {
     "data": {
      "text/plain": [
       "[0, 1, 'a', 27, [0, 1], True, 'C']"
      ]
     },
     "execution_count": 205,
     "metadata": {},
     "output_type": "execute_result"
    }
   ],
   "source": [
    "list(tupla_mista)"
   ]
  },
  {
   "cell_type": "markdown",
   "metadata": {},
   "source": [
    "Veja que a representação muda de modo que os termos agora estão entre colchetes ``[]``."
   ]
  },
  {
   "cell_type": "markdown",
   "metadata": {},
   "source": [
    "Da mesma forma podemos transformar uma ``lista`` em uma ``tupla``:"
   ]
  },
  {
   "cell_type": "code",
   "execution_count": 206,
   "metadata": {
    "ExecuteTime": {
     "end_time": "2020-06-15T15:49:39.033116Z",
     "start_time": "2020-06-15T15:49:39.030402Z"
    }
   },
   "outputs": [
    {
     "data": {
      "text/plain": [
       "(0, 1, 2, 3)"
      ]
     },
     "execution_count": 206,
     "metadata": {},
     "output_type": "execute_result"
    }
   ],
   "source": [
    "tuple([0, 1, 2, 3])"
   ]
  },
  {
   "cell_type": "markdown",
   "metadata": {},
   "source": [
    "A principal diferença entre ``tuplas`` e ``listas`` é que uma vez que uma ``tupla`` é criada, ela não pode ser modificada de nenhuma forma, seja adicionando ou removendo termos dela. Se tentarmos, por exemplo, deletar um dos termos da tupla, veja o que ocorre:"
   ]
  },
  {
   "cell_type": "code",
   "execution_count": 207,
   "metadata": {
    "ExecuteTime": {
     "end_time": "2020-06-15T15:49:39.484429Z",
     "start_time": "2020-06-15T15:49:39.480433Z"
    }
   },
   "outputs": [
    {
     "ename": "TypeError",
     "evalue": "'tuple' object doesn't support item deletion",
     "output_type": "error",
     "traceback": [
      "\u001b[0;31m---------------------------------------------------------------------------\u001b[0m",
      "\u001b[0;31mTypeError\u001b[0m                                 Traceback (most recent call last)",
      "\u001b[0;32m<ipython-input-207-e3cb51316a94>\u001b[0m in \u001b[0;36m<module>\u001b[0;34m\u001b[0m\n\u001b[1;32m      1\u001b[0m \u001b[0;31m# tentamos deletar o termo que se encontra no índice 3 da tupla_mista\u001b[0m\u001b[0;34m\u001b[0m\u001b[0;34m\u001b[0m\u001b[0;34m\u001b[0m\u001b[0m\n\u001b[0;32m----> 2\u001b[0;31m \u001b[0;32mdel\u001b[0m \u001b[0mtupla_mista\u001b[0m\u001b[0;34m[\u001b[0m\u001b[0;36m3\u001b[0m\u001b[0;34m]\u001b[0m\u001b[0;34m\u001b[0m\u001b[0;34m\u001b[0m\u001b[0m\n\u001b[0m",
      "\u001b[0;31mTypeError\u001b[0m: 'tuple' object doesn't support item deletion"
     ]
    }
   ],
   "source": [
    "# tentamos deletar o termo que se encontra no índice 3 da tupla_mista\n",
    "del tupla_mista[3]"
   ]
  },
  {
   "cell_type": "markdown",
   "metadata": {},
   "source": [
    "O erro ``TypeError`` é retornado, dizendo que os ``objetos`` ``tuplas`` não suportam a exlusão de itens. Também não conseguimos alterar valores dela:"
   ]
  },
  {
   "cell_type": "code",
   "execution_count": 208,
   "metadata": {
    "ExecuteTime": {
     "end_time": "2020-06-15T15:49:39.942100Z",
     "start_time": "2020-06-15T15:49:39.936508Z"
    }
   },
   "outputs": [
    {
     "ename": "TypeError",
     "evalue": "'tuple' object does not support item assignment",
     "output_type": "error",
     "traceback": [
      "\u001b[0;31m---------------------------------------------------------------------------\u001b[0m",
      "\u001b[0;31mTypeError\u001b[0m                                 Traceback (most recent call last)",
      "\u001b[0;32m<ipython-input-208-664c869946fb>\u001b[0m in \u001b[0;36m<module>\u001b[0;34m\u001b[0m\n\u001b[1;32m      1\u001b[0m \u001b[0;31m# tentativa de substituir um termo da tupla\u001b[0m\u001b[0;34m\u001b[0m\u001b[0;34m\u001b[0m\u001b[0;34m\u001b[0m\u001b[0m\n\u001b[0;32m----> 2\u001b[0;31m \u001b[0mtupla_mista\u001b[0m\u001b[0;34m[\u001b[0m\u001b[0;36m3\u001b[0m\u001b[0;34m]\u001b[0m \u001b[0;34m=\u001b[0m \u001b[0;34m'A'\u001b[0m\u001b[0;34m\u001b[0m\u001b[0;34m\u001b[0m\u001b[0m\n\u001b[0m",
      "\u001b[0;31mTypeError\u001b[0m: 'tuple' object does not support item assignment"
     ]
    }
   ],
   "source": [
    "# tentativa de substituir um termo da tupla\n",
    "tupla_mista[3] = 'A'"
   ]
  },
  {
   "cell_type": "markdown",
   "metadata": {},
   "source": [
    "Recebemos novamente um ``TypeError``, nos informando que ``tuplas`` não permitem a reatribuição de valores de seus termos."
   ]
  },
  {
   "cell_type": "markdown",
   "metadata": {},
   "source": [
    " Dessa forma, dizemos que as ``tuplas`` são estruturas ordenadas imutáveis."
   ]
  },
  {
   "cell_type": "markdown",
   "metadata": {},
   "source": [
    "Observe o que ocorre se quisermos criar uma ``tupla`` com apenas um termo:"
   ]
  },
  {
   "cell_type": "code",
   "execution_count": 209,
   "metadata": {
    "ExecuteTime": {
     "end_time": "2020-06-15T15:49:41.295214Z",
     "start_time": "2020-06-15T15:49:41.293399Z"
    }
   },
   "outputs": [],
   "source": [
    "# tentamos criar uma tupla de um único termo\n",
    "tupla_de_um_termo = (1)"
   ]
  },
  {
   "cell_type": "markdown",
   "metadata": {},
   "source": [
    "Contudo, veja o que ocorre ao inspecinarmos o tipo da variável ``tupla_de_um_termo``:"
   ]
  },
  {
   "cell_type": "code",
   "execution_count": 210,
   "metadata": {
    "ExecuteTime": {
     "end_time": "2020-06-15T15:49:41.750775Z",
     "start_time": "2020-06-15T15:49:41.748324Z"
    }
   },
   "outputs": [
    {
     "data": {
      "text/plain": [
       "int"
      ]
     },
     "execution_count": 210,
     "metadata": {},
     "output_type": "execute_result"
    }
   ],
   "source": [
    "type(tupla_de_um_termo)"
   ]
  },
  {
   "cell_type": "markdown",
   "metadata": {},
   "source": [
    "É retornado ``int``, ou seja, não criamos uma ``tupla``. Para que sejamos bem sucedidos em tal tarefa, devemos adicionar uma vírgula após o primeiro e único termo:"
   ]
  },
  {
   "cell_type": "code",
   "execution_count": 211,
   "metadata": {
    "ExecuteTime": {
     "end_time": "2020-06-15T15:49:42.379817Z",
     "start_time": "2020-06-15T15:49:42.377957Z"
    }
   },
   "outputs": [],
   "source": [
    "# mais um tentativa de criar uma tupla de um único termo\n",
    "tupla_de_um_termo_2 = (1,)"
   ]
  },
  {
   "cell_type": "markdown",
   "metadata": {},
   "source": [
    "Se inspecionarmos o ``tipo`` dessa variável:"
   ]
  },
  {
   "cell_type": "code",
   "execution_count": 212,
   "metadata": {
    "ExecuteTime": {
     "end_time": "2020-06-15T15:49:42.837903Z",
     "start_time": "2020-06-15T15:49:42.835202Z"
    }
   },
   "outputs": [
    {
     "data": {
      "text/plain": [
       "tuple"
      ]
     },
     "execution_count": 212,
     "metadata": {},
     "output_type": "execute_result"
    }
   ],
   "source": [
    "type(tupla_de_um_termo_2)"
   ]
  },
  {
   "cell_type": "markdown",
   "metadata": {},
   "source": [
    "Vemos que ela é uma ``tupla``!"
   ]
  },
  {
   "cell_type": "markdown",
   "metadata": {},
   "source": [
    "<a class='section' id='sets'></a>\n",
    "# Sets"
   ]
  },
  {
   "cell_type": "markdown",
   "metadata": {},
   "source": [
    "``Sets`` também é um ``objeto`` que representa uma coleção ordenada de ``objetos``. Eles são criados colocando ``objetos`` separados por ``,`` entre chaves ``{}``:"
   ]
  },
  {
   "cell_type": "code",
   "execution_count": 213,
   "metadata": {
    "ExecuteTime": {
     "end_time": "2020-06-15T15:49:44.207553Z",
     "start_time": "2020-06-15T15:49:44.205601Z"
    }
   },
   "outputs": [],
   "source": [
    "# criando nosso primeiro set\n",
    "set_1 = {4, 3, 2, 1, 0}"
   ]
  },
  {
   "cell_type": "markdown",
   "metadata": {},
   "source": [
    "Se inspecionarmos qual o ``tipo`` ou ``classe`` desse novo ``objeto``, obtemos:"
   ]
  },
  {
   "cell_type": "code",
   "execution_count": 214,
   "metadata": {
    "ExecuteTime": {
     "end_time": "2020-06-15T15:49:44.669372Z",
     "start_time": "2020-06-15T15:49:44.666898Z"
    }
   },
   "outputs": [
    {
     "data": {
      "text/plain": [
       "set"
      ]
     },
     "execution_count": 214,
     "metadata": {},
     "output_type": "execute_result"
    }
   ],
   "source": [
    "type(set_1)"
   ]
  },
  {
   "cell_type": "markdown",
   "metadata": {},
   "source": [
    "Observe que criamos o ``set`` com uma contagem regressiva de valores. Contudo, observe o que ocorre quando inspecionamos a variável:"
   ]
  },
  {
   "cell_type": "code",
   "execution_count": 215,
   "metadata": {
    "ExecuteTime": {
     "end_time": "2020-06-15T15:49:45.139651Z",
     "start_time": "2020-06-15T15:49:45.137206Z"
    }
   },
   "outputs": [
    {
     "data": {
      "text/plain": [
       "{0, 1, 2, 3, 4}"
      ]
     },
     "execution_count": 215,
     "metadata": {},
     "output_type": "execute_result"
    }
   ],
   "source": [
    "set_1"
   ]
  },
  {
   "cell_type": "markdown",
   "metadata": {},
   "source": [
    "Quando criamos um ``set``, seus termos são automaticamente ordenados. Além disso, ``sets`` não possuem valores repetidos:"
   ]
  },
  {
   "cell_type": "code",
   "execution_count": 216,
   "metadata": {
    "ExecuteTime": {
     "end_time": "2020-06-15T15:49:45.598326Z",
     "start_time": "2020-06-15T15:49:45.595451Z"
    }
   },
   "outputs": [
    {
     "data": {
      "text/plain": [
       "{5, 6, 7, 8, 9}"
      ]
     },
     "execution_count": 216,
     "metadata": {},
     "output_type": "execute_result"
    }
   ],
   "source": [
    "set_2 = {9, 8, 7, 6, 5, 5, 6, 7, 8, 9}\n",
    "set_2"
   ]
  },
  {
   "cell_type": "markdown",
   "metadata": {
    "ExecuteTime": {
     "end_time": "2020-06-06T20:41:03.301917Z",
     "start_time": "2020-06-06T20:41:03.296398Z"
    }
   },
   "source": [
    "Podemos usar a ``função`` ``len()`` para verificar quantos termos existem no ``set``: "
   ]
  },
  {
   "cell_type": "code",
   "execution_count": 217,
   "metadata": {
    "ExecuteTime": {
     "end_time": "2020-06-15T15:49:46.076483Z",
     "start_time": "2020-06-15T15:49:46.073962Z"
    }
   },
   "outputs": [
    {
     "data": {
      "text/plain": [
       "5"
      ]
     },
     "execution_count": 217,
     "metadata": {},
     "output_type": "execute_result"
    }
   ],
   "source": [
    "len(set_2)"
   ]
  },
  {
   "cell_type": "markdown",
   "metadata": {},
   "source": [
    "Também é possível fazer as seguintes conversões:\n",
    "\n",
    "```python\n",
    "set para list : list({1, 2, 3})   -> [1, 2, 3]\n",
    "set para tuple: tuple({1, 2, 3,}) -> (1, 2, 3)\n",
    "```\n",
    "\n",
    "e vice-versa."
   ]
  },
  {
   "cell_type": "markdown",
   "metadata": {},
   "source": [
    "Apesar de suas vantagens, não é possível acessar os termos de um ``set`` via ``índices``:"
   ]
  },
  {
   "cell_type": "code",
   "execution_count": 218,
   "metadata": {
    "ExecuteTime": {
     "end_time": "2020-06-15T15:49:47.002756Z",
     "start_time": "2020-06-15T15:49:46.998223Z"
    }
   },
   "outputs": [
    {
     "ename": "TypeError",
     "evalue": "'set' object is not subscriptable",
     "output_type": "error",
     "traceback": [
      "\u001b[0;31m---------------------------------------------------------------------------\u001b[0m",
      "\u001b[0;31mTypeError\u001b[0m                                 Traceback (most recent call last)",
      "\u001b[0;32m<ipython-input-218-26384db42387>\u001b[0m in \u001b[0;36m<module>\u001b[0;34m\u001b[0m\n\u001b[0;32m----> 1\u001b[0;31m \u001b[0mset_2\u001b[0m\u001b[0;34m[\u001b[0m\u001b[0;36m0\u001b[0m\u001b[0;34m]\u001b[0m\u001b[0;34m\u001b[0m\u001b[0;34m\u001b[0m\u001b[0m\n\u001b[0m",
      "\u001b[0;31mTypeError\u001b[0m: 'set' object is not subscriptable"
     ]
    }
   ],
   "source": [
    "set_2[0]"
   ]
  },
  {
   "cell_type": "markdown",
   "metadata": {},
   "source": [
    "Veja que um ``TypeError`` é retornado nos dizendo que ``objetos`` do tipo ``set`` não suportam indexação. Esse tipo de ``objeto`` também pode ser criado com ``objetos`` mistos:"
   ]
  },
  {
   "cell_type": "code",
   "execution_count": 219,
   "metadata": {
    "ExecuteTime": {
     "end_time": "2020-06-15T15:49:47.477346Z",
     "start_time": "2020-06-15T15:49:47.472547Z"
    }
   },
   "outputs": [
    {
     "data": {
      "text/plain": [
       "{(1, 0), (3, 2), 0, 17, 23, 27, 'B', 'D', True, 'a', 'c'}"
      ]
     },
     "execution_count": 219,
     "metadata": {},
     "output_type": "execute_result"
    }
   ],
   "source": [
    "set_misto = {'a', 27, 'D', 23, True, 17, 0, 'B', 1, 'c', False, (1, 0), (3, 2), (1, 0)}\n",
    "set_misto"
   ]
  },
  {
   "cell_type": "markdown",
   "metadata": {},
   "source": [
    "Contanto que seus termos não sejam outros ``obejtos`` com estruturas ordenadas, como ``list`` e o próprio ``set``:"
   ]
  },
  {
   "cell_type": "code",
   "execution_count": 220,
   "metadata": {
    "ExecuteTime": {
     "end_time": "2020-06-15T15:49:47.943828Z",
     "start_time": "2020-06-15T15:49:47.939601Z"
    }
   },
   "outputs": [
    {
     "ename": "TypeError",
     "evalue": "unhashable type: 'list'",
     "output_type": "error",
     "traceback": [
      "\u001b[0;31m---------------------------------------------------------------------------\u001b[0m",
      "\u001b[0;31mTypeError\u001b[0m                                 Traceback (most recent call last)",
      "\u001b[0;32m<ipython-input-220-03b322a7539a>\u001b[0m in \u001b[0;36m<module>\u001b[0;34m\u001b[0m\n\u001b[0;32m----> 1\u001b[0;31m \u001b[0;34m{\u001b[0m\u001b[0;36m0\u001b[0m\u001b[0;34m,\u001b[0m \u001b[0;36m3\u001b[0m\u001b[0;34m,\u001b[0m \u001b[0;36m2\u001b[0m\u001b[0;34m,\u001b[0m \u001b[0;34m[\u001b[0m\u001b[0;36m0\u001b[0m\u001b[0;34m,\u001b[0m\u001b[0;36m1\u001b[0m\u001b[0;34m]\u001b[0m\u001b[0;34m}\u001b[0m\u001b[0;34m\u001b[0m\u001b[0;34m\u001b[0m\u001b[0m\n\u001b[0m",
      "\u001b[0;31mTypeError\u001b[0m: unhashable type: 'list'"
     ]
    }
   ],
   "source": [
    "{0, 3, 2, [0,1]}"
   ]
  },
  {
   "cell_type": "code",
   "execution_count": 221,
   "metadata": {
    "ExecuteTime": {
     "end_time": "2020-06-15T15:49:48.050212Z",
     "start_time": "2020-06-15T15:49:48.045805Z"
    }
   },
   "outputs": [
    {
     "ename": "TypeError",
     "evalue": "unhashable type: 'set'",
     "output_type": "error",
     "traceback": [
      "\u001b[0;31m---------------------------------------------------------------------------\u001b[0m",
      "\u001b[0;31mTypeError\u001b[0m                                 Traceback (most recent call last)",
      "\u001b[0;32m<ipython-input-221-b19b7775991d>\u001b[0m in \u001b[0;36m<module>\u001b[0;34m\u001b[0m\n\u001b[0;32m----> 1\u001b[0;31m \u001b[0;34m{\u001b[0m\u001b[0;36m0\u001b[0m\u001b[0;34m,\u001b[0m \u001b[0;36m3\u001b[0m\u001b[0;34m,\u001b[0m \u001b[0;36m2\u001b[0m\u001b[0;34m,\u001b[0m \u001b[0;34m{\u001b[0m\u001b[0;36m0\u001b[0m\u001b[0;34m,\u001b[0m\u001b[0;36m1\u001b[0m\u001b[0;34m}\u001b[0m\u001b[0;34m}\u001b[0m\u001b[0;34m\u001b[0m\u001b[0;34m\u001b[0m\u001b[0m\n\u001b[0m",
      "\u001b[0;31mTypeError\u001b[0m: unhashable type: 'set'"
     ]
    }
   ],
   "source": [
    "{0, 3, 2, {0,1}}"
   ]
  },
  {
   "cell_type": "markdown",
   "metadata": {},
   "source": [
    "Apesar disso, podemos remover termos de um ``set``. Para isso, podemos usar o ``método`` ``remove()``, que recebe um argumento sendo o termo que queremos remover do ``set``"
   ]
  },
  {
   "cell_type": "code",
   "execution_count": 222,
   "metadata": {
    "ExecuteTime": {
     "end_time": "2020-06-15T15:49:48.416708Z",
     "start_time": "2020-06-15T15:49:48.414849Z"
    }
   },
   "outputs": [],
   "source": [
    "# vamos redefinir o set_1 só para lembrar o que tem nele\n",
    "set_1 = {0, 1, 2, 3, 4}"
   ]
  },
  {
   "cell_type": "code",
   "execution_count": 223,
   "metadata": {
    "ExecuteTime": {
     "end_time": "2020-06-15T15:49:48.424103Z",
     "start_time": "2020-06-15T15:49:48.422330Z"
    }
   },
   "outputs": [],
   "source": [
    "# vamos remover o termo ``1``\n",
    "set_1.remove(1)"
   ]
  },
  {
   "cell_type": "code",
   "execution_count": 224,
   "metadata": {
    "ExecuteTime": {
     "end_time": "2020-06-15T15:49:48.432091Z",
     "start_time": "2020-06-15T15:49:48.429704Z"
    }
   },
   "outputs": [
    {
     "data": {
      "text/plain": [
       "{0, 2, 3, 4}"
      ]
     },
     "execution_count": 224,
     "metadata": {},
     "output_type": "execute_result"
    }
   ],
   "source": [
    "set_1"
   ]
  },
  {
   "cell_type": "markdown",
   "metadata": {},
   "source": [
    "Se tentamos remover um termo que não existe:"
   ]
  },
  {
   "cell_type": "code",
   "execution_count": 225,
   "metadata": {
    "ExecuteTime": {
     "end_time": "2020-06-15T15:49:48.903823Z",
     "start_time": "2020-06-15T15:49:48.899611Z"
    }
   },
   "outputs": [
    {
     "ename": "KeyError",
     "evalue": "10",
     "output_type": "error",
     "traceback": [
      "\u001b[0;31m---------------------------------------------------------------------------\u001b[0m",
      "\u001b[0;31mKeyError\u001b[0m                                  Traceback (most recent call last)",
      "\u001b[0;32m<ipython-input-225-43ea9c1cd88f>\u001b[0m in \u001b[0;36m<module>\u001b[0;34m\u001b[0m\n\u001b[0;32m----> 1\u001b[0;31m \u001b[0mset_1\u001b[0m\u001b[0;34m.\u001b[0m\u001b[0mremove\u001b[0m\u001b[0;34m(\u001b[0m\u001b[0;36m10\u001b[0m\u001b[0;34m)\u001b[0m\u001b[0;34m\u001b[0m\u001b[0;34m\u001b[0m\u001b[0m\n\u001b[0m",
      "\u001b[0;31mKeyError\u001b[0m: 10"
     ]
    }
   ],
   "source": [
    "set_1.remove(10)"
   ]
  },
  {
   "cell_type": "markdown",
   "metadata": {},
   "source": [
    "Vemos que ``KeyError`` é retornado, nos informando que o termo informado não existe.\n",
    "\n",
    "Outro ``método()`` que executa a mesma tarefa é o ``discard()``. Ele recebe um argumento com o termo que queremos remover, contudo, ele não retorna um erro quando o termo informado não existe no ``set``:"
   ]
  },
  {
   "cell_type": "code",
   "execution_count": 226,
   "metadata": {
    "ExecuteTime": {
     "end_time": "2020-06-15T15:49:49.374087Z",
     "start_time": "2020-06-15T15:49:49.372208Z"
    }
   },
   "outputs": [],
   "source": [
    "set_1.discard(10)"
   ]
  },
  {
   "cell_type": "markdown",
   "metadata": {},
   "source": [
    "Podemos usar o ``pop()`` também, assim como fizemos em uma lista, mas ele não recebe argumentos e dependendo da estrutura do ``set``, a ordem em que ele remove os elementos é arbitrária."
   ]
  },
  {
   "cell_type": "markdown",
   "metadata": {},
   "source": [
    "Se quisermos adicionar algum termo a um ``set``, podemos usar o método ``add()`` e fornecer como argumento o termo que queremos adicionar:"
   ]
  },
  {
   "cell_type": "code",
   "execution_count": 227,
   "metadata": {
    "ExecuteTime": {
     "end_time": "2020-06-15T15:49:50.310958Z",
     "start_time": "2020-06-15T15:49:50.309126Z"
    }
   },
   "outputs": [],
   "source": [
    "set_1.add(1)"
   ]
  },
  {
   "cell_type": "code",
   "execution_count": 228,
   "metadata": {
    "ExecuteTime": {
     "end_time": "2020-06-15T15:49:50.319337Z",
     "start_time": "2020-06-15T15:49:50.315046Z"
    }
   },
   "outputs": [
    {
     "data": {
      "text/plain": [
       "{0, 1, 2, 3, 4}"
      ]
     },
     "execution_count": 228,
     "metadata": {},
     "output_type": "execute_result"
    }
   ],
   "source": [
    "set_1"
   ]
  },
  {
   "cell_type": "markdown",
   "metadata": {},
   "source": [
    "Se quiseremos adicionar vários termos de uma vez, devemos usar o ``método`` ``union()``, cujo argumento é um outro ``set`` que será unido ao primeiro, no qual o ``método`` foi aplicado:"
   ]
  },
  {
   "cell_type": "code",
   "execution_count": 229,
   "metadata": {
    "ExecuteTime": {
     "end_time": "2020-06-15T15:49:50.786260Z",
     "start_time": "2020-06-15T15:49:50.783528Z"
    }
   },
   "outputs": [
    {
     "data": {
      "text/plain": [
       "{0, 1, 2, 3, 4, 5, 6, 7, 8, 9}"
      ]
     },
     "execution_count": 229,
     "metadata": {},
     "output_type": "execute_result"
    }
   ],
   "source": [
    "set_2.union(set_1)"
   ]
  },
  {
   "cell_type": "markdown",
   "metadata": {},
   "source": [
    "Contudo, observe que essa operação não altera a estrutura do ``objeto`` ``set_2``:"
   ]
  },
  {
   "cell_type": "code",
   "execution_count": 230,
   "metadata": {
    "ExecuteTime": {
     "end_time": "2020-06-15T15:49:51.264508Z",
     "start_time": "2020-06-15T15:49:51.261978Z"
    }
   },
   "outputs": [
    {
     "data": {
      "text/plain": [
       "{5, 6, 7, 8, 9}"
      ]
     },
     "execution_count": 230,
     "metadata": {},
     "output_type": "execute_result"
    }
   ],
   "source": [
    "set_2"
   ]
  },
  {
   "cell_type": "markdown",
   "metadata": {},
   "source": [
    "Vemos também que a ordem é preservado no ``set`` que é resultado da união. Se quisermos preservar o resultado, devemos guardar o valor retornado em uma variável:"
   ]
  },
  {
   "cell_type": "code",
   "execution_count": 231,
   "metadata": {
    "ExecuteTime": {
     "end_time": "2020-06-15T15:49:51.747183Z",
     "start_time": "2020-06-15T15:49:51.744413Z"
    }
   },
   "outputs": [
    {
     "data": {
      "text/plain": [
       "{0, 1, 2, 3, 4, 5, 6, 7, 8, 9}"
      ]
     },
     "execution_count": 231,
     "metadata": {},
     "output_type": "execute_result"
    }
   ],
   "source": [
    "set_3 = set_2.union(set_1)\n",
    "set_3"
   ]
  },
  {
   "cell_type": "markdown",
   "metadata": {},
   "source": [
    "Existem outros ``métodos`` muito úteis do ``objeto`` ``set``. Por exemplo, podemos usar o ``método`` ``intersection()`` para encontrar termos comuns entre dois ``sets``:"
   ]
  },
  {
   "cell_type": "code",
   "execution_count": 232,
   "metadata": {
    "ExecuteTime": {
     "end_time": "2020-06-15T15:49:52.238566Z",
     "start_time": "2020-06-15T15:49:52.235744Z"
    }
   },
   "outputs": [
    {
     "data": {
      "text/plain": [
       "{0, 1, 2, 3, 4}"
      ]
     },
     "execution_count": 232,
     "metadata": {},
     "output_type": "execute_result"
    }
   ],
   "source": [
    "set_3.intersection(set_1)"
   ]
  },
  {
   "cell_type": "code",
   "execution_count": 233,
   "metadata": {
    "ExecuteTime": {
     "end_time": "2020-06-15T15:49:52.244605Z",
     "start_time": "2020-06-15T15:49:52.242156Z"
    }
   },
   "outputs": [
    {
     "data": {
      "text/plain": [
       "{5, 6, 7, 8, 9}"
      ]
     },
     "execution_count": 233,
     "metadata": {},
     "output_type": "execute_result"
    }
   ],
   "source": [
    "set_3.intersection(set_2)"
   ]
  },
  {
   "cell_type": "markdown",
   "metadata": {},
   "source": [
    "Também podemos verificar se um ``set`` é ``subset`` de outro, isto é, quando todo elemente de um conjunto está contido em outro conjunto. Para verificar isso, usamos o ``método`` ``issubset()``. O ``método`` é aplicado no ``objeto``que queremos investigar ser um ``subset`` do ``objeto`` fornecido como argumento para o ``método``. Por exemplo, vamos verificar se o ``set_1`` é um ``subset`` de ``set_2``:"
   ]
  },
  {
   "cell_type": "code",
   "execution_count": 234,
   "metadata": {
    "ExecuteTime": {
     "end_time": "2020-06-15T15:49:52.731601Z",
     "start_time": "2020-06-15T15:49:52.729222Z"
    }
   },
   "outputs": [
    {
     "data": {
      "text/plain": [
       "False"
      ]
     },
     "execution_count": 234,
     "metadata": {},
     "output_type": "execute_result"
    }
   ],
   "source": [
    "set_1.issubset(set_2)"
   ]
  },
  {
   "cell_type": "markdown",
   "metadata": {},
   "source": [
    "O valor retornado é ``False``, nos informando que ``set_1`` não é um ``subset`` de ``set_2``. Contudo, se perguntarmos se ``set_1`` é um ``subset`` de ``set_3``:"
   ]
  },
  {
   "cell_type": "code",
   "execution_count": 235,
   "metadata": {
    "ExecuteTime": {
     "end_time": "2020-06-15T15:49:53.219715Z",
     "start_time": "2020-06-15T15:49:53.217079Z"
    }
   },
   "outputs": [
    {
     "data": {
      "text/plain": [
       "True"
      ]
     },
     "execution_count": 235,
     "metadata": {},
     "output_type": "execute_result"
    }
   ],
   "source": [
    "set_1.issubset(set_3)"
   ]
  },
  {
   "cell_type": "markdown",
   "metadata": {},
   "source": [
    "O valor ``True`` é retornado, pois todos os elementos de ``set_1`` estão contido no ``set_3``. Dizemos então que o ``set_1`` é um ``subset`` de ``set_3``. Ou nentão, que ``set_3`` é um ``superset`` de ``set_1``, o que pode ser verificado usando o ``método`` ``issuperset()``:"
   ]
  },
  {
   "cell_type": "code",
   "execution_count": 236,
   "metadata": {
    "ExecuteTime": {
     "end_time": "2020-06-15T15:49:53.705856Z",
     "start_time": "2020-06-15T15:49:53.702940Z"
    }
   },
   "outputs": [
    {
     "data": {
      "text/plain": [
       "True"
      ]
     },
     "execution_count": 236,
     "metadata": {},
     "output_type": "execute_result"
    }
   ],
   "source": [
    "set_3.issuperset(set_1)"
   ]
  },
  {
   "cell_type": "markdown",
   "metadata": {},
   "source": [
    "Também podemos encontrar quais elementos são diferentes entres os ``sets``. Para isso, usamos o método ``difference()``, que recebe como argumento outro ``set``:"
   ]
  },
  {
   "cell_type": "code",
   "execution_count": 237,
   "metadata": {
    "ExecuteTime": {
     "end_time": "2020-06-15T15:49:54.194430Z",
     "start_time": "2020-06-15T15:49:54.191630Z"
    }
   },
   "outputs": [
    {
     "data": {
      "text/plain": [
       "{5, 6, 7, 8, 9}"
      ]
     },
     "execution_count": 237,
     "metadata": {},
     "output_type": "execute_result"
    }
   ],
   "source": [
    "set_3.difference(set_1)"
   ]
  },
  {
   "cell_type": "markdown",
   "metadata": {},
   "source": [
    "Se tentarmos inverter a ordem dos ``sets``:"
   ]
  },
  {
   "cell_type": "code",
   "execution_count": 238,
   "metadata": {
    "ExecuteTime": {
     "end_time": "2020-06-15T15:49:54.677509Z",
     "start_time": "2020-06-15T15:49:54.674585Z"
    }
   },
   "outputs": [
    {
     "data": {
      "text/plain": [
       "set()"
      ]
     },
     "execution_count": 238,
     "metadata": {},
     "output_type": "execute_result"
    }
   ],
   "source": [
    "set_1.difference(set_3)"
   ]
  },
  {
   "cell_type": "markdown",
   "metadata": {},
   "source": [
    "O resultado retornado é um ``set`` vazio, pois ``set_1`` é um ``subset`` de ``set_3``, de modo que todos seus termos são encontrados em ``set_3``."
   ]
  },
  {
   "cell_type": "markdown",
   "metadata": {},
   "source": [
    "Assim como observado nas ``listas``, com exceção de ``union()``, os ``métodos()`` aplicados a um ``set()`` fazem uma mudança implícita no ``objeto``, isto é, uma mudança ``in place``."
   ]
  },
  {
   "cell_type": "markdown",
   "metadata": {},
   "source": [
    "<a class='section' id='dicionarios'></a>\n",
    "# Dicionários"
   ]
  },
  {
   "cell_type": "markdown",
   "metadata": {},
   "source": [
    "Outra ``objeto`` que encontramos com uma estrutura ordenada são os ``dicionários``. Diferente de ``listas``, ``tuplas`` e ``sets``, dicionários são criados fornecendo uma ``chave`` e um ``valor`` separados por ``:``. Um dicionário pode conter diversos ``itens`` ``chave:valor``, os quais devem ser separados por ``,``. Para criar um dicionário, também usamos os ``itens`` ``chave:valor`` dentro de chaves ``{}``:"
   ]
  },
  {
   "cell_type": "code",
   "execution_count": 239,
   "metadata": {
    "ExecuteTime": {
     "end_time": "2020-06-15T15:49:56.607394Z",
     "start_time": "2020-06-15T15:49:56.605263Z"
    }
   },
   "outputs": [],
   "source": [
    "notas_turma_1_prova_1 = {'Joao': 7, 'Maria': 8, 'Heraldo': 9, 'Jose': 5, 'Helena': 10, 'Eduardo': 3}"
   ]
  },
  {
   "cell_type": "code",
   "execution_count": 240,
   "metadata": {
    "ExecuteTime": {
     "end_time": "2020-06-15T15:49:56.616076Z",
     "start_time": "2020-06-15T15:49:56.611337Z"
    }
   },
   "outputs": [
    {
     "data": {
      "text/plain": [
       "{'Joao': 7, 'Maria': 8, 'Heraldo': 9, 'Jose': 5, 'Helena': 10, 'Eduardo': 3}"
      ]
     },
     "execution_count": 240,
     "metadata": {},
     "output_type": "execute_result"
    }
   ],
   "source": [
    "notas_turma_1_prova_1"
   ]
  },
  {
   "cell_type": "markdown",
   "metadata": {},
   "source": [
    "Inspecionando o ``tipo`` desse ``objeto``:"
   ]
  },
  {
   "cell_type": "code",
   "execution_count": 241,
   "metadata": {
    "ExecuteTime": {
     "end_time": "2020-06-15T15:49:57.114113Z",
     "start_time": "2020-06-15T15:49:57.111644Z"
    }
   },
   "outputs": [
    {
     "data": {
      "text/plain": [
       "dict"
      ]
     },
     "execution_count": 241,
     "metadata": {},
     "output_type": "execute_result"
    }
   ],
   "source": [
    "type(notas_turma_1_prova_1)"
   ]
  },
  {
   "cell_type": "markdown",
   "metadata": {},
   "source": [
    "Podemos obter o tamanho do ``dicionário`` usando a ``função`` ``len()``:"
   ]
  },
  {
   "cell_type": "code",
   "execution_count": 242,
   "metadata": {
    "ExecuteTime": {
     "end_time": "2020-06-15T15:49:57.598665Z",
     "start_time": "2020-06-15T15:49:57.596136Z"
    }
   },
   "outputs": [
    {
     "data": {
      "text/plain": [
       "6"
      ]
     },
     "execution_count": 242,
     "metadata": {},
     "output_type": "execute_result"
    }
   ],
   "source": [
    "len(notas_turma_1_prova_1)"
   ]
  },
  {
   "cell_type": "markdown",
   "metadata": {},
   "source": [
    "Outra forma de se construir um ``dicionário`` é usando ``dict()``, forncendo as ``chaves`` e os ``valores`` separados por ``=``:"
   ]
  },
  {
   "cell_type": "code",
   "execution_count": 243,
   "metadata": {
    "ExecuteTime": {
     "end_time": "2020-06-15T15:49:58.098473Z",
     "start_time": "2020-06-15T15:49:58.095522Z"
    }
   },
   "outputs": [
    {
     "data": {
      "text/plain": [
       "{'Joao': 7, 'Maria': 8, 'Heraldo': 9, 'Jose': 5, 'Helena': 10, 'Eduardo': 3}"
      ]
     },
     "execution_count": 243,
     "metadata": {},
     "output_type": "execute_result"
    }
   ],
   "source": [
    "dict(Joao=7, Maria=8, Heraldo=9, Jose=5, Helena=10, Eduardo=3)"
   ]
  },
  {
   "cell_type": "markdown",
   "metadata": {},
   "source": [
    "Para saber o significado de uma palavra, procuramos por essa palavra em um ``dicionário``. Lá encontramos a palavra e na frente seu significado. Podemos dizer que a palavra juntamente com seu significado é um ``item`` do dicionário, de maneira que esse é composto por vários ``itens``. \n",
    "\n",
    "Em ``python``, a palavra que procuramos é a ``chave`` (termo à esquerda de ``:`` em cada ``item``), e o ``valor`` (termo à direita de ``:`` em cada ``item``) é o significado daquela palavra. \n",
    "\n",
    "Criamos um ``dicionário`` cujas ``chaves`` são os nomes dos alunos e os ``valores`` correspondentes de cada ``item`` são as notas deles. Para acessar a nota de um aluno, ou seja o ``valor`` associado à ``chave`` de um ``item``, usamos colchetes ``[]`` na frente de nosso ``dicionário`` e fornecemos a ``chave``. Por exemplo, se quisermos saber a nota do ``'Heraldo'``, basta escrevermos:"
   ]
  },
  {
   "cell_type": "code",
   "execution_count": 244,
   "metadata": {
    "ExecuteTime": {
     "end_time": "2020-06-15T15:49:58.585739Z",
     "start_time": "2020-06-15T15:49:58.583305Z"
    }
   },
   "outputs": [
    {
     "data": {
      "text/plain": [
       "9"
      ]
     },
     "execution_count": 244,
     "metadata": {},
     "output_type": "execute_result"
    }
   ],
   "source": [
    "notas_turma_1_prova_1['Heraldo']"
   ]
  },
  {
   "cell_type": "markdown",
   "metadata": {},
   "source": [
    "O mesmo poderia ser obtido usando o ``método`` ``get()``, fornecendo como argumento a ``chave`` de interesse:"
   ]
  },
  {
   "cell_type": "code",
   "execution_count": 245,
   "metadata": {
    "ExecuteTime": {
     "end_time": "2020-06-15T15:49:59.084018Z",
     "start_time": "2020-06-15T15:49:59.081256Z"
    }
   },
   "outputs": [
    {
     "data": {
      "text/plain": [
       "9"
      ]
     },
     "execution_count": 245,
     "metadata": {},
     "output_type": "execute_result"
    }
   ],
   "source": [
    "notas_turma_1_prova_1.get('Heraldo')"
   ]
  },
  {
   "cell_type": "markdown",
   "metadata": {},
   "source": [
    "Vamos supor que um aluno foi fazer a prova em um outro dia e temos que adicioná-lo ao ``dicionário``. Para fazer isso, simplesmente fornecemos o nome dele, ou seja, a ``chave`` dentro dos colchetes ``[]`` e atribuímos à essa entrada do ``dicionário`` o ``valor``, ou seja, a nota dele:"
   ]
  },
  {
   "cell_type": "code",
   "execution_count": 246,
   "metadata": {
    "ExecuteTime": {
     "end_time": "2020-06-15T15:49:59.578001Z",
     "start_time": "2020-06-15T15:49:59.576000Z"
    }
   },
   "outputs": [],
   "source": [
    "# Camila fez a prova depois e tirou 5\n",
    "notas_turma_1_prova_1['Camila'] = 5"
   ]
  },
  {
   "cell_type": "code",
   "execution_count": 247,
   "metadata": {
    "ExecuteTime": {
     "end_time": "2020-06-15T15:49:59.585212Z",
     "start_time": "2020-06-15T15:49:59.582550Z"
    }
   },
   "outputs": [
    {
     "data": {
      "text/plain": [
       "{'Joao': 7,\n",
       " 'Maria': 8,\n",
       " 'Heraldo': 9,\n",
       " 'Jose': 5,\n",
       " 'Helena': 10,\n",
       " 'Eduardo': 3,\n",
       " 'Camila': 5}"
      ]
     },
     "execution_count": 247,
     "metadata": {},
     "output_type": "execute_result"
    }
   ],
   "source": [
    "# veja que Camila foi adicionada ao dicionário\n",
    "notas_turma_1_prova_1"
   ]
  },
  {
   "cell_type": "markdown",
   "metadata": {},
   "source": [
    "Contudo, mais três outros alunos vieram fazer a prova numa outra chance que o Professor deu:"
   ]
  },
  {
   "cell_type": "code",
   "execution_count": 248,
   "metadata": {
    "ExecuteTime": {
     "end_time": "2020-06-15T15:50:00.087034Z",
     "start_time": "2020-06-15T15:50:00.085068Z"
    }
   },
   "outputs": [],
   "source": [
    "terceira_chance = {'Bernardo': 4, 'Lazaro': 8, 'Plinio': 6}"
   ]
  },
  {
   "cell_type": "markdown",
   "metadata": {},
   "source": [
    "Para adicionar todos esses novos ``itens`` ao nosso ``dicionário``, podemos usar o ``método`` ``update()``. O ``método`` é aplicado ao ``dicionário`` que queremos atualizar e o argumento é o ``dicionário`` que queremos incluir com os novos ``itens``:"
   ]
  },
  {
   "cell_type": "code",
   "execution_count": 249,
   "metadata": {
    "ExecuteTime": {
     "end_time": "2020-06-15T15:50:00.582049Z",
     "start_time": "2020-06-15T15:50:00.579638Z"
    }
   },
   "outputs": [],
   "source": [
    "notas_turma_1_prova_1.update(terceira_chance)"
   ]
  },
  {
   "cell_type": "code",
   "execution_count": 250,
   "metadata": {
    "ExecuteTime": {
     "end_time": "2020-06-15T15:50:00.590137Z",
     "start_time": "2020-06-15T15:50:00.586723Z"
    }
   },
   "outputs": [
    {
     "data": {
      "text/plain": [
       "{'Joao': 7,\n",
       " 'Maria': 8,\n",
       " 'Heraldo': 9,\n",
       " 'Jose': 5,\n",
       " 'Helena': 10,\n",
       " 'Eduardo': 3,\n",
       " 'Camila': 5,\n",
       " 'Bernardo': 4,\n",
       " 'Lazaro': 8,\n",
       " 'Plinio': 6}"
      ]
     },
     "execution_count": 250,
     "metadata": {},
     "output_type": "execute_result"
    }
   ],
   "source": [
    "notas_turma_1_prova_1"
   ]
  },
  {
   "cell_type": "markdown",
   "metadata": {},
   "source": [
    "Suponha agora que um aluno foi ver sua prova e achou algo que o professor acabou considerando e a nota dele deve ser alterada. Basta atribuir o novo ``valor`` ao ``dicionário`` usando a ``chave`` em questão:"
   ]
  },
  {
   "cell_type": "code",
   "execution_count": 251,
   "metadata": {
    "ExecuteTime": {
     "end_time": "2020-06-15T15:50:01.091114Z",
     "start_time": "2020-06-15T15:50:01.089003Z"
    }
   },
   "outputs": [],
   "source": [
    "# Eduardo foi ver sua prova e acabou ficando com 5\n",
    "notas_turma_1_prova_1['Eduardo'] = 5"
   ]
  },
  {
   "cell_type": "code",
   "execution_count": 252,
   "metadata": {
    "ExecuteTime": {
     "end_time": "2020-06-15T15:50:01.099158Z",
     "start_time": "2020-06-15T15:50:01.095991Z"
    }
   },
   "outputs": [
    {
     "data": {
      "text/plain": [
       "{'Joao': 7,\n",
       " 'Maria': 8,\n",
       " 'Heraldo': 9,\n",
       " 'Jose': 5,\n",
       " 'Helena': 10,\n",
       " 'Eduardo': 5,\n",
       " 'Camila': 5,\n",
       " 'Bernardo': 4,\n",
       " 'Lazaro': 8,\n",
       " 'Plinio': 6}"
      ]
     },
     "execution_count": 252,
     "metadata": {},
     "output_type": "execute_result"
    }
   ],
   "source": [
    "# veja que a nota de Eduardo foi atualizada\n",
    "notas_turma_1_prova_1"
   ]
  },
  {
   "cell_type": "markdown",
   "metadata": {},
   "source": [
    "O Professor não tinha tomado café suficiente quando lançou as notas e depois percebeu que ``'Jose'`` não é da turma 1. Assim, vamos deletar esse item do dicionário. Para isso, podemos usar o operador ``del`` e fornecer a ``chave`` do ``item`` que queremos deletar:"
   ]
  },
  {
   "cell_type": "code",
   "execution_count": 253,
   "metadata": {
    "ExecuteTime": {
     "end_time": "2020-06-15T15:50:01.596918Z",
     "start_time": "2020-06-15T15:50:01.594533Z"
    }
   },
   "outputs": [],
   "source": [
    "del notas_turma_1_prova_1['Jose']"
   ]
  },
  {
   "cell_type": "code",
   "execution_count": 254,
   "metadata": {
    "ExecuteTime": {
     "end_time": "2020-06-15T15:50:01.603678Z",
     "start_time": "2020-06-15T15:50:01.600984Z"
    }
   },
   "outputs": [
    {
     "data": {
      "text/plain": [
       "{'Joao': 7,\n",
       " 'Maria': 8,\n",
       " 'Heraldo': 9,\n",
       " 'Helena': 10,\n",
       " 'Eduardo': 5,\n",
       " 'Camila': 5,\n",
       " 'Bernardo': 4,\n",
       " 'Lazaro': 8,\n",
       " 'Plinio': 6}"
      ]
     },
     "execution_count": 254,
     "metadata": {},
     "output_type": "execute_result"
    }
   ],
   "source": [
    "notas_turma_1_prova_1"
   ]
  },
  {
   "cell_type": "markdown",
   "metadata": {
    "ExecuteTime": {
     "end_time": "2020-06-07T23:12:22.260393Z",
     "start_time": "2020-06-07T23:12:22.257001Z"
    }
   },
   "source": [
    "O mesmo resultado poderia ter sido obtido usando o ``método`` ``pop()``:\n",
    "\n",
    "```python\n",
    ">>> print(notas_turma_1_prova_1)\n",
    "{'Joao': 7, 'Maria': 8, 'Heraldo': 9, 'Jose': 5, 'Helena': 10, 'Eduardo': 3}\n",
    ">>> notas_turma_1_prova_1.pop('Jose')\n",
    ">>> print(notas_turma_1_prova_1)\n",
    "{'Joao': 7, 'Maria': 8, 'Heraldo': 9, 'Helena': 10, 'Eduardo': 3}\n",
    "```"
   ]
  },
  {
   "cell_type": "markdown",
   "metadata": {},
   "source": [
    "Nesse nosso cenário, ``'Plinio'`` foi o último a ser adicionado ao ``dicionário`` por ter feito a prova depois. Contudo, o Professor acabou colocando sua nota na turma errada. Podemos usar o ``método`` ``popitem()`` para deletar o último ``item`` adicionado:"
   ]
  },
  {
   "cell_type": "code",
   "execution_count": 255,
   "metadata": {
    "ExecuteTime": {
     "end_time": "2020-06-15T15:50:02.614406Z",
     "start_time": "2020-06-15T15:50:02.611917Z"
    }
   },
   "outputs": [
    {
     "data": {
      "text/plain": [
       "('Plinio', 6)"
      ]
     },
     "execution_count": 255,
     "metadata": {},
     "output_type": "execute_result"
    }
   ],
   "source": [
    "notas_turma_1_prova_1.popitem()"
   ]
  },
  {
   "cell_type": "code",
   "execution_count": 256,
   "metadata": {
    "ExecuteTime": {
     "end_time": "2020-06-15T15:50:02.620506Z",
     "start_time": "2020-06-15T15:50:02.618023Z"
    }
   },
   "outputs": [
    {
     "data": {
      "text/plain": [
       "{'Joao': 7,\n",
       " 'Maria': 8,\n",
       " 'Heraldo': 9,\n",
       " 'Helena': 10,\n",
       " 'Eduardo': 5,\n",
       " 'Camila': 5,\n",
       " 'Bernardo': 4,\n",
       " 'Lazaro': 8}"
      ]
     },
     "execution_count": 256,
     "metadata": {},
     "output_type": "execute_result"
    }
   ],
   "source": [
    "notas_turma_1_prova_1"
   ]
  },
  {
   "cell_type": "markdown",
   "metadata": {},
   "source": [
    "Quando o último ``item`` adicionado foi removido, todo uso do ``método`` ``popitem()`` irá retirar o último ``item`` do ``dicionário``."
   ]
  },
  {
   "cell_type": "markdown",
   "metadata": {
    "ExecuteTime": {
     "end_time": "2020-06-07T23:55:05.183234Z",
     "start_time": "2020-06-07T23:55:05.180159Z"
    }
   },
   "source": [
    "Qualquer ``objeto`` pode ser o ``valor`` de um ``dicionário``, contudo, nem todo ``objeto`` pode ser a ``chave`` de um ``dicionário``. Isso decorre do fato de que as ``chaves`` de um ``dicionário`` devem ser únicas. Assim como cada palavra tem sua descrição em um dicionário, aqui, cada ``chave`` ser única e ter seu valor atribuído:"
   ]
  },
  {
   "cell_type": "code",
   "execution_count": 257,
   "metadata": {
    "ExecuteTime": {
     "end_time": "2020-06-15T15:50:03.634234Z",
     "start_time": "2020-06-15T15:50:03.631659Z"
    }
   },
   "outputs": [
    {
     "data": {
      "text/plain": [
       "{'Joao': 4, 'Maria': 5}"
      ]
     },
     "execution_count": 257,
     "metadata": {},
     "output_type": "execute_result"
    }
   ],
   "source": [
    "# tentamos criar um dicionário com duas ``chaves`` iguais\n",
    "{'Joao': 3, 'Maria': 5, 'Joao': 4}"
   ]
  },
  {
   "cell_type": "markdown",
   "metadata": {},
   "source": [
    "Dessa forma, ``listas`` e ``tuplas`` não podem ser ``chaves`` de um ``dicionário``. "
   ]
  },
  {
   "cell_type": "markdown",
   "metadata": {},
   "source": [
    "Um ``dicionário`` pode ter outros ``dicionários`` como ``valores``. O Professor deu outra prova já e decidiu estruturar melhor os dados, ou seja, os nomes dos alunos e suas notas. Para isso ele criou o seguinte dicionário:"
   ]
  },
  {
   "cell_type": "code",
   "execution_count": 258,
   "metadata": {
    "ExecuteTime": {
     "end_time": "2020-06-15T15:50:04.653092Z",
     "start_time": "2020-06-15T15:50:04.650426Z"
    }
   },
   "outputs": [],
   "source": [
    "notas_turma_1 = {\n",
    "    'Prova 1': {\n",
    "        'Joao'    : 7,\n",
    "        'Maria'   : 8,\n",
    "        'Heraldo' : 9,\n",
    "        'Helena'  : 10,\n",
    "        'Eduardo' : 5,\n",
    "        'Camila'  : 5,\n",
    "        'Bernardo': 4,\n",
    "        'Lazaro'  : 8\n",
    "    },\n",
    "    'Prova 2': {\n",
    "        'Joao'    : 7,\n",
    "        'Maria'   : 9,\n",
    "        'Heraldo' : 7,\n",
    "        'Helena'  : 5,\n",
    "        'Eduardo' : 7,\n",
    "        'Camila'  : 8,\n",
    "        'Bernardo': 9,\n",
    "        'Lazaro'  : 4\n",
    "    }\n",
    "}"
   ]
  },
  {
   "cell_type": "markdown",
   "metadata": {},
   "source": [
    "Vamos inspecionar o ``dicionário`` criado:"
   ]
  },
  {
   "cell_type": "code",
   "execution_count": 259,
   "metadata": {
    "ExecuteTime": {
     "end_time": "2020-06-15T15:50:05.174506Z",
     "start_time": "2020-06-15T15:50:05.171579Z"
    }
   },
   "outputs": [
    {
     "data": {
      "text/plain": [
       "{'Prova 1': {'Joao': 7,\n",
       "  'Maria': 8,\n",
       "  'Heraldo': 9,\n",
       "  'Helena': 10,\n",
       "  'Eduardo': 5,\n",
       "  'Camila': 5,\n",
       "  'Bernardo': 4,\n",
       "  'Lazaro': 8},\n",
       " 'Prova 2': {'Joao': 7,\n",
       "  'Maria': 9,\n",
       "  'Heraldo': 7,\n",
       "  'Helena': 5,\n",
       "  'Eduardo': 7,\n",
       "  'Camila': 8,\n",
       "  'Bernardo': 9,\n",
       "  'Lazaro': 4}}"
      ]
     },
     "execution_count": 259,
     "metadata": {},
     "output_type": "execute_result"
    }
   ],
   "source": [
    "notas_turma_1"
   ]
  },
  {
   "cell_type": "markdown",
   "metadata": {},
   "source": [
    "O ``dicionário`` criado possui dois ``itens``. As ``chaves`` são as ``strings`` ``'Prova 1'`` e ``'Prova 2'``. Os ``valores`` de cada uma dessas ``chaves`` são outros ``dicionários``, contendo como ``chaves`` os nomes dos alunos e como ``valores`` suas notas em cada prova, respectivamente. Portanto, se quisermos as notas da ``'Prova 1'`` da turma 1, basta usarmos o dicionário criado com a ``chave`` ``'Prova 1'``:"
   ]
  },
  {
   "cell_type": "code",
   "execution_count": 260,
   "metadata": {
    "ExecuteTime": {
     "end_time": "2020-06-15T15:50:05.685496Z",
     "start_time": "2020-06-15T15:50:05.682843Z"
    }
   },
   "outputs": [
    {
     "data": {
      "text/plain": [
       "{'Joao': 7,\n",
       " 'Maria': 8,\n",
       " 'Heraldo': 9,\n",
       " 'Helena': 10,\n",
       " 'Eduardo': 5,\n",
       " 'Camila': 5,\n",
       " 'Bernardo': 4,\n",
       " 'Lazaro': 8}"
      ]
     },
     "execution_count": 260,
     "metadata": {},
     "output_type": "execute_result"
    }
   ],
   "source": [
    "notas_turma_1['Prova 1']"
   ]
  },
  {
   "cell_type": "markdown",
   "metadata": {},
   "source": [
    "Se quiseremos saber a nota de um aluno em particular, como ``'Joao'``, basta passarmos a ``chave`` para esse ``dicionário``:"
   ]
  },
  {
   "cell_type": "code",
   "execution_count": 261,
   "metadata": {
    "ExecuteTime": {
     "end_time": "2020-06-15T15:50:06.208578Z",
     "start_time": "2020-06-15T15:50:06.205896Z"
    }
   },
   "outputs": [
    {
     "data": {
      "text/plain": [
       "7"
      ]
     },
     "execution_count": 261,
     "metadata": {},
     "output_type": "execute_result"
    }
   ],
   "source": [
    "notas_turma_1['Prova 1']['Joao']"
   ]
  },
  {
   "cell_type": "markdown",
   "metadata": {},
   "source": [
    "Vamos supor que temos uma ``'Turma 2'``. Podemos criar um ``dicionário`` parecido com o primeiro para acessar as notas das ``'Prova 1'`` e ``'Prova 2'``:"
   ]
  },
  {
   "cell_type": "code",
   "execution_count": 262,
   "metadata": {
    "ExecuteTime": {
     "end_time": "2020-06-15T15:50:06.721304Z",
     "start_time": "2020-06-15T15:50:06.718576Z"
    }
   },
   "outputs": [],
   "source": [
    "notas_turma_2 = {\n",
    "    'Prova 1': {\n",
    "        'Jose'    : 5,\n",
    "        'Plinio'  : 5,\n",
    "        'Rogerio' : 7,\n",
    "        'Mercedes': 7,\n",
    "        'Katarina': 8,\n",
    "        'Larissa' : 7\n",
    "    },\n",
    "    'Prova 2': {\n",
    "        'Jose'    : 7,\n",
    "        'Plinio'  : 6,\n",
    "        'Rogerio' : 4,\n",
    "        'Mercedes': 9,\n",
    "        'Katarina': 9,\n",
    "        'Larissa' : 10\n",
    "    }\n",
    "}"
   ]
  },
  {
   "cell_type": "markdown",
   "metadata": {},
   "source": [
    "Podemos acessar a nota da ``'Prova 2'``:"
   ]
  },
  {
   "cell_type": "code",
   "execution_count": 263,
   "metadata": {
    "ExecuteTime": {
     "end_time": "2020-06-15T15:50:07.244692Z",
     "start_time": "2020-06-15T15:50:07.241987Z"
    }
   },
   "outputs": [
    {
     "data": {
      "text/plain": [
       "{'Jose': 7,\n",
       " 'Plinio': 6,\n",
       " 'Rogerio': 4,\n",
       " 'Mercedes': 9,\n",
       " 'Katarina': 9,\n",
       " 'Larissa': 10}"
      ]
     },
     "execution_count": 263,
     "metadata": {},
     "output_type": "execute_result"
    }
   ],
   "source": [
    "notas_turma_2['Prova 2']"
   ]
  },
  {
   "cell_type": "markdown",
   "metadata": {},
   "source": [
    "E se quisermos saber a nota de alguém em particular, como a ``'Mercedes'``:"
   ]
  },
  {
   "cell_type": "code",
   "execution_count": 264,
   "metadata": {
    "ExecuteTime": {
     "end_time": "2020-06-15T15:50:07.760835Z",
     "start_time": "2020-06-15T15:50:07.758219Z"
    }
   },
   "outputs": [
    {
     "data": {
      "text/plain": [
       "9"
      ]
     },
     "execution_count": 264,
     "metadata": {},
     "output_type": "execute_result"
    }
   ],
   "source": [
    "notas_turma_2['Prova 2']['Mercedes']"
   ]
  },
  {
   "cell_type": "markdown",
   "metadata": {},
   "source": [
    "Para sermos mais concisos, podemos criar um único ``dicionário`` com ``chaves`` sendo ``'Turma 1'`` e ``'Turma 2'`` de maneira que tenhamos todos os dados dos alunos dessas turma e de ambas as provas. Podemos realizar essa tarefa criando um ``dicionário`` da seguinte forma:"
   ]
  },
  {
   "cell_type": "code",
   "execution_count": 265,
   "metadata": {
    "ExecuteTime": {
     "end_time": "2020-06-15T15:50:08.280481Z",
     "start_time": "2020-06-15T15:50:08.278420Z"
    }
   },
   "outputs": [],
   "source": [
    "notas_de_fisica = {'Turma 1': notas_turma_1, 'Turma 2': notas_turma_2}"
   ]
  },
  {
   "cell_type": "markdown",
   "metadata": {},
   "source": [
    "Assim, quando acessamos a ``chave`` ``'Turma 1'`` no ``dicionário`` ``notas_de_fisica``, obtemos as notas de todos os alunos em ambas as provas:"
   ]
  },
  {
   "cell_type": "code",
   "execution_count": 266,
   "metadata": {
    "ExecuteTime": {
     "end_time": "2020-06-15T15:50:08.802503Z",
     "start_time": "2020-06-15T15:50:08.799763Z"
    }
   },
   "outputs": [
    {
     "data": {
      "text/plain": [
       "{'Prova 1': {'Joao': 7,\n",
       "  'Maria': 8,\n",
       "  'Heraldo': 9,\n",
       "  'Helena': 10,\n",
       "  'Eduardo': 5,\n",
       "  'Camila': 5,\n",
       "  'Bernardo': 4,\n",
       "  'Lazaro': 8},\n",
       " 'Prova 2': {'Joao': 7,\n",
       "  'Maria': 9,\n",
       "  'Heraldo': 7,\n",
       "  'Helena': 5,\n",
       "  'Eduardo': 7,\n",
       "  'Camila': 8,\n",
       "  'Bernardo': 9,\n",
       "  'Lazaro': 4}}"
      ]
     },
     "execution_count": 266,
     "metadata": {},
     "output_type": "execute_result"
    }
   ],
   "source": [
    "notas_de_fisica['Turma 1']"
   ]
  },
  {
   "cell_type": "markdown",
   "metadata": {},
   "source": [
    "E podemos ir acessando as chaves que quisermos:"
   ]
  },
  {
   "cell_type": "code",
   "execution_count": 267,
   "metadata": {
    "ExecuteTime": {
     "end_time": "2020-06-15T15:50:09.323690Z",
     "start_time": "2020-06-15T15:50:09.321080Z"
    }
   },
   "outputs": [
    {
     "data": {
      "text/plain": [
       "7"
      ]
     },
     "execution_count": 267,
     "metadata": {},
     "output_type": "execute_result"
    }
   ],
   "source": [
    "notas_de_fisica['Turma 1']['Prova 2']['Heraldo']"
   ]
  },
  {
   "cell_type": "markdown",
   "metadata": {},
   "source": [
    "Essa parte de estruturar os dados é importante, pois vemos que o acesso aos dados é facilitado pela disposição que criamos. Mais a frente iremos lidar com um ``objeto`` diferente dos dicionários que nos permite uma visualização e manipulação melhor dos dados. Contudo, saber como ``dicinonários`` funcionam ajudam na criação e entendimento desse novo ``objeto``."
   ]
  },
  {
   "cell_type": "markdown",
   "metadata": {},
   "source": [
    "Estamos com muitos alunos e acabamos esquecendo os nomes. Para verificar então todos os nomes, ou no nosso caso, todas as ``chaves`` de um ``dicionário``, usamos o ``método`` ``keys()``:"
   ]
  },
  {
   "cell_type": "code",
   "execution_count": 268,
   "metadata": {
    "ExecuteTime": {
     "end_time": "2020-06-15T15:50:10.361350Z",
     "start_time": "2020-06-15T15:50:10.358833Z"
    }
   },
   "outputs": [
    {
     "data": {
      "text/plain": [
       "dict_keys(['Joao', 'Maria', 'Heraldo', 'Helena', 'Eduardo', 'Camila', 'Bernardo', 'Lazaro'])"
      ]
     },
     "execution_count": 268,
     "metadata": {},
     "output_type": "execute_result"
    }
   ],
   "source": [
    "notas_turma_1_prova_1.keys()"
   ]
  },
  {
   "cell_type": "markdown",
   "metadata": {},
   "source": [
    "Podemos acessar somente as notas também, ou seja, somente os ``valores`` do ``dicionário`` usando o ``método`` ``values()``:"
   ]
  },
  {
   "cell_type": "code",
   "execution_count": 269,
   "metadata": {
    "ExecuteTime": {
     "end_time": "2020-06-15T15:50:10.890968Z",
     "start_time": "2020-06-15T15:50:10.888140Z"
    }
   },
   "outputs": [
    {
     "data": {
      "text/plain": [
       "dict_values([7, 8, 9, 10, 5, 5, 4, 8])"
      ]
     },
     "execution_count": 269,
     "metadata": {},
     "output_type": "execute_result"
    }
   ],
   "source": [
    "notas_turma_1_prova_1.values()"
   ]
  },
  {
   "cell_type": "markdown",
   "metadata": {
    "ExecuteTime": {
     "end_time": "2020-06-07T23:33:35.584483Z",
     "start_time": "2020-06-07T23:33:35.580441Z"
    }
   },
   "source": [
    "<a class='cell' id='dict_items'></a>\n",
    "Também existe o ``método`` ``items()`` para obter todos os ``items`` do ``dicionário``:"
   ]
  },
  {
   "cell_type": "code",
   "execution_count": 270,
   "metadata": {
    "ExecuteTime": {
     "end_time": "2020-06-15T15:50:11.414313Z",
     "start_time": "2020-06-15T15:50:11.411772Z"
    }
   },
   "outputs": [
    {
     "data": {
      "text/plain": [
       "dict_items([('Joao', 7), ('Maria', 8), ('Heraldo', 9), ('Helena', 10), ('Eduardo', 5), ('Camila', 5), ('Bernardo', 4), ('Lazaro', 8)])"
      ]
     },
     "execution_count": 270,
     "metadata": {},
     "output_type": "execute_result"
    }
   ],
   "source": [
    "notas_turma_1_prova_1.items()"
   ]
  },
  {
   "cell_type": "markdown",
   "metadata": {},
   "source": [
    "Contudo, por que queremos obter os ``items`` do ``dicionário`` se podemos simplesmente digitar o nome da variável e então inspecionar o ``dicionário``? Quando usamos os métodos ``keys()``, ``values()`` e ``items()``, os valores retornados, ``chaves``, ``valores`` e ``itens``, estão em uma estrutura de lista. Essa estrutura nos permite percorrer os termos de maneira mais fácil quando quisermos usá-las em um ``loop`` (conteúdo que será visto mais adiante)."
   ]
  }
 ],
 "metadata": {
  "author": "mes",
  "kernelspec": {
   "display_name": "Python 3",
   "language": "python",
   "name": "python3"
  },
  "language_info": {
   "codemirror_mode": {
    "name": "ipython",
    "version": 3
   },
   "file_extension": ".py",
   "mimetype": "text/x-python",
   "name": "python",
   "nbconvert_exporter": "python",
   "pygments_lexer": "ipython3",
   "version": "3.7.4"
  },
  "latex_envs": {
   "LaTeX_envs_menu_present": true,
   "autoclose": false,
   "autocomplete": true,
   "bibliofile": "biblio.bib",
   "cite_by": "apalike",
   "current_citInitial": 1,
   "eqLabelWithNumbers": true,
   "eqNumInitial": 1,
   "hotkeys": {
    "equation": "Ctrl-E",
    "itemize": "Ctrl-I"
   },
   "labels_anchors": false,
   "latex_user_defs": false,
   "report_style_numbering": false,
   "user_envs_cfg": false
  },
  "toc": {
   "base_numbering": 1,
   "nav_menu": {},
   "number_sections": true,
   "sideBar": true,
   "skip_h1_title": false,
   "title_cell": "Table of Contents",
   "title_sidebar": "Contents",
   "toc_cell": false,
   "toc_position": {},
   "toc_section_display": true,
   "toc_window_display": false
  },
  "varInspector": {
   "cols": {
    "lenName": 16,
    "lenType": 16,
    "lenVar": 40
   },
   "kernels_config": {
    "python": {
     "delete_cmd_postfix": "",
     "delete_cmd_prefix": "del ",
     "library": "var_list.py",
     "varRefreshCmd": "print(var_dic_list())"
    },
    "r": {
     "delete_cmd_postfix": ") ",
     "delete_cmd_prefix": "rm(",
     "library": "var_list.r",
     "varRefreshCmd": "cat(var_dic_list()) "
    }
   },
   "types_to_exclude": [
    "module",
    "function",
    "builtin_function_or_method",
    "instance",
    "_Feature"
   ],
   "window_display": false
  }
 },
 "nbformat": 4,
 "nbformat_minor": 2
}
