{
 "cells": [
  {
   "cell_type": "markdown",
   "metadata": {},
   "source": [
    "---\n",
    "**Sumário**\n",
    "\n",
    "1. [Equações da Cinemática - Parte II](#equacoes_da_cinematica_parte_ii) <br>\n",
    "2. [Pacotes e Funções](#pacotes_e_funcoes)\n",
    "3. [Movimento Retilíneo Uniformemente Variável (MRUV)](#mruv) <br>\n",
    "\n",
    "---"
   ]
  },
  {
   "cell_type": "markdown",
   "metadata": {},
   "source": [
    "<a class=\"anchor\" id=\"equacoes_da_cinematica_parte_ii\"></a>\n",
    "# Equações da Cinemática - Parte II"
   ]
  },
  {
   "cell_type": "markdown",
   "metadata": {},
   "source": [
    "<p class='justified'>\n",
    "    Essa aula tem como intuíto a continuação do estudo do movimento retilíneo de um objeto. Abordaremos o cenário em que o objeto em questão agora possui uma <b>velocidade variável</b>, o que implica nele ter uma <b>aceleração</b>. Estudaremos o caso em que a <b>aceleração é constante</b>, isto é, não muda com o passar do tempo. Iremos analisar como essa nova quantidade influencia a velocidade e o deslocamento do objeto. Por fim, a partir dos dados de um experimento, iremos fazer os ajustes e encontrar a equação horário de movimento do objeto em questão.\n",
    "</p>\n",
    "\n",
    "<p class='justified'>\n",
    "Esse material é um complemento ao conteúdo do Cap. 4 (Pags. 39-54) do <b>Manual de Laboratório de Física Experimental I</b> <a href='#mukai'>[1]</a>.\n",
    "</p>\n",
    "\n",
    "<a class='citation' id='mukai' href=\"http://site.dfi.uem.br/wp-content/uploads/2018/04/Manual-de-Laborat%C3%B3rio-de-F%C3%ADsica-Experimental-I.pdf\">[1] Mukai, Hatsumi e Fernandes, Paulo R. G., <i>Manual de Laboratório de Física I</i>. Universidade Estadual de Maringá, Centro de Ciências Exatas, Departamento de Física (<b>2018</b>).</a>"
   ]
  },
  {
   "cell_type": "markdown",
   "metadata": {},
   "source": [
    "<a class=\"anchor\" id=\"pacotes_e_funcoes\"></a>\n",
    "# Pacotes e Funções"
   ]
  },
  {
   "cell_type": "markdown",
   "metadata": {},
   "source": [
    "<p class='justified'>\n",
    "    Assim como na aula anterior, o primeiro passo para começar nosso projeto é importar os pacotes necessários antes de qualquer código que correspondem às nossas análises.\n",
    "</p>"
   ]
  },
  {
   "cell_type": "code",
   "execution_count": null,
   "metadata": {},
   "outputs": [],
   "source": [
    "# pacotes para manipulação dos dados\n",
    "import pandas as pd\n",
    "import numpy as np\n",
    "\n",
    "# pacote para confecção de gráficos para visualizar os resultados\n",
    "# de uma maneira mais apreciável e criar nossos modelos\n",
    "import matplotlib.pyplot as plt\n",
    "\n",
    "# ajustando algumas configurações para melhor visualização dos gráficos\n",
    "plt.rcParams['font.size'] = 16                           # altera o tamanho das fontes na figura\n",
    "plt.rcParams['figure.figsize'] = 8, 6                    # altera o tamanho da figura\n",
    "plt.rcParams['axes.axisbelow'] = True                    # para desenhar os grids atrás das curvas e pontos\n",
    "for axis in ['xtick', 'ytick']:                          # loop para aplicar as mudanças nos eixos x e y\n",
    "    plt.rcParams['{}.major.size'.format(axis)] = 10      # altera o tamanho dos ticks maiores\n",
    "    plt.rcParams['{}.minor.size'.format(axis)] = 5       # altera o tamanho dos ticks menores\n",
    "    plt.rcParams['{}.minor.visible'.format(axis)] = True # faz os ticks menores ficarem visíveis"
   ]
  },
  {
   "cell_type": "markdown",
   "metadata": {},
   "source": [
    "<p class='justified'>\n",
    "    Importar os pacotes/módulos necessários no \"cabeçalho\" do arquivo ou Notebook é uma prática comum. Dessa forma, pessoas que irão olhar seu código estejam cientes dos tipos de operações que irão encontrar e de onde elas provém.\n",
    "</p>"
   ]
  },
  {
   "cell_type": "markdown",
   "metadata": {},
   "source": [
    "<a class='cell' id='mruv'></a>\n",
    "# Movimento Retilíneo Uniformemente Variável (MRUV)"
   ]
  },
  {
   "cell_type": "markdown",
   "metadata": {},
   "source": [
    "<p class='justified'>\n",
    "    Na aula passada estudamos o <b>movimento retilíneo uniforme</b>. Vimos que esse consistia em um movimento no qual o objeto era observado se deslocando sempre com a mesma velocidade e em linha reta. Tal movimento era descrito pela equação\n",
    "</p>\n",
    "\n",
    "$$\n",
    "    S(t) = S_0 + vt,\n",
    "    \\label{eq:mru}\n",
    "$$\n",
    "\n",
    "<p class='justified'>\n",
    "em que $S(t)$ é a posição em que nosso objeto/móvel se encontra em um instante de tempo $t$, $S_0$ é a posição inicial do objeto/móvel (no tempo inicial $t=0$) e $v$ é a velocidade do objeto/móvel, que permanece constante ao longo de todo percurso. Vimos que esse movimento é descrito por uma reta, sendo o coeficiente linear a posição inicial $S_0$ e o coeficiente angular a velocidade $v$. Para que possamos entender melhor o que seria um <b>movimento retilíneo uniformemente variável (MRUV)</b>, vamos voltar ao exemplo do carro dado na aula anterior. \n",
    "</p>"
   ]
  },
  {
   "cell_type": "markdown",
   "metadata": {},
   "source": [
    "<p class='justified'>\n",
    "    <b>Exemplo 1.</b> Imagine o mesmo carro passando pela frente da sua casa. Mais uma vez, ao passar por esse ponto, ele está com uma velocidade $v = 18\\,km/h = 5\\,m/s$. Você então começa a cronometrar de modo que a frente da sua casa se torna o ponto $S_0$ para o instante inicial $t = 0{,}00\\,s$. Contudo, diferente da vez anterior, você percebe que para intervalos de tempo iguais, digamos de $1{,}00\\,$ em $1{,}00\\,s$, a distância que ele percorre é cada vez maior. Isso ocorre porquê agora o carro está <b>acelerando</b> fazendo <b>velocidade do carro mudar</b> conforme o tempo passa. \n",
    "</p>"
   ]
  },
  {
   "cell_type": "markdown",
   "metadata": {},
   "source": [
    "<p class='justified'>\n",
    "    Lembrando que em um MRU o gráfico da posição pelo tempo era uma reta, como a aceleração constante influencia no deslocamento do móvel e em sua velocidade? Observe nos gráficos abaixo o comportamento dessas variáveis. Você pode alterar os valores da velocidade e da aceleração para ver como o deslocamento em função do tempo se comporta.\n",
    "</p>"
   ]
  },
  {
   "cell_type": "code",
   "execution_count": 7,
   "metadata": {
    "ExecuteTime": {
     "end_time": "2020-06-18T19:28:55.066115Z",
     "start_time": "2020-06-18T19:28:55.063563Z"
    }
   },
   "outputs": [],
   "source": [
    "import sys\n",
    "sys.path.append('../')\n",
    "from iterative_plots.iter_plots import *"
   ]
  },
  {
   "cell_type": "code",
   "execution_count": 8,
   "metadata": {
    "ExecuteTime": {
     "end_time": "2020-06-18T19:29:00.983165Z",
     "start_time": "2020-06-18T19:29:00.905222Z"
    }
   },
   "outputs": [
    {
     "data": {
      "text/html": [
       "\n",
       "    <div class=\"bk-root\">\n",
       "        <a href=\"https://bokeh.pydata.org\" target=\"_blank\" class=\"bk-logo bk-logo-small bk-logo-notebook\"></a>\n",
       "        <span id=\"1504\">Loading BokehJS ...</span>\n",
       "    </div>"
      ]
     },
     "metadata": {},
     "output_type": "display_data"
    },
    {
     "data": {
      "application/javascript": [
       "\n",
       "(function(root) {\n",
       "  function now() {\n",
       "    return new Date();\n",
       "  }\n",
       "\n",
       "  var force = true;\n",
       "\n",
       "  if (typeof root._bokeh_onload_callbacks === \"undefined\" || force === true) {\n",
       "    root._bokeh_onload_callbacks = [];\n",
       "    root._bokeh_is_loading = undefined;\n",
       "  }\n",
       "\n",
       "  var JS_MIME_TYPE = 'application/javascript';\n",
       "  var HTML_MIME_TYPE = 'text/html';\n",
       "  var EXEC_MIME_TYPE = 'application/vnd.bokehjs_exec.v0+json';\n",
       "  var CLASS_NAME = 'output_bokeh rendered_html';\n",
       "\n",
       "  /**\n",
       "   * Render data to the DOM node\n",
       "   */\n",
       "  function render(props, node) {\n",
       "    var script = document.createElement(\"script\");\n",
       "    node.appendChild(script);\n",
       "  }\n",
       "\n",
       "  /**\n",
       "   * Handle when an output is cleared or removed\n",
       "   */\n",
       "  function handleClearOutput(event, handle) {\n",
       "    var cell = handle.cell;\n",
       "\n",
       "    var id = cell.output_area._bokeh_element_id;\n",
       "    var server_id = cell.output_area._bokeh_server_id;\n",
       "    // Clean up Bokeh references\n",
       "    if (id != null && id in Bokeh.index) {\n",
       "      Bokeh.index[id].model.document.clear();\n",
       "      delete Bokeh.index[id];\n",
       "    }\n",
       "\n",
       "    if (server_id !== undefined) {\n",
       "      // Clean up Bokeh references\n",
       "      var cmd = \"from bokeh.io.state import curstate; print(curstate().uuid_to_server['\" + server_id + \"'].get_sessions()[0].document.roots[0]._id)\";\n",
       "      cell.notebook.kernel.execute(cmd, {\n",
       "        iopub: {\n",
       "          output: function(msg) {\n",
       "            var id = msg.content.text.trim();\n",
       "            if (id in Bokeh.index) {\n",
       "              Bokeh.index[id].model.document.clear();\n",
       "              delete Bokeh.index[id];\n",
       "            }\n",
       "          }\n",
       "        }\n",
       "      });\n",
       "      // Destroy server and session\n",
       "      var cmd = \"import bokeh.io.notebook as ion; ion.destroy_server('\" + server_id + \"')\";\n",
       "      cell.notebook.kernel.execute(cmd);\n",
       "    }\n",
       "  }\n",
       "\n",
       "  /**\n",
       "   * Handle when a new output is added\n",
       "   */\n",
       "  function handleAddOutput(event, handle) {\n",
       "    var output_area = handle.output_area;\n",
       "    var output = handle.output;\n",
       "\n",
       "    // limit handleAddOutput to display_data with EXEC_MIME_TYPE content only\n",
       "    if ((output.output_type != \"display_data\") || (!output.data.hasOwnProperty(EXEC_MIME_TYPE))) {\n",
       "      return\n",
       "    }\n",
       "\n",
       "    var toinsert = output_area.element.find(\".\" + CLASS_NAME.split(' ')[0]);\n",
       "\n",
       "    if (output.metadata[EXEC_MIME_TYPE][\"id\"] !== undefined) {\n",
       "      toinsert[toinsert.length - 1].firstChild.textContent = output.data[JS_MIME_TYPE];\n",
       "      // store reference to embed id on output_area\n",
       "      output_area._bokeh_element_id = output.metadata[EXEC_MIME_TYPE][\"id\"];\n",
       "    }\n",
       "    if (output.metadata[EXEC_MIME_TYPE][\"server_id\"] !== undefined) {\n",
       "      var bk_div = document.createElement(\"div\");\n",
       "      bk_div.innerHTML = output.data[HTML_MIME_TYPE];\n",
       "      var script_attrs = bk_div.children[0].attributes;\n",
       "      for (var i = 0; i < script_attrs.length; i++) {\n",
       "        toinsert[toinsert.length - 1].firstChild.setAttribute(script_attrs[i].name, script_attrs[i].value);\n",
       "      }\n",
       "      // store reference to server id on output_area\n",
       "      output_area._bokeh_server_id = output.metadata[EXEC_MIME_TYPE][\"server_id\"];\n",
       "    }\n",
       "  }\n",
       "\n",
       "  function register_renderer(events, OutputArea) {\n",
       "\n",
       "    function append_mime(data, metadata, element) {\n",
       "      // create a DOM node to render to\n",
       "      var toinsert = this.create_output_subarea(\n",
       "        metadata,\n",
       "        CLASS_NAME,\n",
       "        EXEC_MIME_TYPE\n",
       "      );\n",
       "      this.keyboard_manager.register_events(toinsert);\n",
       "      // Render to node\n",
       "      var props = {data: data, metadata: metadata[EXEC_MIME_TYPE]};\n",
       "      render(props, toinsert[toinsert.length - 1]);\n",
       "      element.append(toinsert);\n",
       "      return toinsert\n",
       "    }\n",
       "\n",
       "    /* Handle when an output is cleared or removed */\n",
       "    events.on('clear_output.CodeCell', handleClearOutput);\n",
       "    events.on('delete.Cell', handleClearOutput);\n",
       "\n",
       "    /* Handle when a new output is added */\n",
       "    events.on('output_added.OutputArea', handleAddOutput);\n",
       "\n",
       "    /**\n",
       "     * Register the mime type and append_mime function with output_area\n",
       "     */\n",
       "    OutputArea.prototype.register_mime_type(EXEC_MIME_TYPE, append_mime, {\n",
       "      /* Is output safe? */\n",
       "      safe: true,\n",
       "      /* Index of renderer in `output_area.display_order` */\n",
       "      index: 0\n",
       "    });\n",
       "  }\n",
       "\n",
       "  // register the mime type if in Jupyter Notebook environment and previously unregistered\n",
       "  if (root.Jupyter !== undefined) {\n",
       "    var events = require('base/js/events');\n",
       "    var OutputArea = require('notebook/js/outputarea').OutputArea;\n",
       "\n",
       "    if (OutputArea.prototype.mime_types().indexOf(EXEC_MIME_TYPE) == -1) {\n",
       "      register_renderer(events, OutputArea);\n",
       "    }\n",
       "  }\n",
       "\n",
       "  \n",
       "  if (typeof (root._bokeh_timeout) === \"undefined\" || force === true) {\n",
       "    root._bokeh_timeout = Date.now() + 5000;\n",
       "    root._bokeh_failed_load = false;\n",
       "  }\n",
       "\n",
       "  var NB_LOAD_WARNING = {'data': {'text/html':\n",
       "     \"<div style='background-color: #fdd'>\\n\"+\n",
       "     \"<p>\\n\"+\n",
       "     \"BokehJS does not appear to have successfully loaded. If loading BokehJS from CDN, this \\n\"+\n",
       "     \"may be due to a slow or bad network connection. Possible fixes:\\n\"+\n",
       "     \"</p>\\n\"+\n",
       "     \"<ul>\\n\"+\n",
       "     \"<li>re-rerun `output_notebook()` to attempt to load from CDN again, or</li>\\n\"+\n",
       "     \"<li>use INLINE resources instead, as so:</li>\\n\"+\n",
       "     \"</ul>\\n\"+\n",
       "     \"<code>\\n\"+\n",
       "     \"from bokeh.resources import INLINE\\n\"+\n",
       "     \"output_notebook(resources=INLINE)\\n\"+\n",
       "     \"</code>\\n\"+\n",
       "     \"</div>\"}};\n",
       "\n",
       "  function display_loaded() {\n",
       "    var el = document.getElementById(\"1504\");\n",
       "    if (el != null) {\n",
       "      el.textContent = \"BokehJS is loading...\";\n",
       "    }\n",
       "    if (root.Bokeh !== undefined) {\n",
       "      if (el != null) {\n",
       "        el.textContent = \"BokehJS \" + root.Bokeh.version + \" successfully loaded.\";\n",
       "      }\n",
       "    } else if (Date.now() < root._bokeh_timeout) {\n",
       "      setTimeout(display_loaded, 100)\n",
       "    }\n",
       "  }\n",
       "\n",
       "\n",
       "  function run_callbacks() {\n",
       "    try {\n",
       "      root._bokeh_onload_callbacks.forEach(function(callback) {\n",
       "        if (callback != null)\n",
       "          callback();\n",
       "      });\n",
       "    } finally {\n",
       "      delete root._bokeh_onload_callbacks\n",
       "    }\n",
       "    console.debug(\"Bokeh: all callbacks have finished\");\n",
       "  }\n",
       "\n",
       "  function load_libs(css_urls, js_urls, callback) {\n",
       "    if (css_urls == null) css_urls = [];\n",
       "    if (js_urls == null) js_urls = [];\n",
       "\n",
       "    root._bokeh_onload_callbacks.push(callback);\n",
       "    if (root._bokeh_is_loading > 0) {\n",
       "      console.debug(\"Bokeh: BokehJS is being loaded, scheduling callback at\", now());\n",
       "      return null;\n",
       "    }\n",
       "    if (js_urls == null || js_urls.length === 0) {\n",
       "      run_callbacks();\n",
       "      return null;\n",
       "    }\n",
       "    console.debug(\"Bokeh: BokehJS not loaded, scheduling load and callback at\", now());\n",
       "    root._bokeh_is_loading = css_urls.length + js_urls.length;\n",
       "\n",
       "    function on_load() {\n",
       "      root._bokeh_is_loading--;\n",
       "      if (root._bokeh_is_loading === 0) {\n",
       "        console.debug(\"Bokeh: all BokehJS libraries/stylesheets loaded\");\n",
       "        run_callbacks()\n",
       "      }\n",
       "    }\n",
       "\n",
       "    function on_error() {\n",
       "      console.error(\"failed to load \" + url);\n",
       "    }\n",
       "\n",
       "    for (var i = 0; i < css_urls.length; i++) {\n",
       "      var url = css_urls[i];\n",
       "      const element = document.createElement(\"link\");\n",
       "      element.onload = on_load;\n",
       "      element.onerror = on_error;\n",
       "      element.rel = \"stylesheet\";\n",
       "      element.type = \"text/css\";\n",
       "      element.href = url;\n",
       "      console.debug(\"Bokeh: injecting link tag for BokehJS stylesheet: \", url);\n",
       "      document.body.appendChild(element);\n",
       "    }\n",
       "\n",
       "    for (var i = 0; i < js_urls.length; i++) {\n",
       "      var url = js_urls[i];\n",
       "      var element = document.createElement('script');\n",
       "      element.onload = on_load;\n",
       "      element.onerror = on_error;\n",
       "      element.async = false;\n",
       "      element.src = url;\n",
       "      console.debug(\"Bokeh: injecting script tag for BokehJS library: \", url);\n",
       "      document.head.appendChild(element);\n",
       "    }\n",
       "  };var element = document.getElementById(\"1504\");\n",
       "  if (element == null) {\n",
       "    console.error(\"Bokeh: ERROR: autoload.js configured with elementid '1504' but no matching script tag was found. \")\n",
       "    return false;\n",
       "  }\n",
       "\n",
       "  function inject_raw_css(css) {\n",
       "    const element = document.createElement(\"style\");\n",
       "    element.appendChild(document.createTextNode(css));\n",
       "    document.body.appendChild(element);\n",
       "  }\n",
       "\n",
       "  var js_urls = [\"https://cdn.pydata.org/bokeh/release/bokeh-1.3.4.min.js\", \"https://cdn.pydata.org/bokeh/release/bokeh-widgets-1.3.4.min.js\", \"https://cdn.pydata.org/bokeh/release/bokeh-tables-1.3.4.min.js\", \"https://cdn.pydata.org/bokeh/release/bokeh-gl-1.3.4.min.js\"];\n",
       "  var css_urls = [];\n",
       "\n",
       "  var inline_js = [\n",
       "    function(Bokeh) {\n",
       "      Bokeh.set_log_level(\"info\");\n",
       "    },\n",
       "    \n",
       "    function(Bokeh) {\n",
       "      \n",
       "    },\n",
       "    function(Bokeh) {} // ensure no trailing comma for IE\n",
       "  ];\n",
       "\n",
       "  function run_inline_js() {\n",
       "    \n",
       "    if ((root.Bokeh !== undefined) || (force === true)) {\n",
       "      for (var i = 0; i < inline_js.length; i++) {\n",
       "        inline_js[i].call(root, root.Bokeh);\n",
       "      }if (force === true) {\n",
       "        display_loaded();\n",
       "      }} else if (Date.now() < root._bokeh_timeout) {\n",
       "      setTimeout(run_inline_js, 100);\n",
       "    } else if (!root._bokeh_failed_load) {\n",
       "      console.log(\"Bokeh: BokehJS failed to load within specified timeout.\");\n",
       "      root._bokeh_failed_load = true;\n",
       "    } else if (force !== true) {\n",
       "      var cell = $(document.getElementById(\"1504\")).parents('.cell').data().cell;\n",
       "      cell.output_area.append_execute_result(NB_LOAD_WARNING)\n",
       "    }\n",
       "\n",
       "  }\n",
       "\n",
       "  if (root._bokeh_is_loading === 0) {\n",
       "    console.debug(\"Bokeh: BokehJS loaded, going straight to plotting\");\n",
       "    run_inline_js();\n",
       "  } else {\n",
       "    load_libs(css_urls, js_urls, function() {\n",
       "      console.debug(\"Bokeh: BokehJS plotting callback run at\", now());\n",
       "      run_inline_js();\n",
       "    });\n",
       "  }\n",
       "}(window));"
      ],
      "application/vnd.bokehjs_load.v0+json": "\n(function(root) {\n  function now() {\n    return new Date();\n  }\n\n  var force = true;\n\n  if (typeof root._bokeh_onload_callbacks === \"undefined\" || force === true) {\n    root._bokeh_onload_callbacks = [];\n    root._bokeh_is_loading = undefined;\n  }\n\n  \n\n  \n  if (typeof (root._bokeh_timeout) === \"undefined\" || force === true) {\n    root._bokeh_timeout = Date.now() + 5000;\n    root._bokeh_failed_load = false;\n  }\n\n  var NB_LOAD_WARNING = {'data': {'text/html':\n     \"<div style='background-color: #fdd'>\\n\"+\n     \"<p>\\n\"+\n     \"BokehJS does not appear to have successfully loaded. If loading BokehJS from CDN, this \\n\"+\n     \"may be due to a slow or bad network connection. Possible fixes:\\n\"+\n     \"</p>\\n\"+\n     \"<ul>\\n\"+\n     \"<li>re-rerun `output_notebook()` to attempt to load from CDN again, or</li>\\n\"+\n     \"<li>use INLINE resources instead, as so:</li>\\n\"+\n     \"</ul>\\n\"+\n     \"<code>\\n\"+\n     \"from bokeh.resources import INLINE\\n\"+\n     \"output_notebook(resources=INLINE)\\n\"+\n     \"</code>\\n\"+\n     \"</div>\"}};\n\n  function display_loaded() {\n    var el = document.getElementById(\"1504\");\n    if (el != null) {\n      el.textContent = \"BokehJS is loading...\";\n    }\n    if (root.Bokeh !== undefined) {\n      if (el != null) {\n        el.textContent = \"BokehJS \" + root.Bokeh.version + \" successfully loaded.\";\n      }\n    } else if (Date.now() < root._bokeh_timeout) {\n      setTimeout(display_loaded, 100)\n    }\n  }\n\n\n  function run_callbacks() {\n    try {\n      root._bokeh_onload_callbacks.forEach(function(callback) {\n        if (callback != null)\n          callback();\n      });\n    } finally {\n      delete root._bokeh_onload_callbacks\n    }\n    console.debug(\"Bokeh: all callbacks have finished\");\n  }\n\n  function load_libs(css_urls, js_urls, callback) {\n    if (css_urls == null) css_urls = [];\n    if (js_urls == null) js_urls = [];\n\n    root._bokeh_onload_callbacks.push(callback);\n    if (root._bokeh_is_loading > 0) {\n      console.debug(\"Bokeh: BokehJS is being loaded, scheduling callback at\", now());\n      return null;\n    }\n    if (js_urls == null || js_urls.length === 0) {\n      run_callbacks();\n      return null;\n    }\n    console.debug(\"Bokeh: BokehJS not loaded, scheduling load and callback at\", now());\n    root._bokeh_is_loading = css_urls.length + js_urls.length;\n\n    function on_load() {\n      root._bokeh_is_loading--;\n      if (root._bokeh_is_loading === 0) {\n        console.debug(\"Bokeh: all BokehJS libraries/stylesheets loaded\");\n        run_callbacks()\n      }\n    }\n\n    function on_error() {\n      console.error(\"failed to load \" + url);\n    }\n\n    for (var i = 0; i < css_urls.length; i++) {\n      var url = css_urls[i];\n      const element = document.createElement(\"link\");\n      element.onload = on_load;\n      element.onerror = on_error;\n      element.rel = \"stylesheet\";\n      element.type = \"text/css\";\n      element.href = url;\n      console.debug(\"Bokeh: injecting link tag for BokehJS stylesheet: \", url);\n      document.body.appendChild(element);\n    }\n\n    for (var i = 0; i < js_urls.length; i++) {\n      var url = js_urls[i];\n      var element = document.createElement('script');\n      element.onload = on_load;\n      element.onerror = on_error;\n      element.async = false;\n      element.src = url;\n      console.debug(\"Bokeh: injecting script tag for BokehJS library: \", url);\n      document.head.appendChild(element);\n    }\n  };var element = document.getElementById(\"1504\");\n  if (element == null) {\n    console.error(\"Bokeh: ERROR: autoload.js configured with elementid '1504' but no matching script tag was found. \")\n    return false;\n  }\n\n  function inject_raw_css(css) {\n    const element = document.createElement(\"style\");\n    element.appendChild(document.createTextNode(css));\n    document.body.appendChild(element);\n  }\n\n  var js_urls = [\"https://cdn.pydata.org/bokeh/release/bokeh-1.3.4.min.js\", \"https://cdn.pydata.org/bokeh/release/bokeh-widgets-1.3.4.min.js\", \"https://cdn.pydata.org/bokeh/release/bokeh-tables-1.3.4.min.js\", \"https://cdn.pydata.org/bokeh/release/bokeh-gl-1.3.4.min.js\"];\n  var css_urls = [];\n\n  var inline_js = [\n    function(Bokeh) {\n      Bokeh.set_log_level(\"info\");\n    },\n    \n    function(Bokeh) {\n      \n    },\n    function(Bokeh) {} // ensure no trailing comma for IE\n  ];\n\n  function run_inline_js() {\n    \n    if ((root.Bokeh !== undefined) || (force === true)) {\n      for (var i = 0; i < inline_js.length; i++) {\n        inline_js[i].call(root, root.Bokeh);\n      }if (force === true) {\n        display_loaded();\n      }} else if (Date.now() < root._bokeh_timeout) {\n      setTimeout(run_inline_js, 100);\n    } else if (!root._bokeh_failed_load) {\n      console.log(\"Bokeh: BokehJS failed to load within specified timeout.\");\n      root._bokeh_failed_load = true;\n    } else if (force !== true) {\n      var cell = $(document.getElementById(\"1504\")).parents('.cell').data().cell;\n      cell.output_area.append_execute_result(NB_LOAD_WARNING)\n    }\n\n  }\n\n  if (root._bokeh_is_loading === 0) {\n    console.debug(\"Bokeh: BokehJS loaded, going straight to plotting\");\n    run_inline_js();\n  } else {\n    load_libs(css_urls, js_urls, function() {\n      console.debug(\"Bokeh: BokehJS plotting callback run at\", now());\n      run_inline_js();\n    });\n  }\n}(window));"
     },
     "metadata": {},
     "output_type": "display_data"
    },
    {
     "data": {
      "text/html": [
       "\n",
       "\n",
       "\n",
       "\n",
       "\n",
       "\n",
       "  <div class=\"bk-root\" id=\"de164e32-c4d3-46f5-b00d-cbf12dd92664\" data-root-id=\"1653\"></div>\n"
      ]
     },
     "metadata": {},
     "output_type": "display_data"
    },
    {
     "data": {
      "application/javascript": [
       "(function(root) {\n",
       "  function embed_document(root) {\n",
       "    \n",
       "  var docs_json = {\"8dd46bb9-571c-4487-83f7-9c90f0fe6f48\":{\"roots\":{\"references\":[{\"attributes\":{\"children\":[{\"id\":\"1651\",\"type\":\"Row\"},{\"id\":\"1652\",\"type\":\"Row\"}],\"sizing_mode\":\"scale_width\"},\"id\":\"1653\",\"type\":\"Column\"},{\"attributes\":{\"source\":{\"id\":\"1505\",\"type\":\"ColumnDataSource\"}},\"id\":\"1629\",\"type\":\"CDSView\"},{\"attributes\":{},\"id\":\"1600\",\"type\":\"WheelZoomTool\"},{\"attributes\":{\"fill_color\":{\"value\":\"#FFFFFF\"},\"line_color\":{\"value\":\"#31A354\"},\"size\":{\"units\":\"screen\",\"value\":10},\"x\":{\"field\":\"tempo\"},\"y\":{\"field\":\"velocidade\"}},\"id\":\"1631\",\"type\":\"Scatter\"},{\"attributes\":{\"bar_color\":\"#E34A33\",\"callback\":null,\"end\":10,\"js_property_callbacks\":{\"change:value\":[{\"id\":\"1650\",\"type\":\"CustomJS\"}]},\"sizing_mode\":\"scale_width\",\"start\":-10,\"step\":0.01,\"title\":\"Acelera\\u00e7\\u00e3o, a [m/s\\u00b2]\",\"value\":0},\"id\":\"1649\",\"type\":\"Slider\"},{\"attributes\":{\"bar_color\":\"#31A354\",\"callback\":null,\"end\":20,\"js_property_callbacks\":{\"change:value\":[{\"id\":\"1650\",\"type\":\"CustomJS\"}]},\"sizing_mode\":\"scale_width\",\"start\":-20,\"step\":0.01,\"title\":\"Velocidade inicial, v0 [m/s]\",\"value\":5},\"id\":\"1648\",\"type\":\"Slider\"},{\"attributes\":{},\"id\":\"1567\",\"type\":\"ResetTool\"},{\"attributes\":{},\"id\":\"1603\",\"type\":\"ResetTool\"},{\"attributes\":{\"below\":[{\"id\":\"1553\",\"type\":\"LinearAxis\"}],\"center\":[{\"id\":\"1557\",\"type\":\"Grid\"},{\"id\":\"1562\",\"type\":\"Grid\"}],\"left\":[{\"id\":\"1558\",\"type\":\"LinearAxis\"}],\"plot_height\":100,\"plot_width\":100,\"renderers\":[{\"id\":\"1628\",\"type\":\"GlyphRenderer\"},{\"id\":\"1633\",\"type\":\"GlyphRenderer\"}],\"sizing_mode\":\"scale_width\",\"title\":{\"id\":\"1543\",\"type\":\"Title\"},\"toolbar\":{\"id\":\"1570\",\"type\":\"Toolbar\"},\"toolbar_location\":null,\"x_range\":{\"id\":\"1545\",\"type\":\"DataRange1d\"},\"x_scale\":{\"id\":\"1549\",\"type\":\"LinearScale\"},\"y_range\":{\"id\":\"1547\",\"type\":\"Range1d\"},\"y_scale\":{\"id\":\"1551\",\"type\":\"LinearScale\"}},\"id\":\"1542\",\"subtype\":\"Figure\",\"type\":\"Plot\"},{\"attributes\":{},\"id\":\"1568\",\"type\":\"HelpTool\"},{\"attributes\":{},\"id\":\"1587\",\"type\":\"LinearScale\"},{\"attributes\":{\"source\":{\"id\":\"1505\",\"type\":\"ColumnDataSource\"}},\"id\":\"1645\",\"type\":\"CDSView\"},{\"attributes\":{},\"id\":\"1566\",\"type\":\"SaveTool\"},{\"attributes\":{},\"id\":\"1602\",\"type\":\"SaveTool\"},{\"attributes\":{\"args\":{\"aceleracao\":{\"id\":\"1649\",\"type\":\"Slider\"},\"posicao_inicial\":{\"id\":\"1647\",\"type\":\"Slider\"},\"source\":{\"id\":\"1505\",\"type\":\"ColumnDataSource\"},\"velocidade_inicial\":{\"id\":\"1648\",\"type\":\"Slider\"}},\"code\":\"\\n            const data = source.data;\\n            const s0   = posicao_inicial.value;\\n            const v0   = velocidade_inicial.value;\\n            const a    = aceleracao.value;\\n            const t    = data['tempo'];\\n            const s_t  = data['posicao'];\\n            const v_t  = data['velocidade'];\\n            const a_t  = data['aceleracao'];\\n            \\n            for (let i = 0; i < t.length; i++) {\\n                s_t[i] = s0 + v0*t[i] + 0.5*a*(t[i]**2);\\n                v_t[i] = v0 + a*t[i];\\n                a_t[i] = a;\\n            }\\n            source.change.emit()\\n    \"},\"id\":\"1650\",\"type\":\"CustomJS\"},{\"attributes\":{\"children\":[{\"id\":\"1506\",\"subtype\":\"Figure\",\"type\":\"Plot\"},{\"id\":\"1542\",\"subtype\":\"Figure\",\"type\":\"Plot\"},{\"id\":\"1578\",\"subtype\":\"Figure\",\"type\":\"Plot\"}],\"sizing_mode\":\"scale_width\"},\"id\":\"1651\",\"type\":\"Row\"},{\"attributes\":{\"fill_alpha\":{\"value\":0.1},\"fill_color\":{\"value\":\"#1f77b4\"},\"line_alpha\":{\"value\":0.1},\"line_color\":{\"value\":\"#1f77b4\"},\"size\":{\"units\":\"screen\",\"value\":10},\"x\":{\"field\":\"tempo\"},\"y\":{\"field\":\"velocidade\"}},\"id\":\"1632\",\"type\":\"Scatter\"},{\"attributes\":{\"below\":[{\"id\":\"1517\",\"type\":\"LinearAxis\"}],\"center\":[{\"id\":\"1521\",\"type\":\"Grid\"},{\"id\":\"1526\",\"type\":\"Grid\"}],\"left\":[{\"id\":\"1522\",\"type\":\"LinearAxis\"}],\"plot_height\":100,\"plot_width\":100,\"renderers\":[{\"id\":\"1617\",\"type\":\"GlyphRenderer\"},{\"id\":\"1622\",\"type\":\"GlyphRenderer\"}],\"sizing_mode\":\"scale_width\",\"title\":{\"id\":\"1507\",\"type\":\"Title\"},\"toolbar\":{\"id\":\"1534\",\"type\":\"Toolbar\"},\"toolbar_location\":null,\"x_range\":{\"id\":\"1509\",\"type\":\"DataRange1d\"},\"x_scale\":{\"id\":\"1513\",\"type\":\"LinearScale\"},\"y_range\":{\"id\":\"1511\",\"type\":\"DataRange1d\"},\"y_scale\":{\"id\":\"1515\",\"type\":\"LinearScale\"}},\"id\":\"1506\",\"subtype\":\"Figure\",\"type\":\"Plot\"},{\"attributes\":{\"overlay\":{\"id\":\"1705\",\"type\":\"BoxAnnotation\"}},\"id\":\"1601\",\"type\":\"BoxZoomTool\"},{\"attributes\":{\"data_source\":{\"id\":\"1505\",\"type\":\"ColumnDataSource\"},\"glyph\":{\"id\":\"1620\",\"type\":\"Scatter\"},\"hover_glyph\":null,\"muted_glyph\":null,\"nonselection_glyph\":{\"id\":\"1621\",\"type\":\"Scatter\"},\"selection_glyph\":null,\"view\":{\"id\":\"1623\",\"type\":\"CDSView\"}},\"id\":\"1622\",\"type\":\"GlyphRenderer\"},{\"attributes\":{\"text\":\"Posi\\u00e7\\u00e3o em func\\u00e3o do tempo.\"},\"id\":\"1507\",\"type\":\"Title\"},{\"attributes\":{},\"id\":\"1532\",\"type\":\"HelpTool\"},{\"attributes\":{},\"id\":\"1549\",\"type\":\"LinearScale\"},{\"attributes\":{\"callback\":null},\"id\":\"1511\",\"type\":\"DataRange1d\"},{\"attributes\":{\"fill_alpha\":{\"value\":0.1},\"fill_color\":{\"value\":\"#1f77b4\"},\"line_alpha\":{\"value\":0.1},\"line_color\":{\"value\":\"#1f77b4\"},\"size\":{\"units\":\"screen\",\"value\":10},\"x\":{\"field\":\"tempo\"},\"y\":{\"field\":\"posicao\"}},\"id\":\"1621\",\"type\":\"Scatter\"},{\"attributes\":{\"line_alpha\":0.1,\"line_color\":\"#1f77b4\",\"line_width\":3,\"x\":{\"field\":\"tempo\"},\"y\":{\"field\":\"velocidade\"}},\"id\":\"1627\",\"type\":\"Line\"},{\"attributes\":{\"active_drag\":\"auto\",\"active_inspect\":\"auto\",\"active_multi\":null,\"active_scroll\":\"auto\",\"active_tap\":\"auto\",\"logo\":null,\"tools\":[{\"id\":\"1527\",\"type\":\"PanTool\"},{\"id\":\"1528\",\"type\":\"WheelZoomTool\"},{\"id\":\"1529\",\"type\":\"BoxZoomTool\"},{\"id\":\"1530\",\"type\":\"SaveTool\"},{\"id\":\"1531\",\"type\":\"ResetTool\"},{\"id\":\"1532\",\"type\":\"HelpTool\"},{\"id\":\"1533\",\"type\":\"HoverTool\"}]},\"id\":\"1534\",\"type\":\"Toolbar\"},{\"attributes\":{\"children\":[{\"id\":\"1647\",\"type\":\"Slider\"},{\"id\":\"1648\",\"type\":\"Slider\"},{\"id\":\"1649\",\"type\":\"Slider\"}],\"sizing_mode\":\"scale_width\"},\"id\":\"1652\",\"type\":\"Row\"},{\"attributes\":{},\"id\":\"1551\",\"type\":\"LinearScale\"},{\"attributes\":{},\"id\":\"1690\",\"type\":\"BasicTickFormatter\"},{\"attributes\":{\"axis_label\":\"Tempo, t [s]\",\"axis_label_text_font_size\":{\"value\":\"16px\"},\"axis_label_text_font_style\":\"normal\",\"formatter\":{\"id\":\"1696\",\"type\":\"BasicTickFormatter\"},\"major_label_text_font_size\":{\"value\":\"16px\"},\"ticker\":{\"id\":\"1554\",\"type\":\"BasicTicker\"}},\"id\":\"1553\",\"type\":\"LinearAxis\"},{\"attributes\":{\"source\":{\"id\":\"1505\",\"type\":\"ColumnDataSource\"}},\"id\":\"1623\",\"type\":\"CDSView\"},{\"attributes\":{},\"id\":\"1559\",\"type\":\"BasicTicker\"},{\"attributes\":{\"fill_color\":{\"value\":\"#FFFFFF\"},\"line_color\":{\"value\":\"#0095DD\"},\"size\":{\"units\":\"screen\",\"value\":10},\"x\":{\"field\":\"tempo\"},\"y\":{\"field\":\"posicao\"}},\"id\":\"1620\",\"type\":\"Scatter\"},{\"attributes\":{},\"id\":\"1554\",\"type\":\"BasicTicker\"},{\"attributes\":{},\"id\":\"1696\",\"type\":\"BasicTickFormatter\"},{\"attributes\":{},\"id\":\"1604\",\"type\":\"HelpTool\"},{\"attributes\":{\"ticker\":{\"id\":\"1554\",\"type\":\"BasicTicker\"}},\"id\":\"1557\",\"type\":\"Grid\"},{\"attributes\":{\"source\":{\"id\":\"1505\",\"type\":\"ColumnDataSource\"}},\"id\":\"1634\",\"type\":\"CDSView\"},{\"attributes\":{\"bar_color\":\"#0095DD\",\"callback\":null,\"end\":100,\"js_property_callbacks\":{\"change:value\":[{\"id\":\"1650\",\"type\":\"CustomJS\"}]},\"sizing_mode\":\"scale_width\",\"start\":-100,\"step\":0.01,\"title\":\"Posi\\u00e7\\u00e3o inicial, s0 [m]\",\"value\":0},\"id\":\"1647\",\"type\":\"Slider\"},{\"attributes\":{\"dimension\":1,\"ticker\":{\"id\":\"1559\",\"type\":\"BasicTicker\"}},\"id\":\"1562\",\"type\":\"Grid\"},{\"attributes\":{},\"id\":\"1692\",\"type\":\"BasicTickFormatter\"},{\"attributes\":{\"axis_label\":\"Velocidade, v(t) [m/s]\",\"axis_label_text_font_size\":{\"value\":\"16px\"},\"axis_label_text_font_style\":\"normal\",\"formatter\":{\"id\":\"1694\",\"type\":\"BasicTickFormatter\"},\"major_label_text_font_size\":{\"value\":\"16px\"},\"ticker\":{\"id\":\"1559\",\"type\":\"BasicTicker\"}},\"id\":\"1558\",\"type\":\"LinearAxis\"},{\"attributes\":{},\"id\":\"1702\",\"type\":\"Selection\"},{\"attributes\":{},\"id\":\"1515\",\"type\":\"LinearScale\"},{\"attributes\":{\"bottom_units\":\"screen\",\"fill_alpha\":{\"value\":0.5},\"fill_color\":{\"value\":\"lightgrey\"},\"left_units\":\"screen\",\"level\":\"overlay\",\"line_alpha\":{\"value\":1.0},\"line_color\":{\"value\":\"black\"},\"line_dash\":[4,4],\"line_width\":{\"value\":2},\"render_mode\":\"css\",\"right_units\":\"screen\",\"top_units\":\"screen\"},\"id\":\"1701\",\"type\":\"BoxAnnotation\"},{\"attributes\":{\"line_color\":\"#31A354\",\"line_width\":3,\"x\":{\"field\":\"tempo\"},\"y\":{\"field\":\"velocidade\"}},\"id\":\"1626\",\"type\":\"Line\"},{\"attributes\":{\"text\":\"Acelera\\u00e7\\u00e3o em func\\u00e3o do tempo.\"},\"id\":\"1579\",\"type\":\"Title\"},{\"attributes\":{\"line_color\":\"#0095DD\",\"line_width\":3,\"x\":{\"field\":\"tempo\"},\"y\":{\"field\":\"posicao\"}},\"id\":\"1615\",\"type\":\"Line\"},{\"attributes\":{\"callback\":null},\"id\":\"1509\",\"type\":\"DataRange1d\"},{\"attributes\":{\"callback\":null,\"end\":12,\"start\":-12},\"id\":\"1583\",\"type\":\"Range1d\"},{\"attributes\":{},\"id\":\"1513\",\"type\":\"LinearScale\"},{\"attributes\":{\"callback\":null,\"tooltips\":[[\"Velocidade [m/s]\",\"@velocidade{0.00}\"],[\"Tempo [s]\",\"@tempo\"]]},\"id\":\"1569\",\"type\":\"HoverTool\"},{\"attributes\":{\"axis_label\":\"Tempo, t [s]\",\"axis_label_text_font_size\":{\"value\":\"16px\"},\"axis_label_text_font_style\":\"normal\",\"formatter\":{\"id\":\"1692\",\"type\":\"BasicTickFormatter\"},\"major_label_text_font_size\":{\"value\":\"16px\"},\"ticker\":{\"id\":\"1518\",\"type\":\"BasicTicker\"}},\"id\":\"1517\",\"type\":\"LinearAxis\"},{\"attributes\":{},\"id\":\"1700\",\"type\":\"BasicTickFormatter\"},{\"attributes\":{},\"id\":\"1585\",\"type\":\"LinearScale\"},{\"attributes\":{},\"id\":\"1523\",\"type\":\"BasicTicker\"},{\"attributes\":{},\"id\":\"1518\",\"type\":\"BasicTicker\"},{\"attributes\":{},\"id\":\"1563\",\"type\":\"PanTool\"},{\"attributes\":{},\"id\":\"1698\",\"type\":\"BasicTickFormatter\"},{\"attributes\":{\"ticker\":{\"id\":\"1518\",\"type\":\"BasicTicker\"}},\"id\":\"1521\",\"type\":\"Grid\"},{\"attributes\":{},\"id\":\"1564\",\"type\":\"WheelZoomTool\"},{\"attributes\":{\"dimension\":1,\"ticker\":{\"id\":\"1523\",\"type\":\"BasicTicker\"}},\"id\":\"1526\",\"type\":\"Grid\"},{\"attributes\":{\"active_drag\":\"auto\",\"active_inspect\":\"auto\",\"active_multi\":null,\"active_scroll\":\"auto\",\"active_tap\":\"auto\",\"logo\":null,\"tools\":[{\"id\":\"1599\",\"type\":\"PanTool\"},{\"id\":\"1600\",\"type\":\"WheelZoomTool\"},{\"id\":\"1601\",\"type\":\"BoxZoomTool\"},{\"id\":\"1602\",\"type\":\"SaveTool\"},{\"id\":\"1603\",\"type\":\"ResetTool\"},{\"id\":\"1604\",\"type\":\"HelpTool\"},{\"id\":\"1605\",\"type\":\"HoverTool\"}]},\"id\":\"1606\",\"type\":\"Toolbar\"},{\"attributes\":{},\"id\":\"1703\",\"type\":\"UnionRenderers\"},{\"attributes\":{\"overlay\":{\"id\":\"1704\",\"type\":\"BoxAnnotation\"}},\"id\":\"1565\",\"type\":\"BoxZoomTool\"},{\"attributes\":{\"axis_label\":\"Posi\\u00e7\\u00e3o, s(t) [m]\",\"axis_label_text_font_size\":{\"value\":\"16px\"},\"axis_label_text_font_style\":\"normal\",\"formatter\":{\"id\":\"1690\",\"type\":\"BasicTickFormatter\"},\"major_label_text_font_size\":{\"value\":\"16px\"},\"ticker\":{\"id\":\"1523\",\"type\":\"BasicTicker\"}},\"id\":\"1522\",\"type\":\"LinearAxis\"},{\"attributes\":{\"bottom_units\":\"screen\",\"fill_alpha\":{\"value\":0.5},\"fill_color\":{\"value\":\"lightgrey\"},\"left_units\":\"screen\",\"level\":\"overlay\",\"line_alpha\":{\"value\":1.0},\"line_color\":{\"value\":\"black\"},\"line_dash\":[4,4],\"line_width\":{\"value\":2},\"render_mode\":\"css\",\"right_units\":\"screen\",\"top_units\":\"screen\"},\"id\":\"1704\",\"type\":\"BoxAnnotation\"},{\"attributes\":{\"active_drag\":\"auto\",\"active_inspect\":\"auto\",\"active_multi\":null,\"active_scroll\":\"auto\",\"active_tap\":\"auto\",\"logo\":null,\"tools\":[{\"id\":\"1563\",\"type\":\"PanTool\"},{\"id\":\"1564\",\"type\":\"WheelZoomTool\"},{\"id\":\"1565\",\"type\":\"BoxZoomTool\"},{\"id\":\"1566\",\"type\":\"SaveTool\"},{\"id\":\"1567\",\"type\":\"ResetTool\"},{\"id\":\"1568\",\"type\":\"HelpTool\"},{\"id\":\"1569\",\"type\":\"HoverTool\"}]},\"id\":\"1570\",\"type\":\"Toolbar\"},{\"attributes\":{\"callback\":null},\"id\":\"1581\",\"type\":\"DataRange1d\"},{\"attributes\":{\"source\":{\"id\":\"1505\",\"type\":\"ColumnDataSource\"}},\"id\":\"1618\",\"type\":\"CDSView\"},{\"attributes\":{},\"id\":\"1595\",\"type\":\"BasicTicker\"},{\"attributes\":{\"data_source\":{\"id\":\"1505\",\"type\":\"ColumnDataSource\"},\"glyph\":{\"id\":\"1631\",\"type\":\"Scatter\"},\"hover_glyph\":null,\"muted_glyph\":null,\"nonselection_glyph\":{\"id\":\"1632\",\"type\":\"Scatter\"},\"selection_glyph\":null,\"view\":{\"id\":\"1634\",\"type\":\"CDSView\"}},\"id\":\"1633\",\"type\":\"GlyphRenderer\"},{\"attributes\":{},\"id\":\"1590\",\"type\":\"BasicTicker\"},{\"attributes\":{\"ticker\":{\"id\":\"1590\",\"type\":\"BasicTicker\"}},\"id\":\"1593\",\"type\":\"Grid\"},{\"attributes\":{},\"id\":\"1531\",\"type\":\"ResetTool\"},{\"attributes\":{\"line_alpha\":0.1,\"line_color\":\"#1f77b4\",\"line_width\":3,\"x\":{\"field\":\"tempo\"},\"y\":{\"field\":\"posicao\"}},\"id\":\"1616\",\"type\":\"Line\"},{\"attributes\":{\"callback\":null,\"end\":180,\"start\":-180},\"id\":\"1547\",\"type\":\"Range1d\"},{\"attributes\":{\"dimension\":1,\"ticker\":{\"id\":\"1595\",\"type\":\"BasicTicker\"}},\"id\":\"1598\",\"type\":\"Grid\"},{\"attributes\":{\"axis_label\":\"Acelera\\u00e7\\u00e3o, a [m/s\\u00b2]\",\"axis_label_text_font_size\":{\"value\":\"16px\"},\"axis_label_text_font_style\":\"normal\",\"formatter\":{\"id\":\"1698\",\"type\":\"BasicTickFormatter\"},\"major_label_text_font_size\":{\"value\":\"16px\"},\"ticker\":{\"id\":\"1595\",\"type\":\"BasicTicker\"}},\"id\":\"1594\",\"type\":\"LinearAxis\"},{\"attributes\":{\"fill_color\":{\"value\":\"#FFFFFF\"},\"line_color\":{\"value\":\"#E34A33\"},\"size\":{\"units\":\"screen\",\"value\":10},\"x\":{\"field\":\"tempo\"},\"y\":{\"field\":\"aceleracao\"}},\"id\":\"1642\",\"type\":\"Scatter\"},{\"attributes\":{},\"id\":\"1694\",\"type\":\"BasicTickFormatter\"},{\"attributes\":{},\"id\":\"1530\",\"type\":\"SaveTool\"},{\"attributes\":{\"line_alpha\":0.1,\"line_color\":\"#1f77b4\",\"line_width\":3,\"x\":{\"field\":\"tempo\"},\"y\":{\"field\":\"aceleracao\"}},\"id\":\"1638\",\"type\":\"Line\"},{\"attributes\":{\"callback\":null,\"data\":{\"aceleracao\":[0,0,0,0,0,0,0,0,0,0,0,0,0,0,0,0],\"posicao\":[0,1,2,3,4,5,6,7,8,9,10,11,12,13,14,15],\"tempo\":[0,1,2,3,4,5,6,7,8,9,10,11,12,13,14,15],\"velocidade\":[5,5,5,5,5,5,5,5,5,5,5,5,5,5,5,5]},\"selected\":{\"id\":\"1702\",\"type\":\"Selection\"},\"selection_policy\":{\"id\":\"1703\",\"type\":\"UnionRenderers\"}},\"id\":\"1505\",\"type\":\"ColumnDataSource\"},{\"attributes\":{\"callback\":null,\"tooltips\":[[\"Acelera\\u00e7\\u00e3o [m/s\\u00b2]\",\"@aceleracao{0.00}\"],[\"Tempo [s]\",\"@tempo\"]]},\"id\":\"1605\",\"type\":\"HoverTool\"},{\"attributes\":{\"axis_label\":\"Tempo, t [s]\",\"axis_label_text_font_size\":{\"value\":\"16px\"},\"axis_label_text_font_style\":\"normal\",\"formatter\":{\"id\":\"1700\",\"type\":\"BasicTickFormatter\"},\"major_label_text_font_size\":{\"value\":\"16px\"},\"ticker\":{\"id\":\"1590\",\"type\":\"BasicTicker\"}},\"id\":\"1589\",\"type\":\"LinearAxis\"},{\"attributes\":{\"below\":[{\"id\":\"1589\",\"type\":\"LinearAxis\"}],\"center\":[{\"id\":\"1593\",\"type\":\"Grid\"},{\"id\":\"1598\",\"type\":\"Grid\"}],\"left\":[{\"id\":\"1594\",\"type\":\"LinearAxis\"}],\"plot_height\":100,\"plot_width\":100,\"renderers\":[{\"id\":\"1639\",\"type\":\"GlyphRenderer\"},{\"id\":\"1644\",\"type\":\"GlyphRenderer\"}],\"sizing_mode\":\"scale_width\",\"title\":{\"id\":\"1579\",\"type\":\"Title\"},\"toolbar\":{\"id\":\"1606\",\"type\":\"Toolbar\"},\"toolbar_location\":null,\"x_range\":{\"id\":\"1581\",\"type\":\"DataRange1d\"},\"x_scale\":{\"id\":\"1585\",\"type\":\"LinearScale\"},\"y_range\":{\"id\":\"1583\",\"type\":\"Range1d\"},\"y_scale\":{\"id\":\"1587\",\"type\":\"LinearScale\"}},\"id\":\"1578\",\"subtype\":\"Figure\",\"type\":\"Plot\"},{\"attributes\":{\"data_source\":{\"id\":\"1505\",\"type\":\"ColumnDataSource\"},\"glyph\":{\"id\":\"1637\",\"type\":\"Line\"},\"hover_glyph\":null,\"muted_glyph\":null,\"nonselection_glyph\":{\"id\":\"1638\",\"type\":\"Line\"},\"selection_glyph\":null,\"view\":{\"id\":\"1640\",\"type\":\"CDSView\"}},\"id\":\"1639\",\"type\":\"GlyphRenderer\"},{\"attributes\":{\"line_color\":\"#E34A33\",\"line_width\":3,\"x\":{\"field\":\"tempo\"},\"y\":{\"field\":\"aceleracao\"}},\"id\":\"1637\",\"type\":\"Line\"},{\"attributes\":{\"data_source\":{\"id\":\"1505\",\"type\":\"ColumnDataSource\"},\"glyph\":{\"id\":\"1626\",\"type\":\"Line\"},\"hover_glyph\":null,\"muted_glyph\":null,\"nonselection_glyph\":{\"id\":\"1627\",\"type\":\"Line\"},\"selection_glyph\":null,\"view\":{\"id\":\"1629\",\"type\":\"CDSView\"}},\"id\":\"1628\",\"type\":\"GlyphRenderer\"},{\"attributes\":{\"data_source\":{\"id\":\"1505\",\"type\":\"ColumnDataSource\"},\"glyph\":{\"id\":\"1615\",\"type\":\"Line\"},\"hover_glyph\":null,\"muted_glyph\":null,\"nonselection_glyph\":{\"id\":\"1616\",\"type\":\"Line\"},\"selection_glyph\":null,\"view\":{\"id\":\"1618\",\"type\":\"CDSView\"}},\"id\":\"1617\",\"type\":\"GlyphRenderer\"},{\"attributes\":{\"data_source\":{\"id\":\"1505\",\"type\":\"ColumnDataSource\"},\"glyph\":{\"id\":\"1642\",\"type\":\"Scatter\"},\"hover_glyph\":null,\"muted_glyph\":null,\"nonselection_glyph\":{\"id\":\"1643\",\"type\":\"Scatter\"},\"selection_glyph\":null,\"view\":{\"id\":\"1645\",\"type\":\"CDSView\"}},\"id\":\"1644\",\"type\":\"GlyphRenderer\"},{\"attributes\":{\"source\":{\"id\":\"1505\",\"type\":\"ColumnDataSource\"}},\"id\":\"1640\",\"type\":\"CDSView\"},{\"attributes\":{},\"id\":\"1528\",\"type\":\"WheelZoomTool\"},{\"attributes\":{\"text\":\"Velocidade em func\\u00e3o do tempo.\"},\"id\":\"1543\",\"type\":\"Title\"},{\"attributes\":{\"overlay\":{\"id\":\"1701\",\"type\":\"BoxAnnotation\"}},\"id\":\"1529\",\"type\":\"BoxZoomTool\"},{\"attributes\":{},\"id\":\"1599\",\"type\":\"PanTool\"},{\"attributes\":{\"bottom_units\":\"screen\",\"fill_alpha\":{\"value\":0.5},\"fill_color\":{\"value\":\"lightgrey\"},\"left_units\":\"screen\",\"level\":\"overlay\",\"line_alpha\":{\"value\":1.0},\"line_color\":{\"value\":\"black\"},\"line_dash\":[4,4],\"line_width\":{\"value\":2},\"render_mode\":\"css\",\"right_units\":\"screen\",\"top_units\":\"screen\"},\"id\":\"1705\",\"type\":\"BoxAnnotation\"},{\"attributes\":{\"callback\":null,\"tooltips\":[[\"Posi\\u00e7\\u00e3o [m]\",\"@posicao{0.00}\"],[\"Tempo [s]\",\"@tempo\"]]},\"id\":\"1533\",\"type\":\"HoverTool\"},{\"attributes\":{\"callback\":null},\"id\":\"1545\",\"type\":\"DataRange1d\"},{\"attributes\":{},\"id\":\"1527\",\"type\":\"PanTool\"},{\"attributes\":{\"fill_alpha\":{\"value\":0.1},\"fill_color\":{\"value\":\"#1f77b4\"},\"line_alpha\":{\"value\":0.1},\"line_color\":{\"value\":\"#1f77b4\"},\"size\":{\"units\":\"screen\",\"value\":10},\"x\":{\"field\":\"tempo\"},\"y\":{\"field\":\"aceleracao\"}},\"id\":\"1643\",\"type\":\"Scatter\"}],\"root_ids\":[\"1653\"]},\"title\":\"Bokeh Application\",\"version\":\"1.3.4\"}};\n",
       "  var render_items = [{\"docid\":\"8dd46bb9-571c-4487-83f7-9c90f0fe6f48\",\"roots\":{\"1653\":\"de164e32-c4d3-46f5-b00d-cbf12dd92664\"}}];\n",
       "  root.Bokeh.embed.embed_items_notebook(docs_json, render_items);\n",
       "\n",
       "  }\n",
       "  if (root.Bokeh !== undefined) {\n",
       "    embed_document(root);\n",
       "  } else {\n",
       "    var attempts = 0;\n",
       "    var timer = setInterval(function(root) {\n",
       "      if (root.Bokeh !== undefined) {\n",
       "        embed_document(root);\n",
       "        clearInterval(timer);\n",
       "      }\n",
       "      attempts++;\n",
       "      if (attempts > 100) {\n",
       "        console.log(\"Bokeh: ERROR: Unable to run BokehJS code because BokehJS library is missing\");\n",
       "        clearInterval(timer);\n",
       "      }\n",
       "    }, 10, root)\n",
       "  }\n",
       "})(window);"
      ],
      "application/vnd.bokehjs_exec.v0+json": ""
     },
     "metadata": {
      "application/vnd.bokehjs_exec.v0+json": {
       "id": "1653"
      }
     },
     "output_type": "display_data"
    }
   ],
   "source": [
    "mruv_iterative()"
   ]
  },
  {
   "cell_type": "markdown",
   "metadata": {},
   "source": [
    "<p class='justified'>\n",
    "    Observe que se colocarmos valores positivos para a aceleração ($a > 0$), o gráfico da velocidade se transforma em uma reta com inclinação positiva, cujo coeficiente linear é a velocidade inicial do movimento $v_0$ no tempo $t = 0s$. Já o gráfico da posição se transforma em uma parábola com concavidade positiva. Para valores negativos da aceleração ($a < 0$), a inclinação da reta que descreve a velocidade muda e tende para valores cada vez menores conforme o tempo passa. Isso significa que o carro está freiando, ou seja, desacelerando, até sua velocidade ser nula e após isso ele começa a dar ré, ou seja, ir no sentido contrário do movimento. Nesse caso, o gráfico da posição é descrito por uma parábola de concavidade negativa. O carro percorre uma distância a partir da origem $S_0$ e depois começa a voltar.\n",
    "</p>\n",
    "\n",
    "<p class='justified'>\n",
    "    De fato, esses comportamentos se devem ao fato do tipo de equações que definem o <b>MRUV</b>:\n",
    "</p>\n",
    "\n",
    "$$\n",
    "    v(t) = v_0 + at\n",
    "    \\label{eq:mruv_vel}\n",
    "$$\n",
    "\n",
    "e\n",
    "\n",
    "$$\n",
    "    S(t) = S_0 + v_0t + \\frac{1}{2}a t^2.\n",
    "    \\label{eq:mruv_pos}\n",
    "$$"
   ]
  },
  {
   "cell_type": "markdown",
   "metadata": {},
   "source": [
    "<p class='justified'>\n",
    "    Voltando ao exemplo do carro. Suponha que o carro que você está observando aumenta a velocidade em $1{,}00\\,m/s$ a cada segundo que se passa, ou seja. A aceleração é definida como a variação da velocidade em um intervalo de tempo, portando, nesse caso:\n",
    "</p>\n",
    "\n",
    "$$\n",
    "    a = \\frac{\\Delta v}{\\Delta t} = \\frac{1{,}00\\,m/s}{1{,}00\\,s} = 1{,}00\\,\\frac{m/s}{s} = 1{,}00\\,m/s^2.\n",
    "$$\n",
    "\n",
    "<p class='justified'>\n",
    "    Vemos então que a unidade de aceleração é $m/s^2$. \n",
    "</p>\n",
    "\n",
    "<p class='justified'>\n",
    "Lembrando que quando você começa a cronometrar ($t = 0$), o carro está passando em frente a sua casa, de maneira que definimos esse ponto como $S_0$ e a velocidade do carro nesse instante é $v_0 = 5{,}00\\,m/s$. Dessa forma, as Eqs.\\eqref{eq:mruv_vel} e \\eqref{eq:mruv_pos} podem ser escritas como\n",
    "</p>\n",
    "\n",
    "$$\n",
    "    v(t) = \\left( 5{,}00\\,m/s\\right) + \\left( 1{,}00\\,m/s^2\\right)t\n",
    "$$\n",
    "\n",
    "e\n",
    "\n",
    "$$\n",
    "    S(t) = S_0 + \\left( 5{,}00\\,m/s\\right)t + \\frac{1}{2}\\left( 1{,}00\\,m/s^2\\right) t^2.\n",
    "$$\n",
    "\n",
    "<p class='justified'>\n",
    "    Caso a origem do sistema de coordenadas seja definida em frente sua casa, $S_0 = 0{,}00\\,m$, de maneira que\n",
    "</p>\n",
    "\n",
    "$$\n",
    "    S(t) = \\left( 5{,}00\\,m/s\\right)t + \\frac{1}{2}\\left( 1{,}00\\,m/s^2\\right) t^2.\n",
    "$$"
   ]
  },
  {
   "cell_type": "code",
   "execution_count": null,
   "metadata": {},
   "outputs": [],
   "source": []
  },
  {
   "cell_type": "code",
   "execution_count": null,
   "metadata": {},
   "outputs": [],
   "source": []
  },
  {
   "cell_type": "code",
   "execution_count": null,
   "metadata": {},
   "outputs": [],
   "source": []
  },
  {
   "cell_type": "code",
   "execution_count": null,
   "metadata": {},
   "outputs": [],
   "source": []
  },
  {
   "cell_type": "code",
   "execution_count": null,
   "metadata": {},
   "outputs": [],
   "source": []
  },
  {
   "cell_type": "code",
   "execution_count": null,
   "metadata": {},
   "outputs": [],
   "source": []
  },
  {
   "cell_type": "code",
   "execution_count": null,
   "metadata": {},
   "outputs": [],
   "source": []
  },
  {
   "cell_type": "code",
   "execution_count": null,
   "metadata": {},
   "outputs": [],
   "source": []
  },
  {
   "cell_type": "code",
   "execution_count": null,
   "metadata": {},
   "outputs": [],
   "source": []
  },
  {
   "cell_type": "code",
   "execution_count": null,
   "metadata": {},
   "outputs": [],
   "source": []
  },
  {
   "cell_type": "code",
   "execution_count": null,
   "metadata": {},
   "outputs": [],
   "source": []
  },
  {
   "cell_type": "code",
   "execution_count": null,
   "metadata": {},
   "outputs": [],
   "source": []
  },
  {
   "cell_type": "code",
   "execution_count": null,
   "metadata": {},
   "outputs": [],
   "source": []
  },
  {
   "cell_type": "code",
   "execution_count": null,
   "metadata": {},
   "outputs": [],
   "source": []
  },
  {
   "cell_type": "code",
   "execution_count": null,
   "metadata": {},
   "outputs": [],
   "source": []
  },
  {
   "cell_type": "code",
   "execution_count": null,
   "metadata": {},
   "outputs": [],
   "source": []
  },
  {
   "cell_type": "code",
   "execution_count": null,
   "metadata": {},
   "outputs": [],
   "source": []
  },
  {
   "cell_type": "code",
   "execution_count": null,
   "metadata": {},
   "outputs": [],
   "source": []
  },
  {
   "cell_type": "code",
   "execution_count": null,
   "metadata": {},
   "outputs": [],
   "source": []
  },
  {
   "cell_type": "code",
   "execution_count": null,
   "metadata": {},
   "outputs": [],
   "source": []
  },
  {
   "cell_type": "code",
   "execution_count": null,
   "metadata": {},
   "outputs": [],
   "source": []
  },
  {
   "cell_type": "code",
   "execution_count": null,
   "metadata": {},
   "outputs": [],
   "source": []
  },
  {
   "cell_type": "code",
   "execution_count": null,
   "metadata": {},
   "outputs": [],
   "source": []
  },
  {
   "cell_type": "code",
   "execution_count": null,
   "metadata": {},
   "outputs": [],
   "source": []
  },
  {
   "cell_type": "code",
   "execution_count": null,
   "metadata": {},
   "outputs": [],
   "source": []
  },
  {
   "cell_type": "code",
   "execution_count": null,
   "metadata": {},
   "outputs": [],
   "source": []
  },
  {
   "cell_type": "code",
   "execution_count": null,
   "metadata": {},
   "outputs": [],
   "source": []
  },
  {
   "cell_type": "code",
   "execution_count": null,
   "metadata": {},
   "outputs": [],
   "source": []
  },
  {
   "cell_type": "code",
   "execution_count": null,
   "metadata": {},
   "outputs": [],
   "source": []
  },
  {
   "cell_type": "code",
   "execution_count": null,
   "metadata": {},
   "outputs": [],
   "source": []
  },
  {
   "cell_type": "code",
   "execution_count": null,
   "metadata": {},
   "outputs": [],
   "source": []
  },
  {
   "cell_type": "code",
   "execution_count": null,
   "metadata": {},
   "outputs": [],
   "source": []
  },
  {
   "cell_type": "code",
   "execution_count": null,
   "metadata": {},
   "outputs": [],
   "source": []
  },
  {
   "cell_type": "code",
   "execution_count": null,
   "metadata": {},
   "outputs": [],
   "source": []
  },
  {
   "cell_type": "code",
   "execution_count": null,
   "metadata": {},
   "outputs": [],
   "source": []
  },
  {
   "cell_type": "code",
   "execution_count": null,
   "metadata": {},
   "outputs": [],
   "source": []
  },
  {
   "cell_type": "code",
   "execution_count": null,
   "metadata": {},
   "outputs": [],
   "source": []
  },
  {
   "cell_type": "code",
   "execution_count": null,
   "metadata": {},
   "outputs": [],
   "source": []
  },
  {
   "cell_type": "code",
   "execution_count": null,
   "metadata": {},
   "outputs": [],
   "source": []
  },
  {
   "cell_type": "code",
   "execution_count": null,
   "metadata": {},
   "outputs": [],
   "source": []
  },
  {
   "cell_type": "code",
   "execution_count": null,
   "metadata": {},
   "outputs": [],
   "source": []
  },
  {
   "cell_type": "code",
   "execution_count": null,
   "metadata": {},
   "outputs": [],
   "source": []
  },
  {
   "cell_type": "code",
   "execution_count": null,
   "metadata": {},
   "outputs": [],
   "source": []
  },
  {
   "cell_type": "code",
   "execution_count": null,
   "metadata": {},
   "outputs": [],
   "source": []
  },
  {
   "cell_type": "code",
   "execution_count": null,
   "metadata": {},
   "outputs": [],
   "source": []
  },
  {
   "cell_type": "code",
   "execution_count": null,
   "metadata": {},
   "outputs": [],
   "source": []
  },
  {
   "cell_type": "code",
   "execution_count": null,
   "metadata": {},
   "outputs": [],
   "source": []
  },
  {
   "cell_type": "code",
   "execution_count": null,
   "metadata": {},
   "outputs": [],
   "source": []
  },
  {
   "cell_type": "code",
   "execution_count": null,
   "metadata": {},
   "outputs": [],
   "source": []
  },
  {
   "cell_type": "code",
   "execution_count": null,
   "metadata": {},
   "outputs": [],
   "source": []
  },
  {
   "cell_type": "code",
   "execution_count": null,
   "metadata": {},
   "outputs": [],
   "source": []
  },
  {
   "cell_type": "code",
   "execution_count": null,
   "metadata": {},
   "outputs": [],
   "source": []
  },
  {
   "cell_type": "code",
   "execution_count": null,
   "metadata": {},
   "outputs": [],
   "source": []
  },
  {
   "cell_type": "code",
   "execution_count": null,
   "metadata": {},
   "outputs": [],
   "source": []
  },
  {
   "cell_type": "code",
   "execution_count": null,
   "metadata": {},
   "outputs": [],
   "source": []
  },
  {
   "cell_type": "code",
   "execution_count": null,
   "metadata": {},
   "outputs": [],
   "source": []
  },
  {
   "cell_type": "code",
   "execution_count": null,
   "metadata": {},
   "outputs": [],
   "source": []
  },
  {
   "cell_type": "code",
   "execution_count": null,
   "metadata": {},
   "outputs": [],
   "source": []
  },
  {
   "cell_type": "code",
   "execution_count": null,
   "metadata": {},
   "outputs": [],
   "source": []
  },
  {
   "cell_type": "code",
   "execution_count": null,
   "metadata": {},
   "outputs": [],
   "source": []
  },
  {
   "cell_type": "code",
   "execution_count": null,
   "metadata": {},
   "outputs": [],
   "source": []
  },
  {
   "cell_type": "code",
   "execution_count": null,
   "metadata": {},
   "outputs": [],
   "source": []
  },
  {
   "cell_type": "code",
   "execution_count": null,
   "metadata": {},
   "outputs": [],
   "source": []
  },
  {
   "cell_type": "code",
   "execution_count": null,
   "metadata": {},
   "outputs": [],
   "source": []
  },
  {
   "cell_type": "code",
   "execution_count": null,
   "metadata": {},
   "outputs": [],
   "source": []
  },
  {
   "cell_type": "code",
   "execution_count": null,
   "metadata": {},
   "outputs": [],
   "source": []
  },
  {
   "cell_type": "code",
   "execution_count": null,
   "metadata": {},
   "outputs": [],
   "source": []
  },
  {
   "cell_type": "code",
   "execution_count": null,
   "metadata": {},
   "outputs": [],
   "source": []
  },
  {
   "cell_type": "code",
   "execution_count": null,
   "metadata": {},
   "outputs": [],
   "source": []
  },
  {
   "cell_type": "code",
   "execution_count": null,
   "metadata": {},
   "outputs": [],
   "source": []
  },
  {
   "cell_type": "code",
   "execution_count": null,
   "metadata": {},
   "outputs": [],
   "source": []
  },
  {
   "cell_type": "code",
   "execution_count": null,
   "metadata": {},
   "outputs": [],
   "source": []
  },
  {
   "cell_type": "code",
   "execution_count": null,
   "metadata": {},
   "outputs": [],
   "source": []
  },
  {
   "cell_type": "code",
   "execution_count": null,
   "metadata": {},
   "outputs": [],
   "source": []
  },
  {
   "cell_type": "code",
   "execution_count": null,
   "metadata": {},
   "outputs": [],
   "source": []
  },
  {
   "cell_type": "code",
   "execution_count": null,
   "metadata": {},
   "outputs": [],
   "source": []
  },
  {
   "cell_type": "code",
   "execution_count": null,
   "metadata": {},
   "outputs": [],
   "source": []
  },
  {
   "cell_type": "code",
   "execution_count": null,
   "metadata": {},
   "outputs": [],
   "source": []
  },
  {
   "cell_type": "code",
   "execution_count": null,
   "metadata": {},
   "outputs": [],
   "source": []
  },
  {
   "cell_type": "code",
   "execution_count": null,
   "metadata": {},
   "outputs": [],
   "source": []
  },
  {
   "cell_type": "code",
   "execution_count": null,
   "metadata": {},
   "outputs": [],
   "source": []
  },
  {
   "cell_type": "code",
   "execution_count": null,
   "metadata": {},
   "outputs": [],
   "source": []
  },
  {
   "cell_type": "code",
   "execution_count": null,
   "metadata": {},
   "outputs": [],
   "source": []
  },
  {
   "cell_type": "code",
   "execution_count": null,
   "metadata": {},
   "outputs": [],
   "source": []
  },
  {
   "cell_type": "code",
   "execution_count": null,
   "metadata": {},
   "outputs": [],
   "source": []
  },
  {
   "cell_type": "code",
   "execution_count": null,
   "metadata": {},
   "outputs": [],
   "source": []
  },
  {
   "cell_type": "code",
   "execution_count": null,
   "metadata": {},
   "outputs": [],
   "source": []
  },
  {
   "cell_type": "code",
   "execution_count": null,
   "metadata": {},
   "outputs": [],
   "source": []
  },
  {
   "cell_type": "code",
   "execution_count": null,
   "metadata": {},
   "outputs": [],
   "source": []
  },
  {
   "cell_type": "code",
   "execution_count": null,
   "metadata": {},
   "outputs": [],
   "source": []
  },
  {
   "cell_type": "code",
   "execution_count": null,
   "metadata": {},
   "outputs": [],
   "source": []
  },
  {
   "cell_type": "code",
   "execution_count": null,
   "metadata": {},
   "outputs": [],
   "source": []
  },
  {
   "cell_type": "code",
   "execution_count": null,
   "metadata": {},
   "outputs": [],
   "source": []
  },
  {
   "cell_type": "code",
   "execution_count": null,
   "metadata": {},
   "outputs": [],
   "source": []
  },
  {
   "cell_type": "code",
   "execution_count": null,
   "metadata": {},
   "outputs": [],
   "source": []
  },
  {
   "cell_type": "code",
   "execution_count": null,
   "metadata": {},
   "outputs": [],
   "source": []
  },
  {
   "cell_type": "code",
   "execution_count": null,
   "metadata": {},
   "outputs": [],
   "source": []
  },
  {
   "cell_type": "code",
   "execution_count": null,
   "metadata": {},
   "outputs": [],
   "source": []
  },
  {
   "cell_type": "code",
   "execution_count": null,
   "metadata": {},
   "outputs": [],
   "source": []
  },
  {
   "cell_type": "code",
   "execution_count": null,
   "metadata": {},
   "outputs": [],
   "source": []
  },
  {
   "cell_type": "code",
   "execution_count": null,
   "metadata": {},
   "outputs": [],
   "source": []
  },
  {
   "cell_type": "code",
   "execution_count": null,
   "metadata": {},
   "outputs": [],
   "source": []
  },
  {
   "cell_type": "code",
   "execution_count": null,
   "metadata": {},
   "outputs": [],
   "source": []
  },
  {
   "cell_type": "code",
   "execution_count": null,
   "metadata": {},
   "outputs": [],
   "source": []
  },
  {
   "cell_type": "code",
   "execution_count": null,
   "metadata": {},
   "outputs": [],
   "source": []
  },
  {
   "cell_type": "code",
   "execution_count": null,
   "metadata": {},
   "outputs": [],
   "source": []
  },
  {
   "cell_type": "code",
   "execution_count": null,
   "metadata": {},
   "outputs": [],
   "source": []
  },
  {
   "cell_type": "code",
   "execution_count": null,
   "metadata": {},
   "outputs": [],
   "source": []
  },
  {
   "cell_type": "code",
   "execution_count": null,
   "metadata": {},
   "outputs": [],
   "source": []
  },
  {
   "cell_type": "code",
   "execution_count": null,
   "metadata": {},
   "outputs": [],
   "source": []
  },
  {
   "cell_type": "code",
   "execution_count": null,
   "metadata": {},
   "outputs": [],
   "source": []
  },
  {
   "cell_type": "code",
   "execution_count": null,
   "metadata": {},
   "outputs": [],
   "source": []
  },
  {
   "cell_type": "code",
   "execution_count": null,
   "metadata": {},
   "outputs": [],
   "source": []
  },
  {
   "cell_type": "code",
   "execution_count": null,
   "metadata": {},
   "outputs": [],
   "source": []
  },
  {
   "cell_type": "code",
   "execution_count": null,
   "metadata": {},
   "outputs": [],
   "source": []
  },
  {
   "cell_type": "code",
   "execution_count": null,
   "metadata": {},
   "outputs": [],
   "source": []
  },
  {
   "cell_type": "code",
   "execution_count": null,
   "metadata": {},
   "outputs": [],
   "source": []
  },
  {
   "cell_type": "code",
   "execution_count": null,
   "metadata": {},
   "outputs": [],
   "source": []
  },
  {
   "cell_type": "code",
   "execution_count": null,
   "metadata": {},
   "outputs": [],
   "source": []
  },
  {
   "cell_type": "code",
   "execution_count": null,
   "metadata": {},
   "outputs": [],
   "source": []
  },
  {
   "cell_type": "code",
   "execution_count": null,
   "metadata": {},
   "outputs": [],
   "source": []
  },
  {
   "cell_type": "code",
   "execution_count": null,
   "metadata": {},
   "outputs": [],
   "source": []
  },
  {
   "cell_type": "code",
   "execution_count": null,
   "metadata": {},
   "outputs": [],
   "source": []
  },
  {
   "cell_type": "code",
   "execution_count": null,
   "metadata": {},
   "outputs": [],
   "source": []
  },
  {
   "cell_type": "code",
   "execution_count": null,
   "metadata": {},
   "outputs": [],
   "source": []
  },
  {
   "cell_type": "code",
   "execution_count": null,
   "metadata": {},
   "outputs": [],
   "source": []
  },
  {
   "cell_type": "code",
   "execution_count": null,
   "metadata": {},
   "outputs": [],
   "source": []
  },
  {
   "cell_type": "code",
   "execution_count": null,
   "metadata": {},
   "outputs": [],
   "source": []
  },
  {
   "cell_type": "code",
   "execution_count": null,
   "metadata": {},
   "outputs": [],
   "source": []
  },
  {
   "cell_type": "code",
   "execution_count": null,
   "metadata": {},
   "outputs": [],
   "source": []
  },
  {
   "cell_type": "code",
   "execution_count": null,
   "metadata": {},
   "outputs": [],
   "source": []
  },
  {
   "cell_type": "code",
   "execution_count": null,
   "metadata": {},
   "outputs": [],
   "source": []
  },
  {
   "cell_type": "code",
   "execution_count": null,
   "metadata": {},
   "outputs": [],
   "source": []
  },
  {
   "cell_type": "code",
   "execution_count": null,
   "metadata": {},
   "outputs": [],
   "source": []
  },
  {
   "cell_type": "code",
   "execution_count": null,
   "metadata": {},
   "outputs": [],
   "source": []
  },
  {
   "cell_type": "code",
   "execution_count": null,
   "metadata": {},
   "outputs": [],
   "source": []
  },
  {
   "cell_type": "code",
   "execution_count": null,
   "metadata": {},
   "outputs": [],
   "source": []
  },
  {
   "cell_type": "code",
   "execution_count": null,
   "metadata": {},
   "outputs": [],
   "source": []
  },
  {
   "cell_type": "code",
   "execution_count": null,
   "metadata": {},
   "outputs": [],
   "source": []
  },
  {
   "cell_type": "code",
   "execution_count": null,
   "metadata": {},
   "outputs": [],
   "source": []
  },
  {
   "cell_type": "code",
   "execution_count": null,
   "metadata": {},
   "outputs": [],
   "source": []
  },
  {
   "cell_type": "code",
   "execution_count": null,
   "metadata": {},
   "outputs": [],
   "source": []
  },
  {
   "cell_type": "code",
   "execution_count": null,
   "metadata": {},
   "outputs": [],
   "source": []
  },
  {
   "cell_type": "code",
   "execution_count": null,
   "metadata": {},
   "outputs": [],
   "source": []
  },
  {
   "cell_type": "code",
   "execution_count": null,
   "metadata": {},
   "outputs": [],
   "source": []
  },
  {
   "cell_type": "code",
   "execution_count": null,
   "metadata": {},
   "outputs": [],
   "source": []
  },
  {
   "cell_type": "code",
   "execution_count": null,
   "metadata": {},
   "outputs": [],
   "source": []
  },
  {
   "cell_type": "code",
   "execution_count": null,
   "metadata": {},
   "outputs": [],
   "source": []
  },
  {
   "cell_type": "code",
   "execution_count": null,
   "metadata": {},
   "outputs": [],
   "source": []
  },
  {
   "cell_type": "code",
   "execution_count": null,
   "metadata": {},
   "outputs": [],
   "source": []
  },
  {
   "cell_type": "code",
   "execution_count": null,
   "metadata": {},
   "outputs": [],
   "source": []
  },
  {
   "cell_type": "code",
   "execution_count": null,
   "metadata": {},
   "outputs": [],
   "source": []
  },
  {
   "cell_type": "code",
   "execution_count": null,
   "metadata": {},
   "outputs": [],
   "source": []
  },
  {
   "cell_type": "code",
   "execution_count": null,
   "metadata": {},
   "outputs": [],
   "source": []
  },
  {
   "cell_type": "code",
   "execution_count": null,
   "metadata": {},
   "outputs": [],
   "source": []
  },
  {
   "cell_type": "code",
   "execution_count": null,
   "metadata": {},
   "outputs": [],
   "source": []
  },
  {
   "cell_type": "code",
   "execution_count": null,
   "metadata": {},
   "outputs": [],
   "source": []
  }
 ],
 "metadata": {
  "kernelspec": {
   "display_name": "Python 3",
   "language": "python",
   "name": "python3"
  },
  "language_info": {
   "codemirror_mode": {
    "name": "ipython",
    "version": 3
   },
   "file_extension": ".py",
   "mimetype": "text/x-python",
   "name": "python",
   "nbconvert_exporter": "python",
   "pygments_lexer": "ipython3",
   "version": "3.6.10"
  },
  "latex_envs": {
   "LaTeX_envs_menu_present": true,
   "autoclose": false,
   "autocomplete": true,
   "bibliofile": "biblio.bib",
   "cite_by": "apalike",
   "current_citInitial": 1,
   "eqLabelWithNumbers": true,
   "eqNumInitial": 1,
   "hotkeys": {
    "equation": "Ctrl-E",
    "itemize": "Ctrl-I"
   },
   "labels_anchors": false,
   "latex_user_defs": false,
   "report_style_numbering": false,
   "user_envs_cfg": false
  },
  "toc": {
   "base_numbering": 1,
   "nav_menu": {},
   "number_sections": true,
   "sideBar": true,
   "skip_h1_title": false,
   "title_cell": "Table of Contents",
   "title_sidebar": "Contents",
   "toc_cell": false,
   "toc_position": {},
   "toc_section_display": true,
   "toc_window_display": false
  },
  "varInspector": {
   "cols": {
    "lenName": 16,
    "lenType": 16,
    "lenVar": 40
   },
   "kernels_config": {
    "python": {
     "delete_cmd_postfix": "",
     "delete_cmd_prefix": "del ",
     "library": "var_list.py",
     "varRefreshCmd": "print(var_dic_list())"
    },
    "r": {
     "delete_cmd_postfix": ") ",
     "delete_cmd_prefix": "rm(",
     "library": "var_list.r",
     "varRefreshCmd": "cat(var_dic_list()) "
    }
   },
   "types_to_exclude": [
    "module",
    "function",
    "builtin_function_or_method",
    "instance",
    "_Feature"
   ],
   "window_display": false
  }
 },
 "nbformat": 4,
 "nbformat_minor": 4
}
