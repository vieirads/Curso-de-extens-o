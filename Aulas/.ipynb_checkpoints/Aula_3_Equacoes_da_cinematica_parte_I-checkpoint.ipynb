{
 "cells": [
  {
   "cell_type": "markdown",
   "metadata": {
    "ExecuteTime": {
     "end_time": "2020-06-13T18:36:59.400709Z",
     "start_time": "2020-06-13T18:36:59.397052Z"
    }
   },
   "source": [
    "<!--from IPython.core.display import display, HTML\n",
    "display(HTML(\"<style>.container { width:95% !important; }</style>\"))-->"
   ]
  },
  {
   "cell_type": "markdown",
   "metadata": {},
   "source": [
    "---\n",
    "\n",
    "**Sumário**\n",
    "- 1. [Equações da Cinemática - Parte I](#equacoes_da_cinematica_parte_i) <br>\n",
    "- 2. [Importando Pacotes](#pacotes_e_funcoes) <br>\n",
    "- 3. [Movimento Retilíneo Uniforme (MRU)](#MRU) <br>\n",
    "    - 3.1 [Experimento 1 - MRU [1]](#experimento_1_mru) <br>\n",
    "- 4. [Analisando os dados obtidos usando Python](#analisando_os_dados_obtidos_usando_python) <br>\n",
    "    - 4.1 [Apresentando os dados](#apresentando_os_dados) <br>\n",
    "        - 4.1.1 [Posição dos sensores](#posicao_dos_sensores) <br>\n",
    "        - 4.1.2 [Tempo cronometrado nos sensores](#tempo_cronometrado_nos_sensores) <br>\n",
    "        - 4.1.3 [Calculando a média dos tempos nos sensores](#calculando_a_media_dos_tempos_nos_sensores) <br>\n",
    "        - 4.1.4 [Calculando o desvio padrão dos tempos nos sensosres](#calculando_o_desvio_padrao_dos_tempos_nos_sensores) <br>\n",
    "- 5 [Confeccionando o gráfico $S \\times \\bar{t}$](#confeccionando_o_grafico_sxt) <br>\n",
    "- 6 [Ajuste do modelo linear](#ajuste_do_modelo_linear) <br>\n",
    "    - 6.1 [Método dos mínimos quadrados](#metodo_dos_minimos_quadrados) <br>\n",
    "    - 6.2 [Usando a função ``polyfit`` do ``numpy``](#usando_a_funcao_polyfit_do_numpy) <br>\n",
    "- 7 [Comparando o modelo com os dados](#comprando_o_modelo_com_os_dados) <br>\n",
    "    - 7.1 [Comparações iniciais](#comparacoes_iniciais) <br>\n",
    "    - 7.2 [Comparação via gráfico](#comparacao_via_grafico) <br>\n",
    "    - 7.3 [Comparação via desvio percentual](#comparacao_via_desvio_percentual) <br>\n",
    "    - 7.4 [Comparação via $R^2$](#comparacao_via_r2) <br>\n",
    "- 8 [Conclusões](#conclusoes)\n",
    "- 9 [* Ajustando os dados com regressão linear](#ajustando_os_dados_com_regressao_linear) <br>\n",
    "    - 9.1 [Importando os pacotes necessários](#importando_os_pacotes_necessarios) <br>\n",
    "    - 9.2 [Reestruturando os dados](#reestruturando_os_dados) <br>\n",
    "    - 9.3 [Criando o objeto de regressão linear e fitando os dados ao modelo](#criando_o_objeto_de_regressao_linear_e_fitando_os_dados_ao_modelo) <br>\n",
    "    - 9.4 [Testando a qualidade do modelo: $R^2$ e gráfico](#testando_a_qualidade_do_modelo_r2_e_grafico)"
   ]
  },
  {
   "cell_type": "markdown",
   "metadata": {},
   "source": [
    "<a class=\"anchor\" id=\"equacoes_da_cinematica_parte_i\"></a>\n",
    "# Equações da Cinemática - Parte I"
   ]
  },
  {
   "cell_type": "markdown",
   "metadata": {},
   "source": [
    "<p class='justified'>\n",
    "A <b>cinemática</b> é a parte da física que estuda o <b>movimento dos corpos</b> sem se preocupar com o que levou o objeto a adquirir tal movimento. Como veremos nos capítulos posteriores, que a causa por de trás do movimento dos corpos é o fato uma ou mais de forças atuarem nele e mudarem seu estado conforme o tempo passa. \n",
    "</p>\n",
    "\n",
    "<p class='justified'>\n",
    "Nesses primeiros capítulos <b>analisaremos os dados obtidos</b> a partir de <b>experimentos previamente realizados</b> para obter as <b>equações de movimento</b> associadas ao objeto em questão. A obtenção dessas equações ilustrará como podemos <b>prever o comportamento</b> do objeto <b>em qualquer instante de tempo</b>, isto é, a posição em que se encontrará.\n",
    "</p>\n",
    "\n",
    "<p class='justified'>\n",
    "Esse material é um complemento ao conteúdo do Cap. 3 (Pags. 22-38) do <b>Manual de Laboratório de Física Experimental I</b> <a href='#mukai'>[1]</a>.\n",
    "</p>\n",
    "\n",
    "<a class='citation' id='mukai' href=\"http://site.dfi.uem.br/wp-content/uploads/2018/04/Manual-de-Laborat%C3%B3rio-de-F%C3%ADsica-Experimental-I.pdf\">[1] Mukai, Hatsumi e Fernandes, Paulo R. G., <i>Manual de Laboratório de Física I</i>. Universidade Estadual de Maringá, Centro de Ciências Exatas, Departamento de Física (<b>2018</b>).</a>"
   ]
  },
  {
   "cell_type": "markdown",
   "metadata": {},
   "source": [
    "<a class=\"anchor\" id=\"pacotes_e_funcoes\"></a>\n",
    "# Pacotes e Funções"
   ]
  },
  {
   "cell_type": "markdown",
   "metadata": {},
   "source": [
    "<p class='mono_gray'>\n",
    "A primeira ação a ser feita para nossas análises, é <b>importar</b> os <b>pacotes</b> que contêm as funções que precisaremos para lidar com os <b>dados coletados do experimento</b>.\n",
    "</p>"
   ]
  },
  {
   "cell_type": "code",
   "execution_count": 2,
   "metadata": {
    "ExecuteTime": {
     "end_time": "2020-06-19T20:32:45.276129Z",
     "start_time": "2020-06-19T20:32:45.270199Z"
    }
   },
   "outputs": [],
   "source": [
    "# pacotes para manipulação dos dados\n",
    "import pandas as pd\n",
    "import numpy as np\n",
    "\n",
    "# pacote para confecção de gráficos para visualizar os resultados\n",
    "# de uma maneira mais apreciável e criar nossos modelos\n",
    "import matplotlib.pyplot as plt\n",
    "\n",
    "# ajustando algumas configurações para melhor visualização dos gráficos\n",
    "plt.rcParams['font.size'] = 16                           # altera o tamanho das fontes na figura\n",
    "plt.rcParams['figure.figsize'] = 8, 6                    # altera o tamanho da figura\n",
    "plt.rcParams['axes.axisbelow'] = True                    # para desenhar os grids atrás das curvas e pontos\n",
    "for axis in ['xtick', 'ytick']:                          # loop para aplicar as mudanças nos eixos x e y\n",
    "    plt.rcParams['{}.major.size'.format(axis)] = 10      # altera o tamanho dos ticks maiores\n",
    "    plt.rcParams['{}.minor.size'.format(axis)] = 5       # altera o tamanho dos ticks menores\n",
    "    plt.rcParams['{}.minor.visible'.format(axis)] = True # faz os ticks menores ficarem visíveis"
   ]
  },
  {
   "cell_type": "markdown",
   "metadata": {},
   "source": [
    "<a class=\"anchor\" id=\"MRU\"></a>\n",
    "# Movimento Retilíneo Uniforme (MRU)"
   ]
  },
  {
   "cell_type": "markdown",
   "metadata": {
    "ExecuteTime": {
     "end_time": "2020-06-15T00:18:30.332819Z",
     "start_time": "2020-06-15T00:18:30.316286Z"
    }
   },
   "source": [
    "<p class='justified'>\n",
    "Nossos estudos, seja em qualquer disciplina, ocorrem gradualmente de assuntos mais simples e vão se tornando mais complexos/elaborados conforme avançamos. Em física, nossos estudos, em geral, iniciam-se com a Mecânica e nessa partem das <b>equações de movimento</b> de um corpo que se <b>desloca em linha reta (uma dimensão)</b> e com <b>velocidade constante</b>. \n",
    "</p>\n",
    "\n",
    "A equação que estudaremos nesse experimento é dada pela seguinte expressão:\n",
    "\n",
    "$$\n",
    "    S(t) = S_0 + v t,\n",
    "    \\label{eq:mru}\n",
    "$$\n",
    "\n",
    "<p class='justified'>\n",
    "em que $S(t)$ é a posição em que nosso objeto/móvel se encontra em um instante de tempo $t$, $S_0$ é a posição inicial do objeto/móvel (no tempo inicial $t=0$) e $v$ é a velocidade do objeto/móvel, que permanece constante ao longo de todo percurso.\n",
    "</p>"
   ]
  },
  {
   "cell_type": "markdown",
   "metadata": {},
   "source": [
    "<p class='justified'>\n",
    "<b>Exemplo 1.</b> Um exemplo cotidiano e simples que \"traduz\" a expressão dada pela Eq. \\eqref{eq:mru} é a de um carro andando sempre com a mesma velocidade. Imagine que você esteja observando um carro com uma velocidade $v = 18\\, km/h = 5\\, m/s$, e que essa velocidade não muda, permanece constante por todo percurso. Quando ele passa em frente a sua casa, você aperta o botão do cronômetro. Esse será o instante inicial do movimento, o $t=0{,}00\\, s$, e a posição em que o carro se encontra no momento em que o cronômetro foi acionado é a posição inicial do carro $S_0$.\n",
    "</p>"
   ]
  },
  {
   "cell_type": "markdown",
   "metadata": {},
   "source": [
    "<p class='justified'>\n",
    "A partir desse ponto, o cronômetro continua registrando o tempo e o carro continua se movimentando, em linha reta, pela rua. A cada segundo que passa no seu cronômetro, o carro se desloca $5\\, m$. Se quisermos saber a posição do carro para qualquer tempo $t$, a partir do ponto $S_0$ que é sua casa, basta somarmos os incrementos na distância a cada segundo, devido ao movimento, com o valor inicial $S_0$. Nesse cenário, a Eq. \\eqref{eq:mru} fica escrita como\n",
    "\n",
    "$$\n",
    "    S(t) = S_0 + (5\\, m/s)t.\n",
    "$$\n",
    "</p>"
   ]
  },
  {
   "cell_type": "markdown",
   "metadata": {},
   "source": [
    "<p class='justified'>\n",
    "O valor de $S_0$ é escolhido de maneira que os cálculos fiquem mais conveninentes. Por exemplo, ele pode ser escolhido na origem do sistema de coordenadas, de maneira que $S_0 = 0$ e, portanto,\n",
    "</p>\n",
    "\n",
    "$$\n",
    "    S(t) = (5\\, m/s)t.\n",
    "    \\label{eq:carro}\n",
    "$$\n",
    "\n",
    "Portanto, no início da análise do movimento, no tempo $t=0$, o carro se encontra em frente a sua casa:\n",
    "\n",
    "$$\n",
    "    S(t=0) = (5\\, m/s)(0s) = 0 m,\n",
    "$$\n",
    "\n",
    "que corresponde exatamente a posição definida no começo da contagem do tempo: $S_0 = 0$."
   ]
  },
  {
   "cell_type": "markdown",
   "metadata": {},
   "source": [
    "Observe ainda que $S(t)$ é sempre uma posição final analisada, isto é, para um instante de tempo $t$ qualquer. Assim, podemos escrever\n",
    "\n",
    "$$\n",
    "    S(t) - S_0 = vt\n",
    "$$\n",
    "\n",
    "e como a posição final menos a inicial é uma variação na quantidade de espaço percorrido, podemos escrever:\n",
    "\n",
    "$$\n",
    "    \\Delta S (t) = vt.\n",
    "$$"
   ]
  },
  {
   "cell_type": "markdown",
   "metadata": {},
   "source": [
    "<p class='justified'>\n",
    "Essa equação nos diz que o deslocamento do carro após ser transcorrido um tempo $t$ é sempre o mesmo independente da escolha do ponto de referência inicial. Em outras palavras, se a velocidade permanecer $v = 5\\, m/s$ o carro sempre vai percorrer uma distância de $15\\, m$ quando os três segundos se passarem, independente do ponto de referência $S_0$ escolhido. \n",
    "</p>"
   ]
  },
  {
   "cell_type": "markdown",
   "metadata": {},
   "source": [
    "<p classs='justified'>\n",
    "A seguir, vamos analisar a equação de movimento do carro dada pela Eq. \\eqref{eq:carro} de forma gráfica utilizando o <mark class='mono_gray'>Python</mark>. O gráfico do comportamento desse veículo quando colhemos os dados das posições em $t=[0,2,4,6,8,10]\\, s$, a partir de $S_0 = 0\\, m$. \n",
    "</p>\n",
    "\n",
    "<p classs='justified'>\n",
    "<b>a)</b> Definindo as variáveis, dependente e independente e confeccionando o gráfico digitando os dados.\n",
    "</p>\n",
    "    \n",
    "<p classs='justified'>\n",
    "    Nossa <b>variável independente</b> é o <b>tempo</b> e a <b>variável dependente</b> é a posição do carro, que depende do tempo. Dessa forma, colocamos o tempo $t$ no eixo $x$ e a posição do carro $S(t)$ no eixo $y$.\n",
    "</p>"
   ]
  },
  {
   "cell_type": "markdown",
   "metadata": {},
   "source": [
    "<a class='cell' id='figure_1'></a>"
   ]
  },
  {
   "cell_type": "code",
   "execution_count": 3,
   "metadata": {
    "ExecuteTime": {
     "end_time": "2020-06-19T08:32:38.717166Z",
     "start_time": "2020-06-19T08:32:38.326403Z"
    }
   },
   "outputs": [
    {
     "data": {
      "image/png": "[encoded data removed]",
      "text/plain": [
       "<Figure size 576x432 with 1 Axes>"
      ]
     },
     "metadata": {
      "needs_background": "light"
     },
     "output_type": "display_data"
    }
   ],
   "source": [
    "# variavel independente: eixo x, é o tempo que cronometramos\n",
    "tempos_cronometrados = [0, 2, 4, 6, 8, 10]\n",
    "# variavel dependente: eixo y, é a posição do carro\n",
    "def s(s0, v, t):\n",
    "    return s0 + v*t\n",
    "\n",
    "# calculamos os valores para a posição em função do tempo\n",
    "# usamos os valores de tempo cronometrados, encontrados \n",
    "# na lista definida acima - tempos_cronometrados - \n",
    "# para calcular os valores da posição do veículo. \n",
    "# Usaremos a posição inicial s0 = 0 m e a velocidade \n",
    "# constante v = 5,0 m/s. Para isso, usaremos uma\n",
    "# ``lista de compreensão`` (list comprehension)\n",
    "posicoes = [s(s0=0, v=5, t=t) for t in tempos_cronometrados];\n",
    "\n",
    "# confeccionando o gráfico\n",
    "plt.plot(\n",
    "    tempos_cronometrados,     # primeiro argumento são os valores do eixo x\n",
    "    posicoes,                 # segundo argumento são os valores do eixo y\n",
    "    marker='o',               # tipo do ponto usado para marcar as coordenadas (x,y)\n",
    "    markersize=15,            # muda o tamanho dos pontos\n",
    "    markerfacecolor=\"#FFFFFF\" # muda a cor interna dos pontos\n",
    ");\n",
    "\n",
    "# desenha as linhas que acompanham os valores nos eixos\n",
    "plt.grid()\n",
    "\n",
    "# é importante colocar o nome das quantidade nos eixos\n",
    "plt.xlabel('tempo, t [s]');\n",
    "plt.ylabel('posição, S [m]');\n",
    "plt.title('Posição do carro em função do tempo.');"
   ]
  },
  {
   "cell_type": "markdown",
   "metadata": {},
   "source": [
    "<p class='justified'>\n",
    "<b>Figura 1.</b> Gráfico da Posição $S$ (m) do carro versus tempo $t$ (s).\n",
    "</p>"
   ]
  },
  {
   "cell_type": "markdown",
   "metadata": {},
   "source": [
    "<p class='justified'>\n",
    "<b>b)</b> Agora vamos criar o mesmo gráfico usando a biblioteca <mark class='mono_gray'>pandas</mark>. \n",
    "</p>\n",
    "\n",
    "<p class='justified'>\n",
    "O primeiro passo é criar um <mark class='mono_gray'>DataFrame</mark> e então adicionar as colunas com os dados que temos.\n",
    "</p>"
   ]
  },
  {
   "cell_type": "code",
   "execution_count": 5,
   "metadata": {
    "ExecuteTime": {
     "end_time": "2020-06-18T21:52:34.970394Z",
     "start_time": "2020-06-18T21:52:34.823970Z"
    }
   },
   "outputs": [
    {
     "data": {
      "text/html": [
       "<style  type=\"text/css\" >\n",
       "</style><table id=\"T_04b5b012_b1ae_11ea_9786_f743661e7c1f\" ><caption>Tabela 1. Dados do tempo e sua respectiva posição, obtida por meio do Eq. (3).</caption><thead>    <tr>        <th class=\"blank level0\" ></th>        <th class=\"col_heading level0 col0\" >tempo, t [s]</th>        <th class=\"col_heading level0 col1\" >posição, S [m]</th>    </tr></thead><tbody>\n",
       "                <tr>\n",
       "                        <th id=\"T_04b5b012_b1ae_11ea_9786_f743661e7c1flevel0_row0\" class=\"row_heading level0 row0\" >0</th>\n",
       "                        <td id=\"T_04b5b012_b1ae_11ea_9786_f743661e7c1frow0_col0\" class=\"data row0 col0\" >0</td>\n",
       "                        <td id=\"T_04b5b012_b1ae_11ea_9786_f743661e7c1frow0_col1\" class=\"data row0 col1\" >0</td>\n",
       "            </tr>\n",
       "            <tr>\n",
       "                        <th id=\"T_04b5b012_b1ae_11ea_9786_f743661e7c1flevel0_row1\" class=\"row_heading level0 row1\" >1</th>\n",
       "                        <td id=\"T_04b5b012_b1ae_11ea_9786_f743661e7c1frow1_col0\" class=\"data row1 col0\" >2</td>\n",
       "                        <td id=\"T_04b5b012_b1ae_11ea_9786_f743661e7c1frow1_col1\" class=\"data row1 col1\" >10</td>\n",
       "            </tr>\n",
       "            <tr>\n",
       "                        <th id=\"T_04b5b012_b1ae_11ea_9786_f743661e7c1flevel0_row2\" class=\"row_heading level0 row2\" >2</th>\n",
       "                        <td id=\"T_04b5b012_b1ae_11ea_9786_f743661e7c1frow2_col0\" class=\"data row2 col0\" >4</td>\n",
       "                        <td id=\"T_04b5b012_b1ae_11ea_9786_f743661e7c1frow2_col1\" class=\"data row2 col1\" >20</td>\n",
       "            </tr>\n",
       "            <tr>\n",
       "                        <th id=\"T_04b5b012_b1ae_11ea_9786_f743661e7c1flevel0_row3\" class=\"row_heading level0 row3\" >3</th>\n",
       "                        <td id=\"T_04b5b012_b1ae_11ea_9786_f743661e7c1frow3_col0\" class=\"data row3 col0\" >6</td>\n",
       "                        <td id=\"T_04b5b012_b1ae_11ea_9786_f743661e7c1frow3_col1\" class=\"data row3 col1\" >30</td>\n",
       "            </tr>\n",
       "            <tr>\n",
       "                        <th id=\"T_04b5b012_b1ae_11ea_9786_f743661e7c1flevel0_row4\" class=\"row_heading level0 row4\" >4</th>\n",
       "                        <td id=\"T_04b5b012_b1ae_11ea_9786_f743661e7c1frow4_col0\" class=\"data row4 col0\" >8</td>\n",
       "                        <td id=\"T_04b5b012_b1ae_11ea_9786_f743661e7c1frow4_col1\" class=\"data row4 col1\" >40</td>\n",
       "            </tr>\n",
       "            <tr>\n",
       "                        <th id=\"T_04b5b012_b1ae_11ea_9786_f743661e7c1flevel0_row5\" class=\"row_heading level0 row5\" >5</th>\n",
       "                        <td id=\"T_04b5b012_b1ae_11ea_9786_f743661e7c1frow5_col0\" class=\"data row5 col0\" >10</td>\n",
       "                        <td id=\"T_04b5b012_b1ae_11ea_9786_f743661e7c1frow5_col1\" class=\"data row5 col1\" >50</td>\n",
       "            </tr>\n",
       "    </tbody></table>"
      ],
      "text/plain": [
       "<pandas.io.formats.style.Styler at 0x7f842b386e10>"
      ]
     },
     "execution_count": 5,
     "metadata": {},
     "output_type": "execute_result"
    }
   ],
   "source": [
    "# criamos um DataFrame usando o pandas -> pd.DataFrame\n",
    "df_dados_exemplo = pd.DataFrame()\n",
    "df_dados_exemplo['tempo, t [s]']   = tempos_cronometrados # adicionamos uma coluna com os tempos\n",
    "df_dados_exemplo['posição, S [m]'] = posicoes # adicionamos outra coluna com as posições\n",
    "\n",
    "df_dados_exemplo.style.set_caption('Tabela 1. Dados do tempo e sua respectiva posição, obtida por meio do Eq. (3).')"
   ]
  },
  {
   "cell_type": "markdown",
   "metadata": {},
   "source": [
    "<p class='justified'>\n",
    "Observe que a mesma estrutura de dados pode ser criada usando um dicionário como argumento:\n",
    "</p>\n",
    "\n",
    "```python\n",
    "pd.DataFrame({\n",
    "    'tempo, t [s]'  : tempos_cronometrados,\n",
    "    'posição, S [m]': posicoes\n",
    "})\n",
    "```"
   ]
  },
  {
   "cell_type": "markdown",
   "metadata": {},
   "source": [
    "<a class='cell' id='figure_2'></a>"
   ]
  },
  {
   "cell_type": "code",
   "execution_count": 6,
   "metadata": {
    "ExecuteTime": {
     "end_time": "2020-06-18T21:52:39.556668Z",
     "start_time": "2020-06-18T21:52:39.331991Z"
    }
   },
   "outputs": [
    {
     "data": {
      "text/plain": [
       "Text(0, 0.5, 'posição, S [m]')"
      ]
     },
     "execution_count": 6,
     "metadata": {},
     "output_type": "execute_result"
    },
    {
     "data": {
      "image/png": "[encoded data removed]",
      "text/plain": [
       "<Figure size 576x432 with 1 Axes>"
      ]
     },
     "metadata": {
      "needs_background": "light"
     },
     "output_type": "display_data"
    }
   ],
   "source": [
    "# agora confeccionamos o gráfico que nos diz\n",
    "# como a posição do carro evolui com o tempo\n",
    "plot_dados_exemplo = df_dados_exemplo.plot(\n",
    "    x='tempo, t [s]',        # valores das variáveis independentes: eixo x\n",
    "    y='posição, S [m]',      # valores das variáveis dependentes: eixo y\n",
    "    style='-o',              # desenha as linhas que ligam os marcadores 'o'\n",
    "    markersize=15,           # escolhe o tamanho do marcador/ponto\n",
    "    markerfacecolor=\"white\", # cor do interior do ponto\n",
    "    markeredgewidth=2,       # escolhe a espessura da borda do marcador/ponto\n",
    "    lw=3,                    # escolhe a espessura da linha que liga os pontos\n",
    "    xlim=(-0.5, 10.5),       # muda o intervalo do eixo-x\n",
    "    grid=True,               # desenha as linhas que acompanham os valores nos eixos    \n",
    "    title='Posição do carro em função do tempo.' # adiciona título ao gráfico\n",
    ");\n",
    "\n",
    "plot_dados_exemplo.set_ylabel('posição, S [m]') # colocamos o label no eixo-y"
   ]
  },
  {
   "cell_type": "markdown",
   "metadata": {},
   "source": [
    "<p class='justified'>\n",
    "    <b>Figura 2.</b> Gráfico da Posição $S$ (m) do carro versus tempo $t$ (s), confeccionados via biblioteca <mark class='mono_gray'>Pandas</mark>.\n",
    "</p>"
   ]
  },
  {
   "cell_type": "markdown",
   "metadata": {},
   "source": [
    "<p class='justified'>\n",
    "    Observe que usando os dados provenientes de um <mark class='mono_gray'>pd.DataFrame</mark> confeccionamos o gráfico de maneira mais fácil e os <mark class='mono_gray'>labels</mark> (rótulos) dos eixos já são colocados automaticamente respeitando os nomes das colunas fornecidas.\n",
    "</p>"
   ]
  },
  {
   "cell_type": "markdown",
   "metadata": {},
   "source": [
    "<p class='justified'>\n",
    "Observe que os gráficos das <b>Figuras 1 e 2</b>, forncem uma reta, o correto seria ajustar primeiramente o mesmo via regressão linear (será apresentado posteriormente) e traçar a reta, para calcularmos o seu <b>coeficiente angular</b>. Mas, no momento, consideremos um gráfico linear (reta), para analisar o seu significado físico. Calcular o coeficiente angular fornecerá exatamente a velocidade do carro. Para mostrar isso, podemos pegar quaisquer dois pontos do gráfico. Para nossa demonstração, iremos pegar os pontos:\n",
    "</p>\n",
    "\n",
    "<br>\n",
    "<div align='center'>\n",
    "    <b>Tabela 2.</b> Dados de dois pontos da reta do gráfico da Figura 2.\n",
    "\n",
    "| tempo, $t$ [s] | posição, $S$ [m] |\n",
    "|:--------------:|:----------------:|\n",
    "|        4       |        20        |\n",
    "|        6       |        30        |\n",
    "</div>"
   ]
  },
  {
   "cell_type": "markdown",
   "metadata": {},
   "source": [
    "<p class='justified'>\n",
    "O <b>coeficiente angular</b> $\\alpha$ é obtido calculando a expressão\n",
    "</p>\n",
    "\n",
    "$$\n",
    "    \\alpha = \\frac{\\Delta y}{\\Delta x}.\n",
    "$$\n",
    "\n",
    "<p class='justified'>\n",
    "No caso do nosso exemplo, o coeficiente da reta é dado por\n",
    "</p>\n",
    "\n",
    "$$\n",
    "    \\alpha = \\frac{\\Delta S}{\\Delta t}.\n",
    "$$\n",
    "\n",
    "<p class='justified'>\n",
    "Usando os dados na <b>Tabela 2</b>, temos\n",
    "</p>\n",
    "\n",
    "$$ \n",
    "    \\alpha = \\frac{30\\,m - 20\\,m}{6\\,s - 4\\,s} = \\frac{10\\,m}{2\\,s} = 5\\,m/s,\n",
    "$$\n",
    "\n",
    "<p class='justified'>\n",
    "que é igual a velocidade do carro. Então, em um movimento retilíneo uniforme, o coeficiente angular de um gráfico da posição em função do tempo ($S\\times t$) é igual a velocidade constante do veículo.\n",
    "</p>\n",
    "\n",
    "<p class='justified'>\n",
    "    No experimento descrito na referência <a href='#mukai'>[1]</a> - Capítulo 2, será feita uma análise muito parecida com a que fizemos de maneira breve nessa sessão. \n",
    "</p>"
   ]
  },
  {
   "cell_type": "markdown",
   "metadata": {},
   "source": [
    "<a class=\"anchor\" id=\"experimento_1_mru\"></a>\n",
    "## Experimento 1 - MRU [1]"
   ]
  },
  {
   "cell_type": "markdown",
   "metadata": {},
   "source": [
    "<p style='text-align: justify'>\n",
    "O experimento realizado no <b>Laboratório de Física Geral I</b> para se estudar o <b>movimento retilíneo uniforme (MRU)</b> tem como <b>objetivo</b> obter, a partir dos dados experimentais, uma função para a posição $S(t)$ de um móvel deslizando sobre um plano horizontal e sem atrito. A partir dos dados obtidos, iremos confeccionar um gráfico da posição em função do tempo (como feito na sessão anterior) para obter a velocidade (constante) do móvel. Iremos considerar em todos os nossos cálculos os conceitos da teoria de erros (Ref. <a href='#mukai'>[1]</a>, Cap. 2, págs. 6-21).\n",
    "</p>\n",
    "\n",
    "<p style='text-align: justify'>\n",
    "O experimento abordado em laboratório consiste, de maneira resumida, em um trilho de ar no qual um móvel desliza sem atrito. Esse móvel passa por sensores, cujas posições são conhecidas, que estão acoplados a um cronômetro. Dessa maneira, o tempo que o móvel passa por cada sensor durante o movimento é cronometrado (para mais detalhes ler a descrição experimental na Ref. <a href='#mukai'>[1]</a>, Cap. 3, págs. 32-36).\n",
    "<p>\n",
    "\n",
    "<p style='text-align: justify'>\n",
    "No experimento, o primeiro sensor é posicionado a uma distância de $40,00\\,cm$ da posição inicial do móvel (em repouso). Os outros quatro sensores são dispostos no trilho de ar de maneira que entre eles tenha uma distância de $15,00\\,cm$. Assim, temos as posições dos sensores dadas por (Tabela 3):\n",
    "</p>\n",
    "\n",
    "<!--\n",
    "\\begin{equation*}\n",
    "    \\text{Sensor}\\, 1 \\to S = \\phantom{0}0 \\,cm\\\\\n",
    "    \\text{Sensor}\\, 2 \\to S = 15\\,cm\\\\\n",
    "    \\text{Sensor}\\, 3 \\to S = 30\\,cm\\\\\n",
    "    \\text{Sensor}\\, 4 \\to S = 45\\,cm\\\\\n",
    "    \\text{Sensor}\\, 5 \\to S = 60\\,cm\\\\\n",
    "\\end{equation*}\n",
    "-->\n",
    "<br>\n",
    "<div align='center'>\n",
    "<b>Tabela 3.</b> Dados da posição $S(t)$ de cada sensor distribuído sobre o trilho de ar.\n",
    "\n",
    "| Sensor | Posição $S(t)$ [cm] |\n",
    "|:------:|:-------------------:|\n",
    "|    1   |       $0{,}00$      |\n",
    "|    2   |      $15{,}00$      |\n",
    "|    3   |      $30{,}00$      |\n",
    "|    4   |      $45{,}00$      |\n",
    "|    5   |      $60{,}00$      |\n",
    "</div>"
   ]
  },
  {
   "cell_type": "markdown",
   "metadata": {},
   "source": [
    "<p style='text-align: justify'>\n",
    "No momento em que o móvel passa pelo primeiro sensor, o cronômetro é ativado ($t=0{,}000\\, s$). A análise do movimento desse móvel começa então exatamente nesse ponto, e portanto esse é o nosso ponto inicial $S_0 = 0{,}00\\,cm$. \n",
    "</p>\n",
    "\n",
    "<p style='text-align: justify'>\n",
    "Existe um fio que passa por uma roldana sendo que uma das extremidade do fio está amarrado no móvel e a outra em um suporte de massas. Para simular um movimento retilíneo uniforme, coloca-se uma determinada quantidade de massas nesse suporte. Este conjunto se encontra muito próximo à bancada, em que se encontra todo o aparato experimental exceto o compressor de ar. Desse modo, o suporte de massa entra em repouso sobre a bancada antes do móvel passar pelo primeiro sensor. É esse mecanismo que causa o movimento inicial do móvel (tirando-o do repouso) e depois não existe mais nenhuma força externa resultante atuando sobre ele, característica do MRU. O processo de movimento é realizado sobre m colchão de ar, tornando possível desprezar o atrito entre o móvel e o trilho.\n",
    "</p>\n",
    "\n",
    "<p style='text-align: justify'>\n",
    "Após o nivelamento do trilho, para garantir que o movimento seja realizado na horizontal (garantindo náo ter uma força externa resultante atuando no sistema), a coleta dos dados consiste em anotar os tempos,registrados pelo cronômetro, conforme o móvel passa pelos sensores. \n",
    "</p>\n",
    "\n",
    "<!--\n",
    "\\begin{equation*}\n",
    "    \\text{Móvel passa pelo Sensor}\\ 1\\ (S = \\phantom{0}0\\,cm) \\to t = ?\\\\\n",
    "    \\text{Móvel passa pelo Sensor}\\ 2\\ (S = 15\\,cm) \\to t = ?\\\\\n",
    "    \\text{Móvel passa pelo Sensor}\\ 3\\ (S = 30\\,cm) \\to t = ?\\\\\n",
    "    \\text{Móvel passa pelo Sensor}\\ 4\\ (S = 45\\,cm) \\to t = ?\\\\\n",
    "    \\text{Móvel passa pelo Sensor}\\ 5\\ (S = 60\\,cm) \\to t = ?\\\\\n",
    "\\end{equation*}\n",
    "-->"
   ]
  },
  {
   "cell_type": "markdown",
   "metadata": {},
   "source": [
    "<p class='justified'>\n",
    "O procedimento experimental é repetido por quatro vezes, para cada posição do sensor, de modo que teremos quatro tempos para cada um dos sensores. Devemos então anotar os valores na tabela abaixo:\n",
    "</p>\n",
    "\n",
    "<br>\n",
    "<div align='center'>\n",
    "    <b>Tabela 4.</b> Dados da posição $S(t)$ de cada sensor distribuído sobreo o trilho de ar e o tempo $t\\,[s]$ para cada repetição, e $t_m$ o tempo médio.\n",
    "    \n",
    "| $S\\ [cm]$ | $t_1\\, [s]$ | $t_2\\, [s]$ | $t_3\\, [s]$ | $t_4\\, [s]$ | $t_m, [s]$ |\n",
    "|:---------:|:-----------:|:-----------:|:-----------:|:-----------:|:--------------:|\n",
    "|      0,00 |             |             |             |             |                |\n",
    "|     15,00 |             |             |             |             |                |\n",
    "|     30,00 |             |             |             |             |                |\n",
    "|     45,00 |             |             |             |             |                |\n",
    "|     60,00 |             |             |             |             |                |\n",
    "</div>"
   ]
  },
  {
   "cell_type": "markdown",
   "metadata": {},
   "source": [
    "<p class='justified'>\n",
    "Cada uma das colunas representa uma tomada de dados do experimento em que os tempos cronometrados quando o móvel passa por cada um dos 4 deve ser anotado. Após as quatro realizações, devemos preencher o valor médio $t_m$, ou seja, a soma dos tempos aferidos para um dado sensor. Por exemplo, o tempo médio para o segundo sensor, que se encontra na posição de $15{,}00\\,cm$ seria a soma dos tempos na segunda linha da tabela dividido por quatro.\n",
    "</p>"
   ]
  },
  {
   "cell_type": "markdown",
   "metadata": {},
   "source": [
    "<p class='justified'>\n",
    "Após coletado os dados e calculado o valor médio do tempo em que o móvel passa por cada um dos sensores, iremos analisar os resultados. Para isso,\n",
    "</p>\n",
    "\n",
    "<p class='justified'>\n",
    "<b>1.</b> confeccionar um gráfico de $S \\times t_m$; <br>\n",
    "<b>2.</b> identificar o tipo de relação entre essas variáveis (que deve ser linear); <br>\n",
    "<b>3.</b> ajustar os dados a um modelo teórico (equação da reta) usando o método dos mínimos quadrados; <br>\n",
    "<b>4.</b> realizar uma análise dimensional para identificar a dimensão do coeficiente angular da reta; <br>\n",
    "<b>5.</b> escrever a equação final que melhor ajusta os dados coletados.\n",
    "</p>"
   ]
  },
  {
   "cell_type": "markdown",
   "metadata": {},
   "source": [
    "<a class=\"anchor\" id=\"analisando_os_dados_obtidos_usando_python\"></a>\n",
    "# Analisando os dados obtidos usando Python"
   ]
  },
  {
   "cell_type": "markdown",
   "metadata": {},
   "source": [
    "<p class='justified'>\n",
    "Nessa seção iremos trabalhar com a análise dos dados do experimento do movimento retilíneo uniforme (MRU). Os dados trabalhados aqui foram obtidos por alunos de uma turma do primeiro ano de Engenharia Civil no ano de 2019 (Tabela 5). A partir de nossas análises, passo a passo, você deverá ganhar intuição e conseguir, com seus próprios dados experimentais fazer a mesma análise.\n",
    "</p>"
   ]
  },
  {
   "cell_type": "markdown",
   "metadata": {
    "ExecuteTime": {
     "end_time": "2020-06-16T08:53:21.336729Z",
     "start_time": "2020-06-16T08:53:21.325021Z"
    }
   },
   "source": [
    "<div align='center'>\n",
    "<b>Tabela 5.</b> Dados da posição $S(t)$ [cm] de cada sensor distribuído sobre o trilho de ar e o tempo $t$ [s] para cada repetição, e $t_m$ o temó médio.\n",
    "\n",
    "\n",
    "| S [cm] | t1 [s] | t2 [s] | t3 [s] | t4 [s] | $t_m, [s]$ |\n",
    "|:------:|:------:|:------:|:------:|:------:|:--------------:|\n",
    "|    0   |   0.0  |  0.000 |  0.000 |  0.000 |      0.000     |\n",
    "|    1   |  15.0  |  0.901 |  0.909 |  0.906 |      0.904     |\n",
    "|    2   |  30.0  |  1.836 |  1.840 |  1.824 |      1.831     |\n",
    "|    3   |  45.0  |  2.760 |  2.746 |  2.800 |      2.773     |\n",
    "|    4   |  60.0  |  3.658 |  3.620 |  3.776 |      3.684     |\n",
    "</div>\n",
    "\n",
    "<p class='justified'>\n",
    "Para o arredondamento dos valores do tempo médio foi considerado o número de algarismos significativos e não considerando o desvio da média.\n",
    "</p>"
   ]
  },
  {
   "cell_type": "markdown",
   "metadata": {},
   "source": [
    "<a class=\"anchor\" id=\"apresentando_os_dados\"></a>\n",
    "## Apresentando os dados"
   ]
  },
  {
   "cell_type": "markdown",
   "metadata": {},
   "source": [
    "<p class='justified'>\n",
    "Os primeiros dados que temos desse experimento são as posições de cada um dos sensores. Assim, definiremos uma lista com os valores dessas posições. Observe que o separador decimal é o ponto ao invés da vírgula.\n",
    "</p>"
   ]
  },
  {
   "cell_type": "markdown",
   "metadata": {},
   "source": [
    "<a class=\"anchor\" id=\"posicao_dos_sensores\"></a>\n",
    "### Posição dos sensores"
   ]
  },
  {
   "cell_type": "code",
   "execution_count": 3,
   "metadata": {
    "ExecuteTime": {
     "end_time": "2020-06-19T20:32:57.447914Z",
     "start_time": "2020-06-19T20:32:57.440721Z"
    }
   },
   "outputs": [
    {
     "data": {
      "text/plain": [
       "[0.0, 15.0, 30.0, 45.0, 60.0]"
      ]
     },
     "execution_count": 3,
     "metadata": {},
     "output_type": "execute_result"
    }
   ],
   "source": [
    "# lista com os valores das posições dos sensores\n",
    "# essa variável será a mesma para suas análises individuais\n",
    "posicao_sensores = [0.00, 15.00, 30.00, 45.00, 60.00] # em cm\n",
    "posicao_sensores"
   ]
  },
  {
   "cell_type": "markdown",
   "metadata": {},
   "source": [
    "<a class=\"anchor\" id=\"tempo_cronometrado_nos_sensores\"></a>\n",
    "### Tempo cronometrado nos sensores"
   ]
  },
  {
   "cell_type": "markdown",
   "metadata": {},
   "source": [
    "<p class='justified'>\n",
    "Os próximos dados são os tempos que foram anotados no cronômetro quando o móvel passava por cada um dos sensores. Para cada uma das rerepetições do procedimento experimental, definiremos uma lista da seguinte forma\n",
    "</p>\n",
    "\n",
    "```python\n",
    "    tempos_realizacao_n = [\n",
    "        t_0,  # tempo no sensor 1 -  0.00cm\n",
    "        t_15, # tempo no sensor 2 - 15.00cm\n",
    "        t_30, # tempo no sensor 3 - 30.00cm\n",
    "        t_45, # tempo no sensor 4 - 45.00cm\n",
    "        t_60, # tempo no sensor 5 - 60.00cm\n",
    "    ]\n",
    "```\n",
    "<p class='justified'>\n",
    "para a $n$-ésima repetição experimental. \n",
    "</p>\n",
    "\n",
    "<p class='justified'>\n",
    "Os dados colhidos pelos alunos, para as quatro realizações são escritas então em quatro listas:\n",
    "</p>"
   ]
  },
  {
   "cell_type": "code",
   "execution_count": 4,
   "metadata": {
    "ExecuteTime": {
     "end_time": "2020-06-19T20:33:01.815602Z",
     "start_time": "2020-06-19T20:33:01.811846Z"
    }
   },
   "outputs": [],
   "source": [
    "#                      t_0    t_15   t_30   t_45   t_60\n",
    "tempos_realizacao_1 = [0.000, 0.901, 1.836, 2.760, 3.658]\n",
    "tempos_realizacao_2 = [0.000, 0.909, 1.840, 2.746, 3.620]\n",
    "tempos_realizacao_3 = [0.000, 0.906, 1.824, 2.800, 3.776]\n",
    "tempos_realizacao_4 = [0.000, 0.904, 1.831, 2.773, 3.684]"
   ]
  },
  {
   "cell_type": "markdown",
   "metadata": {},
   "source": [
    "<p class='justified'>\n",
    "    Criamos agora um <mark class='mono_gray'>DataFrame</mark> usando o <mark class='mono_gray'>pandas</mark> para que os dados fiquem dispostos de uma forma que favoreça a visualização e as operações matemáticas que precisamos realizar.\n",
    "</p>"
   ]
  },
  {
   "cell_type": "code",
   "execution_count": 6,
   "metadata": {
    "ExecuteTime": {
     "end_time": "2020-06-19T20:33:17.350763Z",
     "start_time": "2020-06-19T20:33:17.328506Z"
    }
   },
   "outputs": [
    {
     "data": {
      "text/html": [
       "<div>\n",
       "<style scoped>\n",
       "    .dataframe tbody tr th:only-of-type {\n",
       "        vertical-align: middle;\n",
       "    }\n",
       "\n",
       "    .dataframe tbody tr th {\n",
       "        vertical-align: top;\n",
       "    }\n",
       "\n",
       "    .dataframe thead th {\n",
       "        text-align: right;\n",
       "    }\n",
       "</style>\n",
       "<table border=\"1\" class=\"dataframe\">\n",
       "  <thead>\n",
       "    <tr style=\"text-align: right;\">\n",
       "      <th></th>\n",
       "      <th>S [cm]</th>\n",
       "      <th>t1 [s]</th>\n",
       "      <th>t2 [s]</th>\n",
       "      <th>t3 [s]</th>\n",
       "      <th>t4 [s]</th>\n",
       "    </tr>\n",
       "  </thead>\n",
       "  <tbody>\n",
       "    <tr>\n",
       "      <td>0</td>\n",
       "      <td>0.0</td>\n",
       "      <td>0.000</td>\n",
       "      <td>0.000</td>\n",
       "      <td>0.000</td>\n",
       "      <td>0.000</td>\n",
       "    </tr>\n",
       "    <tr>\n",
       "      <td>1</td>\n",
       "      <td>15.0</td>\n",
       "      <td>0.901</td>\n",
       "      <td>0.909</td>\n",
       "      <td>0.906</td>\n",
       "      <td>0.904</td>\n",
       "    </tr>\n",
       "    <tr>\n",
       "      <td>2</td>\n",
       "      <td>30.0</td>\n",
       "      <td>1.836</td>\n",
       "      <td>1.840</td>\n",
       "      <td>1.824</td>\n",
       "      <td>1.831</td>\n",
       "    </tr>\n",
       "    <tr>\n",
       "      <td>3</td>\n",
       "      <td>45.0</td>\n",
       "      <td>2.760</td>\n",
       "      <td>2.746</td>\n",
       "      <td>2.800</td>\n",
       "      <td>2.773</td>\n",
       "    </tr>\n",
       "    <tr>\n",
       "      <td>4</td>\n",
       "      <td>60.0</td>\n",
       "      <td>3.658</td>\n",
       "      <td>3.620</td>\n",
       "      <td>3.776</td>\n",
       "      <td>3.684</td>\n",
       "    </tr>\n",
       "  </tbody>\n",
       "</table>\n",
       "</div>"
      ],
      "text/plain": [
       "   S [cm]  t1 [s]  t2 [s]  t3 [s]  t4 [s]\n",
       "0     0.0   0.000   0.000   0.000   0.000\n",
       "1    15.0   0.901   0.909   0.906   0.904\n",
       "2    30.0   1.836   1.840   1.824   1.831\n",
       "3    45.0   2.760   2.746   2.800   2.773\n",
       "4    60.0   3.658   3.620   3.776   3.684"
      ]
     },
     "execution_count": 6,
     "metadata": {},
     "output_type": "execute_result"
    }
   ],
   "source": [
    "# criamos o DataFrame\n",
    "df_dados = pd.DataFrame()\n",
    "\n",
    "# criamos cada coluna especificando um nome e atribuindo uma lista de valores \n",
    "df_dados['S [cm]'] = posicao_sensores\n",
    "df_dados['t1 [s]'] = tempos_realizacao_1\n",
    "df_dados['t2 [s]'] = tempos_realizacao_2\n",
    "df_dados['t3 [s]'] = tempos_realizacao_3\n",
    "df_dados['t4 [s]'] = tempos_realizacao_4\n",
    "\n",
    "df_dados"
   ]
  },
  {
   "cell_type": "code",
   "execution_count": 7,
   "metadata": {
    "ExecuteTime": {
     "end_time": "2020-06-19T20:33:21.083538Z",
     "start_time": "2020-06-19T20:33:20.786295Z"
    }
   },
   "outputs": [
    {
     "data": {
      "text/html": [
       "<style  type=\"text/css\" >\n",
       "</style><table id=\"T_1d958800_b26c_11ea_99bb_6d80f118cfc7\" ><caption>Dados adquiridos durante o experimento.</caption><thead>    <tr>        <th class=\"blank level0\" ></th>        <th class=\"col_heading level0 col0\" >S [cm]</th>        <th class=\"col_heading level0 col1\" >t1 [s]</th>        <th class=\"col_heading level0 col2\" >t2 [s]</th>        <th class=\"col_heading level0 col3\" >t3 [s]</th>        <th class=\"col_heading level0 col4\" >t4 [s]</th>    </tr></thead><tbody>\n",
       "                <tr>\n",
       "                        <th id=\"T_1d958800_b26c_11ea_99bb_6d80f118cfc7level0_row0\" class=\"row_heading level0 row0\" >Sensor 1</th>\n",
       "                        <td id=\"T_1d958800_b26c_11ea_99bb_6d80f118cfc7row0_col0\" class=\"data row0 col0\" >0</td>\n",
       "                        <td id=\"T_1d958800_b26c_11ea_99bb_6d80f118cfc7row0_col1\" class=\"data row0 col1\" >0</td>\n",
       "                        <td id=\"T_1d958800_b26c_11ea_99bb_6d80f118cfc7row0_col2\" class=\"data row0 col2\" >0</td>\n",
       "                        <td id=\"T_1d958800_b26c_11ea_99bb_6d80f118cfc7row0_col3\" class=\"data row0 col3\" >0</td>\n",
       "                        <td id=\"T_1d958800_b26c_11ea_99bb_6d80f118cfc7row0_col4\" class=\"data row0 col4\" >0</td>\n",
       "            </tr>\n",
       "            <tr>\n",
       "                        <th id=\"T_1d958800_b26c_11ea_99bb_6d80f118cfc7level0_row1\" class=\"row_heading level0 row1\" >Sensor 2</th>\n",
       "                        <td id=\"T_1d958800_b26c_11ea_99bb_6d80f118cfc7row1_col0\" class=\"data row1 col0\" >15</td>\n",
       "                        <td id=\"T_1d958800_b26c_11ea_99bb_6d80f118cfc7row1_col1\" class=\"data row1 col1\" >0.901</td>\n",
       "                        <td id=\"T_1d958800_b26c_11ea_99bb_6d80f118cfc7row1_col2\" class=\"data row1 col2\" >0.909</td>\n",
       "                        <td id=\"T_1d958800_b26c_11ea_99bb_6d80f118cfc7row1_col3\" class=\"data row1 col3\" >0.906</td>\n",
       "                        <td id=\"T_1d958800_b26c_11ea_99bb_6d80f118cfc7row1_col4\" class=\"data row1 col4\" >0.904</td>\n",
       "            </tr>\n",
       "            <tr>\n",
       "                        <th id=\"T_1d958800_b26c_11ea_99bb_6d80f118cfc7level0_row2\" class=\"row_heading level0 row2\" >Sensor 3</th>\n",
       "                        <td id=\"T_1d958800_b26c_11ea_99bb_6d80f118cfc7row2_col0\" class=\"data row2 col0\" >30</td>\n",
       "                        <td id=\"T_1d958800_b26c_11ea_99bb_6d80f118cfc7row2_col1\" class=\"data row2 col1\" >1.836</td>\n",
       "                        <td id=\"T_1d958800_b26c_11ea_99bb_6d80f118cfc7row2_col2\" class=\"data row2 col2\" >1.84</td>\n",
       "                        <td id=\"T_1d958800_b26c_11ea_99bb_6d80f118cfc7row2_col3\" class=\"data row2 col3\" >1.824</td>\n",
       "                        <td id=\"T_1d958800_b26c_11ea_99bb_6d80f118cfc7row2_col4\" class=\"data row2 col4\" >1.831</td>\n",
       "            </tr>\n",
       "            <tr>\n",
       "                        <th id=\"T_1d958800_b26c_11ea_99bb_6d80f118cfc7level0_row3\" class=\"row_heading level0 row3\" >Sensor 4</th>\n",
       "                        <td id=\"T_1d958800_b26c_11ea_99bb_6d80f118cfc7row3_col0\" class=\"data row3 col0\" >45</td>\n",
       "                        <td id=\"T_1d958800_b26c_11ea_99bb_6d80f118cfc7row3_col1\" class=\"data row3 col1\" >2.76</td>\n",
       "                        <td id=\"T_1d958800_b26c_11ea_99bb_6d80f118cfc7row3_col2\" class=\"data row3 col2\" >2.746</td>\n",
       "                        <td id=\"T_1d958800_b26c_11ea_99bb_6d80f118cfc7row3_col3\" class=\"data row3 col3\" >2.8</td>\n",
       "                        <td id=\"T_1d958800_b26c_11ea_99bb_6d80f118cfc7row3_col4\" class=\"data row3 col4\" >2.773</td>\n",
       "            </tr>\n",
       "            <tr>\n",
       "                        <th id=\"T_1d958800_b26c_11ea_99bb_6d80f118cfc7level0_row4\" class=\"row_heading level0 row4\" >Sensor 5</th>\n",
       "                        <td id=\"T_1d958800_b26c_11ea_99bb_6d80f118cfc7row4_col0\" class=\"data row4 col0\" >60</td>\n",
       "                        <td id=\"T_1d958800_b26c_11ea_99bb_6d80f118cfc7row4_col1\" class=\"data row4 col1\" >3.658</td>\n",
       "                        <td id=\"T_1d958800_b26c_11ea_99bb_6d80f118cfc7row4_col2\" class=\"data row4 col2\" >3.62</td>\n",
       "                        <td id=\"T_1d958800_b26c_11ea_99bb_6d80f118cfc7row4_col3\" class=\"data row4 col3\" >3.776</td>\n",
       "                        <td id=\"T_1d958800_b26c_11ea_99bb_6d80f118cfc7row4_col4\" class=\"data row4 col4\" >3.684</td>\n",
       "            </tr>\n",
       "    </tbody></table>"
      ],
      "text/plain": [
       "<pandas.io.formats.style.Styler at 0x7f73b77b9b00>"
      ]
     },
     "execution_count": 7,
     "metadata": {},
     "output_type": "execute_result"
    }
   ],
   "source": [
    "# podemos mudar os índices também para lembrarmos o que cada linha representa\n",
    "df_dados.index = ['Sensor 1', 'Sensor 2', 'Sensor 3', 'Sensor 4', 'Sensor 5']\n",
    "\n",
    "df_dados.style.set_caption('Dados adquiridos durante o experimento.')"
   ]
  },
  {
   "cell_type": "markdown",
   "metadata": {},
   "source": [
    "<a class=\"anchor\" id=\"calculando_a_media_dos_tempos_nos_sensores\"></a>\n",
    "### Calculando a média dos tempos nos sensores"
   ]
  },
  {
   "cell_type": "markdown",
   "metadata": {},
   "source": [
    "<a class='cell' id='media_sensor_15cm'></a>\n",
    "<p class='justified'>\n",
    "A próxima etapa é calcular a média dos tempos que leva para o móvel passar no mesmo sensor. Para isso, selecionamos os valores dos tempos de um dos sensores, por exemplo, o sensor da posição $15{,}00\\,cm$, somamos seus valores e dividimos pelo número de realizações do experimento, ou seja, 4:\n",
    "</p>\n",
    "\n",
    "$$\n",
    "    \\text{Média dos tempos para o Sensor 2 }(15{,}00\\,cm)\\\\\n",
    "    \\frac{0{,}901\\,s+0{,}909\\,s+0{,}906\\,s+0{,}904\\,s}{4} = \\frac{3{,}620\\,s}{4} = 0{,}905\\,s.\n",
    "$$"
   ]
  },
  {
   "cell_type": "markdown",
   "metadata": {},
   "source": [
    "<p class='justified'>\n",
    "    Em <mark class='mono_gray'>Python</mark> muitas vezes conseguimos executar uma tarefa usando diferentes ferramentas. Nesse nosso caso, poderíamos calcular a média dos tempos \"na mão\", digitando os valores para cada sensor e suas respectivas repetições, como feito no exemplo. Assim, usando <mark class='mono_gray'>listas</mark>, calcularíamos a média de tempos referente ao sensor 2 da seguinte forma:\n",
    "</p>"
   ]
  },
  {
   "cell_type": "code",
   "execution_count": 8,
   "metadata": {
    "ExecuteTime": {
     "end_time": "2020-06-19T20:33:26.181748Z",
     "start_time": "2020-06-19T20:33:26.176711Z"
    }
   },
   "outputs": [
    {
     "data": {
      "text/plain": [
       "0.905"
      ]
     },
     "execution_count": 8,
     "metadata": {},
     "output_type": "execute_result"
    }
   ],
   "source": [
    "# criamos uma lista com os valores dos tempos para o sensor 2\n",
    "tempos_sensor_2 = [0.901, 0.909, 0.906, 0.904]\n",
    "\n",
    "# somamos os valores da lista usando a função ``sum``\n",
    "soma_dos_tempos_sensor_2 = sum(tempos_sensor_2)\n",
    "\n",
    "# e dividimos o resultado da soma pelo número de realizações: 4\n",
    "soma_dos_tempos_sensor_2/4"
   ]
  },
  {
   "cell_type": "markdown",
   "metadata": {},
   "source": [
    "<p class='justified'>\n",
    "Fácil, não? Contudo, imagine que tivéssemos vários sensores, em torno de 100. Essa tarefa poderia se tornar exaustiva. Algo que ajudaria seria definir uma função que recebesse os valores dos tempos e já nos retornasse o valor médio. Definindo tal função:\n",
    "</p>"
   ]
  },
  {
   "cell_type": "code",
   "execution_count": 183,
   "metadata": {
    "ExecuteTime": {
     "end_time": "2020-05-30T17:42:59.432844Z",
     "start_time": "2020-05-30T17:42:59.429533Z"
    }
   },
   "outputs": [],
   "source": [
    "def tempo_medio_sensor(lista):\n",
    "    \"\"\"\n",
    "    Função que calcular o valor médio dos tempos para um dado sensor.\n",
    "    \n",
    "    Argumento:\n",
    "    ----------\n",
    "    lista - list: lista com os valores dos tempos marcados no sensor em questão\n",
    "                  quando o móvel passa por ele\n",
    "                  \n",
    "    Retorno:\n",
    "    --------\n",
    "    tempo médio - float: tempo médio que leva para o móvel passar pelo sensor em questão.\n",
    "    \"\"\"\n",
    "    # sum(lista) - calcula a soma dos valores da lista, i.e., dos tempos\n",
    "    # len(lista) - retorna o tamanho da lista, i.e., o número de elementos que ela possui.\n",
    "    #              No nosso caso, o tamanho da lista é o número de experimentos que foram\n",
    "    #              realizados.\n",
    "    return sum(lista)/len(lista)"
   ]
  },
  {
   "cell_type": "markdown",
   "metadata": {},
   "source": [
    "<p class='justified'>\n",
    "Agora basta calcular o tempo médio para cada um dos sensores. Usando, mais uma vez, o sensor 2 como exemplo:\n",
    "</p>"
   ]
  },
  {
   "cell_type": "code",
   "execution_count": 184,
   "metadata": {
    "ExecuteTime": {
     "end_time": "2020-05-30T17:44:16.375960Z",
     "start_time": "2020-05-30T17:44:16.365406Z"
    }
   },
   "outputs": [
    {
     "data": {
      "text/plain": [
       "0.905"
      ]
     },
     "execution_count": 184,
     "metadata": {},
     "output_type": "execute_result"
    }
   ],
   "source": [
    "# definimos um pouco acima tempos_sensor_2 = [0.901, 0.909, 0.906, 0.904]\n",
    "tempo_medio_sensor(tempos_sensor_2)"
   ]
  },
  {
   "cell_type": "markdown",
   "metadata": {},
   "source": [
    "<p class='justified'>\n",
    "Isso já melhora um pouco e evita algumas etapas no processo. Contudo, ainda teríamos que calcular a média de tempo de sensor por sensor. Existe um método muito mais conveniente para nos ajudar nessa tarefa (e evitar a fadiga). Usando a estrutura de <mark class='mono_gray'>DataFrame</mark> do <mark class='mono_gray'>pandas</mark>, várias tarefas que podem ser maçantes acabam se tornando triviais. Podemos, com apenas uma linha de código, calcular o valor médio dos tempos de todos os sensores:\n",
    "</p>"
   ]
  },
  {
   "cell_type": "code",
   "execution_count": 65,
   "metadata": {
    "ExecuteTime": {
     "end_time": "2020-06-19T09:56:58.661713Z",
     "start_time": "2020-06-19T09:56:58.647011Z"
    }
   },
   "outputs": [
    {
     "data": {
      "text/html": [
       "<div>\n",
       "<style scoped>\n",
       "    .dataframe tbody tr th:only-of-type {\n",
       "        vertical-align: middle;\n",
       "    }\n",
       "\n",
       "    .dataframe tbody tr th {\n",
       "        vertical-align: top;\n",
       "    }\n",
       "\n",
       "    .dataframe thead th {\n",
       "        text-align: right;\n",
       "    }\n",
       "</style>\n",
       "<table border=\"1\" class=\"dataframe\">\n",
       "  <thead>\n",
       "    <tr style=\"text-align: right;\">\n",
       "      <th></th>\n",
       "      <th>t1 [s]</th>\n",
       "      <th>t2 [s]</th>\n",
       "      <th>t3 [s]</th>\n",
       "      <th>t4 [s]</th>\n",
       "    </tr>\n",
       "  </thead>\n",
       "  <tbody>\n",
       "    <tr>\n",
       "      <td>Sensor 1</td>\n",
       "      <td>0.000</td>\n",
       "      <td>0.000</td>\n",
       "      <td>0.000</td>\n",
       "      <td>0.000</td>\n",
       "    </tr>\n",
       "    <tr>\n",
       "      <td>Sensor 2</td>\n",
       "      <td>0.901</td>\n",
       "      <td>0.909</td>\n",
       "      <td>0.906</td>\n",
       "      <td>0.904</td>\n",
       "    </tr>\n",
       "    <tr>\n",
       "      <td>Sensor 3</td>\n",
       "      <td>1.836</td>\n",
       "      <td>1.840</td>\n",
       "      <td>1.824</td>\n",
       "      <td>1.831</td>\n",
       "    </tr>\n",
       "    <tr>\n",
       "      <td>Sensor 4</td>\n",
       "      <td>2.760</td>\n",
       "      <td>2.746</td>\n",
       "      <td>2.800</td>\n",
       "      <td>2.773</td>\n",
       "    </tr>\n",
       "    <tr>\n",
       "      <td>Sensor 5</td>\n",
       "      <td>3.658</td>\n",
       "      <td>3.620</td>\n",
       "      <td>3.776</td>\n",
       "      <td>3.684</td>\n",
       "    </tr>\n",
       "  </tbody>\n",
       "</table>\n",
       "</div>"
      ],
      "text/plain": [
       "          t1 [s]  t2 [s]  t3 [s]  t4 [s]\n",
       "Sensor 1   0.000   0.000   0.000   0.000\n",
       "Sensor 2   0.901   0.909   0.906   0.904\n",
       "Sensor 3   1.836   1.840   1.824   1.831\n",
       "Sensor 4   2.760   2.746   2.800   2.773\n",
       "Sensor 5   3.658   3.620   3.776   3.684"
      ]
     },
     "execution_count": 65,
     "metadata": {},
     "output_type": "execute_result"
    }
   ],
   "source": [
    "# primeiramente selecionamos somente as colunas com os tempos\n",
    "df_dados[['t1 [s]', 't2 [s]', 't3 [s]', 't4 [s]']]"
   ]
  },
  {
   "cell_type": "markdown",
   "metadata": {},
   "source": [
    "<p class='justified'>\n",
    "    Veja que o <mark class='mono_gray'>DataFrame</mark> anterior contém somente as colunas dos tempos, que são os valores que nos interessam para o cálculo das médias em cada um dos sensores. Temos então que calcular a média dos valores levando em consideração todos os valores de uma mesma linha, isto é, referente a um mesmo sensor. Para isso, basta aplicarmos o método <mark class='mono_gray'>mean()</mark> no <mark class='mono_gray'>DataFrame</mark> <mark class='mono_gray'>df_dados</mark> e especificar o eixo, que nesse caso é o horizontal <mark class='mono_gray'>axis=1</mark>:\n",
    "</p>"
   ]
  },
  {
   "cell_type": "code",
   "execution_count": 9,
   "metadata": {
    "ExecuteTime": {
     "end_time": "2020-06-19T08:33:20.728388Z",
     "start_time": "2020-06-19T08:33:20.719470Z"
    }
   },
   "outputs": [
    {
     "data": {
      "text/plain": [
       "Sensor 1    0.00000\n",
       "Sensor 2    0.90500\n",
       "Sensor 3    1.83275\n",
       "Sensor 4    2.76975\n",
       "Sensor 5    3.68450\n",
       "dtype: float64"
      ]
     },
     "execution_count": 9,
     "metadata": {},
     "output_type": "execute_result"
    }
   ],
   "source": [
    "df_dados[['t1 [s]', 't2 [s]', 't3 [s]', 't4 [s]']].mean(axis=1)"
   ]
  },
  {
   "cell_type": "markdown",
   "metadata": {},
   "source": [
    "<p class='justified'>\n",
    "E pronto! Agora, para adicionarmos essa nova coluna de valores ao nosso <mark class='mono_gray'>DataFrame</mark>, basta usarmos a mesma <mark class='mono_gray'>sintaxe</mark> que usamos para adicionar uma coluna a um <mark class='mono_gray'>DataFrame</mark>:\n",
    "</p>"
   ]
  },
  {
   "cell_type": "code",
   "execution_count": 9,
   "metadata": {
    "ExecuteTime": {
     "end_time": "2020-06-19T20:33:45.049996Z",
     "start_time": "2020-06-19T20:33:45.025782Z"
    }
   },
   "outputs": [
    {
     "data": {
      "text/html": [
       "<style  type=\"text/css\" >\n",
       "</style><table id=\"T_2bddde62_b26c_11ea_99bb_6d80f118cfc7\" ><caption>Dados adquiridos durante o experimento e os valores médios dos tempos.</caption><thead>    <tr>        <th class=\"blank level0\" ></th>        <th class=\"col_heading level0 col0\" >S [cm]</th>        <th class=\"col_heading level0 col1\" >t1 [s]</th>        <th class=\"col_heading level0 col2\" >t2 [s]</th>        <th class=\"col_heading level0 col3\" >t3 [s]</th>        <th class=\"col_heading level0 col4\" >t4 [s]</th>        <th class=\"col_heading level0 col5\" >tempo médio [s]</th>    </tr></thead><tbody>\n",
       "                <tr>\n",
       "                        <th id=\"T_2bddde62_b26c_11ea_99bb_6d80f118cfc7level0_row0\" class=\"row_heading level0 row0\" >Sensor 1</th>\n",
       "                        <td id=\"T_2bddde62_b26c_11ea_99bb_6d80f118cfc7row0_col0\" class=\"data row0 col0\" >0</td>\n",
       "                        <td id=\"T_2bddde62_b26c_11ea_99bb_6d80f118cfc7row0_col1\" class=\"data row0 col1\" >0</td>\n",
       "                        <td id=\"T_2bddde62_b26c_11ea_99bb_6d80f118cfc7row0_col2\" class=\"data row0 col2\" >0</td>\n",
       "                        <td id=\"T_2bddde62_b26c_11ea_99bb_6d80f118cfc7row0_col3\" class=\"data row0 col3\" >0</td>\n",
       "                        <td id=\"T_2bddde62_b26c_11ea_99bb_6d80f118cfc7row0_col4\" class=\"data row0 col4\" >0</td>\n",
       "                        <td id=\"T_2bddde62_b26c_11ea_99bb_6d80f118cfc7row0_col5\" class=\"data row0 col5\" >0</td>\n",
       "            </tr>\n",
       "            <tr>\n",
       "                        <th id=\"T_2bddde62_b26c_11ea_99bb_6d80f118cfc7level0_row1\" class=\"row_heading level0 row1\" >Sensor 2</th>\n",
       "                        <td id=\"T_2bddde62_b26c_11ea_99bb_6d80f118cfc7row1_col0\" class=\"data row1 col0\" >15</td>\n",
       "                        <td id=\"T_2bddde62_b26c_11ea_99bb_6d80f118cfc7row1_col1\" class=\"data row1 col1\" >0.901</td>\n",
       "                        <td id=\"T_2bddde62_b26c_11ea_99bb_6d80f118cfc7row1_col2\" class=\"data row1 col2\" >0.909</td>\n",
       "                        <td id=\"T_2bddde62_b26c_11ea_99bb_6d80f118cfc7row1_col3\" class=\"data row1 col3\" >0.906</td>\n",
       "                        <td id=\"T_2bddde62_b26c_11ea_99bb_6d80f118cfc7row1_col4\" class=\"data row1 col4\" >0.904</td>\n",
       "                        <td id=\"T_2bddde62_b26c_11ea_99bb_6d80f118cfc7row1_col5\" class=\"data row1 col5\" >0.905</td>\n",
       "            </tr>\n",
       "            <tr>\n",
       "                        <th id=\"T_2bddde62_b26c_11ea_99bb_6d80f118cfc7level0_row2\" class=\"row_heading level0 row2\" >Sensor 3</th>\n",
       "                        <td id=\"T_2bddde62_b26c_11ea_99bb_6d80f118cfc7row2_col0\" class=\"data row2 col0\" >30</td>\n",
       "                        <td id=\"T_2bddde62_b26c_11ea_99bb_6d80f118cfc7row2_col1\" class=\"data row2 col1\" >1.836</td>\n",
       "                        <td id=\"T_2bddde62_b26c_11ea_99bb_6d80f118cfc7row2_col2\" class=\"data row2 col2\" >1.84</td>\n",
       "                        <td id=\"T_2bddde62_b26c_11ea_99bb_6d80f118cfc7row2_col3\" class=\"data row2 col3\" >1.824</td>\n",
       "                        <td id=\"T_2bddde62_b26c_11ea_99bb_6d80f118cfc7row2_col4\" class=\"data row2 col4\" >1.831</td>\n",
       "                        <td id=\"T_2bddde62_b26c_11ea_99bb_6d80f118cfc7row2_col5\" class=\"data row2 col5\" >1.833</td>\n",
       "            </tr>\n",
       "            <tr>\n",
       "                        <th id=\"T_2bddde62_b26c_11ea_99bb_6d80f118cfc7level0_row3\" class=\"row_heading level0 row3\" >Sensor 4</th>\n",
       "                        <td id=\"T_2bddde62_b26c_11ea_99bb_6d80f118cfc7row3_col0\" class=\"data row3 col0\" >45</td>\n",
       "                        <td id=\"T_2bddde62_b26c_11ea_99bb_6d80f118cfc7row3_col1\" class=\"data row3 col1\" >2.76</td>\n",
       "                        <td id=\"T_2bddde62_b26c_11ea_99bb_6d80f118cfc7row3_col2\" class=\"data row3 col2\" >2.746</td>\n",
       "                        <td id=\"T_2bddde62_b26c_11ea_99bb_6d80f118cfc7row3_col3\" class=\"data row3 col3\" >2.8</td>\n",
       "                        <td id=\"T_2bddde62_b26c_11ea_99bb_6d80f118cfc7row3_col4\" class=\"data row3 col4\" >2.773</td>\n",
       "                        <td id=\"T_2bddde62_b26c_11ea_99bb_6d80f118cfc7row3_col5\" class=\"data row3 col5\" >2.77</td>\n",
       "            </tr>\n",
       "            <tr>\n",
       "                        <th id=\"T_2bddde62_b26c_11ea_99bb_6d80f118cfc7level0_row4\" class=\"row_heading level0 row4\" >Sensor 5</th>\n",
       "                        <td id=\"T_2bddde62_b26c_11ea_99bb_6d80f118cfc7row4_col0\" class=\"data row4 col0\" >60</td>\n",
       "                        <td id=\"T_2bddde62_b26c_11ea_99bb_6d80f118cfc7row4_col1\" class=\"data row4 col1\" >3.658</td>\n",
       "                        <td id=\"T_2bddde62_b26c_11ea_99bb_6d80f118cfc7row4_col2\" class=\"data row4 col2\" >3.62</td>\n",
       "                        <td id=\"T_2bddde62_b26c_11ea_99bb_6d80f118cfc7row4_col3\" class=\"data row4 col3\" >3.776</td>\n",
       "                        <td id=\"T_2bddde62_b26c_11ea_99bb_6d80f118cfc7row4_col4\" class=\"data row4 col4\" >3.684</td>\n",
       "                        <td id=\"T_2bddde62_b26c_11ea_99bb_6d80f118cfc7row4_col5\" class=\"data row4 col5\" >3.684</td>\n",
       "            </tr>\n",
       "    </tbody></table>"
      ],
      "text/plain": [
       "<pandas.io.formats.style.Styler at 0x7f73a3f83710>"
      ]
     },
     "execution_count": 9,
     "metadata": {},
     "output_type": "execute_result"
    }
   ],
   "source": [
    "# especificamos um nome para a nova coluna e atribuímos os valores que serão dispostos nessa nova coluna\n",
    "df_dados['tempo médio [s]'] = df_dados[['t1 [s]', 't2 [s]', 't3 [s]', 't4 [s]']].mean(axis=1).round(3)\n",
    "\n",
    "df_dados.style.set_caption('Dados adquiridos durante o experimento e os valores médios dos tempos.')"
   ]
  },
  {
   "cell_type": "markdown",
   "metadata": {},
   "source": [
    "<p class='justified'>\n",
    "    O último método <mark class='mono_gray'>round()</mark> com argumento <mark class='mono_gray'>3</mark>, foi para arredondar os valores obtidos, levando em consideração os algarismos significativos.\n",
    "</p>"
   ]
  },
  {
   "cell_type": "markdown",
   "metadata": {},
   "source": [
    "<a class=\"anchor\" id=\"calculando_o_desvio_padrao_dos_tempos_nos_sensores\"></a>\n",
    "### Calculando o desvio padrão dos tempos nos sensores"
   ]
  },
  {
   "cell_type": "markdown",
   "metadata": {},
   "source": [
    "<p class='justified'>\n",
    "Agora iremos calcular o desvio padrão dos tempos que leva para o móvel passar no mesmo sensor. Vamos exemplificar o cálculo para o sensor da posição $15{,}00\\,cm$, como fizemos com a média. <a href='#media_sensor_15cm'>Lembrando</a> que a média de tempo nesse sensor foi de $0{,}905\\,s$, o desvio padrão é calculado pela seguinte expressão:\n",
    "</p>\n",
    "\n",
    "$$\n",
    "    \\text{Desvio padrão dos tempos para o Sensor 2 }(15{,}00\\,cm)\n",
    "$$\n",
    "\n",
    "$$\n",
    "    \\sigma_{t, \\text{Sensor 2}} = \\sqrt{\\frac{\\left(0{,}901\\,s - 0{,}905\\,s \\right)^2+\\left(0{,}909\\,s - 0{,}905\\,s \\right)^2+\\left(0{,}906\\,s - 0{,}905\\,s \\right)^2+\\left(0{,}904\\,s - 0{,}905\\,s \\right)^2}{4-1}}\n",
    "$$\n",
    "\n",
    "$$\n",
    "    \\sigma_{t, \\text{Sensor 2}} = \\sqrt{\\frac{\\left(-0{,}004\\,s \\right)^2+\\left(0.004\\,s \\right)^2+\\left(0{,}001\\,s \\right)^2+\\left(-0{,}001\\,s \\right)^2}{3}}\n",
    "$$\n",
    "\n",
    "$$\n",
    "    \\sigma_{t, \\text{Sensor 2}} = \\sqrt{\\frac{1{,}6\\times 10^{-5}\\,s^2 + 1{,}6\\times 10^{-5}\\,s^2 + 1{,}0\\times 10^{-6}\\,s^2 + 1{,}0\\times 10^{-6}\\,s^2}{3}}\n",
    "$$\n",
    "\n",
    "$$\n",
    "    \\sigma_{t, \\text{Sensor 2}} = \\sqrt{\\frac{3{,}4\\times 10^{-5}\\,s^2}{3}} = \\sqrt{ 1{,}1\\times 10^{-5}\\,s^2} = 0{,}003\\,s.\n",
    "$$\n"
   ]
  },
  {
   "cell_type": "markdown",
   "metadata": {},
   "source": [
    "<p class='justified'>\n",
    "    Se usarmos <mark class='mono_gray'>listas</mark>, podemos calcular o desvio padrão de tempos referente ao sensor 2 da seguinte forma:\n",
    "</p>"
   ]
  },
  {
   "cell_type": "code",
   "execution_count": 23,
   "metadata": {
    "ExecuteTime": {
     "end_time": "2020-06-18T22:24:07.779675Z",
     "start_time": "2020-06-18T22:24:07.769651Z"
    }
   },
   "outputs": [
    {
     "data": {
      "text/plain": [
       "0.003"
      ]
     },
     "execution_count": 23,
     "metadata": {},
     "output_type": "execute_result"
    }
   ],
   "source": [
    "# criamos uma lista com os valores dos tempos para o sensor 2\n",
    "tempos_sensor_2 = [0.901, 0.909, 0.906, 0.904]\n",
    "# calculamos a média\n",
    "tempos_media_sensor_2 = sum(tempos_sensor_2)/4\n",
    "\n",
    "\n",
    "# somamos os valores da lista usando a função ``sum``\n",
    "soma_dos_tempos_menos_media_sensor_2 = sum([(tempo - tempos_media_sensor_2)**2 for tempo in tempos_sensor_2])\n",
    "\n",
    "# dividimos o valor por 4-1 e tiramos a raíz quadrada\n",
    "desvio_padrao_sensor_2 = ( soma_dos_tempos_menos_media_sensor_2/(4-1) )**(1/2)\n",
    "\n",
    "# arredondamos o valor\n",
    "round(desvio_padrao_sensor_2, 3)"
   ]
  },
  {
   "cell_type": "markdown",
   "metadata": {},
   "source": [
    "<p class='justified'>\n",
    "Um pouco mais difícil que calcular a média, né? Para facilitar nossa vida, podemos definir uma função que calcule isso:\n",
    "</p>"
   ]
  },
  {
   "cell_type": "code",
   "execution_count": 24,
   "metadata": {
    "ExecuteTime": {
     "end_time": "2020-06-18T22:36:01.459768Z",
     "start_time": "2020-06-18T22:36:01.456011Z"
    }
   },
   "outputs": [],
   "source": [
    "def desvio_padrao_tempo_sensor(lista):\n",
    "    \"\"\"\n",
    "    Função que calcular o desvio padrão dos tempos para um dado sensor.\n",
    "    \n",
    "    Argumento:\n",
    "    ----------\n",
    "    lista - list: lista com os valores dos tempos marcados no sensor em questão\n",
    "                  quando o móvel passa por ele\n",
    "                  \n",
    "    Retorno:\n",
    "    --------\n",
    "    desvio padrão - float: desvio padrão dos tempos.\n",
    "    \"\"\"\n",
    "    # primeiro calculamos a média da lista\n",
    "    media_da_lista = sum(lista)/len(lista)\n",
    "    \n",
    "    # agora pegamos cada termo da lista, subtraímos da média e elevamos ao quadrado \n",
    "    lista_ao_quadrado = [(tempo - media_da_lista)**2 for tempo in lista]\n",
    "    \n",
    "    # agora somamos os valores dessa lista ao quadrado\n",
    "    radicando = sum(lista_ao_quadrado)/(len(lista_ao_quadrado) - 1)\n",
    "    \n",
    "    # tomamos a raíz quadrada do radicando\n",
    "    desvio_padrao = (radicando)**(1/2)\n",
    "    \n",
    "    # arredondamos o valor e o retornamos\n",
    "    return round(desvio_padrao, 3)"
   ]
  },
  {
   "cell_type": "markdown",
   "metadata": {},
   "source": [
    "<p class='justified'>\n",
    "Agora basta calcular o tempo médio para cada um dos sensores. Usando, mais uma vez, o sensor 2 como exemplo:\n",
    "</p>"
   ]
  },
  {
   "cell_type": "code",
   "execution_count": 25,
   "metadata": {
    "ExecuteTime": {
     "end_time": "2020-06-18T22:36:11.416426Z",
     "start_time": "2020-06-18T22:36:11.414078Z"
    }
   },
   "outputs": [
    {
     "data": {
      "text/plain": [
       "0.003"
      ]
     },
     "execution_count": 25,
     "metadata": {},
     "output_type": "execute_result"
    }
   ],
   "source": [
    "# definimos um pouco acima tempos_sensor_2 = [0.901, 0.909, 0.906, 0.904]\n",
    "desvio_padrao_tempo_sensor(tempos_sensor_2)"
   ]
  },
  {
   "cell_type": "markdown",
   "metadata": {},
   "source": [
    "<p class='justified'>\n",
    "Isso já melhora um pouco e evita algumas etapas no processo. Contudo, ainda teríamos que calcular o desvio padrão do tempo de sensor por sensor. Contudo, mais uma vez a estrutura de <mark class='mono_gray'>DataFrame</mark> do <mark class='mono_gray'>pandas</mark> está aí para facilitar nossa vida:\n",
    "</p>"
   ]
  },
  {
   "cell_type": "code",
   "execution_count": 26,
   "metadata": {
    "ExecuteTime": {
     "end_time": "2020-06-18T22:38:14.350874Z",
     "start_time": "2020-06-18T22:38:14.344227Z"
    }
   },
   "outputs": [
    {
     "data": {
      "text/html": [
       "<div>\n",
       "<style scoped>\n",
       "    .dataframe tbody tr th:only-of-type {\n",
       "        vertical-align: middle;\n",
       "    }\n",
       "\n",
       "    .dataframe tbody tr th {\n",
       "        vertical-align: top;\n",
       "    }\n",
       "\n",
       "    .dataframe thead th {\n",
       "        text-align: right;\n",
       "    }\n",
       "</style>\n",
       "<table border=\"1\" class=\"dataframe\">\n",
       "  <thead>\n",
       "    <tr style=\"text-align: right;\">\n",
       "      <th></th>\n",
       "      <th>t1 [s]</th>\n",
       "      <th>t2 [s]</th>\n",
       "      <th>t3 [s]</th>\n",
       "      <th>t4 [s]</th>\n",
       "    </tr>\n",
       "  </thead>\n",
       "  <tbody>\n",
       "    <tr>\n",
       "      <td>Sensor 1</td>\n",
       "      <td>0.000</td>\n",
       "      <td>0.000</td>\n",
       "      <td>0.000</td>\n",
       "      <td>0.000</td>\n",
       "    </tr>\n",
       "    <tr>\n",
       "      <td>Sensor 2</td>\n",
       "      <td>0.901</td>\n",
       "      <td>0.909</td>\n",
       "      <td>0.906</td>\n",
       "      <td>0.904</td>\n",
       "    </tr>\n",
       "    <tr>\n",
       "      <td>Sensor 3</td>\n",
       "      <td>1.836</td>\n",
       "      <td>1.840</td>\n",
       "      <td>1.824</td>\n",
       "      <td>1.831</td>\n",
       "    </tr>\n",
       "    <tr>\n",
       "      <td>Sensor 4</td>\n",
       "      <td>2.760</td>\n",
       "      <td>2.746</td>\n",
       "      <td>2.800</td>\n",
       "      <td>2.773</td>\n",
       "    </tr>\n",
       "    <tr>\n",
       "      <td>Sensor 5</td>\n",
       "      <td>3.658</td>\n",
       "      <td>3.620</td>\n",
       "      <td>3.776</td>\n",
       "      <td>3.684</td>\n",
       "    </tr>\n",
       "  </tbody>\n",
       "</table>\n",
       "</div>"
      ],
      "text/plain": [
       "          t1 [s]  t2 [s]  t3 [s]  t4 [s]\n",
       "Sensor 1   0.000   0.000   0.000   0.000\n",
       "Sensor 2   0.901   0.909   0.906   0.904\n",
       "Sensor 3   1.836   1.840   1.824   1.831\n",
       "Sensor 4   2.760   2.746   2.800   2.773\n",
       "Sensor 5   3.658   3.620   3.776   3.684"
      ]
     },
     "execution_count": 26,
     "metadata": {},
     "output_type": "execute_result"
    }
   ],
   "source": [
    "# primeiramente selecionamos somente as colunas com os tempos\n",
    "df_dados[['t1 [s]', 't2 [s]', 't3 [s]', 't4 [s]']]"
   ]
  },
  {
   "cell_type": "markdown",
   "metadata": {},
   "source": [
    "<p class='justified'>\n",
    "    Veja que o <mark class='mono_gray'>DataFrame</mark> anterior contém somente as colunas dos tempos, que são os valores que nos interessam para o cálculo dos desvios padrões em cada um dos sensores. Temos então que calcular o desvio padrão dos valores levando em consideração todos os valores de uma mesma linha, isto é, referente a um mesmo sensor. Para isso, basta aplicarmos o método <mark class='mono_gray'>mstdean()</mark> (<i>Standard Deviation</i>) no <mark class='mono_gray'>DataFrame</mark> <mark class='mono_gray'>df_dados</mark> e especificar o eixo, que nesse caso é o horizontal <mark class='mono_gray'>axis=1</mark>:\n",
    "</p>"
   ]
  },
  {
   "cell_type": "code",
   "execution_count": 11,
   "metadata": {
    "ExecuteTime": {
     "end_time": "2020-06-19T08:33:47.437542Z",
     "start_time": "2020-06-19T08:33:47.429931Z"
    }
   },
   "outputs": [
    {
     "data": {
      "text/plain": [
       "Sensor 1    0.000000\n",
       "Sensor 2    0.003367\n",
       "Sensor 3    0.006898\n",
       "Sensor 4    0.022984\n",
       "Sensor 5    0.066420\n",
       "dtype: float64"
      ]
     },
     "execution_count": 11,
     "metadata": {},
     "output_type": "execute_result"
    }
   ],
   "source": [
    "df_dados[['t1 [s]', 't2 [s]', 't3 [s]', 't4 [s]']].std(axis=1)"
   ]
  },
  {
   "cell_type": "markdown",
   "metadata": {},
   "source": [
    "<p class='justified'>\n",
    "    Contudo, para os Sensores 4 e 5, a incerteza é maior. Portanto, devemos arredondar de os número de forma apropriada para que o desvio no valor médio seja considerado de maneira correta. Como temos poucos número, poderíamos fazer isso na mão, criando a seguinte lista:\n",
    "</p>"
   ]
  },
  {
   "cell_type": "code",
   "execution_count": 10,
   "metadata": {
    "ExecuteTime": {
     "end_time": "2020-06-19T20:33:56.557000Z",
     "start_time": "2020-06-19T20:33:56.552501Z"
    }
   },
   "outputs": [
    {
     "data": {
      "text/plain": [
       "[0.0, 0.003, 0.007, 0.02, 0.07]"
      ]
     },
     "execution_count": 10,
     "metadata": {},
     "output_type": "execute_result"
    }
   ],
   "source": [
    "desvio_padrao_tempos_lista = [0.0, 0.003, 0.007, 0.02, 0.07]\n",
    "desvio_padrao_tempos_lista"
   ]
  },
  {
   "cell_type": "markdown",
   "metadata": {},
   "source": [
    "<p class='justified'>\n",
    "    Class, ou então, poderíamos usar uma lista de compreensão para transformar os números em strings checar se existe um <mark class='mono_gray'>0</mark> na quarta posição:\n",
    "</p>"
   ]
  },
  {
   "cell_type": "code",
   "execution_count": 47,
   "metadata": {
    "ExecuteTime": {
     "end_time": "2020-06-19T09:28:33.164422Z",
     "start_time": "2020-06-19T09:28:33.155747Z"
    }
   },
   "outputs": [
    {
     "data": {
      "text/plain": [
       "[0.0, 0.003, 0.007, 0.02, 0.07]"
      ]
     },
     "execution_count": 47,
     "metadata": {},
     "output_type": "execute_result"
    }
   ],
   "source": [
    "[round(i, 3) if len(str(i)) > 3 and str(i)[3] == '0' else round(i, 2) for i in df_dados[['t1 [s]', 't2 [s]', 't3 [s]', 't4 [s]']].std(axis=1)]"
   ]
  },
  {
   "cell_type": "markdown",
   "metadata": {},
   "source": [
    "<p class='justified'>\n",
    "E pronto! Agora, para adicionarmos essa nova coluna de valores ao nosso <mark class='mono_gray'>DataFrame</mark>, basta usarmos a mesma <mark class='mono_gray'>sintaxe</mark> que usamos para adicionar uma coluna a um <mark class='mono_gray'>DataFrame</mark>:\n",
    "</p>"
   ]
  },
  {
   "cell_type": "code",
   "execution_count": 11,
   "metadata": {
    "ExecuteTime": {
     "end_time": "2020-06-19T20:33:59.904489Z",
     "start_time": "2020-06-19T20:33:59.893029Z"
    }
   },
   "outputs": [
    {
     "data": {
      "text/html": [
       "<style  type=\"text/css\" >\n",
       "</style><table id=\"T_34b8d262_b26c_11ea_99bb_6d80f118cfc7\" ><caption>Dados adquiridos durante o experimento e os valores médios e desvios padrões dos tempos</caption><thead>    <tr>        <th class=\"blank level0\" ></th>        <th class=\"col_heading level0 col0\" >S [cm]</th>        <th class=\"col_heading level0 col1\" >t1 [s]</th>        <th class=\"col_heading level0 col2\" >t2 [s]</th>        <th class=\"col_heading level0 col3\" >t3 [s]</th>        <th class=\"col_heading level0 col4\" >t4 [s]</th>        <th class=\"col_heading level0 col5\" >tempo médio [s]</th>        <th class=\"col_heading level0 col6\" >desvio padrão [s]</th>    </tr></thead><tbody>\n",
       "                <tr>\n",
       "                        <th id=\"T_34b8d262_b26c_11ea_99bb_6d80f118cfc7level0_row0\" class=\"row_heading level0 row0\" >Sensor 1</th>\n",
       "                        <td id=\"T_34b8d262_b26c_11ea_99bb_6d80f118cfc7row0_col0\" class=\"data row0 col0\" >0</td>\n",
       "                        <td id=\"T_34b8d262_b26c_11ea_99bb_6d80f118cfc7row0_col1\" class=\"data row0 col1\" >0</td>\n",
       "                        <td id=\"T_34b8d262_b26c_11ea_99bb_6d80f118cfc7row0_col2\" class=\"data row0 col2\" >0</td>\n",
       "                        <td id=\"T_34b8d262_b26c_11ea_99bb_6d80f118cfc7row0_col3\" class=\"data row0 col3\" >0</td>\n",
       "                        <td id=\"T_34b8d262_b26c_11ea_99bb_6d80f118cfc7row0_col4\" class=\"data row0 col4\" >0</td>\n",
       "                        <td id=\"T_34b8d262_b26c_11ea_99bb_6d80f118cfc7row0_col5\" class=\"data row0 col5\" >0</td>\n",
       "                        <td id=\"T_34b8d262_b26c_11ea_99bb_6d80f118cfc7row0_col6\" class=\"data row0 col6\" >0</td>\n",
       "            </tr>\n",
       "            <tr>\n",
       "                        <th id=\"T_34b8d262_b26c_11ea_99bb_6d80f118cfc7level0_row1\" class=\"row_heading level0 row1\" >Sensor 2</th>\n",
       "                        <td id=\"T_34b8d262_b26c_11ea_99bb_6d80f118cfc7row1_col0\" class=\"data row1 col0\" >15</td>\n",
       "                        <td id=\"T_34b8d262_b26c_11ea_99bb_6d80f118cfc7row1_col1\" class=\"data row1 col1\" >0.901</td>\n",
       "                        <td id=\"T_34b8d262_b26c_11ea_99bb_6d80f118cfc7row1_col2\" class=\"data row1 col2\" >0.909</td>\n",
       "                        <td id=\"T_34b8d262_b26c_11ea_99bb_6d80f118cfc7row1_col3\" class=\"data row1 col3\" >0.906</td>\n",
       "                        <td id=\"T_34b8d262_b26c_11ea_99bb_6d80f118cfc7row1_col4\" class=\"data row1 col4\" >0.904</td>\n",
       "                        <td id=\"T_34b8d262_b26c_11ea_99bb_6d80f118cfc7row1_col5\" class=\"data row1 col5\" >0.905</td>\n",
       "                        <td id=\"T_34b8d262_b26c_11ea_99bb_6d80f118cfc7row1_col6\" class=\"data row1 col6\" >0.003</td>\n",
       "            </tr>\n",
       "            <tr>\n",
       "                        <th id=\"T_34b8d262_b26c_11ea_99bb_6d80f118cfc7level0_row2\" class=\"row_heading level0 row2\" >Sensor 3</th>\n",
       "                        <td id=\"T_34b8d262_b26c_11ea_99bb_6d80f118cfc7row2_col0\" class=\"data row2 col0\" >30</td>\n",
       "                        <td id=\"T_34b8d262_b26c_11ea_99bb_6d80f118cfc7row2_col1\" class=\"data row2 col1\" >1.836</td>\n",
       "                        <td id=\"T_34b8d262_b26c_11ea_99bb_6d80f118cfc7row2_col2\" class=\"data row2 col2\" >1.84</td>\n",
       "                        <td id=\"T_34b8d262_b26c_11ea_99bb_6d80f118cfc7row2_col3\" class=\"data row2 col3\" >1.824</td>\n",
       "                        <td id=\"T_34b8d262_b26c_11ea_99bb_6d80f118cfc7row2_col4\" class=\"data row2 col4\" >1.831</td>\n",
       "                        <td id=\"T_34b8d262_b26c_11ea_99bb_6d80f118cfc7row2_col5\" class=\"data row2 col5\" >1.833</td>\n",
       "                        <td id=\"T_34b8d262_b26c_11ea_99bb_6d80f118cfc7row2_col6\" class=\"data row2 col6\" >0.007</td>\n",
       "            </tr>\n",
       "            <tr>\n",
       "                        <th id=\"T_34b8d262_b26c_11ea_99bb_6d80f118cfc7level0_row3\" class=\"row_heading level0 row3\" >Sensor 4</th>\n",
       "                        <td id=\"T_34b8d262_b26c_11ea_99bb_6d80f118cfc7row3_col0\" class=\"data row3 col0\" >45</td>\n",
       "                        <td id=\"T_34b8d262_b26c_11ea_99bb_6d80f118cfc7row3_col1\" class=\"data row3 col1\" >2.76</td>\n",
       "                        <td id=\"T_34b8d262_b26c_11ea_99bb_6d80f118cfc7row3_col2\" class=\"data row3 col2\" >2.746</td>\n",
       "                        <td id=\"T_34b8d262_b26c_11ea_99bb_6d80f118cfc7row3_col3\" class=\"data row3 col3\" >2.8</td>\n",
       "                        <td id=\"T_34b8d262_b26c_11ea_99bb_6d80f118cfc7row3_col4\" class=\"data row3 col4\" >2.773</td>\n",
       "                        <td id=\"T_34b8d262_b26c_11ea_99bb_6d80f118cfc7row3_col5\" class=\"data row3 col5\" >2.77</td>\n",
       "                        <td id=\"T_34b8d262_b26c_11ea_99bb_6d80f118cfc7row3_col6\" class=\"data row3 col6\" >0.02</td>\n",
       "            </tr>\n",
       "            <tr>\n",
       "                        <th id=\"T_34b8d262_b26c_11ea_99bb_6d80f118cfc7level0_row4\" class=\"row_heading level0 row4\" >Sensor 5</th>\n",
       "                        <td id=\"T_34b8d262_b26c_11ea_99bb_6d80f118cfc7row4_col0\" class=\"data row4 col0\" >60</td>\n",
       "                        <td id=\"T_34b8d262_b26c_11ea_99bb_6d80f118cfc7row4_col1\" class=\"data row4 col1\" >3.658</td>\n",
       "                        <td id=\"T_34b8d262_b26c_11ea_99bb_6d80f118cfc7row4_col2\" class=\"data row4 col2\" >3.62</td>\n",
       "                        <td id=\"T_34b8d262_b26c_11ea_99bb_6d80f118cfc7row4_col3\" class=\"data row4 col3\" >3.776</td>\n",
       "                        <td id=\"T_34b8d262_b26c_11ea_99bb_6d80f118cfc7row4_col4\" class=\"data row4 col4\" >3.684</td>\n",
       "                        <td id=\"T_34b8d262_b26c_11ea_99bb_6d80f118cfc7row4_col5\" class=\"data row4 col5\" >3.684</td>\n",
       "                        <td id=\"T_34b8d262_b26c_11ea_99bb_6d80f118cfc7row4_col6\" class=\"data row4 col6\" >0.07</td>\n",
       "            </tr>\n",
       "    </tbody></table>"
      ],
      "text/plain": [
       "<pandas.io.formats.style.Styler at 0x7f73b77b9f28>"
      ]
     },
     "execution_count": 11,
     "metadata": {},
     "output_type": "execute_result"
    }
   ],
   "source": [
    "# especificamos um nome para a nova coluna e atribuímos os valores que serão dispostos nessa nova coluna\n",
    "df_dados['desvio padrão [s]'] = desvio_padrao_tempos_lista\n",
    "\n",
    "df_dados.style.set_caption('Dados adquiridos durante o experimento e os valores médios e desvios padrões dos tempos')"
   ]
  },
  {
   "cell_type": "markdown",
   "metadata": {},
   "source": [
    "<p class='justified'>\n",
    "    Porém, tem ainda um valor da média, o do Sensor 5, que deve ser arrumado para que a representação final possa estar correta. Para arredondá-lo e substituí-lo, usamos o método <mark class='mono_gray'>replace(valor_velho, valor_novo)</mark>:\n",
    "</p>"
   ]
  },
  {
   "cell_type": "code",
   "execution_count": 12,
   "metadata": {
    "ExecuteTime": {
     "end_time": "2020-06-19T20:34:26.277950Z",
     "start_time": "2020-06-19T20:34:26.271330Z"
    }
   },
   "outputs": [],
   "source": [
    "df_dados.replace(3.684, round(3.684, 2), inplace=True)"
   ]
  },
  {
   "cell_type": "markdown",
   "metadata": {},
   "source": [
    "<p class='justified'>\n",
    "    Lembrando que a propriedade <mark class='mono_gray'>inplace=True</mark> faz as mudanças permanecerem no objeto em questão.\n",
    "</p>"
   ]
  },
  {
   "cell_type": "code",
   "execution_count": 13,
   "metadata": {
    "ExecuteTime": {
     "end_time": "2020-06-19T20:34:28.613157Z",
     "start_time": "2020-06-19T20:34:28.597341Z"
    }
   },
   "outputs": [
    {
     "data": {
      "text/html": [
       "<div>\n",
       "<style scoped>\n",
       "    .dataframe tbody tr th:only-of-type {\n",
       "        vertical-align: middle;\n",
       "    }\n",
       "\n",
       "    .dataframe tbody tr th {\n",
       "        vertical-align: top;\n",
       "    }\n",
       "\n",
       "    .dataframe thead th {\n",
       "        text-align: right;\n",
       "    }\n",
       "</style>\n",
       "<table border=\"1\" class=\"dataframe\">\n",
       "  <thead>\n",
       "    <tr style=\"text-align: right;\">\n",
       "      <th></th>\n",
       "      <th>S [cm]</th>\n",
       "      <th>t1 [s]</th>\n",
       "      <th>t2 [s]</th>\n",
       "      <th>t3 [s]</th>\n",
       "      <th>t4 [s]</th>\n",
       "      <th>tempo médio [s]</th>\n",
       "      <th>desvio padrão [s]</th>\n",
       "    </tr>\n",
       "  </thead>\n",
       "  <tbody>\n",
       "    <tr>\n",
       "      <td>Sensor 1</td>\n",
       "      <td>0.0</td>\n",
       "      <td>0.000</td>\n",
       "      <td>0.000</td>\n",
       "      <td>0.000</td>\n",
       "      <td>0.000</td>\n",
       "      <td>0.000</td>\n",
       "      <td>0.000</td>\n",
       "    </tr>\n",
       "    <tr>\n",
       "      <td>Sensor 2</td>\n",
       "      <td>15.0</td>\n",
       "      <td>0.901</td>\n",
       "      <td>0.909</td>\n",
       "      <td>0.906</td>\n",
       "      <td>0.904</td>\n",
       "      <td>0.905</td>\n",
       "      <td>0.003</td>\n",
       "    </tr>\n",
       "    <tr>\n",
       "      <td>Sensor 3</td>\n",
       "      <td>30.0</td>\n",
       "      <td>1.836</td>\n",
       "      <td>1.840</td>\n",
       "      <td>1.824</td>\n",
       "      <td>1.831</td>\n",
       "      <td>1.833</td>\n",
       "      <td>0.007</td>\n",
       "    </tr>\n",
       "    <tr>\n",
       "      <td>Sensor 4</td>\n",
       "      <td>45.0</td>\n",
       "      <td>2.760</td>\n",
       "      <td>2.746</td>\n",
       "      <td>2.800</td>\n",
       "      <td>2.773</td>\n",
       "      <td>2.770</td>\n",
       "      <td>0.020</td>\n",
       "    </tr>\n",
       "    <tr>\n",
       "      <td>Sensor 5</td>\n",
       "      <td>60.0</td>\n",
       "      <td>3.658</td>\n",
       "      <td>3.620</td>\n",
       "      <td>3.776</td>\n",
       "      <td>3.680</td>\n",
       "      <td>3.680</td>\n",
       "      <td>0.070</td>\n",
       "    </tr>\n",
       "  </tbody>\n",
       "</table>\n",
       "</div>"
      ],
      "text/plain": [
       "          S [cm]  t1 [s]  t2 [s]  t3 [s]  t4 [s]  tempo médio [s]  \\\n",
       "Sensor 1     0.0   0.000   0.000   0.000   0.000            0.000   \n",
       "Sensor 2    15.0   0.901   0.909   0.906   0.904            0.905   \n",
       "Sensor 3    30.0   1.836   1.840   1.824   1.831            1.833   \n",
       "Sensor 4    45.0   2.760   2.746   2.800   2.773            2.770   \n",
       "Sensor 5    60.0   3.658   3.620   3.776   3.680            3.680   \n",
       "\n",
       "          desvio padrão [s]  \n",
       "Sensor 1              0.000  \n",
       "Sensor 2              0.003  \n",
       "Sensor 3              0.007  \n",
       "Sensor 4              0.020  \n",
       "Sensor 5              0.070  "
      ]
     },
     "execution_count": 13,
     "metadata": {},
     "output_type": "execute_result"
    }
   ],
   "source": [
    "df_dados"
   ]
  },
  {
   "cell_type": "markdown",
   "metadata": {},
   "source": [
    "<p class='justified'>\n",
    "    Dessa forma, podemos criar uma coluna especificando como os valores devem ser reportados. Nosso objetivo é juntar as colunas <mark class='mono_gray'>tempo médio [s]</mark> e <mark class='mono_gray'>desvio padrão [s]</mark> de maneira que cada valor seja separado pelo sinal de <mark class='mono_gray'>±</mark>. Podemos realizar isso de várias formas. Talvez a mais rápida, com menos código, seja a usando o método <mark class='mono_gray'>agg()</mark> (<i>aggregate</i>) do <mark class='mono_gray'>DataFrame</mark>. Seu primeiro argumento é a string que irá estar juntando os valores agregados e o segundo é a direção em que a operação deve ser realizada, ou seja, nas linhas ou nas colunas:\n",
    "</p>"
   ]
  },
  {
   "cell_type": "code",
   "execution_count": 14,
   "metadata": {
    "ExecuteTime": {
     "end_time": "2020-06-19T20:34:33.563849Z",
     "start_time": "2020-06-19T20:34:33.543836Z"
    }
   },
   "outputs": [
    {
     "data": {
      "text/plain": [
       "Sensor 1        0.0 ± 0.0\n",
       "Sensor 2    0.905 ± 0.003\n",
       "Sensor 3    1.833 ± 0.007\n",
       "Sensor 4      2.77 ± 0.02\n",
       "Sensor 5      3.68 ± 0.07\n",
       "dtype: object"
      ]
     },
     "execution_count": 14,
     "metadata": {},
     "output_type": "execute_result"
    }
   ],
   "source": [
    "df_dados[['tempo médio [s]', 'desvio padrão [s]']].astype(str).agg(\" ± \".join, axis=1)"
   ]
  },
  {
   "cell_type": "markdown",
   "metadata": {},
   "source": [
    "<p class='justified'>\n",
    "    Aqui aplicamos o método <mark class='mono_gray'>astype()</mark> com o argumento <mark class='mono_gray'>str</mark> para transformar nossos números em strings para que eles pudessem ser agregados. Assim, criamos uma nova coluna com essa representação:\n",
    "</p>"
   ]
  },
  {
   "cell_type": "code",
   "execution_count": 15,
   "metadata": {
    "ExecuteTime": {
     "end_time": "2020-06-19T20:34:38.631159Z",
     "start_time": "2020-06-19T20:34:38.600753Z"
    }
   },
   "outputs": [
    {
     "data": {
      "text/html": [
       "<div>\n",
       "<style scoped>\n",
       "    .dataframe tbody tr th:only-of-type {\n",
       "        vertical-align: middle;\n",
       "    }\n",
       "\n",
       "    .dataframe tbody tr th {\n",
       "        vertical-align: top;\n",
       "    }\n",
       "\n",
       "    .dataframe thead th {\n",
       "        text-align: right;\n",
       "    }\n",
       "</style>\n",
       "<table border=\"1\" class=\"dataframe\">\n",
       "  <thead>\n",
       "    <tr style=\"text-align: right;\">\n",
       "      <th></th>\n",
       "      <th>S [cm]</th>\n",
       "      <th>t1 [s]</th>\n",
       "      <th>t2 [s]</th>\n",
       "      <th>t3 [s]</th>\n",
       "      <th>t4 [s]</th>\n",
       "      <th>tempo médio [s]</th>\n",
       "      <th>desvio padrão [s]</th>\n",
       "      <th>dados reportados</th>\n",
       "    </tr>\n",
       "  </thead>\n",
       "  <tbody>\n",
       "    <tr>\n",
       "      <td>Sensor 1</td>\n",
       "      <td>0.0</td>\n",
       "      <td>0.000</td>\n",
       "      <td>0.000</td>\n",
       "      <td>0.000</td>\n",
       "      <td>0.000</td>\n",
       "      <td>0.000</td>\n",
       "      <td>0.000</td>\n",
       "      <td>0.0 ± 0.0</td>\n",
       "    </tr>\n",
       "    <tr>\n",
       "      <td>Sensor 2</td>\n",
       "      <td>15.0</td>\n",
       "      <td>0.901</td>\n",
       "      <td>0.909</td>\n",
       "      <td>0.906</td>\n",
       "      <td>0.904</td>\n",
       "      <td>0.905</td>\n",
       "      <td>0.003</td>\n",
       "      <td>0.905 ± 0.003</td>\n",
       "    </tr>\n",
       "    <tr>\n",
       "      <td>Sensor 3</td>\n",
       "      <td>30.0</td>\n",
       "      <td>1.836</td>\n",
       "      <td>1.840</td>\n",
       "      <td>1.824</td>\n",
       "      <td>1.831</td>\n",
       "      <td>1.833</td>\n",
       "      <td>0.007</td>\n",
       "      <td>1.833 ± 0.007</td>\n",
       "    </tr>\n",
       "    <tr>\n",
       "      <td>Sensor 4</td>\n",
       "      <td>45.0</td>\n",
       "      <td>2.760</td>\n",
       "      <td>2.746</td>\n",
       "      <td>2.800</td>\n",
       "      <td>2.773</td>\n",
       "      <td>2.770</td>\n",
       "      <td>0.020</td>\n",
       "      <td>2.77 ± 0.02</td>\n",
       "    </tr>\n",
       "    <tr>\n",
       "      <td>Sensor 5</td>\n",
       "      <td>60.0</td>\n",
       "      <td>3.658</td>\n",
       "      <td>3.620</td>\n",
       "      <td>3.776</td>\n",
       "      <td>3.680</td>\n",
       "      <td>3.680</td>\n",
       "      <td>0.070</td>\n",
       "      <td>3.68 ± 0.07</td>\n",
       "    </tr>\n",
       "  </tbody>\n",
       "</table>\n",
       "</div>"
      ],
      "text/plain": [
       "          S [cm]  t1 [s]  t2 [s]  t3 [s]  t4 [s]  tempo médio [s]  \\\n",
       "Sensor 1     0.0   0.000   0.000   0.000   0.000            0.000   \n",
       "Sensor 2    15.0   0.901   0.909   0.906   0.904            0.905   \n",
       "Sensor 3    30.0   1.836   1.840   1.824   1.831            1.833   \n",
       "Sensor 4    45.0   2.760   2.746   2.800   2.773            2.770   \n",
       "Sensor 5    60.0   3.658   3.620   3.776   3.680            3.680   \n",
       "\n",
       "          desvio padrão [s] dados reportados  \n",
       "Sensor 1              0.000        0.0 ± 0.0  \n",
       "Sensor 2              0.003    0.905 ± 0.003  \n",
       "Sensor 3              0.007    1.833 ± 0.007  \n",
       "Sensor 4              0.020      2.77 ± 0.02  \n",
       "Sensor 5              0.070      3.68 ± 0.07  "
      ]
     },
     "execution_count": 15,
     "metadata": {},
     "output_type": "execute_result"
    }
   ],
   "source": [
    "df_dados['dados reportados'] = df_dados[['tempo médio [s]', 'desvio padrão [s]']].astype(str).agg(\" ± \".join, axis=1)\n",
    "df_dados"
   ]
  },
  {
   "cell_type": "markdown",
   "metadata": {},
   "source": [
    "<p class='justified'>\n",
    "    Como mencionado (em algum lugar, tenho quase certeza...) em <mark class='mono_gray'>Python</mark> existem diversas formas de se obter o mesmo resultado. Existem umas formas que a gente entende melhor que outras. Por exemplo, poderíamos obter a coluna de dados reportados com um <mark class='mono_gray'>loop for</mark>. Vamos fazer isso por partes. Podemos criar um <mark class='mono_gray'>array</mark> de duas colunas para usar em um <mark class='mono_gray'>loop for</mark> com duas variáveis. Para criar o <mark class='mono_gray'>array</mark>, simplesmente selecionamos as colunas desejadas e aplicamos a propriedade <mark class='mono_gray'>values</mark>:\n",
    "</p>"
   ]
  },
  {
   "cell_type": "code",
   "execution_count": 73,
   "metadata": {
    "ExecuteTime": {
     "end_time": "2020-06-19T09:58:28.641617Z",
     "start_time": "2020-06-19T09:58:28.634649Z"
    }
   },
   "outputs": [
    {
     "data": {
      "text/plain": [
       "array([[0.000e+00, 0.000e+00],\n",
       "       [9.050e-01, 3.000e-03],\n",
       "       [1.833e+00, 7.000e-03],\n",
       "       [2.770e+00, 2.000e-02],\n",
       "       [3.680e+00, 7.000e-02]])"
      ]
     },
     "execution_count": 73,
     "metadata": {},
     "output_type": "execute_result"
    }
   ],
   "source": [
    "# aplicamos a propriedade values\n",
    "media_std_valores = df_dados[['tempo médio [s]', 'desvio padrão [s]']].values\n",
    "media_std_valores"
   ]
  },
  {
   "cell_type": "code",
   "execution_count": 74,
   "metadata": {
    "ExecuteTime": {
     "end_time": "2020-06-19T09:58:31.412105Z",
     "start_time": "2020-06-19T09:58:31.404852Z"
    }
   },
   "outputs": [
    {
     "data": {
      "text/plain": [
       "['0.0 ± 0.0', '0.905 ± 0.003', '1.833 ± 0.007', '2.77 ± 0.02', '3.68 ± 0.07']"
      ]
     },
     "execution_count": 74,
     "metadata": {},
     "output_type": "execute_result"
    }
   ],
   "source": [
    "# aplicamos o loop com duas variáveis para agregar as strings\n",
    "[str(media) + \" ± \" + str(std) for media, std in media_std_valores]"
   ]
  },
  {
   "cell_type": "markdown",
   "metadata": {},
   "source": [
    "# Confeccionando o gráfico $S \\times t_m$\n",
    "<a class=\"anchor\" id=\"confeccionando_o_grafico_sxt\"></a>"
   ]
  },
  {
   "cell_type": "markdown",
   "metadata": {},
   "source": [
    "<p class='justified'>\n",
    "Nosso interesse é analisar como a posição $S$ do móvel evolui com relação ao tempo médio $t_m$. Contudo, antes de confeccionarmos um gráfico $S \\times t_m$, vamos elaborar uma figura onde os tempos de cada repetição possam ser comparados. Nossa figura deve então ser constituída de cinco valores em cada uma das posições $S$. Podemos fazer isso usando um gráfico de barras:.\n",
    "</p>"
   ]
  },
  {
   "cell_type": "code",
   "execution_count": 26,
   "metadata": {
    "ExecuteTime": {
     "end_time": "2020-06-19T20:47:53.416095Z",
     "start_time": "2020-06-19T20:47:52.739237Z"
    }
   },
   "outputs": [
    {
     "data": {
      "text/plain": [
       "Text(0.5, 0, 'Tempo [s]')"
      ]
     },
     "execution_count": 26,
     "metadata": {},
     "output_type": "execute_result"
    },
    {
     "data": {
      "image/png": "[encoded data removed]",
      "text/plain": [
       "<Figure size 576x432 with 1 Axes>"
      ]
     },
     "metadata": {
      "needs_background": "light"
     },
     "output_type": "display_data"
    }
   ],
   "source": [
    "plot_bar_df_dados = df_dados.plot.barh(\n",
    "    # para cada valor da variável x, teremos vários valores correspondentes\n",
    "    # que serão comparados. No nosso caso, a variável x é a posição, e os \n",
    "    # valores comparados são os tempos de cada repetição e o valor médio\n",
    "    \n",
    "    xerr='desvio padrão [s]', #definimos os desvios dos valores\n",
    "    x='S [cm]', # variável x, onde os valores serão comparados\n",
    "    y=['t1 [s]', 't2 [s]', 't3 [s]', 't4 [s]', 'tempo médio [s]'], # valores comparados\n",
    "    width=0.8, # define a espessura das barras\n",
    "    edgecolor='#000000', # define a cor das bordas das barras\n",
    "    title='Tempos em cada sensor.' # define o título da figura\n",
    ")\n",
    "plot_bar_df_dados.set_xlabel('Tempo [s]') # define o label do eixo x"
   ]
  },
  {
   "cell_type": "markdown",
   "metadata": {},
   "source": [
    "<p class='justified'>\n",
    "Podemos fazer a leitura do gráfico ficar um pouco melhor. Para isso, iremos mudar os labels dos ticks no eixo y. Para isso, usamos o método <mark class='mono_gray'>set_yticklabels()</mark> e passamos uma lista de strings que substituirão os valores presentes. Primeiro, vamos criar uma lista com os labels que queremos:\n",
    "</p>"
   ]
  },
  {
   "cell_type": "code",
   "execution_count": 20,
   "metadata": {
    "ExecuteTime": {
     "end_time": "2020-06-19T20:44:54.645024Z",
     "start_time": "2020-06-19T20:44:54.639127Z"
    }
   },
   "outputs": [
    {
     "data": {
      "text/plain": [
       "['Sensor 1\\n0,00 cm',\n",
       " 'Sensor 2\\n15,00 cm',\n",
       " 'Sensor 3\\n30,00 cm',\n",
       " 'Sensor 4\\n45,00 cm',\n",
       " 'Sensor 5\\n60,00 cm']"
      ]
     },
     "execution_count": 20,
     "metadata": {},
     "output_type": "execute_result"
    }
   ],
   "source": [
    "lista_de_labels = ['Sensor 1\\n0,00 cm', 'Sensor 2\\n15,00 cm', 'Sensor 3\\n30,00 cm', 'Sensor 4\\n45,00 cm', 'Sensor 5\\n60,00 cm']\n",
    "\n",
    "lista_de_labels"
   ]
  },
  {
   "cell_type": "markdown",
   "metadata": {},
   "source": [
    "<p class='justified'>\n",
    "Lembrando que poderíamos ter usado uma lista de compreensão para criar a lista acima:\n",
    "</p>"
   ]
  },
  {
   "cell_type": "code",
   "execution_count": 64,
   "metadata": {
    "ExecuteTime": {
     "end_time": "2020-06-17T16:54:03.758688Z",
     "start_time": "2020-06-17T16:54:03.754786Z"
    }
   },
   "outputs": [
    {
     "data": {
      "text/plain": [
       "['Sensor 1\\n0,00 cm',\n",
       " 'Sensor 2\\n15,00 cm',\n",
       " 'Sensor 3\\n30,00 cm',\n",
       " 'Sensor 4\\n45,00 cm',\n",
       " 'Sensor 5\\n60,00 cm']"
      ]
     },
     "execution_count": 64,
     "metadata": {},
     "output_type": "execute_result"
    }
   ],
   "source": [
    "['Sensor ' + str(i+1) + '\\n' + str(i*15) + ',00 cm' for i in range(5)]"
   ]
  },
  {
   "cell_type": "markdown",
   "metadata": {},
   "source": [
    "<p class='justified'>\n",
    "Vamos então substituir os labels dos ticks do eixo y:\n",
    "</p>"
   ]
  },
  {
   "cell_type": "markdown",
   "metadata": {},
   "source": [
    "<a class='cell' id='figure_3'></a>"
   ]
  },
  {
   "cell_type": "code",
   "execution_count": 28,
   "metadata": {
    "ExecuteTime": {
     "end_time": "2020-06-19T20:54:14.923131Z",
     "start_time": "2020-06-19T20:54:14.366445Z"
    }
   },
   "outputs": [
    {
     "data": {
      "text/plain": [
       "[Text(0, 0, 'Sensor 1\\n0,00 cm'),\n",
       " Text(0, 0, 'Sensor 2\\n15,00 cm'),\n",
       " Text(0, 0, 'Sensor 3\\n30,00 cm'),\n",
       " Text(0, 0, 'Sensor 4\\n45,00 cm'),\n",
       " Text(0, 0, 'Sensor 5\\n60,00 cm')]"
      ]
     },
     "execution_count": 28,
     "metadata": {},
     "output_type": "execute_result"
    },
    {
     "data": {
      "image/png": "[encoded data removed]",
      "text/plain": [
       "<Figure size 576x432 with 1 Axes>"
      ]
     },
     "metadata": {
      "needs_background": "light"
     },
     "output_type": "display_data"
    }
   ],
   "source": [
    "plot_bar_df_dados = df_dados.plot.barh(\n",
    "    # para cada valor da variável x, teremos vários valores correspondentes\n",
    "    # que serão comparados. No nosso caso, a variável x é a posição, e os \n",
    "    # valores comparados são os tempos de cada repetição e o valor médio\n",
    "    xerr='desvio padrão [s]', # definimos os desvios dos valores\n",
    "    x='S [cm]', # variável x, onde os valores serão comparados\n",
    "    y=['t1 [s]', 't2 [s]', 't3 [s]', 't4 [s]', 'tempo médio [s]'], # valores comparados\n",
    "    width=0.8, # define a espessura das barras\n",
    "    edgecolor='#000000', # define a cor das bordas das barras\n",
    "    capsize=3, # definimos o tamanho da barra perpendicular à barra de erro\n",
    "    cmap='Blues', # definimos um map de cores para as barras em um valor de y\n",
    "    title='Tempos em cada sensor.' # define o título da figura\n",
    ")\n",
    "plot_bar_df_dados.set_xlabel('Tempo [s]') # define o label do eixo x\n",
    "plot_bar_df_dados.set_ylabel('') # deixamos em branco o label do eixo y\n",
    "plot_bar_df_dados.set_yticklabels(lista_de_labels) # trocamos os labels dos ticks do eixo y"
   ]
  },
  {
   "cell_type": "markdown",
   "metadata": {},
   "source": [
    "<p class='justified'>\n",
    "    <b>Figura 3.</b> Gráfico de barras comparando os tempos cronometrados nos sensores em cada uma das repetições, incluindo valores médios. As barras de erro são respectivas aos desvios padrões.\n",
    "</p>"
   ]
  },
  {
   "cell_type": "markdown",
   "metadata": {},
   "source": [
    "<p class='justified'>\n",
    "    Observe que também usamos a propriedade <mark class='mono_gray'>cmap</mark> para mudar as cores das barras em cada um dos valores de y, fornecendo o mapa de cores <mark class='mono_gray'>'Blues'</mark>.\n",
    "</p>"
   ]
  },
  {
   "cell_type": "markdown",
   "metadata": {},
   "source": [
    "<p class='justified'>\n",
    "Com esse gráfico podemos confirmar que as repetições do experimento foram feitas de maneira que as condições foram mantidas praticamente iguais em cada uma das repetições. Veja que os valores representados por cada barra, em cada um dos sensores, não mudam quase nada de uma para outra. Isso acarreta em um valor médio muito próximo aos valores aferidos nas repetições e um desvio padrão muito pequeno, já que os valores de cada medida varia muito pouco em relação a média.\n",
    "</p>"
   ]
  },
  {
   "cell_type": "markdown",
   "metadata": {},
   "source": [
    "<p class='justified'>\n",
    "    Vimos então que os tempos médios são provenientes de repetições experimentais que reproduzem adequadamente o mesmo comportamento físiso. Dessa forma, com os valores da posição $S$ e do tempo médio $t_m$ do <mark class='mono_gray'>DataFrame df_dados</mark>é fácil confeccionarmos o gráfico que estamos interessados (ver final da seção <a href='#experimento_1_mru'>3.1</a>):\n",
    "</p>"
   ]
  },
  {
   "cell_type": "markdown",
   "metadata": {},
   "source": [
    "<a class='cell' id='figure_4'></a>"
   ]
  },
  {
   "cell_type": "code",
   "execution_count": 30,
   "metadata": {
    "ExecuteTime": {
     "end_time": "2020-06-19T21:00:16.200027Z",
     "start_time": "2020-06-19T21:00:15.592715Z"
    }
   },
   "outputs": [
    {
     "data": {
      "text/plain": [
       "Text(0, 0.5, 'Posição do móvel, S [cm]')"
      ]
     },
     "execution_count": 30,
     "metadata": {},
     "output_type": "execute_result"
    },
    {
     "data": {
      "image/png": "[encoded data removed]",
      "text/plain": [
       "<Figure size 576x432 with 1 Axes>"
      ]
     },
     "metadata": {
      "needs_background": "light"
     },
     "output_type": "display_data"
    }
   ],
   "source": [
    "# agora confeccionamos o gráfico que nos diz\n",
    "# como a posição do carro evolui com o tempo\n",
    "plot_df_dados = df_dados.plot(\n",
    "    x='tempo médio [s]',     # valores das variáveis independentes: eixo x\n",
    "    y='S [cm]',              # valores das variáveis dependentes: eixo y\n",
    "    style='-o',              # desenha as linhas que ligam os marcadores 'o'\n",
    "    markersize=15,           # escolhe o tamanho do marcador/ponto\n",
    "    markerfacecolor=\"white\", # cor do interior do ponto\n",
    "    markeredgewidth=2,       # escolhe a espessura da borda do marcador/ponto\n",
    "    lw=3,                    # escolhe a espessura da linha que liga os pontos\n",
    "    xlim=(-0.3, 4),          # muda o intervalo do eixo-x\n",
    "    grid=True,               # desenha as linhas que acompanham os valores nos eixos    \n",
    "    title='Posição do móvel em função do tempo.' # adiciona título ao gráfico\n",
    ");\n",
    "\n",
    "plot_df_dados.set_ylabel('Posição do móvel, S [cm]') # colocamos o label no eixo-y"
   ]
  },
  {
   "cell_type": "markdown",
   "metadata": {},
   "source": [
    "<p class='justified'>\n",
    "<b>Figura 4.</b> Gráfico da Posição $S\\, (m)$ versus tempo médio $t_m\\, (s)$, referente aos dados da <b>Tabela 5</b>.\n",
    "</p>"
   ]
  },
  {
   "cell_type": "markdown",
   "metadata": {},
   "source": [
    "<p class='justified'>\n",
    "As opções colocadas nesse gráfico são as mesmas encontradas no gráfico da <a href='#figure_2'><b>Figura 2</b></a>. iremos manter um padrão para que você vá se habituando com os comandos. Contudo, eu encorajo vocês a mudar as opções e fazerem o gráfico ficar da maneira que preferirem. Isso ajuda a fixar melhor o conteúdo e também satisfaz o senso de estética de cada um. =)\n",
    "</p>"
   ]
  },
  {
   "cell_type": "markdown",
   "metadata": {},
   "source": [
    "<p class='justified'>\n",
    "    Vemos claramente que o tipo de relação é <b>linear</b>!\n",
    "    Dessa forma, podemos agora usar o método dos mínimos quadrados (Ref. <a href='#mukai'>[1]</a> Cap. 3 Págs. 26-29) para o caso da equação da reta e encontrar os coeficientes angular e linear.\n",
    "</p>"
   ]
  },
  {
   "cell_type": "markdown",
   "metadata": {},
   "source": [
    "# Ajuste do modelo linear\n",
    "<a class=\"anchor\" id=\"ajuste_do_modelo_linear\"></a>"
   ]
  },
  {
   "cell_type": "markdown",
   "metadata": {},
   "source": [
    "<p class='justified'>\n",
    "Gráficos são excelentes ferramentas para analisar o comportamento de determinado evento, seja experimental, teórico ou via métodos numéricos. E para essa análise, normalmente se busca uma equação que faça um ajuste adequado , envolvendo os parâmetros dos dados analisados e condições iniciais adotadas. Intuitivamente o drimeiro passo é observar o comportamento da distribuição dos dados experimentais no gráfico.\n",
    "</p>"
   ]
  },
  {
   "cell_type": "markdown",
   "metadata": {},
   "source": [
    "<p class='justified'>\n",
    "    No nosso caso, baseado na observação do gráfico no final da seção <a href='#confeccionando_o_grafico_sxt'>[5]</a>, vimos que os dados experimentais apontam na direção de um comportamento linear. Por essa razão, tentaremos aplicar um modelo matemático que consiste na equação da reta para ajustar os dados experimentais. Esse é conhecido como <mark class='mono_gray'>Método dos Mínimos Quadrados</mark>.\n",
    "</p>"
   ]
  },
  {
   "cell_type": "markdown",
   "metadata": {},
   "source": [
    "<p class='justified'>\n",
    "Nosso objetivo nessa seção é encontrar uma reta que melhor descreva os dados experimentais. Para isso, iremos ajustar uma reta\n",
    "</p>\n",
    "\n",
    "$$\n",
    "    y = a + bx,\n",
    "$$\n",
    "\n",
    "<p class='justified'>\n",
    "em que $a$ e $b$ são os coeficientes linear e angular, respectivamente. Quando dissermos \"ajustar\", queremos dizer que queremos encontrar os melhores valores de $a$ e $b$ que façam a reta de ajuste ficar mais próxima possível dos dados. Veja o gráfico abaixo e tente mudar os coeficientes para que a reta vermelha se ajuste de maneira mais razoável possível aos dados.\n",
    "</p>"
   ]
  },
  {
   "cell_type": "code",
   "execution_count": 11,
   "metadata": {
    "ExecuteTime": {
     "end_time": "2020-06-18T19:30:56.694256Z",
     "start_time": "2020-06-18T19:30:56.690676Z"
    }
   },
   "outputs": [],
   "source": [
    "import sys\n",
    "sys.path.append('../')\n",
    "from iterative_plots.iter_plots import *"
   ]
  },
  {
   "cell_type": "code",
   "execution_count": 15,
   "metadata": {
    "ExecuteTime": {
     "end_time": "2020-06-18T19:31:26.882695Z",
     "start_time": "2020-06-18T19:31:26.820262Z"
    }
   },
   "outputs": [
    {
     "data": {
      "text/html": [
       "\n",
       "    <div class=\"bk-root\">\n",
       "        <a href=\"https://bokeh.pydata.org\" target=\"_blank\" class=\"bk-logo bk-logo-small bk-logo-notebook\"></a>\n",
       "        <span id=\"1197\">Loading BokehJS ...</span>\n",
       "    </div>"
      ]
     },
     "metadata": {},
     "output_type": "display_data"
    },
    {
     "data": {
      "application/javascript": [
       "\n",
       "(function(root) {\n",
       "  function now() {\n",
       "    return new Date();\n",
       "  }\n",
       "\n",
       "  var force = true;\n",
       "\n",
       "  if (typeof root._bokeh_onload_callbacks === \"undefined\" || force === true) {\n",
       "    root._bokeh_onload_callbacks = [];\n",
       "    root._bokeh_is_loading = undefined;\n",
       "  }\n",
       "\n",
       "  var JS_MIME_TYPE = 'application/javascript';\n",
       "  var HTML_MIME_TYPE = 'text/html';\n",
       "  var EXEC_MIME_TYPE = 'application/vnd.bokehjs_exec.v0+json';\n",
       "  var CLASS_NAME = 'output_bokeh rendered_html';\n",
       "\n",
       "  /**\n",
       "   * Render data to the DOM node\n",
       "   */\n",
       "  function render(props, node) {\n",
       "    var script = document.createElement(\"script\");\n",
       "    node.appendChild(script);\n",
       "  }\n",
       "\n",
       "  /**\n",
       "   * Handle when an output is cleared or removed\n",
       "   */\n",
       "  function handleClearOutput(event, handle) {\n",
       "    var cell = handle.cell;\n",
       "\n",
       "    var id = cell.output_area._bokeh_element_id;\n",
       "    var server_id = cell.output_area._bokeh_server_id;\n",
       "    // Clean up Bokeh references\n",
       "    if (id != null && id in Bokeh.index) {\n",
       "      Bokeh.index[id].model.document.clear();\n",
       "      delete Bokeh.index[id];\n",
       "    }\n",
       "\n",
       "    if (server_id !== undefined) {\n",
       "      // Clean up Bokeh references\n",
       "      var cmd = \"from bokeh.io.state import curstate; print(curstate().uuid_to_server['\" + server_id + \"'].get_sessions()[0].document.roots[0]._id)\";\n",
       "      cell.notebook.kernel.execute(cmd, {\n",
       "        iopub: {\n",
       "          output: function(msg) {\n",
       "            var id = msg.content.text.trim();\n",
       "            if (id in Bokeh.index) {\n",
       "              Bokeh.index[id].model.document.clear();\n",
       "              delete Bokeh.index[id];\n",
       "            }\n",
       "          }\n",
       "        }\n",
       "      });\n",
       "      // Destroy server and session\n",
       "      var cmd = \"import bokeh.io.notebook as ion; ion.destroy_server('\" + server_id + \"')\";\n",
       "      cell.notebook.kernel.execute(cmd);\n",
       "    }\n",
       "  }\n",
       "\n",
       "  /**\n",
       "   * Handle when a new output is added\n",
       "   */\n",
       "  function handleAddOutput(event, handle) {\n",
       "    var output_area = handle.output_area;\n",
       "    var output = handle.output;\n",
       "\n",
       "    // limit handleAddOutput to display_data with EXEC_MIME_TYPE content only\n",
       "    if ((output.output_type != \"display_data\") || (!output.data.hasOwnProperty(EXEC_MIME_TYPE))) {\n",
       "      return\n",
       "    }\n",
       "\n",
       "    var toinsert = output_area.element.find(\".\" + CLASS_NAME.split(' ')[0]);\n",
       "\n",
       "    if (output.metadata[EXEC_MIME_TYPE][\"id\"] !== undefined) {\n",
       "      toinsert[toinsert.length - 1].firstChild.textContent = output.data[JS_MIME_TYPE];\n",
       "      // store reference to embed id on output_area\n",
       "      output_area._bokeh_element_id = output.metadata[EXEC_MIME_TYPE][\"id\"];\n",
       "    }\n",
       "    if (output.metadata[EXEC_MIME_TYPE][\"server_id\"] !== undefined) {\n",
       "      var bk_div = document.createElement(\"div\");\n",
       "      bk_div.innerHTML = output.data[HTML_MIME_TYPE];\n",
       "      var script_attrs = bk_div.children[0].attributes;\n",
       "      for (var i = 0; i < script_attrs.length; i++) {\n",
       "        toinsert[toinsert.length - 1].firstChild.setAttribute(script_attrs[i].name, script_attrs[i].value);\n",
       "      }\n",
       "      // store reference to server id on output_area\n",
       "      output_area._bokeh_server_id = output.metadata[EXEC_MIME_TYPE][\"server_id\"];\n",
       "    }\n",
       "  }\n",
       "\n",
       "  function register_renderer(events, OutputArea) {\n",
       "\n",
       "    function append_mime(data, metadata, element) {\n",
       "      // create a DOM node to render to\n",
       "      var toinsert = this.create_output_subarea(\n",
       "        metadata,\n",
       "        CLASS_NAME,\n",
       "        EXEC_MIME_TYPE\n",
       "      );\n",
       "      this.keyboard_manager.register_events(toinsert);\n",
       "      // Render to node\n",
       "      var props = {data: data, metadata: metadata[EXEC_MIME_TYPE]};\n",
       "      render(props, toinsert[toinsert.length - 1]);\n",
       "      element.append(toinsert);\n",
       "      return toinsert\n",
       "    }\n",
       "\n",
       "    /* Handle when an output is cleared or removed */\n",
       "    events.on('clear_output.CodeCell', handleClearOutput);\n",
       "    events.on('delete.Cell', handleClearOutput);\n",
       "\n",
       "    /* Handle when a new output is added */\n",
       "    events.on('output_added.OutputArea', handleAddOutput);\n",
       "\n",
       "    /**\n",
       "     * Register the mime type and append_mime function with output_area\n",
       "     */\n",
       "    OutputArea.prototype.register_mime_type(EXEC_MIME_TYPE, append_mime, {\n",
       "      /* Is output safe? */\n",
       "      safe: true,\n",
       "      /* Index of renderer in `output_area.display_order` */\n",
       "      index: 0\n",
       "    });\n",
       "  }\n",
       "\n",
       "  // register the mime type if in Jupyter Notebook environment and previously unregistered\n",
       "  if (root.Jupyter !== undefined) {\n",
       "    var events = require('base/js/events');\n",
       "    var OutputArea = require('notebook/js/outputarea').OutputArea;\n",
       "\n",
       "    if (OutputArea.prototype.mime_types().indexOf(EXEC_MIME_TYPE) == -1) {\n",
       "      register_renderer(events, OutputArea);\n",
       "    }\n",
       "  }\n",
       "\n",
       "  \n",
       "  if (typeof (root._bokeh_timeout) === \"undefined\" || force === true) {\n",
       "    root._bokeh_timeout = Date.now() + 5000;\n",
       "    root._bokeh_failed_load = false;\n",
       "  }\n",
       "\n",
       "  var NB_LOAD_WARNING = {'data': {'text/html':\n",
       "     \"<div style='background-color: #fdd'>\\n\"+\n",
       "     \"<p>\\n\"+\n",
       "     \"BokehJS does not appear to have successfully loaded. If loading BokehJS from CDN, this \\n\"+\n",
       "     \"may be due to a slow or bad network connection. Possible fixes:\\n\"+\n",
       "     \"</p>\\n\"+\n",
       "     \"<ul>\\n\"+\n",
       "     \"<li>re-rerun `output_notebook()` to attempt to load from CDN again, or</li>\\n\"+\n",
       "     \"<li>use INLINE resources instead, as so:</li>\\n\"+\n",
       "     \"</ul>\\n\"+\n",
       "     \"<code>\\n\"+\n",
       "     \"from bokeh.resources import INLINE\\n\"+\n",
       "     \"output_notebook(resources=INLINE)\\n\"+\n",
       "     \"</code>\\n\"+\n",
       "     \"</div>\"}};\n",
       "\n",
       "  function display_loaded() {\n",
       "    var el = document.getElementById(\"1197\");\n",
       "    if (el != null) {\n",
       "      el.textContent = \"BokehJS is loading...\";\n",
       "    }\n",
       "    if (root.Bokeh !== undefined) {\n",
       "      if (el != null) {\n",
       "        el.textContent = \"BokehJS \" + root.Bokeh.version + \" successfully loaded.\";\n",
       "      }\n",
       "    } else if (Date.now() < root._bokeh_timeout) {\n",
       "      setTimeout(display_loaded, 100)\n",
       "    }\n",
       "  }\n",
       "\n",
       "\n",
       "  function run_callbacks() {\n",
       "    try {\n",
       "      root._bokeh_onload_callbacks.forEach(function(callback) {\n",
       "        if (callback != null)\n",
       "          callback();\n",
       "      });\n",
       "    } finally {\n",
       "      delete root._bokeh_onload_callbacks\n",
       "    }\n",
       "    console.debug(\"Bokeh: all callbacks have finished\");\n",
       "  }\n",
       "\n",
       "  function load_libs(css_urls, js_urls, callback) {\n",
       "    if (css_urls == null) css_urls = [];\n",
       "    if (js_urls == null) js_urls = [];\n",
       "\n",
       "    root._bokeh_onload_callbacks.push(callback);\n",
       "    if (root._bokeh_is_loading > 0) {\n",
       "      console.debug(\"Bokeh: BokehJS is being loaded, scheduling callback at\", now());\n",
       "      return null;\n",
       "    }\n",
       "    if (js_urls == null || js_urls.length === 0) {\n",
       "      run_callbacks();\n",
       "      return null;\n",
       "    }\n",
       "    console.debug(\"Bokeh: BokehJS not loaded, scheduling load and callback at\", now());\n",
       "    root._bokeh_is_loading = css_urls.length + js_urls.length;\n",
       "\n",
       "    function on_load() {\n",
       "      root._bokeh_is_loading--;\n",
       "      if (root._bokeh_is_loading === 0) {\n",
       "        console.debug(\"Bokeh: all BokehJS libraries/stylesheets loaded\");\n",
       "        run_callbacks()\n",
       "      }\n",
       "    }\n",
       "\n",
       "    function on_error() {\n",
       "      console.error(\"failed to load \" + url);\n",
       "    }\n",
       "\n",
       "    for (var i = 0; i < css_urls.length; i++) {\n",
       "      var url = css_urls[i];\n",
       "      const element = document.createElement(\"link\");\n",
       "      element.onload = on_load;\n",
       "      element.onerror = on_error;\n",
       "      element.rel = \"stylesheet\";\n",
       "      element.type = \"text/css\";\n",
       "      element.href = url;\n",
       "      console.debug(\"Bokeh: injecting link tag for BokehJS stylesheet: \", url);\n",
       "      document.body.appendChild(element);\n",
       "    }\n",
       "\n",
       "    for (var i = 0; i < js_urls.length; i++) {\n",
       "      var url = js_urls[i];\n",
       "      var element = document.createElement('script');\n",
       "      element.onload = on_load;\n",
       "      element.onerror = on_error;\n",
       "      element.async = false;\n",
       "      element.src = url;\n",
       "      console.debug(\"Bokeh: injecting script tag for BokehJS library: \", url);\n",
       "      document.head.appendChild(element);\n",
       "    }\n",
       "  };var element = document.getElementById(\"1197\");\n",
       "  if (element == null) {\n",
       "    console.error(\"Bokeh: ERROR: autoload.js configured with elementid '1197' but no matching script tag was found. \")\n",
       "    return false;\n",
       "  }\n",
       "\n",
       "  function inject_raw_css(css) {\n",
       "    const element = document.createElement(\"style\");\n",
       "    element.appendChild(document.createTextNode(css));\n",
       "    document.body.appendChild(element);\n",
       "  }\n",
       "\n",
       "  var js_urls = [\"https://cdn.pydata.org/bokeh/release/bokeh-1.3.4.min.js\", \"https://cdn.pydata.org/bokeh/release/bokeh-widgets-1.3.4.min.js\", \"https://cdn.pydata.org/bokeh/release/bokeh-tables-1.3.4.min.js\", \"https://cdn.pydata.org/bokeh/release/bokeh-gl-1.3.4.min.js\"];\n",
       "  var css_urls = [];\n",
       "\n",
       "  var inline_js = [\n",
       "    function(Bokeh) {\n",
       "      Bokeh.set_log_level(\"info\");\n",
       "    },\n",
       "    \n",
       "    function(Bokeh) {\n",
       "      \n",
       "    },\n",
       "    function(Bokeh) {} // ensure no trailing comma for IE\n",
       "  ];\n",
       "\n",
       "  function run_inline_js() {\n",
       "    \n",
       "    if ((root.Bokeh !== undefined) || (force === true)) {\n",
       "      for (var i = 0; i < inline_js.length; i++) {\n",
       "        inline_js[i].call(root, root.Bokeh);\n",
       "      }if (force === true) {\n",
       "        display_loaded();\n",
       "      }} else if (Date.now() < root._bokeh_timeout) {\n",
       "      setTimeout(run_inline_js, 100);\n",
       "    } else if (!root._bokeh_failed_load) {\n",
       "      console.log(\"Bokeh: BokehJS failed to load within specified timeout.\");\n",
       "      root._bokeh_failed_load = true;\n",
       "    } else if (force !== true) {\n",
       "      var cell = $(document.getElementById(\"1197\")).parents('.cell').data().cell;\n",
       "      cell.output_area.append_execute_result(NB_LOAD_WARNING)\n",
       "    }\n",
       "\n",
       "  }\n",
       "\n",
       "  if (root._bokeh_is_loading === 0) {\n",
       "    console.debug(\"Bokeh: BokehJS loaded, going straight to plotting\");\n",
       "    run_inline_js();\n",
       "  } else {\n",
       "    load_libs(css_urls, js_urls, function() {\n",
       "      console.debug(\"Bokeh: BokehJS plotting callback run at\", now());\n",
       "      run_inline_js();\n",
       "    });\n",
       "  }\n",
       "}(window));"
      ],
      "application/vnd.bokehjs_load.v0+json": "\n(function(root) {\n  function now() {\n    return new Date();\n  }\n\n  var force = true;\n\n  if (typeof root._bokeh_onload_callbacks === \"undefined\" || force === true) {\n    root._bokeh_onload_callbacks = [];\n    root._bokeh_is_loading = undefined;\n  }\n\n  \n\n  \n  if (typeof (root._bokeh_timeout) === \"undefined\" || force === true) {\n    root._bokeh_timeout = Date.now() + 5000;\n    root._bokeh_failed_load = false;\n  }\n\n  var NB_LOAD_WARNING = {'data': {'text/html':\n     \"<div style='background-color: #fdd'>\\n\"+\n     \"<p>\\n\"+\n     \"BokehJS does not appear to have successfully loaded. If loading BokehJS from CDN, this \\n\"+\n     \"may be due to a slow or bad network connection. Possible fixes:\\n\"+\n     \"</p>\\n\"+\n     \"<ul>\\n\"+\n     \"<li>re-rerun `output_notebook()` to attempt to load from CDN again, or</li>\\n\"+\n     \"<li>use INLINE resources instead, as so:</li>\\n\"+\n     \"</ul>\\n\"+\n     \"<code>\\n\"+\n     \"from bokeh.resources import INLINE\\n\"+\n     \"output_notebook(resources=INLINE)\\n\"+\n     \"</code>\\n\"+\n     \"</div>\"}};\n\n  function display_loaded() {\n    var el = document.getElementById(\"1197\");\n    if (el != null) {\n      el.textContent = \"BokehJS is loading...\";\n    }\n    if (root.Bokeh !== undefined) {\n      if (el != null) {\n        el.textContent = \"BokehJS \" + root.Bokeh.version + \" successfully loaded.\";\n      }\n    } else if (Date.now() < root._bokeh_timeout) {\n      setTimeout(display_loaded, 100)\n    }\n  }\n\n\n  function run_callbacks() {\n    try {\n      root._bokeh_onload_callbacks.forEach(function(callback) {\n        if (callback != null)\n          callback();\n      });\n    } finally {\n      delete root._bokeh_onload_callbacks\n    }\n    console.debug(\"Bokeh: all callbacks have finished\");\n  }\n\n  function load_libs(css_urls, js_urls, callback) {\n    if (css_urls == null) css_urls = [];\n    if (js_urls == null) js_urls = [];\n\n    root._bokeh_onload_callbacks.push(callback);\n    if (root._bokeh_is_loading > 0) {\n      console.debug(\"Bokeh: BokehJS is being loaded, scheduling callback at\", now());\n      return null;\n    }\n    if (js_urls == null || js_urls.length === 0) {\n      run_callbacks();\n      return null;\n    }\n    console.debug(\"Bokeh: BokehJS not loaded, scheduling load and callback at\", now());\n    root._bokeh_is_loading = css_urls.length + js_urls.length;\n\n    function on_load() {\n      root._bokeh_is_loading--;\n      if (root._bokeh_is_loading === 0) {\n        console.debug(\"Bokeh: all BokehJS libraries/stylesheets loaded\");\n        run_callbacks()\n      }\n    }\n\n    function on_error() {\n      console.error(\"failed to load \" + url);\n    }\n\n    for (var i = 0; i < css_urls.length; i++) {\n      var url = css_urls[i];\n      const element = document.createElement(\"link\");\n      element.onload = on_load;\n      element.onerror = on_error;\n      element.rel = \"stylesheet\";\n      element.type = \"text/css\";\n      element.href = url;\n      console.debug(\"Bokeh: injecting link tag for BokehJS stylesheet: \", url);\n      document.body.appendChild(element);\n    }\n\n    for (var i = 0; i < js_urls.length; i++) {\n      var url = js_urls[i];\n      var element = document.createElement('script');\n      element.onload = on_load;\n      element.onerror = on_error;\n      element.async = false;\n      element.src = url;\n      console.debug(\"Bokeh: injecting script tag for BokehJS library: \", url);\n      document.head.appendChild(element);\n    }\n  };var element = document.getElementById(\"1197\");\n  if (element == null) {\n    console.error(\"Bokeh: ERROR: autoload.js configured with elementid '1197' but no matching script tag was found. \")\n    return false;\n  }\n\n  function inject_raw_css(css) {\n    const element = document.createElement(\"style\");\n    element.appendChild(document.createTextNode(css));\n    document.body.appendChild(element);\n  }\n\n  var js_urls = [\"https://cdn.pydata.org/bokeh/release/bokeh-1.3.4.min.js\", \"https://cdn.pydata.org/bokeh/release/bokeh-widgets-1.3.4.min.js\", \"https://cdn.pydata.org/bokeh/release/bokeh-tables-1.3.4.min.js\", \"https://cdn.pydata.org/bokeh/release/bokeh-gl-1.3.4.min.js\"];\n  var css_urls = [];\n\n  var inline_js = [\n    function(Bokeh) {\n      Bokeh.set_log_level(\"info\");\n    },\n    \n    function(Bokeh) {\n      \n    },\n    function(Bokeh) {} // ensure no trailing comma for IE\n  ];\n\n  function run_inline_js() {\n    \n    if ((root.Bokeh !== undefined) || (force === true)) {\n      for (var i = 0; i < inline_js.length; i++) {\n        inline_js[i].call(root, root.Bokeh);\n      }if (force === true) {\n        display_loaded();\n      }} else if (Date.now() < root._bokeh_timeout) {\n      setTimeout(run_inline_js, 100);\n    } else if (!root._bokeh_failed_load) {\n      console.log(\"Bokeh: BokehJS failed to load within specified timeout.\");\n      root._bokeh_failed_load = true;\n    } else if (force !== true) {\n      var cell = $(document.getElementById(\"1197\")).parents('.cell').data().cell;\n      cell.output_area.append_execute_result(NB_LOAD_WARNING)\n    }\n\n  }\n\n  if (root._bokeh_is_loading === 0) {\n    console.debug(\"Bokeh: BokehJS loaded, going straight to plotting\");\n    run_inline_js();\n  } else {\n    load_libs(css_urls, js_urls, function() {\n      console.debug(\"Bokeh: BokehJS plotting callback run at\", now());\n      run_inline_js();\n    });\n  }\n}(window));"
     },
     "metadata": {},
     "output_type": "display_data"
    },
    {
     "data": {
      "text/html": [
       "\n",
       "\n",
       "\n",
       "\n",
       "\n",
       "\n",
       "  <div class=\"bk-root\" id=\"4c0975fb-4379-467d-b6d3-8842b2450632\" data-root-id=\"1301\"></div>\n"
      ]
     },
     "metadata": {},
     "output_type": "display_data"
    },
    {
     "data": {
      "application/javascript": [
       "(function(root) {\n",
       "  function embed_document(root) {\n",
       "    \n",
       "  var docs_json = {\"aad50853-79cf-4fcf-a57d-1deae1d442aa\":{\"roots\":{\"references\":[{\"attributes\":{\"children\":[{\"id\":\"1199\",\"subtype\":\"Figure\",\"type\":\"Plot\"},{\"id\":\"1300\",\"type\":\"Column\"}],\"sizing_mode\":\"scale_width\"},\"id\":\"1301\",\"type\":\"Row\"},{\"attributes\":{\"source\":{\"id\":\"1198\",\"type\":\"ColumnDataSource\"}},\"id\":\"1265\",\"type\":\"CDSView\"},{\"attributes\":{\"data_source\":{\"id\":\"1198\",\"type\":\"ColumnDataSource\"},\"glyph\":{\"id\":\"1278\",\"type\":\"Scatter\"},\"hover_glyph\":null,\"muted_glyph\":null,\"nonselection_glyph\":{\"id\":\"1279\",\"type\":\"Scatter\"},\"selection_glyph\":null,\"view\":{\"id\":\"1281\",\"type\":\"CDSView\"}},\"id\":\"1280\",\"type\":\"GlyphRenderer\"},{\"attributes\":{\"line_color\":\"#E34A33\",\"line_dash\":[5,5],\"line_width\":3,\"x\":{\"field\":\"x\"},\"y\":{\"field\":\"y\"}},\"id\":\"1262\",\"type\":\"Line\"},{\"attributes\":{\"fill_color\":{\"value\":\"#E34A33\"},\"line_color\":{\"value\":\"#E34A33\"},\"marker\":{\"value\":\"x\"},\"size\":{\"units\":\"screen\",\"value\":16},\"x\":{\"field\":\"x\"},\"y\":{\"field\":\"y\"}},\"id\":\"1278\",\"type\":\"Scatter\"},{\"attributes\":{\"bottom_units\":\"screen\",\"fill_alpha\":{\"value\":0.5},\"fill_color\":{\"value\":\"lightgrey\"},\"left_units\":\"screen\",\"level\":\"overlay\",\"line_alpha\":{\"value\":1.0},\"line_color\":{\"value\":\"black\"},\"line_dash\":[4,4],\"line_width\":{\"value\":2},\"render_mode\":\"css\",\"right_units\":\"screen\",\"top_units\":\"screen\"},\"id\":\"1245\",\"type\":\"BoxAnnotation\"},{\"attributes\":{\"line_color\":\"#0095DD\",\"line_width\":3,\"x\":{\"field\":\"x\"},\"y\":{\"field\":\"y\"}},\"id\":\"1236\",\"type\":\"Line\"},{\"attributes\":{\"callback\":null,\"data\":{\"x\":{\"__ndarray__\":\"AAAAAAAAAAD2KFyPwvXsP4cW2c73U/0/KVyPwvUoBkBGtvP91HgNQA==\",\"dtype\":\"float64\",\"shape\":[5]},\"y\":{\"__ndarray__\":\"AAAAAAAAAAAAAAAAAAAuQAAAAAAAAD5AAAAAAACARkAAAAAAAABOQA==\",\"dtype\":\"float64\",\"shape\":[5]}},\"selected\":{\"id\":\"1258\",\"type\":\"Selection\"},\"selection_policy\":{\"id\":\"1259\",\"type\":\"UnionRenderers\"}},\"id\":\"1235\",\"type\":\"ColumnDataSource\"},{\"attributes\":{},\"id\":\"1221\",\"type\":\"WheelZoomTool\"},{\"attributes\":{\"dimension\":1,\"ticker\":{\"id\":\"1216\",\"type\":\"BasicTicker\"}},\"id\":\"1219\",\"type\":\"Grid\"},{\"attributes\":{\"args\":{\"posicao_inicial\":{\"id\":\"1297\",\"type\":\"Slider\"},\"source\":{\"id\":\"1198\",\"type\":\"ColumnDataSource\"},\"velocidade\":{\"id\":\"1298\",\"type\":\"Slider\"}},\"code\":\"\\n        const data  = source.data;\\n        const v     = velocidade.value;\\n        const s0    = posicao_inicial.value;\\n        const t     = data['x'];\\n        const s     = data['y'];\\n        const yDado = data['dados'];\\n        const text  = data['text'];\\n\\n        \\n        for (let i = 0; i < t.length; i++) {\\n        s[i] = s0 + v*t[i];\\n        }\\n\\n        let mean_value = (arr) => {\\n            let sum = 0;\\n            for (let i = 0; i < arr.length; i++) {\\n                sum += arr[i];\\n            }\\n\\n            let mean = sum/arr.length;\\n\\n            return mean;\\n        }\\n\\n        let r2 = (y_dado, y_ajuste) => {\\n            let s_res = 0;\\n            let s_tot = 0;\\n\\n            let mean_dado = mean_value(y_dado);\\n\\n            for (let i = 0; i < y_dado.length; i++) {\\n                s_res += (y_dado[i] - y_ajuste[i])**2;\\n                s_tot += (y_dado[i] - mean_dado)**2;\\n            }\\n\\n            let score = Math.round( (1 - s_res/s_tot)*1000 ) / 1000;\\n\\n            if (score >= 0) {\\n                return score;\\n            } else {\\n                return 'nan';\\n            }\\n\\n        }\\n\\n        text[0] = `R2 = ${r2(yDado, s).toString()}`;\\n\\n        source.change.emit();\\n        \"},\"id\":\"1299\",\"type\":\"CustomJS\"},{\"attributes\":{},\"id\":\"1258\",\"type\":\"Selection\"},{\"attributes\":{\"label\":{\"value\":\"Ajuste\"},\"renderers\":[{\"id\":\"1264\",\"type\":\"GlyphRenderer\"},{\"id\":\"1280\",\"type\":\"GlyphRenderer\"}]},\"id\":\"1276\",\"type\":\"LegendItem\"},{\"attributes\":{},\"id\":\"1273\",\"type\":\"Selection\"},{\"attributes\":{},\"id\":\"1208\",\"type\":\"LinearScale\"},{\"attributes\":{\"fill_alpha\":{\"value\":0.1},\"fill_color\":{\"value\":\"#1f77b4\"},\"line_alpha\":{\"value\":0.1},\"line_color\":{\"value\":\"#1f77b4\"},\"size\":{\"units\":\"screen\",\"value\":18},\"x\":{\"field\":\"x\"},\"y\":{\"field\":\"y\"}},\"id\":\"1250\",\"type\":\"Scatter\"},{\"attributes\":{\"source\":{\"id\":\"1235\",\"type\":\"ColumnDataSource\"}},\"id\":\"1239\",\"type\":\"CDSView\"},{\"attributes\":{},\"id\":\"1243\",\"type\":\"BasicTickFormatter\"},{\"attributes\":{},\"id\":\"1291\",\"type\":\"Selection\"},{\"attributes\":{\"source\":{\"id\":\"1248\",\"type\":\"ColumnDataSource\"}},\"id\":\"1252\",\"type\":\"CDSView\"},{\"attributes\":{},\"id\":\"1241\",\"type\":\"BasicTickFormatter\"},{\"attributes\":{},\"id\":\"1274\",\"type\":\"UnionRenderers\"},{\"attributes\":{\"overlay\":{\"id\":\"1245\",\"type\":\"BoxAnnotation\"}},\"id\":\"1222\",\"type\":\"BoxZoomTool\"},{\"attributes\":{\"fill_alpha\":{\"value\":0.1},\"fill_color\":{\"value\":\"#1f77b4\"},\"line_alpha\":{\"value\":0.1},\"line_color\":{\"value\":\"#1f77b4\"},\"marker\":{\"value\":\"x\"},\"size\":{\"units\":\"screen\",\"value\":16},\"x\":{\"field\":\"x\"},\"y\":{\"field\":\"y\"}},\"id\":\"1279\",\"type\":\"Scatter\"},{\"attributes\":{},\"id\":\"1259\",\"type\":\"UnionRenderers\"},{\"attributes\":{\"text\":\"Ajuste da reta S(t) = a + bt.\"},\"id\":\"1200\",\"type\":\"Title\"},{\"attributes\":{\"fill_color\":{\"value\":\"#FFFFFF\"},\"line_color\":{\"value\":\"#0095DD\"},\"size\":{\"units\":\"screen\",\"value\":18},\"x\":{\"field\":\"x\"},\"y\":{\"field\":\"y\"}},\"id\":\"1249\",\"type\":\"Scatter\"},{\"attributes\":{},\"id\":\"1220\",\"type\":\"PanTool\"},{\"attributes\":{},\"id\":\"1292\",\"type\":\"UnionRenderers\"},{\"attributes\":{\"bar_color\":\"#E34A33\",\"callback\":null,\"end\":20,\"js_property_callbacks\":{\"change:value\":[{\"id\":\"1299\",\"type\":\"CustomJS\"}]},\"sizing_mode\":\"scale_width\",\"start\":-20,\"step\":-0.05,\"title\":\"Coeficiente angular, b\",\"value\":5},\"id\":\"1298\",\"type\":\"Slider\"},{\"attributes\":{},\"id\":\"1216\",\"type\":\"BasicTicker\"},{\"attributes\":{\"label\":{\"value\":\"Dados\"},\"renderers\":[{\"id\":\"1238\",\"type\":\"GlyphRenderer\"},{\"id\":\"1251\",\"type\":\"GlyphRenderer\"}]},\"id\":\"1247\",\"type\":\"LegendItem\"},{\"attributes\":{\"bar_color\":\"#E34A33\",\"callback\":null,\"end\":10,\"js_property_callbacks\":{\"change:value\":[{\"id\":\"1299\",\"type\":\"CustomJS\"}]},\"sizing_mode\":\"scale_width\",\"start\":-10,\"step\":-0.01,\"title\":\"Coeficiente linear, a\",\"value\":0},\"id\":\"1297\",\"type\":\"Slider\"},{\"attributes\":{},\"id\":\"1223\",\"type\":\"SaveTool\"},{\"attributes\":{},\"id\":\"1225\",\"type\":\"HelpTool\"},{\"attributes\":{\"below\":[{\"id\":\"1210\",\"type\":\"LinearAxis\"}],\"center\":[{\"id\":\"1214\",\"type\":\"Grid\"},{\"id\":\"1219\",\"type\":\"Grid\"},{\"id\":\"1246\",\"type\":\"Legend\"},{\"id\":\"1295\",\"type\":\"LabelSet\"}],\"left\":[{\"id\":\"1215\",\"type\":\"LinearAxis\"}],\"plot_height\":400,\"plot_width\":400,\"renderers\":[{\"id\":\"1238\",\"type\":\"GlyphRenderer\"},{\"id\":\"1251\",\"type\":\"GlyphRenderer\"},{\"id\":\"1264\",\"type\":\"GlyphRenderer\"},{\"id\":\"1280\",\"type\":\"GlyphRenderer\"}],\"sizing_mode\":\"scale_width\",\"title\":{\"id\":\"1200\",\"type\":\"Title\"},\"toolbar\":{\"id\":\"1227\",\"type\":\"Toolbar\"},\"toolbar_location\":null,\"x_range\":{\"id\":\"1202\",\"type\":\"DataRange1d\"},\"x_scale\":{\"id\":\"1206\",\"type\":\"LinearScale\"},\"y_range\":{\"id\":\"1204\",\"type\":\"DataRange1d\"},\"y_scale\":{\"id\":\"1208\",\"type\":\"LinearScale\"}},\"id\":\"1199\",\"subtype\":\"Figure\",\"type\":\"Plot\"},{\"attributes\":{},\"id\":\"1206\",\"type\":\"LinearScale\"},{\"attributes\":{\"ticker\":{\"id\":\"1211\",\"type\":\"BasicTicker\"}},\"id\":\"1214\",\"type\":\"Grid\"},{\"attributes\":{},\"id\":\"1224\",\"type\":\"ResetTool\"},{\"attributes\":{\"line_alpha\":0.1,\"line_color\":\"#1f77b4\",\"line_width\":3,\"x\":{\"field\":\"x\"},\"y\":{\"field\":\"y\"}},\"id\":\"1237\",\"type\":\"Line\"},{\"attributes\":{\"active_drag\":\"auto\",\"active_inspect\":\"auto\",\"active_multi\":null,\"active_scroll\":\"auto\",\"active_tap\":\"auto\",\"logo\":null,\"tools\":[{\"id\":\"1220\",\"type\":\"PanTool\"},{\"id\":\"1221\",\"type\":\"WheelZoomTool\"},{\"id\":\"1222\",\"type\":\"BoxZoomTool\"},{\"id\":\"1223\",\"type\":\"SaveTool\"},{\"id\":\"1224\",\"type\":\"ResetTool\"},{\"id\":\"1225\",\"type\":\"HelpTool\"},{\"id\":\"1226\",\"type\":\"HoverTool\"}]},\"id\":\"1227\",\"type\":\"Toolbar\"},{\"attributes\":{\"callback\":null,\"data\":{\"x\":{\"__ndarray__\":\"AAAAAAAAAAD2KFyPwvXsP4cW2c73U/0/KVyPwvUoBkBGtvP91HgNQA==\",\"dtype\":\"float64\",\"shape\":[5]},\"y\":{\"__ndarray__\":\"AAAAAAAAAAAAAAAAAAAuQAAAAAAAAD5AAAAAAACARkAAAAAAAABOQA==\",\"dtype\":\"float64\",\"shape\":[5]}},\"selected\":{\"id\":\"1273\",\"type\":\"Selection\"},\"selection_policy\":{\"id\":\"1274\",\"type\":\"UnionRenderers\"}},\"id\":\"1248\",\"type\":\"ColumnDataSource\"},{\"attributes\":{\"callback\":null,\"tooltips\":[[\"Posi\\u00e7\\u00e3o [cm]\",\"@y{0.00}\"],[\"Tempo [s]\",\"@x\"]]},\"id\":\"1226\",\"type\":\"HoverTool\"},{\"attributes\":{\"background_fill_color\":{\"value\":\"white\"},\"border_line_color\":{\"value\":\"black\"},\"render_mode\":\"css\",\"source\":{\"id\":\"1198\",\"type\":\"ColumnDataSource\"},\"x\":{\"value\":1.5},\"y\":{\"value\":55}},\"id\":\"1295\",\"type\":\"LabelSet\"},{\"attributes\":{\"data_source\":{\"id\":\"1248\",\"type\":\"ColumnDataSource\"},\"glyph\":{\"id\":\"1249\",\"type\":\"Scatter\"},\"hover_glyph\":null,\"muted_glyph\":null,\"nonselection_glyph\":{\"id\":\"1250\",\"type\":\"Scatter\"},\"selection_glyph\":null,\"view\":{\"id\":\"1252\",\"type\":\"CDSView\"}},\"id\":\"1251\",\"type\":\"GlyphRenderer\"},{\"attributes\":{\"callback\":null,\"data\":{\"dados\":{\"__ndarray__\":\"AAAAAAAAAAAAAAAAAAAuQAAAAAAAAD5AAAAAAACARkAAAAAAAABOQA==\",\"dtype\":\"float64\",\"shape\":[5]},\"posx\":[0.1,0.1,0.1,0.1,0.1],\"posy\":[35,35,35,35,35],\"text\":[\"R2 = nan\",\"\",\"\",\"\",\"\"],\"x\":{\"__ndarray__\":\"AAAAAAAAAAD2KFyPwvXsP4cW2c73U/0/KVyPwvUoBkBGtvP91HgNQA==\",\"dtype\":\"float64\",\"shape\":[5]},\"y\":{\"__ndarray__\":\"AAAAAAAAAAD2KFyPwvXsP4cW2c73U/0/KVyPwvUoBkBGtvP91HgNQA==\",\"dtype\":\"float64\",\"shape\":[5]}},\"selected\":{\"id\":\"1291\",\"type\":\"Selection\"},\"selection_policy\":{\"id\":\"1292\",\"type\":\"UnionRenderers\"}},\"id\":\"1198\",\"type\":\"ColumnDataSource\"},{\"attributes\":{\"source\":{\"id\":\"1198\",\"type\":\"ColumnDataSource\"}},\"id\":\"1281\",\"type\":\"CDSView\"},{\"attributes\":{\"data_source\":{\"id\":\"1235\",\"type\":\"ColumnDataSource\"},\"glyph\":{\"id\":\"1236\",\"type\":\"Line\"},\"hover_glyph\":null,\"muted_glyph\":null,\"nonselection_glyph\":{\"id\":\"1237\",\"type\":\"Line\"},\"selection_glyph\":null,\"view\":{\"id\":\"1239\",\"type\":\"CDSView\"}},\"id\":\"1238\",\"type\":\"GlyphRenderer\"},{\"attributes\":{\"line_alpha\":0.1,\"line_color\":\"#1f77b4\",\"line_dash\":[5,5],\"line_width\":3,\"x\":{\"field\":\"x\"},\"y\":{\"field\":\"y\"}},\"id\":\"1263\",\"type\":\"Line\"},{\"attributes\":{\"data_source\":{\"id\":\"1198\",\"type\":\"ColumnDataSource\"},\"glyph\":{\"id\":\"1262\",\"type\":\"Line\"},\"hover_glyph\":null,\"muted_glyph\":null,\"nonselection_glyph\":{\"id\":\"1263\",\"type\":\"Line\"},\"selection_glyph\":null,\"view\":{\"id\":\"1265\",\"type\":\"CDSView\"}},\"id\":\"1264\",\"type\":\"GlyphRenderer\"},{\"attributes\":{\"callback\":null},\"id\":\"1202\",\"type\":\"DataRange1d\"},{\"attributes\":{\"children\":[{\"id\":\"1297\",\"type\":\"Slider\"},{\"id\":\"1298\",\"type\":\"Slider\"}],\"sizing_mode\":\"scale_width\"},\"id\":\"1300\",\"type\":\"Column\"},{\"attributes\":{\"axis_label\":\"Tempo, t [s]\",\"axis_label_text_font_size\":{\"value\":\"16px\"},\"axis_label_text_font_style\":\"normal\",\"formatter\":{\"id\":\"1241\",\"type\":\"BasicTickFormatter\"},\"major_label_text_font_size\":{\"value\":\"16px\"},\"ticker\":{\"id\":\"1211\",\"type\":\"BasicTicker\"}},\"id\":\"1210\",\"type\":\"LinearAxis\"},{\"attributes\":{\"items\":[{\"id\":\"1247\",\"type\":\"LegendItem\"},{\"id\":\"1276\",\"type\":\"LegendItem\"}],\"location\":\"top_left\"},\"id\":\"1246\",\"type\":\"Legend\"},{\"attributes\":{},\"id\":\"1211\",\"type\":\"BasicTicker\"},{\"attributes\":{\"callback\":null},\"id\":\"1204\",\"type\":\"DataRange1d\"},{\"attributes\":{\"axis_label\":\"Posi\\u00e7\\u00e3o, S(t) [cm]\",\"axis_label_text_font_size\":{\"value\":\"16px\"},\"axis_label_text_font_style\":\"normal\",\"formatter\":{\"id\":\"1243\",\"type\":\"BasicTickFormatter\"},\"major_label_text_font_size\":{\"value\":\"16px\"},\"ticker\":{\"id\":\"1216\",\"type\":\"BasicTicker\"}},\"id\":\"1215\",\"type\":\"LinearAxis\"}],\"root_ids\":[\"1301\"]},\"title\":\"Bokeh Application\",\"version\":\"1.3.4\"}};\n",
       "  var render_items = [{\"docid\":\"aad50853-79cf-4fcf-a57d-1deae1d442aa\",\"roots\":{\"1301\":\"4c0975fb-4379-467d-b6d3-8842b2450632\"}}];\n",
       "  root.Bokeh.embed.embed_items_notebook(docs_json, render_items);\n",
       "\n",
       "  }\n",
       "  if (root.Bokeh !== undefined) {\n",
       "    embed_document(root);\n",
       "  } else {\n",
       "    var attempts = 0;\n",
       "    var timer = setInterval(function(root) {\n",
       "      if (root.Bokeh !== undefined) {\n",
       "        embed_document(root);\n",
       "        clearInterval(timer);\n",
       "      }\n",
       "      attempts++;\n",
       "      if (attempts > 100) {\n",
       "        console.log(\"Bokeh: ERROR: Unable to run BokehJS code because BokehJS library is missing\");\n",
       "        clearInterval(timer);\n",
       "      }\n",
       "    }, 10, root)\n",
       "  }\n",
       "})(window);"
      ],
      "application/vnd.bokehjs_exec.v0+json": ""
     },
     "metadata": {
      "application/vnd.bokehjs_exec.v0+json": {
       "id": "1301"
      }
     },
     "output_type": "display_data"
    }
   ],
   "source": [
    "mru_fit_iterative()"
   ]
  },
  {
   "cell_type": "markdown",
   "metadata": {},
   "source": [
    "<p class='justified'>\n",
    "    Encontrou os valores de $a$ e $b$ que fazem o modelo linear mais se aproximar dos dados? Vamos ver agora como calcular os valores que fazem o ajuste ficar o mais próximo dos dados e ver se você obteve os valores corretos.\n",
    "</p>"
   ]
  },
  {
   "cell_type": "markdown",
   "metadata": {},
   "source": [
    "## Método dos mínimos quadrados\n",
    "<a class='subsection' id='metodo_dos_minimos_quadrados'></a>"
   ]
  },
  {
   "cell_type": "markdown",
   "metadata": {},
   "source": [
    "<p class='justified'>\n",
    "Como mencionado anterioremente, iremos considerar a equação de primeiro grau que representa uma reta\n",
    "</p>\n",
    "\n",
    "$$\n",
    "    y(x) = a + bx,\n",
    "$$\n",
    "\n",
    "<p class='justified'>\n",
    "    em que $y(x)$ é a variável dependente, $a$ o coeficiente linear, $b$ o coeficiente angular e $x$ a variável independente. Segundo o método dos mínimos quadrados, na regressão linear o coeficiente linear $a$ é dado por\n",
    "</p>\n",
    "\n",
    "$$\n",
    "a = \\frac{\\sum y \\sum x^2 - \\sum x \\sum xy}{n\\sum x^2 - \\left(\\sum x\\right)^2}\n",
    "\\label{eq:coef_linear}\n",
    "$$\n",
    "\n",
    "<p class='justified'>\n",
    "e o coeficiente angular $b$ é dado por\n",
    "</p>\n",
    "\n",
    "$$\n",
    "b = \\frac{n \\sum xy - \\sum x \\sum y}{n\\sum x^2 - \\left(\\sum x\\right)^2}.\n",
    "\\label{eq:coef_angular}\n",
    "$$"
   ]
  },
  {
   "cell_type": "markdown",
   "metadata": {},
   "source": [
    "<p class='justified'>\n",
    "Comparando com o nosso caso, o valor de $x$ é o da variável independente, isto é, o tempo médio $t_m$ referente a cada um dos sensores. O valor de $y$ é o da variável dependente, isto é, a posição $S(t)$ do móvel para um determinado tempo $t$. Aqui $n$ é o número de dados disponíveis. No caso do experimento, $n=5$, pois temos cinco sensores, tendo um valor da posição $S(t)$ e de tempo médio $t_m$ para cada um, inclusive a origem do movimento.\n",
    "</p>\n",
    "\n",
    "<p class='justified'>\n",
    "Por exemplo, a soma $\\sum y$ seria calculada como\n",
    "</p>\n",
    "\n",
    "$$\n",
    "\\begin{split}\n",
    "    \\sum y \\to \\sum S &= 0{,}00\\,cm + 15{,}00\\,cm + 30{,}00\\,cm + 45{,}00\\,cm + 60{,}00\\,cm\\\\\n",
    "    &= 150{,}00\\,cm.\n",
    "\\end{split}\n",
    "$$\n",
    "\n",
    "<p class='justified'>\n",
    "Já a soma $\\sum x$ seria calculada como\n",
    "</p>\n",
    "\n",
    "$$\n",
    "\\begin{split}\n",
    "    \\sum x \\to \\sum t_m &= 0{,}000\\,s + 0{,}905\\,s + 1{,}833\\,s + 2{,}770\\,s + 3{,}684\\,s \\\\\n",
    "    &= 9{,}192\\,s\n",
    "\\end{split}\n",
    "$$"
   ]
  },
  {
   "cell_type": "markdown",
   "metadata": {},
   "source": [
    "<p class='justified'>\n",
    "Tomando o cuidado, pois existe uma diferença entre as somas $\\left(\\sum x\\right)^2$ e $\\sum x^2$. A primeira, soma-se todos os termos e então elevamos ao quadrado. Sendo assim, ela pode ser calculada simplesmente elevando o resultado da soma $\\sum x$ ao quadrado:\n",
    "</p>\n",
    "\n",
    "$$\n",
    "\\begin{split}\n",
    "    \\left(\\sum x\\right)^2 \\to \\left(\\sum \\bar{t}\\right)^2 &= \\left(0{,}000\\,s + 0{,}905\\,s + 1{,}833\\,s + 2{,}770\\,s + 3{,}684\\,s \\right)^2\\\\\n",
    "    &= \\left(9{,}192\\,s\\right)^2 = 84{,}493\\,s^2.\n",
    "\\end{split}\n",
    "$$"
   ]
  },
  {
   "cell_type": "markdown",
   "metadata": {},
   "source": [
    "<p class='justified'>\n",
    "Observe que a unidade, segundos $s$, também foi elevada ao quadrado. Isso ocorre pois sempre devemos levar em consideração a unidade das quantidades que estamos lidando em nossos cálculos.\n",
    "</p>\n",
    "\n",
    "<p class='justified'>\n",
    "Já na segunda soma, $\\sum x^2$, cada um dos termos é elevado ao quadrado e somente então são somados:\n",
    "</p>\n",
    "\n",
    "$$\n",
    "\\begin{split}\n",
    "    \\sum \\left(x\\right)^2 = \\sum \\left(\\bar{t}\\right)^2 &= \n",
    "    \\left(0{,}000\\,s\\right)^2 + \n",
    "    \\left(0{,}905\\,s\\right)^2 + \n",
    "    \\left(1{,}833\\,s\\right)^2 +\\\\ \n",
    "    &+\\left(2{,}770\\,s\\right)^2 + \n",
    "    \\left(3{,}684\\,s \\right)^2\\\\\n",
    "    &= 25{,}424\\,s^2.\n",
    "\\end{split}\n",
    "$$"
   ]
  },
  {
   "cell_type": "markdown",
   "metadata": {},
   "source": [
    "<p class='justified'>\n",
    "Convenhamos que mesmo que o número de dados $n$ seja pequeno, calcular todas essas somas e depois substituí-las nas equações \\eqref{eq:coef_linear} e \\eqref{eq:coef_angular} é bastante trabalhoso. Por isso, escreveremos funções que permitiram calcular os valores dessas somas e nos retornar os valores dos coeficientes.\n",
    "</p>\n",
    "\n",
    "<p class='justified'>\n",
    "Vamos começar escrevendo a função para o coeficiente linear $a$.\n",
    "</p>"
   ]
  },
  {
   "cell_type": "code",
   "execution_count": 269,
   "metadata": {
    "ExecuteTime": {
     "end_time": "2020-05-31T17:34:58.519644Z",
     "start_time": "2020-05-31T17:34:58.508498Z"
    }
   },
   "outputs": [],
   "source": [
    "def coef_linear(x, y):\n",
    "    \"\"\"\n",
    "    Dada a equação da reta y = a + bx, fornecidos os valores correspondentes \n",
    "    das variáveis independente (x) e dependente (y), calculá-se o coeficiente \n",
    "    linear (a).\n",
    "    \n",
    "    Argumentos:\n",
    "    -----------\n",
    "    x - list: lista com os valores da variável independente\n",
    "    y - list: lista com os valores da variável dependente\n",
    "    \n",
    "    Retorno:\n",
    "    --------\n",
    "    A função retorna o valor do coeficiente linear da equação da reta, isto é,\n",
    "    o valor de ``a`` na equação y = a + bx.\n",
    "    \"\"\"\n",
    "    n = len(x)          # número de dados disponíveis\n",
    "    \n",
    "    s_y  = y.sum()      # calcula a soma dos valores em y\n",
    "    s_x2 = (x**2).sum() # calcula a soma dos valores de x²\n",
    "    \n",
    "    s_x  = x.sum()      # calcula a soma dos valores em x\n",
    "    s_xy = (x*y).sum()  # calcula a soma dos valores xy\n",
    "    \n",
    "    s_2x = x.sum()**2   # calcula a soma dos valores em x e depois eleva ao quadrado\n",
    "    \n",
    "    numerador   = s_y*s_x2 - s_x*s_xy # calcula o numerador do coeficiente linear\n",
    "    denominador = n*s_x2 - s_2x       # calcula o denominador do coeficiente linear\n",
    "    \n",
    "    return round(numerador/denominador, 2) # retorna o valor do coeficiente linear arredondado \n",
    "                                           # conforme o número de algarismos significativos"
   ]
  },
  {
   "cell_type": "markdown",
   "metadata": {},
   "source": [
    "<p class='justified'>\n",
    "Da mesma forma, definimos uma função para calcular o coeficiente angular $b$:\n",
    "</p>"
   ]
  },
  {
   "cell_type": "code",
   "execution_count": 266,
   "metadata": {
    "ExecuteTime": {
     "end_time": "2020-05-31T17:34:42.982510Z",
     "start_time": "2020-05-31T17:34:42.975974Z"
    }
   },
   "outputs": [],
   "source": [
    "def coef_angular(x, y):\n",
    "    \"\"\"\n",
    "    Dada a equação da reta y = a + bx, fornecidos os valores correspondentes \n",
    "    das variáveis independente (x) e dependente (y), calculá-se o coeficiente \n",
    "    angular (b).\n",
    "    \n",
    "    Argumentos:\n",
    "    -----------\n",
    "    x - list: lista com os valores da variável independente\n",
    "    y - list: lista com os valores da variável dependente\n",
    "    \n",
    "    Retorno:\n",
    "    --------\n",
    "    A função retorna o valor do coeficiente angular da equação da reta, isto é,\n",
    "    o valor de ``b`` na equação y = a + bx.\n",
    "    \"\"\"\n",
    "    n = len(x)          # número de dados disponíveis\n",
    "    \n",
    "    s_xy = (x*y).sum()  # calcula a soma dos valores de xy\n",
    "    \n",
    "    s_x  = x.sum()      # calcula a soma dos valores em x\n",
    "    s_y  = y.sum()      # calcula a soma dos valores em y\n",
    "    \n",
    "    s_x2 = (x**2).sum() # calcula a soma dos valores de x²\n",
    "    \n",
    "    s_2x = x.sum()**2   # calcula a soma dos valores em x e depois eleva ao quadrado\n",
    "    \n",
    "    numerador   = n*s_xy - s_x*s_y # calcula o numerador do coeficiente angular\n",
    "    denominador = n*s_x2 - s_2x    # calcula o denominador do coeficiente angular\n",
    "    \n",
    "    return round(numerador/denominador, 2) # retorna o valor do coeficiente angular arredondado \n",
    "                                           # conforme o número de algarismos significativos"
   ]
  },
  {
   "cell_type": "markdown",
   "metadata": {},
   "source": [
    "<p class='justified'>\n",
    "Como já mencionado, no nosso caso, a lista de valores contida na variável independente $x$ são as médias dos tempos em cada um dos sensores, isto é, os valores que se encontram na coluna <mark class='mono_gray'>tempos médios [s]</mark> do nosso <mark class='mono_gray'>DataFrame</mark>. Já a variável dependente $y$ se refere aos valores das posições dos sensores, fornecidos pela coluna <mark class='mono_gray'>s [cm]</mark> do nosso <mark class='mono_gray'>DataFrame</mark>. \n",
    "</p>\n",
    "\n",
    "<p class='justified'>\n",
    "Desta forma, para ajustar o modelo matemático que corresponde à equação da reta aos nossos dados, usamos esses valores nas funções definidas acima. Primeiramente, vamos encontrar o valor do coeficiente linear $a$:\n",
    "</p>"
   ]
  },
  {
   "cell_type": "code",
   "execution_count": 270,
   "metadata": {
    "ExecuteTime": {
     "end_time": "2020-05-31T17:35:01.374559Z",
     "start_time": "2020-05-31T17:35:01.365347Z"
    }
   },
   "outputs": [
    {
     "data": {
      "text/plain": [
       "0.13"
      ]
     },
     "execution_count": 270,
     "metadata": {},
     "output_type": "execute_result"
    }
   ],
   "source": [
    "# definindo as variáveis para usar na função\n",
    "x = df_dados['tempo médio [s]'] # lista de valores dos tempos médios: variável independente x\n",
    "y = df_dados['S [cm]']          # lista de valores das posições dos sensores: variável dependente y\n",
    "\n",
    "a = coef_linear(x, y)\n",
    "a"
   ]
  },
  {
   "cell_type": "markdown",
   "metadata": {},
   "source": [
    "<p class='justified'>\n",
    "    Usando as mesmas variáveis <mark class='mono_gray'>x</mark> e <mark class='mono_gray'>y</mark> definidas na célula acima, calculamos o valor do coeficiente angular:\n",
    "</p>"
   ]
  },
  {
   "cell_type": "code",
   "execution_count": 271,
   "metadata": {
    "ExecuteTime": {
     "end_time": "2020-05-31T17:35:05.534117Z",
     "start_time": "2020-05-31T17:35:05.520510Z"
    }
   },
   "outputs": [
    {
     "data": {
      "text/plain": [
       "16.25"
      ]
     },
     "execution_count": 271,
     "metadata": {},
     "output_type": "execute_result"
    }
   ],
   "source": [
    "b = coef_angular(x, y)\n",
    "b"
   ]
  },
  {
   "cell_type": "markdown",
   "metadata": {},
   "source": [
    "<p class='justified'>\n",
    "    Portanto obteve-se que a equação da reta ajustada pelo método dos mínimos quadrados é dada por:\n",
    "</p>\n",
    "\n",
    "$$\n",
    "    S(t) = 0{,}13 + 16{,}25 t.\n",
    "$$\n",
    "\n",
    "<p class='justified'>\n",
    "    Para obter os valores de $S$ para cada tempo médio, basta substituir os valores do tempo médio e obter os dados para a reta ajustada.\n",
    "</p>\n",
    "\n",
    "\n",
    "<div align='center'>\n",
    "<b>Tabela 6.</b> Dados da posição para cada tempo médio obtido experimentalmente, obtida usando a equação da reta ajustada, $S(t) = 0{,}13 + 16{,25}t$. \n",
    "    \n",
    "| $t_m\\, [s]$ | $S\\,[cm]$ |\n",
    "|:-----------:|:---------:|\n",
    "|  $0{,}000$  |  $0{,}13$ |\n",
    "|  $0{,}905$  | $15{,}00$ |\n",
    "|  $1{,}833$  | $30{,}00$ |\n",
    "|  $2{,}770$  | $45{,}00$ |\n",
    "|  $3{,}684$  | $60{,}00$ |\n",
    "\n",
    "</div>"
   ]
  },
  {
   "cell_type": "markdown",
   "metadata": {},
   "source": [
    "Os valores de interesse foram obtidos. Contudo, ainda falta uma parte crucial: as unidades! É preciso em nossos cálculos levar em consideração as unidades das quantidades envolvidas. Para descobrir as unidades dos coeficiente linear $a$ e angular $b$, basta fazer uma análise dimensional nas equações \\eqref{eq:coef_linear} e \\eqref{eq:coef_angular}. Para a primeira delas, observe que ambos os termos do numerador possuem dimensões de $[y] \\cdot [x]^2$ e do denominador de $[x]^2$:\n",
    "\n",
    "$$\n",
    "    [a] = \\frac{[y]\\cdot [x]^2}{[x]^2} = [y].\n",
    "$$\n",
    "\n",
    "Como no nosso caso $x \\to \\bar{t}$ e $y \\to S$, temos\n",
    "\n",
    "$$\n",
    "    [a] = [S] = cm.\n",
    "$$\n",
    "\n",
    "No caso do coeficiente angular, ambos os termos do numerador possuem dimensões de $[x]\\cdot[y]$ e do denominador $[x]^2$:\n",
    "\n",
    "$$\n",
    "    [b] = \\frac{[x]\\cdot[y]}{[x]^2} = \\frac{[y]}{[x]}.\n",
    "$$\n",
    "\n",
    "Portanto, mais uma vez como $x \\to \\bar{t}$ e $y \\to S$, temos\n",
    "\n",
    "$$\n",
    "    [b] = \\frac{[S]}{[t]} = \\frac{cm}{s}.\n",
    "$$\n",
    "\n",
    "Vemos então que a dimesão do coeficiente linear é de distância ($cm$) e a do coeficiente angular é de velocidade - distância por tempo - ($cm/s$)."
   ]
  },
  {
   "cell_type": "markdown",
   "metadata": {},
   "source": [
    "Vamos agora juntar as informações obtidas nessa última parte para escrever o modelo que se ajusta aos dados experimentais.\n",
    "\n",
    "1. Inspecionamos os dados em um gráfico de $S\\times \\bar{t}$ e observamos um comportamento linear;\n",
    "2. A partir dessa observação, propomos um modelo linear para explicar o comportamento do fenômeno observado:\n",
    "$$\n",
    "    y = a + bx;\n",
    "$$\n",
    "3. Usamos o método dos mínimos quadrados para obter os coeficientes linear $a = 0{,}13$ e angular $b = 16{,}25$.\n",
    "4. Fizemos uma análise dimensional para obter as unidades dos coeficientes, de maneira que \n",
    "$$\n",
    "\\begin{split}\n",
    "    a &= 0{,}13\\, &cm\\\\\n",
    "    b &= 16{,}25\\,&cm/s\n",
    "\\end{split}\n",
    "$$\n",
    "5. Finalmente podemos escrever a equação que melhor se ajusta aos dados experimentais:\n",
    "$$\n",
    "    y = 0{,}13 + 16{,}25 x\n",
    "$$\n",
    "ou em termos das variáveis físicas envolvidas\n",
    "$$\n",
    "    \\hat{S}(t) = \\left(0{,}13\\,cm \\right) + \\left(16{,}25\\,cm/s \\right) t\n",
    "$$\n",
    "em que usamos um $\\hat{S}$ para diferenciar o modelo teórico das posições experimentais $S$."
   ]
  },
  {
   "cell_type": "markdown",
   "metadata": {},
   "source": [
    "## Usando a função ``polyfit`` do ``numpy``\n",
    "<a class='subsection' id='usando_a_funcao_polyfit_do_numpy'></a>"
   ]
  },
  {
   "cell_type": "markdown",
   "metadata": {},
   "source": [
    "<p class='justified'>\n",
    "Existe uma maneira bem mais fácil de se obter os coeficientes da reta a partir dos dados. Quando digo mais fácil, quero dizer em apenas uma linha código. Para isso, devemos usar a função <mark class='mono_gray'>polyfit</mark> do pacote <mark class='mono_gray'>numpy</mark>. Esse pacote já foi importado na <a href='#pacotes_e_funcoes'>seção 2</a>, mas vamos importá-lo novamente aqui:\n",
    "</p>"
   ]
  },
  {
   "cell_type": "code",
   "execution_count": 495,
   "metadata": {
    "ExecuteTime": {
     "end_time": "2020-06-01T20:36:06.273140Z",
     "start_time": "2020-06-01T20:36:06.270360Z"
    }
   },
   "outputs": [],
   "source": [
    "# importamos o pacote ``numpy`` e vamos nos referir a ele como ``np``\n",
    "import numpy as np"
   ]
  },
  {
   "cell_type": "markdown",
   "metadata": {},
   "source": [
    "<p class='justified'>\n",
    "    Para fazer uso da função <mark class='mono_gray'>polyfit</mark>, chamamos ela como <mark class='mono_gray'>np.polyfit(x, y, deg)</mark>. Os três parâmetros que devem ser passados à função são quase auto-explicativos:\n",
    "</p>\n",
    "\n",
    "```python\n",
    "    x -> lista com valores das variáveis independentes\n",
    "    y -> lista com valores das variáveis dependentes\n",
    "    deg -> grau do polinômio que queremos ajustar aos dados x e y.\n",
    "```\n",
    "\n",
    "<p class='justified'>\n",
    "No nosso caso, os valores das variáveis independentes são os tempos médios que o móvel leva para passa pelos sensores, armazenadas na variável <mark class='mono_gray'>tempo_medio</mark>. Já as variáveis dependentes são as posições experimentais dos sensores, armazenadas na variável <mark class='mono_gray'>posicao_experimental</mark>. Contudo, vamos reescrever essas variáveis para relembrar os valores que cada uma armazena.\n",
    "</p>"
   ]
  },
  {
   "cell_type": "code",
   "execution_count": 505,
   "metadata": {
    "ExecuteTime": {
     "end_time": "2020-06-01T20:59:43.305672Z",
     "start_time": "2020-06-01T20:59:43.299186Z"
    }
   },
   "outputs": [],
   "source": [
    "tempo_medio          = [0.000, 0.905, 1.833, 2.770, 3.684] # em segundos, variável x na função ``polyfit``\n",
    "posicao_experimental = [0.00 , 15.00, 30.00, 45.00, 60.00] # em cm, variável y na função ``polyfit``"
   ]
  },
  {
   "cell_type": "markdown",
   "metadata": {},
   "source": [
    "<p class='justified'>\n",
    "Como propomos um modelo linear para explicar o comportamento do móvel com o passar do tempo, estamos ajustando uma reta, um polinômio de grau 1, aos dados. Dessa forma, devemos usar\n",
    "</p>\n",
    "\n",
    "```python\n",
    "    deg=1\n",
    "```\n",
    "<p class='justified'>\n",
    "como terceiro argumento na função <mark class='mono_gray'>polyfit</mark>.\n",
    "</p>\n",
    "\n",
    "<p class='justified'>\n",
    "Assim, substituindo os valores de forma adequada, devemos ter:\n",
    "</p>"
   ]
  },
  {
   "cell_type": "code",
   "execution_count": 507,
   "metadata": {
    "ExecuteTime": {
     "end_time": "2020-06-01T20:59:57.867783Z",
     "start_time": "2020-06-01T20:59:57.862745Z"
    }
   },
   "outputs": [
    {
     "data": {
      "text/plain": [
       "array([16.2503963 ,  0.13127144])"
      ]
     },
     "execution_count": 507,
     "metadata": {},
     "output_type": "execute_result"
    }
   ],
   "source": [
    "np.polyfit(x=tempo_medio, y=posicao_teorica, deg=1)"
   ]
  },
  {
   "cell_type": "markdown",
   "metadata": {},
   "source": [
    "<p class='justified'>\n",
    "    A função retorna um <mark class='mono_gray'>array</mark> com dois valores. O primeiro deles é o coeficiente angular e o segundo o coeficiente linear. Podemos arredondar esses valores para conter os algarismos signficativos provenientes dos nossos dados:\n",
    "</p>"
   ]
  },
  {
   "cell_type": "code",
   "execution_count": 508,
   "metadata": {
    "ExecuteTime": {
     "end_time": "2020-06-01T21:01:42.787799Z",
     "start_time": "2020-06-01T21:01:42.779978Z"
    }
   },
   "outputs": [
    {
     "data": {
      "text/plain": [
       "array([16.25,  0.13])"
      ]
     },
     "execution_count": 508,
     "metadata": {},
     "output_type": "execute_result"
    }
   ],
   "source": [
    "np.polyfit(x=tempo_medio, y=posicao_teorica, deg=1).round(2)"
   ]
  },
  {
   "cell_type": "markdown",
   "metadata": {},
   "source": [
    "<p class='justified'>\n",
    "    Veja que esses valores são exatamente os que foram obtidos usando as funções dos coeficientes angular e linear, respectivamente, na seção anterior. Vimos então, que usando apenas uma linha podemos encontrar os coeficientes do nosso modelo linear sem grandes problemas.\n",
    "</p>"
   ]
  },
  {
   "cell_type": "markdown",
   "metadata": {},
   "source": [
    "# Comparando o modelo com os dados\n",
    "<a class='section' id='comprando_o_modelo_com_os_dados'></a>"
   ]
  },
  {
   "cell_type": "markdown",
   "metadata": {},
   "source": [
    "## Comparações iniciais\n",
    "<a class='subsection' id='comparacoes_iniciais'></a>"
   ]
  },
  {
   "cell_type": "markdown",
   "metadata": {},
   "source": [
    "Podemos comparar o modelo teórico com os dados experimentais de diferentes formas. O primeiro método que podemos utilizar é via gráfico. Essa comparação qualitativa nos permite visualizar se o modelo teórico se aproxima bem dos dados obtidos experimentalmente. Se observamos uma concordância razoável, podemos partir para métodos quantitativo que complementarão nossos resultados e nos forneceram uma estimativa numérica do quão bom é o nosso modelo, isto é, o quão bem ele descreve os dados observados desse fenômeno.\n",
    "\n",
    "Nas subseções a seguir, iremos discutir esses métodos e então sintetizar nossos resultados. Mas antes disso, para fazermos a comparação, precisamos analisar a equação da reta obtida com os coeficientes $a$ e $b$ e gerar as posições em função do tempo. \n",
    "\n",
    "Nosso modelo linear é dado pela equação\n",
    "\n",
    "$$\n",
    "    \\hat{S}(t) = \\left(0{,}13\\,cm \\right) + \\left(16{,}25\\,cm/s \\right) t.\n",
    "$$\n",
    "\n",
    "Portanto, devemos usar os tempos cronometrados em cada um dos sensores para obter os valores das posições do móvel ao passar por cada um deles. Para isso, usaremos os valores médios dos tempos, calculados na seção [4.1.3](#calculando_a_media_dos_tempos_nos_sensores).\n",
    "\n",
    "Para refrescar nossa memória, podemos obter os valores do ``DataFrame`` ``df_dados``:"
   ]
  },
  {
   "cell_type": "code",
   "execution_count": 260,
   "metadata": {
    "ExecuteTime": {
     "end_time": "2020-05-31T17:23:37.252060Z",
     "start_time": "2020-05-31T17:23:37.239095Z"
    }
   },
   "outputs": [
    {
     "data": {
      "text/plain": [
       "Sensor 1    0.000\n",
       "Sensor 2    0.905\n",
       "Sensor 3    1.833\n",
       "Sensor 4    2.770\n",
       "Sensor 5    3.684\n",
       "Name: tempo médio [s], dtype: float64"
      ]
     },
     "execution_count": 260,
     "metadata": {},
     "output_type": "execute_result"
    }
   ],
   "source": [
    "df_dados['tempo médio [s]']"
   ]
  },
  {
   "cell_type": "markdown",
   "metadata": {},
   "source": [
    "Dessa forma, as posições do móvel fornecidas pelo modelo são:\n",
    "\n",
    "$$\n",
    "\\begin{split}\n",
    "    \\text{Sensor 1} \\to t &= 0{,}000 \\to \\hat{S}(0{,}000)\\, &= \\left( 0{,}13\\,cm \\right) + \\left( 16{,}25\\,cm/s \\right)\\left( 0{,}000\\,s \\right) &= \\phantom{0}0{,}13\\,cm,\\\\\n",
    "    \\text{Sensor 2} \\to t &= 0{,}905 \\to \\hat{S}(0{,}905)\\, &= \\left( 0{,}13\\,cm \\right) + \\left( 16{,}25\\,cm/s \\right)\\left( 0{,}905\\,s \\right) &= 14{,}84\\,cm,\\\\\n",
    "    \\text{Sensor 3} \\to t &= 1{,}833 \\to \\hat{S}(1{,}833)\\, &= \\left( 0{,}13\\,cm \\right) + \\left( 16{,}25\\,cm/s \\right)\\left( 1{,}833\\,s \\right) &= 29{,}92\\,cm,\\\\\n",
    "    \\text{Sensor 4} \\to t &= 2{,}770 \\to \\hat{S}(2{,}770)\\, &= \\left( 0{,}13\\,cm \\right) + \\left( 16{,}25\\,cm/s \\right)\\left( 2{,}770\\,s \\right) &= 45{,}14\\,cm,\\\\\n",
    "    \\text{Sensor 5} \\to t &= 3{,}684 \\to \\hat{S}(3{,}684)\\, &= \\left( 0{,}13\\,cm \\right) + \\left( 16{,}25\\,cm/s \\right)\\left( 3{,}684\\,s \\right) &= 60{,}00\\,cm.\\\\\n",
    "\\end{split}\n",
    "$$"
   ]
  },
  {
   "cell_type": "markdown",
   "metadata": {
    "ExecuteTime": {
     "end_time": "2020-05-31T17:36:57.404775Z",
     "start_time": "2020-05-31T17:36:57.395987Z"
    }
   },
   "source": [
    "Assim, para colocar esses pontos no gráfico, juntamente com os dados experimentais, devemos criar uma lista com esses valores. Podemos fazer isso calculando cada um dos valores \"na mão\", como feito acima. Podemos criar uma função que descreva a posição teórica do móvel em função do tempo. Uma maneira de fazer isso é com o código abaixo:"
   ]
  },
  {
   "cell_type": "code",
   "execution_count": 276,
   "metadata": {
    "ExecuteTime": {
     "end_time": "2020-05-31T18:12:22.796821Z",
     "start_time": "2020-05-31T18:12:22.789025Z"
    }
   },
   "outputs": [],
   "source": [
    "def modelo_teorico(t):\n",
    "    \"\"\"\n",
    "    Função que calcula as posições do móvel em um determinado instante t.\n",
    "    A função, modelo linear, foi obtida a partir do método de mínimos\n",
    "    quadrados ajustando os coeficientes linear e angular via método dos \n",
    "    mínimos quadrados. A função obtida a partir dos ajustes é escrita como\n",
    "    S^(t) = (0.13 cm) + (16.25 cm/s)t\n",
    "    \n",
    "    Argumentos:\n",
    "    -----------\n",
    "    t - float: tempo, em segundos, no qual se quer saber a posição do móvel.\n",
    "    \n",
    "    Retorno:\n",
    "    --------\n",
    "    S^ - float: posição do móvel, em cm,  no instante de tempo t.\n",
    "    \"\"\"\n",
    "    \n",
    "    return round(0.13 + 16.25*t, 2)"
   ]
  },
  {
   "cell_type": "markdown",
   "metadata": {},
   "source": [
    "Usando essa função podemos então calcular a posição teórica do móvel para cada instante de tempo $t$:"
   ]
  },
  {
   "cell_type": "markdown",
   "metadata": {},
   "source": [
    "```python\n",
    "    >>> modelo_teorico(0.000) \n",
    "        0.13\n",
    "    >>> modelo_teorico(0.905)\n",
    "        14.84\n",
    "    >>> modelo_teorico(1.833)\n",
    "        29.92\n",
    "    >>> modelo_teorico(2.770)\n",
    "        45.14\n",
    "    >>> modelo_teorico(3.684)\n",
    "        60.00\n",
    "```"
   ]
  },
  {
   "cell_type": "markdown",
   "metadata": {},
   "source": [
    "Contudo, ao invés de calcular cada um dos valores separadamente, podemos criar uma lista de valores diretamente usando uma ``lista de compreensão`` (``list comprehension``):"
   ]
  },
  {
   "cell_type": "code",
   "execution_count": 277,
   "metadata": {
    "ExecuteTime": {
     "end_time": "2020-05-31T18:12:37.914308Z",
     "start_time": "2020-05-31T18:12:37.907229Z"
    }
   },
   "outputs": [
    {
     "data": {
      "text/plain": [
       "[0.13, 14.84, 29.92, 45.14, 60.0]"
      ]
     },
     "execution_count": 277,
     "metadata": {},
     "output_type": "execute_result"
    }
   ],
   "source": [
    "[modelo_teorico(t) for t in df_dados['tempo médio [s]']]"
   ]
  },
  {
   "cell_type": "markdown",
   "metadata": {},
   "source": [
    "Vamos \"quebrar\" o código acima:\n",
    "\n",
    "```python\n",
    "    - df_dados['tempo médio [s]'] -> contém os valores dos tempos médios;\n",
    "    - o comando for atribui à variável t um dos valores na lista de tempos em cada etapa do loop;\n",
    "        - no primeiro passo do loop: t = 0.000\n",
    "        - no segundo passo do loop : t = 0.905\n",
    "            .\n",
    "            .\n",
    "            .\n",
    "    - t, com seu respectivo valor, é injetado na função posicao_modelo\n",
    "    - a função retorna o valor da posiçao do móvel\n",
    "```\n",
    "\n",
    "Atribuímos essa lista a uma variável chamada ``posicao_teorica``:"
   ]
  },
  {
   "cell_type": "code",
   "execution_count": 278,
   "metadata": {
    "ExecuteTime": {
     "end_time": "2020-05-31T18:13:28.740296Z",
     "start_time": "2020-05-31T18:13:28.735264Z"
    }
   },
   "outputs": [
    {
     "data": {
      "text/plain": [
       "[0.13, 14.84, 29.92, 45.14, 60.0]"
      ]
     },
     "execution_count": 278,
     "metadata": {},
     "output_type": "execute_result"
    }
   ],
   "source": [
    "posicao_teorica = [modelo_teorico(t) for t in df_dados['tempo médio [s]']]\n",
    "posicao_teorica"
   ]
  },
  {
   "cell_type": "markdown",
   "metadata": {},
   "source": [
    "Com esses resultados, podemos já nos precipitar e dizer que o nosso modelo teórico é uma boa aproximação para o fenômeno observado no experimento. Comparando os valores das posições experimentais com as obtidas a partir do modelo, encontramos diferenças muito pequenas:\n",
    "\n",
    "$$\n",
    "\\begin{split}\n",
    "    &\\text{Posições experimentais} &\\to [0{,}00, 15{,}00, 30{,}00, 45{,}00, 60{,}00]\\,cm,\\\\\n",
    "    &\\text{Posições teóricas}      &\\to [0{,}13, 14{,}84, 29{,}92, 45{,}14, 60{,}00]\\,cm,\\\\\n",
    "    &\\text{Diferença das posições} &\\to [0{,}13, \\phantom{0}0{,}16, \\phantom{0}0{,}08, \\phantom{0}0{,}14, \\phantom{0}0{,}00]\\,cm. \n",
    "\\end{split}\n",
    "$$\n",
    "\n",
    "Vemos então que as diferenças, considerando valores absolutos, são muito pequenas.\n",
    "Na próxima seção, veremos como isso é transmitido em um gráfico."
   ]
  },
  {
   "cell_type": "markdown",
   "metadata": {},
   "source": [
    "## Comparação via gráfico\n",
    "<a class='subsection' id='comparacao_via_grafico'></a>"
   ]
  },
  {
   "cell_type": "markdown",
   "metadata": {},
   "source": [
    "O primeiro método que iremos usar como comparação entre o modelo teórico obtido (equação da reta) e os dados experimentais é via gráfico. Iremos plotar os dados experimentais (mesmo gráfico da seção [5](#confeccionando_o_grafico_sxt)) e juntos a eles os resultados do modelo teórico. Abaixo, vamos escrever o código para confeccionar o gráfico que contém os dados experimentais e os resultados teoricos obtidos acima."
   ]
  },
  {
   "cell_type": "code",
   "execution_count": 279,
   "metadata": {
    "ExecuteTime": {
     "end_time": "2020-05-31T18:23:40.384162Z",
     "start_time": "2020-05-31T18:23:40.378940Z"
    }
   },
   "outputs": [],
   "source": [
    "tempo_medio          = df_dados['tempo médio [s]'] # tempo médio do móvel em cada sensor\n",
    "posicao_experimental = df_dados['S [cm]']          # posição experimental do móvel\n",
    "posicao_teorica      = posicao_teorica             # posição teórica do móvel (redefinindo o valor obtido acima)"
   ]
  },
  {
   "cell_type": "markdown",
   "metadata": {},
   "source": [
    "Temos tudo que precisamos para confeccionar o gráfico. O código para mostrar os valores teóricos e experimentais é escrito como:"
   ]
  },
  {
   "cell_type": "code",
   "execution_count": 291,
   "metadata": {
    "ExecuteTime": {
     "end_time": "2020-05-31T20:15:41.766486Z",
     "start_time": "2020-05-31T20:15:41.442094Z"
    }
   },
   "outputs": [
    {
     "data": {
      "image/png": "[encoded data removed]",
      "text/plain": [
       "<Figure size 576x432 with 1 Axes>"
      ]
     },
     "metadata": {
      "needs_background": "light"
     },
     "output_type": "display_data"
    }
   ],
   "source": [
    "# primeiramente plotamos o gráfico com os dados experimentais\n",
    "plt.plot(\n",
    "    tempo_medio,                # primeiro argumento são os valores do eixo x\n",
    "    posicao_experimental,       # segundo argumento são os valores do eixo y\n",
    "    marker='o',                 # tipo do ponto usado para marcar as coordenadas (x,y)\n",
    "    markersize=15,              # muda o tamanho dos pontos\n",
    "    markerfacecolor=\"#FFFFFF\",  # muda a cor interna dos pontos\n",
    "    lw=0,                       # faz a linha que liga os pontos ter espessura (width) 0\n",
    "    label='Dados experimentais' # nome para colocar na legenda\n",
    ");\n",
    "\n",
    "# agora plotamos os valores teóricos. Para cada posição téorica usamos os tempos médios respectivos\n",
    "plt.plot(\n",
    "    tempo_medio,            # primeiro argumento são os valores do eixo x\n",
    "    posicao_teorica,        # segundo argumento são os valores do eixo y\n",
    "    marker='x',             # tipo do ponto usado para marcar as coordenadas (x,y)\n",
    "    markersize=8,           # muda o tamanho dos pontos\n",
    "    color='#FF0000',        # muda a cor interna dos pontos\n",
    "    ls='--',                # muda o estilo da linha que liga os pontos para tracejado\n",
    "    label='Modelo ajustado' # nome para colocar na legenda\n",
    ")\n",
    "\n",
    "# adicionamos uma legenda para ajudar na leitura do gráfico\n",
    "# a legenda incluirá os ``label's`` adicionados em cada plot.\n",
    "plt.legend()\n",
    "\n",
    "# desenha as linhas que acompanham os valores nos eixos\n",
    "plt.grid()\n",
    "\n",
    "# é importante colocar o nome das quantidade nos eixos\n",
    "plt.xlabel('tempo, t [s]');\n",
    "plt.ylabel('posição, S [m]');\n",
    "plt.title('Posição do móvel em função do tempo.');"
   ]
  },
  {
   "cell_type": "markdown",
   "metadata": {},
   "source": [
    "Observe como os pontos do ``Modelo ajustado`` \"cai\" bem em cima dos pontos dos ``Dados experimentais``. Isso é um indicativo de que o ajuste ao modelo linear proposto é bom. A partir dessa análisa qualitativa, vamos então obter algumas estimativas numéricas do quão bom nosso modelo é para descrever os dados experimentais, isto é, o cenário experimental que trabalhamos."
   ]
  },
  {
   "cell_type": "markdown",
   "metadata": {},
   "source": [
    "## Comparação via desvio percentual\n",
    "<a class='subsection' id='comparacao_via_desvio_percentual'></a>"
   ]
  },
  {
   "cell_type": "markdown",
   "metadata": {},
   "source": [
    "O **desvio percentual** é utilizado quando se compara uma medida experimental com um valor teórico. Suponha que estamos interessados em comparar uma quantidade $X$ entre o experimento e o modelo teórico. Usando o desvio percentual, podemos fazer isso utilizando a seguinte expressão:\n",
    "\n",
    "$$\n",
    "    D_X = \\left| \\frac{X_{teórico} - X_{experimental}}{X_{experimental}} \\right|\\cdot 100\\%.\n",
    "$$"
   ]
  },
  {
   "cell_type": "markdown",
   "metadata": {},
   "source": [
    "No nosso caso, a quantidade que queremos comparar entre os dados experimentais e teóricos é a velocidade $v$ do móvel. Portanto, nesse cenário, devemos calcular:\n",
    "\n",
    "$$\n",
    "    D_v = \\left| \\frac{v_{teórico} - v_{experimental}}{v_{experimental}} \\right|\\cdot 100\\%.\n",
    "    \\label{eq:desvio_perc_v}\n",
    "$$"
   ]
  },
  {
   "cell_type": "markdown",
   "metadata": {},
   "source": [
    "Como vimos na seção [3.1](#breve_revisao_teorica), a velocidade pode ser obtida calculando o coeficiente da reta no gráfico $S\\times t$. Podemos então obter as velocidade experimental e teórica usando dois pontos em suas respectivas retas (gráfico acima) e compará-las usando a equação \\eqref{eq:desvio_perc_v}. As inclinações dessas retas podem ser obtidas então por meio das equações\n",
    "\n",
    "$$\n",
    "\\begin{split}\n",
    "    v_{experimental} &= \\frac{\\Delta S}{\\Delta t}\\\\ \n",
    "    v_{teórico}      &= \\frac{\\Delta \\hat{S}}{\\Delta t}\\\\\n",
    "\\end{split}\n",
    "$$\n",
    "\n",
    "Para calcular as velocidades, consideraremos os tempos dos sensores 3 e 4. Assim, experimentalmente temos:\n",
    "\n",
    "$$\n",
    "\\begin{split}\n",
    "    v_{experimental} &= \\frac{\\Delta S}{\\Delta t} = \\frac{S(t=2{,}770\\,s)-S(t=1{,}833\\,s)}{2{,}770\\,s -1{,}833\\,s}\\\\\n",
    "                     &= \\frac{45{,}00\\,cm - 30{,}00\\,cm}{0{,}937\\,s} = \\frac{15{,}00\\,cm}{0{,}937\\,s}\\\\ \n",
    "                     &= 16{,}01\\,cm/s.\n",
    "\\end{split}\n",
    "$$\n",
    "\n",
    "Já para a teórica:\n",
    "\n",
    "$$\n",
    "\\begin{split}\n",
    "    v_{teórica} &= \\frac{\\Delta \\hat{S}}{\\Delta t} = \\frac{\\hat{S}(t=2{,}770\\,s)-\\hat{S}(t=1{,}833\\,s)}{2{,}770\\,s -1{,}833\\,s}\\\\ \n",
    "                &= \\frac{45{,}14\\,cm - 29{,}92\\,cm}{0{,}937\\,s} = \\frac{15{,}22\\,cm}{0{,}937\\,s}\\\\ \n",
    "                &= 16{,}24\\,cm/s.\n",
    "\\end{split}\n",
    "$$"
   ]
  },
  {
   "cell_type": "markdown",
   "metadata": {
    "ExecuteTime": {
     "end_time": "2020-05-31T20:31:39.249479Z",
     "start_time": "2020-05-31T20:31:39.245362Z"
    }
   },
   "source": [
    "Substituindo esses valores na expressão \\eqref{eq:desvio_perc_v}, encontramos\n",
    "\n",
    "$$\n",
    "    D_v = \\left| \\frac{16{,}01\\,cm/s - 16{,}24\\,cm/s}{16{,}01\\,cm/s} \\right|\\cdot 100\\% = \\left| \\frac{-0{,}23\\,cm/s}{16{,}01\\,cm/s} \\right|\\cdot 100\\% = 0{,}01 \\cdot 100\\% = 1{,}00\\%\n",
    "$$"
   ]
  },
  {
   "cell_type": "markdown",
   "metadata": {
    "ExecuteTime": {
     "end_time": "2020-05-31T20:37:20.014332Z",
     "start_time": "2020-05-31T20:37:20.001929Z"
    }
   },
   "source": [
    "A conclusão que temos desse resultado é de que a velocidade obtida a partir dos dados experimentais quando comparada com aquela obtida a partir do modelo teórico proposto e ajustado é de apenas $1{,}00\\%$. Esse resultado nos mostra que os resultados obtidos a partir do modelo teórico desviam muito pouco do que é observado experimentalmente, e pode ser usado para descever o fenômeno observado."
   ]
  },
  {
   "cell_type": "markdown",
   "metadata": {},
   "source": [
    "## Comparação via $R^2$\n",
    "<a class='subsection' id='comparacao_via_r2'></a>"
   ]
  },
  {
   "cell_type": "markdown",
   "metadata": {},
   "source": [
    "O $R^2$, também conhecido como coeficiente de determinação, é um número que estima o quão bom o nosso ajuste matemático (nosso modelo teórico) concorda com os dados. Seu valor está entre 0 e 1 ($R^2 \\in [0,1]$), onde o primeiro indica uma discrepância total entre o modelo e os dados e o segundo caso um \"casasmento\" perfeito.\n",
    "Nessa seção iremos aprender como calcular essa quantidade e então ter uma medida quantitativa que nos diz sobre a qualidade do nosso modelo comparado com os dados."
   ]
  },
  {
   "cell_type": "markdown",
   "metadata": {},
   "source": [
    "A primeira etapa para se calcular o $R^2$ é calcular o valor médio dos dados observados, isto é, os dados que foram usados para ajustar o modelo teórico. No nosso caso esses correspondem aos dados experimentais, referentes às posições dos sensores, $S$. Assim, a primeira quantidade que devemos obter é:\n",
    "\n",
    "$$\n",
    "    \\bar{S} = \\frac{1}{n}\\sum\\limits_{i=1}^{n}S_i,\n",
    "$$\n",
    "\n",
    "isto é, a soma de todas as posições dos sensores dividida pelo número total de posições disponíveis, no caso $n=5$. Calculando essa quantidade, temos\n",
    "\n",
    "$$\n",
    "\\begin{split}\n",
    "    \\bar{S} &= \\frac{1}{5} \\left(0{,}00\\,cm + 15{,}00\\,cm + 30{,}00\\,cm + 45{,}00\\,cm + 60{,}00\\,cm \\right)\\\\\n",
    "    \\bar{S} &= \\frac{150{,}00\\,cm}{5}\\\\\n",
    "    \\bar{S} &= 30{,}00\\,cm.\n",
    "\\end{split}\n",
    "$$"
   ]
  },
  {
   "cell_type": "markdown",
   "metadata": {},
   "source": [
    "A segunda quantidade é a soma dos quadrados das diferenças entre os dados e o valor médio. Confuso? Para calcular essa quantidade, pegamos cada uma das posições dos sensores $[0{,}00, 15{,}00, 30{,}00, 45{,}00, 60{,}00]\\,cm$ e subtraímos da média que acabamos de calcular:\n",
    "\n",
    "$$\n",
    "    [0{,}00, 15{,}00, 30{,}00, 45{,}00, 60{,}00]\\,cm - 30{,}00\\,cm\n",
    "$$\n",
    "\n",
    "que nos fornecerá\n",
    "\n",
    "$$\n",
    "    [-30{,}00, -15{,}00, 0{,}00, 15{,}00, 30{,}00]\\,cm.\n",
    "$$\n",
    "\n",
    "Em seguida, cada um desses valores é elevado ao quadrado\n",
    "\n",
    "$$\n",
    "    [900{,}00, 225{,}00, 0{,}00, 225{,}00, 900{,}00]\\,cm^2\n",
    "$$\n",
    "\n",
    "e então são somados, resultando em $2.250{,}00\\,cm^2$.\n",
    "\n",
    "Em termos de uma única soma, escrevemos apenas\n",
    "\n",
    "$$\n",
    "    SS_{tot} = \\sum\\limits_{i=1}^{n}\\left( S_i - \\bar{S}\\right)^2,\n",
    "$$\n",
    "\n",
    "que, como já vimos, é \n",
    "\n",
    "$$\n",
    "    SS_{tot} = 2.250{,}00\\,cm^2.\n",
    "$$"
   ]
  },
  {
   "cell_type": "markdown",
   "metadata": {},
   "source": [
    "<!--A próxima quatidade que precisamos é muito parecida de se calcular quando comparada com a anterior. A única diferença é que ao invés de usar os dados experimentais, usamos os valores obtidos do modelo teórico, no nosso caso, os valores de $\\hat{S}$. Assim, temos que calcular a soma dos quadrados da regressão:\n",
    "\n",
    "$$\n",
    "    SS_{reg} = \\sum\\limits_{i=1}^{n} \\left(\\hat{S}_i - \\bar{S}\\right)^2.\n",
    "$$\n",
    "\n",
    "Usando os valores obtidos do modelo temos então:\n",
    "\n",
    "$$\n",
    "\\begin{split}\n",
    "    SS_{reg} &= \\left( 0{,}13\\,cm - 30{,}00\\,cm\\right)^2 \n",
    "              + \\left(14{,}84\\,cm - 30{,}00\\,cm\\right)^2 \n",
    "              + \\left(29{,}92\\,cm - 30{,}00\\,cm\\right)^2\\\\\n",
    "             &+ \\left(45{,}14\\,cm - 30{,}00\\,cm\\right)^2\n",
    "              + \\left(60{,}00\\,cm - 30{,}00\\,cm\\right)^2\\\\\n",
    "    SS_{reg} &= 2.251{,}27\\,cm^2\n",
    "\\end{split}\n",
    "$$ -->\n",
    "A próxima quantidade que precisamos é a soma dos quadrados dos resíduos. O resíduo é definido como sendo o valor do dado experimental menos o valor teórico. No nosso caso, o resíduo é definido como\n",
    "\n",
    "$$\n",
    "    e_i = S_i - \\hat{S}_i.\n",
    "$$\n",
    "\n",
    "Assim, temos que calcular a soma\n",
    "\n",
    "$$\n",
    "    SS_{res} = \\sum\\limits_{i=1}^{n} \\left( S_i - \\hat{S}_i \\right)^2 = \\sum\\limits_{i=1}^{n} e^2_i.\n",
    "$$\n",
    "\n",
    "Se observarmos bem, os resíduos já foram calculados no final da seção [7.1](#comecando_as_comparacoes). Usando os valores obtidos, temos\n",
    "\n",
    "\n",
    "$$\n",
    "\\begin{split}\n",
    "    SS_{res} &= \\left( -0{,}13\\,cm\\right)^2 \n",
    "              + \\left(  0{,}16\\,cm\\right)^2 \n",
    "              + \\left(  0{,}08\\,cm\\right)^2 \n",
    "              + \\left( -0{,}14\\,cm\\right)^2 \n",
    "              + \\left(  0{,}00\\,cm\\right)^2 \\\\\n",
    "    SS_{res} &= 0{,}07\\,cm^2.\n",
    "\\end{split}\n",
    "$$"
   ]
  },
  {
   "cell_type": "markdown",
   "metadata": {
    "ExecuteTime": {
     "end_time": "2020-05-31T22:17:23.176109Z",
     "start_time": "2020-05-31T22:17:23.169281Z"
    }
   },
   "source": [
    "Agora usamos a expressão\n",
    "\n",
    "$$\n",
    "    R^2 = 1 - \\frac{SS_{res}}{SS_{tot}}\n",
    "$$\n",
    "\n",
    "para calcular o coeficiente de determinação. Substituindo os valores das somas calculadas anteriorementes, temos\n",
    "\n",
    "$$\n",
    "    R^2 = 1 - \\frac{0{,}07\\,cm^2}{2.250{,}00\\,cm^2}\n",
    "$$\n",
    "\n",
    "E finalmente obtemos \n",
    "\n",
    "$$\n",
    "    R^2 = 1.\n",
    "$$\n",
    "\n",
    "Esse resultado nos informa que, quantitativamente, nosso ajuste realizado a partir de um modelo linear é perfeito. Esse resultado pode ser corroborado pelas análises feitas anteriormente: \n",
    "\n",
    "- as pequenas diferenças nos valores entre os dados experimentais e os valores teóricos ([7.1](#comparacoes_iniciais));\n",
    "- o colapso dos pontos experimentais e teóricos no gráfico ([7.2](#comparacao_via_grafico));\n",
    "- o desvio percentual baixíssimo entre as velocidades experimental e teórica ([7.3](#comparacao_via_desvio_percentual));"
   ]
  },
  {
   "cell_type": "markdown",
   "metadata": {},
   "source": [
    "# Conclusões\n",
    "<a class='section' id='conclusoes'></a>"
   ]
  },
  {
   "cell_type": "markdown",
   "metadata": {},
   "source": [
    "O experimento consistiu em obter dados das quatro realizações experimentais, onde foram aferidos os tempos em que o móvel levada para passar por cada um dos sensores. A partir desses, os tempos médios que levava para o móvel passar por cada um dos sensores foi calculado. Tínhamos como objetivo observar o tipo de comportamento entro a posição dos sensores ($S$) e o tempo ($t$) que levava para o móvel passar por eles. Para uma inspeção mais visual, confeccionamos um gráfico $S\\times t$, constatando uma relação linear entre essas quantidades."
   ]
  },
  {
   "cell_type": "markdown",
   "metadata": {
    "ExecuteTime": {
     "end_time": "2020-06-01T20:07:21.371626Z",
     "start_time": "2020-06-01T20:07:21.359286Z"
    }
   },
   "source": [
    "Propomos então um modelo linear para ajustar os dados experimentais. Usando as expressões proveninentes do método de mínimos quadrados, calculamos os coeficientes linear $a$ e angular $b$ da reta. Encontramos suas respectivas unidades e então escrevemos a equação do nosso modelo, ou seja, para estimar a posição do móvel em um instante de tempo $t$. A equação obtida foi\n",
    "\n",
    "$$\n",
    "    \\hat{S}(t) = \\left( 0{,}13\\,cm \\right) + \\left( 16{,}25\\,cm/s\\right) t.\n",
    "$$\n",
    "\n",
    "A partir dela, usamos os tempos médios encontrados experimentalmente e fizemos uma predição dos valores teóricos das posições. Essas foram comparadas às posições experimentais via gráfico, onde observamos uma boa concordância qualitativa. Contudo, precisamos de algo mais do que uma inspeção visual. Quantitativamente, comparamos as velocidades experimentais e proveninentes do modelo usando o desvio percentual. Os resultados obtidos foram de que o desvio entre essas quantidades era de $1{,}00\\%$, um valor muito pequeno, apontando na direção de que o modelo ajusta bem os dados. Por fim, calculamos o coeficiente de determinação $R^2$. O resultado encontrado corroborou com os anteriores, já que $R^2 = 1{,}00$ corresponde a uma descrição perfeita do modelo quando comparado com os dados experimentais.\n",
    "\n",
    "Verificamos que a equação horária de um movimento retilíneo com velocidade uniforme se adequou perfeitamente às observações experimentais."
   ]
  },
  {
   "cell_type": "markdown",
   "metadata": {},
   "source": [
    "# * Ajustando os dados com regressão linear\n",
    "<a class='section' id='ajustando_os_dados_com_regressao_linear'></a>"
   ]
  },
  {
   "cell_type": "markdown",
   "metadata": {},
   "source": [
    "Nessa seção extra, usaremos uma função já implementada para fazer a **regressão linear** a partir dos dados experimentais. Usaremos o pacote [``sklearn``](https://scikit-learn.org/stable/index.html) (*scikit-learn*), que possui várias ferramentas para **aprendizado de máquina** (*machine learning*). Apesar dessa seção ser breve, iremos separá-la em subseções para que o aprendizado do método seja fracionado e que os conceitos, em sua respectiva ordem, fiquem mais claros e para melhor referência em caso de dúvidas."
   ]
  },
  {
   "cell_type": "markdown",
   "metadata": {},
   "source": [
    "## Importanto os pacotes necessários\n",
    "<a class='subsection' id='importando_os_pacotes_necessarios'></a>"
   ]
  },
  {
   "cell_type": "markdown",
   "metadata": {
    "ExecuteTime": {
     "end_time": "2020-06-01T16:49:28.169563Z",
     "start_time": "2020-06-01T16:49:28.164741Z"
    }
   },
   "source": [
    "Na célula abaixo, vamos importar o objeto ``LinearRegression``. Para isso, procuramos dentro do pacote ``sklearn`` o módulo ``linear_model`` e importamos o objeto ``LinearRegression``:"
   ]
  },
  {
   "cell_type": "code",
   "execution_count": 451,
   "metadata": {
    "ExecuteTime": {
     "end_time": "2020-06-01T15:10:35.370306Z",
     "start_time": "2020-06-01T15:10:35.365255Z"
    }
   },
   "outputs": [],
   "source": [
    "from sklearn.linear_model import LinearRegression"
   ]
  },
  {
   "cell_type": "markdown",
   "metadata": {},
   "source": [
    "Para usar essa função, nossas variáveis dependentes (posição dos sensores, $S$) e independentes (tempo médio nos sensores, $\\bar{t}$) devem estar representadas como ``numpy arrays`` em uma forma específica. Vamos entender como transformar nossas listas de valores para o formato necessário. O pacote ``numpy`` já foi importado no começo desse módulo(Seção [2](#pacotes_e_funcoes)), mas vamos importá-lo novamente:"
   ]
  },
  {
   "cell_type": "code",
   "execution_count": 463,
   "metadata": {
    "ExecuteTime": {
     "end_time": "2020-06-01T18:18:26.227568Z",
     "start_time": "2020-06-01T18:18:26.221513Z"
    }
   },
   "outputs": [],
   "source": [
    "import numpy as np # importamos o pacote ``numpy`` como ``np``"
   ]
  },
  {
   "cell_type": "markdown",
   "metadata": {},
   "source": [
    "## Reestruturando os dados\n",
    "<a class='subsection' id='reestruturando_os_dados'></a>"
   ]
  },
  {
   "cell_type": "markdown",
   "metadata": {},
   "source": [
    "Vamos relembrar primeiramente dos nossos dados, invocando o ``DataFrame`` que definimos durante a seção [4](#analisando_os_dados_obtidos_com_python):"
   ]
  },
  {
   "cell_type": "code",
   "execution_count": 452,
   "metadata": {
    "ExecuteTime": {
     "end_time": "2020-06-01T15:15:18.948288Z",
     "start_time": "2020-06-01T15:15:18.938011Z"
    }
   },
   "outputs": [
    {
     "data": {
      "text/html": [
       "<div>\n",
       "<style scoped>\n",
       "    .dataframe tbody tr th:only-of-type {\n",
       "        vertical-align: middle;\n",
       "    }\n",
       "\n",
       "    .dataframe tbody tr th {\n",
       "        vertical-align: top;\n",
       "    }\n",
       "\n",
       "    .dataframe thead th {\n",
       "        text-align: right;\n",
       "    }\n",
       "</style>\n",
       "<table border=\"1\" class=\"dataframe\">\n",
       "  <thead>\n",
       "    <tr style=\"text-align: right;\">\n",
       "      <th></th>\n",
       "      <th>S [cm]</th>\n",
       "      <th>t1 [s]</th>\n",
       "      <th>t2 [s]</th>\n",
       "      <th>t3 [s]</th>\n",
       "      <th>t4 [s]</th>\n",
       "      <th>tempo médio [s]</th>\n",
       "    </tr>\n",
       "  </thead>\n",
       "  <tbody>\n",
       "    <tr>\n",
       "      <td>Sensor 1</td>\n",
       "      <td>0.0</td>\n",
       "      <td>0.000</td>\n",
       "      <td>0.000</td>\n",
       "      <td>0.000</td>\n",
       "      <td>0.000</td>\n",
       "      <td>0.000</td>\n",
       "    </tr>\n",
       "    <tr>\n",
       "      <td>Sensor 2</td>\n",
       "      <td>15.0</td>\n",
       "      <td>0.901</td>\n",
       "      <td>0.909</td>\n",
       "      <td>0.906</td>\n",
       "      <td>0.904</td>\n",
       "      <td>0.905</td>\n",
       "    </tr>\n",
       "    <tr>\n",
       "      <td>Sensor 3</td>\n",
       "      <td>30.0</td>\n",
       "      <td>1.836</td>\n",
       "      <td>1.840</td>\n",
       "      <td>1.824</td>\n",
       "      <td>1.831</td>\n",
       "      <td>1.833</td>\n",
       "    </tr>\n",
       "    <tr>\n",
       "      <td>Sensor 4</td>\n",
       "      <td>45.0</td>\n",
       "      <td>2.760</td>\n",
       "      <td>2.746</td>\n",
       "      <td>2.800</td>\n",
       "      <td>2.773</td>\n",
       "      <td>2.770</td>\n",
       "    </tr>\n",
       "    <tr>\n",
       "      <td>Sensor 5</td>\n",
       "      <td>60.0</td>\n",
       "      <td>3.658</td>\n",
       "      <td>3.620</td>\n",
       "      <td>3.776</td>\n",
       "      <td>3.684</td>\n",
       "      <td>3.684</td>\n",
       "    </tr>\n",
       "  </tbody>\n",
       "</table>\n",
       "</div>"
      ],
      "text/plain": [
       "          S [cm]  t1 [s]  t2 [s]  t3 [s]  t4 [s]  tempo médio [s]\n",
       "Sensor 1     0.0   0.000   0.000   0.000   0.000            0.000\n",
       "Sensor 2    15.0   0.901   0.909   0.906   0.904            0.905\n",
       "Sensor 3    30.0   1.836   1.840   1.824   1.831            1.833\n",
       "Sensor 4    45.0   2.760   2.746   2.800   2.773            2.770\n",
       "Sensor 5    60.0   3.658   3.620   3.776   3.684            3.684"
      ]
     },
     "execution_count": 452,
     "metadata": {},
     "output_type": "execute_result"
    }
   ],
   "source": [
    "df_dados"
   ]
  },
  {
   "cell_type": "markdown",
   "metadata": {},
   "source": [
    "As únicas colunas que nos interessam para criar o modelo linear, são ``S [cm]`` e ``tempo médio [s]``. Dessa forma, vamos criar duas novas variáveis, cada uma contendo os valores dessas colunas. Esse procedimento já foi realizado na seção [7.2](#comparacao_via_grafico) e aqui usaremos exatamente os mesmos nomes para as variaveis:"
   ]
  },
  {
   "cell_type": "code",
   "execution_count": null,
   "metadata": {},
   "outputs": [],
   "source": [
    "tempo_medio          = df_dados['tempo médio [s]'] # tempo médio do móvel em cada sensor\n",
    "posicao_experimental = df_dados['S [cm]']          # posição experimental do móvel"
   ]
  },
  {
   "cell_type": "markdown",
   "metadata": {},
   "source": [
    "Observe como são os valores dessas variáveis:"
   ]
  },
  {
   "cell_type": "code",
   "execution_count": 453,
   "metadata": {
    "ExecuteTime": {
     "end_time": "2020-06-01T15:37:03.920611Z",
     "start_time": "2020-06-01T15:37:03.914456Z"
    }
   },
   "outputs": [
    {
     "data": {
      "text/plain": [
       "Sensor 1    0.000\n",
       "Sensor 2    0.905\n",
       "Sensor 3    1.833\n",
       "Sensor 4    2.770\n",
       "Sensor 5    3.684\n",
       "Name: tempo médio [s], dtype: float64"
      ]
     },
     "execution_count": 453,
     "metadata": {},
     "output_type": "execute_result"
    }
   ],
   "source": [
    "tempo_medio"
   ]
  },
  {
   "cell_type": "code",
   "execution_count": 454,
   "metadata": {
    "ExecuteTime": {
     "end_time": "2020-06-01T15:37:12.299571Z",
     "start_time": "2020-06-01T15:37:12.291132Z"
    }
   },
   "outputs": [
    {
     "data": {
      "text/plain": [
       "Sensor 1     0.0\n",
       "Sensor 2    15.0\n",
       "Sensor 3    30.0\n",
       "Sensor 4    45.0\n",
       "Sensor 5    60.0\n",
       "Name: S [cm], dtype: float64"
      ]
     },
     "execution_count": 454,
     "metadata": {},
     "output_type": "execute_result"
    }
   ],
   "source": [
    "posicao_experimental"
   ]
  },
  {
   "cell_type": "markdown",
   "metadata": {},
   "source": [
    "Precisamos transformá-las para que elas sejam um ``numpy array`` da seguinte forma:\n",
    "\n",
    "```python\n",
    "array([[valor 1],\n",
    "       [valor 2],\n",
    "       [valor 3],\n",
    "          .\n",
    "          .\n",
    "          .\n",
    "       [valor n]])\n",
    "```\n",
    "\n",
    "Para isso, primeiramente usamos o método ``asarray()`` do pacote ``numpy`` que importamos como ``np``, veja como fica o código quando aplicado na variável ``tempo_medio``:"
   ]
  },
  {
   "cell_type": "code",
   "execution_count": 456,
   "metadata": {
    "ExecuteTime": {
     "end_time": "2020-06-01T15:43:54.457136Z",
     "start_time": "2020-06-01T15:43:54.447133Z"
    }
   },
   "outputs": [
    {
     "data": {
      "text/plain": [
       "array([0.   , 0.905, 1.833, 2.77 , 3.684])"
      ]
     },
     "execution_count": 456,
     "metadata": {},
     "output_type": "execute_result"
    }
   ],
   "source": [
    "np.asarray(tempo_medio)"
   ]
  },
  {
   "cell_type": "markdown",
   "metadata": {},
   "source": [
    "Quase lá! Agora precisamos reestruturar o ``array`` para que ele fique como o mostrado mais acima. Para isso, aplicamos o método ``reshape()`` com dois argumentos, ``-1`` e ``1``, respectivamente:"
   ]
  },
  {
   "cell_type": "code",
   "execution_count": 457,
   "metadata": {
    "ExecuteTime": {
     "end_time": "2020-06-01T15:46:10.923307Z",
     "start_time": "2020-06-01T15:46:10.918206Z"
    }
   },
   "outputs": [
    {
     "data": {
      "text/plain": [
       "array([[0.   ],\n",
       "       [0.905],\n",
       "       [1.833],\n",
       "       [2.77 ],\n",
       "       [3.684]])"
      ]
     },
     "execution_count": 457,
     "metadata": {},
     "output_type": "execute_result"
    }
   ],
   "source": [
    "np.asarray(tempo_medio).reshape(-1,1)"
   ]
  },
  {
   "cell_type": "markdown",
   "metadata": {},
   "source": [
    "Pronto! Transformamos nossa lista de valores inicial em um ``numpy array`` que pode ser usado no método de regressão linear do pacote ``sklearn``. Vamos então transformar nossas listas de valores em ``arrays`` e reestruturá-los em uma única linha de código e atribuí-los em novas variáveis:"
   ]
  },
  {
   "cell_type": "code",
   "execution_count": 459,
   "metadata": {
    "ExecuteTime": {
     "end_time": "2020-06-01T16:43:45.809653Z",
     "start_time": "2020-06-01T16:43:45.804148Z"
    }
   },
   "outputs": [],
   "source": [
    "array_tempo_medio          = np.asarray(tempo_medio).reshape(-1,1)\n",
    "array_posicao_experimental = np.asarray(posicao_experimental).reshape(-1,1)"
   ]
  },
  {
   "cell_type": "markdown",
   "metadata": {},
   "source": [
    "Temos então os ``arrays``:"
   ]
  },
  {
   "cell_type": "code",
   "execution_count": 460,
   "metadata": {
    "ExecuteTime": {
     "end_time": "2020-06-01T16:45:33.685027Z",
     "start_time": "2020-06-01T16:45:33.680796Z"
    }
   },
   "outputs": [
    {
     "data": {
      "text/plain": [
       "array([[0.   ],\n",
       "       [0.905],\n",
       "       [1.833],\n",
       "       [2.77 ],\n",
       "       [3.684]])"
      ]
     },
     "execution_count": 460,
     "metadata": {},
     "output_type": "execute_result"
    }
   ],
   "source": [
    "array_tempo_medio"
   ]
  },
  {
   "cell_type": "code",
   "execution_count": 461,
   "metadata": {
    "ExecuteTime": {
     "end_time": "2020-06-01T16:45:43.464554Z",
     "start_time": "2020-06-01T16:45:43.458160Z"
    }
   },
   "outputs": [
    {
     "data": {
      "text/plain": [
       "array([[ 0.],\n",
       "       [15.],\n",
       "       [30.],\n",
       "       [45.],\n",
       "       [60.]])"
      ]
     },
     "execution_count": 461,
     "metadata": {},
     "output_type": "execute_result"
    }
   ],
   "source": [
    "array_posicao_experimental"
   ]
  },
  {
   "cell_type": "markdown",
   "metadata": {},
   "source": [
    "Com isso estamos preparados para fazer a regressão linear, isto é, ajustar os dados a um modelo que supõe a equação de uma reta:\n",
    "\n",
    "$$\n",
    "    \\hat{y} = a + bx.\n",
    "$$\n",
    "\n",
    "Reescrevendo a equação desse modelo linear em termos das quantidades de interesse do nosso experimento, temos\n",
    "\n",
    "$$\n",
    "    \\hat{S} = a + b t.\n",
    "$$\n",
    "\n",
    "Se fizermos uma pequena análise dimensional, do lado direito, ambos os termos devem ter dimensão de $cm$. Dessa forma, temos\n",
    "\n",
    "$$\n",
    "    [a] = cm\n",
    "$$\n",
    "\n",
    "e, como medimos o tempo em segundos,\n",
    "\n",
    "$$\n",
    "    [b][t] = cm \\to [b] = \\frac{cm}{[t]} = \\frac{cm}{s}.\n",
    "$$\n",
    "\n",
    "Vemos então que $a$ possui dimensão de distância e $b$ possui dimensão de velocidade. Assim, reescrevemos nosso modelo linear como\n",
    "\n",
    "$$\n",
    "    \\hat{S} = \\hat{S}_0 + \\hat{v}t\n",
    "$$\n",
    "\n",
    "em que usamos $\\hat{}$ para sinalizar que as variáveis são provenientes de um modelo teórico. "
   ]
  },
  {
   "cell_type": "markdown",
   "metadata": {},
   "source": [
    "## Criando o objeto o regressão linear e fitando os dados ao modelo\n",
    "<a class='subsection' id='criando_o_objeto_de_regressao_linear_e_fitando_os_dados_ao_modelo'></a>"
   ]
  },
  {
   "cell_type": "markdown",
   "metadata": {},
   "source": [
    "O primeiro passo em criar um modelo para nossos dados usando o pacote ``sklearn`` é criar o objeto ``LinearRegression``. Para fazer isso, vamos atribuir esse objeto à variável que chamaremos de ``regressao``:"
   ]
  },
  {
   "cell_type": "code",
   "execution_count": 464,
   "metadata": {
    "ExecuteTime": {
     "end_time": "2020-06-01T18:58:05.031228Z",
     "start_time": "2020-06-01T18:58:05.027360Z"
    }
   },
   "outputs": [],
   "source": [
    "regressao = LinearRegression()"
   ]
  },
  {
   "cell_type": "markdown",
   "metadata": {},
   "source": [
    "O próximo passo agora é passar o método ``fit()`` a esse objeto com dois parâmetros: as variáveis independente e dependente, respectivamente. No nosso caso, temos\n",
    "\n",
    "```python\n",
    "    variável independente -> eixo x -> array_tempo_medio\n",
    "    variável dependente   -> eixo y -> array_posicao_experimental\n",
    "```\n",
    "\n",
    "Isso fará o ajuste do modelo linear (equação da reta) aos dados e nos fornecerá o modelo, com os coeficientes linear $a$ e angular $b$. Dessa forma, iremos atribuir esse fit, a criação do nosso modelo, à variável ``modelo``:"
   ]
  },
  {
   "cell_type": "code",
   "execution_count": 468,
   "metadata": {
    "ExecuteTime": {
     "end_time": "2020-06-01T19:04:51.840057Z",
     "start_time": "2020-06-01T19:04:51.835166Z"
    }
   },
   "outputs": [],
   "source": [
    "#        variáveis      independente: x    dependente: y                \n",
    "modelo = regression.fit(array_tempo_medio, array_posicao_experimental)"
   ]
  },
  {
   "cell_type": "markdown",
   "metadata": {},
   "source": [
    "Agora que nosso modelo foi criado, podemos ver quais os valores de $a$ e $b$ foram encontrados. O valor do coeficiente linear, é exatamente o valor em que a reta intercepta o eixo $y$, no nosso caso, seria a posição teórica inicial do móvel. Para obter essa quantidade então a partir do ``modelo``, usamos o código"
   ]
  },
  {
   "cell_type": "code",
   "execution_count": 469,
   "metadata": {
    "ExecuteTime": {
     "end_time": "2020-06-01T19:07:11.046824Z",
     "start_time": "2020-06-01T19:07:11.042494Z"
    }
   },
   "outputs": [
    {
     "data": {
      "text/plain": [
       "array([0.13415777])"
      ]
     },
     "execution_count": 469,
     "metadata": {},
     "output_type": "execute_result"
    }
   ],
   "source": [
    "# valor do coeficiente linear ``a``, valor onde o eixo y é interceptado\n",
    "modelo.intercept_"
   ]
  },
  {
   "cell_type": "markdown",
   "metadata": {},
   "source": [
    "Arredondando esse valor para dois algarismos significativos (caso surja alguma dúvida do motivo do arrendondamento, consulte a seção 2.6, pág. 15, Ref. [[1]](#mukai)):"
   ]
  },
  {
   "cell_type": "code",
   "execution_count": 470,
   "metadata": {
    "ExecuteTime": {
     "end_time": "2020-06-01T19:10:16.060188Z",
     "start_time": "2020-06-01T19:10:16.055419Z"
    }
   },
   "outputs": [
    {
     "data": {
      "text/plain": [
       "array([0.13])"
      ]
     },
     "execution_count": 470,
     "metadata": {},
     "output_type": "execute_result"
    }
   ],
   "source": [
    "modelo.intercept_.round(2)"
   ]
  },
  {
   "cell_type": "markdown",
   "metadata": {},
   "source": [
    "Observe que esse valor é exatamente o mesmo que encontramos usando a equação \\eqref{eq:coef_linear}.\n",
    "\n",
    "Para encontrar o valor do coeficiente angular, usamos o seguinte comando:"
   ]
  },
  {
   "cell_type": "code",
   "execution_count": 471,
   "metadata": {
    "ExecuteTime": {
     "end_time": "2020-06-01T19:15:53.839967Z",
     "start_time": "2020-06-01T19:15:53.833690Z"
    }
   },
   "outputs": [
    {
     "data": {
      "text/plain": [
       "array([[16.24556257]])"
      ]
     },
     "execution_count": 471,
     "metadata": {},
     "output_type": "execute_result"
    }
   ],
   "source": [
    "modelo.coef_"
   ]
  },
  {
   "cell_type": "markdown",
   "metadata": {},
   "source": [
    "E seu valor arredondado adequadamente se escreve"
   ]
  },
  {
   "cell_type": "code",
   "execution_count": 472,
   "metadata": {
    "ExecuteTime": {
     "end_time": "2020-06-01T19:17:26.055796Z",
     "start_time": "2020-06-01T19:17:26.050646Z"
    }
   },
   "outputs": [
    {
     "data": {
      "text/plain": [
       "array([[16.25]])"
      ]
     },
     "execution_count": 472,
     "metadata": {},
     "output_type": "execute_result"
    }
   ],
   "source": [
    "modelo.coef_.round(2)"
   ]
  },
  {
   "cell_type": "markdown",
   "metadata": {},
   "source": [
    "Por sua vez, esse valor também é idêntico ao encontrado usando a equação \\eqref{eq:coef_angular}."
   ]
  },
  {
   "cell_type": "markdown",
   "metadata": {},
   "source": [
    "Portanto, temos que \n",
    "\n",
    "$$\n",
    "\\begin{split}\n",
    "    \\hat{S}_0 &= \\phantom{0}0{,}13\\,cm\\\\\n",
    "    \\hat{v}   &= 16{,}25\\,cm/s.\n",
    "\\end{split}\n",
    "$$\n",
    "\n",
    "Dessa forma, nosso modelo é escrito como\n",
    "\n",
    "$$\n",
    "    \\hat{S}(t) = \\left( 0{,}13\\,cm \\right) + \\left( 16{,}25\\,cm/s \\right)t.\n",
    "$$"
   ]
  },
  {
   "cell_type": "markdown",
   "metadata": {},
   "source": [
    "Então, quando usarmos nosso ``modelo`` para fazer a predição dos valores de $\\hat{S}$, devemos usar os valores dos tempos em que o móvel passou pelos sensores. Se as posições preditas pelo modelo forem semelhantes às posições experimentais o nosso modelo linear é bom. Para fazer essa predição, usamos o método ``predict()`` e forncemos como paramêtro a variável independente, que no nosso caso são os tempos médios cronometrados nos sensores, atribuídos à variável ``array_tempo_medio``. O código fica assim"
   ]
  },
  {
   "cell_type": "code",
   "execution_count": 473,
   "metadata": {
    "ExecuteTime": {
     "end_time": "2020-06-01T19:32:08.208663Z",
     "start_time": "2020-06-01T19:32:08.205231Z"
    }
   },
   "outputs": [],
   "source": [
    "# guardamos os valores preditos usando os tempos medios na variável ``array_posicao_teorica``\n",
    "array_posicao_teorica = modelo.predict(array_tempo_medio)"
   ]
  },
  {
   "cell_type": "markdown",
   "metadata": {},
   "source": [
    "Vamos ver então quais foram os valore preditos pelo nosso modelo:"
   ]
  },
  {
   "cell_type": "code",
   "execution_count": 474,
   "metadata": {
    "ExecuteTime": {
     "end_time": "2020-06-01T19:32:53.553805Z",
     "start_time": "2020-06-01T19:32:53.545982Z"
    }
   },
   "outputs": [
    {
     "data": {
      "text/plain": [
       "array([[ 0.13415777],\n",
       "       [14.83639189],\n",
       "       [29.91227396],\n",
       "       [45.13436609],\n",
       "       [59.98281028]])"
      ]
     },
     "execution_count": 474,
     "metadata": {},
     "output_type": "execute_result"
    }
   ],
   "source": [
    "array_posicao_teorica"
   ]
  },
  {
   "cell_type": "markdown",
   "metadata": {},
   "source": [
    "Mais uma vez, arredondamos os valores das posições obtidas:"
   ]
  },
  {
   "cell_type": "code",
   "execution_count": 475,
   "metadata": {
    "ExecuteTime": {
     "end_time": "2020-06-01T19:33:55.304226Z",
     "start_time": "2020-06-01T19:33:55.298333Z"
    }
   },
   "outputs": [
    {
     "data": {
      "text/plain": [
       "array([[ 0.13],\n",
       "       [14.84],\n",
       "       [29.91],\n",
       "       [45.13],\n",
       "       [59.98]])"
      ]
     },
     "execution_count": 475,
     "metadata": {},
     "output_type": "execute_result"
    }
   ],
   "source": [
    "array_posicao_teorica.round(2)"
   ]
  },
  {
   "cell_type": "markdown",
   "metadata": {},
   "source": [
    "Vemos que esses valores são muito próximos aos valores experimentais, o que é um ótimo sinal da qualidade do ajuste. "
   ]
  },
  {
   "cell_type": "markdown",
   "metadata": {},
   "source": [
    "## Testando a qualidade do modelo: $R^2$ e gráfico\n",
    "<a class='subsection' id='testando_a_qualidade_do_modelo_r2_e_grafico'><a/>"
   ]
  },
  {
   "cell_type": "markdown",
   "metadata": {},
   "source": [
    "Podemos quantificar a qualidade do ajuste por meio do $R^2$ usando nosso ``modelo``. Para isso, basta usarmos o método ``score()`` e passar dois argumentos: as variáveis independente e a dependente, respectivmente. Assim, no nosso caso, temos"
   ]
  },
  {
   "cell_type": "code",
   "execution_count": 476,
   "metadata": {
    "ExecuteTime": {
     "end_time": "2020-06-01T19:37:10.474596Z",
     "start_time": "2020-06-01T19:37:10.465109Z"
    }
   },
   "outputs": [
    {
     "data": {
      "text/plain": [
       "0.9999685282180711"
      ]
     },
     "execution_count": 476,
     "metadata": {},
     "output_type": "execute_result"
    }
   ],
   "source": [
    "modelo.score(array_tempo_medio, array_posicao_experimental)"
   ]
  },
  {
   "cell_type": "markdown",
   "metadata": {},
   "source": [
    "Vemos então que esse é um valor muito próximo de um, que se for arredondado:"
   ]
  },
  {
   "cell_type": "code",
   "execution_count": 477,
   "metadata": {
    "ExecuteTime": {
     "end_time": "2020-06-01T19:38:01.854944Z",
     "start_time": "2020-06-01T19:38:01.848838Z"
    }
   },
   "outputs": [
    {
     "data": {
      "text/plain": [
       "1.0"
      ]
     },
     "execution_count": 477,
     "metadata": {},
     "output_type": "execute_result"
    }
   ],
   "source": [
    "modelo.score(array_tempo_medio, array_posicao_experimental).round(2)"
   ]
  },
  {
   "cell_type": "markdown",
   "metadata": {},
   "source": [
    "dá 1,0, como encontrado anteriormente.\n",
    "\n",
    "Por fim, podemos confeccionar um gráfico que mostra os valores experimentais e aqueles preditos pelo ``modelo``:"
   ]
  },
  {
   "cell_type": "code",
   "execution_count": 479,
   "metadata": {
    "ExecuteTime": {
     "end_time": "2020-06-01T19:40:29.435848Z",
     "start_time": "2020-06-01T19:40:29.053745Z"
    }
   },
   "outputs": [
    {
     "data": {
      "image/png": "[encoded data removed]",
      "text/plain": [
       "<Figure size 576x432 with 1 Axes>"
      ]
     },
     "metadata": {
      "needs_background": "light"
     },
     "output_type": "display_data"
    }
   ],
   "source": [
    "# primeiramente plotamos o gráfico com os dados experimentais\n",
    "plt.plot(\n",
    "    array_tempo_medio,          # primeiro argumento são os valores do eixo x\n",
    "    array_posicao_experimental, # segundo argumento são os valores do eixo y\n",
    "    marker='o',                 # tipo do ponto usado para marcar as coordenadas (x,y)\n",
    "    markersize=15,              # muda o tamanho dos pontos\n",
    "    markerfacecolor=\"#FFFFFF\",  # muda a cor interna dos pontos\n",
    "    lw=0,                       # faz a linha que liga os pontos ter espessura (width) 0\n",
    "    label='Dados experimentais' # nome para colocar na legenda\n",
    ");\n",
    "\n",
    "# agora plotamos os valores teóricos. Para cada posição téorica usamos os tempos médios respectivos\n",
    "plt.plot(\n",
    "    array_tempo_medio,      # primeiro argumento são os valores do eixo x\n",
    "    array_posicao_teorica,  # segundo argumento são os valores do eixo y\n",
    "    marker='x',             # tipo do ponto usado para marcar as coordenadas (x,y)\n",
    "    markersize=8,           # muda o tamanho dos pontos\n",
    "    color='#FF0000',        # muda a cor interna dos pontos\n",
    "    ls='--',                # muda o estilo da linha que liga os pontos para tracejado\n",
    "    label='Modelo ajustado' # nome para colocar na legenda\n",
    ")\n",
    "\n",
    "# adicionamos uma legenda para ajudar na leitura do gráfico\n",
    "# a legenda incluirá os ``label's`` adicionados em cada plot.\n",
    "plt.legend()\n",
    "\n",
    "# desenha as linhas que acompanham os valores nos eixos\n",
    "plt.grid()\n",
    "\n",
    "# é importante colocar o nome das quantidade nos eixos\n",
    "plt.xlabel('tempo, t [s]');\n",
    "plt.ylabel('posição, S [m]');\n",
    "plt.title('Posição do móvel em função do tempo.');"
   ]
  },
  {
   "cell_type": "markdown",
   "metadata": {},
   "source": [
    "Vemos que o modelo ajustado tem seus pontos coincidindo com os dados experimentais. Portanto, devido ao resultado quantitativo do coeficiente de determinação ser máximo, isto é, $R^2 = 1{,}00$ e uma inspeção gráfica nos mostrar que o modelo ajusta de fato os dados experimentais, concluímos que o modelo linear obtido descreve o fenônome do móvel andando sobre o trilho de ar, em uma dimensão com velocidade constante."
   ]
  }
 ],
 "metadata": {
  "author": "mes",
  "kernelspec": {
   "display_name": "Python 3",
   "language": "python",
   "name": "python3"
  },
  "language_info": {
   "codemirror_mode": {
    "name": "ipython",
    "version": 3
   },
   "file_extension": ".py",
   "mimetype": "text/x-python",
   "name": "python",
   "nbconvert_exporter": "python",
   "pygments_lexer": "ipython3",
   "version": "3.6.10"
  },
  "latex_envs": {
   "LaTeX_envs_menu_present": true,
   "autoclose": false,
   "autocomplete": true,
   "bibliofile": "biblio.bib",
   "cite_by": "apalike",
   "current_citInitial": 1,
   "eqLabelWithNumbers": true,
   "eqNumInitial": 1,
   "hotkeys": {
    "equation": "Ctrl-E",
    "itemize": "Ctrl-I"
   },
   "labels_anchors": false,
   "latex_user_defs": false,
   "report_style_numbering": false,
   "user_envs_cfg": false
  },
  "toc": {
   "base_numbering": 1,
   "nav_menu": {},
   "number_sections": true,
   "sideBar": true,
   "skip_h1_title": false,
   "title_cell": "Table of Contents",
   "title_sidebar": "Contents",
   "toc_cell": false,
   "toc_position": {},
   "toc_section_display": true,
   "toc_window_display": false
  },
  "varInspector": {
   "cols": {
    "lenName": 16,
    "lenType": 16,
    "lenVar": 40
   },
   "kernels_config": {
    "python": {
     "delete_cmd_postfix": "",
     "delete_cmd_prefix": "del ",
     "library": "var_list.py",
     "varRefreshCmd": "print(var_dic_list())"
    },
    "r": {
     "delete_cmd_postfix": ") ",
     "delete_cmd_prefix": "rm(",
     "library": "var_list.r",
     "varRefreshCmd": "cat(var_dic_list()) "
    }
   },
   "types_to_exclude": [
    "module",
    "function",
    "builtin_function_or_method",
    "instance",
    "_Feature"
   ],
   "window_display": false
  }
 },
 "nbformat": 4,
 "nbformat_minor": 4
}
