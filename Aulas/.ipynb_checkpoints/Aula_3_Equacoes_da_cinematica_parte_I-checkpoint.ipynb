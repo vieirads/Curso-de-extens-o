{
 "cells": [
  {
   "cell_type": "markdown",
   "metadata": {
    "ExecuteTime": {
     "end_time": "2020-06-13T18:36:59.400709Z",
     "start_time": "2020-06-13T18:36:59.397052Z"
    }
   },
   "source": [
    "<!--from IPython.core.display import display, HTML\n",
    "display(HTML(\"<style>.container { width:95% !important; }</style>\"))-->"
   ]
  },
  {
   "cell_type": "markdown",
   "metadata": {},
   "source": [
    "---\n",
    "\n",
    "**Sumário**\n",
    "- 1. [Equações da Cinemática - Parte I](#equacoes_da_cinematica_parte_i) <br>\n",
    "- 2. [Importando pacotes necessários](#pacotes_e_funcoes) <br>\n",
    "- 3. [Movimento retilíneo uniforme (MRU)](#MRU) <br>\n",
    "    - 3.1 [O experimento realizado](#o_experimento_realizado) <br>\n",
    "- 4. [Analisando os dados obtidos com python](#analisando_os_dados_obtidos_com_python) <br>\n",
    "    - 4.1 [Apresentando os dados](#apresentando_os_dados) <br>\n",
    "        - 4.1.1 [Posição dos sensores](#posicao_dos_sensores) <br>\n",
    "        - 4.1.2 [Tempo cronometrado nos sensores](#tempo_cronometrado_nos_sensores) <br>\n",
    "        - 4.1.3 [Calculando a média dos tempos nos sensores](#calculando_a_media_dos_tempos_nos_sensores) <br>\n",
    "- 5 [Confeccionando o gráfico $S \\times \\bar{t}$](#confeccionando_o_grafico_sxt) <br>\n",
    "- 6 [Ajuste do modelo linear](#ajuste_do_modelo_linear) <br>\n",
    "    - 6.1 [Método dos mínimos quadrados](#metodo_dos_minimos_quadrados) <br>\n",
    "    - 6.2 [Usando a função ``polyfit`` do ``numpy``](#usando_a_funcao_polyfit_do_numpy) <br>\n",
    "- 7 [Comparando o modelo com os dados](#comprando_o_modelo_com_os_dados) <br>\n",
    "    - 7.1 [Comparações iniciais](#comparacoes_iniciais) <br>\n",
    "    - 7.2 [Comparação via gráfico](#comparacao_via_grafico) <br>\n",
    "    - 7.3 [Comparação via desvio percentual](#comparacao_via_desvio_percentual) <br>\n",
    "    - 7.4 [Comparação via $R^2$](#comparacao_via_r2) <br>\n",
    "- 8 [Conclusões](#conclusoes)\n",
    "- 9 [* Ajustando os dados com regressão linear](#ajustando_os_dados_com_regressao_linear) <br>\n",
    "    - 9.1 [Importando os pacotes necessários](#importando_os_pacotes_necessarios) <br>\n",
    "    - 9.2 [Reestruturando os dados](#reestruturando_os_dados) <br>\n",
    "    - 9.3 [Criando o objeto de regressão linear e fitando os dados ao modelo](#criando_o_objeto_de_regressao_linear_e_fitando_os_dados_ao_modelo) <br>\n",
    "    - 9.4 [Testando a qualidade do modelo: $R^2$ e gráfico](#testando_a_qualidade_do_modelo_r2_e_grafico)"
   ]
  },
  {
   "cell_type": "markdown",
   "metadata": {},
   "source": [
    "# Equações da Cinemática - Parte I\n",
    "<a class=\"anchor\" id=\"equacoes_da_cinematica_parte_i\"></a>"
   ]
  },
  {
   "cell_type": "markdown",
   "metadata": {},
   "source": [
    "A **cinemática** é a parte da física que estuda o **movimento dos corpos** sem se preocupar com o que levou o objeto a adquirir tal movimento. Como veremos nos capítulos posteriores, que a causa por de trás do movimento dos corpos é o fato uma ou mais de forças atuarem nele e mudarem seu estado conforme o tempo passa. \n",
    "\n",
    "Nesses primeiros capítulos **analisaremos os dados obtidos** a partir de **experimentos previamente realizados** para obter as **equações de movimento** associadas ao objeto em questão. A obtenção dessas equações ilustrará como podemos **prever o comportamento** do objeto **em qualquer instante de tempo**, isto é, a posição em que se encontrará.\n",
    "\n",
    "Esse material é um complemento ao conteúdo do Cap. 3 (Pags. 22-38) do **Manual de Laboratório de Física Experimental I** [[1]](#mukai). \n",
    "\n",
    "<a class='citation' id='mukai' href=\"http://site.dfi.uem.br/wp-content/uploads/2018/04/Manual-de-Laborat%C3%B3rio-de-F%C3%ADsica-Experimental-I.pdf\">[1] Mukai, Hatsumi e Fernandes, Paulo R. G., <i>Manual de Laboratório de Física I</i>. Universidade Estadual de Maringá, Centro de Ciências Exatas, Departamento de Física (<b>2018</b>).</a>"
   ]
  },
  {
   "cell_type": "markdown",
   "metadata": {},
   "source": [
    "# Pacotes e Funções\n",
    "<a class=\"anchor\" id=\"pacotes_e_funcoes\"></a>"
   ]
  },
  {
   "cell_type": "markdown",
   "metadata": {},
   "source": [
    "A primeira ação a ser feita para nossas análises, é **importar** os **pacotes** que contêm as funções que precisaremos para lidar com os **dados coletados do experimento**."
   ]
  },
  {
   "cell_type": "code",
   "execution_count": 57,
   "metadata": {
    "ExecuteTime": {
     "end_time": "2020-06-13T19:43:49.974890Z",
     "start_time": "2020-06-13T19:43:49.966920Z"
    }
   },
   "outputs": [],
   "source": [
    "# pacotes para manipulação dos dados\n",
    "import pandas as pd\n",
    "import numpy as np\n",
    "\n",
    "# pacote para confecção de gráficos para visualizar os resultados\n",
    "# de uma maneira mais apreciável e criar nossos modelos\n",
    "import matplotlib.pyplot as plt\n",
    "\n",
    "# ajustando algumas configurações para melhor visualização dos gráficos\n",
    "plt.rcParams['font.size'] = 16                           # altera o tamanho das fontes na figura\n",
    "plt.rcParams['figure.figsize'] = 8, 6                    # altera o tamanho da figura\n",
    "plt.rcParams['axes.axisbelow'] = True                    # para desenhar os grids atrás das curvas e pontos\n",
    "for axis in ['xtick', 'ytick']:                          # loop para aplicar as mudanças nos eixos x e y\n",
    "    plt.rcParams['{}.major.size'.format(axis)] = 10      # altera o tamanho dos ticks maiores\n",
    "    plt.rcParams['{}.minor.size'.format(axis)] = 5       # altera o tamanho dos ticks menores\n",
    "    plt.rcParams['{}.minor.visible'.format(axis)] = True # faz os ticks menores ficarem visíveis"
   ]
  },
  {
   "cell_type": "markdown",
   "metadata": {},
   "source": [
    "# Movimento Retilíneo Uniforme (MRU)\n",
    "<a class=\"anchor\" id=\"MRU\"></a>"
   ]
  },
  {
   "cell_type": "markdown",
   "metadata": {
    "ExecuteTime": {
     "end_time": "2020-06-15T00:18:30.332819Z",
     "start_time": "2020-06-15T00:18:30.316286Z"
    }
   },
   "source": [
    "Nossos estudos, seja em qualquer disciplina, ocorrem gradualmente de assuntos mais simples e vão se tornando mais complexos/elaborados conforme avançamos. Em física, nossos estudos, em geral, iniciam-se com a Mecânica e nessa partem das **equações de movimento** de um corpo que se **desloca em linha reta (uma dimensão)** e com **velocidade constante**. \n",
    "\n",
    "A equação que estudaremos nesse experimento é dada pela seguinte expressão:\n",
    "\n",
    "$$\n",
    "    S(t) = S_0 + v t,\n",
    "    \\label{eq:mru}\n",
    "$$\n",
    "\n",
    "em que $S(t)$ é a posição em que nosso objeto/móvel se encontra em um instante de tempo $t$, $S_0$ é a posição inicial do objeto/móvel (no tempo inicial $t=0$) e $v$ é a velocidade do objeto/móvel, que permanece constante ao longo de todo percurso."
   ]
  },
  {
   "cell_type": "markdown",
   "metadata": {},
   "source": [
    "**Exemplo 1.** Um exemplo cotidiano e simples que \"traduz\" a expressão dada pela Eq. \\eqref{eq:mru} é a de um carro andando sempre com a mesma velocidade. Imagine que você esteja observando um carro com uma velocidade $v = 18\\, km/h = 5\\, m/s$, e que essa velocidade não muda, permanece constante por todo percurso. Quando ele passa em frente a sua casa, você aperta o botão do cronômetro. Esse será o instante inicial do movimento, o $t=0{,}00\\, s$, e a posição em que o carro se encontra no momento em que o cronômetro foi acionado é a posição inicial do carro $S_0$."
   ]
  },
  {
   "cell_type": "markdown",
   "metadata": {},
   "source": [
    "A partir desse ponto, o cronômetro continua registrando o tempo e o carro continua se movimentando, em linha reta, pela rua. A cada segundo que passa no seu cronômetro, o carro se desloca $5\\, m$. Se quisermos saber a posição do carro para qualquer tempo $t$, a partir do ponto $S_0$ que é sua casa, basta somarmos os incrementos na distância a cada segundo, devido ao movimento, com o valor inicial $S_0$. Nesse cenário, a Eq. \\eqref{eq:mru} fica escrita como\n",
    "\n",
    "$$\n",
    "    S(t) = S_0 + (5\\, m/s)t.\n",
    "$$"
   ]
  },
  {
   "cell_type": "markdown",
   "metadata": {},
   "source": [
    "O valor de $S_0$ é escolhido de maneira que os cálculos fiquem mais conveninentes. Por exemplo, ele pode ser escolhido na origem do sistema de coordenadas, de maneira que $S_0 = 0$ e, portanto,\n",
    "\n",
    "$$\n",
    "    S(t) = (5\\, m/s)t.\n",
    "    \\label{eq:carro}\n",
    "$$\n",
    "\n",
    "Portanto, no início da análise do movimento, no tempo $t=0$, o carro se encontra em frente a sua casa:\n",
    "\n",
    "$$\n",
    "    S(t=0) = (5\\, m/s)(0s) = 0 m,\n",
    "$$\n",
    "\n",
    "que corresponde exatamente a posição definida no começo da contagem do tempo: $S_0 = 0$."
   ]
  },
  {
   "cell_type": "markdown",
   "metadata": {},
   "source": [
    "Observe ainda que $S(t)$ é sempre uma posição final analisada, isto é, para um instante de tempo $t$ qualquer. Assim, podemos escrever\n",
    "\n",
    "$$\n",
    "    S(t) - S_0 = vt\n",
    "$$\n",
    "\n",
    "e como a posição final menos a inicial é uma variação na quantidade de espaço percorrido, podemos escrever:\n",
    "\n",
    "$$\n",
    "    \\Delta S (t) = vt.\n",
    "$$"
   ]
  },
  {
   "cell_type": "markdown",
   "metadata": {},
   "source": [
    "Essa equação nos diz que o deslocamento do carro após ser transcorrido um tempo $t$ é sempre o mesmo independente da escolha do ponto de referência inicial. Em outras palavras, se a velocidade permanecer $v = 5\\, m/s$ o carro sempre vai percorrer uma distância de $15\\, m$ quando os três segundos se passarem, independente do ponto de referência $S_0$ escolhido. "
   ]
  },
  {
   "cell_type": "markdown",
   "metadata": {},
   "source": [
    "A seguir, vamos analisar a equação de movimento do carro dada pela Eq. \\eqref{eq:carro} de forma gráfica utilizando o ``Python``. O gráfico do comportamento desse veículo quando colhemos os dados das posições em $t=[0,2,4,6,8,10]\\, s$, a partir de $S_0 = 0\\, m$. \n",
    "\n",
    "**a)** Definindo as variáveis, dependente e independente e confeccionando o gráfico digitando os dados.\n",
    "    \n",
    "Nossa **variável independente** é o **tempo** e a **variável dependente** é a posição do carro, que depende do tempo. Dessa forma, colocamos o tempo $t$ no eixo $x$ e a posição do carro $S(t)$ no eixo $y$."
   ]
  },
  {
   "cell_type": "code",
   "execution_count": 250,
   "metadata": {
    "ExecuteTime": {
     "end_time": "2020-05-31T14:36:31.699062Z",
     "start_time": "2020-05-31T14:36:31.381062Z"
    }
   },
   "outputs": [
    {
     "data": {
      "image/png": "[encoded data removed]",
      "text/plain": [
       "<Figure size 576x432 with 1 Axes>"
      ]
     },
     "metadata": {
      "needs_background": "light"
     },
     "output_type": "display_data"
    }
   ],
   "source": [
    "# variavel independente: eixo x, é o tempo que cronometramos\n",
    "tempos_cronometrados = [0, 2, 4, 6, 8, 10]\n",
    "# variavel dependente: eixo y, é a posição do carro\n",
    "def s(s0, v, t):\n",
    "    return s0 + v*t\n",
    "\n",
    "# calculamos os valores para a posição em função do tempo\n",
    "# usamos os valores de tempo cronometrados, encontrados \n",
    "# na lista definida acima - tempos_cronometrados - \n",
    "# para calcular os valores da posição do veículo. \n",
    "# Usaremos a posição inicial s0 = 0 m e a velocidade \n",
    "# constante v = 5,0 m/s. Para isso, usaremos uma\n",
    "# ``lista de compreensão`` (list comprehension)\n",
    "posicoes = [s(s0=0, v=5, t=t) for t in tempos_cronometrados];\n",
    "\n",
    "# confeccionando o gráfico\n",
    "plt.plot(\n",
    "    tempos_cronometrados,     # primeiro argumento são os valores do eixo x\n",
    "    posicoes,                 # segundo argumento são os valores do eixo y\n",
    "    marker='o',               # tipo do ponto usado para marcar as coordenadas (x,y)\n",
    "    markersize=10,            # muda o tamanho dos pontos\n",
    "    markerfacecolor=\"#FFFFFF\" # muda a cor interna dos pontos\n",
    ");\n",
    "\n",
    "# desenha as linhas que acompanham os valores nos eixos\n",
    "plt.grid()\n",
    "\n",
    "# é importante colocar o nome das quantidade nos eixos\n",
    "plt.xlabel('tempo, t [s]');\n",
    "plt.ylabel('posição, S [m]');\n",
    "plt.title('Posição do carro em função do tempo.');"
   ]
  },
  {
   "cell_type": "markdown",
   "metadata": {},
   "source": [
    "**Figura 1.** Gráfico da Posição $S$ (m) do carro versus tempo $t$ (s)."
   ]
  },
  {
   "cell_type": "markdown",
   "metadata": {},
   "source": [
    "Agora vamos criar o mesmo gráfico usando a biblioteca ``pandas``. O primeiro passo é criar um ``DataFrame`` e então adicionar as colunas com os dados que temos."
   ]
  },
  {
   "cell_type": "code",
   "execution_count": 249,
   "metadata": {
    "ExecuteTime": {
     "end_time": "2020-05-31T14:36:25.049505Z",
     "start_time": "2020-05-31T14:36:25.035080Z"
    }
   },
   "outputs": [
    {
     "data": {
      "text/html": [
       "<div>\n",
       "<style scoped>\n",
       "    .dataframe tbody tr th:only-of-type {\n",
       "        vertical-align: middle;\n",
       "    }\n",
       "\n",
       "    .dataframe tbody tr th {\n",
       "        vertical-align: top;\n",
       "    }\n",
       "\n",
       "    .dataframe thead th {\n",
       "        text-align: right;\n",
       "    }\n",
       "</style>\n",
       "<table border=\"1\" class=\"dataframe\">\n",
       "  <thead>\n",
       "    <tr style=\"text-align: right;\">\n",
       "      <th></th>\n",
       "      <th>tempo, t [s]</th>\n",
       "      <th>posição, S [m]</th>\n",
       "    </tr>\n",
       "  </thead>\n",
       "  <tbody>\n",
       "    <tr>\n",
       "      <td>0</td>\n",
       "      <td>0</td>\n",
       "      <td>0</td>\n",
       "    </tr>\n",
       "    <tr>\n",
       "      <td>1</td>\n",
       "      <td>2</td>\n",
       "      <td>10</td>\n",
       "    </tr>\n",
       "    <tr>\n",
       "      <td>2</td>\n",
       "      <td>4</td>\n",
       "      <td>20</td>\n",
       "    </tr>\n",
       "    <tr>\n",
       "      <td>3</td>\n",
       "      <td>6</td>\n",
       "      <td>30</td>\n",
       "    </tr>\n",
       "    <tr>\n",
       "      <td>4</td>\n",
       "      <td>8</td>\n",
       "      <td>40</td>\n",
       "    </tr>\n",
       "    <tr>\n",
       "      <td>5</td>\n",
       "      <td>10</td>\n",
       "      <td>50</td>\n",
       "    </tr>\n",
       "  </tbody>\n",
       "</table>\n",
       "</div>"
      ],
      "text/plain": [
       "   tempo, t [s]  posição, S [m]\n",
       "0             0               0\n",
       "1             2              10\n",
       "2             4              20\n",
       "3             6              30\n",
       "4             8              40\n",
       "5            10              50"
      ]
     },
     "execution_count": 249,
     "metadata": {},
     "output_type": "execute_result"
    }
   ],
   "source": [
    "# criamos um DataFrame usando o pandas -> pd.DataFrame\n",
    "df_dados_exemplo = pd.DataFrame()\n",
    "df_dados_exemplo['tempo, t [s]']   = tempos_cronometrados # adicionamos uma coluna com os tempos\n",
    "df_dados_exemplo['posição, S [m]'] = posicoes # adicionamos outra coluna com as posições\n",
    "\n",
    "df_dados_exemplo"
   ]
  },
  {
   "cell_type": "markdown",
   "metadata": {},
   "source": [
    "Observe que a mesma estrutura de dados pode ser criada usando um dicionário como argumento:\n",
    "\n",
    "```python\n",
    "pd.DataFrame({\n",
    "    'tempo, t [s]'  : tempos_cronometrados,\n",
    "    'posição, S [m]': posicoes\n",
    "})\n",
    "```"
   ]
  },
  {
   "cell_type": "code",
   "execution_count": 253,
   "metadata": {
    "ExecuteTime": {
     "end_time": "2020-05-31T14:39:30.776455Z",
     "start_time": "2020-05-31T14:39:30.464784Z"
    }
   },
   "outputs": [
    {
     "data": {
      "image/png": "[encoded data removed]",
      "text/plain": [
       "<Figure size 576x432 with 1 Axes>"
      ]
     },
     "metadata": {
      "needs_background": "light"
     },
     "output_type": "display_data"
    }
   ],
   "source": [
    "# agora confeccionamos o gráfico que nos diz\n",
    "# como a posição do carro evolui com o tempo\n",
    "df_dados_exemplo.plot(\n",
    "    x='tempo, t [s]',      # valores das variáveis independentes: eixo x\n",
    "    y='posição, S [m]',    # valores das variáveis dependentes: eixo y\n",
    "    kind='scatter',        # tipo do gráfico: pontos\n",
    "    s=150,                 # tamanho do ponto\n",
    "    c=\"none\",              # cor do interior do ponto\n",
    "    edgecolor='steelblue', # cor da borda dos pontos\n",
    "    grid=True,             # desenha as linhas que acompanham os valores nos eixos\n",
    "    title='Posição do carro em função do tempo.' # adiciona título ao gráfico\n",
    ");"
   ]
  },
  {
   "cell_type": "markdown",
   "metadata": {},
   "source": [
    "Observe que usando os dados provenientes de um ``pd.DataFrame`` confeccionamos o gráfico de maneira mais fácil e os ``labels`` dos eixos já são colocados automaticamente respeitando os nomes das colunas fornecidas."
   ]
  },
  {
   "cell_type": "markdown",
   "metadata": {},
   "source": [
    "Observe que se calcularmos o **coeficiente angular** dessa reta, obtemos exatamente a velocidade do carro. Para mostrar isso, podemos pegar quaisquer dois pontos do gráfico. Para nossa demonstração, iremos pegar os pontos:\n",
    "\n",
    "| tempo, $t$ [s] | posição, $S$ [m] |\n",
    "|:--------------:|:----------------:|\n",
    "|        4       |        20        |\n",
    "|        6       |        30        |\n",
    "\n",
    "O **coeficiente angular** $\\alpha$ é obtido calculando a expressão\n",
    "\n",
    "$$\n",
    "    \\alpha = \\frac{\\Delta y}{\\Delta x}.\n",
    "$$\n",
    "\n",
    "No caso do nosso exemplo, o coeficiente da reta é dado por\n",
    "\n",
    "$$\n",
    "    \\alpha = \\frac{\\Delta S}{\\Delta t}.\n",
    "$$\n",
    "\n",
    "Usando os dados na table acima, temos\n",
    "\n",
    "$$ \n",
    "    \\alpha = \\frac{30\\,m - 20\\,m}{6\\,s - 4\\,s} = \\frac{10\\,m}{2\\,s} = 5\\,m/s,\n",
    "$$\n",
    "\n",
    "que é igual a velocidade do carro. Então, em um movimento retilíneo uniforme, o coeficiente angular em um gráfico da posição em função do tempo ($S\\times t$) é igual a velocidade constante do veículo.\n",
    "\n",
    "No experimento descrito em [[1]](#mukai) faremos uma análise muito parecida com a que fizemos de maneira breve nessa sessão. "
   ]
  },
  {
   "cell_type": "markdown",
   "metadata": {},
   "source": [
    "## O experimento realizado\n",
    "<a class=\"anchor\" id=\"o_experimento_realizado\"></a>"
   ]
  },
  {
   "cell_type": "markdown",
   "metadata": {},
   "source": [
    "O experimento realizado no **Laboratório de Física Geral I** para se estudar o **movimento retilíneo uniforme (MRU)** tem como **objetivo** obter, a partir dos dados experimentais, uma função para a posição $S(t)$ de um móvel deslizando sobre um plano horizontal e sem atrito. A partir dos dados obtidos, iremos confeccionar um gráfico da posição em função do tempo (como feito na sessão anterior) para obter a velocidade (constante) do móvel. Iremos considerar em todos os nossos cálculos os conceitos da teoria de erros (Ref. [[1]](#mukai), Cap. 2, págs. 6-21).\n",
    "\n",
    "O experimento que seria abordado em laboratório, consiste, de maneira resumida, em um trilho de ar no qual um móvel desliza sem atrito. Esse móvel passa por sensores, cujas posições são conhecidas, de maneira que o tempo total do movimento seja cronometrada (para mais detalhes ler a descrição experimental na Ref. [[1]](#mukai), Cap. 3, págs. 32-36).\n",
    "\n",
    "No experimento, o primeiro sensor é posicionado a uma distância de $40,00\\,cm$ da posição inicial do móvel (em repouso). Os outros quatro sensores são dispostos no trilho de ar de maneira que entre eles tenha uma distância de $15,00\\,cm$. Assim, temos as posições dos sensores dadas por\n",
    "\n",
    "\\begin{equation*}\n",
    "    \\text{Sensor}\\, 1 \\to S = \\phantom{0}0 \\,cm\\\\\n",
    "    \\text{Sensor}\\, 2 \\to S = 15\\,cm\\\\\n",
    "    \\text{Sensor}\\, 3 \\to S = 30\\,cm\\\\\n",
    "    \\text{Sensor}\\, 4 \\to S = 45\\,cm\\\\\n",
    "    \\text{Sensor}\\, 5 \\to S = 60\\,cm\\\\\n",
    "\\end{equation*}"
   ]
  },
  {
   "cell_type": "markdown",
   "metadata": {},
   "source": [
    "No momento em que o móvel passa pelo primeiro sensor, o cronômetro é ativado ($t=0$). A análise do movimento desse móvel começa então exatamente nesse ponto, e portanto esse é o nosso ponto incial $S_0 = 0\\,cm$. \n",
    "\n",
    "Existe um barbante que passa por uma roldona e se prende a um peso. Para simular um movimento retilíneo uniforme, esse peso se encontra muito próximo à mesa, de modo que ele atinjá-a antes do móvel passar pelo primeiro sensor. É esse mecanismo que causa o movimento inicial do móvel e depois não existe mais nenhuma força externa resultante atuando sobre ele.\n",
    "\n",
    "Após o nivelamento do trilho, para garantir que o movimento é realizado na horizontal, a coleta dos dados consiste em anotar os tempos marcados/cronometrados nos sensores conforme o móvel passa por eles. Dessa forma, o experimento consiste em anotar os valores de tempo cronometrados para quando o móvel passa pelos sensores:\n",
    "\n",
    "\\begin{equation*}\n",
    "    \\text{Móvel passa pelo Sensor}\\ 1\\ (S = \\phantom{0}0\\,cm) \\to t = ?\\\\\n",
    "    \\text{Móvel passa pelo Sensor}\\ 2\\ (S = 15\\,cm) \\to t = ?\\\\\n",
    "    \\text{Móvel passa pelo Sensor}\\ 3\\ (S = 30\\,cm) \\to t = ?\\\\\n",
    "    \\text{Móvel passa pelo Sensor}\\ 4\\ (S = 45\\,cm) \\to t = ?\\\\\n",
    "    \\text{Móvel passa pelo Sensor}\\ 5\\ (S = 60\\,cm) \\to t = ?\\\\\n",
    "\\end{equation*}"
   ]
  },
  {
   "cell_type": "markdown",
   "metadata": {},
   "source": [
    "O experimento é realizado quatro vezes, de modo que teremos quatro tempos para cada um dos sensores. Devemos então anotar os valores na tabela abaixo:\n",
    "\n",
    "| $S\\ [cm]$ | $t_1\\, [s]$ | $t_2\\, [s]$ | $t_3\\, [s]$ | $t_4\\, [s]$ | $\\bar{t}, [s]$ |\n",
    "|:---------:|:-----------:|:-----------:|:-----------:|:-----------:|:--------------:|\n",
    "|      0,00 |             |             |             |             |                |\n",
    "|     15,00 |             |             |             |             |                |\n",
    "|     30,00 |             |             |             |             |                |\n",
    "|     45,00 |             |             |             |             |                |\n",
    "|     60,00 |             |             |             |             |                |\n",
    "\n",
    "Cada uma das colunas representa uma realização do experimento em que os tempos cronometrados pelos sensores conforme o móvel passa por eles deve ser anotado. Após as quatro realizações, devemos preencher o valor médio $\\bar{t}$, ou seja, a soma dos tempos aferido por um dado sensor. Por exemplo, o tempo médio para o segundo sensor, que se encontra em $15{,}00\\,cm$ seria a soma dos tempos na segunda linha da tabela dividido por quatro."
   ]
  },
  {
   "cell_type": "markdown",
   "metadata": {},
   "source": [
    "Após coletado os dados e calculado o valor médio do tempo em cada um dos sensores pelo qual o móvel passa, iremos analisar os resultados. Para isso,\n",
    "1. confeccionaremos um gráfico de $S \\times \\bar{t}$;\n",
    "2. identificar o tipo de relação entre essas variáveis (que deve ser linear);\n",
    "3. ajustaremos os dados a um modelo teórico (equação da reta) usando o método dos mínimos quadrados;\n",
    "4. realizar uma análise dimensional para idenfiticar a unidade do coeficiente angular da reta;\n",
    "5. escrever a equação final que melhor ajusta os dados coletados."
   ]
  },
  {
   "cell_type": "markdown",
   "metadata": {},
   "source": [
    "# Analisando os dados obtidos com python\n",
    "<a class=\"anchor\" id=\"analisando_os_dados_obtidos_com_python\"></a>"
   ]
  },
  {
   "cell_type": "markdown",
   "metadata": {},
   "source": [
    "Nessa seção iremos trabalhar com a análise dos dados do experimento do movimento retilíneo uniforme (MRU). Os dados trabalhados aqui foram obtidos por alunos de uma turma do primeiro ano de Engenharia Civil no ano de 2019. A partir de nossas análises, passo a passo, você deverá ganhar intuição e conseguir, com seus próprios dados experimentais fazer a mesma análise."
   ]
  },
  {
   "cell_type": "markdown",
   "metadata": {},
   "source": [
    "## Apresentando os dados\n",
    "<a class=\"anchor\" id=\"apresentando_os_dados\"></a>"
   ]
  },
  {
   "cell_type": "markdown",
   "metadata": {},
   "source": [
    "Os primeiros dados que temos desse experimento são as posições de cada um dos sensores. Assim, definiremos uma lista com os valores dessas posições."
   ]
  },
  {
   "cell_type": "markdown",
   "metadata": {},
   "source": [
    "### Posição dos sensores\n",
    "<a class=\"anchor\" id=\"posicao_dos_sensores\"></a>"
   ]
  },
  {
   "cell_type": "code",
   "execution_count": 3,
   "metadata": {
    "ExecuteTime": {
     "end_time": "2020-06-13T18:37:27.698347Z",
     "start_time": "2020-06-13T18:37:27.695562Z"
    }
   },
   "outputs": [
    {
     "data": {
      "text/plain": [
       "[0.0, 15.0, 30.0, 45.0, 60.0]"
      ]
     },
     "execution_count": 3,
     "metadata": {},
     "output_type": "execute_result"
    }
   ],
   "source": [
    "# lista com os valores das posições dos sensores\n",
    "# essa variável será a mesma para suas análises individuais\n",
    "posicao_sensores = [0.00, 15.00, 30.00, 45.00, 60.00] # em cm\n",
    "posicao_sensores"
   ]
  },
  {
   "cell_type": "markdown",
   "metadata": {},
   "source": [
    "### Tempo cronometrado nos sensores\n",
    "<a class=\"anchor\" id=\"tempo_cronometrado_nos_sensores\"></a>"
   ]
  },
  {
   "cell_type": "markdown",
   "metadata": {},
   "source": [
    "Os próximos dados são os tempos que foram anotados nos cronometros quando o móvel passava por cada um dos sensores. Para cada uma das realizações do experimento, definiremos uma lista da seguinte forma\n",
    "\n",
    "```python\n",
    "    tempos_realizacao_n = [\n",
    "        t_0,  # tempo no sensor 1 -  0.00cm\n",
    "        t_15, # tempo no sensor 2 - 15.00cm\n",
    "        t_30, # tempo no sensor 3 - 30.00cm\n",
    "        t_45, # tempo no sensor 4 - 45.00cm\n",
    "        t_60, # tempo no sensor 5 - 60.00cm\n",
    "                         ]\n",
    "```\n",
    "para a $n$-ésima realização experimental. \n",
    "\n",
    "Os dados colhidos pelos alunos, para as quatro realizações são escritas então em quatro listas:"
   ]
  },
  {
   "cell_type": "code",
   "execution_count": 4,
   "metadata": {
    "ExecuteTime": {
     "end_time": "2020-06-13T18:37:30.270465Z",
     "start_time": "2020-06-13T18:37:30.264141Z"
    }
   },
   "outputs": [],
   "source": [
    "#                      t_0    t_15   t_30   t_45   t_60\n",
    "tempos_realizacao_1 = [0.000, 0.901, 1.836, 2.760, 3.658]\n",
    "tempos_realizacao_2 = [0.000, 0.909, 1.840, 2.746, 3.620]\n",
    "tempos_realizacao_3 = [0.000, 0.906, 1.824, 2.800, 3.776]\n",
    "tempos_realizacao_4 = [0.000, 0.904, 1.831, 2.773, 3.684]"
   ]
  },
  {
   "cell_type": "markdown",
   "metadata": {},
   "source": [
    "Criamos agora um ``DataFrame`` usando o ``pandas`` para que os dados fiquem dispostos de uma forma que favoreça a visualização e as operações matemáticas que precisamos realizar."
   ]
  },
  {
   "cell_type": "code",
   "execution_count": 5,
   "metadata": {
    "ExecuteTime": {
     "end_time": "2020-06-13T18:37:32.420124Z",
     "start_time": "2020-06-13T18:37:32.400370Z"
    }
   },
   "outputs": [
    {
     "data": {
      "text/html": [
       "<div>\n",
       "<style scoped>\n",
       "    .dataframe tbody tr th:only-of-type {\n",
       "        vertical-align: middle;\n",
       "    }\n",
       "\n",
       "    .dataframe tbody tr th {\n",
       "        vertical-align: top;\n",
       "    }\n",
       "\n",
       "    .dataframe thead th {\n",
       "        text-align: right;\n",
       "    }\n",
       "</style>\n",
       "<table border=\"1\" class=\"dataframe\">\n",
       "  <thead>\n",
       "    <tr style=\"text-align: right;\">\n",
       "      <th></th>\n",
       "      <th>S [cm]</th>\n",
       "      <th>t1 [s]</th>\n",
       "      <th>t2 [s]</th>\n",
       "      <th>t3 [s]</th>\n",
       "      <th>t4 [s]</th>\n",
       "    </tr>\n",
       "  </thead>\n",
       "  <tbody>\n",
       "    <tr>\n",
       "      <td>0</td>\n",
       "      <td>0.0</td>\n",
       "      <td>0.000</td>\n",
       "      <td>0.000</td>\n",
       "      <td>0.000</td>\n",
       "      <td>0.000</td>\n",
       "    </tr>\n",
       "    <tr>\n",
       "      <td>1</td>\n",
       "      <td>15.0</td>\n",
       "      <td>0.901</td>\n",
       "      <td>0.909</td>\n",
       "      <td>0.906</td>\n",
       "      <td>0.904</td>\n",
       "    </tr>\n",
       "    <tr>\n",
       "      <td>2</td>\n",
       "      <td>30.0</td>\n",
       "      <td>1.836</td>\n",
       "      <td>1.840</td>\n",
       "      <td>1.824</td>\n",
       "      <td>1.831</td>\n",
       "    </tr>\n",
       "    <tr>\n",
       "      <td>3</td>\n",
       "      <td>45.0</td>\n",
       "      <td>2.760</td>\n",
       "      <td>2.746</td>\n",
       "      <td>2.800</td>\n",
       "      <td>2.773</td>\n",
       "    </tr>\n",
       "    <tr>\n",
       "      <td>4</td>\n",
       "      <td>60.0</td>\n",
       "      <td>3.658</td>\n",
       "      <td>3.620</td>\n",
       "      <td>3.776</td>\n",
       "      <td>3.684</td>\n",
       "    </tr>\n",
       "  </tbody>\n",
       "</table>\n",
       "</div>"
      ],
      "text/plain": [
       "   S [cm]  t1 [s]  t2 [s]  t3 [s]  t4 [s]\n",
       "0     0.0   0.000   0.000   0.000   0.000\n",
       "1    15.0   0.901   0.909   0.906   0.904\n",
       "2    30.0   1.836   1.840   1.824   1.831\n",
       "3    45.0   2.760   2.746   2.800   2.773\n",
       "4    60.0   3.658   3.620   3.776   3.684"
      ]
     },
     "execution_count": 5,
     "metadata": {},
     "output_type": "execute_result"
    }
   ],
   "source": [
    "# criamos o DataFrame\n",
    "df_dados = pd.DataFrame()\n",
    "\n",
    "# criamos cada coluna especificando um nome e atribuindo uma lista de valores \n",
    "df_dados['S [cm]'] = posicao_sensores\n",
    "df_dados['t1 [s]'] = tempos_realizacao_1\n",
    "df_dados['t2 [s]'] = tempos_realizacao_2\n",
    "df_dados['t3 [s]'] = tempos_realizacao_3\n",
    "df_dados['t4 [s]'] = tempos_realizacao_4\n",
    "\n",
    "df_dados"
   ]
  },
  {
   "cell_type": "code",
   "execution_count": 6,
   "metadata": {
    "ExecuteTime": {
     "end_time": "2020-06-13T18:37:34.627408Z",
     "start_time": "2020-06-13T18:37:34.620060Z"
    }
   },
   "outputs": [
    {
     "data": {
      "text/html": [
       "<div>\n",
       "<style scoped>\n",
       "    .dataframe tbody tr th:only-of-type {\n",
       "        vertical-align: middle;\n",
       "    }\n",
       "\n",
       "    .dataframe tbody tr th {\n",
       "        vertical-align: top;\n",
       "    }\n",
       "\n",
       "    .dataframe thead th {\n",
       "        text-align: right;\n",
       "    }\n",
       "</style>\n",
       "<table border=\"1\" class=\"dataframe\">\n",
       "  <thead>\n",
       "    <tr style=\"text-align: right;\">\n",
       "      <th></th>\n",
       "      <th>S [cm]</th>\n",
       "      <th>t1 [s]</th>\n",
       "      <th>t2 [s]</th>\n",
       "      <th>t3 [s]</th>\n",
       "      <th>t4 [s]</th>\n",
       "    </tr>\n",
       "  </thead>\n",
       "  <tbody>\n",
       "    <tr>\n",
       "      <td>Sensor 1</td>\n",
       "      <td>0.0</td>\n",
       "      <td>0.000</td>\n",
       "      <td>0.000</td>\n",
       "      <td>0.000</td>\n",
       "      <td>0.000</td>\n",
       "    </tr>\n",
       "    <tr>\n",
       "      <td>Sensor 2</td>\n",
       "      <td>15.0</td>\n",
       "      <td>0.901</td>\n",
       "      <td>0.909</td>\n",
       "      <td>0.906</td>\n",
       "      <td>0.904</td>\n",
       "    </tr>\n",
       "    <tr>\n",
       "      <td>Sensor 3</td>\n",
       "      <td>30.0</td>\n",
       "      <td>1.836</td>\n",
       "      <td>1.840</td>\n",
       "      <td>1.824</td>\n",
       "      <td>1.831</td>\n",
       "    </tr>\n",
       "    <tr>\n",
       "      <td>Sensor 4</td>\n",
       "      <td>45.0</td>\n",
       "      <td>2.760</td>\n",
       "      <td>2.746</td>\n",
       "      <td>2.800</td>\n",
       "      <td>2.773</td>\n",
       "    </tr>\n",
       "    <tr>\n",
       "      <td>Sensor 5</td>\n",
       "      <td>60.0</td>\n",
       "      <td>3.658</td>\n",
       "      <td>3.620</td>\n",
       "      <td>3.776</td>\n",
       "      <td>3.684</td>\n",
       "    </tr>\n",
       "  </tbody>\n",
       "</table>\n",
       "</div>"
      ],
      "text/plain": [
       "          S [cm]  t1 [s]  t2 [s]  t3 [s]  t4 [s]\n",
       "Sensor 1     0.0   0.000   0.000   0.000   0.000\n",
       "Sensor 2    15.0   0.901   0.909   0.906   0.904\n",
       "Sensor 3    30.0   1.836   1.840   1.824   1.831\n",
       "Sensor 4    45.0   2.760   2.746   2.800   2.773\n",
       "Sensor 5    60.0   3.658   3.620   3.776   3.684"
      ]
     },
     "execution_count": 6,
     "metadata": {},
     "output_type": "execute_result"
    }
   ],
   "source": [
    "# podemos mudar os índices também para lembrarmos o que cada linha representa\n",
    "df_dados.index = ['Sensor 1', 'Sensor 2', 'Sensor 3', 'Sensor 4', 'Sensor 5']\n",
    "\n",
    "df_dados"
   ]
  },
  {
   "cell_type": "markdown",
   "metadata": {},
   "source": [
    "### Calculando a média dos tempos nos sensores\n",
    "<a class=\"anchor\" id=\"calculando_a_media_dos_tempos_nos_sensores\"></a>"
   ]
  },
  {
   "cell_type": "markdown",
   "metadata": {},
   "source": [
    "A próxima etapa é calcular a média dos tempos que leva para o móvel passar no mesmo sensor. Para isso, selecionamos os valores dos tempos de um dos sensores, por exemplo, o sensor da posição $15{,}00\\,cm$, somamos seus valores e dividimos pelo número de realizações do experimento, ou seja, 4:\n",
    "\n",
    "$$\n",
    "    \\text{Média do tempo para o Sensor 2 }(15{,}00\\,cm)\\\\\n",
    "    \\frac{0.901\\,s+0.909\\,s+0.906\\,s+0.904\\,s}{4} = \\frac{3.620\\,s}{4} = 0.905\\,s.\n",
    "$$"
   ]
  },
  {
   "cell_type": "markdown",
   "metadata": {},
   "source": [
    "Em ``python`` muitas vezes conseguimos executar uma tarefa usando diferentes ferramentas. Nesse nosso caso, poderíamos calcular a média dos tempos \"na mão\", digitando os valores para cada sensor e suas respectivas realizações, como feito no exemplo assim. Usando ``listas``, calcularíamos a média de tempos no sensor 2 da seguinte forma:"
   ]
  },
  {
   "cell_type": "code",
   "execution_count": 13,
   "metadata": {
    "ExecuteTime": {
     "end_time": "2020-06-13T18:14:48.175370Z",
     "start_time": "2020-06-13T18:14:48.169566Z"
    }
   },
   "outputs": [
    {
     "data": {
      "text/plain": [
       "0.905"
      ]
     },
     "execution_count": 13,
     "metadata": {},
     "output_type": "execute_result"
    }
   ],
   "source": [
    "# criamos uma lista com os valores dos tempos para o sensor 2\n",
    "tempos_sensor_2 = [0.901, 0.909, 0.906, 0.904]\n",
    "\n",
    "# somamos os valores da lista usando a função ``sum``\n",
    "soma_dos_tempos_sensor_2 = sum(tempos_sensor_2)\n",
    "\n",
    "# e dividimos o resultado da soma pelo número de realizações: 4\n",
    "soma_dos_tempos_sensor_2/4"
   ]
  },
  {
   "cell_type": "markdown",
   "metadata": {},
   "source": [
    "Fácil, não? Contudo, imagine que tivéssemos vários sensores, em torno de 100. Essa tarefa poderia se tornar exaustiva. Algo que ajudaria seria definir uma função que recebesse os valores dos tempos e já nos retornasse o valor médio. Vamos defini tal função."
   ]
  },
  {
   "cell_type": "code",
   "execution_count": 183,
   "metadata": {
    "ExecuteTime": {
     "end_time": "2020-05-30T17:42:59.432844Z",
     "start_time": "2020-05-30T17:42:59.429533Z"
    }
   },
   "outputs": [],
   "source": [
    "def tempo_medio_sensor(lista):\n",
    "    \"\"\"\n",
    "    Função que calcular o valor médio dos tempos para um dado sensor.\n",
    "    \n",
    "    Argumento:\n",
    "    ----------\n",
    "    lista - list: lista com os valores dos tempos marcados no sensor em questão\n",
    "                  quando o móvel passa por ele\n",
    "                  \n",
    "    Retorno:\n",
    "    --------\n",
    "    tempo médio - float: tempo média que leva para o móvel passar pelo sensor em questão.\n",
    "    \"\"\"\n",
    "    # sum(lista) - calcula a soma dos valores da lista, i.e., dos tempos\n",
    "    # len(lista) - retorna o tamanho da lista, i.e., o número de elementos que ela possui.\n",
    "    #              No nosso caso, o tamanho da lista é o número de experimentos que foram\n",
    "    #              realizados.\n",
    "    return sum(lista)/len(lista)"
   ]
  },
  {
   "cell_type": "markdown",
   "metadata": {},
   "source": [
    "Agora basta calcular o tempo médio para cada um dos sensores. Usando, mais uma vez, o sensor 2 como exemplo:"
   ]
  },
  {
   "cell_type": "code",
   "execution_count": 184,
   "metadata": {
    "ExecuteTime": {
     "end_time": "2020-05-30T17:44:16.375960Z",
     "start_time": "2020-05-30T17:44:16.365406Z"
    }
   },
   "outputs": [
    {
     "data": {
      "text/plain": [
       "0.905"
      ]
     },
     "execution_count": 184,
     "metadata": {},
     "output_type": "execute_result"
    }
   ],
   "source": [
    "# definimos um pouco acima tempos_sensor_2 = [0.901, 0.909, 0.906, 0.904]\n",
    "tempo_medio_sensor(tempos_sensor_2)"
   ]
  },
  {
   "cell_type": "markdown",
   "metadata": {},
   "source": [
    "Isso já melhora um pouco e evita algumas etapas no processo. Contudo, ainda teríamos que calcular a média de tempo de sensor por sensor. Existe um método muito mais conveniente para nos ajudar nessa tarefa (e evitar a fadiga). Usando a estrutura de ``DataFrame`` do ``pandas``, várias tarefas que podem ser maçantes acabam se tornando triviais. Podemos, com apenas uma linha de código, calcular o valor médio dos tempos de todos os sensores:"
   ]
  },
  {
   "cell_type": "code",
   "execution_count": 7,
   "metadata": {
    "ExecuteTime": {
     "end_time": "2020-06-13T18:37:40.370299Z",
     "start_time": "2020-06-13T18:37:40.363063Z"
    }
   },
   "outputs": [
    {
     "data": {
      "text/html": [
       "<div>\n",
       "<style scoped>\n",
       "    .dataframe tbody tr th:only-of-type {\n",
       "        vertical-align: middle;\n",
       "    }\n",
       "\n",
       "    .dataframe tbody tr th {\n",
       "        vertical-align: top;\n",
       "    }\n",
       "\n",
       "    .dataframe thead th {\n",
       "        text-align: right;\n",
       "    }\n",
       "</style>\n",
       "<table border=\"1\" class=\"dataframe\">\n",
       "  <thead>\n",
       "    <tr style=\"text-align: right;\">\n",
       "      <th></th>\n",
       "      <th>t1 [s]</th>\n",
       "      <th>t2 [s]</th>\n",
       "      <th>t3 [s]</th>\n",
       "      <th>t4 [s]</th>\n",
       "    </tr>\n",
       "  </thead>\n",
       "  <tbody>\n",
       "    <tr>\n",
       "      <td>Sensor 1</td>\n",
       "      <td>0.000</td>\n",
       "      <td>0.000</td>\n",
       "      <td>0.000</td>\n",
       "      <td>0.000</td>\n",
       "    </tr>\n",
       "    <tr>\n",
       "      <td>Sensor 2</td>\n",
       "      <td>0.901</td>\n",
       "      <td>0.909</td>\n",
       "      <td>0.906</td>\n",
       "      <td>0.904</td>\n",
       "    </tr>\n",
       "    <tr>\n",
       "      <td>Sensor 3</td>\n",
       "      <td>1.836</td>\n",
       "      <td>1.840</td>\n",
       "      <td>1.824</td>\n",
       "      <td>1.831</td>\n",
       "    </tr>\n",
       "    <tr>\n",
       "      <td>Sensor 4</td>\n",
       "      <td>2.760</td>\n",
       "      <td>2.746</td>\n",
       "      <td>2.800</td>\n",
       "      <td>2.773</td>\n",
       "    </tr>\n",
       "    <tr>\n",
       "      <td>Sensor 5</td>\n",
       "      <td>3.658</td>\n",
       "      <td>3.620</td>\n",
       "      <td>3.776</td>\n",
       "      <td>3.684</td>\n",
       "    </tr>\n",
       "  </tbody>\n",
       "</table>\n",
       "</div>"
      ],
      "text/plain": [
       "          t1 [s]  t2 [s]  t3 [s]  t4 [s]\n",
       "Sensor 1   0.000   0.000   0.000   0.000\n",
       "Sensor 2   0.901   0.909   0.906   0.904\n",
       "Sensor 3   1.836   1.840   1.824   1.831\n",
       "Sensor 4   2.760   2.746   2.800   2.773\n",
       "Sensor 5   3.658   3.620   3.776   3.684"
      ]
     },
     "execution_count": 7,
     "metadata": {},
     "output_type": "execute_result"
    }
   ],
   "source": [
    "# primeiramente selecionamos somente as colunas com os tempos\n",
    "df_dados[['t1 [s]', 't2 [s]', 't3 [s]', 't4 [s]']]"
   ]
  },
  {
   "cell_type": "markdown",
   "metadata": {},
   "source": [
    "Veja que o ``DataFrame`` acima contém somente as colunas dos tempos, que são os valores que nos interessam para o cálculo das médias em cada um dos sensores. Temos então que calcular a média dos valores levando em consideração todos os valores de uma mesma linha, isto é, de um mesmo sensor. Para isso, basta aplicarmos o método ``mean()`` no ``DataFrame`` ``df_dados`` e especificar o eixo, que nesse caso é o horizontal ``axis=1``:"
   ]
  },
  {
   "cell_type": "code",
   "execution_count": 8,
   "metadata": {
    "ExecuteTime": {
     "end_time": "2020-06-13T18:37:43.122352Z",
     "start_time": "2020-06-13T18:37:43.112451Z"
    }
   },
   "outputs": [
    {
     "data": {
      "text/plain": [
       "Sensor 1    0.00000\n",
       "Sensor 2    0.90500\n",
       "Sensor 3    1.83275\n",
       "Sensor 4    2.76975\n",
       "Sensor 5    3.68450\n",
       "dtype: float64"
      ]
     },
     "execution_count": 8,
     "metadata": {},
     "output_type": "execute_result"
    }
   ],
   "source": [
    "df_dados[['t1 [s]', 't2 [s]', 't3 [s]', 't4 [s]']].mean(axis=1)"
   ]
  },
  {
   "cell_type": "markdown",
   "metadata": {},
   "source": [
    "E pronto! Agora, para adicionarmos essa nova coluna de valores ao nosso ``DataFrame``, basta usarmos a mesma ``sintaxe`` que usamos para adicionar uma coluna a um ``DataFrame``:"
   ]
  },
  {
   "cell_type": "code",
   "execution_count": 9,
   "metadata": {
    "ExecuteTime": {
     "end_time": "2020-06-13T18:37:44.821707Z",
     "start_time": "2020-06-13T18:37:44.811813Z"
    }
   },
   "outputs": [
    {
     "data": {
      "text/html": [
       "<div>\n",
       "<style scoped>\n",
       "    .dataframe tbody tr th:only-of-type {\n",
       "        vertical-align: middle;\n",
       "    }\n",
       "\n",
       "    .dataframe tbody tr th {\n",
       "        vertical-align: top;\n",
       "    }\n",
       "\n",
       "    .dataframe thead th {\n",
       "        text-align: right;\n",
       "    }\n",
       "</style>\n",
       "<table border=\"1\" class=\"dataframe\">\n",
       "  <thead>\n",
       "    <tr style=\"text-align: right;\">\n",
       "      <th></th>\n",
       "      <th>S [cm]</th>\n",
       "      <th>t1 [s]</th>\n",
       "      <th>t2 [s]</th>\n",
       "      <th>t3 [s]</th>\n",
       "      <th>t4 [s]</th>\n",
       "      <th>tempo médio [s]</th>\n",
       "    </tr>\n",
       "  </thead>\n",
       "  <tbody>\n",
       "    <tr>\n",
       "      <td>Sensor 1</td>\n",
       "      <td>0.0</td>\n",
       "      <td>0.000</td>\n",
       "      <td>0.000</td>\n",
       "      <td>0.000</td>\n",
       "      <td>0.000</td>\n",
       "      <td>0.000</td>\n",
       "    </tr>\n",
       "    <tr>\n",
       "      <td>Sensor 2</td>\n",
       "      <td>15.0</td>\n",
       "      <td>0.901</td>\n",
       "      <td>0.909</td>\n",
       "      <td>0.906</td>\n",
       "      <td>0.904</td>\n",
       "      <td>0.905</td>\n",
       "    </tr>\n",
       "    <tr>\n",
       "      <td>Sensor 3</td>\n",
       "      <td>30.0</td>\n",
       "      <td>1.836</td>\n",
       "      <td>1.840</td>\n",
       "      <td>1.824</td>\n",
       "      <td>1.831</td>\n",
       "      <td>1.833</td>\n",
       "    </tr>\n",
       "    <tr>\n",
       "      <td>Sensor 4</td>\n",
       "      <td>45.0</td>\n",
       "      <td>2.760</td>\n",
       "      <td>2.746</td>\n",
       "      <td>2.800</td>\n",
       "      <td>2.773</td>\n",
       "      <td>2.770</td>\n",
       "    </tr>\n",
       "    <tr>\n",
       "      <td>Sensor 5</td>\n",
       "      <td>60.0</td>\n",
       "      <td>3.658</td>\n",
       "      <td>3.620</td>\n",
       "      <td>3.776</td>\n",
       "      <td>3.684</td>\n",
       "      <td>3.684</td>\n",
       "    </tr>\n",
       "  </tbody>\n",
       "</table>\n",
       "</div>"
      ],
      "text/plain": [
       "          S [cm]  t1 [s]  t2 [s]  t3 [s]  t4 [s]  tempo médio [s]\n",
       "Sensor 1     0.0   0.000   0.000   0.000   0.000            0.000\n",
       "Sensor 2    15.0   0.901   0.909   0.906   0.904            0.905\n",
       "Sensor 3    30.0   1.836   1.840   1.824   1.831            1.833\n",
       "Sensor 4    45.0   2.760   2.746   2.800   2.773            2.770\n",
       "Sensor 5    60.0   3.658   3.620   3.776   3.684            3.684"
      ]
     },
     "execution_count": 9,
     "metadata": {},
     "output_type": "execute_result"
    }
   ],
   "source": [
    "# especificamos um nome para a nova coluna e atribuímos os valores que serão dispostos nessa nova coluna\n",
    "df_dados['tempo médio [s]'] = df_dados[['t1 [s]', 't2 [s]', 't3 [s]', 't4 [s]']].mean(axis=1).round(3)\n",
    "\n",
    "df_dados"
   ]
  },
  {
   "cell_type": "markdown",
   "metadata": {},
   "source": [
    "O último método ``round()`` com argumento ``3``, foi para arredondar os valores obtidos, levando em consideração os algarismos significativos."
   ]
  },
  {
   "cell_type": "markdown",
   "metadata": {},
   "source": [
    "# Confeccionando o gráfico $S \\times \\bar{t}$\n",
    "<a class=\"anchor\" id=\"confeccionando_o_grafico_sxt\"></a>"
   ]
  },
  {
   "cell_type": "markdown",
   "metadata": {},
   "source": [
    "Como tempos o ``DataFrame`` com os valores da posição $s$ e do tempo médio $\\bar{t}$ é fácil confeccionarmos o gráfico que estamos interessados (ver final da seção [3.1](#breve_revisao_teorica))."
   ]
  },
  {
   "cell_type": "code",
   "execution_count": 58,
   "metadata": {
    "ExecuteTime": {
     "end_time": "2020-06-13T19:44:03.035937Z",
     "start_time": "2020-06-13T19:44:02.736544Z"
    }
   },
   "outputs": [
    {
     "data": {
      "image/png": "[encoded data removed]",
      "text/plain": [
       "<Figure size 576x432 with 1 Axes>"
      ]
     },
     "metadata": {
      "needs_background": "light"
     },
     "output_type": "display_data"
    }
   ],
   "source": [
    "df_dados.plot(\n",
    "    x='tempo médio [s]',   # valores das variáveis independentes: eixo x\n",
    "    y='S [cm]',            # valores das variáveis dependentes: eixo y\n",
    "    kind='scatter',        # tipo do gráfico: pontos\n",
    "    s=150,                 # tamanho do ponto\n",
    "    c=\"none\",              # cor do interior do ponto\n",
    "    edgecolor='steelblue', # cor da borda dos pontos\n",
    "    grid=True,             # desenha as linhas que acompanham os valores nos eixos\n",
    "    title='Posição do móvel em função do tempo', # título do gráfico\n",
    ");"
   ]
  },
  {
   "cell_type": "markdown",
   "metadata": {},
   "source": [
    "Vemos claramente que o tipo de relação é **linear**!\n",
    "Dessa forma, podemos agora usar o método dos mínimos quadrados (Ref. [[1]](#mukai) Cap. 3 Págs. 26-29) para o caso da equação da reta e encontrar os coeficientes angular e linear."
   ]
  },
  {
   "cell_type": "markdown",
   "metadata": {},
   "source": [
    "# Ajuste do modelo linear\n",
    "<a class=\"anchor\" id=\"ajuste_do_modelo_linear\"></a>"
   ]
  },
  {
   "cell_type": "markdown",
   "metadata": {},
   "source": [
    "Nosso objetivo nessa seção é encontrar uma reta que passe pela maior quantidade de pontos experimentais possível. Para isso, iremos ajustar uma reta\n",
    "\n",
    "$$\n",
    "    y = a + bx,\n",
    "$$\n",
    "\n",
    "em que $a$ e $b$ são os coeficientes linear e angular, respectivamente. Quando dissermos ajustar, queremos dizer que queremos encontrar os melhores valore de $a$ e $b$ qe façam a reta de ajuste ficar mais próxima possível dos dados. Veja o gráfico abaixo e tente mudar os coeficientes para que a reta vermelha se ajuste de maneira mais razoável aos dados."
   ]
  },
  {
   "cell_type": "code",
   "execution_count": 59,
   "metadata": {
    "ExecuteTime": {
     "end_time": "2020-06-13T19:47:00.414046Z",
     "start_time": "2020-06-13T19:47:00.228916Z"
    }
   },
   "outputs": [
    {
     "data": {
      "text/html": [
       "\n",
       "    <div class=\"bk-root\">\n",
       "        <a href=\"https://bokeh.pydata.org\" target=\"_blank\" class=\"bk-logo bk-logo-small bk-logo-notebook\"></a>\n",
       "        <span id=\"15975\">Loading BokehJS ...</span>\n",
       "    </div>"
      ]
     },
     "metadata": {},
     "output_type": "display_data"
    },
    {
     "data": {
      "application/javascript": [
       "\n",
       "(function(root) {\n",
       "  function now() {\n",
       "    return new Date();\n",
       "  }\n",
       "\n",
       "  var force = true;\n",
       "\n",
       "  if (typeof root._bokeh_onload_callbacks === \"undefined\" || force === true) {\n",
       "    root._bokeh_onload_callbacks = [];\n",
       "    root._bokeh_is_loading = undefined;\n",
       "  }\n",
       "\n",
       "  var JS_MIME_TYPE = 'application/javascript';\n",
       "  var HTML_MIME_TYPE = 'text/html';\n",
       "  var EXEC_MIME_TYPE = 'application/vnd.bokehjs_exec.v0+json';\n",
       "  var CLASS_NAME = 'output_bokeh rendered_html';\n",
       "\n",
       "  /**\n",
       "   * Render data to the DOM node\n",
       "   */\n",
       "  function render(props, node) {\n",
       "    var script = document.createElement(\"script\");\n",
       "    node.appendChild(script);\n",
       "  }\n",
       "\n",
       "  /**\n",
       "   * Handle when an output is cleared or removed\n",
       "   */\n",
       "  function handleClearOutput(event, handle) {\n",
       "    var cell = handle.cell;\n",
       "\n",
       "    var id = cell.output_area._bokeh_element_id;\n",
       "    var server_id = cell.output_area._bokeh_server_id;\n",
       "    // Clean up Bokeh references\n",
       "    if (id != null && id in Bokeh.index) {\n",
       "      Bokeh.index[id].model.document.clear();\n",
       "      delete Bokeh.index[id];\n",
       "    }\n",
       "\n",
       "    if (server_id !== undefined) {\n",
       "      // Clean up Bokeh references\n",
       "      var cmd = \"from bokeh.io.state import curstate; print(curstate().uuid_to_server['\" + server_id + \"'].get_sessions()[0].document.roots[0]._id)\";\n",
       "      cell.notebook.kernel.execute(cmd, {\n",
       "        iopub: {\n",
       "          output: function(msg) {\n",
       "            var id = msg.content.text.trim();\n",
       "            if (id in Bokeh.index) {\n",
       "              Bokeh.index[id].model.document.clear();\n",
       "              delete Bokeh.index[id];\n",
       "            }\n",
       "          }\n",
       "        }\n",
       "      });\n",
       "      // Destroy server and session\n",
       "      var cmd = \"import bokeh.io.notebook as ion; ion.destroy_server('\" + server_id + \"')\";\n",
       "      cell.notebook.kernel.execute(cmd);\n",
       "    }\n",
       "  }\n",
       "\n",
       "  /**\n",
       "   * Handle when a new output is added\n",
       "   */\n",
       "  function handleAddOutput(event, handle) {\n",
       "    var output_area = handle.output_area;\n",
       "    var output = handle.output;\n",
       "\n",
       "    // limit handleAddOutput to display_data with EXEC_MIME_TYPE content only\n",
       "    if ((output.output_type != \"display_data\") || (!output.data.hasOwnProperty(EXEC_MIME_TYPE))) {\n",
       "      return\n",
       "    }\n",
       "\n",
       "    var toinsert = output_area.element.find(\".\" + CLASS_NAME.split(' ')[0]);\n",
       "\n",
       "    if (output.metadata[EXEC_MIME_TYPE][\"id\"] !== undefined) {\n",
       "      toinsert[toinsert.length - 1].firstChild.textContent = output.data[JS_MIME_TYPE];\n",
       "      // store reference to embed id on output_area\n",
       "      output_area._bokeh_element_id = output.metadata[EXEC_MIME_TYPE][\"id\"];\n",
       "    }\n",
       "    if (output.metadata[EXEC_MIME_TYPE][\"server_id\"] !== undefined) {\n",
       "      var bk_div = document.createElement(\"div\");\n",
       "      bk_div.innerHTML = output.data[HTML_MIME_TYPE];\n",
       "      var script_attrs = bk_div.children[0].attributes;\n",
       "      for (var i = 0; i < script_attrs.length; i++) {\n",
       "        toinsert[toinsert.length - 1].firstChild.setAttribute(script_attrs[i].name, script_attrs[i].value);\n",
       "      }\n",
       "      // store reference to server id on output_area\n",
       "      output_area._bokeh_server_id = output.metadata[EXEC_MIME_TYPE][\"server_id\"];\n",
       "    }\n",
       "  }\n",
       "\n",
       "  function register_renderer(events, OutputArea) {\n",
       "\n",
       "    function append_mime(data, metadata, element) {\n",
       "      // create a DOM node to render to\n",
       "      var toinsert = this.create_output_subarea(\n",
       "        metadata,\n",
       "        CLASS_NAME,\n",
       "        EXEC_MIME_TYPE\n",
       "      );\n",
       "      this.keyboard_manager.register_events(toinsert);\n",
       "      // Render to node\n",
       "      var props = {data: data, metadata: metadata[EXEC_MIME_TYPE]};\n",
       "      render(props, toinsert[toinsert.length - 1]);\n",
       "      element.append(toinsert);\n",
       "      return toinsert\n",
       "    }\n",
       "\n",
       "    /* Handle when an output is cleared or removed */\n",
       "    events.on('clear_output.CodeCell', handleClearOutput);\n",
       "    events.on('delete.Cell', handleClearOutput);\n",
       "\n",
       "    /* Handle when a new output is added */\n",
       "    events.on('output_added.OutputArea', handleAddOutput);\n",
       "\n",
       "    /**\n",
       "     * Register the mime type and append_mime function with output_area\n",
       "     */\n",
       "    OutputArea.prototype.register_mime_type(EXEC_MIME_TYPE, append_mime, {\n",
       "      /* Is output safe? */\n",
       "      safe: true,\n",
       "      /* Index of renderer in `output_area.display_order` */\n",
       "      index: 0\n",
       "    });\n",
       "  }\n",
       "\n",
       "  // register the mime type if in Jupyter Notebook environment and previously unregistered\n",
       "  if (root.Jupyter !== undefined) {\n",
       "    var events = require('base/js/events');\n",
       "    var OutputArea = require('notebook/js/outputarea').OutputArea;\n",
       "\n",
       "    if (OutputArea.prototype.mime_types().indexOf(EXEC_MIME_TYPE) == -1) {\n",
       "      register_renderer(events, OutputArea);\n",
       "    }\n",
       "  }\n",
       "\n",
       "  \n",
       "  if (typeof (root._bokeh_timeout) === \"undefined\" || force === true) {\n",
       "    root._bokeh_timeout = Date.now() + 5000;\n",
       "    root._bokeh_failed_load = false;\n",
       "  }\n",
       "\n",
       "  var NB_LOAD_WARNING = {'data': {'text/html':\n",
       "     \"<div style='background-color: #fdd'>\\n\"+\n",
       "     \"<p>\\n\"+\n",
       "     \"BokehJS does not appear to have successfully loaded. If loading BokehJS from CDN, this \\n\"+\n",
       "     \"may be due to a slow or bad network connection. Possible fixes:\\n\"+\n",
       "     \"</p>\\n\"+\n",
       "     \"<ul>\\n\"+\n",
       "     \"<li>re-rerun `output_notebook()` to attempt to load from CDN again, or</li>\\n\"+\n",
       "     \"<li>use INLINE resources instead, as so:</li>\\n\"+\n",
       "     \"</ul>\\n\"+\n",
       "     \"<code>\\n\"+\n",
       "     \"from bokeh.resources import INLINE\\n\"+\n",
       "     \"output_notebook(resources=INLINE)\\n\"+\n",
       "     \"</code>\\n\"+\n",
       "     \"</div>\"}};\n",
       "\n",
       "  function display_loaded() {\n",
       "    var el = document.getElementById(\"15975\");\n",
       "    if (el != null) {\n",
       "      el.textContent = \"BokehJS is loading...\";\n",
       "    }\n",
       "    if (root.Bokeh !== undefined) {\n",
       "      if (el != null) {\n",
       "        el.textContent = \"BokehJS \" + root.Bokeh.version + \" successfully loaded.\";\n",
       "      }\n",
       "    } else if (Date.now() < root._bokeh_timeout) {\n",
       "      setTimeout(display_loaded, 100)\n",
       "    }\n",
       "  }\n",
       "\n",
       "\n",
       "  function run_callbacks() {\n",
       "    try {\n",
       "      root._bokeh_onload_callbacks.forEach(function(callback) {\n",
       "        if (callback != null)\n",
       "          callback();\n",
       "      });\n",
       "    } finally {\n",
       "      delete root._bokeh_onload_callbacks\n",
       "    }\n",
       "    console.debug(\"Bokeh: all callbacks have finished\");\n",
       "  }\n",
       "\n",
       "  function load_libs(css_urls, js_urls, callback) {\n",
       "    if (css_urls == null) css_urls = [];\n",
       "    if (js_urls == null) js_urls = [];\n",
       "\n",
       "    root._bokeh_onload_callbacks.push(callback);\n",
       "    if (root._bokeh_is_loading > 0) {\n",
       "      console.debug(\"Bokeh: BokehJS is being loaded, scheduling callback at\", now());\n",
       "      return null;\n",
       "    }\n",
       "    if (js_urls == null || js_urls.length === 0) {\n",
       "      run_callbacks();\n",
       "      return null;\n",
       "    }\n",
       "    console.debug(\"Bokeh: BokehJS not loaded, scheduling load and callback at\", now());\n",
       "    root._bokeh_is_loading = css_urls.length + js_urls.length;\n",
       "\n",
       "    function on_load() {\n",
       "      root._bokeh_is_loading--;\n",
       "      if (root._bokeh_is_loading === 0) {\n",
       "        console.debug(\"Bokeh: all BokehJS libraries/stylesheets loaded\");\n",
       "        run_callbacks()\n",
       "      }\n",
       "    }\n",
       "\n",
       "    function on_error() {\n",
       "      console.error(\"failed to load \" + url);\n",
       "    }\n",
       "\n",
       "    for (var i = 0; i < css_urls.length; i++) {\n",
       "      var url = css_urls[i];\n",
       "      const element = document.createElement(\"link\");\n",
       "      element.onload = on_load;\n",
       "      element.onerror = on_error;\n",
       "      element.rel = \"stylesheet\";\n",
       "      element.type = \"text/css\";\n",
       "      element.href = url;\n",
       "      console.debug(\"Bokeh: injecting link tag for BokehJS stylesheet: \", url);\n",
       "      document.body.appendChild(element);\n",
       "    }\n",
       "\n",
       "    for (var i = 0; i < js_urls.length; i++) {\n",
       "      var url = js_urls[i];\n",
       "      var element = document.createElement('script');\n",
       "      element.onload = on_load;\n",
       "      element.onerror = on_error;\n",
       "      element.async = false;\n",
       "      element.src = url;\n",
       "      console.debug(\"Bokeh: injecting script tag for BokehJS library: \", url);\n",
       "      document.head.appendChild(element);\n",
       "    }\n",
       "  };var element = document.getElementById(\"15975\");\n",
       "  if (element == null) {\n",
       "    console.error(\"Bokeh: ERROR: autoload.js configured with elementid '15975' but no matching script tag was found. \")\n",
       "    return false;\n",
       "  }\n",
       "\n",
       "  function inject_raw_css(css) {\n",
       "    const element = document.createElement(\"style\");\n",
       "    element.appendChild(document.createTextNode(css));\n",
       "    document.body.appendChild(element);\n",
       "  }\n",
       "\n",
       "  var js_urls = [\"https://cdn.pydata.org/bokeh/release/bokeh-1.3.4.min.js\", \"https://cdn.pydata.org/bokeh/release/bokeh-widgets-1.3.4.min.js\", \"https://cdn.pydata.org/bokeh/release/bokeh-tables-1.3.4.min.js\", \"https://cdn.pydata.org/bokeh/release/bokeh-gl-1.3.4.min.js\"];\n",
       "  var css_urls = [];\n",
       "\n",
       "  var inline_js = [\n",
       "    function(Bokeh) {\n",
       "      Bokeh.set_log_level(\"info\");\n",
       "    },\n",
       "    \n",
       "    function(Bokeh) {\n",
       "      \n",
       "    },\n",
       "    function(Bokeh) {} // ensure no trailing comma for IE\n",
       "  ];\n",
       "\n",
       "  function run_inline_js() {\n",
       "    \n",
       "    if ((root.Bokeh !== undefined) || (force === true)) {\n",
       "      for (var i = 0; i < inline_js.length; i++) {\n",
       "        inline_js[i].call(root, root.Bokeh);\n",
       "      }if (force === true) {\n",
       "        display_loaded();\n",
       "      }} else if (Date.now() < root._bokeh_timeout) {\n",
       "      setTimeout(run_inline_js, 100);\n",
       "    } else if (!root._bokeh_failed_load) {\n",
       "      console.log(\"Bokeh: BokehJS failed to load within specified timeout.\");\n",
       "      root._bokeh_failed_load = true;\n",
       "    } else if (force !== true) {\n",
       "      var cell = $(document.getElementById(\"15975\")).parents('.cell').data().cell;\n",
       "      cell.output_area.append_execute_result(NB_LOAD_WARNING)\n",
       "    }\n",
       "\n",
       "  }\n",
       "\n",
       "  if (root._bokeh_is_loading === 0) {\n",
       "    console.debug(\"Bokeh: BokehJS loaded, going straight to plotting\");\n",
       "    run_inline_js();\n",
       "  } else {\n",
       "    load_libs(css_urls, js_urls, function() {\n",
       "      console.debug(\"Bokeh: BokehJS plotting callback run at\", now());\n",
       "      run_inline_js();\n",
       "    });\n",
       "  }\n",
       "}(window));"
      ],
      "application/vnd.bokehjs_load.v0+json": "\n(function(root) {\n  function now() {\n    return new Date();\n  }\n\n  var force = true;\n\n  if (typeof root._bokeh_onload_callbacks === \"undefined\" || force === true) {\n    root._bokeh_onload_callbacks = [];\n    root._bokeh_is_loading = undefined;\n  }\n\n  \n\n  \n  if (typeof (root._bokeh_timeout) === \"undefined\" || force === true) {\n    root._bokeh_timeout = Date.now() + 5000;\n    root._bokeh_failed_load = false;\n  }\n\n  var NB_LOAD_WARNING = {'data': {'text/html':\n     \"<div style='background-color: #fdd'>\\n\"+\n     \"<p>\\n\"+\n     \"BokehJS does not appear to have successfully loaded. If loading BokehJS from CDN, this \\n\"+\n     \"may be due to a slow or bad network connection. Possible fixes:\\n\"+\n     \"</p>\\n\"+\n     \"<ul>\\n\"+\n     \"<li>re-rerun `output_notebook()` to attempt to load from CDN again, or</li>\\n\"+\n     \"<li>use INLINE resources instead, as so:</li>\\n\"+\n     \"</ul>\\n\"+\n     \"<code>\\n\"+\n     \"from bokeh.resources import INLINE\\n\"+\n     \"output_notebook(resources=INLINE)\\n\"+\n     \"</code>\\n\"+\n     \"</div>\"}};\n\n  function display_loaded() {\n    var el = document.getElementById(\"15975\");\n    if (el != null) {\n      el.textContent = \"BokehJS is loading...\";\n    }\n    if (root.Bokeh !== undefined) {\n      if (el != null) {\n        el.textContent = \"BokehJS \" + root.Bokeh.version + \" successfully loaded.\";\n      }\n    } else if (Date.now() < root._bokeh_timeout) {\n      setTimeout(display_loaded, 100)\n    }\n  }\n\n\n  function run_callbacks() {\n    try {\n      root._bokeh_onload_callbacks.forEach(function(callback) {\n        if (callback != null)\n          callback();\n      });\n    } finally {\n      delete root._bokeh_onload_callbacks\n    }\n    console.debug(\"Bokeh: all callbacks have finished\");\n  }\n\n  function load_libs(css_urls, js_urls, callback) {\n    if (css_urls == null) css_urls = [];\n    if (js_urls == null) js_urls = [];\n\n    root._bokeh_onload_callbacks.push(callback);\n    if (root._bokeh_is_loading > 0) {\n      console.debug(\"Bokeh: BokehJS is being loaded, scheduling callback at\", now());\n      return null;\n    }\n    if (js_urls == null || js_urls.length === 0) {\n      run_callbacks();\n      return null;\n    }\n    console.debug(\"Bokeh: BokehJS not loaded, scheduling load and callback at\", now());\n    root._bokeh_is_loading = css_urls.length + js_urls.length;\n\n    function on_load() {\n      root._bokeh_is_loading--;\n      if (root._bokeh_is_loading === 0) {\n        console.debug(\"Bokeh: all BokehJS libraries/stylesheets loaded\");\n        run_callbacks()\n      }\n    }\n\n    function on_error() {\n      console.error(\"failed to load \" + url);\n    }\n\n    for (var i = 0; i < css_urls.length; i++) {\n      var url = css_urls[i];\n      const element = document.createElement(\"link\");\n      element.onload = on_load;\n      element.onerror = on_error;\n      element.rel = \"stylesheet\";\n      element.type = \"text/css\";\n      element.href = url;\n      console.debug(\"Bokeh: injecting link tag for BokehJS stylesheet: \", url);\n      document.body.appendChild(element);\n    }\n\n    for (var i = 0; i < js_urls.length; i++) {\n      var url = js_urls[i];\n      var element = document.createElement('script');\n      element.onload = on_load;\n      element.onerror = on_error;\n      element.async = false;\n      element.src = url;\n      console.debug(\"Bokeh: injecting script tag for BokehJS library: \", url);\n      document.head.appendChild(element);\n    }\n  };var element = document.getElementById(\"15975\");\n  if (element == null) {\n    console.error(\"Bokeh: ERROR: autoload.js configured with elementid '15975' but no matching script tag was found. \")\n    return false;\n  }\n\n  function inject_raw_css(css) {\n    const element = document.createElement(\"style\");\n    element.appendChild(document.createTextNode(css));\n    document.body.appendChild(element);\n  }\n\n  var js_urls = [\"https://cdn.pydata.org/bokeh/release/bokeh-1.3.4.min.js\", \"https://cdn.pydata.org/bokeh/release/bokeh-widgets-1.3.4.min.js\", \"https://cdn.pydata.org/bokeh/release/bokeh-tables-1.3.4.min.js\", \"https://cdn.pydata.org/bokeh/release/bokeh-gl-1.3.4.min.js\"];\n  var css_urls = [];\n\n  var inline_js = [\n    function(Bokeh) {\n      Bokeh.set_log_level(\"info\");\n    },\n    \n    function(Bokeh) {\n      \n    },\n    function(Bokeh) {} // ensure no trailing comma for IE\n  ];\n\n  function run_inline_js() {\n    \n    if ((root.Bokeh !== undefined) || (force === true)) {\n      for (var i = 0; i < inline_js.length; i++) {\n        inline_js[i].call(root, root.Bokeh);\n      }if (force === true) {\n        display_loaded();\n      }} else if (Date.now() < root._bokeh_timeout) {\n      setTimeout(run_inline_js, 100);\n    } else if (!root._bokeh_failed_load) {\n      console.log(\"Bokeh: BokehJS failed to load within specified timeout.\");\n      root._bokeh_failed_load = true;\n    } else if (force !== true) {\n      var cell = $(document.getElementById(\"15975\")).parents('.cell').data().cell;\n      cell.output_area.append_execute_result(NB_LOAD_WARNING)\n    }\n\n  }\n\n  if (root._bokeh_is_loading === 0) {\n    console.debug(\"Bokeh: BokehJS loaded, going straight to plotting\");\n    run_inline_js();\n  } else {\n    load_libs(css_urls, js_urls, function() {\n      console.debug(\"Bokeh: BokehJS plotting callback run at\", now());\n      run_inline_js();\n    });\n  }\n}(window));"
     },
     "metadata": {},
     "output_type": "display_data"
    },
    {
     "data": {
      "text/html": [
       "\n",
       "\n",
       "\n",
       "\n",
       "\n",
       "\n",
       "  <div class=\"bk-root\" id=\"81d1adec-86b6-44a2-965b-f63e05eb3280\" data-root-id=\"16078\"></div>\n"
      ]
     },
     "metadata": {},
     "output_type": "display_data"
    },
    {
     "data": {
      "application/javascript": [
       "(function(root) {\n",
       "  function embed_document(root) {\n",
       "    \n",
       "  var docs_json = {\"204d6eb0-5e13-4e58-8e27-2f918a1f28aa\":{\"roots\":{\"references\":[{\"attributes\":{\"children\":[{\"id\":\"15977\",\"subtype\":\"Figure\",\"type\":\"Plot\"},{\"id\":\"16077\",\"type\":\"Column\"}]},\"id\":\"16078\",\"type\":\"Row\"},{\"attributes\":{\"source\":{\"id\":\"16011\",\"type\":\"ColumnDataSource\"}},\"id\":\"16015\",\"type\":\"CDSView\"},{\"attributes\":{},\"id\":\"16054\",\"type\":\"Selection\"},{\"attributes\":{},\"id\":\"16021\",\"type\":\"BasicTickFormatter\"},{\"attributes\":{},\"id\":\"16038\",\"type\":\"Selection\"},{\"attributes\":{},\"id\":\"16037\",\"type\":\"UnionRenderers\"},{\"attributes\":{\"callback\":null,\"data\":{\"x\":{\"__ndarray__\":\"AAAAAAAAAAD2KFyPwvXsP4cW2c73U/0/KVyPwvUoBkBGtvP91HgNQA==\",\"dtype\":\"float64\",\"shape\":[5]},\"y\":{\"__ndarray__\":\"AAAAAAAAAAAAAAAAAAAuQAAAAAAAAD5AAAAAAACARkAAAAAAAABOQA==\",\"dtype\":\"float64\",\"shape\":[5]}},\"selected\":{\"id\":\"16054\",\"type\":\"Selection\"},\"selection_policy\":{\"id\":\"16053\",\"type\":\"UnionRenderers\"}},\"id\":\"16025\",\"type\":\"ColumnDataSource\"},{\"attributes\":{\"callback\":null,\"data\":{\"x\":{\"__ndarray__\":\"AAAAAAAAAAD2KFyPwvXsP4cW2c73U/0/KVyPwvUoBkBGtvP91HgNQA==\",\"dtype\":\"float64\",\"shape\":[5]},\"y\":{\"__ndarray__\":\"AAAAAAAAAAD2KFyPwvXsP4cW2c73U/0/KVyPwvUoBkBGtvP91HgNQA==\",\"dtype\":\"float64\",\"shape\":[5]}},\"selected\":{\"id\":\"16073\",\"type\":\"Selection\"},\"selection_policy\":{\"id\":\"16072\",\"type\":\"UnionRenderers\"}},\"id\":\"15976\",\"type\":\"ColumnDataSource\"},{\"attributes\":{\"data_source\":{\"id\":\"16025\",\"type\":\"ColumnDataSource\"},\"glyph\":{\"id\":\"16026\",\"type\":\"Scatter\"},\"hover_glyph\":null,\"muted_glyph\":null,\"nonselection_glyph\":{\"id\":\"16027\",\"type\":\"Scatter\"},\"selection_glyph\":null,\"view\":{\"id\":\"16029\",\"type\":\"CDSView\"}},\"id\":\"16028\",\"type\":\"GlyphRenderer\"},{\"attributes\":{\"items\":[{\"id\":\"16024\",\"type\":\"LegendItem\"},{\"id\":\"16055\",\"type\":\"LegendItem\"}],\"location\":\"top_left\"},\"id\":\"16023\",\"type\":\"Legend\"},{\"attributes\":{\"label\":{\"value\":\"Dados\"},\"renderers\":[{\"id\":\"16014\",\"type\":\"GlyphRenderer\"},{\"id\":\"16028\",\"type\":\"GlyphRenderer\"}]},\"id\":\"16024\",\"type\":\"LegendItem\"},{\"attributes\":{},\"id\":\"15997\",\"type\":\"WheelZoomTool\"},{\"attributes\":{\"line_color\":\"#0095DD\",\"line_width\":3,\"x\":{\"field\":\"x\"},\"y\":{\"field\":\"y\"}},\"id\":\"16012\",\"type\":\"Line\"},{\"attributes\":{\"fill_alpha\":{\"value\":0.1},\"fill_color\":{\"value\":\"#1f77b4\"},\"line_alpha\":{\"value\":0.1},\"line_color\":{\"value\":\"#1f77b4\"},\"marker\":{\"value\":\"x\"},\"size\":{\"units\":\"screen\",\"value\":16},\"x\":{\"field\":\"x\"},\"y\":{\"field\":\"y\"}},\"id\":\"16058\",\"type\":\"Scatter\"},{\"attributes\":{\"callback\":null},\"id\":\"15978\",\"type\":\"DataRange1d\"},{\"attributes\":{\"args\":{\"posicao_inicial\":{\"id\":\"16074\",\"type\":\"Slider\"},\"source\":{\"id\":\"15976\",\"type\":\"ColumnDataSource\"},\"velocidade\":{\"id\":\"16075\",\"type\":\"Slider\"}},\"code\":\"\\n    const data = source.data;\\n    const v    = velocidade.value;\\n    const s0   = posicao_inicial.value;\\n    const t    = data['x'];\\n    const s    = data['y'];\\n    \\n    for (let i = 0; i < t.length; i++) {\\n    s[i] = s0 + v*t[i];\\n    }\\n    source.change.emit();\\n    \"},\"id\":\"16076\",\"type\":\"CustomJS\"},{\"attributes\":{},\"id\":\"16073\",\"type\":\"Selection\"},{\"attributes\":{\"callback\":null},\"id\":\"15980\",\"type\":\"DataRange1d\"},{\"attributes\":{\"data_source\":{\"id\":\"15976\",\"type\":\"ColumnDataSource\"},\"glyph\":{\"id\":\"16057\",\"type\":\"Scatter\"},\"hover_glyph\":null,\"muted_glyph\":null,\"nonselection_glyph\":{\"id\":\"16058\",\"type\":\"Scatter\"},\"selection_glyph\":null,\"view\":{\"id\":\"16060\",\"type\":\"CDSView\"}},\"id\":\"16059\",\"type\":\"GlyphRenderer\"},{\"attributes\":{\"line_color\":\"#E34A33\",\"line_dash\":[5,5],\"line_width\":3,\"x\":{\"field\":\"x\"},\"y\":{\"field\":\"y\"}},\"id\":\"16040\",\"type\":\"Line\"},{\"attributes\":{\"source\":{\"id\":\"15976\",\"type\":\"ColumnDataSource\"}},\"id\":\"16043\",\"type\":\"CDSView\"},{\"attributes\":{\"bottom_units\":\"screen\",\"fill_alpha\":{\"value\":0.5},\"fill_color\":{\"value\":\"lightgrey\"},\"left_units\":\"screen\",\"level\":\"overlay\",\"line_alpha\":{\"value\":1.0},\"line_color\":{\"value\":\"black\"},\"line_dash\":[4,4],\"line_width\":{\"value\":2},\"render_mode\":\"css\",\"right_units\":\"screen\",\"top_units\":\"screen\"},\"id\":\"16022\",\"type\":\"BoxAnnotation\"},{\"attributes\":{},\"id\":\"15999\",\"type\":\"SaveTool\"},{\"attributes\":{},\"id\":\"16053\",\"type\":\"UnionRenderers\"},{\"attributes\":{\"dimension\":1,\"ticker\":{\"id\":\"15992\",\"type\":\"BasicTicker\"}},\"id\":\"15995\",\"type\":\"Grid\"},{\"attributes\":{},\"id\":\"16019\",\"type\":\"BasicTickFormatter\"},{\"attributes\":{\"axis_label\":\"Tempo, t [s]\",\"axis_label_text_font_size\":{\"value\":\"16px\"},\"axis_label_text_font_style\":\"normal\",\"formatter\":{\"id\":\"16019\",\"type\":\"BasicTickFormatter\"},\"major_label_text_font_size\":{\"value\":\"16px\"},\"ticker\":{\"id\":\"15987\",\"type\":\"BasicTicker\"}},\"id\":\"15986\",\"type\":\"LinearAxis\"},{\"attributes\":{\"active_drag\":\"auto\",\"active_inspect\":\"auto\",\"active_multi\":null,\"active_scroll\":\"auto\",\"active_tap\":\"auto\",\"tools\":[{\"id\":\"15996\",\"type\":\"PanTool\"},{\"id\":\"15997\",\"type\":\"WheelZoomTool\"},{\"id\":\"15998\",\"type\":\"BoxZoomTool\"},{\"id\":\"15999\",\"type\":\"SaveTool\"},{\"id\":\"16000\",\"type\":\"ResetTool\"},{\"id\":\"16001\",\"type\":\"HelpTool\"},{\"id\":\"16002\",\"type\":\"HoverTool\"}]},\"id\":\"16003\",\"type\":\"Toolbar\"},{\"attributes\":{\"data_source\":{\"id\":\"16011\",\"type\":\"ColumnDataSource\"},\"glyph\":{\"id\":\"16012\",\"type\":\"Line\"},\"hover_glyph\":null,\"muted_glyph\":null,\"nonselection_glyph\":{\"id\":\"16013\",\"type\":\"Line\"},\"selection_glyph\":null,\"view\":{\"id\":\"16015\",\"type\":\"CDSView\"}},\"id\":\"16014\",\"type\":\"GlyphRenderer\"},{\"attributes\":{\"line_alpha\":0.1,\"line_color\":\"#1f77b4\",\"line_dash\":[5,5],\"line_width\":3,\"x\":{\"field\":\"x\"},\"y\":{\"field\":\"y\"}},\"id\":\"16041\",\"type\":\"Line\"},{\"attributes\":{\"bar_color\":\"#E34A33\",\"callback\":null,\"end\":20,\"js_property_callbacks\":{\"change:value\":[{\"id\":\"16076\",\"type\":\"CustomJS\"}]},\"sizing_mode\":\"scale_width\",\"start\":-20,\"step\":0.05,\"title\":\"Coeficiente angular, b\",\"value\":5},\"id\":\"16075\",\"type\":\"Slider\"},{\"attributes\":{\"source\":{\"id\":\"16025\",\"type\":\"ColumnDataSource\"}},\"id\":\"16029\",\"type\":\"CDSView\"},{\"attributes\":{},\"id\":\"16072\",\"type\":\"UnionRenderers\"},{\"attributes\":{\"data_source\":{\"id\":\"15976\",\"type\":\"ColumnDataSource\"},\"glyph\":{\"id\":\"16040\",\"type\":\"Line\"},\"hover_glyph\":null,\"muted_glyph\":null,\"nonselection_glyph\":{\"id\":\"16041\",\"type\":\"Line\"},\"selection_glyph\":null,\"view\":{\"id\":\"16043\",\"type\":\"CDSView\"}},\"id\":\"16042\",\"type\":\"GlyphRenderer\"},{\"attributes\":{\"ticker\":{\"id\":\"15987\",\"type\":\"BasicTicker\"}},\"id\":\"15990\",\"type\":\"Grid\"},{\"attributes\":{},\"id\":\"15984\",\"type\":\"LinearScale\"},{\"attributes\":{\"text\":\"\"},\"id\":\"16017\",\"type\":\"Title\"},{\"attributes\":{},\"id\":\"15992\",\"type\":\"BasicTicker\"},{\"attributes\":{},\"id\":\"16000\",\"type\":\"ResetTool\"},{\"attributes\":{\"callback\":null,\"tooltips\":[[\"Posi\\u00e7\\u00e3o [cm]\",\"@y{0.00}\"],[\"Tempo [s]\",\"@x\"]]},\"id\":\"16002\",\"type\":\"HoverTool\"},{\"attributes\":{},\"id\":\"15987\",\"type\":\"BasicTicker\"},{\"attributes\":{\"callback\":null,\"data\":{\"x\":{\"__ndarray__\":\"AAAAAAAAAAD2KFyPwvXsP4cW2c73U/0/KVyPwvUoBkBGtvP91HgNQA==\",\"dtype\":\"float64\",\"shape\":[5]},\"y\":{\"__ndarray__\":\"AAAAAAAAAAAAAAAAAAAuQAAAAAAAAD5AAAAAAACARkAAAAAAAABOQA==\",\"dtype\":\"float64\",\"shape\":[5]}},\"selected\":{\"id\":\"16038\",\"type\":\"Selection\"},\"selection_policy\":{\"id\":\"16037\",\"type\":\"UnionRenderers\"}},\"id\":\"16011\",\"type\":\"ColumnDataSource\"},{\"attributes\":{\"fill_alpha\":{\"value\":0.1},\"fill_color\":{\"value\":\"#1f77b4\"},\"line_alpha\":{\"value\":0.1},\"line_color\":{\"value\":\"#1f77b4\"},\"size\":{\"units\":\"screen\",\"value\":18},\"x\":{\"field\":\"x\"},\"y\":{\"field\":\"y\"}},\"id\":\"16027\",\"type\":\"Scatter\"},{\"attributes\":{},\"id\":\"16001\",\"type\":\"HelpTool\"},{\"attributes\":{\"fill_color\":{\"value\":\"#E34A33\"},\"line_color\":{\"value\":\"#E34A33\"},\"marker\":{\"value\":\"x\"},\"size\":{\"units\":\"screen\",\"value\":16},\"x\":{\"field\":\"x\"},\"y\":{\"field\":\"y\"}},\"id\":\"16057\",\"type\":\"Scatter\"},{\"attributes\":{\"below\":[{\"id\":\"15986\",\"type\":\"LinearAxis\"}],\"center\":[{\"id\":\"15990\",\"type\":\"Grid\"},{\"id\":\"15995\",\"type\":\"Grid\"},{\"id\":\"16023\",\"type\":\"Legend\"}],\"left\":[{\"id\":\"15991\",\"type\":\"LinearAxis\"}],\"plot_height\":400,\"plot_width\":500,\"renderers\":[{\"id\":\"16014\",\"type\":\"GlyphRenderer\"},{\"id\":\"16028\",\"type\":\"GlyphRenderer\"},{\"id\":\"16042\",\"type\":\"GlyphRenderer\"},{\"id\":\"16059\",\"type\":\"GlyphRenderer\"}],\"title\":{\"id\":\"16017\",\"type\":\"Title\"},\"toolbar\":{\"id\":\"16003\",\"type\":\"Toolbar\"},\"x_range\":{\"id\":\"15978\",\"type\":\"DataRange1d\"},\"x_scale\":{\"id\":\"15982\",\"type\":\"LinearScale\"},\"y_range\":{\"id\":\"15980\",\"type\":\"DataRange1d\"},\"y_scale\":{\"id\":\"15984\",\"type\":\"LinearScale\"}},\"id\":\"15977\",\"subtype\":\"Figure\",\"type\":\"Plot\"},{\"attributes\":{\"bar_color\":\"#E34A33\",\"callback\":null,\"end\":10,\"js_property_callbacks\":{\"change:value\":[{\"id\":\"16076\",\"type\":\"CustomJS\"}]},\"sizing_mode\":\"scale_width\",\"start\":-10,\"step\":0.01,\"title\":\"Coeficiente linear, a\",\"value\":0},\"id\":\"16074\",\"type\":\"Slider\"},{\"attributes\":{\"overlay\":{\"id\":\"16022\",\"type\":\"BoxAnnotation\"}},\"id\":\"15998\",\"type\":\"BoxZoomTool\"},{\"attributes\":{\"fill_color\":{\"value\":\"#FFFFFF\"},\"line_color\":{\"value\":\"#0095DD\"},\"size\":{\"units\":\"screen\",\"value\":18},\"x\":{\"field\":\"x\"},\"y\":{\"field\":\"y\"}},\"id\":\"16026\",\"type\":\"Scatter\"},{\"attributes\":{\"children\":[{\"id\":\"16074\",\"type\":\"Slider\"},{\"id\":\"16075\",\"type\":\"Slider\"}],\"sizing_mode\":\"scale_width\"},\"id\":\"16077\",\"type\":\"Column\"},{\"attributes\":{\"source\":{\"id\":\"15976\",\"type\":\"ColumnDataSource\"}},\"id\":\"16060\",\"type\":\"CDSView\"},{\"attributes\":{\"line_alpha\":0.1,\"line_color\":\"#1f77b4\",\"line_width\":3,\"x\":{\"field\":\"x\"},\"y\":{\"field\":\"y\"}},\"id\":\"16013\",\"type\":\"Line\"},{\"attributes\":{\"axis_label\":\"Posi\\u00e7\\u00e3o, s(t) [cm]\",\"axis_label_text_font_size\":{\"value\":\"16px\"},\"axis_label_text_font_style\":\"normal\",\"formatter\":{\"id\":\"16021\",\"type\":\"BasicTickFormatter\"},\"major_label_text_font_size\":{\"value\":\"16px\"},\"ticker\":{\"id\":\"15992\",\"type\":\"BasicTicker\"}},\"id\":\"15991\",\"type\":\"LinearAxis\"},{\"attributes\":{\"label\":{\"value\":\"Ajuste\"},\"renderers\":[{\"id\":\"16042\",\"type\":\"GlyphRenderer\"},{\"id\":\"16059\",\"type\":\"GlyphRenderer\"}]},\"id\":\"16055\",\"type\":\"LegendItem\"},{\"attributes\":{},\"id\":\"15996\",\"type\":\"PanTool\"},{\"attributes\":{},\"id\":\"15982\",\"type\":\"LinearScale\"}],\"root_ids\":[\"16078\"]},\"title\":\"Bokeh Application\",\"version\":\"1.3.4\"}};\n",
       "  var render_items = [{\"docid\":\"204d6eb0-5e13-4e58-8e27-2f918a1f28aa\",\"roots\":{\"16078\":\"81d1adec-86b6-44a2-965b-f63e05eb3280\"}}];\n",
       "  root.Bokeh.embed.embed_items_notebook(docs_json, render_items);\n",
       "\n",
       "  }\n",
       "  if (root.Bokeh !== undefined) {\n",
       "    embed_document(root);\n",
       "  } else {\n",
       "    var attempts = 0;\n",
       "    var timer = setInterval(function(root) {\n",
       "      if (root.Bokeh !== undefined) {\n",
       "        embed_document(root);\n",
       "        clearInterval(timer);\n",
       "      }\n",
       "      attempts++;\n",
       "      if (attempts > 100) {\n",
       "        console.log(\"Bokeh: ERROR: Unable to run BokehJS code because BokehJS library is missing\");\n",
       "        clearInterval(timer);\n",
       "      }\n",
       "    }, 10, root)\n",
       "  }\n",
       "})(window);"
      ],
      "application/vnd.bokehjs_exec.v0+json": ""
     },
     "metadata": {
      "application/vnd.bokehjs_exec.v0+json": {
       "id": "16078"
      }
     },
     "output_type": "display_data"
    }
   ],
   "source": [
    "# importando os pacotes ncessários\n",
    "from bokeh.layouts  import row, column\n",
    "from bokeh.models   import CustomJS, Slider, Legend\n",
    "from bokeh.plotting import figure, show, ColumnDataSource\n",
    "from bokeh.io       import output_notebook\n",
    "\n",
    "# mostra o gráfico no notebook\n",
    "output_notebook()\n",
    "\n",
    "# definindo os dados\n",
    "X_dados = df_dados['tempo médio [s]']\n",
    "Y_dados = df_dados['S [cm]']\n",
    "\n",
    "# dados a serem mudados iterativamente\n",
    "t = X_dados\n",
    "s = t\n",
    "\n",
    "# cores a serem usadas no plot\n",
    "COLOR_DADOS  = \"#0095DD\"\n",
    "COLOR_AJUSTE = \"#E34A33\"\n",
    "\n",
    "# cria display dinâmico de valores\n",
    "TOOLTIPS_POSICAO = [\n",
    "    (\"Posição [cm]\", \"@y{0.00}\"),\n",
    "    (\"Tempo [s]\"   , \"@x\")\n",
    "]\n",
    "\n",
    "# cria a fonte dinâmica para representar o ajuste\n",
    "source_posicao = ColumnDataSource(data=dict(x=t, y=s))\n",
    "\n",
    "# cria a figura onde os dados e o ajuste serão mostrados\n",
    "plot_posicao = figure(plot_width=500, plot_height=400, tooltips=TOOLTIPS_POSICAO)\n",
    "\n",
    "# plotando os dados\n",
    "plot_posicao.line   (X_dados, Y_dados, color=COLOR_DADOS, legend='Dados', line_width=3)\n",
    "\n",
    "plot_posicao.scatter(X_dados, Y_dados, color=COLOR_DADOS, legend='Dados', fill_color='#FFFFFF', size=18)\n",
    "\n",
    "\n",
    "# plotando a reta de ajuste (dinâmica)\n",
    "plot_posicao.line   ('x', 'y', source=source_posicao, color=COLOR_AJUSTE, legend='Ajuste', line_width=3, line_dash=\"5 5\")\n",
    "\n",
    "\n",
    "plot_posicao.scatter('x', 'y', source=source_posicao, color=COLOR_AJUSTE, legend='Ajuste', marker='x', size=16)\n",
    "\n",
    "\n",
    "# definindo os labels do axis\n",
    "plot_posicao.xaxis[0].axis_label = 'Tempo, t [s]'\n",
    "plot_posicao.yaxis[0].axis_label = 'Posição, s(t) [cm]'\n",
    "\n",
    "# mudando as fontes dos labels\n",
    "FONT_SIZE = '16px'\n",
    "\n",
    "plot_posicao.xaxis.axis_label_text_font_size  = FONT_SIZE\n",
    "plot_posicao.xaxis.major_label_text_font_size = FONT_SIZE\n",
    "\n",
    "plot_posicao.yaxis.axis_label_text_font_size  = FONT_SIZE\n",
    "plot_posicao.yaxis.major_label_text_font_size = FONT_SIZE\n",
    "\n",
    "plot_posicao.xaxis.axis_label_text_font_style = 'normal'\n",
    "plot_posicao.yaxis.axis_label_text_font_style = 'normal'\n",
    "\n",
    "# mudando a legenda de lugar\n",
    "plot_posicao.legend.location = 'top_left'\n",
    "\n",
    "# criando os sliders\n",
    "slider_posicao_inicial = Slider(start=-10, end=10, value=0, step=0.01  , bar_color=COLOR_AJUSTE   , title=\"Coeficiente linear, a\")\n",
    "slider_velocidade      = Slider(start=-20, end=20, value=5, step=0.05  , bar_color=COLOR_AJUSTE, title=\"Coeficiente angular, b\")\n",
    "\n",
    "# cirando o callback para mudar a reta de ajuste dinamicamente\n",
    "callback_ajuste = CustomJS(\n",
    "    args=dict(\n",
    "        source=source_posicao,\n",
    "        velocidade=slider_velocidade,\n",
    "        posicao_inicial=slider_posicao_inicial\n",
    "    ),\n",
    "    code=\"\"\"\n",
    "    const data = source.data;\n",
    "    const v    = velocidade.value;\n",
    "    const s0   = posicao_inicial.value;\n",
    "    const t    = data['x'];\n",
    "    const s    = data['y'];\n",
    "    \n",
    "    for (let i = 0; i < t.length; i++) {\n",
    "    s[i] = s0 + v*t[i];\n",
    "    }\n",
    "    source.change.emit();\n",
    "    \"\"\"\n",
    ")\n",
    "\n",
    "\n",
    "# criando os sliders\n",
    "slider_posicao_inicial.js_on_change('value', callback_ajuste)\n",
    "slider_velocidade.     js_on_change('value', callback_ajuste)\n",
    "\n",
    "# criando o layout de como ficará disposto o gráfico e os sliders\n",
    "layout = row(\n",
    "    plot_posicao,\n",
    "    column(\n",
    "        slider_posicao_inicial,\n",
    "        slider_velocidade,\n",
    "        sizing_mode='scale_width'\n",
    "    ),\n",
    "#     sizing_mode='scale_width'\n",
    ")\n",
    "\n",
    "# mostrando o plot\n",
    "show(layout)"
   ]
  },
  {
   "cell_type": "markdown",
   "metadata": {
    "ExecuteTime": {
     "end_time": "2020-06-13T19:47:49.938561Z",
     "start_time": "2020-06-13T19:47:49.932192Z"
    }
   },
   "source": [
    "Veremos agora como calcular os valores que fazem o ajuste ficar o mais próximo dos dados."
   ]
  },
  {
   "cell_type": "markdown",
   "metadata": {},
   "source": [
    "## Método dos mínimos quadrados\n",
    "<a class='subsection' id='metodo_dos_minimos_quadrados'></a>"
   ]
  },
  {
   "cell_type": "markdown",
   "metadata": {},
   "source": [
    "O objetivo principal da realização de um experimento é encontrar um modelo teórico que explique seus resultados. No nosso caso, baseado na observação do gráfico no final da seção [5](#confeccionando_o_grafico_sxt), vimos que os dados experimentais apontam na direção de um comportamento linear. Por essa razão, tentaremos aplicar um modelo matemático que consiste na equação da reta para ajustar os dados experimentais. \n",
    "\n",
    "Suponha a reta\n",
    "\n",
    "$$\n",
    "    y = a + bx.\n",
    "$$\n",
    "\n",
    "Segundo o método dos mínimos quadrados, na regressão linear o coeficiente linear $a$ é dado por\n",
    "\n",
    "$$\n",
    "a = \\frac{\\sum y \\sum x^2 - \\sum x \\sum xy}{n\\sum x^2 - \\left(\\sum x\\right)^2}\n",
    "\\label{eq:coef_linear}\n",
    "$$\n",
    "\n",
    "e o coeificiente angular $b$ é dado por\n",
    "\n",
    "$$\n",
    "b = \\frac{n \\sum xy - \\sum x \\sum y}{n\\sum x^2 - \\left(\\sum x\\right)^2}.\n",
    "\\label{eq:coef_angular}\n",
    "$$"
   ]
  },
  {
   "cell_type": "markdown",
   "metadata": {},
   "source": [
    "Comparando com o nosso caso, o valor de $x$ é o da variável independente, isto é, o tempo médio $\\bar{t}$ cronometrado em cada um dos sensores. O valor de $y$ é o da variável dependente, isto é, a posição $S$ do móvel para um determinado tempo $\\bar{t}$. Aqui $n$ é o número de dados disponíveis. No caso do experimento, $n=5$, pois temos cinco sensores, tendo um valor de $y$ ($S$) e de $x$ ($\\bar{t}$) para cada um.\n",
    "\n",
    "Por exemplo, a soma $\\sum y$ seria calculada como\n",
    "\n",
    "$$\n",
    "\\begin{split}\n",
    "    \\sum y \\to \\sum S &= 0{,}00\\,cm + 15{,}00\\,cm + 30{,}00\\,cm + 45{,}00\\,cm + 60{,}00\\,cm\\\\\n",
    "    &= 150{,}00\\,cm.\n",
    "\\end{split}\n",
    "$$\n",
    "\n",
    "Já a soma $\\sum x$ seria calculada como\n",
    "\n",
    "$$\n",
    "\\begin{split}\n",
    "    \\sum x \\to \\sum \\bar{t} &= 0{,}000\\,s + 0{,}905\\,s + 1{,}833\\,s + 2{,}770\\,s + 3{,}684\\,s \\\\\n",
    "    &= 9{,}192\\,s\n",
    "\\end{split}\n",
    "$$"
   ]
  },
  {
   "cell_type": "markdown",
   "metadata": {},
   "source": [
    "Tome cuidado, pois existe uma diferença entre as somas $\\left(\\sum x\\right)^2$ e $\\sum x^2$. A primeira, soma-se todos os termos e então elevamos ao quadrado. Sendo assim, ela pode ser calculada simplesmente elevando o resultado da soma $\\sum x$ ao quadrado:\n",
    "\n",
    "$$\n",
    "\\begin{split}\n",
    "    \\left(\\sum x\\right)^2 \\to \\left(\\sum \\bar{t}\\right)^2 &= \\left(0{,}000\\,s + 0{,}905\\,s + 1{,}833\\,s + 2{,}770\\,s + 3{,}684\\,s \\right)^2\\\\\n",
    "    &= \\left(9{,}192\\,s\\right)^2 = 84{,}493\\,s^2.\n",
    "\\end{split}\n",
    "$$\n",
    "\n",
    "Observe que a unidade, segundos $s$, também foi elevada ao quadrado. Isso ocorre pois sempre devemos levar em consideração a unidade das quantidades que estamos lidando em nossos cálculos.\n",
    "\n",
    "Já na segunda soma, cada um dos termos é elevado ao quadrado e então são somados:\n",
    "\n",
    "$$\n",
    "\\begin{split}\n",
    "    \\sum \\left(x\\right)^2 = \\sum \\left(\\bar{t}\\right)^2 &= \n",
    "    \\left(0{,}000\\,s\\right)^2 + \n",
    "    \\left(0{,}905\\,s\\right)^2 + \n",
    "    \\left(1{,}833\\,s\\right)^2 +\\\\ \n",
    "    &+\\left(2{,}770\\,s\\right)^2 + \n",
    "    \\left(3{,}684\\,s \\right)^2\\\\\n",
    "    &= 25{,}424\\,s^2.\n",
    "\\end{split}\n",
    "$$"
   ]
  },
  {
   "cell_type": "markdown",
   "metadata": {},
   "source": [
    "Convenhamos que mesmo que o número de dados $n$ seja pequeno, calcular todas essas somas e depois substituí-las nas equações \\eqref{eq:coef_linear} e \\eqref{eq:coef_angular} poe ser bastante trabalhoso. Por isso, escreveremos funções que permitiram calcular os valores dessas somas e nos retornar os valores dos coeficientes.\n",
    "\n",
    "Vamos começar escrevendo a função para o coeficiente linear $a$."
   ]
  },
  {
   "cell_type": "code",
   "execution_count": 269,
   "metadata": {
    "ExecuteTime": {
     "end_time": "2020-05-31T17:34:58.519644Z",
     "start_time": "2020-05-31T17:34:58.508498Z"
    }
   },
   "outputs": [],
   "source": [
    "def coef_linear(x, y):\n",
    "    \"\"\"\n",
    "    Dada a equação da reta y = a + bx, fornecidos os valores correspondentes \n",
    "    das variáveis independente (x) e dependente (y), calculá-se o coeficiente \n",
    "    linear (a).\n",
    "    \n",
    "    Argumentos:\n",
    "    -----------\n",
    "    x - list: lista com os valores da variável independente\n",
    "    y - list: lista com os valores da variável dependente\n",
    "    \n",
    "    Retorno:\n",
    "    --------\n",
    "    A função retorna o valor do coeficiente linear da equação da reta, isto é,\n",
    "    o valor de ``a`` na equação y = a + bx.\n",
    "    \"\"\"\n",
    "    n = len(x)          # número de dados disponíveis\n",
    "    \n",
    "    s_y  = y.sum()      # calcula a soma dos valores em y\n",
    "    s_x2 = (x**2).sum() # calcula a soma dos valores de x²\n",
    "    \n",
    "    s_x  = x.sum()      # calcula a soma dos valores em x\n",
    "    s_xy = (x*y).sum()  # calcula a soma dos valores xy\n",
    "    \n",
    "    s_2x = x.sum()**2   # calcula a soma dos valores em x e depois eleva ao quadrado\n",
    "    \n",
    "    numerador   = s_y*s_x2 - s_x*s_xy # calcula o numerador do coeficiente linear\n",
    "    denominador = n*s_x2 - s_2x       # calcula o denominador do coeficiente linear\n",
    "    \n",
    "    return round(numerador/denominador, 2) # retorna o valor do coeficiente linear arredondado \n",
    "                                           # conforme o número de algarismos significativos"
   ]
  },
  {
   "cell_type": "markdown",
   "metadata": {},
   "source": [
    "Da mesma forma, definimos uma função para calcular o coeficiente angular $b$:"
   ]
  },
  {
   "cell_type": "code",
   "execution_count": 266,
   "metadata": {
    "ExecuteTime": {
     "end_time": "2020-05-31T17:34:42.982510Z",
     "start_time": "2020-05-31T17:34:42.975974Z"
    }
   },
   "outputs": [],
   "source": [
    "def coef_angular(x, y):\n",
    "    \"\"\"\n",
    "    Dada a equação da reta y = a + bx, fornecidos os valores correspondentes \n",
    "    das variáveis independente (x) e dependente (y), calculá-se o coeficiente \n",
    "    angular (b).\n",
    "    \n",
    "    Argumentos:\n",
    "    -----------\n",
    "    x - list: lista com os valores da variável independente\n",
    "    y - list: lista com os valores da variável dependente\n",
    "    \n",
    "    Retorno:\n",
    "    --------\n",
    "    A função retorna o valor do coeficiente angular da equação da reta, isto é,\n",
    "    o valor de ``b`` na equação y = a + bx.\n",
    "    \"\"\"\n",
    "    n = len(x)          # número de dados disponíveis\n",
    "    \n",
    "    s_xy = (x*y).sum()  # calcula a soma dos valores de xy\n",
    "    \n",
    "    s_x  = x.sum()      # calcula a soma dos valores em x\n",
    "    s_y  = y.sum()      # calcula a soma dos valores em y\n",
    "    \n",
    "    s_x2 = (x**2).sum() # calcula a soma dos valores de x²\n",
    "    \n",
    "    s_2x = x.sum()**2   # calcula a soma dos valores em x e depois eleva ao quadrado\n",
    "    \n",
    "    numerador   = n*s_xy - s_x*s_y # calcula o numerador do coeficiente angular\n",
    "    denominador = n*s_x2 - s_2x    # calcula o denominador do coeficiente angular\n",
    "    \n",
    "    return round(numerador/denominador, 2) # retorna o valor do coeficiente angular arredondado \n",
    "                                           # conforme o número de algarismos significativos"
   ]
  },
  {
   "cell_type": "markdown",
   "metadata": {},
   "source": [
    "Como já mencionado, no nosso caso, a lista de valores contidas na variável independente $x$ são as médias dos tempos em cada um dos sensores, isto é, os valores que se encontram na coluna ``tempos médios [s]`` do nosso ``DataFrame``. Já a variável dependente $y$ se refere aos valores das posições dos sensores, fornecidos pela coluna ``s [cm]`` do nosso ``DataFrame``. \n",
    "\n",
    "Dessa forma, para ajustar o modelo matemático que corresponde a equação da reta aos nossos dados, usamos esses valores nas funções definidas acima. Primeiramente, vamos encontrar o valor do coeficiente linear $a$:"
   ]
  },
  {
   "cell_type": "code",
   "execution_count": 270,
   "metadata": {
    "ExecuteTime": {
     "end_time": "2020-05-31T17:35:01.374559Z",
     "start_time": "2020-05-31T17:35:01.365347Z"
    }
   },
   "outputs": [
    {
     "data": {
      "text/plain": [
       "0.13"
      ]
     },
     "execution_count": 270,
     "metadata": {},
     "output_type": "execute_result"
    }
   ],
   "source": [
    "# definindo as variáveis para usar na função\n",
    "x = df_dados['tempo médio [s]'] # lista de valores dos tempos médios: variável independente x\n",
    "y = df_dados['S [cm]']          # lista de valores das posições dos sensores: variável dependente y\n",
    "\n",
    "a = coef_linear(x, y)\n",
    "a"
   ]
  },
  {
   "cell_type": "markdown",
   "metadata": {},
   "source": [
    "Usando as mesmas variáveis ``x`` e ``y`` definidas na célula acima, calculamos o valor do coeficiente angular:"
   ]
  },
  {
   "cell_type": "code",
   "execution_count": 271,
   "metadata": {
    "ExecuteTime": {
     "end_time": "2020-05-31T17:35:05.534117Z",
     "start_time": "2020-05-31T17:35:05.520510Z"
    }
   },
   "outputs": [
    {
     "data": {
      "text/plain": [
       "16.25"
      ]
     },
     "execution_count": 271,
     "metadata": {},
     "output_type": "execute_result"
    }
   ],
   "source": [
    "b = coef_angular(x, y)\n",
    "b"
   ]
  },
  {
   "cell_type": "markdown",
   "metadata": {},
   "source": [
    "Os valores de interesse foram obtidos. Contudo, ainda falta uma parte crucial: as unidades! É preciso em nossos cálculos levar em consideração as unidades das quantidades envolvidas. Para descobrir as unidades dos coeficiente linear $a$ e angular $b$, basta fazer uma análise dimensional nas equações \\eqref{eq:coef_linear} e \\eqref{eq:coef_angular}. Para a primeira delas, observe que ambos os termos do numerador possuem dimensões de $[y] \\cdot [x]^2$ e do denominador de $[x]^2$:\n",
    "\n",
    "$$\n",
    "    [a] = \\frac{[y]\\cdot [x]^2}{[x]^2} = [y].\n",
    "$$\n",
    "\n",
    "Como no nosso caso $x \\to \\bar{t}$ e $y \\to S$, temos\n",
    "\n",
    "$$\n",
    "    [a] = [S] = cm.\n",
    "$$\n",
    "\n",
    "No caso do coeficiente angular, ambos os termos do numerador possuem dimensões de $[x]\\cdot[y]$ e do denominador $[x]^2$:\n",
    "\n",
    "$$\n",
    "    [b] = \\frac{[x]\\cdot[y]}{[x]^2} = \\frac{[y]}{[x]}.\n",
    "$$\n",
    "\n",
    "Portanto, mais uma vez como $x \\to \\bar{t}$ e $y \\to S$, temos\n",
    "\n",
    "$$\n",
    "    [b] = \\frac{[S]}{[t]} = \\frac{cm}{s}.\n",
    "$$\n",
    "\n",
    "Vemos então que a dimesão do coeficiente linear é de distância ($cm$) e a do coeficiente angular é de velocidade - distância por tempo - ($cm/s$)."
   ]
  },
  {
   "cell_type": "markdown",
   "metadata": {},
   "source": [
    "Vamos agora juntar as informações obtidas nessa última parte para escrever o modelo que se ajusta aos dados experimentais.\n",
    "\n",
    "1. Inspecionamos os dados em um gráfico de $S\\times \\bar{t}$ e observamos um comportamento linear;\n",
    "2. A partir dessa observação, propomos um modelo linear para explicar o comportamento do fenômeno observado:\n",
    "$$\n",
    "    y = a + bx;\n",
    "$$\n",
    "3. Usamos o método dos mínimos quadrados para obter os coeficientes linear $a = 0{,}13$ e angular $b = 16{,}25$.\n",
    "4. Fizemos uma análise dimensional para obter as unidades dos coeficientes, de maneira que \n",
    "$$\n",
    "\\begin{split}\n",
    "    a &= 0{,}13\\, &cm\\\\\n",
    "    b &= 16{,}25\\,&cm/s\n",
    "\\end{split}\n",
    "$$\n",
    "5. Finalmente podemos escrever a equação que melhor se ajusta aos dados experimentais:\n",
    "$$\n",
    "    y = 0{,}13 + 16{,}25 x\n",
    "$$\n",
    "ou em termos das variáveis físicas envolvidas\n",
    "$$\n",
    "    \\hat{S}(t) = \\left(0{,}13\\,cm \\right) + \\left(16{,}25\\,cm/s \\right) t\n",
    "$$\n",
    "em que usamos um $\\hat{S}$ para diferenciar o modelo teórico das posições experimentais $S$."
   ]
  },
  {
   "cell_type": "markdown",
   "metadata": {},
   "source": [
    "## Usando a função ``polyfit`` do ``numpy``\n",
    "<a class='subsection' id='usando_a_funcao_polyfit_do_numpy'></a>"
   ]
  },
  {
   "cell_type": "markdown",
   "metadata": {},
   "source": [
    "Existe uma maneira bem mais fácil de se obter os coeficientes da reta a partir dos dados. Quando digo mais fácil, quero dizer em apenas uma linha código. Para isso, devemos usar a função ``polyfit`` do pacote ``numpy``. Esse pacote já foi importado na seção [2](#pacotes_e_funcoes), mas vamos importá-lo novamente aqui:"
   ]
  },
  {
   "cell_type": "code",
   "execution_count": 495,
   "metadata": {
    "ExecuteTime": {
     "end_time": "2020-06-01T20:36:06.273140Z",
     "start_time": "2020-06-01T20:36:06.270360Z"
    }
   },
   "outputs": [],
   "source": [
    "# importamos o pacote ``numpy`` e vamos nos referir a ele como ``np``\n",
    "import numpy as np"
   ]
  },
  {
   "cell_type": "markdown",
   "metadata": {},
   "source": [
    "Para fazer uso da função ``polyfit``, chamamos ela como ``np.polyfit(x, y, deg)``. Os três parâmetros que devem ser passados à função são quase auto-explicativos:\n",
    "\n",
    "```python\n",
    "    x -> lista com valores das variáveis independentes\n",
    "    y -> lista com valores das variáveis dependentes\n",
    "    deg -> grau do polinômio que quremos ajustar aos dados x e y.\n",
    "```\n",
    "\n",
    "No nosso caso, os valores das variáveis independentes são os tempos médios que o móvel leva para passa pelos sensores, armazenadas na variável ``tempo_medio``. Já as variáveis dependentes são as posições experimentais dos sensores, armazenadas na variável ``posicao_experimental``. Contudo, vamos reescrever essas variáveis para relembrar os valores que cada uma armazena."
   ]
  },
  {
   "cell_type": "code",
   "execution_count": 505,
   "metadata": {
    "ExecuteTime": {
     "end_time": "2020-06-01T20:59:43.305672Z",
     "start_time": "2020-06-01T20:59:43.299186Z"
    }
   },
   "outputs": [],
   "source": [
    "tempo_medio          = [0.000, 0.905, 1.833, 2.770, 3.684] # em segundos, variável x na função ``polyfit``\n",
    "posicao_experimental = [0.00 , 15.00, 30.00, 45.00, 60.00] # em cm, variável y na função ``polyfit``"
   ]
  },
  {
   "cell_type": "markdown",
   "metadata": {},
   "source": [
    "Como propomos um modelo linear para explicar o comportamento do móvel com o passar do tempo, estamos ajustando uma reta, um polinômio de grau 1, aos dados. Dessa forma, devemos usar\n",
    "\n",
    "```python\n",
    "    deg=1\n",
    "```\n",
    "como terceiro argumento na função ``polyfit``.\n",
    "\n",
    "Assim, substituindo os valores de forma adequada, devemos ter:"
   ]
  },
  {
   "cell_type": "code",
   "execution_count": 507,
   "metadata": {
    "ExecuteTime": {
     "end_time": "2020-06-01T20:59:57.867783Z",
     "start_time": "2020-06-01T20:59:57.862745Z"
    }
   },
   "outputs": [
    {
     "data": {
      "text/plain": [
       "array([16.2503963 ,  0.13127144])"
      ]
     },
     "execution_count": 507,
     "metadata": {},
     "output_type": "execute_result"
    }
   ],
   "source": [
    "np.polyfit(x=tempo_medio, y=posicao_teorica, deg=1)"
   ]
  },
  {
   "cell_type": "markdown",
   "metadata": {},
   "source": [
    "A função retorna um ``array`` com dois valores. O primeiro deles é o coeficiente angular e o segundo o coeficiente linear. Podemos arredondar esses valores para conter os algarismos signficativos provenientes dos nossos dados:"
   ]
  },
  {
   "cell_type": "code",
   "execution_count": 508,
   "metadata": {
    "ExecuteTime": {
     "end_time": "2020-06-01T21:01:42.787799Z",
     "start_time": "2020-06-01T21:01:42.779978Z"
    }
   },
   "outputs": [
    {
     "data": {
      "text/plain": [
       "array([16.25,  0.13])"
      ]
     },
     "execution_count": 508,
     "metadata": {},
     "output_type": "execute_result"
    }
   ],
   "source": [
    "np.polyfit(x=tempo_medio, y=posicao_teorica, deg=1).round(2)"
   ]
  },
  {
   "cell_type": "markdown",
   "metadata": {},
   "source": [
    "Veja que esses valores são exatamente os que foram obtidos usando as funções dos coeficientes angular e linear, respectivamente, na seção anterior. Vimos então, que usando apenas uma linha podemos encontrar os coeficientes do nosso modelo linear sem grandes problemas."
   ]
  },
  {
   "cell_type": "markdown",
   "metadata": {},
   "source": [
    "# Comparando o modelo com os dados\n",
    "<a class='section' id='comprando_o_modelo_com_os_dados'></a>"
   ]
  },
  {
   "cell_type": "markdown",
   "metadata": {},
   "source": [
    "## Comparações iniciais\n",
    "<a class='subsection' id='comparacoes_iniciais'></a>"
   ]
  },
  {
   "cell_type": "markdown",
   "metadata": {},
   "source": [
    "Podemos comparar o modelo teórico com os dados experimentais de diferentes formas. O primeiro método que podemos utilizar é via gráfico. Essa comparação qualitativa nos permite visualizar se o modelo teórico se aproxima bem dos dados obtidos experimentalmente. Se observamos uma concordância razoável, podemos partir para métodos quantitativo que complementarão nossos resultados e nos forneceram uma estimativa numérica do quão bom é o nosso modelo, isto é, o quão bem ele descreve os dados observados desse fenômeno.\n",
    "\n",
    "Nas subseções a seguir, iremos discutir esses métodos e então sintetizar nossos resultados. Mas antes disso, para fazermos a comparação, precisamos analisar a equação da reta obtida com os coeficientes $a$ e $b$ e gerar as posições em função do tempo. \n",
    "\n",
    "Nosso modelo linear é dado pela equação\n",
    "\n",
    "$$\n",
    "    \\hat{S}(t) = \\left(0{,}13\\,cm \\right) + \\left(16{,}25\\,cm/s \\right) t.\n",
    "$$\n",
    "\n",
    "Portanto, devemos usar os tempos cronometrados em cada um dos sensores para obter os valores das posições do móvel ao passar por cada um deles. Para isso, usaremos os valores médios dos tempos, calculados na seção [4.1.3](#calculando_a_media_dos_tempos_nos_sensores).\n",
    "\n",
    "Para refrescar nossa memória, podemos obter os valores do ``DataFrame`` ``df_dados``:"
   ]
  },
  {
   "cell_type": "code",
   "execution_count": 260,
   "metadata": {
    "ExecuteTime": {
     "end_time": "2020-05-31T17:23:37.252060Z",
     "start_time": "2020-05-31T17:23:37.239095Z"
    }
   },
   "outputs": [
    {
     "data": {
      "text/plain": [
       "Sensor 1    0.000\n",
       "Sensor 2    0.905\n",
       "Sensor 3    1.833\n",
       "Sensor 4    2.770\n",
       "Sensor 5    3.684\n",
       "Name: tempo médio [s], dtype: float64"
      ]
     },
     "execution_count": 260,
     "metadata": {},
     "output_type": "execute_result"
    }
   ],
   "source": [
    "df_dados['tempo médio [s]']"
   ]
  },
  {
   "cell_type": "markdown",
   "metadata": {},
   "source": [
    "Dessa forma, as posições do móvel fornecidas pelo modelo são:\n",
    "\n",
    "$$\n",
    "\\begin{split}\n",
    "    \\text{Sensor 1} \\to t &= 0{,}000 \\to \\hat{S}(0{,}000)\\, &= \\left( 0{,}13\\,cm \\right) + \\left( 16{,}25\\,cm/s \\right)\\left( 0{,}000\\,s \\right) &= \\phantom{0}0{,}13\\,cm,\\\\\n",
    "    \\text{Sensor 2} \\to t &= 0{,}905 \\to \\hat{S}(0{,}905)\\, &= \\left( 0{,}13\\,cm \\right) + \\left( 16{,}25\\,cm/s \\right)\\left( 0{,}905\\,s \\right) &= 14{,}84\\,cm,\\\\\n",
    "    \\text{Sensor 3} \\to t &= 1{,}833 \\to \\hat{S}(1{,}833)\\, &= \\left( 0{,}13\\,cm \\right) + \\left( 16{,}25\\,cm/s \\right)\\left( 1{,}833\\,s \\right) &= 29{,}92\\,cm,\\\\\n",
    "    \\text{Sensor 4} \\to t &= 2{,}770 \\to \\hat{S}(2{,}770)\\, &= \\left( 0{,}13\\,cm \\right) + \\left( 16{,}25\\,cm/s \\right)\\left( 2{,}770\\,s \\right) &= 45{,}14\\,cm,\\\\\n",
    "    \\text{Sensor 5} \\to t &= 3{,}684 \\to \\hat{S}(3{,}684)\\, &= \\left( 0{,}13\\,cm \\right) + \\left( 16{,}25\\,cm/s \\right)\\left( 3{,}684\\,s \\right) &= 60{,}00\\,cm.\\\\\n",
    "\\end{split}\n",
    "$$"
   ]
  },
  {
   "cell_type": "markdown",
   "metadata": {
    "ExecuteTime": {
     "end_time": "2020-05-31T17:36:57.404775Z",
     "start_time": "2020-05-31T17:36:57.395987Z"
    }
   },
   "source": [
    "Assim, para colocar esses pontos no gráfico, juntamente com os dados experimentais, devemos criar uma lista com esses valores. Podemos fazer isso calculando cada um dos valores \"na mão\", como feito acima. Podemos criar uma função que descreva a posição teórica do móvel em função do tempo. Uma maneira de fazer isso é com o código abaixo:"
   ]
  },
  {
   "cell_type": "code",
   "execution_count": 276,
   "metadata": {
    "ExecuteTime": {
     "end_time": "2020-05-31T18:12:22.796821Z",
     "start_time": "2020-05-31T18:12:22.789025Z"
    }
   },
   "outputs": [],
   "source": [
    "def modelo_teorico(t):\n",
    "    \"\"\"\n",
    "    Função que calcula as posições do móvel em um determinado instante t.\n",
    "    A função, modelo linear, foi obtida a partir do método de mínimos\n",
    "    quadrados ajustando os coeficientes linear e angular via método dos \n",
    "    mínimos quadrados. A função obtida a partir dos ajustes é escrita como\n",
    "    S^(t) = (0.13 cm) + (16.25 cm/s)t\n",
    "    \n",
    "    Argumentos:\n",
    "    -----------\n",
    "    t - float: tempo, em segundos, no qual se quer saber a posição do móvel.\n",
    "    \n",
    "    Retorno:\n",
    "    --------\n",
    "    S^ - float: posição do móvel, em cm,  no instante de tempo t.\n",
    "    \"\"\"\n",
    "    \n",
    "    return round(0.13 + 16.25*t, 2)"
   ]
  },
  {
   "cell_type": "markdown",
   "metadata": {},
   "source": [
    "Usando essa função podemos então calcular a posição teórica do móvel para cada instante de tempo $t$:"
   ]
  },
  {
   "cell_type": "markdown",
   "metadata": {},
   "source": [
    "```python\n",
    "    >>> modelo_teorico(0.000) \n",
    "        0.13\n",
    "    >>> modelo_teorico(0.905)\n",
    "        14.84\n",
    "    >>> modelo_teorico(1.833)\n",
    "        29.92\n",
    "    >>> modelo_teorico(2.770)\n",
    "        45.14\n",
    "    >>> modelo_teorico(3.684)\n",
    "        60.00\n",
    "```"
   ]
  },
  {
   "cell_type": "markdown",
   "metadata": {},
   "source": [
    "Contudo, ao invés de calcular cada um dos valores separadamente, podemos criar uma lista de valores diretamente usando uma ``lista de compreensão`` (``list comprehension``):"
   ]
  },
  {
   "cell_type": "code",
   "execution_count": 277,
   "metadata": {
    "ExecuteTime": {
     "end_time": "2020-05-31T18:12:37.914308Z",
     "start_time": "2020-05-31T18:12:37.907229Z"
    }
   },
   "outputs": [
    {
     "data": {
      "text/plain": [
       "[0.13, 14.84, 29.92, 45.14, 60.0]"
      ]
     },
     "execution_count": 277,
     "metadata": {},
     "output_type": "execute_result"
    }
   ],
   "source": [
    "[modelo_teorico(t) for t in df_dados['tempo médio [s]']]"
   ]
  },
  {
   "cell_type": "markdown",
   "metadata": {},
   "source": [
    "Vamos \"quebrar\" o código acima:\n",
    "\n",
    "```python\n",
    "    - df_dados['tempo médio [s]'] -> contém os valores dos tempos médios;\n",
    "    - o comando for atribui à variável t um dos valores na lista de tempos em cada etapa do loop;\n",
    "        - no primeiro passo do loop: t = 0.000\n",
    "        - no segundo passo do loop : t = 0.905\n",
    "            .\n",
    "            .\n",
    "            .\n",
    "    - t, com seu respectivo valor, é injetado na função posicao_modelo\n",
    "    - a função retorna o valor da posiçao do móvel\n",
    "```\n",
    "\n",
    "Atribuímos essa lista a uma variável chamada ``posicao_teorica``:"
   ]
  },
  {
   "cell_type": "code",
   "execution_count": 278,
   "metadata": {
    "ExecuteTime": {
     "end_time": "2020-05-31T18:13:28.740296Z",
     "start_time": "2020-05-31T18:13:28.735264Z"
    }
   },
   "outputs": [
    {
     "data": {
      "text/plain": [
       "[0.13, 14.84, 29.92, 45.14, 60.0]"
      ]
     },
     "execution_count": 278,
     "metadata": {},
     "output_type": "execute_result"
    }
   ],
   "source": [
    "posicao_teorica = [modelo_teorico(t) for t in df_dados['tempo médio [s]']]\n",
    "posicao_teorica"
   ]
  },
  {
   "cell_type": "markdown",
   "metadata": {},
   "source": [
    "Com esses resultados, podemos já nos precipitar e dizer que o nosso modelo teórico é uma boa aproximação para o fenômeno observado no experimento. Comparando os valores das posições experimentais com as obtidas a partir do modelo, encontramos diferenças muito pequenas:\n",
    "\n",
    "$$\n",
    "\\begin{split}\n",
    "    &\\text{Posições experimentais} &\\to [0{,}00, 15{,}00, 30{,}00, 45{,}00, 60{,}00]\\,cm,\\\\\n",
    "    &\\text{Posições teóricas}      &\\to [0{,}13, 14{,}84, 29{,}92, 45{,}14, 60{,}00]\\,cm,\\\\\n",
    "    &\\text{Diferença das posições} &\\to [0{,}13, \\phantom{0}0{,}16, \\phantom{0}0{,}08, \\phantom{0}0{,}14, \\phantom{0}0{,}00]\\,cm. \n",
    "\\end{split}\n",
    "$$\n",
    "\n",
    "Vemos então que as diferenças, considerando valores absolutos, são muito pequenas.\n",
    "Na próxima seção, veremos como isso é transmitido em um gráfico."
   ]
  },
  {
   "cell_type": "markdown",
   "metadata": {},
   "source": [
    "## Comparação via gráfico\n",
    "<a class='subsection' id='comparacao_via_grafico'></a>"
   ]
  },
  {
   "cell_type": "markdown",
   "metadata": {},
   "source": [
    "O primeiro método que iremos usar como comparação entre o modelo teórico obtido (equação da reta) e os dados experimentais é via gráfico. Iremos plotar os dados experimentais (mesmo gráfico da seção [5](#confeccionando_o_grafico_sxt)) e juntos a eles os resultados do modelo teórico. Abaixo, vamos escrever o código para confeccionar o gráfico que contém os dados experimentais e os resultados teoricos obtidos acima."
   ]
  },
  {
   "cell_type": "code",
   "execution_count": 279,
   "metadata": {
    "ExecuteTime": {
     "end_time": "2020-05-31T18:23:40.384162Z",
     "start_time": "2020-05-31T18:23:40.378940Z"
    }
   },
   "outputs": [],
   "source": [
    "tempo_medio          = df_dados['tempo médio [s]'] # tempo médio do móvel em cada sensor\n",
    "posicao_experimental = df_dados['S [cm]']          # posição experimental do móvel\n",
    "posicao_teorica      = posicao_teorica             # posição teórica do móvel (redefinindo o valor obtido acima)"
   ]
  },
  {
   "cell_type": "markdown",
   "metadata": {},
   "source": [
    "Temos tudo que precisamos para confeccionar o gráfico. O código para mostrar os valores teóricos e experimentais é escrito como:"
   ]
  },
  {
   "cell_type": "code",
   "execution_count": 291,
   "metadata": {
    "ExecuteTime": {
     "end_time": "2020-05-31T20:15:41.766486Z",
     "start_time": "2020-05-31T20:15:41.442094Z"
    }
   },
   "outputs": [
    {
     "data": {
      "image/png": "[encoded data removed]",
      "text/plain": [
       "<Figure size 576x432 with 1 Axes>"
      ]
     },
     "metadata": {
      "needs_background": "light"
     },
     "output_type": "display_data"
    }
   ],
   "source": [
    "# primeiramente plotamos o gráfico com os dados experimentais\n",
    "plt.plot(\n",
    "    tempo_medio,                # primeiro argumento são os valores do eixo x\n",
    "    posicao_experimental,       # segundo argumento são os valores do eixo y\n",
    "    marker='o',                 # tipo do ponto usado para marcar as coordenadas (x,y)\n",
    "    markersize=15,              # muda o tamanho dos pontos\n",
    "    markerfacecolor=\"#FFFFFF\",  # muda a cor interna dos pontos\n",
    "    lw=0,                       # faz a linha que liga os pontos ter espessura (width) 0\n",
    "    label='Dados experimentais' # nome para colocar na legenda\n",
    ");\n",
    "\n",
    "# agora plotamos os valores teóricos. Para cada posição téorica usamos os tempos médios respectivos\n",
    "plt.plot(\n",
    "    tempo_medio,            # primeiro argumento são os valores do eixo x\n",
    "    posicao_teorica,        # segundo argumento são os valores do eixo y\n",
    "    marker='x',             # tipo do ponto usado para marcar as coordenadas (x,y)\n",
    "    markersize=8,           # muda o tamanho dos pontos\n",
    "    color='#FF0000',        # muda a cor interna dos pontos\n",
    "    ls='--',                # muda o estilo da linha que liga os pontos para tracejado\n",
    "    label='Modelo ajustado' # nome para colocar na legenda\n",
    ")\n",
    "\n",
    "# adicionamos uma legenda para ajudar na leitura do gráfico\n",
    "# a legenda incluirá os ``label's`` adicionados em cada plot.\n",
    "plt.legend()\n",
    "\n",
    "# desenha as linhas que acompanham os valores nos eixos\n",
    "plt.grid()\n",
    "\n",
    "# é importante colocar o nome das quantidade nos eixos\n",
    "plt.xlabel('tempo, t [s]');\n",
    "plt.ylabel('posição, S [m]');\n",
    "plt.title('Posição do móvel em função do tempo.');"
   ]
  },
  {
   "cell_type": "markdown",
   "metadata": {},
   "source": [
    "Observe como os pontos do ``Modelo ajustado`` \"cai\" bem em cima dos pontos dos ``Dados experimentais``. Isso é um indicativo de que o ajuste ao modelo linear proposto é bom. A partir dessa análisa qualitativa, vamos então obter algumas estimativas numéricas do quão bom nosso modelo é para descrever os dados experimentais, isto é, o cenário experimental que trabalhamos."
   ]
  },
  {
   "cell_type": "markdown",
   "metadata": {},
   "source": [
    "## Comparação via desvio percentual\n",
    "<a class='subsection' id='comparacao_via_desvio_percentual'></a>"
   ]
  },
  {
   "cell_type": "markdown",
   "metadata": {},
   "source": [
    "O **desvio percentual** é utilizado quando se compara uma medida experimental com um valor teórico. Suponha que estamos interessados em comparar uma quantidade $X$ entre o experimento e o modelo teórico. Usando o desvio percentual, podemos fazer isso utilizando a seguinte expressão:\n",
    "\n",
    "$$\n",
    "    D_X = \\left| \\frac{X_{teórico} - X_{experimental}}{X_{experimental}} \\right|\\cdot 100\\%.\n",
    "$$"
   ]
  },
  {
   "cell_type": "markdown",
   "metadata": {},
   "source": [
    "No nosso caso, a quantidade que queremos comparar entre os dados experimentais e teóricos é a velocidade $v$ do móvel. Portanto, nesse cenário, devemos calcular:\n",
    "\n",
    "$$\n",
    "    D_v = \\left| \\frac{v_{teórico} - v_{experimental}}{v_{experimental}} \\right|\\cdot 100\\%.\n",
    "    \\label{eq:desvio_perc_v}\n",
    "$$"
   ]
  },
  {
   "cell_type": "markdown",
   "metadata": {},
   "source": [
    "Como vimos na seção [3.1](#breve_revisao_teorica), a velocidade pode ser obtida calculando o coeficiente da reta no gráfico $S\\times t$. Podemos então obter as velocidade experimental e teórica usando dois pontos em suas respectivas retas (gráfico acima) e compará-las usando a equação \\eqref{eq:desvio_perc_v}. As inclinações dessas retas podem ser obtidas então por meio das equações\n",
    "\n",
    "$$\n",
    "\\begin{split}\n",
    "    v_{experimental} &= \\frac{\\Delta S}{\\Delta t}\\\\ \n",
    "    v_{teórico}      &= \\frac{\\Delta \\hat{S}}{\\Delta t}\\\\\n",
    "\\end{split}\n",
    "$$\n",
    "\n",
    "Para calcular as velocidades, consideraremos os tempos dos sensores 3 e 4. Assim, experimentalmente temos:\n",
    "\n",
    "$$\n",
    "\\begin{split}\n",
    "    v_{experimental} &= \\frac{\\Delta S}{\\Delta t} = \\frac{S(t=2{,}770\\,s)-S(t=1{,}833\\,s)}{2{,}770\\,s -1{,}833\\,s}\\\\\n",
    "                     &= \\frac{45{,}00\\,cm - 30{,}00\\,cm}{0{,}937\\,s} = \\frac{15{,}00\\,cm}{0{,}937\\,s}\\\\ \n",
    "                     &= 16{,}01\\,cm/s.\n",
    "\\end{split}\n",
    "$$\n",
    "\n",
    "Já para a teórica:\n",
    "\n",
    "$$\n",
    "\\begin{split}\n",
    "    v_{teórica} &= \\frac{\\Delta \\hat{S}}{\\Delta t} = \\frac{\\hat{S}(t=2{,}770\\,s)-\\hat{S}(t=1{,}833\\,s)}{2{,}770\\,s -1{,}833\\,s}\\\\ \n",
    "                &= \\frac{45{,}14\\,cm - 29{,}92\\,cm}{0{,}937\\,s} = \\frac{15{,}22\\,cm}{0{,}937\\,s}\\\\ \n",
    "                &= 16{,}24\\,cm/s.\n",
    "\\end{split}\n",
    "$$"
   ]
  },
  {
   "cell_type": "markdown",
   "metadata": {
    "ExecuteTime": {
     "end_time": "2020-05-31T20:31:39.249479Z",
     "start_time": "2020-05-31T20:31:39.245362Z"
    }
   },
   "source": [
    "Substituindo esses valores na expressão \\eqref{eq:desvio_perc_v}, encontramos\n",
    "\n",
    "$$\n",
    "    D_v = \\left| \\frac{16{,}01\\,cm/s - 16{,}24\\,cm/s}{16{,}01\\,cm/s} \\right|\\cdot 100\\% = \\left| \\frac{-0{,}23\\,cm/s}{16{,}01\\,cm/s} \\right|\\cdot 100\\% = 0{,}01 \\cdot 100\\% = 1{,}00\\%\n",
    "$$"
   ]
  },
  {
   "cell_type": "markdown",
   "metadata": {
    "ExecuteTime": {
     "end_time": "2020-05-31T20:37:20.014332Z",
     "start_time": "2020-05-31T20:37:20.001929Z"
    }
   },
   "source": [
    "A conclusão que temos desse resultado é de que a velocidade obtida a partir dos dados experimentais quando comparada com aquela obtida a partir do modelo teórico proposto e ajustado é de apenas $1{,}00\\%$. Esse resultado nos mostra que os resultados obtidos a partir do modelo teórico desviam muito pouco do que é observado experimentalmente, e pode ser usado para descever o fenômeno observado."
   ]
  },
  {
   "cell_type": "markdown",
   "metadata": {},
   "source": [
    "## Comparação via $R^2$\n",
    "<a class='subsection' id='comparacao_via_r2'></a>"
   ]
  },
  {
   "cell_type": "markdown",
   "metadata": {},
   "source": [
    "O $R^2$, também conhecido como coeficiente de determinação, é um número que estima o quão bom o nosso ajuste matemático (nosso modelo teórico) concorda com os dados. Seu valor está entre 0 e 1 ($R^2 \\in [0,1]$), onde o primeiro indica uma discrepância total entre o modelo e os dados e o segundo caso um \"casasmento\" perfeito.\n",
    "Nessa seção iremos aprender como calcular essa quantidade e então ter uma medida quantitativa que nos diz sobre a qualidade do nosso modelo comparado com os dados."
   ]
  },
  {
   "cell_type": "markdown",
   "metadata": {},
   "source": [
    "A primeira etapa para se calcular o $R^2$ é calcular o valor médio dos dados observados, isto é, os dados que foram usados para ajustar o modelo teórico. No nosso caso esses correspondem aos dados experimentais, referentes às posições dos sensores, $S$. Assim, a primeira quantidade que devemos obter é:\n",
    "\n",
    "$$\n",
    "    \\bar{S} = \\frac{1}{n}\\sum\\limits_{i=1}^{n}S_i,\n",
    "$$\n",
    "\n",
    "isto é, a soma de todas as posições dos sensores dividida pelo número total de posições disponíveis, no caso $n=5$. Calculando essa quantidade, temos\n",
    "\n",
    "$$\n",
    "\\begin{split}\n",
    "    \\bar{S} &= \\frac{1}{5} \\left(0{,}00\\,cm + 15{,}00\\,cm + 30{,}00\\,cm + 45{,}00\\,cm + 60{,}00\\,cm \\right)\\\\\n",
    "    \\bar{S} &= \\frac{150{,}00\\,cm}{5}\\\\\n",
    "    \\bar{S} &= 30{,}00\\,cm.\n",
    "\\end{split}\n",
    "$$"
   ]
  },
  {
   "cell_type": "markdown",
   "metadata": {},
   "source": [
    "A segunda quantidade é a soma dos quadrados das diferenças entre os dados e o valor médio. Confuso? Para calcular essa quantidade, pegamos cada uma das posições dos sensores $[0{,}00, 15{,}00, 30{,}00, 45{,}00, 60{,}00]\\,cm$ e subtraímos da média que acabamos de calcular:\n",
    "\n",
    "$$\n",
    "    [0{,}00, 15{,}00, 30{,}00, 45{,}00, 60{,}00]\\,cm - 30{,}00\\,cm\n",
    "$$\n",
    "\n",
    "que nos fornecerá\n",
    "\n",
    "$$\n",
    "    [-30{,}00, -15{,}00, 0{,}00, 15{,}00, 30{,}00]\\,cm.\n",
    "$$\n",
    "\n",
    "Em seguida, cada um desses valores é elevado ao quadrado\n",
    "\n",
    "$$\n",
    "    [900{,}00, 225{,}00, 0{,}00, 225{,}00, 900{,}00]\\,cm^2\n",
    "$$\n",
    "\n",
    "e então são somados, resultando em $2.250{,}00\\,cm^2$.\n",
    "\n",
    "Em termos de uma única soma, escrevemos apenas\n",
    "\n",
    "$$\n",
    "    SS_{tot} = \\sum\\limits_{i=1}^{n}\\left( S_i - \\bar{S}\\right)^2,\n",
    "$$\n",
    "\n",
    "que, como já vimos, é \n",
    "\n",
    "$$\n",
    "    SS_{tot} = 2.250{,}00\\,cm^2.\n",
    "$$"
   ]
  },
  {
   "cell_type": "markdown",
   "metadata": {},
   "source": [
    "<!--A próxima quatidade que precisamos é muito parecida de se calcular quando comparada com a anterior. A única diferença é que ao invés de usar os dados experimentais, usamos os valores obtidos do modelo teórico, no nosso caso, os valores de $\\hat{S}$. Assim, temos que calcular a soma dos quadrados da regressão:\n",
    "\n",
    "$$\n",
    "    SS_{reg} = \\sum\\limits_{i=1}^{n} \\left(\\hat{S}_i - \\bar{S}\\right)^2.\n",
    "$$\n",
    "\n",
    "Usando os valores obtidos do modelo temos então:\n",
    "\n",
    "$$\n",
    "\\begin{split}\n",
    "    SS_{reg} &= \\left( 0{,}13\\,cm - 30{,}00\\,cm\\right)^2 \n",
    "              + \\left(14{,}84\\,cm - 30{,}00\\,cm\\right)^2 \n",
    "              + \\left(29{,}92\\,cm - 30{,}00\\,cm\\right)^2\\\\\n",
    "             &+ \\left(45{,}14\\,cm - 30{,}00\\,cm\\right)^2\n",
    "              + \\left(60{,}00\\,cm - 30{,}00\\,cm\\right)^2\\\\\n",
    "    SS_{reg} &= 2.251{,}27\\,cm^2\n",
    "\\end{split}\n",
    "$$ -->\n",
    "A próxima quantidade que precisamos é a soma dos quadrados dos resíduos. O resíduo é definido como sendo o valor do dado experimental menos o valor teórico. No nosso caso, o resíduo é definido como\n",
    "\n",
    "$$\n",
    "    e_i = S_i - \\hat{S}_i.\n",
    "$$\n",
    "\n",
    "Assim, temos que calcular a soma\n",
    "\n",
    "$$\n",
    "    SS_{res} = \\sum\\limits_{i=1}^{n} \\left( S_i - \\hat{S}_i \\right)^2 = \\sum\\limits_{i=1}^{n} e^2_i.\n",
    "$$\n",
    "\n",
    "Se observarmos bem, os resíduos já foram calculados no final da seção [7.1](#comecando_as_comparacoes). Usando os valores obtidos, temos\n",
    "\n",
    "\n",
    "$$\n",
    "\\begin{split}\n",
    "    SS_{res} &= \\left( -0{,}13\\,cm\\right)^2 \n",
    "              + \\left(  0{,}16\\,cm\\right)^2 \n",
    "              + \\left(  0{,}08\\,cm\\right)^2 \n",
    "              + \\left( -0{,}14\\,cm\\right)^2 \n",
    "              + \\left(  0{,}00\\,cm\\right)^2 \\\\\n",
    "    SS_{res} &= 0{,}07\\,cm^2.\n",
    "\\end{split}\n",
    "$$"
   ]
  },
  {
   "cell_type": "markdown",
   "metadata": {
    "ExecuteTime": {
     "end_time": "2020-05-31T22:17:23.176109Z",
     "start_time": "2020-05-31T22:17:23.169281Z"
    }
   },
   "source": [
    "Agora usamos a expressão\n",
    "\n",
    "$$\n",
    "    R^2 = 1 - \\frac{SS_{res}}{SS_{tot}}\n",
    "$$\n",
    "\n",
    "para calcular o coeficiente de determinação. Substituindo os valores das somas calculadas anteriorementes, temos\n",
    "\n",
    "$$\n",
    "    R^2 = 1 - \\frac{0{,}07\\,cm^2}{2.250{,}00\\,cm^2}\n",
    "$$\n",
    "\n",
    "E finalmente obtemos \n",
    "\n",
    "$$\n",
    "    R^2 = 1.\n",
    "$$\n",
    "\n",
    "Esse resultado nos informa que, quantitativamente, nosso ajuste realizado a partir de um modelo linear é perfeito. Esse resultado pode ser corroborado pelas análises feitas anteriormente: \n",
    "\n",
    "- as pequenas diferenças nos valores entre os dados experimentais e os valores teóricos ([7.1](#comparacoes_iniciais));\n",
    "- o colapso dos pontos experimentais e teóricos no gráfico ([7.2](#comparacao_via_grafico));\n",
    "- o desvio percentual baixíssimo entre as velocidades experimental e teórica ([7.3](#comparacao_via_desvio_percentual));"
   ]
  },
  {
   "cell_type": "markdown",
   "metadata": {},
   "source": [
    "# Conclusões\n",
    "<a class='section' id='conclusoes'></a>"
   ]
  },
  {
   "cell_type": "markdown",
   "metadata": {},
   "source": [
    "O experimento consistiu em obter dados das quatro realizações experimentais, onde foram aferidos os tempos em que o móvel levada para passar por cada um dos sensores. A partir desses, os tempos médios que levava para o móvel passar por cada um dos sensores foi calculado. Tínhamos como objetivo observar o tipo de comportamento entro a posição dos sensores ($S$) e o tempo ($t$) que levava para o móvel passar por eles. Para uma inspeção mais visual, confeccionamos um gráfico $S\\times t$, constatando uma relação linear entre essas quantidades."
   ]
  },
  {
   "cell_type": "markdown",
   "metadata": {
    "ExecuteTime": {
     "end_time": "2020-06-01T20:07:21.371626Z",
     "start_time": "2020-06-01T20:07:21.359286Z"
    }
   },
   "source": [
    "Propomos então um modelo linear para ajustar os dados experimentais. Usando as expressões proveninentes do método de mínimos quadrados, calculamos os coeficientes linear $a$ e angular $b$ da reta. Encontramos suas respectivas unidades e então escrevemos a equação do nosso modelo, ou seja, para estimar a posição do móvel em um instante de tempo $t$. A equação obtida foi\n",
    "\n",
    "$$\n",
    "    \\hat{S}(t) = \\left( 0{,}13\\,cm \\right) + \\left( 16{,}25\\,cm/s\\right) t.\n",
    "$$\n",
    "\n",
    "A partir dela, usamos os tempos médios encontrados experimentalmente e fizemos uma predição dos valores teóricos das posições. Essas foram comparadas às posições experimentais via gráfico, onde observamos uma boa concordância qualitativa. Contudo, precisamos de algo mais do que uma inspeção visual. Quantitativamente, comparamos as velocidades experimentais e proveninentes do modelo usando o desvio percentual. Os resultados obtidos foram de que o desvio entre essas quantidades era de $1{,}00\\%$, um valor muito pequeno, apontando na direção de que o modelo ajusta bem os dados. Por fim, calculamos o coeficiente de determinação $R^2$. O resultado encontrado corroborou com os anteriores, já que $R^2 = 1{,}00$ corresponde a uma descrição perfeita do modelo quando comparado com os dados experimentais.\n",
    "\n",
    "Verificamos que a equação horária de um movimento retilíneo com velocidade uniforme se adequou perfeitamente às observações experimentais."
   ]
  },
  {
   "cell_type": "markdown",
   "metadata": {},
   "source": [
    "# * Ajustando os dados com regressão linear\n",
    "<a class='section' id='ajustando_os_dados_com_regressao_linear'></a>"
   ]
  },
  {
   "cell_type": "markdown",
   "metadata": {},
   "source": [
    "Nessa seção extra, usaremos uma função já implementada para fazer a **regressão linear** a partir dos dados experimentais. Usaremos o pacote [``sklearn``](https://scikit-learn.org/stable/index.html) (*scikit-learn*), que possui várias ferramentas para **aprendizado de máquina** (*machine learning*). Apesar dessa seção ser breve, iremos separá-la em subseções para que o aprendizado do método seja fracionado e que os conceitos, em sua respectiva ordem, fiquem mais claros e para melhor referência em caso de dúvidas."
   ]
  },
  {
   "cell_type": "markdown",
   "metadata": {},
   "source": [
    "## Importanto os pacotes necessários\n",
    "<a class='subsection' id='importando_os_pacotes_necessarios'></a>"
   ]
  },
  {
   "cell_type": "markdown",
   "metadata": {
    "ExecuteTime": {
     "end_time": "2020-06-01T16:49:28.169563Z",
     "start_time": "2020-06-01T16:49:28.164741Z"
    }
   },
   "source": [
    "Na célula abaixo, vamos importar o objeto ``LinearRegression``. Para isso, procuramos dentro do pacote ``sklearn`` o módulo ``linear_model`` e importamos o objeto ``LinearRegression``:"
   ]
  },
  {
   "cell_type": "code",
   "execution_count": 451,
   "metadata": {
    "ExecuteTime": {
     "end_time": "2020-06-01T15:10:35.370306Z",
     "start_time": "2020-06-01T15:10:35.365255Z"
    }
   },
   "outputs": [],
   "source": [
    "from sklearn.linear_model import LinearRegression"
   ]
  },
  {
   "cell_type": "markdown",
   "metadata": {},
   "source": [
    "Para usar essa função, nossas variáveis dependentes (posição dos sensores, $S$) e independentes (tempo médio nos sensores, $\\bar{t}$) devem estar representadas como ``numpy arrays`` em uma forma específica. Vamos entender como transformar nossas listas de valores para o formato necessário. O pacote ``numpy`` já foi importado no começo desse módulo(Seção [2](#pacotes_e_funcoes)), mas vamos importá-lo novamente:"
   ]
  },
  {
   "cell_type": "code",
   "execution_count": 463,
   "metadata": {
    "ExecuteTime": {
     "end_time": "2020-06-01T18:18:26.227568Z",
     "start_time": "2020-06-01T18:18:26.221513Z"
    }
   },
   "outputs": [],
   "source": [
    "import numpy as np # importamos o pacote ``numpy`` como ``np``"
   ]
  },
  {
   "cell_type": "markdown",
   "metadata": {},
   "source": [
    "## Reestruturando os dados\n",
    "<a class='subsection' id='reestruturando_os_dados'></a>"
   ]
  },
  {
   "cell_type": "markdown",
   "metadata": {},
   "source": [
    "Vamos relembrar primeiramente dos nossos dados, invocando o ``DataFrame`` que definimos durante a seção [4](#analisando_os_dados_obtidos_com_python):"
   ]
  },
  {
   "cell_type": "code",
   "execution_count": 452,
   "metadata": {
    "ExecuteTime": {
     "end_time": "2020-06-01T15:15:18.948288Z",
     "start_time": "2020-06-01T15:15:18.938011Z"
    }
   },
   "outputs": [
    {
     "data": {
      "text/html": [
       "<div>\n",
       "<style scoped>\n",
       "    .dataframe tbody tr th:only-of-type {\n",
       "        vertical-align: middle;\n",
       "    }\n",
       "\n",
       "    .dataframe tbody tr th {\n",
       "        vertical-align: top;\n",
       "    }\n",
       "\n",
       "    .dataframe thead th {\n",
       "        text-align: right;\n",
       "    }\n",
       "</style>\n",
       "<table border=\"1\" class=\"dataframe\">\n",
       "  <thead>\n",
       "    <tr style=\"text-align: right;\">\n",
       "      <th></th>\n",
       "      <th>S [cm]</th>\n",
       "      <th>t1 [s]</th>\n",
       "      <th>t2 [s]</th>\n",
       "      <th>t3 [s]</th>\n",
       "      <th>t4 [s]</th>\n",
       "      <th>tempo médio [s]</th>\n",
       "    </tr>\n",
       "  </thead>\n",
       "  <tbody>\n",
       "    <tr>\n",
       "      <td>Sensor 1</td>\n",
       "      <td>0.0</td>\n",
       "      <td>0.000</td>\n",
       "      <td>0.000</td>\n",
       "      <td>0.000</td>\n",
       "      <td>0.000</td>\n",
       "      <td>0.000</td>\n",
       "    </tr>\n",
       "    <tr>\n",
       "      <td>Sensor 2</td>\n",
       "      <td>15.0</td>\n",
       "      <td>0.901</td>\n",
       "      <td>0.909</td>\n",
       "      <td>0.906</td>\n",
       "      <td>0.904</td>\n",
       "      <td>0.905</td>\n",
       "    </tr>\n",
       "    <tr>\n",
       "      <td>Sensor 3</td>\n",
       "      <td>30.0</td>\n",
       "      <td>1.836</td>\n",
       "      <td>1.840</td>\n",
       "      <td>1.824</td>\n",
       "      <td>1.831</td>\n",
       "      <td>1.833</td>\n",
       "    </tr>\n",
       "    <tr>\n",
       "      <td>Sensor 4</td>\n",
       "      <td>45.0</td>\n",
       "      <td>2.760</td>\n",
       "      <td>2.746</td>\n",
       "      <td>2.800</td>\n",
       "      <td>2.773</td>\n",
       "      <td>2.770</td>\n",
       "    </tr>\n",
       "    <tr>\n",
       "      <td>Sensor 5</td>\n",
       "      <td>60.0</td>\n",
       "      <td>3.658</td>\n",
       "      <td>3.620</td>\n",
       "      <td>3.776</td>\n",
       "      <td>3.684</td>\n",
       "      <td>3.684</td>\n",
       "    </tr>\n",
       "  </tbody>\n",
       "</table>\n",
       "</div>"
      ],
      "text/plain": [
       "          S [cm]  t1 [s]  t2 [s]  t3 [s]  t4 [s]  tempo médio [s]\n",
       "Sensor 1     0.0   0.000   0.000   0.000   0.000            0.000\n",
       "Sensor 2    15.0   0.901   0.909   0.906   0.904            0.905\n",
       "Sensor 3    30.0   1.836   1.840   1.824   1.831            1.833\n",
       "Sensor 4    45.0   2.760   2.746   2.800   2.773            2.770\n",
       "Sensor 5    60.0   3.658   3.620   3.776   3.684            3.684"
      ]
     },
     "execution_count": 452,
     "metadata": {},
     "output_type": "execute_result"
    }
   ],
   "source": [
    "df_dados"
   ]
  },
  {
   "cell_type": "markdown",
   "metadata": {},
   "source": [
    "As únicas colunas que nos interessam para criar o modelo linear, são ``S [cm]`` e ``tempo médio [s]``. Dessa forma, vamos criar duas novas variáveis, cada uma contendo os valores dessas colunas. Esse procedimento já foi realizado na seção [7.2](#comparacao_via_grafico) e aqui usaremos exatamente os mesmos nomes para as variaveis:"
   ]
  },
  {
   "cell_type": "code",
   "execution_count": null,
   "metadata": {},
   "outputs": [],
   "source": [
    "tempo_medio          = df_dados['tempo médio [s]'] # tempo médio do móvel em cada sensor\n",
    "posicao_experimental = df_dados['S [cm]']          # posição experimental do móvel"
   ]
  },
  {
   "cell_type": "markdown",
   "metadata": {},
   "source": [
    "Observe como são os valores dessas variáveis:"
   ]
  },
  {
   "cell_type": "code",
   "execution_count": 453,
   "metadata": {
    "ExecuteTime": {
     "end_time": "2020-06-01T15:37:03.920611Z",
     "start_time": "2020-06-01T15:37:03.914456Z"
    }
   },
   "outputs": [
    {
     "data": {
      "text/plain": [
       "Sensor 1    0.000\n",
       "Sensor 2    0.905\n",
       "Sensor 3    1.833\n",
       "Sensor 4    2.770\n",
       "Sensor 5    3.684\n",
       "Name: tempo médio [s], dtype: float64"
      ]
     },
     "execution_count": 453,
     "metadata": {},
     "output_type": "execute_result"
    }
   ],
   "source": [
    "tempo_medio"
   ]
  },
  {
   "cell_type": "code",
   "execution_count": 454,
   "metadata": {
    "ExecuteTime": {
     "end_time": "2020-06-01T15:37:12.299571Z",
     "start_time": "2020-06-01T15:37:12.291132Z"
    }
   },
   "outputs": [
    {
     "data": {
      "text/plain": [
       "Sensor 1     0.0\n",
       "Sensor 2    15.0\n",
       "Sensor 3    30.0\n",
       "Sensor 4    45.0\n",
       "Sensor 5    60.0\n",
       "Name: S [cm], dtype: float64"
      ]
     },
     "execution_count": 454,
     "metadata": {},
     "output_type": "execute_result"
    }
   ],
   "source": [
    "posicao_experimental"
   ]
  },
  {
   "cell_type": "markdown",
   "metadata": {},
   "source": [
    "Precisamos transformá-las para que elas sejam um ``numpy array`` da seguinte forma:\n",
    "\n",
    "```python\n",
    "array([[valor 1],\n",
    "       [valor 2],\n",
    "       [valor 3],\n",
    "          .\n",
    "          .\n",
    "          .\n",
    "       [valor n]])\n",
    "```\n",
    "\n",
    "Para isso, primeiramente usamos o método ``asarray()`` do pacote ``numpy`` que importamos como ``np``, veja como fica o código quando aplicado na variável ``tempo_medio``:"
   ]
  },
  {
   "cell_type": "code",
   "execution_count": 456,
   "metadata": {
    "ExecuteTime": {
     "end_time": "2020-06-01T15:43:54.457136Z",
     "start_time": "2020-06-01T15:43:54.447133Z"
    }
   },
   "outputs": [
    {
     "data": {
      "text/plain": [
       "array([0.   , 0.905, 1.833, 2.77 , 3.684])"
      ]
     },
     "execution_count": 456,
     "metadata": {},
     "output_type": "execute_result"
    }
   ],
   "source": [
    "np.asarray(tempo_medio)"
   ]
  },
  {
   "cell_type": "markdown",
   "metadata": {},
   "source": [
    "Quase lá! Agora precisamos reestruturar o ``array`` para que ele fique como o mostrado mais acima. Para isso, aplicamos o método ``reshape()`` com dois argumentos, ``-1`` e ``1``, respectivamente:"
   ]
  },
  {
   "cell_type": "code",
   "execution_count": 457,
   "metadata": {
    "ExecuteTime": {
     "end_time": "2020-06-01T15:46:10.923307Z",
     "start_time": "2020-06-01T15:46:10.918206Z"
    }
   },
   "outputs": [
    {
     "data": {
      "text/plain": [
       "array([[0.   ],\n",
       "       [0.905],\n",
       "       [1.833],\n",
       "       [2.77 ],\n",
       "       [3.684]])"
      ]
     },
     "execution_count": 457,
     "metadata": {},
     "output_type": "execute_result"
    }
   ],
   "source": [
    "np.asarray(tempo_medio).reshape(-1,1)"
   ]
  },
  {
   "cell_type": "markdown",
   "metadata": {},
   "source": [
    "Pronto! Transformamos nossa lista de valores inicial em um ``numpy array`` que pode ser usado no método de regressão linear do pacote ``sklearn``. Vamos então transformar nossas listas de valores em ``arrays`` e reestruturá-los em uma única linha de código e atribuí-los em novas variáveis:"
   ]
  },
  {
   "cell_type": "code",
   "execution_count": 459,
   "metadata": {
    "ExecuteTime": {
     "end_time": "2020-06-01T16:43:45.809653Z",
     "start_time": "2020-06-01T16:43:45.804148Z"
    }
   },
   "outputs": [],
   "source": [
    "array_tempo_medio          = np.asarray(tempo_medio).reshape(-1,1)\n",
    "array_posicao_experimental = np.asarray(posicao_experimental).reshape(-1,1)"
   ]
  },
  {
   "cell_type": "markdown",
   "metadata": {},
   "source": [
    "Temos então os ``arrays``:"
   ]
  },
  {
   "cell_type": "code",
   "execution_count": 460,
   "metadata": {
    "ExecuteTime": {
     "end_time": "2020-06-01T16:45:33.685027Z",
     "start_time": "2020-06-01T16:45:33.680796Z"
    }
   },
   "outputs": [
    {
     "data": {
      "text/plain": [
       "array([[0.   ],\n",
       "       [0.905],\n",
       "       [1.833],\n",
       "       [2.77 ],\n",
       "       [3.684]])"
      ]
     },
     "execution_count": 460,
     "metadata": {},
     "output_type": "execute_result"
    }
   ],
   "source": [
    "array_tempo_medio"
   ]
  },
  {
   "cell_type": "code",
   "execution_count": 461,
   "metadata": {
    "ExecuteTime": {
     "end_time": "2020-06-01T16:45:43.464554Z",
     "start_time": "2020-06-01T16:45:43.458160Z"
    }
   },
   "outputs": [
    {
     "data": {
      "text/plain": [
       "array([[ 0.],\n",
       "       [15.],\n",
       "       [30.],\n",
       "       [45.],\n",
       "       [60.]])"
      ]
     },
     "execution_count": 461,
     "metadata": {},
     "output_type": "execute_result"
    }
   ],
   "source": [
    "array_posicao_experimental"
   ]
  },
  {
   "cell_type": "markdown",
   "metadata": {},
   "source": [
    "Com isso estamos preparados para fazer a regressão linear, isto é, ajustar os dados a um modelo que supõe a equação de uma reta:\n",
    "\n",
    "$$\n",
    "    \\hat{y} = a + bx.\n",
    "$$\n",
    "\n",
    "Reescrevendo a equação desse modelo linear em termos das quantidades de interesse do nosso experimento, temos\n",
    "\n",
    "$$\n",
    "    \\hat{S} = a + b t.\n",
    "$$\n",
    "\n",
    "Se fizermos uma pequena análise dimensional, do lado direito, ambos os termos devem ter dimensão de $cm$. Dessa forma, temos\n",
    "\n",
    "$$\n",
    "    [a] = cm\n",
    "$$\n",
    "\n",
    "e, como medimos o tempo em segundos,\n",
    "\n",
    "$$\n",
    "    [b][t] = cm \\to [b] = \\frac{cm}{[t]} = \\frac{cm}{s}.\n",
    "$$\n",
    "\n",
    "Vemos então que $a$ possui dimensão de distância e $b$ possui dimensão de velocidade. Assim, reescrevemos nosso modelo linear como\n",
    "\n",
    "$$\n",
    "    \\hat{S} = \\hat{S}_0 + \\hat{v}t\n",
    "$$\n",
    "\n",
    "em que usamos $\\hat{}$ para sinalizar que as variáveis são provenientes de um modelo teórico. "
   ]
  },
  {
   "cell_type": "markdown",
   "metadata": {},
   "source": [
    "## Criando o objeto o regressão linear e fitando os dados ao modelo\n",
    "<a class='subsection' id='criando_o_objeto_de_regressao_linear_e_fitando_os_dados_ao_modelo'></a>"
   ]
  },
  {
   "cell_type": "markdown",
   "metadata": {},
   "source": [
    "O primeiro passo em criar um modelo para nossos dados usando o pacote ``sklearn`` é criar o objeto ``LinearRegression``. Para fazer isso, vamos atribuir esse objeto à variável que chamaremos de ``regressao``:"
   ]
  },
  {
   "cell_type": "code",
   "execution_count": 464,
   "metadata": {
    "ExecuteTime": {
     "end_time": "2020-06-01T18:58:05.031228Z",
     "start_time": "2020-06-01T18:58:05.027360Z"
    }
   },
   "outputs": [],
   "source": [
    "regressao = LinearRegression()"
   ]
  },
  {
   "cell_type": "markdown",
   "metadata": {},
   "source": [
    "O próximo passo agora é passar o método ``fit()`` a esse objeto com dois parâmetros: as variáveis independente e dependente, respectivamente. No nosso caso, temos\n",
    "\n",
    "```python\n",
    "    variável independente -> eixo x -> array_tempo_medio\n",
    "    variável dependente   -> eixo y -> array_posicao_experimental\n",
    "```\n",
    "\n",
    "Isso fará o ajuste do modelo linear (equação da reta) aos dados e nos fornecerá o modelo, com os coeficientes linear $a$ e angular $b$. Dessa forma, iremos atribuir esse fit, a criação do nosso modelo, à variável ``modelo``:"
   ]
  },
  {
   "cell_type": "code",
   "execution_count": 468,
   "metadata": {
    "ExecuteTime": {
     "end_time": "2020-06-01T19:04:51.840057Z",
     "start_time": "2020-06-01T19:04:51.835166Z"
    }
   },
   "outputs": [],
   "source": [
    "#        variáveis      independente: x    dependente: y                \n",
    "modelo = regression.fit(array_tempo_medio, array_posicao_experimental)"
   ]
  },
  {
   "cell_type": "markdown",
   "metadata": {},
   "source": [
    "Agora que nosso modelo foi criado, podemos ver quais os valores de $a$ e $b$ foram encontrados. O valor do coeficiente linear, é exatamente o valor em que a reta intercepta o eixo $y$, no nosso caso, seria a posição teórica inicial do móvel. Para obter essa quantidade então a partir do ``modelo``, usamos o código"
   ]
  },
  {
   "cell_type": "code",
   "execution_count": 469,
   "metadata": {
    "ExecuteTime": {
     "end_time": "2020-06-01T19:07:11.046824Z",
     "start_time": "2020-06-01T19:07:11.042494Z"
    }
   },
   "outputs": [
    {
     "data": {
      "text/plain": [
       "array([0.13415777])"
      ]
     },
     "execution_count": 469,
     "metadata": {},
     "output_type": "execute_result"
    }
   ],
   "source": [
    "# valor do coeficiente linear ``a``, valor onde o eixo y é interceptado\n",
    "modelo.intercept_"
   ]
  },
  {
   "cell_type": "markdown",
   "metadata": {},
   "source": [
    "Arredondando esse valor para dois algarismos significativos (caso surja alguma dúvida do motivo do arrendondamento, consulte a seção 2.6, pág. 15, Ref. [[1]](#mukai)):"
   ]
  },
  {
   "cell_type": "code",
   "execution_count": 470,
   "metadata": {
    "ExecuteTime": {
     "end_time": "2020-06-01T19:10:16.060188Z",
     "start_time": "2020-06-01T19:10:16.055419Z"
    }
   },
   "outputs": [
    {
     "data": {
      "text/plain": [
       "array([0.13])"
      ]
     },
     "execution_count": 470,
     "metadata": {},
     "output_type": "execute_result"
    }
   ],
   "source": [
    "modelo.intercept_.round(2)"
   ]
  },
  {
   "cell_type": "markdown",
   "metadata": {},
   "source": [
    "Observe que esse valor é exatamente o mesmo que encontramos usando a equação \\eqref{eq:coef_linear}.\n",
    "\n",
    "Para encontrar o valor do coeficiente angular, usamos o seguinte comando:"
   ]
  },
  {
   "cell_type": "code",
   "execution_count": 471,
   "metadata": {
    "ExecuteTime": {
     "end_time": "2020-06-01T19:15:53.839967Z",
     "start_time": "2020-06-01T19:15:53.833690Z"
    }
   },
   "outputs": [
    {
     "data": {
      "text/plain": [
       "array([[16.24556257]])"
      ]
     },
     "execution_count": 471,
     "metadata": {},
     "output_type": "execute_result"
    }
   ],
   "source": [
    "modelo.coef_"
   ]
  },
  {
   "cell_type": "markdown",
   "metadata": {},
   "source": [
    "E seu valor arredondado adequadamente se escreve"
   ]
  },
  {
   "cell_type": "code",
   "execution_count": 472,
   "metadata": {
    "ExecuteTime": {
     "end_time": "2020-06-01T19:17:26.055796Z",
     "start_time": "2020-06-01T19:17:26.050646Z"
    }
   },
   "outputs": [
    {
     "data": {
      "text/plain": [
       "array([[16.25]])"
      ]
     },
     "execution_count": 472,
     "metadata": {},
     "output_type": "execute_result"
    }
   ],
   "source": [
    "modelo.coef_.round(2)"
   ]
  },
  {
   "cell_type": "markdown",
   "metadata": {},
   "source": [
    "Por sua vez, esse valor também é idêntico ao encontrado usando a equação \\eqref{eq:coef_angular}."
   ]
  },
  {
   "cell_type": "markdown",
   "metadata": {},
   "source": [
    "Portanto, temos que \n",
    "\n",
    "$$\n",
    "\\begin{split}\n",
    "    \\hat{S}_0 &= \\phantom{0}0{,}13\\,cm\\\\\n",
    "    \\hat{v}   &= 16{,}25\\,cm/s.\n",
    "\\end{split}\n",
    "$$\n",
    "\n",
    "Dessa forma, nosso modelo é escrito como\n",
    "\n",
    "$$\n",
    "    \\hat{S}(t) = \\left( 0{,}13\\,cm \\right) + \\left( 16{,}25\\,cm/s \\right)t.\n",
    "$$"
   ]
  },
  {
   "cell_type": "markdown",
   "metadata": {},
   "source": [
    "Então, quando usarmos nosso ``modelo`` para fazer a predição dos valores de $\\hat{S}$, devemos usar os valores dos tempos em que o móvel passou pelos sensores. Se as posições preditas pelo modelo forem semelhantes às posições experimentais o nosso modelo linear é bom. Para fazer essa predição, usamos o método ``predict()`` e forncemos como paramêtro a variável independente, que no nosso caso são os tempos médios cronometrados nos sensores, atribuídos à variável ``array_tempo_medio``. O código fica assim"
   ]
  },
  {
   "cell_type": "code",
   "execution_count": 473,
   "metadata": {
    "ExecuteTime": {
     "end_time": "2020-06-01T19:32:08.208663Z",
     "start_time": "2020-06-01T19:32:08.205231Z"
    }
   },
   "outputs": [],
   "source": [
    "# guardamos os valores preditos usando os tempos medios na variável ``array_posicao_teorica``\n",
    "array_posicao_teorica = modelo.predict(array_tempo_medio)"
   ]
  },
  {
   "cell_type": "markdown",
   "metadata": {},
   "source": [
    "Vamos ver então quais foram os valore preditos pelo nosso modelo:"
   ]
  },
  {
   "cell_type": "code",
   "execution_count": 474,
   "metadata": {
    "ExecuteTime": {
     "end_time": "2020-06-01T19:32:53.553805Z",
     "start_time": "2020-06-01T19:32:53.545982Z"
    }
   },
   "outputs": [
    {
     "data": {
      "text/plain": [
       "array([[ 0.13415777],\n",
       "       [14.83639189],\n",
       "       [29.91227396],\n",
       "       [45.13436609],\n",
       "       [59.98281028]])"
      ]
     },
     "execution_count": 474,
     "metadata": {},
     "output_type": "execute_result"
    }
   ],
   "source": [
    "array_posicao_teorica"
   ]
  },
  {
   "cell_type": "markdown",
   "metadata": {},
   "source": [
    "Mais uma vez, arredondamos os valores das posições obtidas:"
   ]
  },
  {
   "cell_type": "code",
   "execution_count": 475,
   "metadata": {
    "ExecuteTime": {
     "end_time": "2020-06-01T19:33:55.304226Z",
     "start_time": "2020-06-01T19:33:55.298333Z"
    }
   },
   "outputs": [
    {
     "data": {
      "text/plain": [
       "array([[ 0.13],\n",
       "       [14.84],\n",
       "       [29.91],\n",
       "       [45.13],\n",
       "       [59.98]])"
      ]
     },
     "execution_count": 475,
     "metadata": {},
     "output_type": "execute_result"
    }
   ],
   "source": [
    "array_posicao_teorica.round(2)"
   ]
  },
  {
   "cell_type": "markdown",
   "metadata": {},
   "source": [
    "Vemos que esses valores são muito próximos aos valores experimentais, o que é um ótimo sinal da qualidade do ajuste. "
   ]
  },
  {
   "cell_type": "markdown",
   "metadata": {},
   "source": [
    "## Testando a qualidade do modelo: $R^2$ e gráfico\n",
    "<a class='subsection' id='testando_a_qualidade_do_modelo_r2_e_grafico'><a/>"
   ]
  },
  {
   "cell_type": "markdown",
   "metadata": {},
   "source": [
    "Podemos quantificar a qualidade do ajuste por meio do $R^2$ usando nosso ``modelo``. Para isso, basta usarmos o método ``score()`` e passar dois argumentos: as variáveis independente e a dependente, respectivmente. Assim, no nosso caso, temos"
   ]
  },
  {
   "cell_type": "code",
   "execution_count": 476,
   "metadata": {
    "ExecuteTime": {
     "end_time": "2020-06-01T19:37:10.474596Z",
     "start_time": "2020-06-01T19:37:10.465109Z"
    }
   },
   "outputs": [
    {
     "data": {
      "text/plain": [
       "0.9999685282180711"
      ]
     },
     "execution_count": 476,
     "metadata": {},
     "output_type": "execute_result"
    }
   ],
   "source": [
    "modelo.score(array_tempo_medio, array_posicao_experimental)"
   ]
  },
  {
   "cell_type": "markdown",
   "metadata": {},
   "source": [
    "Vemos então que esse é um valor muito próximo de um, que se for arredondado:"
   ]
  },
  {
   "cell_type": "code",
   "execution_count": 477,
   "metadata": {
    "ExecuteTime": {
     "end_time": "2020-06-01T19:38:01.854944Z",
     "start_time": "2020-06-01T19:38:01.848838Z"
    }
   },
   "outputs": [
    {
     "data": {
      "text/plain": [
       "1.0"
      ]
     },
     "execution_count": 477,
     "metadata": {},
     "output_type": "execute_result"
    }
   ],
   "source": [
    "modelo.score(array_tempo_medio, array_posicao_experimental).round(2)"
   ]
  },
  {
   "cell_type": "markdown",
   "metadata": {},
   "source": [
    "dá 1,0, como encontrado anteriormente.\n",
    "\n",
    "Por fim, podemos confeccionar um gráfico que mostra os valores experimentais e aqueles preditos pelo ``modelo``:"
   ]
  },
  {
   "cell_type": "code",
   "execution_count": 479,
   "metadata": {
    "ExecuteTime": {
     "end_time": "2020-06-01T19:40:29.435848Z",
     "start_time": "2020-06-01T19:40:29.053745Z"
    }
   },
   "outputs": [
    {
     "data": {
      "image/png": "[encoded data removed]",
      "text/plain": [
       "<Figure size 576x432 with 1 Axes>"
      ]
     },
     "metadata": {
      "needs_background": "light"
     },
     "output_type": "display_data"
    }
   ],
   "source": [
    "# primeiramente plotamos o gráfico com os dados experimentais\n",
    "plt.plot(\n",
    "    array_tempo_medio,          # primeiro argumento são os valores do eixo x\n",
    "    array_posicao_experimental, # segundo argumento são os valores do eixo y\n",
    "    marker='o',                 # tipo do ponto usado para marcar as coordenadas (x,y)\n",
    "    markersize=15,              # muda o tamanho dos pontos\n",
    "    markerfacecolor=\"#FFFFFF\",  # muda a cor interna dos pontos\n",
    "    lw=0,                       # faz a linha que liga os pontos ter espessura (width) 0\n",
    "    label='Dados experimentais' # nome para colocar na legenda\n",
    ");\n",
    "\n",
    "# agora plotamos os valores teóricos. Para cada posição téorica usamos os tempos médios respectivos\n",
    "plt.plot(\n",
    "    array_tempo_medio,      # primeiro argumento são os valores do eixo x\n",
    "    array_posicao_teorica,  # segundo argumento são os valores do eixo y\n",
    "    marker='x',             # tipo do ponto usado para marcar as coordenadas (x,y)\n",
    "    markersize=8,           # muda o tamanho dos pontos\n",
    "    color='#FF0000',        # muda a cor interna dos pontos\n",
    "    ls='--',                # muda o estilo da linha que liga os pontos para tracejado\n",
    "    label='Modelo ajustado' # nome para colocar na legenda\n",
    ")\n",
    "\n",
    "# adicionamos uma legenda para ajudar na leitura do gráfico\n",
    "# a legenda incluirá os ``label's`` adicionados em cada plot.\n",
    "plt.legend()\n",
    "\n",
    "# desenha as linhas que acompanham os valores nos eixos\n",
    "plt.grid()\n",
    "\n",
    "# é importante colocar o nome das quantidade nos eixos\n",
    "plt.xlabel('tempo, t [s]');\n",
    "plt.ylabel('posição, S [m]');\n",
    "plt.title('Posição do móvel em função do tempo.');"
   ]
  },
  {
   "cell_type": "markdown",
   "metadata": {},
   "source": [
    "Vemos que o modelo ajustado tem seus pontos coincidindo com os dados experimentais. Portanto, devido ao resultado quantitativo do coeficiente de determinação ser máximo, isto é, $R^2 = 1{,}00$ e uma inspeção gráfica nos mostrar que o modelo ajusta de fato os dados experimentais, concluímos que o modelo linear obtido descreve o fenônome do móvel andando sobre o trilho de ar, em uma dimensão com velocidade constante."
   ]
  }
 ],
 "metadata": {
  "author": "",
  "kernelspec": {
   "display_name": "Python 3",
   "language": "python",
   "name": "python3"
  },
  "language_info": {
   "codemirror_mode": {
    "name": "ipython",
    "version": 3
   },
   "file_extension": ".py",
   "mimetype": "text/x-python",
   "name": "python",
   "nbconvert_exporter": "python",
   "pygments_lexer": "ipython3",
   "version": "3.6.10"
  },
  "latex_envs": {
   "LaTeX_envs_menu_present": true,
   "autoclose": false,
   "autocomplete": true,
   "bibliofile": "biblio.bib",
   "cite_by": "apalike",
   "current_citInitial": 1,
   "eqLabelWithNumbers": true,
   "eqNumInitial": 1,
   "hotkeys": {
    "equation": "Ctrl-E",
    "itemize": "Ctrl-I"
   },
   "labels_anchors": false,
   "latex_user_defs": false,
   "report_style_numbering": false,
   "user_envs_cfg": false
  },
  "toc": {
   "base_numbering": 1,
   "nav_menu": {},
   "number_sections": true,
   "sideBar": true,
   "skip_h1_title": false,
   "title_cell": "Table of Contents",
   "title_sidebar": "Contents",
   "toc_cell": false,
   "toc_position": {},
   "toc_section_display": true,
   "toc_window_display": false
  },
  "varInspector": {
   "cols": {
    "lenName": 16,
    "lenType": 16,
    "lenVar": 40
   },
   "kernels_config": {
    "python": {
     "delete_cmd_postfix": "",
     "delete_cmd_prefix": "del ",
     "library": "var_list.py",
     "varRefreshCmd": "print(var_dic_list())"
    },
    "r": {
     "delete_cmd_postfix": ") ",
     "delete_cmd_prefix": "rm(",
     "library": "var_list.r",
     "varRefreshCmd": "cat(var_dic_list()) "
    }
   },
   "types_to_exclude": [
    "module",
    "function",
    "builtin_function_or_method",
    "instance",
    "_Feature"
   ],
   "window_display": false
  }
 },
 "nbformat": 4,
 "nbformat_minor": 4
}
