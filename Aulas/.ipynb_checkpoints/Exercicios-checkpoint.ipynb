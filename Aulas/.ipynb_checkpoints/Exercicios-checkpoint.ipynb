{
 "cells": [
  {
   "cell_type": "code",
   "execution_count": 36,
   "metadata": {
    "ExecuteTime": {
     "end_time": "2020-07-09T18:13:44.731019Z",
     "start_time": "2020-07-09T18:13:44.727295Z"
    }
   },
   "outputs": [
    {
     "data": {
      "text/html": [
       "<style>/*This file contains any manual css for this page that needs to override the global styles.\n",
       "This is only required when different pages style the same element differently. This is just\n",
       "a hack to deal with our current css styles and no new styling should be added in this file.*/\n",
       "/* CSS stylesheet to make paragraphs justified, create lists with subitem numbering \n",
       "and highlight words in gray with font-family monospace */\n",
       "\n",
       ".container {\n",
       "    width: 95% !important;\n",
       "}\n",
       "\n",
       "p.justified {\n",
       "    text-align: justify;\n",
       "    font-size: 11pt;\n",
       "}\n",
       "\n",
       "mark.mono_gray {\n",
       "    background-color: #f0f0f0;\n",
       "    font-family: monospace;\n",
       "}\n",
       "\n",
       "ol.sub-item { \n",
       "    counter-reset: item;\n",
       "    text-align: justify;\n",
       "}\n",
       "\n",
       "li.sub-item {\n",
       "    display: block;\n",
       "    text-align: justify;\n",
       "}\n",
       "\n",
       "li.sub-item:before {\n",
       "    content: counters(item, \".\") \". \"; \n",
       "    counter-increment: item;\n",
       "    text-align: justify;\n",
       "    font-weight: bold;\n",
       "}</style>"
      ],
      "text/plain": [
       "<IPython.core.display.HTML object>"
      ]
     },
     "metadata": {},
     "output_type": "display_data"
    }
   ],
   "source": [
    "# import CSS stylesheet\n",
    "from IPython.display import HTML, display\n",
    "display(HTML('<style>{}</style>'.format(open('../style.css').read())))\n",
    "# import urllib\n",
    "# HTML('<style>{}</style>'.format(str(urllib.request.urlopen('https://bit.ly/2NRJNfB').read(), 'utf-8')))"
   ]
  },
  {
   "cell_type": "markdown",
   "metadata": {},
   "source": [
    "<hr>\n",
    "<p style=\"font-size: 25px; margin-left: 25px;\"><b>Sumário</b></p>\n",
    "<ol class=\"sub-item\">\n",
    "    <li class=\"sub-item\"><a href=\"#pacotes\">Pacotes</a></li>\n",
    "    <li class=\"sub-item\"><a href=\"#guia-de-procedimentos\">Guia de procedimentos</a></li>\n",
    "    <li class=\"sub-item\"><a href=\"#posicao-versus-tempo-1\">Posição versus tempo - 1</a></li>\n",
    "    <li class=\"sub-item\"><a href=\"#posicao-versus-tempo-2\">Posição versus tempo - 2</a></li>\n",
    "    <li class=\"sub-item\"><a href=\"#carga-de-um-capacitor\">Carga de um capacitor em função do tempo</a></li>\n",
    "</ol>"
   ]
  },
  {
   "cell_type": "markdown",
   "metadata": {},
   "source": [
    "---\n",
    "<a id='pacotes'></a>\n",
    "# Pacotes"
   ]
  },
  {
   "cell_type": "markdown",
   "metadata": {},
   "source": [
    "<p class='justified'>\n",
    "    Abaixo estão os pacotes necessário para realizar os exercícios propostos.\n",
    "</p>"
   ]
  },
  {
   "cell_type": "code",
   "execution_count": 35,
   "metadata": {
    "ExecuteTime": {
     "end_time": "2020-07-09T18:12:40.468553Z",
     "start_time": "2020-07-09T18:12:40.462354Z"
    }
   },
   "outputs": [],
   "source": [
    "import matplotlib.pyplot as plt\n",
    "%matplotlib inline\n",
    "\n",
    "import pandas as pd\n",
    "import numpy as np\n",
    "from scipy.optimize import curve_fit"
   ]
  },
  {
   "cell_type": "markdown",
   "metadata": {},
   "source": [
    "---\n",
    "<a id=\"guia-de-procedimentos\"></a>\n",
    "# Guia de procedimentos"
   ]
  },
  {
   "cell_type": "markdown",
   "metadata": {},
   "source": [
    "<p class='justified'>\n",
    "    Aqui você pode encontrar algumas sugestões de como analisar os dados em cada um dos exercícios. Lembre-se de que você não precisa seguir necessariamente esses passos, mas que eles ajudam você a chegar nos resultados desejados.\n",
    "</p>\n",
    "\n",
    "<ol class=\"sub-item\">\n",
    "    <li class=\"sub-item\">Identifique as variáveis dependente e independente;</li>\n",
    "    <li class=\"sub-item\">Confeccione o gráfico para uma primeira inspeção dos dados;</li>\n",
    "    <li class=\"sub-item\">Tente identificar o tipo de curva: <b>reta</b>, <b>parábola</b>, <b>exponencial</b> etc.;\n",
    "        <ol class=\"sub-item\">\n",
    "            <li class=\"sub-item\"> uma reta em $\\log y \\times x$ representa uma função exponencial: $y = Ae^{Bx}$;\n",
    "            <ol class=\"sub-item\">\n",
    "                <li class=\"sub-item\"> nesse cenário, crie uma função e ajuste com <mark class='mono_gray'>curve_fit()</mark>;</li>\n",
    "            </ol>\n",
    "            </li>\n",
    "            <li class=\"sub-item\"> uma reta em $\\log y \\times \\log x$ representa uma função potência: $y = Cx^n$;\n",
    "            <ol class=\"sub-item\">\n",
    "                <li class=\"sub-item\"> nesse cenário, crie uma função e ajuste com <mark class='mono_gray'>curve_fit()</mark>;</li>\n",
    "                <li class=\"sub-item\"> depois de obter o expoente $n$, você pode tentar ajustar usando um polinômio completo definindo a função e então usando <mark class='mono_gray'>curve_fit()</mark>, ou usando o valor inteiro (aproximado) de $n$ na função <mark class='mono_gray'>np.polyfit()</mark>;</li>\n",
    "            </ol>\n",
    "            </li>\n",
    "        </ol>\n",
    "    </li>\n",
    "    <li class=\"sub-item\">Escreva a função com os coeficientes encontrados e gere os valores da variável independente;</li>\n",
    "    <li class=\"sub-item\">Confeccione um gráfico dos dados juntamente com a curva de ajuste e veja se esse é razoável.</li>\n",
    "</ol>"
   ]
  },
  {
   "cell_type": "markdown",
   "metadata": {},
   "source": [
    "---\n",
    "<a id='posicao-versus-tempo-1'></a>\n",
    "# Posicao versus tempo - 1"
   ]
  },
  {
   "cell_type": "markdown",
   "metadata": {},
   "source": [
    "<p class='justified'>\n",
    "    Para esse exercício você irá importar os dados que se encontram no arquivo <mark class='mono_gray'>tempo_posicao_1.tsv</mark>, encontrado na pasta <mark class='mono_gray'>dados/exercicios/</mark>. O objetivo é identificar o tipo de movimento representado pelos dados. Para isso, use as técnicas abordadas nas aulas anteriores. \n",
    "</p>\n",
    "\n",
    "<!-- os dados são representados por uma parábola\n",
    "ajuste do expoente:  C = 1.32 e n = 2.00\n",
    "ajuste dos coeficientes: a = 1.32 m/s^2, v0 = 0.26 m/s, s0 = -0.77 m\n",
    "def mruv(t, a, v, s):\n",
    "    return s + v*t + 0.5*a*t**2\n",
    "np.random.seed(0)\n",
    "tempo = np.sort(np.arange(1, 51) + np.random.rand(tempo.shape[0])*8.1)\n",
    "posicao = mruv(tempo, 2.3, 7.2, 4.3) + np.random.randn(tempo.shape[0])*175\n",
    "params_np = np.polyfit(tempo, posicao, deg=2)\n",
    "fit_np = mruv(tempo, params_np[0]*2, *params_np[1:])\n",
    "def fit_pot(t, c, n):\n",
    "    return c*t**n\n",
    "params_cf, _ = curve_fit(fit_pot, tempo, posicao)\n",
    "fit_cf = fit_pot(tempo, *params_cf)\n",
    "-->"
   ]
  },
  {
   "cell_type": "code",
   "execution_count": null,
   "metadata": {},
   "outputs": [],
   "source": []
  },
  {
   "cell_type": "code",
   "execution_count": null,
   "metadata": {},
   "outputs": [],
   "source": []
  },
  {
   "cell_type": "code",
   "execution_count": null,
   "metadata": {},
   "outputs": [],
   "source": []
  },
  {
   "cell_type": "code",
   "execution_count": null,
   "metadata": {},
   "outputs": [],
   "source": []
  },
  {
   "cell_type": "code",
   "execution_count": null,
   "metadata": {},
   "outputs": [],
   "source": []
  },
  {
   "cell_type": "markdown",
   "metadata": {},
   "source": [
    "---\n",
    "<a id='posicao-versus-tempo-2'></a>\n",
    "# Posição versus tempo - 2"
   ]
  },
  {
   "cell_type": "code",
   "execution_count": null,
   "metadata": {},
   "outputs": [],
   "source": []
  },
  {
   "cell_type": "code",
   "execution_count": null,
   "metadata": {},
   "outputs": [],
   "source": []
  },
  {
   "cell_type": "code",
   "execution_count": null,
   "metadata": {},
   "outputs": [],
   "source": []
  },
  {
   "cell_type": "code",
   "execution_count": null,
   "metadata": {},
   "outputs": [],
   "source": []
  },
  {
   "cell_type": "code",
   "execution_count": null,
   "metadata": {},
   "outputs": [],
   "source": []
  },
  {
   "cell_type": "markdown",
   "metadata": {},
   "source": [
    "---\n",
    "<a id='carga-de-um-capacitor'></a>\n",
    "# Carga de um capacitor em função do tempo"
   ]
  },
  {
   "cell_type": "markdown",
   "metadata": {},
   "source": [
    "<p class='justified'>\n",
    "    Os dados de um experimento observando a carga de um capacitor em um circuito <b>RC</b> em série, podem ser encontrados no arquivo <mark class='mono_gray'>carga_tempo_1.dat</mark>, na pasta <mark class='mono_gray'>dados/exercicios/</mark>. No experimento, um resistor de $10M\\Omega$ foi utilizado, contudo, se desconhece a capacitância do capacitor. A partir dos dados, idêntifique se o circuito está <b>descarregando</b> ou <b>carregando</b>, a <b>capacitância</b> $C$ e o <b>tempo de relaxação</b> $\\tau = RC$. Lembre-se que, em um circuito <b>RC</b> em série, a equação quando ele está <b>carregando</b> é\n",
    "</p>\n",
    "\n",
    "$$\n",
    "    q(t) = Q_f \\left( 1 - e^{-t/RC} \\right)\n",
    "$$\n",
    "\n",
    "<p class='justified'>\n",
    "    e quanto ele está <b>descarregando</b> é\n",
    "</p>\n",
    "\n",
    "$$\n",
    "    q(t) = Q_0e^{-t/RC},\n",
    "$$\n",
    "\n",
    "<p class='justified'>\n",
    "    em que $Q_f$ é a carga final do capacitor, $Q_0$ é a carga inicial do capacitor, $R$ a resistência em série no circuito, $C$ é a capacitância do capacitor e $t$ é o tempo.\n",
    "</p>\n",
    "\n",
    "<!-- exponencial descrescente\n",
    "def descarga(t, Q, tau):\n",
    "    return Q*np.exp(-t/tau)\n",
    "Q_0 = 4.97e-6 e tau = 9.86\n",
    "np.random.seed(0)\n",
    "tempo = np.sort(np.arange(0, 51) + np.random.rand(tempo.shape[0])) \n",
    "carga = descarga(tempo, 5e-6, 10) + np.random.randn(tempo.shape[0])*2e-7\n",
    "params_cf, _ = curve_fit(descarga, tempo, carga)\n",
    "fit_cf = descarga(tempo, *params_cf) -->"
   ]
  },
  {
   "cell_type": "code",
   "execution_count": null,
   "metadata": {},
   "outputs": [],
   "source": []
  },
  {
   "cell_type": "code",
   "execution_count": null,
   "metadata": {},
   "outputs": [],
   "source": []
  },
  {
   "cell_type": "code",
   "execution_count": null,
   "metadata": {},
   "outputs": [],
   "source": []
  },
  {
   "cell_type": "code",
   "execution_count": null,
   "metadata": {},
   "outputs": [],
   "source": []
  },
  {
   "cell_type": "code",
   "execution_count": null,
   "metadata": {},
   "outputs": [],
   "source": []
  }
 ],
 "metadata": {
  "author": "",
  "kernelspec": {
   "display_name": "Python 3",
   "language": "python",
   "name": "python3"
  },
  "language_info": {
   "codemirror_mode": {
    "name": "ipython",
    "version": 3
   },
   "file_extension": ".py",
   "mimetype": "text/x-python",
   "name": "python",
   "nbconvert_exporter": "python",
   "pygments_lexer": "ipython3",
   "version": "3.7.4"
  },
  "latex_envs": {
   "LaTeX_envs_menu_present": true,
   "autoclose": false,
   "autocomplete": true,
   "bibliofile": "biblio.bib",
   "cite_by": "apalike",
   "current_citInitial": 1,
   "eqLabelWithNumbers": true,
   "eqNumInitial": 1,
   "hotkeys": {
    "equation": "Ctrl-E",
    "itemize": "Ctrl-I"
   },
   "labels_anchors": false,
   "latex_user_defs": false,
   "report_style_numbering": false,
   "user_envs_cfg": false
  },
  "toc": {
   "base_numbering": 1,
   "nav_menu": {},
   "number_sections": true,
   "sideBar": true,
   "skip_h1_title": false,
   "title_cell": "Table of Contents",
   "title_sidebar": "Contents",
   "toc_cell": false,
   "toc_position": {},
   "toc_section_display": true,
   "toc_window_display": false
  },
  "varInspector": {
   "cols": {
    "lenName": 16,
    "lenType": 16,
    "lenVar": 40
   },
   "kernels_config": {
    "python": {
     "delete_cmd_postfix": "",
     "delete_cmd_prefix": "del ",
     "library": "var_list.py",
     "varRefreshCmd": "print(var_dic_list())"
    },
    "r": {
     "delete_cmd_postfix": ") ",
     "delete_cmd_prefix": "rm(",
     "library": "var_list.r",
     "varRefreshCmd": "cat(var_dic_list()) "
    }
   },
   "types_to_exclude": [
    "module",
    "function",
    "builtin_function_or_method",
    "instance",
    "_Feature"
   ],
   "window_display": false
  }
 },
 "nbformat": 4,
 "nbformat_minor": 2
}
