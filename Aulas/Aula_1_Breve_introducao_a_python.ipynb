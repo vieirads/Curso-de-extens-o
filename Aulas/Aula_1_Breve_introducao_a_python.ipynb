{
 "cells": [
  {
   "cell_type": "code",
   "execution_count": 1,
   "metadata": {
    "ExecuteTime": {
     "end_time": "2020-06-09T21:38:25.541554Z",
     "start_time": "2020-06-09T21:38:25.534493Z"
    }
   },
   "outputs": [
    {
     "data": {
      "text/html": [
       "<style>.container { width:95% !important; }</style>"
      ],
      "text/plain": [
       "<IPython.core.display.HTML object>"
      ]
     },
     "metadata": {},
     "output_type": "display_data"
    }
   ],
   "source": [
    "from IPython.core.display import display, HTML\n",
    "display(HTML(\"<style>.container { width:95% !important; }</style>\"))"
   ]
  },
  {
   "cell_type": "markdown",
   "metadata": {},
   "source": [
    "---\n",
    "**Sumário**\n",
    "\n",
    "- 1. [O que é python?](#o_que_e_python) <br>\n",
    "- 2. [Executando códigos no Jupyter](#executando_codigos_no_jupyter) <br>\n",
    "- 3. [Os tipos de variáveis](#os_tipos_de_variaveis) <br>\n",
    "- 4. [Operações Matemáticas](#operacoes_matematicas) <br>\n",
    "- 5. [Operações lógicas](#operacoes_logicas) <br>\n",
    "- 6. [Operações de comparação](#operacoes_de_comparacao) <br>\n",
    "- 7. [Atribuindo valores às variáveis](#atribuindo_valores_as_variaveis) <br>\n",
    "- 8. [Strings](#strings) <br>\n",
    "- 9. [Breve comentário sobre as ``classes``](#breve_comentario_sobre_as_classes) <br>\n",
    "- 10. [Listas](#listas)\n",
    "- 11. [Tuplas](#tuplas) <br>\n",
    "- 12. [Sets](#sets) <br>\n",
    "- 13. [Dicionários](#dicionarios) <br>\n",
    "- 14. [Condicionais](#condicionais) <br>\n",
    "- 15. [Loops](#loops) <br>\n",
    "- 16. [Funções](#funcoes) <br>\n",
    "- 17. [Importando pacotes](#importando_pacotes) <br>\n",
    "- 18. [Numpy](#numpy) <br>\n",
    "- 19. [Matplotlib](#matplotlib) <br>\n",
    "- 20. [Pandas](#pandas) <br>\n",
    "- 21. [Onde posso encontrar mais conteúdo?](#onde_posso_encontrar_mais_conteudo)\n",
    "---"
   ]
  },
  {
   "cell_type": "markdown",
   "metadata": {},
   "source": [
    "<a class='section' id='o_que_e_python'></a>\n",
    "# O que é python?"
   ]
  },
  {
   "cell_type": "markdown",
   "metadata": {},
   "source": [
    "``Python`` é uma linguagem de programação encontrada no desenvolvimento de softwares, criação de web sites e até de jogos. Sua popularidade vem crescendo nos últimos anos mais do que os de outras linguagens [[1]](http://pypl.github.io/PYPL.html). Empresas como ``Google``, ``Facebook``, ``Spotify`` e ``Netflix`` são exemplos que usam ``python`` no desenvolvimento de suas ferramentas. \n",
    "\n",
    "\n",
    "Um dos fatores que faz com que essa linguagem esteja sendo muito procurada nos últimos anos, é o fato dela possuir um grande número de ``pacotes`` (também chamados de ``módulos``) disponíveis. Podemos encontrar códigos prontos que fazem análises matemáticas e confecção de gráficos para visualização de dados muito facilmente. Além disso, ela possui uma comunidade bem ativa, sempre procurando melhorar os pacotes disponíveis e criar outros. E o melhor de tudo, ela é gratuíta!\n",
    "\n",
    "Outro fato que chama atenção, é de que essa linguagem tem se tornado bastante comum entre a comunidade científica. Uma de suas principais aplicações tem sido na análise de dados. A procura por padrões e criação de modelos, utilizando, principalmente, *machine learning* nos últimos anos, tem rendido aos pesquisadore a publicação de artigos em jornais científicos. "
   ]
  },
  {
   "cell_type": "markdown",
   "metadata": {},
   "source": [
    "``Python`` é uma linguagem de programação de alto nível. Isso quer dizer que os termos usados para escrever os códigos se aproximam mais da linguagem humana. Isso faz com que ela seja fácil de ser entendida e escrita. Para exemplificar como ``python`` pode ser muito mais fácil que outra linguagens, observe os trechos de códigos para imprimir na tela a frase ``Hello, world!`` em linguagem ``C``\n"
   ]
  },
  {
   "cell_type": "markdown",
   "metadata": {},
   "source": [
    "```C\n",
    "#include <stdio.h>\n",
    "\n",
    "int main(void)\n",
    "{\n",
    "    printf(\"hello, world\\n\");\n",
    "}\n",
    "```"
   ]
  },
  {
   "cell_type": "markdown",
   "metadata": {},
   "source": [
    "e em ``python``\n",
    "```python\n",
    "print('Hello, world!')\n",
    "```\n",
    "\n",
    "Além disso, para executar o código da linguagem ``C``, precisamos compilá-lo e depois executá-lo. Em ``python``, uma vez que o código é escrito basta executá-lo para obter o resultado. "
   ]
  },
  {
   "cell_type": "markdown",
   "metadata": {},
   "source": [
    "Nas próximas seções iremos aprender sobre alguns comandos e funções básicas do ``python``. O conteúdo que será visto aqui servirá de base para as aulas posteriores. Portanto, tente entender o que está acontecendo nos códigos. Tente reproduzir os códigos usando valores e nomes de variáveis diferentes. Isso pode ajudar na fixação de conteúdo."
   ]
  },
  {
   "cell_type": "markdown",
   "metadata": {},
   "source": [
    "<a class='section' id='executando_codigos_no_jupyter'></a>\n",
    "# Executando códigos no Jupyter"
   ]
  },
  {
   "cell_type": "markdown",
   "metadata": {},
   "source": [
    "<a class='cell' id='create_new_cell'></a>\n",
    "Usaremos o [``Jupyter``](https://jupyter.org/) para realizar nossos trabalhos e isso inclui executar vários códigos em ``python``! Podemos escrever os códigos em qualquer célula do ``Notebook``. Para criar uma nova célula, você pode simplesmente apertar ``esc``, fazendo a célula ficar selecionada de azul, e então aperta ``b`` para criar uma célula abaixo ou apertar ``a`` para criar uma célula em cima. Caso prefira, você também pode cliclar em ``Insert`` na barra acima e selecionar onde deseja criar uma nova célula. Uma vez que a célula é criada e você esteja preparado para começar a digitar seus códigos nela, aperte ``enter`` ou clique duas vezes nela. Quando a célular ficar com a borda verde, significa que você pode digitar seus códigos."
   ]
  },
  {
   "cell_type": "markdown",
   "metadata": {},
   "source": [
    "É de costume sempre que começamos a estudar uma linguagem de programação, o primeiro código é imprimir na tela a frase ``Hello, World!``. Aqui não será um pouco diferente, nosso primeiro código em ``python`` será imprimir uma outra frase na tela. Para isso, clique na célula abaixo com o código escrito e aperte ``shift+enter``."
   ]
  },
  {
   "cell_type": "code",
   "execution_count": 15,
   "metadata": {
    "ExecuteTime": {
     "end_time": "2020-06-05T14:56:43.277948Z",
     "start_time": "2020-06-05T14:56:43.275109Z"
    }
   },
   "outputs": [
    {
     "name": "stdout",
     "output_type": "stream",
     "text": [
      "Quero café!\n"
     ]
    }
   ],
   "source": [
    "print('Quero café!')"
   ]
  },
  {
   "cell_type": "markdown",
   "metadata": {},
   "source": [
    "Pronto, você executou seu primeiro (de muitos) códigos em ``python``. Você também pode executar uma célula selecionando-a e clicando, na barra acima, no botão ``run``, que possui uma flecha para direita e uma barra vertical."
   ]
  },
  {
   "cell_type": "markdown",
   "metadata": {},
   "source": [
    "A função ``print()`` serve para imprimir valores na tela. Veja que passamos um argumento para ela, a frase ``'Hello, world!'``. Toda palavra ou frase que queremos que seja imprimida na tela, deve ser colocada entre aspas simples ou dupla:"
   ]
  },
  {
   "cell_type": "code",
   "execution_count": 3,
   "metadata": {
    "ExecuteTime": {
     "end_time": "2020-06-02T19:52:42.015297Z",
     "start_time": "2020-06-02T19:52:42.013262Z"
    }
   },
   "outputs": [
    {
     "name": "stdout",
     "output_type": "stream",
     "text": [
      "Essa é uma frase com aspas simples.\n",
      "Essa é uma frase com aspas duplas.\n"
     ]
    }
   ],
   "source": [
    "print('Essa é uma frase com aspas simples.')\n",
    "print(\"Essa é uma frase com aspas duplas.\")"
   ]
  },
  {
   "cell_type": "markdown",
   "metadata": {},
   "source": [
    "Podemos digitar mais de um comando para ser executado em uma única célular, como foi acima, onde duas funções ``print()`` foram executadas com sentenças diferentes. Podemos também imprimir números:"
   ]
  },
  {
   "cell_type": "code",
   "execution_count": 4,
   "metadata": {
    "ExecuteTime": {
     "end_time": "2020-06-02T19:54:32.987943Z",
     "start_time": "2020-06-02T19:54:32.985249Z"
    }
   },
   "outputs": [
    {
     "name": "stdout",
     "output_type": "stream",
     "text": [
      "3\n"
     ]
    }
   ],
   "source": [
    "print(3)"
   ]
  },
  {
   "cell_type": "markdown",
   "metadata": {},
   "source": [
    "Veja que para imprimir o valor ``3``, não usamos nenhum tipo de aspas. Isso ocorre porquê a própria função faz a conversão do valor numérico para palavra. Contudo, se tentarmos imprimir uma frase sem o uso de aspas, nos deparamos com um erro:"
   ]
  },
  {
   "cell_type": "code",
   "execution_count": 5,
   "metadata": {
    "ExecuteTime": {
     "end_time": "2020-06-02T19:56:07.342609Z",
     "start_time": "2020-06-02T19:56:07.340051Z"
    }
   },
   "outputs": [
    {
     "ename": "SyntaxError",
     "evalue": "invalid syntax (<ipython-input-5-58cb5da3b684>, line 1)",
     "output_type": "error",
     "traceback": [
      "\u001b[0;36m  File \u001b[0;32m\"<ipython-input-5-58cb5da3b684>\"\u001b[0;36m, line \u001b[0;32m1\u001b[0m\n\u001b[0;31m    print(Tentando imprimir uma frase sem aspas)\u001b[0m\n\u001b[0m                          ^\u001b[0m\n\u001b[0;31mSyntaxError\u001b[0m\u001b[0;31m:\u001b[0m invalid syntax\n"
     ]
    }
   ],
   "source": [
    "print(Tentando imprimir uma frase sem aspas)"
   ]
  },
  {
   "cell_type": "markdown",
   "metadata": {},
   "source": [
    "O erro acima ``SyntaxError``, nos diz que usamos a linguagem de programação de maneira indevida."
   ]
  },
  {
   "cell_type": "markdown",
   "metadata": {},
   "source": [
    "Contudo, no âmbito do ``Jupyter Notebook``, se quisermos imprimir algo na tela, não precisamos usar a função ``print()``:"
   ]
  },
  {
   "cell_type": "code",
   "execution_count": 6,
   "metadata": {
    "ExecuteTime": {
     "end_time": "2020-06-02T19:59:30.536671Z",
     "start_time": "2020-06-02T19:59:30.529849Z"
    }
   },
   "outputs": [
    {
     "data": {
      "text/plain": [
       "'Essa frase será imrpimida sem o uso da função print().'"
      ]
     },
     "execution_count": 6,
     "metadata": {},
     "output_type": "execute_result"
    }
   ],
   "source": [
    "\"Essa frase será imrpimida sem o uso da função print().\""
   ]
  },
  {
   "cell_type": "markdown",
   "metadata": {},
   "source": [
    "Porém, se tentarmos imprimir várias frases em sequência, veja o que acontece:"
   ]
  },
  {
   "cell_type": "code",
   "execution_count": 7,
   "metadata": {
    "ExecuteTime": {
     "end_time": "2020-06-02T20:00:12.642855Z",
     "start_time": "2020-06-02T20:00:12.640281Z"
    }
   },
   "outputs": [
    {
     "data": {
      "text/plain": [
       "'E essa é a última!'"
      ]
     },
     "execution_count": 7,
     "metadata": {},
     "output_type": "execute_result"
    }
   ],
   "source": [
    "\"Essa é a primeira frase.\"\n",
    "\"E essa é a última!\""
   ]
  },
  {
   "cell_type": "markdown",
   "metadata": {},
   "source": [
    "Somente a última sentença é imprimida.\n",
    "\n",
    "Agora que já vimos como executar as células com códigos, tente você fazer alguns testes!"
   ]
  },
  {
   "cell_type": "markdown",
   "metadata": {},
   "source": [
    "Digite na célula abaixo o código para imprimir a sentença: **Essa é a primeira aula do curso mais legal que eu já fiz!**"
   ]
  },
  {
   "cell_type": "code",
   "execution_count": null,
   "metadata": {},
   "outputs": [],
   "source": [
    "# digite seu código aqui\n"
   ]
  },
  {
   "cell_type": "markdown",
   "metadata": {},
   "source": [
    "Não conseguiu? <b>Clique duas vezes aqui</b> e dê uma espiada na resposta =)\n",
    "<!--\n",
    "Resposta:\n",
    "---------\n",
    "print(\"Essa é a primeira aula do curso mais legal que eu já fiz!\")\n",
    "-->"
   ]
  },
  {
   "cell_type": "markdown",
   "metadata": {},
   "source": [
    "Tente imprimir algumas palavras, sentenças ou números. Veja como criar novas células para escrever seu código voltando [nessa célula](#create_new_cell)."
   ]
  },
  {
   "cell_type": "markdown",
   "metadata": {},
   "source": [
    "Uma das coisas considerada boa prática em programação é comentar o código. Comentários servem para explicar o que seu código faz. Essas aplicações são úteis para outras pessoas entenderem o que seu programa faz e como ele faz. Além disso, ele ajuda você mesmo a lembrar o que você fez e o porquê de ter feito daquela forma. \n",
    "\n",
    "Em ``python``, comentários podem ser criados usando o caracter ``#``. Veja na célula abaixo o exemplo:"
   ]
  },
  {
   "cell_type": "code",
   "execution_count": 77,
   "metadata": {
    "ExecuteTime": {
     "end_time": "2020-06-05T21:20:45.513806Z",
     "start_time": "2020-06-05T21:20:45.511346Z"
    }
   },
   "outputs": [
    {
     "name": "stdout",
     "output_type": "stream",
     "text": [
      "Essa frase será imprimida na tela.\n"
     ]
    }
   ],
   "source": [
    "# vamos escrever alguns comentários para exemplificar o código\n",
    "# vamos imprimir uma frase na tela\n",
    "print(\"Essa frase será imprimida na tela.\")\n",
    "# print(\"Essa frase não será imprimida na tela.\")"
   ]
  },
  {
   "cell_type": "code",
   "execution_count": 78,
   "metadata": {
    "ExecuteTime": {
     "end_time": "2020-06-05T21:21:19.561278Z",
     "start_time": "2020-06-05T21:21:19.559699Z"
    }
   },
   "outputs": [],
   "source": [
    "# execute essa célula para constatar que nada acontecerá\n",
    "# print(\"Nada acontecerá\")"
   ]
  },
  {
   "cell_type": "markdown",
   "metadata": {},
   "source": [
    "# Os tipos de variáveis"
   ]
  },
  {
   "cell_type": "markdown",
   "metadata": {},
   "source": [
    "Em ``python``, assim como em outras linguagens, existe uma distinção no ``tipo`` ou ``classe`` das variáveis que estamos lidando. Nos exemplos anteriores vimos como imprimir uma frase e que para isso, devemos usar as aspas simples ou duplas. Isso se deve ao fato de que em ``python``, uma ``string`` é definida dessa forma. Uma ``string`` é uma cobinação de caracteres que pode ser imprimido. Quando tentamos usar um ``número inteiro`` dentro da função ``print()``, vimos que o resultado foi a impressão desse número abaixo da célula. Isso se deve ao fato da função ``print()`` converter esse número inteiro, que é do tipo ``int`` para uma ``string``. Podemos sempre saber o tipo de uma variável usando a função ``type()`` passando como argumento a variável que queremos descobrir o tipo. Vamos ver alguns exemplos.\n"
   ]
  },
  {
   "cell_type": "markdown",
   "metadata": {},
   "source": [
    "Se \"perguntarmos\" qual é o ``tipo`` da variável 'Hello, world!', a função ``type()`` nos retornará o valor ``str``:"
   ]
  },
  {
   "cell_type": "code",
   "execution_count": 8,
   "metadata": {
    "ExecuteTime": {
     "end_time": "2020-06-02T20:58:18.654604Z",
     "start_time": "2020-06-02T20:58:18.652014Z"
    }
   },
   "outputs": [
    {
     "data": {
      "text/plain": [
       "str"
      ]
     },
     "execution_count": 8,
     "metadata": {},
     "output_type": "execute_result"
    }
   ],
   "source": [
    "type('Hello, world!')"
   ]
  },
  {
   "cell_type": "markdown",
   "metadata": {},
   "source": [
    "Isso quer dizer que a variável é do ``tipo`` ou pertence à ``classe`` ``string``, ou, de maneira abreviada, ``str``.\n",
    "\n",
    "Se passarmos um ``número inteiro`` como argumento, veremos que a função ``type()`` retornará o valor ``int``:"
   ]
  },
  {
   "cell_type": "code",
   "execution_count": 9,
   "metadata": {
    "ExecuteTime": {
     "end_time": "2020-06-02T21:00:43.315475Z",
     "start_time": "2020-06-02T21:00:43.312749Z"
    }
   },
   "outputs": [
    {
     "data": {
      "text/plain": [
       "int"
      ]
     },
     "execution_count": 9,
     "metadata": {},
     "output_type": "execute_result"
    }
   ],
   "source": [
    "type(3)"
   ]
  },
  {
   "cell_type": "markdown",
   "metadata": {},
   "source": [
    "Em matemática aprendemos conjuntos numéricos, onde os número inteiros (1, 2, 3, $\\dots$) percentem ao conjunto dos números naturais ($\\mathbb{N}$). Já os números que podem ser representados como frações $p/q$ em que $p$ e $q$ são números inteiros, como $0{,}92$, $1/4$, $0.33333$ fazem parte dos números racionais ($\\mathbb{Q}$). Em ``python``, tais número também são diferentes. Enquanto o primeiro conjunto é do tipo ``int``, o segundo é do tipo ``float``:"
   ]
  },
  {
   "cell_type": "code",
   "execution_count": 10,
   "metadata": {
    "ExecuteTime": {
     "end_time": "2020-06-02T21:10:58.247037Z",
     "start_time": "2020-06-02T21:10:58.244619Z"
    }
   },
   "outputs": [
    {
     "data": {
      "text/plain": [
       "float"
      ]
     },
     "execution_count": 10,
     "metadata": {},
     "output_type": "execute_result"
    }
   ],
   "source": [
    "type(0.92)"
   ]
  },
  {
   "cell_type": "code",
   "execution_count": 11,
   "metadata": {
    "ExecuteTime": {
     "end_time": "2020-06-02T21:11:04.732662Z",
     "start_time": "2020-06-02T21:11:04.729796Z"
    }
   },
   "outputs": [
    {
     "data": {
      "text/plain": [
       "float"
      ]
     },
     "execution_count": 11,
     "metadata": {},
     "output_type": "execute_result"
    }
   ],
   "source": [
    "type(1/4)"
   ]
  },
  {
   "cell_type": "code",
   "execution_count": 12,
   "metadata": {
    "ExecuteTime": {
     "end_time": "2020-06-02T21:11:19.677711Z",
     "start_time": "2020-06-02T21:11:19.674983Z"
    }
   },
   "outputs": [
    {
     "data": {
      "text/plain": [
       "float"
      ]
     },
     "execution_count": 12,
     "metadata": {},
     "output_type": "execute_result"
    }
   ],
   "source": [
    "type(0.33333)"
   ]
  },
  {
   "cell_type": "markdown",
   "metadata": {},
   "source": [
    "Mesmo os número que são irracionais, isto é, dizimas infinitas sem repetição, como $\\pi = 3{,}141592653589793\\dots$, também são considerados como ``float``:"
   ]
  },
  {
   "cell_type": "code",
   "execution_count": 15,
   "metadata": {
    "ExecuteTime": {
     "end_time": "2020-06-02T21:13:11.778121Z",
     "start_time": "2020-06-02T21:13:11.775511Z"
    }
   },
   "outputs": [
    {
     "data": {
      "text/plain": [
       "float"
      ]
     },
     "execution_count": 15,
     "metadata": {},
     "output_type": "execute_result"
    }
   ],
   "source": [
    "type(3.141592653589793)"
   ]
  },
  {
   "cell_type": "markdown",
   "metadata": {},
   "source": [
    "As funções também possuem um ``tipo`` específico:"
   ]
  },
  {
   "cell_type": "code",
   "execution_count": 23,
   "metadata": {
    "ExecuteTime": {
     "end_time": "2020-06-02T21:14:54.304555Z",
     "start_time": "2020-06-02T21:14:54.301810Z"
    }
   },
   "outputs": [
    {
     "data": {
      "text/plain": [
       "builtin_function_or_method"
      ]
     },
     "execution_count": 23,
     "metadata": {},
     "output_type": "execute_result"
    }
   ],
   "source": [
    "type(print)"
   ]
  },
  {
   "cell_type": "markdown",
   "metadata": {
    "ExecuteTime": {
     "end_time": "2020-06-02T21:15:14.472247Z",
     "start_time": "2020-06-02T21:15:14.470389Z"
    }
   },
   "source": [
    "<a class='cell' id='func_and_method_1'></a>\n",
    "Esse tipo nos diz que ``print`` é uma ``função`` ou ``método`` inata do ``python``, ou seja, não é necessário importá-la a partir de um pacote separado para usá-la. Mais a [frente](#func_and_method_2), veremos que existe uma diferença sútil entre ``função`` e ``método``."
   ]
  },
  {
   "cell_type": "markdown",
   "metadata": {},
   "source": [
    "<a class='cell' id='bool_explanation'></a>\n",
    "Um outro tipo muito importante de variável em qualquer tipo de linguagem de programação é a variável do tipo ``boolean``. Temos somente duas variáveis desse tipo: ``True`` e ``False``, que também podem ser representadas pelas número ``1`` e ``0``, respectivamente. Elas são usadas em operações lógicas para nos dizer se algo é ``Verdadeiro (True)`` ou ``Falso (False)`` e então qual decisão deve ser tomada."
   ]
  },
  {
   "cell_type": "code",
   "execution_count": 21,
   "metadata": {
    "ExecuteTime": {
     "end_time": "2020-06-03T23:29:55.476973Z",
     "start_time": "2020-06-03T23:29:55.472069Z"
    }
   },
   "outputs": [
    {
     "data": {
      "text/plain": [
       "bool"
      ]
     },
     "execution_count": 21,
     "metadata": {},
     "output_type": "execute_result"
    }
   ],
   "source": [
    "type(True)"
   ]
  },
  {
   "cell_type": "code",
   "execution_count": 22,
   "metadata": {
    "ExecuteTime": {
     "end_time": "2020-06-03T23:30:04.442731Z",
     "start_time": "2020-06-03T23:30:04.439954Z"
    }
   },
   "outputs": [
    {
     "data": {
      "text/plain": [
       "bool"
      ]
     },
     "execution_count": 22,
     "metadata": {},
     "output_type": "execute_result"
    }
   ],
   "source": [
    "type(False)"
   ]
  },
  {
   "cell_type": "markdown",
   "metadata": {},
   "source": [
    "Veja que a linguagem python tende a abreviar os termos, como vimos no caso de ``str`` para ``string`` e ``bool`` para ``boolean``.\n",
    "\n",
    "Conformes for avançando, veremos mais alguns tipos de variáveis."
   ]
  },
  {
   "cell_type": "markdown",
   "metadata": {},
   "source": [
    "<a class='section' id='operacoes_matematicas'></a>\n",
    "# Operações matemáticas"
   ]
  },
  {
   "cell_type": "markdown",
   "metadata": {},
   "source": [
    "Em ``python`` é muito fácil executar operação matemáticas. As operações matemáticas mais básicas como ``soma``, ``subtração``, ``multiplicação``, ``divisão`` e ``potenciação/exponenciação`` são efetuadas da seguinte forma:"
   ]
  },
  {
   "cell_type": "markdown",
   "metadata": {},
   "source": [
    "- Soma\n",
    "```python\n",
    ">>> 2+2\n",
    "4\n",
    "```\n",
    "- Subtração\n",
    "```python\n",
    ">>> 5-2\n",
    "3\n",
    "```\n",
    "- Multiplicação\n",
    "```python\n",
    ">>> 2*3\n",
    "6\n",
    "```\n",
    "- Divisão\n",
    "```python\n",
    ">>> 10/2\n",
    "5\n",
    "```\n",
    "- Potenciação/exponenciação\n",
    "```python\n",
    ">>> 2**3\n",
    "8\n",
    "```\n",
    "\n",
    "O símbolo ```>>>``` indica um código que será executado e na linha abaixo o que foi retornado como resultado.\n",
    "\n",
    "Vamos executar algumas dessas operações abaixo."
   ]
  },
  {
   "cell_type": "code",
   "execution_count": 1,
   "metadata": {
    "ExecuteTime": {
     "end_time": "2020-06-03T23:01:33.421300Z",
     "start_time": "2020-06-03T23:01:33.414725Z"
    }
   },
   "outputs": [
    {
     "data": {
      "text/plain": [
       "4"
      ]
     },
     "execution_count": 1,
     "metadata": {},
     "output_type": "execute_result"
    }
   ],
   "source": [
    "2+2"
   ]
  },
  {
   "cell_type": "code",
   "execution_count": 5,
   "metadata": {
    "ExecuteTime": {
     "end_time": "2020-06-03T23:02:41.413210Z",
     "start_time": "2020-06-03T23:02:41.409661Z"
    }
   },
   "outputs": [
    {
     "data": {
      "text/plain": [
       "3"
      ]
     },
     "execution_count": 5,
     "metadata": {},
     "output_type": "execute_result"
    }
   ],
   "source": [
    "5-2"
   ]
  },
  {
   "cell_type": "code",
   "execution_count": 7,
   "metadata": {
    "ExecuteTime": {
     "end_time": "2020-06-03T23:02:49.302526Z",
     "start_time": "2020-06-03T23:02:49.293019Z"
    }
   },
   "outputs": [
    {
     "data": {
      "text/plain": [
       "6"
      ]
     },
     "execution_count": 7,
     "metadata": {},
     "output_type": "execute_result"
    }
   ],
   "source": [
    "2*3"
   ]
  },
  {
   "cell_type": "code",
   "execution_count": 9,
   "metadata": {
    "ExecuteTime": {
     "end_time": "2020-06-03T23:02:56.175738Z",
     "start_time": "2020-06-03T23:02:56.164374Z"
    }
   },
   "outputs": [
    {
     "data": {
      "text/plain": [
       "5.0"
      ]
     },
     "execution_count": 9,
     "metadata": {},
     "output_type": "execute_result"
    }
   ],
   "source": [
    "10/2"
   ]
  },
  {
   "cell_type": "code",
   "execution_count": 11,
   "metadata": {
    "ExecuteTime": {
     "end_time": "2020-06-03T23:03:10.875292Z",
     "start_time": "2020-06-03T23:03:10.862384Z"
    }
   },
   "outputs": [
    {
     "data": {
      "text/plain": [
       "8"
      ]
     },
     "execution_count": 11,
     "metadata": {},
     "output_type": "execute_result"
    }
   ],
   "source": [
    "2**3"
   ]
  },
  {
   "cell_type": "markdown",
   "metadata": {},
   "source": [
    "Tente você fazer algumas operações abaixo."
   ]
  },
  {
   "cell_type": "code",
   "execution_count": null,
   "metadata": {},
   "outputs": [],
   "source": [
    "# efetue suas operações aqui. Não se esqueça de aperta shift+enter para executar o código escrito na célula.\n"
   ]
  },
  {
   "cell_type": "markdown",
   "metadata": {},
   "source": [
    "Existem outros tipos de operação que as vezes são úteis. A primeira delas é chamada de ``módulo`` e simbolizada pelo operador ``%``. Ele funciona como uma divisão, nos retornando o valor inteiro que resta da divisão:\n",
    "\n",
    "```python\n",
    " 7%2 = 1 # o número 2 cabe três vezes inteiras em  5 e sobra 1\n",
    "10%4 = 2 # o número 4 cabe duas vezes inteiras em 10 e sobra 2\n",
    "```\n",
    "\n",
    "Confira nas células abaixo!"
   ]
  },
  {
   "cell_type": "code",
   "execution_count": 15,
   "metadata": {
    "ExecuteTime": {
     "end_time": "2020-06-03T23:24:42.157748Z",
     "start_time": "2020-06-03T23:24:42.155474Z"
    }
   },
   "outputs": [
    {
     "data": {
      "text/plain": [
       "6"
      ]
     },
     "execution_count": 15,
     "metadata": {},
     "output_type": "execute_result"
    }
   ],
   "source": [
    "13%7"
   ]
  },
  {
   "cell_type": "code",
   "execution_count": 16,
   "metadata": {
    "ExecuteTime": {
     "end_time": "2020-06-03T23:24:49.333823Z",
     "start_time": "2020-06-03T23:24:49.323736Z"
    }
   },
   "outputs": [
    {
     "data": {
      "text/plain": [
       "3"
      ]
     },
     "execution_count": 16,
     "metadata": {},
     "output_type": "execute_result"
    }
   ],
   "source": [
    "19%4"
   ]
  },
  {
   "cell_type": "code",
   "execution_count": 14,
   "metadata": {
    "ExecuteTime": {
     "end_time": "2020-06-03T23:22:35.445731Z",
     "start_time": "2020-06-03T23:22:35.440751Z"
    }
   },
   "outputs": [
    {
     "data": {
      "text/plain": [
       "1.5"
      ]
     },
     "execution_count": 14,
     "metadata": {},
     "output_type": "execute_result"
    }
   ],
   "source": [
    "3.5%2"
   ]
  },
  {
   "cell_type": "markdown",
   "metadata": {},
   "source": [
    "A segunda operação é simbolizada pelo operador ``//``. Ele também funciona como uma divisão, contudo, ele nos retorna o resultado inteiro da divisão:\n",
    "\n",
    "```python\n",
    "10//3 = 3 # o número 3 cabe três vezes inteiro em 10\n",
    "14//6 = 2 # o número 6 cabe duas vezes inteiro em 14\n",
    "```\n",
    "\n",
    "Confira mais exemplos nas células abaixo!"
   ]
  },
  {
   "cell_type": "code",
   "execution_count": 18,
   "metadata": {
    "ExecuteTime": {
     "end_time": "2020-06-03T23:25:02.717872Z",
     "start_time": "2020-06-03T23:25:02.708049Z"
    }
   },
   "outputs": [
    {
     "data": {
      "text/plain": [
       "16"
      ]
     },
     "execution_count": 18,
     "metadata": {},
     "output_type": "execute_result"
    }
   ],
   "source": [
    "33//2"
   ]
  },
  {
   "cell_type": "code",
   "execution_count": 19,
   "metadata": {
    "ExecuteTime": {
     "end_time": "2020-06-03T23:25:15.942142Z",
     "start_time": "2020-06-03T23:25:15.936516Z"
    }
   },
   "outputs": [
    {
     "data": {
      "text/plain": [
       "17.0"
      ]
     },
     "execution_count": 19,
     "metadata": {},
     "output_type": "execute_result"
    }
   ],
   "source": [
    "5.2//0.3"
   ]
  },
  {
   "cell_type": "markdown",
   "metadata": {},
   "source": [
    "<a class='cell' id='pwr_for_sqrt'></a>\n",
    "E a raíz quadrada? A raíz cúbica? Para efetuar essas operações precisamos reescrever a potência em termos de uma fração, ou seja, \n",
    "\n",
    "$$\n",
    "\\begin{split}\n",
    "    \\sqrt{x}    &= x^{1/2}\\\\\n",
    "    \\sqrt[3]{x} &= x^{1/3}\\\\\n",
    "                &\\ \\,\\vdots\\\\\n",
    "    \\sqrt[n]{x} &= x^{1/n}\n",
    "\\end{split}\n",
    "$$\n",
    "\n",
    "Vamos conferir alguns exemplos:\n",
    "\n",
    "```python\n",
    ">>> 16**(1/2)\n",
    "4.0\n",
    ">>> 27**(1/3)\n",
    "3.0\n",
    ">>> 1024**(1/10)\n",
    "2.0\n",
    "```"
   ]
  },
  {
   "cell_type": "markdown",
   "metadata": {
    "ExecuteTime": {
     "end_time": "2020-06-04T21:56:06.354411Z",
     "start_time": "2020-06-04T21:56:06.351049Z"
    }
   },
   "source": [
    "Tente você, efetue as seguintes raízes:\n",
    "\n",
    "- a. $\\sqrt{81}$;\n",
    "- b. $\\sqrt[3]{81}$;\n",
    "- c. $256^{1/4}$;"
   ]
  },
  {
   "cell_type": "code",
   "execution_count": null,
   "metadata": {},
   "outputs": [],
   "source": []
  },
  {
   "cell_type": "code",
   "execution_count": null,
   "metadata": {},
   "outputs": [],
   "source": []
  },
  {
   "cell_type": "code",
   "execution_count": null,
   "metadata": {},
   "outputs": [],
   "source": []
  },
  {
   "cell_type": "markdown",
   "metadata": {},
   "source": [
    "Não conseguiu? **Clique duas vezes aqui** e dê uma espiada na resposta =)\n",
    "\n",
    "<!--\n",
    "a. \n",
    ">>> 81**(1/2)\n",
    "9.0\n",
    "\n",
    "b.\n",
    ">>> 81**(1/3)\n",
    "3.0\n",
    "\n",
    "c.\n",
    ">>> 256**(1/4)\n",
    "4.0\n",
    "-->"
   ]
  },
  {
   "cell_type": "markdown",
   "metadata": {},
   "source": [
    "Outro detalhe que devemos nos atentar é na questão aritmética na ordem das operações que devem ser realizadas. Devemos respeitar a seguinte ordem:\n",
    "\n",
    "- Parêntesis\n",
    "- Expoentes\n",
    "- Multiplicações e divisões\n",
    "- Somas e subtrações\n",
    "\n",
    "Por exemplo:\n",
    "\n",
    "$$\n",
    "    \\left(1+2\\right) \\times 3^3 = \\left( 3 \\right) \\times 3^3 = \\left( 3 \\right) \\times 27 = 81.\n",
    "$$\n",
    "\n",
    "$$\n",
    "    \\left(2{,}5 + \\frac{7}{2} \\right)^2 \\times 3 + 3 + \\frac{3^3}{3} = \\left(2{,}5 + 3{,}5 \\right)^2 \\times 3 + 3 + \\frac{27}{3} = \\left( 6 \\right)^2 \\times 3 + 3 + 9 = 36 \\times 3 + 12 = 108 + 12 = 120.\n",
    "$$\n",
    "\n",
    "Quando escrevemos um código para descrever uma operação aritmética devemos levar em consideração a ordem correta. Vamos reescrever essas duas expressões nas células abaixo e executá-las."
   ]
  },
  {
   "cell_type": "code",
   "execution_count": 17,
   "metadata": {
    "ExecuteTime": {
     "end_time": "2020-06-04T14:05:45.420061Z",
     "start_time": "2020-06-04T14:05:45.410587Z"
    }
   },
   "outputs": [
    {
     "data": {
      "text/plain": [
       "81"
      ]
     },
     "execution_count": 17,
     "metadata": {},
     "output_type": "execute_result"
    }
   ],
   "source": [
    "( 1 + 2 )*3**3"
   ]
  },
  {
   "cell_type": "markdown",
   "metadata": {},
   "source": [
    "Apesar do código acima nos fornecer o resultado correto, as vezes é melhor separarmos os termos por parêntesis para uma melhor leitura do código:"
   ]
  },
  {
   "cell_type": "code",
   "execution_count": 18,
   "metadata": {
    "ExecuteTime": {
     "end_time": "2020-06-04T14:07:15.435035Z",
     "start_time": "2020-06-04T14:07:15.430025Z"
    }
   },
   "outputs": [
    {
     "data": {
      "text/plain": [
       "81"
      ]
     },
     "execution_count": 18,
     "metadata": {},
     "output_type": "execute_result"
    }
   ],
   "source": [
    "( 1 + 2 )*( 3**3 )"
   ]
  },
  {
   "cell_type": "markdown",
   "metadata": {},
   "source": [
    "A segunda operação ficaria, então, escrita como"
   ]
  },
  {
   "cell_type": "code",
   "execution_count": 20,
   "metadata": {
    "ExecuteTime": {
     "end_time": "2020-06-04T14:08:41.175514Z",
     "start_time": "2020-06-04T14:08:41.164119Z"
    }
   },
   "outputs": [
    {
     "data": {
      "text/plain": [
       "120.0"
      ]
     },
     "execution_count": 20,
     "metadata": {},
     "output_type": "execute_result"
    }
   ],
   "source": [
    "(( 2.5 + (7/2) )**2)*3 + 3 + (3**3)/3"
   ]
  },
  {
   "cell_type": "markdown",
   "metadata": {},
   "source": [
    "Tente você agora escrever o código para as seguintes operações:\n",
    "\n",
    "$$\n",
    "    3 \\times 4 + \\frac{8}{2} - 3^2\n",
    "$$\n",
    "\n",
    "$$\n",
    "    \\frac{2^3}{8} \\times \\left( 3^2 \\times 3 \\right) - 3\n",
    "$$\n",
    "\n",
    "$$\n",
    "    \\left(\\frac{2^4}{4} - 3 \\right)^3 + 9 \\times 2 - \\frac{\\left( 2^4 - 3^2 - 1\\right)^2}{3}\n",
    "$$"
   ]
  },
  {
   "cell_type": "markdown",
   "metadata": {},
   "source": [
    "Não conseguiu? **Clique duas vezes aqui** e dê uma espiada na resposta =)\n",
    "\n",
    "<!--\n",
    "\n",
    ">>> ( 3*4 ) + (8/2) - 3**2\n",
    "7.0\n",
    "\n",
    ">>> ( ( 2**3 ) / 8 )*( (3**2)*3 ) - 3\n",
    "24.0\n",
    "\n",
    ">>> ( (( 2**4 )/4) - 3)**3 + (9*2) - ( ( (2**4) - (3**2) - 1)**2 )/3\n",
    "7.0\n",
    "-->"
   ]
  },
  {
   "cell_type": "markdown",
   "metadata": {},
   "source": [
    "<a class='section' id='operacoes_logicas'></a>\n",
    "# Operações lógicas"
   ]
  },
  {
   "cell_type": "markdown",
   "metadata": {},
   "source": [
    "Além dos operadores matemáticos, temos também operadores lógicos. Esses são usados com variáveis do tipo ``bool`` (``boolean``) sendo elas ``True`` e ``False`` para resultados verdadeiros e falsos, respectivamente. Essas duas variáveis podem ser comparadas usando alguns operadores. \n",
    "\n",
    "O primeiro que veremos é o operador ``and``, que também pode ser representado pelo símbolo ``&``. Veja como usamos eles com as variáveis ``bool``:\n",
    "\n",
    "```python\n",
    ">>> True and True\n",
    "True\n",
    "\n",
    ">>> True and False\n",
    "False\n",
    "\n",
    ">>> False and False\n",
    "False\n",
    "\n",
    "```\n",
    "\n",
    "Veja que o resultado da comparação desse operador retorna um valor lógico (``bool``). Esse valor é ``True`` se o primeiro valor ``e`` o segundo são verdadeiros. Se um deles, ou ambos, for falso então a operação retorna ``False``. Veja os códigos executados nas células abaixo."
   ]
  },
  {
   "cell_type": "code",
   "execution_count": 3,
   "metadata": {
    "ExecuteTime": {
     "end_time": "2020-06-04T13:44:45.720758Z",
     "start_time": "2020-06-04T13:44:45.712145Z"
    }
   },
   "outputs": [
    {
     "data": {
      "text/plain": [
       "True"
      ]
     },
     "execution_count": 3,
     "metadata": {},
     "output_type": "execute_result"
    }
   ],
   "source": [
    "True and True"
   ]
  },
  {
   "cell_type": "code",
   "execution_count": 24,
   "metadata": {
    "ExecuteTime": {
     "end_time": "2020-06-04T15:07:29.624315Z",
     "start_time": "2020-06-04T15:07:29.620825Z"
    }
   },
   "outputs": [
    {
     "data": {
      "text/plain": [
       "True"
      ]
     },
     "execution_count": 24,
     "metadata": {},
     "output_type": "execute_result"
    }
   ],
   "source": [
    "True & True"
   ]
  },
  {
   "cell_type": "code",
   "execution_count": 4,
   "metadata": {
    "ExecuteTime": {
     "end_time": "2020-06-04T13:44:50.064365Z",
     "start_time": "2020-06-04T13:44:50.057909Z"
    }
   },
   "outputs": [
    {
     "data": {
      "text/plain": [
       "False"
      ]
     },
     "execution_count": 4,
     "metadata": {},
     "output_type": "execute_result"
    }
   ],
   "source": [
    "True and False"
   ]
  },
  {
   "cell_type": "code",
   "execution_count": 25,
   "metadata": {
    "ExecuteTime": {
     "end_time": "2020-06-04T15:07:40.661339Z",
     "start_time": "2020-06-04T15:07:40.655937Z"
    }
   },
   "outputs": [
    {
     "data": {
      "text/plain": [
       "False"
      ]
     },
     "execution_count": 25,
     "metadata": {},
     "output_type": "execute_result"
    }
   ],
   "source": [
    "True & False"
   ]
  },
  {
   "cell_type": "code",
   "execution_count": 5,
   "metadata": {
    "ExecuteTime": {
     "end_time": "2020-06-04T13:44:54.261939Z",
     "start_time": "2020-06-04T13:44:54.250499Z"
    }
   },
   "outputs": [
    {
     "data": {
      "text/plain": [
       "False"
      ]
     },
     "execution_count": 5,
     "metadata": {},
     "output_type": "execute_result"
    }
   ],
   "source": [
    "False and False"
   ]
  },
  {
   "cell_type": "code",
   "execution_count": 26,
   "metadata": {
    "ExecuteTime": {
     "end_time": "2020-06-04T15:07:49.149281Z",
     "start_time": "2020-06-04T15:07:49.137338Z"
    }
   },
   "outputs": [
    {
     "data": {
      "text/plain": [
       "False"
      ]
     },
     "execution_count": 26,
     "metadata": {},
     "output_type": "execute_result"
    }
   ],
   "source": [
    "False & False"
   ]
  },
  {
   "cell_type": "markdown",
   "metadata": {},
   "source": [
    "Como mencionamos [anteriormente](#bool_explanation), os número ``1`` e ``0`` também funcionam como os operadores lógicos ``True`` e  ``False``, respectivamente. Veja nas células abaixo as comparações feitas:"
   ]
  },
  {
   "cell_type": "code",
   "execution_count": 7,
   "metadata": {
    "ExecuteTime": {
     "end_time": "2020-06-04T13:51:54.481366Z",
     "start_time": "2020-06-04T13:51:54.475573Z"
    }
   },
   "outputs": [
    {
     "data": {
      "text/plain": [
       "True"
      ]
     },
     "execution_count": 7,
     "metadata": {},
     "output_type": "execute_result"
    }
   ],
   "source": [
    "1 and True"
   ]
  },
  {
   "cell_type": "code",
   "execution_count": 8,
   "metadata": {
    "ExecuteTime": {
     "end_time": "2020-06-04T13:52:03.403347Z",
     "start_time": "2020-06-04T13:52:03.392377Z"
    }
   },
   "outputs": [
    {
     "data": {
      "text/plain": [
       "False"
      ]
     },
     "execution_count": 8,
     "metadata": {},
     "output_type": "execute_result"
    }
   ],
   "source": [
    "1 and False"
   ]
  },
  {
   "cell_type": "code",
   "execution_count": 12,
   "metadata": {
    "ExecuteTime": {
     "end_time": "2020-06-04T13:52:39.275036Z",
     "start_time": "2020-06-04T13:52:39.266177Z"
    }
   },
   "outputs": [
    {
     "data": {
      "text/plain": [
       "0"
      ]
     },
     "execution_count": 12,
     "metadata": {},
     "output_type": "execute_result"
    }
   ],
   "source": [
    "0 and True"
   ]
  },
  {
   "cell_type": "code",
   "execution_count": 13,
   "metadata": {
    "ExecuteTime": {
     "end_time": "2020-06-04T13:53:02.078630Z",
     "start_time": "2020-06-04T13:53:02.073422Z"
    }
   },
   "outputs": [
    {
     "data": {
      "text/plain": [
       "0"
      ]
     },
     "execution_count": 13,
     "metadata": {},
     "output_type": "execute_result"
    }
   ],
   "source": [
    "0 and False"
   ]
  },
  {
   "cell_type": "markdown",
   "metadata": {},
   "source": [
    "Na verdade, qualquer valor que não seja ``0`` retorna ``True``. Para mostrar isso, usaremos a função ``bool()``. Essa função permite avaliar qualquer tipo de valor, retornando se esse é ``True`` ou ``False``. "
   ]
  },
  {
   "cell_type": "code",
   "execution_count": 63,
   "metadata": {
    "ExecuteTime": {
     "end_time": "2020-06-05T19:07:13.214924Z",
     "start_time": "2020-06-05T19:07:13.211701Z"
    }
   },
   "outputs": [
    {
     "data": {
      "text/plain": [
       "True"
      ]
     },
     "execution_count": 63,
     "metadata": {},
     "output_type": "execute_result"
    }
   ],
   "source": [
    "bool(1)"
   ]
  },
  {
   "cell_type": "code",
   "execution_count": 64,
   "metadata": {
    "ExecuteTime": {
     "end_time": "2020-06-05T19:07:18.427856Z",
     "start_time": "2020-06-05T19:07:18.424796Z"
    }
   },
   "outputs": [
    {
     "data": {
      "text/plain": [
       "False"
      ]
     },
     "execution_count": 64,
     "metadata": {},
     "output_type": "execute_result"
    }
   ],
   "source": [
    "bool(0)"
   ]
  },
  {
   "cell_type": "code",
   "execution_count": 65,
   "metadata": {
    "ExecuteTime": {
     "end_time": "2020-06-05T19:07:33.076683Z",
     "start_time": "2020-06-05T19:07:33.074044Z"
    }
   },
   "outputs": [
    {
     "data": {
      "text/plain": [
       "True"
      ]
     },
     "execution_count": 65,
     "metadata": {},
     "output_type": "execute_result"
    }
   ],
   "source": [
    "bool('Café')"
   ]
  },
  {
   "cell_type": "code",
   "execution_count": 67,
   "metadata": {
    "ExecuteTime": {
     "end_time": "2020-06-05T19:07:45.632894Z",
     "start_time": "2020-06-05T19:07:45.629545Z"
    }
   },
   "outputs": [
    {
     "data": {
      "text/plain": [
       "True"
      ]
     },
     "execution_count": 67,
     "metadata": {},
     "output_type": "execute_result"
    }
   ],
   "source": [
    "bool(3)"
   ]
  },
  {
   "cell_type": "markdown",
   "metadata": {},
   "source": [
    "Veja que nas células acima o único argumento passado para a função ``bool`` que faz ela retornar ``False`` é o número ``0``. "
   ]
  },
  {
   "cell_type": "markdown",
   "metadata": {},
   "source": [
    "O outro operador lógico é o ``or`` (``ou``). Ele também pode ser representado pelo caracter ``|`` e é usado da mesma forma que o operador ``and``. Ele se difere no fato de que se uma das variáveis lógicas que estiverem sendo comparadas for ``True``, a operação retorna ``True``. Veja os exemplos:\n",
    "\n",
    "```python\n",
    ">>> True or True\n",
    "True\n",
    "\n",
    ">>> True or False\n",
    "True\n",
    "\n",
    ">>> False or False\n",
    "False\n",
    "\n",
    "```"
   ]
  },
  {
   "cell_type": "code",
   "execution_count": 27,
   "metadata": {
    "ExecuteTime": {
     "end_time": "2020-06-04T15:18:32.329034Z",
     "start_time": "2020-06-04T15:18:32.321101Z"
    }
   },
   "outputs": [
    {
     "data": {
      "text/plain": [
       "True"
      ]
     },
     "execution_count": 27,
     "metadata": {},
     "output_type": "execute_result"
    }
   ],
   "source": [
    "True or True"
   ]
  },
  {
   "cell_type": "code",
   "execution_count": 28,
   "metadata": {
    "ExecuteTime": {
     "end_time": "2020-06-04T15:18:35.326027Z",
     "start_time": "2020-06-04T15:18:35.317193Z"
    }
   },
   "outputs": [
    {
     "data": {
      "text/plain": [
       "True"
      ]
     },
     "execution_count": 28,
     "metadata": {},
     "output_type": "execute_result"
    }
   ],
   "source": [
    "True | True"
   ]
  },
  {
   "cell_type": "code",
   "execution_count": 29,
   "metadata": {
    "ExecuteTime": {
     "end_time": "2020-06-04T15:18:38.283593Z",
     "start_time": "2020-06-04T15:18:38.278025Z"
    }
   },
   "outputs": [
    {
     "data": {
      "text/plain": [
       "True"
      ]
     },
     "execution_count": 29,
     "metadata": {},
     "output_type": "execute_result"
    }
   ],
   "source": [
    "True or False"
   ]
  },
  {
   "cell_type": "code",
   "execution_count": 30,
   "metadata": {
    "ExecuteTime": {
     "end_time": "2020-06-04T15:18:43.383872Z",
     "start_time": "2020-06-04T15:18:43.378229Z"
    }
   },
   "outputs": [
    {
     "data": {
      "text/plain": [
       "True"
      ]
     },
     "execution_count": 30,
     "metadata": {},
     "output_type": "execute_result"
    }
   ],
   "source": [
    "True | False"
   ]
  },
  {
   "cell_type": "code",
   "execution_count": 31,
   "metadata": {
    "ExecuteTime": {
     "end_time": "2020-06-04T15:18:46.403960Z",
     "start_time": "2020-06-04T15:18:46.399174Z"
    }
   },
   "outputs": [
    {
     "data": {
      "text/plain": [
       "False"
      ]
     },
     "execution_count": 31,
     "metadata": {},
     "output_type": "execute_result"
    }
   ],
   "source": [
    "False or False"
   ]
  },
  {
   "cell_type": "code",
   "execution_count": 32,
   "metadata": {
    "ExecuteTime": {
     "end_time": "2020-06-04T15:18:49.249816Z",
     "start_time": "2020-06-04T15:18:49.244159Z"
    }
   },
   "outputs": [
    {
     "data": {
      "text/plain": [
       "False"
      ]
     },
     "execution_count": 32,
     "metadata": {},
     "output_type": "execute_result"
    }
   ],
   "source": [
    "False | False"
   ]
  },
  {
   "cell_type": "code",
   "execution_count": 33,
   "metadata": {
    "ExecuteTime": {
     "end_time": "2020-06-04T15:19:00.521574Z",
     "start_time": "2020-06-04T15:19:00.517859Z"
    }
   },
   "outputs": [
    {
     "data": {
      "text/plain": [
       "1"
      ]
     },
     "execution_count": 33,
     "metadata": {},
     "output_type": "execute_result"
    }
   ],
   "source": [
    "1 or True"
   ]
  },
  {
   "cell_type": "code",
   "execution_count": 34,
   "metadata": {
    "ExecuteTime": {
     "end_time": "2020-06-04T15:19:07.703511Z",
     "start_time": "2020-06-04T15:19:07.697251Z"
    }
   },
   "outputs": [
    {
     "data": {
      "text/plain": [
       "1"
      ]
     },
     "execution_count": 34,
     "metadata": {},
     "output_type": "execute_result"
    }
   ],
   "source": [
    "1 or False"
   ]
  },
  {
   "cell_type": "code",
   "execution_count": 36,
   "metadata": {
    "ExecuteTime": {
     "end_time": "2020-06-04T15:19:23.861508Z",
     "start_time": "2020-06-04T15:19:23.855457Z"
    }
   },
   "outputs": [
    {
     "data": {
      "text/plain": [
       "True"
      ]
     },
     "execution_count": 36,
     "metadata": {},
     "output_type": "execute_result"
    }
   ],
   "source": [
    "0 or True"
   ]
  },
  {
   "cell_type": "code",
   "execution_count": 37,
   "metadata": {
    "ExecuteTime": {
     "end_time": "2020-06-04T15:19:28.063861Z",
     "start_time": "2020-06-04T15:19:28.055663Z"
    }
   },
   "outputs": [
    {
     "data": {
      "text/plain": [
       "False"
      ]
     },
     "execution_count": 37,
     "metadata": {},
     "output_type": "execute_result"
    }
   ],
   "source": [
    "0 or False"
   ]
  },
  {
   "cell_type": "markdown",
   "metadata": {},
   "source": [
    "Por último, temos o operador ``not``. Ele funciona invertendo a afirmção lógica feita:\n",
    "\n",
    "```python\n",
    ">>> not True\n",
    "False\n",
    "\n",
    ">>> not False\n",
    "True\n",
    "```"
   ]
  },
  {
   "cell_type": "markdown",
   "metadata": {},
   "source": [
    "É como se estivéssimos multiplicando nosso operador por ``-1`` para inverter seu valor."
   ]
  },
  {
   "cell_type": "code",
   "execution_count": 38,
   "metadata": {
    "ExecuteTime": {
     "end_time": "2020-06-04T15:21:33.210340Z",
     "start_time": "2020-06-04T15:21:33.205945Z"
    }
   },
   "outputs": [
    {
     "data": {
      "text/plain": [
       "False"
      ]
     },
     "execution_count": 38,
     "metadata": {},
     "output_type": "execute_result"
    }
   ],
   "source": [
    "not True"
   ]
  },
  {
   "cell_type": "code",
   "execution_count": 40,
   "metadata": {
    "ExecuteTime": {
     "end_time": "2020-06-04T15:29:27.614848Z",
     "start_time": "2020-06-04T15:29:27.607995Z"
    }
   },
   "outputs": [
    {
     "data": {
      "text/plain": [
       "False"
      ]
     },
     "execution_count": 40,
     "metadata": {},
     "output_type": "execute_result"
    }
   ],
   "source": [
    "not 1"
   ]
  },
  {
   "cell_type": "code",
   "execution_count": 39,
   "metadata": {
    "ExecuteTime": {
     "end_time": "2020-06-04T15:21:36.373433Z",
     "start_time": "2020-06-04T15:21:36.367257Z"
    }
   },
   "outputs": [
    {
     "data": {
      "text/plain": [
       "True"
      ]
     },
     "execution_count": 39,
     "metadata": {},
     "output_type": "execute_result"
    }
   ],
   "source": [
    "not False"
   ]
  },
  {
   "cell_type": "code",
   "execution_count": 41,
   "metadata": {
    "ExecuteTime": {
     "end_time": "2020-06-04T15:29:39.017110Z",
     "start_time": "2020-06-04T15:29:39.008002Z"
    }
   },
   "outputs": [
    {
     "data": {
      "text/plain": [
       "True"
      ]
     },
     "execution_count": 41,
     "metadata": {},
     "output_type": "execute_result"
    }
   ],
   "source": [
    "not 0"
   ]
  },
  {
   "cell_type": "markdown",
   "metadata": {},
   "source": [
    "Essas operações podem combinadas, só precisamos lembrar que termos entre parênteses são efetuados primeiro:"
   ]
  },
  {
   "cell_type": "code",
   "execution_count": 42,
   "metadata": {
    "ExecuteTime": {
     "end_time": "2020-06-04T15:31:37.682358Z",
     "start_time": "2020-06-04T15:31:37.678856Z"
    }
   },
   "outputs": [
    {
     "data": {
      "text/plain": [
       "False"
      ]
     },
     "execution_count": 42,
     "metadata": {},
     "output_type": "execute_result"
    }
   ],
   "source": [
    "(not True) or False"
   ]
  },
  {
   "cell_type": "code",
   "execution_count": 43,
   "metadata": {
    "ExecuteTime": {
     "end_time": "2020-06-04T15:32:00.723716Z",
     "start_time": "2020-06-04T15:32:00.716523Z"
    }
   },
   "outputs": [
    {
     "data": {
      "text/plain": [
       "True"
      ]
     },
     "execution_count": 43,
     "metadata": {},
     "output_type": "execute_result"
    }
   ],
   "source": [
    "True and (not False)"
   ]
  },
  {
   "cell_type": "code",
   "execution_count": 45,
   "metadata": {
    "ExecuteTime": {
     "end_time": "2020-06-04T15:32:59.426123Z",
     "start_time": "2020-06-04T15:32:59.418746Z"
    }
   },
   "outputs": [
    {
     "data": {
      "text/plain": [
       "True"
      ]
     },
     "execution_count": 45,
     "metadata": {},
     "output_type": "execute_result"
    }
   ],
   "source": [
    "(True and (not True)) | True"
   ]
  },
  {
   "cell_type": "code",
   "execution_count": 48,
   "metadata": {
    "ExecuteTime": {
     "end_time": "2020-06-04T15:34:13.539896Z",
     "start_time": "2020-06-04T15:34:13.536727Z"
    }
   },
   "outputs": [
    {
     "data": {
      "text/plain": [
       "True"
      ]
     },
     "execution_count": 48,
     "metadata": {},
     "output_type": "execute_result"
    }
   ],
   "source": [
    "((not 0) or 1) & (not False)"
   ]
  },
  {
   "cell_type": "markdown",
   "metadata": {},
   "source": [
    "<a class='section' id='operacoes_de_comparacao'></a>\n",
    "# Operações de comparação"
   ]
  },
  {
   "cell_type": "markdown",
   "metadata": {},
   "source": [
    "Existem também os ``operadores de comparação``. Usamos esses operadores para dizer se variáveis são igauis, diferentes, maiores (ou iguais) ou menores (ou iguais). Abaixo vemos o símbolo de cada uma dessas operações:\n",
    "\n",
    "```python\n",
    "a == b (a é igual a b)\n",
    "a != b (a é diferente de b)\n",
    "a >  b (a é maior que b)\n",
    "a >= b (a é maior ou igual a b)\n",
    "a <  b (a é menor que b)\n",
    "a <= b (a é menor ou igual a b)\n",
    "```\n",
    "\n",
    "Essas operações de comparação levam a resultados lógicos, isto é, elas retornam ``True`` ou ``False``. Vamos ver alguns exemplos:"
   ]
  },
  {
   "cell_type": "code",
   "execution_count": 49,
   "metadata": {
    "ExecuteTime": {
     "end_time": "2020-06-04T15:45:26.260648Z",
     "start_time": "2020-06-04T15:45:26.256612Z"
    }
   },
   "outputs": [
    {
     "data": {
      "text/plain": [
       "True"
      ]
     },
     "execution_count": 49,
     "metadata": {},
     "output_type": "execute_result"
    }
   ],
   "source": [
    "(2+2) == 4"
   ]
  },
  {
   "cell_type": "code",
   "execution_count": 50,
   "metadata": {
    "ExecuteTime": {
     "end_time": "2020-06-04T15:45:38.382792Z",
     "start_time": "2020-06-04T15:45:38.378343Z"
    }
   },
   "outputs": [
    {
     "data": {
      "text/plain": [
       "True"
      ]
     },
     "execution_count": 50,
     "metadata": {},
     "output_type": "execute_result"
    }
   ],
   "source": [
    "2 != 1"
   ]
  },
  {
   "cell_type": "code",
   "execution_count": 51,
   "metadata": {
    "ExecuteTime": {
     "end_time": "2020-06-04T15:45:51.689302Z",
     "start_time": "2020-06-04T15:45:51.684086Z"
    }
   },
   "outputs": [
    {
     "data": {
      "text/plain": [
       "False"
      ]
     },
     "execution_count": 51,
     "metadata": {},
     "output_type": "execute_result"
    }
   ],
   "source": [
    "4 != 4"
   ]
  },
  {
   "cell_type": "code",
   "execution_count": 54,
   "metadata": {
    "ExecuteTime": {
     "end_time": "2020-06-04T15:46:10.856587Z",
     "start_time": "2020-06-04T15:46:10.853896Z"
    }
   },
   "outputs": [
    {
     "data": {
      "text/plain": [
       "False"
      ]
     },
     "execution_count": 54,
     "metadata": {},
     "output_type": "execute_result"
    }
   ],
   "source": [
    "3 > 3"
   ]
  },
  {
   "cell_type": "code",
   "execution_count": 55,
   "metadata": {
    "ExecuteTime": {
     "end_time": "2020-06-04T15:46:13.647099Z",
     "start_time": "2020-06-04T15:46:13.638934Z"
    }
   },
   "outputs": [
    {
     "data": {
      "text/plain": [
       "True"
      ]
     },
     "execution_count": 55,
     "metadata": {},
     "output_type": "execute_result"
    }
   ],
   "source": [
    "3 >= 3"
   ]
  },
  {
   "cell_type": "markdown",
   "metadata": {},
   "source": [
    "Com essas novas operações, podemos começar a combinar as variáveis lógicas com operações de comparações númericas:"
   ]
  },
  {
   "cell_type": "code",
   "execution_count": 56,
   "metadata": {
    "ExecuteTime": {
     "end_time": "2020-06-04T15:58:32.567696Z",
     "start_time": "2020-06-04T15:58:32.564763Z"
    }
   },
   "outputs": [
    {
     "data": {
      "text/plain": [
       "False"
      ]
     },
     "execution_count": 56,
     "metadata": {},
     "output_type": "execute_result"
    }
   ],
   "source": [
    "((2+2) == 4) == False"
   ]
  },
  {
   "cell_type": "code",
   "execution_count": 58,
   "metadata": {
    "ExecuteTime": {
     "end_time": "2020-06-04T15:59:45.083249Z",
     "start_time": "2020-06-04T15:59:45.074098Z"
    }
   },
   "outputs": [
    {
     "data": {
      "text/plain": [
       "True"
      ]
     },
     "execution_count": 58,
     "metadata": {},
     "output_type": "execute_result"
    }
   ],
   "source": [
    "not (( (3 < 2) | (5 <= 4) ) & (not 1))"
   ]
  },
  {
   "cell_type": "code",
   "execution_count": 79,
   "metadata": {
    "ExecuteTime": {
     "end_time": "2020-06-04T16:11:05.235391Z",
     "start_time": "2020-06-04T16:11:05.231081Z"
    }
   },
   "outputs": [
    {
     "data": {
      "text/plain": [
       "True"
      ]
     },
     "execution_count": 79,
     "metadata": {},
     "output_type": "execute_result"
    }
   ],
   "source": [
    "( ( ( 11%3 )/2 ) == False ) | ( ( ( 11//3 ) - 3 ) != True )"
   ]
  },
  {
   "cell_type": "markdown",
   "metadata": {},
   "source": [
    "Para facilitar sua compreensão, tente entender os códigos por partes. Por exemplo, na célula acima, faça primeiro as operações matemáticas:\n",
    "\n",
    "```python\n",
    "( ( 11%3 )/2 == False ) | ( ( ( 11//3 ) - 3 ) != True )\n",
    "   ( ( 2/2 ) == False ) | ( ( 3 - 3) != True )\n",
    "         ( 1 == False ) | ( 0 != True )\n",
    "                  False | True\n",
    "                      True\n",
    "```"
   ]
  },
  {
   "cell_type": "markdown",
   "metadata": {},
   "source": [
    "<a class='section' id='atribuindo_valores_as_variaveis'></a>\n",
    "# Atribuindo valores às variáveis"
   ]
  },
  {
   "cell_type": "markdown",
   "metadata": {},
   "source": [
    "Em ``python`` podemos criar variáveis com uma infinidade de nomes. Contudo, existem algumas regras que devem ser respeitadas para que erros no código não ocorram. O que não podemos fazer:\n",
    "\n",
    "- começar variáveis com números:\n",
    "    - ``23_numeros``\n",
    "- ter espaço entre os nomes das variáveis\n",
    "    - ``lista de numeros``\n",
    "- ter algum símbolo, como ``-``,  ``(``, ``~`` que não seja ``_`` entre palavras:\n",
    "    - ``nome-da~variavel``\n",
    "    \n",
    "Uma boa prática é escolher um nome que explique o que sua variável signifique. É convenção se criarmos uma função ou variável que tenha mais de uma palavra, que essas sejam separadas por ``_``, como: ``lista_de_numeros`` e ``soma_de_dois_numeros()``."
   ]
  },
  {
   "cell_type": "markdown",
   "metadata": {},
   "source": [
    "Observe que quando queremos comparar se duas variáveis iguais ou se duas operações (matemáticas e/ou lógicas) levam ao mesmo resultado, usamos o operador ``==``. O símbolo ``=`` é destinado à atribuição de valores às variáveis. Para mostrar isso, vamos considerar o seguinte exemplo.\n",
    "\n",
    "Suponha que um carro se deslocou $120{,}0\\, km$ em $2{,}0\\, h$. Podemos calcular a velocidade média desse carro nesse percurso usando a expressão\n",
    "\n",
    "$$\n",
    "    v_{media} = \\frac{\\Delta S}{\\Delta t},\n",
    "$$\n",
    "\n",
    "em que $\\Delta S$ é a distância percorrida em um intervalo de tempo $\\Delta t$. No nosso caso, $\\Delta S = 120{,}0\\, km$ e $\\Delta t = 2{,}0 h$, de modo que\n",
    "\n",
    "$$\n",
    "    v_{media} = \\frac{120{,}0\\, km}{2{,}0\\, h} = 60{,}0\\, km/h.\n",
    "$$\n",
    "\n",
    "Em ``python`` podemos criar uma variável e atribuir valores e resultados de expressões à ela. Por exemplo, vamos criar uma variável chamada ``velocidade_media`` de maneira que ela guarde o valor ``60.0``:\n",
    "\n",
    "```python\n",
    ">>> velocidade_media = 60.0\n",
    "```\n",
    "\n",
    "Para visualizar o valor que essa variável guarda, podemos imprimí-la na tela:\n",
    "\n",
    "```python\n",
    ">>> print(velocidade_media)\n",
    "60.0\n",
    "```\n",
    "\n",
    "Veja nas células abaixo os códigos executados."
   ]
  },
  {
   "cell_type": "code",
   "execution_count": 80,
   "metadata": {
    "ExecuteTime": {
     "end_time": "2020-06-04T17:45:56.147752Z",
     "start_time": "2020-06-04T17:45:56.145772Z"
    }
   },
   "outputs": [],
   "source": [
    "# definindo a variável velocidade_media\n",
    "velocidade_media = 60.0 # em km/h"
   ]
  },
  {
   "cell_type": "code",
   "execution_count": 81,
   "metadata": {
    "ExecuteTime": {
     "end_time": "2020-06-04T17:46:08.545294Z",
     "start_time": "2020-06-04T17:46:08.538242Z"
    }
   },
   "outputs": [
    {
     "name": "stdout",
     "output_type": "stream",
     "text": [
      "60.0\n"
     ]
    }
   ],
   "source": [
    "# imprimindo seu valor na tela\n",
    "print(velocidade_media)"
   ]
  },
  {
   "cell_type": "markdown",
   "metadata": {},
   "source": [
    "Ao invés de atribuir o valor ``60.0`` diretamente à nossa variável ``velocidade_media``, podemos atribuir a expressão que dá resultado a esse valor, isto é, ``120/2``:\n",
    "\n",
    "```python\n",
    ">>> velocidade_media = 120/2\n",
    ">>> print(velocidade_media)\n",
    "60.0\n",
    "```\n",
    "\n",
    "Veja nas células abaixo os códigos executados."
   ]
  },
  {
   "cell_type": "code",
   "execution_count": 82,
   "metadata": {
    "ExecuteTime": {
     "end_time": "2020-06-04T17:48:17.292266Z",
     "start_time": "2020-06-04T17:48:17.287420Z"
    }
   },
   "outputs": [],
   "source": [
    "velocidade_media = 120/2"
   ]
  },
  {
   "cell_type": "code",
   "execution_count": 83,
   "metadata": {
    "ExecuteTime": {
     "end_time": "2020-06-04T17:48:24.327956Z",
     "start_time": "2020-06-04T17:48:24.321877Z"
    }
   },
   "outputs": [
    {
     "name": "stdout",
     "output_type": "stream",
     "text": [
      "60.0\n"
     ]
    }
   ],
   "source": [
    "print(velocidade_media)"
   ]
  },
  {
   "cell_type": "markdown",
   "metadata": {},
   "source": [
    "Como estamos num ``Notebook`` iterativo, para mostrar o valor da variável, não precisamos da função print. Para visualizá-la, basta digitar seu nome e apertar ``shift+enter`` na tela:"
   ]
  },
  {
   "cell_type": "code",
   "execution_count": 84,
   "metadata": {
    "ExecuteTime": {
     "end_time": "2020-06-04T17:49:18.826670Z",
     "start_time": "2020-06-04T17:49:18.823811Z"
    }
   },
   "outputs": [
    {
     "data": {
      "text/plain": [
       "60.0"
      ]
     },
     "execution_count": 84,
     "metadata": {},
     "output_type": "execute_result"
    }
   ],
   "source": [
    "velocidade_media"
   ]
  },
  {
   "cell_type": "markdown",
   "metadata": {},
   "source": [
    "Podemos ainda definir variáveis para o deslocamento total e o tempo que se passou e substituir em uma ``fórmula`` para a velocidade média. \n",
    "\n",
    "```python\n",
    ">>> delta_s = 120 # em quilômetros [km]\n",
    ">>> delta_t = 2   # em horas [h]\n",
    ">>> velocidade_media = delta_s/delta_t # em quilômetros por hora [km/h]\n",
    ">>> print(velocidade_media)\n",
    "60.0\n",
    "```"
   ]
  },
  {
   "cell_type": "markdown",
   "metadata": {},
   "source": [
    "Veja as células abaixo exemplificando essa passagem:"
   ]
  },
  {
   "cell_type": "code",
   "execution_count": 85,
   "metadata": {
    "ExecuteTime": {
     "end_time": "2020-06-04T20:06:01.491927Z",
     "start_time": "2020-06-04T20:06:01.489822Z"
    }
   },
   "outputs": [],
   "source": [
    "# definimos as variáveis delta_s (distância percorrida) e delta_t (intervalo de tempo)\n",
    "delta_s = 120 # em quilômetros [km]\n",
    "delta_t = 2   # em horas [h]"
   ]
  },
  {
   "cell_type": "markdown",
   "metadata": {},
   "source": [
    "Agora definimos a variável velocidade média, que leva em consideração as variáveis definidas anteriormente:"
   ]
  },
  {
   "cell_type": "code",
   "execution_count": 86,
   "metadata": {
    "ExecuteTime": {
     "end_time": "2020-06-04T20:06:58.240493Z",
     "start_time": "2020-06-04T20:06:58.237261Z"
    }
   },
   "outputs": [],
   "source": [
    "velocidade_media = delta_s/delta_t # em quilômetros por hora [km/h]"
   ]
  },
  {
   "cell_type": "markdown",
   "metadata": {},
   "source": [
    "Para verificar o valor da variável velocidade média, basta escrevê-la em uma célula e apertar ``shift+enter``:"
   ]
  },
  {
   "cell_type": "code",
   "execution_count": 87,
   "metadata": {
    "ExecuteTime": {
     "end_time": "2020-06-04T20:07:33.169582Z",
     "start_time": "2020-06-04T20:07:33.165500Z"
    }
   },
   "outputs": [
    {
     "data": {
      "text/plain": [
       "60.0"
      ]
     },
     "execution_count": 87,
     "metadata": {},
     "output_type": "execute_result"
    }
   ],
   "source": [
    "velocidade_media"
   ]
  },
  {
   "cell_type": "markdown",
   "metadata": {},
   "source": [
    "Suponha que agora o valor do intervalo de tempo é de $3{,}0\\,h$. O que acontece se somente mudarmos o valor da variável ``delta_t``, atribuindo esse novo valor à ela e então verificarmos o valor da variável ``velocidade_media``? Vamos conferir:"
   ]
  },
  {
   "cell_type": "code",
   "execution_count": 88,
   "metadata": {
    "ExecuteTime": {
     "end_time": "2020-06-04T20:14:11.507346Z",
     "start_time": "2020-06-04T20:14:11.504500Z"
    }
   },
   "outputs": [],
   "source": [
    "# redefinimos o valor do intervalo de tempo\n",
    "delta_t = 3 # em horas [h]"
   ]
  },
  {
   "cell_type": "code",
   "execution_count": 89,
   "metadata": {
    "ExecuteTime": {
     "end_time": "2020-06-04T20:14:24.096654Z",
     "start_time": "2020-06-04T20:14:24.091261Z"
    }
   },
   "outputs": [
    {
     "data": {
      "text/plain": [
       "3"
      ]
     },
     "execution_count": 89,
     "metadata": {},
     "output_type": "execute_result"
    }
   ],
   "source": [
    "# conferimos se o valor foi alterado\n",
    "delta_t"
   ]
  },
  {
   "cell_type": "code",
   "execution_count": 90,
   "metadata": {
    "ExecuteTime": {
     "end_time": "2020-06-04T20:14:40.719992Z",
     "start_time": "2020-06-04T20:14:40.714481Z"
    }
   },
   "outputs": [
    {
     "data": {
      "text/plain": [
       "60.0"
      ]
     },
     "execution_count": 90,
     "metadata": {},
     "output_type": "execute_result"
    }
   ],
   "source": [
    "# agora invocamos a variável ``velocidade_media``\n",
    "velocidade_media"
   ]
  },
  {
   "cell_type": "markdown",
   "metadata": {},
   "source": [
    "Observe que o valor não mudou. Isso ocorre pois a variável ``velocidade_media`` não foi redefinida com o novo valor da variável ``delta_t``. Mais a frente veremos como criar funções que podem receber argumentos e retornar valores, de maneira que fica mais fácil calcular, por exemplo, a velocidade média para quaisquer valores de deslocamento e intervalo de tempo, sem ter que ficar reatribuindo valores à variável."
   ]
  },
  {
   "cell_type": "markdown",
   "metadata": {},
   "source": [
    "Uma outra propriedade bastante usada na atribuição de valores às variáveis, é que podemos usar o seu valor presente para atualizá-la. Veja o bloco de código a seguir que exemplifica essa propriedade:\n",
    "\n",
    "```python\n",
    ">>> contador = 1    # atribuímos o valor 1 à variável contador\n",
    ">>> print(contador) # imprimimos a variável ``contador`` na tela\n",
    "1\n",
    ">>> contador = contador + 1 # adicionamos 1 ao valor antigo da variável para atualizá-la\n",
    ">>> print(contador)         # imprimimos a variável ``contador`` na tela\n",
    "2\n",
    ">>> contador = contador + 2 # adicionamos 2 ao valor antigo da variável para atualizá-la\n",
    ">>> print(contador)         # imprimimos a variável ``contador`` na tela\n",
    "4\n",
    ">>> contador = 1    # apenas redefinimos o valor da variável\n",
    ">>> print(contador) # imprimimos a variável ``contador`` na tela\n",
    "1\n",
    "```"
   ]
  },
  {
   "cell_type": "markdown",
   "metadata": {
    "ExecuteTime": {
     "end_time": "2020-06-04T15:29:27.614848Z",
     "start_time": "2020-06-04T15:29:27.607995Z"
    }
   },
   "source": [
    "Veja que primeiramente atribuímos o valor ``1`` à variável ``contador``. Depois, usamos o valor que já estava guardado nessa variável para atribuir seu próprio valor adicionado de ``1`` e atribuímos o resultado à mesma variável. Veja os códigos executados nas células abaixo:"
   ]
  },
  {
   "cell_type": "code",
   "execution_count": 91,
   "metadata": {
    "ExecuteTime": {
     "end_time": "2020-06-04T20:34:26.547008Z",
     "start_time": "2020-06-04T20:34:26.544798Z"
    }
   },
   "outputs": [],
   "source": [
    "# definimos a variável ``contador`` atribuindo o valor ``1`` à ela\n",
    "contador = 1"
   ]
  },
  {
   "cell_type": "code",
   "execution_count": 92,
   "metadata": {
    "ExecuteTime": {
     "end_time": "2020-06-04T20:34:43.192050Z",
     "start_time": "2020-06-04T20:34:43.185602Z"
    }
   },
   "outputs": [
    {
     "data": {
      "text/plain": [
       "1"
      ]
     },
     "execution_count": 92,
     "metadata": {},
     "output_type": "execute_result"
    }
   ],
   "source": [
    "# inspecionamos o valor da variável\n",
    "contador"
   ]
  },
  {
   "cell_type": "code",
   "execution_count": 93,
   "metadata": {
    "ExecuteTime": {
     "end_time": "2020-06-04T20:35:33.688229Z",
     "start_time": "2020-06-04T20:35:33.686112Z"
    }
   },
   "outputs": [],
   "source": [
    "# incrementamos seu valor em 1\n",
    "# novo valor   valor antigo\n",
    "contador     = contador    + 1"
   ]
  },
  {
   "cell_type": "code",
   "execution_count": 94,
   "metadata": {
    "ExecuteTime": {
     "end_time": "2020-06-04T20:35:50.202090Z",
     "start_time": "2020-06-04T20:35:50.197484Z"
    }
   },
   "outputs": [
    {
     "data": {
      "text/plain": [
       "2"
      ]
     },
     "execution_count": 94,
     "metadata": {},
     "output_type": "execute_result"
    }
   ],
   "source": [
    "# inspecionamos o valor da variável após sua atualização\n",
    "contador"
   ]
  },
  {
   "cell_type": "code",
   "execution_count": 95,
   "metadata": {
    "ExecuteTime": {
     "end_time": "2020-06-04T20:51:26.408968Z",
     "start_time": "2020-06-04T20:51:26.406358Z"
    }
   },
   "outputs": [],
   "source": [
    "# incrementamos o valor da variável contador em 2 agora\n",
    "contador = contador + 2"
   ]
  },
  {
   "cell_type": "code",
   "execution_count": 96,
   "metadata": {
    "ExecuteTime": {
     "end_time": "2020-06-04T20:51:43.870806Z",
     "start_time": "2020-06-04T20:51:43.866028Z"
    }
   },
   "outputs": [
    {
     "data": {
      "text/plain": [
       "4"
      ]
     },
     "execution_count": 96,
     "metadata": {},
     "output_type": "execute_result"
    }
   ],
   "source": [
    "# inspecionamos o valor da variável após sua atualização\n",
    "contador"
   ]
  },
  {
   "cell_type": "code",
   "execution_count": 97,
   "metadata": {
    "ExecuteTime": {
     "end_time": "2020-06-04T20:52:25.380013Z",
     "start_time": "2020-06-04T20:52:25.378258Z"
    }
   },
   "outputs": [],
   "source": [
    "# atribuindo um valor a ela, apenas a redefinimos\n",
    "contador = 1"
   ]
  },
  {
   "cell_type": "code",
   "execution_count": 98,
   "metadata": {
    "ExecuteTime": {
     "end_time": "2020-06-04T20:52:35.288351Z",
     "start_time": "2020-06-04T20:52:35.285025Z"
    }
   },
   "outputs": [
    {
     "data": {
      "text/plain": [
       "1"
      ]
     },
     "execution_count": 98,
     "metadata": {},
     "output_type": "execute_result"
    }
   ],
   "source": [
    "contador"
   ]
  },
  {
   "cell_type": "markdown",
   "metadata": {},
   "source": [
    "Existe um operador de atribuição que adiciona um valor à variável para atualizá-la, como acabamos de fazer. Esse operador é designido por ``+=``. Veja o exemplo abaixo:\n",
    "\n",
    "```python\n",
    ">>> contador = 1    # atribuímos o valor 1 à variável contador\n",
    ">>> print(contador) # imprimimos a variável ``contador`` na tela\n",
    "1\n",
    ">>> contador += 1 # adicionamos 1 ao valor antigo da variável para atualizá-la\n",
    ">>> print(contador)         # imprimimos a variável ``contador`` na tela\n",
    "2\n",
    ">>> contador += 2 # adicionamos 2 ao valor antigo da variável para atualizá-la\n",
    ">>> print(contador)         # imprimimos a variável ``contador`` na tela\n",
    "4\n",
    ">>> contador = 1    # apenas redefinimos o valor da variável\n",
    ">>> print(contador) # imprimimos a variável ``contador`` na tela\n",
    "1\n",
    "```"
   ]
  },
  {
   "cell_type": "markdown",
   "metadata": {},
   "source": [
    "As células abaixo mostram os códigos em execução:"
   ]
  },
  {
   "cell_type": "code",
   "execution_count": 91,
   "metadata": {
    "ExecuteTime": {
     "end_time": "2020-06-04T20:34:26.547008Z",
     "start_time": "2020-06-04T20:34:26.544798Z"
    }
   },
   "outputs": [],
   "source": [
    "# definimos a variável ``contador`` atribuindo o valor ``1`` à ela\n",
    "contador = 1"
   ]
  },
  {
   "cell_type": "code",
   "execution_count": 92,
   "metadata": {
    "ExecuteTime": {
     "end_time": "2020-06-04T20:34:43.192050Z",
     "start_time": "2020-06-04T20:34:43.185602Z"
    }
   },
   "outputs": [
    {
     "data": {
      "text/plain": [
       "1"
      ]
     },
     "execution_count": 92,
     "metadata": {},
     "output_type": "execute_result"
    }
   ],
   "source": [
    "# inspecionamos o valor da variável\n",
    "contador"
   ]
  },
  {
   "cell_type": "code",
   "execution_count": 99,
   "metadata": {
    "ExecuteTime": {
     "end_time": "2020-06-04T21:13:30.352640Z",
     "start_time": "2020-06-04T21:13:30.349805Z"
    }
   },
   "outputs": [],
   "source": [
    "# incrementamos seu valor em 1\n",
    "contador += 1"
   ]
  },
  {
   "cell_type": "code",
   "execution_count": 100,
   "metadata": {
    "ExecuteTime": {
     "end_time": "2020-06-04T21:13:31.729734Z",
     "start_time": "2020-06-04T21:13:31.724600Z"
    }
   },
   "outputs": [
    {
     "data": {
      "text/plain": [
       "2"
      ]
     },
     "execution_count": 100,
     "metadata": {},
     "output_type": "execute_result"
    }
   ],
   "source": [
    "# inspecionamos o valor da variável após sua atualização\n",
    "contador"
   ]
  },
  {
   "cell_type": "code",
   "execution_count": 101,
   "metadata": {
    "ExecuteTime": {
     "end_time": "2020-06-04T21:13:38.928126Z",
     "start_time": "2020-06-04T21:13:38.926113Z"
    }
   },
   "outputs": [],
   "source": [
    "# incrementamos o valor da variável contador em 2 agora\n",
    "contador += 2"
   ]
  },
  {
   "cell_type": "code",
   "execution_count": 102,
   "metadata": {
    "ExecuteTime": {
     "end_time": "2020-06-04T21:13:39.834718Z",
     "start_time": "2020-06-04T21:13:39.830205Z"
    }
   },
   "outputs": [
    {
     "data": {
      "text/plain": [
       "4"
      ]
     },
     "execution_count": 102,
     "metadata": {},
     "output_type": "execute_result"
    }
   ],
   "source": [
    "# inspecionamos o valor da variável após sua atualização\n",
    "contador"
   ]
  },
  {
   "cell_type": "code",
   "execution_count": 103,
   "metadata": {
    "ExecuteTime": {
     "end_time": "2020-06-04T21:13:42.124786Z",
     "start_time": "2020-06-04T21:13:42.120483Z"
    }
   },
   "outputs": [],
   "source": [
    "# atribuindo um valor a ela, apenas a redefinimos\n",
    "contador = 1"
   ]
  },
  {
   "cell_type": "code",
   "execution_count": 104,
   "metadata": {
    "ExecuteTime": {
     "end_time": "2020-06-04T21:13:42.630708Z",
     "start_time": "2020-06-04T21:13:42.627256Z"
    }
   },
   "outputs": [
    {
     "data": {
      "text/plain": [
       "1"
      ]
     },
     "execution_count": 104,
     "metadata": {},
     "output_type": "execute_result"
    }
   ],
   "source": [
    "contador"
   ]
  },
  {
   "cell_type": "markdown",
   "metadata": {},
   "source": [
    "Além desse operador de incremento, existe um para cada operação matemática que vimos:\n",
    "\n",
    "- Substração\n",
    "```python\n",
    ">>> x = 10\n",
    ">>> x -= 1 # mesma coisa que x = x - 1\n",
    ">>> print(x)\n",
    "9\n",
    "```\n",
    "\n",
    "- Multiplicação\n",
    "```python\n",
    ">>> x = 10\n",
    ">>> x *= 3 # mesma coisa que x = x*3\n",
    ">>> print(x)\n",
    "30\n",
    "```\n",
    "\n",
    "- Divisão\n",
    "```python\n",
    ">>> x = 10\n",
    ">>> x /= 2 # mesma coisa que x = x/2\n",
    ">>> print(x)\n",
    "5.0\n",
    "```\n",
    "\n",
    "- Módulo (resto da divisão inteira)\n",
    "```python\n",
    ">>> x = 10\n",
    ">>> x %= 3 # mesma coisa que x = x%3\n",
    ">>> print(x)\n",
    "1\n",
    "```\n",
    "\n",
    "- Resultado inteiro da divisão\n",
    "```python\n",
    ">>> x = 10\n",
    ">>> x //= 3 # mesma coisa que x = x//3\n",
    ">>> print(x)\n",
    "3\n",
    "```\n",
    "\n",
    "- Exponenciação\n",
    "```python\n",
    ">>> x = 10\n",
    ">>> x **= 4 # mesma coisa que x = x**4\n",
    ">>> print(x)\n",
    "10000\n",
    "```"
   ]
  },
  {
   "cell_type": "markdown",
   "metadata": {},
   "source": [
    "Uma variável pode guardar qualquer valor, isso inclui valores lógicos:\n",
    "\n",
    "```python\n",
    ">>> variavel_true = True\n",
    ">>> variavel_true == False\n",
    "False\n",
    ">>> variavel_true | False\n",
    "True\n",
    "\n",
    ">>> variavel_false = False\n",
    ">>> variavel_false < True\n",
    "True\n",
    ">>> variavel_false & True\n",
    "False\n",
    "```"
   ]
  },
  {
   "cell_type": "code",
   "execution_count": 134,
   "metadata": {
    "ExecuteTime": {
     "end_time": "2020-06-04T22:20:51.950118Z",
     "start_time": "2020-06-04T22:20:51.947434Z"
    }
   },
   "outputs": [],
   "source": [
    "# definimos a variável ``variavel_true`` e atribuímos o valor lógico ``True``\n",
    "variavel_true = True"
   ]
  },
  {
   "cell_type": "code",
   "execution_count": 138,
   "metadata": {
    "ExecuteTime": {
     "end_time": "2020-06-04T22:23:30.685662Z",
     "start_time": "2020-06-04T22:23:30.683343Z"
    }
   },
   "outputs": [
    {
     "data": {
      "text/plain": [
       "True"
      ]
     },
     "execution_count": 138,
     "metadata": {},
     "output_type": "execute_result"
    }
   ],
   "source": [
    "# inspecionamos o valor de ``variavel_true``\n",
    "variavel_true"
   ]
  },
  {
   "cell_type": "code",
   "execution_count": 135,
   "metadata": {
    "ExecuteTime": {
     "end_time": "2020-06-04T22:21:30.442341Z",
     "start_time": "2020-06-04T22:21:30.438099Z"
    }
   },
   "outputs": [
    {
     "data": {
      "text/plain": [
       "True"
      ]
     },
     "execution_count": 135,
     "metadata": {},
     "output_type": "execute_result"
    }
   ],
   "source": [
    "# usamos o operador de comparação ``==`` para verificar se ``variavel_true`` é igual a ``True``\n",
    "variavel_true == True"
   ]
  },
  {
   "cell_type": "code",
   "execution_count": 136,
   "metadata": {
    "ExecuteTime": {
     "end_time": "2020-06-04T22:22:29.380185Z",
     "start_time": "2020-06-04T22:22:29.374207Z"
    }
   },
   "outputs": [
    {
     "data": {
      "text/plain": [
       "True"
      ]
     },
     "execution_count": 136,
     "metadata": {},
     "output_type": "execute_result"
    }
   ],
   "source": [
    "# usamos o operador lógico ``|`` (``or``) para ver se um valor ou outro da comparação feita é ``True``\n",
    "variavel_true | False"
   ]
  },
  {
   "cell_type": "code",
   "execution_count": 137,
   "metadata": {
    "ExecuteTime": {
     "end_time": "2020-06-04T22:23:03.712103Z",
     "start_time": "2020-06-04T22:23:03.709331Z"
    }
   },
   "outputs": [],
   "source": [
    "# definimos a variável ``variavel_false`` e atribuímos o valor lógico ``False``\n",
    "variavel_false = False"
   ]
  },
  {
   "cell_type": "code",
   "execution_count": 139,
   "metadata": {
    "ExecuteTime": {
     "end_time": "2020-06-04T22:26:42.777097Z",
     "start_time": "2020-06-04T22:26:42.771184Z"
    }
   },
   "outputs": [
    {
     "data": {
      "text/plain": [
       "False"
      ]
     },
     "execution_count": 139,
     "metadata": {},
     "output_type": "execute_result"
    }
   ],
   "source": [
    "# inspecionamos o valor de ``variavel_false``\n",
    "variavel_false"
   ]
  },
  {
   "cell_type": "code",
   "execution_count": 141,
   "metadata": {
    "ExecuteTime": {
     "end_time": "2020-06-04T22:28:08.397503Z",
     "start_time": "2020-06-04T22:28:08.393454Z"
    }
   },
   "outputs": [
    {
     "data": {
      "text/plain": [
       "True"
      ]
     },
     "execution_count": 141,
     "metadata": {},
     "output_type": "execute_result"
    }
   ],
   "source": [
    "# usamos o operador de comparação ``<`` para verificar se ``False`` é menor que ``True``\n",
    "# lembre-se que ``False`` também é ``0`` e ``True`` também é ``1``\n",
    "variavel_false < True"
   ]
  },
  {
   "cell_type": "code",
   "execution_count": 142,
   "metadata": {
    "ExecuteTime": {
     "end_time": "2020-06-04T22:29:37.634767Z",
     "start_time": "2020-06-04T22:29:37.630887Z"
    }
   },
   "outputs": [
    {
     "data": {
      "text/plain": [
       "False"
      ]
     },
     "execution_count": 142,
     "metadata": {},
     "output_type": "execute_result"
    }
   ],
   "source": [
    "# usamos o operador lógico ``&`` (``and``) para ver se ambos os valores da comparação feita é ``True``\n",
    "variavel_false & True"
   ]
  },
  {
   "cell_type": "markdown",
   "metadata": {},
   "source": [
    "Vimos então que as variáveis que definimos podem guardar diferentes tipos de valores, como números inteiros (``int``) e frações (``float``) além de valores lógicos (``bool``). Veremos mais adiante que variáveis podem guardar mais tipos de variáveis além desses, como ``strings`` (``str``), ``listas`` (``list``), ``dicionários`` (``dict``) e até mesmo ``funções``."
   ]
  },
  {
   "cell_type": "markdown",
   "metadata": {},
   "source": [
    "<a class='cell' id='del'></a>\n",
    "As variáveis que criamos são armazenadas na memória. Conforme os projetos vão progredindo, é normal que algumas variáveis não sejam mais usadas. Assim, podemos liberar espaço na memória ``deletando`` os valores atribuídos às variáveis que não são mais utilizadas. Para realizar tal procedimento, usamos o comando ``del``. Veja as células abaixo exemplifcando o uso desse operador."
   ]
  },
  {
   "cell_type": "code",
   "execution_count": 113,
   "metadata": {
    "ExecuteTime": {
     "end_time": "2020-06-05T23:43:14.868106Z",
     "start_time": "2020-06-05T23:43:14.865976Z"
    }
   },
   "outputs": [],
   "source": [
    "# atribuímos o resultado da operação ``2**10`` á variável ``variavel_para_deletar``\n",
    "variavel_para_deletar = 2**10"
   ]
  },
  {
   "cell_type": "code",
   "execution_count": 114,
   "metadata": {
    "ExecuteTime": {
     "end_time": "2020-06-05T23:43:40.849174Z",
     "start_time": "2020-06-05T23:43:40.846558Z"
    }
   },
   "outputs": [
    {
     "data": {
      "text/plain": [
       "1024"
      ]
     },
     "execution_count": 114,
     "metadata": {},
     "output_type": "execute_result"
    }
   ],
   "source": [
    "# inspecionamos o valor guardado na variável ``variavel_para_deletar``\n",
    "variavel_para_deletar"
   ]
  },
  {
   "cell_type": "code",
   "execution_count": 115,
   "metadata": {
    "ExecuteTime": {
     "end_time": "2020-06-05T23:44:20.335103Z",
     "start_time": "2020-06-05T23:44:20.333262Z"
    }
   },
   "outputs": [],
   "source": [
    "# vamos deletar a variável ``variavel_para_deletar``\n",
    "del variavel_para_deletar"
   ]
  },
  {
   "cell_type": "markdown",
   "metadata": {},
   "source": [
    "O comando não retornar nada, mas se tentarmos inspecionar o valor da variável novamente obtemos um erro:"
   ]
  },
  {
   "cell_type": "code",
   "execution_count": 116,
   "metadata": {
    "ExecuteTime": {
     "end_time": "2020-06-05T23:45:00.633394Z",
     "start_time": "2020-06-05T23:45:00.628690Z"
    }
   },
   "outputs": [
    {
     "ename": "NameError",
     "evalue": "name 'variavel_para_deletar' is not defined",
     "output_type": "error",
     "traceback": [
      "\u001b[0;31m---------------------------------------------------------------------------\u001b[0m",
      "\u001b[0;31mNameError\u001b[0m                                 Traceback (most recent call last)",
      "\u001b[0;32m<ipython-input-116-4eb98fc8ad1b>\u001b[0m in \u001b[0;36m<module>\u001b[0;34m\u001b[0m\n\u001b[0;32m----> 1\u001b[0;31m \u001b[0mvariavel_para_deletar\u001b[0m\u001b[0;34m\u001b[0m\u001b[0;34m\u001b[0m\u001b[0m\n\u001b[0m",
      "\u001b[0;31mNameError\u001b[0m: name 'variavel_para_deletar' is not defined"
     ]
    }
   ],
   "source": [
    "variavel_para_deletar"
   ]
  },
  {
   "cell_type": "markdown",
   "metadata": {},
   "source": [
    "``NameError`` nos diz que não existe uma variável com o nome fornecido no código."
   ]
  },
  {
   "cell_type": "markdown",
   "metadata": {},
   "source": [
    "<a class='section' id='strings'></a>\n",
    "# Strings"
   ]
  },
  {
   "cell_type": "markdown",
   "metadata": {},
   "source": [
    "``Strings``, como já vimos, são caracteres, palavras ou sentenceças que se encontram entre aspas simples (``'``) ou duplas (``\"``). Podemos imprimí-las na tela usando a função ``print()`` ou se estivermos no ``Notebook``, basta escrevermos a string e apertar ``shift+enter``:"
   ]
  },
  {
   "cell_type": "code",
   "execution_count": 147,
   "metadata": {
    "ExecuteTime": {
     "end_time": "2020-06-04T22:36:41.062880Z",
     "start_time": "2020-06-04T22:36:41.059815Z"
    }
   },
   "outputs": [
    {
     "data": {
      "text/plain": [
       "'Hello again, world!'"
      ]
     },
     "execution_count": 147,
     "metadata": {},
     "output_type": "execute_result"
    }
   ],
   "source": [
    "\"Hello again, world!\""
   ]
  },
  {
   "cell_type": "markdown",
   "metadata": {},
   "source": [
    "``Strings`` podem ser guardadas em variáveis, assim como fizemos com números e valores lógicos:\n",
    "\n",
    "```python\n",
    ">>> variavel_palavra = \"Python\"\n",
    ">>> print(variavel_palavra)\n",
    "Python\n",
    "\n",
    ">>> variavel_frase = \"Vou estudar, mas antes farei um café.\"\n",
    ">>> print(variavel_frase)\n",
    "Vou estudar, mas antes farei um café.\n",
    "```\n",
    "\n",
    "Veja os códigos executados nas células abaixo."
   ]
  },
  {
   "cell_type": "code",
   "execution_count": 150,
   "metadata": {
    "ExecuteTime": {
     "end_time": "2020-06-04T22:41:28.388477Z",
     "start_time": "2020-06-04T22:41:28.386198Z"
    }
   },
   "outputs": [],
   "source": [
    "# definimos ``variavel_palavra`` e atribuímos a ``string`` \"Python\" à ela\n",
    "variavel_palavra = \"Python\""
   ]
  },
  {
   "cell_type": "code",
   "execution_count": 152,
   "metadata": {
    "ExecuteTime": {
     "end_time": "2020-06-04T22:41:47.266416Z",
     "start_time": "2020-06-04T22:41:47.261077Z"
    }
   },
   "outputs": [
    {
     "data": {
      "text/plain": [
       "'Python'"
      ]
     },
     "execution_count": 152,
     "metadata": {},
     "output_type": "execute_result"
    }
   ],
   "source": [
    "# inspecionamos o valor de ``variavel_palavra``\n",
    "variavel_palavra"
   ]
  },
  {
   "cell_type": "code",
   "execution_count": 153,
   "metadata": {
    "ExecuteTime": {
     "end_time": "2020-06-04T22:42:35.648008Z",
     "start_time": "2020-06-04T22:42:35.644748Z"
    }
   },
   "outputs": [],
   "source": [
    "# definimos ``variavel_frase`` e atribuímos a ``string`` \"Vou estudar, mas antes farei um café.\" à ela\n",
    "variavel_frase = \"Vou estudar, mas antes farei um café.\""
   ]
  },
  {
   "cell_type": "code",
   "execution_count": 154,
   "metadata": {
    "ExecuteTime": {
     "end_time": "2020-06-04T22:42:50.924514Z",
     "start_time": "2020-06-04T22:42:50.919974Z"
    }
   },
   "outputs": [
    {
     "data": {
      "text/plain": [
       "'Vou estudar, mas antes farei um café.'"
      ]
     },
     "execution_count": 154,
     "metadata": {},
     "output_type": "execute_result"
    }
   ],
   "source": [
    "# inspecionamos o valor de ``variavel_frase``\n",
    "variavel_frase"
   ]
  },
  {
   "cell_type": "markdown",
   "metadata": {},
   "source": [
    "Se quisermos escrever uma string muito longa e quebrar a linha em algum momento, usamos ``\\n``:\n",
    "\n",
    "```python\n",
    ">>> print(\"Vou quebrar a linha aqui.\\nEssa é uma frase na outra linha.\")\n",
    "Vou quebrar a linha aqui.\n",
    "Essa é uma frase na outra linha.\n",
    "```\n",
    "\n",
    "Veja na célula abaixo o código executado."
   ]
  },
  {
   "cell_type": "code",
   "execution_count": 157,
   "metadata": {
    "ExecuteTime": {
     "end_time": "2020-06-04T22:45:20.908710Z",
     "start_time": "2020-06-04T22:45:20.904651Z"
    }
   },
   "outputs": [
    {
     "data": {
      "text/plain": [
       "'Vou quebrar a linha.\\nEssa é uma frase na outra linha.'"
      ]
     },
     "execution_count": 157,
     "metadata": {},
     "output_type": "execute_result"
    }
   ],
   "source": [
    "\"Vou quebrar a linha.\\nEssa é uma frase na outra linha.\""
   ]
  },
  {
   "cell_type": "markdown",
   "metadata": {},
   "source": [
    "Podemos obter o mesmo resultado se escrevermos o texto entre três aspas duplas ``\"\"\"``:\n",
    "\n",
    "```python\n",
    ">>> texto_duas_linhas = \"\"\"Vou quebrar a linha.\n",
    "Essa é uma frase na outra linha.\"\"\"\n",
    ">>> print(texto_duas_linhas)\n",
    "Vou quebrar a linha.\n",
    "Essa é uma frase na outra linha.\n",
    "```\n",
    "\n",
    "Veja na célula abaixo o código executado."
   ]
  },
  {
   "cell_type": "code",
   "execution_count": 163,
   "metadata": {
    "ExecuteTime": {
     "end_time": "2020-06-04T22:48:39.254473Z",
     "start_time": "2020-06-04T22:48:39.248970Z"
    }
   },
   "outputs": [
    {
     "data": {
      "text/plain": [
       "'Vou quebrar a linha.\\nEssa é uma frase na outra linha.'"
      ]
     },
     "execution_count": 163,
     "metadata": {},
     "output_type": "execute_result"
    }
   ],
   "source": [
    "\"\"\"Vou quebrar a linha.\n",
    "Essa é uma frase na outra linha.\"\"\""
   ]
  },
  {
   "cell_type": "markdown",
   "metadata": {},
   "source": [
    "Veja que se não usarmos a função ``print()``, vemos um ``\\n`` onde a linha foi quebrada no texto entre três aspas duplas."
   ]
  },
  {
   "cell_type": "markdown",
   "metadata": {},
   "source": [
    "Podemos realizar algumas operações com ``Strings``. Por exemplos, podemos somá-las:\n",
    "\n",
    "```python\n",
    ">>> string_1 = \"Hello, \"\n",
    ">>> string_2 = \"world!\"\n",
    ">>> string_final = string_1 + string_2\n",
    ">>> print(string_final)\n",
    "Hello, world!\n",
    "```\n",
    "\n",
    "Veja na célula abaixo o código executado."
   ]
  },
  {
   "cell_type": "code",
   "execution_count": 169,
   "metadata": {
    "ExecuteTime": {
     "end_time": "2020-06-04T22:58:24.052365Z",
     "start_time": "2020-06-04T22:58:24.048092Z"
    }
   },
   "outputs": [
    {
     "data": {
      "text/plain": [
       "'Hello, world!'"
      ]
     },
     "execution_count": 169,
     "metadata": {},
     "output_type": "execute_result"
    }
   ],
   "source": [
    "# definimos as duas ``strings`` que somaremos\n",
    "string_1 = \"Hello, \"\n",
    "string_2 = \"world!\"\n",
    "\n",
    "# definimos a ``string_final`` que é a soma das duas ``strings`` definidas anteriormente\n",
    "string_final = string_1 + string_2\n",
    "\n",
    "# imprimimos na tela o valor guardado na variável ``string_final``\n",
    "string_final\n"
   ]
  },
  {
   "cell_type": "markdown",
   "metadata": {},
   "source": [
    "Podemos também multiplicar strings por um número inteiro, de modo que o resultado é a repetição da string pelo número multiplicado:\n",
    "\n",
    "```python\n",
    ">>> variavel_hello = \"Hello\"\n",
    ">>> print(variavel_hello*3)\n",
    "HelloHelloHello\n",
    "```\n",
    "\n",
    "Veja a célula abaixo com o código executado."
   ]
  },
  {
   "cell_type": "code",
   "execution_count": 168,
   "metadata": {
    "ExecuteTime": {
     "end_time": "2020-06-04T22:58:19.666387Z",
     "start_time": "2020-06-04T22:58:19.663548Z"
    }
   },
   "outputs": [
    {
     "data": {
      "text/plain": [
       "'HelloHelloHello'"
      ]
     },
     "execution_count": 168,
     "metadata": {},
     "output_type": "execute_result"
    }
   ],
   "source": [
    "# definimos ``variavel_hello`` atribuindo a string \"Hello\" à ela\n",
    "variavel_hello = \"Hello\"\n",
    "\n",
    "# multiplicamos ``variavel_hello`` por 3\n",
    "variavel_hello*3"
   ]
  },
  {
   "cell_type": "markdown",
   "metadata": {},
   "source": [
    "<a class='cell' id='str_concatenate'></a>\n",
    "Se quisermos usar um número a uma ``String``, de maneira que esse seja representado como uma ``String`` no meio da sentença, podemos usar a função ``print`` e  ``concatenar`` o que quisermos:\n",
    "\n",
    "```python\n",
    ">>> print(\"Hoje eu já tomei\", 5, \"xícaras de café.\")\n",
    "Hoje eu já tomei 5 xícaras de café.\n",
    "```\n",
    "\n",
    "O mesmo resultado pode ser obtido se usarmos a função ``str()`` para transformar o número do tipo ``int`` em uma variável do tipo ``str``:\n",
    "\n",
    "```python\n",
    ">>> print(\"Hoje eu já tomei \" + str(5) + \" xícaras de café.\")\n",
    "Hoje eu já tomei 5 xícaras de café.\n",
    "```\n",
    "\n",
    "Da mesma forma, podemos fazer o inverso, ou seja, transformar uma variável ``str`` que é um número, por exemplo, ``\"5\"`` para ser uma variável do tipo ``int`` ou ``float``, usando as funções ``int()`` e ``float()``, respectivamente:\n",
    "\n",
    "```python\n",
    ">>> string_numero = \"5\"\n",
    ">>> print(string_numero*3)\n",
    "555\n",
    ">>> string_para_int = int(string_numero)\n",
    ">>> print(string_para_int*3)\n",
    "15\n",
    ">>> string_para_float = float(string_numero)\n",
    ">>> print(string_para_float)\n",
    "5.0\n",
    "```\n",
    "\n",
    "Veja as células abaixo com os códigos executados."
   ]
  },
  {
   "cell_type": "code",
   "execution_count": 175,
   "metadata": {
    "ExecuteTime": {
     "end_time": "2020-06-04T23:12:03.374962Z",
     "start_time": "2020-06-04T23:12:03.371695Z"
    }
   },
   "outputs": [
    {
     "data": {
      "text/plain": [
       "'555'"
      ]
     },
     "execution_count": 175,
     "metadata": {},
     "output_type": "execute_result"
    }
   ],
   "source": [
    "# definimos ``string_numero`` e atribuímos a ``string`` \"5\" à ela\n",
    "string_numero = \"5\"\n",
    "# multiplicamos a ``string`` pelo número 3\n",
    "string_numero*3"
   ]
  },
  {
   "cell_type": "code",
   "execution_count": 176,
   "metadata": {
    "ExecuteTime": {
     "end_time": "2020-06-04T23:13:28.388863Z",
     "start_time": "2020-06-04T23:13:28.386078Z"
    }
   },
   "outputs": [
    {
     "data": {
      "text/plain": [
       "15"
      ]
     },
     "execution_count": 176,
     "metadata": {},
     "output_type": "execute_result"
    }
   ],
   "source": [
    "# definimos ``string_para_int`` e atribuímos o resultado\n",
    "# da aplicação da função ``int()`` a ``string_numero``\n",
    "# isso transforma a ``string`` \"5\" no número inteiro 5\n",
    "string_para_int = int(string_numero)\n",
    "\n",
    "# multiplicamos o número inteiro 5\n",
    "string_para_int*3"
   ]
  },
  {
   "cell_type": "code",
   "execution_count": null,
   "metadata": {},
   "outputs": [],
   "source": [
    "# definimos ``string_para_float`` e atribuímos o resultado\n",
    "# da aplicação da função ``float()`` a ``string_numero``\n",
    "# isso transforma a ``string`` \"5\" no número decimal 5.0\n",
    "string_para_float = float(string_numero)\n",
    "\n",
    "# imprimimos o valor do número decimal na tela\n",
    "string_para_float"
   ]
  },
  {
   "cell_type": "markdown",
   "metadata": {},
   "source": [
    "<a class='cell' id='str_methodo_not_in_place'></a>\n",
    "Existem outros ``métodos`` que podem ser aplicados à variáveis que pertecem à classe ``str``. Para aplicar um método a uma ``str`` usamos um ``.`` e então escrevemos o ``método`` que queremos aplicar. Vamos ver alguns deles e como aplicá-los:\n",
    "\n",
    "```python\n",
    ">>> variavel_string = \"Eu quero café. Sem açúcar, por favor.\"\n",
    "\n",
    "# todas as letras ficam minúsculas\n",
    ">>> variavel_string.lower()          \n",
    "eu quero café. sem açúcar, por favor.\n",
    "\n",
    "# todas as letras ficam maiúsculas\n",
    ">>> variavel_string.upper()          \n",
    "EU QUERO CAFÉ. SEM AÇÚCAR POR FAVOR.\n",
    "\n",
    "# a primeira letra de cada palavra fica maiúscula\n",
    ">>> variavel_string.title()          \n",
    "Eu Quero Café. Sem Açúcar, Por Favor.\n",
    "\n",
    "# só a primeira letra fica maiúscula\n",
    ">>> variavel_string.capitalize()     \n",
    "Eu quero café. sem açúcar, por favor.\n",
    "\n",
    "# conta quantas vezes o caracter passado como argumento aparece na ``string``\n",
    ">>> variavel_string.count('e')       \n",
    "2\n",
    "\n",
    "# os métodos atuam na ``string`` mas não alteram a variável\n",
    ">>> print(variavel_string)           \n",
    "Eu quero café. Sem açúcar, por favor.\n",
    "```\n",
    "\n",
    "Vamos executar esse códigos nas células abaixo."
   ]
  },
  {
   "cell_type": "code",
   "execution_count": 27,
   "metadata": {
    "ExecuteTime": {
     "end_time": "2020-06-05T18:11:13.581839Z",
     "start_time": "2020-06-05T18:11:13.578625Z"
    }
   },
   "outputs": [],
   "source": [
    "# primeiramente definimos ``variavel_string`` e atribuímos a ``string``\n",
    "# \"Estou aprendendo sobre strings. Vamos ver esses módulos.\"\n",
    "variavel_string = \"Estou aprendendo sobre strings. Vamos ver esses módulos.\""
   ]
  },
  {
   "cell_type": "code",
   "execution_count": 28,
   "metadata": {
    "ExecuteTime": {
     "end_time": "2020-06-05T18:11:23.675346Z",
     "start_time": "2020-06-05T18:11:23.670530Z"
    }
   },
   "outputs": [
    {
     "data": {
      "text/plain": [
       "'Estou aprendendo sobre strings. Vamos ver esses módulos.'"
      ]
     },
     "execution_count": 28,
     "metadata": {},
     "output_type": "execute_result"
    }
   ],
   "source": [
    "# inspecionamos a variável\n",
    "variavel_string"
   ]
  },
  {
   "cell_type": "code",
   "execution_count": 29,
   "metadata": {
    "ExecuteTime": {
     "end_time": "2020-06-05T18:22:54.104694Z",
     "start_time": "2020-06-05T18:22:54.101962Z"
    }
   },
   "outputs": [
    {
     "data": {
      "text/plain": [
       "'estou aprendendo sobre strings. vamos ver esses módulos.'"
      ]
     },
     "execution_count": 29,
     "metadata": {},
     "output_type": "execute_result"
    }
   ],
   "source": [
    "# vamos fazer todas as letras ficarem minúsculas\n",
    "variavel_string.lower()"
   ]
  },
  {
   "cell_type": "code",
   "execution_count": 30,
   "metadata": {
    "ExecuteTime": {
     "end_time": "2020-06-05T18:23:03.770535Z",
     "start_time": "2020-06-05T18:23:03.766986Z"
    }
   },
   "outputs": [
    {
     "data": {
      "text/plain": [
       "'ESTOU APRENDENDO SOBRE STRINGS. VAMOS VER ESSES MÓDULOS.'"
      ]
     },
     "execution_count": 30,
     "metadata": {},
     "output_type": "execute_result"
    }
   ],
   "source": [
    "# vamos fazer todas as letras ficarem maiúsculas\n",
    "variavel_string.upper()"
   ]
  },
  {
   "cell_type": "code",
   "execution_count": 31,
   "metadata": {
    "ExecuteTime": {
     "end_time": "2020-06-05T18:23:13.414088Z",
     "start_time": "2020-06-05T18:23:13.409771Z"
    }
   },
   "outputs": [
    {
     "data": {
      "text/plain": [
       "'Estou Aprendendo Sobre Strings. Vamos Ver Esses Módulos.'"
      ]
     },
     "execution_count": 31,
     "metadata": {},
     "output_type": "execute_result"
    }
   ],
   "source": [
    "# vamos fazer a primeira letra de cada palavra ficar maiúscula\n",
    "variavel_string.title()"
   ]
  },
  {
   "cell_type": "code",
   "execution_count": 32,
   "metadata": {
    "ExecuteTime": {
     "end_time": "2020-06-05T18:23:23.743159Z",
     "start_time": "2020-06-05T18:23:23.738512Z"
    }
   },
   "outputs": [
    {
     "data": {
      "text/plain": [
       "'Estou aprendendo sobre strings. vamos ver esses módulos.'"
      ]
     },
     "execution_count": 32,
     "metadata": {},
     "output_type": "execute_result"
    }
   ],
   "source": [
    "# vamos fazer somente a primeira palavra ficar com letra maiúscula\n",
    "variavel_string.capitalize()"
   ]
  },
  {
   "cell_type": "code",
   "execution_count": 34,
   "metadata": {
    "ExecuteTime": {
     "end_time": "2020-06-05T18:26:43.322878Z",
     "start_time": "2020-06-05T18:26:43.319315Z"
    }
   },
   "outputs": [
    {
     "data": {
      "text/plain": [
       "9"
      ]
     },
     "execution_count": 34,
     "metadata": {},
     "output_type": "execute_result"
    }
   ],
   "source": [
    "# vamos contar quantas vezes a letra ``s`` aparece na ``variavel_string``\n",
    "variavel_string.count('s')"
   ]
  },
  {
   "cell_type": "code",
   "execution_count": 36,
   "metadata": {
    "ExecuteTime": {
     "end_time": "2020-06-05T18:28:21.211276Z",
     "start_time": "2020-06-05T18:28:21.207687Z"
    }
   },
   "outputs": [
    {
     "data": {
      "text/plain": [
       "2"
      ]
     },
     "execution_count": 36,
     "metadata": {},
     "output_type": "execute_result"
    }
   ],
   "source": [
    "# o argumento do ``método`` ``count()`` pode receber qualquer ``string`` que quisermos\n",
    "variavel_string.count('en')"
   ]
  },
  {
   "cell_type": "markdown",
   "metadata": {},
   "source": [
    "Contudo, veja que a aplicação desses ``métodos`` na ``variavel_string`` não altera seu valor original:"
   ]
  },
  {
   "cell_type": "code",
   "execution_count": 42,
   "metadata": {
    "ExecuteTime": {
     "end_time": "2020-06-05T18:37:06.730635Z",
     "start_time": "2020-06-05T18:37:06.726851Z"
    }
   },
   "outputs": [
    {
     "data": {
      "text/plain": [
       "'Estou aprendendo sobre strings. Vamos ver esses módulos.'"
      ]
     },
     "execution_count": 42,
     "metadata": {},
     "output_type": "execute_result"
    }
   ],
   "source": [
    "# vamos inspecionar a variável após a aplicação de todos os métodos\n",
    "variavel_string"
   ]
  },
  {
   "cell_type": "markdown",
   "metadata": {
    "ExecuteTime": {
     "end_time": "2020-06-05T18:33:00.943862Z",
     "start_time": "2020-06-05T18:33:00.939570Z"
    }
   },
   "source": [
    "<a class='cell' id='string_len'></a>\n",
    "É possível também descobrirmos o número de caracteres presentes na ``string``. Para isso, usamos a função inata do ``python`` chamada ``len()``. Ela é a abreviação de ``length``, que significa ``tamanho``. Se aplicarmos essa ``função`` na ``string`` teremos como retorno um número, que é seu número de caracteres:\n",
    "\n",
    "```python\n",
    "# definimos ``variavel_string``\n",
    ">>> variavel_string = \"Eu quero café. Sem açúcar, por favor.\"\n",
    "# contamos quantos caracteres tem na ``string``\n",
    ">>> len(variavel_string)\n",
    "37\n",
    "```\n",
    "\n",
    "Veja os códigos executados nas células abaixos."
   ]
  },
  {
   "cell_type": "code",
   "execution_count": 106,
   "metadata": {
    "ExecuteTime": {
     "end_time": "2020-06-05T22:22:07.125622Z",
     "start_time": "2020-06-05T22:22:07.123292Z"
    }
   },
   "outputs": [],
   "source": [
    "# definimos nossa ``string``\n",
    "variavel_string = \"Eu quero café. Sem açúcar, por favor.\""
   ]
  },
  {
   "cell_type": "code",
   "execution_count": 107,
   "metadata": {
    "ExecuteTime": {
     "end_time": "2020-06-05T22:23:05.600243Z",
     "start_time": "2020-06-05T22:23:05.596751Z"
    }
   },
   "outputs": [
    {
     "data": {
      "text/plain": [
       "37"
      ]
     },
     "execution_count": 107,
     "metadata": {},
     "output_type": "execute_result"
    }
   ],
   "source": [
    "# inspecionamos o tamanho da ``string``\n",
    "len(variavel_string)"
   ]
  },
  {
   "cell_type": "markdown",
   "metadata": {
    "ExecuteTime": {
     "end_time": "2020-06-05T22:19:13.966043Z",
     "start_time": "2020-06-05T22:19:13.959912Z"
    }
   },
   "source": [
    "Veja que existe uma diferença sútil de como uma ``função`` e um ``método`` são aplicados na variável ``string``. Em uma ``função``, a variável em questão é passada como argumento, dentro dos parênteses: \n",
    "\n",
    "```python\n",
    ">>> len(variavel_string)\n",
    "```\n",
    "\n",
    "Já um ``método`` é aplicado usando a notação de ``.`` em frente à variável que estamos tentando aplicá-lo. A principal diferença é que as variáveis que criamos percentem a certas ``classes`` ou ``tipos``. Cada uma dessas ``classes`` possuem métodos diferentes que podem ser aplicados a eles. Acima, trabalhamos com a variável ``variavel_string``, que é uma ``string`` e, portanto, pertence à classe ``str``. Essa ``classe`` possui os ``métodos`` que mencionamos acima e muitos outros. "
   ]
  },
  {
   "cell_type": "markdown",
   "metadata": {},
   "source": [
    "<a class='section' id='breve_comentario_sobre_as_classes'></a>\n",
    "# Breve comentário sobre as ``classes``"
   ]
  },
  {
   "cell_type": "markdown",
   "metadata": {},
   "source": [
    "Nesse curso não entraremos em detalhes sobre construção de ``classes``. Contudo, vale a pena saber alguns detalhes sobre as ``classes`` de variáveis que já estamos trabalhando. \n",
    "\n",
    "Além dos ``métodos``, uma ``classe`` possui ``propriedades`` associadas a ela. Uma ``propriedade`` é algo intrínseco da ``classe``. Por exemplo, sabemos que a variável ``variavel_string`` pertence a classe ``str`` e isso é uma ``propriedade`` dela. Já um ``método`` é aplicado à variável causando algum tipo de transformação, por exemplo, deixando todas as letras da ``str`` minúsculas ao usar o método ``lower()``. Para acessar uma ``propriedade`` usamos um ``.`` e então escrevemos o nome da ``propriedade``, sem parêntesis.\n",
    "\n",
    "Um outro exemplo que talvez ajude a entender melhor é a seguinte. Suponha um estudante chamado João da Silva, 20 anos, 1,75m e 70kg. Imagine criamos uma variável ``joao_da_silva``. Quando verificamos seu ``tipo`` ou ``classe``, essa retornará ``estudante``. Essa ``classe`` possui as ``propriedades``: ``nome``, ``sobrenome``, ``idade``, ``altura`` e ``peso``. Veja que essas são todas características intrínsecas de ``joao_da_silva``. Assim, se quiséssemos saber sua idade, bastaria usar o seguinte código:\n",
    "\n",
    "```python\n",
    ">>> print(joao_da_silva.idade)\n",
    "20\n",
    "```\n",
    "\n",
    "Imagine agora que João não é um cara que goste muito de estudar e está sempre tirando notas vermelhas. Para mudar isso, ou seja, fazer com que ele tire notas azuis, poderíamos aplicar um ``método`` chamado ``estudar()``. Isso mudaria a natureza de ``joao_da_silva``, que é da ``classe``  ``estudante`` e ele tiraria notas azuis. Contudo, se o método não for aplicado, ele volta a ser um cara que não gosta muito de estudar e a tirar notas vermelhas, contudo, suas ``propriedades`` permanecem inalteradas: seu ``nome`` continua sendo ``João``, seu ``sobrenome`` continua sendo ``da Silva`` etc. Contudo, as ``propriedades`` de um ``objeto`` particular de uma ``classe`` podem ser alteradas. Imagine que a ``classe`` ``estudante`` possua um método ``fazer_aniversario()``. Se aplicarmos esse ``método`` em ``joao_da_silva``, isto é, ``joao_da_silva.fazer_aniversario()``, isso fará com que ele fique um ano mais velho. Portanto, sua ``propriedade`` ``idade``, terá seu valor atualizado para ``21`` anos:\n",
    "\n",
    "```python\n",
    ">>> print(joao_da_silva.idade)\n",
    "20\n",
    ">>> joao_da_silva.fazer_aniversario()\n",
    ">>> print(joao_da_silva.idade)\n",
    "21\n",
    "```"
   ]
  },
  {
   "cell_type": "markdown",
   "metadata": {},
   "source": [
    "Para verificar todas as ``propriedades`` e ``métodos`` disponíveis de uma ``classe``, podemos usar a ``função`` ``dir()``. Por exemplo, para uma ``string``:"
   ]
  },
  {
   "cell_type": "code",
   "execution_count": 68,
   "metadata": {
    "ExecuteTime": {
     "end_time": "2020-06-05T19:34:37.357832Z",
     "start_time": "2020-06-05T19:34:37.352500Z"
    }
   },
   "outputs": [
    {
     "data": {
      "text/plain": [
       "['__add__',\n",
       " '__class__',\n",
       " '__contains__',\n",
       " '__delattr__',\n",
       " '__dir__',\n",
       " '__doc__',\n",
       " '__eq__',\n",
       " '__format__',\n",
       " '__ge__',\n",
       " '__getattribute__',\n",
       " '__getitem__',\n",
       " '__getnewargs__',\n",
       " '__gt__',\n",
       " '__hash__',\n",
       " '__init__',\n",
       " '__init_subclass__',\n",
       " '__iter__',\n",
       " '__le__',\n",
       " '__len__',\n",
       " '__lt__',\n",
       " '__mod__',\n",
       " '__mul__',\n",
       " '__ne__',\n",
       " '__new__',\n",
       " '__reduce__',\n",
       " '__reduce_ex__',\n",
       " '__repr__',\n",
       " '__rmod__',\n",
       " '__rmul__',\n",
       " '__setattr__',\n",
       " '__sizeof__',\n",
       " '__str__',\n",
       " '__subclasshook__',\n",
       " 'capitalize',\n",
       " 'casefold',\n",
       " 'center',\n",
       " 'count',\n",
       " 'encode',\n",
       " 'endswith',\n",
       " 'expandtabs',\n",
       " 'find',\n",
       " 'format',\n",
       " 'format_map',\n",
       " 'index',\n",
       " 'isalnum',\n",
       " 'isalpha',\n",
       " 'isascii',\n",
       " 'isdecimal',\n",
       " 'isdigit',\n",
       " 'isidentifier',\n",
       " 'islower',\n",
       " 'isnumeric',\n",
       " 'isprintable',\n",
       " 'isspace',\n",
       " 'istitle',\n",
       " 'isupper',\n",
       " 'join',\n",
       " 'ljust',\n",
       " 'lower',\n",
       " 'lstrip',\n",
       " 'maketrans',\n",
       " 'partition',\n",
       " 'replace',\n",
       " 'rfind',\n",
       " 'rindex',\n",
       " 'rjust',\n",
       " 'rpartition',\n",
       " 'rsplit',\n",
       " 'rstrip',\n",
       " 'split',\n",
       " 'splitlines',\n",
       " 'startswith',\n",
       " 'strip',\n",
       " 'swapcase',\n",
       " 'title',\n",
       " 'translate',\n",
       " 'upper',\n",
       " 'zfill']"
      ]
     },
     "execution_count": 68,
     "metadata": {},
     "output_type": "execute_result"
    }
   ],
   "source": [
    "dir(\"Vamos ver as propriedades e métodos das strings!\")"
   ]
  },
  {
   "cell_type": "markdown",
   "metadata": {},
   "source": [
    "O mesmo resultado poderia ser obtido passando a classe ``str`` diretamente como argumento para a função ``dir()``.\n",
    "\n",
    "```python\n",
    ">>> dir(str)\n",
    "```\n",
    "\n",
    "Observe que no começo vimos a função ``type()`` que retornava o ``tipo`` da variável. Para uma ``string`` ela retorna o tipo ``str``:"
   ]
  },
  {
   "cell_type": "code",
   "execution_count": 69,
   "metadata": {
    "ExecuteTime": {
     "end_time": "2020-06-05T19:35:57.116937Z",
     "start_time": "2020-06-05T19:35:57.112679Z"
    }
   },
   "outputs": [
    {
     "data": {
      "text/plain": [
       "str"
      ]
     },
     "execution_count": 69,
     "metadata": {},
     "output_type": "execute_result"
    }
   ],
   "source": [
    "type(\"Vamos ver qual o tipo da string.\")"
   ]
  },
  {
   "cell_type": "markdown",
   "metadata": {},
   "source": [
    "Podemos usar a ``propriedade`` ``__class__`` para verificar a ``classe`` da ``string``:"
   ]
  },
  {
   "cell_type": "code",
   "execution_count": 70,
   "metadata": {
    "ExecuteTime": {
     "end_time": "2020-06-05T19:37:12.899865Z",
     "start_time": "2020-06-05T19:37:12.896512Z"
    }
   },
   "outputs": [
    {
     "data": {
      "text/plain": [
       "str"
      ]
     },
     "execution_count": 70,
     "metadata": {},
     "output_type": "execute_result"
    }
   ],
   "source": [
    "\"Vamos ver qual a classe da string.\".__class__"
   ]
  },
  {
   "cell_type": "markdown",
   "metadata": {},
   "source": [
    "Tanto a função ``type()`` quanto a ``propiedade`` ``__class__`` retornam ``str``.\n",
    "\n",
    "``Python`` é uma linguagem de programação ``orientada a objeto``. Isso quer dizer que estamos sempre trabalhando com ``objetos``. Esses ``objetos`` pertencem a diferentes ``classes`` e possuem suas próprias ``propriedades`` e ``métodos``. Assim, quando escrevemos algo do tipo\n",
    "\n",
    "```python\n",
    ">>> variavel_string = \"Eu sou uma string, um objeto. Minha classe é 'str'\".\n",
    "```\n",
    "\n",
    "temos que a ``string``, do lado direito, é um ``objeto`` da ``classe`` ``str``, que possui suas ``propriedades`` e ``métodos``. Do lado esquerdo, criamos uma ``variável`` que guarda o valor dessa ``string``. Se analisarmos ``variavel_string``, veremos que ela é da ``classe`` ``str``\n",
    "\n",
    "```python\n",
    ">>> print(variavel_string.__class__)\n",
    "str\n",
    "```\n",
    "\n",
    "de maneira que a variável criada também possui todos as ``propriedades`` e ``métodos`` da ``classe`` ``str``."
   ]
  },
  {
   "cell_type": "markdown",
   "metadata": {},
   "source": [
    "Se observarmos acima, a ``função`` ``dir()`` retorna uma ``lista`` com todos as ``propriedades`` e ``métodos`` da ``classe`` ``str``. Em ``python``, uma ``lista`` faz parte de uma outra ``classe``, chamada ``list``. Essa nova ``classe`` seja nosso ``obejto`` de estudo na próxima seção."
   ]
  },
  {
   "cell_type": "markdown",
   "metadata": {},
   "source": [
    "<a class='section' id='listas'></a>\n",
    "# Listas"
   ]
  },
  {
   "cell_type": "markdown",
   "metadata": {},
   "source": [
    "Uma das principais estruturas que veremos durante esse mini-curso é conhecida como ``list``. Como seu próprio nome já diz, ela guarda diversos valores em uma estrutura de ``lista``. Podemos criar uma lista usando colchetes ``[]`` e separando os valores por vírgula ``,``:\n",
    "\n",
    "```python\n",
    "# criamos a variável  ``primeira_lista`` e atribuímos a lista [4, 3, 2, 1, 0] a ela\n",
    ">>> primeira_lista = [4, 3, 2, 1, 0]\n",
    "# imprimimos a lista completa\n",
    ">>> print(primeira_lista)\n",
    "[4, 3, 2, 1, 0]\n",
    "```"
   ]
  },
  {
   "cell_type": "markdown",
   "metadata": {},
   "source": [
    "Assim como fizemos em uma ``string``, podemos usar a ``função`` ``len()`` para encontrar o número de elementos da ``lista``:\n",
    "\n",
    "```python\n",
    ">>> len(primeira_lista)\n",
    "5\n",
    "```"
   ]
  },
  {
   "cell_type": "markdown",
   "metadata": {},
   "source": [
    "Podemos acessar cada um dos termos das ``lista`` usando o ``índice`` numérico entre colchetes na frente da lista. Por exemplo, no caso da ``primeira_lista``, se quisermos acessar o primeiro termo usamos o seguinte código:\n",
    "\n",
    "```python\n",
    "# acessamos o primeiro termo da lista e o imprimimos\n",
    ">>> print(primeira_lista[0])\n",
    "4\n",
    "```\n",
    "\n",
    "Em ``python`` acessamos o primeiro índice usando o número ``0``. Para acessar o segundo termo usamos o índice ``1`` e assim por diante. Podemos usar índices negativos também. Esses se referem à ``lista`` do começo para o fim. Por exemplo, para acessar o último termo da ``lista``, usamos o ``índice`` ``-1``:\n",
    "\n",
    "```python\n",
    "# acessamos o último termo da lista e o imprimimos\n",
    ">>> print(primeira_lista[-1])\n",
    "0\n",
    "```\n",
    "\n",
    "Se tentarmos acessar um índice que não existe na lista, por exemplo, o índice ``5`` em ``primeira_lista``, o seguinte erro aparece:"
   ]
  },
  {
   "cell_type": "code",
   "execution_count": 85,
   "metadata": {
    "ExecuteTime": {
     "end_time": "2020-06-05T21:52:28.389240Z",
     "start_time": "2020-06-05T21:52:28.387337Z"
    }
   },
   "outputs": [],
   "source": [
    "# definimos nossa lista\n",
    "primeira_lista = [4, 3, 2, 1, 0]"
   ]
  },
  {
   "cell_type": "code",
   "execution_count": 86,
   "metadata": {
    "ExecuteTime": {
     "end_time": "2020-06-05T21:52:43.899015Z",
     "start_time": "2020-06-05T21:52:43.894148Z"
    }
   },
   "outputs": [
    {
     "ename": "IndexError",
     "evalue": "list index out of range",
     "output_type": "error",
     "traceback": [
      "\u001b[0;31m---------------------------------------------------------------------------\u001b[0m",
      "\u001b[0;31mIndexError\u001b[0m                                Traceback (most recent call last)",
      "\u001b[0;32m<ipython-input-86-a1e7134298d5>\u001b[0m in \u001b[0;36m<module>\u001b[0;34m\u001b[0m\n\u001b[1;32m      1\u001b[0m \u001b[0;31m# tentamos acessar um índice que não existe\u001b[0m\u001b[0;34m\u001b[0m\u001b[0;34m\u001b[0m\u001b[0;34m\u001b[0m\u001b[0m\n\u001b[0;32m----> 2\u001b[0;31m \u001b[0mprimeira_lista\u001b[0m\u001b[0;34m[\u001b[0m\u001b[0;36m5\u001b[0m\u001b[0;34m]\u001b[0m\u001b[0;34m\u001b[0m\u001b[0;34m\u001b[0m\u001b[0m\n\u001b[0m",
      "\u001b[0;31mIndexError\u001b[0m: list index out of range"
     ]
    }
   ],
   "source": [
    "# tentamos acessar um índice que não existe\n",
    "primeira_lista[5]"
   ]
  },
  {
   "cell_type": "markdown",
   "metadata": {},
   "source": [
    "Podemos criar listas com diferentes tipos de ``objetos``. Por exemplo, podemos ter em uma lista termos que são ``int``, outros que são ``str`` e até mesmo outras ``list``:\n",
    "\n",
    "```python\n",
    ">>> lista_mista = ['a', 10, 23, 'B', [1, 0, 'C']]\n",
    ">>> print(len(lista_mista))\n",
    "5\n",
    ">>> print(lista_mista[0])\n",
    "a\n",
    ">>> print(lista_mista[2])\n",
    "23\n",
    ">>> print(lista_mista[3])\n",
    "B\n",
    ">>> print(lista_mista[-1])\n",
    "[1, 0, 'C']\n",
    "```"
   ]
  },
  {
   "cell_type": "markdown",
   "metadata": {
    "ExecuteTime": {
     "end_time": "2020-06-05T21:47:37.260374Z",
     "start_time": "2020-06-05T21:47:37.258079Z"
    }
   },
   "source": [
    "Observe que o último termo dessa lista é outra lista. Dessa forma, podemos acessar os índices dessa da mesma forma:\n",
    "\n",
    "```python\n",
    ">>> print(lista_mista[-1][2])\n",
    "C\n",
    "```\n",
    "\n",
    "Veja os código executados nas células abaixo."
   ]
  },
  {
   "cell_type": "code",
   "execution_count": 128,
   "metadata": {
    "ExecuteTime": {
     "end_time": "2020-06-06T16:43:15.738867Z",
     "start_time": "2020-06-06T16:43:15.735826Z"
    }
   },
   "outputs": [],
   "source": [
    "# definimos nossa lista\n",
    "lista_mista = ['a', 10, 23, 'B', 11, [1, 0, 'C', False], True, 37, 'D', 'F', 95]"
   ]
  },
  {
   "cell_type": "code",
   "execution_count": 129,
   "metadata": {
    "ExecuteTime": {
     "end_time": "2020-06-06T16:43:19.674404Z",
     "start_time": "2020-06-06T16:43:19.669673Z"
    }
   },
   "outputs": [
    {
     "data": {
      "text/plain": [
       "11"
      ]
     },
     "execution_count": 129,
     "metadata": {},
     "output_type": "execute_result"
    }
   ],
   "source": [
    "# inspecionamos o tamanho da lista\n",
    "len(lista_mista)"
   ]
  },
  {
   "cell_type": "code",
   "execution_count": 130,
   "metadata": {
    "ExecuteTime": {
     "end_time": "2020-06-06T16:43:21.269490Z",
     "start_time": "2020-06-06T16:43:21.266389Z"
    }
   },
   "outputs": [
    {
     "data": {
      "text/plain": [
       "'a'"
      ]
     },
     "execution_count": 130,
     "metadata": {},
     "output_type": "execute_result"
    }
   ],
   "source": [
    "# acessamos o primeiro termo da lista\n",
    "lista_mista[0]"
   ]
  },
  {
   "cell_type": "code",
   "execution_count": 131,
   "metadata": {
    "ExecuteTime": {
     "end_time": "2020-06-06T16:43:22.126294Z",
     "start_time": "2020-06-06T16:43:22.123479Z"
    }
   },
   "outputs": [
    {
     "data": {
      "text/plain": [
       "23"
      ]
     },
     "execution_count": 131,
     "metadata": {},
     "output_type": "execute_result"
    }
   ],
   "source": [
    "# acessamos o terceiro termo da lista\n",
    "lista_mista[2]"
   ]
  },
  {
   "cell_type": "code",
   "execution_count": 132,
   "metadata": {
    "ExecuteTime": {
     "end_time": "2020-06-06T16:43:23.216649Z",
     "start_time": "2020-06-06T16:43:23.212944Z"
    }
   },
   "outputs": [
    {
     "data": {
      "text/plain": [
       "'B'"
      ]
     },
     "execution_count": 132,
     "metadata": {},
     "output_type": "execute_result"
    }
   ],
   "source": [
    "# acessamos o quarto termo da lista\n",
    "lista_mista[3]"
   ]
  },
  {
   "cell_type": "code",
   "execution_count": 133,
   "metadata": {
    "ExecuteTime": {
     "end_time": "2020-06-06T16:43:24.097362Z",
     "start_time": "2020-06-06T16:43:24.093526Z"
    }
   },
   "outputs": [
    {
     "data": {
      "text/plain": [
       "95"
      ]
     },
     "execution_count": 133,
     "metadata": {},
     "output_type": "execute_result"
    }
   ],
   "source": [
    "# acessamos o último termo da lista\n",
    "lista_mista[-1]"
   ]
  },
  {
   "cell_type": "code",
   "execution_count": 134,
   "metadata": {
    "ExecuteTime": {
     "end_time": "2020-06-06T16:44:27.051595Z",
     "start_time": "2020-06-06T16:44:27.048902Z"
    }
   },
   "outputs": [
    {
     "data": {
      "text/plain": [
       "'C'"
      ]
     },
     "execution_count": 134,
     "metadata": {},
     "output_type": "execute_result"
    }
   ],
   "source": [
    "# acessamos o sexto elemento da lista\n",
    "# que por sua vez também é uma lista\n",
    "# e então acessamos o terceiro termo\n",
    "lista_mista[5][2]"
   ]
  },
  {
   "cell_type": "markdown",
   "metadata": {},
   "source": [
    "Podemos acessar trechos da lista e não apenas um elemento de cada vez. Para isso, especificamos, dentro do colchetes, um intervalo fechado à esquerda e aberto à direita, com os índices que queremos. Os índices devem estar separados por ``:``. Por exemplo, vamos supor que queremos acessar os ``5`` primeiros termos de ``lista_mista``:"
   ]
  },
  {
   "cell_type": "code",
   "execution_count": 135,
   "metadata": {
    "ExecuteTime": {
     "end_time": "2020-06-06T16:44:59.650087Z",
     "start_time": "2020-06-06T16:44:59.647470Z"
    }
   },
   "outputs": [
    {
     "data": {
      "text/plain": [
       "['a', 10, 23, 'B', 11]"
      ]
     },
     "execution_count": 135,
     "metadata": {},
     "output_type": "execute_result"
    }
   ],
   "source": [
    "# acessamos os ``5`` primeiros termos de ``lista_mista``\n",
    "lista_mista[0:5]"
   ]
  },
  {
   "cell_type": "markdown",
   "metadata": {},
   "source": [
    "Se estivermos considerando o início da lista, não precisamos fornecer o índice ``0``:"
   ]
  },
  {
   "cell_type": "code",
   "execution_count": 136,
   "metadata": {
    "ExecuteTime": {
     "end_time": "2020-06-06T16:45:01.985415Z",
     "start_time": "2020-06-06T16:45:01.981125Z"
    }
   },
   "outputs": [
    {
     "data": {
      "text/plain": [
       "['a', 10, 23, 'B', 11]"
      ]
     },
     "execution_count": 136,
     "metadata": {},
     "output_type": "execute_result"
    }
   ],
   "source": [
    "lista_mista[:5]"
   ]
  },
  {
   "cell_type": "markdown",
   "metadata": {},
   "source": [
    "Se quisermos escolher um trecho da lista que consiste de um certo elemento até o último da lista, não precisamos especificar o segundo índice:"
   ]
  },
  {
   "cell_type": "code",
   "execution_count": 137,
   "metadata": {
    "ExecuteTime": {
     "end_time": "2020-06-06T16:45:03.499052Z",
     "start_time": "2020-06-06T16:45:03.494530Z"
    }
   },
   "outputs": [
    {
     "data": {
      "text/plain": [
       "[[1, 0, 'C', False], True, 37, 'D', 'F', 95]"
      ]
     },
     "execution_count": 137,
     "metadata": {},
     "output_type": "execute_result"
    }
   ],
   "source": [
    "lista_mista[5:]"
   ]
  },
  {
   "cell_type": "markdown",
   "metadata": {},
   "source": [
    "Também é possível selecionar os termos de um intervalo da lista pulando alguns elementos. Para isso, adicionamos um outro ``:`` e colocamos o tamanho da janela que queremos selecionar:"
   ]
  },
  {
   "cell_type": "code",
   "execution_count": 138,
   "metadata": {
    "ExecuteTime": {
     "end_time": "2020-06-06T16:45:05.834979Z",
     "start_time": "2020-06-06T16:45:05.831797Z"
    }
   },
   "outputs": [
    {
     "data": {
      "text/plain": [
       "['a', 23, 11]"
      ]
     },
     "execution_count": 138,
     "metadata": {},
     "output_type": "execute_result"
    }
   ],
   "source": [
    "lista_mista[:5:2]"
   ]
  },
  {
   "cell_type": "markdown",
   "metadata": {},
   "source": [
    "Vamos analisar o que ocorreu aqui por partes:\n",
    "```python\n",
    "1º - selecionamos os cinco primeiros termos da lista: ['a', 10, 23, 'B', 11]\n",
    "2º - especificamos uma janela de tamanho 2 para filtrar os termos\n",
    "3º - Essa janela irá percorrer a lista de 2 em 2 termos e selcionar o primeiro termo da janela:\n",
    "    1ª janela: ['a', 10] -> 'a'\n",
    "    2ª janela: [23, 'B'] -> 10\n",
    "    3º janela: [11]      -> 11\n",
    "4º retorna a lista com os termos selecionados em cada janela: ['a', 23, 11]\n",
    "```\n",
    "\n",
    "Agora é sua vez! Selecione os cinco primeiros termos de ``lista_mista`` escolhendo intervalo de tamanho 3."
   ]
  },
  {
   "cell_type": "code",
   "execution_count": null,
   "metadata": {},
   "outputs": [],
   "source": [
    "# digite seu código aqui\n"
   ]
  },
  {
   "cell_type": "markdown",
   "metadata": {},
   "source": [
    "Não conseguiu? **Clique duas vezes aqui** e dê uma espiada na resposta =)\n",
    "\n",
    "<!-- \n",
    "\n",
    "lista_mista[:4:3]\n",
    "\n",
    "-->"
   ]
  },
  {
   "cell_type": "markdown",
   "metadata": {},
   "source": [
    "Podemos selecionar os termos do final da ``lista`` para o começo também, basta começarmos pelo último termo usando ``-1``, irmos até o termo que estamos interessados e usar o intervalo ``-1``:"
   ]
  },
  {
   "cell_type": "code",
   "execution_count": 139,
   "metadata": {
    "ExecuteTime": {
     "end_time": "2020-06-06T16:45:12.434635Z",
     "start_time": "2020-06-06T16:45:12.430616Z"
    }
   },
   "outputs": [
    {
     "data": {
      "text/plain": [
       "[95, 'F', 'D', 37]"
      ]
     },
     "execution_count": 139,
     "metadata": {},
     "output_type": "execute_result"
    }
   ],
   "source": [
    "# varrendo a lista de trás para frente\n",
    "lista_mista[-1:-5:-1]"
   ]
  },
  {
   "cell_type": "markdown",
   "metadata": {},
   "source": [
    "Podemos também considerar tamanhos de janelas diferentes, basta colocar o terceiro termo negativo com o tamanho desejado:"
   ]
  },
  {
   "cell_type": "code",
   "execution_count": 140,
   "metadata": {
    "ExecuteTime": {
     "end_time": "2020-06-06T16:45:18.519070Z",
     "start_time": "2020-06-06T16:45:18.514985Z"
    }
   },
   "outputs": [
    {
     "data": {
      "text/plain": [
       "[95, 'D']"
      ]
     },
     "execution_count": 140,
     "metadata": {},
     "output_type": "execute_result"
    }
   ],
   "source": [
    "# varrendo a lista ao contrário com uma janela de tamanho 2\n",
    "lista_mista[-1:-5:-2]"
   ]
  },
  {
   "cell_type": "markdown",
   "metadata": {},
   "source": [
    "Se você lembrar, [usamos](#string_len) a ``função`` ``len()`` para medir o tamanho de uma ``string``. A ``classe`` ``str`` funciona em certo aspecto como uma ``lista``. Podemos acessar caracteres individuais de uma ``string`` por meio de índices, assim como feito em uma lista:\n",
    "\n",
    "```python\n",
    ">>> string_numeros = \"0123456789\"\n",
    ">>> print(string_numeros)\n",
    "0123456789\n",
    ">>> print(len(string_numeros))\n",
    "10\n",
    ">>> print(string_numeros[3])\n",
    "3\n",
    "```\n",
    "\n",
    "Veja o código executado nas células abaixo."
   ]
  },
  {
   "cell_type": "code",
   "execution_count": 4,
   "metadata": {
    "ExecuteTime": {
     "end_time": "2020-06-06T18:16:08.855349Z",
     "start_time": "2020-06-06T18:16:08.852736Z"
    }
   },
   "outputs": [],
   "source": [
    "# definimos nossa lista\n",
    "string_numeros = \"0123456789\""
   ]
  },
  {
   "cell_type": "code",
   "execution_count": 5,
   "metadata": {
    "ExecuteTime": {
     "end_time": "2020-06-06T18:16:09.863362Z",
     "start_time": "2020-06-06T18:16:09.859008Z"
    }
   },
   "outputs": [
    {
     "data": {
      "text/plain": [
       "'0123456789'"
      ]
     },
     "execution_count": 5,
     "metadata": {},
     "output_type": "execute_result"
    }
   ],
   "source": [
    "# imprimimos a lista\n",
    "string_numeros"
   ]
  },
  {
   "cell_type": "code",
   "execution_count": 6,
   "metadata": {
    "ExecuteTime": {
     "end_time": "2020-06-06T18:16:12.276001Z",
     "start_time": "2020-06-06T18:16:12.266449Z"
    }
   },
   "outputs": [
    {
     "data": {
      "text/plain": [
       "10"
      ]
     },
     "execution_count": 6,
     "metadata": {},
     "output_type": "execute_result"
    }
   ],
   "source": [
    "# inspecionamos o tamanho da ``string``\n",
    "len(string_numeros)"
   ]
  },
  {
   "cell_type": "code",
   "execution_count": 7,
   "metadata": {
    "ExecuteTime": {
     "end_time": "2020-06-06T18:16:14.900187Z",
     "start_time": "2020-06-06T18:16:14.895918Z"
    }
   },
   "outputs": [
    {
     "data": {
      "text/plain": [
       "'3'"
      ]
     },
     "execution_count": 7,
     "metadata": {},
     "output_type": "execute_result"
    }
   ],
   "source": [
    "# acessamos o quarto caracter da ``string``\n",
    "string_numeros[3]"
   ]
  },
  {
   "cell_type": "code",
   "execution_count": 8,
   "metadata": {
    "ExecuteTime": {
     "end_time": "2020-06-06T18:17:09.038000Z",
     "start_time": "2020-06-06T18:17:09.033555Z"
    }
   },
   "outputs": [
    {
     "data": {
      "text/plain": [
       "'02468'"
      ]
     },
     "execution_count": 8,
     "metadata": {},
     "output_type": "execute_result"
    }
   ],
   "source": [
    "# podemos selecionar somente alguns termos da lista usando uma janela de tamanho 2\n",
    "string_numeros[::2]"
   ]
  },
  {
   "cell_type": "markdown",
   "metadata": {},
   "source": [
    "<a class='cell' id='sum_list'></a>\n",
    "Assim como [fizemos](#str_concatenate) com ``strings``, também podemos adicionar ``listas``:\n",
    "\n",
    "```python\n",
    ">>> lista_1 = [0, 1]\n",
    ">>> lista_2 = [2, 3]\n",
    ">>> lista_3 = lista_1 + lista_2\n",
    ">>> print(lista_3)\n",
    "[0, 1, 2, 3]\n",
    "```\n",
    "\n",
    "Vemos que o resultado é uma nova lista. Veja os códigos executados abaixo."
   ]
  },
  {
   "cell_type": "code",
   "execution_count": 1,
   "metadata": {
    "ExecuteTime": {
     "end_time": "2020-06-06T15:28:01.032532Z",
     "start_time": "2020-06-06T15:28:01.030418Z"
    }
   },
   "outputs": [],
   "source": [
    "# definimos a primeira lista\n",
    "lista_1 = [0, 1]\n",
    "# definimos a segunda lista\n",
    "lista_2 = [2, 3]"
   ]
  },
  {
   "cell_type": "code",
   "execution_count": 3,
   "metadata": {
    "ExecuteTime": {
     "end_time": "2020-06-06T15:28:21.102789Z",
     "start_time": "2020-06-06T15:28:21.099015Z"
    }
   },
   "outputs": [
    {
     "data": {
      "text/plain": [
       "[0, 1]"
      ]
     },
     "execution_count": 3,
     "metadata": {},
     "output_type": "execute_result"
    }
   ],
   "source": [
    "# inpsecionamos a ``lista_1``\n",
    "lista_1"
   ]
  },
  {
   "cell_type": "code",
   "execution_count": 4,
   "metadata": {
    "ExecuteTime": {
     "end_time": "2020-06-06T15:28:35.973917Z",
     "start_time": "2020-06-06T15:28:35.970326Z"
    }
   },
   "outputs": [
    {
     "data": {
      "text/plain": [
       "[2, 3]"
      ]
     },
     "execution_count": 4,
     "metadata": {},
     "output_type": "execute_result"
    }
   ],
   "source": [
    "# inspecionamos a ``lista_2``\n",
    "lista_2"
   ]
  },
  {
   "cell_type": "code",
   "execution_count": 6,
   "metadata": {
    "ExecuteTime": {
     "end_time": "2020-06-06T15:29:28.610317Z",
     "start_time": "2020-06-06T15:29:28.606801Z"
    }
   },
   "outputs": [
    {
     "data": {
      "text/plain": [
       "[0, 1, 2, 3]"
      ]
     },
     "execution_count": 6,
     "metadata": {},
     "output_type": "execute_result"
    }
   ],
   "source": [
    "# criamos ``lista_3`` e atribuímos o valor da soma das duas listas anteriores\n",
    "lista_3 = lista_1 + lista_2\n",
    "\n",
    "# inspecionamos a ``lista_3``\n",
    "lista_3"
   ]
  },
  {
   "cell_type": "markdown",
   "metadata": {},
   "source": [
    "Se quisermos deletar algum termo da lista, podemos usar o operador ``del`` como [fizemos](#del) para deletar uma variável:\n",
    "\n",
    "```python\n",
    ">>> print(lista_3)\n",
    "[0, 1, 2, 3]\n",
    ">>> del lista_3[2]\n",
    ">>> print(lista_3)\n",
    "[0, 1, 3]\n",
    "```\n",
    "\n",
    "Veja os códigos executados abaixo."
   ]
  },
  {
   "cell_type": "code",
   "execution_count": 7,
   "metadata": {
    "ExecuteTime": {
     "end_time": "2020-06-06T15:39:57.277713Z",
     "start_time": "2020-06-06T15:39:57.274837Z"
    }
   },
   "outputs": [
    {
     "data": {
      "text/plain": [
       "[0, 1, 2, 3]"
      ]
     },
     "execution_count": 7,
     "metadata": {},
     "output_type": "execute_result"
    }
   ],
   "source": [
    "# inspecionamos o valor da ``lista_3`` definida previamente pela soma de duas listas\n",
    "lista_3"
   ]
  },
  {
   "cell_type": "code",
   "execution_count": 8,
   "metadata": {
    "ExecuteTime": {
     "end_time": "2020-06-06T15:40:36.596257Z",
     "start_time": "2020-06-06T15:40:36.594060Z"
    }
   },
   "outputs": [],
   "source": [
    "# vamos deletar o terceiro termo da lista\n",
    "# lembre-se que os índices da lista começam em 0\n",
    "del lista_3[2]"
   ]
  },
  {
   "cell_type": "code",
   "execution_count": 9,
   "metadata": {
    "ExecuteTime": {
     "end_time": "2020-06-06T15:40:48.447808Z",
     "start_time": "2020-06-06T15:40:48.444978Z"
    }
   },
   "outputs": [
    {
     "data": {
      "text/plain": [
       "[0, 1, 3]"
      ]
     },
     "execution_count": 9,
     "metadata": {},
     "output_type": "execute_result"
    }
   ],
   "source": [
    "# inspecionamos a lista novamente\n",
    "lista_3"
   ]
  },
  {
   "cell_type": "markdown",
   "metadata": {
    "ExecuteTime": {
     "end_time": "2020-06-05T23:36:06.652176Z",
     "start_time": "2020-06-05T23:36:06.648940Z"
    }
   },
   "source": [
    "Observe que o terceiro termo da lista foi deletado. "
   ]
  },
  {
   "cell_type": "markdown",
   "metadata": {},
   "source": [
    "Podemos efetuar diversas outras com listas. Para ver a lista de ``propriedades`` e ``métodos`` "
   ]
  },
  {
   "cell_type": "code",
   "execution_count": 10,
   "metadata": {
    "ExecuteTime": {
     "end_time": "2020-06-06T15:41:52.809632Z",
     "start_time": "2020-06-06T15:41:52.806801Z"
    }
   },
   "outputs": [
    {
     "data": {
      "text/plain": [
       "['__add__',\n",
       " '__class__',\n",
       " '__contains__',\n",
       " '__delattr__',\n",
       " '__delitem__',\n",
       " '__dir__',\n",
       " '__doc__',\n",
       " '__eq__',\n",
       " '__format__',\n",
       " '__ge__',\n",
       " '__getattribute__',\n",
       " '__getitem__',\n",
       " '__gt__',\n",
       " '__hash__',\n",
       " '__iadd__',\n",
       " '__imul__',\n",
       " '__init__',\n",
       " '__init_subclass__',\n",
       " '__iter__',\n",
       " '__le__',\n",
       " '__len__',\n",
       " '__lt__',\n",
       " '__mul__',\n",
       " '__ne__',\n",
       " '__new__',\n",
       " '__reduce__',\n",
       " '__reduce_ex__',\n",
       " '__repr__',\n",
       " '__reversed__',\n",
       " '__rmul__',\n",
       " '__setattr__',\n",
       " '__setitem__',\n",
       " '__sizeof__',\n",
       " '__str__',\n",
       " '__subclasshook__',\n",
       " 'append',\n",
       " 'clear',\n",
       " 'copy',\n",
       " 'count',\n",
       " 'extend',\n",
       " 'index',\n",
       " 'insert',\n",
       " 'pop',\n",
       " 'remove',\n",
       " 'reverse',\n",
       " 'sort']"
      ]
     },
     "execution_count": 10,
     "metadata": {},
     "output_type": "execute_result"
    }
   ],
   "source": [
    "dir(list)"
   ]
  },
  {
   "cell_type": "code",
   "execution_count": 88,
   "metadata": {
    "ExecuteTime": {
     "end_time": "2020-06-06T19:00:51.196857Z",
     "start_time": "2020-06-06T19:00:51.193074Z"
    }
   },
   "outputs": [],
   "source": [
    "# criamos uma lista com vários elementos repetidos\n",
    "lista_teste = [1, 2, 3, 4, 5, \n",
    "                  2, 3, 4, 5,\n",
    "                     3, 4, 5,\n",
    "                        4, 5,\n",
    "                           5]"
   ]
  },
  {
   "cell_type": "code",
   "execution_count": 89,
   "metadata": {
    "ExecuteTime": {
     "end_time": "2020-06-06T19:00:51.867452Z",
     "start_time": "2020-06-06T19:00:51.862869Z"
    }
   },
   "outputs": [
    {
     "data": {
      "text/plain": [
       "[1, 2, 3, 4, 5, 2, 3, 4, 5, 3, 4, 5, 4, 5, 5]"
      ]
     },
     "execution_count": 89,
     "metadata": {},
     "output_type": "execute_result"
    }
   ],
   "source": [
    "# veja como fica a lista criada\n",
    "lista_teste"
   ]
  },
  {
   "cell_type": "code",
   "execution_count": 90,
   "metadata": {
    "ExecuteTime": {
     "end_time": "2020-06-06T19:00:52.731084Z",
     "start_time": "2020-06-06T19:00:52.727528Z"
    }
   },
   "outputs": [],
   "source": [
    "# podemos ordenar a lista em ordem crescente\n",
    "lista_teste.sort()"
   ]
  },
  {
   "cell_type": "code",
   "execution_count": 91,
   "metadata": {
    "ExecuteTime": {
     "end_time": "2020-06-06T19:00:53.429729Z",
     "start_time": "2020-06-06T19:00:53.422802Z"
    }
   },
   "outputs": [
    {
     "data": {
      "text/plain": [
       "[1, 2, 2, 3, 3, 3, 4, 4, 4, 4, 5, 5, 5, 5, 5]"
      ]
     },
     "execution_count": 91,
     "metadata": {},
     "output_type": "execute_result"
    }
   ],
   "source": [
    "# inspecionamos a lista e vemos que ela está em ordem crescente\n",
    "lista_teste"
   ]
  },
  {
   "cell_type": "code",
   "execution_count": 92,
   "metadata": {
    "ExecuteTime": {
     "end_time": "2020-06-06T19:00:54.182421Z",
     "start_time": "2020-06-06T19:00:54.176721Z"
    }
   },
   "outputs": [],
   "source": [
    "# ou se preferir em ordem decrescente\n",
    "lista_teste.sort(reverse=True)"
   ]
  },
  {
   "cell_type": "code",
   "execution_count": 93,
   "metadata": {
    "ExecuteTime": {
     "end_time": "2020-06-06T19:00:56.102158Z",
     "start_time": "2020-06-06T19:00:56.097573Z"
    }
   },
   "outputs": [
    {
     "data": {
      "text/plain": [
       "[5, 5, 5, 5, 5, 4, 4, 4, 4, 3, 3, 3, 2, 2, 1]"
      ]
     },
     "execution_count": 93,
     "metadata": {},
     "output_type": "execute_result"
    }
   ],
   "source": [
    "# inspecionamos a lista e vemos que ela está em ordem decrescente\n",
    "lista_teste"
   ]
  },
  {
   "cell_type": "code",
   "execution_count": 94,
   "metadata": {
    "ExecuteTime": {
     "end_time": "2020-06-06T19:00:56.773605Z",
     "start_time": "2020-06-06T19:00:56.768951Z"
    }
   },
   "outputs": [
    {
     "data": {
      "text/plain": [
       "5"
      ]
     },
     "execution_count": 94,
     "metadata": {},
     "output_type": "execute_result"
    }
   ],
   "source": [
    "# contamos quantas vezes ``5`` ocorre na lista\n",
    "lista_teste.count(5)"
   ]
  },
  {
   "cell_type": "code",
   "execution_count": 95,
   "metadata": {
    "ExecuteTime": {
     "end_time": "2020-06-06T19:00:57.369793Z",
     "start_time": "2020-06-06T19:00:57.364693Z"
    }
   },
   "outputs": [],
   "source": [
    "# removemos a primeira ocorrência do termo ``5``\n",
    "lista_teste.remove(5)"
   ]
  },
  {
   "cell_type": "code",
   "execution_count": 96,
   "metadata": {
    "ExecuteTime": {
     "end_time": "2020-06-06T19:00:58.113983Z",
     "start_time": "2020-06-06T19:00:58.102541Z"
    }
   },
   "outputs": [
    {
     "data": {
      "text/plain": [
       "4"
      ]
     },
     "execution_count": 96,
     "metadata": {},
     "output_type": "execute_result"
    }
   ],
   "source": [
    "# contamos novamente quantas vezes ``5`` ocorre na lista\n",
    "lista_teste.count(5)"
   ]
  },
  {
   "cell_type": "code",
   "execution_count": 97,
   "metadata": {
    "ExecuteTime": {
     "end_time": "2020-06-06T19:00:59.070987Z",
     "start_time": "2020-06-06T19:00:59.062384Z"
    }
   },
   "outputs": [
    {
     "data": {
      "text/plain": [
       "[5, 5, 5, 5, 4, 4, 4, 4, 3, 3, 3, 2, 2, 1]"
      ]
     },
     "execution_count": 97,
     "metadata": {},
     "output_type": "execute_result"
    }
   ],
   "source": [
    "# inspecionamos a lista e vemos que um ``5`` foi removido\n",
    "lista_teste"
   ]
  },
  {
   "cell_type": "markdown",
   "metadata": {},
   "source": [
    "Também podemos remover um item da lista pelo índice. Para isso, usamos o método ``pop()``, fornecendo como argumento o índice desejado. Esse ``método`` nos retorna o valor no índice fornecido e o remove da lista:"
   ]
  },
  {
   "cell_type": "code",
   "execution_count": 98,
   "metadata": {
    "ExecuteTime": {
     "end_time": "2020-06-06T19:01:02.365056Z",
     "start_time": "2020-06-06T19:01:02.360536Z"
    }
   },
   "outputs": [
    {
     "data": {
      "text/plain": [
       "3"
      ]
     },
     "execution_count": 98,
     "metadata": {},
     "output_type": "execute_result"
    }
   ],
   "source": [
    "# removemos o termo que se encontra no oitavo índice da lista\n",
    "lista_teste.pop(8)"
   ]
  },
  {
   "cell_type": "code",
   "execution_count": 99,
   "metadata": {
    "ExecuteTime": {
     "end_time": "2020-06-06T19:01:03.230329Z",
     "start_time": "2020-06-06T19:01:03.219845Z"
    }
   },
   "outputs": [
    {
     "data": {
      "text/plain": [
       "[5, 5, 5, 5, 4, 4, 4, 4, 3, 3, 2, 2, 1]"
      ]
     },
     "execution_count": 99,
     "metadata": {},
     "output_type": "execute_result"
    }
   ],
   "source": [
    "# inspecionamos a lista e vemos que um ``3`` foi removido\n",
    "lista_teste"
   ]
  },
  {
   "cell_type": "code",
   "execution_count": 100,
   "metadata": {
    "ExecuteTime": {
     "end_time": "2020-06-06T19:01:05.187379Z",
     "start_time": "2020-06-06T19:01:05.184305Z"
    }
   },
   "outputs": [],
   "source": [
    "# podemos adicionar os termos de uma outra lista de maneira implicita\n",
    "lista_teste.extend([6, 7, 8, 9])"
   ]
  },
  {
   "cell_type": "code",
   "execution_count": 101,
   "metadata": {
    "ExecuteTime": {
     "end_time": "2020-06-06T19:01:06.064927Z",
     "start_time": "2020-06-06T19:01:06.059680Z"
    }
   },
   "outputs": [
    {
     "data": {
      "text/plain": [
       "[5, 5, 5, 5, 4, 4, 4, 4, 3, 3, 2, 2, 1, 6, 7, 8, 9]"
      ]
     },
     "execution_count": 101,
     "metadata": {},
     "output_type": "execute_result"
    }
   ],
   "source": [
    "# inspecionamos a lista e vemos que ela foi extendida\n",
    "lista_teste"
   ]
  },
  {
   "cell_type": "code",
   "execution_count": 102,
   "metadata": {
    "ExecuteTime": {
     "end_time": "2020-06-06T19:01:06.908980Z",
     "start_time": "2020-06-06T19:01:06.905418Z"
    }
   },
   "outputs": [],
   "source": [
    "# ou podemos adicionar um termo no final da lista\n",
    "lista_teste.append([10, 11, 12, 13])"
   ]
  },
  {
   "cell_type": "code",
   "execution_count": 103,
   "metadata": {
    "ExecuteTime": {
     "end_time": "2020-06-06T19:01:07.834359Z",
     "start_time": "2020-06-06T19:01:07.829164Z"
    }
   },
   "outputs": [
    {
     "data": {
      "text/plain": [
       "[5, 5, 5, 5, 4, 4, 4, 4, 3, 3, 2, 2, 1, 6, 7, 8, 9, [10, 11, 12, 13]]"
      ]
     },
     "execution_count": 103,
     "metadata": {},
     "output_type": "execute_result"
    }
   ],
   "source": [
    "# inspecionamos a lista e vemos que um novo termo foi adicionado no final\n",
    "lista_teste"
   ]
  },
  {
   "cell_type": "markdown",
   "metadata": {},
   "source": [
    "Veja a diferença entre os ``métodos`` ``extende`` e ``append``. O primeiro adiciona todos os termos do argumento fornecido (``[6, 7, 8, 9]``) como diversos termos novos da lista. O segundo adiciona o argumento (``[10, 11, 12, 13]``) como um termo apenas, na última posição da ``lista``."
   ]
  },
  {
   "cell_type": "markdown",
   "metadata": {},
   "source": [
    "Também podemos inserir um ``objeto`` em um índice específico da lista. Para isso, usamos o método ``insert()``, fornecendo dois argumentos: o índice e o ``objeto``."
   ]
  },
  {
   "cell_type": "code",
   "execution_count": 104,
   "metadata": {
    "ExecuteTime": {
     "end_time": "2020-06-06T19:01:11.700836Z",
     "start_time": "2020-06-06T19:01:11.697567Z"
    }
   },
   "outputs": [],
   "source": [
    "# iremos inserir a lista [23, 17] no índice 2 da lista, ou seja, como o terceiro termo\n",
    "lista_teste.insert(2, [23,17])"
   ]
  },
  {
   "cell_type": "code",
   "execution_count": 105,
   "metadata": {
    "ExecuteTime": {
     "end_time": "2020-06-06T19:01:13.801577Z",
     "start_time": "2020-06-06T19:01:13.797124Z"
    }
   },
   "outputs": [
    {
     "data": {
      "text/plain": [
       "[5, 5, [23, 17], 5, 5, 4, 4, 4, 4, 3, 3, 2, 2, 1, 6, 7, 8, 9, [10, 11, 12, 13]]"
      ]
     },
     "execution_count": 105,
     "metadata": {},
     "output_type": "execute_result"
    }
   ],
   "source": [
    "# inspecionamos a lista e vemos que ``[23, 17]`` foi adicionado ao índice ``2``\n",
    "lista_teste"
   ]
  },
  {
   "cell_type": "code",
   "execution_count": 106,
   "metadata": {
    "ExecuteTime": {
     "end_time": "2020-06-06T19:01:15.808919Z",
     "start_time": "2020-06-06T19:01:15.806079Z"
    }
   },
   "outputs": [],
   "source": [
    "# podemos também inverter os termos da lista\n",
    "lista_teste.reverse()"
   ]
  },
  {
   "cell_type": "code",
   "execution_count": 107,
   "metadata": {
    "ExecuteTime": {
     "end_time": "2020-06-06T19:01:16.585938Z",
     "start_time": "2020-06-06T19:01:16.580642Z"
    }
   },
   "outputs": [
    {
     "data": {
      "text/plain": [
       "[[10, 11, 12, 13], 9, 8, 7, 6, 1, 2, 2, 3, 3, 4, 4, 4, 4, 5, 5, [23, 17], 5, 5]"
      ]
     },
     "execution_count": 107,
     "metadata": {},
     "output_type": "execute_result"
    }
   ],
   "source": [
    "# inspecionamos a lista\n",
    "lista_teste"
   ]
  },
  {
   "cell_type": "markdown",
   "metadata": {},
   "source": [
    "Também podemos alterar termos das listas selecionando o termo que queremos substituir com a notação ``[]`` e então atribuir o novo valor à esse índice:"
   ]
  },
  {
   "cell_type": "code",
   "execution_count": 112,
   "metadata": {
    "ExecuteTime": {
     "end_time": "2020-06-06T19:04:52.052953Z",
     "start_time": "2020-06-06T19:04:52.049890Z"
    }
   },
   "outputs": [],
   "source": [
    "# vamos substituir a lista ``[10, 11, 12, 13]`` no índice ``0`` pelo caracter 'A'\n",
    "lista_teste[0] = 'A'"
   ]
  },
  {
   "cell_type": "code",
   "execution_count": 113,
   "metadata": {
    "ExecuteTime": {
     "end_time": "2020-06-06T19:05:10.401800Z",
     "start_time": "2020-06-06T19:05:10.397206Z"
    }
   },
   "outputs": [
    {
     "data": {
      "text/plain": [
       "['A', 9, 8, 7, 6, 1, 2, 2, 3, 3, 4, 4, 4, 4, 5, 5, [23, 17], 5, 5]"
      ]
     },
     "execution_count": 113,
     "metadata": {},
     "output_type": "execute_result"
    }
   ],
   "source": [
    "# inspecionamos a lista e vemos que o termo no índice ``0`` foi substituído\n",
    "lista_teste"
   ]
  },
  {
   "cell_type": "markdown",
   "metadata": {},
   "source": [
    "Se você se lembrar, quando [aplicamos métodos em ``strings``](#str_methodo_not_in_place), as mudanças não eram aplicadas diretamente ao ``objeto`` em questão. Contudo, quando aplicamos os ``métodos`` em uma ``lista``, a mudança é feita diretamente no ``objeto``, alterando seu valor, como se reescrevessemos a variável novamente. Esse tipo de ação é chamada de ``in place``, ou seja, quando um método atua no próprio ``objeto`` o alterando."
   ]
  },
  {
   "cell_type": "markdown",
   "metadata": {},
   "source": [
    "Existem dois operadores que podem ser usados em operações com listas. O ``in`` nos diz se um certo termo é encontrado na lista em questão e o ``not in`` se o valor não é encontrado. Para exemplificar como esses operadores funcionam, vamos usar a seguinte lista como exemplo:"
   ]
  },
  {
   "cell_type": "code",
   "execution_count": 116,
   "metadata": {
    "ExecuteTime": {
     "end_time": "2020-06-06T19:24:48.994853Z",
     "start_time": "2020-06-06T19:24:48.989609Z"
    }
   },
   "outputs": [
    {
     "data": {
      "text/plain": [
       "[0, 1, 2, 3, 4, 5, 6, 7, 8, 9]"
      ]
     },
     "execution_count": 116,
     "metadata": {},
     "output_type": "execute_result"
    }
   ],
   "source": [
    "# criamos uma lista exemplo\n",
    "lista_exemplo = [0, 1, 2, 3, 4, 5, 6, 7, 8, 9]\n",
    "lista_exemplo"
   ]
  },
  {
   "cell_type": "code",
   "execution_count": 117,
   "metadata": {
    "ExecuteTime": {
     "end_time": "2020-06-06T19:25:14.489964Z",
     "start_time": "2020-06-06T19:25:14.486130Z"
    }
   },
   "outputs": [
    {
     "data": {
      "text/plain": [
       "True"
      ]
     },
     "execution_count": 117,
     "metadata": {},
     "output_type": "execute_result"
    }
   ],
   "source": [
    "# vamos verificar se o número 3 existe na lista\n",
    "3 in lista_exemplo"
   ]
  },
  {
   "cell_type": "markdown",
   "metadata": {},
   "source": [
    "O valor retornado é ``True``, pois o número ``3`` existe na lista. Se procurarmos pelo número ``10``:"
   ]
  },
  {
   "cell_type": "code",
   "execution_count": 118,
   "metadata": {
    "ExecuteTime": {
     "end_time": "2020-06-06T19:26:18.737776Z",
     "start_time": "2020-06-06T19:26:18.733734Z"
    }
   },
   "outputs": [
    {
     "data": {
      "text/plain": [
       "False"
      ]
     },
     "execution_count": 118,
     "metadata": {},
     "output_type": "execute_result"
    }
   ],
   "source": [
    "10 in lista_exemplo"
   ]
  },
  {
   "cell_type": "markdown",
   "metadata": {},
   "source": [
    "O valor retornado é ``False``, pois não existe o número ``10`` na lista."
   ]
  },
  {
   "cell_type": "markdown",
   "metadata": {},
   "source": [
    "O operador ``not in`` funciona como o contrário do operador ``in``. Por exemplo, vamos perguntar se o número ``3`` não está na lista:"
   ]
  },
  {
   "cell_type": "code",
   "execution_count": 119,
   "metadata": {
    "ExecuteTime": {
     "end_time": "2020-06-06T19:27:40.979321Z",
     "start_time": "2020-06-06T19:27:40.975469Z"
    }
   },
   "outputs": [
    {
     "data": {
      "text/plain": [
       "False"
      ]
     },
     "execution_count": 119,
     "metadata": {},
     "output_type": "execute_result"
    }
   ],
   "source": [
    "3 not in lista_exemplo"
   ]
  },
  {
   "cell_type": "markdown",
   "metadata": {},
   "source": [
    "O valor retornado é ``False``, pois o número ``3`` está presente na lista. Já se perguntarmos se o número ``10`` não está na lista:"
   ]
  },
  {
   "cell_type": "code",
   "execution_count": 120,
   "metadata": {
    "ExecuteTime": {
     "end_time": "2020-06-06T19:28:30.771136Z",
     "start_time": "2020-06-06T19:28:30.767596Z"
    }
   },
   "outputs": [
    {
     "data": {
      "text/plain": [
       "True"
      ]
     },
     "execution_count": 120,
     "metadata": {},
     "output_type": "execute_result"
    }
   ],
   "source": [
    "10 not in lista_exemplo"
   ]
  },
  {
   "cell_type": "markdown",
   "metadata": {},
   "source": [
    "Vemos que o valor retornado é ``True``, pois o número ``10`` não é encontrado na lista."
   ]
  },
  {
   "cell_type": "markdown",
   "metadata": {},
   "source": [
    "<a class='section' id='tuplas'></a>\n",
    "# Tuplas"
   ]
  },
  {
   "cell_type": "markdown",
   "metadata": {},
   "source": [
    "``Tuplas`` são praticamente igual às ``listas``. Elas são um conjunto de ``objetos`` que se encontram separados por ``,`` dentro de parêntesis ``()``:"
   ]
  },
  {
   "cell_type": "code",
   "execution_count": 127,
   "metadata": {
    "ExecuteTime": {
     "end_time": "2020-06-06T19:32:23.696076Z",
     "start_time": "2020-06-06T19:32:23.692001Z"
    }
   },
   "outputs": [
    {
     "data": {
      "text/plain": [
       "(0, 1, 2, 3, 4)"
      ]
     },
     "execution_count": 127,
     "metadata": {},
     "output_type": "execute_result"
    }
   ],
   "source": [
    "# vamos criar nossa primeira tupla\n",
    "tupla_1 = (0, 1, 2, 3, 4)\n",
    "# repetimos a variável para ela ser imprimida na tela\n",
    "tupla_1"
   ]
  },
  {
   "cell_type": "markdown",
   "metadata": {},
   "source": [
    "Se inspecionarmos qual o ``tipo`` ou ``classe`` desse novo ``objeto``, obtemos:"
   ]
  },
  {
   "cell_type": "code",
   "execution_count": 151,
   "metadata": {
    "ExecuteTime": {
     "end_time": "2020-06-06T20:14:18.466359Z",
     "start_time": "2020-06-06T20:14:18.461201Z"
    }
   },
   "outputs": [
    {
     "data": {
      "text/plain": [
       "tuple"
      ]
     },
     "execution_count": 151,
     "metadata": {},
     "output_type": "execute_result"
    }
   ],
   "source": [
    "type(tupla_1)"
   ]
  },
  {
   "cell_type": "markdown",
   "metadata": {},
   "source": [
    "Seu tamanho também pode ser obtido por meio da ``função`` ``len()``:"
   ]
  },
  {
   "cell_type": "code",
   "execution_count": 152,
   "metadata": {
    "ExecuteTime": {
     "end_time": "2020-06-06T20:14:45.443429Z",
     "start_time": "2020-06-06T20:14:45.439273Z"
    }
   },
   "outputs": [
    {
     "data": {
      "text/plain": [
       "5"
      ]
     },
     "execution_count": 152,
     "metadata": {},
     "output_type": "execute_result"
    }
   ],
   "source": [
    "len(tupla_1)"
   ]
  },
  {
   "cell_type": "markdown",
   "metadata": {},
   "source": [
    "Ela possui propriedades parecidas com as ``listas``. Por exemplos, podemos somar duas ``tuplas``:"
   ]
  },
  {
   "cell_type": "code",
   "execution_count": 130,
   "metadata": {
    "ExecuteTime": {
     "end_time": "2020-06-06T19:34:13.996947Z",
     "start_time": "2020-06-06T19:34:13.992763Z"
    }
   },
   "outputs": [
    {
     "data": {
      "text/plain": [
       "(0, 1, 2, 3, 4, 3, 4, 5, 6, 7)"
      ]
     },
     "execution_count": 130,
     "metadata": {},
     "output_type": "execute_result"
    }
   ],
   "source": [
    "# criamos outra tupla para somar com tupla_1 definida acima\n",
    "tupla_2 = (3, 4, 5, 6, 7)\n",
    "\n",
    "# somamos tupla_1 e tupla_2 e guardamos o valor em tupla_3\n",
    "tupla_3 = tupla_1 + tupla_2\n",
    "tupla_3"
   ]
  },
  {
   "cell_type": "markdown",
   "metadata": {},
   "source": [
    "Podemos acessar termos dentro de uma tupla da mesma forma que fizemos com as listas, fornecendo índices na frente dela usando ``[]``:"
   ]
  },
  {
   "cell_type": "code",
   "execution_count": 131,
   "metadata": {
    "ExecuteTime": {
     "end_time": "2020-06-06T19:35:46.450473Z",
     "start_time": "2020-06-06T19:35:46.446512Z"
    }
   },
   "outputs": [
    {
     "data": {
      "text/plain": [
       "4"
      ]
     },
     "execution_count": 131,
     "metadata": {},
     "output_type": "execute_result"
    }
   ],
   "source": [
    "# acessando o quinto termo da tupla\n",
    "# lembre-se que os índices começam em ``0``\n",
    "tupla_3[4]"
   ]
  },
  {
   "cell_type": "code",
   "execution_count": 132,
   "metadata": {
    "ExecuteTime": {
     "end_time": "2020-06-06T19:36:08.850647Z",
     "start_time": "2020-06-06T19:36:08.846736Z"
    }
   },
   "outputs": [
    {
     "data": {
      "text/plain": [
       "(3, 4, 3, 4)"
      ]
     },
     "execution_count": 132,
     "metadata": {},
     "output_type": "execute_result"
    }
   ],
   "source": [
    "# também podemos acessar um trecho da tupla usando ``:``\n",
    "tupla_3[3:7]"
   ]
  },
  {
   "cell_type": "code",
   "execution_count": 133,
   "metadata": {
    "ExecuteTime": {
     "end_time": "2020-06-06T19:36:39.967511Z",
     "start_time": "2020-06-06T19:36:39.964233Z"
    }
   },
   "outputs": [
    {
     "data": {
      "text/plain": [
       "(0, 3, 4, 7)"
      ]
     },
     "execution_count": 133,
     "metadata": {},
     "output_type": "execute_result"
    }
   ],
   "source": [
    "# e usar intervalos para selecionar apenas alguns valores\n",
    "tupla_3[::3]"
   ]
  },
  {
   "cell_type": "markdown",
   "metadata": {},
   "source": [
    "Os índices para selecionar valores do final para o começo da ``tupla`` também funcionam:"
   ]
  },
  {
   "cell_type": "code",
   "execution_count": 134,
   "metadata": {
    "ExecuteTime": {
     "end_time": "2020-06-06T19:37:37.286164Z",
     "start_time": "2020-06-06T19:37:37.281749Z"
    }
   },
   "outputs": [
    {
     "data": {
      "text/plain": [
       "(7, 6, 5, 4)"
      ]
     },
     "execution_count": 134,
     "metadata": {},
     "output_type": "execute_result"
    }
   ],
   "source": [
    "# lembre-se de que temos que adicionar o intervalo negativo\n",
    "tupla_3[-1:-5:-1]"
   ]
  },
  {
   "cell_type": "markdown",
   "metadata": {},
   "source": [
    "As ``tuplas`` tambḿe podem ter ``objetos``diferentes, por exemplo, ``int``, ``str``, ``list`` e ``bool``:"
   ]
  },
  {
   "cell_type": "code",
   "execution_count": 137,
   "metadata": {
    "ExecuteTime": {
     "end_time": "2020-06-06T19:40:50.249699Z",
     "start_time": "2020-06-06T19:40:50.246538Z"
    }
   },
   "outputs": [],
   "source": [
    "# definindo uma ``tupla`` com diferentes objetos\n",
    "tupla_mista = (0, 1, 'a', 27, [0, 1], True, 'C')"
   ]
  },
  {
   "cell_type": "markdown",
   "metadata": {},
   "source": [
    "Também podemos usar os operadores ``in`` e ``not in`` para ver se existem ou não os termos de interesse nas tuplas:"
   ]
  },
  {
   "cell_type": "code",
   "execution_count": 141,
   "metadata": {
    "ExecuteTime": {
     "end_time": "2020-06-06T19:52:45.536830Z",
     "start_time": "2020-06-06T19:52:45.533323Z"
    }
   },
   "outputs": [
    {
     "data": {
      "text/plain": [
       "True"
      ]
     },
     "execution_count": 141,
     "metadata": {},
     "output_type": "execute_result"
    }
   ],
   "source": [
    "# procuramos por ``True`` na tupla_mista\n",
    "True in tupla_mista"
   ]
  },
  {
   "cell_type": "code",
   "execution_count": 142,
   "metadata": {
    "ExecuteTime": {
     "end_time": "2020-06-06T19:53:20.209231Z",
     "start_time": "2020-06-06T19:53:20.204893Z"
    }
   },
   "outputs": [
    {
     "data": {
      "text/plain": [
       "True"
      ]
     },
     "execution_count": 142,
     "metadata": {},
     "output_type": "execute_result"
    }
   ],
   "source": [
    "# perguntamos se o número 37 não existe em tupla_mista\n",
    "37 not in tupla_mista"
   ]
  },
  {
   "cell_type": "markdown",
   "metadata": {},
   "source": [
    "Podemos transformar uma ``tupla`` em ``lista``:"
   ]
  },
  {
   "cell_type": "code",
   "execution_count": 159,
   "metadata": {
    "ExecuteTime": {
     "end_time": "2020-06-06T20:39:08.614374Z",
     "start_time": "2020-06-06T20:39:08.607010Z"
    }
   },
   "outputs": [
    {
     "data": {
      "text/plain": [
       "[0, 1, 'a', 27, [0, 1], True, 'C']"
      ]
     },
     "execution_count": 159,
     "metadata": {},
     "output_type": "execute_result"
    }
   ],
   "source": [
    "list(tupla_mista)"
   ]
  },
  {
   "cell_type": "markdown",
   "metadata": {},
   "source": [
    "Veja que a representação muda de modo que os termos agora estão entre colchetes ``[]``."
   ]
  },
  {
   "cell_type": "markdown",
   "metadata": {},
   "source": [
    "Da mesma forma podemos transformar uma ``lista`` em uma ``tupla``:"
   ]
  },
  {
   "cell_type": "code",
   "execution_count": 160,
   "metadata": {
    "ExecuteTime": {
     "end_time": "2020-06-06T20:40:38.788992Z",
     "start_time": "2020-06-06T20:40:38.784507Z"
    }
   },
   "outputs": [
    {
     "data": {
      "text/plain": [
       "(0, 1, 2, 3)"
      ]
     },
     "execution_count": 160,
     "metadata": {},
     "output_type": "execute_result"
    }
   ],
   "source": [
    "tuple([0, 1, 2, 3])"
   ]
  },
  {
   "cell_type": "markdown",
   "metadata": {},
   "source": [
    "A principal diferença entre ``tuplas`` e ``listas`` é que uma vez que uma ``tupla`` é criada, ela não pode ser modificada de nenhuma forma, seja adicionando ou removendo termos dela. Se tentarmos, por exemplo, deletar um dos termos da tupla, veja o que ocorre:"
   ]
  },
  {
   "cell_type": "code",
   "execution_count": 143,
   "metadata": {
    "ExecuteTime": {
     "end_time": "2020-06-06T19:55:15.873189Z",
     "start_time": "2020-06-06T19:55:15.863567Z"
    }
   },
   "outputs": [
    {
     "ename": "TypeError",
     "evalue": "'tuple' object doesn't support item deletion",
     "output_type": "error",
     "traceback": [
      "\u001b[0;31m---------------------------------------------------------------------------\u001b[0m",
      "\u001b[0;31mTypeError\u001b[0m                                 Traceback (most recent call last)",
      "\u001b[0;32m<ipython-input-143-e3cb51316a94>\u001b[0m in \u001b[0;36m<module>\u001b[0;34m\u001b[0m\n\u001b[1;32m      1\u001b[0m \u001b[0;31m# tentamos deletar o termo que se encontra no índice 3 da tupla_mista\u001b[0m\u001b[0;34m\u001b[0m\u001b[0;34m\u001b[0m\u001b[0;34m\u001b[0m\u001b[0m\n\u001b[0;32m----> 2\u001b[0;31m \u001b[0;32mdel\u001b[0m \u001b[0mtupla_mista\u001b[0m\u001b[0;34m[\u001b[0m\u001b[0;36m3\u001b[0m\u001b[0;34m]\u001b[0m\u001b[0;34m\u001b[0m\u001b[0;34m\u001b[0m\u001b[0m\n\u001b[0m",
      "\u001b[0;31mTypeError\u001b[0m: 'tuple' object doesn't support item deletion"
     ]
    }
   ],
   "source": [
    "# tentamos deletar o termo que se encontra no índice 3 da tupla_mista\n",
    "del tupla_mista[3]"
   ]
  },
  {
   "cell_type": "markdown",
   "metadata": {},
   "source": [
    "O erro ``TypeError`` é retornado, dizendo que os ``objetos`` ``tuplas`` não suportam a exlusão de itens. Também não conseguimos alterar valores dela:"
   ]
  },
  {
   "cell_type": "code",
   "execution_count": 150,
   "metadata": {
    "ExecuteTime": {
     "end_time": "2020-06-06T20:08:48.356105Z",
     "start_time": "2020-06-06T20:08:48.347429Z"
    }
   },
   "outputs": [
    {
     "ename": "TypeError",
     "evalue": "'tuple' object does not support item assignment",
     "output_type": "error",
     "traceback": [
      "\u001b[0;31m---------------------------------------------------------------------------\u001b[0m",
      "\u001b[0;31mTypeError\u001b[0m                                 Traceback (most recent call last)",
      "\u001b[0;32m<ipython-input-150-664c869946fb>\u001b[0m in \u001b[0;36m<module>\u001b[0;34m\u001b[0m\n\u001b[1;32m      1\u001b[0m \u001b[0;31m# tentativa de substituir um termo da tupla\u001b[0m\u001b[0;34m\u001b[0m\u001b[0;34m\u001b[0m\u001b[0;34m\u001b[0m\u001b[0m\n\u001b[0;32m----> 2\u001b[0;31m \u001b[0mtupla_mista\u001b[0m\u001b[0;34m[\u001b[0m\u001b[0;36m3\u001b[0m\u001b[0;34m]\u001b[0m \u001b[0;34m=\u001b[0m \u001b[0;34m'A'\u001b[0m\u001b[0;34m\u001b[0m\u001b[0;34m\u001b[0m\u001b[0m\n\u001b[0m",
      "\u001b[0;31mTypeError\u001b[0m: 'tuple' object does not support item assignment"
     ]
    }
   ],
   "source": [
    "# tentativa de substituir um termo da tupla\n",
    "tupla_mista[3] = 'A'"
   ]
  },
  {
   "cell_type": "markdown",
   "metadata": {},
   "source": [
    "Recebemos novamente um ``TypeError``, nos informando que ``tuplas`` não permitem a reatribuição de valores de seus termos."
   ]
  },
  {
   "cell_type": "markdown",
   "metadata": {},
   "source": [
    " Dessa forma, dizemos que as ``tuplas`` são estruturas ordenadas imutáveis."
   ]
  },
  {
   "cell_type": "markdown",
   "metadata": {},
   "source": [
    "Observe o que ocorre se quisermos criar uma ``tupla`` com apenas um termo:"
   ]
  },
  {
   "cell_type": "code",
   "execution_count": 146,
   "metadata": {
    "ExecuteTime": {
     "end_time": "2020-06-06T20:04:42.074786Z",
     "start_time": "2020-06-06T20:04:42.072271Z"
    }
   },
   "outputs": [],
   "source": [
    "# tentamos criar uma tupla de um único termo\n",
    "tupla_de_um_termo = (1)"
   ]
  },
  {
   "cell_type": "markdown",
   "metadata": {},
   "source": [
    "Contudo, veja o que ocorre ao inspecinarmos o tipo da variável ``tupla_de_um_termo``:"
   ]
  },
  {
   "cell_type": "code",
   "execution_count": 147,
   "metadata": {
    "ExecuteTime": {
     "end_time": "2020-06-06T20:05:19.805905Z",
     "start_time": "2020-06-06T20:05:19.802660Z"
    }
   },
   "outputs": [
    {
     "data": {
      "text/plain": [
       "int"
      ]
     },
     "execution_count": 147,
     "metadata": {},
     "output_type": "execute_result"
    }
   ],
   "source": [
    "type(tupla_de_um_termo)"
   ]
  },
  {
   "cell_type": "markdown",
   "metadata": {},
   "source": [
    "É retornado ``int``, ou seja, não criamos uma ``tupla``. Para que sejamos bem sucedidos em tal tarefa, devemos adicionar uma vírgula após o primeiro e único termo:"
   ]
  },
  {
   "cell_type": "code",
   "execution_count": 148,
   "metadata": {
    "ExecuteTime": {
     "end_time": "2020-06-06T20:06:54.230318Z",
     "start_time": "2020-06-06T20:06:54.227487Z"
    }
   },
   "outputs": [],
   "source": [
    "# mais um tentativa de criar uma tupla de um único termo\n",
    "tupla_de_um_termo_2 = (1,)"
   ]
  },
  {
   "cell_type": "markdown",
   "metadata": {},
   "source": [
    "Se inspecionarmos o ``tipo`` dessa variável:"
   ]
  },
  {
   "cell_type": "code",
   "execution_count": 149,
   "metadata": {
    "ExecuteTime": {
     "end_time": "2020-06-06T20:07:34.071246Z",
     "start_time": "2020-06-06T20:07:34.067302Z"
    }
   },
   "outputs": [
    {
     "data": {
      "text/plain": [
       "tuple"
      ]
     },
     "execution_count": 149,
     "metadata": {},
     "output_type": "execute_result"
    }
   ],
   "source": [
    "type(tupla_de_um_termo_2)"
   ]
  },
  {
   "cell_type": "markdown",
   "metadata": {},
   "source": [
    "Vemos que ela é uma ``tupla``!"
   ]
  },
  {
   "cell_type": "markdown",
   "metadata": {},
   "source": [
    "<a class='section' id='sets'></a>\n",
    "# Sets"
   ]
  },
  {
   "cell_type": "markdown",
   "metadata": {},
   "source": [
    "``Sets`` também é um ``objeto`` que representa uma coleção ordenada de ``objetos``. Eles são criados colocando ``objetos`` separados por ``,`` entre chaves ``{}``:"
   ]
  },
  {
   "cell_type": "code",
   "execution_count": 2,
   "metadata": {
    "ExecuteTime": {
     "end_time": "2020-06-07T21:58:18.779904Z",
     "start_time": "2020-06-07T21:58:18.777826Z"
    }
   },
   "outputs": [],
   "source": [
    "# criando nosso primeiro set\n",
    "set_1 = {4, 3, 2, 1, 0}"
   ]
  },
  {
   "cell_type": "markdown",
   "metadata": {},
   "source": [
    "Se inspecionarmos qual o ``tipo`` ou ``classe`` desse novo ``objeto``, obtemos:"
   ]
  },
  {
   "cell_type": "code",
   "execution_count": 3,
   "metadata": {
    "ExecuteTime": {
     "end_time": "2020-06-07T21:58:20.216275Z",
     "start_time": "2020-06-07T21:58:20.212469Z"
    }
   },
   "outputs": [
    {
     "data": {
      "text/plain": [
       "set"
      ]
     },
     "execution_count": 3,
     "metadata": {},
     "output_type": "execute_result"
    }
   ],
   "source": [
    "type(set_1)"
   ]
  },
  {
   "cell_type": "markdown",
   "metadata": {},
   "source": [
    "Observe que criamos o ``set`` com uma contagem regressiva de valores. Contudo, observe o que ocorre quando inspecionamos a variável:"
   ]
  },
  {
   "cell_type": "code",
   "execution_count": 4,
   "metadata": {
    "ExecuteTime": {
     "end_time": "2020-06-07T21:58:21.374556Z",
     "start_time": "2020-06-07T21:58:21.371712Z"
    }
   },
   "outputs": [
    {
     "data": {
      "text/plain": [
       "{0, 1, 2, 3, 4}"
      ]
     },
     "execution_count": 4,
     "metadata": {},
     "output_type": "execute_result"
    }
   ],
   "source": [
    "set_1"
   ]
  },
  {
   "cell_type": "markdown",
   "metadata": {},
   "source": [
    "Quando criamos um ``set``, seus termos são automaticamente ordenados. Além disso, ``sets`` não possuem valores repetidos:"
   ]
  },
  {
   "cell_type": "code",
   "execution_count": 5,
   "metadata": {
    "ExecuteTime": {
     "end_time": "2020-06-07T21:58:21.906551Z",
     "start_time": "2020-06-07T21:58:21.903653Z"
    }
   },
   "outputs": [
    {
     "data": {
      "text/plain": [
       "{5, 6, 7, 8, 9}"
      ]
     },
     "execution_count": 5,
     "metadata": {},
     "output_type": "execute_result"
    }
   ],
   "source": [
    "set_2 = {9, 8, 7, 6, 5, 5, 6, 7, 8, 9}\n",
    "set_2"
   ]
  },
  {
   "cell_type": "markdown",
   "metadata": {
    "ExecuteTime": {
     "end_time": "2020-06-06T20:41:03.301917Z",
     "start_time": "2020-06-06T20:41:03.296398Z"
    }
   },
   "source": [
    "Podemos usar a ``função`` ``len()`` para verificar quantos termos existem no ``set``: "
   ]
  },
  {
   "cell_type": "code",
   "execution_count": 6,
   "metadata": {
    "ExecuteTime": {
     "end_time": "2020-06-07T21:58:23.285528Z",
     "start_time": "2020-06-07T21:58:23.282167Z"
    }
   },
   "outputs": [
    {
     "data": {
      "text/plain": [
       "5"
      ]
     },
     "execution_count": 6,
     "metadata": {},
     "output_type": "execute_result"
    }
   ],
   "source": [
    "len(set_2)"
   ]
  },
  {
   "cell_type": "markdown",
   "metadata": {},
   "source": [
    "Também é possível fazer as seguintes conversões:\n",
    "\n",
    "```python\n",
    "set para list : list({1, 2, 3})   -> [1, 2, 3]\n",
    "set para tuple: tuple({1, 2, 3,}) -> (1, 2, 3)\n",
    "```\n",
    "\n",
    "e vice-versa."
   ]
  },
  {
   "cell_type": "markdown",
   "metadata": {},
   "source": [
    "Apesar de suas vantagens, não é possível acessar os termos de um ``set`` via ``índices``:"
   ]
  },
  {
   "cell_type": "code",
   "execution_count": 7,
   "metadata": {
    "ExecuteTime": {
     "end_time": "2020-06-07T21:58:25.196560Z",
     "start_time": "2020-06-07T21:58:25.159639Z"
    }
   },
   "outputs": [
    {
     "ename": "TypeError",
     "evalue": "'set' object is not subscriptable",
     "output_type": "error",
     "traceback": [
      "\u001b[0;31m---------------------------------------------------------------------------\u001b[0m",
      "\u001b[0;31mTypeError\u001b[0m                                 Traceback (most recent call last)",
      "\u001b[0;32m<ipython-input-7-26384db42387>\u001b[0m in \u001b[0;36m<module>\u001b[0;34m\u001b[0m\n\u001b[0;32m----> 1\u001b[0;31m \u001b[0mset_2\u001b[0m\u001b[0;34m[\u001b[0m\u001b[0;36m0\u001b[0m\u001b[0;34m]\u001b[0m\u001b[0;34m\u001b[0m\u001b[0;34m\u001b[0m\u001b[0m\n\u001b[0m",
      "\u001b[0;31mTypeError\u001b[0m: 'set' object is not subscriptable"
     ]
    }
   ],
   "source": [
    "set_2[0]"
   ]
  },
  {
   "cell_type": "markdown",
   "metadata": {},
   "source": [
    "Veja que um ``TypeError`` é retornado nos dizendo que ``objetos`` do tipo ``set`` não suportam indexação. Esse tipo de ``objeto`` também pode ser criado com ``objetos`` mistos:"
   ]
  },
  {
   "cell_type": "code",
   "execution_count": 8,
   "metadata": {
    "ExecuteTime": {
     "end_time": "2020-06-07T21:58:29.274795Z",
     "start_time": "2020-06-07T21:58:29.271262Z"
    }
   },
   "outputs": [
    {
     "data": {
      "text/plain": [
       "{(1, 0), (3, 2), 0, 17, 23, 27, 'B', 'D', True, 'a', 'c'}"
      ]
     },
     "execution_count": 8,
     "metadata": {},
     "output_type": "execute_result"
    }
   ],
   "source": [
    "set_misto = {'a', 27, 'D', 23, True, 17, 0, 'B', 1, 'c', False, (1, 0), (3, 2), (1, 0)}\n",
    "set_misto"
   ]
  },
  {
   "cell_type": "markdown",
   "metadata": {},
   "source": [
    "Contanto que seus termos não sejam outros ``obejtos`` com estruturas ordenadas, como ``list`` e o próprio ``set``:"
   ]
  },
  {
   "cell_type": "code",
   "execution_count": 9,
   "metadata": {
    "ExecuteTime": {
     "end_time": "2020-06-07T21:58:31.463397Z",
     "start_time": "2020-06-07T21:58:31.457929Z"
    }
   },
   "outputs": [
    {
     "ename": "TypeError",
     "evalue": "unhashable type: 'list'",
     "output_type": "error",
     "traceback": [
      "\u001b[0;31m---------------------------------------------------------------------------\u001b[0m",
      "\u001b[0;31mTypeError\u001b[0m                                 Traceback (most recent call last)",
      "\u001b[0;32m<ipython-input-9-03b322a7539a>\u001b[0m in \u001b[0;36m<module>\u001b[0;34m\u001b[0m\n\u001b[0;32m----> 1\u001b[0;31m \u001b[0;34m{\u001b[0m\u001b[0;36m0\u001b[0m\u001b[0;34m,\u001b[0m \u001b[0;36m3\u001b[0m\u001b[0;34m,\u001b[0m \u001b[0;36m2\u001b[0m\u001b[0;34m,\u001b[0m \u001b[0;34m[\u001b[0m\u001b[0;36m0\u001b[0m\u001b[0;34m,\u001b[0m\u001b[0;36m1\u001b[0m\u001b[0;34m]\u001b[0m\u001b[0;34m}\u001b[0m\u001b[0;34m\u001b[0m\u001b[0;34m\u001b[0m\u001b[0m\n\u001b[0m",
      "\u001b[0;31mTypeError\u001b[0m: unhashable type: 'list'"
     ]
    }
   ],
   "source": [
    "{0, 3, 2, [0,1]}"
   ]
  },
  {
   "cell_type": "code",
   "execution_count": 10,
   "metadata": {
    "ExecuteTime": {
     "end_time": "2020-06-07T21:58:32.081115Z",
     "start_time": "2020-06-07T21:58:32.076095Z"
    }
   },
   "outputs": [
    {
     "ename": "TypeError",
     "evalue": "unhashable type: 'set'",
     "output_type": "error",
     "traceback": [
      "\u001b[0;31m---------------------------------------------------------------------------\u001b[0m",
      "\u001b[0;31mTypeError\u001b[0m                                 Traceback (most recent call last)",
      "\u001b[0;32m<ipython-input-10-b19b7775991d>\u001b[0m in \u001b[0;36m<module>\u001b[0;34m\u001b[0m\n\u001b[0;32m----> 1\u001b[0;31m \u001b[0;34m{\u001b[0m\u001b[0;36m0\u001b[0m\u001b[0;34m,\u001b[0m \u001b[0;36m3\u001b[0m\u001b[0;34m,\u001b[0m \u001b[0;36m2\u001b[0m\u001b[0;34m,\u001b[0m \u001b[0;34m{\u001b[0m\u001b[0;36m0\u001b[0m\u001b[0;34m,\u001b[0m\u001b[0;36m1\u001b[0m\u001b[0;34m}\u001b[0m\u001b[0;34m}\u001b[0m\u001b[0;34m\u001b[0m\u001b[0;34m\u001b[0m\u001b[0m\n\u001b[0m",
      "\u001b[0;31mTypeError\u001b[0m: unhashable type: 'set'"
     ]
    }
   ],
   "source": [
    "{0, 3, 2, {0,1}}"
   ]
  },
  {
   "cell_type": "markdown",
   "metadata": {},
   "source": [
    "Apesar disso, podemos remover termos de um ``set``. Para isso, podemos usar o ``método`` ``remove()``, que recebe um argumento sendo o termo que queremos remover do ``set``"
   ]
  },
  {
   "cell_type": "code",
   "execution_count": 11,
   "metadata": {
    "ExecuteTime": {
     "end_time": "2020-06-07T21:58:47.763999Z",
     "start_time": "2020-06-07T21:58:47.761404Z"
    }
   },
   "outputs": [],
   "source": [
    "# vamos redefinir o set_1 só para lembrar o que tem nele\n",
    "set_1 = {0, 1, 2, 3, 4}"
   ]
  },
  {
   "cell_type": "code",
   "execution_count": 12,
   "metadata": {
    "ExecuteTime": {
     "end_time": "2020-06-07T21:58:52.007001Z",
     "start_time": "2020-06-07T21:58:52.004451Z"
    }
   },
   "outputs": [],
   "source": [
    "# vamos remover o termo ``1``\n",
    "set_1.remove(1)"
   ]
  },
  {
   "cell_type": "code",
   "execution_count": 13,
   "metadata": {
    "ExecuteTime": {
     "end_time": "2020-06-07T21:58:52.603645Z",
     "start_time": "2020-06-07T21:58:52.600524Z"
    }
   },
   "outputs": [
    {
     "data": {
      "text/plain": [
       "{0, 2, 3, 4}"
      ]
     },
     "execution_count": 13,
     "metadata": {},
     "output_type": "execute_result"
    }
   ],
   "source": [
    "set_1"
   ]
  },
  {
   "cell_type": "markdown",
   "metadata": {},
   "source": [
    "Se tentamos remover um termo que não existe:"
   ]
  },
  {
   "cell_type": "code",
   "execution_count": 14,
   "metadata": {
    "ExecuteTime": {
     "end_time": "2020-06-07T21:58:54.807758Z",
     "start_time": "2020-06-07T21:58:54.801643Z"
    }
   },
   "outputs": [
    {
     "ename": "KeyError",
     "evalue": "10",
     "output_type": "error",
     "traceback": [
      "\u001b[0;31m---------------------------------------------------------------------------\u001b[0m",
      "\u001b[0;31mKeyError\u001b[0m                                  Traceback (most recent call last)",
      "\u001b[0;32m<ipython-input-14-43ea9c1cd88f>\u001b[0m in \u001b[0;36m<module>\u001b[0;34m\u001b[0m\n\u001b[0;32m----> 1\u001b[0;31m \u001b[0mset_1\u001b[0m\u001b[0;34m.\u001b[0m\u001b[0mremove\u001b[0m\u001b[0;34m(\u001b[0m\u001b[0;36m10\u001b[0m\u001b[0;34m)\u001b[0m\u001b[0;34m\u001b[0m\u001b[0;34m\u001b[0m\u001b[0m\n\u001b[0m",
      "\u001b[0;31mKeyError\u001b[0m: 10"
     ]
    }
   ],
   "source": [
    "set_1.remove(10)"
   ]
  },
  {
   "cell_type": "markdown",
   "metadata": {},
   "source": [
    "Vemos que ``KeyError`` é retornado, nos informando que o termo informado não existe.\n",
    "\n",
    "Outro ``método()`` que executa a mesma tarefa é o ``discard()``. Ele recebe um argumento com o termo que queremos remover, contudo, ele não retorna um erro quando o termo informado não existe no ``set``:"
   ]
  },
  {
   "cell_type": "code",
   "execution_count": 15,
   "metadata": {
    "ExecuteTime": {
     "end_time": "2020-06-07T21:58:58.666486Z",
     "start_time": "2020-06-07T21:58:58.663992Z"
    }
   },
   "outputs": [],
   "source": [
    "set_1.discard(10)"
   ]
  },
  {
   "cell_type": "markdown",
   "metadata": {},
   "source": [
    "Podemos usar o ``pop()`` também, assim como fizemos em uma lista, mas ele não recebe argumentos e dependendo da estrutura do ``set``, a ordem em que ele remove os elementos é arbitrária."
   ]
  },
  {
   "cell_type": "markdown",
   "metadata": {},
   "source": [
    "Se quisermos adicionar algum termo a um ``set``, podemos usar o método ``add()`` e fornecer como argumento o termo que queremos adicionar:"
   ]
  },
  {
   "cell_type": "code",
   "execution_count": 16,
   "metadata": {
    "ExecuteTime": {
     "end_time": "2020-06-07T22:02:21.417312Z",
     "start_time": "2020-06-07T22:02:21.414966Z"
    }
   },
   "outputs": [],
   "source": [
    "set_1.add(1)"
   ]
  },
  {
   "cell_type": "code",
   "execution_count": 17,
   "metadata": {
    "ExecuteTime": {
     "end_time": "2020-06-07T22:02:24.291704Z",
     "start_time": "2020-06-07T22:02:24.288424Z"
    }
   },
   "outputs": [
    {
     "data": {
      "text/plain": [
       "{0, 1, 2, 3, 4}"
      ]
     },
     "execution_count": 17,
     "metadata": {},
     "output_type": "execute_result"
    }
   ],
   "source": [
    "set_1"
   ]
  },
  {
   "cell_type": "markdown",
   "metadata": {},
   "source": [
    "Se quiseremos adicionar vários termos de uma vez, devemos usar o ``método`` ``union()``, cujo argumento é um outro ``set`` que será unido ao primeiro, no qual o ``método`` foi aplicado:"
   ]
  },
  {
   "cell_type": "code",
   "execution_count": 20,
   "metadata": {
    "ExecuteTime": {
     "end_time": "2020-06-07T22:04:42.574653Z",
     "start_time": "2020-06-07T22:04:42.570903Z"
    }
   },
   "outputs": [
    {
     "data": {
      "text/plain": [
       "{0, 1, 2, 3, 4, 5, 6, 7, 8, 9}"
      ]
     },
     "execution_count": 20,
     "metadata": {},
     "output_type": "execute_result"
    }
   ],
   "source": [
    "set_2.union(set_1)"
   ]
  },
  {
   "cell_type": "markdown",
   "metadata": {},
   "source": [
    "Contudo, observe que essa operação não altera a estrutura do ``objeto`` ``set_2``:"
   ]
  },
  {
   "cell_type": "code",
   "execution_count": 21,
   "metadata": {
    "ExecuteTime": {
     "end_time": "2020-06-07T22:05:12.746724Z",
     "start_time": "2020-06-07T22:05:12.743527Z"
    }
   },
   "outputs": [
    {
     "data": {
      "text/plain": [
       "{5, 6, 7, 8, 9}"
      ]
     },
     "execution_count": 21,
     "metadata": {},
     "output_type": "execute_result"
    }
   ],
   "source": [
    "set_2"
   ]
  },
  {
   "cell_type": "markdown",
   "metadata": {},
   "source": [
    "Vemos também que a ordem é preservado no ``set`` que é resultado da união. Se quisermos preservar o resultado, devemos guardar o valor retornado em uma variável:"
   ]
  },
  {
   "cell_type": "code",
   "execution_count": 22,
   "metadata": {
    "ExecuteTime": {
     "end_time": "2020-06-07T22:06:17.298371Z",
     "start_time": "2020-06-07T22:06:17.295693Z"
    }
   },
   "outputs": [
    {
     "data": {
      "text/plain": [
       "{0, 1, 2, 3, 4, 5, 6, 7, 8, 9}"
      ]
     },
     "execution_count": 22,
     "metadata": {},
     "output_type": "execute_result"
    }
   ],
   "source": [
    "set_3 = set_2.union(set_1)\n",
    "set_3"
   ]
  },
  {
   "cell_type": "markdown",
   "metadata": {},
   "source": [
    "Existem outros ``métodos`` muito úteis do ``objeto`` ``set``. Por exemplo, podemos usar o ``método`` ``intersection()`` para encontrar termos comuns entre dois ``sets``:"
   ]
  },
  {
   "cell_type": "code",
   "execution_count": 23,
   "metadata": {
    "ExecuteTime": {
     "end_time": "2020-06-07T22:06:52.213698Z",
     "start_time": "2020-06-07T22:06:52.208180Z"
    }
   },
   "outputs": [
    {
     "data": {
      "text/plain": [
       "{0, 1, 2, 3, 4}"
      ]
     },
     "execution_count": 23,
     "metadata": {},
     "output_type": "execute_result"
    }
   ],
   "source": [
    "set_3.intersection(set_1)"
   ]
  },
  {
   "cell_type": "code",
   "execution_count": 24,
   "metadata": {
    "ExecuteTime": {
     "end_time": "2020-06-07T22:07:36.483215Z",
     "start_time": "2020-06-07T22:07:36.479604Z"
    }
   },
   "outputs": [
    {
     "data": {
      "text/plain": [
       "{5, 6, 7, 8, 9}"
      ]
     },
     "execution_count": 24,
     "metadata": {},
     "output_type": "execute_result"
    }
   ],
   "source": [
    "set_3.intersection(set_2)"
   ]
  },
  {
   "cell_type": "markdown",
   "metadata": {},
   "source": [
    "Também podemos verificar se um ``set`` é ``subset`` de outro, isto é, quando todo elemente de um conjunto está contido em outro conjunto. Para verificar isso, usamos o ``método`` ``issubset()``. O ``método`` é aplicado no ``objeto``que queremos investigar ser um ``subset`` do ``objeto`` fornecido como argumento para o ``método``. Por exemplo, vamos verificar se o ``set_1`` é um ``subset`` de ``set_2``:"
   ]
  },
  {
   "cell_type": "code",
   "execution_count": 27,
   "metadata": {
    "ExecuteTime": {
     "end_time": "2020-06-07T22:11:57.646001Z",
     "start_time": "2020-06-07T22:11:57.642373Z"
    }
   },
   "outputs": [
    {
     "data": {
      "text/plain": [
       "False"
      ]
     },
     "execution_count": 27,
     "metadata": {},
     "output_type": "execute_result"
    }
   ],
   "source": [
    "set_1.issubset(set_2)"
   ]
  },
  {
   "cell_type": "markdown",
   "metadata": {},
   "source": [
    "O valor retornado é ``False``, nos informando que ``set_1`` não é um ``subset`` de ``set_2``. Contudo, se perguntarmos se ``set_1`` é um ``subset`` de ``set_3``:"
   ]
  },
  {
   "cell_type": "code",
   "execution_count": 28,
   "metadata": {
    "ExecuteTime": {
     "end_time": "2020-06-07T22:12:49.406624Z",
     "start_time": "2020-06-07T22:12:49.403687Z"
    }
   },
   "outputs": [
    {
     "data": {
      "text/plain": [
       "True"
      ]
     },
     "execution_count": 28,
     "metadata": {},
     "output_type": "execute_result"
    }
   ],
   "source": [
    "set_1.issubset(set_3)"
   ]
  },
  {
   "cell_type": "markdown",
   "metadata": {},
   "source": [
    "O valor ``True`` é retornado, pois todos os elementos de ``set_1`` estão contido no ``set_3``. Dizemos então que o ``set_1`` é um ``subset`` de ``set_3``. Ou nentão, que ``set_3`` é um ``superset`` de ``set_1``, o que pode ser verificado usando o ``método`` ``issuperset()``:"
   ]
  },
  {
   "cell_type": "code",
   "execution_count": 33,
   "metadata": {
    "ExecuteTime": {
     "end_time": "2020-06-07T22:24:58.170899Z",
     "start_time": "2020-06-07T22:24:58.167546Z"
    }
   },
   "outputs": [
    {
     "data": {
      "text/plain": [
       "True"
      ]
     },
     "execution_count": 33,
     "metadata": {},
     "output_type": "execute_result"
    }
   ],
   "source": [
    "set_3.issuperset(set_1)"
   ]
  },
  {
   "cell_type": "markdown",
   "metadata": {},
   "source": [
    "Também podemos encontrar quais elementos são diferentes entres os ``sets``. Para isso, usamos o método ``difference()``, que recebe como argumento outro ``set``:"
   ]
  },
  {
   "cell_type": "code",
   "execution_count": 31,
   "metadata": {
    "ExecuteTime": {
     "end_time": "2020-06-07T22:21:30.971552Z",
     "start_time": "2020-06-07T22:21:30.968535Z"
    }
   },
   "outputs": [
    {
     "data": {
      "text/plain": [
       "{5, 6, 7, 8, 9}"
      ]
     },
     "execution_count": 31,
     "metadata": {},
     "output_type": "execute_result"
    }
   ],
   "source": [
    "set_3.difference(set_1)"
   ]
  },
  {
   "cell_type": "markdown",
   "metadata": {},
   "source": [
    "Se tentarmos inverter a ordem dos ``sets``:"
   ]
  },
  {
   "cell_type": "code",
   "execution_count": 32,
   "metadata": {
    "ExecuteTime": {
     "end_time": "2020-06-07T22:23:04.274614Z",
     "start_time": "2020-06-07T22:23:04.271484Z"
    }
   },
   "outputs": [
    {
     "data": {
      "text/plain": [
       "set()"
      ]
     },
     "execution_count": 32,
     "metadata": {},
     "output_type": "execute_result"
    }
   ],
   "source": [
    "set_1.difference(set_3)"
   ]
  },
  {
   "cell_type": "markdown",
   "metadata": {},
   "source": [
    "O resultado retornado é um ``set`` vazio, pois ``set_1`` é um ``subset`` de ``set_3``, de modo que todos seus termos são encontrados em ``set_3``."
   ]
  },
  {
   "cell_type": "markdown",
   "metadata": {},
   "source": [
    "Assim como observado nas ``listas``, com exceção de ``union()``, os ``métodos()`` aplicados a um ``set()`` fazem uma mudança implícita no ``objeto``, isto é, uma mudança ``in place``."
   ]
  },
  {
   "cell_type": "markdown",
   "metadata": {},
   "source": [
    "<a class='section' id='dicionarios'></a>\n",
    "# Dicionários"
   ]
  },
  {
   "cell_type": "markdown",
   "metadata": {},
   "source": [
    "Outra ``objeto`` que encontramos com uma estrutura ordenada são os ``dicionários``. Diferente de ``listas``, ``tuplas`` e ``sets``, dicionários são criados fornecendo uma ``chave`` e um ``valor`` separados por ``:``. Um dicionário pode conter diversos ``itens`` ``chave:valor``, os quais devem ser separados por ``,``. Para criar um dicionário, também usamos os ``itens`` ``chave:valor`` dentro de chaves ``{}``:"
   ]
  },
  {
   "cell_type": "code",
   "execution_count": 2,
   "metadata": {
    "ExecuteTime": {
     "end_time": "2020-06-08T14:55:34.913909Z",
     "start_time": "2020-06-08T14:55:34.910806Z"
    }
   },
   "outputs": [],
   "source": [
    "notas_turma_1_prova_1 = {'Joao': 7, 'Maria': 8, 'Heraldo': 9, 'Jose': 5, 'Helena': 10, 'Eduardo': 3}"
   ]
  },
  {
   "cell_type": "code",
   "execution_count": 3,
   "metadata": {
    "ExecuteTime": {
     "end_time": "2020-06-08T14:55:35.504385Z",
     "start_time": "2020-06-08T14:55:35.501906Z"
    }
   },
   "outputs": [
    {
     "data": {
      "text/plain": [
       "{'Joao': 7, 'Maria': 8, 'Heraldo': 9, 'Jose': 5, 'Helena': 10, 'Eduardo': 3}"
      ]
     },
     "execution_count": 3,
     "metadata": {},
     "output_type": "execute_result"
    }
   ],
   "source": [
    "notas_turma_1_prova_1"
   ]
  },
  {
   "cell_type": "markdown",
   "metadata": {},
   "source": [
    "Inspecionando o ``tipo`` desse ``objeto``:"
   ]
  },
  {
   "cell_type": "code",
   "execution_count": 4,
   "metadata": {
    "ExecuteTime": {
     "end_time": "2020-06-08T14:55:37.175476Z",
     "start_time": "2020-06-08T14:55:37.171707Z"
    }
   },
   "outputs": [
    {
     "data": {
      "text/plain": [
       "dict"
      ]
     },
     "execution_count": 4,
     "metadata": {},
     "output_type": "execute_result"
    }
   ],
   "source": [
    "type(notas_turma_1_prova_1)"
   ]
  },
  {
   "cell_type": "markdown",
   "metadata": {},
   "source": [
    "Podemos obter o tamanho do ``dicionário`` usando a ``função`` ``len()``:"
   ]
  },
  {
   "cell_type": "code",
   "execution_count": 6,
   "metadata": {
    "ExecuteTime": {
     "end_time": "2020-06-08T14:55:45.650359Z",
     "start_time": "2020-06-08T14:55:45.646989Z"
    }
   },
   "outputs": [
    {
     "data": {
      "text/plain": [
       "6"
      ]
     },
     "execution_count": 6,
     "metadata": {},
     "output_type": "execute_result"
    }
   ],
   "source": [
    "len(notas_turma_1_prova_1)"
   ]
  },
  {
   "cell_type": "markdown",
   "metadata": {},
   "source": [
    "Outra forma de se construir um ``dicionário`` é usando ``dict()``, forncendo as ``chaves`` e os ``valores`` separados por ``=``:"
   ]
  },
  {
   "cell_type": "code",
   "execution_count": 7,
   "metadata": {
    "ExecuteTime": {
     "end_time": "2020-06-08T14:56:55.956076Z",
     "start_time": "2020-06-08T14:56:55.952097Z"
    }
   },
   "outputs": [
    {
     "data": {
      "text/plain": [
       "{'Joao': 7, 'Maria': 8, 'Heraldo': 9, 'Jose': 5, 'Helena': 10, 'Eduardo': 3}"
      ]
     },
     "execution_count": 7,
     "metadata": {},
     "output_type": "execute_result"
    }
   ],
   "source": [
    "dict(Joao=7, Maria=8, Heraldo=9, Jose=5, Helena=10, Eduardo=3)"
   ]
  },
  {
   "cell_type": "markdown",
   "metadata": {},
   "source": [
    "Para saber o significado de uma palavra, procuramos por essa palavra em um ``dicionário``. Lá encontramos a palavra e na frente seu significado. Podemos dizer que a palavra juntamente com seu significado é um ``item`` do dicionário, de maneira que esse é composto por vários ``itens``. \n",
    "\n",
    "Em ``python``, a palavra que procuramos é a ``chave`` (termo à esquerda de ``:`` em cada ``item``), e o ``valor`` (termo à direita de ``:`` em cada ``item``) é o significado daquela palavra. \n",
    "\n",
    "Criamos um ``dicionário`` cujas ``chaves`` são os nomes dos alunos e os ``valores`` correspondentes de cada ``item`` são as notas deles. Para acessar a nota de um aluno, ou seja o ``valor`` associado à ``chave`` de um ``item``, usamos colchetes ``[]`` na frente de nosso ``dicionário`` e fornecemos a ``chave``. Por exemplo, se quisermos saber a nota do ``'Heraldo'``, basta escrevermos:"
   ]
  },
  {
   "cell_type": "code",
   "execution_count": 8,
   "metadata": {
    "ExecuteTime": {
     "end_time": "2020-06-08T14:56:57.864175Z",
     "start_time": "2020-06-08T14:56:57.861030Z"
    }
   },
   "outputs": [
    {
     "data": {
      "text/plain": [
       "9"
      ]
     },
     "execution_count": 8,
     "metadata": {},
     "output_type": "execute_result"
    }
   ],
   "source": [
    "notas_turma_1_prova_1['Heraldo']"
   ]
  },
  {
   "cell_type": "markdown",
   "metadata": {},
   "source": [
    "O mesmo poderia ser obtido usando o ``método`` ``get()``, fornecendo como argumento a ``chave`` de interesse:"
   ]
  },
  {
   "cell_type": "code",
   "execution_count": 9,
   "metadata": {
    "ExecuteTime": {
     "end_time": "2020-06-08T14:57:02.383244Z",
     "start_time": "2020-06-08T14:57:02.379952Z"
    }
   },
   "outputs": [
    {
     "data": {
      "text/plain": [
       "9"
      ]
     },
     "execution_count": 9,
     "metadata": {},
     "output_type": "execute_result"
    }
   ],
   "source": [
    "notas_turma_1_prova_1.get('Heraldo')"
   ]
  },
  {
   "cell_type": "markdown",
   "metadata": {},
   "source": [
    "Vamos supor que um aluno foi fazer a prova em um outro dia e temos que adicioná-lo ao ``dicionário``. Para fazer isso, simplesmente fornecemos o nome dele, ou seja, a ``chave`` dentro dos colchetes ``[]`` e atribuímos à essa entrada do ``dicionário`` o ``valor``, ou seja, a nota dele:"
   ]
  },
  {
   "cell_type": "code",
   "execution_count": 10,
   "metadata": {
    "ExecuteTime": {
     "end_time": "2020-06-08T14:57:06.647008Z",
     "start_time": "2020-06-08T14:57:06.644816Z"
    }
   },
   "outputs": [],
   "source": [
    "# Camila fez a prova depois e tirou 5\n",
    "notas_turma_1_prova_1['Camila'] = 5"
   ]
  },
  {
   "cell_type": "code",
   "execution_count": 11,
   "metadata": {
    "ExecuteTime": {
     "end_time": "2020-06-08T14:57:07.342980Z",
     "start_time": "2020-06-08T14:57:07.340252Z"
    }
   },
   "outputs": [
    {
     "data": {
      "text/plain": [
       "{'Joao': 7,\n",
       " 'Maria': 8,\n",
       " 'Heraldo': 9,\n",
       " 'Jose': 5,\n",
       " 'Helena': 10,\n",
       " 'Eduardo': 3,\n",
       " 'Camila': 5}"
      ]
     },
     "execution_count": 11,
     "metadata": {},
     "output_type": "execute_result"
    }
   ],
   "source": [
    "# veja que Camila foi adicionada ao dicionário\n",
    "notas_turma_1_prova_1"
   ]
  },
  {
   "cell_type": "markdown",
   "metadata": {},
   "source": [
    "Contudo, mais três outros alunos vieram fazer a prova numa outra chance que o Professor deu:"
   ]
  },
  {
   "cell_type": "code",
   "execution_count": 12,
   "metadata": {
    "ExecuteTime": {
     "end_time": "2020-06-08T14:57:11.830015Z",
     "start_time": "2020-06-08T14:57:11.827877Z"
    }
   },
   "outputs": [],
   "source": [
    "terceira_chance = {'Bernardo': 4, 'Lazaro': 8, 'Plinio': 6}"
   ]
  },
  {
   "cell_type": "markdown",
   "metadata": {},
   "source": [
    "Para adicionar todos esses novos ``itens`` ao nosso ``dicionário``, podemos usar o ``método`` ``update()``. O ``método`` é aplicado ao ``dicionário`` que queremos atualizar e o argumento é o ``dicionário`` que queremos incluir com os novos ``itens``:"
   ]
  },
  {
   "cell_type": "code",
   "execution_count": 13,
   "metadata": {
    "ExecuteTime": {
     "end_time": "2020-06-08T14:57:15.045381Z",
     "start_time": "2020-06-08T14:57:15.042830Z"
    }
   },
   "outputs": [],
   "source": [
    "notas_turma_1_prova_1.update(terceira_chance)"
   ]
  },
  {
   "cell_type": "code",
   "execution_count": 14,
   "metadata": {
    "ExecuteTime": {
     "end_time": "2020-06-08T14:57:15.657746Z",
     "start_time": "2020-06-08T14:57:15.654905Z"
    }
   },
   "outputs": [
    {
     "data": {
      "text/plain": [
       "{'Joao': 7,\n",
       " 'Maria': 8,\n",
       " 'Heraldo': 9,\n",
       " 'Jose': 5,\n",
       " 'Helena': 10,\n",
       " 'Eduardo': 3,\n",
       " 'Camila': 5,\n",
       " 'Bernardo': 4,\n",
       " 'Lazaro': 8,\n",
       " 'Plinio': 6}"
      ]
     },
     "execution_count": 14,
     "metadata": {},
     "output_type": "execute_result"
    }
   ],
   "source": [
    "notas_turma_1_prova_1"
   ]
  },
  {
   "cell_type": "markdown",
   "metadata": {},
   "source": [
    "Suponha agora que um aluno foi ver sua prova e achou algo que o professor acabou considerando e a nota dele deve ser alterada. Basta atribuir o novo ``valor`` ao ``dicionário`` usando a ``chave`` em questão:"
   ]
  },
  {
   "cell_type": "code",
   "execution_count": 15,
   "metadata": {
    "ExecuteTime": {
     "end_time": "2020-06-08T14:57:23.887683Z",
     "start_time": "2020-06-08T14:57:23.885865Z"
    }
   },
   "outputs": [],
   "source": [
    "# Eduardo foi ver sua prova e acabou ficando com 5\n",
    "notas_turma_1_prova_1['Eduardo'] = 5"
   ]
  },
  {
   "cell_type": "code",
   "execution_count": 16,
   "metadata": {
    "ExecuteTime": {
     "end_time": "2020-06-08T14:57:24.492882Z",
     "start_time": "2020-06-08T14:57:24.489652Z"
    }
   },
   "outputs": [
    {
     "data": {
      "text/plain": [
       "{'Joao': 7,\n",
       " 'Maria': 8,\n",
       " 'Heraldo': 9,\n",
       " 'Jose': 5,\n",
       " 'Helena': 10,\n",
       " 'Eduardo': 5,\n",
       " 'Camila': 5,\n",
       " 'Bernardo': 4,\n",
       " 'Lazaro': 8,\n",
       " 'Plinio': 6}"
      ]
     },
     "execution_count": 16,
     "metadata": {},
     "output_type": "execute_result"
    }
   ],
   "source": [
    "# veja que a nota de Eduardo foi atualizada\n",
    "notas_turma_1_prova_1"
   ]
  },
  {
   "cell_type": "markdown",
   "metadata": {},
   "source": [
    "O Professor não tinha tomado café suficiente quando lançou as notas e depois percebeu que ``'Jose'`` não é da turma 1. Assim, vamos deletar esse item do dicionário. Para isso, podemos usar o operador ``del`` e fornecer a ``chave`` do ``item`` que queremos deletar:"
   ]
  },
  {
   "cell_type": "code",
   "execution_count": 17,
   "metadata": {
    "ExecuteTime": {
     "end_time": "2020-06-08T14:57:37.123023Z",
     "start_time": "2020-06-08T14:57:37.120766Z"
    }
   },
   "outputs": [],
   "source": [
    "del notas_turma_1_prova_1['Jose']"
   ]
  },
  {
   "cell_type": "code",
   "execution_count": 18,
   "metadata": {
    "ExecuteTime": {
     "end_time": "2020-06-08T14:57:37.629582Z",
     "start_time": "2020-06-08T14:57:37.626643Z"
    }
   },
   "outputs": [
    {
     "data": {
      "text/plain": [
       "{'Joao': 7,\n",
       " 'Maria': 8,\n",
       " 'Heraldo': 9,\n",
       " 'Helena': 10,\n",
       " 'Eduardo': 5,\n",
       " 'Camila': 5,\n",
       " 'Bernardo': 4,\n",
       " 'Lazaro': 8,\n",
       " 'Plinio': 6}"
      ]
     },
     "execution_count": 18,
     "metadata": {},
     "output_type": "execute_result"
    }
   ],
   "source": [
    "notas_turma_1_prova_1"
   ]
  },
  {
   "cell_type": "markdown",
   "metadata": {
    "ExecuteTime": {
     "end_time": "2020-06-07T23:12:22.260393Z",
     "start_time": "2020-06-07T23:12:22.257001Z"
    }
   },
   "source": [
    "O mesmo resultado poderia ter sido obtido usando o ``método`` ``pop()``:\n",
    "\n",
    "```python\n",
    ">>> print(notas_turma_1_prova_1)\n",
    "{'Joao': 7, 'Maria': 8, 'Heraldo': 9, 'Jose': 5, 'Helena': 10, 'Eduardo': 3}\n",
    ">>> notas_turma_1_prova_1.pop('Jose')\n",
    ">>> print(notas_turma_1_prova_1)\n",
    "{'Joao': 7, 'Maria': 8, 'Heraldo': 9, 'Helena': 10, 'Eduardo': 3}\n",
    "```"
   ]
  },
  {
   "cell_type": "markdown",
   "metadata": {},
   "source": [
    "Nesse nosso cenário, ``'Plinio'`` foi o último a ser adicionado ao ``dicionário`` por ter feito a prova depois. Contudo, o Professor acabou colocando sua nota na turma errada. Podemos usar o ``método`` ``popitem()`` para deletar o último ``item`` adicionado:"
   ]
  },
  {
   "cell_type": "code",
   "execution_count": 19,
   "metadata": {
    "ExecuteTime": {
     "end_time": "2020-06-08T14:57:52.323082Z",
     "start_time": "2020-06-08T14:57:52.320602Z"
    }
   },
   "outputs": [
    {
     "data": {
      "text/plain": [
       "('Plinio', 6)"
      ]
     },
     "execution_count": 19,
     "metadata": {},
     "output_type": "execute_result"
    }
   ],
   "source": [
    "notas_turma_1_prova_1.popitem()"
   ]
  },
  {
   "cell_type": "code",
   "execution_count": 20,
   "metadata": {
    "ExecuteTime": {
     "end_time": "2020-06-08T14:58:20.243331Z",
     "start_time": "2020-06-08T14:58:20.239461Z"
    }
   },
   "outputs": [
    {
     "data": {
      "text/plain": [
       "{'Joao': 7,\n",
       " 'Maria': 8,\n",
       " 'Heraldo': 9,\n",
       " 'Helena': 10,\n",
       " 'Eduardo': 5,\n",
       " 'Camila': 5,\n",
       " 'Bernardo': 4,\n",
       " 'Lazaro': 8}"
      ]
     },
     "execution_count": 20,
     "metadata": {},
     "output_type": "execute_result"
    }
   ],
   "source": [
    "notas_turma_1_prova_1"
   ]
  },
  {
   "cell_type": "markdown",
   "metadata": {},
   "source": [
    "Quando o último ``item`` adicionado foi removido, todo uso do ``método`` ``popitem()`` irá retirar o último ``item`` do ``dicionário``."
   ]
  },
  {
   "cell_type": "markdown",
   "metadata": {
    "ExecuteTime": {
     "end_time": "2020-06-07T23:55:05.183234Z",
     "start_time": "2020-06-07T23:55:05.180159Z"
    }
   },
   "source": [
    "Qualquer ``objeto`` pode ser o ``valor`` de um ``dicionário``, contudo, nem todo ``objeto`` pode ser a ``chave`` de um ``dicionário``. Isso decorre do fato de que as ``chaves`` de um ``dicionário`` devem ser únicas. Assim como cada palavra tem sua descrição em um dicionário, aqui, cada ``chave`` ser única e ter seu valor atribuído:"
   ]
  },
  {
   "cell_type": "code",
   "execution_count": 21,
   "metadata": {
    "ExecuteTime": {
     "end_time": "2020-06-08T15:00:40.578059Z",
     "start_time": "2020-06-08T15:00:40.575444Z"
    }
   },
   "outputs": [
    {
     "data": {
      "text/plain": [
       "{'Joao': 4, 'Maria': 5}"
      ]
     },
     "execution_count": 21,
     "metadata": {},
     "output_type": "execute_result"
    }
   ],
   "source": [
    "# tentamos criar um dicionário com duas ``chaves`` iguais\n",
    "{'Joao': 3, 'Maria': 5, 'Joao': 4}"
   ]
  },
  {
   "cell_type": "markdown",
   "metadata": {},
   "source": [
    "Dessa forma, ``listas`` e ``tuplas`` não podem ser ``chaves`` de um ``dicionário``. "
   ]
  },
  {
   "cell_type": "markdown",
   "metadata": {},
   "source": [
    "Um ``dicionário`` pode ter outros ``dicionários`` como ``valores``. O Professor deu outra prova já e decidiu estruturar melhor os dados, ou seja, os nomes dos alunos e suas notas. Para isso ele criou o seguinte dicionário:"
   ]
  },
  {
   "cell_type": "code",
   "execution_count": 18,
   "metadata": {
    "ExecuteTime": {
     "end_time": "2020-06-08T15:38:47.068920Z",
     "start_time": "2020-06-08T15:38:47.064561Z"
    }
   },
   "outputs": [],
   "source": [
    "notas_turma_1 = {\n",
    "    'Prova 1': {\n",
    "        'Joao'    : 7,\n",
    "        'Maria'   : 8,\n",
    "        'Heraldo' : 9,\n",
    "        'Helena'  : 10,\n",
    "        'Eduardo' : 5,\n",
    "        'Camila'  : 5,\n",
    "        'Bernardo': 4,\n",
    "        'Lazaro'  : 8\n",
    "    },\n",
    "    'Prova 2': {\n",
    "        'Joao'    : 7,\n",
    "        'Maria'   : 9,\n",
    "        'Heraldo' : 7,\n",
    "        'Helena'  : 5,\n",
    "        'Eduardo' : 7,\n",
    "        'Camila'  : 8,\n",
    "        'Bernardo': 9,\n",
    "        'Lazaro'  : 4\n",
    "    }\n",
    "}"
   ]
  },
  {
   "cell_type": "markdown",
   "metadata": {},
   "source": [
    "Vamos inspecionar o ``dicionário`` criado:"
   ]
  },
  {
   "cell_type": "code",
   "execution_count": 27,
   "metadata": {
    "ExecuteTime": {
     "end_time": "2020-06-08T15:38:52.552340Z",
     "start_time": "2020-06-08T15:38:52.548546Z"
    }
   },
   "outputs": [
    {
     "data": {
      "text/plain": [
       "{'Prova 1': {'Joao': 7,\n",
       "  'Maria': 8,\n",
       "  'Heraldo': 9,\n",
       "  'Helena': 10,\n",
       "  'Eduardo': 5,\n",
       "  'Camila': 5,\n",
       "  'Bernardo': 4,\n",
       "  'Lazaro': 8},\n",
       " 'Prova 2': {'Joao': 7,\n",
       "  'Maria': 9,\n",
       "  'Heraldo': 7,\n",
       "  'Helena': 5,\n",
       "  'Eduardo': 7,\n",
       "  'Camila': 8,\n",
       "  'Bernardo': 9,\n",
       "  'Lazaro': 4}}"
      ]
     },
     "execution_count": 27,
     "metadata": {},
     "output_type": "execute_result"
    }
   ],
   "source": [
    "notas_turma_1"
   ]
  },
  {
   "cell_type": "markdown",
   "metadata": {},
   "source": [
    "O ``dicionário`` criado possui dois ``itens``. As ``chaves`` são as ``strings`` ``'Prova 1'`` e ``'Prova 2'``. Os ``valores`` de cada uma dessas ``chaves`` são outros ``dicionários``, contendo como ``chaves`` os nomes dos alunos e como ``valores`` suas notas em cada prova, respectivamente. Portanto, se quisermos as notas da ``'Prova 1'`` da turma 1, basta usarmos o dicionário criado com a ``chave`` ``'Prova 1'``:"
   ]
  },
  {
   "cell_type": "code",
   "execution_count": 28,
   "metadata": {
    "ExecuteTime": {
     "end_time": "2020-06-08T15:48:41.233134Z",
     "start_time": "2020-06-08T15:48:41.230292Z"
    }
   },
   "outputs": [
    {
     "data": {
      "text/plain": [
       "{'Joao': 7,\n",
       " 'Maria': 8,\n",
       " 'Heraldo': 9,\n",
       " 'Helena': 10,\n",
       " 'Eduardo': 5,\n",
       " 'Camila': 5,\n",
       " 'Bernardo': 4,\n",
       " 'Lazaro': 8}"
      ]
     },
     "execution_count": 28,
     "metadata": {},
     "output_type": "execute_result"
    }
   ],
   "source": [
    "notas_turma_1['Prova 1']"
   ]
  },
  {
   "cell_type": "markdown",
   "metadata": {},
   "source": [
    "Se quiseremos saber a nota de um aluno em particular, como ``'Joao'``, basta passarmos a ``chave`` para esse ``dicionário``:"
   ]
  },
  {
   "cell_type": "code",
   "execution_count": 29,
   "metadata": {
    "ExecuteTime": {
     "end_time": "2020-06-08T15:50:30.946901Z",
     "start_time": "2020-06-08T15:50:30.943637Z"
    }
   },
   "outputs": [
    {
     "data": {
      "text/plain": [
       "7"
      ]
     },
     "execution_count": 29,
     "metadata": {},
     "output_type": "execute_result"
    }
   ],
   "source": [
    "notas_turma_1['Prova 1']['Joao']"
   ]
  },
  {
   "cell_type": "markdown",
   "metadata": {},
   "source": [
    "Vamos supor que temos uma ``'Turma 2'``. Podemos criar um ``dicionário`` parecido com o primeiro para acessar as notas das ``'Prova 1'`` e ``'Prova 2'``:"
   ]
  },
  {
   "cell_type": "code",
   "execution_count": 19,
   "metadata": {
    "ExecuteTime": {
     "end_time": "2020-06-08T16:04:28.843624Z",
     "start_time": "2020-06-08T16:04:28.840659Z"
    }
   },
   "outputs": [],
   "source": [
    "notas_turma_2 = {\n",
    "    'Prova 1': {\n",
    "        'Jose'    : 5,\n",
    "        'Plinio'  : 5,\n",
    "        'Rogerio' : 7,\n",
    "        'Mercedes': 7,\n",
    "        'Katarina': 8,\n",
    "        'Larissa' : 7\n",
    "    },\n",
    "    'Prova 2': {\n",
    "        'Jose'    : 7,\n",
    "        'Plinio'  : 6,\n",
    "        'Rogerio' : 4,\n",
    "        'Mercedes': 9,\n",
    "        'Katarina': 9,\n",
    "        'Larissa' : 10\n",
    "    }\n",
    "}"
   ]
  },
  {
   "cell_type": "markdown",
   "metadata": {},
   "source": [
    "Podemos acessar a nota da ``'Prova 2'``:"
   ]
  },
  {
   "cell_type": "code",
   "execution_count": 31,
   "metadata": {
    "ExecuteTime": {
     "end_time": "2020-06-08T16:05:15.025938Z",
     "start_time": "2020-06-08T16:05:15.023222Z"
    }
   },
   "outputs": [
    {
     "data": {
      "text/plain": [
       "{'Jose': 7,\n",
       " 'Plinio': 6,\n",
       " 'Rogerio': 4,\n",
       " 'Mercedes': 9,\n",
       " 'Katarina': 9,\n",
       " 'Larissa': 10}"
      ]
     },
     "execution_count": 31,
     "metadata": {},
     "output_type": "execute_result"
    }
   ],
   "source": [
    "notas_turma_2['Prova 2']"
   ]
  },
  {
   "cell_type": "markdown",
   "metadata": {},
   "source": [
    "E se quisermos saber a nota de alguém em particular, como a ``'Mercedes'``:"
   ]
  },
  {
   "cell_type": "code",
   "execution_count": 32,
   "metadata": {
    "ExecuteTime": {
     "end_time": "2020-06-08T16:05:51.547194Z",
     "start_time": "2020-06-08T16:05:51.542604Z"
    }
   },
   "outputs": [
    {
     "data": {
      "text/plain": [
       "9"
      ]
     },
     "execution_count": 32,
     "metadata": {},
     "output_type": "execute_result"
    }
   ],
   "source": [
    "notas_turma_2['Prova 2']['Mercedes']"
   ]
  },
  {
   "cell_type": "markdown",
   "metadata": {},
   "source": [
    "Para sermos mais concisos, podemos criar um único ``dicionário`` com ``chaves`` sendo ``'Turma 1'`` e ``'Turma 2'`` de maneira que tenhamos todos os dados dos alunos dessas turma e de ambas as provas. Podemos realizar essa tarefa criando um ``dicionário`` da seguinte forma:"
   ]
  },
  {
   "cell_type": "code",
   "execution_count": 20,
   "metadata": {
    "ExecuteTime": {
     "end_time": "2020-06-08T16:08:05.367556Z",
     "start_time": "2020-06-08T16:08:05.365433Z"
    }
   },
   "outputs": [],
   "source": [
    "notas_de_fisica = {'Turma 1': notas_turma_1, 'Turma 2': notas_turma_2}"
   ]
  },
  {
   "cell_type": "markdown",
   "metadata": {},
   "source": [
    "Assim, quando acessamos a ``chave`` ``'Turma 1'`` no ``dicionário`` ``notas_de_fisica``, obtemos as notas de todos os alunos em ambas as provas:"
   ]
  },
  {
   "cell_type": "code",
   "execution_count": 34,
   "metadata": {
    "ExecuteTime": {
     "end_time": "2020-06-08T16:09:01.252666Z",
     "start_time": "2020-06-08T16:09:01.249394Z"
    }
   },
   "outputs": [
    {
     "data": {
      "text/plain": [
       "{'Prova 1': {'Joao': 7,\n",
       "  'Maria': 8,\n",
       "  'Heraldo': 9,\n",
       "  'Helena': 10,\n",
       "  'Eduardo': 5,\n",
       "  'Camila': 5,\n",
       "  'Bernardo': 4,\n",
       "  'Lazaro': 8},\n",
       " 'Prova 2': {'Joao': 7,\n",
       "  'Maria': 9,\n",
       "  'Heraldo': 7,\n",
       "  'Helena': 5,\n",
       "  'Eduardo': 7,\n",
       "  'Camila': 8,\n",
       "  'Bernardo': 9,\n",
       "  'Lazaro': 4}}"
      ]
     },
     "execution_count": 34,
     "metadata": {},
     "output_type": "execute_result"
    }
   ],
   "source": [
    "notas_de_fisica['Turma 1']"
   ]
  },
  {
   "cell_type": "markdown",
   "metadata": {},
   "source": [
    "E podemos ir acessando as chaves que quisermos:"
   ]
  },
  {
   "cell_type": "code",
   "execution_count": 35,
   "metadata": {
    "ExecuteTime": {
     "end_time": "2020-06-08T16:09:29.501829Z",
     "start_time": "2020-06-08T16:09:29.498564Z"
    }
   },
   "outputs": [
    {
     "data": {
      "text/plain": [
       "7"
      ]
     },
     "execution_count": 35,
     "metadata": {},
     "output_type": "execute_result"
    }
   ],
   "source": [
    "notas_de_fisica['Turma 1']['Prova 2']['Heraldo']"
   ]
  },
  {
   "cell_type": "markdown",
   "metadata": {},
   "source": [
    "Essa parte de estruturar os dados é importante, pois vemos que o acesso aos dados é facilitado pela disposição que criamos. Mais a frente iremos lidar com um ``objeto`` diferente dos dicionários que nos permite uma visualização e manipulação melhor dos dados. Contudo, saber como ``dicinonários`` funcionam ajudam na criação e entendimento desse novo ``objeto``."
   ]
  },
  {
   "cell_type": "markdown",
   "metadata": {},
   "source": [
    "Estamos com muitos alunos e acabamos esquecendo os nomes. Para verificar então todos os nomes, ou no nosso caso, todas as ``chaves`` de um ``dicionário``, usamos o ``método`` ``keys()``:"
   ]
  },
  {
   "cell_type": "code",
   "execution_count": 98,
   "metadata": {
    "ExecuteTime": {
     "end_time": "2020-06-07T23:32:06.406022Z",
     "start_time": "2020-06-07T23:32:06.403388Z"
    }
   },
   "outputs": [
    {
     "data": {
      "text/plain": [
       "dict_keys(['Joao', 'Maria', 'Heraldo', 'Helena', 'Eduardo'])"
      ]
     },
     "execution_count": 98,
     "metadata": {},
     "output_type": "execute_result"
    }
   ],
   "source": [
    "notas_turma_1_prova_1.keys()"
   ]
  },
  {
   "cell_type": "markdown",
   "metadata": {},
   "source": [
    "Podemos acessar somente as notas também, ou seja, somente os ``valores`` do ``dicionário`` usando o ``método`` ``values()``:"
   ]
  },
  {
   "cell_type": "code",
   "execution_count": 99,
   "metadata": {
    "ExecuteTime": {
     "end_time": "2020-06-07T23:33:07.992718Z",
     "start_time": "2020-06-07T23:33:07.990016Z"
    }
   },
   "outputs": [
    {
     "data": {
      "text/plain": [
       "dict_values([7, 8, 9, 10, 5])"
      ]
     },
     "execution_count": 99,
     "metadata": {},
     "output_type": "execute_result"
    }
   ],
   "source": [
    "notas_turma_1_prova_1.values()"
   ]
  },
  {
   "cell_type": "markdown",
   "metadata": {
    "ExecuteTime": {
     "end_time": "2020-06-07T23:33:35.584483Z",
     "start_time": "2020-06-07T23:33:35.580441Z"
    }
   },
   "source": [
    "<a class='cell' id='dict_items'></a>\n",
    "Também existe o ``método`` ``items()`` para obter todos os ``items`` do ``dicionário``:"
   ]
  },
  {
   "cell_type": "code",
   "execution_count": 102,
   "metadata": {
    "ExecuteTime": {
     "end_time": "2020-06-07T23:34:18.619050Z",
     "start_time": "2020-06-07T23:34:18.616118Z"
    }
   },
   "outputs": [
    {
     "data": {
      "text/plain": [
       "dict_items([('Joao', 7), ('Maria', 8), ('Heraldo', 9), ('Helena', 10), ('Eduardo', 5)])"
      ]
     },
     "execution_count": 102,
     "metadata": {},
     "output_type": "execute_result"
    }
   ],
   "source": [
    "notas_turma_1_prova_1.items()"
   ]
  },
  {
   "cell_type": "markdown",
   "metadata": {},
   "source": [
    "Contudo, por que queremos obter os ``items`` do ``dicionário`` se podemos simplesmente digitar o nome da variável e então inspecionar o ``dicionário``? Quando usamos os métodos ``keys()``, ``values()`` e ``items()``, os valores retornados, ``chaves``, ``valores`` e ``itens``, estão em uma estrutura de lista. Essa estrutura nos permite percorrer os termos de maneira mais fácil quando quisermos usá-las em um ``loop`` (conteúdo que será visto mais adiante)."
   ]
  },
  {
   "cell_type": "markdown",
   "metadata": {},
   "source": [
    "<a class='section' id='condicionais'></a>\n",
    "# Condicionais"
   ]
  },
  {
   "cell_type": "markdown",
   "metadata": {},
   "source": [
    "``Condicionais`` fazem o uso de ``operações`` [``lógicas`` ](#operacoes_logicas) e de [``comparação``](#operacoes_de_comparacao). Ambas retornam ``valores lógicos``: ``True`` e ``False``. Em algumas circunstâncias, podemos fornecer instruções para o programa de que ele execute apenas um trecho de código se uma condição for satisfetia. Podemos escrever um código que confere uma condição e executa um código se essa condição for satisfeita usando o ``operador`` ``if`` (``se``). Por exemplo, no código abaixo, primeiramente verificaremos se ``3 > 2``, caso isso seja ``True``, iremos então imprimir uma frase na tela:"
   ]
  },
  {
   "cell_type": "code",
   "execution_count": 36,
   "metadata": {
    "ExecuteTime": {
     "end_time": "2020-06-08T16:38:41.835010Z",
     "start_time": "2020-06-08T16:38:41.832581Z"
    }
   },
   "outputs": [
    {
     "name": "stdout",
     "output_type": "stream",
     "text": [
      "Essa frase será imprimida se o condicional retornar ``True``.\n"
     ]
    }
   ],
   "source": [
    "if 3 > 2:\n",
    "    print('Essa frase será imprimida se o condicional retornar ``True``.')"
   ]
  },
  {
   "cell_type": "markdown",
   "metadata": {},
   "source": [
    "Como ``3 > 2`` retorna ``True``, o algorítmo se lê ``if True``. Assim, como a condição encontrada é verdadeira, o argumento que se encontra ``dentro`` do ``condicional if`` é executado. O uso do caracter ``:`` no final do condicional é obrigatório. "
   ]
  },
  {
   "cell_type": "markdown",
   "metadata": {},
   "source": [
    "Observe que existe um espaço na linha de código após o condicional. Chamamos esse espaço de ``identação`` e usamos para nos referir que um bloco de código encontra-se dentro de outro. Em ``python`` a ``sintaxe`` nos obriga a fazer o uso de ``identação``, se não usarmos:"
   ]
  },
  {
   "cell_type": "code",
   "execution_count": 37,
   "metadata": {
    "ExecuteTime": {
     "end_time": "2020-06-08T16:42:12.044177Z",
     "start_time": "2020-06-08T16:42:12.041032Z"
    }
   },
   "outputs": [
    {
     "ename": "IndentationError",
     "evalue": "expected an indented block (<ipython-input-37-01416084ffab>, line 2)",
     "output_type": "error",
     "traceback": [
      "\u001b[0;36m  File \u001b[0;32m\"<ipython-input-37-01416084ffab>\"\u001b[0;36m, line \u001b[0;32m2\u001b[0m\n\u001b[0;31m    print('Vai dar erro!')\u001b[0m\n\u001b[0m        ^\u001b[0m\n\u001b[0;31mIndentationError\u001b[0m\u001b[0;31m:\u001b[0m expected an indented block\n"
     ]
    }
   ],
   "source": [
    "if 3 > 2:\n",
    "print('Vai dar erro!')"
   ]
  },
  {
   "cell_type": "markdown",
   "metadata": {},
   "source": [
    "Encontramos um ``IdentationError``, que nos informa que é esperado a identação do bloco de código. Para identar o código, basta darmos ``4 espaços`` ou então usar a tecla ``tab``. "
   ]
  },
  {
   "cell_type": "markdown",
   "metadata": {},
   "source": [
    "Caso a condição encontrada retorne ``False``, o código identado no bloco de condição não é executado:"
   ]
  },
  {
   "cell_type": "code",
   "execution_count": 38,
   "metadata": {
    "ExecuteTime": {
     "end_time": "2020-06-08T16:50:47.603504Z",
     "start_time": "2020-06-08T16:50:47.601501Z"
    }
   },
   "outputs": [],
   "source": [
    "if 2 > 3:\n",
    "    print(\"Não vai imprimir porquê a condição retorna ``False``.\")"
   ]
  },
  {
   "cell_type": "markdown",
   "metadata": {},
   "source": [
    "Podemos Escrever vários condicionais:"
   ]
  },
  {
   "cell_type": "code",
   "execution_count": 39,
   "metadata": {
    "ExecuteTime": {
     "end_time": "2020-06-08T16:57:59.959134Z",
     "start_time": "2020-06-08T16:57:59.955824Z"
    }
   },
   "outputs": [
    {
     "name": "stdout",
     "output_type": "stream",
     "text": [
      "Primeiro condiconal.\n",
      "Terceiro condicional.\n"
     ]
    }
   ],
   "source": [
    "if 5 < 7:\n",
    "    print('Primeiro condiconal.')\n",
    "if 8 > 9:\n",
    "    print('Segundo condicional.')\n",
    "if (not False) and (3 > 2):\n",
    "    print('Terceiro condicional.')"
   ]
  },
  {
   "cell_type": "markdown",
   "metadata": {},
   "source": [
    "Veja que o termo do condicional pode ter mais de uma condição a ser avaliada e então comparada com outra, como fizemos no terceiro ``if``, onde usamos operador de comparação ``and``.\n",
    "\n",
    "Contudo, esses condicionais são independentes um do outro. As vezes queremos escrever um código que pode executar primeiramente um código caso a condição for ``True`` ou ``então``, executar outro código caso a condição retorne ``False``. Para isso, usamos o ``if ... else``. Para criarmos tal condição, vamos imaginar o cenário. O aluno é aprovado na disciplina se ele atinge uma média maior ou igual a $6{,}0$. ``Se`` (``if``) a média do aluno for maior igual que $6{,}0$, ele é aprovado, ``caso contrário``(``else``), ele fica de exame. Podemos escrever essa situação da seguinte forma:"
   ]
  },
  {
   "cell_type": "code",
   "execution_count": 40,
   "metadata": {
    "ExecuteTime": {
     "end_time": "2020-06-08T17:06:05.764965Z",
     "start_time": "2020-06-08T17:06:05.762545Z"
    }
   },
   "outputs": [
    {
     "name": "stdout",
     "output_type": "stream",
     "text": [
      "Aprovado!\n"
     ]
    }
   ],
   "source": [
    "media = 6\n",
    "if media >= 6:\n",
    "    print('Aprovado!')\n",
    "else:\n",
    "    print('Exame!')"
   ]
  },
  {
   "cell_type": "markdown",
   "metadata": {},
   "source": [
    "Se a média do aluno for menor que $6{,}0$:"
   ]
  },
  {
   "cell_type": "code",
   "execution_count": 41,
   "metadata": {
    "ExecuteTime": {
     "end_time": "2020-06-08T17:06:39.051917Z",
     "start_time": "2020-06-08T17:06:39.049409Z"
    }
   },
   "outputs": [
    {
     "name": "stdout",
     "output_type": "stream",
     "text": [
      "Exame!\n"
     ]
    }
   ],
   "source": [
    "media = 5.9\n",
    "if media >= 6:\n",
    "    print('Aprovado!')\n",
    "else:\n",
    "    print('Exame!')"
   ]
  },
  {
   "cell_type": "markdown",
   "metadata": {},
   "source": [
    "A primeira condição retorna ``False``, já que ``media`` é menor que $6{,}0$. Quando essa condição é negada, o código então executa o código que está ``identeado`` após o ``else``."
   ]
  },
  {
   "cell_type": "markdown",
   "metadata": {},
   "source": [
    "O cenário anterior é muito rigoroso. O professor que encontra uma nota $5{,}9$ em geral arredonda para $6{,}0$. Vamos supor que exista um professor muito gente boa que arredonde a nota para $6{,}0$, caso a média do aluno for maior ou igual a $5{,}5$ e menor que $6{,}0$. Teremos então um cenário assim:\n",
    "\n",
    "```python\n",
    "-> média maior ou igual que 6.0 ele é aprovado\n",
    "-> média maior ou igual que 5.5 e menor que 5.9 a média é arredondada\n",
    "-> média menor que 5.5 ele está de exame.\n",
    "```\n",
    "\n",
    "Para escrever esse cenário, temos que ter duas condições e a outra pode ser o caso onde nenhuma das duas é encontrada (``else``). A primeira condição sempre é escrita com ``if``. Esse ``operador`` irá começar o bloco de condições, checando as instruções fornecidas. Se quiseremos especificar uma segunda condição, temos que o operador ``elif``. Ele diz ao programa que se a condição anterior não for satisfeita, é para checá-la agora. Podemos colocar quantos ``elif`` quisermos. O ``else`` é colocado para dizer o código que deve ser executado caso nenhuma das outras condições tenham sido encontradas.\n",
    "\n",
    "No caso descrito, das notas, o código ficaria assim:"
   ]
  },
  {
   "cell_type": "code",
   "execution_count": 45,
   "metadata": {
    "ExecuteTime": {
     "end_time": "2020-06-08T17:20:47.515134Z",
     "start_time": "2020-06-08T17:20:47.512027Z"
    }
   },
   "outputs": [
    {
     "name": "stdout",
     "output_type": "stream",
     "text": [
      "Aprovado!\n"
     ]
    }
   ],
   "source": [
    "media = 6\n",
    "if media >= 6:\n",
    "    print('Aprovado!')\n",
    "elif media >= 5.5 and media < 6:\n",
    "    print('Média arredondada!')\n",
    "else:\n",
    "    print('Exame!')"
   ]
  },
  {
   "cell_type": "markdown",
   "metadata": {},
   "source": [
    "Temos que prestar atenção na ordem das condições. Vamos supor que tenhamos escrito o código checando primeiramente se a nota era só maior ou igual a $5{,}5$ e depois se era maior ou igual a $6{,}0$:"
   ]
  },
  {
   "cell_type": "code",
   "execution_count": 46,
   "metadata": {
    "ExecuteTime": {
     "end_time": "2020-06-08T17:22:27.314946Z",
     "start_time": "2020-06-08T17:22:27.312473Z"
    }
   },
   "outputs": [
    {
     "name": "stdout",
     "output_type": "stream",
     "text": [
      "Média arredondada!\n"
     ]
    }
   ],
   "source": [
    "media = 6\n",
    "if media >= 5.5:\n",
    "    print('Média arredondada!')\n",
    "elif media >= 6:\n",
    "    print('Aprovado!')\n",
    "else:\n",
    "    print('Exame!')"
   ]
  },
  {
   "cell_type": "markdown",
   "metadata": {},
   "source": [
    "Mesmo que a média valide a condição de que o aluno seja aprovado, o código nos retorna que a nota foi arredondado. Por isso temos que sempre conferir as situações e testar os códigos. Esse problema seria resolvido colocando mais uma comparação na primeira condição:"
   ]
  },
  {
   "cell_type": "code",
   "execution_count": 47,
   "metadata": {
    "ExecuteTime": {
     "end_time": "2020-06-08T17:24:02.461953Z",
     "start_time": "2020-06-08T17:24:02.459231Z"
    }
   },
   "outputs": [
    {
     "name": "stdout",
     "output_type": "stream",
     "text": [
      "Aprovado!\n"
     ]
    }
   ],
   "source": [
    "media = 6\n",
    "if media >= 5.5 and media < 6:\n",
    "    print('Média arredondada!')\n",
    "elif media >= 6:\n",
    "    print('Aprovado!')\n",
    "else:\n",
    "    print('Exame!')"
   ]
  },
  {
   "cell_type": "markdown",
   "metadata": {},
   "source": [
    "<a class='cell' id='if_agrupado'></a>\n",
    "Vamos supor que o Professor só irá arredondar a nota (de $5{,}5$ a $5{,}9$) dos alunos que fizeram o trabalho que ele passou. Para verificar isso, podemos ``agrupar``os ``condicionais``:"
   ]
  },
  {
   "cell_type": "code",
   "execution_count": 48,
   "metadata": {
    "ExecuteTime": {
     "end_time": "2020-06-08T19:03:34.099720Z",
     "start_time": "2020-06-08T19:03:34.096897Z"
    }
   },
   "outputs": [
    {
     "name": "stdout",
     "output_type": "stream",
     "text": [
      "Média arredondada!\n"
     ]
    }
   ],
   "source": [
    "media = 5.6\n",
    "fez_trabalho = True\n",
    "\n",
    "if media >= 6:\n",
    "    print('Aprovado!')\n",
    "elif media >= 5.5 and media < 6:\n",
    "    if fez_trabalho:\n",
    "        print('Média arredondada!')\n",
    "    else:\n",
    "        print('Não fez o trabalho: exame!')\n",
    "else:\n",
    "    print('Exame direito!')"
   ]
  },
  {
   "cell_type": "markdown",
   "metadata": {},
   "source": [
    "Vamos detalhar os condicionais acima:\n",
    "\n",
    "- aluno tirou $6{,}0$ ou mais -> 'Aprovado!'\n",
    "- aluno tirou entre $5{,}5$ e $5{,}9$ $\\to$ Conferimos se ele fez o trabalho\n",
    "    - se ele fez o trabalho $\\to$ 'Média arredondada!'\n",
    "    - caso contrário $\\to$ 'Não fez o trabalho: exame!'\n",
    "- caso nenhuma das condições seja satisfeita $\\to$ 'Exame direto!'\n",
    "\n",
    "Os ``condicionais`` dentro do ``elif``, só são testados caso a condição corresponda à média entre $5{,}5$ e $5{,}9$. Um valor ``lógico`` é atribuído à variável ``fez_trabalho``. Se ele fez o trabalho ``fez_trabalho = True`` e a média é arredondada, caso ``fez_trabalho = False``, ele não fez o trabalho e a condição retorna ``False`` e o código no bloco ``else``, dentro do ``elif`` é executada."
   ]
  },
  {
   "cell_type": "markdown",
   "metadata": {},
   "source": [
    "<a class='cell' id='if_compacto'></a>\n",
    "Podemos usar condicionais de uma forma mais compacta também. Para uma única condição, uso somente de um ``if``, colocamos nossa condição na frente do ``if`` e depois os ``:`` e, na mesma linha, escrevemos o código a ser executado se a condição ser validada como verdadeira:"
   ]
  },
  {
   "cell_type": "code",
   "execution_count": 51,
   "metadata": {
    "ExecuteTime": {
     "end_time": "2020-06-08T19:23:11.135652Z",
     "start_time": "2020-06-08T19:23:11.133232Z"
    }
   },
   "outputs": [
    {
     "name": "stdout",
     "output_type": "stream",
     "text": [
      "Vai imprimir.\n"
     ]
    }
   ],
   "source": [
    "if 3 > 2: print('Vai imprimir.')"
   ]
  },
  {
   "cell_type": "code",
   "execution_count": 52,
   "metadata": {
    "ExecuteTime": {
     "end_time": "2020-06-08T19:23:15.394930Z",
     "start_time": "2020-06-08T19:23:15.391704Z"
    }
   },
   "outputs": [],
   "source": [
    "if 2 > 3: print('Não vai imprimir.')"
   ]
  },
  {
   "cell_type": "markdown",
   "metadata": {},
   "source": [
    "Caso quisermos executar um outro código caso nossa condição seja encontrada como ``False``, podemos usar um ``else``. A ``sintaxe`` para esse código ``if ... else`` compacto fica:"
   ]
  },
  {
   "cell_type": "code",
   "execution_count": 54,
   "metadata": {
    "ExecuteTime": {
     "end_time": "2020-06-08T19:28:38.535751Z",
     "start_time": "2020-06-08T19:28:38.532383Z"
    }
   },
   "outputs": [
    {
     "name": "stdout",
     "output_type": "stream",
     "text": [
      "a é menor que b.\n"
     ]
    }
   ],
   "source": [
    "a = 1\n",
    "b = 3\n",
    "print('a é maior que b.') if a > b else print('a é menor que b.')"
   ]
  },
  {
   "cell_type": "markdown",
   "metadata": {},
   "source": [
    "Caso mais condições devam ser checada antes de executar o último ``else``, devemos incluir mais um ``if`` na frente com a condição a ser checada. Por exemplo:"
   ]
  },
  {
   "cell_type": "code",
   "execution_count": 55,
   "metadata": {
    "ExecuteTime": {
     "end_time": "2020-06-08T19:28:46.951272Z",
     "start_time": "2020-06-08T19:28:46.946578Z"
    }
   },
   "outputs": [
    {
     "name": "stdout",
     "output_type": "stream",
     "text": [
      "a é igual b.\n"
     ]
    }
   ],
   "source": [
    "a = 1\n",
    "b = 1\n",
    "print('a é maior que b.') if a > b else print('a é igual b.') if a == b else print('a é menor que b.')"
   ]
  },
  {
   "cell_type": "markdown",
   "metadata": {},
   "source": [
    "<a class='section' id='loops'></a>\n",
    "# Loops"
   ]
  },
  {
   "cell_type": "markdown",
   "metadata": {},
   "source": [
    "Em alguns momentos nos encontraremos em situações onde queremos efetuar uma operação diversas vezes em vários objetos. Por exemplo, imagine que tenhamos uma ``lista`` de números ``[1, 2, 3, 4, 5, 6]`` e por algum motivo queremos dobrar o valor de cada um deles. Com o que sabemos até agora, poderíamos criar uma outra ``lista`` e ir duplicando seus elementos usando o ``índice``:"
   ]
  },
  {
   "cell_type": "code",
   "execution_count": 56,
   "metadata": {
    "ExecuteTime": {
     "end_time": "2020-06-08T20:08:37.060217Z",
     "start_time": "2020-06-08T20:08:37.058149Z"
    }
   },
   "outputs": [],
   "source": [
    "# criamos a lista que terá os valores duplicados\n",
    "lista_original = [1, 2, 3, 4, 5, 6]\n",
    "# criamos uma lista para guardar os valores duplicados \n",
    "lista_duplicada = []"
   ]
  },
  {
   "cell_type": "markdown",
   "metadata": {},
   "source": [
    "Criamos uma lista vazia e agora podemos ir adicionando à ``lista_duplicada`` os termos duplicados da ``lista_original`` fornecendo os índices e multiplicando por 2 e usando o método ``append()``:"
   ]
  },
  {
   "cell_type": "code",
   "execution_count": 58,
   "metadata": {
    "ExecuteTime": {
     "end_time": "2020-06-08T20:24:20.455890Z",
     "start_time": "2020-06-08T20:24:20.453534Z"
    }
   },
   "outputs": [],
   "source": [
    "# adicionamos o primeiro termo multiplicado por 2\n",
    "lista_duplicada.append(lista_original[0]*2)"
   ]
  },
  {
   "cell_type": "code",
   "execution_count": 59,
   "metadata": {
    "ExecuteTime": {
     "end_time": "2020-06-08T20:24:40.062983Z",
     "start_time": "2020-06-08T20:24:40.059739Z"
    }
   },
   "outputs": [
    {
     "data": {
      "text/plain": [
       "[2]"
      ]
     },
     "execution_count": 59,
     "metadata": {},
     "output_type": "execute_result"
    }
   ],
   "source": [
    "lista_duplicada"
   ]
  },
  {
   "cell_type": "code",
   "execution_count": 60,
   "metadata": {
    "ExecuteTime": {
     "end_time": "2020-06-08T20:25:05.494831Z",
     "start_time": "2020-06-08T20:25:05.492378Z"
    }
   },
   "outputs": [],
   "source": [
    "# adicionamos o segundo...\n",
    "lista_duplicada.append(lista_original[1]*2)"
   ]
  },
  {
   "cell_type": "code",
   "execution_count": 61,
   "metadata": {
    "ExecuteTime": {
     "end_time": "2020-06-08T20:25:09.916847Z",
     "start_time": "2020-06-08T20:25:09.914374Z"
    }
   },
   "outputs": [
    {
     "data": {
      "text/plain": [
       "[2, 4]"
      ]
     },
     "execution_count": 61,
     "metadata": {},
     "output_type": "execute_result"
    }
   ],
   "source": [
    "lista_duplicada"
   ]
  },
  {
   "cell_type": "code",
   "execution_count": 62,
   "metadata": {
    "ExecuteTime": {
     "end_time": "2020-06-08T20:27:21.422843Z",
     "start_time": "2020-06-08T20:27:21.420360Z"
    }
   },
   "outputs": [],
   "source": [
    "# adicionamos o restante\n",
    "lista_duplicada.append(lista_original[2]*2)\n",
    "lista_duplicada.append(lista_original[3]*2)\n",
    "lista_duplicada.append(lista_original[4]*2)\n",
    "lista_duplicada.append(lista_original[5]*2)"
   ]
  },
  {
   "cell_type": "code",
   "execution_count": 64,
   "metadata": {
    "ExecuteTime": {
     "end_time": "2020-06-08T20:27:30.413511Z",
     "start_time": "2020-06-08T20:27:30.410344Z"
    }
   },
   "outputs": [
    {
     "data": {
      "text/plain": [
       "[2, 4, 6, 8, 10, 12]"
      ]
     },
     "execution_count": 64,
     "metadata": {},
     "output_type": "execute_result"
    }
   ],
   "source": [
    "lista_duplicada"
   ]
  },
  {
   "cell_type": "markdown",
   "metadata": {},
   "source": [
    "Todas essas linhas de código resolvem a tarefa, mas podemos resolver esse cálculo de uma forma mais eficaz usando um ``loop`` ``for``. Para executá-lo, usamos a seguinte ``sintaxe``:\n",
    "\n",
    "```python\n",
    "for termo in lista_de_termos:\n",
    "    # executar código em cada termo da lista_de_termos\n",
    "```\n",
    "\n",
    "Observe que começamos o código com ``for``, instruindo o programa que ``para`` cada ``termo`` presente na (``in``) ``lista_de_termos`` o código, ``identado``, na linha após os ``:`` deve ser executado. Vamos ver um exemplo simples:"
   ]
  },
  {
   "cell_type": "code",
   "execution_count": 65,
   "metadata": {
    "ExecuteTime": {
     "end_time": "2020-06-08T21:34:59.551739Z",
     "start_time": "2020-06-08T21:34:59.548223Z"
    }
   },
   "outputs": [
    {
     "name": "stdout",
     "output_type": "stream",
     "text": [
      "1\n",
      "2\n",
      "3\n",
      "4\n",
      "5\n",
      "6\n"
     ]
    }
   ],
   "source": [
    "for numero in [1, 2, 3, 4, 5, 6]:\n",
    "    print(numero)"
   ]
  },
  {
   "cell_type": "markdown",
   "metadata": {},
   "source": [
    "Assim, se quisermos duplicar os número da ``lista_original``, criando uma outra lista, podemos fazer da seguinte forma:"
   ]
  },
  {
   "cell_type": "code",
   "execution_count": 6,
   "metadata": {
    "ExecuteTime": {
     "end_time": "2020-06-08T21:37:04.620545Z",
     "start_time": "2020-06-08T21:37:04.617975Z"
    }
   },
   "outputs": [],
   "source": [
    "# criamos a lista que terá os valores duplicados\n",
    "lista_original = [1, 2, 3, 4, 5, 6]\n",
    "# criamos uma lista para guardar os valores duplicados \n",
    "lista_duplicada = []"
   ]
  },
  {
   "cell_type": "code",
   "execution_count": 70,
   "metadata": {
    "ExecuteTime": {
     "end_time": "2020-06-08T21:37:25.314127Z",
     "start_time": "2020-06-08T21:37:25.311081Z"
    }
   },
   "outputs": [
    {
     "data": {
      "text/plain": [
       "[]"
      ]
     },
     "execution_count": 70,
     "metadata": {},
     "output_type": "execute_result"
    }
   ],
   "source": [
    "# inspecionamos a ``lista_duplicada`` e vemos que ela está vazia\n",
    "lista_duplicada"
   ]
  },
  {
   "cell_type": "code",
   "execution_count": 72,
   "metadata": {
    "ExecuteTime": {
     "end_time": "2020-06-08T21:38:29.538138Z",
     "start_time": "2020-06-08T21:38:29.534771Z"
    }
   },
   "outputs": [],
   "source": [
    "# loop pelos número da ``lista_original``\n",
    "for numero in lista_original:\n",
    "    # aqui cada ``numero`` será multiplicado por 2\n",
    "    # e então adicionado à ``lista_duplicada``\n",
    "    lista_duplicada.append(numero*2)"
   ]
  },
  {
   "cell_type": "code",
   "execution_count": 73,
   "metadata": {
    "ExecuteTime": {
     "end_time": "2020-06-08T21:38:30.291666Z",
     "start_time": "2020-06-08T21:38:30.287345Z"
    }
   },
   "outputs": [
    {
     "data": {
      "text/plain": [
       "[2, 4, 6, 8, 10, 12]"
      ]
     },
     "execution_count": 73,
     "metadata": {},
     "output_type": "execute_result"
    }
   ],
   "source": [
    "# inspecionamos a ``lista_duplicada``\n",
    "lista_duplicada"
   ]
  },
  {
   "cell_type": "markdown",
   "metadata": {},
   "source": [
    "Podemos fazer isso de uma forma mais compacta ainda, usando um método que se chama ``lista de compreensão`` (``list comprehension``). É parecido com o uso do ``if``compacto, veja como é a ``sintaxe``:\n",
    "\n",
    "```python\n",
    "1º criamos uma lista: []\n",
    "2º criamos um ``loop for`` dentro do ``[]``: [for numero in lista_de_numeros]\n",
    "3º antes do ``for`` repetimos ``numero`` e o código que queremos executar:\n",
    "    [numero*2 for numero in lista_de_numeros]\n",
    "```\n",
    "\n",
    "Veja o resultado abaixo:"
   ]
  },
  {
   "cell_type": "code",
   "execution_count": 76,
   "metadata": {
    "ExecuteTime": {
     "end_time": "2020-06-08T21:48:33.295536Z",
     "start_time": "2020-06-08T21:48:33.292196Z"
    }
   },
   "outputs": [
    {
     "data": {
      "text/plain": [
       "[2, 4, 6, 8, 10, 12]"
      ]
     },
     "execution_count": 76,
     "metadata": {},
     "output_type": "execute_result"
    }
   ],
   "source": [
    "[numero*2 for numero in lista_original]"
   ]
  },
  {
   "cell_type": "markdown",
   "metadata": {},
   "source": [
    "Essa lista pode ser atribuída a uma variável:"
   ]
  },
  {
   "cell_type": "code",
   "execution_count": 77,
   "metadata": {
    "ExecuteTime": {
     "end_time": "2020-06-08T21:50:39.840569Z",
     "start_time": "2020-06-08T21:50:39.837944Z"
    }
   },
   "outputs": [],
   "source": [
    "lista_duplicada = [numero*2 for numero in lista_original]"
   ]
  },
  {
   "cell_type": "code",
   "execution_count": 78,
   "metadata": {
    "ExecuteTime": {
     "end_time": "2020-06-08T21:51:08.351685Z",
     "start_time": "2020-06-08T21:51:08.343398Z"
    }
   },
   "outputs": [
    {
     "data": {
      "text/plain": [
       "[2, 4, 6, 8, 10, 12]"
      ]
     },
     "execution_count": 78,
     "metadata": {},
     "output_type": "execute_result"
    }
   ],
   "source": [
    "# inspecionando a lista duplicada criada\n",
    "# usando lista de compreensão\n",
    "lista_duplicada"
   ]
  },
  {
   "cell_type": "markdown",
   "metadata": {
    "ExecuteTime": {
     "end_time": "2020-06-08T21:51:44.750425Z",
     "start_time": "2020-06-08T21:51:44.746829Z"
    }
   },
   "source": [
    "Se trocarmos os colchetes por chaves ``{}``, ao invés de uma ``lista``, obtemos então um ``set de compreensão``:"
   ]
  },
  {
   "cell_type": "code",
   "execution_count": 84,
   "metadata": {
    "ExecuteTime": {
     "end_time": "2020-06-08T21:52:46.749844Z",
     "start_time": "2020-06-08T21:52:46.746644Z"
    }
   },
   "outputs": [
    {
     "data": {
      "text/plain": [
       "{2, 4, 6, 8, 10, 12}"
      ]
     },
     "execution_count": 84,
     "metadata": {},
     "output_type": "execute_result"
    }
   ],
   "source": [
    "{numero*2 for numero in lista_original}  "
   ]
  },
  {
   "cell_type": "markdown",
   "metadata": {},
   "source": [
    "Contudo, se quisermos criar uma ``tupla``, é preciso usar ``tuple()`` para obtermos uma ``tupla de compreensão``:"
   ]
  },
  {
   "cell_type": "code",
   "execution_count": 8,
   "metadata": {},
   "outputs": [
    {
     "data": {
      "text/plain": [
       "(2, 4, 6, 8, 10, 12)"
      ]
     },
     "execution_count": 8,
     "metadata": {},
     "output_type": "execute_result"
    }
   ],
   "source": [
    "tuple((numero*2 for numero in lista_original))"
   ]
  },
  {
   "cell_type": "markdown",
   "metadata": {},
   "source": [
    "Os termos a serem usados no bloco de código do ``loop`` ``for``, também podem ser proveninetes de qualquer tipo de ``objeto`` com uma estrutura ordenada. Dessa forma, também podemos usar ``tuples``: "
   ]
  },
  {
   "cell_type": "code",
   "execution_count": 75,
   "metadata": {
    "ExecuteTime": {
     "end_time": "2020-06-08T21:41:15.120692Z",
     "start_time": "2020-06-08T21:41:15.117804Z"
    }
   },
   "outputs": [
    {
     "name": "stdout",
     "output_type": "stream",
     "text": [
      "O termo da vez é: 3\n",
      "O termo da vez é: 4\n",
      "O termo da vez é: 23\n",
      "O termo da vez é: 45\n",
      "O termo da vez é: 90\n"
     ]
    }
   ],
   "source": [
    "for termo in (3, 4, 23, 45, 90):\n",
    "    print(\"O termo da vez é: \" + str(termo))"
   ]
  },
  {
   "cell_type": "markdown",
   "metadata": {},
   "source": [
    "Observe que os termos são selecionados na ordem em que são encontrados no ``objeto`` ordenado fornecido para o ``loop``. \n",
    "\n",
    "Se lembrarmos, vimos que os ``caracteres`` em ``strings`` podem ser acessados via ``índices``. Assim, uma ``string`` funciona como um ``obejto ordenado`` e pode ser usado em um ``loop for``:"
   ]
  },
  {
   "cell_type": "code",
   "execution_count": 97,
   "metadata": {
    "ExecuteTime": {
     "end_time": "2020-06-08T22:23:32.782505Z",
     "start_time": "2020-06-08T22:23:32.779530Z"
    }
   },
   "outputs": [
    {
     "name": "stdout",
     "output_type": "stream",
     "text": [
      "S\n",
      "t\n",
      "r\n",
      "i\n",
      "n\n",
      "g\n"
     ]
    }
   ],
   "source": [
    "for caracter in \"String\":\n",
    "    print(caracter)"
   ]
  },
  {
   "cell_type": "markdown",
   "metadata": {},
   "source": [
    "Existe uma função inata do ``python`` que nos permite criar ``lista`` de números ordenados de maneira muito fácil. Essa função de chama ``range()``, que se traduz como ``intervalo``. Ela pode receber até ``3`` termos. Digo até ``3``, porquê ela é bem versátil e também funciona com ``1`` e ``2`` argumentos. Veja abaixo:\n",
    "\n",
    "```python\n",
    "range(n) -> cria um ``obejto`` ``range`` que contém números inteiros de 0 a n\n",
    "range(n, m) -> cria um ``objeto`` ``range`` que contém números inteiros de n a m-1\n",
    "range(n, m, k) -> cria um ``objeto`` `ange`` que contém números inteiros de n a m-1 com intervalos k entre eles.\n",
    "\n",
    "```\n",
    "\n",
    "Veja abaixo exemplos usando a função ``range()`` e o ``loop``  ``for``:"
   ]
  },
  {
   "cell_type": "code",
   "execution_count": 93,
   "metadata": {
    "ExecuteTime": {
     "end_time": "2020-06-08T22:06:25.184494Z",
     "start_time": "2020-06-08T22:06:25.181724Z"
    }
   },
   "outputs": [
    {
     "name": "stdout",
     "output_type": "stream",
     "text": [
      "0\n",
      "1\n",
      "2\n",
      "3\n",
      "4\n"
     ]
    }
   ],
   "source": [
    "for inteiro in range(5):\n",
    "    print(inteiro)"
   ]
  },
  {
   "cell_type": "code",
   "execution_count": 94,
   "metadata": {
    "ExecuteTime": {
     "end_time": "2020-06-08T22:06:39.622526Z",
     "start_time": "2020-06-08T22:06:39.619390Z"
    }
   },
   "outputs": [
    {
     "name": "stdout",
     "output_type": "stream",
     "text": [
      "5\n",
      "6\n",
      "7\n",
      "8\n",
      "9\n"
     ]
    }
   ],
   "source": [
    "for n in range(5, 10):\n",
    "    print(n)"
   ]
  },
  {
   "cell_type": "code",
   "execution_count": 95,
   "metadata": {
    "ExecuteTime": {
     "end_time": "2020-06-08T22:07:16.565089Z",
     "start_time": "2020-06-08T22:07:16.562001Z"
    }
   },
   "outputs": [
    {
     "name": "stdout",
     "output_type": "stream",
     "text": [
      "1\n",
      "3\n",
      "5\n",
      "7\n",
      "9\n"
     ]
    }
   ],
   "source": [
    "for impar in range(1, 10, 2):\n",
    "    print(impar)"
   ]
  },
  {
   "cell_type": "markdown",
   "metadata": {},
   "source": [
    "Use o ``loop`` ``for`` e a função ``range()`` para imprimir na tela os número pares de 0 a 10."
   ]
  },
  {
   "cell_type": "code",
   "execution_count": null,
   "metadata": {},
   "outputs": [],
   "source": [
    "# digite se código aqui\n"
   ]
  },
  {
   "cell_type": "markdown",
   "metadata": {},
   "source": [
    "Não conseguiu? **Clique duas vezes aqui** e dê uma espiada na resposta =)\n",
    "\n",
    "<!-- \n",
    "\n",
    "for par in range(0,11,2):\n",
    "    print(par)\n",
    "\n",
    "-->"
   ]
  },
  {
   "cell_type": "code",
   "execution_count": 104,
   "metadata": {
    "ExecuteTime": {
     "end_time": "2020-06-08T22:31:22.278768Z",
     "start_time": "2020-06-08T22:31:22.276332Z"
    }
   },
   "outputs": [
    {
     "data": {
      "text/plain": [
       "0"
      ]
     },
     "execution_count": 104,
     "metadata": {},
     "output_type": "execute_result"
    }
   ],
   "source": []
  },
  {
   "cell_type": "markdown",
   "metadata": {},
   "source": [
    "Podemos ``agrupar`` os ``loops``, assim como fizemos com [condicionais](#if_agrupado). Para isso, basta prestarmos atenção na ``identação`` e lembrar de fechar a linha do ``loop`` com ``:``:"
   ]
  },
  {
   "cell_type": "code",
   "execution_count": 55,
   "metadata": {
    "ExecuteTime": {
     "end_time": "2020-06-09T14:38:57.512968Z",
     "start_time": "2020-06-09T14:38:57.508985Z"
    }
   },
   "outputs": [
    {
     "name": "stdout",
     "output_type": "stream",
     "text": [
      "0 a\n",
      "0 b\n",
      "0 c\n",
      "---\n",
      "1 a\n",
      "1 b\n",
      "1 c\n",
      "---\n",
      "2 a\n",
      "2 b\n",
      "2 c\n",
      "---\n"
     ]
    }
   ],
   "source": [
    "# esse loop é o mais externo\n",
    "for numero in range(3):\n",
    "    \n",
    "    # esse loop está interno\n",
    "    for letra in ['a', 'b', 'c']:\n",
    "        # vamos imprimir os pares\n",
    "        print(numero, letra)\n",
    "        \n",
    "    # após acabar o loop interno\n",
    "    # o código do dentro do loop externo\n",
    "    # volta a ser executado\n",
    "    print('---')"
   ]
  },
  {
   "cell_type": "markdown",
   "metadata": {},
   "source": [
    "Observe que o ``loop`` mais externo, com um ``range(0,3)`` começa com o número 0. Assim, o código ``identado`` uma vez começa a executar e encontra o ``loop`` interno, com as letras. Assim, enquanto o ``loop`` externo está com ``numero = 0``, o ``loop`` interior executar o código ``identado`` duas vezes. Em cada etapa, veremos que o ``loop`` interno irá imprimir na tela a combinação ``numero`` ``letra``. Observe que as três primeira linhas imprimem o número ``0`` acompanhando das três letras. Quando as letras da lista acabam, o ``loop`` interno também acaba, e o código dentro do ``loop`` mais externo (uma ``identação`` só) é executado, imprimindo (``'---'``). Quando todo código dentro do ``loop`` externo é executado, o ``loop`` vai para o próximo número e então começa a executar novamente."
   ]
  },
  {
   "cell_type": "markdown",
   "metadata": {},
   "source": [
    "É possível usar mais de uma variável no ``loop for``. Suponha que tenhamos uma lista da seguinte forma:"
   ]
  },
  {
   "cell_type": "code",
   "execution_count": 11,
   "metadata": {},
   "outputs": [],
   "source": [
    "lista_letras_numeros = [['a', 0], ['b', 1], ['c', 2], ['d', 3], ['e', 4]]"
   ]
  },
  {
   "cell_type": "code",
   "execution_count": 12,
   "metadata": {},
   "outputs": [
    {
     "data": {
      "text/plain": [
       "[['a', 0], ['b', 1], ['c', 2], ['d', 3], ['e', 4]]"
      ]
     },
     "execution_count": 12,
     "metadata": {},
     "output_type": "execute_result"
    }
   ],
   "source": [
    "lista_letras_numeros"
   ]
  },
  {
   "cell_type": "markdown",
   "metadata": {},
   "source": [
    "Cada termo da ``lista`` é outra ``lista`` com dois elementos, uma letra e um número. Assim, quando cada termo da ``lista`` ``lista_letras_numeros`` é percorrido duranteo o ``loop for``, uma ``lista`` com dois elementos é encontrada. Assim, existem dois termos que podem ser usados separadamente. Para fazer isso, fornecemos, entre o ``for`` e o ``in`` tais argumentos, que corresponderam, respectivamente, à letra e ao número do termo que está sendo passado pelo ``loop``. Veja abaixo como ficaria:"
   ]
  },
  {
   "cell_type": "code",
   "execution_count": 13,
   "metadata": {},
   "outputs": [
    {
     "name": "stdout",
     "output_type": "stream",
     "text": [
      "A letra é: a\n",
      "E o número é: 0\n",
      "A letra é: b\n",
      "E o número é: 1\n",
      "A letra é: c\n",
      "E o número é: 2\n"
     ]
    }
   ],
   "source": [
    "for letra, numero in [['a', 0], ['b', 1], ['c', 2]]:\n",
    "    print(\"A letra é: \" + letra)\n",
    "    print(\"E o número é: \" + str(numero))"
   ]
  },
  {
   "cell_type": "markdown",
   "metadata": {},
   "source": [
    "Caso tenhamos uma ``lista``, onde cada termo tenha outra ``lista`` com três termos, o mesmo raciocínio pode ser aplicado:"
   ]
  },
  {
   "cell_type": "code",
   "execution_count": 14,
   "metadata": {},
   "outputs": [
    {
     "name": "stdout",
     "output_type": "stream",
     "text": [
      "A letra é: a\n",
      "O número é: 0\n",
      "Eu tenho um: gato\n",
      "A letra é: b\n",
      "O número é: 1\n",
      "Eu tenho um: cachorro\n",
      "A letra é: c\n",
      "O número é: 2\n",
      "Eu tenho um: dinossauro\n",
      "A letra é: d\n",
      "O número é: 3\n",
      "Eu tenho um: dragao\n",
      "A letra é: e\n",
      "O número é: 4\n",
      "Eu tenho um: pterodactilo (dinossauro que voa kkk)\n"
     ]
    }
   ],
   "source": [
    "lista_letra_numero_bicho = [\n",
    "    ['a', 0, 'gato'], \n",
    "    ['b', 1, 'cachorro'], \n",
    "    ['c', 2, 'dinossauro'],\n",
    "    ['d', 3, 'dragao'],\n",
    "    ['e', 4, 'pterodactilo (dinossauro que voa kkk)']\n",
    "]\n",
    "\n",
    "for letra, numero, bicho in lista_letra_numero_bicho:\n",
    "    print(\"A letra é:\", letra)\n",
    "    print(\"O número é:\", numero)\n",
    "    print(\"Eu tenho um:\", bicho)"
   ]
  },
  {
   "cell_type": "markdown",
   "metadata": {},
   "source": [
    "Sabendo agora que podemos , podemos trabalhar melhor com ``dicionários`` usando ``loops``. Se [lembrarmos](#dict_items), quando aplicamos o ``método`` ``items()`` em um ``dicionário``, ele retornar uma ``lista`` em que cada termo é uma ``tupla``, contendo a ``chave`` e o ``valor``, nessa ordem, de cada ``item`` do ``dicionário``. Para isso, basta usarmos duas variáveis que serão corresponderam a cada ``tupla`` durante o ``loop``:"
   ]
  },
  {
   "cell_type": "code",
   "execution_count": 17,
   "metadata": {},
   "outputs": [],
   "source": [
    "dicionario_mercado = {'Banana': 2.3, 'Café': 33, 'Brócolis': 6.8, 'Frango': 7.9, 'Leite': 3.2, 'Manteiga': 6.8, 'Pão': 6.95}"
   ]
  },
  {
   "cell_type": "code",
   "execution_count": 19,
   "metadata": {},
   "outputs": [
    {
     "name": "stdout",
     "output_type": "stream",
     "text": [
      "O preço do(a) Banana estava R$ 2.3\n",
      "O preço do(a) Café estava R$ 33\n",
      "O preço do(a) Brócolis estava R$ 6.8\n",
      "O preço do(a) Frango estava R$ 7.9\n",
      "O preço do(a) Leite estava R$ 3.2\n",
      "O preço do(a) Manteiga estava R$ 6.8\n",
      "O preço do(a) Pão estava R$ 6.95\n"
     ]
    }
   ],
   "source": [
    "for chave, valor in dicionario_mercado.items():\n",
    "    print(\"O preço do(a)\", chave, \"estava R$\", valor)"
   ]
  },
  {
   "cell_type": "markdown",
   "metadata": {},
   "source": [
    "Se fornecermos apenas um valor para ser passado pelo ``loop`` em um ``dicionário``, esse vai percorrer somente as ``chaves``:"
   ]
  },
  {
   "cell_type": "code",
   "execution_count": 20,
   "metadata": {},
   "outputs": [
    {
     "name": "stdout",
     "output_type": "stream",
     "text": [
      "Banana\n",
      "Café\n",
      "Brócolis\n",
      "Frango\n",
      "Leite\n",
      "Manteiga\n",
      "Pão\n"
     ]
    }
   ],
   "source": [
    "for item in dicionario_mercado:\n",
    "    print(item)"
   ]
  },
  {
   "cell_type": "markdown",
   "metadata": {},
   "source": [
    "Veja que o mesmo resultado é obtido usando-se o ``método`` ``keys()``:"
   ]
  },
  {
   "cell_type": "code",
   "execution_count": 21,
   "metadata": {},
   "outputs": [
    {
     "name": "stdout",
     "output_type": "stream",
     "text": [
      "Banana\n",
      "Café\n",
      "Brócolis\n",
      "Frango\n",
      "Leite\n",
      "Manteiga\n",
      "Pão\n"
     ]
    }
   ],
   "source": [
    "for chave in dicionario_mercado.keys():\n",
    "    print(chave)"
   ]
  },
  {
   "cell_type": "markdown",
   "metadata": {},
   "source": [
    "Se quisermos percorrer somente os valores, podemos usar o ``método`` ``values()``: "
   ]
  },
  {
   "cell_type": "code",
   "execution_count": 22,
   "metadata": {},
   "outputs": [
    {
     "name": "stdout",
     "output_type": "stream",
     "text": [
      "2.3\n",
      "33\n",
      "6.8\n",
      "7.9\n",
      "3.2\n",
      "6.8\n",
      "6.95\n"
     ]
    }
   ],
   "source": [
    "for valor in dicionario_mercado.values():\n",
    "    print(valor)"
   ]
  },
  {
   "cell_type": "markdown",
   "metadata": {},
   "source": [
    "E o mesmo resultado pode ser obtido se usarmos as ``chaves`` do ``dicionário`` para selecionar os ``valores`` correspondentes:"
   ]
  },
  {
   "cell_type": "code",
   "execution_count": 23,
   "metadata": {},
   "outputs": [
    {
     "name": "stdout",
     "output_type": "stream",
     "text": [
      "2.3\n",
      "33\n",
      "6.8\n",
      "7.9\n",
      "3.2\n",
      "6.8\n",
      "6.95\n"
     ]
    }
   ],
   "source": [
    "for chave in dicionario_mercado:\n",
    "    print(dicionario_mercado[chave])"
   ]
  },
  {
   "cell_type": "markdown",
   "metadata": {},
   "source": [
    "Podemos criar um ``dicionário`` usando o ``loop for`` compacto. Para criar um ``dicionário de compreensão``, precisaremos de um ``objeto`` com estrutura ordenada, como uma ``lista``, onde cada termo tenha no mínimo dois termos: um para ser usado como ``chave`` e outro como ``valor``. Vamos reusar a seguinte ``lista`` para ilustrar o código:"
   ]
  },
  {
   "cell_type": "code",
   "execution_count": 24,
   "metadata": {},
   "outputs": [],
   "source": [
    "lista_letras_numeros = [['a', 0], ['b', 1], ['c', 2], ['d', 3], ['e', 4]]"
   ]
  },
  {
   "cell_type": "code",
   "execution_count": 25,
   "metadata": {},
   "outputs": [
    {
     "data": {
      "text/plain": [
       "{'a': 0, 'b': 1, 'c': 2, 'd': 3, 'e': 4}"
      ]
     },
     "execution_count": 25,
     "metadata": {},
     "output_type": "execute_result"
    }
   ],
   "source": [
    "{chave: valor for chave, valor in lista_letras_numeros}"
   ]
  },
  {
   "cell_type": "markdown",
   "metadata": {},
   "source": [
    "Veja que um ``dicionário`` foi criado. Podemos ainda atribuir ele à uma variável:"
   ]
  },
  {
   "cell_type": "code",
   "execution_count": 26,
   "metadata": {},
   "outputs": [],
   "source": [
    "dicionario_letras_numeros = {chave: valor for chave, valor in lista_letras_numeros}"
   ]
  },
  {
   "cell_type": "markdown",
   "metadata": {},
   "source": [
    "E verificar se para uma ``chave`` encontramos o respectivo valor:"
   ]
  },
  {
   "cell_type": "code",
   "execution_count": 27,
   "metadata": {},
   "outputs": [
    {
     "data": {
      "text/plain": [
       "0"
      ]
     },
     "execution_count": 27,
     "metadata": {},
     "output_type": "execute_result"
    }
   ],
   "source": [
    "dicionario_letras_numeros['a']"
   ]
  },
  {
   "cell_type": "markdown",
   "metadata": {},
   "source": [
    "Assim como vimos a função ``range()``, existem outras funções que podem ajudar muito quando vamos trabalhar com ``loops``. Uma dela é a função ``enumerate()``. Essa função recebe como argumento qualquer ``objeto`` com estrutura ordenada (``lista``, ``tupla``, ``set``) e enumera cada termo dessa estrutura, começando do 0. Um ``objeto`` ``enumerate`` é então criado. Ele guarda uma estrutura da seguinte forma: \n",
    "$$\n",
    "\\text{enumerate} \\to (0, \\text{termo}\\ 0), (1, \\text{termo}\\ 1), \\dots, (n, \\text{termo}\\ n)\n",
    "$$\n",
    "\n",
    "Esse ``objeto`` pode ser descompactado usando um ``loop`` ``for``, fornecendo duas variáveis, uma que será o número correspondente ao termo e o outro será o próprio termo da estrutura ordenada fornecida. Vamos ver um exemplo:"
   ]
  },
  {
   "cell_type": "code",
   "execution_count": 3,
   "metadata": {
    "ExecuteTime": {
     "end_time": "2020-06-09T13:09:46.771234Z",
     "start_time": "2020-06-09T13:09:46.768786Z"
    }
   },
   "outputs": [
    {
     "data": {
      "text/plain": [
       "'abcdefgh'"
      ]
     },
     "execution_count": 3,
     "metadata": {},
     "output_type": "execute_result"
    }
   ],
   "source": [
    "# definimos uma string com alguns caracteres\n",
    "caracteres = 'abcdefgh' \n",
    "caracteres"
   ]
  },
  {
   "cell_type": "code",
   "execution_count": 4,
   "metadata": {
    "ExecuteTime": {
     "end_time": "2020-06-09T13:10:41.761573Z",
     "start_time": "2020-06-09T13:10:41.758063Z"
    }
   },
   "outputs": [
    {
     "data": {
      "text/plain": [
       "['a', 'b', 'c', 'd', 'e', 'f', 'g', 'h']"
      ]
     },
     "execution_count": 4,
     "metadata": {},
     "output_type": "execute_result"
    }
   ],
   "source": [
    "# usamos uma ``lista de compreensão`` para usar cada caracter da string como um termo da lista\n",
    "lista_de_caracteres = [caracter for caracter in caracteres]\n",
    "lista_de_caracteres"
   ]
  },
  {
   "cell_type": "code",
   "execution_count": 31,
   "metadata": {
    "ExecuteTime": {
     "end_time": "2020-06-09T13:22:31.032245Z",
     "start_time": "2020-06-09T13:22:31.029028Z"
    }
   },
   "outputs": [
    {
     "data": {
      "text/plain": [
       "<enumerate at 0x7fd6f06b1320>"
      ]
     },
     "execution_count": 31,
     "metadata": {},
     "output_type": "execute_result"
    }
   ],
   "source": [
    "# criamos um objeto ``enumerate()``\n",
    "objeto_enumerate = enumerate(lista_de_caracteres)\n",
    "objeto_enumerate"
   ]
  },
  {
   "cell_type": "markdown",
   "metadata": {},
   "source": [
    "O resultado retornado nos informa que o ``objeto`` ``enumerate`` foi criado e se encontra no ``endereço`` de meméria ``0x...``. Podemos visulizar o ``objeto`` criado aplicando um ``objeto`` ``iterável``, isto é, uma ``list()``, ``tuple()``, ``set()`` ou ``dict()``:"
   ]
  },
  {
   "cell_type": "code",
   "execution_count": 27,
   "metadata": {
    "ExecuteTime": {
     "end_time": "2020-06-09T13:20:05.946279Z",
     "start_time": "2020-06-09T13:20:05.942811Z"
    }
   },
   "outputs": [
    {
     "data": {
      "text/plain": [
       "[(0, 'a'),\n",
       " (1, 'b'),\n",
       " (2, 'c'),\n",
       " (3, 'd'),\n",
       " (4, 'e'),\n",
       " (5, 'f'),\n",
       " (6, 'g'),\n",
       " (7, 'h')]"
      ]
     },
     "execution_count": 27,
     "metadata": {},
     "output_type": "execute_result"
    }
   ],
   "source": [
    "list(objeto_enumerate)"
   ]
  },
  {
   "cell_type": "markdown",
   "metadata": {},
   "source": [
    "Contudo, se tentarmos usar o ``objeto`` ``enumerate`` novamente, não obtemos resultado algum:"
   ]
  },
  {
   "cell_type": "code",
   "execution_count": 33,
   "metadata": {
    "ExecuteTime": {
     "end_time": "2020-06-09T13:29:08.877238Z",
     "start_time": "2020-06-09T13:29:08.874558Z"
    }
   },
   "outputs": [
    {
     "data": {
      "text/plain": [
       "[]"
      ]
     },
     "execution_count": 33,
     "metadata": {},
     "output_type": "execute_result"
    }
   ],
   "source": [
    "list(objeto_enumerate)"
   ]
  },
  {
   "cell_type": "markdown",
   "metadata": {},
   "source": [
    "Portanto, uma vez que o ``obejto`` ``enumerate`` for definido, use-o em seguida. Caso precise usar novamente, você terá que criá-lo mais uma vez. Por isso, quando vamos usá-lo, em geral, não o atribuímos à uma variável:"
   ]
  },
  {
   "cell_type": "code",
   "execution_count": 34,
   "metadata": {
    "ExecuteTime": {
     "end_time": "2020-06-09T13:30:51.583012Z",
     "start_time": "2020-06-09T13:30:51.580284Z"
    }
   },
   "outputs": [
    {
     "data": {
      "text/plain": [
       "[(0, 'a'),\n",
       " (1, 'b'),\n",
       " (2, 'c'),\n",
       " (3, 'd'),\n",
       " (4, 'e'),\n",
       " (5, 'f'),\n",
       " (6, 'g'),\n",
       " (7, 'h')]"
      ]
     },
     "execution_count": 34,
     "metadata": {},
     "output_type": "execute_result"
    }
   ],
   "source": [
    "list(enumerate(lista_de_caracteres))"
   ]
  },
  {
   "cell_type": "code",
   "execution_count": 35,
   "metadata": {
    "ExecuteTime": {
     "end_time": "2020-06-09T13:31:19.169973Z",
     "start_time": "2020-06-09T13:31:19.166595Z"
    }
   },
   "outputs": [
    {
     "data": {
      "text/plain": [
       "((0, 'a'),\n",
       " (1, 'b'),\n",
       " (2, 'c'),\n",
       " (3, 'd'),\n",
       " (4, 'e'),\n",
       " (5, 'f'),\n",
       " (6, 'g'),\n",
       " (7, 'h'))"
      ]
     },
     "execution_count": 35,
     "metadata": {},
     "output_type": "execute_result"
    }
   ],
   "source": [
    "tuple(enumerate(lista_de_caracteres))"
   ]
  },
  {
   "cell_type": "code",
   "execution_count": 36,
   "metadata": {
    "ExecuteTime": {
     "end_time": "2020-06-09T13:31:19.169973Z",
     "start_time": "2020-06-09T13:31:19.166595Z"
    }
   },
   "outputs": [
    {
     "data": {
      "text/plain": [
       "{(0, 'a'),\n",
       " (1, 'b'),\n",
       " (2, 'c'),\n",
       " (3, 'd'),\n",
       " (4, 'e'),\n",
       " (5, 'f'),\n",
       " (6, 'g'),\n",
       " (7, 'h')}"
      ]
     },
     "execution_count": 36,
     "metadata": {},
     "output_type": "execute_result"
    }
   ],
   "source": [
    "set(enumerate(lista_de_caracteres))"
   ]
  },
  {
   "cell_type": "code",
   "execution_count": 37,
   "metadata": {
    "ExecuteTime": {
     "end_time": "2020-06-09T13:31:19.169973Z",
     "start_time": "2020-06-09T13:31:19.166595Z"
    }
   },
   "outputs": [
    {
     "data": {
      "text/plain": [
       "{0: 'a', 1: 'b', 2: 'c', 3: 'd', 4: 'e', 5: 'f', 6: 'g', 7: 'h'}"
      ]
     },
     "execution_count": 37,
     "metadata": {},
     "output_type": "execute_result"
    }
   ],
   "source": [
    "dict(enumerate(lista_de_caracteres))"
   ]
  },
  {
   "cell_type": "markdown",
   "metadata": {},
   "source": [
    "Podemos usar o ``objeto`` ``enumerate`` em um ``loop`` sem a necessidade de aplicar nenhum função que o transforme em um ``objeto`` iterável:"
   ]
  },
  {
   "cell_type": "code",
   "execution_count": 38,
   "metadata": {
    "ExecuteTime": {
     "end_time": "2020-06-09T13:31:35.289550Z",
     "start_time": "2020-06-09T13:31:35.285657Z"
    }
   },
   "outputs": [
    {
     "name": "stdout",
     "output_type": "stream",
     "text": [
      "O número 0 está no mesmo termo da letra a\n",
      "O número 1 está no mesmo termo da letra b\n",
      "O número 2 está no mesmo termo da letra c\n",
      "O número 3 está no mesmo termo da letra d\n",
      "O número 4 está no mesmo termo da letra e\n",
      "O número 5 está no mesmo termo da letra f\n",
      "O número 6 está no mesmo termo da letra g\n",
      "O número 7 está no mesmo termo da letra h\n"
     ]
    }
   ],
   "source": [
    "for numero, letra in enumerate(lista_de_caracteres):\n",
    "    print(\"O número\", numero, \"está no mesmo termo da letra\", letra)"
   ]
  },
  {
   "cell_type": "markdown",
   "metadata": {},
   "source": [
    "Podemos combinar ``condicionais`` com ``loops``. O ``loop`` ainda irá percorrer todos os termos do ``objeto`` ``iterável``, contudo, o código após o ``condicional`` só será executado se a condição for avaliada ``True``:"
   ]
  },
  {
   "cell_type": "code",
   "execution_count": 42,
   "metadata": {
    "ExecuteTime": {
     "end_time": "2020-06-09T14:00:12.122272Z",
     "start_time": "2020-06-09T14:00:12.118852Z"
    }
   },
   "outputs": [
    {
     "name": "stdout",
     "output_type": "stream",
     "text": [
      "Esse número é par: 0\n",
      "Esse número é ímpar: 1\n",
      "Esse número é par: 2\n",
      "Esse número é ímpar: 3\n",
      "Esse número é par: 4\n",
      "Esse número é ímpar: 5\n",
      "Esse número é par: 6\n",
      "Esse número é ímpar: 7\n",
      "Esse número é par: 8\n",
      "Esse número é ímpar: 9\n",
      "Esse número é par: 10\n"
     ]
    }
   ],
   "source": [
    "for numero in range(11):\n",
    "    # se o resto da divisão numero por 2 for igual a 0...\n",
    "    if numero % 2 == 0: \n",
    "        print('Esse número é par:', numero)\n",
    "    # caso contrário...\n",
    "    else:\n",
    "        print('Esse número é ímpar:', numero)"
   ]
  },
  {
   "cell_type": "markdown",
   "metadata": {},
   "source": [
    "<a class='cell' id='if_for_comprehension'></a>\n",
    "Também podemos combinar ``lista de compreensão`` com a [forma compacata de condicionais](#if_compacto). Para isso, basta colocarmos as condições antes do ``for``:"
   ]
  },
  {
   "cell_type": "code",
   "execution_count": 74,
   "metadata": {
    "ExecuteTime": {
     "end_time": "2020-06-09T15:29:24.146613Z",
     "start_time": "2020-06-09T15:29:24.143517Z"
    }
   },
   "outputs": [
    {
     "data": {
      "text/plain": [
       "[0, '11', 2, '33', 4, '55', 6, '77', 8, '99']"
      ]
     },
     "execution_count": 74,
     "metadata": {},
     "output_type": "execute_result"
    }
   ],
   "source": [
    "[i if i%2 == 0 else str(i)*2 for i in range(10)]"
   ]
  },
  {
   "cell_type": "markdown",
   "metadata": {},
   "source": [
    "Se quisermos colocar mais condicionais, basta colocar a condição a ser checada com um ``if``, mas sempre devemos terminar com uma condição ``else``, caso nenhuma das outras sejam validadas como ``True``"
   ]
  },
  {
   "cell_type": "code",
   "execution_count": 76,
   "metadata": {
    "ExecuteTime": {
     "end_time": "2020-06-09T15:31:58.536273Z",
     "start_time": "2020-06-09T15:31:58.531647Z"
    }
   },
   "outputs": [
    {
     "data": {
      "text/plain": [
       "[0,\n",
       " 'última condição.',\n",
       " 2,\n",
       " 'última condição.',\n",
       " 4,\n",
       " '55',\n",
       " 6,\n",
       " 'última condição.',\n",
       " 8,\n",
       " 'última condição.']"
      ]
     },
     "execution_count": 76,
     "metadata": {},
     "output_type": "execute_result"
    }
   ],
   "source": [
    "[i if i%2 == 0 else str(i)*2 if i == 5 else 'última condição.' for i in range(10)]"
   ]
  },
  {
   "cell_type": "markdown",
   "metadata": {},
   "source": [
    "Podemos usar ``loops`` também para apenas repetir um comando um certo número de vezes. Vamos supor que queremos imprimir 10 cópias de uma string. Podemos fazer isso da seguinte forma:"
   ]
  },
  {
   "cell_type": "code",
   "execution_count": 1,
   "metadata": {},
   "outputs": [
    {
     "name": "stdout",
     "output_type": "stream",
     "text": [
      "Eu quero café!\n",
      "Eu quero café!\n",
      "Eu quero café!\n",
      "Eu quero café!\n",
      "Eu quero café!\n",
      "Eu quero café!\n",
      "Eu quero café!\n",
      "Eu quero café!\n",
      "Eu quero café!\n",
      "Eu quero café!\n"
     ]
    }
   ],
   "source": [
    "for i in range(10):\n",
    "    print('Eu quero café!')"
   ]
  },
  {
   "cell_type": "markdown",
   "metadata": {},
   "source": [
    "É de costume usar o caracter ``_`` como variável que será ignorada no corpo do ``loop``:"
   ]
  },
  {
   "cell_type": "code",
   "execution_count": 2,
   "metadata": {},
   "outputs": [
    {
     "data": {
      "text/plain": [
       "['Eu quero café!',\n",
       " 'Eu quero café!',\n",
       " 'Eu quero café!',\n",
       " 'Eu quero café!',\n",
       " 'Eu quero café!',\n",
       " 'Eu quero café!',\n",
       " 'Eu quero café!',\n",
       " 'Eu quero café!',\n",
       " 'Eu quero café!',\n",
       " 'Eu quero café!']"
      ]
     },
     "execution_count": 2,
     "metadata": {},
     "output_type": "execute_result"
    }
   ],
   "source": [
    "['Eu quero café!' for _ in range(10)]"
   ]
  },
  {
   "cell_type": "markdown",
   "metadata": {},
   "source": [
    "Existe um outro tipo de ``loop`` em ``python``, o ``while``. Se uso é um pouco diferente. Ao invés de percorrer os valores de um ``objeto`` ``iterável``, ele executa o bloco de código até que uma condição seja encontrada. O código abaixo exemplifica seu funcionamento, onde a frase é imprimida até que o numero não seja mais menor que 5:"
   ]
  },
  {
   "cell_type": "code",
   "execution_count": 3,
   "metadata": {
    "ExecuteTime": {
     "end_time": "2020-06-09T15:56:19.899332Z",
     "start_time": "2020-06-09T15:56:19.896380Z"
    }
   },
   "outputs": [
    {
     "name": "stdout",
     "output_type": "stream",
     "text": [
      "0 O loop ainda está valendo.\n",
      "1 O loop ainda está valendo.\n",
      "2 O loop ainda está valendo.\n",
      "3 O loop ainda está valendo.\n",
      "4 O loop ainda está valendo.\n"
     ]
    }
   ],
   "source": [
    "numero = 0\n",
    "while numero < 5:\n",
    "    print(numero, 'O loop ainda está valendo.')\n",
    "    numero += 1"
   ]
  },
  {
   "cell_type": "markdown",
   "metadata": {},
   "source": [
    "Uma vez que o número fica igual a 5, a condição não é mais satisfeita como verdadeira e o ``loop`` é interrompido.\n",
    "\n",
    "É possível colocarmos outro código para executar caso o ``loop`` não avalie mais a condição como verdadeira. Para isso, usamos um ``else``:"
   ]
  },
  {
   "cell_type": "code",
   "execution_count": 5,
   "metadata": {
    "ExecuteTime": {
     "end_time": "2020-06-09T15:58:51.749710Z",
     "start_time": "2020-06-09T15:58:51.746302Z"
    }
   },
   "outputs": [
    {
     "name": "stdout",
     "output_type": "stream",
     "text": [
      "0 O loop ainda está valendo.\n",
      "1 O loop ainda está valendo.\n",
      "2 O loop ainda está valendo.\n",
      "3 O loop ainda está valendo.\n",
      "4 O loop ainda está valendo.\n",
      "A condição não é mais satisfeita, pois numero = 5\n"
     ]
    }
   ],
   "source": [
    "numero = 0\n",
    "while numero < 5:\n",
    "    print(numero, 'O loop ainda está valendo.')\n",
    "    numero += 1\n",
    "else:\n",
    "    print('A condição não é mais satisfeita, pois numero =', numero)"
   ]
  },
  {
   "cell_type": "markdown",
   "metadata": {},
   "source": [
    "Observe que se a condição do ``while`` sempre for verdadeira, o ``loop`` será infinito:\n",
    "\n",
    "```python\n",
    "numero = 0\n",
    "while True:\n",
    "    print(numero)\n",
    "    numero += 1\n",
    "```\n",
    "\n",
    "Contudo, podemos usar uma condição ``True`` e ainda assim sairmos do ``loop``. Para isso, usamos a ``declaração`` ``break`` dentro do código do ``loop`` ``\"infinito\"`` com alguma condição:"
   ]
  },
  {
   "cell_type": "code",
   "execution_count": 90,
   "metadata": {
    "ExecuteTime": {
     "end_time": "2020-06-09T16:11:13.928383Z",
     "start_time": "2020-06-09T16:11:13.924429Z"
    }
   },
   "outputs": [
    {
     "name": "stdout",
     "output_type": "stream",
     "text": [
      "0\n",
      "1\n",
      "2\n",
      "3\n",
      "4\n",
      "5\n",
      "6\n",
      "7\n",
      "8\n",
      "9\n",
      "10\n"
     ]
    }
   ],
   "source": [
    "numero = 0\n",
    "while True:\n",
    "    print(numero)\n",
    "    if numero == 10:\n",
    "        break\n",
    "    numero += 1"
   ]
  },
  {
   "cell_type": "markdown",
   "metadata": {},
   "source": [
    "Outro tipo de ``declaração`` usada em ``loops`` é a ``continue``. Ela recomeça o ``loop`` na próxima ``iteração`` se a condição é encontrada:"
   ]
  },
  {
   "cell_type": "code",
   "execution_count": 92,
   "metadata": {
    "ExecuteTime": {
     "end_time": "2020-06-09T16:11:21.348530Z",
     "start_time": "2020-06-09T16:11:21.345328Z"
    }
   },
   "outputs": [
    {
     "name": "stdout",
     "output_type": "stream",
     "text": [
      "1\n",
      "3\n",
      "4\n",
      "5\n",
      "6\n",
      "7\n",
      "8\n",
      "9\n",
      "10\n"
     ]
    }
   ],
   "source": [
    "numero = 0\n",
    "while numero < 10:\n",
    "    numero += 1\n",
    "    if numero == 2:\n",
    "        continue\n",
    "    print(numero)"
   ]
  },
  {
   "cell_type": "markdown",
   "metadata": {},
   "source": [
    "Essas declarações também podem ser usadas com o ``loop for``:"
   ]
  },
  {
   "cell_type": "code",
   "execution_count": 94,
   "metadata": {
    "ExecuteTime": {
     "end_time": "2020-06-09T16:11:31.109470Z",
     "start_time": "2020-06-09T16:11:31.106507Z"
    }
   },
   "outputs": [
    {
     "name": "stdout",
     "output_type": "stream",
     "text": [
      "0\n",
      "1\n",
      "2\n",
      "4\n",
      "5\n",
      "6\n",
      "7\n",
      "8\n",
      "9\n"
     ]
    }
   ],
   "source": [
    "for numero in range(10):\n",
    "    if numero == 3:\n",
    "        continue\n",
    "    \n",
    "    print(numero)"
   ]
  },
  {
   "cell_type": "code",
   "execution_count": 95,
   "metadata": {
    "ExecuteTime": {
     "end_time": "2020-06-09T16:11:50.276279Z",
     "start_time": "2020-06-09T16:11:50.273569Z"
    }
   },
   "outputs": [
    {
     "name": "stdout",
     "output_type": "stream",
     "text": [
      "0\n",
      "1\n",
      "2\n"
     ]
    }
   ],
   "source": [
    "for numero in range(10):\n",
    "    if numero == 3:\n",
    "        break\n",
    "    \n",
    "    print(numero)"
   ]
  },
  {
   "cell_type": "markdown",
   "metadata": {},
   "source": [
    "<a class='section' id='funcoes'></a>\n",
    "# Funções"
   ]
  },
  {
   "cell_type": "markdown",
   "metadata": {},
   "source": [
    "Quando estamos trabalhando em algum projeto, em algumas circunstâncias, é usar o mesmo bloco de código várias vezes durante as análises. Contudo, as vezes esse bloco de código pode ser meio grande, e ficar repetindo ele durante o projeto pode dificultar a leitura e prejudicar o entendimento das coisas. Para evitar isso e escrever um código mais limpo, quando nos deparamos com uma quantidade de códigos que precisarão ser executadas várias vezes, definimos uma ``função``. Podemos definir uma função em ``python`` usando a palavra ``def``, seguido pelo nome da função que você escolher acompanhada de parêntesis ``()`` e ``:``. Vamos ver um exemplo simples."
   ]
  },
  {
   "cell_type": "code",
   "execution_count": 7,
   "metadata": {},
   "outputs": [],
   "source": [
    "def essa_funcao_escreve_cafe():\n",
    "    print('Café!')"
   ]
  },
  {
   "cell_type": "markdown",
   "metadata": {},
   "source": [
    "Observe que o corpo da função, isto é, o código que ela executará uma vez que for chamada, encontra-se ``identado``. Se o código não estiver assim, um erro de ``identação`` será produzido. Para executar a função, basta escrevermos seu nome:"
   ]
  },
  {
   "cell_type": "code",
   "execution_count": 8,
   "metadata": {},
   "outputs": [
    {
     "name": "stdout",
     "output_type": "stream",
     "text": [
      "Café!\n"
     ]
    }
   ],
   "source": [
    "essa_funcao_escreve_cafe()"
   ]
  },
  {
   "cell_type": "markdown",
   "metadata": {},
   "source": [
    "Uma função pode receber argumentos. Isso faz com que elas sejam mais versáteis em seus comportamentos. Para fornecer argumentos a uma função, simplesmente explicitamos essas dentro do ``()`` e usamos os mesmos nomes no corpo da função:"
   ]
  },
  {
   "cell_type": "code",
   "execution_count": 9,
   "metadata": {},
   "outputs": [],
   "source": [
    "def soma_de_dois_numeros(num_1, num_2):\n",
    "    soma = num_1 + num_2\n",
    "    print(soma)"
   ]
  },
  {
   "cell_type": "markdown",
   "metadata": {},
   "source": [
    "E quando formos invocar a função, basta fornecermos os argumentos necessários:"
   ]
  },
  {
   "cell_type": "code",
   "execution_count": 10,
   "metadata": {},
   "outputs": [
    {
     "name": "stdout",
     "output_type": "stream",
     "text": [
      "2\n"
     ]
    }
   ],
   "source": [
    "soma_de_dois_numeros(1, 1)"
   ]
  },
  {
   "cell_type": "markdown",
   "metadata": {},
   "source": [
    "Algumas vezes as funções tem muitos argumentos e é mais conveniente para leitura especificar qual argumento recebe qual valor:"
   ]
  },
  {
   "cell_type": "code",
   "execution_count": 11,
   "metadata": {},
   "outputs": [
    {
     "name": "stdout",
     "output_type": "stream",
     "text": [
      "3\n"
     ]
    }
   ],
   "source": [
    "soma_de_dois_numeros(num_1=1, num_2=2)"
   ]
  },
  {
   "cell_type": "markdown",
   "metadata": {},
   "source": [
    "Se fornecermos os nomes dos argumentos e seus valores, não importa a ordem em que eles serão chamados:"
   ]
  },
  {
   "cell_type": "code",
   "execution_count": 13,
   "metadata": {},
   "outputs": [
    {
     "name": "stdout",
     "output_type": "stream",
     "text": [
      "5\n"
     ]
    }
   ],
   "source": [
    "soma_de_dois_numeros(num_2=3, num_1=2)"
   ]
  },
  {
   "cell_type": "markdown",
   "metadata": {},
   "source": [
    "Contudo, se não especificarmos algum deles, aí a ordem é importante:"
   ]
  },
  {
   "cell_type": "code",
   "execution_count": 14,
   "metadata": {},
   "outputs": [
    {
     "ename": "TypeError",
     "evalue": "soma_de_dois_numeros() got multiple values for argument 'num_1'",
     "output_type": "error",
     "traceback": [
      "\u001b[0;31m---------------------------------------------------------------------------\u001b[0m",
      "\u001b[0;31mTypeError\u001b[0m                                 Traceback (most recent call last)",
      "\u001b[0;32m<ipython-input-14-62cf580be6c1>\u001b[0m in \u001b[0;36m<module>\u001b[0;34m\u001b[0m\n\u001b[0;32m----> 1\u001b[0;31m \u001b[0msoma_de_dois_numeros\u001b[0m\u001b[0;34m(\u001b[0m\u001b[0;36m2\u001b[0m\u001b[0;34m,\u001b[0m \u001b[0mnum_1\u001b[0m\u001b[0;34m=\u001b[0m\u001b[0;36m3\u001b[0m\u001b[0;34m)\u001b[0m\u001b[0;34m\u001b[0m\u001b[0;34m\u001b[0m\u001b[0m\n\u001b[0m",
      "\u001b[0;31mTypeError\u001b[0m: soma_de_dois_numeros() got multiple values for argument 'num_1'"
     ]
    }
   ],
   "source": [
    "soma_de_dois_numeros(2, num_1=3)"
   ]
  },
  {
   "cell_type": "markdown",
   "metadata": {},
   "source": [
    "Nesse caso, o programa entende que o argumento ``num_1`` foi chamado duas vezes."
   ]
  },
  {
   "cell_type": "markdown",
   "metadata": {},
   "source": [
    "Em alguns casos, usamos a função diversas vezes, só que na maioria delas alguma das variáveis possuem sempre o mesmo valor. É possível que inicializemos a função com variáveis que já tenham um valor, mas que também seja possível mudá-las se quisermos, sem ter que criar uma outra função. Para isso, simplesmente atribuímos o valor desejado à variável usada como argumento na função na hora que a definimos. Vamos redefinir a função acima para ter o valor de ``num_2=3`` como padrão:"
   ]
  },
  {
   "cell_type": "code",
   "execution_count": 142,
   "metadata": {},
   "outputs": [],
   "source": [
    "def soma_de_dois_numeros(num_1, num_2=3):\n",
    "    soma = num_1 + num_2\n",
    "    print(soma)"
   ]
  },
  {
   "cell_type": "markdown",
   "metadata": {},
   "source": [
    "Assim, podemos até usar um único argumento na função, já que o outro é pré-especificado:"
   ]
  },
  {
   "cell_type": "code",
   "execution_count": 20,
   "metadata": {},
   "outputs": [
    {
     "name": "stdout",
     "output_type": "stream",
     "text": [
      "7\n"
     ]
    }
   ],
   "source": [
    "soma_de_dois_numeros(4)"
   ]
  },
  {
   "cell_type": "markdown",
   "metadata": {},
   "source": [
    "Caso, quisermos atribuir outro valor para ``num_2``, basta fornecer um segundo argumento, que corresponde à sua posição:"
   ]
  },
  {
   "cell_type": "code",
   "execution_count": 21,
   "metadata": {},
   "outputs": [
    {
     "name": "stdout",
     "output_type": "stream",
     "text": [
      "12\n"
     ]
    }
   ],
   "source": [
    "soma_de_dois_numeros(4, 8)"
   ]
  },
  {
   "cell_type": "markdown",
   "metadata": {},
   "source": [
    "Porém, as variáveis que são definidas previamente, devem ser posicionadas por último. Se tentarmos deixar o valor de ``num_1`` como definido e ``num_2`` não, encontramos um erro:"
   ]
  },
  {
   "cell_type": "code",
   "execution_count": 22,
   "metadata": {},
   "outputs": [
    {
     "ename": "SyntaxError",
     "evalue": "non-default argument follows default argument (<ipython-input-22-360262f5c066>, line 1)",
     "output_type": "error",
     "traceback": [
      "\u001b[0;36m  File \u001b[0;32m\"<ipython-input-22-360262f5c066>\"\u001b[0;36m, line \u001b[0;32m1\u001b[0m\n\u001b[0;31m    def soma_de_dois_numeros(num_1=5, num_2):\u001b[0m\n\u001b[0m                            ^\u001b[0m\n\u001b[0;31mSyntaxError\u001b[0m\u001b[0;31m:\u001b[0m non-default argument follows default argument\n"
     ]
    }
   ],
   "source": [
    "def soma_de_dois_numeros(num_1=5, num_2):\n",
    "    soma = num_1 + num_2\n",
    "    print(soma)"
   ]
  },
  {
   "cell_type": "markdown",
   "metadata": {},
   "source": [
    "Isso ocorre justamente pelo fato de podermos fornecer argumentos sem especificar o nome das variáveis, de maneira que eles são atribuídos na ordem em que são colocados na função. Portanto, se especificarmos o valor de algum argumento da função como padrão, temos que fazê-lo por último."
   ]
  },
  {
   "cell_type": "markdown",
   "metadata": {},
   "source": [
    "Observe que temos três variáveis na ``função`` ``soma_de_dois_numeros``: ``num_1``, ``num_2`` e ``soma``. O que acontece se criamos uma variável com o mesmo nome fora da ``função``? Por exemplos, vamos criar uma variável ``num_1`` fora do corpo da função:"
   ]
  },
  {
   "cell_type": "code",
   "execution_count": 143,
   "metadata": {},
   "outputs": [],
   "source": [
    "num_1 = 3"
   ]
  },
  {
   "cell_type": "code",
   "execution_count": 144,
   "metadata": {},
   "outputs": [
    {
     "name": "stdout",
     "output_type": "stream",
     "text": [
      "3\n"
     ]
    }
   ],
   "source": [
    "print(num_1)"
   ]
  },
  {
   "cell_type": "markdown",
   "metadata": {},
   "source": [
    "E agora tentamos chamar a função sem atribuir valor nenhum para a variável ``num_1``:"
   ]
  },
  {
   "cell_type": "code",
   "execution_count": 145,
   "metadata": {},
   "outputs": [
    {
     "ename": "TypeError",
     "evalue": "soma_de_dois_numeros() missing 1 required positional argument: 'num_1'",
     "output_type": "error",
     "traceback": [
      "\u001b[0;31m---------------------------------------------------------------------------\u001b[0m",
      "\u001b[0;31mTypeError\u001b[0m                                 Traceback (most recent call last)",
      "\u001b[0;32m<ipython-input-145-2bf79459c3af>\u001b[0m in \u001b[0;36m<module>\u001b[0;34m\u001b[0m\n\u001b[0;32m----> 1\u001b[0;31m \u001b[0msoma_de_dois_numeros\u001b[0m\u001b[0;34m(\u001b[0m\u001b[0;34m)\u001b[0m\u001b[0;34m\u001b[0m\u001b[0;34m\u001b[0m\u001b[0m\n\u001b[0m",
      "\u001b[0;31mTypeError\u001b[0m: soma_de_dois_numeros() missing 1 required positional argument: 'num_1'"
     ]
    }
   ],
   "source": [
    "soma_de_dois_numeros()"
   ]
  },
  {
   "cell_type": "markdown",
   "metadata": {},
   "source": [
    "Um ``TypeError`` é retornado, nos dizendo que a variável ``num_1`` está faltando. Podemos então criar variáveis ``globais`` que irão valer em todo escopo do código que digitarmos menos dentro do corpo de ``funções``. "
   ]
  },
  {
   "cell_type": "markdown",
   "metadata": {},
   "source": [
    "Vimos que a função imprimi o resultado da soma dos números escolhidos. Seria possível usar esse resultado para efetuar uma outra operação? Por exemplo, usar o resultado da função para multiplicar outro número? Vamos tentar:"
   ]
  },
  {
   "cell_type": "code",
   "execution_count": 23,
   "metadata": {},
   "outputs": [
    {
     "name": "stdout",
     "output_type": "stream",
     "text": [
      "7\n"
     ]
    },
    {
     "ename": "TypeError",
     "evalue": "unsupported operand type(s) for *: 'NoneType' and 'int'",
     "output_type": "error",
     "traceback": [
      "\u001b[0;31m---------------------------------------------------------------------------\u001b[0m",
      "\u001b[0;31mTypeError\u001b[0m                                 Traceback (most recent call last)",
      "\u001b[0;32m<ipython-input-23-76a015dd45ef>\u001b[0m in \u001b[0;36m<module>\u001b[0;34m\u001b[0m\n\u001b[0;32m----> 1\u001b[0;31m \u001b[0msoma_de_dois_numeros\u001b[0m\u001b[0;34m(\u001b[0m\u001b[0;36m4\u001b[0m\u001b[0;34m,\u001b[0m \u001b[0;36m3\u001b[0m\u001b[0;34m)\u001b[0m \u001b[0;34m*\u001b[0m \u001b[0;36m2\u001b[0m\u001b[0;34m\u001b[0m\u001b[0;34m\u001b[0m\u001b[0m\n\u001b[0m",
      "\u001b[0;31mTypeError\u001b[0m: unsupported operand type(s) for *: 'NoneType' and 'int'"
     ]
    }
   ],
   "source": [
    "soma_de_dois_numeros(4, 3) * 2"
   ]
  },
  {
   "cell_type": "markdown",
   "metadata": {},
   "source": [
    "No erro acima, ``TypeError``, podemos ver que a multiplicação ``*`` não suporta operar com uma variável do tipo ``NoneType`` e ``int``. Esse erro ocorre pois a função só imprimi o valor na tela, ela não retorna nada! Ela simplesmente obedece o comando da função ``print()`` e não possui um tipo:"
   ]
  },
  {
   "cell_type": "code",
   "execution_count": 28,
   "metadata": {},
   "outputs": [
    {
     "name": "stdout",
     "output_type": "stream",
     "text": [
      "7\n"
     ]
    },
    {
     "data": {
      "text/plain": [
       "NoneType"
      ]
     },
     "execution_count": 28,
     "metadata": {},
     "output_type": "execute_result"
    }
   ],
   "source": [
    "type(soma_de_dois_numeros(4, 3))"
   ]
  },
  {
   "cell_type": "markdown",
   "metadata": {},
   "source": [
    "Se quisermos fazer nossa função retornar um valor que possamos usar posteriormente em outras operações, devemos usar o ``operador`` ``return``, especificando o que deve ser retornado. Vamos então usar esse novo operador e retornar o valor da soma em nossa função ao invés de imprimí-lo:"
   ]
  },
  {
   "cell_type": "code",
   "execution_count": 29,
   "metadata": {},
   "outputs": [],
   "source": [
    "def soma_de_dois_numeros(num_1, num_2=3):\n",
    "    soma = num_1 + num_2\n",
    "    return soma"
   ]
  },
  {
   "cell_type": "markdown",
   "metadata": {},
   "source": [
    "Se executarmos a função agora:"
   ]
  },
  {
   "cell_type": "code",
   "execution_count": 26,
   "metadata": {},
   "outputs": [
    {
     "data": {
      "text/plain": [
       "12"
      ]
     },
     "execution_count": 26,
     "metadata": {},
     "output_type": "execute_result"
    }
   ],
   "source": [
    "soma_de_dois_numeros(4, 8)"
   ]
  },
  {
   "cell_type": "markdown",
   "metadata": {},
   "source": [
    "Aqui no ``Notebook``, o valor da soma ainda é imprimido, devido ao ambiente dinâmico. Contudo, se executassemos o comando acima em um ``script`` separado, teríamos que aplicar a função ``print()`` para o valor ser mostrado na tela. E além disso, seu tipo agora é"
   ]
  },
  {
   "cell_type": "code",
   "execution_count": 30,
   "metadata": {},
   "outputs": [
    {
     "data": {
      "text/plain": [
       "int"
      ]
     },
     "execution_count": 30,
     "metadata": {},
     "output_type": "execute_result"
    }
   ],
   "source": [
    "type(soma_de_dois_numeros(4, 8))"
   ]
  },
  {
   "cell_type": "markdown",
   "metadata": {},
   "source": [
    "Agora que a função retorna um valor, podemos efetuar operações com seus resultados:"
   ]
  },
  {
   "cell_type": "code",
   "execution_count": 31,
   "metadata": {},
   "outputs": [
    {
     "data": {
      "text/plain": [
       "24"
      ]
     },
     "execution_count": 31,
     "metadata": {},
     "output_type": "execute_result"
    }
   ],
   "source": [
    "soma_de_dois_numeros(4, 8) * 2"
   ]
  },
  {
   "cell_type": "markdown",
   "metadata": {},
   "source": [
    "Assim como comentários nos ajudam a entender o código e, na maioria das vezes, nos lembrar o que foi feito e o porquê, é possível criar uma ``documentação`` que explica como as funções funcionam. Para acessar a ``documentação`` de uma função, podemos usar o ``método`` ``__doc__``:"
   ]
  },
  {
   "cell_type": "code",
   "execution_count": 54,
   "metadata": {},
   "outputs": [
    {
     "data": {
      "text/plain": [
       "'D.update([E, ]**F) -> None.  Update D from dict/iterable E and F.\\nIf E is present and has a .keys() method, then does:  for k in E: D[k] = E[k]\\nIf E is present and lacks a .keys() method, then does:  for k, v in E: D[k] = v\\nIn either case, this is followed by: for k in F:  D[k] = F[k]'"
      ]
     },
     "execution_count": 54,
     "metadata": {},
     "output_type": "execute_result"
    }
   ],
   "source": [
    " dict.update.__doc__"
   ]
  },
  {
   "cell_type": "markdown",
   "metadata": {},
   "source": [
    "Veja que o texto explica como usar a função e o que ela faz. Também podemos usar um ``?`` na antes ou depois da função, isso abrirá uma janela de diálogo com uma formatação de texto melhor:"
   ]
  },
  {
   "cell_type": "code",
   "execution_count": 55,
   "metadata": {},
   "outputs": [],
   "source": [
    "dict.update?"
   ]
  },
  {
   "cell_type": "markdown",
   "metadata": {},
   "source": [
    "Uma outra forma ainda, é colocar o parêntesis da função e clicar dentro dele e então apertar ``shift+tab``, isso também abrirá uma janela de diálogo. Essa pode ser expandida se apertamos ``shift+tab`` mais uma vez. Apertando ``shift+tab`` quatro vezes a ``documentação`` fica fixada na parte inferior da página."
   ]
  },
  {
   "cell_type": "code",
   "execution_count": null,
   "metadata": {},
   "outputs": [],
   "source": [
    "dict.update()"
   ]
  },
  {
   "cell_type": "markdown",
   "metadata": {},
   "source": [
    "Para criarmos uma ``documentação`` para nossa função, devemos usar aspas triplas ``\"\"\"`` logo após a linha de definição da função. A explicação deve ficar contida entre o par de aspas triplas ``\"\"\"`` e após isso vem o código executado quando a função é chamada. Vamos dar um exemplo:"
   ]
  },
  {
   "cell_type": "code",
   "execution_count": 64,
   "metadata": {},
   "outputs": [],
   "source": [
    "def fatorial(n):\n",
    "    \"\"\"\n",
    "    Essa função calcula o fatorial de um número inteiro: n! = n.(n-1).(n-2)...\n",
    "    \n",
    "    Argumentos:\n",
    "    -----------\n",
    "    n - tipo int: número que queremos calcular o fatorial\n",
    "    \n",
    "    Retorno:\n",
    "    --------\n",
    "    fatorial - tipo int: função retorna o fatorial do número n.\n",
    "    \n",
    "    Exemplo:\n",
    "    --------\n",
    "    >>> fatorial(4)\n",
    "    24\n",
    "    \"\"\"\n",
    "    # definimos uma variável que será retornada no final\n",
    "    resultado = 1\n",
    "    \n",
    "    # fazemos um loop para ir multiplicando ``resultado``\n",
    "    # pelos números percorridos. a função ``range()``\n",
    "    # é usada para termos uma lista de número que começam\n",
    "    # em n e vão até 1 com intervalo -1, isto é, \n",
    "    # na primeira iteração i=n,\n",
    "    # na segunda iteração i=n-1 e assim por diante \n",
    "    for i in range(n, 0, -1):\n",
    "        # ``resultado`` é multiplicado por i e redefinido\n",
    "        # como ``resultado`` novamente\n",
    "        resultado *= i\n",
    "    \n",
    "    # retornamos ``resultado`` após o ``loop`` finalizar\n",
    "    return resultado"
   ]
  },
  {
   "cell_type": "markdown",
   "metadata": {},
   "source": [
    "Se acessarmos a ``documentação`` da nossa função ``fatorial`` como:"
   ]
  },
  {
   "cell_type": "code",
   "execution_count": 65,
   "metadata": {},
   "outputs": [
    {
     "data": {
      "text/plain": [
       "'\\n    Essa função calcula o fatorial de um número inteiro: n! = n.(n-1).(n-2)...\\n    \\n    Argumentos:\\n    -----------\\n    n - tipo int: número que queremos calcular o fatorial\\n    \\n    Retorno:\\n    --------\\n    fatorial - tipo int: função retorna o fatorial do número n.\\n    \\n    Exemplo:\\n    --------\\n    >>> fatorial(4)\\n    24\\n    '"
      ]
     },
     "execution_count": 65,
     "metadata": {},
     "output_type": "execute_result"
    }
   ],
   "source": [
    "fatorial.__doc__"
   ]
  },
  {
   "cell_type": "markdown",
   "metadata": {},
   "source": [
    "E a utilização da função:"
   ]
  },
  {
   "cell_type": "code",
   "execution_count": 63,
   "metadata": {},
   "outputs": [
    {
     "data": {
      "text/plain": [
       "720"
      ]
     },
     "execution_count": 63,
     "metadata": {},
     "output_type": "execute_result"
    }
   ],
   "source": [
    "fatorial(6)"
   ]
  },
  {
   "cell_type": "markdown",
   "metadata": {},
   "source": [
    "<a class='section' id='importando_pacotes'></a>\n",
    "# Importando pacotes"
   ]
  },
  {
   "cell_type": "markdown",
   "metadata": {},
   "source": [
    "Conformes fomos estudando novos conceitos, vimos que algumas funções como ``print()``, ``type()``, ``dir()``, ``range()``, ``enumerate()`` etc. Essas funções que utilizamos são ``inatas`` do próprio ``python``. Contudo, vimos que nem todas funções que podemos precisar estão disponíveis. Por exemplo, tivemos que calcular as raízes de um número usando a [notação de potência](#pwr_for_sqrt), pois não existe uma função inata para isso. Contudo, podemos ``importar`` ``pacotes`` também chamados de ``módulos`` que nos forncem uma porção de funções extras. Por exemplo, podemos encontrar uma função que calcula a raíz quadrada de qualquer número no ``pacote`` ``math``. Podemos então usar essa função se importarmos esse ``pacote``. Para ``importar`` qualquer ``pacote``, basta usarmos a palavra ``import`` e o nome do pacote. Nesse nosso exemplo, vamos importar o ``pacote`` ``math``:"
   ]
  },
  {
   "cell_type": "code",
   "execution_count": 2,
   "metadata": {
    "ExecuteTime": {
     "end_time": "2020-06-09T22:06:30.554085Z",
     "start_time": "2020-06-09T22:06:30.552165Z"
    }
   },
   "outputs": [],
   "source": [
    "import math"
   ]
  },
  {
   "cell_type": "markdown",
   "metadata": {},
   "source": [
    "Se inspecionarmos o tipo de ``math``, veremos que ele é um ``módulo``:"
   ]
  },
  {
   "cell_type": "code",
   "execution_count": 4,
   "metadata": {
    "ExecuteTime": {
     "end_time": "2020-06-09T22:15:26.749994Z",
     "start_time": "2020-06-09T22:15:26.747245Z"
    }
   },
   "outputs": [
    {
     "data": {
      "text/plain": [
       "module"
      ]
     },
     "execution_count": 4,
     "metadata": {},
     "output_type": "execute_result"
    }
   ],
   "source": [
    "type(math)"
   ]
  },
  {
   "cell_type": "markdown",
   "metadata": {},
   "source": [
    "Se usarmos a função ``dir()``, podemos ver todas as funções desse ``módulo``:"
   ]
  },
  {
   "cell_type": "code",
   "execution_count": 9,
   "metadata": {
    "ExecuteTime": {
     "end_time": "2020-06-09T22:21:25.730022Z",
     "start_time": "2020-06-09T22:21:25.726629Z"
    }
   },
   "outputs": [
    {
     "data": {
      "text/plain": [
       "['__doc__',\n",
       " '__file__',\n",
       " '__loader__',\n",
       " '__name__',\n",
       " '__package__',\n",
       " '__spec__',\n",
       " 'acos',\n",
       " 'acosh',\n",
       " 'asin',\n",
       " 'asinh',\n",
       " 'atan',\n",
       " 'atan2',\n",
       " 'atanh',\n",
       " 'ceil',\n",
       " 'copysign',\n",
       " 'cos',\n",
       " 'cosh',\n",
       " 'degrees',\n",
       " 'e',\n",
       " 'erf',\n",
       " 'erfc',\n",
       " 'exp',\n",
       " 'expm1',\n",
       " 'fabs',\n",
       " 'factorial',\n",
       " 'floor',\n",
       " 'fmod',\n",
       " 'frexp',\n",
       " 'fsum',\n",
       " 'gamma',\n",
       " 'gcd',\n",
       " 'hypot',\n",
       " 'inf',\n",
       " 'isclose',\n",
       " 'isfinite',\n",
       " 'isinf',\n",
       " 'isnan',\n",
       " 'ldexp',\n",
       " 'lgamma',\n",
       " 'log',\n",
       " 'log10',\n",
       " 'log1p',\n",
       " 'log2',\n",
       " 'modf',\n",
       " 'nan',\n",
       " 'pi',\n",
       " 'pow',\n",
       " 'radians',\n",
       " 'remainder',\n",
       " 'sin',\n",
       " 'sinh',\n",
       " 'sqrt',\n",
       " 'tan',\n",
       " 'tanh',\n",
       " 'tau',\n",
       " 'trunc']"
      ]
     },
     "execution_count": 9,
     "metadata": {},
     "output_type": "execute_result"
    }
   ],
   "source": [
    "dir(math)"
   ]
  },
  {
   "cell_type": "markdown",
   "metadata": {},
   "source": [
    "Veja que existem funções trigonométricas como ``cos``, ``sin``, ``tan`` e suas funções inversas ``acos``, ``asin`` e ``atan``. Temos também constantes matemáticas como o ``pi`` e o número de Euler ``e``. Podemos acessar essas funções escrevendo o nome do ``módulo`` e depois aplicando a notação de ``.`` e então usar a função ou constante escolhida. Por exemplo, vamos verificar o valor de ``pi``:"
   ]
  },
  {
   "cell_type": "code",
   "execution_count": 11,
   "metadata": {
    "ExecuteTime": {
     "end_time": "2020-06-09T22:37:08.334570Z",
     "start_time": "2020-06-09T22:37:08.331568Z"
    }
   },
   "outputs": [
    {
     "data": {
      "text/plain": [
       "float"
      ]
     },
     "execution_count": 11,
     "metadata": {},
     "output_type": "execute_result"
    }
   ],
   "source": [
    "math.pi"
   ]
  },
  {
   "cell_type": "markdown",
   "metadata": {},
   "source": [
    "Veja que um dos últimos nomes que aparecem na lista é ``sqrt``. Para usar essa função, usamos a notação de ``.`` da mesma forma:"
   ]
  },
  {
   "cell_type": "code",
   "execution_count": 13,
   "metadata": {
    "ExecuteTime": {
     "end_time": "2020-06-09T22:38:10.917999Z",
     "start_time": "2020-06-09T22:38:10.915233Z"
    }
   },
   "outputs": [
    {
     "data": {
      "text/plain": [
       "3.0"
      ]
     },
     "execution_count": 13,
     "metadata": {},
     "output_type": "execute_result"
    }
   ],
   "source": [
    "math.sqrt(9)"
   ]
  },
  {
   "cell_type": "markdown",
   "metadata": {},
   "source": [
    "Observe que se tentarmos usar as funções ou variáveis do ``módulo`` importanto, sem usar a notação de ``.``, encontramos um erro:"
   ]
  },
  {
   "cell_type": "code",
   "execution_count": 14,
   "metadata": {
    "ExecuteTime": {
     "end_time": "2020-06-09T22:45:47.133952Z",
     "start_time": "2020-06-09T22:45:47.127957Z"
    },
    "scrolled": true
   },
   "outputs": [
    {
     "ename": "NameError",
     "evalue": "name 'pi' is not defined",
     "output_type": "error",
     "traceback": [
      "\u001b[0;31m---------------------------------------------------------------------------\u001b[0m",
      "\u001b[0;31mNameError\u001b[0m                                 Traceback (most recent call last)",
      "\u001b[0;32m<ipython-input-14-f84ab820532c>\u001b[0m in \u001b[0;36m<module>\u001b[0;34m\u001b[0m\n\u001b[0;32m----> 1\u001b[0;31m \u001b[0mpi\u001b[0m\u001b[0;34m\u001b[0m\u001b[0;34m\u001b[0m\u001b[0m\n\u001b[0m",
      "\u001b[0;31mNameError\u001b[0m: name 'pi' is not defined"
     ]
    }
   ],
   "source": [
    "pi"
   ]
  },
  {
   "cell_type": "markdown",
   "metadata": {},
   "source": [
    "O ``NameError`` é retornando, dizendo que a variável ``pi`` não está definida."
   ]
  },
  {
   "cell_type": "markdown",
   "metadata": {},
   "source": [
    "Em algumas situações, acabamos precisando só de uma função ou outra do ``módulo``. Podemos importar somente aquilo que precisamos usando a seguinte ``sintaxe``:\n",
    "\n",
    "```python\n",
    ">>> from modulo_exemplo import funcao_exemplo, variável_exemplo\n",
    "```\n",
    "\n",
    "Assim, ``do`` ``modulo_exemplo`` importamos a ``funcao_exemplo`` e a ``variavel_exemplo``. Para usá-las, não precisamos mais da notação de ``.``, podemos invocá-las usando somente seus nomes. Vamos exemplificar isso usando o ``módulo`` ``math`` mais uma vez e importanto a ``função`` ``sqrt()`` e o número ``pi``:"
   ]
  },
  {
   "cell_type": "code",
   "execution_count": 15,
   "metadata": {
    "ExecuteTime": {
     "end_time": "2020-06-09T22:48:02.976909Z",
     "start_time": "2020-06-09T22:48:02.974920Z"
    }
   },
   "outputs": [],
   "source": [
    "from math import sqrt, pi"
   ]
  },
  {
   "cell_type": "code",
   "execution_count": 16,
   "metadata": {
    "ExecuteTime": {
     "end_time": "2020-06-09T22:48:10.007382Z",
     "start_time": "2020-06-09T22:48:10.004713Z"
    }
   },
   "outputs": [
    {
     "data": {
      "text/plain": [
       "3.141592653589793"
      ]
     },
     "execution_count": 16,
     "metadata": {},
     "output_type": "execute_result"
    }
   ],
   "source": [
    "pi"
   ]
  },
  {
   "cell_type": "markdown",
   "metadata": {},
   "source": [
    "Não encontramos mais o erro anterior, quando tentamos usar somente a variável ``pi``, pois quando a importamos dessa forma, ela fica definida."
   ]
  },
  {
   "cell_type": "markdown",
   "metadata": {},
   "source": [
    "Outra característica de quando estamos importando ``módulos`` é que podemos renomeá-los. Algumas vezes seu nome é muito grande e é conveniente uma abreviação ou essa já é padrão usado por toda comunidade. Para importar um módulo e renomeá-lo, usamos a seguinte ``sintaxe``:\n",
    "\n",
    "```python\n",
    ">>> import modulo_nome_original as nome_que_eu_quiser\n",
    "```\n",
    "\n",
    "Vamos ilustrar esse conceito usando mais uma vez usando o ``módulo`` ``math``. Vamos usar o ``módulo`` como ``funcoes_matematicas``, só afim de exemplificar o conceito. \n",
    "\n",
    "Primeiro vemos que ``funcoes_matematicas`` não está definida:"
   ]
  },
  {
   "cell_type": "code",
   "execution_count": 22,
   "metadata": {
    "ExecuteTime": {
     "end_time": "2020-06-09T23:03:50.446090Z",
     "start_time": "2020-06-09T23:03:50.440173Z"
    }
   },
   "outputs": [
    {
     "ename": "NameError",
     "evalue": "name 'funcoes_matematicas' is not defined",
     "output_type": "error",
     "traceback": [
      "\u001b[0;31m---------------------------------------------------------------------------\u001b[0m",
      "\u001b[0;31mNameError\u001b[0m                                 Traceback (most recent call last)",
      "\u001b[0;32m<ipython-input-22-1c40e72b4d4f>\u001b[0m in \u001b[0;36m<module>\u001b[0;34m\u001b[0m\n\u001b[0;32m----> 1\u001b[0;31m \u001b[0mtype\u001b[0m\u001b[0;34m(\u001b[0m\u001b[0mfuncoes_matematicas\u001b[0m\u001b[0;34m)\u001b[0m\u001b[0;34m\u001b[0m\u001b[0;34m\u001b[0m\u001b[0m\n\u001b[0m",
      "\u001b[0;31mNameError\u001b[0m: name 'funcoes_matematicas' is not defined"
     ]
    }
   ],
   "source": [
    "type(funcoes_matematicas)"
   ]
  },
  {
   "cell_type": "markdown",
   "metadata": {},
   "source": [
    "Agora vamos ``importar`` o ``módulo`` ``math`` ``como`` ``funcoes_matematicas``:"
   ]
  },
  {
   "cell_type": "code",
   "execution_count": 24,
   "metadata": {
    "ExecuteTime": {
     "end_time": "2020-06-09T23:04:00.810250Z",
     "start_time": "2020-06-09T23:04:00.808186Z"
    }
   },
   "outputs": [],
   "source": [
    "import math as funcoes_matematicas"
   ]
  },
  {
   "cell_type": "markdown",
   "metadata": {},
   "source": [
    "Se inspecionarmos ``funcoes_matematicas`` novamente:"
   ]
  },
  {
   "cell_type": "code",
   "execution_count": 25,
   "metadata": {
    "ExecuteTime": {
     "end_time": "2020-06-09T23:04:02.414151Z",
     "start_time": "2020-06-09T23:04:02.411498Z"
    }
   },
   "outputs": [
    {
     "data": {
      "text/plain": [
       "module"
      ]
     },
     "execution_count": 25,
     "metadata": {},
     "output_type": "execute_result"
    }
   ],
   "source": [
    "type(funcoes_matematicas)"
   ]
  },
  {
   "cell_type": "markdown",
   "metadata": {},
   "source": [
    "De modo que podemos invocar as funções do ``módulo`` usando a notação de ``.``:"
   ]
  },
  {
   "cell_type": "code",
   "execution_count": 27,
   "metadata": {
    "ExecuteTime": {
     "end_time": "2020-06-09T23:28:49.569367Z",
     "start_time": "2020-06-09T23:28:49.566855Z"
    },
    "scrolled": true
   },
   "outputs": [
    {
     "data": {
      "text/plain": [
       "3.141592653589793"
      ]
     },
     "execution_count": 27,
     "metadata": {},
     "output_type": "execute_result"
    }
   ],
   "source": [
    "funcoes_matematicas.pi"
   ]
  },
  {
   "cell_type": "markdown",
   "metadata": {},
   "source": [
    "Também é possível importar as funções de um ``módulo`` com outro nome. Para isso, usamos a mesma ``sintaxe``, usando o ``from`` especificando o ``módulo`` dos quais as funções são obtidas, usamos o ``import`` para importar as funções desejadas e após isso usamos o ``as`` para especificar o nomde desejado:"
   ]
  },
  {
   "cell_type": "code",
   "execution_count": 5,
   "metadata": {},
   "outputs": [],
   "source": [
    "from math import sqrt as raiz_quadrada"
   ]
  },
  {
   "cell_type": "code",
   "execution_count": 6,
   "metadata": {},
   "outputs": [
    {
     "data": {
      "text/plain": [
       "9.0"
      ]
     },
     "execution_count": 6,
     "metadata": {},
     "output_type": "execute_result"
    }
   ],
   "source": [
    "raiz_quadrada(81)"
   ]
  },
  {
   "cell_type": "markdown",
   "metadata": {},
   "source": [
    "É possível também importar todas as funções de um ``módulo`` de uma única vez para não nos preocuparmos com a notação de ``.``. Para isso, usamos um ``*``:"
   ]
  },
  {
   "cell_type": "code",
   "execution_count": 28,
   "metadata": {
    "ExecuteTime": {
     "end_time": "2020-06-09T23:30:30.321325Z",
     "start_time": "2020-06-09T23:30:30.319114Z"
    }
   },
   "outputs": [],
   "source": [
    "from math import *"
   ]
  },
  {
   "cell_type": "markdown",
   "metadata": {},
   "source": [
    "Agora podemos usar qualquer função e variável do ``módulo`` ``math`` sem ter que usar a notação de ``.``, por exemplo:"
   ]
  },
  {
   "cell_type": "code",
   "execution_count": 29,
   "metadata": {
    "ExecuteTime": {
     "end_time": "2020-06-09T23:37:05.742967Z",
     "start_time": "2020-06-09T23:37:05.739472Z"
    }
   },
   "outputs": [
    {
     "data": {
      "text/plain": [
       "1.0"
      ]
     },
     "execution_count": 29,
     "metadata": {},
     "output_type": "execute_result"
    }
   ],
   "source": [
    "cos(0)"
   ]
  },
  {
   "cell_type": "code",
   "execution_count": 30,
   "metadata": {
    "ExecuteTime": {
     "end_time": "2020-06-09T23:37:12.155484Z",
     "start_time": "2020-06-09T23:37:12.152846Z"
    }
   },
   "outputs": [
    {
     "data": {
      "text/plain": [
       "1.0"
      ]
     },
     "execution_count": 30,
     "metadata": {},
     "output_type": "execute_result"
    }
   ],
   "source": [
    "sin(pi/2)"
   ]
  },
  {
   "cell_type": "code",
   "execution_count": 32,
   "metadata": {
    "ExecuteTime": {
     "end_time": "2020-06-09T23:37:29.819554Z",
     "start_time": "2020-06-09T23:37:29.817191Z"
    }
   },
   "outputs": [
    {
     "data": {
      "text/plain": [
       "2.718281828459045"
      ]
     },
     "execution_count": 32,
     "metadata": {},
     "output_type": "execute_result"
    }
   ],
   "source": [
    "# número de Euler\n",
    "e"
   ]
  },
  {
   "cell_type": "markdown",
   "metadata": {},
   "source": [
    "Existem três pacotes que são muito úteis na análise de dados. O ``módulo`` [``pandas``](https://pandas.pydata.org/) é bastante utilizado tanto para visualização dos dados em forma de tabelas quanto gráficos. Ele também permite uma manipulação fácil dos dados com diversas ferramentas já prontas. Outro ``módulo`` importante é o [``numpy``](https://numpy.org/). Com ele podemos criar ``arrays``, que são estruturas ordenadas, parecidas com listas. Contudo, seu poder de criação de estruturas vai além de ``\"listas\"`` unidimensionais, nos permitindo criar matrizes comuns e multidimensionais. A visualização dos dados em forma de gráfico é essencial em uma análise. O [``matplotlib``](https://matplotlib.org/) traz diversas ferramentas para a confecção de gráficos de todos os tipos. Aqui iremos trabalhar com o básico desses pacotes para podermos fazer nossas análises nos dados dos experimentos de cinemática da disciplina de [Laboratório de Física Geral I](http://site.dfi.uem.br/wp-content/uploads/2016/10/3057-Lab.-Fisica-Geral-I-programa-2007.pdf), oferecida pelo [Departamento de Física](http://site.dfi.uem.br/) da [Universidade Estadual de Maringá](http://www.uem.br/)."
   ]
  },
  {
   "cell_type": "markdown",
   "metadata": {},
   "source": [
    "<a class='section' id='numpy'></a>\n",
    "# Numpy"
   ]
  },
  {
   "cell_type": "markdown",
   "metadata": {},
   "source": [
    "O ``numpy`` possui um arsenal de ``métodos`` para criar e trabalhar com ``arrays``. Ele permite uma implementação rápida e fácil das funções e podemos fazer diversas coisas. Em nossas aulas usaremos algumas funções básicas desse ``módulo``, as quais serão usadas em aulas posteriores."
   ]
  },
  {
   "cell_type": "markdown",
   "metadata": {},
   "source": [
    "Primeiramente, devemos ``importar`` o ``módulo``. É uma convenção fazer isso da seguinte forma:"
   ]
  },
  {
   "cell_type": "code",
   "execution_count": 67,
   "metadata": {},
   "outputs": [],
   "source": [
    "import numpy as np"
   ]
  },
  {
   "cell_type": "markdown",
   "metadata": {},
   "source": [
    "Portanto, qualquer função que formos usar, que pertence a esse ``módulo`` deve ser feito o uso da notação de ``.``. Podemos usar a função ``dir()`` para ver quais ferramentas estão disponíveis. A lista é grande, então vamos mostrar só algumas:"
   ]
  },
  {
   "cell_type": "code",
   "execution_count": 79,
   "metadata": {},
   "outputs": [
    {
     "data": {
      "text/plain": [
       "['arange',\n",
       " 'arccos',\n",
       " 'arccosh',\n",
       " 'arcsin',\n",
       " 'arcsinh',\n",
       " 'arctan',\n",
       " 'arctan2',\n",
       " 'arctanh',\n",
       " 'argmax',\n",
       " 'argmin',\n",
       " 'argpartition',\n",
       " 'argsort',\n",
       " 'argwhere',\n",
       " 'around',\n",
       " 'array']"
      ]
     },
     "execution_count": 79,
     "metadata": {},
     "output_type": "execute_result"
    }
   ],
   "source": [
    "dir(np)[86:101]"
   ]
  },
  {
   "cell_type": "markdown",
   "metadata": {},
   "source": [
    "A primeira função que aparece na lista anterior é a ``arange()``. Essa função funciona de maneira parecida com a função ``range()``, a qual é uma função ``inata``. Contudo, ao invés de nos retornar um objeto ``iterável``, ela já nos retorna um ``array``:"
   ]
  },
  {
   "cell_type": "code",
   "execution_count": 88,
   "metadata": {},
   "outputs": [
    {
     "data": {
      "text/plain": [
       "array([0, 1, 2, 3, 4, 5, 6, 7, 8, 9])"
      ]
     },
     "execution_count": 88,
     "metadata": {},
     "output_type": "execute_result"
    }
   ],
   "source": [
    "primeiro_array = np.arange(10)\n",
    "primeiro_array"
   ]
  },
  {
   "cell_type": "markdown",
   "metadata": {},
   "source": [
    "Veja que a função retorna algo muito parecido com uma lista, contudo, antes vemos um ``array`` escrito. Isso demonstra que o ``objeto`` sendo mostrado é um:"
   ]
  },
  {
   "cell_type": "code",
   "execution_count": 89,
   "metadata": {},
   "outputs": [
    {
     "data": {
      "text/plain": [
       "numpy.ndarray"
      ]
     },
     "execution_count": 89,
     "metadata": {},
     "output_type": "execute_result"
    }
   ],
   "source": [
    "primeiro_array.__class__"
   ]
  },
  {
   "cell_type": "markdown",
   "metadata": {},
   "source": [
    "Ou seja, um ``numpy`` ``array`` ``n-dimensional``, no nosso caso, tem uma única dimensão. Existem diversos métodos relacionados à esse ``objeto``. Dois deles que são úteis e que podem agilizar nossa vida, são os ``métodos`` ``mean()`` e ``std()``, que calculam a ``média`` e o ``desvio padrão``, respectivamente.\n",
    "\n",
    "Para calcularmos a ``média`` de um conjunto de valores, basta somarmos todos os valores e dividir pelo número de valores considerados. Matematicamente, se temos um conjunto de valore $X = \\{x_1, x_2, \\dots, x_n\\}$, a média do conjunto $X$ é representada por $\\bar{X}$ ou $\\langle X \\rangle$ e escrita como\n",
    "\n",
    "$$\n",
    "    \\bar{X} = \\frac{1}{n} \\left(x_1 + x_2 + \\dots + x_n \\right) = \\frac{1}{n} \\sum\\limits_{i=1}^{n} x_i.\n",
    "$$"
   ]
  },
  {
   "cell_type": "markdown",
   "metadata": {},
   "source": [
    "Assim, para demonstrar como calculamos a média de um ``numpy array``, vamos usar o ``primeiro_array``:"
   ]
  },
  {
   "cell_type": "code",
   "execution_count": 90,
   "metadata": {},
   "outputs": [
    {
     "data": {
      "text/plain": [
       "4.5"
      ]
     },
     "execution_count": 90,
     "metadata": {},
     "output_type": "execute_result"
    }
   ],
   "source": [
    "primeiro_array.mean()"
   ]
  },
  {
   "cell_type": "markdown",
   "metadata": {},
   "source": [
    "O desvio padrão é um número que nos informa o tanto que cada um dos valores do conjunto de dados está variando com relação a média. Em geral, designamos a letra grega $\\sigma$ para representar essa quantidade, que, matematicamente, pode ser escrita como:\n",
    "\n",
    "$$\n",
    "    \\sigma_X = \\sqrt{\\frac{1}{n-1}\\left[ \\left(x_1 - \\bar{X}\\right)^2 + \\left(x_2 - \\bar{X}\\right)^2 + \\dots \\left(x_n - \\bar{X}\\right)^2 \\right]} = \\sqrt{\\frac{1}{n-1} \\sum\\limits_{i=1}^{n} \\left(x_i - \\bar{X}\\right)^2}.\n",
    "$$"
   ]
  },
  {
   "cell_type": "markdown",
   "metadata": {},
   "source": [
    "Em um ``numpy array``, bastat digitarmos e código"
   ]
  },
  {
   "cell_type": "code",
   "execution_count": 91,
   "metadata": {},
   "outputs": [
    {
     "data": {
      "text/plain": [
       "2.8722813232690143"
      ]
     },
     "execution_count": 91,
     "metadata": {},
     "output_type": "execute_result"
    }
   ],
   "source": [
    "primeiro_array.std()"
   ]
  },
  {
   "cell_type": "markdown",
   "metadata": {},
   "source": [
    "e já temos nosso resultado. Contudo, apesar da facilidade que as funções nos fornecem, é sempre bom sabermos os fundamentos por detrás dos calculos que estão sendo realizados. Quando entendemos os fundamentos, os resultados são interpretados podem ser explicados de maneira mais eficaz."
   ]
  },
  {
   "cell_type": "markdown",
   "metadata": {},
   "source": [
    "Podemos criar ``arrays`` a partir de listas usando a função ``array()``:"
   ]
  },
  {
   "cell_type": "code",
   "execution_count": 95,
   "metadata": {},
   "outputs": [
    {
     "data": {
      "text/plain": [
       "array([0, 1, 2, 3, 4])"
      ]
     },
     "execution_count": 95,
     "metadata": {},
     "output_type": "execute_result"
    }
   ],
   "source": [
    "array_numeros = np.array([0, 1, 2, 3, 4])\n",
    "array_numeros"
   ]
  },
  {
   "cell_type": "markdown",
   "metadata": {},
   "source": [
    "Esses ``objetos`` possuem indexação como as listas:"
   ]
  },
  {
   "cell_type": "code",
   "execution_count": 96,
   "metadata": {},
   "outputs": [
    {
     "data": {
      "text/plain": [
       "array([0, 1, 2])"
      ]
     },
     "execution_count": 96,
     "metadata": {},
     "output_type": "execute_result"
    }
   ],
   "source": [
    "array_numeros[0:3]"
   ]
  },
  {
   "cell_type": "code",
   "execution_count": null,
   "metadata": {},
   "outputs": [],
   "source": [
    "array_numeros."
   ]
  },
  {
   "cell_type": "markdown",
   "metadata": {},
   "source": [
    "Algumas operacões contanto são bem diferentes. Usando o operador ``+``, [vimos](#sum_list), as listas se tornam uma só:"
   ]
  },
  {
   "cell_type": "code",
   "execution_count": 97,
   "metadata": {},
   "outputs": [
    {
     "data": {
      "text/plain": [
       "[0, 1, 2, 3, 4, 5, 6, 7]"
      ]
     },
     "execution_count": 97,
     "metadata": {},
     "output_type": "execute_result"
    }
   ],
   "source": [
    "[0,1,2,3] + [4,5,6,7]"
   ]
  },
  {
   "cell_type": "markdown",
   "metadata": {},
   "source": [
    "Contudo, quando fazemos isso com ``numpy arrays``:"
   ]
  },
  {
   "cell_type": "code",
   "execution_count": 98,
   "metadata": {},
   "outputs": [
    {
     "data": {
      "text/plain": [
       "array([ 4,  6,  8, 10])"
      ]
     },
     "execution_count": 98,
     "metadata": {},
     "output_type": "execute_result"
    }
   ],
   "source": [
    "np.array([0,1,2,3]) + np.array([4,5,6,7])"
   ]
  },
  {
   "cell_type": "markdown",
   "metadata": {},
   "source": [
    "os valores de cada uma das entradas são somados respectivamente! Isso se deve ao fato do ``módulo`` ``numpy`` ser voltado para análises considerando que os ``arrays`` são vetores. Se quiseremos combinar dois ``arrays``, devemos usar a função ``append()`` do ``módulo`` ``numpy``, onde os argumentos fornecidos são os ``arrays`` a serem combinados:"
   ]
  },
  {
   "cell_type": "code",
   "execution_count": 116,
   "metadata": {
    "scrolled": true
   },
   "outputs": [
    {
     "data": {
      "text/plain": [
       "array([0, 1, 2, 3, 4, 5, 6, 7])"
      ]
     },
     "execution_count": 116,
     "metadata": {},
     "output_type": "execute_result"
    }
   ],
   "source": [
    "np.append(np.array([0,1,2,3]), np.array([4,5,6,7]))"
   ]
  },
  {
   "cell_type": "markdown",
   "metadata": {},
   "source": [
    "Ou se quiseremos combinar diversos ``arrays`` de uma única vez, usamos a função ``concatenate()`` onde o primeiro argumento é uma tupla com os ``arrays`` que devem ser concatenados:"
   ]
  },
  {
   "cell_type": "code",
   "execution_count": 117,
   "metadata": {},
   "outputs": [
    {
     "data": {
      "text/plain": [
       "array([0, 1, 2, 3, 4, 5, 6, 7, 8, 9, 0, 1])"
      ]
     },
     "execution_count": 117,
     "metadata": {},
     "output_type": "execute_result"
    }
   ],
   "source": [
    "np.concatenate((\n",
    "    np.array([0,1,2,3]), \n",
    "    np.array([4,5,6,7]), \n",
    "    np.array([8,9,0,1])\n",
    "))"
   ]
  },
  {
   "cell_type": "markdown",
   "metadata": {},
   "source": [
    "Para deletar termos de um ``numpy array``, usamos a função ``delete()``. O primeiro argumento é o ``array`` do qual queremos deletar os termos e o segundo é uma lista com os índices dos termos que desejamos deletar:"
   ]
  },
  {
   "cell_type": "code",
   "execution_count": 118,
   "metadata": {},
   "outputs": [
    {
     "data": {
      "text/plain": [
       "array([1, 3, 5])"
      ]
     },
     "execution_count": 118,
     "metadata": {},
     "output_type": "execute_result"
    }
   ],
   "source": [
    "np.delete(np.array([0,1,2,3,4,5,6]), [0,2,4,6])"
   ]
  },
  {
   "cell_type": "markdown",
   "metadata": {},
   "source": [
    "Se tentarmos subtrair uma lista de outra:"
   ]
  },
  {
   "cell_type": "code",
   "execution_count": 99,
   "metadata": {},
   "outputs": [
    {
     "ename": "TypeError",
     "evalue": "unsupported operand type(s) for -: 'list' and 'list'",
     "output_type": "error",
     "traceback": [
      "\u001b[0;31m---------------------------------------------------------------------------\u001b[0m",
      "\u001b[0;31mTypeError\u001b[0m                                 Traceback (most recent call last)",
      "\u001b[0;32m<ipython-input-99-875387e3d63c>\u001b[0m in \u001b[0;36m<module>\u001b[0;34m\u001b[0m\n\u001b[0;32m----> 1\u001b[0;31m \u001b[0;34m[\u001b[0m\u001b[0;36m0\u001b[0m\u001b[0;34m,\u001b[0m\u001b[0;36m1\u001b[0m\u001b[0;34m,\u001b[0m\u001b[0;36m2\u001b[0m\u001b[0;34m,\u001b[0m\u001b[0;36m3\u001b[0m\u001b[0;34m]\u001b[0m \u001b[0;34m-\u001b[0m \u001b[0;34m[\u001b[0m\u001b[0;36m4\u001b[0m\u001b[0;34m,\u001b[0m\u001b[0;36m5\u001b[0m\u001b[0;34m,\u001b[0m\u001b[0;36m6\u001b[0m\u001b[0;34m,\u001b[0m\u001b[0;36m7\u001b[0m\u001b[0;34m]\u001b[0m\u001b[0;34m\u001b[0m\u001b[0;34m\u001b[0m\u001b[0m\n\u001b[0m",
      "\u001b[0;31mTypeError\u001b[0m: unsupported operand type(s) for -: 'list' and 'list'"
     ]
    }
   ],
   "source": [
    "[0,1,2,3] - [4,5,6,7]"
   ]
  },
  {
   "cell_type": "markdown",
   "metadata": {},
   "source": [
    "um ``TypeError`` surge nos dizendo que o operador ``-`` não suporta trabalhar com duas listas. Contudo, essa operação é como somarmos dois vetores, onde um deles foi invertido:  $\\vec{A} + (-\\vec{B})$:"
   ]
  },
  {
   "cell_type": "code",
   "execution_count": 101,
   "metadata": {},
   "outputs": [
    {
     "data": {
      "text/plain": [
       "array([-4, -4, -4, -4])"
      ]
     },
     "execution_count": 101,
     "metadata": {},
     "output_type": "execute_result"
    }
   ],
   "source": [
    "np.array([0,1,2,3]) - np.array([4,5,6,7])"
   ]
  },
  {
   "cell_type": "markdown",
   "metadata": {},
   "source": [
    "A operação de multiplicação de uma lista por um número é permitida. Contudo, ela gera um resultado que repete os termos da lista:"
   ]
  },
  {
   "cell_type": "code",
   "execution_count": 100,
   "metadata": {},
   "outputs": [
    {
     "data": {
      "text/plain": [
       "[0, 1, 2, 3, 0, 1, 2, 3, 0, 1, 2, 3]"
      ]
     },
     "execution_count": 100,
     "metadata": {},
     "output_type": "execute_result"
    }
   ],
   "source": [
    "[0,1,2,3]*3"
   ]
  },
  {
   "cell_type": "markdown",
   "metadata": {},
   "source": [
    "Quando fazemos essa operção em um ``numpy array``, é como se estivessemos multiplicando um vetor por um escalar, isto é, $\\vec{B} = c\\vec{A}$:"
   ]
  },
  {
   "cell_type": "code",
   "execution_count": 102,
   "metadata": {},
   "outputs": [
    {
     "data": {
      "text/plain": [
       "array([0, 3, 6, 9])"
      ]
     },
     "execution_count": 102,
     "metadata": {},
     "output_type": "execute_result"
    }
   ],
   "source": [
    "np.array([0,1,2,3])*3"
   ]
  },
  {
   "cell_type": "markdown",
   "metadata": {},
   "source": [
    "Durante as aulas, iremos precisar fazer ajustes de modelos aos dados experimentais. Veremos como usar a função ``polyfit()`` do ``numpy`` para nos ajudar nessa tarefa."
   ]
  },
  {
   "cell_type": "markdown",
   "metadata": {},
   "source": [
    "<a class='section' id='matplotlib'></a>\n",
    "# Matplotlib"
   ]
  },
  {
   "cell_type": "markdown",
   "metadata": {},
   "source": [
    "Quando estamos analisando dados, as vezes nos desparamos com diversos valores que se dispostos somente em um tabela, dificultam a leitura e a conclusão de resultados. Um método que nos permite elucidar melhor o comportamento dos dados é confeccionando gráficos que ilustrem seu comportamento. Existem diversos tipos de gráficos e cada um deles é propício para um certo tipo de análise. Alguns exemplos são:\n",
    "\n",
    "- gráficos de pontos (``scatter plots``)\n",
    "    - ajuda a ver dependência entre as variáveis\n",
    "    - facilita a previsão de uma tendência\n",
    "    - identifica outiliers, isto é, pontos que podem ser erro nos dados\n",
    "\n",
    "- gráficos de linhas (``line plots``)\n",
    "    - ajuda a ver a dependência entre as variáveis\n",
    "    - facilita a previsão de uma tendência\n",
    "    - usado para ilustrar séries temporais\n",
    "    \n",
    "- gráficos de barras (``bar plots``)\n",
    "    - usado para comparar valores de uma variável entre grupos\n",
    "    - composição de alguma coisa (porcentagens de cada parte)\n",
    "    \n",
    "Aqui iremos trabalhar com os dois primeiros tipos. Nas próximas aulas iremos modelar dados que foram obtidos a partir de um experimento. Para visualizar os dados iremos, em geral, usar ``scatter plots``. Isso nos permitirá a visualização dos dados obtidos e a criação e comparação de um modelo para explicar o experimento. A comparação do modelo é, em geral, feito por um ``line plot``, para ver se esse segue a mesma tendência dos dados."
   ]
  },
  {
   "cell_type": "markdown",
   "metadata": {},
   "source": [
    "Para confeccionar nossos gráficos, iremos usar uma coleção de funções que se encontram no ``módulo`` ``matplotlib.pyplot``. Para importar esse ``módulo``, usaremos a notação padrão:"
   ]
  },
  {
   "cell_type": "code",
   "execution_count": 1,
   "metadata": {},
   "outputs": [],
   "source": [
    "import matplotlib.pyplot as plt"
   ]
  },
  {
   "cell_type": "markdown",
   "metadata": {},
   "source": [
    "Assim, as funções que precisaremos podem ser usadas com a notação de ``.`` a partir do ``objeto`` ``plt``. A principal função que usaremos é a ``plot()``. Se quisermos confeccionar um gráfico simples, basta passarmos como parâmetros ``objetos`` com ``estruturas ordenadas``, como listas, correspondendo às variáveis independente (eixo-x, horizontal) e dependente (eixo-y, vertical). Veja o exemplo abaixo:"
   ]
  },
  {
   "cell_type": "code",
   "execution_count": 2,
   "metadata": {},
   "outputs": [
    {
     "data": {
      "text/plain": [
       "[<matplotlib.lines.Line2D at 0x7fefc4f647f0>]"
      ]
     },
     "execution_count": 2,
     "metadata": {},
     "output_type": "execute_result"
    },
    {
     "data": {
      "image/png": "[encoded data removed]",
      "text/plain": [
       "<Figure size 432x288 with 1 Axes>"
      ]
     },
     "metadata": {
      "needs_background": "light"
     },
     "output_type": "display_data"
    }
   ],
   "source": [
    "X = [1, 2, 3, 4, 5, 6, 7, 8, 9]\n",
    "Y = X\n",
    "plt.plot(X, Y)"
   ]
  },
  {
   "cell_type": "markdown",
   "metadata": {},
   "source": [
    "Esse é o plot de uma reta \n",
    "\n",
    "$$\n",
    "    y = a + bx\n",
    "$$\n",
    "\n",
    "com ``coeficiente linear`` $a = 0$ e ``coeficiente angular`` $b = 1$. É essencialm que as estruturas ordenadas tenham o mesmo número de termos para criar os pares ordenados.\n",
    "\n",
    "Podemos confeccionar várias retas no mesmo plot. Para isso, vamos definir a equação da reta, que nos retornara o valor de $y$ para um dado valor de $x$, uma vez que especificamos os coeficientes $a$ e $b$."
   ]
  },
  {
   "cell_type": "code",
   "execution_count": 4,
   "metadata": {},
   "outputs": [],
   "source": [
    "def reta(x, a, b):\n",
    "    \"\"\"\n",
    "    Equação da reta com coeficientes linear ``a`` e angular ``b``.\n",
    "    \n",
    "    Argumentos:\n",
    "    -----------\n",
    "    a - numero: qualquer número para designar o coeficiente linear\n",
    "    b - numero: qualquer número para designar o coeficiente angular\n",
    "    x - numero: valor da variável independente\n",
    "    \n",
    "    Retorno:\n",
    "    --------\n",
    "    y - numero: valor da variável independente\n",
    "    \"\"\"\n",
    "    return a + b*x"
   ]
  },
  {
   "cell_type": "markdown",
   "metadata": {},
   "source": [
    "Para usar a função, fornecemos os valores de x, a e b respectivamente e um valor de y é retornado:"
   ]
  },
  {
   "cell_type": "code",
   "execution_count": 5,
   "metadata": {},
   "outputs": [
    {
     "data": {
      "text/plain": [
       "2"
      ]
     },
     "execution_count": 5,
     "metadata": {},
     "output_type": "execute_result"
    }
   ],
   "source": [
    "reta(1, 1, 1)"
   ]
  },
  {
   "cell_type": "markdown",
   "metadata": {},
   "source": [
    "Vamos criar três retas:\n",
    "\n",
    "- 1ª: a = 1 e b = 1 $\\to y = 1 + x$ \n",
    "- 2ª: a = 1 e b = 2 $\\to y = 1 + 2x$\n",
    "- 3ª: a = 1 e b = 3 $\\to y = 1 + 3x$\n",
    "\n",
    "Vamos usar o intervalo $[0,10]$ para a variável independente $x$. Assim, primeiramente criamos uma lista de valores de 0 a 10:"
   ]
  },
  {
   "cell_type": "code",
   "execution_count": 6,
   "metadata": {},
   "outputs": [],
   "source": [
    "X = [0, 1, 2, 3, 4, 5, 6, 7, 8, 9, 10]"
   ]
  },
  {
   "cell_type": "markdown",
   "metadata": {},
   "source": [
    "Agora, iremos usar uma lista de compreensão para calcular os valores de y para cada valor de x, com a e b especificados."
   ]
  },
  {
   "cell_type": "code",
   "execution_count": 7,
   "metadata": {},
   "outputs": [],
   "source": [
    "Y_reta_1 = [reta(x, 1, 1) for x in X]\n",
    "Y_reta_2 = [reta(x, 1, 2) for x in X]\n",
    "Y_reta_3 = [reta(x, 1, 3) for x in X]"
   ]
  },
  {
   "cell_type": "markdown",
   "metadata": {},
   "source": [
    "Podemos ver que as variáveis guardam listas com os valores da variável independente y:"
   ]
  },
  {
   "cell_type": "code",
   "execution_count": 8,
   "metadata": {},
   "outputs": [
    {
     "data": {
      "text/plain": [
       "[1, 3, 5, 7, 9, 11, 13, 15, 17, 19, 21]"
      ]
     },
     "execution_count": 8,
     "metadata": {},
     "output_type": "execute_result"
    }
   ],
   "source": [
    "Y_reta_2"
   ]
  },
  {
   "cell_type": "markdown",
   "metadata": {},
   "source": [
    "Agora, basta usarmos a função ``plot()`` do módulo ``plt`` e fornecer a variável independente e a dependente. Para plotar as três retas em um gráfico, basta colocarmos um comando em baixo do outro:"
   ]
  },
  {
   "cell_type": "code",
   "execution_count": 10,
   "metadata": {},
   "outputs": [
    {
     "data": {
      "text/plain": [
       "[<matplotlib.lines.Line2D at 0x7fefc46b1320>]"
      ]
     },
     "execution_count": 10,
     "metadata": {},
     "output_type": "execute_result"
    },
    {
     "data": {
      "image/png": "[encoded data removed]",
      "text/plain": [
       "<Figure size 432x288 with 1 Axes>"
      ]
     },
     "metadata": {
      "needs_background": "light"
     },
     "output_type": "display_data"
    }
   ],
   "source": [
    "plt.plot(X, Y_reta_1)\n",
    "plt.plot(X, Y_reta_2)\n",
    "plt.plot(X, Y_reta_3)"
   ]
  },
  {
   "cell_type": "markdown",
   "metadata": {},
   "source": [
    "Contudo, o gráfico vem com um estilo padrão apenas para uma inspeção rápida. Para que um gráfico fique apresentável, devemos mudar algumas propriedades desse. Podemos, por exemplo, colocar marcadores que demarcam as coordenadas de cada ponto. Para isso, usamos o argumento ``marker`` e especificamos o tipo de marcador com um caracter, por exemplo, ``'o'`` desenha círculos, ``'x'`` desenha um x, ``'D'`` desenha losangos etc. Para uma lista completa de marcadores veja o [link](https://matplotlib.org/3.2.1/api/markers_api.html)."
   ]
  },
  {
   "cell_type": "code",
   "execution_count": 13,
   "metadata": {},
   "outputs": [
    {
     "data": {
      "text/plain": [
       "[<matplotlib.lines.Line2D at 0x7fefc43c5d30>]"
      ]
     },
     "execution_count": 13,
     "metadata": {},
     "output_type": "execute_result"
    },
    {
     "data": {
      "image/png": "[encoded data removed]",
      "text/plain": [
       "<Figure size 432x288 with 1 Axes>"
      ]
     },
     "metadata": {
      "needs_background": "light"
     },
     "output_type": "display_data"
    }
   ],
   "source": [
    "plt.plot(X, Y_reta_1, marker='o')\n",
    "plt.plot(X, Y_reta_2, marker='x')\n",
    "plt.plot(X, Y_reta_3, marker='D')"
   ]
  },
  {
   "cell_type": "code",
   "execution_count": null,
   "metadata": {},
   "outputs": [],
   "source": []
  },
  {
   "cell_type": "code",
   "execution_count": null,
   "metadata": {},
   "outputs": [],
   "source": []
  },
  {
   "cell_type": "code",
   "execution_count": null,
   "metadata": {},
   "outputs": [],
   "source": []
  },
  {
   "cell_type": "code",
   "execution_count": null,
   "metadata": {},
   "outputs": [],
   "source": []
  },
  {
   "cell_type": "code",
   "execution_count": null,
   "metadata": {},
   "outputs": [],
   "source": []
  },
  {
   "cell_type": "code",
   "execution_count": null,
   "metadata": {},
   "outputs": [],
   "source": []
  },
  {
   "cell_type": "code",
   "execution_count": null,
   "metadata": {},
   "outputs": [],
   "source": []
  },
  {
   "cell_type": "code",
   "execution_count": null,
   "metadata": {},
   "outputs": [],
   "source": []
  },
  {
   "cell_type": "code",
   "execution_count": null,
   "metadata": {},
   "outputs": [],
   "source": []
  },
  {
   "cell_type": "code",
   "execution_count": null,
   "metadata": {},
   "outputs": [],
   "source": []
  },
  {
   "cell_type": "code",
   "execution_count": null,
   "metadata": {},
   "outputs": [],
   "source": []
  },
  {
   "cell_type": "code",
   "execution_count": null,
   "metadata": {},
   "outputs": [],
   "source": []
  },
  {
   "cell_type": "code",
   "execution_count": null,
   "metadata": {},
   "outputs": [],
   "source": []
  },
  {
   "cell_type": "code",
   "execution_count": null,
   "metadata": {},
   "outputs": [],
   "source": []
  },
  {
   "cell_type": "code",
   "execution_count": null,
   "metadata": {},
   "outputs": [],
   "source": []
  },
  {
   "cell_type": "code",
   "execution_count": null,
   "metadata": {},
   "outputs": [],
   "source": []
  },
  {
   "cell_type": "code",
   "execution_count": null,
   "metadata": {},
   "outputs": [],
   "source": []
  },
  {
   "cell_type": "code",
   "execution_count": null,
   "metadata": {},
   "outputs": [],
   "source": []
  },
  {
   "cell_type": "code",
   "execution_count": null,
   "metadata": {},
   "outputs": [],
   "source": []
  },
  {
   "cell_type": "code",
   "execution_count": null,
   "metadata": {},
   "outputs": [],
   "source": []
  },
  {
   "cell_type": "code",
   "execution_count": null,
   "metadata": {},
   "outputs": [],
   "source": []
  },
  {
   "cell_type": "code",
   "execution_count": null,
   "metadata": {},
   "outputs": [],
   "source": []
  },
  {
   "cell_type": "code",
   "execution_count": null,
   "metadata": {},
   "outputs": [],
   "source": []
  },
  {
   "cell_type": "code",
   "execution_count": null,
   "metadata": {},
   "outputs": [],
   "source": []
  },
  {
   "cell_type": "code",
   "execution_count": null,
   "metadata": {},
   "outputs": [],
   "source": []
  },
  {
   "cell_type": "code",
   "execution_count": null,
   "metadata": {},
   "outputs": [],
   "source": []
  },
  {
   "cell_type": "code",
   "execution_count": null,
   "metadata": {},
   "outputs": [],
   "source": []
  },
  {
   "cell_type": "code",
   "execution_count": null,
   "metadata": {},
   "outputs": [],
   "source": []
  },
  {
   "cell_type": "code",
   "execution_count": null,
   "metadata": {},
   "outputs": [],
   "source": []
  },
  {
   "cell_type": "code",
   "execution_count": null,
   "metadata": {},
   "outputs": [],
   "source": []
  },
  {
   "cell_type": "code",
   "execution_count": null,
   "metadata": {},
   "outputs": [],
   "source": []
  },
  {
   "cell_type": "code",
   "execution_count": null,
   "metadata": {},
   "outputs": [],
   "source": []
  },
  {
   "cell_type": "code",
   "execution_count": null,
   "metadata": {},
   "outputs": [],
   "source": []
  },
  {
   "cell_type": "code",
   "execution_count": null,
   "metadata": {},
   "outputs": [],
   "source": []
  },
  {
   "cell_type": "code",
   "execution_count": null,
   "metadata": {},
   "outputs": [],
   "source": []
  },
  {
   "cell_type": "code",
   "execution_count": null,
   "metadata": {},
   "outputs": [],
   "source": []
  },
  {
   "cell_type": "code",
   "execution_count": null,
   "metadata": {},
   "outputs": [],
   "source": []
  },
  {
   "cell_type": "code",
   "execution_count": null,
   "metadata": {},
   "outputs": [],
   "source": []
  },
  {
   "cell_type": "code",
   "execution_count": null,
   "metadata": {},
   "outputs": [],
   "source": []
  },
  {
   "cell_type": "code",
   "execution_count": null,
   "metadata": {},
   "outputs": [],
   "source": []
  },
  {
   "cell_type": "code",
   "execution_count": null,
   "metadata": {},
   "outputs": [],
   "source": []
  },
  {
   "cell_type": "code",
   "execution_count": null,
   "metadata": {},
   "outputs": [],
   "source": []
  },
  {
   "cell_type": "code",
   "execution_count": null,
   "metadata": {},
   "outputs": [],
   "source": []
  },
  {
   "cell_type": "code",
   "execution_count": null,
   "metadata": {},
   "outputs": [],
   "source": []
  },
  {
   "cell_type": "code",
   "execution_count": null,
   "metadata": {},
   "outputs": [],
   "source": []
  },
  {
   "cell_type": "code",
   "execution_count": null,
   "metadata": {},
   "outputs": [],
   "source": []
  },
  {
   "cell_type": "code",
   "execution_count": null,
   "metadata": {},
   "outputs": [],
   "source": []
  },
  {
   "cell_type": "code",
   "execution_count": null,
   "metadata": {},
   "outputs": [],
   "source": []
  },
  {
   "cell_type": "code",
   "execution_count": null,
   "metadata": {},
   "outputs": [],
   "source": []
  },
  {
   "cell_type": "markdown",
   "metadata": {},
   "source": [
    "<a class='section' id='pandas'></a>\n",
    "# Pandas"
   ]
  },
  {
   "cell_type": "markdown",
   "metadata": {},
   "source": [
    "O ``pandas`` é um ``módulo`` voltado para visualização e análise de dados. Com ele é possível criar estruturas em forma de tabelas, os chamados ``DataFrames``. Essas estruturas podem ser manipuladas de maneira simples e eficiente, facilitando a obtenção de resultados rápidos a partir dos dados disponíveis."
   ]
  },
  {
   "cell_type": "markdown",
   "metadata": {},
   "source": [
    "Primeiramente, devemos ``importar`` o ``módulo``. É uma convenção fazer isso da seguinte forma:"
   ]
  },
  {
   "cell_type": "code",
   "execution_count": 3,
   "metadata": {},
   "outputs": [],
   "source": [
    "import pandas as pd"
   ]
  },
  {
   "cell_type": "markdown",
   "metadata": {},
   "source": [
    "Iremos trabalhar com o ``obejto`` ``DataFrame``. Ele pode ser criado usano a notação de ``.`` da seguinte forma:"
   ]
  },
  {
   "cell_type": "code",
   "execution_count": 324,
   "metadata": {},
   "outputs": [
    {
     "data": {
      "text/html": [
       "<div>\n",
       "<style scoped>\n",
       "    .dataframe tbody tr th:only-of-type {\n",
       "        vertical-align: middle;\n",
       "    }\n",
       "\n",
       "    .dataframe tbody tr th {\n",
       "        vertical-align: top;\n",
       "    }\n",
       "\n",
       "    .dataframe thead th {\n",
       "        text-align: right;\n",
       "    }\n",
       "</style>\n",
       "<table border=\"1\" class=\"dataframe\">\n",
       "  <thead>\n",
       "    <tr style=\"text-align: right;\">\n",
       "      <th></th>\n",
       "    </tr>\n",
       "  </thead>\n",
       "  <tbody>\n",
       "  </tbody>\n",
       "</table>\n",
       "</div>"
      ],
      "text/plain": [
       "Empty DataFrame\n",
       "Columns: []\n",
       "Index: []"
      ]
     },
     "execution_count": 324,
     "metadata": {},
     "output_type": "execute_result"
    }
   ],
   "source": [
    "# quando guardamos o ``DataFrame`` em uma variável,\n",
    "# é comum especificarmos isso usando a sigla df\n",
    "primeiro_df = pd.DataFrame()\n",
    "primeiro_df"
   ]
  },
  {
   "cell_type": "markdown",
   "metadata": {},
   "source": [
    "Vemos que ele não retornou muita coisa. Isso porque não adicionamos dados a ele. Contudo, podemos inspecionar de que tipo esse ``objeto`` é:"
   ]
  },
  {
   "cell_type": "code",
   "execution_count": 127,
   "metadata": {},
   "outputs": [
    {
     "data": {
      "text/plain": [
       "pandas.core.frame.DataFrame"
      ]
     },
     "execution_count": 127,
     "metadata": {},
     "output_type": "execute_result"
    }
   ],
   "source": [
    "type(primeiro_df)"
   ]
  },
  {
   "cell_type": "markdown",
   "metadata": {},
   "source": [
    "O ``DataFrame`` é um objeto que se divide em colunas com valores ordenados por índices. Podemos colocar dados em um ``DataFrame`` de formas diferentes. Uma dela é adicionar cada coluna separadamente. Para isso, nós usamos uma estrutura parecida com a de dicionário. Primeiro escrevemos o nome da variável que possui o ``DataFrame`` e então, entre colchetes ``[]``, digitamos o nome da coluna. Essa estrutura é então igualada a uma estrutura de dados ordenados, como uma lista. Veja o exemplo abaixo:"
   ]
  },
  {
   "cell_type": "code",
   "execution_count": 325,
   "metadata": {},
   "outputs": [
    {
     "data": {
      "text/html": [
       "<div>\n",
       "<style scoped>\n",
       "    .dataframe tbody tr th:only-of-type {\n",
       "        vertical-align: middle;\n",
       "    }\n",
       "\n",
       "    .dataframe tbody tr th {\n",
       "        vertical-align: top;\n",
       "    }\n",
       "\n",
       "    .dataframe thead th {\n",
       "        text-align: right;\n",
       "    }\n",
       "</style>\n",
       "<table border=\"1\" class=\"dataframe\">\n",
       "  <thead>\n",
       "    <tr style=\"text-align: right;\">\n",
       "      <th></th>\n",
       "      <th>coluna 1</th>\n",
       "    </tr>\n",
       "  </thead>\n",
       "  <tbody>\n",
       "    <tr>\n",
       "      <td>0</td>\n",
       "      <td>5</td>\n",
       "    </tr>\n",
       "    <tr>\n",
       "      <td>1</td>\n",
       "      <td>6</td>\n",
       "    </tr>\n",
       "    <tr>\n",
       "      <td>2</td>\n",
       "      <td>7</td>\n",
       "    </tr>\n",
       "    <tr>\n",
       "      <td>3</td>\n",
       "      <td>8</td>\n",
       "    </tr>\n",
       "    <tr>\n",
       "      <td>4</td>\n",
       "      <td>9</td>\n",
       "    </tr>\n",
       "    <tr>\n",
       "      <td>5</td>\n",
       "      <td>10</td>\n",
       "    </tr>\n",
       "    <tr>\n",
       "      <td>6</td>\n",
       "      <td>11</td>\n",
       "    </tr>\n",
       "    <tr>\n",
       "      <td>7</td>\n",
       "      <td>12</td>\n",
       "    </tr>\n",
       "    <tr>\n",
       "      <td>8</td>\n",
       "      <td>13</td>\n",
       "    </tr>\n",
       "    <tr>\n",
       "      <td>9</td>\n",
       "      <td>14</td>\n",
       "    </tr>\n",
       "    <tr>\n",
       "      <td>10</td>\n",
       "      <td>15</td>\n",
       "    </tr>\n",
       "    <tr>\n",
       "      <td>11</td>\n",
       "      <td>16</td>\n",
       "    </tr>\n",
       "    <tr>\n",
       "      <td>12</td>\n",
       "      <td>17</td>\n",
       "    </tr>\n",
       "    <tr>\n",
       "      <td>13</td>\n",
       "      <td>18</td>\n",
       "    </tr>\n",
       "    <tr>\n",
       "      <td>14</td>\n",
       "      <td>19</td>\n",
       "    </tr>\n",
       "  </tbody>\n",
       "</table>\n",
       "</div>"
      ],
      "text/plain": [
       "    coluna 1\n",
       "0          5\n",
       "1          6\n",
       "2          7\n",
       "3          8\n",
       "4          9\n",
       "5         10\n",
       "6         11\n",
       "7         12\n",
       "8         13\n",
       "9         14\n",
       "10        15\n",
       "11        16\n",
       "12        17\n",
       "13        18\n",
       "14        19"
      ]
     },
     "execution_count": 325,
     "metadata": {},
     "output_type": "execute_result"
    }
   ],
   "source": [
    "primeiro_df['coluna 1'] = [i for i in range(5,20)]\n",
    "primeiro_df"
   ]
  },
  {
   "cell_type": "markdown",
   "metadata": {},
   "source": [
    "Pronto, adicionamos uma coluna ao nosso ``DataFrame``. Se quiseremos adicionar outra, basta seguirmos o mesmo raciocínio:"
   ]
  },
  {
   "cell_type": "code",
   "execution_count": 326,
   "metadata": {},
   "outputs": [
    {
     "data": {
      "text/html": [
       "<div>\n",
       "<style scoped>\n",
       "    .dataframe tbody tr th:only-of-type {\n",
       "        vertical-align: middle;\n",
       "    }\n",
       "\n",
       "    .dataframe tbody tr th {\n",
       "        vertical-align: top;\n",
       "    }\n",
       "\n",
       "    .dataframe thead th {\n",
       "        text-align: right;\n",
       "    }\n",
       "</style>\n",
       "<table border=\"1\" class=\"dataframe\">\n",
       "  <thead>\n",
       "    <tr style=\"text-align: right;\">\n",
       "      <th></th>\n",
       "      <th>coluna 1</th>\n",
       "      <th>coluna 2</th>\n",
       "    </tr>\n",
       "  </thead>\n",
       "  <tbody>\n",
       "    <tr>\n",
       "      <td>0</td>\n",
       "      <td>5</td>\n",
       "      <td>10</td>\n",
       "    </tr>\n",
       "    <tr>\n",
       "      <td>1</td>\n",
       "      <td>6</td>\n",
       "      <td>11</td>\n",
       "    </tr>\n",
       "    <tr>\n",
       "      <td>2</td>\n",
       "      <td>7</td>\n",
       "      <td>12</td>\n",
       "    </tr>\n",
       "    <tr>\n",
       "      <td>3</td>\n",
       "      <td>8</td>\n",
       "      <td>13</td>\n",
       "    </tr>\n",
       "    <tr>\n",
       "      <td>4</td>\n",
       "      <td>9</td>\n",
       "      <td>14</td>\n",
       "    </tr>\n",
       "    <tr>\n",
       "      <td>5</td>\n",
       "      <td>10</td>\n",
       "      <td>15</td>\n",
       "    </tr>\n",
       "    <tr>\n",
       "      <td>6</td>\n",
       "      <td>11</td>\n",
       "      <td>16</td>\n",
       "    </tr>\n",
       "    <tr>\n",
       "      <td>7</td>\n",
       "      <td>12</td>\n",
       "      <td>17</td>\n",
       "    </tr>\n",
       "    <tr>\n",
       "      <td>8</td>\n",
       "      <td>13</td>\n",
       "      <td>18</td>\n",
       "    </tr>\n",
       "    <tr>\n",
       "      <td>9</td>\n",
       "      <td>14</td>\n",
       "      <td>19</td>\n",
       "    </tr>\n",
       "    <tr>\n",
       "      <td>10</td>\n",
       "      <td>15</td>\n",
       "      <td>20</td>\n",
       "    </tr>\n",
       "    <tr>\n",
       "      <td>11</td>\n",
       "      <td>16</td>\n",
       "      <td>21</td>\n",
       "    </tr>\n",
       "    <tr>\n",
       "      <td>12</td>\n",
       "      <td>17</td>\n",
       "      <td>22</td>\n",
       "    </tr>\n",
       "    <tr>\n",
       "      <td>13</td>\n",
       "      <td>18</td>\n",
       "      <td>23</td>\n",
       "    </tr>\n",
       "    <tr>\n",
       "      <td>14</td>\n",
       "      <td>19</td>\n",
       "      <td>24</td>\n",
       "    </tr>\n",
       "  </tbody>\n",
       "</table>\n",
       "</div>"
      ],
      "text/plain": [
       "    coluna 1  coluna 2\n",
       "0          5        10\n",
       "1          6        11\n",
       "2          7        12\n",
       "3          8        13\n",
       "4          9        14\n",
       "5         10        15\n",
       "6         11        16\n",
       "7         12        17\n",
       "8         13        18\n",
       "9         14        19\n",
       "10        15        20\n",
       "11        16        21\n",
       "12        17        22\n",
       "13        18        23\n",
       "14        19        24"
      ]
     },
     "execution_count": 326,
     "metadata": {},
     "output_type": "execute_result"
    }
   ],
   "source": [
    "primeiro_df['coluna 2'] = [i for i in range(10,25)]\n",
    "primeiro_df"
   ]
  },
  {
   "cell_type": "markdown",
   "metadata": {},
   "source": [
    "E os dados podem ser mistos:"
   ]
  },
  {
   "cell_type": "code",
   "execution_count": 327,
   "metadata": {},
   "outputs": [
    {
     "data": {
      "text/html": [
       "<div>\n",
       "<style scoped>\n",
       "    .dataframe tbody tr th:only-of-type {\n",
       "        vertical-align: middle;\n",
       "    }\n",
       "\n",
       "    .dataframe tbody tr th {\n",
       "        vertical-align: top;\n",
       "    }\n",
       "\n",
       "    .dataframe thead th {\n",
       "        text-align: right;\n",
       "    }\n",
       "</style>\n",
       "<table border=\"1\" class=\"dataframe\">\n",
       "  <thead>\n",
       "    <tr style=\"text-align: right;\">\n",
       "      <th></th>\n",
       "      <th>coluna 1</th>\n",
       "      <th>coluna 2</th>\n",
       "      <th>coluna 3</th>\n",
       "    </tr>\n",
       "  </thead>\n",
       "  <tbody>\n",
       "    <tr>\n",
       "      <td>0</td>\n",
       "      <td>5</td>\n",
       "      <td>10</td>\n",
       "      <td>a</td>\n",
       "    </tr>\n",
       "    <tr>\n",
       "      <td>1</td>\n",
       "      <td>6</td>\n",
       "      <td>11</td>\n",
       "      <td>b</td>\n",
       "    </tr>\n",
       "    <tr>\n",
       "      <td>2</td>\n",
       "      <td>7</td>\n",
       "      <td>12</td>\n",
       "      <td>c</td>\n",
       "    </tr>\n",
       "    <tr>\n",
       "      <td>3</td>\n",
       "      <td>8</td>\n",
       "      <td>13</td>\n",
       "      <td>d</td>\n",
       "    </tr>\n",
       "    <tr>\n",
       "      <td>4</td>\n",
       "      <td>9</td>\n",
       "      <td>14</td>\n",
       "      <td>e</td>\n",
       "    </tr>\n",
       "    <tr>\n",
       "      <td>5</td>\n",
       "      <td>10</td>\n",
       "      <td>15</td>\n",
       "      <td>f</td>\n",
       "    </tr>\n",
       "    <tr>\n",
       "      <td>6</td>\n",
       "      <td>11</td>\n",
       "      <td>16</td>\n",
       "      <td>g</td>\n",
       "    </tr>\n",
       "    <tr>\n",
       "      <td>7</td>\n",
       "      <td>12</td>\n",
       "      <td>17</td>\n",
       "      <td>h</td>\n",
       "    </tr>\n",
       "    <tr>\n",
       "      <td>8</td>\n",
       "      <td>13</td>\n",
       "      <td>18</td>\n",
       "      <td>i</td>\n",
       "    </tr>\n",
       "    <tr>\n",
       "      <td>9</td>\n",
       "      <td>14</td>\n",
       "      <td>19</td>\n",
       "      <td>j</td>\n",
       "    </tr>\n",
       "    <tr>\n",
       "      <td>10</td>\n",
       "      <td>15</td>\n",
       "      <td>20</td>\n",
       "      <td>k</td>\n",
       "    </tr>\n",
       "    <tr>\n",
       "      <td>11</td>\n",
       "      <td>16</td>\n",
       "      <td>21</td>\n",
       "      <td>l</td>\n",
       "    </tr>\n",
       "    <tr>\n",
       "      <td>12</td>\n",
       "      <td>17</td>\n",
       "      <td>22</td>\n",
       "      <td>m</td>\n",
       "    </tr>\n",
       "    <tr>\n",
       "      <td>13</td>\n",
       "      <td>18</td>\n",
       "      <td>23</td>\n",
       "      <td>n</td>\n",
       "    </tr>\n",
       "    <tr>\n",
       "      <td>14</td>\n",
       "      <td>19</td>\n",
       "      <td>24</td>\n",
       "      <td>o</td>\n",
       "    </tr>\n",
       "  </tbody>\n",
       "</table>\n",
       "</div>"
      ],
      "text/plain": [
       "    coluna 1  coluna 2 coluna 3\n",
       "0          5        10        a\n",
       "1          6        11        b\n",
       "2          7        12        c\n",
       "3          8        13        d\n",
       "4          9        14        e\n",
       "5         10        15        f\n",
       "6         11        16        g\n",
       "7         12        17        h\n",
       "8         13        18        i\n",
       "9         14        19        j\n",
       "10        15        20        k\n",
       "11        16        21        l\n",
       "12        17        22        m\n",
       "13        18        23        n\n",
       "14        19        24        o"
      ]
     },
     "execution_count": 327,
     "metadata": {},
     "output_type": "execute_result"
    }
   ],
   "source": [
    "primeiro_df['coluna 3'] = [letra for letra in 'abcdefghijklmno']\n",
    "primeiro_df"
   ]
  },
  {
   "cell_type": "markdown",
   "metadata": {},
   "source": [
    "As vezes o ``DataFrame`` tem muitas linhas de maneira que é mais conveniente ver somente uma parte dos dados para se ter um conhecimento das colunas e o que elas podem representar. Podemos ver as primeiras linhas usando o médodo ``head()``:"
   ]
  },
  {
   "cell_type": "code",
   "execution_count": 164,
   "metadata": {},
   "outputs": [
    {
     "data": {
      "text/html": [
       "<div>\n",
       "<style scoped>\n",
       "    .dataframe tbody tr th:only-of-type {\n",
       "        vertical-align: middle;\n",
       "    }\n",
       "\n",
       "    .dataframe tbody tr th {\n",
       "        vertical-align: top;\n",
       "    }\n",
       "\n",
       "    .dataframe thead th {\n",
       "        text-align: right;\n",
       "    }\n",
       "</style>\n",
       "<table border=\"1\" class=\"dataframe\">\n",
       "  <thead>\n",
       "    <tr style=\"text-align: right;\">\n",
       "      <th></th>\n",
       "      <th>coluna 1</th>\n",
       "      <th>coluna 2</th>\n",
       "      <th>coluna 3</th>\n",
       "    </tr>\n",
       "  </thead>\n",
       "  <tbody>\n",
       "    <tr>\n",
       "      <td>0</td>\n",
       "      <td>5</td>\n",
       "      <td>10</td>\n",
       "      <td>a</td>\n",
       "    </tr>\n",
       "    <tr>\n",
       "      <td>1</td>\n",
       "      <td>6</td>\n",
       "      <td>11</td>\n",
       "      <td>b</td>\n",
       "    </tr>\n",
       "    <tr>\n",
       "      <td>2</td>\n",
       "      <td>7</td>\n",
       "      <td>12</td>\n",
       "      <td>c</td>\n",
       "    </tr>\n",
       "    <tr>\n",
       "      <td>3</td>\n",
       "      <td>8</td>\n",
       "      <td>13</td>\n",
       "      <td>d</td>\n",
       "    </tr>\n",
       "    <tr>\n",
       "      <td>4</td>\n",
       "      <td>9</td>\n",
       "      <td>14</td>\n",
       "      <td>e</td>\n",
       "    </tr>\n",
       "  </tbody>\n",
       "</table>\n",
       "</div>"
      ],
      "text/plain": [
       "   coluna 1  coluna 2 coluna 3\n",
       "0         5        10        a\n",
       "1         6        11        b\n",
       "2         7        12        c\n",
       "3         8        13        d\n",
       "4         9        14        e"
      ]
     },
     "execution_count": 164,
     "metadata": {},
     "output_type": "execute_result"
    }
   ],
   "source": [
    "primeiro_df.head()"
   ]
  },
  {
   "cell_type": "markdown",
   "metadata": {},
   "source": [
    "Ou ainda, se quiseremos ver só o final, podemos usar o método ``tail()``:"
   ]
  },
  {
   "cell_type": "code",
   "execution_count": 165,
   "metadata": {},
   "outputs": [
    {
     "data": {
      "text/html": [
       "<div>\n",
       "<style scoped>\n",
       "    .dataframe tbody tr th:only-of-type {\n",
       "        vertical-align: middle;\n",
       "    }\n",
       "\n",
       "    .dataframe tbody tr th {\n",
       "        vertical-align: top;\n",
       "    }\n",
       "\n",
       "    .dataframe thead th {\n",
       "        text-align: right;\n",
       "    }\n",
       "</style>\n",
       "<table border=\"1\" class=\"dataframe\">\n",
       "  <thead>\n",
       "    <tr style=\"text-align: right;\">\n",
       "      <th></th>\n",
       "      <th>coluna 1</th>\n",
       "      <th>coluna 2</th>\n",
       "      <th>coluna 3</th>\n",
       "    </tr>\n",
       "  </thead>\n",
       "  <tbody>\n",
       "    <tr>\n",
       "      <td>10</td>\n",
       "      <td>15</td>\n",
       "      <td>20</td>\n",
       "      <td>k</td>\n",
       "    </tr>\n",
       "    <tr>\n",
       "      <td>11</td>\n",
       "      <td>16</td>\n",
       "      <td>21</td>\n",
       "      <td>l</td>\n",
       "    </tr>\n",
       "    <tr>\n",
       "      <td>12</td>\n",
       "      <td>17</td>\n",
       "      <td>22</td>\n",
       "      <td>m</td>\n",
       "    </tr>\n",
       "    <tr>\n",
       "      <td>13</td>\n",
       "      <td>18</td>\n",
       "      <td>23</td>\n",
       "      <td>n</td>\n",
       "    </tr>\n",
       "    <tr>\n",
       "      <td>14</td>\n",
       "      <td>19</td>\n",
       "      <td>24</td>\n",
       "      <td>o</td>\n",
       "    </tr>\n",
       "  </tbody>\n",
       "</table>\n",
       "</div>"
      ],
      "text/plain": [
       "    coluna 1  coluna 2 coluna 3\n",
       "10        15        20        k\n",
       "11        16        21        l\n",
       "12        17        22        m\n",
       "13        18        23        n\n",
       "14        19        24        o"
      ]
     },
     "execution_count": 165,
     "metadata": {},
     "output_type": "execute_result"
    }
   ],
   "source": [
    "primeiro_df.tail()"
   ]
  },
  {
   "cell_type": "markdown",
   "metadata": {},
   "source": [
    "Ambas esses métodos mostram apenas 5 linhas do começou ou do final. Contudo, podemos passar um argumento com o núemero de linhas que queremos visualizar:"
   ]
  },
  {
   "cell_type": "code",
   "execution_count": 166,
   "metadata": {},
   "outputs": [
    {
     "data": {
      "text/html": [
       "<div>\n",
       "<style scoped>\n",
       "    .dataframe tbody tr th:only-of-type {\n",
       "        vertical-align: middle;\n",
       "    }\n",
       "\n",
       "    .dataframe tbody tr th {\n",
       "        vertical-align: top;\n",
       "    }\n",
       "\n",
       "    .dataframe thead th {\n",
       "        text-align: right;\n",
       "    }\n",
       "</style>\n",
       "<table border=\"1\" class=\"dataframe\">\n",
       "  <thead>\n",
       "    <tr style=\"text-align: right;\">\n",
       "      <th></th>\n",
       "      <th>coluna 1</th>\n",
       "      <th>coluna 2</th>\n",
       "      <th>coluna 3</th>\n",
       "    </tr>\n",
       "  </thead>\n",
       "  <tbody>\n",
       "    <tr>\n",
       "      <td>0</td>\n",
       "      <td>5</td>\n",
       "      <td>10</td>\n",
       "      <td>a</td>\n",
       "    </tr>\n",
       "    <tr>\n",
       "      <td>1</td>\n",
       "      <td>6</td>\n",
       "      <td>11</td>\n",
       "      <td>b</td>\n",
       "    </tr>\n",
       "  </tbody>\n",
       "</table>\n",
       "</div>"
      ],
      "text/plain": [
       "   coluna 1  coluna 2 coluna 3\n",
       "0         5        10        a\n",
       "1         6        11        b"
      ]
     },
     "execution_count": 166,
     "metadata": {},
     "output_type": "execute_result"
    }
   ],
   "source": [
    "primeiro_df.head(2)"
   ]
  },
  {
   "cell_type": "code",
   "execution_count": 167,
   "metadata": {},
   "outputs": [
    {
     "data": {
      "text/html": [
       "<div>\n",
       "<style scoped>\n",
       "    .dataframe tbody tr th:only-of-type {\n",
       "        vertical-align: middle;\n",
       "    }\n",
       "\n",
       "    .dataframe tbody tr th {\n",
       "        vertical-align: top;\n",
       "    }\n",
       "\n",
       "    .dataframe thead th {\n",
       "        text-align: right;\n",
       "    }\n",
       "</style>\n",
       "<table border=\"1\" class=\"dataframe\">\n",
       "  <thead>\n",
       "    <tr style=\"text-align: right;\">\n",
       "      <th></th>\n",
       "      <th>coluna 1</th>\n",
       "      <th>coluna 2</th>\n",
       "      <th>coluna 3</th>\n",
       "    </tr>\n",
       "  </thead>\n",
       "  <tbody>\n",
       "    <tr>\n",
       "      <td>12</td>\n",
       "      <td>17</td>\n",
       "      <td>22</td>\n",
       "      <td>m</td>\n",
       "    </tr>\n",
       "    <tr>\n",
       "      <td>13</td>\n",
       "      <td>18</td>\n",
       "      <td>23</td>\n",
       "      <td>n</td>\n",
       "    </tr>\n",
       "    <tr>\n",
       "      <td>14</td>\n",
       "      <td>19</td>\n",
       "      <td>24</td>\n",
       "      <td>o</td>\n",
       "    </tr>\n",
       "  </tbody>\n",
       "</table>\n",
       "</div>"
      ],
      "text/plain": [
       "    coluna 1  coluna 2 coluna 3\n",
       "12        17        22        m\n",
       "13        18        23        n\n",
       "14        19        24        o"
      ]
     },
     "execution_count": 167,
     "metadata": {},
     "output_type": "execute_result"
    }
   ],
   "source": [
    "primeiro_df.tail(3)"
   ]
  },
  {
   "cell_type": "markdown",
   "metadata": {},
   "source": [
    "Caso quisermos visualizar os dados de uma única coluna, basta fornecermos o nome do ``DataFrame`` e o nome da coluna desejada entre ``[]``, assim como feito em um dicionário:"
   ]
  },
  {
   "cell_type": "code",
   "execution_count": 168,
   "metadata": {},
   "outputs": [
    {
     "data": {
      "text/plain": [
       "0      5\n",
       "1      6\n",
       "2      7\n",
       "3      8\n",
       "4      9\n",
       "5     10\n",
       "6     11\n",
       "7     12\n",
       "8     13\n",
       "9     14\n",
       "10    15\n",
       "11    16\n",
       "12    17\n",
       "13    18\n",
       "14    19\n",
       "Name: coluna 1, dtype: int64"
      ]
     },
     "execution_count": 168,
     "metadata": {},
     "output_type": "execute_result"
    }
   ],
   "source": [
    "primeiro_df['coluna 1']"
   ]
  },
  {
   "cell_type": "markdown",
   "metadata": {},
   "source": [
    "Observe que os valores selecionados tem um tipo específico:"
   ]
  },
  {
   "cell_type": "code",
   "execution_count": 169,
   "metadata": {},
   "outputs": [
    {
     "data": {
      "text/plain": [
       "pandas.core.series.Series"
      ]
     },
     "execution_count": 169,
     "metadata": {},
     "output_type": "execute_result"
    }
   ],
   "source": [
    "type(primeiro_df['coluna 1'])"
   ]
  },
  {
   "cell_type": "markdown",
   "metadata": {},
   "source": [
    "Podemos também selecionar quantas colunas quisermos de uma única vez. Para isso, dentro dos colchetes ``[]`` na frente do ``DataFrame``, colocamos uma lista com os nomes das colunas desejadas:"
   ]
  },
  {
   "cell_type": "code",
   "execution_count": 177,
   "metadata": {},
   "outputs": [
    {
     "data": {
      "text/html": [
       "<div>\n",
       "<style scoped>\n",
       "    .dataframe tbody tr th:only-of-type {\n",
       "        vertical-align: middle;\n",
       "    }\n",
       "\n",
       "    .dataframe tbody tr th {\n",
       "        vertical-align: top;\n",
       "    }\n",
       "\n",
       "    .dataframe thead th {\n",
       "        text-align: right;\n",
       "    }\n",
       "</style>\n",
       "<table border=\"1\" class=\"dataframe\">\n",
       "  <thead>\n",
       "    <tr style=\"text-align: right;\">\n",
       "      <th></th>\n",
       "      <th>coluna 1</th>\n",
       "      <th>coluna 3</th>\n",
       "    </tr>\n",
       "  </thead>\n",
       "  <tbody>\n",
       "    <tr>\n",
       "      <td>0</td>\n",
       "      <td>5</td>\n",
       "      <td>a</td>\n",
       "    </tr>\n",
       "    <tr>\n",
       "      <td>1</td>\n",
       "      <td>6</td>\n",
       "      <td>b</td>\n",
       "    </tr>\n",
       "    <tr>\n",
       "      <td>2</td>\n",
       "      <td>7</td>\n",
       "      <td>c</td>\n",
       "    </tr>\n",
       "    <tr>\n",
       "      <td>3</td>\n",
       "      <td>8</td>\n",
       "      <td>d</td>\n",
       "    </tr>\n",
       "    <tr>\n",
       "      <td>4</td>\n",
       "      <td>9</td>\n",
       "      <td>e</td>\n",
       "    </tr>\n",
       "    <tr>\n",
       "      <td>5</td>\n",
       "      <td>10</td>\n",
       "      <td>f</td>\n",
       "    </tr>\n",
       "    <tr>\n",
       "      <td>6</td>\n",
       "      <td>11</td>\n",
       "      <td>g</td>\n",
       "    </tr>\n",
       "    <tr>\n",
       "      <td>7</td>\n",
       "      <td>12</td>\n",
       "      <td>h</td>\n",
       "    </tr>\n",
       "    <tr>\n",
       "      <td>8</td>\n",
       "      <td>13</td>\n",
       "      <td>i</td>\n",
       "    </tr>\n",
       "    <tr>\n",
       "      <td>9</td>\n",
       "      <td>14</td>\n",
       "      <td>j</td>\n",
       "    </tr>\n",
       "    <tr>\n",
       "      <td>10</td>\n",
       "      <td>15</td>\n",
       "      <td>k</td>\n",
       "    </tr>\n",
       "    <tr>\n",
       "      <td>11</td>\n",
       "      <td>16</td>\n",
       "      <td>l</td>\n",
       "    </tr>\n",
       "    <tr>\n",
       "      <td>12</td>\n",
       "      <td>17</td>\n",
       "      <td>m</td>\n",
       "    </tr>\n",
       "    <tr>\n",
       "      <td>13</td>\n",
       "      <td>18</td>\n",
       "      <td>n</td>\n",
       "    </tr>\n",
       "    <tr>\n",
       "      <td>14</td>\n",
       "      <td>19</td>\n",
       "      <td>o</td>\n",
       "    </tr>\n",
       "  </tbody>\n",
       "</table>\n",
       "</div>"
      ],
      "text/plain": [
       "    coluna 1 coluna 3\n",
       "0          5        a\n",
       "1          6        b\n",
       "2          7        c\n",
       "3          8        d\n",
       "4          9        e\n",
       "5         10        f\n",
       "6         11        g\n",
       "7         12        h\n",
       "8         13        i\n",
       "9         14        j\n",
       "10        15        k\n",
       "11        16        l\n",
       "12        17        m\n",
       "13        18        n\n",
       "14        19        o"
      ]
     },
     "execution_count": 177,
     "metadata": {},
     "output_type": "execute_result"
    }
   ],
   "source": [
    "primeiro_df[['coluna 1', 'coluna 3']]"
   ]
  },
  {
   "cell_type": "markdown",
   "metadata": {},
   "source": [
    "As vezes o ``DataFrame`` pode ter várias ``colunas``, tantas que nem apareçam todas quando o inspecionamos. Contudo, podemos visualizar o nome de todas as colunas com o seguinte comando:"
   ]
  },
  {
   "cell_type": "code",
   "execution_count": 178,
   "metadata": {},
   "outputs": [
    {
     "data": {
      "text/plain": [
       "Index(['coluna 1', 'coluna 2', 'coluna 3'], dtype='object')"
      ]
     },
     "execution_count": 178,
     "metadata": {},
     "output_type": "execute_result"
    }
   ],
   "source": [
    "primeiro_df.columns"
   ]
  },
  {
   "cell_type": "markdown",
   "metadata": {},
   "source": [
    "E inclusive, podemos mudar os nomes das colunas se desejarmos. Para isso, é só usar o código da célula anterior e igualar a uma lista, de mesmo número de elementos, contendo os nomes novos:"
   ]
  },
  {
   "cell_type": "code",
   "execution_count": 328,
   "metadata": {},
   "outputs": [],
   "source": [
    "primeiro_df.columns = ['numeros 1', 'numeros 2', 'letras']"
   ]
  },
  {
   "cell_type": "code",
   "execution_count": 329,
   "metadata": {},
   "outputs": [
    {
     "data": {
      "text/html": [
       "<div>\n",
       "<style scoped>\n",
       "    .dataframe tbody tr th:only-of-type {\n",
       "        vertical-align: middle;\n",
       "    }\n",
       "\n",
       "    .dataframe tbody tr th {\n",
       "        vertical-align: top;\n",
       "    }\n",
       "\n",
       "    .dataframe thead th {\n",
       "        text-align: right;\n",
       "    }\n",
       "</style>\n",
       "<table border=\"1\" class=\"dataframe\">\n",
       "  <thead>\n",
       "    <tr style=\"text-align: right;\">\n",
       "      <th></th>\n",
       "      <th>numeros 1</th>\n",
       "      <th>numeros 2</th>\n",
       "      <th>letras</th>\n",
       "    </tr>\n",
       "  </thead>\n",
       "  <tbody>\n",
       "    <tr>\n",
       "      <td>0</td>\n",
       "      <td>5</td>\n",
       "      <td>10</td>\n",
       "      <td>a</td>\n",
       "    </tr>\n",
       "    <tr>\n",
       "      <td>1</td>\n",
       "      <td>6</td>\n",
       "      <td>11</td>\n",
       "      <td>b</td>\n",
       "    </tr>\n",
       "    <tr>\n",
       "      <td>2</td>\n",
       "      <td>7</td>\n",
       "      <td>12</td>\n",
       "      <td>c</td>\n",
       "    </tr>\n",
       "    <tr>\n",
       "      <td>3</td>\n",
       "      <td>8</td>\n",
       "      <td>13</td>\n",
       "      <td>d</td>\n",
       "    </tr>\n",
       "    <tr>\n",
       "      <td>4</td>\n",
       "      <td>9</td>\n",
       "      <td>14</td>\n",
       "      <td>e</td>\n",
       "    </tr>\n",
       "    <tr>\n",
       "      <td>5</td>\n",
       "      <td>10</td>\n",
       "      <td>15</td>\n",
       "      <td>f</td>\n",
       "    </tr>\n",
       "    <tr>\n",
       "      <td>6</td>\n",
       "      <td>11</td>\n",
       "      <td>16</td>\n",
       "      <td>g</td>\n",
       "    </tr>\n",
       "    <tr>\n",
       "      <td>7</td>\n",
       "      <td>12</td>\n",
       "      <td>17</td>\n",
       "      <td>h</td>\n",
       "    </tr>\n",
       "    <tr>\n",
       "      <td>8</td>\n",
       "      <td>13</td>\n",
       "      <td>18</td>\n",
       "      <td>i</td>\n",
       "    </tr>\n",
       "    <tr>\n",
       "      <td>9</td>\n",
       "      <td>14</td>\n",
       "      <td>19</td>\n",
       "      <td>j</td>\n",
       "    </tr>\n",
       "    <tr>\n",
       "      <td>10</td>\n",
       "      <td>15</td>\n",
       "      <td>20</td>\n",
       "      <td>k</td>\n",
       "    </tr>\n",
       "    <tr>\n",
       "      <td>11</td>\n",
       "      <td>16</td>\n",
       "      <td>21</td>\n",
       "      <td>l</td>\n",
       "    </tr>\n",
       "    <tr>\n",
       "      <td>12</td>\n",
       "      <td>17</td>\n",
       "      <td>22</td>\n",
       "      <td>m</td>\n",
       "    </tr>\n",
       "    <tr>\n",
       "      <td>13</td>\n",
       "      <td>18</td>\n",
       "      <td>23</td>\n",
       "      <td>n</td>\n",
       "    </tr>\n",
       "    <tr>\n",
       "      <td>14</td>\n",
       "      <td>19</td>\n",
       "      <td>24</td>\n",
       "      <td>o</td>\n",
       "    </tr>\n",
       "  </tbody>\n",
       "</table>\n",
       "</div>"
      ],
      "text/plain": [
       "    numeros 1  numeros 2 letras\n",
       "0           5         10      a\n",
       "1           6         11      b\n",
       "2           7         12      c\n",
       "3           8         13      d\n",
       "4           9         14      e\n",
       "5          10         15      f\n",
       "6          11         16      g\n",
       "7          12         17      h\n",
       "8          13         18      i\n",
       "9          14         19      j\n",
       "10         15         20      k\n",
       "11         16         21      l\n",
       "12         17         22      m\n",
       "13         18         23      n\n",
       "14         19         24      o"
      ]
     },
     "execution_count": 329,
     "metadata": {},
     "output_type": "execute_result"
    }
   ],
   "source": [
    "primeiro_df"
   ]
  },
  {
   "cell_type": "markdown",
   "metadata": {},
   "source": [
    "Também podemos acessar todos os índices do ``DataFrame``:"
   ]
  },
  {
   "cell_type": "code",
   "execution_count": 182,
   "metadata": {},
   "outputs": [
    {
     "data": {
      "text/plain": [
       "RangeIndex(start=0, stop=15, step=1)"
      ]
     },
     "execution_count": 182,
     "metadata": {},
     "output_type": "execute_result"
    }
   ],
   "source": [
    "primeiro_df.index"
   ]
  },
  {
   "cell_type": "markdown",
   "metadata": {},
   "source": [
    "Caso a gente ache mais conveniente, podemos colocar uma das ``colunas`` como ``índice``, usando o método ``set_index()``, cujo argumento é o nome da ``coluna`` que irá virar ``índice``:"
   ]
  },
  {
   "cell_type": "code",
   "execution_count": 183,
   "metadata": {},
   "outputs": [
    {
     "data": {
      "text/html": [
       "<div>\n",
       "<style scoped>\n",
       "    .dataframe tbody tr th:only-of-type {\n",
       "        vertical-align: middle;\n",
       "    }\n",
       "\n",
       "    .dataframe tbody tr th {\n",
       "        vertical-align: top;\n",
       "    }\n",
       "\n",
       "    .dataframe thead th {\n",
       "        text-align: right;\n",
       "    }\n",
       "</style>\n",
       "<table border=\"1\" class=\"dataframe\">\n",
       "  <thead>\n",
       "    <tr style=\"text-align: right;\">\n",
       "      <th></th>\n",
       "      <th>numeros 1</th>\n",
       "      <th>numeros 2</th>\n",
       "    </tr>\n",
       "    <tr>\n",
       "      <th>letras</th>\n",
       "      <th></th>\n",
       "      <th></th>\n",
       "    </tr>\n",
       "  </thead>\n",
       "  <tbody>\n",
       "    <tr>\n",
       "      <td>a</td>\n",
       "      <td>5</td>\n",
       "      <td>10</td>\n",
       "    </tr>\n",
       "    <tr>\n",
       "      <td>b</td>\n",
       "      <td>6</td>\n",
       "      <td>11</td>\n",
       "    </tr>\n",
       "    <tr>\n",
       "      <td>c</td>\n",
       "      <td>7</td>\n",
       "      <td>12</td>\n",
       "    </tr>\n",
       "    <tr>\n",
       "      <td>d</td>\n",
       "      <td>8</td>\n",
       "      <td>13</td>\n",
       "    </tr>\n",
       "    <tr>\n",
       "      <td>e</td>\n",
       "      <td>9</td>\n",
       "      <td>14</td>\n",
       "    </tr>\n",
       "    <tr>\n",
       "      <td>f</td>\n",
       "      <td>10</td>\n",
       "      <td>15</td>\n",
       "    </tr>\n",
       "    <tr>\n",
       "      <td>g</td>\n",
       "      <td>11</td>\n",
       "      <td>16</td>\n",
       "    </tr>\n",
       "    <tr>\n",
       "      <td>h</td>\n",
       "      <td>12</td>\n",
       "      <td>17</td>\n",
       "    </tr>\n",
       "    <tr>\n",
       "      <td>i</td>\n",
       "      <td>13</td>\n",
       "      <td>18</td>\n",
       "    </tr>\n",
       "    <tr>\n",
       "      <td>j</td>\n",
       "      <td>14</td>\n",
       "      <td>19</td>\n",
       "    </tr>\n",
       "    <tr>\n",
       "      <td>k</td>\n",
       "      <td>15</td>\n",
       "      <td>20</td>\n",
       "    </tr>\n",
       "    <tr>\n",
       "      <td>l</td>\n",
       "      <td>16</td>\n",
       "      <td>21</td>\n",
       "    </tr>\n",
       "    <tr>\n",
       "      <td>m</td>\n",
       "      <td>17</td>\n",
       "      <td>22</td>\n",
       "    </tr>\n",
       "    <tr>\n",
       "      <td>n</td>\n",
       "      <td>18</td>\n",
       "      <td>23</td>\n",
       "    </tr>\n",
       "    <tr>\n",
       "      <td>o</td>\n",
       "      <td>19</td>\n",
       "      <td>24</td>\n",
       "    </tr>\n",
       "  </tbody>\n",
       "</table>\n",
       "</div>"
      ],
      "text/plain": [
       "        numeros 1  numeros 2\n",
       "letras                      \n",
       "a               5         10\n",
       "b               6         11\n",
       "c               7         12\n",
       "d               8         13\n",
       "e               9         14\n",
       "f              10         15\n",
       "g              11         16\n",
       "h              12         17\n",
       "i              13         18\n",
       "j              14         19\n",
       "k              15         20\n",
       "l              16         21\n",
       "m              17         22\n",
       "n              18         23\n",
       "o              19         24"
      ]
     },
     "execution_count": 183,
     "metadata": {},
     "output_type": "execute_result"
    }
   ],
   "source": [
    "primeiro_df.set_index('letras')"
   ]
  },
  {
   "cell_type": "markdown",
   "metadata": {},
   "source": [
    "Contudo, as mudanças realizadas nem sempre são permanentes:"
   ]
  },
  {
   "cell_type": "code",
   "execution_count": 184,
   "metadata": {},
   "outputs": [
    {
     "data": {
      "text/html": [
       "<div>\n",
       "<style scoped>\n",
       "    .dataframe tbody tr th:only-of-type {\n",
       "        vertical-align: middle;\n",
       "    }\n",
       "\n",
       "    .dataframe tbody tr th {\n",
       "        vertical-align: top;\n",
       "    }\n",
       "\n",
       "    .dataframe thead th {\n",
       "        text-align: right;\n",
       "    }\n",
       "</style>\n",
       "<table border=\"1\" class=\"dataframe\">\n",
       "  <thead>\n",
       "    <tr style=\"text-align: right;\">\n",
       "      <th></th>\n",
       "      <th>numeros 1</th>\n",
       "      <th>numeros 2</th>\n",
       "      <th>letras</th>\n",
       "    </tr>\n",
       "  </thead>\n",
       "  <tbody>\n",
       "    <tr>\n",
       "      <td>0</td>\n",
       "      <td>5</td>\n",
       "      <td>10</td>\n",
       "      <td>a</td>\n",
       "    </tr>\n",
       "    <tr>\n",
       "      <td>1</td>\n",
       "      <td>6</td>\n",
       "      <td>11</td>\n",
       "      <td>b</td>\n",
       "    </tr>\n",
       "    <tr>\n",
       "      <td>2</td>\n",
       "      <td>7</td>\n",
       "      <td>12</td>\n",
       "      <td>c</td>\n",
       "    </tr>\n",
       "    <tr>\n",
       "      <td>3</td>\n",
       "      <td>8</td>\n",
       "      <td>13</td>\n",
       "      <td>d</td>\n",
       "    </tr>\n",
       "    <tr>\n",
       "      <td>4</td>\n",
       "      <td>9</td>\n",
       "      <td>14</td>\n",
       "      <td>e</td>\n",
       "    </tr>\n",
       "    <tr>\n",
       "      <td>5</td>\n",
       "      <td>10</td>\n",
       "      <td>15</td>\n",
       "      <td>f</td>\n",
       "    </tr>\n",
       "    <tr>\n",
       "      <td>6</td>\n",
       "      <td>11</td>\n",
       "      <td>16</td>\n",
       "      <td>g</td>\n",
       "    </tr>\n",
       "    <tr>\n",
       "      <td>7</td>\n",
       "      <td>12</td>\n",
       "      <td>17</td>\n",
       "      <td>h</td>\n",
       "    </tr>\n",
       "    <tr>\n",
       "      <td>8</td>\n",
       "      <td>13</td>\n",
       "      <td>18</td>\n",
       "      <td>i</td>\n",
       "    </tr>\n",
       "    <tr>\n",
       "      <td>9</td>\n",
       "      <td>14</td>\n",
       "      <td>19</td>\n",
       "      <td>j</td>\n",
       "    </tr>\n",
       "    <tr>\n",
       "      <td>10</td>\n",
       "      <td>15</td>\n",
       "      <td>20</td>\n",
       "      <td>k</td>\n",
       "    </tr>\n",
       "    <tr>\n",
       "      <td>11</td>\n",
       "      <td>16</td>\n",
       "      <td>21</td>\n",
       "      <td>l</td>\n",
       "    </tr>\n",
       "    <tr>\n",
       "      <td>12</td>\n",
       "      <td>17</td>\n",
       "      <td>22</td>\n",
       "      <td>m</td>\n",
       "    </tr>\n",
       "    <tr>\n",
       "      <td>13</td>\n",
       "      <td>18</td>\n",
       "      <td>23</td>\n",
       "      <td>n</td>\n",
       "    </tr>\n",
       "    <tr>\n",
       "      <td>14</td>\n",
       "      <td>19</td>\n",
       "      <td>24</td>\n",
       "      <td>o</td>\n",
       "    </tr>\n",
       "  </tbody>\n",
       "</table>\n",
       "</div>"
      ],
      "text/plain": [
       "    numeros 1  numeros 2 letras\n",
       "0           5         10      a\n",
       "1           6         11      b\n",
       "2           7         12      c\n",
       "3           8         13      d\n",
       "4           9         14      e\n",
       "5          10         15      f\n",
       "6          11         16      g\n",
       "7          12         17      h\n",
       "8          13         18      i\n",
       "9          14         19      j\n",
       "10         15         20      k\n",
       "11         16         21      l\n",
       "12         17         22      m\n",
       "13         18         23      n\n",
       "14         19         24      o"
      ]
     },
     "execution_count": 184,
     "metadata": {},
     "output_type": "execute_result"
    }
   ],
   "source": [
    "primeiro_df"
   ]
  },
  {
   "cell_type": "markdown",
   "metadata": {},
   "source": [
    "Para que a mudança permaneça, devemos passar outro argumento para o método, o ``inplace=True``:"
   ]
  },
  {
   "cell_type": "code",
   "execution_count": 330,
   "metadata": {},
   "outputs": [],
   "source": [
    "primeiro_df.set_index('letras', inplace=True)"
   ]
  },
  {
   "cell_type": "markdown",
   "metadata": {},
   "source": [
    "Podemos verificar agora que a mudança é feita diretamente no objeto ``primeiro_df``:"
   ]
  },
  {
   "cell_type": "code",
   "execution_count": 186,
   "metadata": {},
   "outputs": [
    {
     "data": {
      "text/html": [
       "<div>\n",
       "<style scoped>\n",
       "    .dataframe tbody tr th:only-of-type {\n",
       "        vertical-align: middle;\n",
       "    }\n",
       "\n",
       "    .dataframe tbody tr th {\n",
       "        vertical-align: top;\n",
       "    }\n",
       "\n",
       "    .dataframe thead th {\n",
       "        text-align: right;\n",
       "    }\n",
       "</style>\n",
       "<table border=\"1\" class=\"dataframe\">\n",
       "  <thead>\n",
       "    <tr style=\"text-align: right;\">\n",
       "      <th></th>\n",
       "      <th>numeros 1</th>\n",
       "      <th>numeros 2</th>\n",
       "    </tr>\n",
       "    <tr>\n",
       "      <th>letras</th>\n",
       "      <th></th>\n",
       "      <th></th>\n",
       "    </tr>\n",
       "  </thead>\n",
       "  <tbody>\n",
       "    <tr>\n",
       "      <td>a</td>\n",
       "      <td>5</td>\n",
       "      <td>10</td>\n",
       "    </tr>\n",
       "    <tr>\n",
       "      <td>b</td>\n",
       "      <td>6</td>\n",
       "      <td>11</td>\n",
       "    </tr>\n",
       "    <tr>\n",
       "      <td>c</td>\n",
       "      <td>7</td>\n",
       "      <td>12</td>\n",
       "    </tr>\n",
       "    <tr>\n",
       "      <td>d</td>\n",
       "      <td>8</td>\n",
       "      <td>13</td>\n",
       "    </tr>\n",
       "    <tr>\n",
       "      <td>e</td>\n",
       "      <td>9</td>\n",
       "      <td>14</td>\n",
       "    </tr>\n",
       "    <tr>\n",
       "      <td>f</td>\n",
       "      <td>10</td>\n",
       "      <td>15</td>\n",
       "    </tr>\n",
       "    <tr>\n",
       "      <td>g</td>\n",
       "      <td>11</td>\n",
       "      <td>16</td>\n",
       "    </tr>\n",
       "    <tr>\n",
       "      <td>h</td>\n",
       "      <td>12</td>\n",
       "      <td>17</td>\n",
       "    </tr>\n",
       "    <tr>\n",
       "      <td>i</td>\n",
       "      <td>13</td>\n",
       "      <td>18</td>\n",
       "    </tr>\n",
       "    <tr>\n",
       "      <td>j</td>\n",
       "      <td>14</td>\n",
       "      <td>19</td>\n",
       "    </tr>\n",
       "    <tr>\n",
       "      <td>k</td>\n",
       "      <td>15</td>\n",
       "      <td>20</td>\n",
       "    </tr>\n",
       "    <tr>\n",
       "      <td>l</td>\n",
       "      <td>16</td>\n",
       "      <td>21</td>\n",
       "    </tr>\n",
       "    <tr>\n",
       "      <td>m</td>\n",
       "      <td>17</td>\n",
       "      <td>22</td>\n",
       "    </tr>\n",
       "    <tr>\n",
       "      <td>n</td>\n",
       "      <td>18</td>\n",
       "      <td>23</td>\n",
       "    </tr>\n",
       "    <tr>\n",
       "      <td>o</td>\n",
       "      <td>19</td>\n",
       "      <td>24</td>\n",
       "    </tr>\n",
       "  </tbody>\n",
       "</table>\n",
       "</div>"
      ],
      "text/plain": [
       "        numeros 1  numeros 2\n",
       "letras                      \n",
       "a               5         10\n",
       "b               6         11\n",
       "c               7         12\n",
       "d               8         13\n",
       "e               9         14\n",
       "f              10         15\n",
       "g              11         16\n",
       "h              12         17\n",
       "i              13         18\n",
       "j              14         19\n",
       "k              15         20\n",
       "l              16         21\n",
       "m              17         22\n",
       "n              18         23\n",
       "o              19         24"
      ]
     },
     "execution_count": 186,
     "metadata": {},
     "output_type": "execute_result"
    }
   ],
   "source": [
    "primeiro_df"
   ]
  },
  {
   "cell_type": "markdown",
   "metadata": {},
   "source": [
    "E agora os índices são:"
   ]
  },
  {
   "cell_type": "code",
   "execution_count": 192,
   "metadata": {},
   "outputs": [
    {
     "data": {
      "text/plain": [
       "Index(['a', 'b', 'c', 'd', 'e', 'f', 'g', 'h', 'i', 'j', 'k', 'l', 'm', 'n',\n",
       "       'o'],\n",
       "      dtype='object', name='letras')"
      ]
     },
     "execution_count": 192,
     "metadata": {},
     "output_type": "execute_result"
    }
   ],
   "source": [
    "primeiro_df.index"
   ]
  },
  {
   "cell_type": "markdown",
   "metadata": {},
   "source": [
    "Podemos aplicar operações matemáticas no ``DataFrame`` inteiro:"
   ]
  },
  {
   "cell_type": "code",
   "execution_count": 203,
   "metadata": {},
   "outputs": [
    {
     "data": {
      "text/html": [
       "<div>\n",
       "<style scoped>\n",
       "    .dataframe tbody tr th:only-of-type {\n",
       "        vertical-align: middle;\n",
       "    }\n",
       "\n",
       "    .dataframe tbody tr th {\n",
       "        vertical-align: top;\n",
       "    }\n",
       "\n",
       "    .dataframe thead th {\n",
       "        text-align: right;\n",
       "    }\n",
       "</style>\n",
       "<table border=\"1\" class=\"dataframe\">\n",
       "  <thead>\n",
       "    <tr style=\"text-align: right;\">\n",
       "      <th></th>\n",
       "      <th>numeros 1</th>\n",
       "      <th>numeros 2</th>\n",
       "    </tr>\n",
       "    <tr>\n",
       "      <th>letras</th>\n",
       "      <th></th>\n",
       "      <th></th>\n",
       "    </tr>\n",
       "  </thead>\n",
       "  <tbody>\n",
       "    <tr>\n",
       "      <td>a</td>\n",
       "      <td>10</td>\n",
       "      <td>20</td>\n",
       "    </tr>\n",
       "    <tr>\n",
       "      <td>b</td>\n",
       "      <td>12</td>\n",
       "      <td>22</td>\n",
       "    </tr>\n",
       "    <tr>\n",
       "      <td>c</td>\n",
       "      <td>14</td>\n",
       "      <td>24</td>\n",
       "    </tr>\n",
       "    <tr>\n",
       "      <td>d</td>\n",
       "      <td>16</td>\n",
       "      <td>26</td>\n",
       "    </tr>\n",
       "    <tr>\n",
       "      <td>e</td>\n",
       "      <td>18</td>\n",
       "      <td>28</td>\n",
       "    </tr>\n",
       "    <tr>\n",
       "      <td>f</td>\n",
       "      <td>20</td>\n",
       "      <td>30</td>\n",
       "    </tr>\n",
       "    <tr>\n",
       "      <td>g</td>\n",
       "      <td>22</td>\n",
       "      <td>32</td>\n",
       "    </tr>\n",
       "    <tr>\n",
       "      <td>h</td>\n",
       "      <td>24</td>\n",
       "      <td>34</td>\n",
       "    </tr>\n",
       "    <tr>\n",
       "      <td>i</td>\n",
       "      <td>26</td>\n",
       "      <td>36</td>\n",
       "    </tr>\n",
       "    <tr>\n",
       "      <td>j</td>\n",
       "      <td>28</td>\n",
       "      <td>38</td>\n",
       "    </tr>\n",
       "    <tr>\n",
       "      <td>k</td>\n",
       "      <td>30</td>\n",
       "      <td>40</td>\n",
       "    </tr>\n",
       "    <tr>\n",
       "      <td>l</td>\n",
       "      <td>32</td>\n",
       "      <td>42</td>\n",
       "    </tr>\n",
       "    <tr>\n",
       "      <td>m</td>\n",
       "      <td>34</td>\n",
       "      <td>44</td>\n",
       "    </tr>\n",
       "    <tr>\n",
       "      <td>n</td>\n",
       "      <td>36</td>\n",
       "      <td>46</td>\n",
       "    </tr>\n",
       "    <tr>\n",
       "      <td>o</td>\n",
       "      <td>38</td>\n",
       "      <td>48</td>\n",
       "    </tr>\n",
       "  </tbody>\n",
       "</table>\n",
       "</div>"
      ],
      "text/plain": [
       "        numeros 1  numeros 2\n",
       "letras                      \n",
       "a              10         20\n",
       "b              12         22\n",
       "c              14         24\n",
       "d              16         26\n",
       "e              18         28\n",
       "f              20         30\n",
       "g              22         32\n",
       "h              24         34\n",
       "i              26         36\n",
       "j              28         38\n",
       "k              30         40\n",
       "l              32         42\n",
       "m              34         44\n",
       "n              36         46\n",
       "o              38         48"
      ]
     },
     "execution_count": 203,
     "metadata": {},
     "output_type": "execute_result"
    }
   ],
   "source": [
    "primeiro_df*2"
   ]
  },
  {
   "cell_type": "markdown",
   "metadata": {},
   "source": [
    "E de colunas individuais:"
   ]
  },
  {
   "cell_type": "code",
   "execution_count": 204,
   "metadata": {},
   "outputs": [
    {
     "data": {
      "text/plain": [
       "letras\n",
       "a     7\n",
       "b     8\n",
       "c     9\n",
       "d    10\n",
       "e    11\n",
       "f    12\n",
       "g    13\n",
       "h    14\n",
       "i    15\n",
       "j    16\n",
       "k    17\n",
       "l    18\n",
       "m    19\n",
       "n    20\n",
       "o    21\n",
       "Name: numeros 2, dtype: int64"
      ]
     },
     "execution_count": 204,
     "metadata": {},
     "output_type": "execute_result"
    }
   ],
   "source": [
    "primeiro_df['numeros 2'] - 3"
   ]
  },
  {
   "cell_type": "markdown",
   "metadata": {},
   "source": [
    "Podemos inclusive combinar os valores das colunas com operações matemáticas para criar outra coluna:"
   ]
  },
  {
   "cell_type": "code",
   "execution_count": 331,
   "metadata": {},
   "outputs": [],
   "source": [
    "coluna_combinada = (primeiro_df['numeros 1'] - 2)*0.43 + primeiro_df['numeros 2']*0.3\n",
    "primeiro_df['coluna_combinada'] = coluna_combinada"
   ]
  },
  {
   "cell_type": "code",
   "execution_count": 332,
   "metadata": {},
   "outputs": [
    {
     "data": {
      "text/html": [
       "<div>\n",
       "<style scoped>\n",
       "    .dataframe tbody tr th:only-of-type {\n",
       "        vertical-align: middle;\n",
       "    }\n",
       "\n",
       "    .dataframe tbody tr th {\n",
       "        vertical-align: top;\n",
       "    }\n",
       "\n",
       "    .dataframe thead th {\n",
       "        text-align: right;\n",
       "    }\n",
       "</style>\n",
       "<table border=\"1\" class=\"dataframe\">\n",
       "  <thead>\n",
       "    <tr style=\"text-align: right;\">\n",
       "      <th></th>\n",
       "      <th>numeros 1</th>\n",
       "      <th>numeros 2</th>\n",
       "      <th>coluna_combinada</th>\n",
       "    </tr>\n",
       "    <tr>\n",
       "      <th>letras</th>\n",
       "      <th></th>\n",
       "      <th></th>\n",
       "      <th></th>\n",
       "    </tr>\n",
       "  </thead>\n",
       "  <tbody>\n",
       "    <tr>\n",
       "      <td>a</td>\n",
       "      <td>5</td>\n",
       "      <td>10</td>\n",
       "      <td>4.29</td>\n",
       "    </tr>\n",
       "    <tr>\n",
       "      <td>b</td>\n",
       "      <td>6</td>\n",
       "      <td>11</td>\n",
       "      <td>5.02</td>\n",
       "    </tr>\n",
       "    <tr>\n",
       "      <td>c</td>\n",
       "      <td>7</td>\n",
       "      <td>12</td>\n",
       "      <td>5.75</td>\n",
       "    </tr>\n",
       "    <tr>\n",
       "      <td>d</td>\n",
       "      <td>8</td>\n",
       "      <td>13</td>\n",
       "      <td>6.48</td>\n",
       "    </tr>\n",
       "    <tr>\n",
       "      <td>e</td>\n",
       "      <td>9</td>\n",
       "      <td>14</td>\n",
       "      <td>7.21</td>\n",
       "    </tr>\n",
       "    <tr>\n",
       "      <td>f</td>\n",
       "      <td>10</td>\n",
       "      <td>15</td>\n",
       "      <td>7.94</td>\n",
       "    </tr>\n",
       "    <tr>\n",
       "      <td>g</td>\n",
       "      <td>11</td>\n",
       "      <td>16</td>\n",
       "      <td>8.67</td>\n",
       "    </tr>\n",
       "    <tr>\n",
       "      <td>h</td>\n",
       "      <td>12</td>\n",
       "      <td>17</td>\n",
       "      <td>9.40</td>\n",
       "    </tr>\n",
       "    <tr>\n",
       "      <td>i</td>\n",
       "      <td>13</td>\n",
       "      <td>18</td>\n",
       "      <td>10.13</td>\n",
       "    </tr>\n",
       "    <tr>\n",
       "      <td>j</td>\n",
       "      <td>14</td>\n",
       "      <td>19</td>\n",
       "      <td>10.86</td>\n",
       "    </tr>\n",
       "    <tr>\n",
       "      <td>k</td>\n",
       "      <td>15</td>\n",
       "      <td>20</td>\n",
       "      <td>11.59</td>\n",
       "    </tr>\n",
       "    <tr>\n",
       "      <td>l</td>\n",
       "      <td>16</td>\n",
       "      <td>21</td>\n",
       "      <td>12.32</td>\n",
       "    </tr>\n",
       "    <tr>\n",
       "      <td>m</td>\n",
       "      <td>17</td>\n",
       "      <td>22</td>\n",
       "      <td>13.05</td>\n",
       "    </tr>\n",
       "    <tr>\n",
       "      <td>n</td>\n",
       "      <td>18</td>\n",
       "      <td>23</td>\n",
       "      <td>13.78</td>\n",
       "    </tr>\n",
       "    <tr>\n",
       "      <td>o</td>\n",
       "      <td>19</td>\n",
       "      <td>24</td>\n",
       "      <td>14.51</td>\n",
       "    </tr>\n",
       "  </tbody>\n",
       "</table>\n",
       "</div>"
      ],
      "text/plain": [
       "        numeros 1  numeros 2  coluna_combinada\n",
       "letras                                        \n",
       "a               5         10              4.29\n",
       "b               6         11              5.02\n",
       "c               7         12              5.75\n",
       "d               8         13              6.48\n",
       "e               9         14              7.21\n",
       "f              10         15              7.94\n",
       "g              11         16              8.67\n",
       "h              12         17              9.40\n",
       "i              13         18             10.13\n",
       "j              14         19             10.86\n",
       "k              15         20             11.59\n",
       "l              16         21             12.32\n",
       "m              17         22             13.05\n",
       "n              18         23             13.78\n",
       "o              19         24             14.51"
      ]
     },
     "execution_count": 332,
     "metadata": {},
     "output_type": "execute_result"
    }
   ],
   "source": [
    "primeiro_df"
   ]
  },
  {
   "cell_type": "markdown",
   "metadata": {},
   "source": [
    "Outro detalhe que vale a pena mencionar, é que podemos acessar os valores de uma coluna usando a notação de ``.`` se ela for escrita sem formar mais de uma \"palavra\":"
   ]
  },
  {
   "cell_type": "code",
   "execution_count": 207,
   "metadata": {},
   "outputs": [
    {
     "data": {
      "text/plain": [
       "letras\n",
       "a     4.29\n",
       "b     5.02\n",
       "c     5.75\n",
       "d     6.48\n",
       "e     7.21\n",
       "f     7.94\n",
       "g     8.67\n",
       "h     9.40\n",
       "i    10.13\n",
       "j    10.86\n",
       "k    11.59\n",
       "l    12.32\n",
       "m    13.05\n",
       "n    13.78\n",
       "o    14.51\n",
       "Name: coluna_combinada, dtype: float64"
      ]
     },
     "execution_count": 207,
     "metadata": {},
     "output_type": "execute_result"
    }
   ],
   "source": [
    "primeiro_df.coluna_combinada"
   ]
  },
  {
   "cell_type": "markdown",
   "metadata": {},
   "source": [
    "Existem diversos métodos que podem ser aplicados em um ``DataFrame``. Assim como nos ``numpy arrays``, temos os métodos ``mean()`` e ``std()``. Vamos ver o que ocorre quando aplicamos eles em nosso ``DataFrame``:"
   ]
  },
  {
   "cell_type": "code",
   "execution_count": 14,
   "metadata": {},
   "outputs": [
    {
     "data": {
      "text/plain": [
       "numeros 1           12.0\n",
       "numeros 2           17.0\n",
       "coluna_combinada     9.4\n",
       "dtype: float64"
      ]
     },
     "execution_count": 14,
     "metadata": {},
     "output_type": "execute_result"
    }
   ],
   "source": [
    "primeiro_df.mean()"
   ]
  },
  {
   "cell_type": "code",
   "execution_count": 15,
   "metadata": {},
   "outputs": [
    {
     "data": {
      "text/plain": [
       "numeros 1           4.472136\n",
       "numeros 2           4.472136\n",
       "coluna_combinada    3.264659\n",
       "dtype: float64"
      ]
     },
     "execution_count": 15,
     "metadata": {},
     "output_type": "execute_result"
    }
   ],
   "source": [
    "primeiro_df.std()"
   ]
  },
  {
   "cell_type": "markdown",
   "metadata": {},
   "source": [
    "Veja que as quantidades calculadas foram referentes aos valores de cada uma das ``colunas``. Contudo, é possível que estejamos interessados em calcular as quantidade para as ``linhas``. Para fazer isso, temos que fornecer um argumento ao método, ``axis=1``:"
   ]
  },
  {
   "cell_type": "code",
   "execution_count": 16,
   "metadata": {},
   "outputs": [
    {
     "data": {
      "text/plain": [
       "letras\n",
       "a     6.43\n",
       "b     7.34\n",
       "c     8.25\n",
       "d     9.16\n",
       "e    10.07\n",
       "f    10.98\n",
       "g    11.89\n",
       "h    12.80\n",
       "i    13.71\n",
       "j    14.62\n",
       "k    15.53\n",
       "l    16.44\n",
       "m    17.35\n",
       "n    18.26\n",
       "o    19.17\n",
       "dtype: float64"
      ]
     },
     "execution_count": 16,
     "metadata": {},
     "output_type": "execute_result"
    }
   ],
   "source": [
    "primeiro_df.mean(axis=1)"
   ]
  },
  {
   "cell_type": "code",
   "execution_count": 17,
   "metadata": {},
   "outputs": [
    {
     "data": {
      "text/plain": [
       "letras\n",
       "a    3.112025\n",
       "b    3.207304\n",
       "c    3.307189\n",
       "d    3.411275\n",
       "e    3.519190\n",
       "f    3.630592\n",
       "g    3.745170\n",
       "h    3.862642\n",
       "i    3.982750\n",
       "j    4.105265\n",
       "k    4.229976\n",
       "l    4.356696\n",
       "m    4.485254\n",
       "n    4.615496\n",
       "o    4.747283\n",
       "dtype: float64"
      ]
     },
     "execution_count": 17,
     "metadata": {},
     "output_type": "execute_result"
    }
   ],
   "source": [
    "primeiro_df.std(axis=1)"
   ]
  },
  {
   "cell_type": "markdown",
   "metadata": {},
   "source": [
    "Qualquer método que resulte em um valor final a partir das colunas ou das linhas pode receber esse argumento. O argumento padrão é ``axis=0``, que faz os cálculos baseados nos valores de cada coluna e, como acabamos de ver, ``axis=1`` faz os cálculos baseados nos valores de cada linha."
   ]
  },
  {
   "cell_type": "markdown",
   "metadata": {},
   "source": [
    "Para acessar os valores das ``linhas`` de um ``DataFrame``, termos que usar a notação de ``.`` juntamente com s propriedade ``iloc[n]``, onde ``n`` é o número da linha que queremos acessar:"
   ]
  },
  {
   "cell_type": "code",
   "execution_count": 208,
   "metadata": {},
   "outputs": [
    {
     "data": {
      "text/plain": [
       "numeros 1           10.00\n",
       "numeros 2           15.00\n",
       "coluna_combinada     7.94\n",
       "Name: f, dtype: float64"
      ]
     },
     "execution_count": 208,
     "metadata": {},
     "output_type": "execute_result"
    }
   ],
   "source": [
    "primeiro_df.iloc[5]"
   ]
  },
  {
   "cell_type": "markdown",
   "metadata": {},
   "source": [
    "Também podemos selecionar um intervalo de linhas usando a notação de ``:``:"
   ]
  },
  {
   "cell_type": "code",
   "execution_count": 209,
   "metadata": {},
   "outputs": [
    {
     "data": {
      "text/html": [
       "<div>\n",
       "<style scoped>\n",
       "    .dataframe tbody tr th:only-of-type {\n",
       "        vertical-align: middle;\n",
       "    }\n",
       "\n",
       "    .dataframe tbody tr th {\n",
       "        vertical-align: top;\n",
       "    }\n",
       "\n",
       "    .dataframe thead th {\n",
       "        text-align: right;\n",
       "    }\n",
       "</style>\n",
       "<table border=\"1\" class=\"dataframe\">\n",
       "  <thead>\n",
       "    <tr style=\"text-align: right;\">\n",
       "      <th></th>\n",
       "      <th>numeros 1</th>\n",
       "      <th>numeros 2</th>\n",
       "      <th>coluna_combinada</th>\n",
       "    </tr>\n",
       "    <tr>\n",
       "      <th>letras</th>\n",
       "      <th></th>\n",
       "      <th></th>\n",
       "      <th></th>\n",
       "    </tr>\n",
       "  </thead>\n",
       "  <tbody>\n",
       "    <tr>\n",
       "      <td>d</td>\n",
       "      <td>8</td>\n",
       "      <td>13</td>\n",
       "      <td>6.48</td>\n",
       "    </tr>\n",
       "    <tr>\n",
       "      <td>f</td>\n",
       "      <td>10</td>\n",
       "      <td>15</td>\n",
       "      <td>7.94</td>\n",
       "    </tr>\n",
       "    <tr>\n",
       "      <td>h</td>\n",
       "      <td>12</td>\n",
       "      <td>17</td>\n",
       "      <td>9.40</td>\n",
       "    </tr>\n",
       "    <tr>\n",
       "      <td>j</td>\n",
       "      <td>14</td>\n",
       "      <td>19</td>\n",
       "      <td>10.86</td>\n",
       "    </tr>\n",
       "    <tr>\n",
       "      <td>l</td>\n",
       "      <td>16</td>\n",
       "      <td>21</td>\n",
       "      <td>12.32</td>\n",
       "    </tr>\n",
       "    <tr>\n",
       "      <td>n</td>\n",
       "      <td>18</td>\n",
       "      <td>23</td>\n",
       "      <td>13.78</td>\n",
       "    </tr>\n",
       "  </tbody>\n",
       "</table>\n",
       "</div>"
      ],
      "text/plain": [
       "        numeros 1  numeros 2  coluna_combinada\n",
       "letras                                        \n",
       "d               8         13              6.48\n",
       "f              10         15              7.94\n",
       "h              12         17              9.40\n",
       "j              14         19             10.86\n",
       "l              16         21             12.32\n",
       "n              18         23             13.78"
      ]
     },
     "execution_count": 209,
     "metadata": {},
     "output_type": "execute_result"
    }
   ],
   "source": [
    "primeiro_df.iloc[3:15:2]"
   ]
  },
  {
   "cell_type": "markdown",
   "metadata": {},
   "source": [
    "Se quisermos acessar o valor de uma linha e de uma coluna específica, basta especificarmos a coluna na frente entre colchetes:"
   ]
  },
  {
   "cell_type": "code",
   "execution_count": 212,
   "metadata": {},
   "outputs": [
    {
     "data": {
      "text/html": [
       "<div>\n",
       "<style scoped>\n",
       "    .dataframe tbody tr th:only-of-type {\n",
       "        vertical-align: middle;\n",
       "    }\n",
       "\n",
       "    .dataframe tbody tr th {\n",
       "        vertical-align: top;\n",
       "    }\n",
       "\n",
       "    .dataframe thead th {\n",
       "        text-align: right;\n",
       "    }\n",
       "</style>\n",
       "<table border=\"1\" class=\"dataframe\">\n",
       "  <thead>\n",
       "    <tr style=\"text-align: right;\">\n",
       "      <th></th>\n",
       "      <th>numeros 1</th>\n",
       "      <th>coluna_combinada</th>\n",
       "    </tr>\n",
       "    <tr>\n",
       "      <th>letras</th>\n",
       "      <th></th>\n",
       "      <th></th>\n",
       "    </tr>\n",
       "  </thead>\n",
       "  <tbody>\n",
       "    <tr>\n",
       "      <td>a</td>\n",
       "      <td>5</td>\n",
       "      <td>4.29</td>\n",
       "    </tr>\n",
       "    <tr>\n",
       "      <td>b</td>\n",
       "      <td>6</td>\n",
       "      <td>5.02</td>\n",
       "    </tr>\n",
       "    <tr>\n",
       "      <td>c</td>\n",
       "      <td>7</td>\n",
       "      <td>5.75</td>\n",
       "    </tr>\n",
       "    <tr>\n",
       "      <td>d</td>\n",
       "      <td>8</td>\n",
       "      <td>6.48</td>\n",
       "    </tr>\n",
       "    <tr>\n",
       "      <td>e</td>\n",
       "      <td>9</td>\n",
       "      <td>7.21</td>\n",
       "    </tr>\n",
       "  </tbody>\n",
       "</table>\n",
       "</div>"
      ],
      "text/plain": [
       "        numeros 1  coluna_combinada\n",
       "letras                             \n",
       "a               5              4.29\n",
       "b               6              5.02\n",
       "c               7              5.75\n",
       "d               8              6.48\n",
       "e               9              7.21"
      ]
     },
     "execution_count": 212,
     "metadata": {},
     "output_type": "execute_result"
    }
   ],
   "source": [
    "primeiro_df.iloc[:5][['numeros 1', 'coluna_combinada']]"
   ]
  },
  {
   "cell_type": "markdown",
   "metadata": {},
   "source": [
    "Observe que mesmo os índices sendo letras, acessamos as linhas usando número com a propriedade ``iloc``. Se quisermos encontrar a linha usando o valor que corresponde ao índice, no nosso caso as letras, precisamos usar o método ``loc``:"
   ]
  },
  {
   "cell_type": "code",
   "execution_count": 213,
   "metadata": {},
   "outputs": [
    {
     "data": {
      "text/plain": [
       "numeros 1            5.00\n",
       "numeros 2           10.00\n",
       "coluna_combinada     4.29\n",
       "Name: a, dtype: float64"
      ]
     },
     "execution_count": 213,
     "metadata": {},
     "output_type": "execute_result"
    }
   ],
   "source": [
    "primeiro_df.loc['a']"
   ]
  },
  {
   "cell_type": "markdown",
   "metadata": {},
   "source": [
    "Para acessar mais de um índice, fornecemos uma lista com os selecionados:"
   ]
  },
  {
   "cell_type": "code",
   "execution_count": 214,
   "metadata": {},
   "outputs": [
    {
     "data": {
      "text/html": [
       "<div>\n",
       "<style scoped>\n",
       "    .dataframe tbody tr th:only-of-type {\n",
       "        vertical-align: middle;\n",
       "    }\n",
       "\n",
       "    .dataframe tbody tr th {\n",
       "        vertical-align: top;\n",
       "    }\n",
       "\n",
       "    .dataframe thead th {\n",
       "        text-align: right;\n",
       "    }\n",
       "</style>\n",
       "<table border=\"1\" class=\"dataframe\">\n",
       "  <thead>\n",
       "    <tr style=\"text-align: right;\">\n",
       "      <th></th>\n",
       "      <th>numeros 1</th>\n",
       "      <th>numeros 2</th>\n",
       "      <th>coluna_combinada</th>\n",
       "    </tr>\n",
       "    <tr>\n",
       "      <th>letras</th>\n",
       "      <th></th>\n",
       "      <th></th>\n",
       "      <th></th>\n",
       "    </tr>\n",
       "  </thead>\n",
       "  <tbody>\n",
       "    <tr>\n",
       "      <td>a</td>\n",
       "      <td>5</td>\n",
       "      <td>10</td>\n",
       "      <td>4.29</td>\n",
       "    </tr>\n",
       "    <tr>\n",
       "      <td>d</td>\n",
       "      <td>8</td>\n",
       "      <td>13</td>\n",
       "      <td>6.48</td>\n",
       "    </tr>\n",
       "  </tbody>\n",
       "</table>\n",
       "</div>"
      ],
      "text/plain": [
       "        numeros 1  numeros 2  coluna_combinada\n",
       "letras                                        \n",
       "a               5         10              4.29\n",
       "d               8         13              6.48"
      ]
     },
     "execution_count": 214,
     "metadata": {},
     "output_type": "execute_result"
    }
   ],
   "source": [
    "primeiro_df.loc[['a', 'd']]"
   ]
  },
  {
   "cell_type": "markdown",
   "metadata": {},
   "source": [
    "E se quisermos os valores das linhas de apenas certas colunas, basta informarmos essas em uma lista, após a lista dos índices:"
   ]
  },
  {
   "cell_type": "code",
   "execution_count": 215,
   "metadata": {},
   "outputs": [
    {
     "data": {
      "text/html": [
       "<div>\n",
       "<style scoped>\n",
       "    .dataframe tbody tr th:only-of-type {\n",
       "        vertical-align: middle;\n",
       "    }\n",
       "\n",
       "    .dataframe tbody tr th {\n",
       "        vertical-align: top;\n",
       "    }\n",
       "\n",
       "    .dataframe thead th {\n",
       "        text-align: right;\n",
       "    }\n",
       "</style>\n",
       "<table border=\"1\" class=\"dataframe\">\n",
       "  <thead>\n",
       "    <tr style=\"text-align: right;\">\n",
       "      <th></th>\n",
       "      <th>coluna_combinada</th>\n",
       "      <th>numeros 2</th>\n",
       "    </tr>\n",
       "    <tr>\n",
       "      <th>letras</th>\n",
       "      <th></th>\n",
       "      <th></th>\n",
       "    </tr>\n",
       "  </thead>\n",
       "  <tbody>\n",
       "    <tr>\n",
       "      <td>a</td>\n",
       "      <td>4.29</td>\n",
       "      <td>10</td>\n",
       "    </tr>\n",
       "    <tr>\n",
       "      <td>d</td>\n",
       "      <td>6.48</td>\n",
       "      <td>13</td>\n",
       "    </tr>\n",
       "  </tbody>\n",
       "</table>\n",
       "</div>"
      ],
      "text/plain": [
       "        coluna_combinada  numeros 2\n",
       "letras                             \n",
       "a                   4.29         10\n",
       "d                   6.48         13"
      ]
     },
     "execution_count": 215,
     "metadata": {},
     "output_type": "execute_result"
    }
   ],
   "source": [
    "primeiro_df.loc[['a', 'd'], ['coluna_combinada', 'numeros 2']]"
   ]
  },
  {
   "cell_type": "markdown",
   "metadata": {},
   "source": [
    "Veja que a ordem das colunas fornecidas permanece no ``DataFrame`` mostrado."
   ]
  },
  {
   "cell_type": "markdown",
   "metadata": {},
   "source": [
    "Podemos obter as dimensões do ``DataFrame``, isto é, o número de linhas e colunas, respectivamente, acessando a propriedade ``shape``:"
   ]
  },
  {
   "cell_type": "code",
   "execution_count": 333,
   "metadata": {},
   "outputs": [
    {
     "data": {
      "text/plain": [
       "(15, 3)"
      ]
     },
     "execution_count": 333,
     "metadata": {},
     "output_type": "execute_result"
    }
   ],
   "source": [
    "primeiro_df.shape"
   ]
  },
  {
   "cell_type": "markdown",
   "metadata": {},
   "source": [
    "O resultado é uma tupla, que nos diz que o ``DataFrame`` possui 15 linhas e 3 colunas."
   ]
  },
  {
   "cell_type": "markdown",
   "metadata": {},
   "source": [
    "Esse tipo de ``objeto`` é muito útil pela sua facilidade de manipulação. Por exemplo, vamos supor que queremos escolher somente as linhas cujos valores maiores que 10 na ``'numeros 1'``. Para isso, criamos uma ``máscara`` usando uma operação de comparação. Para criar essa ``máscara`` usamos o ``DataFrame`` com a coluna desejada e aplicamos uma comparação lógica simples, nesse caso ``> 10``:"
   ]
  },
  {
   "cell_type": "code",
   "execution_count": 216,
   "metadata": {},
   "outputs": [
    {
     "data": {
      "text/plain": [
       "letras\n",
       "a    False\n",
       "b    False\n",
       "c    False\n",
       "d    False\n",
       "e    False\n",
       "f    False\n",
       "g     True\n",
       "h     True\n",
       "i     True\n",
       "j     True\n",
       "k     True\n",
       "l     True\n",
       "m     True\n",
       "n     True\n",
       "o     True\n",
       "Name: numeros 1, dtype: bool"
      ]
     },
     "execution_count": 216,
     "metadata": {},
     "output_type": "execute_result"
    }
   ],
   "source": [
    "mascara_1 = primeiro_df['numeros 1'] > 10\n",
    "mascara_1"
   ]
  },
  {
   "cell_type": "markdown",
   "metadata": {},
   "source": [
    "Veja que o resultado retornado é uma ``Series`` de valores ``bool``, isto é, ``True`` e ``False``. Observe que os valores ``True`` aparecem nas linhas onde a condição foi satisfeita, isto é, onde os valore eram maiores do que 10. Com a ``máscara`` criada, podemos agora filtrar o ``DataFrame`` com a comparação lógica especificada. Para isso, usamos mais uma vez o colchetes ``[]`` na frente do ``DataFrame`` e passamos a ``mascara``:"
   ]
  },
  {
   "cell_type": "code",
   "execution_count": 217,
   "metadata": {},
   "outputs": [
    {
     "data": {
      "text/html": [
       "<div>\n",
       "<style scoped>\n",
       "    .dataframe tbody tr th:only-of-type {\n",
       "        vertical-align: middle;\n",
       "    }\n",
       "\n",
       "    .dataframe tbody tr th {\n",
       "        vertical-align: top;\n",
       "    }\n",
       "\n",
       "    .dataframe thead th {\n",
       "        text-align: right;\n",
       "    }\n",
       "</style>\n",
       "<table border=\"1\" class=\"dataframe\">\n",
       "  <thead>\n",
       "    <tr style=\"text-align: right;\">\n",
       "      <th></th>\n",
       "      <th>numeros 1</th>\n",
       "      <th>numeros 2</th>\n",
       "      <th>coluna_combinada</th>\n",
       "    </tr>\n",
       "    <tr>\n",
       "      <th>letras</th>\n",
       "      <th></th>\n",
       "      <th></th>\n",
       "      <th></th>\n",
       "    </tr>\n",
       "  </thead>\n",
       "  <tbody>\n",
       "    <tr>\n",
       "      <td>g</td>\n",
       "      <td>11</td>\n",
       "      <td>16</td>\n",
       "      <td>8.67</td>\n",
       "    </tr>\n",
       "    <tr>\n",
       "      <td>h</td>\n",
       "      <td>12</td>\n",
       "      <td>17</td>\n",
       "      <td>9.40</td>\n",
       "    </tr>\n",
       "    <tr>\n",
       "      <td>i</td>\n",
       "      <td>13</td>\n",
       "      <td>18</td>\n",
       "      <td>10.13</td>\n",
       "    </tr>\n",
       "    <tr>\n",
       "      <td>j</td>\n",
       "      <td>14</td>\n",
       "      <td>19</td>\n",
       "      <td>10.86</td>\n",
       "    </tr>\n",
       "    <tr>\n",
       "      <td>k</td>\n",
       "      <td>15</td>\n",
       "      <td>20</td>\n",
       "      <td>11.59</td>\n",
       "    </tr>\n",
       "    <tr>\n",
       "      <td>l</td>\n",
       "      <td>16</td>\n",
       "      <td>21</td>\n",
       "      <td>12.32</td>\n",
       "    </tr>\n",
       "    <tr>\n",
       "      <td>m</td>\n",
       "      <td>17</td>\n",
       "      <td>22</td>\n",
       "      <td>13.05</td>\n",
       "    </tr>\n",
       "    <tr>\n",
       "      <td>n</td>\n",
       "      <td>18</td>\n",
       "      <td>23</td>\n",
       "      <td>13.78</td>\n",
       "    </tr>\n",
       "    <tr>\n",
       "      <td>o</td>\n",
       "      <td>19</td>\n",
       "      <td>24</td>\n",
       "      <td>14.51</td>\n",
       "    </tr>\n",
       "  </tbody>\n",
       "</table>\n",
       "</div>"
      ],
      "text/plain": [
       "        numeros 1  numeros 2  coluna_combinada\n",
       "letras                                        \n",
       "g              11         16              8.67\n",
       "h              12         17              9.40\n",
       "i              13         18             10.13\n",
       "j              14         19             10.86\n",
       "k              15         20             11.59\n",
       "l              16         21             12.32\n",
       "m              17         22             13.05\n",
       "n              18         23             13.78\n",
       "o              19         24             14.51"
      ]
     },
     "execution_count": 217,
     "metadata": {},
     "output_type": "execute_result"
    }
   ],
   "source": [
    "primeiro_df[mascara_1]"
   ]
  },
  {
   "cell_type": "markdown",
   "metadata": {},
   "source": [
    "Veja que a condição filtra todo o ``DataFrame``. Observe que isso não muda a estrutura orignial do ``DataFrame``:"
   ]
  },
  {
   "cell_type": "code",
   "execution_count": 218,
   "metadata": {},
   "outputs": [
    {
     "data": {
      "text/html": [
       "<div>\n",
       "<style scoped>\n",
       "    .dataframe tbody tr th:only-of-type {\n",
       "        vertical-align: middle;\n",
       "    }\n",
       "\n",
       "    .dataframe tbody tr th {\n",
       "        vertical-align: top;\n",
       "    }\n",
       "\n",
       "    .dataframe thead th {\n",
       "        text-align: right;\n",
       "    }\n",
       "</style>\n",
       "<table border=\"1\" class=\"dataframe\">\n",
       "  <thead>\n",
       "    <tr style=\"text-align: right;\">\n",
       "      <th></th>\n",
       "      <th>numeros 1</th>\n",
       "      <th>numeros 2</th>\n",
       "      <th>coluna_combinada</th>\n",
       "    </tr>\n",
       "    <tr>\n",
       "      <th>letras</th>\n",
       "      <th></th>\n",
       "      <th></th>\n",
       "      <th></th>\n",
       "    </tr>\n",
       "  </thead>\n",
       "  <tbody>\n",
       "    <tr>\n",
       "      <td>a</td>\n",
       "      <td>5</td>\n",
       "      <td>10</td>\n",
       "      <td>4.29</td>\n",
       "    </tr>\n",
       "    <tr>\n",
       "      <td>b</td>\n",
       "      <td>6</td>\n",
       "      <td>11</td>\n",
       "      <td>5.02</td>\n",
       "    </tr>\n",
       "    <tr>\n",
       "      <td>c</td>\n",
       "      <td>7</td>\n",
       "      <td>12</td>\n",
       "      <td>5.75</td>\n",
       "    </tr>\n",
       "    <tr>\n",
       "      <td>d</td>\n",
       "      <td>8</td>\n",
       "      <td>13</td>\n",
       "      <td>6.48</td>\n",
       "    </tr>\n",
       "    <tr>\n",
       "      <td>e</td>\n",
       "      <td>9</td>\n",
       "      <td>14</td>\n",
       "      <td>7.21</td>\n",
       "    </tr>\n",
       "    <tr>\n",
       "      <td>f</td>\n",
       "      <td>10</td>\n",
       "      <td>15</td>\n",
       "      <td>7.94</td>\n",
       "    </tr>\n",
       "    <tr>\n",
       "      <td>g</td>\n",
       "      <td>11</td>\n",
       "      <td>16</td>\n",
       "      <td>8.67</td>\n",
       "    </tr>\n",
       "    <tr>\n",
       "      <td>h</td>\n",
       "      <td>12</td>\n",
       "      <td>17</td>\n",
       "      <td>9.40</td>\n",
       "    </tr>\n",
       "    <tr>\n",
       "      <td>i</td>\n",
       "      <td>13</td>\n",
       "      <td>18</td>\n",
       "      <td>10.13</td>\n",
       "    </tr>\n",
       "    <tr>\n",
       "      <td>j</td>\n",
       "      <td>14</td>\n",
       "      <td>19</td>\n",
       "      <td>10.86</td>\n",
       "    </tr>\n",
       "    <tr>\n",
       "      <td>k</td>\n",
       "      <td>15</td>\n",
       "      <td>20</td>\n",
       "      <td>11.59</td>\n",
       "    </tr>\n",
       "    <tr>\n",
       "      <td>l</td>\n",
       "      <td>16</td>\n",
       "      <td>21</td>\n",
       "      <td>12.32</td>\n",
       "    </tr>\n",
       "    <tr>\n",
       "      <td>m</td>\n",
       "      <td>17</td>\n",
       "      <td>22</td>\n",
       "      <td>13.05</td>\n",
       "    </tr>\n",
       "    <tr>\n",
       "      <td>n</td>\n",
       "      <td>18</td>\n",
       "      <td>23</td>\n",
       "      <td>13.78</td>\n",
       "    </tr>\n",
       "    <tr>\n",
       "      <td>o</td>\n",
       "      <td>19</td>\n",
       "      <td>24</td>\n",
       "      <td>14.51</td>\n",
       "    </tr>\n",
       "  </tbody>\n",
       "</table>\n",
       "</div>"
      ],
      "text/plain": [
       "        numeros 1  numeros 2  coluna_combinada\n",
       "letras                                        \n",
       "a               5         10              4.29\n",
       "b               6         11              5.02\n",
       "c               7         12              5.75\n",
       "d               8         13              6.48\n",
       "e               9         14              7.21\n",
       "f              10         15              7.94\n",
       "g              11         16              8.67\n",
       "h              12         17              9.40\n",
       "i              13         18             10.13\n",
       "j              14         19             10.86\n",
       "k              15         20             11.59\n",
       "l              16         21             12.32\n",
       "m              17         22             13.05\n",
       "n              18         23             13.78\n",
       "o              19         24             14.51"
      ]
     },
     "execution_count": 218,
     "metadata": {},
     "output_type": "execute_result"
    }
   ],
   "source": [
    "primeiro_df"
   ]
  },
  {
   "cell_type": "markdown",
   "metadata": {},
   "source": [
    "É possível acoplarmos condições usando mais de uma máscara. Vamos supor que agora queremos selecionar somente os valores menores que 15 na ``'coluna 2'``. Podemos criar uma segunda máscara:"
   ]
  },
  {
   "cell_type": "code",
   "execution_count": 219,
   "metadata": {},
   "outputs": [
    {
     "data": {
      "text/plain": [
       "letras\n",
       "a     True\n",
       "b     True\n",
       "c     True\n",
       "d     True\n",
       "e     True\n",
       "f     True\n",
       "g     True\n",
       "h     True\n",
       "i     True\n",
       "j     True\n",
       "k    False\n",
       "l    False\n",
       "m    False\n",
       "n    False\n",
       "o    False\n",
       "Name: numeros 2, dtype: bool"
      ]
     },
     "execution_count": 219,
     "metadata": {},
     "output_type": "execute_result"
    }
   ],
   "source": [
    "mascara_2 = primeiro_df['numeros 2'] < 20 \n",
    "mascara_2"
   ]
  },
  {
   "cell_type": "markdown",
   "metadata": {},
   "source": [
    "Agora, passamos as duas máscaras para o ``DataFrame``. Para respeitar as duas condições, usamos o operador lógico ``&``, de maneira que os valores ``bool`` da ``mascara_1`` e da ``mascara_2`` sejam combinados:"
   ]
  },
  {
   "cell_type": "code",
   "execution_count": 220,
   "metadata": {},
   "outputs": [
    {
     "data": {
      "text/html": [
       "<div>\n",
       "<style scoped>\n",
       "    .dataframe tbody tr th:only-of-type {\n",
       "        vertical-align: middle;\n",
       "    }\n",
       "\n",
       "    .dataframe tbody tr th {\n",
       "        vertical-align: top;\n",
       "    }\n",
       "\n",
       "    .dataframe thead th {\n",
       "        text-align: right;\n",
       "    }\n",
       "</style>\n",
       "<table border=\"1\" class=\"dataframe\">\n",
       "  <thead>\n",
       "    <tr style=\"text-align: right;\">\n",
       "      <th></th>\n",
       "      <th>numeros 1</th>\n",
       "      <th>numeros 2</th>\n",
       "      <th>coluna_combinada</th>\n",
       "    </tr>\n",
       "    <tr>\n",
       "      <th>letras</th>\n",
       "      <th></th>\n",
       "      <th></th>\n",
       "      <th></th>\n",
       "    </tr>\n",
       "  </thead>\n",
       "  <tbody>\n",
       "    <tr>\n",
       "      <td>g</td>\n",
       "      <td>11</td>\n",
       "      <td>16</td>\n",
       "      <td>8.67</td>\n",
       "    </tr>\n",
       "    <tr>\n",
       "      <td>h</td>\n",
       "      <td>12</td>\n",
       "      <td>17</td>\n",
       "      <td>9.40</td>\n",
       "    </tr>\n",
       "    <tr>\n",
       "      <td>i</td>\n",
       "      <td>13</td>\n",
       "      <td>18</td>\n",
       "      <td>10.13</td>\n",
       "    </tr>\n",
       "    <tr>\n",
       "      <td>j</td>\n",
       "      <td>14</td>\n",
       "      <td>19</td>\n",
       "      <td>10.86</td>\n",
       "    </tr>\n",
       "  </tbody>\n",
       "</table>\n",
       "</div>"
      ],
      "text/plain": [
       "        numeros 1  numeros 2  coluna_combinada\n",
       "letras                                        \n",
       "g              11         16              8.67\n",
       "h              12         17              9.40\n",
       "i              13         18             10.13\n",
       "j              14         19             10.86"
      ]
     },
     "execution_count": 220,
     "metadata": {},
     "output_type": "execute_result"
    }
   ],
   "source": [
    "primeiro_df[mascara_1 & mascara_2]"
   ]
  },
  {
   "cell_type": "markdown",
   "metadata": {},
   "source": [
    "Se mudarmos de ideia, ou uma coluna não for mais necessária, podemos deletá-la usando o comando ``del``:"
   ]
  },
  {
   "cell_type": "code",
   "execution_count": 221,
   "metadata": {},
   "outputs": [],
   "source": [
    "del primeiro_df['numeros 2']"
   ]
  },
  {
   "cell_type": "code",
   "execution_count": 222,
   "metadata": {},
   "outputs": [
    {
     "data": {
      "text/html": [
       "<div>\n",
       "<style scoped>\n",
       "    .dataframe tbody tr th:only-of-type {\n",
       "        vertical-align: middle;\n",
       "    }\n",
       "\n",
       "    .dataframe tbody tr th {\n",
       "        vertical-align: top;\n",
       "    }\n",
       "\n",
       "    .dataframe thead th {\n",
       "        text-align: right;\n",
       "    }\n",
       "</style>\n",
       "<table border=\"1\" class=\"dataframe\">\n",
       "  <thead>\n",
       "    <tr style=\"text-align: right;\">\n",
       "      <th></th>\n",
       "      <th>numeros 1</th>\n",
       "      <th>coluna_combinada</th>\n",
       "    </tr>\n",
       "    <tr>\n",
       "      <th>letras</th>\n",
       "      <th></th>\n",
       "      <th></th>\n",
       "    </tr>\n",
       "  </thead>\n",
       "  <tbody>\n",
       "    <tr>\n",
       "      <td>a</td>\n",
       "      <td>5</td>\n",
       "      <td>4.29</td>\n",
       "    </tr>\n",
       "    <tr>\n",
       "      <td>b</td>\n",
       "      <td>6</td>\n",
       "      <td>5.02</td>\n",
       "    </tr>\n",
       "    <tr>\n",
       "      <td>c</td>\n",
       "      <td>7</td>\n",
       "      <td>5.75</td>\n",
       "    </tr>\n",
       "    <tr>\n",
       "      <td>d</td>\n",
       "      <td>8</td>\n",
       "      <td>6.48</td>\n",
       "    </tr>\n",
       "    <tr>\n",
       "      <td>e</td>\n",
       "      <td>9</td>\n",
       "      <td>7.21</td>\n",
       "    </tr>\n",
       "    <tr>\n",
       "      <td>f</td>\n",
       "      <td>10</td>\n",
       "      <td>7.94</td>\n",
       "    </tr>\n",
       "    <tr>\n",
       "      <td>g</td>\n",
       "      <td>11</td>\n",
       "      <td>8.67</td>\n",
       "    </tr>\n",
       "    <tr>\n",
       "      <td>h</td>\n",
       "      <td>12</td>\n",
       "      <td>9.40</td>\n",
       "    </tr>\n",
       "    <tr>\n",
       "      <td>i</td>\n",
       "      <td>13</td>\n",
       "      <td>10.13</td>\n",
       "    </tr>\n",
       "    <tr>\n",
       "      <td>j</td>\n",
       "      <td>14</td>\n",
       "      <td>10.86</td>\n",
       "    </tr>\n",
       "    <tr>\n",
       "      <td>k</td>\n",
       "      <td>15</td>\n",
       "      <td>11.59</td>\n",
       "    </tr>\n",
       "    <tr>\n",
       "      <td>l</td>\n",
       "      <td>16</td>\n",
       "      <td>12.32</td>\n",
       "    </tr>\n",
       "    <tr>\n",
       "      <td>m</td>\n",
       "      <td>17</td>\n",
       "      <td>13.05</td>\n",
       "    </tr>\n",
       "    <tr>\n",
       "      <td>n</td>\n",
       "      <td>18</td>\n",
       "      <td>13.78</td>\n",
       "    </tr>\n",
       "    <tr>\n",
       "      <td>o</td>\n",
       "      <td>19</td>\n",
       "      <td>14.51</td>\n",
       "    </tr>\n",
       "  </tbody>\n",
       "</table>\n",
       "</div>"
      ],
      "text/plain": [
       "        numeros 1  coluna_combinada\n",
       "letras                             \n",
       "a               5              4.29\n",
       "b               6              5.02\n",
       "c               7              5.75\n",
       "d               8              6.48\n",
       "e               9              7.21\n",
       "f              10              7.94\n",
       "g              11              8.67\n",
       "h              12              9.40\n",
       "i              13             10.13\n",
       "j              14             10.86\n",
       "k              15             11.59\n",
       "l              16             12.32\n",
       "m              17             13.05\n",
       "n              18             13.78\n",
       "o              19             14.51"
      ]
     },
     "execution_count": 222,
     "metadata": {},
     "output_type": "execute_result"
    }
   ],
   "source": [
    "primeiro_df"
   ]
  },
  {
   "cell_type": "markdown",
   "metadata": {},
   "source": []
  },
  {
   "cell_type": "markdown",
   "metadata": {},
   "source": [
    "Vamos supor que já tenhamos um dicionário pronto, com todos os dados que precisamos. Vamos considerar o dicionário com as [notas da prova 1 da turma 1](#dicionarios), especificando uma chave para os nomes e outra para as notas:"
   ]
  },
  {
   "cell_type": "code",
   "execution_count": 29,
   "metadata": {},
   "outputs": [
    {
     "data": {
      "text/plain": [
       "{'Alunos': ['Joao',\n",
       "  'Maria',\n",
       "  'Heraldo',\n",
       "  'Helena',\n",
       "  'Eduardo',\n",
       "  'Camila',\n",
       "  'Bernardo',\n",
       "  'Lazaro'],\n",
       " 'Prova 1': [7, 8, 9, 10, 5, 5, 4, 8],\n",
       " 'Prova 2': [7, 9, 7, 5, 7, 8, 9, 4]}"
      ]
     },
     "execution_count": 29,
     "metadata": {},
     "output_type": "execute_result"
    }
   ],
   "source": [
    "notas_turma_1_prova_1 = {\n",
    "    'Alunos' : ['Joao', 'Maria', 'Heraldo', 'Helena', 'Eduardo', 'Camila', 'Bernardo', 'Lazaro'],\n",
    "    'Prova 1': [7, 8, 9, 10, 5, 5, 4, 8],\n",
    "    'Prova 2': [7, 9, 7, 5, 7, 8, 9, 4] \n",
    "}\n",
    "\n",
    "notas_turma_1_prova_1"
   ]
  },
  {
   "cell_type": "markdown",
   "metadata": {},
   "source": [
    "Podemos criar um ``DataFrame`` com esses dados simplesmente fornecendo o dicionário como argumento para o ``objeto`` ``DataFrame()``:"
   ]
  },
  {
   "cell_type": "code",
   "execution_count": 37,
   "metadata": {},
   "outputs": [
    {
     "data": {
      "text/html": [
       "<div>\n",
       "<style scoped>\n",
       "    .dataframe tbody tr th:only-of-type {\n",
       "        vertical-align: middle;\n",
       "    }\n",
       "\n",
       "    .dataframe tbody tr th {\n",
       "        vertical-align: top;\n",
       "    }\n",
       "\n",
       "    .dataframe thead th {\n",
       "        text-align: right;\n",
       "    }\n",
       "</style>\n",
       "<table border=\"1\" class=\"dataframe\">\n",
       "  <thead>\n",
       "    <tr style=\"text-align: right;\">\n",
       "      <th></th>\n",
       "      <th>Alunos</th>\n",
       "      <th>Prova 1</th>\n",
       "      <th>Prova 2</th>\n",
       "    </tr>\n",
       "  </thead>\n",
       "  <tbody>\n",
       "    <tr>\n",
       "      <td>0</td>\n",
       "      <td>Joao</td>\n",
       "      <td>7</td>\n",
       "      <td>7</td>\n",
       "    </tr>\n",
       "    <tr>\n",
       "      <td>1</td>\n",
       "      <td>Maria</td>\n",
       "      <td>8</td>\n",
       "      <td>9</td>\n",
       "    </tr>\n",
       "    <tr>\n",
       "      <td>2</td>\n",
       "      <td>Heraldo</td>\n",
       "      <td>9</td>\n",
       "      <td>7</td>\n",
       "    </tr>\n",
       "    <tr>\n",
       "      <td>3</td>\n",
       "      <td>Helena</td>\n",
       "      <td>10</td>\n",
       "      <td>5</td>\n",
       "    </tr>\n",
       "    <tr>\n",
       "      <td>4</td>\n",
       "      <td>Eduardo</td>\n",
       "      <td>5</td>\n",
       "      <td>7</td>\n",
       "    </tr>\n",
       "    <tr>\n",
       "      <td>5</td>\n",
       "      <td>Camila</td>\n",
       "      <td>5</td>\n",
       "      <td>8</td>\n",
       "    </tr>\n",
       "    <tr>\n",
       "      <td>6</td>\n",
       "      <td>Bernardo</td>\n",
       "      <td>4</td>\n",
       "      <td>9</td>\n",
       "    </tr>\n",
       "    <tr>\n",
       "      <td>7</td>\n",
       "      <td>Lazaro</td>\n",
       "      <td>8</td>\n",
       "      <td>4</td>\n",
       "    </tr>\n",
       "  </tbody>\n",
       "</table>\n",
       "</div>"
      ],
      "text/plain": [
       "     Alunos  Prova 1  Prova 2\n",
       "0      Joao        7        7\n",
       "1     Maria        8        9\n",
       "2   Heraldo        9        7\n",
       "3    Helena       10        5\n",
       "4   Eduardo        5        7\n",
       "5    Camila        5        8\n",
       "6  Bernardo        4        9\n",
       "7    Lazaro        8        4"
      ]
     },
     "execution_count": 37,
     "metadata": {},
     "output_type": "execute_result"
    }
   ],
   "source": [
    "notas_turma_1_prova_1_df = pd.DataFrame(notas_turma_1_prova_1)\n",
    "notas_turma_1_prova_1_df"
   ]
  },
  {
   "cell_type": "markdown",
   "metadata": {},
   "source": [
    "Para facilitar, podemos usar o nome dos alunos como índice:"
   ]
  },
  {
   "cell_type": "code",
   "execution_count": 38,
   "metadata": {},
   "outputs": [
    {
     "data": {
      "text/html": [
       "<div>\n",
       "<style scoped>\n",
       "    .dataframe tbody tr th:only-of-type {\n",
       "        vertical-align: middle;\n",
       "    }\n",
       "\n",
       "    .dataframe tbody tr th {\n",
       "        vertical-align: top;\n",
       "    }\n",
       "\n",
       "    .dataframe thead th {\n",
       "        text-align: right;\n",
       "    }\n",
       "</style>\n",
       "<table border=\"1\" class=\"dataframe\">\n",
       "  <thead>\n",
       "    <tr style=\"text-align: right;\">\n",
       "      <th></th>\n",
       "      <th>Prova 1</th>\n",
       "      <th>Prova 2</th>\n",
       "    </tr>\n",
       "    <tr>\n",
       "      <th>Alunos</th>\n",
       "      <th></th>\n",
       "      <th></th>\n",
       "    </tr>\n",
       "  </thead>\n",
       "  <tbody>\n",
       "    <tr>\n",
       "      <td>Joao</td>\n",
       "      <td>7</td>\n",
       "      <td>7</td>\n",
       "    </tr>\n",
       "    <tr>\n",
       "      <td>Maria</td>\n",
       "      <td>8</td>\n",
       "      <td>9</td>\n",
       "    </tr>\n",
       "    <tr>\n",
       "      <td>Heraldo</td>\n",
       "      <td>9</td>\n",
       "      <td>7</td>\n",
       "    </tr>\n",
       "    <tr>\n",
       "      <td>Helena</td>\n",
       "      <td>10</td>\n",
       "      <td>5</td>\n",
       "    </tr>\n",
       "    <tr>\n",
       "      <td>Eduardo</td>\n",
       "      <td>5</td>\n",
       "      <td>7</td>\n",
       "    </tr>\n",
       "    <tr>\n",
       "      <td>Camila</td>\n",
       "      <td>5</td>\n",
       "      <td>8</td>\n",
       "    </tr>\n",
       "    <tr>\n",
       "      <td>Bernardo</td>\n",
       "      <td>4</td>\n",
       "      <td>9</td>\n",
       "    </tr>\n",
       "    <tr>\n",
       "      <td>Lazaro</td>\n",
       "      <td>8</td>\n",
       "      <td>4</td>\n",
       "    </tr>\n",
       "  </tbody>\n",
       "</table>\n",
       "</div>"
      ],
      "text/plain": [
       "          Prova 1  Prova 2\n",
       "Alunos                    \n",
       "Joao            7        7\n",
       "Maria           8        9\n",
       "Heraldo         9        7\n",
       "Helena         10        5\n",
       "Eduardo         5        7\n",
       "Camila          5        8\n",
       "Bernardo        4        9\n",
       "Lazaro          8        4"
      ]
     },
     "execution_count": 38,
     "metadata": {},
     "output_type": "execute_result"
    }
   ],
   "source": [
    "notas_turma_1_prova_1_df.set_index('Alunos', inplace=True)\n",
    "notas_turma_1_prova_1_df"
   ]
  },
  {
   "cell_type": "markdown",
   "metadata": {},
   "source": [
    "Podemos então calcular a média das notas de maneira muito fácil usando o método ``mean()``. Podemos obter a média de notas de cada prova, calculando ela baseado nos valores de cada coluna (``axis=0``):"
   ]
  },
  {
   "cell_type": "code",
   "execution_count": 39,
   "metadata": {},
   "outputs": [
    {
     "data": {
      "text/plain": [
       "Prova 1    7.0\n",
       "Prova 2    7.0\n",
       "dtype: float64"
      ]
     },
     "execution_count": 39,
     "metadata": {},
     "output_type": "execute_result"
    }
   ],
   "source": [
    "notas_turma_1_prova_1_df.mean()"
   ]
  },
  {
   "cell_type": "markdown",
   "metadata": {},
   "source": [
    "Ou a média de cada aluno, isto é, usando os valores das linhas, para saber se foram aprovados ou não:"
   ]
  },
  {
   "cell_type": "code",
   "execution_count": 40,
   "metadata": {},
   "outputs": [
    {
     "data": {
      "text/plain": [
       "Alunos\n",
       "Joao        7.0\n",
       "Maria       8.5\n",
       "Heraldo     8.0\n",
       "Helena      7.5\n",
       "Eduardo     6.0\n",
       "Camila      6.5\n",
       "Bernardo    6.5\n",
       "Lazaro      6.0\n",
       "dtype: float64"
      ]
     },
     "execution_count": 40,
     "metadata": {},
     "output_type": "execute_result"
    }
   ],
   "source": [
    "notas_turma_1_prova_1_df.mean(axis=1)"
   ]
  },
  {
   "cell_type": "markdown",
   "metadata": {},
   "source": [
    "Para ficar mais organizado, podemos criar uma coluna chamada ``Media``:"
   ]
  },
  {
   "cell_type": "code",
   "execution_count": 41,
   "metadata": {},
   "outputs": [
    {
     "data": {
      "text/html": [
       "<div>\n",
       "<style scoped>\n",
       "    .dataframe tbody tr th:only-of-type {\n",
       "        vertical-align: middle;\n",
       "    }\n",
       "\n",
       "    .dataframe tbody tr th {\n",
       "        vertical-align: top;\n",
       "    }\n",
       "\n",
       "    .dataframe thead th {\n",
       "        text-align: right;\n",
       "    }\n",
       "</style>\n",
       "<table border=\"1\" class=\"dataframe\">\n",
       "  <thead>\n",
       "    <tr style=\"text-align: right;\">\n",
       "      <th></th>\n",
       "      <th>Prova 1</th>\n",
       "      <th>Prova 2</th>\n",
       "      <th>Media</th>\n",
       "    </tr>\n",
       "    <tr>\n",
       "      <th>Alunos</th>\n",
       "      <th></th>\n",
       "      <th></th>\n",
       "      <th></th>\n",
       "    </tr>\n",
       "  </thead>\n",
       "  <tbody>\n",
       "    <tr>\n",
       "      <td>Joao</td>\n",
       "      <td>7</td>\n",
       "      <td>7</td>\n",
       "      <td>7.0</td>\n",
       "    </tr>\n",
       "    <tr>\n",
       "      <td>Maria</td>\n",
       "      <td>8</td>\n",
       "      <td>9</td>\n",
       "      <td>8.5</td>\n",
       "    </tr>\n",
       "    <tr>\n",
       "      <td>Heraldo</td>\n",
       "      <td>9</td>\n",
       "      <td>7</td>\n",
       "      <td>8.0</td>\n",
       "    </tr>\n",
       "    <tr>\n",
       "      <td>Helena</td>\n",
       "      <td>10</td>\n",
       "      <td>5</td>\n",
       "      <td>7.5</td>\n",
       "    </tr>\n",
       "    <tr>\n",
       "      <td>Eduardo</td>\n",
       "      <td>5</td>\n",
       "      <td>7</td>\n",
       "      <td>6.0</td>\n",
       "    </tr>\n",
       "    <tr>\n",
       "      <td>Camila</td>\n",
       "      <td>5</td>\n",
       "      <td>8</td>\n",
       "      <td>6.5</td>\n",
       "    </tr>\n",
       "    <tr>\n",
       "      <td>Bernardo</td>\n",
       "      <td>4</td>\n",
       "      <td>9</td>\n",
       "      <td>6.5</td>\n",
       "    </tr>\n",
       "    <tr>\n",
       "      <td>Lazaro</td>\n",
       "      <td>8</td>\n",
       "      <td>4</td>\n",
       "      <td>6.0</td>\n",
       "    </tr>\n",
       "  </tbody>\n",
       "</table>\n",
       "</div>"
      ],
      "text/plain": [
       "          Prova 1  Prova 2  Media\n",
       "Alunos                           \n",
       "Joao            7        7    7.0\n",
       "Maria           8        9    8.5\n",
       "Heraldo         9        7    8.0\n",
       "Helena         10        5    7.5\n",
       "Eduardo         5        7    6.0\n",
       "Camila          5        8    6.5\n",
       "Bernardo        4        9    6.5\n",
       "Lazaro          8        4    6.0"
      ]
     },
     "execution_count": 41,
     "metadata": {},
     "output_type": "execute_result"
    }
   ],
   "source": [
    "notas_turma_1_prova_1_df['Media'] = notas_turma_1_prova_1_df.mean(axis=1)\n",
    "notas_turma_1_prova_1_df"
   ]
  },
  {
   "cell_type": "markdown",
   "metadata": {},
   "source": [
    "Se quisermos ser mais meticulosos, podemos criar uma outra coluna que diz ``'Aprovado'`` ou ``'Exame'``. Para realizar esse exemplo, vamos supor que a média a ser atingida para se livrar do Professor é 7. Para isso, primeiramente lembramos que, quando selecionamos uma das colunas do ``DataFrame`` para visualizar seus valores, temos uma ``Series``, que é um objeto iterável, como uma lista. Assim, podemos iterar sobre seus valores usando um loop for:"
   ]
  },
  {
   "cell_type": "code",
   "execution_count": 42,
   "metadata": {},
   "outputs": [
    {
     "data": {
      "text/plain": [
       "[7.0, 8.5, 8.0, 7.5, 6.0, 6.5, 6.5, 6.0]"
      ]
     },
     "execution_count": 42,
     "metadata": {},
     "output_type": "execute_result"
    }
   ],
   "source": [
    "[media for media in notas_turma_1_prova_1_df['Media']]"
   ]
  },
  {
   "cell_type": "markdown",
   "metadata": {},
   "source": [
    "Podemos então criar a condição de que se (``if``) o aluno tem ``Media >= 7``, ele é ``'Aprovado'``, caso contrário (``else``) ele está de exame. [Podemos fazer isso em uma lista de compreensão da seguinte forma](#if_for_comprehension):"
   ]
  },
  {
   "cell_type": "code",
   "execution_count": 44,
   "metadata": {},
   "outputs": [
    {
     "data": {
      "text/plain": [
       "['Aprovado',\n",
       " 'Aprovado',\n",
       " 'Aprovado',\n",
       " 'Aprovado',\n",
       " 'Exame',\n",
       " 'Exame',\n",
       " 'Exame',\n",
       " 'Exame']"
      ]
     },
     "execution_count": 44,
     "metadata": {},
     "output_type": "execute_result"
    }
   ],
   "source": [
    "['Aprovado' if media >= 7 else 'Exame' for media in notas_turma_1_prova_1_df['Media']]"
   ]
  },
  {
   "cell_type": "markdown",
   "metadata": {},
   "source": [
    "Podes também usar uma função do ``módulo`` ``numpy``, chamada ``where()``. Essa função recebe três argumentos: uma lista com valores ``bool`` (``True`` ou ``False``) e dois valore para substituir as entradas avaliadas como ``True`` e ``False``, respectivamente. O código abaixo exemplifica baseado no nosso caso de notas:"
   ]
  },
  {
   "cell_type": "code",
   "execution_count": 47,
   "metadata": {},
   "outputs": [
    {
     "data": {
      "text/plain": [
       "array(['Aprovado', 'Aprovado', 'Aprovado', 'Aprovado', 'Exame', 'Exame',\n",
       "       'Exame', 'Exame'], dtype='<U8')"
      ]
     },
     "execution_count": 47,
     "metadata": {},
     "output_type": "execute_result"
    }
   ],
   "source": [
    "np.where(notas_turma_1_prova_1_df['Media'] >= 7, 'Aprovado', 'Exame')"
   ]
  },
  {
   "cell_type": "markdown",
   "metadata": {},
   "source": [
    "Veja que o resultado é o mesmo que o usando lista de compreensão. Usando qualquer um desses procedimentos, podemos então criar uma nova coluna para descrever a situação do aluno:"
   ]
  },
  {
   "cell_type": "code",
   "execution_count": 48,
   "metadata": {},
   "outputs": [
    {
     "data": {
      "text/html": [
       "<div>\n",
       "<style scoped>\n",
       "    .dataframe tbody tr th:only-of-type {\n",
       "        vertical-align: middle;\n",
       "    }\n",
       "\n",
       "    .dataframe tbody tr th {\n",
       "        vertical-align: top;\n",
       "    }\n",
       "\n",
       "    .dataframe thead th {\n",
       "        text-align: right;\n",
       "    }\n",
       "</style>\n",
       "<table border=\"1\" class=\"dataframe\">\n",
       "  <thead>\n",
       "    <tr style=\"text-align: right;\">\n",
       "      <th></th>\n",
       "      <th>Prova 1</th>\n",
       "      <th>Prova 2</th>\n",
       "      <th>Media</th>\n",
       "      <th>Situacao</th>\n",
       "    </tr>\n",
       "    <tr>\n",
       "      <th>Alunos</th>\n",
       "      <th></th>\n",
       "      <th></th>\n",
       "      <th></th>\n",
       "      <th></th>\n",
       "    </tr>\n",
       "  </thead>\n",
       "  <tbody>\n",
       "    <tr>\n",
       "      <td>Joao</td>\n",
       "      <td>7</td>\n",
       "      <td>7</td>\n",
       "      <td>7.0</td>\n",
       "      <td>Aprovado</td>\n",
       "    </tr>\n",
       "    <tr>\n",
       "      <td>Maria</td>\n",
       "      <td>8</td>\n",
       "      <td>9</td>\n",
       "      <td>8.5</td>\n",
       "      <td>Aprovado</td>\n",
       "    </tr>\n",
       "    <tr>\n",
       "      <td>Heraldo</td>\n",
       "      <td>9</td>\n",
       "      <td>7</td>\n",
       "      <td>8.0</td>\n",
       "      <td>Aprovado</td>\n",
       "    </tr>\n",
       "    <tr>\n",
       "      <td>Helena</td>\n",
       "      <td>10</td>\n",
       "      <td>5</td>\n",
       "      <td>7.5</td>\n",
       "      <td>Aprovado</td>\n",
       "    </tr>\n",
       "    <tr>\n",
       "      <td>Eduardo</td>\n",
       "      <td>5</td>\n",
       "      <td>7</td>\n",
       "      <td>6.0</td>\n",
       "      <td>Exame</td>\n",
       "    </tr>\n",
       "    <tr>\n",
       "      <td>Camila</td>\n",
       "      <td>5</td>\n",
       "      <td>8</td>\n",
       "      <td>6.5</td>\n",
       "      <td>Exame</td>\n",
       "    </tr>\n",
       "    <tr>\n",
       "      <td>Bernardo</td>\n",
       "      <td>4</td>\n",
       "      <td>9</td>\n",
       "      <td>6.5</td>\n",
       "      <td>Exame</td>\n",
       "    </tr>\n",
       "    <tr>\n",
       "      <td>Lazaro</td>\n",
       "      <td>8</td>\n",
       "      <td>4</td>\n",
       "      <td>6.0</td>\n",
       "      <td>Exame</td>\n",
       "    </tr>\n",
       "  </tbody>\n",
       "</table>\n",
       "</div>"
      ],
      "text/plain": [
       "          Prova 1  Prova 2  Media  Situacao\n",
       "Alunos                                     \n",
       "Joao            7        7    7.0  Aprovado\n",
       "Maria           8        9    8.5  Aprovado\n",
       "Heraldo         9        7    8.0  Aprovado\n",
       "Helena         10        5    7.5  Aprovado\n",
       "Eduardo         5        7    6.0     Exame\n",
       "Camila          5        8    6.5     Exame\n",
       "Bernardo        4        9    6.5     Exame\n",
       "Lazaro          8        4    6.0     Exame"
      ]
     },
     "execution_count": 48,
     "metadata": {},
     "output_type": "execute_result"
    }
   ],
   "source": [
    "notas_turma_1_prova_1_df['Situacao'] = np.where(notas_turma_1_prova_1_df['Media'] >= 7, 'Aprovado', 'Exame')\n",
    "notas_turma_1_prova_1_df"
   ]
  },
  {
   "cell_type": "markdown",
   "metadata": {},
   "source": [
    "É importante uma vez que estamos trabalhando com várias colunas, saber que tipo de ``objeto`` elas possuem. Para isso, usamos a propriedade ``dtypes``:"
   ]
  },
  {
   "cell_type": "code",
   "execution_count": 147,
   "metadata": {},
   "outputs": [
    {
     "data": {
      "text/plain": [
       "Prova 1       int64\n",
       "Prova 2       int64\n",
       "Media       float64\n",
       "Situacao     object\n",
       "dtype: object"
      ]
     },
     "execution_count": 147,
     "metadata": {},
     "output_type": "execute_result"
    }
   ],
   "source": [
    "notas_turma_1_df.dtypes"
   ]
  },
  {
   "cell_type": "markdown",
   "metadata": {},
   "source": [
    "Vemos então que as colunas ``'Prova 1'`` e ``'Prova 2'`` contém objetos do tipo ``int64`` (possui o tamanho mínimo de 64 bits). Já a coluna ``Media`` é do tipo ``float64`` e a coluna ``Situacao`` é do tipo ``object``, que representa as ``strings`` ou ``objetos`` mistos. "
   ]
  },
  {
   "cell_type": "markdown",
   "metadata": {},
   "source": [
    "Vale mencionar que o mesmo ``DataFrame`` anterior poderia ser criado a partir de um dicionário, cujas chaves fossem ``'Prova 1'`` e ``'Prova 2'`` e seus valores fossem dicionários com os nomes dos alunos sendo as chaves e as notas os valores:"
   ]
  },
  {
   "cell_type": "code",
   "execution_count": 75,
   "metadata": {
    "ExecuteTime": {
     "end_time": "2020-06-08T15:38:47.068920Z",
     "start_time": "2020-06-08T15:38:47.064561Z"
    }
   },
   "outputs": [],
   "source": [
    "notas_turma_1 = {\n",
    "    'Prova 1': {\n",
    "        'Joao'    : 7,\n",
    "        'Maria'   : 8,\n",
    "        'Heraldo' : 9,\n",
    "        'Helena'  : 10,\n",
    "        'Eduardo' : 5,\n",
    "        'Camila'  : 5,\n",
    "        'Bernardo': 4,\n",
    "        'Lazaro'  : 8\n",
    "    },\n",
    "    'Prova 2': {\n",
    "        'Joao'    : 7,\n",
    "        'Maria'   : 9,\n",
    "        'Heraldo' : 7,\n",
    "        'Helena'  : 5,\n",
    "        'Eduardo' : 7,\n",
    "        'Camila'  : 8,\n",
    "        'Bernardo': 9,\n",
    "        'Lazaro'  : 4\n",
    "    }\n",
    "}"
   ]
  },
  {
   "cell_type": "code",
   "execution_count": 88,
   "metadata": {},
   "outputs": [
    {
     "data": {
      "text/html": [
       "<div>\n",
       "<style scoped>\n",
       "    .dataframe tbody tr th:only-of-type {\n",
       "        vertical-align: middle;\n",
       "    }\n",
       "\n",
       "    .dataframe tbody tr th {\n",
       "        vertical-align: top;\n",
       "    }\n",
       "\n",
       "    .dataframe thead th {\n",
       "        text-align: right;\n",
       "    }\n",
       "</style>\n",
       "<table border=\"1\" class=\"dataframe\">\n",
       "  <thead>\n",
       "    <tr style=\"text-align: right;\">\n",
       "      <th></th>\n",
       "      <th>Prova 1</th>\n",
       "      <th>Prova 2</th>\n",
       "    </tr>\n",
       "  </thead>\n",
       "  <tbody>\n",
       "    <tr>\n",
       "      <td>Joao</td>\n",
       "      <td>7</td>\n",
       "      <td>7</td>\n",
       "    </tr>\n",
       "    <tr>\n",
       "      <td>Maria</td>\n",
       "      <td>8</td>\n",
       "      <td>9</td>\n",
       "    </tr>\n",
       "    <tr>\n",
       "      <td>Heraldo</td>\n",
       "      <td>9</td>\n",
       "      <td>7</td>\n",
       "    </tr>\n",
       "    <tr>\n",
       "      <td>Helena</td>\n",
       "      <td>10</td>\n",
       "      <td>5</td>\n",
       "    </tr>\n",
       "    <tr>\n",
       "      <td>Eduardo</td>\n",
       "      <td>5</td>\n",
       "      <td>7</td>\n",
       "    </tr>\n",
       "    <tr>\n",
       "      <td>Camila</td>\n",
       "      <td>5</td>\n",
       "      <td>8</td>\n",
       "    </tr>\n",
       "    <tr>\n",
       "      <td>Bernardo</td>\n",
       "      <td>4</td>\n",
       "      <td>9</td>\n",
       "    </tr>\n",
       "    <tr>\n",
       "      <td>Lazaro</td>\n",
       "      <td>8</td>\n",
       "      <td>4</td>\n",
       "    </tr>\n",
       "  </tbody>\n",
       "</table>\n",
       "</div>"
      ],
      "text/plain": [
       "          Prova 1  Prova 2\n",
       "Joao            7        7\n",
       "Maria           8        9\n",
       "Heraldo         9        7\n",
       "Helena         10        5\n",
       "Eduardo         5        7\n",
       "Camila          5        8\n",
       "Bernardo        4        9\n",
       "Lazaro          8        4"
      ]
     },
     "execution_count": 88,
     "metadata": {},
     "output_type": "execute_result"
    }
   ],
   "source": [
    "notas_turma_1_df = pd.DataFrame(notas_turma_1)\n",
    "notas_turma_1_df"
   ]
  },
  {
   "cell_type": "markdown",
   "metadata": {},
   "source": [
    "A diferença é que o índice não tem um nome específico como anteriormente. Contudo, sempre podemos renomear o índice como quisermos usando a propriedade ``name`` da propriedade ``index``:"
   ]
  },
  {
   "cell_type": "code",
   "execution_count": 89,
   "metadata": {},
   "outputs": [],
   "source": [
    "notas_turma_1_df.index.name = 'Alunos'"
   ]
  },
  {
   "cell_type": "code",
   "execution_count": 90,
   "metadata": {},
   "outputs": [
    {
     "data": {
      "text/html": [
       "<div>\n",
       "<style scoped>\n",
       "    .dataframe tbody tr th:only-of-type {\n",
       "        vertical-align: middle;\n",
       "    }\n",
       "\n",
       "    .dataframe tbody tr th {\n",
       "        vertical-align: top;\n",
       "    }\n",
       "\n",
       "    .dataframe thead th {\n",
       "        text-align: right;\n",
       "    }\n",
       "</style>\n",
       "<table border=\"1\" class=\"dataframe\">\n",
       "  <thead>\n",
       "    <tr style=\"text-align: right;\">\n",
       "      <th></th>\n",
       "      <th>Prova 1</th>\n",
       "      <th>Prova 2</th>\n",
       "    </tr>\n",
       "    <tr>\n",
       "      <th>Alunos</th>\n",
       "      <th></th>\n",
       "      <th></th>\n",
       "    </tr>\n",
       "  </thead>\n",
       "  <tbody>\n",
       "    <tr>\n",
       "      <td>Joao</td>\n",
       "      <td>7</td>\n",
       "      <td>7</td>\n",
       "    </tr>\n",
       "    <tr>\n",
       "      <td>Maria</td>\n",
       "      <td>8</td>\n",
       "      <td>9</td>\n",
       "    </tr>\n",
       "    <tr>\n",
       "      <td>Heraldo</td>\n",
       "      <td>9</td>\n",
       "      <td>7</td>\n",
       "    </tr>\n",
       "    <tr>\n",
       "      <td>Helena</td>\n",
       "      <td>10</td>\n",
       "      <td>5</td>\n",
       "    </tr>\n",
       "    <tr>\n",
       "      <td>Eduardo</td>\n",
       "      <td>5</td>\n",
       "      <td>7</td>\n",
       "    </tr>\n",
       "    <tr>\n",
       "      <td>Camila</td>\n",
       "      <td>5</td>\n",
       "      <td>8</td>\n",
       "    </tr>\n",
       "    <tr>\n",
       "      <td>Bernardo</td>\n",
       "      <td>4</td>\n",
       "      <td>9</td>\n",
       "    </tr>\n",
       "    <tr>\n",
       "      <td>Lazaro</td>\n",
       "      <td>8</td>\n",
       "      <td>4</td>\n",
       "    </tr>\n",
       "  </tbody>\n",
       "</table>\n",
       "</div>"
      ],
      "text/plain": [
       "          Prova 1  Prova 2\n",
       "Alunos                    \n",
       "Joao            7        7\n",
       "Maria           8        9\n",
       "Heraldo         9        7\n",
       "Helena         10        5\n",
       "Eduardo         5        7\n",
       "Camila          5        8\n",
       "Bernardo        4        9\n",
       "Lazaro          8        4"
      ]
     },
     "execution_count": 90,
     "metadata": {},
     "output_type": "execute_result"
    }
   ],
   "source": [
    "notas_turma_1_df"
   ]
  },
  {
   "cell_type": "markdown",
   "metadata": {},
   "source": [
    "Tente você agora recalcular a média dos alunos e atribuir a situação ``'Aprovado'`` se a média for maior ou igual a 7 ou ``'Exame'`` caso contrário."
   ]
  },
  {
   "cell_type": "code",
   "execution_count": null,
   "metadata": {},
   "outputs": [],
   "source": [
    "# digite seu código aqui\n"
   ]
  },
  {
   "cell_type": "markdown",
   "metadata": {},
   "source": [
    "Não conseguiu? **Clique duas vezes aqui** e dê uma espiada na resposta =)\n",
    "\n",
    "<!--\n",
    "# criamos a colunas com as médias\n",
    "notas_turma_1_df['Media'] = notas_turma_1_df.mean(axis=1)\n",
    "\n",
    "# verificamos onde a média é >= 7 e atribuímos 'Aprovado', caso contrário, 'Exame'\n",
    "notas_turma_1_df['Situacao'] = np.where(notas_turma_1_df['Media'] >= 7, 'Aprovado', 'Exame')\n",
    "-->"
   ]
  },
  {
   "cell_type": "markdown",
   "metadata": {},
   "source": [
    "Após realizar o exercício anterior, teremos um ``DataFrame`` assim:"
   ]
  },
  {
   "cell_type": "code",
   "execution_count": 92,
   "metadata": {},
   "outputs": [
    {
     "data": {
      "text/html": [
       "<div>\n",
       "<style scoped>\n",
       "    .dataframe tbody tr th:only-of-type {\n",
       "        vertical-align: middle;\n",
       "    }\n",
       "\n",
       "    .dataframe tbody tr th {\n",
       "        vertical-align: top;\n",
       "    }\n",
       "\n",
       "    .dataframe thead th {\n",
       "        text-align: right;\n",
       "    }\n",
       "</style>\n",
       "<table border=\"1\" class=\"dataframe\">\n",
       "  <thead>\n",
       "    <tr style=\"text-align: right;\">\n",
       "      <th></th>\n",
       "      <th>Prova 1</th>\n",
       "      <th>Prova 2</th>\n",
       "      <th>Media</th>\n",
       "      <th>Situacao</th>\n",
       "    </tr>\n",
       "    <tr>\n",
       "      <th>Alunos</th>\n",
       "      <th></th>\n",
       "      <th></th>\n",
       "      <th></th>\n",
       "      <th></th>\n",
       "    </tr>\n",
       "  </thead>\n",
       "  <tbody>\n",
       "    <tr>\n",
       "      <td>Joao</td>\n",
       "      <td>7</td>\n",
       "      <td>7</td>\n",
       "      <td>7.0</td>\n",
       "      <td>Aprovado</td>\n",
       "    </tr>\n",
       "    <tr>\n",
       "      <td>Maria</td>\n",
       "      <td>8</td>\n",
       "      <td>9</td>\n",
       "      <td>8.5</td>\n",
       "      <td>Aprovado</td>\n",
       "    </tr>\n",
       "    <tr>\n",
       "      <td>Heraldo</td>\n",
       "      <td>9</td>\n",
       "      <td>7</td>\n",
       "      <td>8.0</td>\n",
       "      <td>Aprovado</td>\n",
       "    </tr>\n",
       "    <tr>\n",
       "      <td>Helena</td>\n",
       "      <td>10</td>\n",
       "      <td>5</td>\n",
       "      <td>7.5</td>\n",
       "      <td>Aprovado</td>\n",
       "    </tr>\n",
       "    <tr>\n",
       "      <td>Eduardo</td>\n",
       "      <td>5</td>\n",
       "      <td>7</td>\n",
       "      <td>6.0</td>\n",
       "      <td>Exame</td>\n",
       "    </tr>\n",
       "    <tr>\n",
       "      <td>Camila</td>\n",
       "      <td>5</td>\n",
       "      <td>8</td>\n",
       "      <td>6.5</td>\n",
       "      <td>Exame</td>\n",
       "    </tr>\n",
       "    <tr>\n",
       "      <td>Bernardo</td>\n",
       "      <td>4</td>\n",
       "      <td>9</td>\n",
       "      <td>6.5</td>\n",
       "      <td>Exame</td>\n",
       "    </tr>\n",
       "    <tr>\n",
       "      <td>Lazaro</td>\n",
       "      <td>8</td>\n",
       "      <td>4</td>\n",
       "      <td>6.0</td>\n",
       "      <td>Exame</td>\n",
       "    </tr>\n",
       "  </tbody>\n",
       "</table>\n",
       "</div>"
      ],
      "text/plain": [
       "          Prova 1  Prova 2  Media  Situacao\n",
       "Alunos                                     \n",
       "Joao            7        7    7.0  Aprovado\n",
       "Maria           8        9    8.5  Aprovado\n",
       "Heraldo         9        7    8.0  Aprovado\n",
       "Helena         10        5    7.5  Aprovado\n",
       "Eduardo         5        7    6.0     Exame\n",
       "Camila          5        8    6.5     Exame\n",
       "Bernardo        4        9    6.5     Exame\n",
       "Lazaro          8        4    6.0     Exame"
      ]
     },
     "execution_count": 92,
     "metadata": {},
     "output_type": "execute_result"
    }
   ],
   "source": [
    "notas_turma_1_df"
   ]
  },
  {
   "cell_type": "markdown",
   "metadata": {},
   "source": [
    "O ``DataFrame`` também pode ser transposto facilmente, isto é, fazemos as linhas virarem colunas e as colunas virarem linha. Para isso, basta usarmos a propriedade ``T`` com a notação de ``.``:"
   ]
  },
  {
   "cell_type": "code",
   "execution_count": 93,
   "metadata": {},
   "outputs": [
    {
     "data": {
      "text/html": [
       "<div>\n",
       "<style scoped>\n",
       "    .dataframe tbody tr th:only-of-type {\n",
       "        vertical-align: middle;\n",
       "    }\n",
       "\n",
       "    .dataframe tbody tr th {\n",
       "        vertical-align: top;\n",
       "    }\n",
       "\n",
       "    .dataframe thead th {\n",
       "        text-align: right;\n",
       "    }\n",
       "</style>\n",
       "<table border=\"1\" class=\"dataframe\">\n",
       "  <thead>\n",
       "    <tr style=\"text-align: right;\">\n",
       "      <th>Alunos</th>\n",
       "      <th>Joao</th>\n",
       "      <th>Maria</th>\n",
       "      <th>Heraldo</th>\n",
       "      <th>Helena</th>\n",
       "      <th>Eduardo</th>\n",
       "      <th>Camila</th>\n",
       "      <th>Bernardo</th>\n",
       "      <th>Lazaro</th>\n",
       "    </tr>\n",
       "  </thead>\n",
       "  <tbody>\n",
       "    <tr>\n",
       "      <td>Prova 1</td>\n",
       "      <td>7</td>\n",
       "      <td>8</td>\n",
       "      <td>9</td>\n",
       "      <td>10</td>\n",
       "      <td>5</td>\n",
       "      <td>5</td>\n",
       "      <td>4</td>\n",
       "      <td>8</td>\n",
       "    </tr>\n",
       "    <tr>\n",
       "      <td>Prova 2</td>\n",
       "      <td>7</td>\n",
       "      <td>9</td>\n",
       "      <td>7</td>\n",
       "      <td>5</td>\n",
       "      <td>7</td>\n",
       "      <td>8</td>\n",
       "      <td>9</td>\n",
       "      <td>4</td>\n",
       "    </tr>\n",
       "    <tr>\n",
       "      <td>Media</td>\n",
       "      <td>7</td>\n",
       "      <td>8.5</td>\n",
       "      <td>8</td>\n",
       "      <td>7.5</td>\n",
       "      <td>6</td>\n",
       "      <td>6.5</td>\n",
       "      <td>6.5</td>\n",
       "      <td>6</td>\n",
       "    </tr>\n",
       "    <tr>\n",
       "      <td>Situacao</td>\n",
       "      <td>Aprovado</td>\n",
       "      <td>Aprovado</td>\n",
       "      <td>Aprovado</td>\n",
       "      <td>Aprovado</td>\n",
       "      <td>Exame</td>\n",
       "      <td>Exame</td>\n",
       "      <td>Exame</td>\n",
       "      <td>Exame</td>\n",
       "    </tr>\n",
       "  </tbody>\n",
       "</table>\n",
       "</div>"
      ],
      "text/plain": [
       "Alunos        Joao     Maria   Heraldo    Helena Eduardo Camila Bernardo  \\\n",
       "Prova 1          7         8         9        10       5      5        4   \n",
       "Prova 2          7         9         7         5       7      8        9   \n",
       "Media            7       8.5         8       7.5       6    6.5      6.5   \n",
       "Situacao  Aprovado  Aprovado  Aprovado  Aprovado   Exame  Exame    Exame   \n",
       "\n",
       "Alunos   Lazaro  \n",
       "Prova 1       8  \n",
       "Prova 2       4  \n",
       "Media         6  \n",
       "Situacao  Exame  "
      ]
     },
     "execution_count": 93,
     "metadata": {},
     "output_type": "execute_result"
    }
   ],
   "source": [
    "notas_turma_1_df.T"
   ]
  },
  {
   "cell_type": "markdown",
   "metadata": {},
   "source": [
    "Podemos também criar um ``DataFrame`` com as notas das provas da ``'Turma 2'``, usando o dicionário:"
   ]
  },
  {
   "cell_type": "code",
   "execution_count": 95,
   "metadata": {
    "ExecuteTime": {
     "end_time": "2020-06-08T16:04:28.843624Z",
     "start_time": "2020-06-08T16:04:28.840659Z"
    }
   },
   "outputs": [],
   "source": [
    "notas_turma_2 = {\n",
    "    'Prova 1': {\n",
    "        'Jose'    : 5,\n",
    "        'Plinio'  : 5,\n",
    "        'Rogerio' : 7,\n",
    "        'Mercedes': 7,\n",
    "        'Katarina': 8,\n",
    "        'Larissa' : 7\n",
    "    },\n",
    "    'Prova 2': {\n",
    "        'Jose'    : 7,\n",
    "        'Plinio'  : 6,\n",
    "        'Rogerio' : 4,\n",
    "        'Mercedes': 9,\n",
    "        'Katarina': 9,\n",
    "        'Larissa' : 10\n",
    "    }\n",
    "}"
   ]
  },
  {
   "cell_type": "code",
   "execution_count": 94,
   "metadata": {},
   "outputs": [],
   "source": [
    "# crie o ``DataFrame`` para as notas da turma 2\n",
    "# faça ele ficar parecido com o da turma 1, isto é,\n",
    "# renomeie o índice e crie duas novas colunas\n",
    "# para informar a média e a situação do aluno\n"
   ]
  },
  {
   "cell_type": "markdown",
   "metadata": {},
   "source": [
    "Não conseguiu? **Clique duas vezes aqui** e dê uma espiada na resposta =)\n",
    "\n",
    "<!--\n",
    "# criamos o ``DataFrame`` fornecendo o dicionários com as notas das Provas\n",
    "notas_turma_2_df = pd.DataFrame(notas_turma_2)\n",
    "\n",
    "# mudamos o nome do índice\n",
    "notas_turma_2_df.index.name = 'Alunos'\n",
    "\n",
    "# criamos a colunas com as médias\n",
    "notas_turma_2_df['Media'] = notas_turma_2_df.mean(axis=1)\n",
    "\n",
    "# verificamos onde a média é >= 7 e atribuímos 'Aprovado', caso contrário, 'Exame'\n",
    "notas_turma_2_df['Situacao'] = np.where(notas_turma_2_df['Media'] >= 7, 'Aprovado', 'Exame')\n",
    "-->"
   ]
  },
  {
   "cell_type": "markdown",
   "metadata": {},
   "source": [
    "Depois de pornto, seu ``DataFrame`` para as notas da ``'Turma 2'`` deve ficar assim:"
   ]
  },
  {
   "cell_type": "code",
   "execution_count": 96,
   "metadata": {},
   "outputs": [
    {
     "data": {
      "text/html": [
       "<div>\n",
       "<style scoped>\n",
       "    .dataframe tbody tr th:only-of-type {\n",
       "        vertical-align: middle;\n",
       "    }\n",
       "\n",
       "    .dataframe tbody tr th {\n",
       "        vertical-align: top;\n",
       "    }\n",
       "\n",
       "    .dataframe thead th {\n",
       "        text-align: right;\n",
       "    }\n",
       "</style>\n",
       "<table border=\"1\" class=\"dataframe\">\n",
       "  <thead>\n",
       "    <tr style=\"text-align: right;\">\n",
       "      <th></th>\n",
       "      <th>Prova 1</th>\n",
       "      <th>Prova 2</th>\n",
       "      <th>Media</th>\n",
       "      <th>Situacao</th>\n",
       "    </tr>\n",
       "    <tr>\n",
       "      <th>Alunos</th>\n",
       "      <th></th>\n",
       "      <th></th>\n",
       "      <th></th>\n",
       "      <th></th>\n",
       "    </tr>\n",
       "  </thead>\n",
       "  <tbody>\n",
       "    <tr>\n",
       "      <td>Jose</td>\n",
       "      <td>5</td>\n",
       "      <td>7</td>\n",
       "      <td>6.0</td>\n",
       "      <td>Exame</td>\n",
       "    </tr>\n",
       "    <tr>\n",
       "      <td>Plinio</td>\n",
       "      <td>5</td>\n",
       "      <td>6</td>\n",
       "      <td>5.5</td>\n",
       "      <td>Exame</td>\n",
       "    </tr>\n",
       "    <tr>\n",
       "      <td>Rogerio</td>\n",
       "      <td>7</td>\n",
       "      <td>4</td>\n",
       "      <td>5.5</td>\n",
       "      <td>Exame</td>\n",
       "    </tr>\n",
       "    <tr>\n",
       "      <td>Mercedes</td>\n",
       "      <td>7</td>\n",
       "      <td>9</td>\n",
       "      <td>8.0</td>\n",
       "      <td>Aprovado</td>\n",
       "    </tr>\n",
       "    <tr>\n",
       "      <td>Katarina</td>\n",
       "      <td>8</td>\n",
       "      <td>9</td>\n",
       "      <td>8.5</td>\n",
       "      <td>Aprovado</td>\n",
       "    </tr>\n",
       "    <tr>\n",
       "      <td>Larissa</td>\n",
       "      <td>7</td>\n",
       "      <td>10</td>\n",
       "      <td>8.5</td>\n",
       "      <td>Aprovado</td>\n",
       "    </tr>\n",
       "  </tbody>\n",
       "</table>\n",
       "</div>"
      ],
      "text/plain": [
       "          Prova 1  Prova 2  Media  Situacao\n",
       "Alunos                                     \n",
       "Jose            5        7    6.0     Exame\n",
       "Plinio          5        6    5.5     Exame\n",
       "Rogerio         7        4    5.5     Exame\n",
       "Mercedes        7        9    8.0  Aprovado\n",
       "Katarina        8        9    8.5  Aprovado\n",
       "Larissa         7       10    8.5  Aprovado"
      ]
     },
     "execution_count": 96,
     "metadata": {},
     "output_type": "execute_result"
    }
   ],
   "source": [
    "notas_turma_2_df"
   ]
  },
  {
   "cell_type": "markdown",
   "metadata": {},
   "source": [
    "Visualizar uma tabela as vezes pode não nos trazer muitas informações sobre os dados, nesse caso, as notas dos alunos. Podemos representar esses dados de outra forma, colocando eles em um gráfico. Usando um ``DataFrame``, nem precisamos fazer a importação do ``pyplot`` do módulo ``matplotlib``. O ``objeto`` ``DataFrame`` possui um método ``plot()``, o qual pode ser usado para confeccionar gráficos. Observe o que ocorre se usarmosesse método em nosso ``DataFrame`` ``notas_turma_1_df`` sem nenhum argumento:"
   ]
  },
  {
   "cell_type": "code",
   "execution_count": 172,
   "metadata": {
    "scrolled": true
   },
   "outputs": [
    {
     "data": {
      "text/plain": [
       "<matplotlib.axes._subplots.AxesSubplot at 0x7f8567717550>"
      ]
     },
     "execution_count": 172,
     "metadata": {},
     "output_type": "execute_result"
    },
    {
     "data": {
      "image/png": "[encoded data removed]",
      "text/plain": [
       "<Figure size 432x288 with 1 Axes>"
      ]
     },
     "metadata": {
      "needs_background": "light"
     },
     "output_type": "display_data"
    }
   ],
   "source": [
    "notas_turma_1_df.plot()"
   ]
  },
  {
   "cell_type": "markdown",
   "metadata": {},
   "source": [
    "O método identifica as colunas que possuem objetos numéricos, como ``int`` e ``float`` e confecciona o gráfico. O eixo-x usa como padrão os índices do ``DataFrame``. Veja que todas as colunas são ``plotadas``, cada uma de uma cor, incluindo os nomes das colunas na legenda. Temos diversas opções para costumizar nossos gráficos. Podemos, por exemplo, marcar as coordenadas de cada ponto nas curvas usando o argumento ``style`` e mudar as cores das curvas com ``color``:"
   ]
  },
  {
   "cell_type": "code",
   "execution_count": 173,
   "metadata": {},
   "outputs": [
    {
     "data": {
      "text/plain": [
       "<matplotlib.axes._subplots.AxesSubplot at 0x7f85677026a0>"
      ]
     },
     "execution_count": 173,
     "metadata": {},
     "output_type": "execute_result"
    },
    {
     "data": {
      "image/png": "[encoded data removed]",
      "text/plain": [
       "<Figure size 432x288 with 1 Axes>"
      ]
     },
     "metadata": {
      "needs_background": "light"
     },
     "output_type": "display_data"
    }
   ],
   "source": [
    "notas_turma_1_df.plot(\n",
    "    style = '-o',\n",
    "    color = ['#1b9e77', '#7570b3', '#e7298a']\n",
    ")"
   ]
  },
  {
   "cell_type": "markdown",
   "metadata": {},
   "source": [
    "Podemos plotar somente os valores de colunas selecionadas:"
   ]
  },
  {
   "cell_type": "code",
   "execution_count": 193,
   "metadata": {},
   "outputs": [
    {
     "data": {
      "text/plain": [
       "<matplotlib.axes._subplots.AxesSubplot at 0x7f85671d5da0>"
      ]
     },
     "execution_count": 193,
     "metadata": {},
     "output_type": "execute_result"
    },
    {
     "data": {
      "image/png": "[encoded data removed]",
      "text/plain": [
       "<Figure size 432x288 with 1 Axes>"
      ]
     },
     "metadata": {
      "needs_background": "light"
     },
     "output_type": "display_data"
    }
   ],
   "source": [
    "notas_turma_1_df[['Prova 1', 'Prova 2']].plot(\n",
    "    style = '-o',\n",
    "    color = ['#1b9e77', '#7570b3']\n",
    ")"
   ]
  },
  {
   "cell_type": "markdown",
   "metadata": {},
   "source": [
    "Se adicionarmos linhas que acompanham os valores demarcados nos eixos, podemos estimar melhor cada um dos valores. Para isso, passamos a variável ``grid=True``:"
   ]
  },
  {
   "cell_type": "code",
   "execution_count": 194,
   "metadata": {},
   "outputs": [
    {
     "data": {
      "text/plain": [
       "<matplotlib.axes._subplots.AxesSubplot at 0x7f856713ac88>"
      ]
     },
     "execution_count": 194,
     "metadata": {},
     "output_type": "execute_result"
    },
    {
     "data": {
      "image/png": "[encoded data removed]",
      "text/plain": [
       "<Figure size 432x288 with 1 Axes>"
      ]
     },
     "metadata": {
      "needs_background": "light"
     },
     "output_type": "display_data"
    }
   ],
   "source": [
    "notas_turma_1_df.plot(\n",
    "    style = '-o',\n",
    "    color = ['#1b9e77', '#7570b3', '#e7298a'],\n",
    "    grid  = True\n",
    ")"
   ]
  },
  {
   "cell_type": "markdown",
   "metadata": {},
   "source": [
    "No gráfico abaixo, temos algumas variáveis que podem ser aplicadas aos gráficos, com comentários sobre o que cada uma faz."
   ]
  },
  {
   "cell_type": "code",
   "execution_count": 237,
   "metadata": {},
   "outputs": [
    {
     "data": {
      "text/plain": [
       "Text(0.5, 1.0, 'Notas da Turma 1')"
      ]
     },
     "execution_count": 237,
     "metadata": {},
     "output_type": "execute_result"
    },
    {
     "data": {
      "image/png": "[encoded data removed]",
      "text/plain": [
       "<Figure size 720x576 with 1 Axes>"
      ]
     },
     "metadata": {
      "needs_background": "light"
     },
     "output_type": "display_data"
    }
   ],
   "source": [
    "# o gráfico é um objeto com métodos e propriedades.\n",
    "# assim, podemos mudar algumas propriedade padrões\n",
    "# para o gráfico ficar mais apresentável\n",
    "plot_notas_turma_1 = notas_turma_1_df.plot(\n",
    "    style = '-D',            # desenha linhas que ligam \"Diamantes\"\n",
    "    color = ['#1b9e77', \n",
    "             '#7570b3', \n",
    "             '#e7298a'],     # seleciona as cores de cada coluna\n",
    "    grid = True,             # desenha linhas que acompanham os valores mostrados nos eixos\n",
    "    markersize = 10,         # escolhe o tamanho do marcador/ponto\n",
    "    markerfacecolor='white', # escolhe a cor da face do marcador/ponto\n",
    "    markeredgewidth=2,       # escolhe a espessura da borda do marcador/ponto\n",
    "    lw=3,                    # escolhe a espessura da linha que liga os pontos\n",
    "    figsize = (10, 8),       # escolhe o tamanho da figura em (largura, altura)\n",
    "    fontsize = 16,           # escolhe o tamanho das fontes dos valores nos eixos,\n",
    "    rot = 60,                # rotaciona os labels\n",
    "    xlim=(-0.5, 7.5)         # muda o intervalo do eixo-x\n",
    ")\n",
    "\n",
    "# aqui mudamos o tamanho dos textos que aparecem\n",
    "plot_notas_turma_1.set_ylabel('Notas' , fontsize=16) # no eixo y\n",
    "plot_notas_turma_1.set_xlabel('Alunos', fontsize=16) # no eixo x\n",
    "plot_notas_turma_1.legend(fontsize=14)               # na legenda\n",
    "plot_notas_turma_1.set_title('Notas da Turma 1', fontsize=18) # no título"
   ]
  },
  {
   "cell_type": "markdown",
   "metadata": {},
   "source": [
    "Veja como fazendo algumas alterações o gráfico fica bem mais apresentável."
   ]
  },
  {
   "cell_type": "markdown",
   "metadata": {},
   "source": [
    "Podemos representar nossos dados usando um gráfico de barras também. Para isso, podemos simplesmente usar o método ``bar()`` após ``plot``:"
   ]
  },
  {
   "cell_type": "code",
   "execution_count": 174,
   "metadata": {},
   "outputs": [
    {
     "data": {
      "text/plain": [
       "<matplotlib.axes._subplots.AxesSubplot at 0x7f85677a5f28>"
      ]
     },
     "execution_count": 174,
     "metadata": {},
     "output_type": "execute_result"
    },
    {
     "data": {
      "image/png": "[encoded data removed]",
      "text/plain": [
       "<Figure size 432x288 with 1 Axes>"
      ]
     },
     "metadata": {
      "needs_background": "light"
     },
     "output_type": "display_data"
    }
   ],
   "source": [
    "notas_turma_1_df.plot.bar()"
   ]
  },
  {
   "cell_type": "markdown",
   "metadata": {},
   "source": [
    "Ou então especificarmos o ``tipo``(``kind``) dentro do método ``plot()`` como ``bar``:"
   ]
  },
  {
   "cell_type": "code",
   "execution_count": 175,
   "metadata": {},
   "outputs": [
    {
     "data": {
      "text/plain": [
       "<matplotlib.axes._subplots.AxesSubplot at 0x7f85675adc18>"
      ]
     },
     "execution_count": 175,
     "metadata": {},
     "output_type": "execute_result"
    },
    {
     "data": {
      "image/png": "[encoded data removed]",
      "text/plain": [
       "<Figure size 432x288 with 1 Axes>"
      ]
     },
     "metadata": {
      "needs_background": "light"
     },
     "output_type": "display_data"
    }
   ],
   "source": [
    "notas_turma_1_df.plot(\n",
    "    kind='bar',\n",
    "    style = '-o',\n",
    "    color = ['#1b9e77', '#7570b3', '#e7298a']\n",
    ")"
   ]
  },
  {
   "cell_type": "markdown",
   "metadata": {},
   "source": [
    "Um gráfico assim é útil para compararmos quantidades, por exemplo, o número de alunos que foram Aprovados ou ficaram de Exame. Para fazer isso, primeiramente temos que contar quanto de cada categoria temos. Para isso, usamos o método ``groupby()``, cujo argumento fornecido deve ser a coluna que queremos contar o número de vezes que cada elemento aparece:"
   ]
  },
  {
   "cell_type": "code",
   "execution_count": 238,
   "metadata": {},
   "outputs": [
    {
     "data": {
      "text/plain": [
       "<pandas.core.groupby.generic.DataFrameGroupBy object at 0x7f856709f6d8>"
      ]
     },
     "execution_count": 238,
     "metadata": {},
     "output_type": "execute_result"
    }
   ],
   "source": [
    "notas_turma_1_df.groupby('Situacao')"
   ]
  },
  {
   "cell_type": "markdown",
   "metadata": {},
   "source": [
    "Vemos que um objeto é retornado. Para vermos a quantidade de cada 'Situação', aplicamos o método ``count()`` a esse objeto:"
   ]
  },
  {
   "cell_type": "code",
   "execution_count": 240,
   "metadata": {},
   "outputs": [
    {
     "data": {
      "text/html": [
       "<div>\n",
       "<style scoped>\n",
       "    .dataframe tbody tr th:only-of-type {\n",
       "        vertical-align: middle;\n",
       "    }\n",
       "\n",
       "    .dataframe tbody tr th {\n",
       "        vertical-align: top;\n",
       "    }\n",
       "\n",
       "    .dataframe thead th {\n",
       "        text-align: right;\n",
       "    }\n",
       "</style>\n",
       "<table border=\"1\" class=\"dataframe\">\n",
       "  <thead>\n",
       "    <tr style=\"text-align: right;\">\n",
       "      <th></th>\n",
       "      <th>Prova 1</th>\n",
       "      <th>Prova 2</th>\n",
       "      <th>Media</th>\n",
       "    </tr>\n",
       "    <tr>\n",
       "      <th>Situacao</th>\n",
       "      <th></th>\n",
       "      <th></th>\n",
       "      <th></th>\n",
       "    </tr>\n",
       "  </thead>\n",
       "  <tbody>\n",
       "    <tr>\n",
       "      <td>Aprovado</td>\n",
       "      <td>4</td>\n",
       "      <td>4</td>\n",
       "      <td>4</td>\n",
       "    </tr>\n",
       "    <tr>\n",
       "      <td>Exame</td>\n",
       "      <td>4</td>\n",
       "      <td>4</td>\n",
       "      <td>4</td>\n",
       "    </tr>\n",
       "  </tbody>\n",
       "</table>\n",
       "</div>"
      ],
      "text/plain": [
       "          Prova 1  Prova 2  Media\n",
       "Situacao                         \n",
       "Aprovado        4        4      4\n",
       "Exame           4        4      4"
      ]
     },
     "execution_count": 240,
     "metadata": {},
     "output_type": "execute_result"
    }
   ],
   "source": [
    "notas_turma_1_df.groupby('Situacao').count()"
   ]
  },
  {
   "cell_type": "markdown",
   "metadata": {},
   "source": [
    "Veja que o método retorna, em todas as colunas, o número de de vezes que cada uma das situações aparecem. Podemos, então, selecionar somente uma delas para confecionar nosso gráfico:"
   ]
  },
  {
   "cell_type": "code",
   "execution_count": 241,
   "metadata": {},
   "outputs": [
    {
     "data": {
      "text/plain": [
       "Situacao\n",
       "Aprovado    4\n",
       "Exame       4\n",
       "Name: Media, dtype: int64"
      ]
     },
     "execution_count": 241,
     "metadata": {},
     "output_type": "execute_result"
    }
   ],
   "source": [
    "notas_turma_1_df.groupby('Situacao').count()['Media']"
   ]
  },
  {
   "cell_type": "markdown",
   "metadata": {},
   "source": [
    "E agora aplicar o método ``plot()``, especificando o ``tipo`` como ``'bar'`` (``kind='bar'``):"
   ]
  },
  {
   "cell_type": "code",
   "execution_count": 256,
   "metadata": {},
   "outputs": [
    {
     "data": {
      "text/plain": [
       "Text(0.5, 0, 'Situacao')"
      ]
     },
     "execution_count": 256,
     "metadata": {},
     "output_type": "execute_result"
    },
    {
     "data": {
      "image/png": "[encoded data removed]",
      "text/plain": [
       "<Figure size 432x288 with 1 Axes>"
      ]
     },
     "metadata": {
      "needs_background": "light"
     },
     "output_type": "display_data"
    }
   ],
   "source": [
    "situacao_turma_1 = notas_turma_1_df.groupby('Situacao').count()['Media']\n",
    "\n",
    "plot_situacao_turma_1 = situacao_turma_1.plot(\n",
    "    kind='bar',         # seleciona o tipo do gráfico\n",
    "    color=['steelblue', \n",
    "           'orange'],   # seleciona as cores de cada barra\n",
    "    fontsize=16,        # seleciona o tamanho da fonte,\n",
    "    rot = 0,            # rotaciona os labels do eixo-x\n",
    ")\n",
    "\n",
    "plot_situacao_turma_1.set_ylabel('Quantidade por situação', fontsize=16)\n",
    "plot_situacao_turma_1.set_xlabel('Situacao'               , fontsize=16)"
   ]
  },
  {
   "cell_type": "markdown",
   "metadata": {},
   "source": [
    "Mais opções para configurar os gráficos podem ser encontradas [aqui](https://pandas.pydata.org/pandas-docs/stable/reference/api/pandas.DataFrame.plot.html)."
   ]
  },
  {
   "cell_type": "markdown",
   "metadata": {},
   "source": [
    "Para finalizar essa parte de gráficos, vamos usar tudo que vimos e confeccionar os gráficos das duas turmas. Iremos fazer uma ``figura`` com quatro gráficos, em duas linhas e duas colunas. As duas primeiras linhas serão os gráficos das notas de cada aluno e na segunda a quantidade de de alunos aprovados e de exame. Para isso, iremos que usar o ``pyplot`` do ``módulo`` ``matplotlib``. Começamos então importando o ``pyplot``:"
   ]
  },
  {
   "cell_type": "code",
   "execution_count": 257,
   "metadata": {},
   "outputs": [],
   "source": [
    "import matplotlib.pyplot as plt"
   ]
  },
  {
   "cell_type": "markdown",
   "metadata": {},
   "source": [
    "Primeiro, vamos criar cada um dos gráficos separadamente. Para isso, iremos copiar os códigos feitos anteriormente para as notas da Turma 1. Caso você queira treinar, tente ir fazendo os gráficos lentamente, retornando nos já prontos para ver alguma informação que esqueceu."
   ]
  },
  {
   "cell_type": "markdown",
   "metadata": {},
   "source": [
    "Para fazer isso de maneira mais eficiente, vamos criar duas funções que recebem dois paramêtros. A primeira delas irá criar o gráfico com as notas dos alunos e a segunda a quantidade de aprovados e de exame. Ambas as funções receberão dois argumentos: o ``DataFrame`` com as notas da turma e o subplot em que irá ser mostrada."
   ]
  },
  {
   "cell_type": "markdown",
   "metadata": {},
   "source": [
    "Vamos definir então a função que irá plotar as notas dos alunos de cada turma:"
   ]
  },
  {
   "cell_type": "code",
   "execution_count": 323,
   "metadata": {},
   "outputs": [],
   "source": [
    "def plot_notas(df_turma, subplot):\n",
    "    \"\"\"\n",
    "    Plota as três curvas do ``DataFrame`` contendo as colunas:\n",
    "    'Prova 1', 'Prova 2' e 'Media'.\n",
    "    \n",
    "    Argumentos:\n",
    "    -----------\n",
    "    df_turma - pd.DataFrame: tabela de dados com três colunas: \n",
    "    'Prova 1', 'Prova 2' e 'Media' em que os índices são os\n",
    "    nomes dos alunos.\n",
    "    \n",
    "    subplot - AxesSubplot: um subplot do array criado a partir do método\n",
    "    ``subplots`` do ``pyplot``.\n",
    "    \n",
    "    Retorno:\n",
    "    --------\n",
    "    Plot das curvas com as notas dos alunos nas 'Prova 1' e 'Prova 2' e \n",
    "    na 'Media'.\n",
    "    \"\"\"\n",
    "    \n",
    "    # posições min e max do eixo-x\n",
    "    xmin = -0.5\n",
    "    xmax = df_turma.shape[0]-0.5\n",
    "    \n",
    "    # plotando o gráfico\n",
    "    df_turma.plot(\n",
    "        style = '-D',            # desenha linhas que ligam \"Diamantes\"\n",
    "        color = ['#1b9e77', \n",
    "                 '#7570b3', \n",
    "                 '#e7298a'],     # seleciona as cores de cada coluna\n",
    "        grid = True,             # desenha linhas que acompanham os valores mostrados nos eixos\n",
    "        markersize = 10,         # escolhe o tamanho do marcador/ponto\n",
    "        markerfacecolor='white', # escolhe a cor da face do marcador/ponto\n",
    "        markeredgewidth=2,       # escolhe a espessura da borda do marcador/ponto\n",
    "        lw=3,                    # escolhe a espessura da linha que liga os pontos\n",
    "        fontsize = 16,           # escolhe o tamanho das fontes dos valores nos eixos,\n",
    "        rot = 60,                # rotaciona os labels\n",
    "        xlim = (xmin, xmax),     # muda o intervalo do eixo-x\n",
    "        ax = subplot             # escolhe o subplot em que o gráfico será colocado\n",
    "    )"
   ]
  },
  {
   "cell_type": "markdown",
   "metadata": {},
   "source": [
    "E agora a função que irá plotar a quantidade de alunos nas situações 'Aprovado' e de 'Exame'."
   ]
  },
  {
   "cell_type": "code",
   "execution_count": 305,
   "metadata": {},
   "outputs": [],
   "source": [
    "def plot_situacao(df_turma, subplot):\n",
    "    \"\"\"\n",
    "    Plota as barras com a quantidade de alunos 'Aprovados'\n",
    "    e de 'Exame'.\n",
    "    \n",
    "    Argumentos:\n",
    "    -----------\n",
    "    df_turma - pd.DataFrame: tabela de dados com três colunas: \n",
    "    'Prova 1', 'Prova 2' e 'Media' em que os índices são os\n",
    "    nomes dos alunos.\n",
    "    \n",
    "    subplot - AxesSubplot: um subplot do array criado a partir do método\n",
    "    ``subplots`` do ``pyplot``.\n",
    "    \n",
    "    Retorno:\n",
    "    --------\n",
    "    Plot das barras com a quantidade de alunos 'Aprovados' e de 'Exame'.\n",
    "    \"\"\"\n",
    "    \n",
    "    situacao_turma = df_turma.groupby('Situacao').count()['Media']\n",
    "\n",
    "    situacao_turma.plot(\n",
    "        kind='bar',         # seleciona o tipo do gráfico\n",
    "        color=['#21c460', \n",
    "               '#fa6641'],  # seleciona as cores de cada barra\n",
    "        fontsize=16,        # seleciona o tamanho da fonte,\n",
    "        rot = 0,            # rotaciona os labels do eixo-x\n",
    "        ax = subplot        # escolhe o subplot em que o gráfico será colocado\n",
    "    )"
   ]
  },
  {
   "cell_type": "code",
   "execution_count": 322,
   "metadata": {},
   "outputs": [
    {
     "data": {
      "text/plain": [
       "matplotlib.axes._subplots.AxesSubplot"
      ]
     },
     "execution_count": 322,
     "metadata": {},
     "output_type": "execute_result"
    }
   ],
   "source": [
    "type(ax[0,0])"
   ]
  },
  {
   "cell_type": "code",
   "execution_count": 320,
   "metadata": {},
   "outputs": [
    {
     "data": {
      "image/png": "[encoded data removed]",
      "text/plain": [
       "<Figure size 1152x864 with 4 Axes>"
      ]
     },
     "metadata": {
      "needs_background": "light"
     },
     "output_type": "display_data"
    }
   ],
   "source": [
    "fig, ax = plt.subplots(nrows=2, ncols=2, figsize=(16,12))\n",
    "\n",
    "# plota as notas dos alunos\n",
    "plot_notas(notas_turma_1_df, ax[0,0])\n",
    "plot_notas(notas_turma_2_df, ax[0,1])\n",
    "\n",
    "# plota a situação das turmas\n",
    "plot_situacao(notas_turma_1_df, ax[1,0])\n",
    "plot_situacao(notas_turma_2_df, ax[1,1])\n",
    "\n",
    "# tamanho da fonte que usaremos\n",
    "FONT_SIZE = 16\n",
    "\n",
    "# colocando títulos em cada subplot\n",
    "# primeira linha\n",
    "ax[0,0].set_title('Notas da Turma 1', fontsize=FONT_SIZE)\n",
    "ax[0,1].set_title('Notas da Turma 2', fontsize=FONT_SIZE)\n",
    "# segunda linha\n",
    "ax[1,0].set_title('Situação da Turma 1', fontsize=FONT_SIZE)\n",
    "ax[1,1].set_title('Situação da Turma 2', fontsize=FONT_SIZE)\n",
    "\n",
    "# nome da variável no eixo-y\n",
    "# primeira linha\n",
    "ax[0,0].set_ylabel('Notas', fontsize=FONT_SIZE)\n",
    "ax[0,1].set_ylabel('Notas', fontsize=FONT_SIZE)\n",
    "# segunda linha\n",
    "ax[1,0].set_ylabel('Número de alunos', fontsize=FONT_SIZE)\n",
    "ax[1,1].set_ylabel('Número de alunos', fontsize=FONT_SIZE)\n",
    "\n",
    "# nome da variável no eixo-x\n",
    "# primeira linha\n",
    "ax[0,0].set_xlabel('Aluno', fontsize=FONT_SIZE)\n",
    "ax[0,1].set_xlabel('Aluno', fontsize=FONT_SIZE)\n",
    "# segunda linha\n",
    "ax[1,0].set_xlabel('Situação', fontsize=FONT_SIZE)\n",
    "ax[1,1].set_xlabel('Situação', fontsize=FONT_SIZE)\n",
    "\n",
    "# ajustamos o eixo-y para ficar na mesma escala nos gráficos de cada linha\n",
    "ymin_bar = 0\n",
    "ymax_bar = 5\n",
    "ax[1,0].set_ylim(ymin_bar, ymax_bar)\n",
    "ax[1,1].set_ylim(ymin_bar, ymax_bar)\n",
    "\n",
    "fig.tight_layout()"
   ]
  },
  {
   "cell_type": "markdown",
   "metadata": {},
   "source": [
    "A partir dessa figura, temos uma visão clara de como é o comportamento de cada uma das turmas."
   ]
  },
  {
   "cell_type": "code",
   "execution_count": null,
   "metadata": {},
   "outputs": [],
   "source": []
  },
  {
   "cell_type": "markdown",
   "metadata": {},
   "source": [
    "É possível usar métodos um pouco mais avançados para criar um ``DataFrame`` que tenha mais de um índice, de maneira que podemos especificar a turma e os alunos que fazem parte ela e então atribuir as notas das provas em colunas. "
   ]
  },
  {
   "cell_type": "code",
   "execution_count": 97,
   "metadata": {},
   "outputs": [],
   "source": [
    "list_alunos_turma_1 = ['Joao', 'Maria', 'Heraldo', 'Helena', 'Eduardo', 'Camila', 'Bernardo', 'Lazaro']\n",
    "list_alunos_turma_2 = ['Jose', 'Plinio', 'Rogerio', 'Mercedes', 'Katarina', 'Larissa']"
   ]
  },
  {
   "cell_type": "code",
   "execution_count": 98,
   "metadata": {},
   "outputs": [],
   "source": [
    "list_notas_turma_1 = [[7, 7], [8, 9], [9, 7], [10, 5], [5, 7], [5, 8], [4, 9], [8, 4]]\n",
    "list_notas_turma_2 = [[5, 7], [5, 5], [7, 4], [7, 9], [8, 9], [7, 10]]"
   ]
  },
  {
   "cell_type": "code",
   "execution_count": 99,
   "metadata": {},
   "outputs": [
    {
     "data": {
      "text/html": [
       "<div>\n",
       "<style scoped>\n",
       "    .dataframe tbody tr th:only-of-type {\n",
       "        vertical-align: middle;\n",
       "    }\n",
       "\n",
       "    .dataframe tbody tr th {\n",
       "        vertical-align: top;\n",
       "    }\n",
       "\n",
       "    .dataframe thead th {\n",
       "        text-align: right;\n",
       "    }\n",
       "</style>\n",
       "<table border=\"1\" class=\"dataframe\">\n",
       "  <thead>\n",
       "    <tr style=\"text-align: right;\">\n",
       "      <th></th>\n",
       "      <th></th>\n",
       "      <th>Prova 1</th>\n",
       "      <th>Prova 2</th>\n",
       "    </tr>\n",
       "  </thead>\n",
       "  <tbody>\n",
       "    <tr>\n",
       "      <td rowspan=\"8\" valign=\"top\">Turma 1</td>\n",
       "      <td>Joao</td>\n",
       "      <td>7</td>\n",
       "      <td>7</td>\n",
       "    </tr>\n",
       "    <tr>\n",
       "      <td>Maria</td>\n",
       "      <td>8</td>\n",
       "      <td>9</td>\n",
       "    </tr>\n",
       "    <tr>\n",
       "      <td>Heraldo</td>\n",
       "      <td>9</td>\n",
       "      <td>7</td>\n",
       "    </tr>\n",
       "    <tr>\n",
       "      <td>Helena</td>\n",
       "      <td>10</td>\n",
       "      <td>5</td>\n",
       "    </tr>\n",
       "    <tr>\n",
       "      <td>Eduardo</td>\n",
       "      <td>5</td>\n",
       "      <td>7</td>\n",
       "    </tr>\n",
       "    <tr>\n",
       "      <td>Camila</td>\n",
       "      <td>5</td>\n",
       "      <td>8</td>\n",
       "    </tr>\n",
       "    <tr>\n",
       "      <td>Bernardo</td>\n",
       "      <td>4</td>\n",
       "      <td>9</td>\n",
       "    </tr>\n",
       "    <tr>\n",
       "      <td>Lazaro</td>\n",
       "      <td>8</td>\n",
       "      <td>4</td>\n",
       "    </tr>\n",
       "    <tr>\n",
       "      <td rowspan=\"6\" valign=\"top\">Turma 2</td>\n",
       "      <td>Jose</td>\n",
       "      <td>5</td>\n",
       "      <td>7</td>\n",
       "    </tr>\n",
       "    <tr>\n",
       "      <td>Plinio</td>\n",
       "      <td>5</td>\n",
       "      <td>5</td>\n",
       "    </tr>\n",
       "    <tr>\n",
       "      <td>Rogerio</td>\n",
       "      <td>7</td>\n",
       "      <td>4</td>\n",
       "    </tr>\n",
       "    <tr>\n",
       "      <td>Mercedes</td>\n",
       "      <td>7</td>\n",
       "      <td>9</td>\n",
       "    </tr>\n",
       "    <tr>\n",
       "      <td>Katarina</td>\n",
       "      <td>8</td>\n",
       "      <td>9</td>\n",
       "    </tr>\n",
       "    <tr>\n",
       "      <td>Larissa</td>\n",
       "      <td>7</td>\n",
       "      <td>10</td>\n",
       "    </tr>\n",
       "  </tbody>\n",
       "</table>\n",
       "</div>"
      ],
      "text/plain": [
       "                  Prova 1  Prova 2\n",
       "Turma 1 Joao            7        7\n",
       "        Maria           8        9\n",
       "        Heraldo         9        7\n",
       "        Helena         10        5\n",
       "        Eduardo         5        7\n",
       "        Camila          5        8\n",
       "        Bernardo        4        9\n",
       "        Lazaro          8        4\n",
       "Turma 2 Jose            5        7\n",
       "        Plinio          5        5\n",
       "        Rogerio         7        4\n",
       "        Mercedes        7        9\n",
       "        Katarina        8        9\n",
       "        Larissa         7       10"
      ]
     },
     "execution_count": 99,
     "metadata": {},
     "output_type": "execute_result"
    }
   ],
   "source": [
    "# criamos um multi índice\n",
    "multi_indice = [\n",
    "    # primeira lista será o primeiro índice\n",
    "    ['Turma 1' for _ in range(len(list_alunos_turma_1))] + # repetimos 'Turma 1' considerando o tamanho de ``alunos_turma_1``\n",
    "    ['Turma 2' for _ in range(len(list_alunos_turma_2))],  # repetimos 'Turma 2' considerando o tamanho de ``alunos_turma_2``\n",
    "    # segunda lista será o segundo índice \n",
    "    list_alunos_turma_1 + list_alunos_turma_2 # combinamos as listas com os nomes dos alunos\n",
    "    \n",
    "]\n",
    "\n",
    "# criamos uma lista com as notas das duas turmas\n",
    "# as notas devem seguir a ordem dos nomes dos alunos\n",
    "# fornecidas na segunda lista acima\n",
    "notas = list_notas_turma_1 + list_notas_turma_2\n",
    "\n",
    "# passamos os valores para as variáveis\n",
    "notas_turmas_provas_df = pd.DataFrame(data=notas, index=multi_indice, columns=['Prova 1', 'Prova 2'])\n",
    "notas_turmas_provas_df"
   ]
  },
  {
   "cell_type": "markdown",
   "metadata": {},
   "source": [
    "E também podemos calcular a média e atribuir a situação dos alunos em novas colunas normalmente:"
   ]
  },
  {
   "cell_type": "code",
   "execution_count": 100,
   "metadata": {},
   "outputs": [
    {
     "data": {
      "text/html": [
       "<div>\n",
       "<style scoped>\n",
       "    .dataframe tbody tr th:only-of-type {\n",
       "        vertical-align: middle;\n",
       "    }\n",
       "\n",
       "    .dataframe tbody tr th {\n",
       "        vertical-align: top;\n",
       "    }\n",
       "\n",
       "    .dataframe thead th {\n",
       "        text-align: right;\n",
       "    }\n",
       "</style>\n",
       "<table border=\"1\" class=\"dataframe\">\n",
       "  <thead>\n",
       "    <tr style=\"text-align: right;\">\n",
       "      <th></th>\n",
       "      <th></th>\n",
       "      <th>Prova 1</th>\n",
       "      <th>Prova 2</th>\n",
       "      <th>Media</th>\n",
       "      <th>Situacao</th>\n",
       "    </tr>\n",
       "  </thead>\n",
       "  <tbody>\n",
       "    <tr>\n",
       "      <td rowspan=\"8\" valign=\"top\">Turma 1</td>\n",
       "      <td>Joao</td>\n",
       "      <td>7</td>\n",
       "      <td>7</td>\n",
       "      <td>7.0</td>\n",
       "      <td>Aprovado</td>\n",
       "    </tr>\n",
       "    <tr>\n",
       "      <td>Maria</td>\n",
       "      <td>8</td>\n",
       "      <td>9</td>\n",
       "      <td>8.5</td>\n",
       "      <td>Aprovado</td>\n",
       "    </tr>\n",
       "    <tr>\n",
       "      <td>Heraldo</td>\n",
       "      <td>9</td>\n",
       "      <td>7</td>\n",
       "      <td>8.0</td>\n",
       "      <td>Aprovado</td>\n",
       "    </tr>\n",
       "    <tr>\n",
       "      <td>Helena</td>\n",
       "      <td>10</td>\n",
       "      <td>5</td>\n",
       "      <td>7.5</td>\n",
       "      <td>Aprovado</td>\n",
       "    </tr>\n",
       "    <tr>\n",
       "      <td>Eduardo</td>\n",
       "      <td>5</td>\n",
       "      <td>7</td>\n",
       "      <td>6.0</td>\n",
       "      <td>Exame</td>\n",
       "    </tr>\n",
       "    <tr>\n",
       "      <td>Camila</td>\n",
       "      <td>5</td>\n",
       "      <td>8</td>\n",
       "      <td>6.5</td>\n",
       "      <td>Exame</td>\n",
       "    </tr>\n",
       "    <tr>\n",
       "      <td>Bernardo</td>\n",
       "      <td>4</td>\n",
       "      <td>9</td>\n",
       "      <td>6.5</td>\n",
       "      <td>Exame</td>\n",
       "    </tr>\n",
       "    <tr>\n",
       "      <td>Lazaro</td>\n",
       "      <td>8</td>\n",
       "      <td>4</td>\n",
       "      <td>6.0</td>\n",
       "      <td>Exame</td>\n",
       "    </tr>\n",
       "    <tr>\n",
       "      <td rowspan=\"6\" valign=\"top\">Turma 2</td>\n",
       "      <td>Jose</td>\n",
       "      <td>5</td>\n",
       "      <td>7</td>\n",
       "      <td>6.0</td>\n",
       "      <td>Exame</td>\n",
       "    </tr>\n",
       "    <tr>\n",
       "      <td>Plinio</td>\n",
       "      <td>5</td>\n",
       "      <td>5</td>\n",
       "      <td>5.0</td>\n",
       "      <td>Exame</td>\n",
       "    </tr>\n",
       "    <tr>\n",
       "      <td>Rogerio</td>\n",
       "      <td>7</td>\n",
       "      <td>4</td>\n",
       "      <td>5.5</td>\n",
       "      <td>Exame</td>\n",
       "    </tr>\n",
       "    <tr>\n",
       "      <td>Mercedes</td>\n",
       "      <td>7</td>\n",
       "      <td>9</td>\n",
       "      <td>8.0</td>\n",
       "      <td>Aprovado</td>\n",
       "    </tr>\n",
       "    <tr>\n",
       "      <td>Katarina</td>\n",
       "      <td>8</td>\n",
       "      <td>9</td>\n",
       "      <td>8.5</td>\n",
       "      <td>Aprovado</td>\n",
       "    </tr>\n",
       "    <tr>\n",
       "      <td>Larissa</td>\n",
       "      <td>7</td>\n",
       "      <td>10</td>\n",
       "      <td>8.5</td>\n",
       "      <td>Aprovado</td>\n",
       "    </tr>\n",
       "  </tbody>\n",
       "</table>\n",
       "</div>"
      ],
      "text/plain": [
       "                  Prova 1  Prova 2  Media  Situacao\n",
       "Turma 1 Joao            7        7    7.0  Aprovado\n",
       "        Maria           8        9    8.5  Aprovado\n",
       "        Heraldo         9        7    8.0  Aprovado\n",
       "        Helena         10        5    7.5  Aprovado\n",
       "        Eduardo         5        7    6.0     Exame\n",
       "        Camila          5        8    6.5     Exame\n",
       "        Bernardo        4        9    6.5     Exame\n",
       "        Lazaro          8        4    6.0     Exame\n",
       "Turma 2 Jose            5        7    6.0     Exame\n",
       "        Plinio          5        5    5.0     Exame\n",
       "        Rogerio         7        4    5.5     Exame\n",
       "        Mercedes        7        9    8.0  Aprovado\n",
       "        Katarina        8        9    8.5  Aprovado\n",
       "        Larissa         7       10    8.5  Aprovado"
      ]
     },
     "execution_count": 100,
     "metadata": {},
     "output_type": "execute_result"
    }
   ],
   "source": [
    "notas_turmas_provas_df['Media']    = notas_turmas_provas_df.mean(axis=1)\n",
    "notas_turmas_provas_df['Situacao'] = np.where(notas_turmas_provas_df['Media'] >= 7, 'Aprovado', 'Exame')\n",
    "notas_turmas_provas_df"
   ]
  },
  {
   "cell_type": "markdown",
   "metadata": {},
   "source": [
    "Podemos inserir efeitos visuais no próprio ``DataFrame`` se quisermos. Por exemplo, vamos colorir a situação dos alunos de verde se eles forem Aprovados e de laranja se ficaram de Exame.\n",
    "\n",
    "O primeiro passo é criar uma função que estabelece a cor de acordo com o valor encontrado:"
   ]
  },
  {
   "cell_type": "code",
   "execution_count": 103,
   "metadata": {},
   "outputs": [
    {
     "data": {
      "text/plain": [
       "'Situacao'"
      ]
     },
     "execution_count": 103,
     "metadata": {},
     "output_type": "execute_result"
    }
   ],
   "source": [
    "notas_turmas_provas_df['Situacao'].name"
   ]
  },
  {
   "cell_type": "code",
   "execution_count": 133,
   "metadata": {},
   "outputs": [],
   "source": [
    "def destacar_situacao(serie):\n",
    "    \"\"\"\n",
    "    \n",
    "    \"\"\"\n",
    "    list_of_styles = []\n",
    "    \n",
    "    for cell in serie:\n",
    "        if type(cell) == str:\n",
    "            if cell == 'Aprovado':\n",
    "                list_of_styles.append('background-color: steelblue')\n",
    "            elif cell == 'Exame':\n",
    "                list_of_styles.append('background-color: orange')\n",
    "        else:\n",
    "            list_of_styles.append('')\n",
    "                \n",
    "    return list_of_styles"
   ]
  },
  {
   "cell_type": "code",
   "execution_count": 134,
   "metadata": {},
   "outputs": [
    {
     "data": {
      "text/html": [
       "<style  type=\"text/css\" >\n",
       "    #T_6285bfb8_abee_11ea_9592_1326ec2e4078row0_col3 {\n",
       "            background-color:  steelblue;\n",
       "        }    #T_6285bfb8_abee_11ea_9592_1326ec2e4078row1_col3 {\n",
       "            background-color:  steelblue;\n",
       "        }    #T_6285bfb8_abee_11ea_9592_1326ec2e4078row2_col3 {\n",
       "            background-color:  steelblue;\n",
       "        }    #T_6285bfb8_abee_11ea_9592_1326ec2e4078row3_col3 {\n",
       "            background-color:  steelblue;\n",
       "        }    #T_6285bfb8_abee_11ea_9592_1326ec2e4078row4_col3 {\n",
       "            background-color:  orange;\n",
       "        }    #T_6285bfb8_abee_11ea_9592_1326ec2e4078row5_col3 {\n",
       "            background-color:  orange;\n",
       "        }    #T_6285bfb8_abee_11ea_9592_1326ec2e4078row6_col3 {\n",
       "            background-color:  orange;\n",
       "        }    #T_6285bfb8_abee_11ea_9592_1326ec2e4078row7_col3 {\n",
       "            background-color:  orange;\n",
       "        }    #T_6285bfb8_abee_11ea_9592_1326ec2e4078row8_col3 {\n",
       "            background-color:  orange;\n",
       "        }    #T_6285bfb8_abee_11ea_9592_1326ec2e4078row9_col3 {\n",
       "            background-color:  orange;\n",
       "        }    #T_6285bfb8_abee_11ea_9592_1326ec2e4078row10_col3 {\n",
       "            background-color:  orange;\n",
       "        }    #T_6285bfb8_abee_11ea_9592_1326ec2e4078row11_col3 {\n",
       "            background-color:  steelblue;\n",
       "        }    #T_6285bfb8_abee_11ea_9592_1326ec2e4078row12_col3 {\n",
       "            background-color:  steelblue;\n",
       "        }    #T_6285bfb8_abee_11ea_9592_1326ec2e4078row13_col3 {\n",
       "            background-color:  steelblue;\n",
       "        }</style><table id=\"T_6285bfb8_abee_11ea_9592_1326ec2e4078\" ><thead>    <tr>        <th class=\"blank\" ></th>        <th class=\"blank level0\" ></th>        <th class=\"col_heading level0 col0\" >Prova 1</th>        <th class=\"col_heading level0 col1\" >Prova 2</th>        <th class=\"col_heading level0 col2\" >Media</th>        <th class=\"col_heading level0 col3\" >Situacao</th>    </tr></thead><tbody>\n",
       "                <tr>\n",
       "                        <th id=\"T_6285bfb8_abee_11ea_9592_1326ec2e4078level0_row0\" class=\"row_heading level0 row0\" rowspan=8>Turma 1</th>\n",
       "                        <th id=\"T_6285bfb8_abee_11ea_9592_1326ec2e4078level1_row0\" class=\"row_heading level1 row0\" >Joao</th>\n",
       "                        <td id=\"T_6285bfb8_abee_11ea_9592_1326ec2e4078row0_col0\" class=\"data row0 col0\" >7</td>\n",
       "                        <td id=\"T_6285bfb8_abee_11ea_9592_1326ec2e4078row0_col1\" class=\"data row0 col1\" >7</td>\n",
       "                        <td id=\"T_6285bfb8_abee_11ea_9592_1326ec2e4078row0_col2\" class=\"data row0 col2\" >7</td>\n",
       "                        <td id=\"T_6285bfb8_abee_11ea_9592_1326ec2e4078row0_col3\" class=\"data row0 col3\" >Aprovado</td>\n",
       "            </tr>\n",
       "            <tr>\n",
       "                                <th id=\"T_6285bfb8_abee_11ea_9592_1326ec2e4078level1_row1\" class=\"row_heading level1 row1\" >Maria</th>\n",
       "                        <td id=\"T_6285bfb8_abee_11ea_9592_1326ec2e4078row1_col0\" class=\"data row1 col0\" >8</td>\n",
       "                        <td id=\"T_6285bfb8_abee_11ea_9592_1326ec2e4078row1_col1\" class=\"data row1 col1\" >9</td>\n",
       "                        <td id=\"T_6285bfb8_abee_11ea_9592_1326ec2e4078row1_col2\" class=\"data row1 col2\" >8.5</td>\n",
       "                        <td id=\"T_6285bfb8_abee_11ea_9592_1326ec2e4078row1_col3\" class=\"data row1 col3\" >Aprovado</td>\n",
       "            </tr>\n",
       "            <tr>\n",
       "                                <th id=\"T_6285bfb8_abee_11ea_9592_1326ec2e4078level1_row2\" class=\"row_heading level1 row2\" >Heraldo</th>\n",
       "                        <td id=\"T_6285bfb8_abee_11ea_9592_1326ec2e4078row2_col0\" class=\"data row2 col0\" >9</td>\n",
       "                        <td id=\"T_6285bfb8_abee_11ea_9592_1326ec2e4078row2_col1\" class=\"data row2 col1\" >7</td>\n",
       "                        <td id=\"T_6285bfb8_abee_11ea_9592_1326ec2e4078row2_col2\" class=\"data row2 col2\" >8</td>\n",
       "                        <td id=\"T_6285bfb8_abee_11ea_9592_1326ec2e4078row2_col3\" class=\"data row2 col3\" >Aprovado</td>\n",
       "            </tr>\n",
       "            <tr>\n",
       "                                <th id=\"T_6285bfb8_abee_11ea_9592_1326ec2e4078level1_row3\" class=\"row_heading level1 row3\" >Helena</th>\n",
       "                        <td id=\"T_6285bfb8_abee_11ea_9592_1326ec2e4078row3_col0\" class=\"data row3 col0\" >10</td>\n",
       "                        <td id=\"T_6285bfb8_abee_11ea_9592_1326ec2e4078row3_col1\" class=\"data row3 col1\" >5</td>\n",
       "                        <td id=\"T_6285bfb8_abee_11ea_9592_1326ec2e4078row3_col2\" class=\"data row3 col2\" >7.5</td>\n",
       "                        <td id=\"T_6285bfb8_abee_11ea_9592_1326ec2e4078row3_col3\" class=\"data row3 col3\" >Aprovado</td>\n",
       "            </tr>\n",
       "            <tr>\n",
       "                                <th id=\"T_6285bfb8_abee_11ea_9592_1326ec2e4078level1_row4\" class=\"row_heading level1 row4\" >Eduardo</th>\n",
       "                        <td id=\"T_6285bfb8_abee_11ea_9592_1326ec2e4078row4_col0\" class=\"data row4 col0\" >5</td>\n",
       "                        <td id=\"T_6285bfb8_abee_11ea_9592_1326ec2e4078row4_col1\" class=\"data row4 col1\" >7</td>\n",
       "                        <td id=\"T_6285bfb8_abee_11ea_9592_1326ec2e4078row4_col2\" class=\"data row4 col2\" >6</td>\n",
       "                        <td id=\"T_6285bfb8_abee_11ea_9592_1326ec2e4078row4_col3\" class=\"data row4 col3\" >Exame</td>\n",
       "            </tr>\n",
       "            <tr>\n",
       "                                <th id=\"T_6285bfb8_abee_11ea_9592_1326ec2e4078level1_row5\" class=\"row_heading level1 row5\" >Camila</th>\n",
       "                        <td id=\"T_6285bfb8_abee_11ea_9592_1326ec2e4078row5_col0\" class=\"data row5 col0\" >5</td>\n",
       "                        <td id=\"T_6285bfb8_abee_11ea_9592_1326ec2e4078row5_col1\" class=\"data row5 col1\" >8</td>\n",
       "                        <td id=\"T_6285bfb8_abee_11ea_9592_1326ec2e4078row5_col2\" class=\"data row5 col2\" >6.5</td>\n",
       "                        <td id=\"T_6285bfb8_abee_11ea_9592_1326ec2e4078row5_col3\" class=\"data row5 col3\" >Exame</td>\n",
       "            </tr>\n",
       "            <tr>\n",
       "                                <th id=\"T_6285bfb8_abee_11ea_9592_1326ec2e4078level1_row6\" class=\"row_heading level1 row6\" >Bernardo</th>\n",
       "                        <td id=\"T_6285bfb8_abee_11ea_9592_1326ec2e4078row6_col0\" class=\"data row6 col0\" >4</td>\n",
       "                        <td id=\"T_6285bfb8_abee_11ea_9592_1326ec2e4078row6_col1\" class=\"data row6 col1\" >9</td>\n",
       "                        <td id=\"T_6285bfb8_abee_11ea_9592_1326ec2e4078row6_col2\" class=\"data row6 col2\" >6.5</td>\n",
       "                        <td id=\"T_6285bfb8_abee_11ea_9592_1326ec2e4078row6_col3\" class=\"data row6 col3\" >Exame</td>\n",
       "            </tr>\n",
       "            <tr>\n",
       "                                <th id=\"T_6285bfb8_abee_11ea_9592_1326ec2e4078level1_row7\" class=\"row_heading level1 row7\" >Lazaro</th>\n",
       "                        <td id=\"T_6285bfb8_abee_11ea_9592_1326ec2e4078row7_col0\" class=\"data row7 col0\" >8</td>\n",
       "                        <td id=\"T_6285bfb8_abee_11ea_9592_1326ec2e4078row7_col1\" class=\"data row7 col1\" >4</td>\n",
       "                        <td id=\"T_6285bfb8_abee_11ea_9592_1326ec2e4078row7_col2\" class=\"data row7 col2\" >6</td>\n",
       "                        <td id=\"T_6285bfb8_abee_11ea_9592_1326ec2e4078row7_col3\" class=\"data row7 col3\" >Exame</td>\n",
       "            </tr>\n",
       "            <tr>\n",
       "                        <th id=\"T_6285bfb8_abee_11ea_9592_1326ec2e4078level0_row8\" class=\"row_heading level0 row8\" rowspan=6>Turma 2</th>\n",
       "                        <th id=\"T_6285bfb8_abee_11ea_9592_1326ec2e4078level1_row8\" class=\"row_heading level1 row8\" >Jose</th>\n",
       "                        <td id=\"T_6285bfb8_abee_11ea_9592_1326ec2e4078row8_col0\" class=\"data row8 col0\" >5</td>\n",
       "                        <td id=\"T_6285bfb8_abee_11ea_9592_1326ec2e4078row8_col1\" class=\"data row8 col1\" >7</td>\n",
       "                        <td id=\"T_6285bfb8_abee_11ea_9592_1326ec2e4078row8_col2\" class=\"data row8 col2\" >6</td>\n",
       "                        <td id=\"T_6285bfb8_abee_11ea_9592_1326ec2e4078row8_col3\" class=\"data row8 col3\" >Exame</td>\n",
       "            </tr>\n",
       "            <tr>\n",
       "                                <th id=\"T_6285bfb8_abee_11ea_9592_1326ec2e4078level1_row9\" class=\"row_heading level1 row9\" >Plinio</th>\n",
       "                        <td id=\"T_6285bfb8_abee_11ea_9592_1326ec2e4078row9_col0\" class=\"data row9 col0\" >5</td>\n",
       "                        <td id=\"T_6285bfb8_abee_11ea_9592_1326ec2e4078row9_col1\" class=\"data row9 col1\" >5</td>\n",
       "                        <td id=\"T_6285bfb8_abee_11ea_9592_1326ec2e4078row9_col2\" class=\"data row9 col2\" >5</td>\n",
       "                        <td id=\"T_6285bfb8_abee_11ea_9592_1326ec2e4078row9_col3\" class=\"data row9 col3\" >Exame</td>\n",
       "            </tr>\n",
       "            <tr>\n",
       "                                <th id=\"T_6285bfb8_abee_11ea_9592_1326ec2e4078level1_row10\" class=\"row_heading level1 row10\" >Rogerio</th>\n",
       "                        <td id=\"T_6285bfb8_abee_11ea_9592_1326ec2e4078row10_col0\" class=\"data row10 col0\" >7</td>\n",
       "                        <td id=\"T_6285bfb8_abee_11ea_9592_1326ec2e4078row10_col1\" class=\"data row10 col1\" >4</td>\n",
       "                        <td id=\"T_6285bfb8_abee_11ea_9592_1326ec2e4078row10_col2\" class=\"data row10 col2\" >5.5</td>\n",
       "                        <td id=\"T_6285bfb8_abee_11ea_9592_1326ec2e4078row10_col3\" class=\"data row10 col3\" >Exame</td>\n",
       "            </tr>\n",
       "            <tr>\n",
       "                                <th id=\"T_6285bfb8_abee_11ea_9592_1326ec2e4078level1_row11\" class=\"row_heading level1 row11\" >Mercedes</th>\n",
       "                        <td id=\"T_6285bfb8_abee_11ea_9592_1326ec2e4078row11_col0\" class=\"data row11 col0\" >7</td>\n",
       "                        <td id=\"T_6285bfb8_abee_11ea_9592_1326ec2e4078row11_col1\" class=\"data row11 col1\" >9</td>\n",
       "                        <td id=\"T_6285bfb8_abee_11ea_9592_1326ec2e4078row11_col2\" class=\"data row11 col2\" >8</td>\n",
       "                        <td id=\"T_6285bfb8_abee_11ea_9592_1326ec2e4078row11_col3\" class=\"data row11 col3\" >Aprovado</td>\n",
       "            </tr>\n",
       "            <tr>\n",
       "                                <th id=\"T_6285bfb8_abee_11ea_9592_1326ec2e4078level1_row12\" class=\"row_heading level1 row12\" >Katarina</th>\n",
       "                        <td id=\"T_6285bfb8_abee_11ea_9592_1326ec2e4078row12_col0\" class=\"data row12 col0\" >8</td>\n",
       "                        <td id=\"T_6285bfb8_abee_11ea_9592_1326ec2e4078row12_col1\" class=\"data row12 col1\" >9</td>\n",
       "                        <td id=\"T_6285bfb8_abee_11ea_9592_1326ec2e4078row12_col2\" class=\"data row12 col2\" >8.5</td>\n",
       "                        <td id=\"T_6285bfb8_abee_11ea_9592_1326ec2e4078row12_col3\" class=\"data row12 col3\" >Aprovado</td>\n",
       "            </tr>\n",
       "            <tr>\n",
       "                                <th id=\"T_6285bfb8_abee_11ea_9592_1326ec2e4078level1_row13\" class=\"row_heading level1 row13\" >Larissa</th>\n",
       "                        <td id=\"T_6285bfb8_abee_11ea_9592_1326ec2e4078row13_col0\" class=\"data row13 col0\" >7</td>\n",
       "                        <td id=\"T_6285bfb8_abee_11ea_9592_1326ec2e4078row13_col1\" class=\"data row13 col1\" >10</td>\n",
       "                        <td id=\"T_6285bfb8_abee_11ea_9592_1326ec2e4078row13_col2\" class=\"data row13 col2\" >8.5</td>\n",
       "                        <td id=\"T_6285bfb8_abee_11ea_9592_1326ec2e4078row13_col3\" class=\"data row13 col3\" >Aprovado</td>\n",
       "            </tr>\n",
       "    </tbody></table>"
      ],
      "text/plain": [
       "<pandas.io.formats.style.Styler at 0x7f8568ae8b00>"
      ]
     },
     "execution_count": 134,
     "metadata": {},
     "output_type": "execute_result"
    }
   ],
   "source": [
    "notas_turmas_provas_df.style.apply(destacar_situacao)"
   ]
  },
  {
   "cell_type": "markdown",
   "metadata": {},
   "source": [
    "Podemos criar uma função para colorir as células que apresentam notas vermelhas:"
   ]
  },
  {
   "cell_type": "code",
   "execution_count": 136,
   "metadata": {},
   "outputs": [],
   "source": [
    "def destacar_notas(serie):\n",
    "    \"\"\"\n",
    "    \n",
    "    \"\"\"\n",
    "    list_of_styles = []\n",
    "    \n",
    "    for cell in serie:\n",
    "        if type(cell) == int or type(cell) == float:\n",
    "            if cell >= 7:\n",
    "                list_of_styles.append('background-color: lime')\n",
    "            elif cell < 7:\n",
    "                list_of_styles.append('background-color: red')\n",
    "        \n",
    "        else:\n",
    "            list_of_styles.append('')\n",
    "            \n",
    "    return list_of_styles"
   ]
  },
  {
   "cell_type": "code",
   "execution_count": 137,
   "metadata": {},
   "outputs": [
    {
     "data": {
      "text/html": [
       "<style  type=\"text/css\" >\n",
       "    #T_84db7eb8_abee_11ea_9592_1326ec2e4078row0_col0 {\n",
       "            background-color:  lime;\n",
       "        }    #T_84db7eb8_abee_11ea_9592_1326ec2e4078row0_col1 {\n",
       "            background-color:  lime;\n",
       "        }    #T_84db7eb8_abee_11ea_9592_1326ec2e4078row0_col2 {\n",
       "            background-color:  lime;\n",
       "        }    #T_84db7eb8_abee_11ea_9592_1326ec2e4078row1_col0 {\n",
       "            background-color:  lime;\n",
       "        }    #T_84db7eb8_abee_11ea_9592_1326ec2e4078row1_col1 {\n",
       "            background-color:  lime;\n",
       "        }    #T_84db7eb8_abee_11ea_9592_1326ec2e4078row1_col2 {\n",
       "            background-color:  lime;\n",
       "        }    #T_84db7eb8_abee_11ea_9592_1326ec2e4078row2_col0 {\n",
       "            background-color:  lime;\n",
       "        }    #T_84db7eb8_abee_11ea_9592_1326ec2e4078row2_col1 {\n",
       "            background-color:  lime;\n",
       "        }    #T_84db7eb8_abee_11ea_9592_1326ec2e4078row2_col2 {\n",
       "            background-color:  lime;\n",
       "        }    #T_84db7eb8_abee_11ea_9592_1326ec2e4078row3_col0 {\n",
       "            background-color:  lime;\n",
       "        }    #T_84db7eb8_abee_11ea_9592_1326ec2e4078row3_col1 {\n",
       "            background-color:  red;\n",
       "        }    #T_84db7eb8_abee_11ea_9592_1326ec2e4078row3_col2 {\n",
       "            background-color:  lime;\n",
       "        }    #T_84db7eb8_abee_11ea_9592_1326ec2e4078row4_col0 {\n",
       "            background-color:  red;\n",
       "        }    #T_84db7eb8_abee_11ea_9592_1326ec2e4078row4_col1 {\n",
       "            background-color:  lime;\n",
       "        }    #T_84db7eb8_abee_11ea_9592_1326ec2e4078row4_col2 {\n",
       "            background-color:  red;\n",
       "        }    #T_84db7eb8_abee_11ea_9592_1326ec2e4078row5_col0 {\n",
       "            background-color:  red;\n",
       "        }    #T_84db7eb8_abee_11ea_9592_1326ec2e4078row5_col1 {\n",
       "            background-color:  lime;\n",
       "        }    #T_84db7eb8_abee_11ea_9592_1326ec2e4078row5_col2 {\n",
       "            background-color:  red;\n",
       "        }    #T_84db7eb8_abee_11ea_9592_1326ec2e4078row6_col0 {\n",
       "            background-color:  red;\n",
       "        }    #T_84db7eb8_abee_11ea_9592_1326ec2e4078row6_col1 {\n",
       "            background-color:  lime;\n",
       "        }    #T_84db7eb8_abee_11ea_9592_1326ec2e4078row6_col2 {\n",
       "            background-color:  red;\n",
       "        }    #T_84db7eb8_abee_11ea_9592_1326ec2e4078row7_col0 {\n",
       "            background-color:  lime;\n",
       "        }    #T_84db7eb8_abee_11ea_9592_1326ec2e4078row7_col1 {\n",
       "            background-color:  red;\n",
       "        }    #T_84db7eb8_abee_11ea_9592_1326ec2e4078row7_col2 {\n",
       "            background-color:  red;\n",
       "        }    #T_84db7eb8_abee_11ea_9592_1326ec2e4078row8_col0 {\n",
       "            background-color:  red;\n",
       "        }    #T_84db7eb8_abee_11ea_9592_1326ec2e4078row8_col1 {\n",
       "            background-color:  lime;\n",
       "        }    #T_84db7eb8_abee_11ea_9592_1326ec2e4078row8_col2 {\n",
       "            background-color:  red;\n",
       "        }    #T_84db7eb8_abee_11ea_9592_1326ec2e4078row9_col0 {\n",
       "            background-color:  red;\n",
       "        }    #T_84db7eb8_abee_11ea_9592_1326ec2e4078row9_col1 {\n",
       "            background-color:  red;\n",
       "        }    #T_84db7eb8_abee_11ea_9592_1326ec2e4078row9_col2 {\n",
       "            background-color:  red;\n",
       "        }    #T_84db7eb8_abee_11ea_9592_1326ec2e4078row10_col0 {\n",
       "            background-color:  lime;\n",
       "        }    #T_84db7eb8_abee_11ea_9592_1326ec2e4078row10_col1 {\n",
       "            background-color:  red;\n",
       "        }    #T_84db7eb8_abee_11ea_9592_1326ec2e4078row10_col2 {\n",
       "            background-color:  red;\n",
       "        }    #T_84db7eb8_abee_11ea_9592_1326ec2e4078row11_col0 {\n",
       "            background-color:  lime;\n",
       "        }    #T_84db7eb8_abee_11ea_9592_1326ec2e4078row11_col1 {\n",
       "            background-color:  lime;\n",
       "        }    #T_84db7eb8_abee_11ea_9592_1326ec2e4078row11_col2 {\n",
       "            background-color:  lime;\n",
       "        }    #T_84db7eb8_abee_11ea_9592_1326ec2e4078row12_col0 {\n",
       "            background-color:  lime;\n",
       "        }    #T_84db7eb8_abee_11ea_9592_1326ec2e4078row12_col1 {\n",
       "            background-color:  lime;\n",
       "        }    #T_84db7eb8_abee_11ea_9592_1326ec2e4078row12_col2 {\n",
       "            background-color:  lime;\n",
       "        }    #T_84db7eb8_abee_11ea_9592_1326ec2e4078row13_col0 {\n",
       "            background-color:  lime;\n",
       "        }    #T_84db7eb8_abee_11ea_9592_1326ec2e4078row13_col1 {\n",
       "            background-color:  lime;\n",
       "        }    #T_84db7eb8_abee_11ea_9592_1326ec2e4078row13_col2 {\n",
       "            background-color:  lime;\n",
       "        }</style><table id=\"T_84db7eb8_abee_11ea_9592_1326ec2e4078\" ><thead>    <tr>        <th class=\"blank\" ></th>        <th class=\"blank level0\" ></th>        <th class=\"col_heading level0 col0\" >Prova 1</th>        <th class=\"col_heading level0 col1\" >Prova 2</th>        <th class=\"col_heading level0 col2\" >Media</th>        <th class=\"col_heading level0 col3\" >Situacao</th>    </tr></thead><tbody>\n",
       "                <tr>\n",
       "                        <th id=\"T_84db7eb8_abee_11ea_9592_1326ec2e4078level0_row0\" class=\"row_heading level0 row0\" rowspan=8>Turma 1</th>\n",
       "                        <th id=\"T_84db7eb8_abee_11ea_9592_1326ec2e4078level1_row0\" class=\"row_heading level1 row0\" >Joao</th>\n",
       "                        <td id=\"T_84db7eb8_abee_11ea_9592_1326ec2e4078row0_col0\" class=\"data row0 col0\" >7</td>\n",
       "                        <td id=\"T_84db7eb8_abee_11ea_9592_1326ec2e4078row0_col1\" class=\"data row0 col1\" >7</td>\n",
       "                        <td id=\"T_84db7eb8_abee_11ea_9592_1326ec2e4078row0_col2\" class=\"data row0 col2\" >7</td>\n",
       "                        <td id=\"T_84db7eb8_abee_11ea_9592_1326ec2e4078row0_col3\" class=\"data row0 col3\" >Aprovado</td>\n",
       "            </tr>\n",
       "            <tr>\n",
       "                                <th id=\"T_84db7eb8_abee_11ea_9592_1326ec2e4078level1_row1\" class=\"row_heading level1 row1\" >Maria</th>\n",
       "                        <td id=\"T_84db7eb8_abee_11ea_9592_1326ec2e4078row1_col0\" class=\"data row1 col0\" >8</td>\n",
       "                        <td id=\"T_84db7eb8_abee_11ea_9592_1326ec2e4078row1_col1\" class=\"data row1 col1\" >9</td>\n",
       "                        <td id=\"T_84db7eb8_abee_11ea_9592_1326ec2e4078row1_col2\" class=\"data row1 col2\" >8.5</td>\n",
       "                        <td id=\"T_84db7eb8_abee_11ea_9592_1326ec2e4078row1_col3\" class=\"data row1 col3\" >Aprovado</td>\n",
       "            </tr>\n",
       "            <tr>\n",
       "                                <th id=\"T_84db7eb8_abee_11ea_9592_1326ec2e4078level1_row2\" class=\"row_heading level1 row2\" >Heraldo</th>\n",
       "                        <td id=\"T_84db7eb8_abee_11ea_9592_1326ec2e4078row2_col0\" class=\"data row2 col0\" >9</td>\n",
       "                        <td id=\"T_84db7eb8_abee_11ea_9592_1326ec2e4078row2_col1\" class=\"data row2 col1\" >7</td>\n",
       "                        <td id=\"T_84db7eb8_abee_11ea_9592_1326ec2e4078row2_col2\" class=\"data row2 col2\" >8</td>\n",
       "                        <td id=\"T_84db7eb8_abee_11ea_9592_1326ec2e4078row2_col3\" class=\"data row2 col3\" >Aprovado</td>\n",
       "            </tr>\n",
       "            <tr>\n",
       "                                <th id=\"T_84db7eb8_abee_11ea_9592_1326ec2e4078level1_row3\" class=\"row_heading level1 row3\" >Helena</th>\n",
       "                        <td id=\"T_84db7eb8_abee_11ea_9592_1326ec2e4078row3_col0\" class=\"data row3 col0\" >10</td>\n",
       "                        <td id=\"T_84db7eb8_abee_11ea_9592_1326ec2e4078row3_col1\" class=\"data row3 col1\" >5</td>\n",
       "                        <td id=\"T_84db7eb8_abee_11ea_9592_1326ec2e4078row3_col2\" class=\"data row3 col2\" >7.5</td>\n",
       "                        <td id=\"T_84db7eb8_abee_11ea_9592_1326ec2e4078row3_col3\" class=\"data row3 col3\" >Aprovado</td>\n",
       "            </tr>\n",
       "            <tr>\n",
       "                                <th id=\"T_84db7eb8_abee_11ea_9592_1326ec2e4078level1_row4\" class=\"row_heading level1 row4\" >Eduardo</th>\n",
       "                        <td id=\"T_84db7eb8_abee_11ea_9592_1326ec2e4078row4_col0\" class=\"data row4 col0\" >5</td>\n",
       "                        <td id=\"T_84db7eb8_abee_11ea_9592_1326ec2e4078row4_col1\" class=\"data row4 col1\" >7</td>\n",
       "                        <td id=\"T_84db7eb8_abee_11ea_9592_1326ec2e4078row4_col2\" class=\"data row4 col2\" >6</td>\n",
       "                        <td id=\"T_84db7eb8_abee_11ea_9592_1326ec2e4078row4_col3\" class=\"data row4 col3\" >Exame</td>\n",
       "            </tr>\n",
       "            <tr>\n",
       "                                <th id=\"T_84db7eb8_abee_11ea_9592_1326ec2e4078level1_row5\" class=\"row_heading level1 row5\" >Camila</th>\n",
       "                        <td id=\"T_84db7eb8_abee_11ea_9592_1326ec2e4078row5_col0\" class=\"data row5 col0\" >5</td>\n",
       "                        <td id=\"T_84db7eb8_abee_11ea_9592_1326ec2e4078row5_col1\" class=\"data row5 col1\" >8</td>\n",
       "                        <td id=\"T_84db7eb8_abee_11ea_9592_1326ec2e4078row5_col2\" class=\"data row5 col2\" >6.5</td>\n",
       "                        <td id=\"T_84db7eb8_abee_11ea_9592_1326ec2e4078row5_col3\" class=\"data row5 col3\" >Exame</td>\n",
       "            </tr>\n",
       "            <tr>\n",
       "                                <th id=\"T_84db7eb8_abee_11ea_9592_1326ec2e4078level1_row6\" class=\"row_heading level1 row6\" >Bernardo</th>\n",
       "                        <td id=\"T_84db7eb8_abee_11ea_9592_1326ec2e4078row6_col0\" class=\"data row6 col0\" >4</td>\n",
       "                        <td id=\"T_84db7eb8_abee_11ea_9592_1326ec2e4078row6_col1\" class=\"data row6 col1\" >9</td>\n",
       "                        <td id=\"T_84db7eb8_abee_11ea_9592_1326ec2e4078row6_col2\" class=\"data row6 col2\" >6.5</td>\n",
       "                        <td id=\"T_84db7eb8_abee_11ea_9592_1326ec2e4078row6_col3\" class=\"data row6 col3\" >Exame</td>\n",
       "            </tr>\n",
       "            <tr>\n",
       "                                <th id=\"T_84db7eb8_abee_11ea_9592_1326ec2e4078level1_row7\" class=\"row_heading level1 row7\" >Lazaro</th>\n",
       "                        <td id=\"T_84db7eb8_abee_11ea_9592_1326ec2e4078row7_col0\" class=\"data row7 col0\" >8</td>\n",
       "                        <td id=\"T_84db7eb8_abee_11ea_9592_1326ec2e4078row7_col1\" class=\"data row7 col1\" >4</td>\n",
       "                        <td id=\"T_84db7eb8_abee_11ea_9592_1326ec2e4078row7_col2\" class=\"data row7 col2\" >6</td>\n",
       "                        <td id=\"T_84db7eb8_abee_11ea_9592_1326ec2e4078row7_col3\" class=\"data row7 col3\" >Exame</td>\n",
       "            </tr>\n",
       "            <tr>\n",
       "                        <th id=\"T_84db7eb8_abee_11ea_9592_1326ec2e4078level0_row8\" class=\"row_heading level0 row8\" rowspan=6>Turma 2</th>\n",
       "                        <th id=\"T_84db7eb8_abee_11ea_9592_1326ec2e4078level1_row8\" class=\"row_heading level1 row8\" >Jose</th>\n",
       "                        <td id=\"T_84db7eb8_abee_11ea_9592_1326ec2e4078row8_col0\" class=\"data row8 col0\" >5</td>\n",
       "                        <td id=\"T_84db7eb8_abee_11ea_9592_1326ec2e4078row8_col1\" class=\"data row8 col1\" >7</td>\n",
       "                        <td id=\"T_84db7eb8_abee_11ea_9592_1326ec2e4078row8_col2\" class=\"data row8 col2\" >6</td>\n",
       "                        <td id=\"T_84db7eb8_abee_11ea_9592_1326ec2e4078row8_col3\" class=\"data row8 col3\" >Exame</td>\n",
       "            </tr>\n",
       "            <tr>\n",
       "                                <th id=\"T_84db7eb8_abee_11ea_9592_1326ec2e4078level1_row9\" class=\"row_heading level1 row9\" >Plinio</th>\n",
       "                        <td id=\"T_84db7eb8_abee_11ea_9592_1326ec2e4078row9_col0\" class=\"data row9 col0\" >5</td>\n",
       "                        <td id=\"T_84db7eb8_abee_11ea_9592_1326ec2e4078row9_col1\" class=\"data row9 col1\" >5</td>\n",
       "                        <td id=\"T_84db7eb8_abee_11ea_9592_1326ec2e4078row9_col2\" class=\"data row9 col2\" >5</td>\n",
       "                        <td id=\"T_84db7eb8_abee_11ea_9592_1326ec2e4078row9_col3\" class=\"data row9 col3\" >Exame</td>\n",
       "            </tr>\n",
       "            <tr>\n",
       "                                <th id=\"T_84db7eb8_abee_11ea_9592_1326ec2e4078level1_row10\" class=\"row_heading level1 row10\" >Rogerio</th>\n",
       "                        <td id=\"T_84db7eb8_abee_11ea_9592_1326ec2e4078row10_col0\" class=\"data row10 col0\" >7</td>\n",
       "                        <td id=\"T_84db7eb8_abee_11ea_9592_1326ec2e4078row10_col1\" class=\"data row10 col1\" >4</td>\n",
       "                        <td id=\"T_84db7eb8_abee_11ea_9592_1326ec2e4078row10_col2\" class=\"data row10 col2\" >5.5</td>\n",
       "                        <td id=\"T_84db7eb8_abee_11ea_9592_1326ec2e4078row10_col3\" class=\"data row10 col3\" >Exame</td>\n",
       "            </tr>\n",
       "            <tr>\n",
       "                                <th id=\"T_84db7eb8_abee_11ea_9592_1326ec2e4078level1_row11\" class=\"row_heading level1 row11\" >Mercedes</th>\n",
       "                        <td id=\"T_84db7eb8_abee_11ea_9592_1326ec2e4078row11_col0\" class=\"data row11 col0\" >7</td>\n",
       "                        <td id=\"T_84db7eb8_abee_11ea_9592_1326ec2e4078row11_col1\" class=\"data row11 col1\" >9</td>\n",
       "                        <td id=\"T_84db7eb8_abee_11ea_9592_1326ec2e4078row11_col2\" class=\"data row11 col2\" >8</td>\n",
       "                        <td id=\"T_84db7eb8_abee_11ea_9592_1326ec2e4078row11_col3\" class=\"data row11 col3\" >Aprovado</td>\n",
       "            </tr>\n",
       "            <tr>\n",
       "                                <th id=\"T_84db7eb8_abee_11ea_9592_1326ec2e4078level1_row12\" class=\"row_heading level1 row12\" >Katarina</th>\n",
       "                        <td id=\"T_84db7eb8_abee_11ea_9592_1326ec2e4078row12_col0\" class=\"data row12 col0\" >8</td>\n",
       "                        <td id=\"T_84db7eb8_abee_11ea_9592_1326ec2e4078row12_col1\" class=\"data row12 col1\" >9</td>\n",
       "                        <td id=\"T_84db7eb8_abee_11ea_9592_1326ec2e4078row12_col2\" class=\"data row12 col2\" >8.5</td>\n",
       "                        <td id=\"T_84db7eb8_abee_11ea_9592_1326ec2e4078row12_col3\" class=\"data row12 col3\" >Aprovado</td>\n",
       "            </tr>\n",
       "            <tr>\n",
       "                                <th id=\"T_84db7eb8_abee_11ea_9592_1326ec2e4078level1_row13\" class=\"row_heading level1 row13\" >Larissa</th>\n",
       "                        <td id=\"T_84db7eb8_abee_11ea_9592_1326ec2e4078row13_col0\" class=\"data row13 col0\" >7</td>\n",
       "                        <td id=\"T_84db7eb8_abee_11ea_9592_1326ec2e4078row13_col1\" class=\"data row13 col1\" >10</td>\n",
       "                        <td id=\"T_84db7eb8_abee_11ea_9592_1326ec2e4078row13_col2\" class=\"data row13 col2\" >8.5</td>\n",
       "                        <td id=\"T_84db7eb8_abee_11ea_9592_1326ec2e4078row13_col3\" class=\"data row13 col3\" >Aprovado</td>\n",
       "            </tr>\n",
       "    </tbody></table>"
      ],
      "text/plain": [
       "<pandas.io.formats.style.Styler at 0x7f856a210358>"
      ]
     },
     "execution_count": 137,
     "metadata": {},
     "output_type": "execute_result"
    }
   ],
   "source": [
    "notas_turmas_provas_df.style.apply(destacar_notas)"
   ]
  },
  {
   "cell_type": "markdown",
   "metadata": {},
   "source": [
    "Tente criar uma função que faça a coloração das notas e das situações simultaneamte. Chame essa função de ``destacar_notas_e_situacao``."
   ]
  },
  {
   "cell_type": "code",
   "execution_count": null,
   "metadata": {},
   "outputs": [],
   "source": [
    "# digite seu código aqui: dica, tente juntar as condições das duas funções definidas anteriormente\n"
   ]
  },
  {
   "cell_type": "markdown",
   "metadata": {},
   "source": [
    "Não conseguiu? **Clique duas vezes aqui** e dê uma espiada na resposta =)\n",
    "\n",
    "<!--\n",
    "def destacar_notas_e_situacao(serie):\n",
    "    \"\"\"\n",
    "    \n",
    "    \"\"\"\n",
    "    list_of_styles = []\n",
    "    \n",
    "    for cell in serie:\n",
    "        if type(cell) == int or type(cell) == float:\n",
    "            if cell >= 7:\n",
    "                list_of_styles.append('background-color: lime')\n",
    "            elif cell < 7:\n",
    "                list_of_styles.append('background-color: red')\n",
    "        \n",
    "        elif type(cell) == str:\n",
    "            if cell == 'Aprovado':\n",
    "                list_of_styles.append('background-color: steelblue')\n",
    "            elif cell == 'Exame':\n",
    "                list_of_styles.append('background-color: orange')\n",
    "            \n",
    "    return list_of_styles\n",
    "-->"
   ]
  },
  {
   "cell_type": "markdown",
   "metadata": {},
   "source": [
    "Seu ``DataFrame`` deverá ficar assim:"
   ]
  },
  {
   "cell_type": "code",
   "execution_count": 139,
   "metadata": {},
   "outputs": [
    {
     "data": {
      "text/html": [
       "<style  type=\"text/css\" >\n",
       "    #T_905ce9b6_abee_11ea_9592_1326ec2e4078row0_col0 {\n",
       "            background-color:  lime;\n",
       "        }    #T_905ce9b6_abee_11ea_9592_1326ec2e4078row0_col1 {\n",
       "            background-color:  lime;\n",
       "        }    #T_905ce9b6_abee_11ea_9592_1326ec2e4078row0_col2 {\n",
       "            background-color:  lime;\n",
       "        }    #T_905ce9b6_abee_11ea_9592_1326ec2e4078row0_col3 {\n",
       "            background-color:  steelblue;\n",
       "        }    #T_905ce9b6_abee_11ea_9592_1326ec2e4078row1_col0 {\n",
       "            background-color:  lime;\n",
       "        }    #T_905ce9b6_abee_11ea_9592_1326ec2e4078row1_col1 {\n",
       "            background-color:  lime;\n",
       "        }    #T_905ce9b6_abee_11ea_9592_1326ec2e4078row1_col2 {\n",
       "            background-color:  lime;\n",
       "        }    #T_905ce9b6_abee_11ea_9592_1326ec2e4078row1_col3 {\n",
       "            background-color:  steelblue;\n",
       "        }    #T_905ce9b6_abee_11ea_9592_1326ec2e4078row2_col0 {\n",
       "            background-color:  lime;\n",
       "        }    #T_905ce9b6_abee_11ea_9592_1326ec2e4078row2_col1 {\n",
       "            background-color:  lime;\n",
       "        }    #T_905ce9b6_abee_11ea_9592_1326ec2e4078row2_col2 {\n",
       "            background-color:  lime;\n",
       "        }    #T_905ce9b6_abee_11ea_9592_1326ec2e4078row2_col3 {\n",
       "            background-color:  steelblue;\n",
       "        }    #T_905ce9b6_abee_11ea_9592_1326ec2e4078row3_col0 {\n",
       "            background-color:  lime;\n",
       "        }    #T_905ce9b6_abee_11ea_9592_1326ec2e4078row3_col1 {\n",
       "            background-color:  red;\n",
       "        }    #T_905ce9b6_abee_11ea_9592_1326ec2e4078row3_col2 {\n",
       "            background-color:  lime;\n",
       "        }    #T_905ce9b6_abee_11ea_9592_1326ec2e4078row3_col3 {\n",
       "            background-color:  steelblue;\n",
       "        }    #T_905ce9b6_abee_11ea_9592_1326ec2e4078row4_col0 {\n",
       "            background-color:  red;\n",
       "        }    #T_905ce9b6_abee_11ea_9592_1326ec2e4078row4_col1 {\n",
       "            background-color:  lime;\n",
       "        }    #T_905ce9b6_abee_11ea_9592_1326ec2e4078row4_col2 {\n",
       "            background-color:  red;\n",
       "        }    #T_905ce9b6_abee_11ea_9592_1326ec2e4078row4_col3 {\n",
       "            background-color:  orange;\n",
       "        }    #T_905ce9b6_abee_11ea_9592_1326ec2e4078row5_col0 {\n",
       "            background-color:  red;\n",
       "        }    #T_905ce9b6_abee_11ea_9592_1326ec2e4078row5_col1 {\n",
       "            background-color:  lime;\n",
       "        }    #T_905ce9b6_abee_11ea_9592_1326ec2e4078row5_col2 {\n",
       "            background-color:  red;\n",
       "        }    #T_905ce9b6_abee_11ea_9592_1326ec2e4078row5_col3 {\n",
       "            background-color:  orange;\n",
       "        }    #T_905ce9b6_abee_11ea_9592_1326ec2e4078row6_col0 {\n",
       "            background-color:  red;\n",
       "        }    #T_905ce9b6_abee_11ea_9592_1326ec2e4078row6_col1 {\n",
       "            background-color:  lime;\n",
       "        }    #T_905ce9b6_abee_11ea_9592_1326ec2e4078row6_col2 {\n",
       "            background-color:  red;\n",
       "        }    #T_905ce9b6_abee_11ea_9592_1326ec2e4078row6_col3 {\n",
       "            background-color:  orange;\n",
       "        }    #T_905ce9b6_abee_11ea_9592_1326ec2e4078row7_col0 {\n",
       "            background-color:  lime;\n",
       "        }    #T_905ce9b6_abee_11ea_9592_1326ec2e4078row7_col1 {\n",
       "            background-color:  red;\n",
       "        }    #T_905ce9b6_abee_11ea_9592_1326ec2e4078row7_col2 {\n",
       "            background-color:  red;\n",
       "        }    #T_905ce9b6_abee_11ea_9592_1326ec2e4078row7_col3 {\n",
       "            background-color:  orange;\n",
       "        }    #T_905ce9b6_abee_11ea_9592_1326ec2e4078row8_col0 {\n",
       "            background-color:  red;\n",
       "        }    #T_905ce9b6_abee_11ea_9592_1326ec2e4078row8_col1 {\n",
       "            background-color:  lime;\n",
       "        }    #T_905ce9b6_abee_11ea_9592_1326ec2e4078row8_col2 {\n",
       "            background-color:  red;\n",
       "        }    #T_905ce9b6_abee_11ea_9592_1326ec2e4078row8_col3 {\n",
       "            background-color:  orange;\n",
       "        }    #T_905ce9b6_abee_11ea_9592_1326ec2e4078row9_col0 {\n",
       "            background-color:  red;\n",
       "        }    #T_905ce9b6_abee_11ea_9592_1326ec2e4078row9_col1 {\n",
       "            background-color:  red;\n",
       "        }    #T_905ce9b6_abee_11ea_9592_1326ec2e4078row9_col2 {\n",
       "            background-color:  red;\n",
       "        }    #T_905ce9b6_abee_11ea_9592_1326ec2e4078row9_col3 {\n",
       "            background-color:  orange;\n",
       "        }    #T_905ce9b6_abee_11ea_9592_1326ec2e4078row10_col0 {\n",
       "            background-color:  lime;\n",
       "        }    #T_905ce9b6_abee_11ea_9592_1326ec2e4078row10_col1 {\n",
       "            background-color:  red;\n",
       "        }    #T_905ce9b6_abee_11ea_9592_1326ec2e4078row10_col2 {\n",
       "            background-color:  red;\n",
       "        }    #T_905ce9b6_abee_11ea_9592_1326ec2e4078row10_col3 {\n",
       "            background-color:  orange;\n",
       "        }    #T_905ce9b6_abee_11ea_9592_1326ec2e4078row11_col0 {\n",
       "            background-color:  lime;\n",
       "        }    #T_905ce9b6_abee_11ea_9592_1326ec2e4078row11_col1 {\n",
       "            background-color:  lime;\n",
       "        }    #T_905ce9b6_abee_11ea_9592_1326ec2e4078row11_col2 {\n",
       "            background-color:  lime;\n",
       "        }    #T_905ce9b6_abee_11ea_9592_1326ec2e4078row11_col3 {\n",
       "            background-color:  steelblue;\n",
       "        }    #T_905ce9b6_abee_11ea_9592_1326ec2e4078row12_col0 {\n",
       "            background-color:  lime;\n",
       "        }    #T_905ce9b6_abee_11ea_9592_1326ec2e4078row12_col1 {\n",
       "            background-color:  lime;\n",
       "        }    #T_905ce9b6_abee_11ea_9592_1326ec2e4078row12_col2 {\n",
       "            background-color:  lime;\n",
       "        }    #T_905ce9b6_abee_11ea_9592_1326ec2e4078row12_col3 {\n",
       "            background-color:  steelblue;\n",
       "        }    #T_905ce9b6_abee_11ea_9592_1326ec2e4078row13_col0 {\n",
       "            background-color:  lime;\n",
       "        }    #T_905ce9b6_abee_11ea_9592_1326ec2e4078row13_col1 {\n",
       "            background-color:  lime;\n",
       "        }    #T_905ce9b6_abee_11ea_9592_1326ec2e4078row13_col2 {\n",
       "            background-color:  lime;\n",
       "        }    #T_905ce9b6_abee_11ea_9592_1326ec2e4078row13_col3 {\n",
       "            background-color:  steelblue;\n",
       "        }</style><table id=\"T_905ce9b6_abee_11ea_9592_1326ec2e4078\" ><thead>    <tr>        <th class=\"blank\" ></th>        <th class=\"blank level0\" ></th>        <th class=\"col_heading level0 col0\" >Prova 1</th>        <th class=\"col_heading level0 col1\" >Prova 2</th>        <th class=\"col_heading level0 col2\" >Media</th>        <th class=\"col_heading level0 col3\" >Situacao</th>    </tr></thead><tbody>\n",
       "                <tr>\n",
       "                        <th id=\"T_905ce9b6_abee_11ea_9592_1326ec2e4078level0_row0\" class=\"row_heading level0 row0\" rowspan=8>Turma 1</th>\n",
       "                        <th id=\"T_905ce9b6_abee_11ea_9592_1326ec2e4078level1_row0\" class=\"row_heading level1 row0\" >Joao</th>\n",
       "                        <td id=\"T_905ce9b6_abee_11ea_9592_1326ec2e4078row0_col0\" class=\"data row0 col0\" >7</td>\n",
       "                        <td id=\"T_905ce9b6_abee_11ea_9592_1326ec2e4078row0_col1\" class=\"data row0 col1\" >7</td>\n",
       "                        <td id=\"T_905ce9b6_abee_11ea_9592_1326ec2e4078row0_col2\" class=\"data row0 col2\" >7</td>\n",
       "                        <td id=\"T_905ce9b6_abee_11ea_9592_1326ec2e4078row0_col3\" class=\"data row0 col3\" >Aprovado</td>\n",
       "            </tr>\n",
       "            <tr>\n",
       "                                <th id=\"T_905ce9b6_abee_11ea_9592_1326ec2e4078level1_row1\" class=\"row_heading level1 row1\" >Maria</th>\n",
       "                        <td id=\"T_905ce9b6_abee_11ea_9592_1326ec2e4078row1_col0\" class=\"data row1 col0\" >8</td>\n",
       "                        <td id=\"T_905ce9b6_abee_11ea_9592_1326ec2e4078row1_col1\" class=\"data row1 col1\" >9</td>\n",
       "                        <td id=\"T_905ce9b6_abee_11ea_9592_1326ec2e4078row1_col2\" class=\"data row1 col2\" >8.5</td>\n",
       "                        <td id=\"T_905ce9b6_abee_11ea_9592_1326ec2e4078row1_col3\" class=\"data row1 col3\" >Aprovado</td>\n",
       "            </tr>\n",
       "            <tr>\n",
       "                                <th id=\"T_905ce9b6_abee_11ea_9592_1326ec2e4078level1_row2\" class=\"row_heading level1 row2\" >Heraldo</th>\n",
       "                        <td id=\"T_905ce9b6_abee_11ea_9592_1326ec2e4078row2_col0\" class=\"data row2 col0\" >9</td>\n",
       "                        <td id=\"T_905ce9b6_abee_11ea_9592_1326ec2e4078row2_col1\" class=\"data row2 col1\" >7</td>\n",
       "                        <td id=\"T_905ce9b6_abee_11ea_9592_1326ec2e4078row2_col2\" class=\"data row2 col2\" >8</td>\n",
       "                        <td id=\"T_905ce9b6_abee_11ea_9592_1326ec2e4078row2_col3\" class=\"data row2 col3\" >Aprovado</td>\n",
       "            </tr>\n",
       "            <tr>\n",
       "                                <th id=\"T_905ce9b6_abee_11ea_9592_1326ec2e4078level1_row3\" class=\"row_heading level1 row3\" >Helena</th>\n",
       "                        <td id=\"T_905ce9b6_abee_11ea_9592_1326ec2e4078row3_col0\" class=\"data row3 col0\" >10</td>\n",
       "                        <td id=\"T_905ce9b6_abee_11ea_9592_1326ec2e4078row3_col1\" class=\"data row3 col1\" >5</td>\n",
       "                        <td id=\"T_905ce9b6_abee_11ea_9592_1326ec2e4078row3_col2\" class=\"data row3 col2\" >7.5</td>\n",
       "                        <td id=\"T_905ce9b6_abee_11ea_9592_1326ec2e4078row3_col3\" class=\"data row3 col3\" >Aprovado</td>\n",
       "            </tr>\n",
       "            <tr>\n",
       "                                <th id=\"T_905ce9b6_abee_11ea_9592_1326ec2e4078level1_row4\" class=\"row_heading level1 row4\" >Eduardo</th>\n",
       "                        <td id=\"T_905ce9b6_abee_11ea_9592_1326ec2e4078row4_col0\" class=\"data row4 col0\" >5</td>\n",
       "                        <td id=\"T_905ce9b6_abee_11ea_9592_1326ec2e4078row4_col1\" class=\"data row4 col1\" >7</td>\n",
       "                        <td id=\"T_905ce9b6_abee_11ea_9592_1326ec2e4078row4_col2\" class=\"data row4 col2\" >6</td>\n",
       "                        <td id=\"T_905ce9b6_abee_11ea_9592_1326ec2e4078row4_col3\" class=\"data row4 col3\" >Exame</td>\n",
       "            </tr>\n",
       "            <tr>\n",
       "                                <th id=\"T_905ce9b6_abee_11ea_9592_1326ec2e4078level1_row5\" class=\"row_heading level1 row5\" >Camila</th>\n",
       "                        <td id=\"T_905ce9b6_abee_11ea_9592_1326ec2e4078row5_col0\" class=\"data row5 col0\" >5</td>\n",
       "                        <td id=\"T_905ce9b6_abee_11ea_9592_1326ec2e4078row5_col1\" class=\"data row5 col1\" >8</td>\n",
       "                        <td id=\"T_905ce9b6_abee_11ea_9592_1326ec2e4078row5_col2\" class=\"data row5 col2\" >6.5</td>\n",
       "                        <td id=\"T_905ce9b6_abee_11ea_9592_1326ec2e4078row5_col3\" class=\"data row5 col3\" >Exame</td>\n",
       "            </tr>\n",
       "            <tr>\n",
       "                                <th id=\"T_905ce9b6_abee_11ea_9592_1326ec2e4078level1_row6\" class=\"row_heading level1 row6\" >Bernardo</th>\n",
       "                        <td id=\"T_905ce9b6_abee_11ea_9592_1326ec2e4078row6_col0\" class=\"data row6 col0\" >4</td>\n",
       "                        <td id=\"T_905ce9b6_abee_11ea_9592_1326ec2e4078row6_col1\" class=\"data row6 col1\" >9</td>\n",
       "                        <td id=\"T_905ce9b6_abee_11ea_9592_1326ec2e4078row6_col2\" class=\"data row6 col2\" >6.5</td>\n",
       "                        <td id=\"T_905ce9b6_abee_11ea_9592_1326ec2e4078row6_col3\" class=\"data row6 col3\" >Exame</td>\n",
       "            </tr>\n",
       "            <tr>\n",
       "                                <th id=\"T_905ce9b6_abee_11ea_9592_1326ec2e4078level1_row7\" class=\"row_heading level1 row7\" >Lazaro</th>\n",
       "                        <td id=\"T_905ce9b6_abee_11ea_9592_1326ec2e4078row7_col0\" class=\"data row7 col0\" >8</td>\n",
       "                        <td id=\"T_905ce9b6_abee_11ea_9592_1326ec2e4078row7_col1\" class=\"data row7 col1\" >4</td>\n",
       "                        <td id=\"T_905ce9b6_abee_11ea_9592_1326ec2e4078row7_col2\" class=\"data row7 col2\" >6</td>\n",
       "                        <td id=\"T_905ce9b6_abee_11ea_9592_1326ec2e4078row7_col3\" class=\"data row7 col3\" >Exame</td>\n",
       "            </tr>\n",
       "            <tr>\n",
       "                        <th id=\"T_905ce9b6_abee_11ea_9592_1326ec2e4078level0_row8\" class=\"row_heading level0 row8\" rowspan=6>Turma 2</th>\n",
       "                        <th id=\"T_905ce9b6_abee_11ea_9592_1326ec2e4078level1_row8\" class=\"row_heading level1 row8\" >Jose</th>\n",
       "                        <td id=\"T_905ce9b6_abee_11ea_9592_1326ec2e4078row8_col0\" class=\"data row8 col0\" >5</td>\n",
       "                        <td id=\"T_905ce9b6_abee_11ea_9592_1326ec2e4078row8_col1\" class=\"data row8 col1\" >7</td>\n",
       "                        <td id=\"T_905ce9b6_abee_11ea_9592_1326ec2e4078row8_col2\" class=\"data row8 col2\" >6</td>\n",
       "                        <td id=\"T_905ce9b6_abee_11ea_9592_1326ec2e4078row8_col3\" class=\"data row8 col3\" >Exame</td>\n",
       "            </tr>\n",
       "            <tr>\n",
       "                                <th id=\"T_905ce9b6_abee_11ea_9592_1326ec2e4078level1_row9\" class=\"row_heading level1 row9\" >Plinio</th>\n",
       "                        <td id=\"T_905ce9b6_abee_11ea_9592_1326ec2e4078row9_col0\" class=\"data row9 col0\" >5</td>\n",
       "                        <td id=\"T_905ce9b6_abee_11ea_9592_1326ec2e4078row9_col1\" class=\"data row9 col1\" >5</td>\n",
       "                        <td id=\"T_905ce9b6_abee_11ea_9592_1326ec2e4078row9_col2\" class=\"data row9 col2\" >5</td>\n",
       "                        <td id=\"T_905ce9b6_abee_11ea_9592_1326ec2e4078row9_col3\" class=\"data row9 col3\" >Exame</td>\n",
       "            </tr>\n",
       "            <tr>\n",
       "                                <th id=\"T_905ce9b6_abee_11ea_9592_1326ec2e4078level1_row10\" class=\"row_heading level1 row10\" >Rogerio</th>\n",
       "                        <td id=\"T_905ce9b6_abee_11ea_9592_1326ec2e4078row10_col0\" class=\"data row10 col0\" >7</td>\n",
       "                        <td id=\"T_905ce9b6_abee_11ea_9592_1326ec2e4078row10_col1\" class=\"data row10 col1\" >4</td>\n",
       "                        <td id=\"T_905ce9b6_abee_11ea_9592_1326ec2e4078row10_col2\" class=\"data row10 col2\" >5.5</td>\n",
       "                        <td id=\"T_905ce9b6_abee_11ea_9592_1326ec2e4078row10_col3\" class=\"data row10 col3\" >Exame</td>\n",
       "            </tr>\n",
       "            <tr>\n",
       "                                <th id=\"T_905ce9b6_abee_11ea_9592_1326ec2e4078level1_row11\" class=\"row_heading level1 row11\" >Mercedes</th>\n",
       "                        <td id=\"T_905ce9b6_abee_11ea_9592_1326ec2e4078row11_col0\" class=\"data row11 col0\" >7</td>\n",
       "                        <td id=\"T_905ce9b6_abee_11ea_9592_1326ec2e4078row11_col1\" class=\"data row11 col1\" >9</td>\n",
       "                        <td id=\"T_905ce9b6_abee_11ea_9592_1326ec2e4078row11_col2\" class=\"data row11 col2\" >8</td>\n",
       "                        <td id=\"T_905ce9b6_abee_11ea_9592_1326ec2e4078row11_col3\" class=\"data row11 col3\" >Aprovado</td>\n",
       "            </tr>\n",
       "            <tr>\n",
       "                                <th id=\"T_905ce9b6_abee_11ea_9592_1326ec2e4078level1_row12\" class=\"row_heading level1 row12\" >Katarina</th>\n",
       "                        <td id=\"T_905ce9b6_abee_11ea_9592_1326ec2e4078row12_col0\" class=\"data row12 col0\" >8</td>\n",
       "                        <td id=\"T_905ce9b6_abee_11ea_9592_1326ec2e4078row12_col1\" class=\"data row12 col1\" >9</td>\n",
       "                        <td id=\"T_905ce9b6_abee_11ea_9592_1326ec2e4078row12_col2\" class=\"data row12 col2\" >8.5</td>\n",
       "                        <td id=\"T_905ce9b6_abee_11ea_9592_1326ec2e4078row12_col3\" class=\"data row12 col3\" >Aprovado</td>\n",
       "            </tr>\n",
       "            <tr>\n",
       "                                <th id=\"T_905ce9b6_abee_11ea_9592_1326ec2e4078level1_row13\" class=\"row_heading level1 row13\" >Larissa</th>\n",
       "                        <td id=\"T_905ce9b6_abee_11ea_9592_1326ec2e4078row13_col0\" class=\"data row13 col0\" >7</td>\n",
       "                        <td id=\"T_905ce9b6_abee_11ea_9592_1326ec2e4078row13_col1\" class=\"data row13 col1\" >10</td>\n",
       "                        <td id=\"T_905ce9b6_abee_11ea_9592_1326ec2e4078row13_col2\" class=\"data row13 col2\" >8.5</td>\n",
       "                        <td id=\"T_905ce9b6_abee_11ea_9592_1326ec2e4078row13_col3\" class=\"data row13 col3\" >Aprovado</td>\n",
       "            </tr>\n",
       "    </tbody></table>"
      ],
      "text/plain": [
       "<pandas.io.formats.style.Styler at 0x7f856a2121d0>"
      ]
     },
     "execution_count": 139,
     "metadata": {},
     "output_type": "execute_result"
    }
   ],
   "source": [
    "notas_turmas_provas_df.style.apply(destacar_notas_e_situacao)"
   ]
  },
  {
   "cell_type": "markdown",
   "metadata": {},
   "source": [
    "<a class='section' id='onde_posso_encontrar_mais_conteudo'></a>\n",
    "# Onde posso encontrar mais conteúdo?"
   ]
  },
  {
   "cell_type": "markdown",
   "metadata": {},
   "source": [
    "- [Real Python](https://realpython.com/)\n",
    "\n",
    "- [w2schools](https://www.w3schools.com/python/default.asp)\n",
    "- [codecademy](https://www.codecademy.com/catalog/language/python)"
   ]
  }
 ],
 "metadata": {
  "author": "mes",
  "kernelspec": {
   "display_name": "Python 3",
   "language": "python",
   "name": "python3"
  },
  "language_info": {
   "codemirror_mode": {
    "name": "ipython",
    "version": 3
   },
   "file_extension": ".py",
   "mimetype": "text/x-python",
   "name": "python",
   "nbconvert_exporter": "python",
   "pygments_lexer": "ipython3",
   "version": "3.6.10"
  },
  "latex_envs": {
   "LaTeX_envs_menu_present": true,
   "autoclose": false,
   "autocomplete": true,
   "bibliofile": "biblio.bib",
   "cite_by": "apalike",
   "current_citInitial": 1,
   "eqLabelWithNumbers": true,
   "eqNumInitial": 1,
   "hotkeys": {
    "equation": "Ctrl-E",
    "itemize": "Ctrl-I"
   },
   "labels_anchors": false,
   "latex_user_defs": false,
   "report_style_numbering": false,
   "user_envs_cfg": false
  },
  "toc": {
   "base_numbering": 1,
   "nav_menu": {},
   "number_sections": true,
   "sideBar": true,
   "skip_h1_title": false,
   "title_cell": "Table of Contents",
   "title_sidebar": "Contents",
   "toc_cell": false,
   "toc_position": {},
   "toc_section_display": true,
   "toc_window_display": false
  },
  "varInspector": {
   "cols": {
    "lenName": 16,
    "lenType": 16,
    "lenVar": 40
   },
   "kernels_config": {
    "python": {
     "delete_cmd_postfix": "",
     "delete_cmd_prefix": "del ",
     "library": "var_list.py",
     "varRefreshCmd": "print(var_dic_list())"
    },
    "r": {
     "delete_cmd_postfix": ") ",
     "delete_cmd_prefix": "rm(",
     "library": "var_list.r",
     "varRefreshCmd": "cat(var_dic_list()) "
    }
   },
   "types_to_exclude": [
    "module",
    "function",
    "builtin_function_or_method",
    "instance",
    "_Feature"
   ],
   "window_display": false
  }
 },
 "nbformat": 4,
 "nbformat_minor": 2
}
