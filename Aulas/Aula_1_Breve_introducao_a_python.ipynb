{
 "cells": [
  {
   "cell_type": "markdown",
   "metadata": {},
   "source": [
    "---\n",
    "**Sumário**\n",
    "\n",
    "- 1. [O que é python?](#o_que_e_python) <br>\n",
    "- 2. [Executando códigos no Jupyter](#executando_codigos_no_jupyter) <br>\n",
    "- 3. [Os tipos de variáveis](#os_tipos_de_variaveis) <br>\n",
    "- 4. [Operações Matemáticas](#operacoes_matematicas) <br>\n",
    "- 5. [Operações lógicas](#operacoes_logicas) <br>\n",
    "\n",
    "---"
   ]
  },
  {
   "cell_type": "markdown",
   "metadata": {},
   "source": [
    "<a class='section' id='o_que_e_python'></a>\n",
    "# O que é python?"
   ]
  },
  {
   "cell_type": "markdown",
   "metadata": {},
   "source": [
    "Python é uma linguagem de programação encontrada desde o desenvolvimento de softwares, criação de web sites e até de jogos. Sua popularidade vem crescendo nos últimos anos mais do que os de outras linguagens [[1]](http://pypl.github.io/PYPL.html). Empresas como ``Google``, ``Facebook``, ``Spotify`` e ``Netflix`` são exemplos que usam ``python`` no desenvolvimento de suas ferramentas. \n",
    "\n",
    "Um dos fatores que faz com que essa linguagem esteja sendo muito procurada nos últimos anos, é o fato possuir um grande número de pacotes disponíveis. Podemos encontrar códigos prontos que fazem análises matemática e confecção de gráficos para visualização de dados muito facilmente. Além disso, ela possui uma counidade bem ativa, que sempre procura melhorar os pacotes disponíveis e criar outros. E o melhor de tudo, ela é gratuíta!\n",
    "\n",
    "Outro fato que chama atenção, é de que essa linguagem tem se tornado bastante comum entre a comunidade científica. Uma de suas principais no uso de análise de dados. A procura por padrões e criação de modelos, utilizando, principalmente, *machine learning* nos últimos anos, tem rendido aos pesquisadore a publicação de artigos em jornais científicos. "
   ]
  },
  {
   "cell_type": "markdown",
   "metadata": {},
   "source": [
    "Python é uma linguagem de programação de alto nível. Isso quer dizer que os termos usados para escrever os códigos se aproximam mais da linguagem humana. Isso faz com que ela seja fácil de ser entendida e escrita. Para exemplificar como ``python`` pode ser muito mais fácil que outra linguagens, observe os trechos de códigos para imprimir na tela a frase ``Hello, world!`` em C"
   ]
  },
  {
   "cell_type": "markdown",
   "metadata": {},
   "source": [
    "```C\n",
    "#include <stdio.h>\n",
    "\n",
    "int main(void)\n",
    "{\n",
    "    printf(\"hello, world\\n\");\n",
    "}\n",
    "```"
   ]
  },
  {
   "cell_type": "markdown",
   "metadata": {},
   "source": [
    "e em python\n",
    "```python\n",
    "print('Hello, world!')\n",
    "```\n",
    "\n",
    "Além disso, para executar o código da linguagem ``C``, precisamos compilá-lo e depois executá-lo. Em ``python``, uma vez que o código é escrito basta executá-lo para obter o resultado. "
   ]
  },
  {
   "cell_type": "markdown",
   "metadata": {},
   "source": [
    "Nas próximas seções iremos aprender sobre alguns comandos e funções básicas do ``python``. O conteúdo que será visto aqui servirá de base para as aulas posteriores. Portanto, tente entender o que está acontecendo nos códigos. Tente reproduzir os códigos usando valores e nomes de variáveis diferentes. Isso pode ajudar na fixação de conteúdo."
   ]
  },
  {
   "cell_type": "markdown",
   "metadata": {},
   "source": [
    "<a class='section' id='executando_codigos_no_jupyter'></a>\n",
    "# Executando códigos no Jupyter"
   ]
  },
  {
   "cell_type": "markdown",
   "metadata": {},
   "source": [
    "<a class='cell' id='create_new_cell'></a>\n",
    "Usaremos o [``Jupyter``](https://jupyter.org/) para realizar nossos trabalhos e isso inclui executar vários códigos em python! Podemos escrever os códigos em qualquer célula do ``Notebook``. Para criar uma nova célula, você pode simplesmente apertar ``esc``, fazendo a célula ficar selecionada de azul, e então aperta ``b`` para criar uma célula abaixo ou apertar ``a`` para criar uma célula em cima. Caso prefira, você também pode cliclar em ``Insert`` na barra acima e selecionar onde deseja criar uma nova célula."
   ]
  },
  {
   "cell_type": "markdown",
   "metadata": {},
   "source": [
    "É de costume sempre que começamos a estudar uma linguagem de programação, o primeiro código ser imprimir na tela a frase ``Hello, World!``. Aqui não será diferente, nosso primeiro código em ``python`` será imprimir essa frase na tela. Para isso, clique na célular abaixo com o código escrito e aperte ``shift+enter``."
   ]
  },
  {
   "cell_type": "code",
   "execution_count": 2,
   "metadata": {
    "ExecuteTime": {
     "end_time": "2020-06-02T19:43:49.869164Z",
     "start_time": "2020-06-02T19:43:49.867107Z"
    }
   },
   "outputs": [
    {
     "name": "stdout",
     "output_type": "stream",
     "text": [
      "Hello, world!\n"
     ]
    }
   ],
   "source": [
    "print('Hello, world!')"
   ]
  },
  {
   "cell_type": "markdown",
   "metadata": {},
   "source": [
    "Pronto, você executou seu primeiro (de muitos) códigos em python. Você também pode executar uma célula selecionando-a e clicando, na barra acima, no botão *run*, que possui uma flecha para direita e uma barra vertical."
   ]
  },
  {
   "cell_type": "markdown",
   "metadata": {},
   "source": [
    "A função ``print()`` serve para imprimir valores na tela. Veja que passamos um argumento para ela, a frase ``'Hello, world!'``. Toda palavra ou frase que queremos que seja imprimida na tela, deve ser colocada entre aspas simples ou dupla:"
   ]
  },
  {
   "cell_type": "code",
   "execution_count": 3,
   "metadata": {
    "ExecuteTime": {
     "end_time": "2020-06-02T19:52:42.015297Z",
     "start_time": "2020-06-02T19:52:42.013262Z"
    }
   },
   "outputs": [
    {
     "name": "stdout",
     "output_type": "stream",
     "text": [
      "Essa é uma frase com aspas simples.\n",
      "Essa é uma frase com aspas duplas.\n"
     ]
    }
   ],
   "source": [
    "print('Essa é uma frase com aspas simples.')\n",
    "print(\"Essa é uma frase com aspas duplas.\")"
   ]
  },
  {
   "cell_type": "markdown",
   "metadata": {},
   "source": [
    "Podemos digitar mais de um comando para ser executado em uma única célular, como foi acima, onde duas funções ``print()`` foram executadas com sentenças diferentes. Podemos também imprimir números:"
   ]
  },
  {
   "cell_type": "code",
   "execution_count": 4,
   "metadata": {
    "ExecuteTime": {
     "end_time": "2020-06-02T19:54:32.987943Z",
     "start_time": "2020-06-02T19:54:32.985249Z"
    }
   },
   "outputs": [
    {
     "name": "stdout",
     "output_type": "stream",
     "text": [
      "3\n"
     ]
    }
   ],
   "source": [
    "print(3)"
   ]
  },
  {
   "cell_type": "markdown",
   "metadata": {},
   "source": [
    "Veja que para imprimir o valor ``3``, não usamos nenhum tipo de aspas. Isso ocorre porquê a própria função faz a conversão do valor numérico para palavra. Contudo, se tentarmos imprimir uma frase sem o uso de aspas, nos deparamos com um erro:"
   ]
  },
  {
   "cell_type": "code",
   "execution_count": 5,
   "metadata": {
    "ExecuteTime": {
     "end_time": "2020-06-02T19:56:07.342609Z",
     "start_time": "2020-06-02T19:56:07.340051Z"
    }
   },
   "outputs": [
    {
     "ename": "SyntaxError",
     "evalue": "invalid syntax (<ipython-input-5-58cb5da3b684>, line 1)",
     "output_type": "error",
     "traceback": [
      "\u001b[0;36m  File \u001b[0;32m\"<ipython-input-5-58cb5da3b684>\"\u001b[0;36m, line \u001b[0;32m1\u001b[0m\n\u001b[0;31m    print(Tentando imprimir uma frase sem aspas)\u001b[0m\n\u001b[0m                          ^\u001b[0m\n\u001b[0;31mSyntaxError\u001b[0m\u001b[0;31m:\u001b[0m invalid syntax\n"
     ]
    }
   ],
   "source": [
    "print(Tentando imprimir uma frase sem aspas)"
   ]
  },
  {
   "cell_type": "markdown",
   "metadata": {},
   "source": [
    "O erro acima ``SyntaxError``, nos diz que usamos a linguagem de programação de maneira indevida."
   ]
  },
  {
   "cell_type": "markdown",
   "metadata": {},
   "source": [
    "Contudo, no âmbito do ``Jupyter Notebook``, se quisermos imprimir algo na tela, não precisamos usar a função ``print()``:"
   ]
  },
  {
   "cell_type": "code",
   "execution_count": 6,
   "metadata": {
    "ExecuteTime": {
     "end_time": "2020-06-02T19:59:30.536671Z",
     "start_time": "2020-06-02T19:59:30.529849Z"
    }
   },
   "outputs": [
    {
     "data": {
      "text/plain": [
       "'Essa frase será imrpimida sem o uso da função print().'"
      ]
     },
     "execution_count": 6,
     "metadata": {},
     "output_type": "execute_result"
    }
   ],
   "source": [
    "\"Essa frase será imrpimida sem o uso da função print().\""
   ]
  },
  {
   "cell_type": "markdown",
   "metadata": {},
   "source": [
    "Porém, se tentarmos imprimir várias frases em sequência, veja o que acontece:"
   ]
  },
  {
   "cell_type": "code",
   "execution_count": 7,
   "metadata": {
    "ExecuteTime": {
     "end_time": "2020-06-02T20:00:12.642855Z",
     "start_time": "2020-06-02T20:00:12.640281Z"
    }
   },
   "outputs": [
    {
     "data": {
      "text/plain": [
       "'E essa é a última!'"
      ]
     },
     "execution_count": 7,
     "metadata": {},
     "output_type": "execute_result"
    }
   ],
   "source": [
    "\"Essa é a primeira frase.\"\n",
    "\"E essa é a última!\""
   ]
  },
  {
   "cell_type": "markdown",
   "metadata": {},
   "source": [
    "Somente a última sentença é imprimida.\n",
    "\n",
    "Agora que já vimos como executar as células com códigos, tente você fazer alguns testes!"
   ]
  },
  {
   "cell_type": "markdown",
   "metadata": {},
   "source": [
    "Digite na célula abaixo o código para imprimir a sentença: **Essa é a primeira aula do curso mais legal que eu já fiz!**"
   ]
  },
  {
   "cell_type": "code",
   "execution_count": null,
   "metadata": {},
   "outputs": [],
   "source": []
  },
  {
   "cell_type": "markdown",
   "metadata": {},
   "source": [
    "Não conseguiu? <b>Clique duas vezes aqui</b> e dê uma espiada na resposta =)\n",
    "<!--\n",
    "Resposta:\n",
    "---------\n",
    "print(\"Essa é a primeira aula do curso mais legal que eu já fiz!\")\n",
    "-->"
   ]
  },
  {
   "cell_type": "markdown",
   "metadata": {},
   "source": [
    "Tente imprimir algumas palavras, sentenças ou números. Veja como criar novas células para escrever seu código voltando [nessa célula](#create_new_cell)."
   ]
  },
  {
   "cell_type": "markdown",
   "metadata": {},
   "source": [
    "# Os tipos de variáveis"
   ]
  },
  {
   "cell_type": "markdown",
   "metadata": {},
   "source": [
    "Em ``python``, assim como em outras linguagens, existe uma distinção no ``tipo`` das variáveis que estamos lidando. Nos exemplos anteriores vimos como imprimir uma frase e que para isso, devemos usar as aspas simples ou duplas. Isso se deve ao fato de que em python, uma ``string`` é definida dessa forma. Uma ``string`` é uma cobinação de caracteres que pode ser imprimido. Quando tentamos usar um ``número inteiro`` dentro da função ``print()``, vimos que o resultado foi a impressão desse número abaixo da célula. Isso se deve ao fato da função ``print()`` converter esse número inteiro, que é do tipo ``int`` para uma ``string``. Podemos sempre saber o tipo de uma variável usando a função ``type()`` passando como argumento a variável que queremos descobrir o tipo. Vamos ver uns exemplos."
   ]
  },
  {
   "cell_type": "markdown",
   "metadata": {},
   "source": [
    "Se \"perguntarmos\" qual é o ``tipo`` da variável 'Hello, world!', a função ``type()`` nos retornará o valor ``str``:"
   ]
  },
  {
   "cell_type": "code",
   "execution_count": 8,
   "metadata": {
    "ExecuteTime": {
     "end_time": "2020-06-02T20:58:18.654604Z",
     "start_time": "2020-06-02T20:58:18.652014Z"
    }
   },
   "outputs": [
    {
     "data": {
      "text/plain": [
       "str"
      ]
     },
     "execution_count": 8,
     "metadata": {},
     "output_type": "execute_result"
    }
   ],
   "source": [
    "type('Hello, world!')"
   ]
  },
  {
   "cell_type": "markdown",
   "metadata": {},
   "source": [
    "Isso quer dizer que a variável é do ``tipo`` ``string``, ou, de maneira abreviada, ``str``.\n",
    "\n",
    "Se passarmos um ``número inteiro`` como argumento, veremos que a função ``type()`` retornará o valor ``int``:"
   ]
  },
  {
   "cell_type": "code",
   "execution_count": 9,
   "metadata": {
    "ExecuteTime": {
     "end_time": "2020-06-02T21:00:43.315475Z",
     "start_time": "2020-06-02T21:00:43.312749Z"
    }
   },
   "outputs": [
    {
     "data": {
      "text/plain": [
       "int"
      ]
     },
     "execution_count": 9,
     "metadata": {},
     "output_type": "execute_result"
    }
   ],
   "source": [
    "type(3)"
   ]
  },
  {
   "cell_type": "markdown",
   "metadata": {},
   "source": [
    "Em matemática aprendemos conjuntos numéricos, onde os número inteiros (1, 2, 3, $\\dots$) percentem ao conjunto dos números naturais ($\\mathbb{N}$). Já os números que podem ser representados como frações $p/q$ em que $p$ e $q$ são números inteiros, como $0{,}92$, $1/4$, $0.33333$ fazem parte dos números racionais ($\\mathbb{Q}$). Em ``python``, tais número também são diferentes. Enquanto o primeiro conjunto é do tipo ``int``, o segundo é do tipo ``float``:"
   ]
  },
  {
   "cell_type": "code",
   "execution_count": 10,
   "metadata": {
    "ExecuteTime": {
     "end_time": "2020-06-02T21:10:58.247037Z",
     "start_time": "2020-06-02T21:10:58.244619Z"
    }
   },
   "outputs": [
    {
     "data": {
      "text/plain": [
       "float"
      ]
     },
     "execution_count": 10,
     "metadata": {},
     "output_type": "execute_result"
    }
   ],
   "source": [
    "type(0.92)"
   ]
  },
  {
   "cell_type": "code",
   "execution_count": 11,
   "metadata": {
    "ExecuteTime": {
     "end_time": "2020-06-02T21:11:04.732662Z",
     "start_time": "2020-06-02T21:11:04.729796Z"
    }
   },
   "outputs": [
    {
     "data": {
      "text/plain": [
       "float"
      ]
     },
     "execution_count": 11,
     "metadata": {},
     "output_type": "execute_result"
    }
   ],
   "source": [
    "type(1/4)"
   ]
  },
  {
   "cell_type": "code",
   "execution_count": 12,
   "metadata": {
    "ExecuteTime": {
     "end_time": "2020-06-02T21:11:19.677711Z",
     "start_time": "2020-06-02T21:11:19.674983Z"
    }
   },
   "outputs": [
    {
     "data": {
      "text/plain": [
       "float"
      ]
     },
     "execution_count": 12,
     "metadata": {},
     "output_type": "execute_result"
    }
   ],
   "source": [
    "type(0.33333)"
   ]
  },
  {
   "cell_type": "markdown",
   "metadata": {},
   "source": [
    "Mesmo os número que são irracionais, isto é, dizimas infinitas sem repetição, como $\\pi = 3{,}141592653589793\\dots$, também são considerados como ``float``:"
   ]
  },
  {
   "cell_type": "code",
   "execution_count": 15,
   "metadata": {
    "ExecuteTime": {
     "end_time": "2020-06-02T21:13:11.778121Z",
     "start_time": "2020-06-02T21:13:11.775511Z"
    }
   },
   "outputs": [
    {
     "data": {
      "text/plain": [
       "float"
      ]
     },
     "execution_count": 15,
     "metadata": {},
     "output_type": "execute_result"
    }
   ],
   "source": [
    "type(3.141592653589793)"
   ]
  },
  {
   "cell_type": "markdown",
   "metadata": {},
   "source": [
    "As funções também possuem um ``tipo`` específico:"
   ]
  },
  {
   "cell_type": "code",
   "execution_count": 23,
   "metadata": {
    "ExecuteTime": {
     "end_time": "2020-06-02T21:14:54.304555Z",
     "start_time": "2020-06-02T21:14:54.301810Z"
    }
   },
   "outputs": [
    {
     "data": {
      "text/plain": [
       "builtin_function_or_method"
      ]
     },
     "execution_count": 23,
     "metadata": {},
     "output_type": "execute_result"
    }
   ],
   "source": [
    "type(print)"
   ]
  },
  {
   "cell_type": "markdown",
   "metadata": {
    "ExecuteTime": {
     "end_time": "2020-06-02T21:15:14.472247Z",
     "start_time": "2020-06-02T21:15:14.470389Z"
    }
   },
   "source": [
    "Esse tipo nos diz que ``print`` é uma função inata do ``python``, ou seja, não é necessário importá-la a partir de um pacote separado para usá-la."
   ]
  },
  {
   "cell_type": "markdown",
   "metadata": {},
   "source": [
    "Um outro tipo muito importante de variável em qualquer tipo de linguagem de programação é a variável do tipo ``boolean``. Temos somente duas variáveis desse tipo: ``True`` e ``False``, que também podem ser representadas pelas número ``1`` e ``0``, respectivamente. Elas são usadas em operações lógicas para nos dizer se algo é ``Verdadeiro (True)`` ou ``Falso (False)`` e então qual decisão deve ser tomada."
   ]
  },
  {
   "cell_type": "code",
   "execution_count": 21,
   "metadata": {
    "ExecuteTime": {
     "end_time": "2020-06-03T23:29:55.476973Z",
     "start_time": "2020-06-03T23:29:55.472069Z"
    }
   },
   "outputs": [
    {
     "data": {
      "text/plain": [
       "bool"
      ]
     },
     "execution_count": 21,
     "metadata": {},
     "output_type": "execute_result"
    }
   ],
   "source": [
    "type(True)"
   ]
  },
  {
   "cell_type": "code",
   "execution_count": 22,
   "metadata": {
    "ExecuteTime": {
     "end_time": "2020-06-03T23:30:04.442731Z",
     "start_time": "2020-06-03T23:30:04.439954Z"
    }
   },
   "outputs": [
    {
     "data": {
      "text/plain": [
       "bool"
      ]
     },
     "execution_count": 22,
     "metadata": {},
     "output_type": "execute_result"
    }
   ],
   "source": [
    "type(False)"
   ]
  },
  {
   "cell_type": "markdown",
   "metadata": {},
   "source": [
    "Veja que a linguagem python tende a abreviar os termos, como vimos no caso de ``str`` para ``string`` e ``bool`` para ``boolean``.\n",
    "\n",
    "Conformes for avançando, veremos mais alguns tipos de variáveis."
   ]
  },
  {
   "cell_type": "markdown",
   "metadata": {},
   "source": [
    "<a class='section' id='operacoes_matematicas'></a>\n",
    "# Operações matemáticas"
   ]
  },
  {
   "cell_type": "markdown",
   "metadata": {},
   "source": [
    "Em ``python`` é muito fácil executar operação matemáticas. As operações matemáticas mais básicas como ``soma``, ``subtração``, ``multiplicação``, ``divisão`` e ``potenciação/exponenciação`` são efetuadas da seguinte forma:"
   ]
  },
  {
   "cell_type": "markdown",
   "metadata": {},
   "source": [
    "- Soma\n",
    "```python\n",
    "2+2 = 4\n",
    "```\n",
    "- Subtração\n",
    "```python\n",
    "5-2 = 3\n",
    "```\n",
    "- Multiplicação\n",
    "```python\n",
    "2*3 = 6\n",
    "```\n",
    "- Divisão\n",
    "```python\n",
    "10/2 = 5\n",
    "```\n",
    "- Potenciação/exponenciação\n",
    "```python\n",
    "2**3 = 8\n",
    "```\n",
    "\n",
    "Vamos executar algumas dessas operações abaixo."
   ]
  },
  {
   "cell_type": "code",
   "execution_count": 1,
   "metadata": {
    "ExecuteTime": {
     "end_time": "2020-06-03T23:01:33.421300Z",
     "start_time": "2020-06-03T23:01:33.414725Z"
    }
   },
   "outputs": [
    {
     "data": {
      "text/plain": [
       "4"
      ]
     },
     "execution_count": 1,
     "metadata": {},
     "output_type": "execute_result"
    }
   ],
   "source": [
    "2+2"
   ]
  },
  {
   "cell_type": "code",
   "execution_count": 5,
   "metadata": {
    "ExecuteTime": {
     "end_time": "2020-06-03T23:02:41.413210Z",
     "start_time": "2020-06-03T23:02:41.409661Z"
    }
   },
   "outputs": [
    {
     "data": {
      "text/plain": [
       "3"
      ]
     },
     "execution_count": 5,
     "metadata": {},
     "output_type": "execute_result"
    }
   ],
   "source": [
    "5-2"
   ]
  },
  {
   "cell_type": "code",
   "execution_count": 7,
   "metadata": {
    "ExecuteTime": {
     "end_time": "2020-06-03T23:02:49.302526Z",
     "start_time": "2020-06-03T23:02:49.293019Z"
    }
   },
   "outputs": [
    {
     "data": {
      "text/plain": [
       "6"
      ]
     },
     "execution_count": 7,
     "metadata": {},
     "output_type": "execute_result"
    }
   ],
   "source": [
    "2*3"
   ]
  },
  {
   "cell_type": "code",
   "execution_count": 9,
   "metadata": {
    "ExecuteTime": {
     "end_time": "2020-06-03T23:02:56.175738Z",
     "start_time": "2020-06-03T23:02:56.164374Z"
    }
   },
   "outputs": [
    {
     "data": {
      "text/plain": [
       "5.0"
      ]
     },
     "execution_count": 9,
     "metadata": {},
     "output_type": "execute_result"
    }
   ],
   "source": [
    "10/2"
   ]
  },
  {
   "cell_type": "code",
   "execution_count": 11,
   "metadata": {
    "ExecuteTime": {
     "end_time": "2020-06-03T23:03:10.875292Z",
     "start_time": "2020-06-03T23:03:10.862384Z"
    }
   },
   "outputs": [
    {
     "data": {
      "text/plain": [
       "8"
      ]
     },
     "execution_count": 11,
     "metadata": {},
     "output_type": "execute_result"
    }
   ],
   "source": [
    "2**3"
   ]
  },
  {
   "cell_type": "markdown",
   "metadata": {},
   "source": [
    "Tente você fazer algumas operações abaixo."
   ]
  },
  {
   "cell_type": "code",
   "execution_count": null,
   "metadata": {},
   "outputs": [],
   "source": [
    "# efetue suas operações aqui. Não se esqueça de aperta shift+enter para executar o código escrito na célula.\n"
   ]
  },
  {
   "cell_type": "markdown",
   "metadata": {},
   "source": [
    "Existem outros tipos de operação que as vezes são úteis. A primeira delas é chamada de ``módulo`` e simbolizada pelo operador ``%``. Ele funciona como uma divisão, nos retornando o valor inteiro que resta da divisão:\n",
    "\n",
    "```python\n",
    " 7%2 = 1 # o número 2 cabe três vezes inteiras em  5 e sobra 1\n",
    "10%4 = 2 # o número 4 cabe duas vezes inteiras em 10 e sobra 2\n",
    "```\n",
    "\n",
    "Confira nas células abaixo!"
   ]
  },
  {
   "cell_type": "code",
   "execution_count": 15,
   "metadata": {
    "ExecuteTime": {
     "end_time": "2020-06-03T23:24:42.157748Z",
     "start_time": "2020-06-03T23:24:42.155474Z"
    }
   },
   "outputs": [
    {
     "data": {
      "text/plain": [
       "6"
      ]
     },
     "execution_count": 15,
     "metadata": {},
     "output_type": "execute_result"
    }
   ],
   "source": [
    "13%7"
   ]
  },
  {
   "cell_type": "code",
   "execution_count": 16,
   "metadata": {
    "ExecuteTime": {
     "end_time": "2020-06-03T23:24:49.333823Z",
     "start_time": "2020-06-03T23:24:49.323736Z"
    }
   },
   "outputs": [
    {
     "data": {
      "text/plain": [
       "3"
      ]
     },
     "execution_count": 16,
     "metadata": {},
     "output_type": "execute_result"
    }
   ],
   "source": [
    "19%4"
   ]
  },
  {
   "cell_type": "code",
   "execution_count": 14,
   "metadata": {
    "ExecuteTime": {
     "end_time": "2020-06-03T23:22:35.445731Z",
     "start_time": "2020-06-03T23:22:35.440751Z"
    }
   },
   "outputs": [
    {
     "data": {
      "text/plain": [
       "1.5"
      ]
     },
     "execution_count": 14,
     "metadata": {},
     "output_type": "execute_result"
    }
   ],
   "source": [
    "3.5%2"
   ]
  },
  {
   "cell_type": "markdown",
   "metadata": {},
   "source": [
    "A segunda operação é simbolizada pelo operador ``//``. Ele também funciona como uma divisão, contudo, ele nos retorna o resultado inteiro da divisão:\n",
    "\n",
    "```python\n",
    "10//3 = 3 # o número 3 cabe três vezes inteiro em 10\n",
    "14//6 = 2 # o número 6 cabe duas vezes inteiro em 14\n",
    "```\n",
    "\n",
    "Confira mais exemplos nas células abaixo!"
   ]
  },
  {
   "cell_type": "code",
   "execution_count": 18,
   "metadata": {
    "ExecuteTime": {
     "end_time": "2020-06-03T23:25:02.717872Z",
     "start_time": "2020-06-03T23:25:02.708049Z"
    }
   },
   "outputs": [
    {
     "data": {
      "text/plain": [
       "16"
      ]
     },
     "execution_count": 18,
     "metadata": {},
     "output_type": "execute_result"
    }
   ],
   "source": [
    "33//2"
   ]
  },
  {
   "cell_type": "code",
   "execution_count": 19,
   "metadata": {
    "ExecuteTime": {
     "end_time": "2020-06-03T23:25:15.942142Z",
     "start_time": "2020-06-03T23:25:15.936516Z"
    }
   },
   "outputs": [
    {
     "data": {
      "text/plain": [
       "17.0"
      ]
     },
     "execution_count": 19,
     "metadata": {},
     "output_type": "execute_result"
    }
   ],
   "source": [
    "5.2//0.3"
   ]
  },
  {
   "cell_type": "markdown",
   "metadata": {},
   "source": [
    "<a class='section' id='operacoes_logicas'></a>\n",
    "# Operações lógicas"
   ]
  },
  {
   "cell_type": "code",
   "execution_count": null,
   "metadata": {},
   "outputs": [],
   "source": []
  }
 ],
 "metadata": {
  "kernelspec": {
   "display_name": "Python 3",
   "language": "python",
   "name": "python3"
  },
  "language_info": {
   "codemirror_mode": {
    "name": "ipython",
    "version": 3
   },
   "file_extension": ".py",
   "mimetype": "text/x-python",
   "name": "python",
   "nbconvert_exporter": "python",
   "pygments_lexer": "ipython3",
   "version": "3.7.4"
  },
  "latex_envs": {
   "LaTeX_envs_menu_present": true,
   "autoclose": false,
   "autocomplete": true,
   "bibliofile": "biblio.bib",
   "cite_by": "apalike",
   "current_citInitial": 1,
   "eqLabelWithNumbers": true,
   "eqNumInitial": 1,
   "hotkeys": {
    "equation": "Ctrl-E",
    "itemize": "Ctrl-I"
   },
   "labels_anchors": false,
   "latex_user_defs": false,
   "report_style_numbering": false,
   "user_envs_cfg": false
  },
  "toc": {
   "base_numbering": 1,
   "nav_menu": {},
   "number_sections": true,
   "sideBar": true,
   "skip_h1_title": false,
   "title_cell": "Table of Contents",
   "title_sidebar": "Contents",
   "toc_cell": false,
   "toc_position": {},
   "toc_section_display": true,
   "toc_window_display": false
  },
  "varInspector": {
   "cols": {
    "lenName": 16,
    "lenType": 16,
    "lenVar": 40
   },
   "kernels_config": {
    "python": {
     "delete_cmd_postfix": "",
     "delete_cmd_prefix": "del ",
     "library": "var_list.py",
     "varRefreshCmd": "print(var_dic_list())"
    },
    "r": {
     "delete_cmd_postfix": ") ",
     "delete_cmd_prefix": "rm(",
     "library": "var_list.r",
     "varRefreshCmd": "cat(var_dic_list()) "
    }
   },
   "types_to_exclude": [
    "module",
    "function",
    "builtin_function_or_method",
    "instance",
    "_Feature"
   ],
   "window_display": false
  }
 },
 "nbformat": 4,
 "nbformat_minor": 2
}
