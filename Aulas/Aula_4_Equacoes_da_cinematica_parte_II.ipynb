{
 "cells": [
  {
   "cell_type": "code",
   "execution_count": 110,
   "metadata": {
    "ExecuteTime": {
     "end_time": "2020-07-04T00:49:35.592962Z",
     "start_time": "2020-07-04T00:49:34.141038Z"
    }
   },
   "outputs": [
    {
     "data": {
      "text/html": [
       "<style> .container { width: 95% !important; } </style>"
      ],
      "text/plain": [
       "<IPython.core.display.HTML object>"
      ]
     },
     "metadata": {},
     "output_type": "display_data"
    },
    {
     "data": {
      "text/html": [
       "<style>/*This file contains any manual css for this page that needs to override the global styles.\n",
       "This is only required when different pages style the same element differently. This is just\n",
       "a hack to deal with our current css styles and no new styling should be added in this file.*/\n",
       "/* CSS stylesheet to make paragraphs justified, create lists with subitem numbering \n",
       "and highlight words in gray with font-family monospace */\n",
       "\n",
       "p.justified {\n",
       "    text-align: justify;\n",
       "    margin-left: 10em;\n",
       "}\n",
       "\n",
       "mark.mono_gray {\n",
       "    background-color: #f0f0f0;\n",
       "    font-family: monospace;\n",
       "}\n",
       "\n",
       "ol.sub-item { \n",
       "    counter-reset: item;\n",
       "    text-align: justify;\n",
       "}\n",
       "\n",
       "li.sub-item {\n",
       "    display: block;\n",
       "    text-align: justify;\n",
       "}\n",
       "\n",
       "li.sub-item:before {\n",
       "    content: counters(item, \".\") \". \"; \n",
       "    counter-increment: item;\n",
       "    text-align: justify;\n",
       "    font-weight: bold;\n",
       "}</style>"
      ],
      "text/plain": [
       "<IPython.core.display.HTML object>"
      ]
     },
     "execution_count": 110,
     "metadata": {},
     "output_type": "execute_result"
    }
   ],
   "source": [
    "# import CSS stylesheet to make paragraphs justified, create lists with subitem numbering and highlight words in gray with font-family monospace\n",
    "from IPython.display import HTML, display\n",
    "import urllib\n",
    "display(HTML('<style> .container { width: 95% !important; } </style>'))\n",
    "HTML('<style>{}</style>'.format(str(urllib.request.urlopen('https://bit.ly/2NRJNfB').read(), 'utf-8')))"
   ]
  },
  {
   "cell_type": "markdown",
   "metadata": {},
   "source": [
    "<hr>\n",
    "<p class='justified'>\n",
    "<p style=\"font-size: 25px; margin-left: 25px;\"><b>Sumário</b></p>\n",
    "<ol class=\"sub-item\">\n",
    "    <li class=\"sub-item\"><a href=\"#equacoes_da_cinematica_parte_ii\">Equações da Cinemática - Parte II</a></li>\n",
    "    <li class=\"sub-item\"><a href=\"#pacotes_e_funcoes\">Pacotes e Funções</a></li>\n",
    "    <li class=\"sub-item\"><a href=\"#mruv\">Movimento Retilíneo Uniformemente Variável (MRUV)</a>\n",
    "        <ol class=\"sub-item\">\n",
    "            <li class=\"sub-item\"><a href=\"#experimento_2_mruv\">Experimento 2 - MRUV [1]</a></li>\n",
    "        </ol>\n",
    "    </li>\n",
    "    <li class=\"sub-item\"><a href=\"#analisando_os_dados_obtidos_usando_python\">Analisando os dados obtidos usando Python</a>\n",
    "        <ol class=\"sub-item\">\n",
    "            <li class=\"sub-item\"><a href=\"#apresentando_os_dados\">Apresentando os dados</a>\n",
    "                <ol class=\"sub-item\">\n",
    "                    <li class=\"sub-item\"><a href=\"#posicao_dos_sensores\">Posição dos sensores</a></li>\n",
    "                    <li class=\"sub-item\"><a href=\"#tempo_cronometrado_nos_sensores\">Tempo cronometrado nos sensores</a></li>\n",
    "                    <li class=\"sub-item\"><a href=\"#calculando_a_media_dos_tempos_nos_sensores\">Calculando a média dos tempos nos sensores</a></li>\n",
    "                    <li class=\"sub-item\"><a href=\"#calculando_o_desvio_padrao_dos_tempos_nos_sensores\">Calculando o desvio padrão dos tempos nos sensores</a></li>\n",
    "                </ol>\n",
    "            </li>\n",
    "        </ol>\n",
    "    </li>\n",
    "    <li class=\"sub-item\"><a href=\"#confeccionando_o_grafico_sxt\">Confeccionando o gráfico $S \\times t_m$</a></li>\n",
    "    <li class=\"sub-item\"><a href=\"#mudando_a_escala_dos_dados\">Mudando a escala dos dados</a></li>\n",
    "</ol>\n",
    "</p>\n",
    "<hr>"
   ]
  },
  {
   "cell_type": "markdown",
   "metadata": {},
   "source": [
    "<a class=\"anchor\" id=\"equacoes_da_cinematica_parte_ii\"></a>\n",
    "# Equações da Cinemática - Parte II"
   ]
  },
  {
   "cell_type": "markdown",
   "metadata": {},
   "source": [
    "<p class='justified'>\n",
    "    Essa aula tem como intuíto a continuação do estudo do movimento retilíneo de um objeto. Você observará que grande parte dos procedimentos de como descrever os dados (e as piadas sem graça) são idênticos. Isso tem como intuíto a fixação do procedimento adotado. Contudo, você é livre para pular algumas etapas, por exemplo, se preferir, já vá usando <mark class=\"mono_gray\">pandas.DataFrame</mark> para trabalhar com os dados ao invés de ficar definindo as listas.\n",
    "</p>\n",
    "\n",
    "<p class='justified'>\n",
    "    Abordaremos o cenário em que o objeto em questão agora possui uma <b>velocidade variável</b>, o que implica nele ter uma <b>aceleração</b>. Estudaremos o caso em que a <b>aceleração é constante</b>, isto é, não muda com o passar do tempo. Iremos analisar como essa nova quantidade influencia a velocidade e o deslocamento do objeto. Por fim, a partir dos dados de um experimento, iremos fazer os ajustes e encontrar a equação horário de movimento do objeto em questão.\n",
    "</p>\n",
    "\n",
    "<p class='justified'>\n",
    "Esse material é um complemento ao conteúdo do Cap. 4 (Pags. 39-54) do <b>Manual de Laboratório de Física Experimental I</b> <a href='#mukai'>[1]</a>.\n",
    "</p>\n",
    "\n",
    "<a class='citation' id='mukai' href=\"http://site.dfi.uem.br/wp-content/uploads/2018/04/Manual-de-Laborat%C3%B3rio-de-F%C3%ADsica-Experimental-I.pdf\">[1] Mukai, Hatsumi e Fernandes, Paulo R. G., <i>Manual de Laboratório de Física I</i>. Universidade Estadual de Maringá, Centro de Ciências Exatas, Departamento de Física (<b>2018</b>).</a>"
   ]
  },
  {
   "cell_type": "markdown",
   "metadata": {},
   "source": [
    "---\n",
    "<a class=\"anchor\" id=\"pacotes_e_funcoes\"></a>\n",
    "# Pacotes e Funções"
   ]
  },
  {
   "cell_type": "markdown",
   "metadata": {},
   "source": [
    "<p class='justified'>\n",
    "    Assim como na aula anterior, o primeiro passo para começar nosso projeto é importar os pacotes necessários antes de qualquer código que correspondem às nossas análises.\n",
    "</p>"
   ]
  },
  {
   "cell_type": "code",
   "execution_count": 3,
   "metadata": {
    "ExecuteTime": {
     "end_time": "2020-07-03T22:17:38.264710Z",
     "start_time": "2020-07-03T22:17:38.256592Z"
    }
   },
   "outputs": [],
   "source": [
    "# pacotes para manipulação dos dados\n",
    "import pandas as pd\n",
    "import numpy as np\n",
    "\n",
    "# pacote para confecção de gráficos para visualizar os resultados\n",
    "# de uma maneira mais apreciável e criar nossos modelos\n",
    "import matplotlib.pyplot as plt\n",
    "\n",
    "# ajustando algumas configurações para melhor visualização dos gráficos\n",
    "plt.rcParams['font.size'] = 16                           # altera o tamanho das fontes na figura\n",
    "plt.rcParams['figure.figsize'] = 8, 6                    # altera o tamanho da figura\n",
    "plt.rcParams['axes.axisbelow'] = True                    # para desenhar os grids atrás das curvas e pontos\n",
    "for axis in ['xtick', 'ytick']:                          # loop para aplicar as mudanças nos eixos x e y\n",
    "    plt.rcParams['{}.major.size'.format(axis)] = 10      # altera o tamanho dos ticks maiores\n",
    "    plt.rcParams['{}.minor.size'.format(axis)] = 5       # altera o tamanho dos ticks menores\n",
    "    plt.rcParams['{}.minor.visible'.format(axis)] = True # faz os ticks menores ficarem visíveis"
   ]
  },
  {
   "cell_type": "markdown",
   "metadata": {},
   "source": [
    "<p class='justified'>\n",
    "    Importar os pacotes/módulos necessários no \"cabeçalho\" do arquivo ou Notebook é uma prática comum. Dessa forma, pessoas que irão olhar seu código estejam cientes dos tipos de operações que irão encontrar e de onde elas provém.\n",
    "</p>"
   ]
  },
  {
   "cell_type": "markdown",
   "metadata": {},
   "source": [
    "---\n",
    "<a class='cell' id='mruv'></a>\n",
    "# Movimento Retilíneo Uniformemente Variável (MRUV)"
   ]
  },
  {
   "cell_type": "markdown",
   "metadata": {},
   "source": [
    "<p class='justified'>\n",
    "    Na aula passada estudamos o <b>movimento retilíneo uniforme</b>. Vimos que esse consistia em um movimento no qual o objeto era observado se deslocando sempre com a mesma velocidade e em linha reta. Tal movimento era descrito pela equação\n",
    "</p>\n",
    "\n",
    "$$\n",
    "    S(t) = S_0 + vt,\n",
    "    \\label{eq:mru}\n",
    "$$\n",
    "\n",
    "<p class='justified'>\n",
    "em que $S(t)$ é a posição em que nosso objeto/móvel se encontra em um instante de tempo $t$, $S_0$ é a posição inicial do objeto/móvel (no tempo inicial $t=0$) e $v$ é a velocidade do objeto/móvel, que permanece constante ao longo de todo percurso. Vimos que esse movimento é descrito por uma reta, sendo o coeficiente linear a posição inicial $S_0$ e o coeficiente angular a velocidade $v$. Para que possamos entender melhor o que seria um <b>movimento retilíneo uniformemente variável (MRUV)</b>, vamos voltar ao exemplo do carro dado na aula anterior. \n",
    "</p>"
   ]
  },
  {
   "cell_type": "markdown",
   "metadata": {},
   "source": [
    "<p class='justified'>\n",
    "    <b>Exemplo 1.</b> Imagine o mesmo carro passando pela frente da sua casa. Mais uma vez, ao passar por esse ponto, ele está com uma velocidade $v = 18\\,km/h = 5\\,m/s$. Você então começa a cronometrar de modo que a frente da sua casa se torna o ponto $S_0$ para o instante inicial $t = 0{,}00\\,s$. Contudo, diferente da vez anterior, você percebe que para intervalos de tempo iguais, digamos de $1{,}00\\,$ em $1{,}00\\,s$, a distância que ele percorre é cada vez maior. Isso ocorre porquê agora o carro está <b>acelerando</b> fazendo <b>velocidade do carro mudar</b> conforme o tempo passa. \n",
    "</p>"
   ]
  },
  {
   "cell_type": "markdown",
   "metadata": {},
   "source": [
    "<p class='justified'>\n",
    "    Em um <b>MRU</b> o gráfico da posição pelo tempo era uma reta. Como a aceleração constante influencia no deslocamento do móvel e em sua velocidade nesse novo tipo de movimento, isto é, no <b>MRUV</b>? Observe nos gráficos abaixo o comportamento dessas variáveis. Você pode alterar os valores da velocidade e da aceleração para ver como o deslocamento em função do tempo se comporta.\n",
    "</p>"
   ]
  },
  {
   "cell_type": "code",
   "execution_count": 3,
   "metadata": {
    "ExecuteTime": {
     "end_time": "2020-06-29T08:42:43.178740Z",
     "start_time": "2020-06-29T08:42:42.951128Z"
    }
   },
   "outputs": [],
   "source": [
    "import sys\n",
    "sys.path.append('../')\n",
    "from iterative_plots.iter_plots import *"
   ]
  },
  {
   "cell_type": "code",
   "execution_count": 4,
   "metadata": {
    "ExecuteTime": {
     "end_time": "2020-06-29T08:42:43.784755Z",
     "start_time": "2020-06-29T08:42:43.712476Z"
    }
   },
   "outputs": [
    {
     "data": {
      "text/html": [
       "\n",
       "    <div class=\"bk-root\">\n",
       "        <a href=\"https://bokeh.pydata.org\" target=\"_blank\" class=\"bk-logo bk-logo-small bk-logo-notebook\"></a>\n",
       "        <span id=\"1001\">Loading BokehJS ...</span>\n",
       "    </div>"
      ]
     },
     "metadata": {},
     "output_type": "display_data"
    },
    {
     "data": {
      "application/javascript": [
       "\n",
       "(function(root) {\n",
       "  function now() {\n",
       "    return new Date();\n",
       "  }\n",
       "\n",
       "  var force = true;\n",
       "\n",
       "  if (typeof root._bokeh_onload_callbacks === \"undefined\" || force === true) {\n",
       "    root._bokeh_onload_callbacks = [];\n",
       "    root._bokeh_is_loading = undefined;\n",
       "  }\n",
       "\n",
       "  var JS_MIME_TYPE = 'application/javascript';\n",
       "  var HTML_MIME_TYPE = 'text/html';\n",
       "  var EXEC_MIME_TYPE = 'application/vnd.bokehjs_exec.v0+json';\n",
       "  var CLASS_NAME = 'output_bokeh rendered_html';\n",
       "\n",
       "  /**\n",
       "   * Render data to the DOM node\n",
       "   */\n",
       "  function render(props, node) {\n",
       "    var script = document.createElement(\"script\");\n",
       "    node.appendChild(script);\n",
       "  }\n",
       "\n",
       "  /**\n",
       "   * Handle when an output is cleared or removed\n",
       "   */\n",
       "  function handleClearOutput(event, handle) {\n",
       "    var cell = handle.cell;\n",
       "\n",
       "    var id = cell.output_area._bokeh_element_id;\n",
       "    var server_id = cell.output_area._bokeh_server_id;\n",
       "    // Clean up Bokeh references\n",
       "    if (id != null && id in Bokeh.index) {\n",
       "      Bokeh.index[id].model.document.clear();\n",
       "      delete Bokeh.index[id];\n",
       "    }\n",
       "\n",
       "    if (server_id !== undefined) {\n",
       "      // Clean up Bokeh references\n",
       "      var cmd = \"from bokeh.io.state import curstate; print(curstate().uuid_to_server['\" + server_id + \"'].get_sessions()[0].document.roots[0]._id)\";\n",
       "      cell.notebook.kernel.execute(cmd, {\n",
       "        iopub: {\n",
       "          output: function(msg) {\n",
       "            var id = msg.content.text.trim();\n",
       "            if (id in Bokeh.index) {\n",
       "              Bokeh.index[id].model.document.clear();\n",
       "              delete Bokeh.index[id];\n",
       "            }\n",
       "          }\n",
       "        }\n",
       "      });\n",
       "      // Destroy server and session\n",
       "      var cmd = \"import bokeh.io.notebook as ion; ion.destroy_server('\" + server_id + \"')\";\n",
       "      cell.notebook.kernel.execute(cmd);\n",
       "    }\n",
       "  }\n",
       "\n",
       "  /**\n",
       "   * Handle when a new output is added\n",
       "   */\n",
       "  function handleAddOutput(event, handle) {\n",
       "    var output_area = handle.output_area;\n",
       "    var output = handle.output;\n",
       "\n",
       "    // limit handleAddOutput to display_data with EXEC_MIME_TYPE content only\n",
       "    if ((output.output_type != \"display_data\") || (!output.data.hasOwnProperty(EXEC_MIME_TYPE))) {\n",
       "      return\n",
       "    }\n",
       "\n",
       "    var toinsert = output_area.element.find(\".\" + CLASS_NAME.split(' ')[0]);\n",
       "\n",
       "    if (output.metadata[EXEC_MIME_TYPE][\"id\"] !== undefined) {\n",
       "      toinsert[toinsert.length - 1].firstChild.textContent = output.data[JS_MIME_TYPE];\n",
       "      // store reference to embed id on output_area\n",
       "      output_area._bokeh_element_id = output.metadata[EXEC_MIME_TYPE][\"id\"];\n",
       "    }\n",
       "    if (output.metadata[EXEC_MIME_TYPE][\"server_id\"] !== undefined) {\n",
       "      var bk_div = document.createElement(\"div\");\n",
       "      bk_div.innerHTML = output.data[HTML_MIME_TYPE];\n",
       "      var script_attrs = bk_div.children[0].attributes;\n",
       "      for (var i = 0; i < script_attrs.length; i++) {\n",
       "        toinsert[toinsert.length - 1].firstChild.setAttribute(script_attrs[i].name, script_attrs[i].value);\n",
       "      }\n",
       "      // store reference to server id on output_area\n",
       "      output_area._bokeh_server_id = output.metadata[EXEC_MIME_TYPE][\"server_id\"];\n",
       "    }\n",
       "  }\n",
       "\n",
       "  function register_renderer(events, OutputArea) {\n",
       "\n",
       "    function append_mime(data, metadata, element) {\n",
       "      // create a DOM node to render to\n",
       "      var toinsert = this.create_output_subarea(\n",
       "        metadata,\n",
       "        CLASS_NAME,\n",
       "        EXEC_MIME_TYPE\n",
       "      );\n",
       "      this.keyboard_manager.register_events(toinsert);\n",
       "      // Render to node\n",
       "      var props = {data: data, metadata: metadata[EXEC_MIME_TYPE]};\n",
       "      render(props, toinsert[toinsert.length - 1]);\n",
       "      element.append(toinsert);\n",
       "      return toinsert\n",
       "    }\n",
       "\n",
       "    /* Handle when an output is cleared or removed */\n",
       "    events.on('clear_output.CodeCell', handleClearOutput);\n",
       "    events.on('delete.Cell', handleClearOutput);\n",
       "\n",
       "    /* Handle when a new output is added */\n",
       "    events.on('output_added.OutputArea', handleAddOutput);\n",
       "\n",
       "    /**\n",
       "     * Register the mime type and append_mime function with output_area\n",
       "     */\n",
       "    OutputArea.prototype.register_mime_type(EXEC_MIME_TYPE, append_mime, {\n",
       "      /* Is output safe? */\n",
       "      safe: true,\n",
       "      /* Index of renderer in `output_area.display_order` */\n",
       "      index: 0\n",
       "    });\n",
       "  }\n",
       "\n",
       "  // register the mime type if in Jupyter Notebook environment and previously unregistered\n",
       "  if (root.Jupyter !== undefined) {\n",
       "    var events = require('base/js/events');\n",
       "    var OutputArea = require('notebook/js/outputarea').OutputArea;\n",
       "\n",
       "    if (OutputArea.prototype.mime_types().indexOf(EXEC_MIME_TYPE) == -1) {\n",
       "      register_renderer(events, OutputArea);\n",
       "    }\n",
       "  }\n",
       "\n",
       "  \n",
       "  if (typeof (root._bokeh_timeout) === \"undefined\" || force === true) {\n",
       "    root._bokeh_timeout = Date.now() + 5000;\n",
       "    root._bokeh_failed_load = false;\n",
       "  }\n",
       "\n",
       "  var NB_LOAD_WARNING = {'data': {'text/html':\n",
       "     \"<div style='background-color: #fdd'>\\n\"+\n",
       "     \"<p>\\n\"+\n",
       "     \"BokehJS does not appear to have successfully loaded. If loading BokehJS from CDN, this \\n\"+\n",
       "     \"may be due to a slow or bad network connection. Possible fixes:\\n\"+\n",
       "     \"</p>\\n\"+\n",
       "     \"<ul>\\n\"+\n",
       "     \"<li>re-rerun `output_notebook()` to attempt to load from CDN again, or</li>\\n\"+\n",
       "     \"<li>use INLINE resources instead, as so:</li>\\n\"+\n",
       "     \"</ul>\\n\"+\n",
       "     \"<code>\\n\"+\n",
       "     \"from bokeh.resources import INLINE\\n\"+\n",
       "     \"output_notebook(resources=INLINE)\\n\"+\n",
       "     \"</code>\\n\"+\n",
       "     \"</div>\"}};\n",
       "\n",
       "  function display_loaded() {\n",
       "    var el = document.getElementById(\"1001\");\n",
       "    if (el != null) {\n",
       "      el.textContent = \"BokehJS is loading...\";\n",
       "    }\n",
       "    if (root.Bokeh !== undefined) {\n",
       "      if (el != null) {\n",
       "        el.textContent = \"BokehJS \" + root.Bokeh.version + \" successfully loaded.\";\n",
       "      }\n",
       "    } else if (Date.now() < root._bokeh_timeout) {\n",
       "      setTimeout(display_loaded, 100)\n",
       "    }\n",
       "  }\n",
       "\n",
       "\n",
       "  function run_callbacks() {\n",
       "    try {\n",
       "      root._bokeh_onload_callbacks.forEach(function(callback) {\n",
       "        if (callback != null)\n",
       "          callback();\n",
       "      });\n",
       "    } finally {\n",
       "      delete root._bokeh_onload_callbacks\n",
       "    }\n",
       "    console.debug(\"Bokeh: all callbacks have finished\");\n",
       "  }\n",
       "\n",
       "  function load_libs(css_urls, js_urls, callback) {\n",
       "    if (css_urls == null) css_urls = [];\n",
       "    if (js_urls == null) js_urls = [];\n",
       "\n",
       "    root._bokeh_onload_callbacks.push(callback);\n",
       "    if (root._bokeh_is_loading > 0) {\n",
       "      console.debug(\"Bokeh: BokehJS is being loaded, scheduling callback at\", now());\n",
       "      return null;\n",
       "    }\n",
       "    if (js_urls == null || js_urls.length === 0) {\n",
       "      run_callbacks();\n",
       "      return null;\n",
       "    }\n",
       "    console.debug(\"Bokeh: BokehJS not loaded, scheduling load and callback at\", now());\n",
       "    root._bokeh_is_loading = css_urls.length + js_urls.length;\n",
       "\n",
       "    function on_load() {\n",
       "      root._bokeh_is_loading--;\n",
       "      if (root._bokeh_is_loading === 0) {\n",
       "        console.debug(\"Bokeh: all BokehJS libraries/stylesheets loaded\");\n",
       "        run_callbacks()\n",
       "      }\n",
       "    }\n",
       "\n",
       "    function on_error() {\n",
       "      console.error(\"failed to load \" + url);\n",
       "    }\n",
       "\n",
       "    for (var i = 0; i < css_urls.length; i++) {\n",
       "      var url = css_urls[i];\n",
       "      const element = document.createElement(\"link\");\n",
       "      element.onload = on_load;\n",
       "      element.onerror = on_error;\n",
       "      element.rel = \"stylesheet\";\n",
       "      element.type = \"text/css\";\n",
       "      element.href = url;\n",
       "      console.debug(\"Bokeh: injecting link tag for BokehJS stylesheet: \", url);\n",
       "      document.body.appendChild(element);\n",
       "    }\n",
       "\n",
       "    for (var i = 0; i < js_urls.length; i++) {\n",
       "      var url = js_urls[i];\n",
       "      var element = document.createElement('script');\n",
       "      element.onload = on_load;\n",
       "      element.onerror = on_error;\n",
       "      element.async = false;\n",
       "      element.src = url;\n",
       "      console.debug(\"Bokeh: injecting script tag for BokehJS library: \", url);\n",
       "      document.head.appendChild(element);\n",
       "    }\n",
       "  };var element = document.getElementById(\"1001\");\n",
       "  if (element == null) {\n",
       "    console.error(\"Bokeh: ERROR: autoload.js configured with elementid '1001' but no matching script tag was found. \")\n",
       "    return false;\n",
       "  }\n",
       "\n",
       "  function inject_raw_css(css) {\n",
       "    const element = document.createElement(\"style\");\n",
       "    element.appendChild(document.createTextNode(css));\n",
       "    document.body.appendChild(element);\n",
       "  }\n",
       "\n",
       "  var js_urls = [\"https://cdn.pydata.org/bokeh/release/bokeh-1.3.4.min.js\", \"https://cdn.pydata.org/bokeh/release/bokeh-widgets-1.3.4.min.js\", \"https://cdn.pydata.org/bokeh/release/bokeh-tables-1.3.4.min.js\", \"https://cdn.pydata.org/bokeh/release/bokeh-gl-1.3.4.min.js\"];\n",
       "  var css_urls = [];\n",
       "\n",
       "  var inline_js = [\n",
       "    function(Bokeh) {\n",
       "      Bokeh.set_log_level(\"info\");\n",
       "    },\n",
       "    \n",
       "    function(Bokeh) {\n",
       "      \n",
       "    },\n",
       "    function(Bokeh) {} // ensure no trailing comma for IE\n",
       "  ];\n",
       "\n",
       "  function run_inline_js() {\n",
       "    \n",
       "    if ((root.Bokeh !== undefined) || (force === true)) {\n",
       "      for (var i = 0; i < inline_js.length; i++) {\n",
       "        inline_js[i].call(root, root.Bokeh);\n",
       "      }if (force === true) {\n",
       "        display_loaded();\n",
       "      }} else if (Date.now() < root._bokeh_timeout) {\n",
       "      setTimeout(run_inline_js, 100);\n",
       "    } else if (!root._bokeh_failed_load) {\n",
       "      console.log(\"Bokeh: BokehJS failed to load within specified timeout.\");\n",
       "      root._bokeh_failed_load = true;\n",
       "    } else if (force !== true) {\n",
       "      var cell = $(document.getElementById(\"1001\")).parents('.cell').data().cell;\n",
       "      cell.output_area.append_execute_result(NB_LOAD_WARNING)\n",
       "    }\n",
       "\n",
       "  }\n",
       "\n",
       "  if (root._bokeh_is_loading === 0) {\n",
       "    console.debug(\"Bokeh: BokehJS loaded, going straight to plotting\");\n",
       "    run_inline_js();\n",
       "  } else {\n",
       "    load_libs(css_urls, js_urls, function() {\n",
       "      console.debug(\"Bokeh: BokehJS plotting callback run at\", now());\n",
       "      run_inline_js();\n",
       "    });\n",
       "  }\n",
       "}(window));"
      ],
      "application/vnd.bokehjs_load.v0+json": "\n(function(root) {\n  function now() {\n    return new Date();\n  }\n\n  var force = true;\n\n  if (typeof root._bokeh_onload_callbacks === \"undefined\" || force === true) {\n    root._bokeh_onload_callbacks = [];\n    root._bokeh_is_loading = undefined;\n  }\n\n  \n\n  \n  if (typeof (root._bokeh_timeout) === \"undefined\" || force === true) {\n    root._bokeh_timeout = Date.now() + 5000;\n    root._bokeh_failed_load = false;\n  }\n\n  var NB_LOAD_WARNING = {'data': {'text/html':\n     \"<div style='background-color: #fdd'>\\n\"+\n     \"<p>\\n\"+\n     \"BokehJS does not appear to have successfully loaded. If loading BokehJS from CDN, this \\n\"+\n     \"may be due to a slow or bad network connection. Possible fixes:\\n\"+\n     \"</p>\\n\"+\n     \"<ul>\\n\"+\n     \"<li>re-rerun `output_notebook()` to attempt to load from CDN again, or</li>\\n\"+\n     \"<li>use INLINE resources instead, as so:</li>\\n\"+\n     \"</ul>\\n\"+\n     \"<code>\\n\"+\n     \"from bokeh.resources import INLINE\\n\"+\n     \"output_notebook(resources=INLINE)\\n\"+\n     \"</code>\\n\"+\n     \"</div>\"}};\n\n  function display_loaded() {\n    var el = document.getElementById(\"1001\");\n    if (el != null) {\n      el.textContent = \"BokehJS is loading...\";\n    }\n    if (root.Bokeh !== undefined) {\n      if (el != null) {\n        el.textContent = \"BokehJS \" + root.Bokeh.version + \" successfully loaded.\";\n      }\n    } else if (Date.now() < root._bokeh_timeout) {\n      setTimeout(display_loaded, 100)\n    }\n  }\n\n\n  function run_callbacks() {\n    try {\n      root._bokeh_onload_callbacks.forEach(function(callback) {\n        if (callback != null)\n          callback();\n      });\n    } finally {\n      delete root._bokeh_onload_callbacks\n    }\n    console.debug(\"Bokeh: all callbacks have finished\");\n  }\n\n  function load_libs(css_urls, js_urls, callback) {\n    if (css_urls == null) css_urls = [];\n    if (js_urls == null) js_urls = [];\n\n    root._bokeh_onload_callbacks.push(callback);\n    if (root._bokeh_is_loading > 0) {\n      console.debug(\"Bokeh: BokehJS is being loaded, scheduling callback at\", now());\n      return null;\n    }\n    if (js_urls == null || js_urls.length === 0) {\n      run_callbacks();\n      return null;\n    }\n    console.debug(\"Bokeh: BokehJS not loaded, scheduling load and callback at\", now());\n    root._bokeh_is_loading = css_urls.length + js_urls.length;\n\n    function on_load() {\n      root._bokeh_is_loading--;\n      if (root._bokeh_is_loading === 0) {\n        console.debug(\"Bokeh: all BokehJS libraries/stylesheets loaded\");\n        run_callbacks()\n      }\n    }\n\n    function on_error() {\n      console.error(\"failed to load \" + url);\n    }\n\n    for (var i = 0; i < css_urls.length; i++) {\n      var url = css_urls[i];\n      const element = document.createElement(\"link\");\n      element.onload = on_load;\n      element.onerror = on_error;\n      element.rel = \"stylesheet\";\n      element.type = \"text/css\";\n      element.href = url;\n      console.debug(\"Bokeh: injecting link tag for BokehJS stylesheet: \", url);\n      document.body.appendChild(element);\n    }\n\n    for (var i = 0; i < js_urls.length; i++) {\n      var url = js_urls[i];\n      var element = document.createElement('script');\n      element.onload = on_load;\n      element.onerror = on_error;\n      element.async = false;\n      element.src = url;\n      console.debug(\"Bokeh: injecting script tag for BokehJS library: \", url);\n      document.head.appendChild(element);\n    }\n  };var element = document.getElementById(\"1001\");\n  if (element == null) {\n    console.error(\"Bokeh: ERROR: autoload.js configured with elementid '1001' but no matching script tag was found. \")\n    return false;\n  }\n\n  function inject_raw_css(css) {\n    const element = document.createElement(\"style\");\n    element.appendChild(document.createTextNode(css));\n    document.body.appendChild(element);\n  }\n\n  var js_urls = [\"https://cdn.pydata.org/bokeh/release/bokeh-1.3.4.min.js\", \"https://cdn.pydata.org/bokeh/release/bokeh-widgets-1.3.4.min.js\", \"https://cdn.pydata.org/bokeh/release/bokeh-tables-1.3.4.min.js\", \"https://cdn.pydata.org/bokeh/release/bokeh-gl-1.3.4.min.js\"];\n  var css_urls = [];\n\n  var inline_js = [\n    function(Bokeh) {\n      Bokeh.set_log_level(\"info\");\n    },\n    \n    function(Bokeh) {\n      \n    },\n    function(Bokeh) {} // ensure no trailing comma for IE\n  ];\n\n  function run_inline_js() {\n    \n    if ((root.Bokeh !== undefined) || (force === true)) {\n      for (var i = 0; i < inline_js.length; i++) {\n        inline_js[i].call(root, root.Bokeh);\n      }if (force === true) {\n        display_loaded();\n      }} else if (Date.now() < root._bokeh_timeout) {\n      setTimeout(run_inline_js, 100);\n    } else if (!root._bokeh_failed_load) {\n      console.log(\"Bokeh: BokehJS failed to load within specified timeout.\");\n      root._bokeh_failed_load = true;\n    } else if (force !== true) {\n      var cell = $(document.getElementById(\"1001\")).parents('.cell').data().cell;\n      cell.output_area.append_execute_result(NB_LOAD_WARNING)\n    }\n\n  }\n\n  if (root._bokeh_is_loading === 0) {\n    console.debug(\"Bokeh: BokehJS loaded, going straight to plotting\");\n    run_inline_js();\n  } else {\n    load_libs(css_urls, js_urls, function() {\n      console.debug(\"Bokeh: BokehJS plotting callback run at\", now());\n      run_inline_js();\n    });\n  }\n}(window));"
     },
     "metadata": {},
     "output_type": "display_data"
    },
    {
     "data": {
      "text/html": [
       "\n",
       "\n",
       "\n",
       "\n",
       "\n",
       "\n",
       "  <div class=\"bk-root\" id=\"f9dcfde0-e6d2-4b8c-bfb8-5593d98494a4\" data-root-id=\"1150\"></div>\n"
      ]
     },
     "metadata": {},
     "output_type": "display_data"
    },
    {
     "data": {
      "application/javascript": [
       "(function(root) {\n",
       "  function embed_document(root) {\n",
       "    \n",
       "  var docs_json = {\"3854d8ff-611d-4b12-9491-69265812150c\":{\"roots\":{\"references\":[{\"attributes\":{\"children\":[{\"id\":\"1148\",\"type\":\"Row\"},{\"id\":\"1149\",\"type\":\"Row\"}],\"sizing_mode\":\"scale_width\"},\"id\":\"1150\",\"type\":\"Column\"},{\"attributes\":{},\"id\":\"1167\",\"type\":\"UnionRenderers\"},{\"attributes\":{},\"id\":\"1025\",\"type\":\"WheelZoomTool\"},{\"attributes\":{},\"id\":\"1056\",\"type\":\"BasicTicker\"},{\"attributes\":{\"dimension\":1,\"ticker\":{\"id\":\"1056\",\"type\":\"BasicTicker\"}},\"id\":\"1059\",\"type\":\"Grid\"},{\"attributes\":{\"axis_label\":\"Velocidade, v(t) [m/s]\",\"axis_label_text_font_size\":{\"value\":\"16px\"},\"axis_label_text_font_style\":\"normal\",\"formatter\":{\"id\":\"1158\",\"type\":\"BasicTickFormatter\"},\"major_label_text_font_size\":{\"value\":\"16px\"},\"ticker\":{\"id\":\"1056\",\"type\":\"BasicTicker\"}},\"id\":\"1055\",\"type\":\"LinearAxis\"},{\"attributes\":{\"line_color\":\"#0095DD\",\"line_width\":3,\"x\":{\"field\":\"tempo\"},\"y\":{\"field\":\"posicao\"}},\"id\":\"1112\",\"type\":\"Line\"},{\"attributes\":{\"callback\":null},\"id\":\"1006\",\"type\":\"DataRange1d\"},{\"attributes\":{\"text\":\"Acelera\\u00e7\\u00e3o em func\\u00e3o do tempo.\"},\"id\":\"1076\",\"type\":\"Title\"},{\"attributes\":{\"data_source\":{\"id\":\"1002\",\"type\":\"ColumnDataSource\"},\"glyph\":{\"id\":\"1112\",\"type\":\"Line\"},\"hover_glyph\":null,\"muted_glyph\":null,\"nonselection_glyph\":{\"id\":\"1113\",\"type\":\"Line\"},\"selection_glyph\":null,\"view\":{\"id\":\"1115\",\"type\":\"CDSView\"}},\"id\":\"1114\",\"type\":\"GlyphRenderer\"},{\"attributes\":{\"callback\":null},\"id\":\"1078\",\"type\":\"DataRange1d\"},{\"attributes\":{\"fill_alpha\":{\"value\":0.1},\"fill_color\":{\"value\":\"#1f77b4\"},\"line_alpha\":{\"value\":0.1},\"line_color\":{\"value\":\"#1f77b4\"},\"size\":{\"units\":\"screen\",\"value\":10},\"x\":{\"field\":\"tempo\"},\"y\":{\"field\":\"posicao\"}},\"id\":\"1118\",\"type\":\"Scatter\"},{\"attributes\":{\"callback\":null,\"tooltips\":[[\"Velocidade [m/s]\",\"@velocidade{0.00}\"],[\"Tempo [s]\",\"@tempo\"]]},\"id\":\"1066\",\"type\":\"HoverTool\"},{\"attributes\":{},\"id\":\"1082\",\"type\":\"LinearScale\"},{\"attributes\":{},\"id\":\"1060\",\"type\":\"PanTool\"},{\"attributes\":{},\"id\":\"1061\",\"type\":\"WheelZoomTool\"},{\"attributes\":{\"overlay\":{\"id\":\"1169\",\"type\":\"BoxAnnotation\"}},\"id\":\"1062\",\"type\":\"BoxZoomTool\"},{\"attributes\":{},\"id\":\"1063\",\"type\":\"SaveTool\"},{\"attributes\":{},\"id\":\"1015\",\"type\":\"BasicTicker\"},{\"attributes\":{},\"id\":\"1064\",\"type\":\"ResetTool\"},{\"attributes\":{\"children\":[{\"id\":\"1144\",\"type\":\"Slider\"},{\"id\":\"1145\",\"type\":\"Slider\"},{\"id\":\"1146\",\"type\":\"Slider\"}],\"sizing_mode\":\"scale_width\"},\"id\":\"1149\",\"type\":\"Row\"},{\"attributes\":{},\"id\":\"1029\",\"type\":\"HelpTool\"},{\"attributes\":{},\"id\":\"1065\",\"type\":\"HelpTool\"},{\"attributes\":{\"ticker\":{\"id\":\"1051\",\"type\":\"BasicTicker\"}},\"id\":\"1054\",\"type\":\"Grid\"},{\"attributes\":{\"axis_label\":\"Tempo, t [s]\",\"axis_label_text_font_size\":{\"value\":\"16px\"},\"axis_label_text_font_style\":\"normal\",\"formatter\":{\"id\":\"1156\",\"type\":\"BasicTickFormatter\"},\"major_label_text_font_size\":{\"value\":\"16px\"},\"ticker\":{\"id\":\"1015\",\"type\":\"BasicTicker\"}},\"id\":\"1014\",\"type\":\"LinearAxis\"},{\"attributes\":{\"active_drag\":\"auto\",\"active_inspect\":\"auto\",\"active_multi\":null,\"active_scroll\":\"auto\",\"active_tap\":\"auto\",\"logo\":null,\"tools\":[{\"id\":\"1060\",\"type\":\"PanTool\"},{\"id\":\"1061\",\"type\":\"WheelZoomTool\"},{\"id\":\"1062\",\"type\":\"BoxZoomTool\"},{\"id\":\"1063\",\"type\":\"SaveTool\"},{\"id\":\"1064\",\"type\":\"ResetTool\"},{\"id\":\"1065\",\"type\":\"HelpTool\"},{\"id\":\"1066\",\"type\":\"HoverTool\"}]},\"id\":\"1067\",\"type\":\"Toolbar\"},{\"attributes\":{},\"id\":\"1048\",\"type\":\"LinearScale\"},{\"attributes\":{\"axis_label\":\"Tempo, t [s]\",\"axis_label_text_font_size\":{\"value\":\"16px\"},\"axis_label_text_font_style\":\"normal\",\"formatter\":{\"id\":\"1160\",\"type\":\"BasicTickFormatter\"},\"major_label_text_font_size\":{\"value\":\"16px\"},\"ticker\":{\"id\":\"1051\",\"type\":\"BasicTicker\"}},\"id\":\"1050\",\"type\":\"LinearAxis\"},{\"attributes\":{},\"id\":\"1051\",\"type\":\"BasicTicker\"},{\"attributes\":{\"callback\":null,\"end\":12,\"start\":-12},\"id\":\"1080\",\"type\":\"Range1d\"},{\"attributes\":{},\"id\":\"1084\",\"type\":\"LinearScale\"},{\"attributes\":{\"axis_label\":\"Tempo, t [s]\",\"axis_label_text_font_size\":{\"value\":\"16px\"},\"axis_label_text_font_style\":\"normal\",\"formatter\":{\"id\":\"1164\",\"type\":\"BasicTickFormatter\"},\"major_label_text_font_size\":{\"value\":\"16px\"},\"ticker\":{\"id\":\"1087\",\"type\":\"BasicTicker\"}},\"id\":\"1086\",\"type\":\"LinearAxis\"},{\"attributes\":{\"active_drag\":\"auto\",\"active_inspect\":\"auto\",\"active_multi\":null,\"active_scroll\":\"auto\",\"active_tap\":\"auto\",\"logo\":null,\"tools\":[{\"id\":\"1024\",\"type\":\"PanTool\"},{\"id\":\"1025\",\"type\":\"WheelZoomTool\"},{\"id\":\"1026\",\"type\":\"BoxZoomTool\"},{\"id\":\"1027\",\"type\":\"SaveTool\"},{\"id\":\"1028\",\"type\":\"ResetTool\"},{\"id\":\"1029\",\"type\":\"HelpTool\"},{\"id\":\"1030\",\"type\":\"HoverTool\"}]},\"id\":\"1031\",\"type\":\"Toolbar\"},{\"attributes\":{},\"id\":\"1012\",\"type\":\"LinearScale\"},{\"attributes\":{},\"id\":\"1092\",\"type\":\"BasicTicker\"},{\"attributes\":{},\"id\":\"1087\",\"type\":\"BasicTicker\"},{\"attributes\":{\"ticker\":{\"id\":\"1087\",\"type\":\"BasicTicker\"}},\"id\":\"1090\",\"type\":\"Grid\"},{\"attributes\":{\"dimension\":1,\"ticker\":{\"id\":\"1092\",\"type\":\"BasicTicker\"}},\"id\":\"1095\",\"type\":\"Grid\"},{\"attributes\":{\"axis_label\":\"Acelera\\u00e7\\u00e3o, a [m/s\\u00b2]\",\"axis_label_text_font_size\":{\"value\":\"16px\"},\"axis_label_text_font_style\":\"normal\",\"formatter\":{\"id\":\"1162\",\"type\":\"BasicTickFormatter\"},\"major_label_text_font_size\":{\"value\":\"16px\"},\"ticker\":{\"id\":\"1092\",\"type\":\"BasicTicker\"}},\"id\":\"1091\",\"type\":\"LinearAxis\"},{\"attributes\":{\"line_alpha\":0.1,\"line_color\":\"#1f77b4\",\"line_width\":3,\"x\":{\"field\":\"tempo\"},\"y\":{\"field\":\"posicao\"}},\"id\":\"1113\",\"type\":\"Line\"},{\"attributes\":{\"source\":{\"id\":\"1002\",\"type\":\"ColumnDataSource\"}},\"id\":\"1115\",\"type\":\"CDSView\"},{\"attributes\":{\"callback\":null,\"tooltips\":[[\"Acelera\\u00e7\\u00e3o [m/s\\u00b2]\",\"@aceleracao{0.00}\"],[\"Tempo [s]\",\"@tempo\"]]},\"id\":\"1102\",\"type\":\"HoverTool\"},{\"attributes\":{},\"id\":\"1028\",\"type\":\"ResetTool\"},{\"attributes\":{\"source\":{\"id\":\"1002\",\"type\":\"ColumnDataSource\"}},\"id\":\"1142\",\"type\":\"CDSView\"},{\"attributes\":{},\"id\":\"1024\",\"type\":\"PanTool\"},{\"attributes\":{},\"id\":\"1096\",\"type\":\"PanTool\"},{\"attributes\":{\"bar_color\":\"#E34A33\",\"callback\":null,\"end\":10,\"js_property_callbacks\":{\"change:value\":[{\"id\":\"1147\",\"type\":\"CustomJS\"}]},\"sizing_mode\":\"scale_width\",\"start\":-10,\"step\":0.01,\"title\":\"Acelera\\u00e7\\u00e3o, a [m/s\\u00b2]\",\"value\":0},\"id\":\"1146\",\"type\":\"Slider\"},{\"attributes\":{\"callback\":null,\"end\":180,\"start\":-180},\"id\":\"1044\",\"type\":\"Range1d\"},{\"attributes\":{},\"id\":\"1097\",\"type\":\"WheelZoomTool\"},{\"attributes\":{\"bar_color\":\"#31A354\",\"callback\":null,\"end\":20,\"js_property_callbacks\":{\"change:value\":[{\"id\":\"1147\",\"type\":\"CustomJS\"}]},\"sizing_mode\":\"scale_width\",\"start\":-20,\"step\":0.01,\"title\":\"Velocidade inicial, v0 [m/s]\",\"value\":5},\"id\":\"1145\",\"type\":\"Slider\"},{\"attributes\":{\"args\":{\"aceleracao\":{\"id\":\"1146\",\"type\":\"Slider\"},\"posicao_inicial\":{\"id\":\"1144\",\"type\":\"Slider\"},\"source\":{\"id\":\"1002\",\"type\":\"ColumnDataSource\"},\"velocidade_inicial\":{\"id\":\"1145\",\"type\":\"Slider\"}},\"code\":\"\\n            const data = source.data;\\n            const s0   = posicao_inicial.value;\\n            const v0   = velocidade_inicial.value;\\n            const a    = aceleracao.value;\\n            const t    = data['tempo'];\\n            const s_t  = data['posicao'];\\n            const v_t  = data['velocidade'];\\n            const a_t  = data['aceleracao'];\\n            \\n            for (let i = 0; i < t.length; i++) {\\n                s_t[i] = s0 + v0*t[i] + 0.5*a*(t[i]**2);\\n                v_t[i] = v0 + a*t[i];\\n                a_t[i] = a;\\n            }\\n            source.change.emit()\\n    \"},\"id\":\"1147\",\"type\":\"CustomJS\"},{\"attributes\":{\"overlay\":{\"id\":\"1170\",\"type\":\"BoxAnnotation\"}},\"id\":\"1098\",\"type\":\"BoxZoomTool\"},{\"attributes\":{},\"id\":\"1099\",\"type\":\"SaveTool\"},{\"attributes\":{\"ticker\":{\"id\":\"1015\",\"type\":\"BasicTicker\"}},\"id\":\"1018\",\"type\":\"Grid\"},{\"attributes\":{},\"id\":\"1100\",\"type\":\"ResetTool\"},{\"attributes\":{},\"id\":\"1020\",\"type\":\"BasicTicker\"},{\"attributes\":{\"children\":[{\"id\":\"1003\",\"subtype\":\"Figure\",\"type\":\"Plot\"},{\"id\":\"1039\",\"subtype\":\"Figure\",\"type\":\"Plot\"},{\"id\":\"1075\",\"subtype\":\"Figure\",\"type\":\"Plot\"}],\"sizing_mode\":\"scale_width\"},\"id\":\"1148\",\"type\":\"Row\"},{\"attributes\":{},\"id\":\"1101\",\"type\":\"HelpTool\"},{\"attributes\":{\"fill_color\":{\"value\":\"#FFFFFF\"},\"line_color\":{\"value\":\"#0095DD\"},\"size\":{\"units\":\"screen\",\"value\":10},\"x\":{\"field\":\"tempo\"},\"y\":{\"field\":\"posicao\"}},\"id\":\"1117\",\"type\":\"Scatter\"},{\"attributes\":{\"active_drag\":\"auto\",\"active_inspect\":\"auto\",\"active_multi\":null,\"active_scroll\":\"auto\",\"active_tap\":\"auto\",\"logo\":null,\"tools\":[{\"id\":\"1096\",\"type\":\"PanTool\"},{\"id\":\"1097\",\"type\":\"WheelZoomTool\"},{\"id\":\"1098\",\"type\":\"BoxZoomTool\"},{\"id\":\"1099\",\"type\":\"SaveTool\"},{\"id\":\"1100\",\"type\":\"ResetTool\"},{\"id\":\"1101\",\"type\":\"HelpTool\"},{\"id\":\"1102\",\"type\":\"HoverTool\"}]},\"id\":\"1103\",\"type\":\"Toolbar\"},{\"attributes\":{},\"id\":\"1154\",\"type\":\"BasicTickFormatter\"},{\"attributes\":{},\"id\":\"1027\",\"type\":\"SaveTool\"},{\"attributes\":{\"callback\":null,\"tooltips\":[[\"Posi\\u00e7\\u00e3o [m]\",\"@posicao{0.00}\"],[\"Tempo [s]\",\"@tempo\"]]},\"id\":\"1030\",\"type\":\"HoverTool\"},{\"attributes\":{},\"id\":\"1156\",\"type\":\"BasicTickFormatter\"},{\"attributes\":{\"source\":{\"id\":\"1002\",\"type\":\"ColumnDataSource\"}},\"id\":\"1120\",\"type\":\"CDSView\"},{\"attributes\":{\"callback\":null},\"id\":\"1008\",\"type\":\"DataRange1d\"},{\"attributes\":{\"bottom_units\":\"screen\",\"fill_alpha\":{\"value\":0.5},\"fill_color\":{\"value\":\"lightgrey\"},\"left_units\":\"screen\",\"level\":\"overlay\",\"line_alpha\":{\"value\":1.0},\"line_color\":{\"value\":\"black\"},\"line_dash\":[4,4],\"line_width\":{\"value\":2},\"render_mode\":\"css\",\"right_units\":\"screen\",\"top_units\":\"screen\"},\"id\":\"1169\",\"type\":\"BoxAnnotation\"},{\"attributes\":{\"line_color\":\"#31A354\",\"line_width\":3,\"x\":{\"field\":\"tempo\"},\"y\":{\"field\":\"velocidade\"}},\"id\":\"1123\",\"type\":\"Line\"},{\"attributes\":{\"dimension\":1,\"ticker\":{\"id\":\"1020\",\"type\":\"BasicTicker\"}},\"id\":\"1023\",\"type\":\"Grid\"},{\"attributes\":{},\"id\":\"1164\",\"type\":\"BasicTickFormatter\"},{\"attributes\":{\"bar_color\":\"#0095DD\",\"callback\":null,\"end\":100,\"js_property_callbacks\":{\"change:value\":[{\"id\":\"1147\",\"type\":\"CustomJS\"}]},\"sizing_mode\":\"scale_width\",\"start\":-100,\"step\":0.01,\"title\":\"Posi\\u00e7\\u00e3o inicial, s0 [m]\",\"value\":0},\"id\":\"1144\",\"type\":\"Slider\"},{\"attributes\":{},\"id\":\"1168\",\"type\":\"Selection\"},{\"attributes\":{\"fill_color\":{\"value\":\"#FFFFFF\"},\"line_color\":{\"value\":\"#31A354\"},\"size\":{\"units\":\"screen\",\"value\":10},\"x\":{\"field\":\"tempo\"},\"y\":{\"field\":\"velocidade\"}},\"id\":\"1128\",\"type\":\"Scatter\"},{\"attributes\":{\"bottom_units\":\"screen\",\"fill_alpha\":{\"value\":0.5},\"fill_color\":{\"value\":\"lightgrey\"},\"left_units\":\"screen\",\"level\":\"overlay\",\"line_alpha\":{\"value\":1.0},\"line_color\":{\"value\":\"black\"},\"line_dash\":[4,4],\"line_width\":{\"value\":2},\"render_mode\":\"css\",\"right_units\":\"screen\",\"top_units\":\"screen\"},\"id\":\"1166\",\"type\":\"BoxAnnotation\"},{\"attributes\":{\"bottom_units\":\"screen\",\"fill_alpha\":{\"value\":0.5},\"fill_color\":{\"value\":\"lightgrey\"},\"left_units\":\"screen\",\"level\":\"overlay\",\"line_alpha\":{\"value\":1.0},\"line_color\":{\"value\":\"black\"},\"line_dash\":[4,4],\"line_width\":{\"value\":2},\"render_mode\":\"css\",\"right_units\":\"screen\",\"top_units\":\"screen\"},\"id\":\"1170\",\"type\":\"BoxAnnotation\"},{\"attributes\":{\"line_alpha\":0.1,\"line_color\":\"#1f77b4\",\"line_width\":3,\"x\":{\"field\":\"tempo\"},\"y\":{\"field\":\"velocidade\"}},\"id\":\"1124\",\"type\":\"Line\"},{\"attributes\":{\"data_source\":{\"id\":\"1002\",\"type\":\"ColumnDataSource\"},\"glyph\":{\"id\":\"1123\",\"type\":\"Line\"},\"hover_glyph\":null,\"muted_glyph\":null,\"nonselection_glyph\":{\"id\":\"1124\",\"type\":\"Line\"},\"selection_glyph\":null,\"view\":{\"id\":\"1126\",\"type\":\"CDSView\"}},\"id\":\"1125\",\"type\":\"GlyphRenderer\"},{\"attributes\":{\"text\":\"Velocidade em func\\u00e3o do tempo.\"},\"id\":\"1040\",\"type\":\"Title\"},{\"attributes\":{\"source\":{\"id\":\"1002\",\"type\":\"ColumnDataSource\"}},\"id\":\"1126\",\"type\":\"CDSView\"},{\"attributes\":{\"overlay\":{\"id\":\"1166\",\"type\":\"BoxAnnotation\"}},\"id\":\"1026\",\"type\":\"BoxZoomTool\"},{\"attributes\":{},\"id\":\"1162\",\"type\":\"BasicTickFormatter\"},{\"attributes\":{\"below\":[{\"id\":\"1014\",\"type\":\"LinearAxis\"}],\"center\":[{\"id\":\"1018\",\"type\":\"Grid\"},{\"id\":\"1023\",\"type\":\"Grid\"}],\"left\":[{\"id\":\"1019\",\"type\":\"LinearAxis\"}],\"plot_height\":100,\"plot_width\":100,\"renderers\":[{\"id\":\"1114\",\"type\":\"GlyphRenderer\"},{\"id\":\"1119\",\"type\":\"GlyphRenderer\"}],\"sizing_mode\":\"scale_width\",\"title\":{\"id\":\"1004\",\"type\":\"Title\"},\"toolbar\":{\"id\":\"1031\",\"type\":\"Toolbar\"},\"toolbar_location\":null,\"x_range\":{\"id\":\"1006\",\"type\":\"DataRange1d\"},\"x_scale\":{\"id\":\"1010\",\"type\":\"LinearScale\"},\"y_range\":{\"id\":\"1008\",\"type\":\"DataRange1d\"},\"y_scale\":{\"id\":\"1012\",\"type\":\"LinearScale\"}},\"id\":\"1003\",\"subtype\":\"Figure\",\"type\":\"Plot\"},{\"attributes\":{\"fill_alpha\":{\"value\":0.1},\"fill_color\":{\"value\":\"#1f77b4\"},\"line_alpha\":{\"value\":0.1},\"line_color\":{\"value\":\"#1f77b4\"},\"size\":{\"units\":\"screen\",\"value\":10},\"x\":{\"field\":\"tempo\"},\"y\":{\"field\":\"velocidade\"}},\"id\":\"1129\",\"type\":\"Scatter\"},{\"attributes\":{},\"id\":\"1046\",\"type\":\"LinearScale\"},{\"attributes\":{},\"id\":\"1160\",\"type\":\"BasicTickFormatter\"},{\"attributes\":{\"data_source\":{\"id\":\"1002\",\"type\":\"ColumnDataSource\"},\"glyph\":{\"id\":\"1117\",\"type\":\"Scatter\"},\"hover_glyph\":null,\"muted_glyph\":null,\"nonselection_glyph\":{\"id\":\"1118\",\"type\":\"Scatter\"},\"selection_glyph\":null,\"view\":{\"id\":\"1120\",\"type\":\"CDSView\"}},\"id\":\"1119\",\"type\":\"GlyphRenderer\"},{\"attributes\":{\"data_source\":{\"id\":\"1002\",\"type\":\"ColumnDataSource\"},\"glyph\":{\"id\":\"1128\",\"type\":\"Scatter\"},\"hover_glyph\":null,\"muted_glyph\":null,\"nonselection_glyph\":{\"id\":\"1129\",\"type\":\"Scatter\"},\"selection_glyph\":null,\"view\":{\"id\":\"1131\",\"type\":\"CDSView\"}},\"id\":\"1130\",\"type\":\"GlyphRenderer\"},{\"attributes\":{\"below\":[{\"id\":\"1050\",\"type\":\"LinearAxis\"}],\"center\":[{\"id\":\"1054\",\"type\":\"Grid\"},{\"id\":\"1059\",\"type\":\"Grid\"}],\"left\":[{\"id\":\"1055\",\"type\":\"LinearAxis\"}],\"plot_height\":100,\"plot_width\":100,\"renderers\":[{\"id\":\"1125\",\"type\":\"GlyphRenderer\"},{\"id\":\"1130\",\"type\":\"GlyphRenderer\"}],\"sizing_mode\":\"scale_width\",\"title\":{\"id\":\"1040\",\"type\":\"Title\"},\"toolbar\":{\"id\":\"1067\",\"type\":\"Toolbar\"},\"toolbar_location\":null,\"x_range\":{\"id\":\"1042\",\"type\":\"DataRange1d\"},\"x_scale\":{\"id\":\"1046\",\"type\":\"LinearScale\"},\"y_range\":{\"id\":\"1044\",\"type\":\"Range1d\"},\"y_scale\":{\"id\":\"1048\",\"type\":\"LinearScale\"}},\"id\":\"1039\",\"subtype\":\"Figure\",\"type\":\"Plot\"},{\"attributes\":{\"line_color\":\"#E34A33\",\"line_width\":3,\"x\":{\"field\":\"tempo\"},\"y\":{\"field\":\"aceleracao\"}},\"id\":\"1134\",\"type\":\"Line\"},{\"attributes\":{\"source\":{\"id\":\"1002\",\"type\":\"ColumnDataSource\"}},\"id\":\"1131\",\"type\":\"CDSView\"},{\"attributes\":{},\"id\":\"1010\",\"type\":\"LinearScale\"},{\"attributes\":{\"callback\":null},\"id\":\"1042\",\"type\":\"DataRange1d\"},{\"attributes\":{\"fill_color\":{\"value\":\"#FFFFFF\"},\"line_color\":{\"value\":\"#E34A33\"},\"size\":{\"units\":\"screen\",\"value\":10},\"x\":{\"field\":\"tempo\"},\"y\":{\"field\":\"aceleracao\"}},\"id\":\"1139\",\"type\":\"Scatter\"},{\"attributes\":{\"text\":\"Posi\\u00e7\\u00e3o em func\\u00e3o do tempo.\"},\"id\":\"1004\",\"type\":\"Title\"},{\"attributes\":{\"callback\":null,\"data\":{\"aceleracao\":[0,0,0,0,0,0,0,0,0,0,0,0,0,0,0,0],\"posicao\":[0,1,2,3,4,5,6,7,8,9,10,11,12,13,14,15],\"tempo\":[0,1,2,3,4,5,6,7,8,9,10,11,12,13,14,15],\"velocidade\":[5,5,5,5,5,5,5,5,5,5,5,5,5,5,5,5]},\"selected\":{\"id\":\"1168\",\"type\":\"Selection\"},\"selection_policy\":{\"id\":\"1167\",\"type\":\"UnionRenderers\"}},\"id\":\"1002\",\"type\":\"ColumnDataSource\"},{\"attributes\":{\"line_alpha\":0.1,\"line_color\":\"#1f77b4\",\"line_width\":3,\"x\":{\"field\":\"tempo\"},\"y\":{\"field\":\"aceleracao\"}},\"id\":\"1135\",\"type\":\"Line\"},{\"attributes\":{\"data_source\":{\"id\":\"1002\",\"type\":\"ColumnDataSource\"},\"glyph\":{\"id\":\"1134\",\"type\":\"Line\"},\"hover_glyph\":null,\"muted_glyph\":null,\"nonselection_glyph\":{\"id\":\"1135\",\"type\":\"Line\"},\"selection_glyph\":null,\"view\":{\"id\":\"1137\",\"type\":\"CDSView\"}},\"id\":\"1136\",\"type\":\"GlyphRenderer\"},{\"attributes\":{\"axis_label\":\"Posi\\u00e7\\u00e3o, s(t) [m]\",\"axis_label_text_font_size\":{\"value\":\"16px\"},\"axis_label_text_font_style\":\"normal\",\"formatter\":{\"id\":\"1154\",\"type\":\"BasicTickFormatter\"},\"major_label_text_font_size\":{\"value\":\"16px\"},\"ticker\":{\"id\":\"1020\",\"type\":\"BasicTicker\"}},\"id\":\"1019\",\"type\":\"LinearAxis\"},{\"attributes\":{\"source\":{\"id\":\"1002\",\"type\":\"ColumnDataSource\"}},\"id\":\"1137\",\"type\":\"CDSView\"},{\"attributes\":{\"below\":[{\"id\":\"1086\",\"type\":\"LinearAxis\"}],\"center\":[{\"id\":\"1090\",\"type\":\"Grid\"},{\"id\":\"1095\",\"type\":\"Grid\"}],\"left\":[{\"id\":\"1091\",\"type\":\"LinearAxis\"}],\"plot_height\":100,\"plot_width\":100,\"renderers\":[{\"id\":\"1136\",\"type\":\"GlyphRenderer\"},{\"id\":\"1141\",\"type\":\"GlyphRenderer\"}],\"sizing_mode\":\"scale_width\",\"title\":{\"id\":\"1076\",\"type\":\"Title\"},\"toolbar\":{\"id\":\"1103\",\"type\":\"Toolbar\"},\"toolbar_location\":null,\"x_range\":{\"id\":\"1078\",\"type\":\"DataRange1d\"},\"x_scale\":{\"id\":\"1082\",\"type\":\"LinearScale\"},\"y_range\":{\"id\":\"1080\",\"type\":\"Range1d\"},\"y_scale\":{\"id\":\"1084\",\"type\":\"LinearScale\"}},\"id\":\"1075\",\"subtype\":\"Figure\",\"type\":\"Plot\"},{\"attributes\":{},\"id\":\"1158\",\"type\":\"BasicTickFormatter\"},{\"attributes\":{\"data_source\":{\"id\":\"1002\",\"type\":\"ColumnDataSource\"},\"glyph\":{\"id\":\"1139\",\"type\":\"Scatter\"},\"hover_glyph\":null,\"muted_glyph\":null,\"nonselection_glyph\":{\"id\":\"1140\",\"type\":\"Scatter\"},\"selection_glyph\":null,\"view\":{\"id\":\"1142\",\"type\":\"CDSView\"}},\"id\":\"1141\",\"type\":\"GlyphRenderer\"},{\"attributes\":{\"fill_alpha\":{\"value\":0.1},\"fill_color\":{\"value\":\"#1f77b4\"},\"line_alpha\":{\"value\":0.1},\"line_color\":{\"value\":\"#1f77b4\"},\"size\":{\"units\":\"screen\",\"value\":10},\"x\":{\"field\":\"tempo\"},\"y\":{\"field\":\"aceleracao\"}},\"id\":\"1140\",\"type\":\"Scatter\"}],\"root_ids\":[\"1150\"]},\"title\":\"Bokeh Application\",\"version\":\"1.3.4\"}};\n",
       "  var render_items = [{\"docid\":\"3854d8ff-611d-4b12-9491-69265812150c\",\"roots\":{\"1150\":\"f9dcfde0-e6d2-4b8c-bfb8-5593d98494a4\"}}];\n",
       "  root.Bokeh.embed.embed_items_notebook(docs_json, render_items);\n",
       "\n",
       "  }\n",
       "  if (root.Bokeh !== undefined) {\n",
       "    embed_document(root);\n",
       "  } else {\n",
       "    var attempts = 0;\n",
       "    var timer = setInterval(function(root) {\n",
       "      if (root.Bokeh !== undefined) {\n",
       "        embed_document(root);\n",
       "        clearInterval(timer);\n",
       "      }\n",
       "      attempts++;\n",
       "      if (attempts > 100) {\n",
       "        console.log(\"Bokeh: ERROR: Unable to run BokehJS code because BokehJS library is missing\");\n",
       "        clearInterval(timer);\n",
       "      }\n",
       "    }, 10, root)\n",
       "  }\n",
       "})(window);"
      ],
      "application/vnd.bokehjs_exec.v0+json": ""
     },
     "metadata": {
      "application/vnd.bokehjs_exec.v0+json": {
       "id": "1150"
      }
     },
     "output_type": "display_data"
    }
   ],
   "source": [
    "mruv_iterative()"
   ]
  },
  {
   "cell_type": "markdown",
   "metadata": {},
   "source": [
    "<p class='justified'>\n",
    "<b>Figura 1.</b> Gráficos iterativos da Posição $S$ (m), da velocidade $v$ (m/s) e da aceleração $a$ (m/s²) do carro versus tempo $t$ (s).\n",
    "</p>"
   ]
  },
  {
   "cell_type": "markdown",
   "metadata": {},
   "source": [
    "<p class='justified'>\n",
    "    Observe que se colocarmos valores positivos para a aceleração ($a > 0$), o gráfico da velocidade se transforma em uma reta com inclinação positiva, cujo coeficiente linear é a velocidade inicial do movimento $v_0$ no tempo $t = 0s$. Já o gráfico da posição se transforma em uma parábola com concavidade positiva. Para valores negativos da aceleração ($a < 0$), a inclinação da reta que descreve a velocidade muda e tende para valores cada vez menores conforme o tempo passa. Isso significa que o carro está freiando, ou seja, desacelerando, até sua velocidade ser nula e após isso ele começa a dar ré, ou seja, ir no sentido contrário do movimento. Nesse caso, o gráfico da posição é descrito por uma parábola de concavidade negativa. O carro percorre uma distância a partir da origem $S_0$ e depois começa a voltar.\n",
    "</p>\n",
    "\n",
    "<p class='justified'>\n",
    "    De fato, esses comportamentos se devem ao fato do tipo de equações que definem o <b>MRUV</b>:\n",
    "</p>\n",
    "\n",
    "$$\n",
    "    v(t) = v_0 + at\n",
    "    \\label{eq:mruv_vel}\n",
    "$$\n",
    "\n",
    "e\n",
    "\n",
    "$$\n",
    "    S(t) = S_0 + v_0t + \\frac{1}{2}a t^2.\n",
    "    \\label{eq:mruv_pos}\n",
    "$$"
   ]
  },
  {
   "cell_type": "markdown",
   "metadata": {},
   "source": [
    "<p class='justified'>\n",
    "    Voltando ao exemplo do carro. Suponha que o carro que você está observando aumenta a velocidade em $3{,}00\\,m/s$ a cada segundo que se passa, ou seja. A aceleração é definida como a variação da velocidade em um intervalo de tempo, portando, nesse caso:\n",
    "</p>\n",
    "\n",
    "$$\n",
    "    a = \\frac{\\Delta v}{\\Delta t} = \\frac{3{,}00\\,m/s}{1{,}00\\,s} = 3{,}00\\,\\frac{m/s}{s} = 3{,}00\\,m/s^2.\n",
    "$$\n",
    "\n",
    "<p class='justified'>\n",
    "    Vemos então que a unidade de aceleração é $m/s^2$. \n",
    "</p>\n",
    "\n",
    "<p class='justified'>\n",
    "Lembrando que quando você começa a cronometrar ($t = 0$), o carro está passando em frente a sua casa, de maneira que definimos esse ponto como $S_0$ e a velocidade do carro nesse instante é $v_0 = 5{,}00\\,m/s$. Dessa forma, as Eqs.\\eqref{eq:mruv_vel} e \\eqref{eq:mruv_pos} podem ser escritas como\n",
    "</p>\n",
    "\n",
    "$$\n",
    "    v(t) = \\left( 5{,}00\\,m/s\\right) + \\left( 3{,}00\\,m/s^2\\right)t\n",
    "    \\label{eq:carro_vel}\n",
    "$$\n",
    "\n",
    "e\n",
    "\n",
    "$$\n",
    "    S(t) = S_0 + \\left( 5{,}00\\,m/s\\right)t + \\frac{1}{2}\\left( 3{,}00\\,m/s^2\\right) t^2.\n",
    "$$\n",
    "\n",
    "<p class='justified'>\n",
    "    Caso a origem do sistema de coordenadas seja definida em frente sua casa, $S_0 = 0{,}00\\,m$, de maneira que\n",
    "</p>\n",
    "\n",
    "$$\n",
    "    S(t) = \\left( 5{,}00\\,m/s\\right)t + \\frac{1}{2}\\left( 3{,}00\\,m/s^2\\right) t^2.\n",
    "    \\label{eq:carro_pos}\n",
    "$$"
   ]
  },
  {
   "cell_type": "markdown",
   "metadata": {},
   "source": [
    "<p classs='justified'>\n",
    "A seguir, vamos analisar a equação de movimento do carro dada pela Eq. \\eqref{eq:carro_pos} de forma gráfica utilizando o <mark class='mono_gray'>Python</mark>. O gráfico do comportamento desse veículo quando colhemos os dados das posições em $t=[0,2,4,6,8,10]\\, s$, a partir de $S_0 = 0\\, m$. \n",
    "</p>\n",
    "\n",
    "<p classs='justified'>\n",
    "<b>a)</b> Definindo as variáveis, dependente e independente e confeccionando o gráfico digitando os dados.\n",
    "</p>\n",
    "    \n",
    "<p classs='justified'>\n",
    "    Nossa <b>variável independente</b> é o <b>tempo</b> e as <b>variáveis dependentes</b> são a posição e a velocidade do carro, que depende do tempo. Dessa forma, colocamos o tempo $t$ no eixo $x$ e, em um gráfico a posição do carro $S(t)$ no eixo $y$ e em outro a velocidade $v(t)$.\n",
    "</p>"
   ]
  },
  {
   "cell_type": "code",
   "execution_count": 4,
   "metadata": {
    "ExecuteTime": {
     "end_time": "2020-07-03T22:19:02.742585Z",
     "start_time": "2020-07-03T22:19:02.155969Z"
    }
   },
   "outputs": [
    {
     "data": {
      "image/png": "[encoded data removed]",
      "text/plain": [
       "<Figure size 1584x576 with 2 Axes>"
      ]
     },
     "metadata": {
      "needs_background": "light"
     },
     "output_type": "display_data"
    }
   ],
   "source": [
    "# variavel independente: eixo x, é o tempo que cronometramos\n",
    "tempos_cronometrados = [0, 2, 4, 6, 8, 10]\n",
    "# variavel dependente: eixo y, é a posição do carro\n",
    "def s(s0, v0, a, t):\n",
    "    return s0 + v0*t + (1/2)*a*t**2\n",
    "\n",
    "def v(v0, a, t):\n",
    "    return v0 + a*t\n",
    "\n",
    "# calculamos os valores para a posição em função do tempo\n",
    "# usamos os valores de tempo cronometrados, encontrados \n",
    "# na lista definida acima - tempos_cronometrados - \n",
    "# para calcular os valores da posição do veículo. \n",
    "# Usaremos a posição inicial s0 = 0 m e a velocidade \n",
    "# constante v = 5,0 m/s. Para isso, usaremos uma\n",
    "# ``lista de compreensão`` (list comprehension)\n",
    "posicoes    = [s(s0=0, v0=5, a=3, t=t) for t in tempos_cronometrados];\n",
    "velocidades = [v(      v0=5, a=3, t=t) for t in tempos_cronometrados];\n",
    "\n",
    "# criamos o objeto ``Figure`` e o ``array`` com os gráficos\n",
    "fig, axarr = plt.subplots(nrows=1, ncols=2, figsize=(22,8))\n",
    "\n",
    "kwargs = dict(markersize=15, markerfacecolor=\"#FFFFFF\", markeredgewidth=3, lw=3)\n",
    "\n",
    "# confeccionando o gráfico das posições\n",
    "axarr[0].plot(\n",
    "    tempos_cronometrados, # primeiro argumento são os valores do eixo x\n",
    "    posicoes,             # segundo argumento são os valores do eixo y\n",
    "    marker='o',           # tipo do ponto usado para marcar as coordenadas (x,y)\n",
    "    color='#377eb8',      # cor\n",
    "    **kwargs              # dicionário com propriedades em comum    \n",
    ");\n",
    "\n",
    "# confeccionando o gráfico das velocidades\n",
    "axarr[1].plot(\n",
    "    tempos_cronometrados, # primeiro argumento são os valores do eixo x\n",
    "    velocidades,          # segundo argumento são os valores do eixo y\n",
    "    marker='D',           # tipo do ponto usado para marcar as coordenadas (x,y)\n",
    "    color='#4daf4a',      # cor\n",
    "    **kwargs              # dicionário com propriedades em comum\n",
    ");\n",
    "\n",
    "FONT_SIZE=24\n",
    "\n",
    "# loop pelos gráficos da figura:\n",
    "for counter, ax in enumerate(fig.get_axes()):\n",
    "# desenha as linhas que acompanham os valores nos eixos\n",
    "    ax.grid()\n",
    "\n",
    "    # é importante colocar o nome das quantidade nos eixos\n",
    "    ax.set_xlabel('tempo, t [s]', fontsize=FONT_SIZE);\n",
    "    ax.set_ylabel(['posição, S [m]', 'velocidade, v [m/s]'][counter], fontsize=FONT_SIZE);\n",
    "    ax.set_title(['Posição do carro em função do tempo.',\n",
    "                  'Velocidade do carro em função do tempo.'][counter], fontsize=FONT_SIZE);\n",
    "    ax.tick_params(labelsize=FONT_SIZE)\n",
    "    ax.legend([['Posição, S[m]'], ['Velocidade, v [m/s]']][counter], fontsize=FONT_SIZE)"
   ]
  },
  {
   "cell_type": "markdown",
   "metadata": {},
   "source": [
    "<p class='justified'>\n",
    "<b>Figura 2.</b> Gráficos da Posição $S$ (m) e da velocidade $v$ (m/s) do carro versus tempo $t$ (s).\n",
    "</p>"
   ]
  },
  {
   "cell_type": "markdown",
   "metadata": {},
   "source": [
    "<p class='justified'>\n",
    "<b>b)</b> Agora vamos criar o mesmo gráfico usando a biblioteca <mark class='mono_gray'>pandas</mark>. \n",
    "</p>\n",
    "\n",
    "<p class='justified'>\n",
    "O primeiro passo é criar um <mark class='mono_gray'>DataFrame</mark> e então adicionar as colunas com os dados que temos.\n",
    "</p>"
   ]
  },
  {
   "cell_type": "code",
   "execution_count": 5,
   "metadata": {
    "ExecuteTime": {
     "end_time": "2020-07-03T22:19:15.178472Z",
     "start_time": "2020-07-03T22:19:15.018061Z"
    }
   },
   "outputs": [
    {
     "data": {
      "text/html": [
       "<style  type=\"text/css\" >\n",
       "</style><table id=\"T_3ab444d4_bd7b_11ea_af16_1b8a2246ac4c\" ><caption>Tabela 1. Dados do tempo e suas respectivas posições e velocidades obtidas por meio das Eq. (5) e (7).</caption><thead>    <tr>        <th class=\"blank level0\" ></th>        <th class=\"col_heading level0 col0\" >tempo, t [s]</th>        <th class=\"col_heading level0 col1\" >posição, S [m]</th>        <th class=\"col_heading level0 col2\" >velocidade, v [m/s]</th>    </tr></thead><tbody>\n",
       "                <tr>\n",
       "                        <th id=\"T_3ab444d4_bd7b_11ea_af16_1b8a2246ac4clevel0_row0\" class=\"row_heading level0 row0\" >0</th>\n",
       "                        <td id=\"T_3ab444d4_bd7b_11ea_af16_1b8a2246ac4crow0_col0\" class=\"data row0 col0\" >0</td>\n",
       "                        <td id=\"T_3ab444d4_bd7b_11ea_af16_1b8a2246ac4crow0_col1\" class=\"data row0 col1\" >0</td>\n",
       "                        <td id=\"T_3ab444d4_bd7b_11ea_af16_1b8a2246ac4crow0_col2\" class=\"data row0 col2\" >5</td>\n",
       "            </tr>\n",
       "            <tr>\n",
       "                        <th id=\"T_3ab444d4_bd7b_11ea_af16_1b8a2246ac4clevel0_row1\" class=\"row_heading level0 row1\" >1</th>\n",
       "                        <td id=\"T_3ab444d4_bd7b_11ea_af16_1b8a2246ac4crow1_col0\" class=\"data row1 col0\" >2</td>\n",
       "                        <td id=\"T_3ab444d4_bd7b_11ea_af16_1b8a2246ac4crow1_col1\" class=\"data row1 col1\" >16</td>\n",
       "                        <td id=\"T_3ab444d4_bd7b_11ea_af16_1b8a2246ac4crow1_col2\" class=\"data row1 col2\" >11</td>\n",
       "            </tr>\n",
       "            <tr>\n",
       "                        <th id=\"T_3ab444d4_bd7b_11ea_af16_1b8a2246ac4clevel0_row2\" class=\"row_heading level0 row2\" >2</th>\n",
       "                        <td id=\"T_3ab444d4_bd7b_11ea_af16_1b8a2246ac4crow2_col0\" class=\"data row2 col0\" >4</td>\n",
       "                        <td id=\"T_3ab444d4_bd7b_11ea_af16_1b8a2246ac4crow2_col1\" class=\"data row2 col1\" >44</td>\n",
       "                        <td id=\"T_3ab444d4_bd7b_11ea_af16_1b8a2246ac4crow2_col2\" class=\"data row2 col2\" >17</td>\n",
       "            </tr>\n",
       "            <tr>\n",
       "                        <th id=\"T_3ab444d4_bd7b_11ea_af16_1b8a2246ac4clevel0_row3\" class=\"row_heading level0 row3\" >3</th>\n",
       "                        <td id=\"T_3ab444d4_bd7b_11ea_af16_1b8a2246ac4crow3_col0\" class=\"data row3 col0\" >6</td>\n",
       "                        <td id=\"T_3ab444d4_bd7b_11ea_af16_1b8a2246ac4crow3_col1\" class=\"data row3 col1\" >84</td>\n",
       "                        <td id=\"T_3ab444d4_bd7b_11ea_af16_1b8a2246ac4crow3_col2\" class=\"data row3 col2\" >23</td>\n",
       "            </tr>\n",
       "            <tr>\n",
       "                        <th id=\"T_3ab444d4_bd7b_11ea_af16_1b8a2246ac4clevel0_row4\" class=\"row_heading level0 row4\" >4</th>\n",
       "                        <td id=\"T_3ab444d4_bd7b_11ea_af16_1b8a2246ac4crow4_col0\" class=\"data row4 col0\" >8</td>\n",
       "                        <td id=\"T_3ab444d4_bd7b_11ea_af16_1b8a2246ac4crow4_col1\" class=\"data row4 col1\" >136</td>\n",
       "                        <td id=\"T_3ab444d4_bd7b_11ea_af16_1b8a2246ac4crow4_col2\" class=\"data row4 col2\" >29</td>\n",
       "            </tr>\n",
       "            <tr>\n",
       "                        <th id=\"T_3ab444d4_bd7b_11ea_af16_1b8a2246ac4clevel0_row5\" class=\"row_heading level0 row5\" >5</th>\n",
       "                        <td id=\"T_3ab444d4_bd7b_11ea_af16_1b8a2246ac4crow5_col0\" class=\"data row5 col0\" >10</td>\n",
       "                        <td id=\"T_3ab444d4_bd7b_11ea_af16_1b8a2246ac4crow5_col1\" class=\"data row5 col1\" >200</td>\n",
       "                        <td id=\"T_3ab444d4_bd7b_11ea_af16_1b8a2246ac4crow5_col2\" class=\"data row5 col2\" >35</td>\n",
       "            </tr>\n",
       "    </tbody></table>"
      ],
      "text/plain": [
       "<pandas.io.formats.style.Styler at 0x7f6f1b472350>"
      ]
     },
     "execution_count": 5,
     "metadata": {},
     "output_type": "execute_result"
    }
   ],
   "source": [
    "# criamos um DataFrame usando o pandas -> pd.DataFrame\n",
    "df_dados_exemplo = pd.DataFrame()\n",
    "df_dados_exemplo['tempo, t [s]']   = tempos_cronometrados # adicionamos uma coluna com os tempos\n",
    "df_dados_exemplo['posição, S [m]'] = posicoes # adicionamos outra coluna com as posições\n",
    "df_dados_exemplo['velocidade, v [m/s]'] = velocidades # adicionamos outra coluna com as velocidades\n",
    "\n",
    "df_dados_exemplo.style.set_caption('Tabela 1. Dados do tempo e suas respectivas posições e velocidades obtidas por meio das Eq. (5) e (7).')"
   ]
  },
  {
   "cell_type": "markdown",
   "metadata": {},
   "source": [
    "<p class='justified'>\n",
    "Observe que a mesma estrutura de dados pode ser criada usando um dicionário como argumento:\n",
    "</p>\n",
    "\n",
    "```python\n",
    "pd.DataFrame({\n",
    "    'tempo, t [s]'  : tempos_cronometrados,\n",
    "    'posição, S [m]': posicoes,\n",
    "    'velocidades, v [m/s]': velocidades\n",
    "})\n",
    "```"
   ]
  },
  {
   "cell_type": "markdown",
   "metadata": {},
   "source": [
    "<a class='cell' id='figure_3'></a>"
   ]
  },
  {
   "cell_type": "code",
   "execution_count": 6,
   "metadata": {
    "ExecuteTime": {
     "end_time": "2020-07-03T22:19:22.359859Z",
     "start_time": "2020-07-03T22:19:21.824705Z"
    }
   },
   "outputs": [
    {
     "data": {
      "image/png": "[encoded data removed]",
      "text/plain": [
       "<Figure size 1584x576 with 2 Axes>"
      ]
     },
     "metadata": {
      "needs_background": "light"
     },
     "output_type": "display_data"
    }
   ],
   "source": [
    "# criamos o objeto ``Figure`` e o ``array`` com os gráficos\n",
    "fig, axarr = plt.subplots(nrows=1, ncols=2, figsize=(22,8))\n",
    "\n",
    "# dicionário com propriedades comuns nos gráficos que serão confeccionados\n",
    "kwargs = dict(markersize=20, markerfacecolor=\"#FFFFFF\", markeredgewidth=5, lw=5, xlim=(-0.5, 10.5), grid=True, fontsize=22)\n",
    "\n",
    "# agora confeccionamos o gráfico que nos diz\n",
    "# como a posição do carro evolui com o tempo\n",
    "plot_exemplo_posicao = df_dados_exemplo.plot(\n",
    "    x='tempo, t [s]',   # valores das variáveis independentes: eixo x\n",
    "    y='posição, S [m]', # valores das variáveis dependentes: eixo y\n",
    "    style='-o',         # desenha as linhas que ligam os marcadores 'o'\n",
    "    color='#377eb8',    # cor da linha e dos marcadores\n",
    "    ax=axarr[0],        # gráfico em que os dados devem ser plotados\n",
    "    **kwargs            # argumento em comum no dicionário\n",
    ");\n",
    "\n",
    "plot_exemplo_velocidade = df_dados_exemplo.plot(\n",
    "    x='tempo, t [s]',        # valores das variáveis independentes: eixo x\n",
    "    y='velocidade, v [m/s]', # valores das variáveis dependentes: eixo y\n",
    "    style='-D',              # desenha as linhas que ligam os marcadores 'o' \n",
    "    color='#4daf4a',         # cor da linha e dos marcadores\n",
    "    ax=axarr[1],             # gráfico em que os dados devem ser plotados\n",
    "    **kwargs                 # argumento em comum no dicionário\n",
    ");\n",
    "\n",
    "# tamanho da fonte dos labels\n",
    "FONT_SIZE=22\n",
    "\n",
    "\n",
    "# loop pelos gráficos da figura\n",
    "for counter, ax in enumerate(fig.get_axes()):\n",
    "    # label do eixo y\n",
    "    ax.set_ylabel(['posição, S [m]','velocidade, v [m/s]'][counter], fontsize=FONT_SIZE) \n",
    "    ax.set_xlabel('tempo, t [s]', fontsize=FONT_SIZE) # label do eixo x\n",
    "    ax.set_title(['Posição do carro em função do tempo.', \n",
    "                  'Velocidade do carro em função do tempo.'][counter], fontsize=FONT_SIZE) # título dos gráficos\n",
    "    # legenda dos gráficos\n",
    "    ax.legend([['posição, S [m]'], ['velocidade, v [m/s]']][counter], fontsize=FONT_SIZE) "
   ]
  },
  {
   "cell_type": "markdown",
   "metadata": {},
   "source": [
    "<p class='justified'>\n",
    "    <b>Figura 3.</b> Gráficos da Posição $S$ (m) e da velocidade $v$ (m/s) do carro versus tempo $t$ (s), confeccionados via biblioteca <mark class='mono_gray'>Pandas</mark>.\n",
    "</p>"
   ]
  },
  {
   "cell_type": "markdown",
   "metadata": {},
   "source": [
    "<p class='justified'>\n",
    "    Observe que usando os dados provenientes de um <mark class='mono_gray'>pd.DataFrame</mark> confeccionamos o gráfico de maneira mais fácil e os <mark class='mono_gray'>labels</mark> (rótulos) dos eixos já são colocados automaticamente respeitando os nomes das colunas fornecidas.\n",
    "</p>"
   ]
  },
  {
   "cell_type": "markdown",
   "metadata": {},
   "source": [
    "<p class='justified'>\n",
    "Observe que os gráficos das <b>Figuras 2 e 3</b>, fornecem uma parábola e uma reta para o deslocamento $S$ e a velocidade $v$, respectivamente. Na aula em que tratamos do <b>movimento retilíneo uniform (MRU)</b>, vimos que o o <b>coeficiente angular</b> no gráfico $S \\times t$ fornecia a velocidade constante do carro. Contudo, nesse novo tipo de movimento, tal gráfico não possui tal propriedade. Porém, nem tudo está perdido: mais adiante veremos como analisar esse tipo de movimento e tirar as propriedades de interesse, como a aceleração $a$. Enquanto isso, podemos olhar para o gráfico $v \\times t$. O coeficiente angular dessa reta nos fornece extatamente a velocidade do carro. Para mostrar isso, podemos pegar quaisquer dois pontos do gráfico. Para nossa demonstração, iremos pegar os pontos:\n",
    "</p>\n",
    "\n",
    "<br>\n",
    "<div align='center'>\n",
    "    <b>Tabela 2.</b> Dados de dois pontos da reta do gráfico da Figura 2.\n",
    "\n",
    "| tempo, $t$ [s] | velocidade, $v$ [m/s] |\n",
    "|:--------------:|:---------------------:|\n",
    "|        4       |           11          |\n",
    "|        6       |           17          |\n",
    "\n",
    "</div>"
   ]
  },
  {
   "cell_type": "markdown",
   "metadata": {},
   "source": [
    "<p class='justified'>\n",
    "O <b>coeficiente angular</b> $\\alpha$ é obtido calculando a expressão\n",
    "</p>\n",
    "\n",
    "$$\n",
    "    \\alpha = \\frac{\\Delta y}{\\Delta x}.\n",
    "$$\n",
    "\n",
    "<p class='justified'>\n",
    "No caso do nosso exemplo, o coeficiente da reta é dado por\n",
    "</p>\n",
    "\n",
    "$$\n",
    "    \\alpha = \\frac{\\Delta v}{\\Delta t}.\n",
    "$$\n",
    "\n",
    "<p class='justified'>\n",
    "Usando os dados na <b>Tabela 2</b>, temos\n",
    "</p>\n",
    "\n",
    "$$ \n",
    "    \\alpha = \\frac{17\\,m/s - 11\\,m/s}{6\\,s - 4\\,s} = \\frac{6\\,m/s}{2\\,s} = 3\\,m/s^2,\n",
    "$$\n",
    "\n",
    "<p class='justified'>\n",
    "que é igual a aceleração do carro. Então, em um movimento retilíneo uniformemente variável, o coeficiente angular de um gráfico da velocidade em função do tempo ($v\\times t$) é igual a aceleração constante do veículo.\n",
    "</p>\n",
    "\n",
    "<p class='justified'>\n",
    "    No experimento descrito na referência <a href='#mukai'>[1]</a> - Capítulo 4, será feita uma análise de um móvel que parte da origem ($S_0 = 0{,}0\\,m$) com velocidade inicial aproximadamente nula ($v_0 \\approx 0{,}0\\,m/s$). Considerando essas condições iniciais de movimento, as Eqs. \\eqref{eq:carro_pos} e \\eqref{eq:carro_vel} se tornam \n",
    "</p>\n",
    "\n",
    "$$\n",
    "    S(t) = \\frac{1}{2}a t^2\n",
    "    \\label{eq:pos_s0_v0}\n",
    "$$\n",
    "\n",
    "e\n",
    "\n",
    "$$\n",
    "    v = a t.\n",
    "    \\label{eq:vel_v0}\n",
    "$$\n",
    "\n",
    "<p class='justified'>\n",
    "    No experimento, iremos trabalhar com os dados da posição do móvel em função do tempo. Esses serão utilizados para confeccionar o gráfico $S \\times t$ para encontrar uma expressão muito similar à Eq. \\eqref{eq:pos_s0_v0}.\n",
    "</p>"
   ]
  },
  {
   "cell_type": "markdown",
   "metadata": {},
   "source": [
    "---\n",
    "<a class=\"anchor\" id=\"experimento_2_mruv\"></a>\n",
    "## Experimento 2 - MRUV [1]"
   ]
  },
  {
   "cell_type": "markdown",
   "metadata": {},
   "source": [
    "<p class='justified'>\n",
    "O experimento realizado no <b>Laboratório de Física Geral I</b> para se estudar o <b>movimento retilíneo uniformemente variável (MRUV)</b> tem como <b>objetivo</b> obter, a partir dos dados experimentais, uma função para a posição $S(t)$ de um móvel deslizando sobre um plano inclinado e sem atrito. A partir dos dados obtidos, iremos confeccionar um gráfico da posição em função do tempo (como feito na seção anterior) para obter a aceleração (constante) do móvel. Iremos considerar em todos os nossos cálculos os conceitos da teoria de erros (Ref. <a href='#mukai'>[1]</a>, Cap. 2, págs. 6-21).\n",
    "</p>\n",
    "\n",
    "<p class='justified'>\n",
    "O experimento abordado em laboratório consiste, de maneira resumida, em um trilho de ar, que se encontra levemente inclinado, no qual um móvel desliza sem atrito. Esse móvel passa por sensores, cujas posições são conhecidas, que estão acoplados a um cronômetro. Dessa maneira, o tempo que o móvel passa por cada sensor durante o movimento é cronometrado (para mais detalhes ler a descrição experimental na Ref. <a href='#mukai'>[1]</a>, Cap. 4, págs. 39-54).\n",
    "<p>\n",
    "\n",
    "<p class='justified'>\n",
    "No experimento, o primeiro sensor é posicionado praticamente em cima da posição inicial do móvel (em repouso). Isso é feito para garantir as condições iniciais $S_0 = 0{,}00\\,cm$ e $v_0 \\approx 0{,}00\\,cm/s$. Os outros quatro sensores são dispostos no trilho de ar de maneira que entre eles tenha uma distância de $15{,}00\\,cm$. Assim, temos as posições dos sensores dadas por (Tabela 3):\n",
    "</p>\n",
    "\n",
    "<br>\n",
    "<div align='center'>\n",
    "<b>Tabela 3.</b> Dados da posição $S(t)$ de cada sensor distribuído sobre o trilho de ar.\n",
    "\n",
    "| Sensor | Posição $S(t)$ [cm] |\n",
    "|:------:|:-------------------:|\n",
    "|    1   |       $0{,}00$      |\n",
    "|    2   |      $15{,}00$      |\n",
    "|    3   |      $30{,}00$      |\n",
    "|    4   |      $45{,}00$      |\n",
    "|    5   |      $60{,}00$      |\n",
    "</div>"
   ]
  },
  {
   "cell_type": "markdown",
   "metadata": {},
   "source": [
    "<p class='justified'>\n",
    "No momento em que o móvel passa pelo primeiro sensor, o cronômetro é ativado ($t=0{,}000\\, s$). A análise do movimento desse móvel começa então exatamente nesse ponto, e portanto esse é o nosso ponto inicial $S_0 = 0{,}00\\,cm$. Como o primeiro sensor encontra-se praticamente encostado no móvel, no instante em que ele é ativado, sua velocidade é praticamente nula. Dessa forma, consideramos $v_0 \\approx 0{,}00\\,cm/s$.\n",
    "</p>\n",
    "\n",
    "<p class='justified'>\n",
    "    O trilho de ar é ajustado de maneira que posua uma inclinação muito pequena. O móvel é então posicionado no ponto mais alto do trilho, onde existe um eletroímã que o prende. Quando a corrente que passa pelo eletroímã é desligada, o móvel começa a se mover devido a componente da força peso que atua paralela ao trilho de ar.\n",
    "</p>\n",
    "\n",
    "<p class='justified'>\n",
    "    Da mesma forma que no experimento do <b>MRU</b>, a coleta dos dados consiste em anotar os tempos,registrados pelo cronômetro, conforme o móvel passa pelos sensores. \n",
    "</p>"
   ]
  },
  {
   "cell_type": "markdown",
   "metadata": {},
   "source": [
    "<p class='justified'>\n",
    "O procedimento experimental é repetido por três vezes, de modo que teremos três tempos para cada um dos sensores. Devemos então anotar os valores na tabela abaixo:\n",
    "</p>\n",
    "\n",
    "<br>\n",
    "<div align='center'>\n",
    "    <b>Tabela 4.</b> Dados da posição $S(t)$ de cada sensor distribuído sobre o trilho de ar e o tempo $t\\,[s]$ para cada repetição, e $t_m$ o tempo médio.\n",
    "    \n",
    "| $S\\,[cm]$ | $t_1\\, [s]$ | $t_2\\, [s]$ | $t_3\\, [s]$ | $t_m\\, [s]$    |\n",
    "|:---------:|:-----------:|:-----------:|:-----------:|:--------------:|\n",
    "|      0,00 |             |             |             |                |\n",
    "|     15,00 |             |             |             |                |\n",
    "|     30,00 |             |             |             |                |\n",
    "|     45,00 |             |             |             |                |\n",
    "|     60,00 |             |             |             |                |\n",
    "</div>"
   ]
  },
  {
   "cell_type": "markdown",
   "metadata": {},
   "source": [
    "<p class='justified'>\n",
    "Após coletado os dados e calculado o valor médio do tempo em que o móvel passa por cada um dos sensores, iremos analisar os resultados. Para isso,\n",
    "</p>\n",
    "\n",
    "<p class='justified'>\n",
    "<ol class=\"sub-item\">\n",
    "    <li class=\"sub-item\">confeccionar um gráfico de $S \\times t_m$;</li>\n",
    "    <li class=\"sub-item\"> obter a equação de movimento usando:\n",
    "        <ol class=\"sub-item\">\n",
    "            <li class=\"sub-item\">método da linearização;</li>\n",
    "            <li class=\"sub-item\">usando a escala log-log;</li>\n",
    "        </ol>\n",
    "    </li>\n",
    "    <li class=\"sub-item\">ajustar os dados a um modelo teórico:\n",
    "        <ol class=\"sub-item\">\n",
    "            <li class=\"sub-item\">usando a escala original e a função <mark class='mono_gray'>numpy.polyfit()</mark>;</li>\n",
    "            <li class=\"sub-item\">encontrando o coeficiente linear quando a escala log-log é aplicada;</li>\n",
    "        </ol>\n",
    "        </li>\n",
    "    <li class=\"sub-item\">escrever a equação final que melhor ajusta os dados coletados.</li>\n",
    "</ol>\n",
    "</p>\n"
   ]
  },
  {
   "cell_type": "markdown",
   "metadata": {},
   "source": [
    "---\n",
    "<a class=\"anchor\" id=\"analisando_os_dados_obtidos_usando_python\"></a>\n",
    "# Analisando os dados obtidos usando Python"
   ]
  },
  {
   "cell_type": "markdown",
   "metadata": {},
   "source": [
    "<p class='justified'>\n",
    "Nessa seção iremos trabalhar com a análise dos dados do experimento do movimento retilíneo uniformemente variável (MRUV). Os dados trabalhados aqui foram obtidos por alunos de uma turma do primeiro ano de Engenharia Civil no ano de 2019 (Tabela 5). A partir de nossas análises, passo a passo, você deverá ganhar intuição e conseguir, com seus próprios dados experimentais fazer a mesma análise.\n",
    "</p>"
   ]
  },
  {
   "cell_type": "markdown",
   "metadata": {},
   "source": [
    "<div align='center'>\n",
    "<b>Tabela 5.</b> Dados da posição $S(t)$ [cm] de cada sensor distribuído sobre o trilho de ar e o tempo $t$ [s] para cada repetição, e $t_m$ o temó médio.\n",
    "\n",
    "\n",
    "| S [cm] | t1 [s] | t2 [s] | t3 [s] | $t_m\\, [s]$    |\n",
    "|:------:|:------:|:------:|:------:|:--------------:|\n",
    "|   0.00 |  0.000 |  0.000 |  0.000 |      0.000     |\n",
    "|  15.00 |  1.261 |  1.181 |  1.197 |      1.213     |\n",
    "|  30.00 |  1.774 |  1.694 |  1.701 |      1.723     |\n",
    "|  45.00 |  2.169 |  2.089 |  2.103 |      2.120     |\n",
    "|  60.00 |  2.509 |  2.429 |  2.443 |      2.460     |\n",
    "</div>\n",
    "\n",
    "<p class='justified'>\n",
    "Para o arredondamento dos valores do tempo médio foi considerado o número de algarismos significativos e não considerando o desvio da média.\n",
    "</p>"
   ]
  },
  {
   "cell_type": "markdown",
   "metadata": {},
   "source": [
    "---\n",
    "<a class=\"anchor\" id=\"apresentando_os_dados\"></a>\n",
    "## Apresentando os dados"
   ]
  },
  {
   "cell_type": "markdown",
   "metadata": {},
   "source": [
    "<p class='justified'>\n",
    "    Assim como no experimento do <b>MRU</b>, os primeiros dados que temos desse experimento são as posições de cada um dos sensores. Assim, definiremos uma lista com os valores dessas posições. Observe que o separador decimal é o ponto ao invés da vírgula.\n",
    "</p>"
   ]
  },
  {
   "cell_type": "markdown",
   "metadata": {},
   "source": [
    "---\n",
    "<a class=\"anchor\" id=\"posicao_dos_sensores\"></a>\n",
    "### Posição dos sensores"
   ]
  },
  {
   "cell_type": "code",
   "execution_count": 7,
   "metadata": {
    "ExecuteTime": {
     "end_time": "2020-07-03T22:19:29.897403Z",
     "start_time": "2020-07-03T22:19:29.891872Z"
    }
   },
   "outputs": [
    {
     "data": {
      "text/plain": [
       "[0.0, 15.0, 30.0, 45.0, 60.0]"
      ]
     },
     "execution_count": 7,
     "metadata": {},
     "output_type": "execute_result"
    }
   ],
   "source": [
    "# lista com os valores das posições dos sensores\n",
    "# essa variável será a mesma para suas análises individuais\n",
    "posicao_sensores = [0.00, 15.00, 30.00, 45.00, 60.00] # em cm\n",
    "posicao_sensores"
   ]
  },
  {
   "cell_type": "markdown",
   "metadata": {},
   "source": [
    "---\n",
    "<a class=\"anchor\" id=\"tempo_cronometrado_nos_sensores\"></a>\n",
    "### Tempo cronometrado nos sensores"
   ]
  },
  {
   "cell_type": "markdown",
   "metadata": {},
   "source": [
    "<p class='justified'>\n",
    "Os próximos dados são os tempos que foram anotados no cronômetro quando o móvel passava por cada um dos sensores. Para cada uma das rerepetições do procedimento experimental, definiremos uma lista da seguinte forma\n",
    "</p>\n",
    "\n",
    "```python\n",
    "    tempos_realizacao_n = [\n",
    "        t_0,  # tempo no sensor 1 -  0.00cm\n",
    "        t_15, # tempo no sensor 2 - 15.00cm\n",
    "        t_30, # tempo no sensor 3 - 30.00cm\n",
    "        t_45, # tempo no sensor 4 - 45.00cm\n",
    "        t_60, # tempo no sensor 5 - 60.00cm\n",
    "    ]\n",
    "```\n",
    "<p class='justified'>\n",
    "para a $n$-ésima repetição experimental. \n",
    "</p>\n",
    "\n",
    "<p class='justified'>\n",
    "Os dados colhidos pelos alunos, para as três realizações são escritas então em três listas:\n",
    "</p>"
   ]
  },
  {
   "cell_type": "code",
   "execution_count": 8,
   "metadata": {
    "ExecuteTime": {
     "end_time": "2020-07-03T22:19:38.070605Z",
     "start_time": "2020-07-03T22:19:38.066210Z"
    }
   },
   "outputs": [],
   "source": [
    "#                      t_0    t_15   t_30   t_45   t_60\n",
    "tempos_realizacao_1 = [0.000, 1.261, 1.774, 2.169, 2.509]\n",
    "tempos_realizacao_2 = [0.000, 1.181, 1.694, 2.089, 2.429]\n",
    "tempos_realizacao_3 = [0.000, 1.197, 1.701, 2.429, 2.443]"
   ]
  },
  {
   "cell_type": "markdown",
   "metadata": {},
   "source": [
    "<p class='justified'>\n",
    "    Criamos agora um <mark class='mono_gray'>DataFrame</mark> usando o <mark class='mono_gray'>pandas</mark> para que os dados fiquem dispostos de uma forma que favoreça a visualização e as operações matemáticas que precisamos realizar.\n",
    "</p>"
   ]
  },
  {
   "cell_type": "code",
   "execution_count": 9,
   "metadata": {
    "ExecuteTime": {
     "end_time": "2020-07-03T22:19:42.528259Z",
     "start_time": "2020-07-03T22:19:42.512190Z"
    }
   },
   "outputs": [
    {
     "data": {
      "text/html": [
       "<div>\n",
       "<style scoped>\n",
       "    .dataframe tbody tr th:only-of-type {\n",
       "        vertical-align: middle;\n",
       "    }\n",
       "\n",
       "    .dataframe tbody tr th {\n",
       "        vertical-align: top;\n",
       "    }\n",
       "\n",
       "    .dataframe thead th {\n",
       "        text-align: right;\n",
       "    }\n",
       "</style>\n",
       "<table border=\"1\" class=\"dataframe\">\n",
       "  <thead>\n",
       "    <tr style=\"text-align: right;\">\n",
       "      <th></th>\n",
       "      <th>S [cm]</th>\n",
       "      <th>t1 [s]</th>\n",
       "      <th>t2 [s]</th>\n",
       "      <th>t3 [s]</th>\n",
       "    </tr>\n",
       "  </thead>\n",
       "  <tbody>\n",
       "    <tr>\n",
       "      <td>0</td>\n",
       "      <td>0.0</td>\n",
       "      <td>0.000</td>\n",
       "      <td>0.000</td>\n",
       "      <td>0.000</td>\n",
       "    </tr>\n",
       "    <tr>\n",
       "      <td>1</td>\n",
       "      <td>15.0</td>\n",
       "      <td>1.261</td>\n",
       "      <td>1.181</td>\n",
       "      <td>1.197</td>\n",
       "    </tr>\n",
       "    <tr>\n",
       "      <td>2</td>\n",
       "      <td>30.0</td>\n",
       "      <td>1.774</td>\n",
       "      <td>1.694</td>\n",
       "      <td>1.701</td>\n",
       "    </tr>\n",
       "    <tr>\n",
       "      <td>3</td>\n",
       "      <td>45.0</td>\n",
       "      <td>2.169</td>\n",
       "      <td>2.089</td>\n",
       "      <td>2.429</td>\n",
       "    </tr>\n",
       "    <tr>\n",
       "      <td>4</td>\n",
       "      <td>60.0</td>\n",
       "      <td>2.509</td>\n",
       "      <td>2.429</td>\n",
       "      <td>2.443</td>\n",
       "    </tr>\n",
       "  </tbody>\n",
       "</table>\n",
       "</div>"
      ],
      "text/plain": [
       "   S [cm]  t1 [s]  t2 [s]  t3 [s]\n",
       "0     0.0   0.000   0.000   0.000\n",
       "1    15.0   1.261   1.181   1.197\n",
       "2    30.0   1.774   1.694   1.701\n",
       "3    45.0   2.169   2.089   2.429\n",
       "4    60.0   2.509   2.429   2.443"
      ]
     },
     "execution_count": 9,
     "metadata": {},
     "output_type": "execute_result"
    }
   ],
   "source": [
    "# criamos o DataFrame\n",
    "df_dados = pd.DataFrame()\n",
    "\n",
    "# criamos cada coluna especificando um nome e atribuindo uma lista de valores \n",
    "df_dados['S [cm]'] = posicao_sensores\n",
    "df_dados['t1 [s]'] = tempos_realizacao_1\n",
    "df_dados['t2 [s]'] = tempos_realizacao_2\n",
    "df_dados['t3 [s]'] = tempos_realizacao_3\n",
    "\n",
    "df_dados"
   ]
  },
  {
   "cell_type": "code",
   "execution_count": 10,
   "metadata": {
    "ExecuteTime": {
     "end_time": "2020-07-03T22:19:48.338653Z",
     "start_time": "2020-07-03T22:19:48.328369Z"
    }
   },
   "outputs": [
    {
     "data": {
      "text/html": [
       "<style  type=\"text/css\" >\n",
       "</style><table id=\"T_4e77cffe_bd7b_11ea_af16_1b8a2246ac4c\" ><caption>Dados adquiridos durante o experimento.</caption><thead>    <tr>        <th class=\"blank level0\" ></th>        <th class=\"col_heading level0 col0\" >S [cm]</th>        <th class=\"col_heading level0 col1\" >t1 [s]</th>        <th class=\"col_heading level0 col2\" >t2 [s]</th>        <th class=\"col_heading level0 col3\" >t3 [s]</th>    </tr></thead><tbody>\n",
       "                <tr>\n",
       "                        <th id=\"T_4e77cffe_bd7b_11ea_af16_1b8a2246ac4clevel0_row0\" class=\"row_heading level0 row0\" >Sensor 1</th>\n",
       "                        <td id=\"T_4e77cffe_bd7b_11ea_af16_1b8a2246ac4crow0_col0\" class=\"data row0 col0\" >0</td>\n",
       "                        <td id=\"T_4e77cffe_bd7b_11ea_af16_1b8a2246ac4crow0_col1\" class=\"data row0 col1\" >0</td>\n",
       "                        <td id=\"T_4e77cffe_bd7b_11ea_af16_1b8a2246ac4crow0_col2\" class=\"data row0 col2\" >0</td>\n",
       "                        <td id=\"T_4e77cffe_bd7b_11ea_af16_1b8a2246ac4crow0_col3\" class=\"data row0 col3\" >0</td>\n",
       "            </tr>\n",
       "            <tr>\n",
       "                        <th id=\"T_4e77cffe_bd7b_11ea_af16_1b8a2246ac4clevel0_row1\" class=\"row_heading level0 row1\" >Sensor 2</th>\n",
       "                        <td id=\"T_4e77cffe_bd7b_11ea_af16_1b8a2246ac4crow1_col0\" class=\"data row1 col0\" >15</td>\n",
       "                        <td id=\"T_4e77cffe_bd7b_11ea_af16_1b8a2246ac4crow1_col1\" class=\"data row1 col1\" >1.261</td>\n",
       "                        <td id=\"T_4e77cffe_bd7b_11ea_af16_1b8a2246ac4crow1_col2\" class=\"data row1 col2\" >1.181</td>\n",
       "                        <td id=\"T_4e77cffe_bd7b_11ea_af16_1b8a2246ac4crow1_col3\" class=\"data row1 col3\" >1.197</td>\n",
       "            </tr>\n",
       "            <tr>\n",
       "                        <th id=\"T_4e77cffe_bd7b_11ea_af16_1b8a2246ac4clevel0_row2\" class=\"row_heading level0 row2\" >Sensor 3</th>\n",
       "                        <td id=\"T_4e77cffe_bd7b_11ea_af16_1b8a2246ac4crow2_col0\" class=\"data row2 col0\" >30</td>\n",
       "                        <td id=\"T_4e77cffe_bd7b_11ea_af16_1b8a2246ac4crow2_col1\" class=\"data row2 col1\" >1.774</td>\n",
       "                        <td id=\"T_4e77cffe_bd7b_11ea_af16_1b8a2246ac4crow2_col2\" class=\"data row2 col2\" >1.694</td>\n",
       "                        <td id=\"T_4e77cffe_bd7b_11ea_af16_1b8a2246ac4crow2_col3\" class=\"data row2 col3\" >1.701</td>\n",
       "            </tr>\n",
       "            <tr>\n",
       "                        <th id=\"T_4e77cffe_bd7b_11ea_af16_1b8a2246ac4clevel0_row3\" class=\"row_heading level0 row3\" >Sensor 4</th>\n",
       "                        <td id=\"T_4e77cffe_bd7b_11ea_af16_1b8a2246ac4crow3_col0\" class=\"data row3 col0\" >45</td>\n",
       "                        <td id=\"T_4e77cffe_bd7b_11ea_af16_1b8a2246ac4crow3_col1\" class=\"data row3 col1\" >2.169</td>\n",
       "                        <td id=\"T_4e77cffe_bd7b_11ea_af16_1b8a2246ac4crow3_col2\" class=\"data row3 col2\" >2.089</td>\n",
       "                        <td id=\"T_4e77cffe_bd7b_11ea_af16_1b8a2246ac4crow3_col3\" class=\"data row3 col3\" >2.429</td>\n",
       "            </tr>\n",
       "            <tr>\n",
       "                        <th id=\"T_4e77cffe_bd7b_11ea_af16_1b8a2246ac4clevel0_row4\" class=\"row_heading level0 row4\" >Sensor 5</th>\n",
       "                        <td id=\"T_4e77cffe_bd7b_11ea_af16_1b8a2246ac4crow4_col0\" class=\"data row4 col0\" >60</td>\n",
       "                        <td id=\"T_4e77cffe_bd7b_11ea_af16_1b8a2246ac4crow4_col1\" class=\"data row4 col1\" >2.509</td>\n",
       "                        <td id=\"T_4e77cffe_bd7b_11ea_af16_1b8a2246ac4crow4_col2\" class=\"data row4 col2\" >2.429</td>\n",
       "                        <td id=\"T_4e77cffe_bd7b_11ea_af16_1b8a2246ac4crow4_col3\" class=\"data row4 col3\" >2.443</td>\n",
       "            </tr>\n",
       "    </tbody></table>"
      ],
      "text/plain": [
       "<pandas.io.formats.style.Styler at 0x7f6f194d0410>"
      ]
     },
     "execution_count": 10,
     "metadata": {},
     "output_type": "execute_result"
    }
   ],
   "source": [
    "# podemos mudar os índices também para lembrarmos o que cada linha representa\n",
    "df_dados.index = ['Sensor 1', 'Sensor 2', 'Sensor 3', 'Sensor 4', 'Sensor 5']\n",
    "\n",
    "df_dados.style.set_caption('Dados adquiridos durante o experimento.')"
   ]
  },
  {
   "cell_type": "markdown",
   "metadata": {},
   "source": [
    "---\n",
    "<a class=\"anchor\" id=\"calculando_a_media_dos_tempos_nos_sensores\"></a>\n",
    "### Calculando a média dos tempos nos sensores"
   ]
  },
  {
   "cell_type": "markdown",
   "metadata": {},
   "source": [
    "<a class='cell' id='media_sensor_15cm'></a>\n",
    "<p class='justified'>\n",
    "A próxima etapa é calcular a média dos tempos que leva para o móvel passar no mesmo sensor. Para isso, selecionamos os valores dos tempos de um dos sensores, por exemplo, o sensor da posição $15{,}00\\,cm$, somamos seus valores e dividimos pelo número de realizações do experimento, ou seja, 4:\n",
    "</p>\n",
    "\n",
    "$$\n",
    "    \\text{Média dos tempos para o Sensor 2 }(15{,}00\\,cm)\\\\\n",
    "    \\frac{1{,}261\\,s+1{,}181\\,s+1{,}197\\,s}{3} = \\frac{3{,}639\\,s}{3} = 1{,}213\\,s.\n",
    "$$"
   ]
  },
  {
   "cell_type": "markdown",
   "metadata": {},
   "source": [
    "<p class='justified'>\n",
    "    Em <mark class='mono_gray'>Python</mark> muitas vezes conseguimos executar uma tarefa usando diferentes ferramentas. Nesse nosso caso, poderíamos calcular a média dos tempos \"na mão\", digitando os valores para cada sensor e suas respectivas repetições, como feito no exemplo. Assim, usando <mark class='mono_gray'>listas</mark>, calcularíamos a média de tempos referente ao sensor 2 da seguinte forma:\n",
    "</p>"
   ]
  },
  {
   "cell_type": "code",
   "execution_count": 11,
   "metadata": {
    "ExecuteTime": {
     "end_time": "2020-07-03T22:20:11.192462Z",
     "start_time": "2020-07-03T22:20:11.183940Z"
    }
   },
   "outputs": [
    {
     "data": {
      "text/plain": [
       "1.213"
      ]
     },
     "execution_count": 11,
     "metadata": {},
     "output_type": "execute_result"
    }
   ],
   "source": [
    "# criamos uma lista com os valores dos tempos para o sensor 2\n",
    "tempos_sensor_2 = [1.261, 1.181, 1.197]\n",
    "\n",
    "# somamos os valores da lista usando a função ``sum``\n",
    "soma_dos_tempos_sensor_2 = sum(tempos_sensor_2)\n",
    "\n",
    "# e dividimos o resultado da soma pelo número de realizações: 3\n",
    "soma_dos_tempos_sensor_2/3"
   ]
  },
  {
   "cell_type": "markdown",
   "metadata": {},
   "source": [
    "<p class='justified'>\n",
    "    Também podemos criar uma função para calcular a média quando tivermos muitos termos em uma lista:\n",
    "</p>"
   ]
  },
  {
   "cell_type": "code",
   "execution_count": 12,
   "metadata": {
    "ExecuteTime": {
     "end_time": "2020-07-03T22:20:13.873577Z",
     "start_time": "2020-07-03T22:20:13.869739Z"
    }
   },
   "outputs": [],
   "source": [
    "def tempo_medio_sensor(lista):\n",
    "    \"\"\"\n",
    "    Função que calcular o valor médio dos tempos para um dado sensor.\n",
    "    \n",
    "    Argumento:\n",
    "    ----------\n",
    "    lista - list: lista com os valores dos tempos marcados no sensor em questão\n",
    "                  quando o móvel passa por ele\n",
    "                  \n",
    "    Retorno:\n",
    "    --------\n",
    "    tempo médio - float: tempo médio que leva para o móvel passar pelo sensor em questão.\n",
    "    \"\"\"\n",
    "    # sum(lista) - calcula a soma dos valores da lista, i.e., dos tempos\n",
    "    # len(lista) - retorna o tamanho da lista, i.e., o número de elementos que ela possui.\n",
    "    #              No nosso caso, o tamanho da lista é o número de experimentos que foram\n",
    "    #              realizados.\n",
    "    return sum(lista)/len(lista)"
   ]
  },
  {
   "cell_type": "markdown",
   "metadata": {},
   "source": [
    "<p class='justified'>\n",
    "Agora basta calcular o tempo médio para cada um dos sensores. Usando, mais uma vez, o sensor 2 como exemplo:\n",
    "</p>"
   ]
  },
  {
   "cell_type": "code",
   "execution_count": 13,
   "metadata": {
    "ExecuteTime": {
     "end_time": "2020-07-03T22:20:15.366065Z",
     "start_time": "2020-07-03T22:20:15.359551Z"
    }
   },
   "outputs": [
    {
     "data": {
      "text/plain": [
       "1.213"
      ]
     },
     "execution_count": 13,
     "metadata": {},
     "output_type": "execute_result"
    }
   ],
   "source": [
    "# definimos um pouco acima tempos_sensor_2 = [0.901, 0.909, 0.906, 0.904]\n",
    "tempo_medio_sensor(tempos_sensor_2)"
   ]
  },
  {
   "cell_type": "markdown",
   "metadata": {},
   "source": [
    "<p class='justified'>\n",
    "Isso já melhora um pouco e evita algumas etapas no processo. Contudo, ainda teríamos que calcular a média de tempo de sensor por sensor. Existe um método muito mais conveniente para nos ajudar nessa tarefa (e evitar a fadiga). Usando a estrutura de <mark class='mono_gray'>DataFrame</mark> do <mark class='mono_gray'>pandas</mark>, várias tarefas que podem ser maçantes acabam se tornando triviais. Podemos, com apenas uma linha de código, calcular o valor médio dos tempos de todos os sensores:\n",
    "</p>"
   ]
  },
  {
   "cell_type": "code",
   "execution_count": 14,
   "metadata": {
    "ExecuteTime": {
     "end_time": "2020-07-03T22:20:16.641891Z",
     "start_time": "2020-07-03T22:20:16.635793Z"
    }
   },
   "outputs": [
    {
     "data": {
      "text/html": [
       "<div>\n",
       "<style scoped>\n",
       "    .dataframe tbody tr th:only-of-type {\n",
       "        vertical-align: middle;\n",
       "    }\n",
       "\n",
       "    .dataframe tbody tr th {\n",
       "        vertical-align: top;\n",
       "    }\n",
       "\n",
       "    .dataframe thead th {\n",
       "        text-align: right;\n",
       "    }\n",
       "</style>\n",
       "<table border=\"1\" class=\"dataframe\">\n",
       "  <thead>\n",
       "    <tr style=\"text-align: right;\">\n",
       "      <th></th>\n",
       "      <th>t1 [s]</th>\n",
       "      <th>t2 [s]</th>\n",
       "      <th>t3 [s]</th>\n",
       "    </tr>\n",
       "  </thead>\n",
       "  <tbody>\n",
       "    <tr>\n",
       "      <td>Sensor 1</td>\n",
       "      <td>0.000</td>\n",
       "      <td>0.000</td>\n",
       "      <td>0.000</td>\n",
       "    </tr>\n",
       "    <tr>\n",
       "      <td>Sensor 2</td>\n",
       "      <td>1.261</td>\n",
       "      <td>1.181</td>\n",
       "      <td>1.197</td>\n",
       "    </tr>\n",
       "    <tr>\n",
       "      <td>Sensor 3</td>\n",
       "      <td>1.774</td>\n",
       "      <td>1.694</td>\n",
       "      <td>1.701</td>\n",
       "    </tr>\n",
       "    <tr>\n",
       "      <td>Sensor 4</td>\n",
       "      <td>2.169</td>\n",
       "      <td>2.089</td>\n",
       "      <td>2.429</td>\n",
       "    </tr>\n",
       "    <tr>\n",
       "      <td>Sensor 5</td>\n",
       "      <td>2.509</td>\n",
       "      <td>2.429</td>\n",
       "      <td>2.443</td>\n",
       "    </tr>\n",
       "  </tbody>\n",
       "</table>\n",
       "</div>"
      ],
      "text/plain": [
       "          t1 [s]  t2 [s]  t3 [s]\n",
       "Sensor 1   0.000   0.000   0.000\n",
       "Sensor 2   1.261   1.181   1.197\n",
       "Sensor 3   1.774   1.694   1.701\n",
       "Sensor 4   2.169   2.089   2.429\n",
       "Sensor 5   2.509   2.429   2.443"
      ]
     },
     "execution_count": 14,
     "metadata": {},
     "output_type": "execute_result"
    }
   ],
   "source": [
    "# primeiramente selecionamos somente as colunas com os tempos\n",
    "df_dados[['t1 [s]', 't2 [s]', 't3 [s]']]"
   ]
  },
  {
   "cell_type": "markdown",
   "metadata": {},
   "source": [
    "<p class='justified'>\n",
    "    Veja que o <mark class='mono_gray'>DataFrame</mark> anterior contém somente as colunas dos tempos, que são os valores que nos interessam para o cálculo das médias em cada um dos sensores. Temos então que calcular a média dos valores levando em consideração todos os valores de uma mesma linha, isto é, referente a um mesmo sensor. Para isso, basta aplicarmos o método <mark class='mono_gray'>mean()</mark> no <mark class='mono_gray'>DataFrame</mark> <mark class='mono_gray'>df_dados</mark> e especificar o eixo, que nesse caso é o horizontal <mark class='mono_gray'>axis=1</mark>:\n",
    "</p>"
   ]
  },
  {
   "cell_type": "code",
   "execution_count": 15,
   "metadata": {
    "ExecuteTime": {
     "end_time": "2020-07-03T22:20:20.449361Z",
     "start_time": "2020-07-03T22:20:20.442401Z"
    }
   },
   "outputs": [
    {
     "data": {
      "text/plain": [
       "Sensor 1    0.000000\n",
       "Sensor 2    1.213000\n",
       "Sensor 3    1.723000\n",
       "Sensor 4    2.229000\n",
       "Sensor 5    2.460333\n",
       "dtype: float64"
      ]
     },
     "execution_count": 15,
     "metadata": {},
     "output_type": "execute_result"
    }
   ],
   "source": [
    "df_dados[['t1 [s]', 't2 [s]', 't3 [s]']].mean(axis=1)"
   ]
  },
  {
   "cell_type": "markdown",
   "metadata": {},
   "source": [
    "<p class='justified'>\n",
    "E pronto! Agora, para adicionarmos essa nova coluna de valores ao nosso <mark class='mono_gray'>DataFrame</mark>, basta usarmos a mesma <mark class='mono_gray'>sintaxe</mark> que usamos para adicionar uma coluna a um <mark class='mono_gray'>DataFrame</mark>:\n",
    "</p>"
   ]
  },
  {
   "cell_type": "code",
   "execution_count": 16,
   "metadata": {
    "ExecuteTime": {
     "end_time": "2020-07-03T22:20:22.956527Z",
     "start_time": "2020-07-03T22:20:22.950859Z"
    }
   },
   "outputs": [
    {
     "data": {
      "text/html": [
       "<style  type=\"text/css\" >\n",
       "</style><table id=\"T_631a9482_bd7b_11ea_af16_1b8a2246ac4c\" ><caption>Dados adquiridos durante o experimento e os valores médios dos tempos.</caption><thead>    <tr>        <th class=\"blank level0\" ></th>        <th class=\"col_heading level0 col0\" >S [cm]</th>        <th class=\"col_heading level0 col1\" >t1 [s]</th>        <th class=\"col_heading level0 col2\" >t2 [s]</th>        <th class=\"col_heading level0 col3\" >t3 [s]</th>        <th class=\"col_heading level0 col4\" >tempo médio [s]</th>    </tr></thead><tbody>\n",
       "                <tr>\n",
       "                        <th id=\"T_631a9482_bd7b_11ea_af16_1b8a2246ac4clevel0_row0\" class=\"row_heading level0 row0\" >Sensor 1</th>\n",
       "                        <td id=\"T_631a9482_bd7b_11ea_af16_1b8a2246ac4crow0_col0\" class=\"data row0 col0\" >0</td>\n",
       "                        <td id=\"T_631a9482_bd7b_11ea_af16_1b8a2246ac4crow0_col1\" class=\"data row0 col1\" >0</td>\n",
       "                        <td id=\"T_631a9482_bd7b_11ea_af16_1b8a2246ac4crow0_col2\" class=\"data row0 col2\" >0</td>\n",
       "                        <td id=\"T_631a9482_bd7b_11ea_af16_1b8a2246ac4crow0_col3\" class=\"data row0 col3\" >0</td>\n",
       "                        <td id=\"T_631a9482_bd7b_11ea_af16_1b8a2246ac4crow0_col4\" class=\"data row0 col4\" >0</td>\n",
       "            </tr>\n",
       "            <tr>\n",
       "                        <th id=\"T_631a9482_bd7b_11ea_af16_1b8a2246ac4clevel0_row1\" class=\"row_heading level0 row1\" >Sensor 2</th>\n",
       "                        <td id=\"T_631a9482_bd7b_11ea_af16_1b8a2246ac4crow1_col0\" class=\"data row1 col0\" >15</td>\n",
       "                        <td id=\"T_631a9482_bd7b_11ea_af16_1b8a2246ac4crow1_col1\" class=\"data row1 col1\" >1.261</td>\n",
       "                        <td id=\"T_631a9482_bd7b_11ea_af16_1b8a2246ac4crow1_col2\" class=\"data row1 col2\" >1.181</td>\n",
       "                        <td id=\"T_631a9482_bd7b_11ea_af16_1b8a2246ac4crow1_col3\" class=\"data row1 col3\" >1.197</td>\n",
       "                        <td id=\"T_631a9482_bd7b_11ea_af16_1b8a2246ac4crow1_col4\" class=\"data row1 col4\" >1.213</td>\n",
       "            </tr>\n",
       "            <tr>\n",
       "                        <th id=\"T_631a9482_bd7b_11ea_af16_1b8a2246ac4clevel0_row2\" class=\"row_heading level0 row2\" >Sensor 3</th>\n",
       "                        <td id=\"T_631a9482_bd7b_11ea_af16_1b8a2246ac4crow2_col0\" class=\"data row2 col0\" >30</td>\n",
       "                        <td id=\"T_631a9482_bd7b_11ea_af16_1b8a2246ac4crow2_col1\" class=\"data row2 col1\" >1.774</td>\n",
       "                        <td id=\"T_631a9482_bd7b_11ea_af16_1b8a2246ac4crow2_col2\" class=\"data row2 col2\" >1.694</td>\n",
       "                        <td id=\"T_631a9482_bd7b_11ea_af16_1b8a2246ac4crow2_col3\" class=\"data row2 col3\" >1.701</td>\n",
       "                        <td id=\"T_631a9482_bd7b_11ea_af16_1b8a2246ac4crow2_col4\" class=\"data row2 col4\" >1.723</td>\n",
       "            </tr>\n",
       "            <tr>\n",
       "                        <th id=\"T_631a9482_bd7b_11ea_af16_1b8a2246ac4clevel0_row3\" class=\"row_heading level0 row3\" >Sensor 4</th>\n",
       "                        <td id=\"T_631a9482_bd7b_11ea_af16_1b8a2246ac4crow3_col0\" class=\"data row3 col0\" >45</td>\n",
       "                        <td id=\"T_631a9482_bd7b_11ea_af16_1b8a2246ac4crow3_col1\" class=\"data row3 col1\" >2.169</td>\n",
       "                        <td id=\"T_631a9482_bd7b_11ea_af16_1b8a2246ac4crow3_col2\" class=\"data row3 col2\" >2.089</td>\n",
       "                        <td id=\"T_631a9482_bd7b_11ea_af16_1b8a2246ac4crow3_col3\" class=\"data row3 col3\" >2.429</td>\n",
       "                        <td id=\"T_631a9482_bd7b_11ea_af16_1b8a2246ac4crow3_col4\" class=\"data row3 col4\" >2.229</td>\n",
       "            </tr>\n",
       "            <tr>\n",
       "                        <th id=\"T_631a9482_bd7b_11ea_af16_1b8a2246ac4clevel0_row4\" class=\"row_heading level0 row4\" >Sensor 5</th>\n",
       "                        <td id=\"T_631a9482_bd7b_11ea_af16_1b8a2246ac4crow4_col0\" class=\"data row4 col0\" >60</td>\n",
       "                        <td id=\"T_631a9482_bd7b_11ea_af16_1b8a2246ac4crow4_col1\" class=\"data row4 col1\" >2.509</td>\n",
       "                        <td id=\"T_631a9482_bd7b_11ea_af16_1b8a2246ac4crow4_col2\" class=\"data row4 col2\" >2.429</td>\n",
       "                        <td id=\"T_631a9482_bd7b_11ea_af16_1b8a2246ac4crow4_col3\" class=\"data row4 col3\" >2.443</td>\n",
       "                        <td id=\"T_631a9482_bd7b_11ea_af16_1b8a2246ac4crow4_col4\" class=\"data row4 col4\" >2.46</td>\n",
       "            </tr>\n",
       "    </tbody></table>"
      ],
      "text/plain": [
       "<pandas.io.formats.style.Styler at 0x7f6f1946fa90>"
      ]
     },
     "execution_count": 16,
     "metadata": {},
     "output_type": "execute_result"
    }
   ],
   "source": [
    "# especificamos um nome para a nova coluna e atribuímos os valores que serão dispostos nessa nova coluna\n",
    "df_dados['tempo médio [s]'] = df_dados[['t1 [s]', 't2 [s]', 't3 [s]']].mean(axis=1).round(3)\n",
    "\n",
    "df_dados.style.set_caption('Dados adquiridos durante o experimento e os valores médios dos tempos.')"
   ]
  },
  {
   "cell_type": "markdown",
   "metadata": {},
   "source": [
    "<p class='justified'>\n",
    "    O último método <mark class='mono_gray'>round()</mark> com argumento <mark class='mono_gray'>3</mark>, foi para arredondar os valores obtidos, levando em consideração os algarismos significativos.\n",
    "</p>"
   ]
  },
  {
   "cell_type": "markdown",
   "metadata": {},
   "source": [
    "---\n",
    "<a class=\"anchor\" id=\"calculando_o_desvio_padrao_dos_tempos_nos_sensores\"></a>\n",
    "### Calculando o desvio padrão dos tempos nos sensores"
   ]
  },
  {
   "cell_type": "markdown",
   "metadata": {},
   "source": [
    "<p class='justified'>\n",
    "Agora iremos calcular o desvio padrão dos tempos que leva para o móvel passar no mesmo sensor. Vamos exemplificar o cálculo para o sensor da posição $15{,}00\\,cm$, como fizemos com a média. <a href='#media_sensor_15cm'>Lembrando</a> que a média de tempo nesse sensor foi de $0{,}905\\,s$, o desvio padrão é calculado pela seguinte expressão:\n",
    "</p>\n",
    "\n",
    "$$\n",
    "    \\text{Desvio padrão dos tempos para o Sensor 2 }(15{,}00\\,cm)\n",
    "$$\n",
    "\n",
    "$$\n",
    "    \\sigma_{t, \\text{Sensor 2}} = \\sqrt{\\frac{\\left(1{,}261\\,s - 1{,}213\\,s \\right)^2+\\left(1{,}181\\,s - 1{,}213\\,s \\right)^2+\\left(1{,}197\\,s - 1{,}213\\,s \\right)^2}{3-1}}\n",
    "$$\n",
    "\n",
    "$$\n",
    "    \\sigma_{t, \\text{Sensor 2}} = \\sqrt{\\frac{\\left(0{,}048\\,s \\right)^2+\\left(-0{,}032\\,s \\right)^2+\\left(-0{,}016\\,s \\right)^2}{2}}\n",
    "$$\n",
    "\n",
    "$$\n",
    "    \\sigma_{t, \\text{Sensor 2}} = \\sqrt{\\frac{2{,}3\\times 10^{-3}\\,s^2 + 1{,}0\\times 10^{-3}\\,s^2 + 0{,}2\\times 10^{-3}\\,s^2}{2}}\n",
    "$$\n",
    "\n",
    "$$\n",
    "    \\sigma_{t, \\text{Sensor 2}} = \\sqrt{\\frac{3{,}6\\times 10^{-3}\\,s^2}{2}} = \\sqrt{ 1{,}8\\times 10^{-3}\\,s^2} = 0{,}042\\,s.\n",
    "$$\n"
   ]
  },
  {
   "cell_type": "markdown",
   "metadata": {},
   "source": [
    "<p class='justified'>\n",
    "    Se usarmos <mark class='mono_gray'>listas</mark>, podemos calcular o desvio padrão de tempos referente ao sensor 2 da seguinte forma:\n",
    "</p>"
   ]
  },
  {
   "cell_type": "code",
   "execution_count": 17,
   "metadata": {
    "ExecuteTime": {
     "end_time": "2020-07-03T22:20:26.437157Z",
     "start_time": "2020-07-03T22:20:26.425328Z"
    }
   },
   "outputs": [
    {
     "data": {
      "text/plain": [
       "0.042"
      ]
     },
     "execution_count": 17,
     "metadata": {},
     "output_type": "execute_result"
    }
   ],
   "source": [
    "# criamos uma lista com os valores dos tempos para o sensor 2\n",
    "tempos_sensor_2 = [1.261, 1.181, 1.197]\n",
    "# calculamos a média\n",
    "tempos_media_sensor_2 = sum(tempos_sensor_2)/3\n",
    "\n",
    "\n",
    "# somamos os valores da lista usando a função ``sum``\n",
    "soma_dos_tempos_menos_media_sensor_2 = sum([(tempo - tempos_media_sensor_2)**2 for tempo in tempos_sensor_2])\n",
    "\n",
    "# dividimos o valor por 4-1 e tiramos a raíz quadrada\n",
    "desvio_padrao_sensor_2 = ( soma_dos_tempos_menos_media_sensor_2/(3-1) )**(1/2)\n",
    "\n",
    "# arredondamos o valor\n",
    "round(desvio_padrao_sensor_2, 3)"
   ]
  },
  {
   "cell_type": "markdown",
   "metadata": {},
   "source": [
    "<p class='justified'>\n",
    "Podemos definir uma função que calcule isso:\n",
    "</p>"
   ]
  },
  {
   "cell_type": "code",
   "execution_count": 18,
   "metadata": {
    "ExecuteTime": {
     "end_time": "2020-07-03T22:20:28.639746Z",
     "start_time": "2020-07-03T22:20:28.635221Z"
    }
   },
   "outputs": [],
   "source": [
    "def desvio_padrao_tempo_sensor(lista):\n",
    "    \"\"\"\n",
    "    Função que calcular o desvio padrão dos tempos para um dado sensor.\n",
    "    \n",
    "    Argumento:\n",
    "    ----------\n",
    "    lista - list: lista com os valores dos tempos marcados no sensor em questão\n",
    "                  quando o móvel passa por ele\n",
    "                  \n",
    "    Retorno:\n",
    "    --------\n",
    "    desvio padrão - float: desvio padrão dos tempos.\n",
    "    \"\"\"\n",
    "    # primeiro calculamos a média da lista\n",
    "    media_da_lista = sum(lista)/len(lista)\n",
    "    \n",
    "    # agora pegamos cada termo da lista, subtraímos da média e elevamos ao quadrado \n",
    "    lista_ao_quadrado = [(tempo - media_da_lista)**2 for tempo in lista]\n",
    "    \n",
    "    # agora somamos os valores dessa lista ao quadrado\n",
    "    radicando = sum(lista_ao_quadrado)/(len(lista_ao_quadrado) - 1)\n",
    "    \n",
    "    # tomamos a raíz quadrada do radicando\n",
    "    desvio_padrao = (radicando)**(1/2)\n",
    "    \n",
    "    # arredondamos o valor e o retornamos\n",
    "    return round(desvio_padrao, 3)"
   ]
  },
  {
   "cell_type": "markdown",
   "metadata": {},
   "source": [
    "<p class='justified'>\n",
    "Agora basta calcular o tempo médio para cada um dos sensores. Usando, mais uma vez, o sensor 2 como exemplo:\n",
    "</p>"
   ]
  },
  {
   "cell_type": "code",
   "execution_count": 19,
   "metadata": {
    "ExecuteTime": {
     "end_time": "2020-07-03T22:20:31.978662Z",
     "start_time": "2020-07-03T22:20:31.974400Z"
    }
   },
   "outputs": [
    {
     "data": {
      "text/plain": [
       "0.042"
      ]
     },
     "execution_count": 19,
     "metadata": {},
     "output_type": "execute_result"
    }
   ],
   "source": [
    "# definimos um pouco acima tempos_sensor_2 = [0.901, 0.909, 0.906, 0.904]\n",
    "desvio_padrao_tempo_sensor(tempos_sensor_2)"
   ]
  },
  {
   "cell_type": "markdown",
   "metadata": {},
   "source": [
    "<p class='justified'>\n",
    "Vimos que se usarmos uma estrutura de <mark class='mono_gray'>DataFrame</mark> do <mark class='mono_gray'>pandas</mark> nossa vida fica muito mais fácil:\n",
    "</p>"
   ]
  },
  {
   "cell_type": "code",
   "execution_count": 20,
   "metadata": {
    "ExecuteTime": {
     "end_time": "2020-07-03T22:20:34.434776Z",
     "start_time": "2020-07-03T22:20:34.420017Z"
    }
   },
   "outputs": [
    {
     "data": {
      "text/html": [
       "<div>\n",
       "<style scoped>\n",
       "    .dataframe tbody tr th:only-of-type {\n",
       "        vertical-align: middle;\n",
       "    }\n",
       "\n",
       "    .dataframe tbody tr th {\n",
       "        vertical-align: top;\n",
       "    }\n",
       "\n",
       "    .dataframe thead th {\n",
       "        text-align: right;\n",
       "    }\n",
       "</style>\n",
       "<table border=\"1\" class=\"dataframe\">\n",
       "  <thead>\n",
       "    <tr style=\"text-align: right;\">\n",
       "      <th></th>\n",
       "      <th>t1 [s]</th>\n",
       "      <th>t2 [s]</th>\n",
       "      <th>t3 [s]</th>\n",
       "    </tr>\n",
       "  </thead>\n",
       "  <tbody>\n",
       "    <tr>\n",
       "      <td>Sensor 1</td>\n",
       "      <td>0.000</td>\n",
       "      <td>0.000</td>\n",
       "      <td>0.000</td>\n",
       "    </tr>\n",
       "    <tr>\n",
       "      <td>Sensor 2</td>\n",
       "      <td>1.261</td>\n",
       "      <td>1.181</td>\n",
       "      <td>1.197</td>\n",
       "    </tr>\n",
       "    <tr>\n",
       "      <td>Sensor 3</td>\n",
       "      <td>1.774</td>\n",
       "      <td>1.694</td>\n",
       "      <td>1.701</td>\n",
       "    </tr>\n",
       "    <tr>\n",
       "      <td>Sensor 4</td>\n",
       "      <td>2.169</td>\n",
       "      <td>2.089</td>\n",
       "      <td>2.429</td>\n",
       "    </tr>\n",
       "    <tr>\n",
       "      <td>Sensor 5</td>\n",
       "      <td>2.509</td>\n",
       "      <td>2.429</td>\n",
       "      <td>2.443</td>\n",
       "    </tr>\n",
       "  </tbody>\n",
       "</table>\n",
       "</div>"
      ],
      "text/plain": [
       "          t1 [s]  t2 [s]  t3 [s]\n",
       "Sensor 1   0.000   0.000   0.000\n",
       "Sensor 2   1.261   1.181   1.197\n",
       "Sensor 3   1.774   1.694   1.701\n",
       "Sensor 4   2.169   2.089   2.429\n",
       "Sensor 5   2.509   2.429   2.443"
      ]
     },
     "execution_count": 20,
     "metadata": {},
     "output_type": "execute_result"
    }
   ],
   "source": [
    "# primeiramente selecionamos somente as colunas com os tempos\n",
    "df_dados[['t1 [s]', 't2 [s]', 't3 [s]']]"
   ]
  },
  {
   "cell_type": "markdown",
   "metadata": {},
   "source": [
    "<p class='justified'>\n",
    "    Veja que o <mark class='mono_gray'>DataFrame</mark> anterior contém somente as colunas dos tempos, que são os valores que nos interessam para o cálculo dos desvios padrões em cada um dos sensores. Temos então que calcular o desvio padrão dos valores levando em consideração todos os valores de uma mesma linha, isto é, referente a um mesmo sensor. Para isso, basta aplicarmos o método <mark class='mono_gray'>std()</mark> (<i>Standard Deviation</i>) no <mark class='mono_gray'>DataFrame</mark> <mark class='mono_gray'>df_dados</mark> e especificar o eixo, que nesse caso é o horizontal <mark class='mono_gray'>axis=1</mark>:\n",
    "</p>"
   ]
  },
  {
   "cell_type": "code",
   "execution_count": 21,
   "metadata": {
    "ExecuteTime": {
     "end_time": "2020-07-03T22:20:37.137366Z",
     "start_time": "2020-07-03T22:20:37.133292Z"
    }
   },
   "outputs": [
    {
     "data": {
      "text/plain": [
       "Sensor 1    0.000000\n",
       "Sensor 2    0.042332\n",
       "Sensor 3    0.044306\n",
       "Sensor 4    0.177764\n",
       "Sensor 5    0.042724\n",
       "dtype: float64"
      ]
     },
     "execution_count": 21,
     "metadata": {},
     "output_type": "execute_result"
    }
   ],
   "source": [
    "df_dados[['t1 [s]', 't2 [s]', 't3 [s]']].std(axis=1)"
   ]
  },
  {
   "cell_type": "markdown",
   "metadata": {},
   "source": [
    "<p class='justified'>\n",
    "    Contudo, para o Sensor 4, a incerteza é maior. Portanto, devemos arredondar os número de forma apropriada para que o desvio no valor médio seja considerado de maneira correta. Como temos poucos número, poderíamos fazer isso na mão, criando a seguinte lista:\n",
    "</p>"
   ]
  },
  {
   "cell_type": "code",
   "execution_count": 22,
   "metadata": {
    "ExecuteTime": {
     "end_time": "2020-07-03T22:20:40.096527Z",
     "start_time": "2020-07-03T22:20:40.093704Z"
    }
   },
   "outputs": [
    {
     "data": {
      "text/plain": [
       "[0.0, 0.04, 0.04, 0.2, 0.04]"
      ]
     },
     "execution_count": 22,
     "metadata": {},
     "output_type": "execute_result"
    }
   ],
   "source": [
    "desvio_padrao_tempos_lista = [0.0, 0.04, 0.04, 0.2, 0.04]\n",
    "desvio_padrao_tempos_lista"
   ]
  },
  {
   "cell_type": "markdown",
   "metadata": {},
   "source": [
    "<p class='justified'>\n",
    "    Ou então, poderíamos usar uma lista de compreensão para transformar os números em strings checar se existe um <mark class='mono_gray'>0</mark> na quarta posição:\n",
    "</p>"
   ]
  },
  {
   "cell_type": "code",
   "execution_count": 23,
   "metadata": {
    "ExecuteTime": {
     "end_time": "2020-07-03T22:20:42.893013Z",
     "start_time": "2020-07-03T22:20:42.886175Z"
    }
   },
   "outputs": [
    {
     "data": {
      "text/plain": [
       "[0.0, 0.04, 0.04, 0.2, 0.04]"
      ]
     },
     "execution_count": 23,
     "metadata": {},
     "output_type": "execute_result"
    }
   ],
   "source": [
    "[round(i, 2) if len(str(i)) > 2 and str(i)[2] == '0' else round(i, 1) for i in df_dados[['t1 [s]', 't2 [s]', 't3 [s]']].std(axis=1)]"
   ]
  },
  {
   "cell_type": "markdown",
   "metadata": {},
   "source": [
    "<p class='justified'>\n",
    "E pronto! Agora, para adicionarmos essa nova coluna de valores ao nosso <mark class='mono_gray'>DataFrame</mark>, basta usarmos a mesma <mark class='mono_gray'>sintaxe</mark> que usamos para adicionar uma coluna a um <mark class='mono_gray'>DataFrame</mark>:\n",
    "</p>"
   ]
  },
  {
   "cell_type": "code",
   "execution_count": 24,
   "metadata": {
    "ExecuteTime": {
     "end_time": "2020-07-03T22:20:44.347909Z",
     "start_time": "2020-07-03T22:20:44.343018Z"
    }
   },
   "outputs": [
    {
     "data": {
      "text/html": [
       "<style  type=\"text/css\" >\n",
       "</style><table id=\"T_6fdaa31a_bd7b_11ea_af16_1b8a2246ac4c\" ><caption>Dados adquiridos durante o experimento e os valores médios e desvios padrões dos tempos</caption><thead>    <tr>        <th class=\"blank level0\" ></th>        <th class=\"col_heading level0 col0\" >S [cm]</th>        <th class=\"col_heading level0 col1\" >t1 [s]</th>        <th class=\"col_heading level0 col2\" >t2 [s]</th>        <th class=\"col_heading level0 col3\" >t3 [s]</th>        <th class=\"col_heading level0 col4\" >tempo médio [s]</th>        <th class=\"col_heading level0 col5\" >desvio padrão [s]</th>    </tr></thead><tbody>\n",
       "                <tr>\n",
       "                        <th id=\"T_6fdaa31a_bd7b_11ea_af16_1b8a2246ac4clevel0_row0\" class=\"row_heading level0 row0\" >Sensor 1</th>\n",
       "                        <td id=\"T_6fdaa31a_bd7b_11ea_af16_1b8a2246ac4crow0_col0\" class=\"data row0 col0\" >0</td>\n",
       "                        <td id=\"T_6fdaa31a_bd7b_11ea_af16_1b8a2246ac4crow0_col1\" class=\"data row0 col1\" >0</td>\n",
       "                        <td id=\"T_6fdaa31a_bd7b_11ea_af16_1b8a2246ac4crow0_col2\" class=\"data row0 col2\" >0</td>\n",
       "                        <td id=\"T_6fdaa31a_bd7b_11ea_af16_1b8a2246ac4crow0_col3\" class=\"data row0 col3\" >0</td>\n",
       "                        <td id=\"T_6fdaa31a_bd7b_11ea_af16_1b8a2246ac4crow0_col4\" class=\"data row0 col4\" >0</td>\n",
       "                        <td id=\"T_6fdaa31a_bd7b_11ea_af16_1b8a2246ac4crow0_col5\" class=\"data row0 col5\" >0</td>\n",
       "            </tr>\n",
       "            <tr>\n",
       "                        <th id=\"T_6fdaa31a_bd7b_11ea_af16_1b8a2246ac4clevel0_row1\" class=\"row_heading level0 row1\" >Sensor 2</th>\n",
       "                        <td id=\"T_6fdaa31a_bd7b_11ea_af16_1b8a2246ac4crow1_col0\" class=\"data row1 col0\" >15</td>\n",
       "                        <td id=\"T_6fdaa31a_bd7b_11ea_af16_1b8a2246ac4crow1_col1\" class=\"data row1 col1\" >1.261</td>\n",
       "                        <td id=\"T_6fdaa31a_bd7b_11ea_af16_1b8a2246ac4crow1_col2\" class=\"data row1 col2\" >1.181</td>\n",
       "                        <td id=\"T_6fdaa31a_bd7b_11ea_af16_1b8a2246ac4crow1_col3\" class=\"data row1 col3\" >1.197</td>\n",
       "                        <td id=\"T_6fdaa31a_bd7b_11ea_af16_1b8a2246ac4crow1_col4\" class=\"data row1 col4\" >1.213</td>\n",
       "                        <td id=\"T_6fdaa31a_bd7b_11ea_af16_1b8a2246ac4crow1_col5\" class=\"data row1 col5\" >0.04</td>\n",
       "            </tr>\n",
       "            <tr>\n",
       "                        <th id=\"T_6fdaa31a_bd7b_11ea_af16_1b8a2246ac4clevel0_row2\" class=\"row_heading level0 row2\" >Sensor 3</th>\n",
       "                        <td id=\"T_6fdaa31a_bd7b_11ea_af16_1b8a2246ac4crow2_col0\" class=\"data row2 col0\" >30</td>\n",
       "                        <td id=\"T_6fdaa31a_bd7b_11ea_af16_1b8a2246ac4crow2_col1\" class=\"data row2 col1\" >1.774</td>\n",
       "                        <td id=\"T_6fdaa31a_bd7b_11ea_af16_1b8a2246ac4crow2_col2\" class=\"data row2 col2\" >1.694</td>\n",
       "                        <td id=\"T_6fdaa31a_bd7b_11ea_af16_1b8a2246ac4crow2_col3\" class=\"data row2 col3\" >1.701</td>\n",
       "                        <td id=\"T_6fdaa31a_bd7b_11ea_af16_1b8a2246ac4crow2_col4\" class=\"data row2 col4\" >1.723</td>\n",
       "                        <td id=\"T_6fdaa31a_bd7b_11ea_af16_1b8a2246ac4crow2_col5\" class=\"data row2 col5\" >0.04</td>\n",
       "            </tr>\n",
       "            <tr>\n",
       "                        <th id=\"T_6fdaa31a_bd7b_11ea_af16_1b8a2246ac4clevel0_row3\" class=\"row_heading level0 row3\" >Sensor 4</th>\n",
       "                        <td id=\"T_6fdaa31a_bd7b_11ea_af16_1b8a2246ac4crow3_col0\" class=\"data row3 col0\" >45</td>\n",
       "                        <td id=\"T_6fdaa31a_bd7b_11ea_af16_1b8a2246ac4crow3_col1\" class=\"data row3 col1\" >2.169</td>\n",
       "                        <td id=\"T_6fdaa31a_bd7b_11ea_af16_1b8a2246ac4crow3_col2\" class=\"data row3 col2\" >2.089</td>\n",
       "                        <td id=\"T_6fdaa31a_bd7b_11ea_af16_1b8a2246ac4crow3_col3\" class=\"data row3 col3\" >2.429</td>\n",
       "                        <td id=\"T_6fdaa31a_bd7b_11ea_af16_1b8a2246ac4crow3_col4\" class=\"data row3 col4\" >2.229</td>\n",
       "                        <td id=\"T_6fdaa31a_bd7b_11ea_af16_1b8a2246ac4crow3_col5\" class=\"data row3 col5\" >0.2</td>\n",
       "            </tr>\n",
       "            <tr>\n",
       "                        <th id=\"T_6fdaa31a_bd7b_11ea_af16_1b8a2246ac4clevel0_row4\" class=\"row_heading level0 row4\" >Sensor 5</th>\n",
       "                        <td id=\"T_6fdaa31a_bd7b_11ea_af16_1b8a2246ac4crow4_col0\" class=\"data row4 col0\" >60</td>\n",
       "                        <td id=\"T_6fdaa31a_bd7b_11ea_af16_1b8a2246ac4crow4_col1\" class=\"data row4 col1\" >2.509</td>\n",
       "                        <td id=\"T_6fdaa31a_bd7b_11ea_af16_1b8a2246ac4crow4_col2\" class=\"data row4 col2\" >2.429</td>\n",
       "                        <td id=\"T_6fdaa31a_bd7b_11ea_af16_1b8a2246ac4crow4_col3\" class=\"data row4 col3\" >2.443</td>\n",
       "                        <td id=\"T_6fdaa31a_bd7b_11ea_af16_1b8a2246ac4crow4_col4\" class=\"data row4 col4\" >2.46</td>\n",
       "                        <td id=\"T_6fdaa31a_bd7b_11ea_af16_1b8a2246ac4crow4_col5\" class=\"data row4 col5\" >0.04</td>\n",
       "            </tr>\n",
       "    </tbody></table>"
      ],
      "text/plain": [
       "<pandas.io.formats.style.Styler at 0x7f6f1947bb10>"
      ]
     },
     "execution_count": 24,
     "metadata": {},
     "output_type": "execute_result"
    }
   ],
   "source": [
    "# especificamos um nome para a nova coluna e atribuímos os valores que serão dispostos nessa nova coluna\n",
    "df_dados['desvio padrão [s]'] = desvio_padrao_tempos_lista\n",
    "\n",
    "df_dados.style.set_caption('Dados adquiridos durante o experimento e os valores médios e desvios padrões dos tempos')"
   ]
  },
  {
   "cell_type": "markdown",
   "metadata": {},
   "source": [
    "<p class='justified'>\n",
    "    Porém, temos que arrumar os valores médios para que a representação final possa estar correta. Para arredondá-los e substituí-los, usamos o método <mark class='mono_gray'>replace(valor_velho, valor_novo)</mark>. No nosso caso, iremos fornecer duas listas, de maneiras que os elementos possam ser substituídos na mesma ordem:\n",
    "</p>"
   ]
  },
  {
   "cell_type": "code",
   "execution_count": 25,
   "metadata": {
    "ExecuteTime": {
     "end_time": "2020-07-03T22:20:46.778045Z",
     "start_time": "2020-07-03T22:20:46.770972Z"
    }
   },
   "outputs": [],
   "source": [
    "dados_antigos    = [1.213, 1.723, 2.229, 2.46]\n",
    "dados_corrigidos = [1.21, 1.72, 2.2, 2.46]\n",
    "df_dados.replace(dados_antigos, dados_corrigidos, inplace=True)"
   ]
  },
  {
   "cell_type": "markdown",
   "metadata": {},
   "source": [
    "<p class='justified'>\n",
    "    Lembrando que a propriedade <mark class='mono_gray'>inplace=True</mark> faz as mudanças permanecerem no objeto em questão.\n",
    "</p>"
   ]
  },
  {
   "cell_type": "code",
   "execution_count": 26,
   "metadata": {
    "ExecuteTime": {
     "end_time": "2020-07-03T22:20:48.508028Z",
     "start_time": "2020-07-03T22:20:48.497280Z"
    }
   },
   "outputs": [
    {
     "data": {
      "text/html": [
       "<div>\n",
       "<style scoped>\n",
       "    .dataframe tbody tr th:only-of-type {\n",
       "        vertical-align: middle;\n",
       "    }\n",
       "\n",
       "    .dataframe tbody tr th {\n",
       "        vertical-align: top;\n",
       "    }\n",
       "\n",
       "    .dataframe thead th {\n",
       "        text-align: right;\n",
       "    }\n",
       "</style>\n",
       "<table border=\"1\" class=\"dataframe\">\n",
       "  <thead>\n",
       "    <tr style=\"text-align: right;\">\n",
       "      <th></th>\n",
       "      <th>S [cm]</th>\n",
       "      <th>t1 [s]</th>\n",
       "      <th>t2 [s]</th>\n",
       "      <th>t3 [s]</th>\n",
       "      <th>tempo médio [s]</th>\n",
       "      <th>desvio padrão [s]</th>\n",
       "    </tr>\n",
       "  </thead>\n",
       "  <tbody>\n",
       "    <tr>\n",
       "      <td>Sensor 1</td>\n",
       "      <td>0.0</td>\n",
       "      <td>0.000</td>\n",
       "      <td>0.000</td>\n",
       "      <td>0.000</td>\n",
       "      <td>0.00</td>\n",
       "      <td>0.00</td>\n",
       "    </tr>\n",
       "    <tr>\n",
       "      <td>Sensor 2</td>\n",
       "      <td>15.0</td>\n",
       "      <td>1.261</td>\n",
       "      <td>1.181</td>\n",
       "      <td>1.197</td>\n",
       "      <td>1.21</td>\n",
       "      <td>0.04</td>\n",
       "    </tr>\n",
       "    <tr>\n",
       "      <td>Sensor 3</td>\n",
       "      <td>30.0</td>\n",
       "      <td>1.774</td>\n",
       "      <td>1.694</td>\n",
       "      <td>1.701</td>\n",
       "      <td>1.72</td>\n",
       "      <td>0.04</td>\n",
       "    </tr>\n",
       "    <tr>\n",
       "      <td>Sensor 4</td>\n",
       "      <td>45.0</td>\n",
       "      <td>2.169</td>\n",
       "      <td>2.089</td>\n",
       "      <td>2.429</td>\n",
       "      <td>2.20</td>\n",
       "      <td>0.20</td>\n",
       "    </tr>\n",
       "    <tr>\n",
       "      <td>Sensor 5</td>\n",
       "      <td>60.0</td>\n",
       "      <td>2.509</td>\n",
       "      <td>2.429</td>\n",
       "      <td>2.443</td>\n",
       "      <td>2.46</td>\n",
       "      <td>0.04</td>\n",
       "    </tr>\n",
       "  </tbody>\n",
       "</table>\n",
       "</div>"
      ],
      "text/plain": [
       "          S [cm]  t1 [s]  t2 [s]  t3 [s]  tempo médio [s]  desvio padrão [s]\n",
       "Sensor 1     0.0   0.000   0.000   0.000             0.00               0.00\n",
       "Sensor 2    15.0   1.261   1.181   1.197             1.21               0.04\n",
       "Sensor 3    30.0   1.774   1.694   1.701             1.72               0.04\n",
       "Sensor 4    45.0   2.169   2.089   2.429             2.20               0.20\n",
       "Sensor 5    60.0   2.509   2.429   2.443             2.46               0.04"
      ]
     },
     "execution_count": 26,
     "metadata": {},
     "output_type": "execute_result"
    }
   ],
   "source": [
    "df_dados"
   ]
  },
  {
   "cell_type": "markdown",
   "metadata": {},
   "source": [
    "<p class='justified'>\n",
    "    Dessa forma, podemos criar uma coluna especificando como os valores devem ser reportados. Nosso objetivo é juntar as colunas <mark class='mono_gray'>tempo médio [s]</mark> e <mark class='mono_gray'>desvio padrão [s]</mark> de maneira que cada valor seja separado pelo sinal de <mark class='mono_gray'>±</mark>. Podemos realizar isso de várias formas. Talvez a mais rápida, com menos código, seja a usando o método <mark class='mono_gray'>agg()</mark> (<i>aggregate</i>) do <mark class='mono_gray'>DataFrame</mark>. Seu primeiro argumento é a string que irá estar juntando os valores agregados e o segundo é a direção em que a operação deve ser realizada, ou seja, nas linhas ou nas colunas:\n",
    "</p>"
   ]
  },
  {
   "cell_type": "code",
   "execution_count": 27,
   "metadata": {
    "ExecuteTime": {
     "end_time": "2020-07-03T22:20:51.656105Z",
     "start_time": "2020-07-03T22:20:51.640380Z"
    }
   },
   "outputs": [
    {
     "data": {
      "text/plain": [
       "Sensor 1      0.0 ± 0.0\n",
       "Sensor 2    1.21 ± 0.04\n",
       "Sensor 3    1.72 ± 0.04\n",
       "Sensor 4      2.2 ± 0.2\n",
       "Sensor 5    2.46 ± 0.04\n",
       "dtype: object"
      ]
     },
     "execution_count": 27,
     "metadata": {},
     "output_type": "execute_result"
    }
   ],
   "source": [
    "df_dados[['tempo médio [s]', 'desvio padrão [s]']].astype(str).agg(\" ± \".join, axis=1)"
   ]
  },
  {
   "cell_type": "markdown",
   "metadata": {},
   "source": [
    "<p class='justified'>\n",
    "    Aqui aplicamos o método <mark class='mono_gray'>astype()</mark> com o argumento <mark class='mono_gray'>str</mark> para transformar nossos números em strings para que eles pudessem ser agregados. Assim, criamos uma nova coluna com essa representação:\n",
    "</p>"
   ]
  },
  {
   "cell_type": "code",
   "execution_count": 28,
   "metadata": {
    "ExecuteTime": {
     "end_time": "2020-07-03T22:20:53.729422Z",
     "start_time": "2020-07-03T22:20:53.716407Z"
    }
   },
   "outputs": [
    {
     "data": {
      "text/html": [
       "<div>\n",
       "<style scoped>\n",
       "    .dataframe tbody tr th:only-of-type {\n",
       "        vertical-align: middle;\n",
       "    }\n",
       "\n",
       "    .dataframe tbody tr th {\n",
       "        vertical-align: top;\n",
       "    }\n",
       "\n",
       "    .dataframe thead th {\n",
       "        text-align: right;\n",
       "    }\n",
       "</style>\n",
       "<table border=\"1\" class=\"dataframe\">\n",
       "  <thead>\n",
       "    <tr style=\"text-align: right;\">\n",
       "      <th></th>\n",
       "      <th>S [cm]</th>\n",
       "      <th>t1 [s]</th>\n",
       "      <th>t2 [s]</th>\n",
       "      <th>t3 [s]</th>\n",
       "      <th>tempo médio [s]</th>\n",
       "      <th>desvio padrão [s]</th>\n",
       "      <th>dados reportados</th>\n",
       "    </tr>\n",
       "  </thead>\n",
       "  <tbody>\n",
       "    <tr>\n",
       "      <td>Sensor 1</td>\n",
       "      <td>0.0</td>\n",
       "      <td>0.000</td>\n",
       "      <td>0.000</td>\n",
       "      <td>0.000</td>\n",
       "      <td>0.00</td>\n",
       "      <td>0.00</td>\n",
       "      <td>0.0 ± 0.0</td>\n",
       "    </tr>\n",
       "    <tr>\n",
       "      <td>Sensor 2</td>\n",
       "      <td>15.0</td>\n",
       "      <td>1.261</td>\n",
       "      <td>1.181</td>\n",
       "      <td>1.197</td>\n",
       "      <td>1.21</td>\n",
       "      <td>0.04</td>\n",
       "      <td>1.21 ± 0.04</td>\n",
       "    </tr>\n",
       "    <tr>\n",
       "      <td>Sensor 3</td>\n",
       "      <td>30.0</td>\n",
       "      <td>1.774</td>\n",
       "      <td>1.694</td>\n",
       "      <td>1.701</td>\n",
       "      <td>1.72</td>\n",
       "      <td>0.04</td>\n",
       "      <td>1.72 ± 0.04</td>\n",
       "    </tr>\n",
       "    <tr>\n",
       "      <td>Sensor 4</td>\n",
       "      <td>45.0</td>\n",
       "      <td>2.169</td>\n",
       "      <td>2.089</td>\n",
       "      <td>2.429</td>\n",
       "      <td>2.20</td>\n",
       "      <td>0.20</td>\n",
       "      <td>2.2 ± 0.2</td>\n",
       "    </tr>\n",
       "    <tr>\n",
       "      <td>Sensor 5</td>\n",
       "      <td>60.0</td>\n",
       "      <td>2.509</td>\n",
       "      <td>2.429</td>\n",
       "      <td>2.443</td>\n",
       "      <td>2.46</td>\n",
       "      <td>0.04</td>\n",
       "      <td>2.46 ± 0.04</td>\n",
       "    </tr>\n",
       "  </tbody>\n",
       "</table>\n",
       "</div>"
      ],
      "text/plain": [
       "          S [cm]  t1 [s]  t2 [s]  t3 [s]  tempo médio [s]  desvio padrão [s]  \\\n",
       "Sensor 1     0.0   0.000   0.000   0.000             0.00               0.00   \n",
       "Sensor 2    15.0   1.261   1.181   1.197             1.21               0.04   \n",
       "Sensor 3    30.0   1.774   1.694   1.701             1.72               0.04   \n",
       "Sensor 4    45.0   2.169   2.089   2.429             2.20               0.20   \n",
       "Sensor 5    60.0   2.509   2.429   2.443             2.46               0.04   \n",
       "\n",
       "         dados reportados  \n",
       "Sensor 1        0.0 ± 0.0  \n",
       "Sensor 2      1.21 ± 0.04  \n",
       "Sensor 3      1.72 ± 0.04  \n",
       "Sensor 4        2.2 ± 0.2  \n",
       "Sensor 5      2.46 ± 0.04  "
      ]
     },
     "execution_count": 28,
     "metadata": {},
     "output_type": "execute_result"
    }
   ],
   "source": [
    "df_dados['dados reportados'] = df_dados[['tempo médio [s]', 'desvio padrão [s]']].astype(str).agg(\" ± \".join, axis=1)\n",
    "df_dados"
   ]
  },
  {
   "cell_type": "markdown",
   "metadata": {},
   "source": [
    "<p class='justified'>\n",
    "    Como mencionado (em algum lugar, tenho quase certeza...) em <mark class='mono_gray'>Python</mark> existem diversas formas de se obter o mesmo resultado. Existem umas formas que a gente entende melhor que outras. Por exemplo, poderíamos obter a coluna de dados reportados com um <mark class='mono_gray'>loop for</mark>. Vamos fazer isso por partes. Podemos criar um <mark class='mono_gray'>array</mark> de duas colunas para usar em um <mark class='mono_gray'>loop for</mark> com duas variáveis. Para criar o <mark class='mono_gray'>array</mark>, simplesmente selecionamos as colunas desejadas e aplicamos a propriedade <mark class='mono_gray'>values</mark>:\n",
    "</p>"
   ]
  },
  {
   "cell_type": "code",
   "execution_count": 29,
   "metadata": {
    "ExecuteTime": {
     "end_time": "2020-07-03T22:20:57.184435Z",
     "start_time": "2020-07-03T22:20:57.178441Z"
    }
   },
   "outputs": [
    {
     "data": {
      "text/plain": [
       "array([[0.  , 0.  ],\n",
       "       [1.21, 0.04],\n",
       "       [1.72, 0.04],\n",
       "       [2.2 , 0.2 ],\n",
       "       [2.46, 0.04]])"
      ]
     },
     "execution_count": 29,
     "metadata": {},
     "output_type": "execute_result"
    }
   ],
   "source": [
    "# aplicamos a propriedade values\n",
    "media_std_valores = df_dados[['tempo médio [s]', 'desvio padrão [s]']].values\n",
    "media_std_valores"
   ]
  },
  {
   "cell_type": "code",
   "execution_count": 30,
   "metadata": {
    "ExecuteTime": {
     "end_time": "2020-07-03T22:20:58.404246Z",
     "start_time": "2020-07-03T22:20:58.401572Z"
    }
   },
   "outputs": [
    {
     "data": {
      "text/plain": [
       "['0.0 ± 0.0', '1.21 ± 0.04', '1.72 ± 0.04', '2.2 ± 0.2', '2.46 ± 0.04']"
      ]
     },
     "execution_count": 30,
     "metadata": {},
     "output_type": "execute_result"
    }
   ],
   "source": [
    "# aplicamos o loop com duas variáveis para agregar as strings\n",
    "[str(media) + \" ± \" + str(std) for media, std in media_std_valores]"
   ]
  },
  {
   "cell_type": "markdown",
   "metadata": {},
   "source": [
    "<a class=\"anchor\" id=\"confeccionando_o_grafico_sxt\"></a>\n",
    "# Confeccionando o gráfico $S \\times t_m$"
   ]
  },
  {
   "cell_type": "markdown",
   "metadata": {},
   "source": [
    "<p class='justified'>\n",
    "Nosso interesse é analisar como a posição $S$ do móvel evolui com relação ao tempo médio $t_m$. Contudo, antes de confeccionarmos um gráfico $S \\times t_m$, vamos elaborar uma figura onde os tempos de cada repetição possam ser comparados. Nossa figura deve então ser constituída de cinco valores em cada uma das posições $S$. Podemos fazer isso usando um gráfico de barras:.\n",
    "</p>"
   ]
  },
  {
   "cell_type": "code",
   "execution_count": 31,
   "metadata": {
    "ExecuteTime": {
     "end_time": "2020-07-03T22:21:00.628519Z",
     "start_time": "2020-07-03T22:21:00.362653Z"
    }
   },
   "outputs": [
    {
     "data": {
      "text/plain": [
       "Text(0.5, 0, 'Tempo [s]')"
      ]
     },
     "execution_count": 31,
     "metadata": {},
     "output_type": "execute_result"
    },
    {
     "data": {
      "image/png": "[encoded data removed]",
      "text/plain": [
       "<Figure size 576x432 with 1 Axes>"
      ]
     },
     "metadata": {
      "needs_background": "light"
     },
     "output_type": "display_data"
    }
   ],
   "source": [
    "plot_bar_df_dados = df_dados.plot.barh(\n",
    "    # para cada valor da variável x, teremos vários valores correspondentes\n",
    "    # que serão comparados. No nosso caso, a variável x é a posição, e os \n",
    "    # valores comparados são os tempos de cada repetição e o valor médio\n",
    "    \n",
    "    xerr='desvio padrão [s]', #definimos os desvios dos valores\n",
    "    x='S [cm]', # variável x, onde os valores serão comparados\n",
    "    y=['t1 [s]', 't2 [s]', 't3 [s]', 'tempo médio [s]'], # valores comparados\n",
    "    width=0.8, # define a espessura das barras\n",
    "    edgecolor='#000000', # define a cor das bordas das barras\n",
    "    title='Tempos em cada sensor.' # define o título da figura\n",
    ")\n",
    "plot_bar_df_dados.set_xlabel('Tempo [s]') # define o label do eixo x"
   ]
  },
  {
   "cell_type": "markdown",
   "metadata": {},
   "source": [
    "<p class='justified'>\n",
    "    <b>Figura 4.</b> Gráfico de barras comparando os tempos cronometrados nos sensores em cada uma das repetições, incluindo valores médios. As barras de erro são respectivas aos desvios padrões.\n",
    "</p>"
   ]
  },
  {
   "cell_type": "markdown",
   "metadata": {},
   "source": [
    "<p class='justified'>\n",
    "Podemos fazer a leitura do gráfico ficar um pouco melhor. Para isso, iremos mudar os labels dos ticks no eixo y. Para isso, usamos o método <mark class='mono_gray'>set_yticklabels()</mark> e passamos uma lista de strings que substituirão os valores presentes. Primeiro, vamos criar uma lista com os labels que queremos:\n",
    "</p>"
   ]
  },
  {
   "cell_type": "code",
   "execution_count": 32,
   "metadata": {
    "ExecuteTime": {
     "end_time": "2020-07-03T22:21:03.391428Z",
     "start_time": "2020-07-03T22:21:03.383353Z"
    }
   },
   "outputs": [
    {
     "data": {
      "text/plain": [
       "['Sensor 1\\n0,00 cm',\n",
       " 'Sensor 2\\n15,00 cm',\n",
       " 'Sensor 3\\n30,00 cm',\n",
       " 'Sensor 4\\n45,00 cm',\n",
       " 'Sensor 5\\n60,00 cm']"
      ]
     },
     "execution_count": 32,
     "metadata": {},
     "output_type": "execute_result"
    }
   ],
   "source": [
    "lista_de_labels = ['Sensor 1\\n0,00 cm', 'Sensor 2\\n15,00 cm', 'Sensor 3\\n30,00 cm', 'Sensor 4\\n45,00 cm', 'Sensor 5\\n60,00 cm']\n",
    "\n",
    "lista_de_labels"
   ]
  },
  {
   "cell_type": "markdown",
   "metadata": {},
   "source": [
    "<p class='justified'>\n",
    "Lembrando que poderíamos ter usado uma lista de compreensão para criar a lista acima:\n",
    "</p>"
   ]
  },
  {
   "cell_type": "code",
   "execution_count": 33,
   "metadata": {
    "ExecuteTime": {
     "end_time": "2020-07-03T22:21:05.082110Z",
     "start_time": "2020-07-03T22:21:05.078333Z"
    }
   },
   "outputs": [
    {
     "data": {
      "text/plain": [
       "['Sensor 1\\n0,00 cm',\n",
       " 'Sensor 2\\n15,00 cm',\n",
       " 'Sensor 3\\n30,00 cm',\n",
       " 'Sensor 4\\n45,00 cm',\n",
       " 'Sensor 5\\n60,00 cm']"
      ]
     },
     "execution_count": 33,
     "metadata": {},
     "output_type": "execute_result"
    }
   ],
   "source": [
    "['Sensor ' + str(i+1) + '\\n' + str(i*15) + ',00 cm' for i in range(5)]"
   ]
  },
  {
   "cell_type": "markdown",
   "metadata": {},
   "source": [
    "<p class='justified'>\n",
    "Vamos então substituir os labels dos ticks do eixo y:\n",
    "</p>"
   ]
  },
  {
   "cell_type": "markdown",
   "metadata": {},
   "source": [
    "<a class='cell' id='figure_5'></a>"
   ]
  },
  {
   "cell_type": "code",
   "execution_count": 34,
   "metadata": {
    "ExecuteTime": {
     "end_time": "2020-07-03T22:21:07.502726Z",
     "start_time": "2020-07-03T22:21:07.211087Z"
    }
   },
   "outputs": [
    {
     "data": {
      "text/plain": [
       "[Text(0, 0, 'Sensor 1\\n0,00 cm'),\n",
       " Text(0, 0, 'Sensor 2\\n15,00 cm'),\n",
       " Text(0, 0, 'Sensor 3\\n30,00 cm'),\n",
       " Text(0, 0, 'Sensor 4\\n45,00 cm'),\n",
       " Text(0, 0, 'Sensor 5\\n60,00 cm')]"
      ]
     },
     "execution_count": 34,
     "metadata": {},
     "output_type": "execute_result"
    },
    {
     "data": {
      "image/png": "[encoded data removed]",
      "text/plain": [
       "<Figure size 576x432 with 1 Axes>"
      ]
     },
     "metadata": {
      "needs_background": "light"
     },
     "output_type": "display_data"
    }
   ],
   "source": [
    "plot_bar_df_dados = df_dados.plot.barh(\n",
    "    # para cada valor da variável x, teremos vários valores correspondentes\n",
    "    # que serão comparados. No nosso caso, a variável x é a posição, e os \n",
    "    # valores comparados são os tempos de cada repetição e o valor médio\n",
    "    xerr='desvio padrão [s]', # definimos os desvios dos valores\n",
    "    x='S [cm]', # variável x, onde os valores serão comparados\n",
    "    y=['t1 [s]', 't2 [s]', 't3 [s]', 'tempo médio [s]'], # valores comparados\n",
    "    width=0.8, # define a espessura das barras\n",
    "    edgecolor='#000000', # define a cor das bordas das barras\n",
    "    capsize=3, # definimos o tamanho da barra perpendicular à barra de erro\n",
    "    cmap='Blues', # definimos um map de cores para as barras em um valor de y\n",
    "    title='Tempos em cada sensor.' # define o título da figura\n",
    ")\n",
    "plot_bar_df_dados.set_xlabel('Tempo [s]') # define o label do eixo x\n",
    "plot_bar_df_dados.set_ylabel('') # deixamos em branco o label do eixo y\n",
    "plot_bar_df_dados.set_yticklabels(lista_de_labels) # trocamos os labels dos ticks do eixo y"
   ]
  },
  {
   "cell_type": "markdown",
   "metadata": {},
   "source": [
    "<p class='justified'>\n",
    "    <b>Figura 5.</b> Gráfico de barras comparando os tempos cronometrados nos sensores em cada uma das repetições, incluindo valores médios. As barras de erro são respectivas aos desvios padrões.\n",
    "</p>"
   ]
  },
  {
   "cell_type": "markdown",
   "metadata": {},
   "source": [
    "<p class='justified'>\n",
    "    Observe que também usamos a propriedade <mark class='mono_gray'>cmap</mark> para mudar as cores das barras em cada um dos valores de y, fornecendo o mapa de cores <mark class='mono_gray'>'Blues'</mark>.\n",
    "</p>"
   ]
  },
  {
   "cell_type": "markdown",
   "metadata": {},
   "source": [
    "<p class='justified'>\n",
    "Com esse gráfico podemos confirmar que as repetições do experimento foram feitas de maneira que as condições foram mantidas praticamente iguais em cada uma das repetições. Veja que os valores representados por cada barra, em cada um dos sensores, não mudam quase nada de uma para outra. Isso acarreta em um valor médio muito próximo aos valores aferidos nas repetições e um desvio padrão muito pequeno, já que os valores de cada medida varia muito pouco em relação a média.\n",
    "</p>"
   ]
  },
  {
   "cell_type": "markdown",
   "metadata": {},
   "source": [
    "<p class='justified'>\n",
    "    Vimos então que os tempos médios são provenientes de repetições experimentais que reproduzem adequadamente o mesmo comportamento físiso. Dessa forma, com os valores da posição $S$ e do tempo médio $t_m$ do <mark class='mono_gray'>DataFrame df_dados</mark>é fácil confeccionarmos o gráfico que estamos interessados (ver final da seção <a href='#experimento_2_mruv'>3.1</a>):\n",
    "</p>"
   ]
  },
  {
   "cell_type": "markdown",
   "metadata": {},
   "source": [
    "<a class='cell' id='figure_6'></a>"
   ]
  },
  {
   "cell_type": "code",
   "execution_count": 35,
   "metadata": {
    "ExecuteTime": {
     "end_time": "2020-07-03T22:21:11.039367Z",
     "start_time": "2020-07-03T22:21:10.768959Z"
    }
   },
   "outputs": [
    {
     "data": {
      "text/plain": [
       "Text(0, 0.5, 'Posição do móvel, S [cm]')"
      ]
     },
     "execution_count": 35,
     "metadata": {},
     "output_type": "execute_result"
    },
    {
     "data": {
      "image/png": "[encoded data removed]",
      "text/plain": [
       "<Figure size 576x432 with 1 Axes>"
      ]
     },
     "metadata": {
      "needs_background": "light"
     },
     "output_type": "display_data"
    }
   ],
   "source": [
    "# agora confeccionamos o gráfico que nos diz\n",
    "# como a posição do carro evolui com o tempo\n",
    "plot_df_dados = df_dados.plot(\n",
    "    x='tempo médio [s]',     # valores das variáveis independentes: eixo x\n",
    "    y='S [cm]',              # valores das variáveis dependentes: eixo y\n",
    "    style='-o',              # desenha as linhas que ligam os marcadores 'o'\n",
    "    markersize=15,           # escolhe o tamanho do marcador/ponto\n",
    "    markerfacecolor=\"white\", # cor do interior do ponto\n",
    "    markeredgewidth=4,       # escolhe a espessura da borda do marcador/ponto\n",
    "    lw=4,                    # escolhe a espessura da linha que liga os pontos\n",
    "    xlim=(-0.5, 3),          # muda o intervalo do eixo-x\n",
    "    grid=True,               # desenha as linhas que acompanham os valores nos eixos    \n",
    "    title='Posição do móvel em função do tempo.' # adiciona título ao gráfico\n",
    ");\n",
    "\n",
    "plot_df_dados.set_ylabel('Posição do móvel, S [cm]') # colocamos o label no eixo-y"
   ]
  },
  {
   "cell_type": "markdown",
   "metadata": {},
   "source": [
    "<p class='justified'>\n",
    "<b>Figura 6.</b> Gráfico da Posição $S\\, (m)$ versus tempo médio $t_m\\, (s)$, referente aos dados da <b>Tabela 5</b>.\n",
    "</p>"
   ]
  },
  {
   "cell_type": "markdown",
   "metadata": {},
   "source": [
    "<p class='justified'>\n",
    "As opções colocadas nesse gráfico são as mesmas encontradas no gráfico da <a href='#figure_3'><b>Figura 3</b></a>. iremos manter um padrão para que você vá se habituando com os comandos. Contudo, eu encorajo vocês a mudar as opções e fazerem o gráfico ficar da maneira que preferirem. Isso ajuda a fixar melhor o conteúdo e também satisfaz o senso de estética de cada um. =)\n",
    "</p>"
   ]
  },
  {
   "cell_type": "markdown",
   "metadata": {},
   "source": [
    "<p class='justified'>\n",
    "    Ao contrário do experimento do MRU, vemos que o tipo de relação não é <b>linear</b>!\n",
    "    Para analisar essa curva e obter propriedades referentes a ela que ajudem a explicar o movimento observado, primeiramente iremos usar o <mark class='mono_gray'>método de linearização</mark>.\n",
    "</p>"
   ]
  },
  {
   "cell_type": "markdown",
   "metadata": {},
   "source": [
    "---\n",
    "<a class=\"cell\" id=\"metodo_de_linearizacao\"></a>\n",
    "# Método de linearização"
   ]
  },
  {
   "cell_type": "markdown",
   "metadata": {},
   "source": [
    "<p class='justified'>\n",
    "    Os dados mostrados na <a href=\"#figure_6\">Figura 6</a> não é linear como comentamos. Ele possuí um aspecto que nos lembra de uma parábola, isto é, uma função que tenha um termo quadrático no tempo. Podemos investigar esse nosso palpite linearizando nossos dados e confeccionar um gráfico para averiguar o comportamento. \n",
    "</p>\n",
    "\n",
    "<p class='justified'>\n",
    "    Quando confeccionamos um gráfico de uma função do tipo $y = Ct^2$, ela se parece com algo que observamos na <a href=\"#figure_6\">Figura 6</a>. Ou seja, $y \\times t$ é uma parábola. Contudo, se mudarmos a variável e confeccionarmos um gráfico de $y \\times t^2$ uma reta, com coeficiente angular $C$, deve ser observada. Vamos mostrar isso com um exemplo antes de irmos para nossos dados.\n",
    "</p>"
   ]
  },
  {
   "cell_type": "code",
   "execution_count": 36,
   "metadata": {
    "ExecuteTime": {
     "end_time": "2020-07-03T22:21:17.505144Z",
     "start_time": "2020-07-03T22:21:17.502872Z"
    }
   },
   "outputs": [],
   "source": [
    "# variável independente\n",
    "X = np.arange(0,10)\n",
    "# variável dependente: y = 5x²\n",
    "Y = 5*X**2\n",
    "# variável independente ao quadrado\n",
    "X2 = X**2"
   ]
  },
  {
   "cell_type": "code",
   "execution_count": 37,
   "metadata": {
    "ExecuteTime": {
     "end_time": "2020-07-03T22:21:26.469104Z",
     "start_time": "2020-07-03T22:21:25.966124Z"
    }
   },
   "outputs": [
    {
     "data": {
      "image/png": "[encoded data removed]",
      "text/plain": [
       "<Figure size 1584x576 with 2 Axes>"
      ]
     },
     "metadata": {
      "needs_background": "light"
     },
     "output_type": "display_data"
    }
   ],
   "source": [
    "# criando a figura com dois gráficos: uma linha e duas colunas\n",
    "fig, axarr = plt.subplots(nrows=1, ncols=2, figsize=(22, 8))\n",
    "\n",
    "# dicionário com opções em comum para os gráficos\n",
    "kwargs = dict(markersize=20, markerfacecolor='#FFFFFF', markeredgewidth=5, lw=5)\n",
    "\n",
    "# gráfico 1\n",
    "axarr[0].plot(\n",
    "    X,               # variável independente\n",
    "    Y,               # variável dependente\n",
    "    marker='o',      # escolhendo o tipo de marcador\n",
    "    color='#377eb8', # cor\n",
    "    **kwargs         # dicionário com propriedades em comum\n",
    ")\n",
    "\n",
    "# gráfico 2\n",
    "axarr[1].plot(\n",
    "    X2,              # variável independente\n",
    "    Y,               # variável dependente\n",
    "    marker='D',      # escolhendo o tipo de marcador\n",
    "    color='#4daf4a', # cor\n",
    "    **kwargs         # dicionário com propriedades em comum\n",
    ")\n",
    "\n",
    "# tamanho da fonte para todos os labels\n",
    "FONT_SIZE=28\n",
    "\n",
    "# loop nos gráficos\n",
    "for counter, ax in enumerate(fig.get_axes()):\n",
    "    # adicionando os labels no eixo x\n",
    "    ax.set_xlabel(['t', 't²'][counter], fontsize=FONT_SIZE)\n",
    "    # adicionando os labels no eixo y\n",
    "    ax.set_ylabel('y', fontsize=FONT_SIZE)\n",
    "    # mudando o tamanho dos labels dos ticks\n",
    "    ax.tick_params(labelsize=FONT_SIZE)\n",
    "    # adicionando os títulos\n",
    "    ax.set_title(['Dados normais', 'Dados com linearização'][counter], fontsize=FONT_SIZE)\n",
    "    # adicionando as legendas\n",
    "    ax.legend(['5t²'], fontsize=FONT_SIZE)\n",
    "    # colocando os grids nos ticks maiores\n",
    "    ax.grid(True)\n",
    "    \n",
    "# ajusta o espaçamento entre os gráficos\n",
    "fig.tight_layout()"
   ]
  },
  {
   "cell_type": "markdown",
   "metadata": {},
   "source": [
    "<p class='justified'>\n",
    "    Veja que se calcularmos o coeficiente angular do gráfico $y \\times t^2$, iremos obter o valor de $C = 5$:\n",
    "</p>\n",
    "\n",
    "$$\n",
    "    \\alpha = \\frac{\\Delta y}{\\Delta t^2} = \\frac{245 - 180}{49 - 36} = \\frac{65}{13} = 5.\n",
    "$$"
   ]
  },
  {
   "cell_type": "markdown",
   "metadata": {},
   "source": [
    "<p class='justified'>\n",
    "    Agora vamos ver o que acontece se aplicarmos esse procedimento em nossos dados. Vamos então elevar os valores de $t_m$ ao quadrado e adicionar uma nova coluna no nosso <mark class='mono_gray'>DataFrame df_dados</mark>:\n",
    "</p>"
   ]
  },
  {
   "cell_type": "code",
   "execution_count": 38,
   "metadata": {
    "ExecuteTime": {
     "end_time": "2020-07-03T22:21:33.605210Z",
     "start_time": "2020-07-03T22:21:33.584581Z"
    }
   },
   "outputs": [
    {
     "data": {
      "text/html": [
       "<div>\n",
       "<style scoped>\n",
       "    .dataframe tbody tr th:only-of-type {\n",
       "        vertical-align: middle;\n",
       "    }\n",
       "\n",
       "    .dataframe tbody tr th {\n",
       "        vertical-align: top;\n",
       "    }\n",
       "\n",
       "    .dataframe thead th {\n",
       "        text-align: right;\n",
       "    }\n",
       "</style>\n",
       "<table border=\"1\" class=\"dataframe\">\n",
       "  <thead>\n",
       "    <tr style=\"text-align: right;\">\n",
       "      <th></th>\n",
       "      <th>S [cm]</th>\n",
       "      <th>t1 [s]</th>\n",
       "      <th>t2 [s]</th>\n",
       "      <th>t3 [s]</th>\n",
       "      <th>tempo médio [s]</th>\n",
       "      <th>desvio padrão [s]</th>\n",
       "      <th>dados reportados</th>\n",
       "      <th>tempo médio ao quadrado [s²]</th>\n",
       "    </tr>\n",
       "  </thead>\n",
       "  <tbody>\n",
       "    <tr>\n",
       "      <td>Sensor 1</td>\n",
       "      <td>0.0</td>\n",
       "      <td>0.000</td>\n",
       "      <td>0.000</td>\n",
       "      <td>0.000</td>\n",
       "      <td>0.00</td>\n",
       "      <td>0.00</td>\n",
       "      <td>0.0 ± 0.0</td>\n",
       "      <td>0.00</td>\n",
       "    </tr>\n",
       "    <tr>\n",
       "      <td>Sensor 2</td>\n",
       "      <td>15.0</td>\n",
       "      <td>1.261</td>\n",
       "      <td>1.181</td>\n",
       "      <td>1.197</td>\n",
       "      <td>1.21</td>\n",
       "      <td>0.04</td>\n",
       "      <td>1.21 ± 0.04</td>\n",
       "      <td>1.46</td>\n",
       "    </tr>\n",
       "    <tr>\n",
       "      <td>Sensor 3</td>\n",
       "      <td>30.0</td>\n",
       "      <td>1.774</td>\n",
       "      <td>1.694</td>\n",
       "      <td>1.701</td>\n",
       "      <td>1.72</td>\n",
       "      <td>0.04</td>\n",
       "      <td>1.72 ± 0.04</td>\n",
       "      <td>2.96</td>\n",
       "    </tr>\n",
       "    <tr>\n",
       "      <td>Sensor 4</td>\n",
       "      <td>45.0</td>\n",
       "      <td>2.169</td>\n",
       "      <td>2.089</td>\n",
       "      <td>2.429</td>\n",
       "      <td>2.20</td>\n",
       "      <td>0.20</td>\n",
       "      <td>2.2 ± 0.2</td>\n",
       "      <td>4.84</td>\n",
       "    </tr>\n",
       "    <tr>\n",
       "      <td>Sensor 5</td>\n",
       "      <td>60.0</td>\n",
       "      <td>2.509</td>\n",
       "      <td>2.429</td>\n",
       "      <td>2.443</td>\n",
       "      <td>2.46</td>\n",
       "      <td>0.04</td>\n",
       "      <td>2.46 ± 0.04</td>\n",
       "      <td>6.05</td>\n",
       "    </tr>\n",
       "  </tbody>\n",
       "</table>\n",
       "</div>"
      ],
      "text/plain": [
       "          S [cm]  t1 [s]  t2 [s]  t3 [s]  tempo médio [s]  desvio padrão [s]  \\\n",
       "Sensor 1     0.0   0.000   0.000   0.000             0.00               0.00   \n",
       "Sensor 2    15.0   1.261   1.181   1.197             1.21               0.04   \n",
       "Sensor 3    30.0   1.774   1.694   1.701             1.72               0.04   \n",
       "Sensor 4    45.0   2.169   2.089   2.429             2.20               0.20   \n",
       "Sensor 5    60.0   2.509   2.429   2.443             2.46               0.04   \n",
       "\n",
       "         dados reportados  tempo médio ao quadrado [s²]  \n",
       "Sensor 1        0.0 ± 0.0                          0.00  \n",
       "Sensor 2      1.21 ± 0.04                          1.46  \n",
       "Sensor 3      1.72 ± 0.04                          2.96  \n",
       "Sensor 4        2.2 ± 0.2                          4.84  \n",
       "Sensor 5      2.46 ± 0.04                          6.05  "
      ]
     },
     "execution_count": 38,
     "metadata": {},
     "output_type": "execute_result"
    }
   ],
   "source": [
    "df_dados['tempo médio ao quadrado [s²]'] = (df_dados['tempo médio [s]']**2).round(2)\n",
    "df_dados"
   ]
  },
  {
   "cell_type": "markdown",
   "metadata": {},
   "source": [
    "<p class='justified'>\n",
    "    E agora plotamos os gráficos:\n",
    "</p>"
   ]
  },
  {
   "cell_type": "code",
   "execution_count": 39,
   "metadata": {
    "ExecuteTime": {
     "end_time": "2020-07-03T22:21:36.952145Z",
     "start_time": "2020-07-03T22:21:36.248165Z"
    }
   },
   "outputs": [
    {
     "data": {
      "image/png": "[encoded data removed]",
      "text/plain": [
       "<Figure size 1584x576 with 2 Axes>"
      ]
     },
     "metadata": {
      "needs_background": "light"
     },
     "output_type": "display_data"
    }
   ],
   "source": [
    "# criando a figura com dois gráficos: uma linha e duas colunas\n",
    "fig, axarr = plt.subplots(nrows=1, ncols=2, figsize=(22, 8))\n",
    "\n",
    "# dicionário com opções em comum para os gráficos\n",
    "kwargs = dict(markersize=20, markerfacecolor='#FFFFFF', markeredgewidth=5, lw=5, fontsize=FONT_SIZE)\n",
    "\n",
    "# gráfico 1\n",
    "df_dados.plot(\n",
    "    x='tempo médio [s]', # variável independente\n",
    "    y='S [cm]',          # variável dependente\n",
    "    marker='o',          # tipo do marcador\n",
    "    color='#377eb8',     # cor \n",
    "    ax=axarr[0],         # eixo em que o gráfico deve ser confeccionado\n",
    "    xlim=(-0.3, 2.8),    # região horizontal a ser mostrada\n",
    "    **kwargs             # dicionário com propriedades em comum\n",
    ")\n",
    "\n",
    "# gráfico 2\n",
    "df_dados.plot(\n",
    "    x='tempo médio ao quadrado [s²]', # variável independente\n",
    "    y='S [cm]',                       # variável dependente\n",
    "    marker='D',                       # tipo do marcador\n",
    "    color='#4daf4a',                  # cor \n",
    "    ax=axarr[1],                      # eixo em que o gráfico deve ser confeccionado\n",
    "    xlim=(-0.5, 6.5),                 # região horizontal a ser mostrada\n",
    "    **kwargs                          # dicionário com propriedades em comum\n",
    ")\n",
    "\n",
    "# tamanho da fonte para todos os labels\n",
    "FONT_SIZE=28\n",
    "\n",
    "# loop nos gráficos\n",
    "for counter, ax in enumerate(fig.get_axes()):\n",
    "    # adicionando os labels no eixo x\n",
    "    ax.set_xlabel(['tempo médio, $t_m$ [s]', 'tempo médio ao quadrado, $t^2_m$ [s²]'][counter], fontsize=FONT_SIZE)\n",
    "    # adicionando os labels no eixo y\n",
    "    ax.set_ylabel('Posição do móvel, S [cm]', fontsize=FONT_SIZE)\n",
    "    # mudando o tamanho dos labels dos ticks\n",
    "    ax.tick_params(labelsize=FONT_SIZE)\n",
    "    # adicionando os títulos\n",
    "    ax.set_title(['Posição do móvel em função do tempo (normal).',\n",
    "                  'Posição do móvel em função do tempo (linearizado).'][counter], fontsize=FONT_SIZE)\n",
    "    # adicionando as legendas\n",
    "    ax.legend(['S [cm]'], fontsize=FONT_SIZE)\n",
    "    # colocando os grids nos ticks maiores\n",
    "    ax.grid(True)\n",
    "    \n",
    "# ajusta o espaçamento entre os gráficos\n",
    "fig.tight_layout()"
   ]
  },
  {
   "cell_type": "markdown",
   "metadata": {},
   "source": [
    "<p class='justified'>\n",
    "    Vemos então que o gráfico de $S \\times t^2_m$ é descrito por uma reta. Dessa forma, podemos fazer um ajuste considerando $t^2_m$ como nossa variável independente. Podemos usar o método dos mínimos quadrados e calcular todas aquelas somas (lembra daquelas mil somas?) separadamente. Aqui eu só vou copiar e colar (preguiça...) as funções que definimos para calcular nossos coeficientes linear e angular na aula passada:\n",
    "</p>\n",
    "\n",
    "<p class='justified'>\n",
    "    O coeficiente linear\n",
    "</p>\n",
    "\n",
    "$$\n",
    "  a = \\frac{\\sum y \\sum x^2 - \\sum x \\sum xy}{n\\sum x^2 - \\left(\\sum x\\right)^2}\n",
    "\\label{eq:coef_linear}  \n",
    "$$"
   ]
  },
  {
   "cell_type": "code",
   "execution_count": 40,
   "metadata": {
    "ExecuteTime": {
     "end_time": "2020-07-03T22:21:41.077279Z",
     "start_time": "2020-07-03T22:21:41.071098Z"
    }
   },
   "outputs": [],
   "source": [
    "def coef_linear(x, y):\n",
    "    \"\"\"\n",
    "    Dada a equação da reta y = a + bx, fornecidos os valores correspondentes \n",
    "    das variáveis independente (x) e dependente (y), calculá-se o coeficiente \n",
    "    linear (a).\n",
    "    \n",
    "    Argumentos:\n",
    "    -----------\n",
    "    x - list: lista com os valores da variável independente\n",
    "    y - list: lista com os valores da variável dependente\n",
    "    \n",
    "    Retorno:\n",
    "    --------\n",
    "    A função retorna o valor do coeficiente linear da equação da reta, isto é,\n",
    "    o valor de ``a`` na equação y = a + bx.\n",
    "    \"\"\"\n",
    "    n = len(x)          # número de dados disponíveis\n",
    "    \n",
    "    s_y  = y.sum()      # calcula a soma dos valores em y\n",
    "    s_x2 = (x**2).sum() # calcula a soma dos valores de x²\n",
    "    \n",
    "    s_x  = x.sum()      # calcula a soma dos valores em x\n",
    "    s_xy = (x*y).sum()  # calcula a soma dos valores xy\n",
    "    \n",
    "    s_2x = x.sum()**2   # calcula a soma dos valores em x e depois eleva ao quadrado\n",
    "    \n",
    "    numerador   = s_y*s_x2 - s_x*s_xy # calcula o numerador do coeficiente linear\n",
    "    denominador = n*s_x2 - s_2x       # calcula o denominador do coeficiente linear\n",
    "    \n",
    "    return round(numerador/denominador, 2) # retorna o valor do coeficiente linear arredondado \n",
    "                                           # conforme o número de algarismos significativos"
   ]
  },
  {
   "cell_type": "markdown",
   "metadata": {},
   "source": [
    "<p class='justified'>\n",
    "    e o coeficiente angular\n",
    "</p>\n",
    "\n",
    "$$\n",
    "b = \\frac{n \\sum xy - \\sum x \\sum y}{n\\sum x^2 - \\left(\\sum x\\right)^2}.\n",
    "\\label{eq:coef_angular}\n",
    "$$"
   ]
  },
  {
   "cell_type": "code",
   "execution_count": 41,
   "metadata": {
    "ExecuteTime": {
     "end_time": "2020-07-03T22:21:47.108695Z",
     "start_time": "2020-07-03T22:21:47.104967Z"
    }
   },
   "outputs": [],
   "source": [
    "def coef_angular(x, y):\n",
    "    \"\"\"\n",
    "    Dada a equação da reta y = a + bx, fornecidos os valores correspondentes \n",
    "    das variáveis independente (x) e dependente (y), calculá-se o coeficiente \n",
    "    angular (b).\n",
    "    \n",
    "    Argumentos:\n",
    "    -----------\n",
    "    x - list: lista com os valores da variável independente\n",
    "    y - list: lista com os valores da variável dependente\n",
    "    \n",
    "    Retorno:\n",
    "    --------\n",
    "    A função retorna o valor do coeficiente angular da equação da reta, isto é,\n",
    "    o valor de ``b`` na equação y = a + bx.\n",
    "    \"\"\"\n",
    "    n = len(x)          # número de dados disponíveis\n",
    "    \n",
    "    s_xy = (x*y).sum()  # calcula a soma dos valores de xy\n",
    "    \n",
    "    s_x  = x.sum()      # calcula a soma dos valores em x\n",
    "    s_y  = y.sum()      # calcula a soma dos valores em y\n",
    "    \n",
    "    s_x2 = (x**2).sum() # calcula a soma dos valores de x²\n",
    "    \n",
    "    s_2x = x.sum()**2   # calcula a soma dos valores em x e depois eleva ao quadrado\n",
    "    \n",
    "    numerador   = n*s_xy - s_x*s_y # calcula o numerador do coeficiente angular\n",
    "    denominador = n*s_x2 - s_2x    # calcula o denominador do coeficiente angular\n",
    "    \n",
    "    return round(numerador/denominador, 2) # retorna o valor do coeficiente angular arredondado \n",
    "                                           # conforme o número de algarismos significativos"
   ]
  },
  {
   "cell_type": "markdown",
   "metadata": {},
   "source": [
    "<p class='justified'>\n",
    "    E agora, a única coisa que precisamos fazer é fornecer os valores das variáveis independente $x$ e dependente $y$. No nosso caso, a variável dependente é a posição do móvel, ou seja, $y\\to S$. A variável independente, que nos fez observar uma reta, são os valores do tempo médio ao quadrado, portanto, $x\\to t^2_m$. Dessa forma, usando o <mark class='mono_gray'>DataFrame df_dados</mark>, fornecemos as respectivas colunas:\n",
    "</p>"
   ]
  },
  {
   "cell_type": "code",
   "execution_count": 42,
   "metadata": {
    "ExecuteTime": {
     "end_time": "2020-07-03T22:21:52.271130Z",
     "start_time": "2020-07-03T22:21:52.267081Z"
    }
   },
   "outputs": [
    {
     "data": {
      "text/plain": [
       "9.66"
      ]
     },
     "execution_count": 42,
     "metadata": {},
     "output_type": "execute_result"
    }
   ],
   "source": [
    "coef_angular(x=df_dados['tempo médio ao quadrado [s²]'], y=df_dados['S [cm]'])"
   ]
  },
  {
   "cell_type": "code",
   "execution_count": 43,
   "metadata": {
    "ExecuteTime": {
     "end_time": "2020-07-03T22:21:53.337008Z",
     "start_time": "2020-07-03T22:21:53.330775Z"
    }
   },
   "outputs": [
    {
     "data": {
      "text/plain": [
       "0.43"
      ]
     },
     "execution_count": 43,
     "metadata": {},
     "output_type": "execute_result"
    }
   ],
   "source": [
    "coef_linear(x=df_dados['tempo médio ao quadrado [s²]'], y=df_dados['S [cm]'])"
   ]
  },
  {
   "cell_type": "markdown",
   "metadata": {},
   "source": [
    "<p class='justified'>\n",
    "    Se fizermos uma análise dimensional, usando $[y] = [S] = cm$ e $[x] = [t^2] = s^2$, podemos mostrar que as unidades dos coeficiente linear e angular calculados são $[a] = cm$ e $[b] = cm/s^2$. Ou seja, analisando o gráfico $S \\times t^2_m$, os coeficiente linear e angular representam a posição inicial do móvel e a aceleração, respectivamente. Assim, podemos escrever a equação de movimento para o móvel como:\n",
    "</p>\n",
    "\n",
    "$$\n",
    "    S(t) = 0{,}43\\,cm  + \\left( 9{,}66\\,cm/s^2 \\right)t^2.\n",
    "$$\n",
    "\n",
    "<p class='justified'>\n",
    "Se compararmos com a Eq. \\eqref{eq:mruv_pos}, temos que $S_0 = 0{,}43\\,cm$ e $\\frac{1}{2}a = 9{,}66\\,cm/s^2$, de maneira que a aceleração do móvel é $a = 19{,}32\\,cm/s^2$.\n",
    "</p>\n",
    "\n",
    "<p class='justified'>\n",
    "    Agora, em posse dessa equação, podemos calcular os valores teóricos e comparar as curvas experimental e do modelo. \n",
    "</p>"
   ]
  },
  {
   "cell_type": "code",
   "execution_count": 44,
   "metadata": {
    "ExecuteTime": {
     "end_time": "2020-07-03T22:21:59.117209Z",
     "start_time": "2020-07-03T22:21:59.114634Z"
    }
   },
   "outputs": [],
   "source": [
    "Y_modelo = 0.43 + 9.66*df_dados['tempo médio [s]']**2"
   ]
  },
  {
   "cell_type": "markdown",
   "metadata": {},
   "source": [
    "<p class='justified'>\n",
    "    Podemos definir uma função para calcular o coeficiente de determinação $R^2$ e validar a qualidade do nosso ajuste.\n",
    "</p>"
   ]
  },
  {
   "cell_type": "code",
   "execution_count": 45,
   "metadata": {
    "ExecuteTime": {
     "end_time": "2020-07-03T22:22:01.773143Z",
     "start_time": "2020-07-03T22:22:01.770390Z"
    }
   },
   "outputs": [],
   "source": [
    "def coef_determinacao(y_dado, y_ajuste):\n",
    "    \"\"\"\n",
    "    Função para comparar os dados com o ajuste por meio do coeficiente de determinação.\n",
    "    Valores próximos de 1 indicam um ajuste bom e quanto mais próximo de 0 pior.\n",
    "    \n",
    "    Argumentos:\n",
    "    -----------\n",
    "    y_dado - array: array com os valores dos dados da variável independente.\n",
    "    y_ajuste - array: array com os valores do ajuste da variável independente.\n",
    "    \n",
    "    Retorno:\n",
    "    --------\n",
    "    A função retorna um ``float`` com o valor do coeficiente de determinação R2.\n",
    "    \"\"\"\n",
    "    \n",
    "    # calcula a soma dos resíduos\n",
    "    s_res = sum((y_dado - y_ajuste)**2)\n",
    "    # calcula a soma total\n",
    "    s_tot = sum((y_dado - y_dado.mean())**2)\n",
    "    \n",
    "    # retorna o coeficiente de determinação\n",
    "    return round(1 - s_res/s_tot, 3)"
   ]
  },
  {
   "cell_type": "code",
   "execution_count": 46,
   "metadata": {
    "ExecuteTime": {
     "end_time": "2020-07-03T22:22:02.409414Z",
     "start_time": "2020-07-03T22:22:02.405662Z"
    }
   },
   "outputs": [
    {
     "data": {
      "text/plain": [
       "0.997"
      ]
     },
     "execution_count": 46,
     "metadata": {},
     "output_type": "execute_result"
    }
   ],
   "source": [
    "coef_determinacao(df_dados['S [cm]'], Y_modelo)"
   ]
  },
  {
   "cell_type": "markdown",
   "metadata": {},
   "source": [
    "<p class='justified'>\n",
    "    Vemos então que $R^2 = 0{,}997$, indicando que o modelo se ajusta bem aos dados. Vamos, finalmente, comparar as curvas experimental e do modelo via gráficos:\n",
    "</p>"
   ]
  },
  {
   "cell_type": "code",
   "execution_count": 47,
   "metadata": {
    "ExecuteTime": {
     "end_time": "2020-07-03T22:22:12.570203Z",
     "start_time": "2020-07-03T22:22:11.921986Z"
    }
   },
   "outputs": [
    {
     "data": {
      "image/png": "[encoded data removed]",
      "text/plain": [
       "<Figure size 1584x576 with 2 Axes>"
      ]
     },
     "metadata": {
      "needs_background": "light"
     },
     "output_type": "display_data"
    }
   ],
   "source": [
    "# criando a figura com dois gráficos: uma linha e duas colunas\n",
    "fig, axarr = plt.subplots(nrows=1, ncols=2, figsize=(22, 8))\n",
    "\n",
    "# dicionário com opções em comum para os gráficos\n",
    "kwargs = dict(markersize=20, markerfacecolor='#FFFFFF', markeredgewidth=3, lw=5, fontsize=FONT_SIZE)\n",
    "\n",
    "kwargs_modelo = dict(marker='x', markersize=20, markeredgewidth=3, color='#E34A33', ls='--', lw=3)\n",
    "\n",
    "# gráfico 1 - plotando os dados\n",
    "df_dados.plot(\n",
    "    x='tempo médio [s]', # variável independente\n",
    "    y='S [cm]',          # variável dependente (dados)\n",
    "    marker='o',          # tipo do marcador\n",
    "    color='#377eb8',     # cor \n",
    "    ax=axarr[0],         # eixo em que o gráfico deve ser confeccionado\n",
    "    xlim=(-0.3, 2.8),    # região horizontal a ser mostrada\n",
    "    **kwargs             # dicionário com propriedades em comum\n",
    ")\n",
    "\n",
    "# gráfico 1 - plotando o ajuste\n",
    "axarr[0].plot(\n",
    "    df_dados['tempo médio [s]'], # variável independente\n",
    "    Y_modelo,                    # variável dependente (modelo)\n",
    "    **kwargs_modelo              # dicionário com propriedades em comum\n",
    ")\n",
    "\n",
    "# gráfico 2 - plotando os dados\n",
    "df_dados.plot(\n",
    "    x='tempo médio ao quadrado [s²]', # variável independente\n",
    "    y='S [cm]',                       # variável dependente (dados)\n",
    "    marker='D',                       # tipo do marcador\n",
    "    color='#4daf4a',                  # cor \n",
    "    ax=axarr[1],                      # eixo em que o gráfico deve ser confeccionado\n",
    "    xlim=(-0.5, 6.5),                 # região horizontal a ser mostrada\n",
    "    **kwargs                          # dicionário com propriedades em comum\n",
    ")\n",
    "\n",
    "# gráfico 2 - plotando o ajuste\n",
    "axarr[1].plot(\n",
    "    df_dados['tempo médio ao quadrado [s²]'], # variável independente\n",
    "    Y_modelo,                                 # variável dependente (modelo)\n",
    "    **kwargs_modelo                           # dicionário com propriedades em comum\n",
    ")\n",
    "\n",
    "# tamanho da fonte para todos os labels\n",
    "FONT_SIZE=28\n",
    "\n",
    "# loop nos gráficos\n",
    "for counter, ax in enumerate(fig.get_axes()):\n",
    "    # adicionando os labels no eixo x\n",
    "    ax.set_xlabel(['tempo médio, $t_m$ [s]', 'tempo médio ao quadrado, $t^2_m$ [s²]'][counter], fontsize=FONT_SIZE)\n",
    "    # adicionando os labels no eixo y\n",
    "    ax.set_ylabel('Posição do móvel, S [cm]', fontsize=FONT_SIZE)\n",
    "    # mudando o tamanho dos labels dos ticks\n",
    "    ax.tick_params(labelsize=FONT_SIZE)\n",
    "    # adicionando os títulos\n",
    "    ax.set_title(['Posição do móvel em função do tempo (normal).',\n",
    "                  'Posição do móvel em função do tempo (linearizado).'][counter], fontsize=FONT_SIZE)\n",
    "    # adicionando as legendas\n",
    "    ax.legend(['S [cm]', 'Modelo: S(t) = 0,46 + 9,55 t²'], fontsize=22)\n",
    "    # colocando os grids nos ticks maiores\n",
    "    ax.grid(True)\n",
    "\n",
    "# podemos inserir um texto no gráfico usando o método ``text()``\n",
    "axarr[1].text(x=4, y=10, s='R² = ' + str(coef_determinacao(df_dados['S [cm]'], Y_modelo)), fontsize=FONT_SIZE)\n",
    "    \n",
    "# ajusta o espaçamento entre os gráficos\n",
    "fig.tight_layout()"
   ]
  },
  {
   "cell_type": "markdown",
   "metadata": {},
   "source": [
    "<p class='justified'>\n",
    "    Vimos então que nosso ajuste usando uma parábola é muito bom. Contudo, tivemos que de certa forma chutar o comportamento da nossa função de ajuste. Podemos abordar um outro método que nos informa o tipo de potência da função que temos que considerar. Para isso, iremos fazer uma mudança de escala nos nossos dados. \n",
    "</p>"
   ]
  },
  {
   "cell_type": "markdown",
   "metadata": {},
   "source": [
    "---\n",
    "<a id=\"mudando_a_escala_dos_dados\"></a>\n",
    "# Mudando a escala dos dados"
   ]
  },
  {
   "cell_type": "markdown",
   "metadata": {},
   "source": [
    "<p class='justified'>\n",
    "    Nessa seção teremos como objetivos encontrar o expoente da função\n",
    "</p>\n",
    "\n",
    "$$\n",
    "    y = Ct^n.\n",
    "    \\label{eq:pot}\n",
    "$$\n",
    "\n",
    "<p class='justified'>\n",
    "Na seção anterior, a partir da curva descrita pelos dados, chutamos um expoente $n=2$ e então fizemos um ajuste a partir de uma reta, considerando a variável independente $t^2$. O procedimento que iremos aplicar agora nos permitirá encontrar justamente o valor do expoente $n$, utilizando também uma regressão linear.\n",
    "</p>\n",
    "\n",
    "<p class='justified'>\n",
    "    O primeiro passo é aplicar a função <mark class='mono_gray'>log</mark> em ambos os lados da equação \\eqref{eq:pot}:\n",
    "</p>\n",
    "\n",
    "$$\n",
    "    \\log y = \\log \\left( C t^n \\right)\n",
    "$$\n",
    "\n",
    "<p class='justified'>\n",
    "e aplicando as propriedades $\\log ab = \\log a + \\log b$ e $\\log a^b = b \\log a$, escrevemos a expressão anterior como\n",
    "</p>\n",
    "\n",
    "$$\n",
    "    \\log y = \\log C + n \\log t.\n",
    "$$\n",
    "\n",
    "<p class='justified'>\n",
    "    Veja que essa expressão é muito parecida com a de uma reta:\n",
    "</p>\n",
    "\n",
    "$$\n",
    "    y_{reta} = a + bx\n",
    "$$\n",
    "\n",
    "em que comparando os termos, temos:\n",
    "\n",
    "\n",
    "$$\n",
    "\\begin{split}\n",
    "    \\text{Potência com } \\log &\\to \\text{reta} & \\\\\n",
    "    \\log y &\\to y_{reta} & \\text{(variável dependente)} \\\\\n",
    "    \\log x &\\to x        & \\text{(variável independente)} \\\\\n",
    "    \\log C &\\to a        & \\text{(coeficiente linear)} \\\\\n",
    "    n      &\\to b        & \\text{(coeficiente angular)} \n",
    "\\end{split}\n",
    "$$\n",
    "\n",
    "<p class='justified'>\n",
    "Nesse novo cenário, se confeccionarmos um gráfico de $\\log y \\times \\log x$ da Eq. \\eqref{eq:pot} iremos observar uma reta com coeficientes linear $\\log C$ e angular $n$. Vamos explorar essa propriedade a seguir.\n",
    "</p>\n",
    "\n",
    "<p class='justified'>\n",
    "    Primeiramente, iremos transformar os valores da posição $S$ e do tempo médio $t_m$ aplicando a função <mark class='mono_gray'>log</mark> do pacote <mark class='mono_gray'>numpy</mark>:\n",
    "</p>"
   ]
  },
  {
   "cell_type": "code",
   "execution_count": 71,
   "metadata": {
    "ExecuteTime": {
     "end_time": "2020-07-04T00:14:51.384455Z",
     "start_time": "2020-07-04T00:14:51.370445Z"
    }
   },
   "outputs": [
    {
     "name": "stderr",
     "output_type": "stream",
     "text": [
      "/home/dsvieira/anaconda3/lib/python3.7/site-packages/pandas/core/series.py:853: RuntimeWarning: divide by zero encountered in log\n",
      "  result = getattr(ufunc, method)(*inputs, **kwargs)\n"
     ]
    },
    {
     "data": {
      "text/html": [
       "<div>\n",
       "<style scoped>\n",
       "    .dataframe tbody tr th:only-of-type {\n",
       "        vertical-align: middle;\n",
       "    }\n",
       "\n",
       "    .dataframe tbody tr th {\n",
       "        vertical-align: top;\n",
       "    }\n",
       "\n",
       "    .dataframe thead th {\n",
       "        text-align: right;\n",
       "    }\n",
       "</style>\n",
       "<table border=\"1\" class=\"dataframe\">\n",
       "  <thead>\n",
       "    <tr style=\"text-align: right;\">\n",
       "      <th></th>\n",
       "      <th>S [cm]</th>\n",
       "      <th>t1 [s]</th>\n",
       "      <th>t2 [s]</th>\n",
       "      <th>t3 [s]</th>\n",
       "      <th>tempo médio [s]</th>\n",
       "      <th>desvio padrão [s]</th>\n",
       "      <th>dados reportados</th>\n",
       "      <th>tempo médio ao quadrado [s²]</th>\n",
       "      <th>log S [cm]</th>\n",
       "      <th>log tempo médio [s]</th>\n",
       "    </tr>\n",
       "  </thead>\n",
       "  <tbody>\n",
       "    <tr>\n",
       "      <td>Sensor 1</td>\n",
       "      <td>0.0</td>\n",
       "      <td>0.000</td>\n",
       "      <td>0.000</td>\n",
       "      <td>0.000</td>\n",
       "      <td>0.00</td>\n",
       "      <td>0.00</td>\n",
       "      <td>0.0 ± 0.0</td>\n",
       "      <td>0.00</td>\n",
       "      <td>-inf</td>\n",
       "      <td>-inf</td>\n",
       "    </tr>\n",
       "    <tr>\n",
       "      <td>Sensor 2</td>\n",
       "      <td>15.0</td>\n",
       "      <td>1.261</td>\n",
       "      <td>1.181</td>\n",
       "      <td>1.197</td>\n",
       "      <td>1.21</td>\n",
       "      <td>0.04</td>\n",
       "      <td>1.21 ± 0.04</td>\n",
       "      <td>1.46</td>\n",
       "      <td>2.708050</td>\n",
       "      <td>0.190620</td>\n",
       "    </tr>\n",
       "    <tr>\n",
       "      <td>Sensor 3</td>\n",
       "      <td>30.0</td>\n",
       "      <td>1.774</td>\n",
       "      <td>1.694</td>\n",
       "      <td>1.701</td>\n",
       "      <td>1.72</td>\n",
       "      <td>0.04</td>\n",
       "      <td>1.72 ± 0.04</td>\n",
       "      <td>2.96</td>\n",
       "      <td>3.401197</td>\n",
       "      <td>0.542324</td>\n",
       "    </tr>\n",
       "    <tr>\n",
       "      <td>Sensor 4</td>\n",
       "      <td>45.0</td>\n",
       "      <td>2.169</td>\n",
       "      <td>2.089</td>\n",
       "      <td>2.429</td>\n",
       "      <td>2.20</td>\n",
       "      <td>0.20</td>\n",
       "      <td>2.2 ± 0.2</td>\n",
       "      <td>4.84</td>\n",
       "      <td>3.806662</td>\n",
       "      <td>0.788457</td>\n",
       "    </tr>\n",
       "    <tr>\n",
       "      <td>Sensor 5</td>\n",
       "      <td>60.0</td>\n",
       "      <td>2.509</td>\n",
       "      <td>2.429</td>\n",
       "      <td>2.443</td>\n",
       "      <td>2.46</td>\n",
       "      <td>0.04</td>\n",
       "      <td>2.46 ± 0.04</td>\n",
       "      <td>6.05</td>\n",
       "      <td>4.094345</td>\n",
       "      <td>0.900161</td>\n",
       "    </tr>\n",
       "  </tbody>\n",
       "</table>\n",
       "</div>"
      ],
      "text/plain": [
       "          S [cm]  t1 [s]  t2 [s]  t3 [s]  tempo médio [s]  desvio padrão [s]  \\\n",
       "Sensor 1     0.0   0.000   0.000   0.000             0.00               0.00   \n",
       "Sensor 2    15.0   1.261   1.181   1.197             1.21               0.04   \n",
       "Sensor 3    30.0   1.774   1.694   1.701             1.72               0.04   \n",
       "Sensor 4    45.0   2.169   2.089   2.429             2.20               0.20   \n",
       "Sensor 5    60.0   2.509   2.429   2.443             2.46               0.04   \n",
       "\n",
       "         dados reportados  tempo médio ao quadrado [s²]  log S [cm]  \\\n",
       "Sensor 1        0.0 ± 0.0                          0.00        -inf   \n",
       "Sensor 2      1.21 ± 0.04                          1.46    2.708050   \n",
       "Sensor 3      1.72 ± 0.04                          2.96    3.401197   \n",
       "Sensor 4        2.2 ± 0.2                          4.84    3.806662   \n",
       "Sensor 5      2.46 ± 0.04                          6.05    4.094345   \n",
       "\n",
       "          log tempo médio [s]  \n",
       "Sensor 1                 -inf  \n",
       "Sensor 2             0.190620  \n",
       "Sensor 3             0.542324  \n",
       "Sensor 4             0.788457  \n",
       "Sensor 5             0.900161  "
      ]
     },
     "execution_count": 71,
     "metadata": {},
     "output_type": "execute_result"
    }
   ],
   "source": [
    "# criamos duas novas colunas com a função ``log`` aplicada em seus valores originais\n",
    "df_dados['log S [cm]'] = np.log(df_dados['S [cm]'])\n",
    "df_dados['log tempo médio [s]'] = np.log(df_dados['tempo médio [s]'])\n",
    "\n",
    "df_dados"
   ]
  },
  {
   "cell_type": "markdown",
   "metadata": {},
   "source": [
    "<p class='justified'>\n",
    "    Observe que os valores que eram $0{,}00$ quando foram aplicados a função <mark class='mono_gray'>log</mark> agoram aparecem como <mark class='mono_gray'>-inf</mark>. Isso se deve ao fato de que $\\lim\\limits_{x \\to 0} \\log x = -\\infty$. Podemos continuar com esse valor em nossa tabela de dados, pois na hora de confeccionar os gráficos o programa simplesmente ignora esses valores. Ou então selecionarmos apenas as linhas que nos convém. Qualquer solução é bem vinda! Aqui irei selecionar as colunas e as linhas de interesse:\n",
    "</p>"
   ]
  },
  {
   "cell_type": "code",
   "execution_count": 72,
   "metadata": {
    "ExecuteTime": {
     "end_time": "2020-07-04T00:14:57.637300Z",
     "start_time": "2020-07-04T00:14:57.631019Z"
    }
   },
   "outputs": [
    {
     "data": {
      "text/html": [
       "<div>\n",
       "<style scoped>\n",
       "    .dataframe tbody tr th:only-of-type {\n",
       "        vertical-align: middle;\n",
       "    }\n",
       "\n",
       "    .dataframe tbody tr th {\n",
       "        vertical-align: top;\n",
       "    }\n",
       "\n",
       "    .dataframe thead th {\n",
       "        text-align: right;\n",
       "    }\n",
       "</style>\n",
       "<table border=\"1\" class=\"dataframe\">\n",
       "  <thead>\n",
       "    <tr style=\"text-align: right;\">\n",
       "      <th></th>\n",
       "      <th>log S [cm]</th>\n",
       "      <th>log tempo médio [s]</th>\n",
       "    </tr>\n",
       "  </thead>\n",
       "  <tbody>\n",
       "    <tr>\n",
       "      <td>Sensor 2</td>\n",
       "      <td>2.708050</td>\n",
       "      <td>0.190620</td>\n",
       "    </tr>\n",
       "    <tr>\n",
       "      <td>Sensor 3</td>\n",
       "      <td>3.401197</td>\n",
       "      <td>0.542324</td>\n",
       "    </tr>\n",
       "    <tr>\n",
       "      <td>Sensor 4</td>\n",
       "      <td>3.806662</td>\n",
       "      <td>0.788457</td>\n",
       "    </tr>\n",
       "    <tr>\n",
       "      <td>Sensor 5</td>\n",
       "      <td>4.094345</td>\n",
       "      <td>0.900161</td>\n",
       "    </tr>\n",
       "  </tbody>\n",
       "</table>\n",
       "</div>"
      ],
      "text/plain": [
       "          log S [cm]  log tempo médio [s]\n",
       "Sensor 2    2.708050             0.190620\n",
       "Sensor 3    3.401197             0.542324\n",
       "Sensor 4    3.806662             0.788457\n",
       "Sensor 5    4.094345             0.900161"
      ]
     },
     "execution_count": 72,
     "metadata": {},
     "output_type": "execute_result"
    }
   ],
   "source": [
    "# criamos uma lista com as linhas e as colunas que queremos acessar\n",
    "linhas  = ['Sensor 2', 'Sensor 3', 'Sensor 4', 'Sensor 5']\n",
    "colunas = ['log S [cm]', 'log tempo médio [s]']\n",
    "\n",
    "# passamos essas linhas e colunas para o ``DataFrame``\n",
    "# usando a propriedade ``loc``\n",
    "df_dados_log = df_dados.loc[linhas, colunas]\n",
    "\n",
    "# novo ``DataFrame`` com os valores em ``log``\n",
    "df_dados_log"
   ]
  },
  {
   "cell_type": "markdown",
   "metadata": {},
   "source": [
    "<p class='justified'>\n",
    "   Dessa forma, se confeccionarmos um gráfico com esses valores, teremos uma curva $\\log S \\times \\log t_m$: \n",
    "</p>"
   ]
  },
  {
   "cell_type": "code",
   "execution_count": 107,
   "metadata": {
    "ExecuteTime": {
     "end_time": "2020-07-04T00:45:11.277356Z",
     "start_time": "2020-07-04T00:45:11.006482Z"
    },
    "scrolled": false
   },
   "outputs": [
    {
     "data": {
      "text/plain": [
       "<matplotlib.axes._subplots.AxesSubplot at 0x7f6f0e31d210>"
      ]
     },
     "execution_count": 107,
     "metadata": {},
     "output_type": "execute_result"
    },
    {
     "data": {
      "image/png": "[encoded data removed]",
      "text/plain": [
       "<Figure size 576x432 with 1 Axes>"
      ]
     },
     "metadata": {
      "needs_background": "light"
     },
     "output_type": "display_data"
    }
   ],
   "source": [
    "df_dados_log.plot(\n",
    "    x='log tempo médio [s]',\n",
    "    y='log S [cm]',\n",
    "    marker='o',\n",
    "    markersize=15,\n",
    "    markerfacecolor='#FFFFFF',\n",
    "    markeredgewidth=3,\n",
    "    lw=3,\n",
    "    grid=True,\n",
    "    xlim=(0.1, 1.0)\n",
    ")"
   ]
  },
  {
   "cell_type": "markdown",
   "metadata": {},
   "source": [
    "<p class='justified'>\n",
    "    Observe que aplicando a função <mark class='mono_gray'>log</mark> o gráfico se torna uma reta. Observe que as escalas usadas nesse gráfico são <mark class='mono_gray'>lineares</mark>, os grids em cinza deixam isso bem claro pelos seus espaçamentos idênticos. Como temos uma reta, vamos fazer uma regressão linear nesses dados. \n",
    "</p>"
   ]
  },
  {
   "cell_type": "code",
   "execution_count": 105,
   "metadata": {
    "ExecuteTime": {
     "end_time": "2020-07-04T00:44:25.575442Z",
     "start_time": "2020-07-04T00:44:25.571369Z"
    }
   },
   "outputs": [
    {
     "data": {
      "text/plain": [
       "array([1.90963186, 2.34649002])"
      ]
     },
     "execution_count": 105,
     "metadata": {},
     "output_type": "execute_result"
    }
   ],
   "source": [
    "np.polyfit(x=df_dados_log['log tempo médio [s]'], y=df_dados_log['log S [cm]'], deg=1)"
   ]
  },
  {
   "cell_type": "code",
   "execution_count": 108,
   "metadata": {
    "ExecuteTime": {
     "end_time": "2020-07-04T00:45:31.624048Z",
     "start_time": "2020-07-04T00:45:31.620249Z"
    }
   },
   "outputs": [
    {
     "data": {
      "text/plain": [
       "1.91"
      ]
     },
     "execution_count": 108,
     "metadata": {},
     "output_type": "execute_result"
    }
   ],
   "source": [
    "coef_angular(x=df_dados_log['log tempo médio [s]'], y=df_dados_log['log S [cm]'])"
   ]
  },
  {
   "cell_type": "code",
   "execution_count": 109,
   "metadata": {
    "ExecuteTime": {
     "end_time": "2020-07-04T00:45:44.613986Z",
     "start_time": "2020-07-04T00:45:44.610027Z"
    }
   },
   "outputs": [
    {
     "data": {
      "text/plain": [
       "2.35"
      ]
     },
     "execution_count": 109,
     "metadata": {},
     "output_type": "execute_result"
    }
   ],
   "source": [
    "coef_linear(x=df_dados_log['log tempo médio [s]'], y=df_dados_log['log S [cm]'])"
   ]
  },
  {
   "cell_type": "code",
   "execution_count": null,
   "metadata": {},
   "outputs": [],
   "source": []
  },
  {
   "cell_type": "code",
   "execution_count": null,
   "metadata": {},
   "outputs": [],
   "source": []
  },
  {
   "cell_type": "code",
   "execution_count": null,
   "metadata": {},
   "outputs": [],
   "source": []
  },
  {
   "cell_type": "code",
   "execution_count": null,
   "metadata": {},
   "outputs": [],
   "source": []
  },
  {
   "cell_type": "code",
   "execution_count": null,
   "metadata": {},
   "outputs": [],
   "source": []
  },
  {
   "cell_type": "code",
   "execution_count": null,
   "metadata": {},
   "outputs": [],
   "source": []
  },
  {
   "cell_type": "code",
   "execution_count": null,
   "metadata": {},
   "outputs": [],
   "source": []
  },
  {
   "cell_type": "code",
   "execution_count": null,
   "metadata": {},
   "outputs": [],
   "source": []
  },
  {
   "cell_type": "code",
   "execution_count": null,
   "metadata": {},
   "outputs": [],
   "source": []
  },
  {
   "cell_type": "code",
   "execution_count": null,
   "metadata": {},
   "outputs": [],
   "source": []
  },
  {
   "cell_type": "code",
   "execution_count": null,
   "metadata": {},
   "outputs": [],
   "source": []
  },
  {
   "cell_type": "code",
   "execution_count": null,
   "metadata": {},
   "outputs": [],
   "source": []
  },
  {
   "cell_type": "code",
   "execution_count": null,
   "metadata": {},
   "outputs": [],
   "source": []
  },
  {
   "cell_type": "code",
   "execution_count": null,
   "metadata": {},
   "outputs": [],
   "source": []
  },
  {
   "cell_type": "code",
   "execution_count": null,
   "metadata": {},
   "outputs": [],
   "source": []
  },
  {
   "cell_type": "code",
   "execution_count": null,
   "metadata": {},
   "outputs": [],
   "source": []
  },
  {
   "cell_type": "code",
   "execution_count": null,
   "metadata": {},
   "outputs": [],
   "source": []
  },
  {
   "cell_type": "code",
   "execution_count": null,
   "metadata": {},
   "outputs": [],
   "source": []
  },
  {
   "cell_type": "code",
   "execution_count": null,
   "metadata": {},
   "outputs": [],
   "source": []
  },
  {
   "cell_type": "code",
   "execution_count": null,
   "metadata": {},
   "outputs": [],
   "source": []
  },
  {
   "cell_type": "code",
   "execution_count": null,
   "metadata": {},
   "outputs": [],
   "source": []
  },
  {
   "cell_type": "code",
   "execution_count": null,
   "metadata": {},
   "outputs": [],
   "source": []
  },
  {
   "cell_type": "code",
   "execution_count": null,
   "metadata": {},
   "outputs": [],
   "source": []
  },
  {
   "cell_type": "code",
   "execution_count": null,
   "metadata": {},
   "outputs": [],
   "source": []
  },
  {
   "cell_type": "code",
   "execution_count": null,
   "metadata": {},
   "outputs": [],
   "source": []
  },
  {
   "cell_type": "code",
   "execution_count": null,
   "metadata": {},
   "outputs": [],
   "source": []
  },
  {
   "cell_type": "code",
   "execution_count": null,
   "metadata": {},
   "outputs": [],
   "source": []
  },
  {
   "cell_type": "code",
   "execution_count": null,
   "metadata": {},
   "outputs": [],
   "source": []
  },
  {
   "cell_type": "code",
   "execution_count": null,
   "metadata": {},
   "outputs": [],
   "source": []
  },
  {
   "cell_type": "code",
   "execution_count": null,
   "metadata": {},
   "outputs": [],
   "source": []
  },
  {
   "cell_type": "code",
   "execution_count": null,
   "metadata": {},
   "outputs": [],
   "source": []
  },
  {
   "cell_type": "code",
   "execution_count": null,
   "metadata": {},
   "outputs": [],
   "source": []
  },
  {
   "cell_type": "code",
   "execution_count": null,
   "metadata": {},
   "outputs": [],
   "source": []
  },
  {
   "cell_type": "code",
   "execution_count": null,
   "metadata": {},
   "outputs": [],
   "source": []
  },
  {
   "cell_type": "code",
   "execution_count": null,
   "metadata": {},
   "outputs": [],
   "source": []
  }
 ],
 "metadata": {
  "author": "",
  "kernelspec": {
   "display_name": "Python 3",
   "language": "python",
   "name": "python3"
  },
  "language_info": {
   "codemirror_mode": {
    "name": "ipython",
    "version": 3
   },
   "file_extension": ".py",
   "mimetype": "text/x-python",
   "name": "python",
   "nbconvert_exporter": "python",
   "pygments_lexer": "ipython3",
   "version": "3.7.4"
  },
  "latex_envs": {
   "LaTeX_envs_menu_present": true,
   "autoclose": false,
   "autocomplete": true,
   "bibliofile": "biblio.bib",
   "cite_by": "apalike",
   "current_citInitial": 1,
   "eqLabelWithNumbers": true,
   "eqNumInitial": 1,
   "hotkeys": {
    "equation": "Ctrl-E",
    "itemize": "Ctrl-I"
   },
   "labels_anchors": false,
   "latex_user_defs": false,
   "report_style_numbering": false,
   "user_envs_cfg": false
  },
  "toc": {
   "base_numbering": 1,
   "nav_menu": {},
   "number_sections": true,
   "sideBar": true,
   "skip_h1_title": false,
   "title_cell": "Table of Contents",
   "title_sidebar": "Contents",
   "toc_cell": false,
   "toc_position": {},
   "toc_section_display": true,
   "toc_window_display": false
  },
  "varInspector": {
   "cols": {
    "lenName": 16,
    "lenType": 16,
    "lenVar": 40
   },
   "kernels_config": {
    "python": {
     "delete_cmd_postfix": "",
     "delete_cmd_prefix": "del ",
     "library": "var_list.py",
     "varRefreshCmd": "print(var_dic_list())"
    },
    "r": {
     "delete_cmd_postfix": ") ",
     "delete_cmd_prefix": "rm(",
     "library": "var_list.r",
     "varRefreshCmd": "cat(var_dic_list()) "
    }
   },
   "types_to_exclude": [
    "module",
    "function",
    "builtin_function_or_method",
    "instance",
    "_Feature"
   ],
   "window_display": false
  }
 },
 "nbformat": 4,
 "nbformat_minor": 4
}
