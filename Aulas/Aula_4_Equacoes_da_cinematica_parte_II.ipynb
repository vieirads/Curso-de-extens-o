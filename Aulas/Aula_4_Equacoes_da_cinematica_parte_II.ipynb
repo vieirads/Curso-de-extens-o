{
 "cells": [
  {
   "cell_type": "markdown",
   "metadata": {},
   "source": [
    "---\n",
    "**Sumário**\n",
    "\n",
    "1. [Equações da Cinemática - Parte II](#equacoes_da_cinematica_parte_ii) <br>\n",
    "2. [Pacotes e Funções](#pacotes_e_funcoes)\n",
    "3. [Movimento Retilíneo Uniformemente Variável (MRUV)](#mruv) <br>\n",
    "\n",
    "---"
   ]
  },
  {
   "cell_type": "markdown",
   "metadata": {},
   "source": [
    "<a class=\"anchor\" id=\"equacoes_da_cinematica_parte_ii\"></a>\n",
    "# Equações da Cinemática - Parte II"
   ]
  },
  {
   "cell_type": "markdown",
   "metadata": {},
   "source": [
    "<p class='justified'>\n",
    "    Essa aula tem como intuíto a continuação do estudo do movimento retilíneo de um objeto. Abordaremos o cenário em que o objeto em questão agora possui uma <b>velocidade variável</b>, o que implica nele ter uma <b>aceleração</b>. Estudaremos o caso em que a <b>aceleração é constante</b>, isto é, não muda com o passar do tempo. Iremos analisar como essa nova quantidade influencia a velocidade e o deslocamento do objeto. Por fim, a partir dos dados de um experimento, iremos fazer os ajustes e encontrar a equação horário de movimento do objeto em questão.\n",
    "</p>\n",
    "\n",
    "<p class='justified'>\n",
    "Esse material é um complemento ao conteúdo do Cap. 4 (Pags. 39-54) do <b>Manual de Laboratório de Física Experimental I</b> <a href='#mukai'>[1]</a>.\n",
    "</p>\n",
    "\n",
    "<a class='citation' id='mukai' href=\"http://site.dfi.uem.br/wp-content/uploads/2018/04/Manual-de-Laborat%C3%B3rio-de-F%C3%ADsica-Experimental-I.pdf\">[1] Mukai, Hatsumi e Fernandes, Paulo R. G., <i>Manual de Laboratório de Física I</i>. Universidade Estadual de Maringá, Centro de Ciências Exatas, Departamento de Física (<b>2018</b>).</a>"
   ]
  },
  {
   "cell_type": "markdown",
   "metadata": {},
   "source": [
    "<a class=\"anchor\" id=\"pacotes_e_funcoes\"></a>\n",
    "# Pacotes e Funções"
   ]
  },
  {
   "cell_type": "markdown",
   "metadata": {},
   "source": [
    "<p class='justified'>\n",
    "    Assim como na aula anterior, o primeiro passo para começar nosso projeto é importar os pacotes necessários antes de qualquer código que correspondem às nossas análises.\n",
    "</p>"
   ]
  },
  {
   "cell_type": "code",
   "execution_count": 2,
   "metadata": {
    "ExecuteTime": {
     "end_time": "2020-06-29T08:42:37.301505Z",
     "start_time": "2020-06-29T08:42:37.294641Z"
    }
   },
   "outputs": [],
   "source": [
    "# pacotes para manipulação dos dados\n",
    "import pandas as pd\n",
    "import numpy as np\n",
    "\n",
    "# pacote para confecção de gráficos para visualizar os resultados\n",
    "# de uma maneira mais apreciável e criar nossos modelos\n",
    "import matplotlib.pyplot as plt\n",
    "\n",
    "# ajustando algumas configurações para melhor visualização dos gráficos\n",
    "plt.rcParams['font.size'] = 16                           # altera o tamanho das fontes na figura\n",
    "plt.rcParams['figure.figsize'] = 8, 6                    # altera o tamanho da figura\n",
    "plt.rcParams['axes.axisbelow'] = True                    # para desenhar os grids atrás das curvas e pontos\n",
    "for axis in ['xtick', 'ytick']:                          # loop para aplicar as mudanças nos eixos x e y\n",
    "    plt.rcParams['{}.major.size'.format(axis)] = 10      # altera o tamanho dos ticks maiores\n",
    "    plt.rcParams['{}.minor.size'.format(axis)] = 5       # altera o tamanho dos ticks menores\n",
    "    plt.rcParams['{}.minor.visible'.format(axis)] = True # faz os ticks menores ficarem visíveis"
   ]
  },
  {
   "cell_type": "markdown",
   "metadata": {},
   "source": [
    "<p class='justified'>\n",
    "    Importar os pacotes/módulos necessários no \"cabeçalho\" do arquivo ou Notebook é uma prática comum. Dessa forma, pessoas que irão olhar seu código estejam cientes dos tipos de operações que irão encontrar e de onde elas provém.\n",
    "</p>"
   ]
  },
  {
   "cell_type": "markdown",
   "metadata": {},
   "source": [
    "<a class='cell' id='mruv'></a>\n",
    "# Movimento Retilíneo Uniformemente Variável (MRUV)"
   ]
  },
  {
   "cell_type": "markdown",
   "metadata": {},
   "source": [
    "<p class='justified'>\n",
    "    Na aula passada estudamos o <b>movimento retilíneo uniforme</b>. Vimos que esse consistia em um movimento no qual o objeto era observado se deslocando sempre com a mesma velocidade e em linha reta. Tal movimento era descrito pela equação\n",
    "</p>\n",
    "\n",
    "$$\n",
    "    S(t) = S_0 + vt,\n",
    "    \\label{eq:mru}\n",
    "$$\n",
    "\n",
    "<p class='justified'>\n",
    "em que $S(t)$ é a posição em que nosso objeto/móvel se encontra em um instante de tempo $t$, $S_0$ é a posição inicial do objeto/móvel (no tempo inicial $t=0$) e $v$ é a velocidade do objeto/móvel, que permanece constante ao longo de todo percurso. Vimos que esse movimento é descrito por uma reta, sendo o coeficiente linear a posição inicial $S_0$ e o coeficiente angular a velocidade $v$. Para que possamos entender melhor o que seria um <b>movimento retilíneo uniformemente variável (MRUV)</b>, vamos voltar ao exemplo do carro dado na aula anterior. \n",
    "</p>"
   ]
  },
  {
   "cell_type": "markdown",
   "metadata": {},
   "source": [
    "<p class='justified'>\n",
    "    <b>Exemplo 1.</b> Imagine o mesmo carro passando pela frente da sua casa. Mais uma vez, ao passar por esse ponto, ele está com uma velocidade $v = 18\\,km/h = 5\\,m/s$. Você então começa a cronometrar de modo que a frente da sua casa se torna o ponto $S_0$ para o instante inicial $t = 0{,}00\\,s$. Contudo, diferente da vez anterior, você percebe que para intervalos de tempo iguais, digamos de $1{,}00\\,$ em $1{,}00\\,s$, a distância que ele percorre é cada vez maior. Isso ocorre porquê agora o carro está <b>acelerando</b> fazendo <b>velocidade do carro mudar</b> conforme o tempo passa. \n",
    "</p>"
   ]
  },
  {
   "cell_type": "markdown",
   "metadata": {},
   "source": [
    "<p class='justified'>\n",
    "    Em um <b>MRU</b> o gráfico da posição pelo tempo era uma reta. Como a aceleração constante influencia no deslocamento do móvel e em sua velocidade nesse novo tipo de movimento, isto é, no <b>MRUV</b>? Observe nos gráficos abaixo o comportamento dessas variáveis. Você pode alterar os valores da velocidade e da aceleração para ver como o deslocamento em função do tempo se comporta.\n",
    "</p>"
   ]
  },
  {
   "cell_type": "code",
   "execution_count": 3,
   "metadata": {
    "ExecuteTime": {
     "end_time": "2020-06-29T08:42:43.178740Z",
     "start_time": "2020-06-29T08:42:42.951128Z"
    }
   },
   "outputs": [],
   "source": [
    "import sys\n",
    "sys.path.append('../')\n",
    "from iterative_plots.iter_plots import *"
   ]
  },
  {
   "cell_type": "code",
   "execution_count": 4,
   "metadata": {
    "ExecuteTime": {
     "end_time": "2020-06-29T08:42:43.784755Z",
     "start_time": "2020-06-29T08:42:43.712476Z"
    }
   },
   "outputs": [
    {
     "data": {
      "text/html": [
       "\n",
       "    <div class=\"bk-root\">\n",
       "        <a href=\"https://bokeh.pydata.org\" target=\"_blank\" class=\"bk-logo bk-logo-small bk-logo-notebook\"></a>\n",
       "        <span id=\"1001\">Loading BokehJS ...</span>\n",
       "    </div>"
      ]
     },
     "metadata": {},
     "output_type": "display_data"
    },
    {
     "data": {
      "application/javascript": [
       "\n",
       "(function(root) {\n",
       "  function now() {\n",
       "    return new Date();\n",
       "  }\n",
       "\n",
       "  var force = true;\n",
       "\n",
       "  if (typeof root._bokeh_onload_callbacks === \"undefined\" || force === true) {\n",
       "    root._bokeh_onload_callbacks = [];\n",
       "    root._bokeh_is_loading = undefined;\n",
       "  }\n",
       "\n",
       "  var JS_MIME_TYPE = 'application/javascript';\n",
       "  var HTML_MIME_TYPE = 'text/html';\n",
       "  var EXEC_MIME_TYPE = 'application/vnd.bokehjs_exec.v0+json';\n",
       "  var CLASS_NAME = 'output_bokeh rendered_html';\n",
       "\n",
       "  /**\n",
       "   * Render data to the DOM node\n",
       "   */\n",
       "  function render(props, node) {\n",
       "    var script = document.createElement(\"script\");\n",
       "    node.appendChild(script);\n",
       "  }\n",
       "\n",
       "  /**\n",
       "   * Handle when an output is cleared or removed\n",
       "   */\n",
       "  function handleClearOutput(event, handle) {\n",
       "    var cell = handle.cell;\n",
       "\n",
       "    var id = cell.output_area._bokeh_element_id;\n",
       "    var server_id = cell.output_area._bokeh_server_id;\n",
       "    // Clean up Bokeh references\n",
       "    if (id != null && id in Bokeh.index) {\n",
       "      Bokeh.index[id].model.document.clear();\n",
       "      delete Bokeh.index[id];\n",
       "    }\n",
       "\n",
       "    if (server_id !== undefined) {\n",
       "      // Clean up Bokeh references\n",
       "      var cmd = \"from bokeh.io.state import curstate; print(curstate().uuid_to_server['\" + server_id + \"'].get_sessions()[0].document.roots[0]._id)\";\n",
       "      cell.notebook.kernel.execute(cmd, {\n",
       "        iopub: {\n",
       "          output: function(msg) {\n",
       "            var id = msg.content.text.trim();\n",
       "            if (id in Bokeh.index) {\n",
       "              Bokeh.index[id].model.document.clear();\n",
       "              delete Bokeh.index[id];\n",
       "            }\n",
       "          }\n",
       "        }\n",
       "      });\n",
       "      // Destroy server and session\n",
       "      var cmd = \"import bokeh.io.notebook as ion; ion.destroy_server('\" + server_id + \"')\";\n",
       "      cell.notebook.kernel.execute(cmd);\n",
       "    }\n",
       "  }\n",
       "\n",
       "  /**\n",
       "   * Handle when a new output is added\n",
       "   */\n",
       "  function handleAddOutput(event, handle) {\n",
       "    var output_area = handle.output_area;\n",
       "    var output = handle.output;\n",
       "\n",
       "    // limit handleAddOutput to display_data with EXEC_MIME_TYPE content only\n",
       "    if ((output.output_type != \"display_data\") || (!output.data.hasOwnProperty(EXEC_MIME_TYPE))) {\n",
       "      return\n",
       "    }\n",
       "\n",
       "    var toinsert = output_area.element.find(\".\" + CLASS_NAME.split(' ')[0]);\n",
       "\n",
       "    if (output.metadata[EXEC_MIME_TYPE][\"id\"] !== undefined) {\n",
       "      toinsert[toinsert.length - 1].firstChild.textContent = output.data[JS_MIME_TYPE];\n",
       "      // store reference to embed id on output_area\n",
       "      output_area._bokeh_element_id = output.metadata[EXEC_MIME_TYPE][\"id\"];\n",
       "    }\n",
       "    if (output.metadata[EXEC_MIME_TYPE][\"server_id\"] !== undefined) {\n",
       "      var bk_div = document.createElement(\"div\");\n",
       "      bk_div.innerHTML = output.data[HTML_MIME_TYPE];\n",
       "      var script_attrs = bk_div.children[0].attributes;\n",
       "      for (var i = 0; i < script_attrs.length; i++) {\n",
       "        toinsert[toinsert.length - 1].firstChild.setAttribute(script_attrs[i].name, script_attrs[i].value);\n",
       "      }\n",
       "      // store reference to server id on output_area\n",
       "      output_area._bokeh_server_id = output.metadata[EXEC_MIME_TYPE][\"server_id\"];\n",
       "    }\n",
       "  }\n",
       "\n",
       "  function register_renderer(events, OutputArea) {\n",
       "\n",
       "    function append_mime(data, metadata, element) {\n",
       "      // create a DOM node to render to\n",
       "      var toinsert = this.create_output_subarea(\n",
       "        metadata,\n",
       "        CLASS_NAME,\n",
       "        EXEC_MIME_TYPE\n",
       "      );\n",
       "      this.keyboard_manager.register_events(toinsert);\n",
       "      // Render to node\n",
       "      var props = {data: data, metadata: metadata[EXEC_MIME_TYPE]};\n",
       "      render(props, toinsert[toinsert.length - 1]);\n",
       "      element.append(toinsert);\n",
       "      return toinsert\n",
       "    }\n",
       "\n",
       "    /* Handle when an output is cleared or removed */\n",
       "    events.on('clear_output.CodeCell', handleClearOutput);\n",
       "    events.on('delete.Cell', handleClearOutput);\n",
       "\n",
       "    /* Handle when a new output is added */\n",
       "    events.on('output_added.OutputArea', handleAddOutput);\n",
       "\n",
       "    /**\n",
       "     * Register the mime type and append_mime function with output_area\n",
       "     */\n",
       "    OutputArea.prototype.register_mime_type(EXEC_MIME_TYPE, append_mime, {\n",
       "      /* Is output safe? */\n",
       "      safe: true,\n",
       "      /* Index of renderer in `output_area.display_order` */\n",
       "      index: 0\n",
       "    });\n",
       "  }\n",
       "\n",
       "  // register the mime type if in Jupyter Notebook environment and previously unregistered\n",
       "  if (root.Jupyter !== undefined) {\n",
       "    var events = require('base/js/events');\n",
       "    var OutputArea = require('notebook/js/outputarea').OutputArea;\n",
       "\n",
       "    if (OutputArea.prototype.mime_types().indexOf(EXEC_MIME_TYPE) == -1) {\n",
       "      register_renderer(events, OutputArea);\n",
       "    }\n",
       "  }\n",
       "\n",
       "  \n",
       "  if (typeof (root._bokeh_timeout) === \"undefined\" || force === true) {\n",
       "    root._bokeh_timeout = Date.now() + 5000;\n",
       "    root._bokeh_failed_load = false;\n",
       "  }\n",
       "\n",
       "  var NB_LOAD_WARNING = {'data': {'text/html':\n",
       "     \"<div style='background-color: #fdd'>\\n\"+\n",
       "     \"<p>\\n\"+\n",
       "     \"BokehJS does not appear to have successfully loaded. If loading BokehJS from CDN, this \\n\"+\n",
       "     \"may be due to a slow or bad network connection. Possible fixes:\\n\"+\n",
       "     \"</p>\\n\"+\n",
       "     \"<ul>\\n\"+\n",
       "     \"<li>re-rerun `output_notebook()` to attempt to load from CDN again, or</li>\\n\"+\n",
       "     \"<li>use INLINE resources instead, as so:</li>\\n\"+\n",
       "     \"</ul>\\n\"+\n",
       "     \"<code>\\n\"+\n",
       "     \"from bokeh.resources import INLINE\\n\"+\n",
       "     \"output_notebook(resources=INLINE)\\n\"+\n",
       "     \"</code>\\n\"+\n",
       "     \"</div>\"}};\n",
       "\n",
       "  function display_loaded() {\n",
       "    var el = document.getElementById(\"1001\");\n",
       "    if (el != null) {\n",
       "      el.textContent = \"BokehJS is loading...\";\n",
       "    }\n",
       "    if (root.Bokeh !== undefined) {\n",
       "      if (el != null) {\n",
       "        el.textContent = \"BokehJS \" + root.Bokeh.version + \" successfully loaded.\";\n",
       "      }\n",
       "    } else if (Date.now() < root._bokeh_timeout) {\n",
       "      setTimeout(display_loaded, 100)\n",
       "    }\n",
       "  }\n",
       "\n",
       "\n",
       "  function run_callbacks() {\n",
       "    try {\n",
       "      root._bokeh_onload_callbacks.forEach(function(callback) {\n",
       "        if (callback != null)\n",
       "          callback();\n",
       "      });\n",
       "    } finally {\n",
       "      delete root._bokeh_onload_callbacks\n",
       "    }\n",
       "    console.debug(\"Bokeh: all callbacks have finished\");\n",
       "  }\n",
       "\n",
       "  function load_libs(css_urls, js_urls, callback) {\n",
       "    if (css_urls == null) css_urls = [];\n",
       "    if (js_urls == null) js_urls = [];\n",
       "\n",
       "    root._bokeh_onload_callbacks.push(callback);\n",
       "    if (root._bokeh_is_loading > 0) {\n",
       "      console.debug(\"Bokeh: BokehJS is being loaded, scheduling callback at\", now());\n",
       "      return null;\n",
       "    }\n",
       "    if (js_urls == null || js_urls.length === 0) {\n",
       "      run_callbacks();\n",
       "      return null;\n",
       "    }\n",
       "    console.debug(\"Bokeh: BokehJS not loaded, scheduling load and callback at\", now());\n",
       "    root._bokeh_is_loading = css_urls.length + js_urls.length;\n",
       "\n",
       "    function on_load() {\n",
       "      root._bokeh_is_loading--;\n",
       "      if (root._bokeh_is_loading === 0) {\n",
       "        console.debug(\"Bokeh: all BokehJS libraries/stylesheets loaded\");\n",
       "        run_callbacks()\n",
       "      }\n",
       "    }\n",
       "\n",
       "    function on_error() {\n",
       "      console.error(\"failed to load \" + url);\n",
       "    }\n",
       "\n",
       "    for (var i = 0; i < css_urls.length; i++) {\n",
       "      var url = css_urls[i];\n",
       "      const element = document.createElement(\"link\");\n",
       "      element.onload = on_load;\n",
       "      element.onerror = on_error;\n",
       "      element.rel = \"stylesheet\";\n",
       "      element.type = \"text/css\";\n",
       "      element.href = url;\n",
       "      console.debug(\"Bokeh: injecting link tag for BokehJS stylesheet: \", url);\n",
       "      document.body.appendChild(element);\n",
       "    }\n",
       "\n",
       "    for (var i = 0; i < js_urls.length; i++) {\n",
       "      var url = js_urls[i];\n",
       "      var element = document.createElement('script');\n",
       "      element.onload = on_load;\n",
       "      element.onerror = on_error;\n",
       "      element.async = false;\n",
       "      element.src = url;\n",
       "      console.debug(\"Bokeh: injecting script tag for BokehJS library: \", url);\n",
       "      document.head.appendChild(element);\n",
       "    }\n",
       "  };var element = document.getElementById(\"1001\");\n",
       "  if (element == null) {\n",
       "    console.error(\"Bokeh: ERROR: autoload.js configured with elementid '1001' but no matching script tag was found. \")\n",
       "    return false;\n",
       "  }\n",
       "\n",
       "  function inject_raw_css(css) {\n",
       "    const element = document.createElement(\"style\");\n",
       "    element.appendChild(document.createTextNode(css));\n",
       "    document.body.appendChild(element);\n",
       "  }\n",
       "\n",
       "  var js_urls = [\"https://cdn.pydata.org/bokeh/release/bokeh-1.3.4.min.js\", \"https://cdn.pydata.org/bokeh/release/bokeh-widgets-1.3.4.min.js\", \"https://cdn.pydata.org/bokeh/release/bokeh-tables-1.3.4.min.js\", \"https://cdn.pydata.org/bokeh/release/bokeh-gl-1.3.4.min.js\"];\n",
       "  var css_urls = [];\n",
       "\n",
       "  var inline_js = [\n",
       "    function(Bokeh) {\n",
       "      Bokeh.set_log_level(\"info\");\n",
       "    },\n",
       "    \n",
       "    function(Bokeh) {\n",
       "      \n",
       "    },\n",
       "    function(Bokeh) {} // ensure no trailing comma for IE\n",
       "  ];\n",
       "\n",
       "  function run_inline_js() {\n",
       "    \n",
       "    if ((root.Bokeh !== undefined) || (force === true)) {\n",
       "      for (var i = 0; i < inline_js.length; i++) {\n",
       "        inline_js[i].call(root, root.Bokeh);\n",
       "      }if (force === true) {\n",
       "        display_loaded();\n",
       "      }} else if (Date.now() < root._bokeh_timeout) {\n",
       "      setTimeout(run_inline_js, 100);\n",
       "    } else if (!root._bokeh_failed_load) {\n",
       "      console.log(\"Bokeh: BokehJS failed to load within specified timeout.\");\n",
       "      root._bokeh_failed_load = true;\n",
       "    } else if (force !== true) {\n",
       "      var cell = $(document.getElementById(\"1001\")).parents('.cell').data().cell;\n",
       "      cell.output_area.append_execute_result(NB_LOAD_WARNING)\n",
       "    }\n",
       "\n",
       "  }\n",
       "\n",
       "  if (root._bokeh_is_loading === 0) {\n",
       "    console.debug(\"Bokeh: BokehJS loaded, going straight to plotting\");\n",
       "    run_inline_js();\n",
       "  } else {\n",
       "    load_libs(css_urls, js_urls, function() {\n",
       "      console.debug(\"Bokeh: BokehJS plotting callback run at\", now());\n",
       "      run_inline_js();\n",
       "    });\n",
       "  }\n",
       "}(window));"
      ],
      "application/vnd.bokehjs_load.v0+json": "\n(function(root) {\n  function now() {\n    return new Date();\n  }\n\n  var force = true;\n\n  if (typeof root._bokeh_onload_callbacks === \"undefined\" || force === true) {\n    root._bokeh_onload_callbacks = [];\n    root._bokeh_is_loading = undefined;\n  }\n\n  \n\n  \n  if (typeof (root._bokeh_timeout) === \"undefined\" || force === true) {\n    root._bokeh_timeout = Date.now() + 5000;\n    root._bokeh_failed_load = false;\n  }\n\n  var NB_LOAD_WARNING = {'data': {'text/html':\n     \"<div style='background-color: #fdd'>\\n\"+\n     \"<p>\\n\"+\n     \"BokehJS does not appear to have successfully loaded. If loading BokehJS from CDN, this \\n\"+\n     \"may be due to a slow or bad network connection. Possible fixes:\\n\"+\n     \"</p>\\n\"+\n     \"<ul>\\n\"+\n     \"<li>re-rerun `output_notebook()` to attempt to load from CDN again, or</li>\\n\"+\n     \"<li>use INLINE resources instead, as so:</li>\\n\"+\n     \"</ul>\\n\"+\n     \"<code>\\n\"+\n     \"from bokeh.resources import INLINE\\n\"+\n     \"output_notebook(resources=INLINE)\\n\"+\n     \"</code>\\n\"+\n     \"</div>\"}};\n\n  function display_loaded() {\n    var el = document.getElementById(\"1001\");\n    if (el != null) {\n      el.textContent = \"BokehJS is loading...\";\n    }\n    if (root.Bokeh !== undefined) {\n      if (el != null) {\n        el.textContent = \"BokehJS \" + root.Bokeh.version + \" successfully loaded.\";\n      }\n    } else if (Date.now() < root._bokeh_timeout) {\n      setTimeout(display_loaded, 100)\n    }\n  }\n\n\n  function run_callbacks() {\n    try {\n      root._bokeh_onload_callbacks.forEach(function(callback) {\n        if (callback != null)\n          callback();\n      });\n    } finally {\n      delete root._bokeh_onload_callbacks\n    }\n    console.debug(\"Bokeh: all callbacks have finished\");\n  }\n\n  function load_libs(css_urls, js_urls, callback) {\n    if (css_urls == null) css_urls = [];\n    if (js_urls == null) js_urls = [];\n\n    root._bokeh_onload_callbacks.push(callback);\n    if (root._bokeh_is_loading > 0) {\n      console.debug(\"Bokeh: BokehJS is being loaded, scheduling callback at\", now());\n      return null;\n    }\n    if (js_urls == null || js_urls.length === 0) {\n      run_callbacks();\n      return null;\n    }\n    console.debug(\"Bokeh: BokehJS not loaded, scheduling load and callback at\", now());\n    root._bokeh_is_loading = css_urls.length + js_urls.length;\n\n    function on_load() {\n      root._bokeh_is_loading--;\n      if (root._bokeh_is_loading === 0) {\n        console.debug(\"Bokeh: all BokehJS libraries/stylesheets loaded\");\n        run_callbacks()\n      }\n    }\n\n    function on_error() {\n      console.error(\"failed to load \" + url);\n    }\n\n    for (var i = 0; i < css_urls.length; i++) {\n      var url = css_urls[i];\n      const element = document.createElement(\"link\");\n      element.onload = on_load;\n      element.onerror = on_error;\n      element.rel = \"stylesheet\";\n      element.type = \"text/css\";\n      element.href = url;\n      console.debug(\"Bokeh: injecting link tag for BokehJS stylesheet: \", url);\n      document.body.appendChild(element);\n    }\n\n    for (var i = 0; i < js_urls.length; i++) {\n      var url = js_urls[i];\n      var element = document.createElement('script');\n      element.onload = on_load;\n      element.onerror = on_error;\n      element.async = false;\n      element.src = url;\n      console.debug(\"Bokeh: injecting script tag for BokehJS library: \", url);\n      document.head.appendChild(element);\n    }\n  };var element = document.getElementById(\"1001\");\n  if (element == null) {\n    console.error(\"Bokeh: ERROR: autoload.js configured with elementid '1001' but no matching script tag was found. \")\n    return false;\n  }\n\n  function inject_raw_css(css) {\n    const element = document.createElement(\"style\");\n    element.appendChild(document.createTextNode(css));\n    document.body.appendChild(element);\n  }\n\n  var js_urls = [\"https://cdn.pydata.org/bokeh/release/bokeh-1.3.4.min.js\", \"https://cdn.pydata.org/bokeh/release/bokeh-widgets-1.3.4.min.js\", \"https://cdn.pydata.org/bokeh/release/bokeh-tables-1.3.4.min.js\", \"https://cdn.pydata.org/bokeh/release/bokeh-gl-1.3.4.min.js\"];\n  var css_urls = [];\n\n  var inline_js = [\n    function(Bokeh) {\n      Bokeh.set_log_level(\"info\");\n    },\n    \n    function(Bokeh) {\n      \n    },\n    function(Bokeh) {} // ensure no trailing comma for IE\n  ];\n\n  function run_inline_js() {\n    \n    if ((root.Bokeh !== undefined) || (force === true)) {\n      for (var i = 0; i < inline_js.length; i++) {\n        inline_js[i].call(root, root.Bokeh);\n      }if (force === true) {\n        display_loaded();\n      }} else if (Date.now() < root._bokeh_timeout) {\n      setTimeout(run_inline_js, 100);\n    } else if (!root._bokeh_failed_load) {\n      console.log(\"Bokeh: BokehJS failed to load within specified timeout.\");\n      root._bokeh_failed_load = true;\n    } else if (force !== true) {\n      var cell = $(document.getElementById(\"1001\")).parents('.cell').data().cell;\n      cell.output_area.append_execute_result(NB_LOAD_WARNING)\n    }\n\n  }\n\n  if (root._bokeh_is_loading === 0) {\n    console.debug(\"Bokeh: BokehJS loaded, going straight to plotting\");\n    run_inline_js();\n  } else {\n    load_libs(css_urls, js_urls, function() {\n      console.debug(\"Bokeh: BokehJS plotting callback run at\", now());\n      run_inline_js();\n    });\n  }\n}(window));"
     },
     "metadata": {},
     "output_type": "display_data"
    },
    {
     "data": {
      "text/html": [
       "\n",
       "\n",
       "\n",
       "\n",
       "\n",
       "\n",
       "  <div class=\"bk-root\" id=\"f9dcfde0-e6d2-4b8c-bfb8-5593d98494a4\" data-root-id=\"1150\"></div>\n"
      ]
     },
     "metadata": {},
     "output_type": "display_data"
    },
    {
     "data": {
      "application/javascript": [
       "(function(root) {\n",
       "  function embed_document(root) {\n",
       "    \n",
       "  var docs_json = {\"3854d8ff-611d-4b12-9491-69265812150c\":{\"roots\":{\"references\":[{\"attributes\":{\"children\":[{\"id\":\"1148\",\"type\":\"Row\"},{\"id\":\"1149\",\"type\":\"Row\"}],\"sizing_mode\":\"scale_width\"},\"id\":\"1150\",\"type\":\"Column\"},{\"attributes\":{},\"id\":\"1167\",\"type\":\"UnionRenderers\"},{\"attributes\":{},\"id\":\"1025\",\"type\":\"WheelZoomTool\"},{\"attributes\":{},\"id\":\"1056\",\"type\":\"BasicTicker\"},{\"attributes\":{\"dimension\":1,\"ticker\":{\"id\":\"1056\",\"type\":\"BasicTicker\"}},\"id\":\"1059\",\"type\":\"Grid\"},{\"attributes\":{\"axis_label\":\"Velocidade, v(t) [m/s]\",\"axis_label_text_font_size\":{\"value\":\"16px\"},\"axis_label_text_font_style\":\"normal\",\"formatter\":{\"id\":\"1158\",\"type\":\"BasicTickFormatter\"},\"major_label_text_font_size\":{\"value\":\"16px\"},\"ticker\":{\"id\":\"1056\",\"type\":\"BasicTicker\"}},\"id\":\"1055\",\"type\":\"LinearAxis\"},{\"attributes\":{\"line_color\":\"#0095DD\",\"line_width\":3,\"x\":{\"field\":\"tempo\"},\"y\":{\"field\":\"posicao\"}},\"id\":\"1112\",\"type\":\"Line\"},{\"attributes\":{\"callback\":null},\"id\":\"1006\",\"type\":\"DataRange1d\"},{\"attributes\":{\"text\":\"Acelera\\u00e7\\u00e3o em func\\u00e3o do tempo.\"},\"id\":\"1076\",\"type\":\"Title\"},{\"attributes\":{\"data_source\":{\"id\":\"1002\",\"type\":\"ColumnDataSource\"},\"glyph\":{\"id\":\"1112\",\"type\":\"Line\"},\"hover_glyph\":null,\"muted_glyph\":null,\"nonselection_glyph\":{\"id\":\"1113\",\"type\":\"Line\"},\"selection_glyph\":null,\"view\":{\"id\":\"1115\",\"type\":\"CDSView\"}},\"id\":\"1114\",\"type\":\"GlyphRenderer\"},{\"attributes\":{\"callback\":null},\"id\":\"1078\",\"type\":\"DataRange1d\"},{\"attributes\":{\"fill_alpha\":{\"value\":0.1},\"fill_color\":{\"value\":\"#1f77b4\"},\"line_alpha\":{\"value\":0.1},\"line_color\":{\"value\":\"#1f77b4\"},\"size\":{\"units\":\"screen\",\"value\":10},\"x\":{\"field\":\"tempo\"},\"y\":{\"field\":\"posicao\"}},\"id\":\"1118\",\"type\":\"Scatter\"},{\"attributes\":{\"callback\":null,\"tooltips\":[[\"Velocidade [m/s]\",\"@velocidade{0.00}\"],[\"Tempo [s]\",\"@tempo\"]]},\"id\":\"1066\",\"type\":\"HoverTool\"},{\"attributes\":{},\"id\":\"1082\",\"type\":\"LinearScale\"},{\"attributes\":{},\"id\":\"1060\",\"type\":\"PanTool\"},{\"attributes\":{},\"id\":\"1061\",\"type\":\"WheelZoomTool\"},{\"attributes\":{\"overlay\":{\"id\":\"1169\",\"type\":\"BoxAnnotation\"}},\"id\":\"1062\",\"type\":\"BoxZoomTool\"},{\"attributes\":{},\"id\":\"1063\",\"type\":\"SaveTool\"},{\"attributes\":{},\"id\":\"1015\",\"type\":\"BasicTicker\"},{\"attributes\":{},\"id\":\"1064\",\"type\":\"ResetTool\"},{\"attributes\":{\"children\":[{\"id\":\"1144\",\"type\":\"Slider\"},{\"id\":\"1145\",\"type\":\"Slider\"},{\"id\":\"1146\",\"type\":\"Slider\"}],\"sizing_mode\":\"scale_width\"},\"id\":\"1149\",\"type\":\"Row\"},{\"attributes\":{},\"id\":\"1029\",\"type\":\"HelpTool\"},{\"attributes\":{},\"id\":\"1065\",\"type\":\"HelpTool\"},{\"attributes\":{\"ticker\":{\"id\":\"1051\",\"type\":\"BasicTicker\"}},\"id\":\"1054\",\"type\":\"Grid\"},{\"attributes\":{\"axis_label\":\"Tempo, t [s]\",\"axis_label_text_font_size\":{\"value\":\"16px\"},\"axis_label_text_font_style\":\"normal\",\"formatter\":{\"id\":\"1156\",\"type\":\"BasicTickFormatter\"},\"major_label_text_font_size\":{\"value\":\"16px\"},\"ticker\":{\"id\":\"1015\",\"type\":\"BasicTicker\"}},\"id\":\"1014\",\"type\":\"LinearAxis\"},{\"attributes\":{\"active_drag\":\"auto\",\"active_inspect\":\"auto\",\"active_multi\":null,\"active_scroll\":\"auto\",\"active_tap\":\"auto\",\"logo\":null,\"tools\":[{\"id\":\"1060\",\"type\":\"PanTool\"},{\"id\":\"1061\",\"type\":\"WheelZoomTool\"},{\"id\":\"1062\",\"type\":\"BoxZoomTool\"},{\"id\":\"1063\",\"type\":\"SaveTool\"},{\"id\":\"1064\",\"type\":\"ResetTool\"},{\"id\":\"1065\",\"type\":\"HelpTool\"},{\"id\":\"1066\",\"type\":\"HoverTool\"}]},\"id\":\"1067\",\"type\":\"Toolbar\"},{\"attributes\":{},\"id\":\"1048\",\"type\":\"LinearScale\"},{\"attributes\":{\"axis_label\":\"Tempo, t [s]\",\"axis_label_text_font_size\":{\"value\":\"16px\"},\"axis_label_text_font_style\":\"normal\",\"formatter\":{\"id\":\"1160\",\"type\":\"BasicTickFormatter\"},\"major_label_text_font_size\":{\"value\":\"16px\"},\"ticker\":{\"id\":\"1051\",\"type\":\"BasicTicker\"}},\"id\":\"1050\",\"type\":\"LinearAxis\"},{\"attributes\":{},\"id\":\"1051\",\"type\":\"BasicTicker\"},{\"attributes\":{\"callback\":null,\"end\":12,\"start\":-12},\"id\":\"1080\",\"type\":\"Range1d\"},{\"attributes\":{},\"id\":\"1084\",\"type\":\"LinearScale\"},{\"attributes\":{\"axis_label\":\"Tempo, t [s]\",\"axis_label_text_font_size\":{\"value\":\"16px\"},\"axis_label_text_font_style\":\"normal\",\"formatter\":{\"id\":\"1164\",\"type\":\"BasicTickFormatter\"},\"major_label_text_font_size\":{\"value\":\"16px\"},\"ticker\":{\"id\":\"1087\",\"type\":\"BasicTicker\"}},\"id\":\"1086\",\"type\":\"LinearAxis\"},{\"attributes\":{\"active_drag\":\"auto\",\"active_inspect\":\"auto\",\"active_multi\":null,\"active_scroll\":\"auto\",\"active_tap\":\"auto\",\"logo\":null,\"tools\":[{\"id\":\"1024\",\"type\":\"PanTool\"},{\"id\":\"1025\",\"type\":\"WheelZoomTool\"},{\"id\":\"1026\",\"type\":\"BoxZoomTool\"},{\"id\":\"1027\",\"type\":\"SaveTool\"},{\"id\":\"1028\",\"type\":\"ResetTool\"},{\"id\":\"1029\",\"type\":\"HelpTool\"},{\"id\":\"1030\",\"type\":\"HoverTool\"}]},\"id\":\"1031\",\"type\":\"Toolbar\"},{\"attributes\":{},\"id\":\"1012\",\"type\":\"LinearScale\"},{\"attributes\":{},\"id\":\"1092\",\"type\":\"BasicTicker\"},{\"attributes\":{},\"id\":\"1087\",\"type\":\"BasicTicker\"},{\"attributes\":{\"ticker\":{\"id\":\"1087\",\"type\":\"BasicTicker\"}},\"id\":\"1090\",\"type\":\"Grid\"},{\"attributes\":{\"dimension\":1,\"ticker\":{\"id\":\"1092\",\"type\":\"BasicTicker\"}},\"id\":\"1095\",\"type\":\"Grid\"},{\"attributes\":{\"axis_label\":\"Acelera\\u00e7\\u00e3o, a [m/s\\u00b2]\",\"axis_label_text_font_size\":{\"value\":\"16px\"},\"axis_label_text_font_style\":\"normal\",\"formatter\":{\"id\":\"1162\",\"type\":\"BasicTickFormatter\"},\"major_label_text_font_size\":{\"value\":\"16px\"},\"ticker\":{\"id\":\"1092\",\"type\":\"BasicTicker\"}},\"id\":\"1091\",\"type\":\"LinearAxis\"},{\"attributes\":{\"line_alpha\":0.1,\"line_color\":\"#1f77b4\",\"line_width\":3,\"x\":{\"field\":\"tempo\"},\"y\":{\"field\":\"posicao\"}},\"id\":\"1113\",\"type\":\"Line\"},{\"attributes\":{\"source\":{\"id\":\"1002\",\"type\":\"ColumnDataSource\"}},\"id\":\"1115\",\"type\":\"CDSView\"},{\"attributes\":{\"callback\":null,\"tooltips\":[[\"Acelera\\u00e7\\u00e3o [m/s\\u00b2]\",\"@aceleracao{0.00}\"],[\"Tempo [s]\",\"@tempo\"]]},\"id\":\"1102\",\"type\":\"HoverTool\"},{\"attributes\":{},\"id\":\"1028\",\"type\":\"ResetTool\"},{\"attributes\":{\"source\":{\"id\":\"1002\",\"type\":\"ColumnDataSource\"}},\"id\":\"1142\",\"type\":\"CDSView\"},{\"attributes\":{},\"id\":\"1024\",\"type\":\"PanTool\"},{\"attributes\":{},\"id\":\"1096\",\"type\":\"PanTool\"},{\"attributes\":{\"bar_color\":\"#E34A33\",\"callback\":null,\"end\":10,\"js_property_callbacks\":{\"change:value\":[{\"id\":\"1147\",\"type\":\"CustomJS\"}]},\"sizing_mode\":\"scale_width\",\"start\":-10,\"step\":0.01,\"title\":\"Acelera\\u00e7\\u00e3o, a [m/s\\u00b2]\",\"value\":0},\"id\":\"1146\",\"type\":\"Slider\"},{\"attributes\":{\"callback\":null,\"end\":180,\"start\":-180},\"id\":\"1044\",\"type\":\"Range1d\"},{\"attributes\":{},\"id\":\"1097\",\"type\":\"WheelZoomTool\"},{\"attributes\":{\"bar_color\":\"#31A354\",\"callback\":null,\"end\":20,\"js_property_callbacks\":{\"change:value\":[{\"id\":\"1147\",\"type\":\"CustomJS\"}]},\"sizing_mode\":\"scale_width\",\"start\":-20,\"step\":0.01,\"title\":\"Velocidade inicial, v0 [m/s]\",\"value\":5},\"id\":\"1145\",\"type\":\"Slider\"},{\"attributes\":{\"args\":{\"aceleracao\":{\"id\":\"1146\",\"type\":\"Slider\"},\"posicao_inicial\":{\"id\":\"1144\",\"type\":\"Slider\"},\"source\":{\"id\":\"1002\",\"type\":\"ColumnDataSource\"},\"velocidade_inicial\":{\"id\":\"1145\",\"type\":\"Slider\"}},\"code\":\"\\n            const data = source.data;\\n            const s0   = posicao_inicial.value;\\n            const v0   = velocidade_inicial.value;\\n            const a    = aceleracao.value;\\n            const t    = data['tempo'];\\n            const s_t  = data['posicao'];\\n            const v_t  = data['velocidade'];\\n            const a_t  = data['aceleracao'];\\n            \\n            for (let i = 0; i < t.length; i++) {\\n                s_t[i] = s0 + v0*t[i] + 0.5*a*(t[i]**2);\\n                v_t[i] = v0 + a*t[i];\\n                a_t[i] = a;\\n            }\\n            source.change.emit()\\n    \"},\"id\":\"1147\",\"type\":\"CustomJS\"},{\"attributes\":{\"overlay\":{\"id\":\"1170\",\"type\":\"BoxAnnotation\"}},\"id\":\"1098\",\"type\":\"BoxZoomTool\"},{\"attributes\":{},\"id\":\"1099\",\"type\":\"SaveTool\"},{\"attributes\":{\"ticker\":{\"id\":\"1015\",\"type\":\"BasicTicker\"}},\"id\":\"1018\",\"type\":\"Grid\"},{\"attributes\":{},\"id\":\"1100\",\"type\":\"ResetTool\"},{\"attributes\":{},\"id\":\"1020\",\"type\":\"BasicTicker\"},{\"attributes\":{\"children\":[{\"id\":\"1003\",\"subtype\":\"Figure\",\"type\":\"Plot\"},{\"id\":\"1039\",\"subtype\":\"Figure\",\"type\":\"Plot\"},{\"id\":\"1075\",\"subtype\":\"Figure\",\"type\":\"Plot\"}],\"sizing_mode\":\"scale_width\"},\"id\":\"1148\",\"type\":\"Row\"},{\"attributes\":{},\"id\":\"1101\",\"type\":\"HelpTool\"},{\"attributes\":{\"fill_color\":{\"value\":\"#FFFFFF\"},\"line_color\":{\"value\":\"#0095DD\"},\"size\":{\"units\":\"screen\",\"value\":10},\"x\":{\"field\":\"tempo\"},\"y\":{\"field\":\"posicao\"}},\"id\":\"1117\",\"type\":\"Scatter\"},{\"attributes\":{\"active_drag\":\"auto\",\"active_inspect\":\"auto\",\"active_multi\":null,\"active_scroll\":\"auto\",\"active_tap\":\"auto\",\"logo\":null,\"tools\":[{\"id\":\"1096\",\"type\":\"PanTool\"},{\"id\":\"1097\",\"type\":\"WheelZoomTool\"},{\"id\":\"1098\",\"type\":\"BoxZoomTool\"},{\"id\":\"1099\",\"type\":\"SaveTool\"},{\"id\":\"1100\",\"type\":\"ResetTool\"},{\"id\":\"1101\",\"type\":\"HelpTool\"},{\"id\":\"1102\",\"type\":\"HoverTool\"}]},\"id\":\"1103\",\"type\":\"Toolbar\"},{\"attributes\":{},\"id\":\"1154\",\"type\":\"BasicTickFormatter\"},{\"attributes\":{},\"id\":\"1027\",\"type\":\"SaveTool\"},{\"attributes\":{\"callback\":null,\"tooltips\":[[\"Posi\\u00e7\\u00e3o [m]\",\"@posicao{0.00}\"],[\"Tempo [s]\",\"@tempo\"]]},\"id\":\"1030\",\"type\":\"HoverTool\"},{\"attributes\":{},\"id\":\"1156\",\"type\":\"BasicTickFormatter\"},{\"attributes\":{\"source\":{\"id\":\"1002\",\"type\":\"ColumnDataSource\"}},\"id\":\"1120\",\"type\":\"CDSView\"},{\"attributes\":{\"callback\":null},\"id\":\"1008\",\"type\":\"DataRange1d\"},{\"attributes\":{\"bottom_units\":\"screen\",\"fill_alpha\":{\"value\":0.5},\"fill_color\":{\"value\":\"lightgrey\"},\"left_units\":\"screen\",\"level\":\"overlay\",\"line_alpha\":{\"value\":1.0},\"line_color\":{\"value\":\"black\"},\"line_dash\":[4,4],\"line_width\":{\"value\":2},\"render_mode\":\"css\",\"right_units\":\"screen\",\"top_units\":\"screen\"},\"id\":\"1169\",\"type\":\"BoxAnnotation\"},{\"attributes\":{\"line_color\":\"#31A354\",\"line_width\":3,\"x\":{\"field\":\"tempo\"},\"y\":{\"field\":\"velocidade\"}},\"id\":\"1123\",\"type\":\"Line\"},{\"attributes\":{\"dimension\":1,\"ticker\":{\"id\":\"1020\",\"type\":\"BasicTicker\"}},\"id\":\"1023\",\"type\":\"Grid\"},{\"attributes\":{},\"id\":\"1164\",\"type\":\"BasicTickFormatter\"},{\"attributes\":{\"bar_color\":\"#0095DD\",\"callback\":null,\"end\":100,\"js_property_callbacks\":{\"change:value\":[{\"id\":\"1147\",\"type\":\"CustomJS\"}]},\"sizing_mode\":\"scale_width\",\"start\":-100,\"step\":0.01,\"title\":\"Posi\\u00e7\\u00e3o inicial, s0 [m]\",\"value\":0},\"id\":\"1144\",\"type\":\"Slider\"},{\"attributes\":{},\"id\":\"1168\",\"type\":\"Selection\"},{\"attributes\":{\"fill_color\":{\"value\":\"#FFFFFF\"},\"line_color\":{\"value\":\"#31A354\"},\"size\":{\"units\":\"screen\",\"value\":10},\"x\":{\"field\":\"tempo\"},\"y\":{\"field\":\"velocidade\"}},\"id\":\"1128\",\"type\":\"Scatter\"},{\"attributes\":{\"bottom_units\":\"screen\",\"fill_alpha\":{\"value\":0.5},\"fill_color\":{\"value\":\"lightgrey\"},\"left_units\":\"screen\",\"level\":\"overlay\",\"line_alpha\":{\"value\":1.0},\"line_color\":{\"value\":\"black\"},\"line_dash\":[4,4],\"line_width\":{\"value\":2},\"render_mode\":\"css\",\"right_units\":\"screen\",\"top_units\":\"screen\"},\"id\":\"1166\",\"type\":\"BoxAnnotation\"},{\"attributes\":{\"bottom_units\":\"screen\",\"fill_alpha\":{\"value\":0.5},\"fill_color\":{\"value\":\"lightgrey\"},\"left_units\":\"screen\",\"level\":\"overlay\",\"line_alpha\":{\"value\":1.0},\"line_color\":{\"value\":\"black\"},\"line_dash\":[4,4],\"line_width\":{\"value\":2},\"render_mode\":\"css\",\"right_units\":\"screen\",\"top_units\":\"screen\"},\"id\":\"1170\",\"type\":\"BoxAnnotation\"},{\"attributes\":{\"line_alpha\":0.1,\"line_color\":\"#1f77b4\",\"line_width\":3,\"x\":{\"field\":\"tempo\"},\"y\":{\"field\":\"velocidade\"}},\"id\":\"1124\",\"type\":\"Line\"},{\"attributes\":{\"data_source\":{\"id\":\"1002\",\"type\":\"ColumnDataSource\"},\"glyph\":{\"id\":\"1123\",\"type\":\"Line\"},\"hover_glyph\":null,\"muted_glyph\":null,\"nonselection_glyph\":{\"id\":\"1124\",\"type\":\"Line\"},\"selection_glyph\":null,\"view\":{\"id\":\"1126\",\"type\":\"CDSView\"}},\"id\":\"1125\",\"type\":\"GlyphRenderer\"},{\"attributes\":{\"text\":\"Velocidade em func\\u00e3o do tempo.\"},\"id\":\"1040\",\"type\":\"Title\"},{\"attributes\":{\"source\":{\"id\":\"1002\",\"type\":\"ColumnDataSource\"}},\"id\":\"1126\",\"type\":\"CDSView\"},{\"attributes\":{\"overlay\":{\"id\":\"1166\",\"type\":\"BoxAnnotation\"}},\"id\":\"1026\",\"type\":\"BoxZoomTool\"},{\"attributes\":{},\"id\":\"1162\",\"type\":\"BasicTickFormatter\"},{\"attributes\":{\"below\":[{\"id\":\"1014\",\"type\":\"LinearAxis\"}],\"center\":[{\"id\":\"1018\",\"type\":\"Grid\"},{\"id\":\"1023\",\"type\":\"Grid\"}],\"left\":[{\"id\":\"1019\",\"type\":\"LinearAxis\"}],\"plot_height\":100,\"plot_width\":100,\"renderers\":[{\"id\":\"1114\",\"type\":\"GlyphRenderer\"},{\"id\":\"1119\",\"type\":\"GlyphRenderer\"}],\"sizing_mode\":\"scale_width\",\"title\":{\"id\":\"1004\",\"type\":\"Title\"},\"toolbar\":{\"id\":\"1031\",\"type\":\"Toolbar\"},\"toolbar_location\":null,\"x_range\":{\"id\":\"1006\",\"type\":\"DataRange1d\"},\"x_scale\":{\"id\":\"1010\",\"type\":\"LinearScale\"},\"y_range\":{\"id\":\"1008\",\"type\":\"DataRange1d\"},\"y_scale\":{\"id\":\"1012\",\"type\":\"LinearScale\"}},\"id\":\"1003\",\"subtype\":\"Figure\",\"type\":\"Plot\"},{\"attributes\":{\"fill_alpha\":{\"value\":0.1},\"fill_color\":{\"value\":\"#1f77b4\"},\"line_alpha\":{\"value\":0.1},\"line_color\":{\"value\":\"#1f77b4\"},\"size\":{\"units\":\"screen\",\"value\":10},\"x\":{\"field\":\"tempo\"},\"y\":{\"field\":\"velocidade\"}},\"id\":\"1129\",\"type\":\"Scatter\"},{\"attributes\":{},\"id\":\"1046\",\"type\":\"LinearScale\"},{\"attributes\":{},\"id\":\"1160\",\"type\":\"BasicTickFormatter\"},{\"attributes\":{\"data_source\":{\"id\":\"1002\",\"type\":\"ColumnDataSource\"},\"glyph\":{\"id\":\"1117\",\"type\":\"Scatter\"},\"hover_glyph\":null,\"muted_glyph\":null,\"nonselection_glyph\":{\"id\":\"1118\",\"type\":\"Scatter\"},\"selection_glyph\":null,\"view\":{\"id\":\"1120\",\"type\":\"CDSView\"}},\"id\":\"1119\",\"type\":\"GlyphRenderer\"},{\"attributes\":{\"data_source\":{\"id\":\"1002\",\"type\":\"ColumnDataSource\"},\"glyph\":{\"id\":\"1128\",\"type\":\"Scatter\"},\"hover_glyph\":null,\"muted_glyph\":null,\"nonselection_glyph\":{\"id\":\"1129\",\"type\":\"Scatter\"},\"selection_glyph\":null,\"view\":{\"id\":\"1131\",\"type\":\"CDSView\"}},\"id\":\"1130\",\"type\":\"GlyphRenderer\"},{\"attributes\":{\"below\":[{\"id\":\"1050\",\"type\":\"LinearAxis\"}],\"center\":[{\"id\":\"1054\",\"type\":\"Grid\"},{\"id\":\"1059\",\"type\":\"Grid\"}],\"left\":[{\"id\":\"1055\",\"type\":\"LinearAxis\"}],\"plot_height\":100,\"plot_width\":100,\"renderers\":[{\"id\":\"1125\",\"type\":\"GlyphRenderer\"},{\"id\":\"1130\",\"type\":\"GlyphRenderer\"}],\"sizing_mode\":\"scale_width\",\"title\":{\"id\":\"1040\",\"type\":\"Title\"},\"toolbar\":{\"id\":\"1067\",\"type\":\"Toolbar\"},\"toolbar_location\":null,\"x_range\":{\"id\":\"1042\",\"type\":\"DataRange1d\"},\"x_scale\":{\"id\":\"1046\",\"type\":\"LinearScale\"},\"y_range\":{\"id\":\"1044\",\"type\":\"Range1d\"},\"y_scale\":{\"id\":\"1048\",\"type\":\"LinearScale\"}},\"id\":\"1039\",\"subtype\":\"Figure\",\"type\":\"Plot\"},{\"attributes\":{\"line_color\":\"#E34A33\",\"line_width\":3,\"x\":{\"field\":\"tempo\"},\"y\":{\"field\":\"aceleracao\"}},\"id\":\"1134\",\"type\":\"Line\"},{\"attributes\":{\"source\":{\"id\":\"1002\",\"type\":\"ColumnDataSource\"}},\"id\":\"1131\",\"type\":\"CDSView\"},{\"attributes\":{},\"id\":\"1010\",\"type\":\"LinearScale\"},{\"attributes\":{\"callback\":null},\"id\":\"1042\",\"type\":\"DataRange1d\"},{\"attributes\":{\"fill_color\":{\"value\":\"#FFFFFF\"},\"line_color\":{\"value\":\"#E34A33\"},\"size\":{\"units\":\"screen\",\"value\":10},\"x\":{\"field\":\"tempo\"},\"y\":{\"field\":\"aceleracao\"}},\"id\":\"1139\",\"type\":\"Scatter\"},{\"attributes\":{\"text\":\"Posi\\u00e7\\u00e3o em func\\u00e3o do tempo.\"},\"id\":\"1004\",\"type\":\"Title\"},{\"attributes\":{\"callback\":null,\"data\":{\"aceleracao\":[0,0,0,0,0,0,0,0,0,0,0,0,0,0,0,0],\"posicao\":[0,1,2,3,4,5,6,7,8,9,10,11,12,13,14,15],\"tempo\":[0,1,2,3,4,5,6,7,8,9,10,11,12,13,14,15],\"velocidade\":[5,5,5,5,5,5,5,5,5,5,5,5,5,5,5,5]},\"selected\":{\"id\":\"1168\",\"type\":\"Selection\"},\"selection_policy\":{\"id\":\"1167\",\"type\":\"UnionRenderers\"}},\"id\":\"1002\",\"type\":\"ColumnDataSource\"},{\"attributes\":{\"line_alpha\":0.1,\"line_color\":\"#1f77b4\",\"line_width\":3,\"x\":{\"field\":\"tempo\"},\"y\":{\"field\":\"aceleracao\"}},\"id\":\"1135\",\"type\":\"Line\"},{\"attributes\":{\"data_source\":{\"id\":\"1002\",\"type\":\"ColumnDataSource\"},\"glyph\":{\"id\":\"1134\",\"type\":\"Line\"},\"hover_glyph\":null,\"muted_glyph\":null,\"nonselection_glyph\":{\"id\":\"1135\",\"type\":\"Line\"},\"selection_glyph\":null,\"view\":{\"id\":\"1137\",\"type\":\"CDSView\"}},\"id\":\"1136\",\"type\":\"GlyphRenderer\"},{\"attributes\":{\"axis_label\":\"Posi\\u00e7\\u00e3o, s(t) [m]\",\"axis_label_text_font_size\":{\"value\":\"16px\"},\"axis_label_text_font_style\":\"normal\",\"formatter\":{\"id\":\"1154\",\"type\":\"BasicTickFormatter\"},\"major_label_text_font_size\":{\"value\":\"16px\"},\"ticker\":{\"id\":\"1020\",\"type\":\"BasicTicker\"}},\"id\":\"1019\",\"type\":\"LinearAxis\"},{\"attributes\":{\"source\":{\"id\":\"1002\",\"type\":\"ColumnDataSource\"}},\"id\":\"1137\",\"type\":\"CDSView\"},{\"attributes\":{\"below\":[{\"id\":\"1086\",\"type\":\"LinearAxis\"}],\"center\":[{\"id\":\"1090\",\"type\":\"Grid\"},{\"id\":\"1095\",\"type\":\"Grid\"}],\"left\":[{\"id\":\"1091\",\"type\":\"LinearAxis\"}],\"plot_height\":100,\"plot_width\":100,\"renderers\":[{\"id\":\"1136\",\"type\":\"GlyphRenderer\"},{\"id\":\"1141\",\"type\":\"GlyphRenderer\"}],\"sizing_mode\":\"scale_width\",\"title\":{\"id\":\"1076\",\"type\":\"Title\"},\"toolbar\":{\"id\":\"1103\",\"type\":\"Toolbar\"},\"toolbar_location\":null,\"x_range\":{\"id\":\"1078\",\"type\":\"DataRange1d\"},\"x_scale\":{\"id\":\"1082\",\"type\":\"LinearScale\"},\"y_range\":{\"id\":\"1080\",\"type\":\"Range1d\"},\"y_scale\":{\"id\":\"1084\",\"type\":\"LinearScale\"}},\"id\":\"1075\",\"subtype\":\"Figure\",\"type\":\"Plot\"},{\"attributes\":{},\"id\":\"1158\",\"type\":\"BasicTickFormatter\"},{\"attributes\":{\"data_source\":{\"id\":\"1002\",\"type\":\"ColumnDataSource\"},\"glyph\":{\"id\":\"1139\",\"type\":\"Scatter\"},\"hover_glyph\":null,\"muted_glyph\":null,\"nonselection_glyph\":{\"id\":\"1140\",\"type\":\"Scatter\"},\"selection_glyph\":null,\"view\":{\"id\":\"1142\",\"type\":\"CDSView\"}},\"id\":\"1141\",\"type\":\"GlyphRenderer\"},{\"attributes\":{\"fill_alpha\":{\"value\":0.1},\"fill_color\":{\"value\":\"#1f77b4\"},\"line_alpha\":{\"value\":0.1},\"line_color\":{\"value\":\"#1f77b4\"},\"size\":{\"units\":\"screen\",\"value\":10},\"x\":{\"field\":\"tempo\"},\"y\":{\"field\":\"aceleracao\"}},\"id\":\"1140\",\"type\":\"Scatter\"}],\"root_ids\":[\"1150\"]},\"title\":\"Bokeh Application\",\"version\":\"1.3.4\"}};\n",
       "  var render_items = [{\"docid\":\"3854d8ff-611d-4b12-9491-69265812150c\",\"roots\":{\"1150\":\"f9dcfde0-e6d2-4b8c-bfb8-5593d98494a4\"}}];\n",
       "  root.Bokeh.embed.embed_items_notebook(docs_json, render_items);\n",
       "\n",
       "  }\n",
       "  if (root.Bokeh !== undefined) {\n",
       "    embed_document(root);\n",
       "  } else {\n",
       "    var attempts = 0;\n",
       "    var timer = setInterval(function(root) {\n",
       "      if (root.Bokeh !== undefined) {\n",
       "        embed_document(root);\n",
       "        clearInterval(timer);\n",
       "      }\n",
       "      attempts++;\n",
       "      if (attempts > 100) {\n",
       "        console.log(\"Bokeh: ERROR: Unable to run BokehJS code because BokehJS library is missing\");\n",
       "        clearInterval(timer);\n",
       "      }\n",
       "    }, 10, root)\n",
       "  }\n",
       "})(window);"
      ],
      "application/vnd.bokehjs_exec.v0+json": ""
     },
     "metadata": {
      "application/vnd.bokehjs_exec.v0+json": {
       "id": "1150"
      }
     },
     "output_type": "display_data"
    }
   ],
   "source": [
    "mruv_iterative()"
   ]
  },
  {
   "cell_type": "markdown",
   "metadata": {},
   "source": [
    "<p class='justified'>\n",
    "<b>Figura 1.</b> Gráficos iterativos da Posição $S$ (m), da velocidade $v$ (m/s) e da aceleração $a$ (m/s²) do carro versus tempo $t$ (s).\n",
    "</p>"
   ]
  },
  {
   "cell_type": "markdown",
   "metadata": {},
   "source": [
    "<p class='justified'>\n",
    "    Observe que se colocarmos valores positivos para a aceleração ($a > 0$), o gráfico da velocidade se transforma em uma reta com inclinação positiva, cujo coeficiente linear é a velocidade inicial do movimento $v_0$ no tempo $t = 0s$. Já o gráfico da posição se transforma em uma parábola com concavidade positiva. Para valores negativos da aceleração ($a < 0$), a inclinação da reta que descreve a velocidade muda e tende para valores cada vez menores conforme o tempo passa. Isso significa que o carro está freiando, ou seja, desacelerando, até sua velocidade ser nula e após isso ele começa a dar ré, ou seja, ir no sentido contrário do movimento. Nesse caso, o gráfico da posição é descrito por uma parábola de concavidade negativa. O carro percorre uma distância a partir da origem $S_0$ e depois começa a voltar.\n",
    "</p>\n",
    "\n",
    "<p class='justified'>\n",
    "    De fato, esses comportamentos se devem ao fato do tipo de equações que definem o <b>MRUV</b>:\n",
    "</p>\n",
    "\n",
    "$$\n",
    "    v(t) = v_0 + at\n",
    "    \\label{eq:mruv_vel}\n",
    "$$\n",
    "\n",
    "e\n",
    "\n",
    "$$\n",
    "    S(t) = S_0 + v_0t + \\frac{1}{2}a t^2.\n",
    "    \\label{eq:mruv_pos}\n",
    "$$"
   ]
  },
  {
   "cell_type": "markdown",
   "metadata": {},
   "source": [
    "<p class='justified'>\n",
    "    Voltando ao exemplo do carro. Suponha que o carro que você está observando aumenta a velocidade em $3{,}00\\,m/s$ a cada segundo que se passa, ou seja. A aceleração é definida como a variação da velocidade em um intervalo de tempo, portando, nesse caso:\n",
    "</p>\n",
    "\n",
    "$$\n",
    "    a = \\frac{\\Delta v}{\\Delta t} = \\frac{3{,}00\\,m/s}{1{,}00\\,s} = 3{,}00\\,\\frac{m/s}{s} = 3{,}00\\,m/s^2.\n",
    "$$\n",
    "\n",
    "<p class='justified'>\n",
    "    Vemos então que a unidade de aceleração é $m/s^2$. \n",
    "</p>\n",
    "\n",
    "<p class='justified'>\n",
    "Lembrando que quando você começa a cronometrar ($t = 0$), o carro está passando em frente a sua casa, de maneira que definimos esse ponto como $S_0$ e a velocidade do carro nesse instante é $v_0 = 5{,}00\\,m/s$. Dessa forma, as Eqs.\\eqref{eq:mruv_vel} e \\eqref{eq:mruv_pos} podem ser escritas como\n",
    "</p>\n",
    "\n",
    "$$\n",
    "    v(t) = \\left( 5{,}00\\,m/s\\right) + \\left( 3{,}00\\,m/s^2\\right)t\n",
    "    \\label{eq:carro_vel}\n",
    "$$\n",
    "\n",
    "e\n",
    "\n",
    "$$\n",
    "    S(t) = S_0 + \\left( 5{,}00\\,m/s\\right)t + \\frac{1}{2}\\left( 3{,}00\\,m/s^2\\right) t^2.\n",
    "$$\n",
    "\n",
    "<p class='justified'>\n",
    "    Caso a origem do sistema de coordenadas seja definida em frente sua casa, $S_0 = 0{,}00\\,m$, de maneira que\n",
    "</p>\n",
    "\n",
    "$$\n",
    "    S(t) = \\left( 5{,}00\\,m/s\\right)t + \\frac{1}{2}\\left( 3{,}00\\,m/s^2\\right) t^2.\n",
    "    \\label{eq:carro_pos}\n",
    "$$"
   ]
  },
  {
   "cell_type": "markdown",
   "metadata": {},
   "source": [
    "<p classs='justified'>\n",
    "A seguir, vamos analisar a equação de movimento do carro dada pela Eq. \\eqref{eq:carro_pos} de forma gráfica utilizando o <mark class='mono_gray'>Python</mark>. O gráfico do comportamento desse veículo quando colhemos os dados das posições em $t=[0,2,4,6,8,10]\\, s$, a partir de $S_0 = 0\\, m$. \n",
    "</p>\n",
    "\n",
    "<p classs='justified'>\n",
    "<b>a)</b> Definindo as variáveis, dependente e independente e confeccionando o gráfico digitando os dados.\n",
    "</p>\n",
    "    \n",
    "<p classs='justified'>\n",
    "    Nossa <b>variável independente</b> é o <b>tempo</b> e as <b>variáveis dependentes</b> são a posição e a velocidade do carro, que depende do tempo. Dessa forma, colocamos o tempo $t$ no eixo $x$ e, em um gráfico a posição do carro $S(t)$ no eixo $y$ e em outro a velocidade $v(t)$.\n",
    "</p>"
   ]
  },
  {
   "cell_type": "code",
   "execution_count": 19,
   "metadata": {
    "ExecuteTime": {
     "end_time": "2020-06-29T15:47:26.807063Z",
     "start_time": "2020-06-29T15:47:26.271571Z"
    }
   },
   "outputs": [
    {
     "data": {
      "image/png": "[encoded data removed]",
      "text/plain": [
       "<Figure size 1584x576 with 2 Axes>"
      ]
     },
     "metadata": {
      "needs_background": "light"
     },
     "output_type": "display_data"
    }
   ],
   "source": [
    "# variavel independente: eixo x, é o tempo que cronometramos\n",
    "tempos_cronometrados = [0, 2, 4, 6, 8, 10]\n",
    "# variavel dependente: eixo y, é a posição do carro\n",
    "def s(s0, v0, a, t):\n",
    "    return s0 + v0*t + (1/2)*a*t**2\n",
    "\n",
    "def v(v0, a, t):\n",
    "    return v0 + a*t\n",
    "\n",
    "# calculamos os valores para a posição em função do tempo\n",
    "# usamos os valores de tempo cronometrados, encontrados \n",
    "# na lista definida acima - tempos_cronometrados - \n",
    "# para calcular os valores da posição do veículo. \n",
    "# Usaremos a posição inicial s0 = 0 m e a velocidade \n",
    "# constante v = 5,0 m/s. Para isso, usaremos uma\n",
    "# ``lista de compreensão`` (list comprehension)\n",
    "posicoes    = [s(s0=0, v0=5, a=3, t=t) for t in tempos_cronometrados];\n",
    "velocidades = [v(      v0=5, a=3, t=t) for t in tempos_cronometrados];\n",
    "\n",
    "# criamos o objeto ``Figure`` e o ``array`` com os gráficos\n",
    "fig, axarr = plt.subplots(nrows=1, ncols=2, figsize=(22,8))\n",
    "\n",
    "kwargs = dict(markersize=15, markerfacecolor=\"#FFFFFF\", markeredgewidth=3, lw=3)\n",
    "\n",
    "# confeccionando o gráfico das posições\n",
    "axarr[0].plot(\n",
    "    tempos_cronometrados, # primeiro argumento são os valores do eixo x\n",
    "    posicoes,             # segundo argumento são os valores do eixo y\n",
    "    marker='o',           # tipo do ponto usado para marcar as coordenadas (x,y)\n",
    "    color='#377eb8',\n",
    "    **kwargs    \n",
    ");\n",
    "\n",
    "# confeccionando o gráfico das velocidades\n",
    "axarr[1].plot(\n",
    "    tempos_cronometrados, # primeiro argumento são os valores do eixo x\n",
    "    velocidades,          # segundo argumento são os valores do eixo y\n",
    "    marker='D',           # tipo do ponto usado para marcar as coordenadas (x,y)\n",
    "    color='#4daf4a',\n",
    "    **kwargs\n",
    ");\n",
    "\n",
    "FONT_SIZE=24\n",
    "\n",
    "# loop pelos gráficos da figura:\n",
    "for counter, ax in enumerate(fig.get_axes()):\n",
    "# desenha as linhas que acompanham os valores nos eixos\n",
    "    ax.grid()\n",
    "\n",
    "    # é importante colocar o nome das quantidade nos eixos\n",
    "    ax.set_xlabel('tempo, t [s]', fontsize=FONT_SIZE);\n",
    "    ax.set_ylabel(['posição, S [m]', 'velocidade, v [m/s]'][counter], fontsize=FONT_SIZE);\n",
    "    ax.set_title(['Posição do carro em função do tempo.',\n",
    "                  'Velocidade do carro em função do tempo.'][counter], fontsize=FONT_SIZE);\n",
    "    ax.tick_params(labelsize=FONT_SIZE)\n",
    "    ax.legend([['Posição, S[m]'], ['Velocidade, v [m/s]']][counter], fontsize=FONT_SIZE)"
   ]
  },
  {
   "cell_type": "markdown",
   "metadata": {},
   "source": [
    "<p class='justified'>\n",
    "<b>Figura 2.</b> Gráficos da Posição $S$ (m) e da velocidade $v$ (m/s) do carro versus tempo $t$ (s).\n",
    "</p>"
   ]
  },
  {
   "cell_type": "markdown",
   "metadata": {},
   "source": [
    "<p class='justified'>\n",
    "<b>b)</b> Agora vamos criar o mesmo gráfico usando a biblioteca <mark class='mono_gray'>pandas</mark>. \n",
    "</p>\n",
    "\n",
    "<p class='justified'>\n",
    "O primeiro passo é criar um <mark class='mono_gray'>DataFrame</mark> e então adicionar as colunas com os dados que temos.\n",
    "</p>"
   ]
  },
  {
   "cell_type": "code",
   "execution_count": 37,
   "metadata": {
    "ExecuteTime": {
     "end_time": "2020-06-29T21:10:48.780691Z",
     "start_time": "2020-06-29T21:10:48.773764Z"
    }
   },
   "outputs": [
    {
     "data": {
      "text/html": [
       "<style  type=\"text/css\" >\n",
       "</style><table id=\"T_0172d252_ba4d_11ea_9a77_fb8d482c5d75\" ><caption>Tabela 1. Dados do tempo e suas respectivas posições e velocidades obtidas por meio das Eq. (5) e (7).</caption><thead>    <tr>        <th class=\"blank level0\" ></th>        <th class=\"col_heading level0 col0\" >tempo, t [s]</th>        <th class=\"col_heading level0 col1\" >posição, S [m]</th>        <th class=\"col_heading level0 col2\" >velocidade, v [m/s]</th>    </tr></thead><tbody>\n",
       "                <tr>\n",
       "                        <th id=\"T_0172d252_ba4d_11ea_9a77_fb8d482c5d75level0_row0\" class=\"row_heading level0 row0\" >0</th>\n",
       "                        <td id=\"T_0172d252_ba4d_11ea_9a77_fb8d482c5d75row0_col0\" class=\"data row0 col0\" >0</td>\n",
       "                        <td id=\"T_0172d252_ba4d_11ea_9a77_fb8d482c5d75row0_col1\" class=\"data row0 col1\" >0</td>\n",
       "                        <td id=\"T_0172d252_ba4d_11ea_9a77_fb8d482c5d75row0_col2\" class=\"data row0 col2\" >5</td>\n",
       "            </tr>\n",
       "            <tr>\n",
       "                        <th id=\"T_0172d252_ba4d_11ea_9a77_fb8d482c5d75level0_row1\" class=\"row_heading level0 row1\" >1</th>\n",
       "                        <td id=\"T_0172d252_ba4d_11ea_9a77_fb8d482c5d75row1_col0\" class=\"data row1 col0\" >2</td>\n",
       "                        <td id=\"T_0172d252_ba4d_11ea_9a77_fb8d482c5d75row1_col1\" class=\"data row1 col1\" >16</td>\n",
       "                        <td id=\"T_0172d252_ba4d_11ea_9a77_fb8d482c5d75row1_col2\" class=\"data row1 col2\" >11</td>\n",
       "            </tr>\n",
       "            <tr>\n",
       "                        <th id=\"T_0172d252_ba4d_11ea_9a77_fb8d482c5d75level0_row2\" class=\"row_heading level0 row2\" >2</th>\n",
       "                        <td id=\"T_0172d252_ba4d_11ea_9a77_fb8d482c5d75row2_col0\" class=\"data row2 col0\" >4</td>\n",
       "                        <td id=\"T_0172d252_ba4d_11ea_9a77_fb8d482c5d75row2_col1\" class=\"data row2 col1\" >44</td>\n",
       "                        <td id=\"T_0172d252_ba4d_11ea_9a77_fb8d482c5d75row2_col2\" class=\"data row2 col2\" >17</td>\n",
       "            </tr>\n",
       "            <tr>\n",
       "                        <th id=\"T_0172d252_ba4d_11ea_9a77_fb8d482c5d75level0_row3\" class=\"row_heading level0 row3\" >3</th>\n",
       "                        <td id=\"T_0172d252_ba4d_11ea_9a77_fb8d482c5d75row3_col0\" class=\"data row3 col0\" >6</td>\n",
       "                        <td id=\"T_0172d252_ba4d_11ea_9a77_fb8d482c5d75row3_col1\" class=\"data row3 col1\" >84</td>\n",
       "                        <td id=\"T_0172d252_ba4d_11ea_9a77_fb8d482c5d75row3_col2\" class=\"data row3 col2\" >23</td>\n",
       "            </tr>\n",
       "            <tr>\n",
       "                        <th id=\"T_0172d252_ba4d_11ea_9a77_fb8d482c5d75level0_row4\" class=\"row_heading level0 row4\" >4</th>\n",
       "                        <td id=\"T_0172d252_ba4d_11ea_9a77_fb8d482c5d75row4_col0\" class=\"data row4 col0\" >8</td>\n",
       "                        <td id=\"T_0172d252_ba4d_11ea_9a77_fb8d482c5d75row4_col1\" class=\"data row4 col1\" >136</td>\n",
       "                        <td id=\"T_0172d252_ba4d_11ea_9a77_fb8d482c5d75row4_col2\" class=\"data row4 col2\" >29</td>\n",
       "            </tr>\n",
       "            <tr>\n",
       "                        <th id=\"T_0172d252_ba4d_11ea_9a77_fb8d482c5d75level0_row5\" class=\"row_heading level0 row5\" >5</th>\n",
       "                        <td id=\"T_0172d252_ba4d_11ea_9a77_fb8d482c5d75row5_col0\" class=\"data row5 col0\" >10</td>\n",
       "                        <td id=\"T_0172d252_ba4d_11ea_9a77_fb8d482c5d75row5_col1\" class=\"data row5 col1\" >200</td>\n",
       "                        <td id=\"T_0172d252_ba4d_11ea_9a77_fb8d482c5d75row5_col2\" class=\"data row5 col2\" >35</td>\n",
       "            </tr>\n",
       "    </tbody></table>"
      ],
      "text/plain": [
       "<pandas.io.formats.style.Styler at 0x7fd99928cdd0>"
      ]
     },
     "execution_count": 37,
     "metadata": {},
     "output_type": "execute_result"
    }
   ],
   "source": [
    "# criamos um DataFrame usando o pandas -> pd.DataFrame\n",
    "df_dados_exemplo = pd.DataFrame()\n",
    "df_dados_exemplo['tempo, t [s]']   = tempos_cronometrados # adicionamos uma coluna com os tempos\n",
    "df_dados_exemplo['posição, S [m]'] = posicoes # adicionamos outra coluna com as posições\n",
    "df_dados_exemplo['velocidade, v [m/s]'] = velocidades # adicionamos outra coluna com as velocidades\n",
    "\n",
    "df_dados_exemplo.style.set_caption('Tabela 1. Dados do tempo e suas respectivas posições e velocidades obtidas por meio das Eq. (5) e (7).')"
   ]
  },
  {
   "cell_type": "markdown",
   "metadata": {},
   "source": [
    "<p class='justified'>\n",
    "Observe que a mesma estrutura de dados pode ser criada usando um dicionário como argumento:\n",
    "</p>\n",
    "\n",
    "```python\n",
    "pd.DataFrame({\n",
    "    'tempo, t [s]'  : tempos_cronometrados,\n",
    "    'posição, S [m]': posicoes,\n",
    "    'velocidades, v [m/s]': velocidades\n",
    "})\n",
    "```"
   ]
  },
  {
   "cell_type": "code",
   "execution_count": 35,
   "metadata": {
    "ExecuteTime": {
     "end_time": "2020-06-29T20:40:29.153799Z",
     "start_time": "2020-06-29T20:40:28.615633Z"
    }
   },
   "outputs": [
    {
     "data": {
      "image/png": "[encoded data removed]",
      "text/plain": [
       "<Figure size 1584x576 with 2 Axes>"
      ]
     },
     "metadata": {
      "needs_background": "light"
     },
     "output_type": "display_data"
    }
   ],
   "source": [
    "# criamos o objeto ``Figure`` e o ``array`` com os gráficos\n",
    "fig, axarr = plt.subplots(nrows=1, ncols=2, figsize=(22,8))\n",
    "\n",
    "# dicionário com propriedades comuns nos gráficos que serão confeccionados\n",
    "kwargs = dict(markersize=15, markerfacecolor=\"#FFFFFF\", markeredgewidth=3, lw=3, xlim=(-0.5, 10.5), grid=True, fontsize=22)\n",
    "\n",
    "# agora confeccionamos o gráfico que nos diz\n",
    "# como a posição do carro evolui com o tempo\n",
    "plot_exemplo_posicao = df_dados_exemplo.plot(\n",
    "    x='tempo, t [s]',   # valores das variáveis independentes: eixo x\n",
    "    y='posição, S [m]', # valores das variáveis dependentes: eixo y\n",
    "    style='-o',         # desenha as linhas que ligam os marcadores 'o'\n",
    "    color='#377eb8',    # cor da linha e dos marcadores\n",
    "    ax=axarr[0],        # gráfico em que os dados devem ser plotados\n",
    "    **kwargs            # argumento em comum no dicionário\n",
    ");\n",
    "\n",
    "plot_exemplo_velocidade = df_dados_exemplo.plot(\n",
    "    x='tempo, t [s]',        # valores das variáveis independentes: eixo x\n",
    "    y='velocidade, v [m/s]', # valores das variáveis dependentes: eixo y\n",
    "    style='-D',              # desenha as linhas que ligam os marcadores 'o' \n",
    "    color='#4daf4a',         # cor da linha e dos marcadores\n",
    "    ax=axarr[1],             # gráfico em que os dados devem ser plotados\n",
    "    **kwargs                 # argumento em comum no dicionário\n",
    ");\n",
    "\n",
    "# tamanho da fonte dos labels\n",
    "FONT_SIZE=22\n",
    "\n",
    "\n",
    "# loop pelos gráficos da figura\n",
    "for counter, ax in enumerate(fig.get_axes()):\n",
    "    # label do eixo y\n",
    "    ax.set_ylabel(['posição, S [m]','velocidade, v [m/s]'][counter], fontsize=FONT_SIZE) \n",
    "    ax.set_xlabel('tempo, t [s]', fontsize=FONT_SIZE) # label do eixo x\n",
    "    ax.set_title(['Posição do carro em função do tempo.', \n",
    "                  'Velocidade do carro em função do tempo.'][counter], fontsize=FONT_SIZE) # título dos gráficos\n",
    "    # legenda dos gráficos\n",
    "    ax.legend([['posição, S [m]'], ['velocidade, v [m/s]']][counter], fontsize=FONT_SIZE) "
   ]
  },
  {
   "cell_type": "markdown",
   "metadata": {},
   "source": [
    "<p class='justified'>\n",
    "    <b>Figura 3.</b> Gráficos da Posição $S$ (m) e da velocidade $v$ (m/s) do carro versus tempo $t$ (s), confeccionados via biblioteca <mark class='mono_gray'>Pandas</mark>.\n",
    "</p>"
   ]
  },
  {
   "cell_type": "markdown",
   "metadata": {},
   "source": [
    "<p class='justified'>\n",
    "    Observe que usando os dados provenientes de um <mark class='mono_gray'>pd.DataFrame</mark> confeccionamos o gráfico de maneira mais fácil e os <mark class='mono_gray'>labels</mark> (rótulos) dos eixos já são colocados automaticamente respeitando os nomes das colunas fornecidas.\n",
    "</p>"
   ]
  },
  {
   "cell_type": "code",
   "execution_count": null,
   "metadata": {},
   "outputs": [],
   "source": []
  },
  {
   "cell_type": "code",
   "execution_count": null,
   "metadata": {},
   "outputs": [],
   "source": []
  },
  {
   "cell_type": "code",
   "execution_count": null,
   "metadata": {},
   "outputs": [],
   "source": []
  },
  {
   "cell_type": "code",
   "execution_count": null,
   "metadata": {},
   "outputs": [],
   "source": []
  },
  {
   "cell_type": "code",
   "execution_count": null,
   "metadata": {},
   "outputs": [],
   "source": []
  },
  {
   "cell_type": "code",
   "execution_count": null,
   "metadata": {},
   "outputs": [],
   "source": []
  },
  {
   "cell_type": "code",
   "execution_count": null,
   "metadata": {},
   "outputs": [],
   "source": []
  },
  {
   "cell_type": "code",
   "execution_count": null,
   "metadata": {},
   "outputs": [],
   "source": []
  },
  {
   "cell_type": "code",
   "execution_count": null,
   "metadata": {},
   "outputs": [],
   "source": []
  },
  {
   "cell_type": "code",
   "execution_count": null,
   "metadata": {},
   "outputs": [],
   "source": []
  },
  {
   "cell_type": "code",
   "execution_count": null,
   "metadata": {},
   "outputs": [],
   "source": []
  },
  {
   "cell_type": "code",
   "execution_count": null,
   "metadata": {},
   "outputs": [],
   "source": []
  },
  {
   "cell_type": "code",
   "execution_count": null,
   "metadata": {},
   "outputs": [],
   "source": []
  },
  {
   "cell_type": "code",
   "execution_count": null,
   "metadata": {},
   "outputs": [],
   "source": []
  },
  {
   "cell_type": "code",
   "execution_count": null,
   "metadata": {},
   "outputs": [],
   "source": []
  },
  {
   "cell_type": "code",
   "execution_count": null,
   "metadata": {},
   "outputs": [],
   "source": []
  },
  {
   "cell_type": "code",
   "execution_count": null,
   "metadata": {},
   "outputs": [],
   "source": []
  },
  {
   "cell_type": "code",
   "execution_count": null,
   "metadata": {},
   "outputs": [],
   "source": []
  },
  {
   "cell_type": "code",
   "execution_count": null,
   "metadata": {},
   "outputs": [],
   "source": []
  },
  {
   "cell_type": "code",
   "execution_count": null,
   "metadata": {},
   "outputs": [],
   "source": []
  },
  {
   "cell_type": "code",
   "execution_count": null,
   "metadata": {},
   "outputs": [],
   "source": []
  },
  {
   "cell_type": "code",
   "execution_count": null,
   "metadata": {},
   "outputs": [],
   "source": []
  },
  {
   "cell_type": "code",
   "execution_count": null,
   "metadata": {},
   "outputs": [],
   "source": []
  },
  {
   "cell_type": "code",
   "execution_count": null,
   "metadata": {},
   "outputs": [],
   "source": []
  },
  {
   "cell_type": "code",
   "execution_count": null,
   "metadata": {},
   "outputs": [],
   "source": []
  },
  {
   "cell_type": "code",
   "execution_count": null,
   "metadata": {},
   "outputs": [],
   "source": []
  },
  {
   "cell_type": "code",
   "execution_count": null,
   "metadata": {},
   "outputs": [],
   "source": []
  },
  {
   "cell_type": "code",
   "execution_count": null,
   "metadata": {},
   "outputs": [],
   "source": []
  },
  {
   "cell_type": "code",
   "execution_count": null,
   "metadata": {},
   "outputs": [],
   "source": []
  },
  {
   "cell_type": "code",
   "execution_count": null,
   "metadata": {},
   "outputs": [],
   "source": []
  },
  {
   "cell_type": "code",
   "execution_count": null,
   "metadata": {},
   "outputs": [],
   "source": []
  },
  {
   "cell_type": "code",
   "execution_count": null,
   "metadata": {},
   "outputs": [],
   "source": []
  },
  {
   "cell_type": "code",
   "execution_count": null,
   "metadata": {},
   "outputs": [],
   "source": []
  },
  {
   "cell_type": "code",
   "execution_count": null,
   "metadata": {},
   "outputs": [],
   "source": []
  },
  {
   "cell_type": "code",
   "execution_count": null,
   "metadata": {},
   "outputs": [],
   "source": []
  },
  {
   "cell_type": "code",
   "execution_count": null,
   "metadata": {},
   "outputs": [],
   "source": []
  },
  {
   "cell_type": "code",
   "execution_count": null,
   "metadata": {},
   "outputs": [],
   "source": []
  },
  {
   "cell_type": "code",
   "execution_count": null,
   "metadata": {},
   "outputs": [],
   "source": []
  },
  {
   "cell_type": "code",
   "execution_count": null,
   "metadata": {},
   "outputs": [],
   "source": []
  },
  {
   "cell_type": "code",
   "execution_count": null,
   "metadata": {},
   "outputs": [],
   "source": []
  },
  {
   "cell_type": "code",
   "execution_count": null,
   "metadata": {},
   "outputs": [],
   "source": []
  },
  {
   "cell_type": "code",
   "execution_count": null,
   "metadata": {},
   "outputs": [],
   "source": []
  },
  {
   "cell_type": "code",
   "execution_count": null,
   "metadata": {},
   "outputs": [],
   "source": []
  },
  {
   "cell_type": "code",
   "execution_count": null,
   "metadata": {},
   "outputs": [],
   "source": []
  },
  {
   "cell_type": "code",
   "execution_count": null,
   "metadata": {},
   "outputs": [],
   "source": []
  },
  {
   "cell_type": "code",
   "execution_count": null,
   "metadata": {},
   "outputs": [],
   "source": []
  },
  {
   "cell_type": "code",
   "execution_count": null,
   "metadata": {},
   "outputs": [],
   "source": []
  },
  {
   "cell_type": "code",
   "execution_count": null,
   "metadata": {},
   "outputs": [],
   "source": []
  },
  {
   "cell_type": "code",
   "execution_count": null,
   "metadata": {},
   "outputs": [],
   "source": []
  },
  {
   "cell_type": "code",
   "execution_count": null,
   "metadata": {},
   "outputs": [],
   "source": []
  },
  {
   "cell_type": "code",
   "execution_count": null,
   "metadata": {},
   "outputs": [],
   "source": []
  },
  {
   "cell_type": "code",
   "execution_count": null,
   "metadata": {},
   "outputs": [],
   "source": []
  },
  {
   "cell_type": "code",
   "execution_count": null,
   "metadata": {},
   "outputs": [],
   "source": []
  },
  {
   "cell_type": "code",
   "execution_count": null,
   "metadata": {},
   "outputs": [],
   "source": []
  },
  {
   "cell_type": "code",
   "execution_count": null,
   "metadata": {},
   "outputs": [],
   "source": []
  },
  {
   "cell_type": "code",
   "execution_count": null,
   "metadata": {},
   "outputs": [],
   "source": []
  },
  {
   "cell_type": "code",
   "execution_count": null,
   "metadata": {},
   "outputs": [],
   "source": []
  },
  {
   "cell_type": "code",
   "execution_count": null,
   "metadata": {},
   "outputs": [],
   "source": []
  },
  {
   "cell_type": "code",
   "execution_count": null,
   "metadata": {},
   "outputs": [],
   "source": []
  },
  {
   "cell_type": "code",
   "execution_count": null,
   "metadata": {},
   "outputs": [],
   "source": []
  },
  {
   "cell_type": "code",
   "execution_count": null,
   "metadata": {},
   "outputs": [],
   "source": []
  },
  {
   "cell_type": "code",
   "execution_count": null,
   "metadata": {},
   "outputs": [],
   "source": []
  },
  {
   "cell_type": "code",
   "execution_count": null,
   "metadata": {},
   "outputs": [],
   "source": []
  },
  {
   "cell_type": "code",
   "execution_count": null,
   "metadata": {},
   "outputs": [],
   "source": []
  },
  {
   "cell_type": "code",
   "execution_count": null,
   "metadata": {},
   "outputs": [],
   "source": []
  },
  {
   "cell_type": "code",
   "execution_count": null,
   "metadata": {},
   "outputs": [],
   "source": []
  },
  {
   "cell_type": "code",
   "execution_count": null,
   "metadata": {},
   "outputs": [],
   "source": []
  },
  {
   "cell_type": "code",
   "execution_count": null,
   "metadata": {},
   "outputs": [],
   "source": []
  },
  {
   "cell_type": "code",
   "execution_count": null,
   "metadata": {},
   "outputs": [],
   "source": []
  },
  {
   "cell_type": "code",
   "execution_count": null,
   "metadata": {},
   "outputs": [],
   "source": []
  },
  {
   "cell_type": "code",
   "execution_count": null,
   "metadata": {},
   "outputs": [],
   "source": []
  },
  {
   "cell_type": "code",
   "execution_count": null,
   "metadata": {},
   "outputs": [],
   "source": []
  },
  {
   "cell_type": "code",
   "execution_count": null,
   "metadata": {},
   "outputs": [],
   "source": []
  },
  {
   "cell_type": "code",
   "execution_count": null,
   "metadata": {},
   "outputs": [],
   "source": []
  },
  {
   "cell_type": "code",
   "execution_count": null,
   "metadata": {},
   "outputs": [],
   "source": []
  },
  {
   "cell_type": "code",
   "execution_count": null,
   "metadata": {},
   "outputs": [],
   "source": []
  },
  {
   "cell_type": "code",
   "execution_count": null,
   "metadata": {},
   "outputs": [],
   "source": []
  },
  {
   "cell_type": "code",
   "execution_count": null,
   "metadata": {},
   "outputs": [],
   "source": []
  },
  {
   "cell_type": "code",
   "execution_count": null,
   "metadata": {},
   "outputs": [],
   "source": []
  },
  {
   "cell_type": "code",
   "execution_count": null,
   "metadata": {},
   "outputs": [],
   "source": []
  },
  {
   "cell_type": "code",
   "execution_count": null,
   "metadata": {},
   "outputs": [],
   "source": []
  },
  {
   "cell_type": "code",
   "execution_count": null,
   "metadata": {},
   "outputs": [],
   "source": []
  },
  {
   "cell_type": "code",
   "execution_count": null,
   "metadata": {},
   "outputs": [],
   "source": []
  },
  {
   "cell_type": "code",
   "execution_count": null,
   "metadata": {},
   "outputs": [],
   "source": []
  },
  {
   "cell_type": "code",
   "execution_count": null,
   "metadata": {},
   "outputs": [],
   "source": []
  },
  {
   "cell_type": "code",
   "execution_count": null,
   "metadata": {},
   "outputs": [],
   "source": []
  },
  {
   "cell_type": "code",
   "execution_count": null,
   "metadata": {},
   "outputs": [],
   "source": []
  },
  {
   "cell_type": "code",
   "execution_count": null,
   "metadata": {},
   "outputs": [],
   "source": []
  },
  {
   "cell_type": "code",
   "execution_count": null,
   "metadata": {},
   "outputs": [],
   "source": []
  },
  {
   "cell_type": "code",
   "execution_count": null,
   "metadata": {},
   "outputs": [],
   "source": []
  },
  {
   "cell_type": "code",
   "execution_count": null,
   "metadata": {},
   "outputs": [],
   "source": []
  },
  {
   "cell_type": "code",
   "execution_count": null,
   "metadata": {},
   "outputs": [],
   "source": []
  },
  {
   "cell_type": "code",
   "execution_count": null,
   "metadata": {},
   "outputs": [],
   "source": []
  },
  {
   "cell_type": "code",
   "execution_count": null,
   "metadata": {},
   "outputs": [],
   "source": []
  },
  {
   "cell_type": "code",
   "execution_count": null,
   "metadata": {},
   "outputs": [],
   "source": []
  },
  {
   "cell_type": "code",
   "execution_count": null,
   "metadata": {},
   "outputs": [],
   "source": []
  },
  {
   "cell_type": "code",
   "execution_count": null,
   "metadata": {},
   "outputs": [],
   "source": []
  },
  {
   "cell_type": "code",
   "execution_count": null,
   "metadata": {},
   "outputs": [],
   "source": []
  },
  {
   "cell_type": "code",
   "execution_count": null,
   "metadata": {},
   "outputs": [],
   "source": []
  },
  {
   "cell_type": "code",
   "execution_count": null,
   "metadata": {},
   "outputs": [],
   "source": []
  },
  {
   "cell_type": "code",
   "execution_count": null,
   "metadata": {},
   "outputs": [],
   "source": []
  },
  {
   "cell_type": "code",
   "execution_count": null,
   "metadata": {},
   "outputs": [],
   "source": []
  },
  {
   "cell_type": "code",
   "execution_count": null,
   "metadata": {},
   "outputs": [],
   "source": []
  },
  {
   "cell_type": "code",
   "execution_count": null,
   "metadata": {},
   "outputs": [],
   "source": []
  },
  {
   "cell_type": "code",
   "execution_count": null,
   "metadata": {},
   "outputs": [],
   "source": []
  },
  {
   "cell_type": "code",
   "execution_count": null,
   "metadata": {},
   "outputs": [],
   "source": []
  },
  {
   "cell_type": "code",
   "execution_count": null,
   "metadata": {},
   "outputs": [],
   "source": []
  },
  {
   "cell_type": "code",
   "execution_count": null,
   "metadata": {},
   "outputs": [],
   "source": []
  },
  {
   "cell_type": "code",
   "execution_count": null,
   "metadata": {},
   "outputs": [],
   "source": []
  },
  {
   "cell_type": "code",
   "execution_count": null,
   "metadata": {},
   "outputs": [],
   "source": []
  },
  {
   "cell_type": "code",
   "execution_count": null,
   "metadata": {},
   "outputs": [],
   "source": []
  },
  {
   "cell_type": "code",
   "execution_count": null,
   "metadata": {},
   "outputs": [],
   "source": []
  },
  {
   "cell_type": "code",
   "execution_count": null,
   "metadata": {},
   "outputs": [],
   "source": []
  },
  {
   "cell_type": "code",
   "execution_count": null,
   "metadata": {},
   "outputs": [],
   "source": []
  },
  {
   "cell_type": "code",
   "execution_count": null,
   "metadata": {},
   "outputs": [],
   "source": []
  },
  {
   "cell_type": "code",
   "execution_count": null,
   "metadata": {},
   "outputs": [],
   "source": []
  },
  {
   "cell_type": "code",
   "execution_count": null,
   "metadata": {},
   "outputs": [],
   "source": []
  },
  {
   "cell_type": "code",
   "execution_count": null,
   "metadata": {},
   "outputs": [],
   "source": []
  },
  {
   "cell_type": "code",
   "execution_count": null,
   "metadata": {},
   "outputs": [],
   "source": []
  },
  {
   "cell_type": "code",
   "execution_count": null,
   "metadata": {},
   "outputs": [],
   "source": []
  },
  {
   "cell_type": "code",
   "execution_count": null,
   "metadata": {},
   "outputs": [],
   "source": []
  },
  {
   "cell_type": "code",
   "execution_count": null,
   "metadata": {},
   "outputs": [],
   "source": []
  },
  {
   "cell_type": "code",
   "execution_count": null,
   "metadata": {},
   "outputs": [],
   "source": []
  },
  {
   "cell_type": "code",
   "execution_count": null,
   "metadata": {},
   "outputs": [],
   "source": []
  },
  {
   "cell_type": "code",
   "execution_count": null,
   "metadata": {},
   "outputs": [],
   "source": []
  },
  {
   "cell_type": "code",
   "execution_count": null,
   "metadata": {},
   "outputs": [],
   "source": []
  },
  {
   "cell_type": "code",
   "execution_count": null,
   "metadata": {},
   "outputs": [],
   "source": []
  },
  {
   "cell_type": "code",
   "execution_count": null,
   "metadata": {},
   "outputs": [],
   "source": []
  },
  {
   "cell_type": "code",
   "execution_count": null,
   "metadata": {},
   "outputs": [],
   "source": []
  },
  {
   "cell_type": "code",
   "execution_count": null,
   "metadata": {},
   "outputs": [],
   "source": []
  },
  {
   "cell_type": "code",
   "execution_count": null,
   "metadata": {},
   "outputs": [],
   "source": []
  },
  {
   "cell_type": "code",
   "execution_count": null,
   "metadata": {},
   "outputs": [],
   "source": []
  },
  {
   "cell_type": "code",
   "execution_count": null,
   "metadata": {},
   "outputs": [],
   "source": []
  },
  {
   "cell_type": "code",
   "execution_count": null,
   "metadata": {},
   "outputs": [],
   "source": []
  },
  {
   "cell_type": "code",
   "execution_count": null,
   "metadata": {},
   "outputs": [],
   "source": []
  },
  {
   "cell_type": "code",
   "execution_count": null,
   "metadata": {},
   "outputs": [],
   "source": []
  },
  {
   "cell_type": "code",
   "execution_count": null,
   "metadata": {},
   "outputs": [],
   "source": []
  },
  {
   "cell_type": "code",
   "execution_count": null,
   "metadata": {},
   "outputs": [],
   "source": []
  },
  {
   "cell_type": "code",
   "execution_count": null,
   "metadata": {},
   "outputs": [],
   "source": []
  },
  {
   "cell_type": "code",
   "execution_count": null,
   "metadata": {},
   "outputs": [],
   "source": []
  },
  {
   "cell_type": "code",
   "execution_count": null,
   "metadata": {},
   "outputs": [],
   "source": []
  },
  {
   "cell_type": "code",
   "execution_count": null,
   "metadata": {},
   "outputs": [],
   "source": []
  },
  {
   "cell_type": "code",
   "execution_count": null,
   "metadata": {},
   "outputs": [],
   "source": []
  },
  {
   "cell_type": "code",
   "execution_count": null,
   "metadata": {},
   "outputs": [],
   "source": []
  },
  {
   "cell_type": "code",
   "execution_count": null,
   "metadata": {},
   "outputs": [],
   "source": []
  },
  {
   "cell_type": "code",
   "execution_count": null,
   "metadata": {},
   "outputs": [],
   "source": []
  },
  {
   "cell_type": "code",
   "execution_count": null,
   "metadata": {},
   "outputs": [],
   "source": []
  },
  {
   "cell_type": "code",
   "execution_count": null,
   "metadata": {},
   "outputs": [],
   "source": []
  },
  {
   "cell_type": "code",
   "execution_count": null,
   "metadata": {},
   "outputs": [],
   "source": []
  }
 ],
 "metadata": {
  "kernelspec": {
   "display_name": "Python 3",
   "language": "python",
   "name": "python3"
  },
  "language_info": {
   "codemirror_mode": {
    "name": "ipython",
    "version": 3
   },
   "file_extension": ".py",
   "mimetype": "text/x-python",
   "name": "python",
   "nbconvert_exporter": "python",
   "pygments_lexer": "ipython3",
   "version": "3.7.4"
  },
  "latex_envs": {
   "LaTeX_envs_menu_present": true,
   "autoclose": false,
   "autocomplete": true,
   "bibliofile": "biblio.bib",
   "cite_by": "apalike",
   "current_citInitial": 1,
   "eqLabelWithNumbers": true,
   "eqNumInitial": 1,
   "hotkeys": {
    "equation": "Ctrl-E",
    "itemize": "Ctrl-I"
   },
   "labels_anchors": false,
   "latex_user_defs": false,
   "report_style_numbering": false,
   "user_envs_cfg": false
  },
  "toc": {
   "base_numbering": 1,
   "nav_menu": {},
   "number_sections": true,
   "sideBar": true,
   "skip_h1_title": false,
   "title_cell": "Table of Contents",
   "title_sidebar": "Contents",
   "toc_cell": false,
   "toc_position": {},
   "toc_section_display": true,
   "toc_window_display": false
  },
  "varInspector": {
   "cols": {
    "lenName": 16,
    "lenType": 16,
    "lenVar": 40
   },
   "kernels_config": {
    "python": {
     "delete_cmd_postfix": "",
     "delete_cmd_prefix": "del ",
     "library": "var_list.py",
     "varRefreshCmd": "print(var_dic_list())"
    },
    "r": {
     "delete_cmd_postfix": ") ",
     "delete_cmd_prefix": "rm(",
     "library": "var_list.r",
     "varRefreshCmd": "cat(var_dic_list()) "
    }
   },
   "types_to_exclude": [
    "module",
    "function",
    "builtin_function_or_method",
    "instance",
    "_Feature"
   ],
   "window_display": false
  }
 },
 "nbformat": 4,
 "nbformat_minor": 4
}
